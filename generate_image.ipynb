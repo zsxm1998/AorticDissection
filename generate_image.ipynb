{
 "cells": [
  {
   "cell_type": "code",
   "execution_count": 1,
   "id": "be6e1342",
   "metadata": {},
   "outputs": [],
   "source": [
    "from math import sqrt\n",
    "import copy\n",
    "import  traceback\n",
    "import shutil\n",
    "\n",
    "import numpy as np  # linear algebra\n",
    "import pydicom\n",
    "import os\n",
    "import matplotlib.pyplot as plt\n",
    "import cv2\n",
    "from pydicom.uid import UID\n",
    "from PIL import Image"
   ]
  },
  {
   "cell_type": "code",
   "execution_count": 2,
   "id": "56a7f6bf",
   "metadata": {},
   "outputs": [],
   "source": [
    "def load_scan(path):\n",
    "    slices = [pydicom.dcmread(path + '/' + s) for s in filter(lambda x: x.endswith('.dcm'), os.listdir(path))]\n",
    "    slices.sort(key=lambda x: float(x.InstanceNumber))\n",
    "    return slices"
   ]
  },
  {
   "cell_type": "markdown",
   "id": "92ccf3f8",
   "metadata": {},
   "source": [
    "## 阳性数据"
   ]
  },
  {
   "cell_type": "code",
   "execution_count": 97,
   "id": "aaf5ad23",
   "metadata": {},
   "outputs": [
    {
     "name": "stdout",
     "output_type": "stream",
     "text": [
      "****Processing baozuoshi-J-16-79****\n",
      "****Processing changzhenxuan-J-15-55****\n",
      "****Processing chenaijiao-J-26-41****\n",
      "****Processing chencaiying-J-19-79****\n",
      "****Processing chenfuliang-S-21-31-J-21-84****\n",
      "****Processing chenganyao-J-19-40****\n",
      "****Processing chenhui-S-17-25-J-17-87****\n",
      "****Processing chenjufa-J-16-66****\n",
      "****Processing digenlan-J-23-50****\n",
      "****Processing fangchunfeng-J-16-48****\n",
      "****Processing fangzhuxiang-J-18-61****\n",
      "****Processing fudehe-S-20-33-J-20-70****\n",
      "****Processing ganxiaobin-J-23-51****\n",
      "****Processing huangwanman-S-15-30****\n",
      "****Processing kongxiaoqing-S-19-32-J-27-94****\n",
      "****Processing liangjianjun-S-17-23****\n",
      "****Processing linfaqiu-S-18-29****\n",
      "****Processing linjiaxiang-J-21-72****\n",
      "****Processing linrichun-J-16-72****\n",
      "****Processing lirucou-J-19-59****\n",
      "****Processing liubihai-S-23-26-J-23-93****\n",
      "****Processing liuhongfu-J-57-200****\n",
      "****Processing liuzhangliu-J-22-28****\n",
      "****Processing nixueya-J-19-75****\n",
      "****Processing pancunxiao-S-16-30-J-16-70****\n",
      "****Processing shanghongjun-J-22-84****\n",
      "****Processing shenjian-J-15-81****\n",
      "****Processing siyoulin-S-16-26****\n",
      "****Processing sunhongliang-S-23-34****\n",
      "****Processing wangjicheng-J-14-22****\n",
      "****Processing wangxiaofu-S-19-29-J-19-65****\n",
      "****Processing xiafangzhou-S-18-25-J-18-80****\n",
      "****Processing xiangweiwen-J-25-52****\n",
      "****Processing xucaixiang-J-17-36****\n",
      "****Processing xuhangying-J-25-63****\n",
      "****Processing xuheping-S-19-35-J-19-70****\n",
      "****Processing xujiahua-S-20-33-J-20-71****\n",
      "****Processing xupinglun-S-18-28-J-18-32****\n",
      "****Processing yejiangen-J-15-34****\n",
      "****Processing yuguiying-S-16-22-J-16-77****\n",
      "****Processing yujunying-J-15-82****\n",
      "****Processing zhangjiahua-J-19-78****\n",
      "****Processing zhangjianliang-J-16-77****\n",
      "****Processing zhangping-J-25-88****\n",
      "****Processing zhengchong-S-16-31-J-16-87****\n",
      "****Processing zhongchuankun-J-17-69****\n",
      "****Processing zhoujianglong-S-17-31****\n",
      "****Processing zhuxinjian-J-20-23****\n"
     ]
    }
   ],
   "source": [
    "def generate_image(input_folder):\n",
    "    for patient in os.listdir(input_folder):\n",
    "        if os.path.isfile(os.path.join(input_folder, patient)):\n",
    "            continue\n",
    "        print(f'****Processing {patient}****')\n",
    "        for scan in os.listdir(os.path.join(input_folder, patient)):\n",
    "            if scan != '1':\n",
    "                continue\n",
    "            name = patient #name = patient.split('-')[0]\n",
    "            image_path = os.path.join(input_folder, patient, scan, 'images')\n",
    "            if os.path.exists(image_path):\n",
    "                shutil.rmtree(image_path)\n",
    "            os.mkdir(image_path)\n",
    "\n",
    "            ct = load_scan(os.path.join(input_folder, patient, scan))\n",
    "\n",
    "            for i in range(len(ct)):\n",
    "                img = ct[i].pixel_array.astype(np.int16)\n",
    "                intercept = ct[i].RescaleIntercept\n",
    "                slope = ct[i].RescaleSlope\n",
    "                if slope != 1:\n",
    "                    img = (slope * img.astype(np.float64)).astype(np.int16)\n",
    "                img += np.int16(intercept)\n",
    "                img = np.clip(img, -100, 500)\n",
    "                img = ((img+100)/600*255).astype(np.uint8)\n",
    "                img = Image.fromarray(img)\n",
    "                img.save(os.path.join(image_path, f'{name}_{i:04d}.png'))\n",
    "\n",
    "input_folder = '/nfs3-p1/zsxm/dataset/2021-9-19/'\n",
    "generate_image(input_folder)"
   ]
  },
  {
   "cell_type": "code",
   "execution_count": 98,
   "id": "fdc7d988",
   "metadata": {},
   "outputs": [
    {
     "name": "stdout",
     "output_type": "stream",
     "text": [
      "****Processing baozuoshi-J-16-79****\n",
      "****Processing changzhenxuan-J-15-55****\n",
      "****Processing chenaijiao-J-26-41****\n",
      "****Processing chencaiying-J-19-79****\n",
      "****Processing chenfuliang-S-21-31-J-21-84****\n",
      "****Processing chenganyao-J-19-40****\n",
      "****Processing chenhui-S-17-25-J-17-87****\n",
      "****Processing chenjufa-J-16-66****\n",
      "****Processing digenlan-J-23-50****\n",
      "****Processing fangchunfeng-J-16-48****\n",
      "****Processing fangzhuxiang-J-18-61****\n",
      "****Processing fudehe-S-20-33-J-20-70****\n",
      "****Processing ganxiaobin-J-23-51****\n",
      "****Processing huangwanman-S-15-30****\n",
      "****Processing kongxiaoqing-S-19-32-J-27-94****\n",
      "****Processing liangjianjun-S-17-23****\n",
      "****Processing linfaqiu-S-18-29****\n",
      "****Processing linjiaxiang-J-21-72****\n",
      "****Processing linrichun-J-16-72****\n",
      "****Processing lirucou-J-19-59****\n",
      "****Processing liubihai-S-23-26-J-23-93****\n",
      "****Processing liuhongfu-J-57-200****\n",
      "****Processing liuzhangliu-J-22-28****\n",
      "****Processing nixueya-J-19-75****\n",
      "****Processing pancunxiao-S-16-30-J-16-70****\n",
      "****Processing shanghongjun-J-22-84****\n",
      "****Processing shenjian-J-15-81****\n",
      "****Processing siyoulin-S-16-26****\n",
      "****Processing sunhongliang-S-23-34****\n",
      "****Processing wangjicheng-J-14-22****\n",
      "****Processing wangxiaofu-S-19-29-J-19-65****\n",
      "****Processing xiafangzhou-S-18-25-J-18-80****\n",
      "****Processing xiangweiwen-J-25-52****\n",
      "****Processing xucaixiang-J-17-36****\n",
      "****Processing xuhangying-J-25-63****\n",
      "****Processing xuheping-S-19-35-J-19-70****\n",
      "****Processing xujiahua-S-20-33-J-20-71****\n",
      "****Processing xupinglun-S-18-28-J-18-32****\n",
      "****Processing yejiangen-J-15-34****\n",
      "****Processing yuguiying-S-16-22-J-16-77****\n",
      "****Processing yujunying-J-15-82****\n",
      "****Processing zhangjiahua-J-19-78****\n",
      "****Processing zhangjianliang-J-16-77****\n",
      "****Processing zhangping-J-25-88****\n",
      "****Processing zhengchong-S-16-31-J-16-87****\n",
      "****Processing zhongchuankun-J-17-69****\n",
      "****Processing zhoujianglong-S-17-31****\n",
      "****Processing zhuxinjian-J-20-23****\n"
     ]
    }
   ],
   "source": [
    "def move_together(input_folder, dst_path):\n",
    "    if not os.path.exists(dst_path):\n",
    "        os.mkdir(dst_path)\n",
    "\n",
    "    for patient in os.listdir(input_folder):\n",
    "        if os.path.isfile(os.path.join(input_folder, patient)):\n",
    "            continue\n",
    "        print(f'****Processing {patient}****')\n",
    "        name = patient #name = patient.split('-')[0]\n",
    "        if os.path.exists(os.path.join(dst_path, name)):\n",
    "            print(f\"\\tremove {os.path.join(dst_path, name)}\")\n",
    "            shutil.rmtree(os.path.join(dst_path, name))\n",
    "\n",
    "        try:\n",
    "            shutil.copytree(os.path.join(input_folder, patient, '1', 'images'), os.path.join(dst_path, name))\n",
    "        except:\n",
    "            traceback.print_exc()\n",
    "        \n",
    "input_folder = '/nfs3-p1/zsxm/dataset/2021-9-19/'\n",
    "dst_path = '/nfs3-p1/zsxm/dataset/aorta_ct_img_label/new'\n",
    "move_together(input_folder, dst_path)"
   ]
  },
  {
   "cell_type": "code",
   "execution_count": null,
   "id": "07a41e2b",
   "metadata": {},
   "outputs": [],
   "source": []
  },
  {
   "cell_type": "code",
   "execution_count": 99,
   "id": "22933554",
   "metadata": {},
   "outputs": [],
   "source": [
    "input_path = '/nfs3-p1/zsxm/dataset/aorta_ct_img_label/new'\n",
    "\n",
    "for patient in os.listdir(input_path):\n",
    "    image_path = os.path.join(input_path, patient, 'images')\n",
    "    if os.path.exists(image_path):\n",
    "        shutil.rmtree(image_path)\n",
    "    os.mkdir(image_path)\n",
    "    for img in os.listdir(os.path.join(input_path, patient)):\n",
    "        if os.path.isfile(os.path.join(input_path, patient, img)):\n",
    "            shutil.move(os.path.join(input_path, patient, img), os.path.join(image_path, img))"
   ]
  },
  {
   "cell_type": "code",
   "execution_count": 100,
   "id": "1f5b969c",
   "metadata": {},
   "outputs": [
    {
     "name": "stdout",
     "output_type": "stream",
     "text": [
      "Processing baozuoshi-J-16-79\n",
      "Processing changzhenxuan-J-15-55\n",
      "Processing chenaijiao-J-26-41\n",
      "Processing chencaiying-J-19-79\n",
      "Processing chenfuliang-S-21-31-J-21-84\n",
      "Processing chenganyao-J-19-40\n",
      "Processing chenhui-S-17-25-J-17-87\n",
      "Processing chenjufa-J-16-66\n",
      "Processing digenlan-J-23-50\n",
      "Processing fangchunfeng-J-16-48\n",
      "Processing fangzhuxiang-J-18-61\n",
      "Processing fudehe-S-20-33-J-20-70\n",
      "Processing ganxiaobin-J-23-51\n",
      "Processing huangwanman-S-15-30\n",
      "Processing kongxiaoqing-S-19-32-J-27-94\n",
      "Processing liangjianjun-S-17-23\n",
      "Processing linfaqiu-S-18-29\n",
      "Processing linjiaxiang-J-21-72\n",
      "Processing linrichun-J-16-72\n",
      "Processing lirucou-J-19-59\n",
      "Processing liubihai-S-23-26-J-23-93\n",
      "Processing liuhongfu-J-57-200\n",
      "Processing liuzhangliu-J-22-28\n",
      "Processing nixueya-J-19-75\n",
      "Processing pancunxiao-S-16-30-J-16-70\n",
      "Processing shanghongjun-J-22-84\n",
      "Processing shenjian-J-15-81\n",
      "Processing siyoulin-S-16-26\n",
      "Processing sunhongliang-S-23-34\n",
      "Processing wangjicheng-J-14-22\n",
      "Processing wangxiaofu-S-19-29-J-19-65\n",
      "Processing xiafangzhou-S-18-25-J-18-80\n",
      "Processing xiangweiwen-J-25-52\n",
      "Processing xucaixiang-J-17-36\n",
      "Processing xuhangying-J-25-63\n",
      "Processing xuheping-S-19-35-J-19-70\n",
      "Processing xujiahua-S-20-33-J-20-71\n",
      "Processing xupinglun-S-18-28-J-18-32\n",
      "Processing yejiangen-J-15-34\n",
      "Processing yuguiying-S-16-22-J-16-77\n",
      "Processing yujunying-J-15-82\n",
      "Processing zhangjiahua-J-19-78\n",
      "Processing zhangjianliang-J-16-77\n",
      "Processing zhangping-J-25-88\n",
      "Processing zhengchong-S-16-31-J-16-87\n",
      "Processing zhongchuankun-J-17-69\n",
      "Processing zhoujianglong-S-17-31\n",
      "Processing zhuxinjian-J-20-23\n"
     ]
    }
   ],
   "source": [
    "input_path = '/nfs3-p1/zsxm/dataset/aorta_ct_img_label/pred_test'\n",
    "output_path = '/nfs3-p1/zsxm/dataset/aorta_ct_img_label/new'\n",
    "\n",
    "for patient in os.listdir(input_path):\n",
    "    print(f'Processing {patient}')\n",
    "    image_path = os.path.join(output_path, patient, 'pred_images')\n",
    "    if os.path.exists(image_path):\n",
    "        shutil.rmtree(image_path)\n",
    "    os.mkdir(image_path)\n",
    "    for file in os.listdir(os.path.join(input_path, patient)):\n",
    "        if os.path.isfile(os.path.join(input_path, patient, file)):\n",
    "            shutil.move(os.path.join(input_path, patient, file), os.path.join(image_path, file))\n",
    "        elif os.path.isdir(os.path.join(input_path, patient, file)):\n",
    "            shutil.move(os.path.join(input_path, patient, file), os.path.join(output_path, patient, file))"
   ]
  },
  {
   "cell_type": "code",
   "execution_count": 101,
   "id": "9a10cf95",
   "metadata": {},
   "outputs": [
    {
     "name": "stdout",
     "output_type": "stream",
     "text": [
      "******Processing baozuoshi-J-16-79******\n",
      "******Processing changzhenxuan-J-15-55******\n",
      "******Processing chenaijiao-J-26-41******\n",
      "******Processing chencaiying-J-19-79******\n",
      "******Processing chenfuliang-S-21-31-J-21-84******\n"
     ]
    },
    {
     "name": "stderr",
     "output_type": "stream",
     "text": [
      "Traceback (most recent call last):\n",
      "  File \"<ipython-input-101-5f34f1b3dad3>\", line 47, in <module>\n",
      "    x1, y1, x2, y2 = find_coordinate(*img.shape[0:2], os.path.join(label_path, f'{patient}_{j:04d}.txt'), s)\n",
      "  File \"<ipython-input-101-5f34f1b3dad3>\", line 15, in find_coordinate\n",
      "    assert 0.25 < corr1[1] < 0.75 and 0.25 < corr1[2] < 0.75, f'边界框1中心({corr1[1]}, {corr1[2]})出界：{label_file.split(\"/\")[-1]}'\n",
      "AssertionError: 边界框1中心(0.791016, 0.591797)出界：chenfuliang-S-21-31-J-21-84_0058.txt\n",
      "Traceback (most recent call last):\n",
      "  File \"<ipython-input-101-5f34f1b3dad3>\", line 47, in <module>\n",
      "    x1, y1, x2, y2 = find_coordinate(*img.shape[0:2], os.path.join(label_path, f'{patient}_{j:04d}.txt'), s)\n",
      "  File \"<ipython-input-101-5f34f1b3dad3>\", line 15, in find_coordinate\n",
      "    assert 0.25 < corr1[1] < 0.75 and 0.25 < corr1[2] < 0.75, f'边界框1中心({corr1[1]}, {corr1[2]})出界：{label_file.split(\"/\")[-1]}'\n",
      "AssertionError: 边界框1中心(0.790039, 0.591797)出界：chenfuliang-S-21-31-J-21-84_0059.txt\n"
     ]
    },
    {
     "name": "stdout",
     "output_type": "stream",
     "text": [
      "******Processing chenganyao-J-19-40******\n",
      "******Processing chenhui-S-17-25-J-17-87******\n",
      "******Processing chenjufa-J-16-66******\n",
      "******Processing digenlan-J-23-50******\n"
     ]
    },
    {
     "name": "stderr",
     "output_type": "stream",
     "text": [
      "Traceback (most recent call last):\n",
      "  File \"<ipython-input-101-5f34f1b3dad3>\", line 47, in <module>\n",
      "    x1, y1, x2, y2 = find_coordinate(*img.shape[0:2], os.path.join(label_path, f'{patient}_{j:04d}.txt'), s)\n",
      "  File \"<ipython-input-101-5f34f1b3dad3>\", line 5, in find_coordinate\n",
      "    with open(label_file, 'r') as f:\n",
      "FileNotFoundError: [Errno 2] No such file or directory: '/nfs3-p1/zsxm/dataset/aorta_ct_img_label/new/digenlan-J-23-50/labels/digenlan-J-23-50_0022.txt'\n",
      "Traceback (most recent call last):\n",
      "  File \"<ipython-input-101-5f34f1b3dad3>\", line 47, in <module>\n",
      "    x1, y1, x2, y2 = find_coordinate(*img.shape[0:2], os.path.join(label_path, f'{patient}_{j:04d}.txt'), s)\n",
      "  File \"<ipython-input-101-5f34f1b3dad3>\", line 5, in find_coordinate\n",
      "    with open(label_file, 'r') as f:\n",
      "FileNotFoundError: [Errno 2] No such file or directory: '/nfs3-p1/zsxm/dataset/aorta_ct_img_label/new/digenlan-J-23-50/labels/digenlan-J-23-50_0025.txt'\n",
      "Traceback (most recent call last):\n",
      "  File \"<ipython-input-101-5f34f1b3dad3>\", line 47, in <module>\n",
      "    x1, y1, x2, y2 = find_coordinate(*img.shape[0:2], os.path.join(label_path, f'{patient}_{j:04d}.txt'), s)\n",
      "  File \"<ipython-input-101-5f34f1b3dad3>\", line 5, in find_coordinate\n",
      "    with open(label_file, 'r') as f:\n",
      "FileNotFoundError: [Errno 2] No such file or directory: '/nfs3-p1/zsxm/dataset/aorta_ct_img_label/new/digenlan-J-23-50/labels/digenlan-J-23-50_0026.txt'\n",
      "Traceback (most recent call last):\n",
      "  File \"<ipython-input-101-5f34f1b3dad3>\", line 47, in <module>\n",
      "    x1, y1, x2, y2 = find_coordinate(*img.shape[0:2], os.path.join(label_path, f'{patient}_{j:04d}.txt'), s)\n",
      "  File \"<ipython-input-101-5f34f1b3dad3>\", line 5, in find_coordinate\n",
      "    with open(label_file, 'r') as f:\n",
      "FileNotFoundError: [Errno 2] No such file or directory: '/nfs3-p1/zsxm/dataset/aorta_ct_img_label/new/digenlan-J-23-50/labels/digenlan-J-23-50_0032.txt'\n"
     ]
    },
    {
     "name": "stdout",
     "output_type": "stream",
     "text": [
      "******Processing fangchunfeng-J-16-48******\n",
      "******Processing fangzhuxiang-J-18-61******\n",
      "******Processing fudehe-S-20-33-J-20-70******\n",
      "******Processing ganxiaobin-J-23-51******\n"
     ]
    },
    {
     "name": "stderr",
     "output_type": "stream",
     "text": [
      "Traceback (most recent call last):\n",
      "  File \"<ipython-input-101-5f34f1b3dad3>\", line 47, in <module>\n",
      "    x1, y1, x2, y2 = find_coordinate(*img.shape[0:2], os.path.join(label_path, f'{patient}_{j:04d}.txt'), s)\n",
      "  File \"<ipython-input-101-5f34f1b3dad3>\", line 5, in find_coordinate\n",
      "    with open(label_file, 'r') as f:\n",
      "FileNotFoundError: [Errno 2] No such file or directory: '/nfs3-p1/zsxm/dataset/aorta_ct_img_label/new/ganxiaobin-J-23-51/labels/ganxiaobin-J-23-51_0043.txt'\n",
      "Traceback (most recent call last):\n",
      "  File \"<ipython-input-101-5f34f1b3dad3>\", line 47, in <module>\n",
      "    x1, y1, x2, y2 = find_coordinate(*img.shape[0:2], os.path.join(label_path, f'{patient}_{j:04d}.txt'), s)\n",
      "  File \"<ipython-input-101-5f34f1b3dad3>\", line 5, in find_coordinate\n",
      "    with open(label_file, 'r') as f:\n",
      "FileNotFoundError: [Errno 2] No such file or directory: '/nfs3-p1/zsxm/dataset/aorta_ct_img_label/new/ganxiaobin-J-23-51/labels/ganxiaobin-J-23-51_0044.txt'\n",
      "Traceback (most recent call last):\n",
      "  File \"<ipython-input-101-5f34f1b3dad3>\", line 47, in <module>\n",
      "    x1, y1, x2, y2 = find_coordinate(*img.shape[0:2], os.path.join(label_path, f'{patient}_{j:04d}.txt'), s)\n",
      "  File \"<ipython-input-101-5f34f1b3dad3>\", line 5, in find_coordinate\n",
      "    with open(label_file, 'r') as f:\n",
      "FileNotFoundError: [Errno 2] No such file or directory: '/nfs3-p1/zsxm/dataset/aorta_ct_img_label/new/ganxiaobin-J-23-51/labels/ganxiaobin-J-23-51_0045.txt'\n",
      "Traceback (most recent call last):\n",
      "  File \"<ipython-input-101-5f34f1b3dad3>\", line 47, in <module>\n",
      "    x1, y1, x2, y2 = find_coordinate(*img.shape[0:2], os.path.join(label_path, f'{patient}_{j:04d}.txt'), s)\n",
      "  File \"<ipython-input-101-5f34f1b3dad3>\", line 5, in find_coordinate\n",
      "    with open(label_file, 'r') as f:\n",
      "FileNotFoundError: [Errno 2] No such file or directory: '/nfs3-p1/zsxm/dataset/aorta_ct_img_label/new/ganxiaobin-J-23-51/labels/ganxiaobin-J-23-51_0046.txt'\n",
      "Traceback (most recent call last):\n",
      "  File \"<ipython-input-101-5f34f1b3dad3>\", line 47, in <module>\n",
      "    x1, y1, x2, y2 = find_coordinate(*img.shape[0:2], os.path.join(label_path, f'{patient}_{j:04d}.txt'), s)\n",
      "  File \"<ipython-input-101-5f34f1b3dad3>\", line 5, in find_coordinate\n",
      "    with open(label_file, 'r') as f:\n",
      "FileNotFoundError: [Errno 2] No such file or directory: '/nfs3-p1/zsxm/dataset/aorta_ct_img_label/new/ganxiaobin-J-23-51/labels/ganxiaobin-J-23-51_0047.txt'\n",
      "Traceback (most recent call last):\n",
      "  File \"<ipython-input-101-5f34f1b3dad3>\", line 47, in <module>\n",
      "    x1, y1, x2, y2 = find_coordinate(*img.shape[0:2], os.path.join(label_path, f'{patient}_{j:04d}.txt'), s)\n",
      "  File \"<ipython-input-101-5f34f1b3dad3>\", line 5, in find_coordinate\n",
      "    with open(label_file, 'r') as f:\n",
      "FileNotFoundError: [Errno 2] No such file or directory: '/nfs3-p1/zsxm/dataset/aorta_ct_img_label/new/ganxiaobin-J-23-51/labels/ganxiaobin-J-23-51_0049.txt'\n",
      "Traceback (most recent call last):\n",
      "  File \"<ipython-input-101-5f34f1b3dad3>\", line 47, in <module>\n",
      "    x1, y1, x2, y2 = find_coordinate(*img.shape[0:2], os.path.join(label_path, f'{patient}_{j:04d}.txt'), s)\n",
      "  File \"<ipython-input-101-5f34f1b3dad3>\", line 5, in find_coordinate\n",
      "    with open(label_file, 'r') as f:\n",
      "FileNotFoundError: [Errno 2] No such file or directory: '/nfs3-p1/zsxm/dataset/aorta_ct_img_label/new/ganxiaobin-J-23-51/labels/ganxiaobin-J-23-51_0050.txt'\n"
     ]
    },
    {
     "name": "stdout",
     "output_type": "stream",
     "text": [
      "******Processing huangwanman-S-15-30******\n",
      "******Processing kongxiaoqing-S-19-32-J-27-94******\n"
     ]
    },
    {
     "name": "stderr",
     "output_type": "stream",
     "text": [
      "Traceback (most recent call last):\n",
      "  File \"<ipython-input-101-5f34f1b3dad3>\", line 47, in <module>\n",
      "    x1, y1, x2, y2 = find_coordinate(*img.shape[0:2], os.path.join(label_path, f'{patient}_{j:04d}.txt'), s)\n",
      "  File \"<ipython-input-101-5f34f1b3dad3>\", line 9, in find_coordinate\n",
      "    assert aorta == 'j', f'如果只有一个label那么此时应为降主动脉, 但实际为{aorta}：{label_file.split(\"/\")[-1]}'\n",
      "AssertionError: 如果只有一个label那么此时应为降主动脉, 但实际为s：kongxiaoqing-S-19-32-J-27-94_0029.txt\n",
      "Traceback (most recent call last):\n",
      "  File \"<ipython-input-101-5f34f1b3dad3>\", line 47, in <module>\n",
      "    x1, y1, x2, y2 = find_coordinate(*img.shape[0:2], os.path.join(label_path, f'{patient}_{j:04d}.txt'), s)\n",
      "  File \"<ipython-input-101-5f34f1b3dad3>\", line 9, in find_coordinate\n",
      "    assert aorta == 'j', f'如果只有一个label那么此时应为降主动脉, 但实际为{aorta}：{label_file.split(\"/\")[-1]}'\n",
      "AssertionError: 如果只有一个label那么此时应为降主动脉, 但实际为s：kongxiaoqing-S-19-32-J-27-94_0030.txt\n"
     ]
    },
    {
     "name": "stdout",
     "output_type": "stream",
     "text": [
      "******Processing liangjianjun-S-17-23******\n",
      "******Processing linfaqiu-S-18-29******\n"
     ]
    },
    {
     "name": "stderr",
     "output_type": "stream",
     "text": [
      "Traceback (most recent call last):\n",
      "  File \"<ipython-input-101-5f34f1b3dad3>\", line 47, in <module>\n",
      "    x1, y1, x2, y2 = find_coordinate(*img.shape[0:2], os.path.join(label_path, f'{patient}_{j:04d}.txt'), s)\n",
      "  File \"<ipython-input-101-5f34f1b3dad3>\", line 9, in find_coordinate\n",
      "    assert aorta == 'j', f'如果只有一个label那么此时应为降主动脉, 但实际为{aorta}：{label_file.split(\"/\")[-1]}'\n",
      "AssertionError: 如果只有一个label那么此时应为降主动脉, 但实际为s：liangjianjun-S-17-23_0016.txt\n",
      "Traceback (most recent call last):\n",
      "  File \"<ipython-input-101-5f34f1b3dad3>\", line 47, in <module>\n",
      "    x1, y1, x2, y2 = find_coordinate(*img.shape[0:2], os.path.join(label_path, f'{patient}_{j:04d}.txt'), s)\n",
      "  File \"<ipython-input-101-5f34f1b3dad3>\", line 9, in find_coordinate\n",
      "    assert aorta == 'j', f'如果只有一个label那么此时应为降主动脉, 但实际为{aorta}：{label_file.split(\"/\")[-1]}'\n",
      "AssertionError: 如果只有一个label那么此时应为降主动脉, 但实际为s：liangjianjun-S-17-23_0017.txt\n",
      "Traceback (most recent call last):\n",
      "  File \"<ipython-input-101-5f34f1b3dad3>\", line 47, in <module>\n",
      "    x1, y1, x2, y2 = find_coordinate(*img.shape[0:2], os.path.join(label_path, f'{patient}_{j:04d}.txt'), s)\n",
      "  File \"<ipython-input-101-5f34f1b3dad3>\", line 9, in find_coordinate\n",
      "    assert aorta == 'j', f'如果只有一个label那么此时应为降主动脉, 但实际为{aorta}：{label_file.split(\"/\")[-1]}'\n",
      "AssertionError: 如果只有一个label那么此时应为降主动脉, 但实际为s：liangjianjun-S-17-23_0018.txt\n"
     ]
    },
    {
     "name": "stdout",
     "output_type": "stream",
     "text": [
      "******Processing linjiaxiang-J-21-72******\n",
      "******Processing linrichun-J-16-72******\n",
      "******Processing lirucou-J-19-59******\n",
      "******Processing liubihai-S-23-26-J-23-93******\n",
      "******Processing liuhongfu-J-57-200******\n"
     ]
    },
    {
     "name": "stderr",
     "output_type": "stream",
     "text": [
      "Traceback (most recent call last):\n",
      "  File \"<ipython-input-101-5f34f1b3dad3>\", line 47, in <module>\n",
      "    x1, y1, x2, y2 = find_coordinate(*img.shape[0:2], os.path.join(label_path, f'{patient}_{j:04d}.txt'), s)\n",
      "  File \"<ipython-input-101-5f34f1b3dad3>\", line 5, in find_coordinate\n",
      "    with open(label_file, 'r') as f:\n",
      "FileNotFoundError: [Errno 2] No such file or directory: '/nfs3-p1/zsxm/dataset/aorta_ct_img_label/new/liuhongfu-J-57-200/labels/liuhongfu-J-57-200_0158.txt'\n"
     ]
    },
    {
     "name": "stdout",
     "output_type": "stream",
     "text": [
      "******Processing liuzhangliu-J-22-28******\n",
      "******Processing nixueya-J-19-75******\n",
      "******Processing pancunxiao-S-16-30-J-16-70******\n"
     ]
    },
    {
     "name": "stderr",
     "output_type": "stream",
     "text": [
      "Traceback (most recent call last):\n",
      "  File \"<ipython-input-101-5f34f1b3dad3>\", line 47, in <module>\n",
      "    x1, y1, x2, y2 = find_coordinate(*img.shape[0:2], os.path.join(label_path, f'{patient}_{j:04d}.txt'), s)\n",
      "  File \"<ipython-input-101-5f34f1b3dad3>\", line 9, in find_coordinate\n",
      "    assert aorta == 'j', f'如果只有一个label那么此时应为降主动脉, 但实际为{aorta}：{label_file.split(\"/\")[-1]}'\n",
      "AssertionError: 如果只有一个label那么此时应为降主动脉, 但实际为s：pancunxiao-S-16-30-J-16-70_0015.txt\n",
      "Traceback (most recent call last):\n",
      "  File \"<ipython-input-101-5f34f1b3dad3>\", line 47, in <module>\n",
      "    x1, y1, x2, y2 = find_coordinate(*img.shape[0:2], os.path.join(label_path, f'{patient}_{j:04d}.txt'), s)\n",
      "  File \"<ipython-input-101-5f34f1b3dad3>\", line 9, in find_coordinate\n",
      "    assert aorta == 'j', f'如果只有一个label那么此时应为降主动脉, 但实际为{aorta}：{label_file.split(\"/\")[-1]}'\n",
      "AssertionError: 如果只有一个label那么此时应为降主动脉, 但实际为s：pancunxiao-S-16-30-J-16-70_0016.txt\n"
     ]
    },
    {
     "name": "stdout",
     "output_type": "stream",
     "text": [
      "******Processing shanghongjun-J-22-84******\n",
      "******Processing shenjian-J-15-81******\n",
      "******Processing siyoulin-S-16-26******\n"
     ]
    },
    {
     "name": "stderr",
     "output_type": "stream",
     "text": [
      "Traceback (most recent call last):\n",
      "  File \"<ipython-input-101-5f34f1b3dad3>\", line 47, in <module>\n",
      "    x1, y1, x2, y2 = find_coordinate(*img.shape[0:2], os.path.join(label_path, f'{patient}_{j:04d}.txt'), s)\n",
      "  File \"<ipython-input-101-5f34f1b3dad3>\", line 9, in find_coordinate\n",
      "    assert aorta == 'j', f'如果只有一个label那么此时应为降主动脉, 但实际为{aorta}：{label_file.split(\"/\")[-1]}'\n",
      "AssertionError: 如果只有一个label那么此时应为降主动脉, 但实际为s：siyoulin-S-16-26_0015.txt\n"
     ]
    },
    {
     "name": "stdout",
     "output_type": "stream",
     "text": [
      "******Processing sunhongliang-S-23-34******\n",
      "******Processing wangjicheng-J-14-22******\n",
      "******Processing wangxiaofu-S-19-29-J-19-65******\n"
     ]
    },
    {
     "name": "stderr",
     "output_type": "stream",
     "text": [
      "Traceback (most recent call last):\n",
      "  File \"<ipython-input-101-5f34f1b3dad3>\", line 47, in <module>\n",
      "    x1, y1, x2, y2 = find_coordinate(*img.shape[0:2], os.path.join(label_path, f'{patient}_{j:04d}.txt'), s)\n",
      "  File \"<ipython-input-101-5f34f1b3dad3>\", line 9, in find_coordinate\n",
      "    assert aorta == 'j', f'如果只有一个label那么此时应为降主动脉, 但实际为{aorta}：{label_file.split(\"/\")[-1]}'\n",
      "AssertionError: 如果只有一个label那么此时应为降主动脉, 但实际为s：wangxiaofu-S-19-29-J-19-65_0018.txt\n",
      "Traceback (most recent call last):\n",
      "  File \"<ipython-input-101-5f34f1b3dad3>\", line 47, in <module>\n",
      "    x1, y1, x2, y2 = find_coordinate(*img.shape[0:2], os.path.join(label_path, f'{patient}_{j:04d}.txt'), s)\n",
      "  File \"<ipython-input-101-5f34f1b3dad3>\", line 5, in find_coordinate\n",
      "    with open(label_file, 'r') as f:\n",
      "FileNotFoundError: [Errno 2] No such file or directory: '/nfs3-p1/zsxm/dataset/aorta_ct_img_label/new/wangxiaofu-S-19-29-J-19-65/labels/wangxiaofu-S-19-29-J-19-65_0043.txt'\n",
      "Traceback (most recent call last):\n",
      "  File \"<ipython-input-101-5f34f1b3dad3>\", line 47, in <module>\n",
      "    x1, y1, x2, y2 = find_coordinate(*img.shape[0:2], os.path.join(label_path, f'{patient}_{j:04d}.txt'), s)\n",
      "  File \"<ipython-input-101-5f34f1b3dad3>\", line 5, in find_coordinate\n",
      "    with open(label_file, 'r') as f:\n",
      "FileNotFoundError: [Errno 2] No such file or directory: '/nfs3-p1/zsxm/dataset/aorta_ct_img_label/new/wangxiaofu-S-19-29-J-19-65/labels/wangxiaofu-S-19-29-J-19-65_0044.txt'\n",
      "Traceback (most recent call last):\n",
      "  File \"<ipython-input-101-5f34f1b3dad3>\", line 47, in <module>\n",
      "    x1, y1, x2, y2 = find_coordinate(*img.shape[0:2], os.path.join(label_path, f'{patient}_{j:04d}.txt'), s)\n",
      "  File \"<ipython-input-101-5f34f1b3dad3>\", line 5, in find_coordinate\n",
      "    with open(label_file, 'r') as f:\n",
      "FileNotFoundError: [Errno 2] No such file or directory: '/nfs3-p1/zsxm/dataset/aorta_ct_img_label/new/wangxiaofu-S-19-29-J-19-65/labels/wangxiaofu-S-19-29-J-19-65_0046.txt'\n",
      "Traceback (most recent call last):\n",
      "  File \"<ipython-input-101-5f34f1b3dad3>\", line 47, in <module>\n",
      "    x1, y1, x2, y2 = find_coordinate(*img.shape[0:2], os.path.join(label_path, f'{patient}_{j:04d}.txt'), s)\n",
      "  File \"<ipython-input-101-5f34f1b3dad3>\", line 5, in find_coordinate\n",
      "    with open(label_file, 'r') as f:\n",
      "FileNotFoundError: [Errno 2] No such file or directory: '/nfs3-p1/zsxm/dataset/aorta_ct_img_label/new/wangxiaofu-S-19-29-J-19-65/labels/wangxiaofu-S-19-29-J-19-65_0047.txt'\n",
      "Traceback (most recent call last):\n",
      "  File \"<ipython-input-101-5f34f1b3dad3>\", line 47, in <module>\n",
      "    x1, y1, x2, y2 = find_coordinate(*img.shape[0:2], os.path.join(label_path, f'{patient}_{j:04d}.txt'), s)\n",
      "  File \"<ipython-input-101-5f34f1b3dad3>\", line 5, in find_coordinate\n",
      "    with open(label_file, 'r') as f:\n",
      "FileNotFoundError: [Errno 2] No such file or directory: '/nfs3-p1/zsxm/dataset/aorta_ct_img_label/new/wangxiaofu-S-19-29-J-19-65/labels/wangxiaofu-S-19-29-J-19-65_0048.txt'\n",
      "Traceback (most recent call last):\n",
      "  File \"<ipython-input-101-5f34f1b3dad3>\", line 47, in <module>\n",
      "    x1, y1, x2, y2 = find_coordinate(*img.shape[0:2], os.path.join(label_path, f'{patient}_{j:04d}.txt'), s)\n",
      "  File \"<ipython-input-101-5f34f1b3dad3>\", line 5, in find_coordinate\n",
      "    with open(label_file, 'r') as f:\n",
      "FileNotFoundError: [Errno 2] No such file or directory: '/nfs3-p1/zsxm/dataset/aorta_ct_img_label/new/wangxiaofu-S-19-29-J-19-65/labels/wangxiaofu-S-19-29-J-19-65_0049.txt'\n",
      "Traceback (most recent call last):\n",
      "  File \"<ipython-input-101-5f34f1b3dad3>\", line 47, in <module>\n",
      "    x1, y1, x2, y2 = find_coordinate(*img.shape[0:2], os.path.join(label_path, f'{patient}_{j:04d}.txt'), s)\n",
      "  File \"<ipython-input-101-5f34f1b3dad3>\", line 5, in find_coordinate\n",
      "    with open(label_file, 'r') as f:\n",
      "FileNotFoundError: [Errno 2] No such file or directory: '/nfs3-p1/zsxm/dataset/aorta_ct_img_label/new/wangxiaofu-S-19-29-J-19-65/labels/wangxiaofu-S-19-29-J-19-65_0050.txt'\n"
     ]
    },
    {
     "name": "stdout",
     "output_type": "stream",
     "text": [
      "******Processing xiafangzhou-S-18-25-J-18-80******\n",
      "******Processing xiangweiwen-J-25-52******\n",
      "******Processing xucaixiang-J-17-36******\n",
      "******Processing xuhangying-J-25-63******\n",
      "******Processing xuheping-S-19-35-J-19-70******\n",
      "******Processing xujiahua-S-20-33-J-20-71******\n",
      "******Processing xupinglun-S-18-28-J-18-32******\n",
      "******Processing yejiangen-J-15-34******\n",
      "******Processing yuguiying-S-16-22-J-16-77******\n"
     ]
    },
    {
     "name": "stderr",
     "output_type": "stream",
     "text": [
      "Traceback (most recent call last):\n",
      "  File \"<ipython-input-101-5f34f1b3dad3>\", line 47, in <module>\n",
      "    x1, y1, x2, y2 = find_coordinate(*img.shape[0:2], os.path.join(label_path, f'{patient}_{j:04d}.txt'), s)\n",
      "  File \"<ipython-input-101-5f34f1b3dad3>\", line 9, in find_coordinate\n",
      "    assert aorta == 'j', f'如果只有一个label那么此时应为降主动脉, 但实际为{aorta}：{label_file.split(\"/\")[-1]}'\n",
      "AssertionError: 如果只有一个label那么此时应为降主动脉, 但实际为s：yuguiying-S-16-22-J-16-77_0015.txt\n"
     ]
    },
    {
     "name": "stdout",
     "output_type": "stream",
     "text": [
      "******Processing yujunying-J-15-82******\n",
      "******Processing zhangjiahua-J-19-78******\n",
      "******Processing zhangjianliang-J-16-77******\n",
      "******Processing zhangping-J-25-88******\n",
      "******Processing zhengchong-S-16-31-J-16-87******\n"
     ]
    },
    {
     "name": "stderr",
     "output_type": "stream",
     "text": [
      "Traceback (most recent call last):\n",
      "  File \"<ipython-input-101-5f34f1b3dad3>\", line 47, in <module>\n",
      "    x1, y1, x2, y2 = find_coordinate(*img.shape[0:2], os.path.join(label_path, f'{patient}_{j:04d}.txt'), s)\n",
      "  File \"<ipython-input-101-5f34f1b3dad3>\", line 9, in find_coordinate\n",
      "    assert aorta == 'j', f'如果只有一个label那么此时应为降主动脉, 但实际为{aorta}：{label_file.split(\"/\")[-1]}'\n",
      "AssertionError: 如果只有一个label那么此时应为降主动脉, 但实际为s：zhengchong-S-16-31-J-16-87_0018.txt\n"
     ]
    },
    {
     "name": "stdout",
     "output_type": "stream",
     "text": [
      "******Processing zhongchuankun-J-17-69******\n"
     ]
    },
    {
     "name": "stderr",
     "output_type": "stream",
     "text": [
      "Traceback (most recent call last):\n",
      "  File \"<ipython-input-101-5f34f1b3dad3>\", line 47, in <module>\n",
      "    x1, y1, x2, y2 = find_coordinate(*img.shape[0:2], os.path.join(label_path, f'{patient}_{j:04d}.txt'), s)\n",
      "  File \"<ipython-input-101-5f34f1b3dad3>\", line 5, in find_coordinate\n",
      "    with open(label_file, 'r') as f:\n",
      "FileNotFoundError: [Errno 2] No such file or directory: '/nfs3-p1/zsxm/dataset/aorta_ct_img_label/new/zhongchuankun-J-17-69/labels/zhongchuankun-J-17-69_0041.txt'\n",
      "Traceback (most recent call last):\n",
      "  File \"<ipython-input-101-5f34f1b3dad3>\", line 47, in <module>\n",
      "    x1, y1, x2, y2 = find_coordinate(*img.shape[0:2], os.path.join(label_path, f'{patient}_{j:04d}.txt'), s)\n",
      "  File \"<ipython-input-101-5f34f1b3dad3>\", line 5, in find_coordinate\n",
      "    with open(label_file, 'r') as f:\n",
      "FileNotFoundError: [Errno 2] No such file or directory: '/nfs3-p1/zsxm/dataset/aorta_ct_img_label/new/zhongchuankun-J-17-69/labels/zhongchuankun-J-17-69_0061.txt'\n"
     ]
    },
    {
     "name": "stdout",
     "output_type": "stream",
     "text": [
      "******Processing zhoujianglong-S-17-31******\n",
      "******Processing zhuxinjian-J-20-23******\n"
     ]
    },
    {
     "name": "stderr",
     "output_type": "stream",
     "text": [
      "Traceback (most recent call last):\n",
      "  File \"<ipython-input-101-5f34f1b3dad3>\", line 47, in <module>\n",
      "    x1, y1, x2, y2 = find_coordinate(*img.shape[0:2], os.path.join(label_path, f'{patient}_{j:04d}.txt'), s)\n",
      "  File \"<ipython-input-101-5f34f1b3dad3>\", line 5, in find_coordinate\n",
      "    with open(label_file, 'r') as f:\n",
      "FileNotFoundError: [Errno 2] No such file or directory: '/nfs3-p1/zsxm/dataset/aorta_ct_img_label/new/zhuxinjian-J-20-23/labels/zhuxinjian-J-20-23_0019.txt'\n"
     ]
    }
   ],
   "source": [
    "input_path = '/nfs3-p1/zsxm/dataset/aorta_ct_img_label/new'\n",
    "error_patient_list = []\n",
    "\n",
    "def find_coordinate(height, width, label_file, aorta):\n",
    "    with open(label_file, 'r') as f:\n",
    "        lines = f.readlines()\n",
    "    assert len(lines) <= 2, f'label.txt应该存储不多于2个label：{label_file.split(\"/\")[-1]}'\n",
    "    if len(lines) == 1:\n",
    "        assert aorta == 'j', f'如果只有一个label那么此时应为降主动脉, 但实际为{aorta}：{label_file.split(\"/\")[-1]}'\n",
    "        corr = list(map(lambda x: float(x), lines[0].split()))\n",
    "        x, y, w, h = corr[1], corr[2], corr[3], corr[4]\n",
    "        assert 0.25 < x < 0.75 and 0.25 < y < 0.75, f'边界框中心({x}, {y})出界：{label_file.split(\"/\")[-1]}'\n",
    "    else:\n",
    "        corr1, corr2 = list(map(lambda x: float(x), lines[0].split())), list(map(lambda x: float(x), lines[1].split()))\n",
    "        assert 0.25 < corr1[1] < 0.75 and 0.25 < corr1[2] < 0.75, f'边界框1中心({corr1[1]}, {corr1[2]})出界：{label_file.split(\"/\")[-1]}'\n",
    "        assert 0.25 < corr2[1] < 0.75 and 0.25 < corr2[2] < 0.75, f'边界框2中心({corr2[1]}, {corr2[2]})出界：{label_file.split(\"/\")[-1]}'\n",
    "        if aorta == 's':\n",
    "            x, y, w, h = (corr1[1], corr1[2], corr1[3], corr1[4]) if corr1[2] < corr2[2] else (corr2[1], corr2[2], corr2[3], corr2[4])\n",
    "        elif aorta == 'j':\n",
    "            x, y, w, h = (corr1[1], corr1[2], corr1[3], corr1[4]) if corr1[2] > corr2[2] else (corr2[1], corr2[2], corr2[3], corr2[4])\n",
    "        else:\n",
    "            raise Exception(f'aorta 应该为\"s\"或\"j\"其中之一: {label_file.split(\"/\")[-1]}')\n",
    "    w, h = max(w, h), max(w, h)\n",
    "    return int(width*(x-w/2)), int(height*(y-h/2)), int(width*(x+w/2)+1), int(height*(y+h/2)+1)\n",
    "\n",
    "for patient in sorted(os.listdir(input_path)):\n",
    "    print(f'******Processing {patient}******')\n",
    "    image_path = os.path.join(input_path, patient, 'images')\n",
    "    label_path = os.path.join(input_path, patient, 'labels')\n",
    "    crop_path = os.path.join(input_path, patient, 'crops')\n",
    "    if os.path.exists(crop_path):\n",
    "        shutil.rmtree(crop_path)\n",
    "    os.mkdir(crop_path)\n",
    "    pl = patient.lower().split('-')\n",
    "    for i, s in enumerate(pl):\n",
    "        if i!=0 and s.startswith('im'):\n",
    "            pl[i] = s.replace('im', '')\n",
    "    crop_flag = True\n",
    "    for i, s in enumerate(pl):\n",
    "        if s != 's' and s != 'j':\n",
    "            continue\n",
    "        start, end = int(pl[i+1])-1, int(pl[i+2])\n",
    "        for j in range(start, end):\n",
    "            img = Image.open(os.path.join(image_path, f'{patient}_{j:04d}.png'))\n",
    "            img = np.array(img)\n",
    "            try:\n",
    "                x1, y1, x2, y2 = find_coordinate(*img.shape[0:2], os.path.join(label_path, f'{patient}_{j:04d}.txt'), s)\n",
    "            except:\n",
    "                traceback.print_exc()\n",
    "                crop_flag = False\n",
    "            else:#if crop_flag:\n",
    "                crop = img[y1:y2, x1:x2]\n",
    "                crop = Image.fromarray(crop)\n",
    "                crop.save(os.path.join(crop_path, f'{patient}_{s}_{j:04d}.png'))\n",
    "    if not crop_flag:\n",
    "        #print('Delete crop_path')\n",
    "        #shutil.rmtree(crop_path)\n",
    "        error_patient_list.append(patient)"
   ]
  },
  {
   "cell_type": "code",
   "execution_count": 102,
   "id": "86184053",
   "metadata": {},
   "outputs": [
    {
     "name": "stdout",
     "output_type": "stream",
     "text": [
      "13\n",
      "['chenfuliang-S-21-31-J-21-84', 'digenlan-J-23-50', 'ganxiaobin-J-23-51', 'kongxiaoqing-S-19-32-J-27-94', 'liangjianjun-S-17-23', 'liuhongfu-J-57-200', 'pancunxiao-S-16-30-J-16-70', 'siyoulin-S-16-26', 'wangxiaofu-S-19-29-J-19-65', 'yuguiying-S-16-22-J-16-77', 'zhengchong-S-16-31-J-16-87', 'zhongchuankun-J-17-69', 'zhuxinjian-J-20-23']\n"
     ]
    }
   ],
   "source": [
    "print(len(error_patient_list))\n",
    "print(error_patient_list)"
   ]
  },
  {
   "cell_type": "code",
   "execution_count": null,
   "id": "8c28d9f3",
   "metadata": {},
   "outputs": [],
   "source": []
  },
  {
   "cell_type": "code",
   "execution_count": null,
   "id": "2cf84c4d",
   "metadata": {},
   "outputs": [],
   "source": []
  }
 ],
 "metadata": {
  "kernelspec": {
   "display_name": "Python 3",
   "language": "python",
   "name": "python3"
  },
  "language_info": {
   "codemirror_mode": {
    "name": "ipython",
    "version": 3
   },
   "file_extension": ".py",
   "mimetype": "text/x-python",
   "name": "python",
   "nbconvert_exporter": "python",
   "pygments_lexer": "ipython3",
   "version": "3.8.10"
  }
 },
 "nbformat": 4,
 "nbformat_minor": 5
}
