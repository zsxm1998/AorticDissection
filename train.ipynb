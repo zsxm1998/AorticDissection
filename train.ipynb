{
 "cells": [
  {
   "cell_type": "code",
   "execution_count": 15,
   "id": "3aedfc0f",
   "metadata": {},
   "outputs": [],
   "source": [
    "import os\n",
    "import warnings\n",
    "\n",
    "import numpy as np\n",
    "from PIL import Image\n",
    "import torch\n",
    "import torch.nn.functional as F\n",
    "from torchvision import transforms as T\n",
    "\n",
    "from train import create_net\n",
    "\n",
    "warnings.filterwarnings(\"ignore\")"
   ]
  },
  {
   "cell_type": "code",
   "execution_count": 7,
   "id": "126d5809",
   "metadata": {},
   "outputs": [],
   "source": [
    "os.environ['CUDA_VISIBLE_DEVICES'] = '0'\n",
    "device = torch.device('cuda:0' if torch.cuda.is_available() else 'cpu')"
   ]
  },
  {
   "cell_type": "code",
   "execution_count": 8,
   "id": "858f4dd8",
   "metadata": {},
   "outputs": [
    {
     "name": "stdout",
     "output_type": "stream",
     "text": [
      "[INFO]: **********************************************************************\n",
      "Network: ResNet\n",
      "\t1 input channels\n",
      "\t1 output channels (classes)\n",
      "\n",
      "[INFO]: Model loaded from checkpoints/08-13_20_59_40/Net_best.pth\n"
     ]
    },
    {
     "name": "stderr",
     "output_type": "stream",
     "text": [
      "/disk2/zsxm/miniconda3/envs/pytorch/lib/python3.8/site-packages/torch/nn/parallel/data_parallel.py:30: UserWarning: \n",
      "    There is an imbalance between your GPUs. You may want to exclude GPU 1 which\n",
      "    has less than 75% of the memory or cores of GPU 0. You can do so by setting\n",
      "    the device_ids argument to DataParallel, or by setting the CUDA_VISIBLE_DEVICES\n",
      "    environment variable.\n",
      "  warnings.warn(imbalance_warn.format(device_ids[min_pos], device_ids[max_pos]))\n"
     ]
    }
   ],
   "source": [
    "net = create_net(device, 1, 1, 'checkpoints/08-13_20_59_40/Net_best.pth')"
   ]
  },
  {
   "cell_type": "code",
   "execution_count": 42,
   "id": "abee07a2",
   "metadata": {},
   "outputs": [
    {
     "data": {
      "text/plain": [
       "DataParallel(\n",
       "  (module): ResNet(\n",
       "    (conv1): Conv2d(1, 64, kernel_size=(7, 7), stride=(2, 2), padding=(3, 3), bias=False)\n",
       "    (bn1): BatchNorm2d(64, eps=1e-05, momentum=0.1, affine=True, track_running_stats=True)\n",
       "    (relu): ReLU(inplace=True)\n",
       "    (maxpool): MaxPool2d(kernel_size=3, stride=2, padding=1, dilation=1, ceil_mode=False)\n",
       "    (layer1): Sequential(\n",
       "      (0): BasicBlock(\n",
       "        (conv1): Conv2d(64, 64, kernel_size=(3, 3), stride=(1, 1), padding=(1, 1), bias=False)\n",
       "        (bn1): BatchNorm2d(64, eps=1e-05, momentum=0.1, affine=True, track_running_stats=True)\n",
       "        (relu): ReLU(inplace=True)\n",
       "        (conv2): Conv2d(64, 64, kernel_size=(3, 3), stride=(1, 1), padding=(1, 1), bias=False)\n",
       "        (bn2): BatchNorm2d(64, eps=1e-05, momentum=0.1, affine=True, track_running_stats=True)\n",
       "      )\n",
       "      (1): BasicBlock(\n",
       "        (conv1): Conv2d(64, 64, kernel_size=(3, 3), stride=(1, 1), padding=(1, 1), bias=False)\n",
       "        (bn1): BatchNorm2d(64, eps=1e-05, momentum=0.1, affine=True, track_running_stats=True)\n",
       "        (relu): ReLU(inplace=True)\n",
       "        (conv2): Conv2d(64, 64, kernel_size=(3, 3), stride=(1, 1), padding=(1, 1), bias=False)\n",
       "        (bn2): BatchNorm2d(64, eps=1e-05, momentum=0.1, affine=True, track_running_stats=True)\n",
       "      )\n",
       "      (2): BasicBlock(\n",
       "        (conv1): Conv2d(64, 64, kernel_size=(3, 3), stride=(1, 1), padding=(1, 1), bias=False)\n",
       "        (bn1): BatchNorm2d(64, eps=1e-05, momentum=0.1, affine=True, track_running_stats=True)\n",
       "        (relu): ReLU(inplace=True)\n",
       "        (conv2): Conv2d(64, 64, kernel_size=(3, 3), stride=(1, 1), padding=(1, 1), bias=False)\n",
       "        (bn2): BatchNorm2d(64, eps=1e-05, momentum=0.1, affine=True, track_running_stats=True)\n",
       "      )\n",
       "    )\n",
       "    (layer2): Sequential(\n",
       "      (0): BasicBlock(\n",
       "        (conv1): Conv2d(64, 128, kernel_size=(3, 3), stride=(2, 2), padding=(1, 1), bias=False)\n",
       "        (bn1): BatchNorm2d(128, eps=1e-05, momentum=0.1, affine=True, track_running_stats=True)\n",
       "        (relu): ReLU(inplace=True)\n",
       "        (conv2): Conv2d(128, 128, kernel_size=(3, 3), stride=(1, 1), padding=(1, 1), bias=False)\n",
       "        (bn2): BatchNorm2d(128, eps=1e-05, momentum=0.1, affine=True, track_running_stats=True)\n",
       "        (downsample): Sequential(\n",
       "          (0): Conv2d(64, 128, kernel_size=(1, 1), stride=(2, 2), bias=False)\n",
       "          (1): BatchNorm2d(128, eps=1e-05, momentum=0.1, affine=True, track_running_stats=True)\n",
       "        )\n",
       "      )\n",
       "      (1): BasicBlock(\n",
       "        (conv1): Conv2d(128, 128, kernel_size=(3, 3), stride=(1, 1), padding=(1, 1), bias=False)\n",
       "        (bn1): BatchNorm2d(128, eps=1e-05, momentum=0.1, affine=True, track_running_stats=True)\n",
       "        (relu): ReLU(inplace=True)\n",
       "        (conv2): Conv2d(128, 128, kernel_size=(3, 3), stride=(1, 1), padding=(1, 1), bias=False)\n",
       "        (bn2): BatchNorm2d(128, eps=1e-05, momentum=0.1, affine=True, track_running_stats=True)\n",
       "      )\n",
       "      (2): BasicBlock(\n",
       "        (conv1): Conv2d(128, 128, kernel_size=(3, 3), stride=(1, 1), padding=(1, 1), bias=False)\n",
       "        (bn1): BatchNorm2d(128, eps=1e-05, momentum=0.1, affine=True, track_running_stats=True)\n",
       "        (relu): ReLU(inplace=True)\n",
       "        (conv2): Conv2d(128, 128, kernel_size=(3, 3), stride=(1, 1), padding=(1, 1), bias=False)\n",
       "        (bn2): BatchNorm2d(128, eps=1e-05, momentum=0.1, affine=True, track_running_stats=True)\n",
       "      )\n",
       "      (3): BasicBlock(\n",
       "        (conv1): Conv2d(128, 128, kernel_size=(3, 3), stride=(1, 1), padding=(1, 1), bias=False)\n",
       "        (bn1): BatchNorm2d(128, eps=1e-05, momentum=0.1, affine=True, track_running_stats=True)\n",
       "        (relu): ReLU(inplace=True)\n",
       "        (conv2): Conv2d(128, 128, kernel_size=(3, 3), stride=(1, 1), padding=(1, 1), bias=False)\n",
       "        (bn2): BatchNorm2d(128, eps=1e-05, momentum=0.1, affine=True, track_running_stats=True)\n",
       "      )\n",
       "    )\n",
       "    (layer3): Sequential(\n",
       "      (0): BasicBlock(\n",
       "        (conv1): Conv2d(128, 256, kernel_size=(3, 3), stride=(2, 2), padding=(1, 1), bias=False)\n",
       "        (bn1): BatchNorm2d(256, eps=1e-05, momentum=0.1, affine=True, track_running_stats=True)\n",
       "        (relu): ReLU(inplace=True)\n",
       "        (conv2): Conv2d(256, 256, kernel_size=(3, 3), stride=(1, 1), padding=(1, 1), bias=False)\n",
       "        (bn2): BatchNorm2d(256, eps=1e-05, momentum=0.1, affine=True, track_running_stats=True)\n",
       "        (downsample): Sequential(\n",
       "          (0): Conv2d(128, 256, kernel_size=(1, 1), stride=(2, 2), bias=False)\n",
       "          (1): BatchNorm2d(256, eps=1e-05, momentum=0.1, affine=True, track_running_stats=True)\n",
       "        )\n",
       "      )\n",
       "      (1): BasicBlock(\n",
       "        (conv1): Conv2d(256, 256, kernel_size=(3, 3), stride=(1, 1), padding=(1, 1), bias=False)\n",
       "        (bn1): BatchNorm2d(256, eps=1e-05, momentum=0.1, affine=True, track_running_stats=True)\n",
       "        (relu): ReLU(inplace=True)\n",
       "        (conv2): Conv2d(256, 256, kernel_size=(3, 3), stride=(1, 1), padding=(1, 1), bias=False)\n",
       "        (bn2): BatchNorm2d(256, eps=1e-05, momentum=0.1, affine=True, track_running_stats=True)\n",
       "      )\n",
       "      (2): BasicBlock(\n",
       "        (conv1): Conv2d(256, 256, kernel_size=(3, 3), stride=(1, 1), padding=(1, 1), bias=False)\n",
       "        (bn1): BatchNorm2d(256, eps=1e-05, momentum=0.1, affine=True, track_running_stats=True)\n",
       "        (relu): ReLU(inplace=True)\n",
       "        (conv2): Conv2d(256, 256, kernel_size=(3, 3), stride=(1, 1), padding=(1, 1), bias=False)\n",
       "        (bn2): BatchNorm2d(256, eps=1e-05, momentum=0.1, affine=True, track_running_stats=True)\n",
       "      )\n",
       "      (3): BasicBlock(\n",
       "        (conv1): Conv2d(256, 256, kernel_size=(3, 3), stride=(1, 1), padding=(1, 1), bias=False)\n",
       "        (bn1): BatchNorm2d(256, eps=1e-05, momentum=0.1, affine=True, track_running_stats=True)\n",
       "        (relu): ReLU(inplace=True)\n",
       "        (conv2): Conv2d(256, 256, kernel_size=(3, 3), stride=(1, 1), padding=(1, 1), bias=False)\n",
       "        (bn2): BatchNorm2d(256, eps=1e-05, momentum=0.1, affine=True, track_running_stats=True)\n",
       "      )\n",
       "      (4): BasicBlock(\n",
       "        (conv1): Conv2d(256, 256, kernel_size=(3, 3), stride=(1, 1), padding=(1, 1), bias=False)\n",
       "        (bn1): BatchNorm2d(256, eps=1e-05, momentum=0.1, affine=True, track_running_stats=True)\n",
       "        (relu): ReLU(inplace=True)\n",
       "        (conv2): Conv2d(256, 256, kernel_size=(3, 3), stride=(1, 1), padding=(1, 1), bias=False)\n",
       "        (bn2): BatchNorm2d(256, eps=1e-05, momentum=0.1, affine=True, track_running_stats=True)\n",
       "      )\n",
       "      (5): BasicBlock(\n",
       "        (conv1): Conv2d(256, 256, kernel_size=(3, 3), stride=(1, 1), padding=(1, 1), bias=False)\n",
       "        (bn1): BatchNorm2d(256, eps=1e-05, momentum=0.1, affine=True, track_running_stats=True)\n",
       "        (relu): ReLU(inplace=True)\n",
       "        (conv2): Conv2d(256, 256, kernel_size=(3, 3), stride=(1, 1), padding=(1, 1), bias=False)\n",
       "        (bn2): BatchNorm2d(256, eps=1e-05, momentum=0.1, affine=True, track_running_stats=True)\n",
       "      )\n",
       "    )\n",
       "    (layer4): Sequential(\n",
       "      (0): BasicBlock(\n",
       "        (conv1): Conv2d(256, 512, kernel_size=(3, 3), stride=(2, 2), padding=(1, 1), bias=False)\n",
       "        (bn1): BatchNorm2d(512, eps=1e-05, momentum=0.1, affine=True, track_running_stats=True)\n",
       "        (relu): ReLU(inplace=True)\n",
       "        (conv2): Conv2d(512, 512, kernel_size=(3, 3), stride=(1, 1), padding=(1, 1), bias=False)\n",
       "        (bn2): BatchNorm2d(512, eps=1e-05, momentum=0.1, affine=True, track_running_stats=True)\n",
       "        (downsample): Sequential(\n",
       "          (0): Conv2d(256, 512, kernel_size=(1, 1), stride=(2, 2), bias=False)\n",
       "          (1): BatchNorm2d(512, eps=1e-05, momentum=0.1, affine=True, track_running_stats=True)\n",
       "        )\n",
       "      )\n",
       "      (1): BasicBlock(\n",
       "        (conv1): Conv2d(512, 512, kernel_size=(3, 3), stride=(1, 1), padding=(1, 1), bias=False)\n",
       "        (bn1): BatchNorm2d(512, eps=1e-05, momentum=0.1, affine=True, track_running_stats=True)\n",
       "        (relu): ReLU(inplace=True)\n",
       "        (conv2): Conv2d(512, 512, kernel_size=(3, 3), stride=(1, 1), padding=(1, 1), bias=False)\n",
       "        (bn2): BatchNorm2d(512, eps=1e-05, momentum=0.1, affine=True, track_running_stats=True)\n",
       "      )\n",
       "      (2): BasicBlock(\n",
       "        (conv1): Conv2d(512, 512, kernel_size=(3, 3), stride=(1, 1), padding=(1, 1), bias=False)\n",
       "        (bn1): BatchNorm2d(512, eps=1e-05, momentum=0.1, affine=True, track_running_stats=True)\n",
       "        (relu): ReLU(inplace=True)\n",
       "        (conv2): Conv2d(512, 512, kernel_size=(3, 3), stride=(1, 1), padding=(1, 1), bias=False)\n",
       "        (bn2): BatchNorm2d(512, eps=1e-05, momentum=0.1, affine=True, track_running_stats=True)\n",
       "      )\n",
       "    )\n",
       "    (avgpool): AdaptiveAvgPool2d(output_size=(1, 1))\n",
       "    (fc): Linear(in_features=512, out_features=1, bias=True)\n",
       "  )\n",
       ")"
      ]
     },
     "execution_count": 42,
     "metadata": {},
     "output_type": "execute_result"
    }
   ],
   "source": [
    "net.eval()"
   ]
  },
  {
   "cell_type": "code",
   "execution_count": 38,
   "id": "106c4542",
   "metadata": {},
   "outputs": [],
   "source": [
    "transform = T.Compose([\n",
    "    T.Resize(51), # 缩放图片(Image)，保持长宽比不变，最短边为img_size像素\n",
    "    T.CenterCrop(51), # 从图片中间切出img_size*img_size的图片\n",
    "    T.ToTensor(), # 将图片(Image)转成Tensor，归一化至[0, 1]\n",
    "    #T.Normalize(mean=[.5], std=[.5]) # 标准化至[-1, 1]，规定均值和标准差\n",
    "])"
   ]
  },
  {
   "cell_type": "code",
   "execution_count": 85,
   "id": "2219b19a",
   "metadata": {},
   "outputs": [
    {
     "name": "stdout",
     "output_type": "stream",
     "text": [
      "pred_cate:2.665471076965332\n",
      "loss:2.732724666595459\n"
     ]
    }
   ],
   "source": [
    "img = Image.open('111.png')\n",
    "img = transform(img).unsqueeze(0).to(device=device)\n",
    "img.requires_grad_()\n",
    "net.zero_grad()\n",
    "pred_cate = net(img)\n",
    "print(f'pred_cate:{pred_cate.item()}')\n",
    "target = torch.tensor([[0]], dtype=torch.float32).to(device=device, dtype=torch.float32)\n",
    "loss = F.binary_cross_entropy_with_logits(pred_cate, target)\n",
    "print(f'loss:{loss.item()}')\n",
    "loss.backward()\n",
    "grad = img.grad.data.squeeze(0).permute(1, 2, 0).squeeze(2)"
   ]
  },
  {
   "cell_type": "code",
   "execution_count": 86,
   "id": "5a7a4862",
   "metadata": {
    "scrolled": true
   },
   "outputs": [
    {
     "data": {
      "image/png": "[encoded data removed]",
      "text/plain": [
       "<PIL.Image.Image image mode=L size=51x51 at 0x7F02F249C3A0>"
      ]
     },
     "metadata": {},
     "output_type": "display_data"
    }
   ],
   "source": [
    "img_grad = torch.abs(grad)\n",
    "img_grad = (img_grad / img_grad.max() * 255).type(torch.uint8)\n",
    "img_grad = Image.fromarray(img_grad.cpu().numpy())\n",
    "display(img_grad)"
   ]
  },
  {
   "cell_type": "code",
   "execution_count": 88,
   "id": "0fc98ed2",
   "metadata": {},
   "outputs": [
    {
     "name": "stdout",
     "output_type": "stream",
     "text": [
      "1_chenxiu_390.png\n",
      "1_chenxiu_543.png\n",
      "1_CTA2(-)_119.png\n",
      "1_CTA2(-)_132.png\n",
      "1_dingxing_293.png\n",
      "1_dingxing_413.png\n",
      "1_huanggaoqiang_135.png\n",
      "1_huanggaoqiang_216.png\n",
      "1_huanggaoqiang_217.png\n",
      "1_huanggaoqiang_219.png\n",
      "1_huanggaoqiang_391.png\n",
      "1_louhangqing_133.png\n",
      "1_louhangqing_136.png\n",
      "1_louhangqing_371.png\n",
      "1_louhangqing_413.png\n",
      "1_louhangqing_426.png\n",
      "1_louhangqing_505.png\n",
      "1_louhangqing_506.png\n",
      "1_louhangqing_515.png\n",
      "1_louhangqing_541.png\n",
      "1_louhangqing_547.png\n",
      "1_louhangqing_548.png\n",
      "1_louhangqing_579.png\n",
      "1_louhangqing_580.png\n",
      "1_louhangqing_581.png\n",
      "1_wangxiaowei_145.png\n",
      "1_wangxiaowei_146.png\n",
      "1_wangxiaowei_276.png\n",
      "1_wangxiaowei_458.png\n",
      "1_wangxiaowei_461.png\n",
      "1_wangxiaowei_467.png\n",
      "1_wangxiaowei_473.png\n",
      "1_wangxiaowei_577.png\n",
      "1_wangxiaowei_603.png\n",
      "1_wangxiaowei_611.png\n",
      "1_wangxiaowei_637.png\n",
      "1_wangxiaowei_644.png\n",
      "1_wangxiaowei_645.png\n",
      "1_yangxiangqin_164.png\n",
      "1_yangxiangqin_326.png\n",
      "1_yangxiangqin_66.png\n",
      "1_zhaoqifeng_117.png\n",
      "1_zhaoqifeng_118.png\n",
      "1_zhaoqifeng_120.png\n",
      "1_zhaoqifeng_131.png\n",
      "1_zhaoqifeng_136.png\n",
      "1_zhaoqifeng_171.png\n",
      "1_zhaoqifeng_196.png\n",
      "1_zhaoqifeng_204.png\n",
      "1_zhaoqifeng_206.png\n",
      "1_zhaoqifeng_211.png\n",
      "1_zhaoqifeng_212.png\n",
      "1_zhaoqifeng_216.png\n",
      "1_zhaoqifeng_217.png\n",
      "1_zhaoqifeng_374.png\n",
      "1_zhaoqifeng_411.png\n",
      "1_zhaoqifeng_413.png\n",
      "1_zhaoqifeng_414.png\n",
      "1_zhaoqifeng_436.png\n",
      "1_zhujingchun_119.png\n",
      "1_zhujingchun_132.png\n",
      "1_zuochun_205.png\n",
      "1_zuochun_224.png\n",
      "1_zuochun_347.png\n",
      "1_zuochun_395.png\n",
      "1_zuochun_435.png\n",
      "1_zuochun_464.png\n",
      "1_zuochun_465.png\n",
      "1_zuochun_466.png\n",
      "1_zuochun_467.png\n",
      "1_zuochun_472.png\n",
      "1_zuochun_478.png\n",
      "1_zuochun_498.png\n",
      "1_zuochun_499.png\n",
      "1_zuochun_512.png\n",
      "1_zuochun_517.png\n",
      "1_zuochun_521.png\n",
      "1_zuochun_548.png\n",
      "1_zuochun_563.png\n",
      "1_zuochun_577.png\n",
      "2_chenxiu_173.png\n",
      "2_CTA1(+)_135.png\n",
      "2_yangxiangqin_141.png\n",
      "2_zhaoqifeng_136.png\n",
      "2_zhaoqifeng_146.png\n",
      "2_zuochun_137.png\n",
      "len of error 0:86\n"
     ]
    }
   ],
   "source": [
    "input_path='/nfs3-p1/zsxm/dataset/aorta_classify/0/'\n",
    "error_0_list = []\n",
    "for f in os.listdir(input_path):\n",
    "    img = Image.open(os.path.join(input_path, f))\n",
    "    img = transform(img).unsqueeze(0).to(device=device)\n",
    "    with torch.no_grad():\n",
    "        pred_cate = net(img)\n",
    "        if pred_cate.item() > 0:\n",
    "            print(f)\n",
    "            error_0_list.append(f)\n",
    "            \n",
    "print(f'len of error 0:{len(error_0_list)}')"
   ]
  },
  {
   "cell_type": "code",
   "execution_count": 89,
   "id": "bb7e19fc",
   "metadata": {},
   "outputs": [
    {
     "name": "stdout",
     "output_type": "stream",
     "text": [
      "1_fuhuajin-Im29-126_221.png\n",
      "1_fuhuajin-Im29-126_222.png\n",
      "1_fuhuajin-Im29-126_223.png\n",
      "len of error 1:3\n"
     ]
    }
   ],
   "source": [
    "input_path='/nfs3-p1/zsxm/dataset/aorta_classify/1/'\n",
    "error_1_list = []\n",
    "for f in os.listdir(input_path):\n",
    "    img = Image.open(os.path.join(input_path, f))\n",
    "    img = transform(img).unsqueeze(0).to(device=device)\n",
    "    with torch.no_grad():\n",
    "        pred_cate = net(img)\n",
    "        if pred_cate.item() < 0:\n",
    "            print(f)\n",
    "            error_1_list.append(f)\n",
    "            \n",
    "print(f'len of error 1:{len(error_1_list)}')"
   ]
  },
  {
   "cell_type": "code",
   "execution_count": null,
   "id": "14661bf1",
   "metadata": {},
   "outputs": [],
   "source": []
  }
 ],
 "metadata": {
  "kernelspec": {
   "display_name": "Python 3",
   "language": "python",
   "name": "python3"
  },
  "language_info": {
   "codemirror_mode": {
    "name": "ipython",
    "version": 3
   },
   "file_extension": ".py",
   "mimetype": "text/x-python",
   "name": "python",
   "nbconvert_exporter": "python",
   "pygments_lexer": "ipython3",
   "version": "3.8.10"
  }
 },
 "nbformat": 4,
 "nbformat_minor": 5
}
