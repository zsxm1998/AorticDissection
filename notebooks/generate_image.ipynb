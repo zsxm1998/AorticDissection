{
 "cells": [
  {
   "cell_type": "code",
   "execution_count": 1,
   "id": "be6e1342",
   "metadata": {},
   "outputs": [],
   "source": [
    "from math import sqrt\n",
    "import copy\n",
    "import  traceback\n",
    "import shutil\n",
    "import random\n",
    "\n",
    "import numpy as np  # linear algebra\n",
    "import pydicom\n",
    "import os\n",
    "import matplotlib.pyplot as plt\n",
    "import cv2\n",
    "from pydicom.uid import UID\n",
    "from PIL import Image\n",
    "from tqdm import tqdm"
   ]
  },
  {
   "cell_type": "code",
   "execution_count": 2,
   "id": "56a7f6bf",
   "metadata": {},
   "outputs": [],
   "source": [
    "def load_scan(path):\n",
    "    slices = [] #slices = [pydicom.dcmread(path + '/' + s) for s in filter(lambda x: x.endswith('.dcm'), os.listdir(path))]\n",
    "    for s in os.listdir(path):\n",
    "        if not s.endswith('.dcm'):\n",
    "            continue\n",
    "        sl = pydicom.dcmread(os.path.join(path, s))\n",
    "        try:\n",
    "            sl_p = sl.pixel_array\n",
    "        except AttributeError:\n",
    "            traceback.print_exc()\n",
    "            print(f'\\tDelete {os.path.join(path, s)}')\n",
    "            os.remove(os.path.join(path, s))\n",
    "        else:\n",
    "            slices.append(sl)\n",
    "    slices.sort(key=lambda x: float(x.InstanceNumber))\n",
    "    return slices"
   ]
  },
  {
   "cell_type": "code",
   "execution_count": 3,
   "id": "fe13ec63",
   "metadata": {},
   "outputs": [],
   "source": [
    "lower_b, upper_b = -100, 500"
   ]
  },
  {
   "cell_type": "markdown",
   "id": "840077c9",
   "metadata": {},
   "source": [
    "## 1.阳性数据"
   ]
  },
  {
   "cell_type": "code",
   "execution_count": null,
   "id": "aaf5ad23",
   "metadata": {
    "scrolled": true
   },
   "outputs": [],
   "source": [
    "# 将dcm文件根据窗宽窗位转化为png图片\n",
    "def generate_image(input_folder):\n",
    "    for patient in sorted(os.listdir(input_folder)):\n",
    "        if os.path.isfile(os.path.join(input_folder, patient)):\n",
    "            continue\n",
    "        print(f'****Processing {patient}****')\n",
    "        for scan in os.listdir(os.path.join(input_folder, patient)):\n",
    "            if scan != '1':\n",
    "                continue\n",
    "            name = patient #name = patient.split('-')[0]\n",
    "            image_path = os.path.join(input_folder, patient, scan, f'images_{lower_b}_{upper_b}')\n",
    "            if os.path.exists(image_path):\n",
    "                shutil.rmtree(image_path)\n",
    "            os.mkdir(image_path)\n",
    "\n",
    "            ct = load_scan(os.path.join(input_folder, patient, scan))\n",
    "\n",
    "            for i in range(len(ct)):\n",
    "                img = ct[i].pixel_array.astype(np.int16)\n",
    "                intercept = ct[i].RescaleIntercept\n",
    "                slope = ct[i].RescaleSlope\n",
    "                if slope != 1:\n",
    "                    img = (slope * img.astype(np.float64)).astype(np.int16)\n",
    "                img += np.int16(intercept)\n",
    "                img = np.clip(img, lower_b, upper_b)\n",
    "                img = ((img-lower_b)/(upper_b-lower_b)*255).astype(np.uint8)\n",
    "                img = Image.fromarray(img)\n",
    "                img.save(os.path.join(image_path, f'{name}_{i:04d}.png'))\n",
    "\n",
    "# generate_image('/nfs3-p1/zsxm/dataset/2021-9-8/')\n",
    "# generate_image('/nfs3-p1/zsxm/dataset/2021-9-13/')\n",
    "# generate_image('/nfs3-p1/zsxm/dataset/2021-9-19/')\n",
    "# generate_image('/nfs3-p1/zsxm/dataset/2021-9-28/')\n",
    "generate_image('/nfs3-p2/zsxm/dataset/2021-10-19-imh/')\n",
    "generate_image('/nfs3-p2/zsxm/dataset/2021-10-19-pau/')\n",
    "generate_image('/nfs3-p2/zsxm/dataset/2021-10-19-aa/')"
   ]
  },
  {
   "cell_type": "code",
   "execution_count": null,
   "id": "fdc7d988",
   "metadata": {
    "scrolled": true
   },
   "outputs": [],
   "source": [
    "# 将各个病例中的png图片文件夹统一移动到一起供yolov5检测\n",
    "def move_together_for_detect(input_folder, dst_path):\n",
    "    if not os.path.exists(dst_path):\n",
    "        os.mkdir(dst_path)\n",
    "    root_name = input_folder.split('/')[-1] if input_folder.split('/')[-1] != '' else input_folder.split('/')[-2]\n",
    "    dst_path = os.path.join(dst_path, root_name)\n",
    "\n",
    "    for patient in sorted(os.listdir(input_folder)):\n",
    "        if os.path.isfile(os.path.join(input_folder, patient)):\n",
    "            continue\n",
    "        print(f'****Processing {patient}****')\n",
    "        name = patient #name = patient.split('-')[0]\n",
    "        if os.path.exists(os.path.join(dst_path, name)):\n",
    "            print(f\"\\tremove {os.path.join(dst_path, name)}\")\n",
    "            shutil.rmtree(os.path.join(dst_path, name))\n",
    "\n",
    "        try:\n",
    "            shutil.copytree(os.path.join(input_folder, patient, '1', f'images_{lower_b}_{upper_b}'), os.path.join(dst_path, name))\n",
    "        except:\n",
    "            traceback.print_exc()\n",
    "\n",
    "# move_together_for_detect('/nfs3-p1/zsxm/dataset/2021-9-8/', '/nfs3-p1/zsxm/dataset/9_detect/')\n",
    "# move_together_for_detect('/nfs3-p1/zsxm/dataset/2021-9-13/', '/nfs3-p1/zsxm/dataset/9_detect/')\n",
    "# move_together_for_detect('/nfs3-p1/zsxm/dataset/2021-9-19/', '/nfs3-p1/zsxm/dataset/9_detect/')\n",
    "# move_together_for_detect('/nfs3-p1/zsxm/dataset/2021-9-28/', '/nfs3-p1/zsxm/dataset/9_detect/')\n",
    "# move_together_for_detect('/nfs3-p1/zsxm/dataset/2021-10-19-imh/', '/nfs3-p1/zsxm/dataset/9_detect/')\n",
    "# move_together_for_detect('/nfs3-p1/zsxm/dataset/2021-10-19-pau/', '/nfs3-p1/zsxm/dataset/9_detect/')\n",
    "move_together_for_detect('/nfs3-p2/zsxm/dataset/aorta_temp/', '/nfs3-p1/zsxm/dataset/9_detect/')"
   ]
  },
  {
   "cell_type": "code",
   "execution_count": null,
   "id": "9ff58dc3",
   "metadata": {},
   "outputs": [],
   "source": [
    "# shutil.move('/disk1/zsxm/pythonWorkspace/yolov5/runs/detect/2021-9-8', '/nfs3-p1/zsxm/dataset/9_detect/pred')\n",
    "# shutil.move('/disk1/zsxm/pythonWorkspace/yolov5/runs/detect/2021-9-13', '/nfs3-p1/zsxm/dataset/9_detect/pred')\n",
    "# shutil.move('/disk1/zsxm/pythonWorkspace/yolov5/runs/detect/2021-9-19', '/nfs3-p1/zsxm/dataset/9_detect/pred')\n",
    "# shutil.move('/disk1/zsxm/pythonWorkspace/yolov5/runs/detect/2021-9-28', '/nfs3-p1/zsxm/dataset/9_detect/pred')\n",
    "shutil.move('/disk1/zsxm/pythonWorkspace/yolov5/runs/detect/aorta_temp', '/nfs3-p1/zsxm/dataset/9_detect/pred')"
   ]
  },
  {
   "cell_type": "code",
   "execution_count": null,
   "id": "07a41e2b",
   "metadata": {
    "scrolled": true
   },
   "outputs": [],
   "source": [
    "# 用在更换窗宽窗位的时候，因为已经经过yolov5的检测生成了标签，故直接移动图片到images文件夹下即可\n",
    "def directly_move_to_image_label(input_folder, dst_path):\n",
    "    if not os.path.exists(dst_path):\n",
    "        os.mkdir(dst_path)\n",
    "\n",
    "    for patient in sorted(os.listdir(input_folder)):\n",
    "        if os.path.isfile(os.path.join(input_folder, patient)):\n",
    "            continue\n",
    "        print(f'****Processing {patient}****')\n",
    "        name = patient #name = patient.split('-')[0]\n",
    "        image_path = os.path.join(dst_path, name, 'images')\n",
    "        if os.path.exists(image_path):\n",
    "            print(f\"\\tremove {image_path}\")\n",
    "            shutil.rmtree(image_path)\n",
    "\n",
    "        try:\n",
    "            shutil.copytree(os.path.join(input_folder, patient, '1', f'images_{lower_b}_{upper_b}'), image_path)\n",
    "        except:\n",
    "            traceback.print_exc()\n",
    "            \n",
    "directly_move_to_image_label('/nfs3-p1/zsxm/dataset/2021-9-8/', '/nfs3-p1/zsxm/dataset/aorta_ct_img_label/positive')\n",
    "directly_move_to_image_label('/nfs3-p1/zsxm/dataset/2021-9-13/', '/nfs3-p1/zsxm/dataset/aorta_ct_img_label/positive')\n",
    "directly_move_to_image_label('/nfs3-p1/zsxm/dataset/2021-9-19/', '/nfs3-p1/zsxm/dataset/aorta_ct_img_label/positive_new')"
   ]
  },
  {
   "cell_type": "code",
   "execution_count": null,
   "id": "22933554",
   "metadata": {
    "scrolled": true
   },
   "outputs": [],
   "source": [
    "# 将移动到待测文件夹中的原图移动到images文件夹\n",
    "def move_ori_image_to_sigle_folder(input_path, dst_path):\n",
    "    if not os.path.exists(dst_path):\n",
    "        os.mkdir(dst_path)\n",
    "    for patient in os.listdir(input_path):\n",
    "        print(f'****Processing {patient}****')\n",
    "        if not os.path.exists(os.path.join(dst_path, patient)):\n",
    "            os.mkdir(os.path.join(dst_path, patient))\n",
    "        image_path = os.path.join(dst_path, patient, 'images')\n",
    "        if os.path.exists(image_path):\n",
    "            shutil.rmtree(image_path)\n",
    "        os.mkdir(image_path)\n",
    "        for img in os.listdir(os.path.join(input_path, patient)):\n",
    "            if os.path.isfile(os.path.join(input_path, patient, img)):\n",
    "                shutil.move(os.path.join(input_path, patient, img), os.path.join(image_path, img))\n",
    "        os.rmdir(os.path.join(input_path, patient))\n",
    "    os.rmdir(input_path)\n",
    "    \n",
    "# move_ori_image_to_sigle_folder('/nfs3-p1/zsxm/dataset/9_detect/2021-9-8/', '/nfs3-p1/zsxm/dataset/aorta_ct_img_label/positive')\n",
    "# move_ori_image_to_sigle_folder('/nfs3-p1/zsxm/dataset/9_detect/2021-9-13/', '/nfs3-p1/zsxm/dataset/aorta_ct_img_label/positive')\n",
    "# move_ori_image_to_sigle_folder('/nfs3-p1/zsxm/dataset/9_detect/2021-9-19/', '/nfs3-p1/zsxm/dataset/aorta_ct_img_label/positive')\n",
    "# move_ori_image_to_sigle_folder('/nfs3-p1/zsxm/dataset/9_detect/2021-9-28/', '/nfs3-p1/zsxm/dataset/aorta_ct_img_label/positive')\n",
    "move_ori_image_to_sigle_folder('/nfs3-p1/zsxm/dataset/9_detect/aorta_temp/', '/nfs3-p1/zsxm/dataset/aorta_ct_img_label/imh2')"
   ]
  },
  {
   "cell_type": "code",
   "execution_count": null,
   "id": "1f5b969c",
   "metadata": {
    "scrolled": true
   },
   "outputs": [],
   "source": [
    "# 将yolov5的检测结果（标签和带bounding box的图像）移动到相应文件夹\n",
    "def move_detect_result_to_folder(input_path, output_path):\n",
    "    for patient in os.listdir(input_path):\n",
    "        print(f'Processing {patient}')\n",
    "        image_path = os.path.join(output_path, patient, 'pred_images')\n",
    "        if os.path.exists(image_path):\n",
    "            shutil.rmtree(image_path)\n",
    "        os.mkdir(image_path)\n",
    "        for file in os.listdir(os.path.join(input_path, patient)):\n",
    "            if os.path.isfile(os.path.join(input_path, patient, file)):\n",
    "                shutil.move(os.path.join(input_path, patient, file), os.path.join(image_path, file))\n",
    "            elif os.path.isdir(os.path.join(input_path, patient, file)):\n",
    "                if os.path.exists(os.path.join(output_path, patient, file)):\n",
    "                    shutil.rmtree(os.path.join(output_path, patient, file))\n",
    "                shutil.move(os.path.join(input_path, patient, file), os.path.join(output_path, patient, file))\n",
    "        os.rmdir(os.path.join(input_path, patient))\n",
    "    os.rmdir(input_path)\n",
    "                \n",
    "# move_detect_result_to_folder('/nfs3-p1/zsxm/dataset/9_detect/pred/2021-9-8/', '/nfs3-p1/zsxm/dataset/aorta_ct_img_label/positive')\n",
    "# move_detect_result_to_folder('/nfs3-p1/zsxm/dataset/9_detect/pred/2021-9-13/', '/nfs3-p1/zsxm/dataset/aorta_ct_img_label/positive')\n",
    "# move_detect_result_to_folder('/nfs3-p1/zsxm/dataset/9_detect/pred/2021-9-19/', '/nfs3-p1/zsxm/dataset/aorta_ct_img_label/positive')\n",
    "# move_detect_result_to_folder('/nfs3-p1/zsxm/dataset/9_detect/pred/2021-9-28/', '/nfs3-p1/zsxm/dataset/aorta_ct_img_label/positive')\n",
    "move_detect_result_to_folder('/nfs3-p1/zsxm/dataset/9_detect/pred/aorta_temp/', '/nfs3-p1/zsxm/dataset/aorta_ct_img_label/imh2')"
   ]
  },
  {
   "cell_type": "code",
   "execution_count": null,
   "id": "9a10cf95",
   "metadata": {
    "scrolled": true
   },
   "outputs": [],
   "source": [
    "# 切出主动脉\n",
    "def find_coordinate(height, width, label_file, aorta):\n",
    "    with open(label_file, 'r') as f:\n",
    "        lines = f.readlines()\n",
    "    assert len(lines) <= 2, f'label.txt应该存储不多于2个label：{label_file.split(\"/\")[-1]}'\n",
    "    if len(lines) == 1:\n",
    "        assert aorta == 'j', f'如果只有一个label那么此时应为降主动脉, 但实际为{aorta}：{label_file.split(\"/\")[-1]}'\n",
    "        corr = list(map(lambda x: float(x), lines[0].split()))\n",
    "        x, y, w, h = corr[1], corr[2], corr[3], corr[4]\n",
    "        assert 0.25 < x < 0.75 and 0.2 < y < 0.8, f'边界框中心({x}, {y})出界：{label_file.split(\"/\")[-1]}'\n",
    "    else:\n",
    "        corr1, corr2 = list(map(lambda x: float(x), lines[0].split())), list(map(lambda x: float(x), lines[1].split()))\n",
    "        assert 0.25 < corr1[1] < 0.75 and 0.2 < corr1[2] < 0.8, f'边界框1中心({corr1[1]}, {corr1[2]})出界：{label_file.split(\"/\")[-1]}'\n",
    "        assert 0.25 < corr2[1] < 0.75 and 0.2 < corr2[2] < 0.8, f'边界框2中心({corr2[1]}, {corr2[2]})出界：{label_file.split(\"/\")[-1]}'\n",
    "        if aorta == 's':\n",
    "            x, y, w, h = (corr1[1], corr1[2], corr1[3], corr1[4]) if corr1[2] < corr2[2] else (corr2[1], corr2[2], corr2[3], corr2[4])\n",
    "        elif aorta == 'j':\n",
    "            x, y, w, h = (corr1[1], corr1[2], corr1[3], corr1[4]) if corr1[2] > corr2[2] else (corr2[1], corr2[2], corr2[3], corr2[4])\n",
    "        else:\n",
    "            raise Exception(f'aorta 应该为\"s\"或\"j\"其中之一: {label_file.split(\"/\")[-1]}')\n",
    "    w, h = int(width*w), int(height*h)\n",
    "    w, h = max(w, h), max(w, h)\n",
    "    return int(width*x-w/2), int(height*y-h/2), int(width*x+w/2+1), int(height*y+h/2+1)\n",
    "\n",
    "def crop_images(input_path, error_patient_list):\n",
    "    for patient in sorted(os.listdir(input_path)):\n",
    "        print(f'******Processing {patient}******')\n",
    "        image_path = os.path.join(input_path, patient, 'images')\n",
    "        label_path = os.path.join(input_path, patient, 'labels')\n",
    "        crop_path = os.path.join(input_path, patient, 'crops')\n",
    "        if os.path.exists(crop_path):\n",
    "            shutil.rmtree(crop_path)\n",
    "        os.mkdir(crop_path)\n",
    "        pl = patient.lower().split('-')\n",
    "        for i, s in enumerate(pl):\n",
    "            if i!=0 and s.startswith('im'):\n",
    "                pl[i] = s.replace('im', '')\n",
    "        crop_flag = True\n",
    "        for i, s in enumerate(pl):\n",
    "            if s != 's' and s != 'j':\n",
    "                continue\n",
    "            start, end = int(pl[i+1])-1, int(pl[i+2])\n",
    "            for j in range(start, end):\n",
    "                img = Image.open(os.path.join(image_path, f'{patient}_{j:04d}.png'))\n",
    "                img = np.array(img)\n",
    "                try:\n",
    "                    x1, y1, x2, y2 = find_coordinate(*img.shape[0:2], os.path.join(label_path, f'{patient}_{j:04d}.txt'), s)\n",
    "                except:\n",
    "                    traceback.print_exc()\n",
    "                    crop_flag = False\n",
    "                else:#if crop_flag:\n",
    "                    crop = img[y1:y2, x1:x2]\n",
    "                    crop = Image.fromarray(crop)\n",
    "                    crop.save(os.path.join(crop_path, f'{patient}_{s}_{j:04d}.png'))\n",
    "        if not crop_flag:\n",
    "            #print('Delete crop_path')\n",
    "            #shutil.rmtree(crop_path)\n",
    "            error_patient_list.append(patient)\n",
    "\n",
    "epl1 = []\n",
    "epl2 = []\n",
    "\n",
    "crop_images('/nfs3-p1/zsxm/dataset/aorta_ct_img_label/imh2', epl1)\n",
    "# print('++++++++++++++++++++++++++++++++++++++++++++++++++++++++++++++++++++++++++++++++++')\n",
    "# print('++++++++++++++++++++++++++++++++++++++++++++++++++++++++++++++++++++++++++++++++++')\n",
    "# print('++++++++++++++++++++++++++++++++++++++++++++++++++++++++++++++++++++++++++++++++++')\n",
    "# print('++++++++++++++++++++++++++++++++++++++++++++++++++++++++++++++++++++++++++++++++++')\n",
    "# print('++++++++++++++++++++++++++++++++++++++++++++++++++++++++++++++++++++++++++++++++++')\n",
    "# crop_images('/nfs3-p1/zsxm/dataset/aorta_ct_img_label/pau', epl2)"
   ]
  },
  {
   "cell_type": "code",
   "execution_count": null,
   "id": "86184053",
   "metadata": {},
   "outputs": [],
   "source": [
    "print(len(epl1))\n",
    "print(epl1)\n",
    "# print(len(epl2))\n",
    "# print(epl2)"
   ]
  },
  {
   "cell_type": "code",
   "execution_count": null,
   "id": "8c28d9f3",
   "metadata": {
    "scrolled": true
   },
   "outputs": [],
   "source": [
    "# # 将切出的主动脉移动到一起\n",
    "# def move_to_classify(input_root, output_path):\n",
    "#     if not os.path.exists(output_path):\n",
    "#         os.makedirs(output_path)\n",
    "    \n",
    "#     for patient in os.listdir(input_root):\n",
    "#         if os.path.isfile(os.path.join(input_root, patient)):\n",
    "#             continue\n",
    "#         print(f'****Processing {patient}****')\n",
    "#         for file in os.listdir(os.path.join(input_root, patient, 'crops')):\n",
    "#             shutil.copy(os.path.join(input_root, patient, 'crops', file), output_path)\n",
    "\n",
    "# move_to_classify('/nfs3-p1/zsxm/dataset/aorta_ct_img_label/positive/', f'/nfs3-p1/zsxm/dataset/aorta_classify_ct_{lower_b}_{upper_b}/1')\n",
    "# move_to_classify('/nfs3-p1/zsxm/dataset/aorta_ct_img_label/positive_new/', f'/nfs3-p1/zsxm/dataset/aorta_classify_ct_{lower_b}_{upper_b}/1')"
   ]
  },
  {
   "cell_type": "code",
   "execution_count": 5,
   "id": "4c386fdb",
   "metadata": {},
   "outputs": [
    {
     "name": "stdout",
     "output_type": "stream",
     "text": [
      "******Processing baochunsheng-J-20-82******\n",
      "******Processing baojinan-J-24-87******\n"
     ]
    },
    {
     "name": "stderr",
     "output_type": "stream",
     "text": [
      "Traceback (most recent call last):\n",
      "  File \"/tmp/ipykernel_37540/132599818.py\", line 47, in crop_images\n",
      "    x1, y1, x2, y2 = find_coordinate(*img.shape[0:2], os.path.join(label_path, f'{patient}_{j:04d}.txt'), s)\n",
      "  File \"/tmp/ipykernel_37540/132599818.py\", line 3, in find_coordinate\n",
      "    with open(label_file, 'r') as f:\n",
      "FileNotFoundError: [Errno 2] No such file or directory: '/nfs3-p1/zsxm/dataset/aorta_ct_img_label/positive/baojinan-J-24-87/labels/baojinan-J-24-87_0076.txt'\n",
      "Traceback (most recent call last):\n",
      "  File \"/tmp/ipykernel_37540/132599818.py\", line 47, in crop_images\n",
      "    x1, y1, x2, y2 = find_coordinate(*img.shape[0:2], os.path.join(label_path, f'{patient}_{j:04d}.txt'), s)\n",
      "  File \"/tmp/ipykernel_37540/132599818.py\", line 3, in find_coordinate\n",
      "    with open(label_file, 'r') as f:\n",
      "FileNotFoundError: [Errno 2] No such file or directory: '/nfs3-p1/zsxm/dataset/aorta_ct_img_label/positive/baojinan-J-24-87/labels/baojinan-J-24-87_0088.txt'\n",
      "Traceback (most recent call last):\n",
      "  File \"/tmp/ipykernel_37540/132599818.py\", line 47, in crop_images\n",
      "    x1, y1, x2, y2 = find_coordinate(*img.shape[0:2], os.path.join(label_path, f'{patient}_{j:04d}.txt'), s)\n",
      "  File \"/tmp/ipykernel_37540/132599818.py\", line 7, in find_coordinate\n",
      "    assert aorta == 'j', f'如果只有一个label那么此时应为降主动脉, 但实际为{aorta}：{label_file.split(\"/\")[-1]}'\n",
      "AssertionError: 如果只有一个label那么此时应为降主动脉, 但实际为s：baoyin-S-Im9-22-J-Im9-68_0005.txt\n",
      "Traceback (most recent call last):\n",
      "  File \"/tmp/ipykernel_37540/132599818.py\", line 47, in crop_images\n",
      "    x1, y1, x2, y2 = find_coordinate(*img.shape[0:2], os.path.join(label_path, f'{patient}_{j:04d}.txt'), s)\n",
      "  File \"/tmp/ipykernel_37540/132599818.py\", line 7, in find_coordinate\n",
      "    assert aorta == 'j', f'如果只有一个label那么此时应为降主动脉, 但实际为{aorta}：{label_file.split(\"/\")[-1]}'\n",
      "AssertionError: 如果只有一个label那么此时应为降主动脉, 但实际为s：baoyin-S-Im9-22-J-Im9-68_0006.txt\n"
     ]
    },
    {
     "name": "stdout",
     "output_type": "stream",
     "text": [
      "******Processing baoyin-S-Im9-22-J-Im9-68******\n"
     ]
    },
    {
     "name": "stderr",
     "output_type": "stream",
     "text": [
      "Traceback (most recent call last):\n",
      "  File \"/tmp/ipykernel_37540/132599818.py\", line 47, in crop_images\n",
      "    x1, y1, x2, y2 = find_coordinate(*img.shape[0:2], os.path.join(label_path, f'{patient}_{j:04d}.txt'), s)\n",
      "  File \"/tmp/ipykernel_37540/132599818.py\", line 3, in find_coordinate\n",
      "    with open(label_file, 'r') as f:\n",
      "FileNotFoundError: [Errno 2] No such file or directory: '/nfs3-p1/zsxm/dataset/aorta_ct_img_label/positive/baoyin-S-Im9-22-J-Im9-68/labels/baoyin-S-Im9-22-J-Im9-68_0065.txt'\n",
      "Traceback (most recent call last):\n",
      "  File \"/tmp/ipykernel_37540/132599818.py\", line 47, in crop_images\n",
      "    x1, y1, x2, y2 = find_coordinate(*img.shape[0:2], os.path.join(label_path, f'{patient}_{j:04d}.txt'), s)\n",
      "  File \"/tmp/ipykernel_37540/132599818.py\", line 3, in find_coordinate\n",
      "    with open(label_file, 'r') as f:\n",
      "FileNotFoundError: [Errno 2] No such file or directory: '/nfs3-p1/zsxm/dataset/aorta_ct_img_label/positive/baoyin-S-Im9-22-J-Im9-68/labels/baoyin-S-Im9-22-J-Im9-68_0066.txt'\n"
     ]
    },
    {
     "name": "stdout",
     "output_type": "stream",
     "text": [
      "******Processing baozuoshi-J-16-79******\n",
      "******Processing caijilu-J-Im41-87******\n",
      "******Processing caimeiju-J-Im21-81******\n",
      "******Processing caiweiguang-J-Im35-152******\n",
      "******Processing caiying-J-Im34-52******\n",
      "******Processing changzhenxuan-J-15-55******\n",
      "******Processing chenaijiao-J-26-41******\n",
      "******Processing chenaijun-S-Im25-38-J-Im25-85******\n"
     ]
    },
    {
     "name": "stderr",
     "output_type": "stream",
     "text": [
      "Traceback (most recent call last):\n",
      "  File \"/tmp/ipykernel_37540/132599818.py\", line 47, in crop_images\n",
      "    x1, y1, x2, y2 = find_coordinate(*img.shape[0:2], os.path.join(label_path, f'{patient}_{j:04d}.txt'), s)\n",
      "  File \"/tmp/ipykernel_37540/132599818.py\", line 7, in find_coordinate\n",
      "    assert aorta == 'j', f'如果只有一个label那么此时应为降主动脉, 但实际为{aorta}：{label_file.split(\"/\")[-1]}'\n",
      "AssertionError: 如果只有一个label那么此时应为降主动脉, 但实际为s：chenaijun-S-Im25-38-J-Im25-85_0021.txt\n",
      "Traceback (most recent call last):\n",
      "  File \"/tmp/ipykernel_37540/132599818.py\", line 47, in crop_images\n",
      "    x1, y1, x2, y2 = find_coordinate(*img.shape[0:2], os.path.join(label_path, f'{patient}_{j:04d}.txt'), s)\n",
      "  File \"/tmp/ipykernel_37540/132599818.py\", line 7, in find_coordinate\n",
      "    assert aorta == 'j', f'如果只有一个label那么此时应为降主动脉, 但实际为{aorta}：{label_file.split(\"/\")[-1]}'\n",
      "AssertionError: 如果只有一个label那么此时应为降主动脉, 但实际为s：chenaijun-S-Im25-38-J-Im25-85_0022.txt\n"
     ]
    },
    {
     "name": "stdout",
     "output_type": "stream",
     "text": [
      "******Processing chenazhao-S-Im17-30******\n"
     ]
    },
    {
     "name": "stderr",
     "output_type": "stream",
     "text": [
      "Traceback (most recent call last):\n",
      "  File \"/tmp/ipykernel_37540/132599818.py\", line 47, in crop_images\n",
      "    x1, y1, x2, y2 = find_coordinate(*img.shape[0:2], os.path.join(label_path, f'{patient}_{j:04d}.txt'), s)\n",
      "  File \"/tmp/ipykernel_37540/132599818.py\", line 7, in find_coordinate\n",
      "    assert aorta == 'j', f'如果只有一个label那么此时应为降主动脉, 但实际为{aorta}：{label_file.split(\"/\")[-1]}'\n",
      "AssertionError: 如果只有一个label那么此时应为降主动脉, 但实际为s：chenazhao-S-Im17-30_0013.txt\n",
      "Traceback (most recent call last):\n",
      "  File \"/tmp/ipykernel_37540/132599818.py\", line 47, in crop_images\n",
      "    x1, y1, x2, y2 = find_coordinate(*img.shape[0:2], os.path.join(label_path, f'{patient}_{j:04d}.txt'), s)\n",
      "  File \"/tmp/ipykernel_37540/132599818.py\", line 7, in find_coordinate\n",
      "    assert aorta == 'j', f'如果只有一个label那么此时应为降主动脉, 但实际为{aorta}：{label_file.split(\"/\")[-1]}'\n",
      "AssertionError: 如果只有一个label那么此时应为降主动脉, 但实际为s：chenazhao-S-Im17-30_0014.txt\n"
     ]
    },
    {
     "name": "stdout",
     "output_type": "stream",
     "text": [
      "******Processing chenbo-S-Im24-45-J-Im24-97******\n",
      "******Processing chencaiying-J-19-79******\n"
     ]
    },
    {
     "name": "stderr",
     "output_type": "stream",
     "text": [
      "Traceback (most recent call last):\n",
      "  File \"/tmp/ipykernel_37540/132599818.py\", line 47, in crop_images\n",
      "    x1, y1, x2, y2 = find_coordinate(*img.shape[0:2], os.path.join(label_path, f'{patient}_{j:04d}.txt'), s)\n",
      "  File \"/tmp/ipykernel_37540/132599818.py\", line 3, in find_coordinate\n",
      "    with open(label_file, 'r') as f:\n",
      "FileNotFoundError: [Errno 2] No such file or directory: '/nfs3-p1/zsxm/dataset/aorta_ct_img_label/positive/chencaiying-J-19-79/labels/chencaiying-J-19-79_0071.txt'\n",
      "Traceback (most recent call last):\n",
      "  File \"/tmp/ipykernel_37540/132599818.py\", line 47, in crop_images\n",
      "    x1, y1, x2, y2 = find_coordinate(*img.shape[0:2], os.path.join(label_path, f'{patient}_{j:04d}.txt'), s)\n",
      "  File \"/tmp/ipykernel_37540/132599818.py\", line 3, in find_coordinate\n",
      "    with open(label_file, 'r') as f:\n",
      "FileNotFoundError: [Errno 2] No such file or directory: '/nfs3-p1/zsxm/dataset/aorta_ct_img_label/positive/chencaiying-J-19-79/labels/chencaiying-J-19-79_0078.txt'\n"
     ]
    },
    {
     "name": "stdout",
     "output_type": "stream",
     "text": [
      "******Processing chenfujun-J-Im43-100******\n",
      "******Processing chenfuliang-S-21-31-J-21-84******\n"
     ]
    },
    {
     "name": "stderr",
     "output_type": "stream",
     "text": [
      "Traceback (most recent call last):\n",
      "  File \"/tmp/ipykernel_37540/132599818.py\", line 47, in crop_images\n",
      "    x1, y1, x2, y2 = find_coordinate(*img.shape[0:2], os.path.join(label_path, f'{patient}_{j:04d}.txt'), s)\n",
      "  File \"/tmp/ipykernel_37540/132599818.py\", line 7, in find_coordinate\n",
      "    assert aorta == 'j', f'如果只有一个label那么此时应为降主动脉, 但实际为{aorta}：{label_file.split(\"/\")[-1]}'\n",
      "AssertionError: 如果只有一个label那么此时应为降主动脉, 但实际为s：chenfuliang-S-21-31-J-21-84_0017.txt\n",
      "Traceback (most recent call last):\n",
      "  File \"/tmp/ipykernel_37540/132599818.py\", line 47, in crop_images\n",
      "    x1, y1, x2, y2 = find_coordinate(*img.shape[0:2], os.path.join(label_path, f'{patient}_{j:04d}.txt'), s)\n",
      "  File \"/tmp/ipykernel_37540/132599818.py\", line 7, in find_coordinate\n",
      "    assert aorta == 'j', f'如果只有一个label那么此时应为降主动脉, 但实际为{aorta}：{label_file.split(\"/\")[-1]}'\n",
      "AssertionError: 如果只有一个label那么此时应为降主动脉, 但实际为s：chenfuliang-S-21-31-J-21-84_0018.txt\n"
     ]
    },
    {
     "name": "stdout",
     "output_type": "stream",
     "text": [
      "******Processing chenganyao-J-19-40******\n",
      "******Processing chengdazhong-J-Im24-38******\n",
      "******Processing chenggang-J-Im18-81******\n",
      "******Processing chenglongdeng-S-Im21-33-J-Im21-78******\n"
     ]
    },
    {
     "name": "stderr",
     "output_type": "stream",
     "text": [
      "Traceback (most recent call last):\n",
      "  File \"/tmp/ipykernel_37540/132599818.py\", line 47, in crop_images\n",
      "    x1, y1, x2, y2 = find_coordinate(*img.shape[0:2], os.path.join(label_path, f'{patient}_{j:04d}.txt'), s)\n",
      "  File \"/tmp/ipykernel_37540/132599818.py\", line 7, in find_coordinate\n",
      "    assert aorta == 'j', f'如果只有一个label那么此时应为降主动脉, 但实际为{aorta}：{label_file.split(\"/\")[-1]}'\n",
      "AssertionError: 如果只有一个label那么此时应为降主动脉, 但实际为s：chenglongdeng-S-Im21-33-J-Im21-78_0017.txt\n",
      "Traceback (most recent call last):\n",
      "  File \"/tmp/ipykernel_37540/132599818.py\", line 47, in crop_images\n",
      "    x1, y1, x2, y2 = find_coordinate(*img.shape[0:2], os.path.join(label_path, f'{patient}_{j:04d}.txt'), s)\n",
      "  File \"/tmp/ipykernel_37540/132599818.py\", line 7, in find_coordinate\n",
      "    assert aorta == 'j', f'如果只有一个label那么此时应为降主动脉, 但实际为{aorta}：{label_file.split(\"/\")[-1]}'\n",
      "AssertionError: 如果只有一个label那么此时应为降主动脉, 但实际为s：chenglongdeng-S-Im21-33-J-Im21-78_0018.txt\n",
      "Traceback (most recent call last):\n",
      "  File \"/tmp/ipykernel_37540/132599818.py\", line 47, in crop_images\n",
      "    x1, y1, x2, y2 = find_coordinate(*img.shape[0:2], os.path.join(label_path, f'{patient}_{j:04d}.txt'), s)\n",
      "  File \"/tmp/ipykernel_37540/132599818.py\", line 7, in find_coordinate\n",
      "    assert aorta == 'j', f'如果只有一个label那么此时应为降主动脉, 但实际为{aorta}：{label_file.split(\"/\")[-1]}'\n",
      "AssertionError: 如果只有一个label那么此时应为降主动脉, 但实际为s：chenglongdeng-S-Im21-33-J-Im21-78_0019.txt\n"
     ]
    },
    {
     "name": "stdout",
     "output_type": "stream",
     "text": [
      "******Processing chengshizheng-J-Im30-145******\n",
      "******Processing chenguorong-J-Im18-77******\n",
      "******Processing chengyonghui-J-17-81******\n"
     ]
    },
    {
     "name": "stderr",
     "output_type": "stream",
     "text": [
      "Traceback (most recent call last):\n",
      "  File \"/tmp/ipykernel_37540/132599818.py\", line 47, in crop_images\n",
      "    x1, y1, x2, y2 = find_coordinate(*img.shape[0:2], os.path.join(label_path, f'{patient}_{j:04d}.txt'), s)\n",
      "  File \"/tmp/ipykernel_37540/132599818.py\", line 3, in find_coordinate\n",
      "    with open(label_file, 'r') as f:\n",
      "FileNotFoundError: [Errno 2] No such file or directory: '/nfs3-p1/zsxm/dataset/aorta_ct_img_label/positive/chengyonghui-J-17-81/labels/chengyonghui-J-17-81_0083.txt'\n",
      "Traceback (most recent call last):\n",
      "  File \"/tmp/ipykernel_37540/132599818.py\", line 47, in crop_images\n",
      "    x1, y1, x2, y2 = find_coordinate(*img.shape[0:2], os.path.join(label_path, f'{patient}_{j:04d}.txt'), s)\n",
      "  File \"/tmp/ipykernel_37540/132599818.py\", line 7, in find_coordinate\n",
      "    assert aorta == 'j', f'如果只有一个label那么此时应为降主动脉, 但实际为{aorta}：{label_file.split(\"/\")[-1]}'\n",
      "AssertionError: 如果只有一个label那么此时应为降主动脉, 但实际为s：chenhui-S-17-25-J-17-87_0013.txt\n",
      "Traceback (most recent call last):\n",
      "  File \"/tmp/ipykernel_37540/132599818.py\", line 47, in crop_images\n",
      "    x1, y1, x2, y2 = find_coordinate(*img.shape[0:2], os.path.join(label_path, f'{patient}_{j:04d}.txt'), s)\n",
      "  File \"/tmp/ipykernel_37540/132599818.py\", line 7, in find_coordinate\n",
      "    assert aorta == 'j', f'如果只有一个label那么此时应为降主动脉, 但实际为{aorta}：{label_file.split(\"/\")[-1]}'\n",
      "AssertionError: 如果只有一个label那么此时应为降主动脉, 但实际为s：chenhui-S-17-25-J-17-87_0014.txt\n",
      "Traceback (most recent call last):\n",
      "  File \"/tmp/ipykernel_37540/132599818.py\", line 47, in crop_images\n",
      "    x1, y1, x2, y2 = find_coordinate(*img.shape[0:2], os.path.join(label_path, f'{patient}_{j:04d}.txt'), s)\n",
      "  File \"/tmp/ipykernel_37540/132599818.py\", line 7, in find_coordinate\n",
      "    assert aorta == 'j', f'如果只有一个label那么此时应为降主动脉, 但实际为{aorta}：{label_file.split(\"/\")[-1]}'\n",
      "AssertionError: 如果只有一个label那么此时应为降主动脉, 但实际为s：chenhui-S-17-25-J-17-87_0015.txt\n"
     ]
    },
    {
     "name": "stdout",
     "output_type": "stream",
     "text": [
      "******Processing chenhui-S-17-25-J-17-87******\n"
     ]
    },
    {
     "name": "stderr",
     "output_type": "stream",
     "text": [
      "Traceback (most recent call last):\n",
      "  File \"/tmp/ipykernel_37540/132599818.py\", line 47, in crop_images\n",
      "    x1, y1, x2, y2 = find_coordinate(*img.shape[0:2], os.path.join(label_path, f'{patient}_{j:04d}.txt'), s)\n",
      "  File \"/tmp/ipykernel_37540/132599818.py\", line 3, in find_coordinate\n",
      "    with open(label_file, 'r') as f:\n",
      "FileNotFoundError: [Errno 2] No such file or directory: '/nfs3-p1/zsxm/dataset/aorta_ct_img_label/positive/chenhui-S-17-25-J-17-87/labels/chenhui-S-17-25-J-17-87_0089.txt'\n"
     ]
    },
    {
     "name": "stdout",
     "output_type": "stream",
     "text": [
      "******Processing chenjian-J-Im14-81******\n",
      "******Processing chenjiandong-S-19-28-J-19-91******\n"
     ]
    },
    {
     "name": "stderr",
     "output_type": "stream",
     "text": [
      "Traceback (most recent call last):\n",
      "  File \"/tmp/ipykernel_37540/132599818.py\", line 47, in crop_images\n",
      "    x1, y1, x2, y2 = find_coordinate(*img.shape[0:2], os.path.join(label_path, f'{patient}_{j:04d}.txt'), s)\n",
      "  File \"/tmp/ipykernel_37540/132599818.py\", line 7, in find_coordinate\n",
      "    assert aorta == 'j', f'如果只有一个label那么此时应为降主动脉, 但实际为{aorta}：{label_file.split(\"/\")[-1]}'\n",
      "AssertionError: 如果只有一个label那么此时应为降主动脉, 但实际为s：chenjiandong-S-19-28-J-19-91_0015.txt\n",
      "Traceback (most recent call last):\n",
      "  File \"/tmp/ipykernel_37540/132599818.py\", line 47, in crop_images\n",
      "    x1, y1, x2, y2 = find_coordinate(*img.shape[0:2], os.path.join(label_path, f'{patient}_{j:04d}.txt'), s)\n",
      "  File \"/tmp/ipykernel_37540/132599818.py\", line 7, in find_coordinate\n",
      "    assert aorta == 'j', f'如果只有一个label那么此时应为降主动脉, 但实际为{aorta}：{label_file.split(\"/\")[-1]}'\n",
      "AssertionError: 如果只有一个label那么此时应为降主动脉, 但实际为s：chenjiandong-S-19-28-J-19-91_0016.txt\n"
     ]
    },
    {
     "name": "stdout",
     "output_type": "stream",
     "text": [
      "******Processing chenjinfa-J-Im34-105******\n",
      "******Processing chenjufa-J-16-66******\n",
      "******Processing chenjuli-J-Im18-49******\n",
      "******Processing chenjun-J-Im33-137******\n",
      "******Processing chenlibo-S-Im39-57******\n"
     ]
    },
    {
     "name": "stderr",
     "output_type": "stream",
     "text": [
      "Traceback (most recent call last):\n",
      "  File \"/tmp/ipykernel_37540/132599818.py\", line 47, in crop_images\n",
      "    x1, y1, x2, y2 = find_coordinate(*img.shape[0:2], os.path.join(label_path, f'{patient}_{j:04d}.txt'), s)\n",
      "  File \"/tmp/ipykernel_37540/132599818.py\", line 7, in find_coordinate\n",
      "    assert aorta == 'j', f'如果只有一个label那么此时应为降主动脉, 但实际为{aorta}：{label_file.split(\"/\")[-1]}'\n",
      "AssertionError: 如果只有一个label那么此时应为降主动脉, 但实际为s：chenlibo-S-Im39-57_0035.txt\n",
      "Traceback (most recent call last):\n",
      "  File \"/tmp/ipykernel_37540/132599818.py\", line 47, in crop_images\n",
      "    x1, y1, x2, y2 = find_coordinate(*img.shape[0:2], os.path.join(label_path, f'{patient}_{j:04d}.txt'), s)\n",
      "  File \"/tmp/ipykernel_37540/132599818.py\", line 7, in find_coordinate\n",
      "    assert aorta == 'j', f'如果只有一个label那么此时应为降主动脉, 但实际为{aorta}：{label_file.split(\"/\")[-1]}'\n",
      "AssertionError: 如果只有一个label那么此时应为降主动脉, 但实际为s：chenlibo-S-Im39-57_0036.txt\n",
      "Traceback (most recent call last):\n",
      "  File \"/tmp/ipykernel_37540/132599818.py\", line 47, in crop_images\n",
      "    x1, y1, x2, y2 = find_coordinate(*img.shape[0:2], os.path.join(label_path, f'{patient}_{j:04d}.txt'), s)\n",
      "  File \"/tmp/ipykernel_37540/132599818.py\", line 7, in find_coordinate\n",
      "    assert aorta == 'j', f'如果只有一个label那么此时应为降主动脉, 但实际为{aorta}：{label_file.split(\"/\")[-1]}'\n",
      "AssertionError: 如果只有一个label那么此时应为降主动脉, 但实际为s：chenlibo-S-Im39-57_0037.txt\n"
     ]
    },
    {
     "name": "stdout",
     "output_type": "stream",
     "text": [
      "******Processing chenlili-S-Im18-24-J-Im18-74******\n"
     ]
    },
    {
     "name": "stderr",
     "output_type": "stream",
     "text": [
      "Traceback (most recent call last):\n",
      "  File \"/tmp/ipykernel_37540/132599818.py\", line 47, in crop_images\n",
      "    x1, y1, x2, y2 = find_coordinate(*img.shape[0:2], os.path.join(label_path, f'{patient}_{j:04d}.txt'), s)\n",
      "  File \"/tmp/ipykernel_37540/132599818.py\", line 7, in find_coordinate\n",
      "    assert aorta == 'j', f'如果只有一个label那么此时应为降主动脉, 但实际为{aorta}：{label_file.split(\"/\")[-1]}'\n",
      "AssertionError: 如果只有一个label那么此时应为降主动脉, 但实际为s：chenlili-S-Im18-24-J-Im18-74_0014.txt\n",
      "Traceback (most recent call last):\n",
      "  File \"/tmp/ipykernel_37540/132599818.py\", line 47, in crop_images\n",
      "    x1, y1, x2, y2 = find_coordinate(*img.shape[0:2], os.path.join(label_path, f'{patient}_{j:04d}.txt'), s)\n",
      "  File \"/tmp/ipykernel_37540/132599818.py\", line 7, in find_coordinate\n",
      "    assert aorta == 'j', f'如果只有一个label那么此时应为降主动脉, 但实际为{aorta}：{label_file.split(\"/\")[-1]}'\n",
      "AssertionError: 如果只有一个label那么此时应为降主动脉, 但实际为s：chenlili-S-Im18-24-J-Im18-74_0015.txt\n"
     ]
    },
    {
     "name": "stdout",
     "output_type": "stream",
     "text": [
      "******Processing chenmimao-S-Im32-40******\n"
     ]
    },
    {
     "name": "stderr",
     "output_type": "stream",
     "text": [
      "Traceback (most recent call last):\n",
      "  File \"/tmp/ipykernel_37540/132599818.py\", line 47, in crop_images\n",
      "    x1, y1, x2, y2 = find_coordinate(*img.shape[0:2], os.path.join(label_path, f'{patient}_{j:04d}.txt'), s)\n",
      "  File \"/tmp/ipykernel_37540/132599818.py\", line 7, in find_coordinate\n",
      "    assert aorta == 'j', f'如果只有一个label那么此时应为降主动脉, 但实际为{aorta}：{label_file.split(\"/\")[-1]}'\n",
      "AssertionError: 如果只有一个label那么此时应为降主动脉, 但实际为s：chenmimao-S-Im32-40_0028.txt\n"
     ]
    },
    {
     "name": "stdout",
     "output_type": "stream",
     "text": [
      "******Processing chenmin-J-Im26-67******\n",
      "******Processing chenping-J-Im23-88******\n",
      "******Processing chenqiusheng-J-Im34-143******\n",
      "******Processing chenrugu-J-Im21-79******\n",
      "******Processing chensheng-J-Im31-91******\n",
      "******Processing chensiqi-S-17-28-J-17-69******\n"
     ]
    },
    {
     "name": "stderr",
     "output_type": "stream",
     "text": [
      "Traceback (most recent call last):\n",
      "  File \"/tmp/ipykernel_37540/132599818.py\", line 47, in crop_images\n",
      "    x1, y1, x2, y2 = find_coordinate(*img.shape[0:2], os.path.join(label_path, f'{patient}_{j:04d}.txt'), s)\n",
      "  File \"/tmp/ipykernel_37540/132599818.py\", line 7, in find_coordinate\n",
      "    assert aorta == 'j', f'如果只有一个label那么此时应为降主动脉, 但实际为{aorta}：{label_file.split(\"/\")[-1]}'\n",
      "AssertionError: 如果只有一个label那么此时应为降主动脉, 但实际为s：chensiqi-S-17-28-J-17-69_0013.txt\n",
      "Traceback (most recent call last):\n",
      "  File \"/tmp/ipykernel_37540/132599818.py\", line 47, in crop_images\n",
      "    x1, y1, x2, y2 = find_coordinate(*img.shape[0:2], os.path.join(label_path, f'{patient}_{j:04d}.txt'), s)\n",
      "  File \"/tmp/ipykernel_37540/132599818.py\", line 7, in find_coordinate\n",
      "    assert aorta == 'j', f'如果只有一个label那么此时应为降主动脉, 但实际为{aorta}：{label_file.split(\"/\")[-1]}'\n",
      "AssertionError: 如果只有一个label那么此时应为降主动脉, 但实际为s：chensiqi-S-17-28-J-17-69_0014.txt\n",
      "Traceback (most recent call last):\n",
      "  File \"/tmp/ipykernel_37540/132599818.py\", line 47, in crop_images\n",
      "    x1, y1, x2, y2 = find_coordinate(*img.shape[0:2], os.path.join(label_path, f'{patient}_{j:04d}.txt'), s)\n",
      "  File \"/tmp/ipykernel_37540/132599818.py\", line 7, in find_coordinate\n",
      "    assert aorta == 'j', f'如果只有一个label那么此时应为降主动脉, 但实际为{aorta}：{label_file.split(\"/\")[-1]}'\n",
      "AssertionError: 如果只有一个label那么此时应为降主动脉, 但实际为s：chensiqi-S-17-28-J-17-69_0015.txt\n"
     ]
    },
    {
     "name": "stdout",
     "output_type": "stream",
     "text": [
      "******Processing chenweimin-J-Im20-36******\n",
      "******Processing chenwenhua-J-Im41-158******\n",
      "******Processing chenxiaoxiang-J-Im23-88******\n",
      "******Processing chenxuehua-S-Im17-27-J-Im17-35******\n"
     ]
    },
    {
     "name": "stderr",
     "output_type": "stream",
     "text": [
      "Traceback (most recent call last):\n",
      "  File \"/tmp/ipykernel_37540/132599818.py\", line 47, in crop_images\n",
      "    x1, y1, x2, y2 = find_coordinate(*img.shape[0:2], os.path.join(label_path, f'{patient}_{j:04d}.txt'), s)\n",
      "  File \"/tmp/ipykernel_37540/132599818.py\", line 7, in find_coordinate\n",
      "    assert aorta == 'j', f'如果只有一个label那么此时应为降主动脉, 但实际为{aorta}：{label_file.split(\"/\")[-1]}'\n",
      "AssertionError: 如果只有一个label那么此时应为降主动脉, 但实际为s：chenxuehua-S-Im17-27-J-Im17-35_0013.txt\n",
      "Traceback (most recent call last):\n",
      "  File \"/tmp/ipykernel_37540/132599818.py\", line 47, in crop_images\n",
      "    x1, y1, x2, y2 = find_coordinate(*img.shape[0:2], os.path.join(label_path, f'{patient}_{j:04d}.txt'), s)\n",
      "  File \"/tmp/ipykernel_37540/132599818.py\", line 7, in find_coordinate\n",
      "    assert aorta == 'j', f'如果只有一个label那么此时应为降主动脉, 但实际为{aorta}：{label_file.split(\"/\")[-1]}'\n",
      "AssertionError: 如果只有一个label那么此时应为降主动脉, 但实际为s：chenxuehua-S-Im17-27-J-Im17-35_0014.txt\n"
     ]
    },
    {
     "name": "stdout",
     "output_type": "stream",
     "text": [
      "******Processing chenyicong-J-Im17-58******\n",
      "******Processing chiyanfei-J-Im20-83******\n",
      "******Processing chugentang-J-Im19-80******\n",
      "******Processing chujiancheng-J-Im45-122******\n",
      "******Processing daizuokou-J-Im19-74******\n",
      "******Processing digenlan-J-23-50******\n",
      "******Processing dingliyun-J-Im19-57******\n"
     ]
    },
    {
     "name": "stderr",
     "output_type": "stream",
     "text": [
      "Traceback (most recent call last):\n",
      "  File \"/tmp/ipykernel_37540/132599818.py\", line 45, in crop_images\n",
      "    img = Image.open(os.path.join(image_path, f'{patient}_{j:04d}.png'))\n",
      "  File \"/disk1/zsxm/miniconda3/envs/pytorch/lib/python3.8/site-packages/PIL/Image.py\", line 2975, in open\n",
      "    fp = builtins.open(filename, \"rb\")\n",
      "FileNotFoundError: [Errno 2] No such file or directory: '/nfs3-p1/zsxm/dataset/aorta_ct_img_label/positive/dingliyun-J-Im19-57/images/dingliyun-J-Im19-57_0057.png'\n",
      "Traceback (most recent call last):\n",
      "  File \"/tmp/ipykernel_37540/132599818.py\", line 45, in crop_images\n",
      "    img = Image.open(os.path.join(image_path, f'{patient}_{j:04d}.png'))\n",
      "  File \"/disk1/zsxm/miniconda3/envs/pytorch/lib/python3.8/site-packages/PIL/Image.py\", line 2975, in open\n",
      "    fp = builtins.open(filename, \"rb\")\n",
      "FileNotFoundError: [Errno 2] No such file or directory: '/nfs3-p1/zsxm/dataset/aorta_ct_img_label/positive/dingliyun-J-Im19-57/images/dingliyun-J-Im19-57_0058.png'\n",
      "Traceback (most recent call last):\n",
      "  File \"/tmp/ipykernel_37540/132599818.py\", line 45, in crop_images\n",
      "    img = Image.open(os.path.join(image_path, f'{patient}_{j:04d}.png'))\n",
      "  File \"/disk1/zsxm/miniconda3/envs/pytorch/lib/python3.8/site-packages/PIL/Image.py\", line 2975, in open\n",
      "    fp = builtins.open(filename, \"rb\")\n",
      "FileNotFoundError: [Errno 2] No such file or directory: '/nfs3-p1/zsxm/dataset/aorta_ct_img_label/positive/dingliyun-J-Im19-57/images/dingliyun-J-Im19-57_0059.png'\n",
      "Traceback (most recent call last):\n",
      "  File \"/tmp/ipykernel_37540/132599818.py\", line 47, in crop_images\n",
      "    x1, y1, x2, y2 = find_coordinate(*img.shape[0:2], os.path.join(label_path, f'{patient}_{j:04d}.txt'), s)\n",
      "  File \"/tmp/ipykernel_37540/132599818.py\", line 7, in find_coordinate\n",
      "    assert aorta == 'j', f'如果只有一个label那么此时应为降主动脉, 但实际为{aorta}：{label_file.split(\"/\")[-1]}'\n",
      "AssertionError: 如果只有一个label那么此时应为降主动脉, 但实际为s：dingzhiqun-S-Im21-29_0017.txt\n",
      "Traceback (most recent call last):\n",
      "  File \"/tmp/ipykernel_37540/132599818.py\", line 47, in crop_images\n",
      "    x1, y1, x2, y2 = find_coordinate(*img.shape[0:2], os.path.join(label_path, f'{patient}_{j:04d}.txt'), s)\n",
      "  File \"/tmp/ipykernel_37540/132599818.py\", line 7, in find_coordinate\n",
      "    assert aorta == 'j', f'如果只有一个label那么此时应为降主动脉, 但实际为{aorta}：{label_file.split(\"/\")[-1]}'\n",
      "AssertionError: 如果只有一个label那么此时应为降主动脉, 但实际为s：dingzhiqun-S-Im21-29_0018.txt\n"
     ]
    },
    {
     "name": "stdout",
     "output_type": "stream",
     "text": [
      "******Processing dingzhiqun-S-Im21-29******\n",
      "******Processing dongzhigen-J-Im22-102******\n",
      "******Processing dukun-S-20-22-J-20-23******\n"
     ]
    },
    {
     "name": "stderr",
     "output_type": "stream",
     "text": [
      "Traceback (most recent call last):\n",
      "  File \"/tmp/ipykernel_37540/132599818.py\", line 47, in crop_images\n",
      "    x1, y1, x2, y2 = find_coordinate(*img.shape[0:2], os.path.join(label_path, f'{patient}_{j:04d}.txt'), s)\n",
      "  File \"/tmp/ipykernel_37540/132599818.py\", line 7, in find_coordinate\n",
      "    assert aorta == 'j', f'如果只有一个label那么此时应为降主动脉, 但实际为{aorta}：{label_file.split(\"/\")[-1]}'\n",
      "AssertionError: 如果只有一个label那么此时应为降主动脉, 但实际为s：dukun-S-20-22-J-20-23_0016.txt\n",
      "Traceback (most recent call last):\n",
      "  File \"/tmp/ipykernel_37540/132599818.py\", line 47, in crop_images\n",
      "    x1, y1, x2, y2 = find_coordinate(*img.shape[0:2], os.path.join(label_path, f'{patient}_{j:04d}.txt'), s)\n",
      "  File \"/tmp/ipykernel_37540/132599818.py\", line 7, in find_coordinate\n",
      "    assert aorta == 'j', f'如果只有一个label那么此时应为降主动脉, 但实际为{aorta}：{label_file.split(\"/\")[-1]}'\n",
      "AssertionError: 如果只有一个label那么此时应为降主动脉, 但实际为s：dukun-S-20-22-J-20-23_0017.txt\n",
      "Traceback (most recent call last):\n",
      "  File \"/tmp/ipykernel_37540/132599818.py\", line 47, in crop_images\n",
      "    x1, y1, x2, y2 = find_coordinate(*img.shape[0:2], os.path.join(label_path, f'{patient}_{j:04d}.txt'), s)\n",
      "  File \"/tmp/ipykernel_37540/132599818.py\", line 7, in find_coordinate\n",
      "    assert aorta == 'j', f'如果只有一个label那么此时应为降主动脉, 但实际为{aorta}：{label_file.split(\"/\")[-1]}'\n",
      "AssertionError: 如果只有一个label那么此时应为降主动脉, 但实际为s：dukun-S-20-22-J-20-23_0018.txt\n"
     ]
    },
    {
     "name": "stdout",
     "output_type": "stream",
     "text": [
      "******Processing fangchunfeng-J-16-48******\n"
     ]
    },
    {
     "name": "stderr",
     "output_type": "stream",
     "text": [
      "Traceback (most recent call last):\n",
      "  File \"/tmp/ipykernel_37540/132599818.py\", line 45, in crop_images\n",
      "    img = Image.open(os.path.join(image_path, f'{patient}_{j:04d}.png'))\n",
      "  File \"/disk1/zsxm/miniconda3/envs/pytorch/lib/python3.8/site-packages/PIL/Image.py\", line 2975, in open\n",
      "    fp = builtins.open(filename, \"rb\")\n",
      "FileNotFoundError: [Errno 2] No such file or directory: '/nfs3-p1/zsxm/dataset/aorta_ct_img_label/positive/fangchunfeng-J-16-48/images/fangchunfeng-J-16-48_0048.png'\n",
      "Traceback (most recent call last):\n",
      "  File \"/tmp/ipykernel_37540/132599818.py\", line 45, in crop_images\n",
      "    img = Image.open(os.path.join(image_path, f'{patient}_{j:04d}.png'))\n",
      "  File \"/disk1/zsxm/miniconda3/envs/pytorch/lib/python3.8/site-packages/PIL/Image.py\", line 2975, in open\n",
      "    fp = builtins.open(filename, \"rb\")\n",
      "FileNotFoundError: [Errno 2] No such file or directory: '/nfs3-p1/zsxm/dataset/aorta_ct_img_label/positive/fangchunfeng-J-16-48/images/fangchunfeng-J-16-48_0049.png'\n",
      "Traceback (most recent call last):\n",
      "  File \"/tmp/ipykernel_37540/132599818.py\", line 45, in crop_images\n",
      "    img = Image.open(os.path.join(image_path, f'{patient}_{j:04d}.png'))\n",
      "  File \"/disk1/zsxm/miniconda3/envs/pytorch/lib/python3.8/site-packages/PIL/Image.py\", line 2975, in open\n",
      "    fp = builtins.open(filename, \"rb\")\n",
      "FileNotFoundError: [Errno 2] No such file or directory: '/nfs3-p1/zsxm/dataset/aorta_ct_img_label/positive/fangchunfeng-J-16-48/images/fangchunfeng-J-16-48_0050.png'\n"
     ]
    },
    {
     "name": "stdout",
     "output_type": "stream",
     "text": [
      "******Processing fanghao-J-Im23-89******\n",
      "******Processing fanghongwei-J-22-71******\n",
      "******Processing fangtianming-S-Im15-30-J-Im15-65******\n"
     ]
    },
    {
     "name": "stderr",
     "output_type": "stream",
     "text": [
      "Traceback (most recent call last):\n",
      "  File \"/tmp/ipykernel_37540/132599818.py\", line 47, in crop_images\n",
      "    x1, y1, x2, y2 = find_coordinate(*img.shape[0:2], os.path.join(label_path, f'{patient}_{j:04d}.txt'), s)\n",
      "  File \"/tmp/ipykernel_37540/132599818.py\", line 7, in find_coordinate\n",
      "    assert aorta == 'j', f'如果只有一个label那么此时应为降主动脉, 但实际为{aorta}：{label_file.split(\"/\")[-1]}'\n",
      "AssertionError: 如果只有一个label那么此时应为降主动脉, 但实际为s：fangtianming-S-Im15-30-J-Im15-65_0011.txt\n",
      "Traceback (most recent call last):\n",
      "  File \"/tmp/ipykernel_37540/132599818.py\", line 47, in crop_images\n",
      "    x1, y1, x2, y2 = find_coordinate(*img.shape[0:2], os.path.join(label_path, f'{patient}_{j:04d}.txt'), s)\n",
      "  File \"/tmp/ipykernel_37540/132599818.py\", line 7, in find_coordinate\n",
      "    assert aorta == 'j', f'如果只有一个label那么此时应为降主动脉, 但实际为{aorta}：{label_file.split(\"/\")[-1]}'\n",
      "AssertionError: 如果只有一个label那么此时应为降主动脉, 但实际为s：fangtianming-S-Im15-30-J-Im15-65_0012.txt\n"
     ]
    },
    {
     "name": "stdout",
     "output_type": "stream",
     "text": [
      "******Processing fangyuxian-J-23-60******\n"
     ]
    },
    {
     "name": "stderr",
     "output_type": "stream",
     "text": [
      "Traceback (most recent call last):\n",
      "  File \"/tmp/ipykernel_37540/132599818.py\", line 45, in crop_images\n",
      "    img = Image.open(os.path.join(image_path, f'{patient}_{j:04d}.png'))\n",
      "  File \"/disk1/zsxm/miniconda3/envs/pytorch/lib/python3.8/site-packages/PIL/Image.py\", line 2975, in open\n",
      "    fp = builtins.open(filename, \"rb\")\n",
      "FileNotFoundError: [Errno 2] No such file or directory: '/nfs3-p1/zsxm/dataset/aorta_ct_img_label/positive/fangyuxian-J-23-60/images/fangyuxian-J-23-60_0060.png'\n",
      "Traceback (most recent call last):\n",
      "  File \"/tmp/ipykernel_37540/132599818.py\", line 45, in crop_images\n",
      "    img = Image.open(os.path.join(image_path, f'{patient}_{j:04d}.png'))\n",
      "  File \"/disk1/zsxm/miniconda3/envs/pytorch/lib/python3.8/site-packages/PIL/Image.py\", line 2975, in open\n",
      "    fp = builtins.open(filename, \"rb\")\n",
      "FileNotFoundError: [Errno 2] No such file or directory: '/nfs3-p1/zsxm/dataset/aorta_ct_img_label/positive/fangyuxian-J-23-60/images/fangyuxian-J-23-60_0061.png'\n",
      "Traceback (most recent call last):\n",
      "  File \"/tmp/ipykernel_37540/132599818.py\", line 45, in crop_images\n",
      "    img = Image.open(os.path.join(image_path, f'{patient}_{j:04d}.png'))\n",
      "  File \"/disk1/zsxm/miniconda3/envs/pytorch/lib/python3.8/site-packages/PIL/Image.py\", line 2975, in open\n",
      "    fp = builtins.open(filename, \"rb\")\n",
      "FileNotFoundError: [Errno 2] No such file or directory: '/nfs3-p1/zsxm/dataset/aorta_ct_img_label/positive/fangyuxian-J-23-60/images/fangyuxian-J-23-60_0062.png'\n"
     ]
    },
    {
     "name": "stdout",
     "output_type": "stream",
     "text": [
      "******Processing fangzhuxiang-J-18-61******\n"
     ]
    },
    {
     "name": "stderr",
     "output_type": "stream",
     "text": [
      "Traceback (most recent call last):\n",
      "  File \"/tmp/ipykernel_37540/132599818.py\", line 47, in crop_images\n",
      "    x1, y1, x2, y2 = find_coordinate(*img.shape[0:2], os.path.join(label_path, f'{patient}_{j:04d}.txt'), s)\n",
      "  File \"/tmp/ipykernel_37540/132599818.py\", line 3, in find_coordinate\n",
      "    with open(label_file, 'r') as f:\n",
      "FileNotFoundError: [Errno 2] No such file or directory: '/nfs3-p1/zsxm/dataset/aorta_ct_img_label/positive/fangzhuxiang-J-18-61/labels/fangzhuxiang-J-18-61_0052.txt'\n",
      "Traceback (most recent call last):\n",
      "  File \"/tmp/ipykernel_37540/132599818.py\", line 47, in crop_images\n",
      "    x1, y1, x2, y2 = find_coordinate(*img.shape[0:2], os.path.join(label_path, f'{patient}_{j:04d}.txt'), s)\n",
      "  File \"/tmp/ipykernel_37540/132599818.py\", line 3, in find_coordinate\n",
      "    with open(label_file, 'r') as f:\n",
      "FileNotFoundError: [Errno 2] No such file or directory: '/nfs3-p1/zsxm/dataset/aorta_ct_img_label/positive/fangzhuxiang-J-18-61/labels/fangzhuxiang-J-18-61_0061.txt'\n"
     ]
    },
    {
     "name": "stdout",
     "output_type": "stream",
     "text": [
      "******Processing fanlanhua-J-Im26-116******\n",
      "******Processing fanxinan-S-Im16-36-J-Im16-30******\n"
     ]
    },
    {
     "name": "stderr",
     "output_type": "stream",
     "text": [
      "Traceback (most recent call last):\n",
      "  File \"/tmp/ipykernel_37540/132599818.py\", line 47, in crop_images\n",
      "    x1, y1, x2, y2 = find_coordinate(*img.shape[0:2], os.path.join(label_path, f'{patient}_{j:04d}.txt'), s)\n",
      "  File \"/tmp/ipykernel_37540/132599818.py\", line 7, in find_coordinate\n",
      "    assert aorta == 'j', f'如果只有一个label那么此时应为降主动脉, 但实际为{aorta}：{label_file.split(\"/\")[-1]}'\n",
      "AssertionError: 如果只有一个label那么此时应为降主动脉, 但实际为s：fanxinan-S-Im16-36-J-Im16-30_0012.txt\n",
      "Traceback (most recent call last):\n",
      "  File \"/tmp/ipykernel_37540/132599818.py\", line 47, in crop_images\n",
      "    x1, y1, x2, y2 = find_coordinate(*img.shape[0:2], os.path.join(label_path, f'{patient}_{j:04d}.txt'), s)\n",
      "  File \"/tmp/ipykernel_37540/132599818.py\", line 7, in find_coordinate\n",
      "    assert aorta == 'j', f'如果只有一个label那么此时应为降主动脉, 但实际为{aorta}：{label_file.split(\"/\")[-1]}'\n",
      "AssertionError: 如果只有一个label那么此时应为降主动脉, 但实际为s：fanxinan-S-Im16-36-J-Im16-30_0013.txt\n",
      "Traceback (most recent call last):\n",
      "  File \"/tmp/ipykernel_37540/132599818.py\", line 47, in crop_images\n",
      "    x1, y1, x2, y2 = find_coordinate(*img.shape[0:2], os.path.join(label_path, f'{patient}_{j:04d}.txt'), s)\n",
      "  File \"/tmp/ipykernel_37540/132599818.py\", line 7, in find_coordinate\n",
      "    assert aorta == 'j', f'如果只有一个label那么此时应为降主动脉, 但实际为{aorta}：{label_file.split(\"/\")[-1]}'\n",
      "AssertionError: 如果只有一个label那么此时应为降主动脉, 但实际为s：fanxinan-S-Im16-36-J-Im16-30_0036.txt\n",
      "Traceback (most recent call last):\n",
      "  File \"/tmp/ipykernel_37540/132599818.py\", line 47, in crop_images\n",
      "    x1, y1, x2, y2 = find_coordinate(*img.shape[0:2], os.path.join(label_path, f'{patient}_{j:04d}.txt'), s)\n",
      "  File \"/tmp/ipykernel_37540/132599818.py\", line 7, in find_coordinate\n",
      "    assert aorta == 'j', f'如果只有一个label那么此时应为降主动脉, 但实际为{aorta}：{label_file.split(\"/\")[-1]}'\n",
      "AssertionError: 如果只有一个label那么此时应为降主动脉, 但实际为s：fanxinan-S-Im16-36-J-Im16-30_0038.txt\n"
     ]
    },
    {
     "name": "stdout",
     "output_type": "stream",
     "text": [
      "******Processing fudehe-S-20-33-J-20-70******\n"
     ]
    },
    {
     "name": "stderr",
     "output_type": "stream",
     "text": [
      "Traceback (most recent call last):\n",
      "  File \"/tmp/ipykernel_37540/132599818.py\", line 47, in crop_images\n",
      "    x1, y1, x2, y2 = find_coordinate(*img.shape[0:2], os.path.join(label_path, f'{patient}_{j:04d}.txt'), s)\n",
      "  File \"/tmp/ipykernel_37540/132599818.py\", line 7, in find_coordinate\n",
      "    assert aorta == 'j', f'如果只有一个label那么此时应为降主动脉, 但实际为{aorta}：{label_file.split(\"/\")[-1]}'\n",
      "AssertionError: 如果只有一个label那么此时应为降主动脉, 但实际为s：fudehe-S-20-33-J-20-70_0016.txt\n",
      "Traceback (most recent call last):\n",
      "  File \"/tmp/ipykernel_37540/132599818.py\", line 47, in crop_images\n",
      "    x1, y1, x2, y2 = find_coordinate(*img.shape[0:2], os.path.join(label_path, f'{patient}_{j:04d}.txt'), s)\n",
      "  File \"/tmp/ipykernel_37540/132599818.py\", line 7, in find_coordinate\n",
      "    assert aorta == 'j', f'如果只有一个label那么此时应为降主动脉, 但实际为{aorta}：{label_file.split(\"/\")[-1]}'\n",
      "AssertionError: 如果只有一个label那么此时应为降主动脉, 但实际为s：fudehe-S-20-33-J-20-70_0017.txt\n"
     ]
    },
    {
     "name": "stdout",
     "output_type": "stream",
     "text": [
      "******Processing ganxiaobin-J-23-51******\n",
      "******Processing gaosheng-J-Im19-67******\n",
      "******Processing gaoxiangqin-J-Im24-75******\n",
      "******Processing gongyongfa-S-Im18-34-J-Im18-87******\n"
     ]
    },
    {
     "name": "stderr",
     "output_type": "stream",
     "text": [
      "Traceback (most recent call last):\n",
      "  File \"/tmp/ipykernel_37540/132599818.py\", line 47, in crop_images\n",
      "    x1, y1, x2, y2 = find_coordinate(*img.shape[0:2], os.path.join(label_path, f'{patient}_{j:04d}.txt'), s)\n",
      "  File \"/tmp/ipykernel_37540/132599818.py\", line 7, in find_coordinate\n",
      "    assert aorta == 'j', f'如果只有一个label那么此时应为降主动脉, 但实际为{aorta}：{label_file.split(\"/\")[-1]}'\n",
      "AssertionError: 如果只有一个label那么此时应为降主动脉, 但实际为s：gongyongfa-S-Im18-34-J-Im18-87_0014.txt\n",
      "Traceback (most recent call last):\n",
      "  File \"/tmp/ipykernel_37540/132599818.py\", line 47, in crop_images\n",
      "    x1, y1, x2, y2 = find_coordinate(*img.shape[0:2], os.path.join(label_path, f'{patient}_{j:04d}.txt'), s)\n",
      "  File \"/tmp/ipykernel_37540/132599818.py\", line 7, in find_coordinate\n",
      "    assert aorta == 'j', f'如果只有一个label那么此时应为降主动脉, 但实际为{aorta}：{label_file.split(\"/\")[-1]}'\n",
      "AssertionError: 如果只有一个label那么此时应为降主动脉, 但实际为s：gongyongfa-S-Im18-34-J-Im18-87_0015.txt\n"
     ]
    },
    {
     "name": "stdout",
     "output_type": "stream",
     "text": [
      "******Processing guanxujun-S-Im25-35-J-Im25-87******\n"
     ]
    },
    {
     "name": "stderr",
     "output_type": "stream",
     "text": [
      "Traceback (most recent call last):\n",
      "  File \"/tmp/ipykernel_37540/132599818.py\", line 47, in crop_images\n",
      "    x1, y1, x2, y2 = find_coordinate(*img.shape[0:2], os.path.join(label_path, f'{patient}_{j:04d}.txt'), s)\n",
      "  File \"/tmp/ipykernel_37540/132599818.py\", line 7, in find_coordinate\n",
      "    assert aorta == 'j', f'如果只有一个label那么此时应为降主动脉, 但实际为{aorta}：{label_file.split(\"/\")[-1]}'\n",
      "AssertionError: 如果只有一个label那么此时应为降主动脉, 但实际为s：guanxujun-S-Im25-35-J-Im25-87_0021.txt\n",
      "Traceback (most recent call last):\n",
      "  File \"/tmp/ipykernel_37540/132599818.py\", line 47, in crop_images\n",
      "    x1, y1, x2, y2 = find_coordinate(*img.shape[0:2], os.path.join(label_path, f'{patient}_{j:04d}.txt'), s)\n",
      "  File \"/tmp/ipykernel_37540/132599818.py\", line 7, in find_coordinate\n",
      "    assert aorta == 'j', f'如果只有一个label那么此时应为降主动脉, 但实际为{aorta}：{label_file.split(\"/\")[-1]}'\n",
      "AssertionError: 如果只有一个label那么此时应为降主动脉, 但实际为s：guanxujun-S-Im25-35-J-Im25-87_0022.txt\n",
      "Traceback (most recent call last):\n",
      "  File \"/tmp/ipykernel_37540/132599818.py\", line 47, in crop_images\n",
      "    x1, y1, x2, y2 = find_coordinate(*img.shape[0:2], os.path.join(label_path, f'{patient}_{j:04d}.txt'), s)\n",
      "  File \"/tmp/ipykernel_37540/132599818.py\", line 13, in find_coordinate\n",
      "    assert 0.25 < corr1[1] < 0.75 and 0.2 < corr1[2] < 0.8, f'边界框1中心({corr1[1]}, {corr1[2]})出界：{label_file.split(\"/\")[-1]}'\n",
      "AssertionError: 边界框1中心(0.568359, 0.15625)出界：guanxujun-S-Im25-35-J-Im25-87_0049.txt\n"
     ]
    },
    {
     "name": "stdout",
     "output_type": "stream",
     "text": [
      "******Processing guoheying-J-Im32-127******\n",
      "******Processing guojianfu-J-Im32-100******\n",
      "******Processing guoyinhua-J-13-87******\n",
      "******Processing guquankang-J-Im18-69******\n"
     ]
    },
    {
     "name": "stderr",
     "output_type": "stream",
     "text": [
      "Traceback (most recent call last):\n",
      "  File \"/tmp/ipykernel_37540/132599818.py\", line 47, in crop_images\n",
      "    x1, y1, x2, y2 = find_coordinate(*img.shape[0:2], os.path.join(label_path, f'{patient}_{j:04d}.txt'), s)\n",
      "  File \"/tmp/ipykernel_37540/132599818.py\", line 3, in find_coordinate\n",
      "    with open(label_file, 'r') as f:\n",
      "FileNotFoundError: [Errno 2] No such file or directory: '/nfs3-p1/zsxm/dataset/aorta_ct_img_label/positive/guquankang-J-Im18-69/labels/guquankang-J-Im18-69_0064.txt'\n"
     ]
    },
    {
     "name": "stdout",
     "output_type": "stream",
     "text": [
      "******Processing hanchun-J-Im20-86******\n",
      "******Processing heguangfa-J-27-88******\n",
      "******Processing heguoyu-J-Im36-141******\n",
      "******Processing hexingwen-S-Im25-35-J-Im25-93******\n"
     ]
    },
    {
     "name": "stderr",
     "output_type": "stream",
     "text": [
      "Traceback (most recent call last):\n",
      "  File \"/tmp/ipykernel_37540/132599818.py\", line 47, in crop_images\n",
      "    x1, y1, x2, y2 = find_coordinate(*img.shape[0:2], os.path.join(label_path, f'{patient}_{j:04d}.txt'), s)\n",
      "  File \"/tmp/ipykernel_37540/132599818.py\", line 7, in find_coordinate\n",
      "    assert aorta == 'j', f'如果只有一个label那么此时应为降主动脉, 但实际为{aorta}：{label_file.split(\"/\")[-1]}'\n",
      "AssertionError: 如果只有一个label那么此时应为降主动脉, 但实际为s：hexingwen-S-Im25-35-J-Im25-93_0021.txt\n"
     ]
    },
    {
     "name": "stdout",
     "output_type": "stream",
     "text": [
      "******Processing heyuexiang-J-Im18-76******\n",
      "******Processing hezhangquan-J-Im33-58******\n",
      "******Processing hongjinjun-S-Im24-28-J-Im24-83******\n"
     ]
    },
    {
     "name": "stderr",
     "output_type": "stream",
     "text": [
      "Traceback (most recent call last):\n",
      "  File \"/tmp/ipykernel_37540/132599818.py\", line 47, in crop_images\n",
      "    x1, y1, x2, y2 = find_coordinate(*img.shape[0:2], os.path.join(label_path, f'{patient}_{j:04d}.txt'), s)\n",
      "  File \"/tmp/ipykernel_37540/132599818.py\", line 7, in find_coordinate\n",
      "    assert aorta == 'j', f'如果只有一个label那么此时应为降主动脉, 但实际为{aorta}：{label_file.split(\"/\")[-1]}'\n",
      "AssertionError: 如果只有一个label那么此时应为降主动脉, 但实际为s：hongjinjun-S-Im24-28-J-Im24-83_0020.txt\n",
      "Traceback (most recent call last):\n",
      "  File \"/tmp/ipykernel_37540/132599818.py\", line 47, in crop_images\n",
      "    x1, y1, x2, y2 = find_coordinate(*img.shape[0:2], os.path.join(label_path, f'{patient}_{j:04d}.txt'), s)\n",
      "  File \"/tmp/ipykernel_37540/132599818.py\", line 7, in find_coordinate\n",
      "    assert aorta == 'j', f'如果只有一个label那么此时应为降主动脉, 但实际为{aorta}：{label_file.split(\"/\")[-1]}'\n",
      "AssertionError: 如果只有一个label那么此时应为降主动脉, 但实际为s：hongjinjun-S-Im24-28-J-Im24-83_0021.txt\n"
     ]
    },
    {
     "name": "stdout",
     "output_type": "stream",
     "text": [
      "******Processing hongzhimin-S-Im30-39-J-30-144******\n"
     ]
    },
    {
     "name": "stderr",
     "output_type": "stream",
     "text": [
      "Traceback (most recent call last):\n",
      "  File \"/tmp/ipykernel_37540/132599818.py\", line 47, in crop_images\n",
      "    x1, y1, x2, y2 = find_coordinate(*img.shape[0:2], os.path.join(label_path, f'{patient}_{j:04d}.txt'), s)\n",
      "  File \"/tmp/ipykernel_37540/132599818.py\", line 7, in find_coordinate\n",
      "    assert aorta == 'j', f'如果只有一个label那么此时应为降主动脉, 但实际为{aorta}：{label_file.split(\"/\")[-1]}'\n",
      "AssertionError: 如果只有一个label那么此时应为降主动脉, 但实际为s：hongzhimin-S-Im30-39-J-30-144_0026.txt\n",
      "Traceback (most recent call last):\n",
      "  File \"/tmp/ipykernel_37540/132599818.py\", line 47, in crop_images\n",
      "    x1, y1, x2, y2 = find_coordinate(*img.shape[0:2], os.path.join(label_path, f'{patient}_{j:04d}.txt'), s)\n",
      "  File \"/tmp/ipykernel_37540/132599818.py\", line 3, in find_coordinate\n",
      "    with open(label_file, 'r') as f:\n",
      "FileNotFoundError: [Errno 2] No such file or directory: '/nfs3-p1/zsxm/dataset/aorta_ct_img_label/positive/hongzhimin-S-Im30-39-J-30-144/labels/hongzhimin-S-Im30-39-J-30-144_0146.txt'\n"
     ]
    },
    {
     "name": "stdout",
     "output_type": "stream",
     "text": [
      "******Processing huajin-J-Im30-67******\n"
     ]
    },
    {
     "name": "stderr",
     "output_type": "stream",
     "text": [
      "Traceback (most recent call last):\n",
      "  File \"/tmp/ipykernel_37540/132599818.py\", line 47, in crop_images\n",
      "    x1, y1, x2, y2 = find_coordinate(*img.shape[0:2], os.path.join(label_path, f'{patient}_{j:04d}.txt'), s)\n",
      "  File \"/tmp/ipykernel_37540/132599818.py\", line 3, in find_coordinate\n",
      "    with open(label_file, 'r') as f:\n",
      "FileNotFoundError: [Errno 2] No such file or directory: '/nfs3-p1/zsxm/dataset/aorta_ct_img_label/positive/huajin-J-Im30-67/labels/huajin-J-Im30-67_0069.txt'\n"
     ]
    },
    {
     "name": "stdout",
     "output_type": "stream",
     "text": [
      "******Processing huangdebing-S-Im40-48-J-Im33-138******\n"
     ]
    },
    {
     "name": "stderr",
     "output_type": "stream",
     "text": [
      "Traceback (most recent call last):\n",
      "  File \"/tmp/ipykernel_37540/132599818.py\", line 47, in crop_images\n",
      "    x1, y1, x2, y2 = find_coordinate(*img.shape[0:2], os.path.join(label_path, f'{patient}_{j:04d}.txt'), s)\n",
      "  File \"/tmp/ipykernel_37540/132599818.py\", line 3, in find_coordinate\n",
      "    with open(label_file, 'r') as f:\n",
      "FileNotFoundError: [Errno 2] No such file or directory: '/nfs3-p1/zsxm/dataset/aorta_ct_img_label/positive/huangdebing-S-Im40-48-J-Im33-138/labels/huangdebing-S-Im40-48-J-Im33-138_0120.txt'\n"
     ]
    },
    {
     "name": "stdout",
     "output_type": "stream",
     "text": [
      "******Processing huanghai-S-Im19-29-J-Im19-80******\n"
     ]
    },
    {
     "name": "stderr",
     "output_type": "stream",
     "text": [
      "Traceback (most recent call last):\n",
      "  File \"/tmp/ipykernel_37540/132599818.py\", line 47, in crop_images\n",
      "    x1, y1, x2, y2 = find_coordinate(*img.shape[0:2], os.path.join(label_path, f'{patient}_{j:04d}.txt'), s)\n",
      "  File \"/tmp/ipykernel_37540/132599818.py\", line 7, in find_coordinate\n",
      "    assert aorta == 'j', f'如果只有一个label那么此时应为降主动脉, 但实际为{aorta}：{label_file.split(\"/\")[-1]}'\n",
      "AssertionError: 如果只有一个label那么此时应为降主动脉, 但实际为s：huanghai-S-Im19-29-J-Im19-80_0015.txt\n",
      "Traceback (most recent call last):\n",
      "  File \"/tmp/ipykernel_37540/132599818.py\", line 47, in crop_images\n",
      "    x1, y1, x2, y2 = find_coordinate(*img.shape[0:2], os.path.join(label_path, f'{patient}_{j:04d}.txt'), s)\n",
      "  File \"/tmp/ipykernel_37540/132599818.py\", line 7, in find_coordinate\n",
      "    assert aorta == 'j', f'如果只有一个label那么此时应为降主动脉, 但实际为{aorta}：{label_file.split(\"/\")[-1]}'\n",
      "AssertionError: 如果只有一个label那么此时应为降主动脉, 但实际为s：huanghai-S-Im19-29-J-Im19-80_0016.txt\n",
      "Traceback (most recent call last):\n",
      "  File \"/tmp/ipykernel_37540/132599818.py\", line 47, in crop_images\n",
      "    x1, y1, x2, y2 = find_coordinate(*img.shape[0:2], os.path.join(label_path, f'{patient}_{j:04d}.txt'), s)\n",
      "  File \"/tmp/ipykernel_37540/132599818.py\", line 7, in find_coordinate\n",
      "    assert aorta == 'j', f'如果只有一个label那么此时应为降主动脉, 但实际为{aorta}：{label_file.split(\"/\")[-1]}'\n",
      "AssertionError: 如果只有一个label那么此时应为降主动脉, 但实际为s：huanghai-S-Im19-29-J-Im19-80_0017.txt\n"
     ]
    },
    {
     "name": "stdout",
     "output_type": "stream",
     "text": [
      "******Processing huanglijun-J-24-98******\n",
      "******Processing huangqiang-J-Im42-147******\n",
      "******Processing huangsuyue-J-Im21-41******\n",
      "******Processing huangwanman-S-15-30******\n"
     ]
    },
    {
     "name": "stderr",
     "output_type": "stream",
     "text": [
      "Traceback (most recent call last):\n",
      "  File \"/tmp/ipykernel_37540/132599818.py\", line 47, in crop_images\n",
      "    x1, y1, x2, y2 = find_coordinate(*img.shape[0:2], os.path.join(label_path, f'{patient}_{j:04d}.txt'), s)\n",
      "  File \"/tmp/ipykernel_37540/132599818.py\", line 7, in find_coordinate\n",
      "    assert aorta == 'j', f'如果只有一个label那么此时应为降主动脉, 但实际为{aorta}：{label_file.split(\"/\")[-1]}'\n",
      "AssertionError: 如果只有一个label那么此时应为降主动脉, 但实际为s：huangwanman-S-15-30_0011.txt\n",
      "Traceback (most recent call last):\n",
      "  File \"/tmp/ipykernel_37540/132599818.py\", line 47, in crop_images\n",
      "    x1, y1, x2, y2 = find_coordinate(*img.shape[0:2], os.path.join(label_path, f'{patient}_{j:04d}.txt'), s)\n",
      "  File \"/tmp/ipykernel_37540/132599818.py\", line 7, in find_coordinate\n",
      "    assert aorta == 'j', f'如果只有一个label那么此时应为降主动脉, 但实际为{aorta}：{label_file.split(\"/\")[-1]}'\n",
      "AssertionError: 如果只有一个label那么此时应为降主动脉, 但实际为s：huangwanman-S-15-30_0012.txt\n",
      "Traceback (most recent call last):\n",
      "  File \"/tmp/ipykernel_37540/132599818.py\", line 47, in crop_images\n",
      "    x1, y1, x2, y2 = find_coordinate(*img.shape[0:2], os.path.join(label_path, f'{patient}_{j:04d}.txt'), s)\n",
      "  File \"/tmp/ipykernel_37540/132599818.py\", line 7, in find_coordinate\n",
      "    assert aorta == 'j', f'如果只有一个label那么此时应为降主动脉, 但实际为{aorta}：{label_file.split(\"/\")[-1]}'\n",
      "AssertionError: 如果只有一个label那么此时应为降主动脉, 但实际为s：huangwanman-S-15-30_0013.txt\n"
     ]
    },
    {
     "name": "stdout",
     "output_type": "stream",
     "text": [
      "******Processing huangxiansheng-J-Im25-59******\n",
      "******Processing huangxihong-J-Im27-136******\n",
      "******Processing huangyong-J-Im18-127******\n",
      "******Processing huangyongliang-J-Im16-81******\n",
      "******Processing huchaoming-J-Im43-126******\n",
      "******Processing huleijun-J-Im25-141******\n",
      "******Processing hupingli-J-Im18-69******\n",
      "******Processing huweibang-S-Im25-30-J-Im25-79******\n"
     ]
    },
    {
     "name": "stderr",
     "output_type": "stream",
     "text": [
      "Traceback (most recent call last):\n",
      "  File \"/tmp/ipykernel_37540/132599818.py\", line 47, in crop_images\n",
      "    x1, y1, x2, y2 = find_coordinate(*img.shape[0:2], os.path.join(label_path, f'{patient}_{j:04d}.txt'), s)\n",
      "  File \"/tmp/ipykernel_37540/132599818.py\", line 7, in find_coordinate\n",
      "    assert aorta == 'j', f'如果只有一个label那么此时应为降主动脉, 但实际为{aorta}：{label_file.split(\"/\")[-1]}'\n",
      "AssertionError: 如果只有一个label那么此时应为降主动脉, 但实际为s：huweibang-S-Im25-30-J-Im25-79_0021.txt\n"
     ]
    },
    {
     "name": "stdout",
     "output_type": "stream",
     "text": [
      "******Processing huxiaomei-S-Im21-24******\n",
      "******Processing jiadeen-J-Im34-148******\n"
     ]
    },
    {
     "name": "stderr",
     "output_type": "stream",
     "text": [
      "Traceback (most recent call last):\n",
      "  File \"/tmp/ipykernel_37540/132599818.py\", line 47, in crop_images\n",
      "    x1, y1, x2, y2 = find_coordinate(*img.shape[0:2], os.path.join(label_path, f'{patient}_{j:04d}.txt'), s)\n",
      "  File \"/tmp/ipykernel_37540/132599818.py\", line 7, in find_coordinate\n",
      "    assert aorta == 'j', f'如果只有一个label那么此时应为降主动脉, 但实际为{aorta}：{label_file.split(\"/\")[-1]}'\n",
      "AssertionError: 如果只有一个label那么此时应为降主动脉, 但实际为s：huxiaomei-S-Im21-24_0017.txt\n",
      "Traceback (most recent call last):\n",
      "  File \"/tmp/ipykernel_37540/132599818.py\", line 47, in crop_images\n",
      "    x1, y1, x2, y2 = find_coordinate(*img.shape[0:2], os.path.join(label_path, f'{patient}_{j:04d}.txt'), s)\n",
      "  File \"/tmp/ipykernel_37540/132599818.py\", line 7, in find_coordinate\n",
      "    assert aorta == 'j', f'如果只有一个label那么此时应为降主动脉, 但实际为{aorta}：{label_file.split(\"/\")[-1]}'\n",
      "AssertionError: 如果只有一个label那么此时应为降主动脉, 但实际为s：huxiaomei-S-Im21-24_0018.txt\n",
      "Traceback (most recent call last):\n",
      "  File \"/tmp/ipykernel_37540/132599818.py\", line 47, in crop_images\n",
      "    x1, y1, x2, y2 = find_coordinate(*img.shape[0:2], os.path.join(label_path, f'{patient}_{j:04d}.txt'), s)\n",
      "  File \"/tmp/ipykernel_37540/132599818.py\", line 7, in find_coordinate\n",
      "    assert aorta == 'j', f'如果只有一个label那么此时应为降主动脉, 但实际为{aorta}：{label_file.split(\"/\")[-1]}'\n",
      "AssertionError: 如果只有一个label那么此时应为降主动脉, 但实际为s：huxiaomei-S-Im21-24_0019.txt\n",
      "Traceback (most recent call last):\n",
      "  File \"/tmp/ipykernel_37540/132599818.py\", line 47, in crop_images\n",
      "    x1, y1, x2, y2 = find_coordinate(*img.shape[0:2], os.path.join(label_path, f'{patient}_{j:04d}.txt'), s)\n",
      "  File \"/tmp/ipykernel_37540/132599818.py\", line 7, in find_coordinate\n",
      "    assert aorta == 'j', f'如果只有一个label那么此时应为降主动脉, 但实际为{aorta}：{label_file.split(\"/\")[-1]}'\n",
      "AssertionError: 如果只有一个label那么此时应为降主动脉, 但实际为s：huxiaomei-S-Im21-24_0020.txt\n"
     ]
    },
    {
     "name": "stdout",
     "output_type": "stream",
     "text": [
      "******Processing jiangboming-J-Im33-40******\n",
      "******Processing jiangdapeng-J-Im29-136******\n",
      "******Processing jiangjianchun-J-Im31-151******\n",
      "******Processing jiangwangchun-J-Im30-103******\n",
      "******Processing jihongke-S-Im20-24-J-Im20-86******\n"
     ]
    },
    {
     "name": "stderr",
     "output_type": "stream",
     "text": [
      "Traceback (most recent call last):\n",
      "  File \"/tmp/ipykernel_37540/132599818.py\", line 47, in crop_images\n",
      "    x1, y1, x2, y2 = find_coordinate(*img.shape[0:2], os.path.join(label_path, f'{patient}_{j:04d}.txt'), s)\n",
      "  File \"/tmp/ipykernel_37540/132599818.py\", line 7, in find_coordinate\n",
      "    assert aorta == 'j', f'如果只有一个label那么此时应为降主动脉, 但实际为{aorta}：{label_file.split(\"/\")[-1]}'\n",
      "AssertionError: 如果只有一个label那么此时应为降主动脉, 但实际为s：jihongke-S-Im20-24-J-Im20-86_0016.txt\n",
      "Traceback (most recent call last):\n",
      "  File \"/tmp/ipykernel_37540/132599818.py\", line 47, in crop_images\n",
      "    x1, y1, x2, y2 = find_coordinate(*img.shape[0:2], os.path.join(label_path, f'{patient}_{j:04d}.txt'), s)\n",
      "  File \"/tmp/ipykernel_37540/132599818.py\", line 7, in find_coordinate\n",
      "    assert aorta == 'j', f'如果只有一个label那么此时应为降主动脉, 但实际为{aorta}：{label_file.split(\"/\")[-1]}'\n",
      "AssertionError: 如果只有一个label那么此时应为降主动脉, 但实际为s：jihongke-S-Im20-24-J-Im20-86_0017.txt\n",
      "Traceback (most recent call last):\n",
      "  File \"/tmp/ipykernel_37540/132599818.py\", line 47, in crop_images\n",
      "    x1, y1, x2, y2 = find_coordinate(*img.shape[0:2], os.path.join(label_path, f'{patient}_{j:04d}.txt'), s)\n",
      "  File \"/tmp/ipykernel_37540/132599818.py\", line 7, in find_coordinate\n",
      "    assert aorta == 'j', f'如果只有一个label那么此时应为降主动脉, 但实际为{aorta}：{label_file.split(\"/\")[-1]}'\n",
      "AssertionError: 如果只有一个label那么此时应为降主动脉, 但实际为s：jihongke-S-Im20-24-J-Im20-86_0018.txt\n"
     ]
    },
    {
     "name": "stdout",
     "output_type": "stream",
     "text": [
      "******Processing jilixian-J-Im34-108******\n",
      "******Processing jinchongfei-J-22-92******\n",
      "******Processing jinfajun-J-Im22-72******\n",
      "******Processing jinzhangbing-J-Im32-130******\n",
      "******Processing jiushan-S-Im21-30-J-Im21-82******\n"
     ]
    },
    {
     "name": "stderr",
     "output_type": "stream",
     "text": [
      "Traceback (most recent call last):\n",
      "  File \"/tmp/ipykernel_37540/132599818.py\", line 47, in crop_images\n",
      "    x1, y1, x2, y2 = find_coordinate(*img.shape[0:2], os.path.join(label_path, f'{patient}_{j:04d}.txt'), s)\n",
      "  File \"/tmp/ipykernel_37540/132599818.py\", line 7, in find_coordinate\n",
      "    assert aorta == 'j', f'如果只有一个label那么此时应为降主动脉, 但实际为{aorta}：{label_file.split(\"/\")[-1]}'\n",
      "AssertionError: 如果只有一个label那么此时应为降主动脉, 但实际为s：jiushan-S-Im21-30-J-Im21-82_0017.txt\n",
      "Traceback (most recent call last):\n",
      "  File \"/tmp/ipykernel_37540/132599818.py\", line 47, in crop_images\n",
      "    x1, y1, x2, y2 = find_coordinate(*img.shape[0:2], os.path.join(label_path, f'{patient}_{j:04d}.txt'), s)\n",
      "  File \"/tmp/ipykernel_37540/132599818.py\", line 7, in find_coordinate\n",
      "    assert aorta == 'j', f'如果只有一个label那么此时应为降主动脉, 但实际为{aorta}：{label_file.split(\"/\")[-1]}'\n",
      "AssertionError: 如果只有一个label那么此时应为降主动脉, 但实际为s：jiushan-S-Im21-30-J-Im21-82_0018.txt\n"
     ]
    },
    {
     "name": "stdout",
     "output_type": "stream",
     "text": [
      "******Processing kongxiaoqing-S-19-32-J-27-94******\n"
     ]
    },
    {
     "name": "stderr",
     "output_type": "stream",
     "text": [
      "Traceback (most recent call last):\n",
      "  File \"/tmp/ipykernel_37540/132599818.py\", line 47, in crop_images\n",
      "    x1, y1, x2, y2 = find_coordinate(*img.shape[0:2], os.path.join(label_path, f'{patient}_{j:04d}.txt'), s)\n",
      "  File \"/tmp/ipykernel_37540/132599818.py\", line 7, in find_coordinate\n",
      "    assert aorta == 'j', f'如果只有一个label那么此时应为降主动脉, 但实际为{aorta}：{label_file.split(\"/\")[-1]}'\n",
      "AssertionError: 如果只有一个label那么此时应为降主动脉, 但实际为s：kongxiaoqing-S-19-32-J-27-94_0015.txt\n",
      "Traceback (most recent call last):\n",
      "  File \"/tmp/ipykernel_37540/132599818.py\", line 47, in crop_images\n",
      "    x1, y1, x2, y2 = find_coordinate(*img.shape[0:2], os.path.join(label_path, f'{patient}_{j:04d}.txt'), s)\n",
      "  File \"/tmp/ipykernel_37540/132599818.py\", line 7, in find_coordinate\n",
      "    assert aorta == 'j', f'如果只有一个label那么此时应为降主动脉, 但实际为{aorta}：{label_file.split(\"/\")[-1]}'\n",
      "AssertionError: 如果只有一个label那么此时应为降主动脉, 但实际为s：kongxiaoqing-S-19-32-J-27-94_0016.txt\n",
      "Traceback (most recent call last):\n",
      "  File \"/tmp/ipykernel_37540/132599818.py\", line 47, in crop_images\n",
      "    x1, y1, x2, y2 = find_coordinate(*img.shape[0:2], os.path.join(label_path, f'{patient}_{j:04d}.txt'), s)\n",
      "  File \"/tmp/ipykernel_37540/132599818.py\", line 7, in find_coordinate\n",
      "    assert aorta == 'j', f'如果只有一个label那么此时应为降主动脉, 但实际为{aorta}：{label_file.split(\"/\")[-1]}'\n",
      "AssertionError: 如果只有一个label那么此时应为降主动脉, 但实际为s：kongxiaoqing-S-19-32-J-27-94_0017.txt\n"
     ]
    },
    {
     "name": "stdout",
     "output_type": "stream",
     "text": [
      "******Processing laiguizhen-J-Im38-121******\n"
     ]
    },
    {
     "name": "stderr",
     "output_type": "stream",
     "text": [
      "Traceback (most recent call last):\n",
      "  File \"/tmp/ipykernel_37540/132599818.py\", line 47, in crop_images\n",
      "    x1, y1, x2, y2 = find_coordinate(*img.shape[0:2], os.path.join(label_path, f'{patient}_{j:04d}.txt'), s)\n",
      "  File \"/tmp/ipykernel_37540/132599818.py\", line 3, in find_coordinate\n",
      "    with open(label_file, 'r') as f:\n",
      "FileNotFoundError: [Errno 2] No such file or directory: '/nfs3-p1/zsxm/dataset/aorta_ct_img_label/positive/laiguizhen-J-Im38-121/labels/laiguizhen-J-Im38-121_0104.txt'\n",
      "Traceback (most recent call last):\n",
      "  File \"/tmp/ipykernel_37540/132599818.py\", line 47, in crop_images\n",
      "    x1, y1, x2, y2 = find_coordinate(*img.shape[0:2], os.path.join(label_path, f'{patient}_{j:04d}.txt'), s)\n",
      "  File \"/tmp/ipykernel_37540/132599818.py\", line 3, in find_coordinate\n",
      "    with open(label_file, 'r') as f:\n",
      "FileNotFoundError: [Errno 2] No such file or directory: '/nfs3-p1/zsxm/dataset/aorta_ct_img_label/positive/laiguizhen-J-Im38-121/labels/laiguizhen-J-Im38-121_0105.txt'\n",
      "Traceback (most recent call last):\n",
      "  File \"/tmp/ipykernel_37540/132599818.py\", line 47, in crop_images\n",
      "    x1, y1, x2, y2 = find_coordinate(*img.shape[0:2], os.path.join(label_path, f'{patient}_{j:04d}.txt'), s)\n",
      "  File \"/tmp/ipykernel_37540/132599818.py\", line 3, in find_coordinate\n",
      "    with open(label_file, 'r') as f:\n",
      "FileNotFoundError: [Errno 2] No such file or directory: '/nfs3-p1/zsxm/dataset/aorta_ct_img_label/positive/laiguizhen-J-Im38-121/labels/laiguizhen-J-Im38-121_0120.txt'\n"
     ]
    },
    {
     "name": "stdout",
     "output_type": "stream",
     "text": [
      "******Processing laixuexiang-J-Im33-148******\n",
      "******Processing langhongwei-J-Im24-82******\n",
      "******Processing lanshaomei-S-Im20-31-J-Im20-79******\n"
     ]
    },
    {
     "name": "stderr",
     "output_type": "stream",
     "text": [
      "Traceback (most recent call last):\n",
      "  File \"/tmp/ipykernel_37540/132599818.py\", line 47, in crop_images\n",
      "    x1, y1, x2, y2 = find_coordinate(*img.shape[0:2], os.path.join(label_path, f'{patient}_{j:04d}.txt'), s)\n",
      "  File \"/tmp/ipykernel_37540/132599818.py\", line 7, in find_coordinate\n",
      "    assert aorta == 'j', f'如果只有一个label那么此时应为降主动脉, 但实际为{aorta}：{label_file.split(\"/\")[-1]}'\n",
      "AssertionError: 如果只有一个label那么此时应为降主动脉, 但实际为s：lanshaomei-S-Im20-31-J-Im20-79_0016.txt\n",
      "Traceback (most recent call last):\n",
      "  File \"/tmp/ipykernel_37540/132599818.py\", line 47, in crop_images\n",
      "    x1, y1, x2, y2 = find_coordinate(*img.shape[0:2], os.path.join(label_path, f'{patient}_{j:04d}.txt'), s)\n",
      "  File \"/tmp/ipykernel_37540/132599818.py\", line 7, in find_coordinate\n",
      "    assert aorta == 'j', f'如果只有一个label那么此时应为降主动脉, 但实际为{aorta}：{label_file.split(\"/\")[-1]}'\n",
      "AssertionError: 如果只有一个label那么此时应为降主动脉, 但实际为s：lanshaomei-S-Im20-31-J-Im20-79_0017.txt\n",
      "Traceback (most recent call last):\n",
      "  File \"/tmp/ipykernel_37540/132599818.py\", line 47, in crop_images\n",
      "    x1, y1, x2, y2 = find_coordinate(*img.shape[0:2], os.path.join(label_path, f'{patient}_{j:04d}.txt'), s)\n",
      "  File \"/tmp/ipykernel_37540/132599818.py\", line 7, in find_coordinate\n",
      "    assert aorta == 'j', f'如果只有一个label那么此时应为降主动脉, 但实际为{aorta}：{label_file.split(\"/\")[-1]}'\n",
      "AssertionError: 如果只有一个label那么此时应为降主动脉, 但实际为s：lanshaomei-S-Im20-31-J-Im20-79_0018.txt\n"
     ]
    },
    {
     "name": "stdout",
     "output_type": "stream",
     "text": [
      "******Processing leitufa-S-Im30-60-J-Im30-117******\n"
     ]
    },
    {
     "name": "stderr",
     "output_type": "stream",
     "text": [
      "Traceback (most recent call last):\n",
      "  File \"/tmp/ipykernel_37540/132599818.py\", line 47, in crop_images\n",
      "    x1, y1, x2, y2 = find_coordinate(*img.shape[0:2], os.path.join(label_path, f'{patient}_{j:04d}.txt'), s)\n",
      "  File \"/tmp/ipykernel_37540/132599818.py\", line 7, in find_coordinate\n",
      "    assert aorta == 'j', f'如果只有一个label那么此时应为降主动脉, 但实际为{aorta}：{label_file.split(\"/\")[-1]}'\n",
      "AssertionError: 如果只有一个label那么此时应为降主动脉, 但实际为s：leitufa-S-Im30-60-J-Im30-117_0026.txt\n",
      "Traceback (most recent call last):\n",
      "  File \"/tmp/ipykernel_37540/132599818.py\", line 47, in crop_images\n",
      "    x1, y1, x2, y2 = find_coordinate(*img.shape[0:2], os.path.join(label_path, f'{patient}_{j:04d}.txt'), s)\n",
      "  File \"/tmp/ipykernel_37540/132599818.py\", line 7, in find_coordinate\n",
      "    assert aorta == 'j', f'如果只有一个label那么此时应为降主动脉, 但实际为{aorta}：{label_file.split(\"/\")[-1]}'\n",
      "AssertionError: 如果只有一个label那么此时应为降主动脉, 但实际为s：leitufa-S-Im30-60-J-Im30-117_0027.txt\n",
      "Traceback (most recent call last):\n",
      "  File \"/tmp/ipykernel_37540/132599818.py\", line 47, in crop_images\n",
      "    x1, y1, x2, y2 = find_coordinate(*img.shape[0:2], os.path.join(label_path, f'{patient}_{j:04d}.txt'), s)\n",
      "  File \"/tmp/ipykernel_37540/132599818.py\", line 7, in find_coordinate\n",
      "    assert aorta == 'j', f'如果只有一个label那么此时应为降主动脉, 但实际为{aorta}：{label_file.split(\"/\")[-1]}'\n",
      "AssertionError: 如果只有一个label那么此时应为降主动脉, 但实际为s：leitufa-S-Im30-60-J-Im30-117_0028.txt\n"
     ]
    },
    {
     "name": "stdout",
     "output_type": "stream",
     "text": [
      "******Processing leixiaoying-S-Im18-26-J-18-71******\n"
     ]
    },
    {
     "name": "stderr",
     "output_type": "stream",
     "text": [
      "Traceback (most recent call last):\n",
      "  File \"/tmp/ipykernel_37540/132599818.py\", line 47, in crop_images\n",
      "    x1, y1, x2, y2 = find_coordinate(*img.shape[0:2], os.path.join(label_path, f'{patient}_{j:04d}.txt'), s)\n",
      "  File \"/tmp/ipykernel_37540/132599818.py\", line 7, in find_coordinate\n",
      "    assert aorta == 'j', f'如果只有一个label那么此时应为降主动脉, 但实际为{aorta}：{label_file.split(\"/\")[-1]}'\n",
      "AssertionError: 如果只有一个label那么此时应为降主动脉, 但实际为s：leixiaoying-S-Im18-26-J-18-71_0014.txt\n",
      "Traceback (most recent call last):\n",
      "  File \"/tmp/ipykernel_37540/132599818.py\", line 47, in crop_images\n",
      "    x1, y1, x2, y2 = find_coordinate(*img.shape[0:2], os.path.join(label_path, f'{patient}_{j:04d}.txt'), s)\n",
      "  File \"/tmp/ipykernel_37540/132599818.py\", line 7, in find_coordinate\n",
      "    assert aorta == 'j', f'如果只有一个label那么此时应为降主动脉, 但实际为{aorta}：{label_file.split(\"/\")[-1]}'\n",
      "AssertionError: 如果只有一个label那么此时应为降主动脉, 但实际为s：leixiaoying-S-Im18-26-J-18-71_0015.txt\n",
      "Traceback (most recent call last):\n",
      "  File \"/tmp/ipykernel_37540/132599818.py\", line 47, in crop_images\n",
      "    x1, y1, x2, y2 = find_coordinate(*img.shape[0:2], os.path.join(label_path, f'{patient}_{j:04d}.txt'), s)\n",
      "  File \"/tmp/ipykernel_37540/132599818.py\", line 7, in find_coordinate\n",
      "    assert aorta == 'j', f'如果只有一个label那么此时应为降主动脉, 但实际为{aorta}：{label_file.split(\"/\")[-1]}'\n",
      "AssertionError: 如果只有一个label那么此时应为降主动脉, 但实际为s：leixiaoying-S-Im18-26-J-18-71_0016.txt\n",
      "Traceback (most recent call last):\n",
      "  File \"/tmp/ipykernel_37540/132599818.py\", line 47, in crop_images\n",
      "    x1, y1, x2, y2 = find_coordinate(*img.shape[0:2], os.path.join(label_path, f'{patient}_{j:04d}.txt'), s)\n",
      "  File \"/tmp/ipykernel_37540/132599818.py\", line 7, in find_coordinate\n",
      "    assert aorta == 'j', f'如果只有一个label那么此时应为降主动脉, 但实际为{aorta}：{label_file.split(\"/\")[-1]}'\n",
      "AssertionError: 如果只有一个label那么此时应为降主动脉, 但实际为s：leixiaoying-S-Im18-26-J-18-71_0020.txt\n",
      "Traceback (most recent call last):\n",
      "  File \"/tmp/ipykernel_37540/132599818.py\", line 47, in crop_images\n",
      "    x1, y1, x2, y2 = find_coordinate(*img.shape[0:2], os.path.join(label_path, f'{patient}_{j:04d}.txt'), s)\n",
      "  File \"/tmp/ipykernel_37540/132599818.py\", line 7, in find_coordinate\n",
      "    assert aorta == 'j', f'如果只有一个label那么此时应为降主动脉, 但实际为{aorta}：{label_file.split(\"/\")[-1]}'\n",
      "AssertionError: 如果只有一个label那么此时应为降主动脉, 但实际为s：leixiaoying-S-Im18-26-J-18-71_0026.txt\n"
     ]
    },
    {
     "name": "stdout",
     "output_type": "stream",
     "text": [
      "******Processing liangjianhua-J-Im18-75******\n",
      "******Processing liangjianjun-S-17-23******\n"
     ]
    },
    {
     "name": "stderr",
     "output_type": "stream",
     "text": [
      "Traceback (most recent call last):\n",
      "  File \"/tmp/ipykernel_37540/132599818.py\", line 47, in crop_images\n",
      "    x1, y1, x2, y2 = find_coordinate(*img.shape[0:2], os.path.join(label_path, f'{patient}_{j:04d}.txt'), s)\n",
      "  File \"/tmp/ipykernel_37540/132599818.py\", line 3, in find_coordinate\n",
      "    with open(label_file, 'r') as f:\n",
      "FileNotFoundError: [Errno 2] No such file or directory: '/nfs3-p1/zsxm/dataset/aorta_ct_img_label/positive/liangjianjun-S-17-23/labels/liangjianjun-S-17-23_0013.txt'\n",
      "Traceback (most recent call last):\n",
      "  File \"/tmp/ipykernel_37540/132599818.py\", line 47, in crop_images\n",
      "    x1, y1, x2, y2 = find_coordinate(*img.shape[0:2], os.path.join(label_path, f'{patient}_{j:04d}.txt'), s)\n",
      "  File \"/tmp/ipykernel_37540/132599818.py\", line 7, in find_coordinate\n",
      "    assert aorta == 'j', f'如果只有一个label那么此时应为降主动脉, 但实际为{aorta}：{label_file.split(\"/\")[-1]}'\n",
      "AssertionError: 如果只有一个label那么此时应为降主动脉, 但实际为s：liangjianjun-S-17-23_0014.txt\n",
      "Traceback (most recent call last):\n",
      "  File \"/tmp/ipykernel_37540/132599818.py\", line 47, in crop_images\n",
      "    x1, y1, x2, y2 = find_coordinate(*img.shape[0:2], os.path.join(label_path, f'{patient}_{j:04d}.txt'), s)\n",
      "  File \"/tmp/ipykernel_37540/132599818.py\", line 7, in find_coordinate\n",
      "    assert aorta == 'j', f'如果只有一个label那么此时应为降主动脉, 但实际为{aorta}：{label_file.split(\"/\")[-1]}'\n",
      "AssertionError: 如果只有一个label那么此时应为降主动脉, 但实际为s：liangjianjun-S-17-23_0015.txt\n",
      "Traceback (most recent call last):\n",
      "  File \"/tmp/ipykernel_37540/132599818.py\", line 47, in crop_images\n",
      "    x1, y1, x2, y2 = find_coordinate(*img.shape[0:2], os.path.join(label_path, f'{patient}_{j:04d}.txt'), s)\n",
      "  File \"/tmp/ipykernel_37540/132599818.py\", line 7, in find_coordinate\n",
      "    assert aorta == 'j', f'如果只有一个label那么此时应为降主动脉, 但实际为{aorta}：{label_file.split(\"/\")[-1]}'\n",
      "AssertionError: 如果只有一个label那么此时应为降主动脉, 但实际为s：liangjianjun-S-17-23_0016.txt\n",
      "Traceback (most recent call last):\n",
      "  File \"/tmp/ipykernel_37540/132599818.py\", line 47, in crop_images\n",
      "    x1, y1, x2, y2 = find_coordinate(*img.shape[0:2], os.path.join(label_path, f'{patient}_{j:04d}.txt'), s)\n",
      "  File \"/tmp/ipykernel_37540/132599818.py\", line 7, in find_coordinate\n",
      "    assert aorta == 'j', f'如果只有一个label那么此时应为降主动脉, 但实际为{aorta}：{label_file.split(\"/\")[-1]}'\n",
      "AssertionError: 如果只有一个label那么此时应为降主动脉, 但实际为s：liangjianjun-S-17-23_0017.txt\n",
      "Traceback (most recent call last):\n",
      "  File \"/tmp/ipykernel_37540/132599818.py\", line 47, in crop_images\n",
      "    x1, y1, x2, y2 = find_coordinate(*img.shape[0:2], os.path.join(label_path, f'{patient}_{j:04d}.txt'), s)\n",
      "  File \"/tmp/ipykernel_37540/132599818.py\", line 7, in find_coordinate\n",
      "    assert aorta == 'j', f'如果只有一个label那么此时应为降主动脉, 但实际为{aorta}：{label_file.split(\"/\")[-1]}'\n",
      "AssertionError: 如果只有一个label那么此时应为降主动脉, 但实际为s：liangjianjun-S-17-23_0018.txt\n"
     ]
    },
    {
     "name": "stdout",
     "output_type": "stream",
     "text": [
      "******Processing lianzhaozhen-S-Im23-30-J-Im23-84******\n"
     ]
    },
    {
     "name": "stderr",
     "output_type": "stream",
     "text": [
      "Traceback (most recent call last):\n",
      "  File \"/tmp/ipykernel_37540/132599818.py\", line 47, in crop_images\n",
      "    x1, y1, x2, y2 = find_coordinate(*img.shape[0:2], os.path.join(label_path, f'{patient}_{j:04d}.txt'), s)\n",
      "  File \"/tmp/ipykernel_37540/132599818.py\", line 7, in find_coordinate\n",
      "    assert aorta == 'j', f'如果只有一个label那么此时应为降主动脉, 但实际为{aorta}：{label_file.split(\"/\")[-1]}'\n",
      "AssertionError: 如果只有一个label那么此时应为降主动脉, 但实际为s：lianzhaozhen-S-Im23-30-J-Im23-84_0019.txt\n",
      "Traceback (most recent call last):\n",
      "  File \"/tmp/ipykernel_37540/132599818.py\", line 47, in crop_images\n",
      "    x1, y1, x2, y2 = find_coordinate(*img.shape[0:2], os.path.join(label_path, f'{patient}_{j:04d}.txt'), s)\n",
      "  File \"/tmp/ipykernel_37540/132599818.py\", line 3, in find_coordinate\n",
      "    with open(label_file, 'r') as f:\n",
      "FileNotFoundError: [Errno 2] No such file or directory: '/nfs3-p1/zsxm/dataset/aorta_ct_img_label/positive/lianzhaozhen-S-Im23-30-J-Im23-84/labels/lianzhaozhen-S-Im23-30-J-Im23-84_0068.txt'\n",
      "Traceback (most recent call last):\n",
      "  File \"/tmp/ipykernel_37540/132599818.py\", line 47, in crop_images\n",
      "    x1, y1, x2, y2 = find_coordinate(*img.shape[0:2], os.path.join(label_path, f'{patient}_{j:04d}.txt'), s)\n",
      "  File \"/tmp/ipykernel_37540/132599818.py\", line 3, in find_coordinate\n",
      "    with open(label_file, 'r') as f:\n",
      "FileNotFoundError: [Errno 2] No such file or directory: '/nfs3-p1/zsxm/dataset/aorta_ct_img_label/positive/lianzhaozhen-S-Im23-30-J-Im23-84/labels/lianzhaozhen-S-Im23-30-J-Im23-84_0069.txt'\n",
      "Traceback (most recent call last):\n",
      "  File \"/tmp/ipykernel_37540/132599818.py\", line 47, in crop_images\n",
      "    x1, y1, x2, y2 = find_coordinate(*img.shape[0:2], os.path.join(label_path, f'{patient}_{j:04d}.txt'), s)\n",
      "  File \"/tmp/ipykernel_37540/132599818.py\", line 3, in find_coordinate\n",
      "    with open(label_file, 'r') as f:\n",
      "FileNotFoundError: [Errno 2] No such file or directory: '/nfs3-p1/zsxm/dataset/aorta_ct_img_label/positive/lianzhaozhen-S-Im23-30-J-Im23-84/labels/lianzhaozhen-S-Im23-30-J-Im23-84_0072.txt'\n",
      "Traceback (most recent call last):\n",
      "  File \"/tmp/ipykernel_37540/132599818.py\", line 47, in crop_images\n",
      "    x1, y1, x2, y2 = find_coordinate(*img.shape[0:2], os.path.join(label_path, f'{patient}_{j:04d}.txt'), s)\n",
      "  File \"/tmp/ipykernel_37540/132599818.py\", line 3, in find_coordinate\n",
      "    with open(label_file, 'r') as f:\n",
      "FileNotFoundError: [Errno 2] No such file or directory: '/nfs3-p1/zsxm/dataset/aorta_ct_img_label/positive/lianzhaozhen-S-Im23-30-J-Im23-84/labels/lianzhaozhen-S-Im23-30-J-Im23-84_0073.txt'\n"
     ]
    },
    {
     "name": "stdout",
     "output_type": "stream",
     "text": [
      "******Processing lidaoheng-S-Im22-36-J-Im22-92******\n"
     ]
    },
    {
     "name": "stderr",
     "output_type": "stream",
     "text": [
      "Traceback (most recent call last):\n",
      "  File \"/tmp/ipykernel_37540/132599818.py\", line 47, in crop_images\n",
      "    x1, y1, x2, y2 = find_coordinate(*img.shape[0:2], os.path.join(label_path, f'{patient}_{j:04d}.txt'), s)\n",
      "  File \"/tmp/ipykernel_37540/132599818.py\", line 7, in find_coordinate\n",
      "    assert aorta == 'j', f'如果只有一个label那么此时应为降主动脉, 但实际为{aorta}：{label_file.split(\"/\")[-1]}'\n",
      "AssertionError: 如果只有一个label那么此时应为降主动脉, 但实际为s：lidaoheng-S-Im22-36-J-Im22-92_0018.txt\n",
      "Traceback (most recent call last):\n",
      "  File \"/tmp/ipykernel_37540/132599818.py\", line 47, in crop_images\n",
      "    x1, y1, x2, y2 = find_coordinate(*img.shape[0:2], os.path.join(label_path, f'{patient}_{j:04d}.txt'), s)\n",
      "  File \"/tmp/ipykernel_37540/132599818.py\", line 3, in find_coordinate\n",
      "    with open(label_file, 'r') as f:\n",
      "FileNotFoundError: [Errno 2] No such file or directory: '/nfs3-p1/zsxm/dataset/aorta_ct_img_label/positive/lidaoheng-S-Im22-36-J-Im22-92/labels/lidaoheng-S-Im22-36-J-Im22-92_0093.txt'\n",
      "Traceback (most recent call last):\n",
      "  File \"/tmp/ipykernel_37540/132599818.py\", line 47, in crop_images\n",
      "    x1, y1, x2, y2 = find_coordinate(*img.shape[0:2], os.path.join(label_path, f'{patient}_{j:04d}.txt'), s)\n",
      "  File \"/tmp/ipykernel_37540/132599818.py\", line 3, in find_coordinate\n",
      "    with open(label_file, 'r') as f:\n",
      "FileNotFoundError: [Errno 2] No such file or directory: '/nfs3-p1/zsxm/dataset/aorta_ct_img_label/positive/lidaoheng-S-Im22-36-J-Im22-92/labels/lidaoheng-S-Im22-36-J-Im22-92_0094.txt'\n"
     ]
    },
    {
     "name": "stdout",
     "output_type": "stream",
     "text": [
      "******Processing ligang-S-Im33-36******\n"
     ]
    },
    {
     "name": "stderr",
     "output_type": "stream",
     "text": [
      "Traceback (most recent call last):\n",
      "  File \"/tmp/ipykernel_37540/132599818.py\", line 47, in crop_images\n",
      "    x1, y1, x2, y2 = find_coordinate(*img.shape[0:2], os.path.join(label_path, f'{patient}_{j:04d}.txt'), s)\n",
      "  File \"/tmp/ipykernel_37540/132599818.py\", line 7, in find_coordinate\n",
      "    assert aorta == 'j', f'如果只有一个label那么此时应为降主动脉, 但实际为{aorta}：{label_file.split(\"/\")[-1]}'\n",
      "AssertionError: 如果只有一个label那么此时应为降主动脉, 但实际为s：ligang-S-Im33-36_0038.txt\n",
      "Traceback (most recent call last):\n",
      "  File \"/tmp/ipykernel_37540/132599818.py\", line 47, in crop_images\n",
      "    x1, y1, x2, y2 = find_coordinate(*img.shape[0:2], os.path.join(label_path, f'{patient}_{j:04d}.txt'), s)\n",
      "  File \"/tmp/ipykernel_37540/132599818.py\", line 7, in find_coordinate\n",
      "    assert aorta == 'j', f'如果只有一个label那么此时应为降主动脉, 但实际为{aorta}：{label_file.split(\"/\")[-1]}'\n",
      "AssertionError: 如果只有一个label那么此时应为降主动脉, 但实际为s：liguangjun-S-25-31-J-25-93_0021.txt\n",
      "Traceback (most recent call last):\n",
      "  File \"/tmp/ipykernel_37540/132599818.py\", line 47, in crop_images\n",
      "    x1, y1, x2, y2 = find_coordinate(*img.shape[0:2], os.path.join(label_path, f'{patient}_{j:04d}.txt'), s)\n",
      "  File \"/tmp/ipykernel_37540/132599818.py\", line 7, in find_coordinate\n",
      "    assert aorta == 'j', f'如果只有一个label那么此时应为降主动脉, 但实际为{aorta}：{label_file.split(\"/\")[-1]}'\n",
      "AssertionError: 如果只有一个label那么此时应为降主动脉, 但实际为s：liguangjun-S-25-31-J-25-93_0022.txt\n",
      "Traceback (most recent call last):\n",
      "  File \"/tmp/ipykernel_37540/132599818.py\", line 47, in crop_images\n",
      "    x1, y1, x2, y2 = find_coordinate(*img.shape[0:2], os.path.join(label_path, f'{patient}_{j:04d}.txt'), s)\n",
      "  File \"/tmp/ipykernel_37540/132599818.py\", line 7, in find_coordinate\n",
      "    assert aorta == 'j', f'如果只有一个label那么此时应为降主动脉, 但实际为{aorta}：{label_file.split(\"/\")[-1]}'\n",
      "AssertionError: 如果只有一个label那么此时应为降主动脉, 但实际为s：liguangjun-S-25-31-J-25-93_0023.txt\n"
     ]
    },
    {
     "name": "stdout",
     "output_type": "stream",
     "text": [
      "******Processing liguangjun-S-25-31-J-25-93******\n"
     ]
    },
    {
     "name": "stderr",
     "output_type": "stream",
     "text": [
      "Traceback (most recent call last):\n",
      "  File \"/tmp/ipykernel_37540/132599818.py\", line 47, in crop_images\n",
      "    x1, y1, x2, y2 = find_coordinate(*img.shape[0:2], os.path.join(label_path, f'{patient}_{j:04d}.txt'), s)\n",
      "  File \"/tmp/ipykernel_37540/132599818.py\", line 3, in find_coordinate\n",
      "    with open(label_file, 'r') as f:\n",
      "FileNotFoundError: [Errno 2] No such file or directory: '/nfs3-p1/zsxm/dataset/aorta_ct_img_label/positive/liguangjun-S-25-31-J-25-93/labels/liguangjun-S-25-31-J-25-93_0095.txt'\n",
      "Traceback (most recent call last):\n",
      "  File \"/tmp/ipykernel_37540/132599818.py\", line 47, in crop_images\n",
      "    x1, y1, x2, y2 = find_coordinate(*img.shape[0:2], os.path.join(label_path, f'{patient}_{j:04d}.txt'), s)\n",
      "  File \"/tmp/ipykernel_37540/132599818.py\", line 7, in find_coordinate\n",
      "    assert aorta == 'j', f'如果只有一个label那么此时应为降主动脉, 但实际为{aorta}：{label_file.split(\"/\")[-1]}'\n",
      "AssertionError: 如果只有一个label那么此时应为降主动脉, 但实际为s：liguirong-S-18-22_0014.txt\n",
      "Traceback (most recent call last):\n",
      "  File \"/tmp/ipykernel_37540/132599818.py\", line 47, in crop_images\n",
      "    x1, y1, x2, y2 = find_coordinate(*img.shape[0:2], os.path.join(label_path, f'{patient}_{j:04d}.txt'), s)\n",
      "  File \"/tmp/ipykernel_37540/132599818.py\", line 7, in find_coordinate\n",
      "    assert aorta == 'j', f'如果只有一个label那么此时应为降主动脉, 但实际为{aorta}：{label_file.split(\"/\")[-1]}'\n",
      "AssertionError: 如果只有一个label那么此时应为降主动脉, 但实际为s：liguirong-S-18-22_0015.txt\n",
      "Traceback (most recent call last):\n",
      "  File \"/tmp/ipykernel_37540/132599818.py\", line 47, in crop_images\n",
      "    x1, y1, x2, y2 = find_coordinate(*img.shape[0:2], os.path.join(label_path, f'{patient}_{j:04d}.txt'), s)\n",
      "  File \"/tmp/ipykernel_37540/132599818.py\", line 7, in find_coordinate\n",
      "    assert aorta == 'j', f'如果只有一个label那么此时应为降主动脉, 但实际为{aorta}：{label_file.split(\"/\")[-1]}'\n",
      "AssertionError: 如果只有一个label那么此时应为降主动脉, 但实际为s：liguirong-S-18-22_0016.txt\n"
     ]
    },
    {
     "name": "stdout",
     "output_type": "stream",
     "text": [
      "******Processing liguirong-S-18-22******\n",
      "******Processing lihuanhuan-S-Im20-28-J-Im20-59******\n"
     ]
    },
    {
     "name": "stderr",
     "output_type": "stream",
     "text": [
      "Traceback (most recent call last):\n",
      "  File \"/tmp/ipykernel_37540/132599818.py\", line 47, in crop_images\n",
      "    x1, y1, x2, y2 = find_coordinate(*img.shape[0:2], os.path.join(label_path, f'{patient}_{j:04d}.txt'), s)\n",
      "  File \"/tmp/ipykernel_37540/132599818.py\", line 7, in find_coordinate\n",
      "    assert aorta == 'j', f'如果只有一个label那么此时应为降主动脉, 但实际为{aorta}：{label_file.split(\"/\")[-1]}'\n",
      "AssertionError: 如果只有一个label那么此时应为降主动脉, 但实际为s：lihuanhuan-S-Im20-28-J-Im20-59_0016.txt\n"
     ]
    },
    {
     "name": "stdout",
     "output_type": "stream",
     "text": [
      "******Processing lijianming-J-Im32-124******\n",
      "******Processing linfaqiu-S-18-29******\n"
     ]
    },
    {
     "name": "stderr",
     "output_type": "stream",
     "text": [
      "Traceback (most recent call last):\n",
      "  File \"/tmp/ipykernel_37540/132599818.py\", line 47, in crop_images\n",
      "    x1, y1, x2, y2 = find_coordinate(*img.shape[0:2], os.path.join(label_path, f'{patient}_{j:04d}.txt'), s)\n",
      "  File \"/tmp/ipykernel_37540/132599818.py\", line 7, in find_coordinate\n",
      "    assert aorta == 'j', f'如果只有一个label那么此时应为降主动脉, 但实际为{aorta}：{label_file.split(\"/\")[-1]}'\n",
      "AssertionError: 如果只有一个label那么此时应为降主动脉, 但实际为s：linfaqiu-S-18-29_0014.txt\n",
      "Traceback (most recent call last):\n",
      "  File \"/tmp/ipykernel_37540/132599818.py\", line 47, in crop_images\n",
      "    x1, y1, x2, y2 = find_coordinate(*img.shape[0:2], os.path.join(label_path, f'{patient}_{j:04d}.txt'), s)\n",
      "  File \"/tmp/ipykernel_37540/132599818.py\", line 7, in find_coordinate\n",
      "    assert aorta == 'j', f'如果只有一个label那么此时应为降主动脉, 但实际为{aorta}：{label_file.split(\"/\")[-1]}'\n",
      "AssertionError: 如果只有一个label那么此时应为降主动脉, 但实际为s：linfaqiu-S-18-29_0015.txt\n"
     ]
    },
    {
     "name": "stdout",
     "output_type": "stream",
     "text": [
      "******Processing lingenqiang-S-Im30-39******\n"
     ]
    },
    {
     "name": "stderr",
     "output_type": "stream",
     "text": [
      "Traceback (most recent call last):\n",
      "  File \"/tmp/ipykernel_37540/132599818.py\", line 47, in crop_images\n",
      "    x1, y1, x2, y2 = find_coordinate(*img.shape[0:2], os.path.join(label_path, f'{patient}_{j:04d}.txt'), s)\n",
      "  File \"/tmp/ipykernel_37540/132599818.py\", line 7, in find_coordinate\n",
      "    assert aorta == 'j', f'如果只有一个label那么此时应为降主动脉, 但实际为{aorta}：{label_file.split(\"/\")[-1]}'\n",
      "AssertionError: 如果只有一个label那么此时应为降主动脉, 但实际为s：lingenqiang-S-Im30-39_0026.txt\n"
     ]
    },
    {
     "name": "stdout",
     "output_type": "stream",
     "text": [
      "******Processing lingshounv-S-Im18-28-J-Im18-76******\n"
     ]
    },
    {
     "name": "stderr",
     "output_type": "stream",
     "text": [
      "Traceback (most recent call last):\n",
      "  File \"/tmp/ipykernel_37540/132599818.py\", line 47, in crop_images\n",
      "    x1, y1, x2, y2 = find_coordinate(*img.shape[0:2], os.path.join(label_path, f'{patient}_{j:04d}.txt'), s)\n",
      "  File \"/tmp/ipykernel_37540/132599818.py\", line 7, in find_coordinate\n",
      "    assert aorta == 'j', f'如果只有一个label那么此时应为降主动脉, 但实际为{aorta}：{label_file.split(\"/\")[-1]}'\n",
      "AssertionError: 如果只有一个label那么此时应为降主动脉, 但实际为s：lingshounv-S-Im18-28-J-Im18-76_0014.txt\n",
      "Traceback (most recent call last):\n",
      "  File \"/tmp/ipykernel_37540/132599818.py\", line 47, in crop_images\n",
      "    x1, y1, x2, y2 = find_coordinate(*img.shape[0:2], os.path.join(label_path, f'{patient}_{j:04d}.txt'), s)\n",
      "  File \"/tmp/ipykernel_37540/132599818.py\", line 3, in find_coordinate\n",
      "    with open(label_file, 'r') as f:\n",
      "FileNotFoundError: [Errno 2] No such file or directory: '/nfs3-p1/zsxm/dataset/aorta_ct_img_label/positive/lingshounv-S-Im18-28-J-Im18-76/labels/lingshounv-S-Im18-28-J-Im18-76_0072.txt'\n"
     ]
    },
    {
     "name": "stdout",
     "output_type": "stream",
     "text": [
      "******Processing linjiaxiang-J-21-72******\n",
      "******Processing linkegui-S-18-33-J-18-54******\n"
     ]
    },
    {
     "name": "stderr",
     "output_type": "stream",
     "text": [
      "Traceback (most recent call last):\n",
      "  File \"/tmp/ipykernel_37540/132599818.py\", line 47, in crop_images\n",
      "    x1, y1, x2, y2 = find_coordinate(*img.shape[0:2], os.path.join(label_path, f'{patient}_{j:04d}.txt'), s)\n",
      "  File \"/tmp/ipykernel_37540/132599818.py\", line 7, in find_coordinate\n",
      "    assert aorta == 'j', f'如果只有一个label那么此时应为降主动脉, 但实际为{aorta}：{label_file.split(\"/\")[-1]}'\n",
      "AssertionError: 如果只有一个label那么此时应为降主动脉, 但实际为s：linkegui-S-18-33-J-18-54_0014.txt\n",
      "Traceback (most recent call last):\n",
      "  File \"/tmp/ipykernel_37540/132599818.py\", line 47, in crop_images\n",
      "    x1, y1, x2, y2 = find_coordinate(*img.shape[0:2], os.path.join(label_path, f'{patient}_{j:04d}.txt'), s)\n",
      "  File \"/tmp/ipykernel_37540/132599818.py\", line 7, in find_coordinate\n",
      "    assert aorta == 'j', f'如果只有一个label那么此时应为降主动脉, 但实际为{aorta}：{label_file.split(\"/\")[-1]}'\n",
      "AssertionError: 如果只有一个label那么此时应为降主动脉, 但实际为s：linkegui-S-18-33-J-18-54_0015.txt\n"
     ]
    },
    {
     "name": "stdout",
     "output_type": "stream",
     "text": [
      "******Processing linrichun-J-16-72******\n",
      "******Processing lirucou-J-19-59******\n",
      "******Processing lisiquan-S-68-70-J-68-89******\n"
     ]
    },
    {
     "name": "stderr",
     "output_type": "stream",
     "text": [
      "Traceback (most recent call last):\n",
      "  File \"/tmp/ipykernel_37540/132599818.py\", line 47, in crop_images\n",
      "    x1, y1, x2, y2 = find_coordinate(*img.shape[0:2], os.path.join(label_path, f'{patient}_{j:04d}.txt'), s)\n",
      "  File \"/tmp/ipykernel_37540/132599818.py\", line 7, in find_coordinate\n",
      "    assert aorta == 'j', f'如果只有一个label那么此时应为降主动脉, 但实际为{aorta}：{label_file.split(\"/\")[-1]}'\n",
      "AssertionError: 如果只有一个label那么此时应为降主动脉, 但实际为s：lisiquan-S-68-70-J-68-89_0064.txt\n",
      "Traceback (most recent call last):\n",
      "  File \"/tmp/ipykernel_37540/132599818.py\", line 47, in crop_images\n",
      "    x1, y1, x2, y2 = find_coordinate(*img.shape[0:2], os.path.join(label_path, f'{patient}_{j:04d}.txt'), s)\n",
      "  File \"/tmp/ipykernel_37540/132599818.py\", line 7, in find_coordinate\n",
      "    assert aorta == 'j', f'如果只有一个label那么此时应为降主动脉, 但实际为{aorta}：{label_file.split(\"/\")[-1]}'\n",
      "AssertionError: 如果只有一个label那么此时应为降主动脉, 但实际为s：lisiquan-S-68-70-J-68-89_0065.txt\n"
     ]
    },
    {
     "name": "stdout",
     "output_type": "stream",
     "text": [
      "******Processing liubihai-S-23-26-J-23-93******\n"
     ]
    },
    {
     "name": "stderr",
     "output_type": "stream",
     "text": [
      "Traceback (most recent call last):\n",
      "  File \"/tmp/ipykernel_37540/132599818.py\", line 47, in crop_images\n",
      "    x1, y1, x2, y2 = find_coordinate(*img.shape[0:2], os.path.join(label_path, f'{patient}_{j:04d}.txt'), s)\n",
      "  File \"/tmp/ipykernel_37540/132599818.py\", line 7, in find_coordinate\n",
      "    assert aorta == 'j', f'如果只有一个label那么此时应为降主动脉, 但实际为{aorta}：{label_file.split(\"/\")[-1]}'\n",
      "AssertionError: 如果只有一个label那么此时应为降主动脉, 但实际为s：liubihai-S-23-26-J-23-93_0019.txt\n",
      "Traceback (most recent call last):\n",
      "  File \"/tmp/ipykernel_37540/132599818.py\", line 47, in crop_images\n",
      "    x1, y1, x2, y2 = find_coordinate(*img.shape[0:2], os.path.join(label_path, f'{patient}_{j:04d}.txt'), s)\n",
      "  File \"/tmp/ipykernel_37540/132599818.py\", line 7, in find_coordinate\n",
      "    assert aorta == 'j', f'如果只有一个label那么此时应为降主动脉, 但实际为{aorta}：{label_file.split(\"/\")[-1]}'\n",
      "AssertionError: 如果只有一个label那么此时应为降主动脉, 但实际为s：liubihai-S-23-26-J-23-93_0020.txt\n",
      "Traceback (most recent call last):\n",
      "  File \"/tmp/ipykernel_37540/132599818.py\", line 47, in crop_images\n",
      "    x1, y1, x2, y2 = find_coordinate(*img.shape[0:2], os.path.join(label_path, f'{patient}_{j:04d}.txt'), s)\n",
      "  File \"/tmp/ipykernel_37540/132599818.py\", line 3, in find_coordinate\n",
      "    with open(label_file, 'r') as f:\n",
      "FileNotFoundError: [Errno 2] No such file or directory: '/nfs3-p1/zsxm/dataset/aorta_ct_img_label/positive/liubihai-S-23-26-J-23-93/labels/liubihai-S-23-26-J-23-93_0081.txt'\n",
      "Traceback (most recent call last):\n",
      "  File \"/tmp/ipykernel_37540/132599818.py\", line 47, in crop_images\n",
      "    x1, y1, x2, y2 = find_coordinate(*img.shape[0:2], os.path.join(label_path, f'{patient}_{j:04d}.txt'), s)\n",
      "  File \"/tmp/ipykernel_37540/132599818.py\", line 3, in find_coordinate\n",
      "    with open(label_file, 'r') as f:\n",
      "FileNotFoundError: [Errno 2] No such file or directory: '/nfs3-p1/zsxm/dataset/aorta_ct_img_label/positive/liubihai-S-23-26-J-23-93/labels/liubihai-S-23-26-J-23-93_0082.txt'\n"
     ]
    },
    {
     "name": "stdout",
     "output_type": "stream",
     "text": [
      "******Processing liubingsong-J-20-84******\n",
      "******Processing liudongxian-J-16-66******\n",
      "******Processing liuhongfu-J-57-200******\n",
      "******Processing liukesheng-J-Im30-99******\n",
      "******Processing liushufen-S-18-27-J-18-78******\n"
     ]
    },
    {
     "name": "stderr",
     "output_type": "stream",
     "text": [
      "Traceback (most recent call last):\n",
      "  File \"/tmp/ipykernel_37540/132599818.py\", line 47, in crop_images\n",
      "    x1, y1, x2, y2 = find_coordinate(*img.shape[0:2], os.path.join(label_path, f'{patient}_{j:04d}.txt'), s)\n",
      "  File \"/tmp/ipykernel_37540/132599818.py\", line 7, in find_coordinate\n",
      "    assert aorta == 'j', f'如果只有一个label那么此时应为降主动脉, 但实际为{aorta}：{label_file.split(\"/\")[-1]}'\n",
      "AssertionError: 如果只有一个label那么此时应为降主动脉, 但实际为s：liushufen-S-18-27-J-18-78_0014.txt\n",
      "Traceback (most recent call last):\n",
      "  File \"/tmp/ipykernel_37540/132599818.py\", line 47, in crop_images\n",
      "    x1, y1, x2, y2 = find_coordinate(*img.shape[0:2], os.path.join(label_path, f'{patient}_{j:04d}.txt'), s)\n",
      "  File \"/tmp/ipykernel_37540/132599818.py\", line 7, in find_coordinate\n",
      "    assert aorta == 'j', f'如果只有一个label那么此时应为降主动脉, 但实际为{aorta}：{label_file.split(\"/\")[-1]}'\n",
      "AssertionError: 如果只有一个label那么此时应为降主动脉, 但实际为s：liushufen-S-18-27-J-18-78_0015.txt\n",
      "Traceback (most recent call last):\n",
      "  File \"/tmp/ipykernel_37540/132599818.py\", line 47, in crop_images\n",
      "    x1, y1, x2, y2 = find_coordinate(*img.shape[0:2], os.path.join(label_path, f'{patient}_{j:04d}.txt'), s)\n",
      "  File \"/tmp/ipykernel_37540/132599818.py\", line 7, in find_coordinate\n",
      "    assert aorta == 'j', f'如果只有一个label那么此时应为降主动脉, 但实际为{aorta}：{label_file.split(\"/\")[-1]}'\n",
      "AssertionError: 如果只有一个label那么此时应为降主动脉, 但实际为s：liushufen-S-18-27-J-18-78_0016.txt\n"
     ]
    },
    {
     "name": "stdout",
     "output_type": "stream",
     "text": [
      "******Processing liuyunfei-J-Im40-95******\n",
      "******Processing liuzhangliu-J-22-28******\n",
      "******Processing liwenjun-J-Im33-132******\n",
      "******Processing lixueyong-J-Im25-31******\n",
      "******Processing liyehua-S-Im30-47-J-Im30-131******\n"
     ]
    },
    {
     "name": "stderr",
     "output_type": "stream",
     "text": [
      "Traceback (most recent call last):\n",
      "  File \"/tmp/ipykernel_37540/132599818.py\", line 47, in crop_images\n",
      "    x1, y1, x2, y2 = find_coordinate(*img.shape[0:2], os.path.join(label_path, f'{patient}_{j:04d}.txt'), s)\n",
      "  File \"/tmp/ipykernel_37540/132599818.py\", line 7, in find_coordinate\n",
      "    assert aorta == 'j', f'如果只有一个label那么此时应为降主动脉, 但实际为{aorta}：{label_file.split(\"/\")[-1]}'\n",
      "AssertionError: 如果只有一个label那么此时应为降主动脉, 但实际为s：liyehua-S-Im30-47-J-Im30-131_0026.txt\n",
      "Traceback (most recent call last):\n",
      "  File \"/tmp/ipykernel_37540/132599818.py\", line 47, in crop_images\n",
      "    x1, y1, x2, y2 = find_coordinate(*img.shape[0:2], os.path.join(label_path, f'{patient}_{j:04d}.txt'), s)\n",
      "  File \"/tmp/ipykernel_37540/132599818.py\", line 3, in find_coordinate\n",
      "    with open(label_file, 'r') as f:\n",
      "FileNotFoundError: [Errno 2] No such file or directory: '/nfs3-p1/zsxm/dataset/aorta_ct_img_label/positive/liyehua-S-Im30-47-J-Im30-131/labels/liyehua-S-Im30-47-J-Im30-131_0133.txt'\n"
     ]
    },
    {
     "name": "stdout",
     "output_type": "stream",
     "text": [
      "******Processing lizhongliang-J-Im19-86******\n",
      "******Processing loulinhua-S-Im27-30******\n",
      "******Processing louyidong-S-Im38-58-J-Im38-133******\n",
      "******Processing lufeng-J-Im28-103******\n",
      "******Processing luguolin-J-Im33-40******\n",
      "******Processing luohongzhang-J-17-41******\n",
      "******Processing luojun-J-Im22-81******\n",
      "******Processing luoyunshen-J-Im29-94******\n"
     ]
    },
    {
     "name": "stderr",
     "output_type": "stream",
     "text": [
      "Traceback (most recent call last):\n",
      "  File \"/tmp/ipykernel_37540/132599818.py\", line 47, in crop_images\n",
      "    x1, y1, x2, y2 = find_coordinate(*img.shape[0:2], os.path.join(label_path, f'{patient}_{j:04d}.txt'), s)\n",
      "  File \"/tmp/ipykernel_37540/132599818.py\", line 3, in find_coordinate\n",
      "    with open(label_file, 'r') as f:\n",
      "FileNotFoundError: [Errno 2] No such file or directory: '/nfs3-p1/zsxm/dataset/aorta_ct_img_label/positive/luoyunshen-J-Im29-94/labels/luoyunshen-J-Im29-94_0095.txt'\n",
      "Traceback (most recent call last):\n",
      "  File \"/tmp/ipykernel_37540/132599818.py\", line 47, in crop_images\n",
      "    x1, y1, x2, y2 = find_coordinate(*img.shape[0:2], os.path.join(label_path, f'{patient}_{j:04d}.txt'), s)\n",
      "  File \"/tmp/ipykernel_37540/132599818.py\", line 7, in find_coordinate\n",
      "    assert aorta == 'j', f'如果只有一个label那么此时应为降主动脉, 但实际为{aorta}：{label_file.split(\"/\")[-1]}'\n",
      "AssertionError: 如果只有一个label那么此时应为降主动脉, 但实际为s：luzhiping-S-Im25-35-J-Im25-54_0021.txt\n"
     ]
    },
    {
     "name": "stdout",
     "output_type": "stream",
     "text": [
      "******Processing luzhiping-S-Im25-35-J-Im25-54******\n",
      "******Processing lvguanyang-J-Im22-60******\n",
      "******Processing lvrongling-J-Im26-86******\n",
      "******Processing lvshibiao-J-Im20-76******\n",
      "******Processing lvxiangshen-J-Im32-139******\n",
      "******Processing maliwei-S-Im30-48-J-Im30-101******\n",
      "******Processing maxianfeng-J-Im37-64******\n",
      "******Processing mayongzhong-J-Im22-86******\n",
      "******Processing miqiurao-S-Im22-34--J-Im22-85******\n"
     ]
    },
    {
     "name": "stderr",
     "output_type": "stream",
     "text": [
      "Traceback (most recent call last):\n",
      "  File \"/tmp/ipykernel_37540/132599818.py\", line 47, in crop_images\n",
      "    x1, y1, x2, y2 = find_coordinate(*img.shape[0:2], os.path.join(label_path, f'{patient}_{j:04d}.txt'), s)\n",
      "  File \"/tmp/ipykernel_37540/132599818.py\", line 7, in find_coordinate\n",
      "    assert aorta == 'j', f'如果只有一个label那么此时应为降主动脉, 但实际为{aorta}：{label_file.split(\"/\")[-1]}'\n",
      "AssertionError: 如果只有一个label那么此时应为降主动脉, 但实际为s：miqiurao-S-Im22-34--J-Im22-85_0018.txt\n"
     ]
    },
    {
     "name": "stdout",
     "output_type": "stream",
     "text": [
      "******Processing nixueya-J-19-75******\n",
      "******Processing niyongru-S-Im38-43-J-Im38-148******\n",
      "******Processing panbanggeng-J-Im19-78******\n",
      "******Processing pancunxiao-S-16-30-J-16-70******\n"
     ]
    },
    {
     "name": "stderr",
     "output_type": "stream",
     "text": [
      "Traceback (most recent call last):\n",
      "  File \"/tmp/ipykernel_37540/132599818.py\", line 47, in crop_images\n",
      "    x1, y1, x2, y2 = find_coordinate(*img.shape[0:2], os.path.join(label_path, f'{patient}_{j:04d}.txt'), s)\n",
      "  File \"/tmp/ipykernel_37540/132599818.py\", line 7, in find_coordinate\n",
      "    assert aorta == 'j', f'如果只有一个label那么此时应为降主动脉, 但实际为{aorta}：{label_file.split(\"/\")[-1]}'\n",
      "AssertionError: 如果只有一个label那么此时应为降主动脉, 但实际为s：pancunxiao-S-16-30-J-16-70_0012.txt\n",
      "Traceback (most recent call last):\n",
      "  File \"/tmp/ipykernel_37540/132599818.py\", line 47, in crop_images\n",
      "    x1, y1, x2, y2 = find_coordinate(*img.shape[0:2], os.path.join(label_path, f'{patient}_{j:04d}.txt'), s)\n",
      "  File \"/tmp/ipykernel_37540/132599818.py\", line 7, in find_coordinate\n",
      "    assert aorta == 'j', f'如果只有一个label那么此时应为降主动脉, 但实际为{aorta}：{label_file.split(\"/\")[-1]}'\n",
      "AssertionError: 如果只有一个label那么此时应为降主动脉, 但实际为s：pancunxiao-S-16-30-J-16-70_0013.txt\n",
      "Traceback (most recent call last):\n",
      "  File \"/tmp/ipykernel_37540/132599818.py\", line 47, in crop_images\n",
      "    x1, y1, x2, y2 = find_coordinate(*img.shape[0:2], os.path.join(label_path, f'{patient}_{j:04d}.txt'), s)\n",
      "  File \"/tmp/ipykernel_37540/132599818.py\", line 7, in find_coordinate\n",
      "    assert aorta == 'j', f'如果只有一个label那么此时应为降主动脉, 但实际为{aorta}：{label_file.split(\"/\")[-1]}'\n",
      "AssertionError: 如果只有一个label那么此时应为降主动脉, 但实际为s：pancunxiao-S-16-30-J-16-70_0014.txt\n",
      "Traceback (most recent call last):\n",
      "  File \"/tmp/ipykernel_37540/132599818.py\", line 47, in crop_images\n",
      "    x1, y1, x2, y2 = find_coordinate(*img.shape[0:2], os.path.join(label_path, f'{patient}_{j:04d}.txt'), s)\n",
      "  File \"/tmp/ipykernel_37540/132599818.py\", line 7, in find_coordinate\n",
      "    assert aorta == 'j', f'如果只有一个label那么此时应为降主动脉, 但实际为{aorta}：{label_file.split(\"/\")[-1]}'\n",
      "AssertionError: 如果只有一个label那么此时应为降主动脉, 但实际为s：pancunxiao-S-16-30-J-16-70_0031.txt\n",
      "Traceback (most recent call last):\n",
      "  File \"/tmp/ipykernel_37540/132599818.py\", line 47, in crop_images\n",
      "    x1, y1, x2, y2 = find_coordinate(*img.shape[0:2], os.path.join(label_path, f'{patient}_{j:04d}.txt'), s)\n",
      "  File \"/tmp/ipykernel_37540/132599818.py\", line 7, in find_coordinate\n",
      "    assert aorta == 'j', f'如果只有一个label那么此时应为降主动脉, 但实际为{aorta}：{label_file.split(\"/\")[-1]}'\n",
      "AssertionError: 如果只有一个label那么此时应为降主动脉, 但实际为s：pancunxiao-S-16-30-J-16-70_0032.txt\n"
     ]
    },
    {
     "name": "stdout",
     "output_type": "stream",
     "text": [
      "******Processing panguojun-S-Im25-31-J-25-76******\n"
     ]
    },
    {
     "name": "stderr",
     "output_type": "stream",
     "text": [
      "Traceback (most recent call last):\n",
      "  File \"/tmp/ipykernel_37540/132599818.py\", line 47, in crop_images\n",
      "    x1, y1, x2, y2 = find_coordinate(*img.shape[0:2], os.path.join(label_path, f'{patient}_{j:04d}.txt'), s)\n",
      "  File \"/tmp/ipykernel_37540/132599818.py\", line 7, in find_coordinate\n",
      "    assert aorta == 'j', f'如果只有一个label那么此时应为降主动脉, 但实际为{aorta}：{label_file.split(\"/\")[-1]}'\n",
      "AssertionError: 如果只有一个label那么此时应为降主动脉, 但实际为s：panguojun-S-Im25-31-J-25-76_0021.txt\n",
      "Traceback (most recent call last):\n",
      "  File \"/tmp/ipykernel_37540/132599818.py\", line 47, in crop_images\n",
      "    x1, y1, x2, y2 = find_coordinate(*img.shape[0:2], os.path.join(label_path, f'{patient}_{j:04d}.txt'), s)\n",
      "  File \"/tmp/ipykernel_37540/132599818.py\", line 7, in find_coordinate\n",
      "    assert aorta == 'j', f'如果只有一个label那么此时应为降主动脉, 但实际为{aorta}：{label_file.split(\"/\")[-1]}'\n",
      "AssertionError: 如果只有一个label那么此时应为降主动脉, 但实际为s：panguojun-S-Im25-31-J-25-76_0022.txt\n"
     ]
    },
    {
     "name": "stdout",
     "output_type": "stream",
     "text": [
      "******Processing panhejian-J-Im39-57******\n",
      "******Processing panhualin-S-24-29******\n"
     ]
    },
    {
     "name": "stderr",
     "output_type": "stream",
     "text": [
      "Traceback (most recent call last):\n",
      "  File \"/tmp/ipykernel_37540/132599818.py\", line 47, in crop_images\n",
      "    x1, y1, x2, y2 = find_coordinate(*img.shape[0:2], os.path.join(label_path, f'{patient}_{j:04d}.txt'), s)\n",
      "  File \"/tmp/ipykernel_37540/132599818.py\", line 7, in find_coordinate\n",
      "    assert aorta == 'j', f'如果只有一个label那么此时应为降主动脉, 但实际为{aorta}：{label_file.split(\"/\")[-1]}'\n",
      "AssertionError: 如果只有一个label那么此时应为降主动脉, 但实际为s：panhualin-S-24-29_0020.txt\n",
      "Traceback (most recent call last):\n",
      "  File \"/tmp/ipykernel_37540/132599818.py\", line 47, in crop_images\n",
      "    x1, y1, x2, y2 = find_coordinate(*img.shape[0:2], os.path.join(label_path, f'{patient}_{j:04d}.txt'), s)\n",
      "  File \"/tmp/ipykernel_37540/132599818.py\", line 7, in find_coordinate\n",
      "    assert aorta == 'j', f'如果只有一个label那么此时应为降主动脉, 但实际为{aorta}：{label_file.split(\"/\")[-1]}'\n",
      "AssertionError: 如果只有一个label那么此时应为降主动脉, 但实际为s：panhualin-S-24-29_0021.txt\n",
      "Traceback (most recent call last):\n",
      "  File \"/tmp/ipykernel_37540/132599818.py\", line 47, in crop_images\n",
      "    x1, y1, x2, y2 = find_coordinate(*img.shape[0:2], os.path.join(label_path, f'{patient}_{j:04d}.txt'), s)\n",
      "  File \"/tmp/ipykernel_37540/132599818.py\", line 7, in find_coordinate\n",
      "    assert aorta == 'j', f'如果只有一个label那么此时应为降主动脉, 但实际为{aorta}：{label_file.split(\"/\")[-1]}'\n",
      "AssertionError: 如果只有一个label那么此时应为降主动脉, 但实际为s：panhualin-S-24-29_0022.txt\n"
     ]
    },
    {
     "name": "stdout",
     "output_type": "stream",
     "text": [
      "******Processing panzhangsong-J-Im26-91******\n",
      "******Processing penggaofeng-S-Im28-36******\n"
     ]
    },
    {
     "name": "stderr",
     "output_type": "stream",
     "text": [
      "Traceback (most recent call last):\n",
      "  File \"/tmp/ipykernel_37540/132599818.py\", line 47, in crop_images\n",
      "    x1, y1, x2, y2 = find_coordinate(*img.shape[0:2], os.path.join(label_path, f'{patient}_{j:04d}.txt'), s)\n",
      "  File \"/tmp/ipykernel_37540/132599818.py\", line 7, in find_coordinate\n",
      "    assert aorta == 'j', f'如果只有一个label那么此时应为降主动脉, 但实际为{aorta}：{label_file.split(\"/\")[-1]}'\n",
      "AssertionError: 如果只有一个label那么此时应为降主动脉, 但实际为s：penggaofeng-S-Im28-36_0038.txt\n"
     ]
    },
    {
     "name": "stdout",
     "output_type": "stream",
     "text": [
      "******Processing pengshihong-J-23-53******\n",
      "******Processing pengzhengjiang-J-Im38-160******\n",
      "******Processing qianfuying-J-Im20-87******\n",
      "******Processing qiansongbo-J-19-24******\n",
      "******Processing qianwende-J-Im31-97******\n",
      "******Processing qianyaolin-J-Im36-67******\n",
      "******Processing qiaowei-S-Im18-30-J-Im18-82******\n"
     ]
    },
    {
     "name": "stderr",
     "output_type": "stream",
     "text": [
      "Traceback (most recent call last):\n",
      "  File \"/tmp/ipykernel_37540/132599818.py\", line 47, in crop_images\n",
      "    x1, y1, x2, y2 = find_coordinate(*img.shape[0:2], os.path.join(label_path, f'{patient}_{j:04d}.txt'), s)\n",
      "  File \"/tmp/ipykernel_37540/132599818.py\", line 7, in find_coordinate\n",
      "    assert aorta == 'j', f'如果只有一个label那么此时应为降主动脉, 但实际为{aorta}：{label_file.split(\"/\")[-1]}'\n",
      "AssertionError: 如果只有一个label那么此时应为降主动脉, 但实际为s：qiaowei-S-Im18-30-J-Im18-82_0014.txt\n"
     ]
    },
    {
     "name": "stdout",
     "output_type": "stream",
     "text": [
      "******Processing qiuyuanxing-S-Im30-32******\n",
      "******Processing qiuzhidong-J-Im25-42******\n",
      "******Processing qumin-S-Im22-35-J-Im22-28******\n"
     ]
    },
    {
     "name": "stderr",
     "output_type": "stream",
     "text": [
      "Traceback (most recent call last):\n",
      "  File \"/tmp/ipykernel_37540/132599818.py\", line 47, in crop_images\n",
      "    x1, y1, x2, y2 = find_coordinate(*img.shape[0:2], os.path.join(label_path, f'{patient}_{j:04d}.txt'), s)\n",
      "  File \"/tmp/ipykernel_37540/132599818.py\", line 7, in find_coordinate\n",
      "    assert aorta == 'j', f'如果只有一个label那么此时应为降主动脉, 但实际为{aorta}：{label_file.split(\"/\")[-1]}'\n",
      "AssertionError: 如果只有一个label那么此时应为降主动脉, 但实际为s：qumin-S-Im22-35-J-Im22-28_0018.txt\n",
      "Traceback (most recent call last):\n",
      "  File \"/tmp/ipykernel_37540/132599818.py\", line 47, in crop_images\n",
      "    x1, y1, x2, y2 = find_coordinate(*img.shape[0:2], os.path.join(label_path, f'{patient}_{j:04d}.txt'), s)\n",
      "  File \"/tmp/ipykernel_37540/132599818.py\", line 7, in find_coordinate\n",
      "    assert aorta == 'j', f'如果只有一个label那么此时应为降主动脉, 但实际为{aorta}：{label_file.split(\"/\")[-1]}'\n",
      "AssertionError: 如果只有一个label那么此时应为降主动脉, 但实际为s：qumin-S-Im22-35-J-Im22-28_0019.txt\n",
      "Traceback (most recent call last):\n",
      "  File \"/tmp/ipykernel_37540/132599818.py\", line 47, in crop_images\n",
      "    x1, y1, x2, y2 = find_coordinate(*img.shape[0:2], os.path.join(label_path, f'{patient}_{j:04d}.txt'), s)\n",
      "  File \"/tmp/ipykernel_37540/132599818.py\", line 7, in find_coordinate\n",
      "    assert aorta == 'j', f'如果只有一个label那么此时应为降主动脉, 但实际为{aorta}：{label_file.split(\"/\")[-1]}'\n",
      "AssertionError: 如果只有一个label那么此时应为降主动脉, 但实际为s：qumin-S-Im22-35-J-Im22-28_0020.txt\n"
     ]
    },
    {
     "name": "stdout",
     "output_type": "stream",
     "text": [
      "******Processing renjiasheng-J-Im26-88******\n",
      "******Processing ruweiping-S-Im52-63-J-Im52-94******\n",
      "******Processing shanghongjun-J-22-84******\n"
     ]
    },
    {
     "name": "stderr",
     "output_type": "stream",
     "text": [
      "Traceback (most recent call last):\n",
      "  File \"/tmp/ipykernel_37540/132599818.py\", line 47, in crop_images\n",
      "    x1, y1, x2, y2 = find_coordinate(*img.shape[0:2], os.path.join(label_path, f'{patient}_{j:04d}.txt'), s)\n",
      "  File \"/tmp/ipykernel_37540/132599818.py\", line 3, in find_coordinate\n",
      "    with open(label_file, 'r') as f:\n",
      "FileNotFoundError: [Errno 2] No such file or directory: '/nfs3-p1/zsxm/dataset/aorta_ct_img_label/positive/shanghongjun-J-22-84/labels/shanghongjun-J-22-84_0086.txt'\n",
      "Traceback (most recent call last):\n",
      "  File \"/tmp/ipykernel_37540/132599818.py\", line 47, in crop_images\n",
      "    x1, y1, x2, y2 = find_coordinate(*img.shape[0:2], os.path.join(label_path, f'{patient}_{j:04d}.txt'), s)\n",
      "  File \"/tmp/ipykernel_37540/132599818.py\", line 7, in find_coordinate\n",
      "    assert aorta == 'j', f'如果只有一个label那么此时应为降主动脉, 但实际为{aorta}：{label_file.split(\"/\")[-1]}'\n",
      "AssertionError: 如果只有一个label那么此时应为降主动脉, 但实际为s：shanlegen-S-22-30-J-22-79_0018.txt\n",
      "Traceback (most recent call last):\n",
      "  File \"/tmp/ipykernel_37540/132599818.py\", line 47, in crop_images\n",
      "    x1, y1, x2, y2 = find_coordinate(*img.shape[0:2], os.path.join(label_path, f'{patient}_{j:04d}.txt'), s)\n",
      "  File \"/tmp/ipykernel_37540/132599818.py\", line 7, in find_coordinate\n",
      "    assert aorta == 'j', f'如果只有一个label那么此时应为降主动脉, 但实际为{aorta}：{label_file.split(\"/\")[-1]}'\n",
      "AssertionError: 如果只有一个label那么此时应为降主动脉, 但实际为s：shanlegen-S-22-30-J-22-79_0019.txt\n"
     ]
    },
    {
     "name": "stdout",
     "output_type": "stream",
     "text": [
      "******Processing shanlegen-S-22-30-J-22-79******\n",
      "******Processing shaoxiulan-J-Im21-25******\n",
      "******Processing shaoyefeng-S-Im34-43-J-Im34-48******\n"
     ]
    },
    {
     "name": "stderr",
     "output_type": "stream",
     "text": [
      "Traceback (most recent call last):\n",
      "  File \"/tmp/ipykernel_37540/132599818.py\", line 47, in crop_images\n",
      "    x1, y1, x2, y2 = find_coordinate(*img.shape[0:2], os.path.join(label_path, f'{patient}_{j:04d}.txt'), s)\n",
      "  File \"/tmp/ipykernel_37540/132599818.py\", line 7, in find_coordinate\n",
      "    assert aorta == 'j', f'如果只有一个label那么此时应为降主动脉, 但实际为{aorta}：{label_file.split(\"/\")[-1]}'\n",
      "AssertionError: 如果只有一个label那么此时应为降主动脉, 但实际为s：shaoyefeng-S-Im34-43-J-Im34-48_0030.txt\n"
     ]
    },
    {
     "name": "stdout",
     "output_type": "stream",
     "text": [
      "******Processing shenglina-J-Im21-65******\n",
      "******Processing shengwenping-S-Im37-46-J-Im37-116******\n",
      "******Processing shenjian-J-15-81******\n",
      "******Processing shenjie-S-Im39-59-J-Im39-85******\n"
     ]
    },
    {
     "name": "stderr",
     "output_type": "stream",
     "text": [
      "Traceback (most recent call last):\n",
      "  File \"/tmp/ipykernel_37540/132599818.py\", line 47, in crop_images\n",
      "    x1, y1, x2, y2 = find_coordinate(*img.shape[0:2], os.path.join(label_path, f'{patient}_{j:04d}.txt'), s)\n",
      "  File \"/tmp/ipykernel_37540/132599818.py\", line 7, in find_coordinate\n",
      "    assert aorta == 'j', f'如果只有一个label那么此时应为降主动脉, 但实际为{aorta}：{label_file.split(\"/\")[-1]}'\n",
      "AssertionError: 如果只有一个label那么此时应为降主动脉, 但实际为s：shenjie-S-Im39-59-J-Im39-85_0035.txt\n",
      "Traceback (most recent call last):\n",
      "  File \"/tmp/ipykernel_37540/132599818.py\", line 47, in crop_images\n",
      "    x1, y1, x2, y2 = find_coordinate(*img.shape[0:2], os.path.join(label_path, f'{patient}_{j:04d}.txt'), s)\n",
      "  File \"/tmp/ipykernel_37540/132599818.py\", line 7, in find_coordinate\n",
      "    assert aorta == 'j', f'如果只有一个label那么此时应为降主动脉, 但实际为{aorta}：{label_file.split(\"/\")[-1]}'\n",
      "AssertionError: 如果只有一个label那么此时应为降主动脉, 但实际为s：shenjie-S-Im39-59-J-Im39-85_0036.txt\n",
      "Traceback (most recent call last):\n",
      "  File \"/tmp/ipykernel_37540/132599818.py\", line 47, in crop_images\n",
      "    x1, y1, x2, y2 = find_coordinate(*img.shape[0:2], os.path.join(label_path, f'{patient}_{j:04d}.txt'), s)\n",
      "  File \"/tmp/ipykernel_37540/132599818.py\", line 3, in find_coordinate\n",
      "    with open(label_file, 'r') as f:\n",
      "FileNotFoundError: [Errno 2] No such file or directory: '/nfs3-p1/zsxm/dataset/aorta_ct_img_label/positive/shenjie-S-Im39-59-J-Im39-85/labels/shenjie-S-Im39-59-J-Im39-85_0066.txt'\n",
      "Traceback (most recent call last):\n",
      "  File \"/tmp/ipykernel_37540/132599818.py\", line 47, in crop_images\n",
      "    x1, y1, x2, y2 = find_coordinate(*img.shape[0:2], os.path.join(label_path, f'{patient}_{j:04d}.txt'), s)\n",
      "  File \"/tmp/ipykernel_37540/132599818.py\", line 3, in find_coordinate\n",
      "    with open(label_file, 'r') as f:\n",
      "FileNotFoundError: [Errno 2] No such file or directory: '/nfs3-p1/zsxm/dataset/aorta_ct_img_label/positive/shenjie-S-Im39-59-J-Im39-85/labels/shenjie-S-Im39-59-J-Im39-85_0068.txt'\n",
      "Traceback (most recent call last):\n",
      "  File \"/tmp/ipykernel_37540/132599818.py\", line 47, in crop_images\n",
      "    x1, y1, x2, y2 = find_coordinate(*img.shape[0:2], os.path.join(label_path, f'{patient}_{j:04d}.txt'), s)\n",
      "  File \"/tmp/ipykernel_37540/132599818.py\", line 3, in find_coordinate\n",
      "    with open(label_file, 'r') as f:\n",
      "FileNotFoundError: [Errno 2] No such file or directory: '/nfs3-p1/zsxm/dataset/aorta_ct_img_label/positive/shenjie-S-Im39-59-J-Im39-85/labels/shenjie-S-Im39-59-J-Im39-85_0069.txt'\n",
      "Traceback (most recent call last):\n",
      "  File \"/tmp/ipykernel_37540/132599818.py\", line 47, in crop_images\n",
      "    x1, y1, x2, y2 = find_coordinate(*img.shape[0:2], os.path.join(label_path, f'{patient}_{j:04d}.txt'), s)\n",
      "  File \"/tmp/ipykernel_37540/132599818.py\", line 3, in find_coordinate\n",
      "    with open(label_file, 'r') as f:\n",
      "FileNotFoundError: [Errno 2] No such file or directory: '/nfs3-p1/zsxm/dataset/aorta_ct_img_label/positive/shenjie-S-Im39-59-J-Im39-85/labels/shenjie-S-Im39-59-J-Im39-85_0070.txt'\n",
      "Traceback (most recent call last):\n",
      "  File \"/tmp/ipykernel_37540/132599818.py\", line 47, in crop_images\n",
      "    x1, y1, x2, y2 = find_coordinate(*img.shape[0:2], os.path.join(label_path, f'{patient}_{j:04d}.txt'), s)\n",
      "  File \"/tmp/ipykernel_37540/132599818.py\", line 3, in find_coordinate\n",
      "    with open(label_file, 'r') as f:\n",
      "FileNotFoundError: [Errno 2] No such file or directory: '/nfs3-p1/zsxm/dataset/aorta_ct_img_label/positive/shenjie-S-Im39-59-J-Im39-85/labels/shenjie-S-Im39-59-J-Im39-85_0071.txt'\n",
      "Traceback (most recent call last):\n",
      "  File \"/tmp/ipykernel_37540/132599818.py\", line 47, in crop_images\n",
      "    x1, y1, x2, y2 = find_coordinate(*img.shape[0:2], os.path.join(label_path, f'{patient}_{j:04d}.txt'), s)\n",
      "  File \"/tmp/ipykernel_37540/132599818.py\", line 3, in find_coordinate\n",
      "    with open(label_file, 'r') as f:\n",
      "FileNotFoundError: [Errno 2] No such file or directory: '/nfs3-p1/zsxm/dataset/aorta_ct_img_label/positive/shenjie-S-Im39-59-J-Im39-85/labels/shenjie-S-Im39-59-J-Im39-85_0072.txt'\n",
      "Traceback (most recent call last):\n",
      "  File \"/tmp/ipykernel_37540/132599818.py\", line 47, in crop_images\n",
      "    x1, y1, x2, y2 = find_coordinate(*img.shape[0:2], os.path.join(label_path, f'{patient}_{j:04d}.txt'), s)\n",
      "  File \"/tmp/ipykernel_37540/132599818.py\", line 3, in find_coordinate\n",
      "    with open(label_file, 'r') as f:\n",
      "FileNotFoundError: [Errno 2] No such file or directory: '/nfs3-p1/zsxm/dataset/aorta_ct_img_label/positive/shenjie-S-Im39-59-J-Im39-85/labels/shenjie-S-Im39-59-J-Im39-85_0076.txt'\n",
      "Traceback (most recent call last):\n",
      "  File \"/tmp/ipykernel_37540/132599818.py\", line 47, in crop_images\n",
      "    x1, y1, x2, y2 = find_coordinate(*img.shape[0:2], os.path.join(label_path, f'{patient}_{j:04d}.txt'), s)\n",
      "  File \"/tmp/ipykernel_37540/132599818.py\", line 3, in find_coordinate\n",
      "    with open(label_file, 'r') as f:\n",
      "FileNotFoundError: [Errno 2] No such file or directory: '/nfs3-p1/zsxm/dataset/aorta_ct_img_label/positive/shenjie-S-Im39-59-J-Im39-85/labels/shenjie-S-Im39-59-J-Im39-85_0077.txt'\n"
     ]
    },
    {
     "name": "stdout",
     "output_type": "stream",
     "text": [
      "******Processing shenliqiang-J-Im29-137******\n",
      "******Processing shenqi-J-Im24-72******\n",
      "******Processing shenwenjiao-S-Im24-35******\n"
     ]
    },
    {
     "name": "stderr",
     "output_type": "stream",
     "text": [
      "Traceback (most recent call last):\n",
      "  File \"/tmp/ipykernel_37540/132599818.py\", line 47, in crop_images\n",
      "    x1, y1, x2, y2 = find_coordinate(*img.shape[0:2], os.path.join(label_path, f'{patient}_{j:04d}.txt'), s)\n",
      "  File \"/tmp/ipykernel_37540/132599818.py\", line 7, in find_coordinate\n",
      "    assert aorta == 'j', f'如果只有一个label那么此时应为降主动脉, 但实际为{aorta}：{label_file.split(\"/\")[-1]}'\n",
      "AssertionError: 如果只有一个label那么此时应为降主动脉, 但实际为s：shenwenjiao-S-Im24-35_0020.txt\n",
      "Traceback (most recent call last):\n",
      "  File \"/tmp/ipykernel_37540/132599818.py\", line 47, in crop_images\n",
      "    x1, y1, x2, y2 = find_coordinate(*img.shape[0:2], os.path.join(label_path, f'{patient}_{j:04d}.txt'), s)\n",
      "  File \"/tmp/ipykernel_37540/132599818.py\", line 7, in find_coordinate\n",
      "    assert aorta == 'j', f'如果只有一个label那么此时应为降主动脉, 但实际为{aorta}：{label_file.split(\"/\")[-1]}'\n",
      "AssertionError: 如果只有一个label那么此时应为降主动脉, 但实际为s：shenwenjiao-S-Im24-35_0021.txt\n"
     ]
    },
    {
     "name": "stdout",
     "output_type": "stream",
     "text": [
      "******Processing shenxuefu-S-Im33-40-J-Im33-101******\n"
     ]
    },
    {
     "name": "stderr",
     "output_type": "stream",
     "text": [
      "Traceback (most recent call last):\n",
      "  File \"/tmp/ipykernel_37540/132599818.py\", line 47, in crop_images\n",
      "    x1, y1, x2, y2 = find_coordinate(*img.shape[0:2], os.path.join(label_path, f'{patient}_{j:04d}.txt'), s)\n",
      "  File \"/tmp/ipykernel_37540/132599818.py\", line 7, in find_coordinate\n",
      "    assert aorta == 'j', f'如果只有一个label那么此时应为降主动脉, 但实际为{aorta}：{label_file.split(\"/\")[-1]}'\n",
      "AssertionError: 如果只有一个label那么此时应为降主动脉, 但实际为s：shenxuefu-S-Im33-40-J-Im33-101_0029.txt\n",
      "Traceback (most recent call last):\n",
      "  File \"/tmp/ipykernel_37540/132599818.py\", line 47, in crop_images\n",
      "    x1, y1, x2, y2 = find_coordinate(*img.shape[0:2], os.path.join(label_path, f'{patient}_{j:04d}.txt'), s)\n",
      "  File \"/tmp/ipykernel_37540/132599818.py\", line 7, in find_coordinate\n",
      "    assert aorta == 'j', f'如果只有一个label那么此时应为降主动脉, 但实际为{aorta}：{label_file.split(\"/\")[-1]}'\n",
      "AssertionError: 如果只有一个label那么此时应为降主动脉, 但实际为s：shenxuefu-S-Im33-40-J-Im33-101_0030.txt\n"
     ]
    },
    {
     "name": "stdout",
     "output_type": "stream",
     "text": [
      "******Processing shenyangfeng-J-Im36-120******\n",
      "******Processing shiaihong-J-36-80******\n",
      "******Processing shiguohu-J-Im19-70******\n",
      "******Processing shijiuwei-J-Im29-130******\n",
      "******Processing shizhongheng-J-Im23-50******\n",
      "******Processing shujianqiang-S-Im22-30-J-Im22-59******\n"
     ]
    },
    {
     "name": "stderr",
     "output_type": "stream",
     "text": [
      "Traceback (most recent call last):\n",
      "  File \"/tmp/ipykernel_37540/132599818.py\", line 47, in crop_images\n",
      "    x1, y1, x2, y2 = find_coordinate(*img.shape[0:2], os.path.join(label_path, f'{patient}_{j:04d}.txt'), s)\n",
      "  File \"/tmp/ipykernel_37540/132599818.py\", line 7, in find_coordinate\n",
      "    assert aorta == 'j', f'如果只有一个label那么此时应为降主动脉, 但实际为{aorta}：{label_file.split(\"/\")[-1]}'\n",
      "AssertionError: 如果只有一个label那么此时应为降主动脉, 但实际为s：shujianqiang-S-Im22-30-J-Im22-59_0018.txt\n",
      "Traceback (most recent call last):\n",
      "  File \"/tmp/ipykernel_37540/132599818.py\", line 47, in crop_images\n",
      "    x1, y1, x2, y2 = find_coordinate(*img.shape[0:2], os.path.join(label_path, f'{patient}_{j:04d}.txt'), s)\n",
      "  File \"/tmp/ipykernel_37540/132599818.py\", line 7, in find_coordinate\n",
      "    assert aorta == 'j', f'如果只有一个label那么此时应为降主动脉, 但实际为{aorta}：{label_file.split(\"/\")[-1]}'\n",
      "AssertionError: 如果只有一个label那么此时应为降主动脉, 但实际为s：shujianqiang-S-Im22-30-J-Im22-59_0019.txt\n",
      "Traceback (most recent call last):\n",
      "  File \"/tmp/ipykernel_37540/132599818.py\", line 47, in crop_images\n",
      "    x1, y1, x2, y2 = find_coordinate(*img.shape[0:2], os.path.join(label_path, f'{patient}_{j:04d}.txt'), s)\n",
      "  File \"/tmp/ipykernel_37540/132599818.py\", line 7, in find_coordinate\n",
      "    assert aorta == 'j', f'如果只有一个label那么此时应为降主动脉, 但实际为{aorta}：{label_file.split(\"/\")[-1]}'\n",
      "AssertionError: 如果只有一个label那么此时应为降主动脉, 但实际为s：shujianqiang-S-Im22-30-J-Im22-59_0020.txt\n"
     ]
    },
    {
     "name": "stdout",
     "output_type": "stream",
     "text": [
      "******Processing sishouzhong-J-Im25-137******\n",
      "******Processing siyoulin-S-16-26******\n"
     ]
    },
    {
     "name": "stderr",
     "output_type": "stream",
     "text": [
      "Traceback (most recent call last):\n",
      "  File \"/tmp/ipykernel_37540/132599818.py\", line 47, in crop_images\n",
      "    x1, y1, x2, y2 = find_coordinate(*img.shape[0:2], os.path.join(label_path, f'{patient}_{j:04d}.txt'), s)\n",
      "  File \"/tmp/ipykernel_37540/132599818.py\", line 7, in find_coordinate\n",
      "    assert aorta == 'j', f'如果只有一个label那么此时应为降主动脉, 但实际为{aorta}：{label_file.split(\"/\")[-1]}'\n",
      "AssertionError: 如果只有一个label那么此时应为降主动脉, 但实际为s：siyoulin-S-16-26_0012.txt\n",
      "Traceback (most recent call last):\n",
      "  File \"/tmp/ipykernel_37540/132599818.py\", line 47, in crop_images\n",
      "    x1, y1, x2, y2 = find_coordinate(*img.shape[0:2], os.path.join(label_path, f'{patient}_{j:04d}.txt'), s)\n",
      "  File \"/tmp/ipykernel_37540/132599818.py\", line 7, in find_coordinate\n",
      "    assert aorta == 'j', f'如果只有一个label那么此时应为降主动脉, 但实际为{aorta}：{label_file.split(\"/\")[-1]}'\n",
      "AssertionError: 如果只有一个label那么此时应为降主动脉, 但实际为s：siyoulin-S-16-26_0013.txt\n"
     ]
    },
    {
     "name": "stdout",
     "output_type": "stream",
     "text": [
      "******Processing sizhongyu-J-Im22-81******\n",
      "******Processing sunhongbin-J-19-66******\n",
      "******Processing sunhongliang-S-23-34******\n"
     ]
    },
    {
     "name": "stderr",
     "output_type": "stream",
     "text": [
      "Traceback (most recent call last):\n",
      "  File \"/tmp/ipykernel_37540/132599818.py\", line 47, in crop_images\n",
      "    x1, y1, x2, y2 = find_coordinate(*img.shape[0:2], os.path.join(label_path, f'{patient}_{j:04d}.txt'), s)\n",
      "  File \"/tmp/ipykernel_37540/132599818.py\", line 7, in find_coordinate\n",
      "    assert aorta == 'j', f'如果只有一个label那么此时应为降主动脉, 但实际为{aorta}：{label_file.split(\"/\")[-1]}'\n",
      "AssertionError: 如果只有一个label那么此时应为降主动脉, 但实际为s：sunhongliang-S-23-34_0019.txt\n",
      "Traceback (most recent call last):\n",
      "  File \"/tmp/ipykernel_37540/132599818.py\", line 47, in crop_images\n",
      "    x1, y1, x2, y2 = find_coordinate(*img.shape[0:2], os.path.join(label_path, f'{patient}_{j:04d}.txt'), s)\n",
      "  File \"/tmp/ipykernel_37540/132599818.py\", line 7, in find_coordinate\n",
      "    assert aorta == 'j', f'如果只有一个label那么此时应为降主动脉, 但实际为{aorta}：{label_file.split(\"/\")[-1]}'\n",
      "AssertionError: 如果只有一个label那么此时应为降主动脉, 但实际为s：sunhongliang-S-23-34_0020.txt\n"
     ]
    },
    {
     "name": "stdout",
     "output_type": "stream",
     "text": [
      "******Processing sunlibing-J-Im24-82******\n",
      "******Processing sunyudong-J-Im37-95******\n",
      "******Processing tangabiao-S-Im41-49-J-Im41-138******\n"
     ]
    },
    {
     "name": "stderr",
     "output_type": "stream",
     "text": [
      "Traceback (most recent call last):\n",
      "  File \"/tmp/ipykernel_37540/132599818.py\", line 47, in crop_images\n",
      "    x1, y1, x2, y2 = find_coordinate(*img.shape[0:2], os.path.join(label_path, f'{patient}_{j:04d}.txt'), s)\n",
      "  File \"/tmp/ipykernel_37540/132599818.py\", line 7, in find_coordinate\n",
      "    assert aorta == 'j', f'如果只有一个label那么此时应为降主动脉, 但实际为{aorta}：{label_file.split(\"/\")[-1]}'\n",
      "AssertionError: 如果只有一个label那么此时应为降主动脉, 但实际为s：tangabiao-S-Im41-49-J-Im41-138_0037.txt\n"
     ]
    },
    {
     "name": "stdout",
     "output_type": "stream",
     "text": [
      "******Processing tangguoliang-J-Im18-41******\n",
      "******Processing tangjinlong-J-Im25-41******\n",
      "******Processing tanjiarong-S-17-23******\n"
     ]
    },
    {
     "name": "stderr",
     "output_type": "stream",
     "text": [
      "Traceback (most recent call last):\n",
      "  File \"/tmp/ipykernel_37540/132599818.py\", line 47, in crop_images\n",
      "    x1, y1, x2, y2 = find_coordinate(*img.shape[0:2], os.path.join(label_path, f'{patient}_{j:04d}.txt'), s)\n",
      "  File \"/tmp/ipykernel_37540/132599818.py\", line 7, in find_coordinate\n",
      "    assert aorta == 'j', f'如果只有一个label那么此时应为降主动脉, 但实际为{aorta}：{label_file.split(\"/\")[-1]}'\n",
      "AssertionError: 如果只有一个label那么此时应为降主动脉, 但实际为s：tanjiarong-S-17-23_0013.txt\n",
      "Traceback (most recent call last):\n",
      "  File \"/tmp/ipykernel_37540/132599818.py\", line 47, in crop_images\n",
      "    x1, y1, x2, y2 = find_coordinate(*img.shape[0:2], os.path.join(label_path, f'{patient}_{j:04d}.txt'), s)\n",
      "  File \"/tmp/ipykernel_37540/132599818.py\", line 7, in find_coordinate\n",
      "    assert aorta == 'j', f'如果只有一个label那么此时应为降主动脉, 但实际为{aorta}：{label_file.split(\"/\")[-1]}'\n",
      "AssertionError: 如果只有一个label那么此时应为降主动脉, 但实际为s：tanjiarong-S-17-23_0014.txt\n"
     ]
    },
    {
     "name": "stdout",
     "output_type": "stream",
     "text": [
      "******Processing tonghuiling-J-Im22-78******\n",
      "******Processing tongjinglin-J-Im36-146******\n",
      "******Processing tongyunbao-J-18-69******\n",
      "******Processing wangchenrong-S-Im18-24-J-Im18-38******\n"
     ]
    },
    {
     "name": "stderr",
     "output_type": "stream",
     "text": [
      "Traceback (most recent call last):\n",
      "  File \"/tmp/ipykernel_37540/132599818.py\", line 47, in crop_images\n",
      "    x1, y1, x2, y2 = find_coordinate(*img.shape[0:2], os.path.join(label_path, f'{patient}_{j:04d}.txt'), s)\n",
      "  File \"/tmp/ipykernel_37540/132599818.py\", line 7, in find_coordinate\n",
      "    assert aorta == 'j', f'如果只有一个label那么此时应为降主动脉, 但实际为{aorta}：{label_file.split(\"/\")[-1]}'\n",
      "AssertionError: 如果只有一个label那么此时应为降主动脉, 但实际为s：wangchenrong-S-Im18-24-J-Im18-38_0014.txt\n",
      "Traceback (most recent call last):\n",
      "  File \"/tmp/ipykernel_37540/132599818.py\", line 47, in crop_images\n",
      "    x1, y1, x2, y2 = find_coordinate(*img.shape[0:2], os.path.join(label_path, f'{patient}_{j:04d}.txt'), s)\n",
      "  File \"/tmp/ipykernel_37540/132599818.py\", line 7, in find_coordinate\n",
      "    assert aorta == 'j', f'如果只有一个label那么此时应为降主动脉, 但实际为{aorta}：{label_file.split(\"/\")[-1]}'\n",
      "AssertionError: 如果只有一个label那么此时应为降主动脉, 但实际为s：wangchenrong-S-Im18-24-J-Im18-38_0015.txt\n"
     ]
    },
    {
     "name": "stdout",
     "output_type": "stream",
     "text": [
      "******Processing wangjiangang-J-Im23-60******\n",
      "******Processing wangjiangwei-J-Im37-143******\n",
      "******Processing wangjicheng-J-14-22******\n",
      "******Processing wanglibo-J-Im29-102******\n",
      "******Processing wanglinsen-J-Im38-121******\n",
      "******Processing wangliqiang-J-20-86******\n",
      "******Processing wangqing-J-35-102******\n",
      "******Processing wangqingdong-J-Im19-88******\n"
     ]
    },
    {
     "name": "stderr",
     "output_type": "stream",
     "text": [
      "Traceback (most recent call last):\n",
      "  File \"/tmp/ipykernel_37540/132599818.py\", line 47, in crop_images\n",
      "    x1, y1, x2, y2 = find_coordinate(*img.shape[0:2], os.path.join(label_path, f'{patient}_{j:04d}.txt'), s)\n",
      "  File \"/tmp/ipykernel_37540/132599818.py\", line 3, in find_coordinate\n",
      "    with open(label_file, 'r') as f:\n",
      "FileNotFoundError: [Errno 2] No such file or directory: '/nfs3-p1/zsxm/dataset/aorta_ct_img_label/positive/wangqingdong-J-Im19-88/labels/wangqingdong-J-Im19-88_0090.txt'\n"
     ]
    },
    {
     "name": "stdout",
     "output_type": "stream",
     "text": [
      "******Processing wangqiyuan-J-16-62******\n",
      "******Processing wangweibo-J-Im36-149******\n",
      "******Processing wangxiaofu-S-19-29-J-19-65******\n"
     ]
    },
    {
     "name": "stderr",
     "output_type": "stream",
     "text": [
      "Traceback (most recent call last):\n",
      "  File \"/tmp/ipykernel_37540/132599818.py\", line 47, in crop_images\n",
      "    x1, y1, x2, y2 = find_coordinate(*img.shape[0:2], os.path.join(label_path, f'{patient}_{j:04d}.txt'), s)\n",
      "  File \"/tmp/ipykernel_37540/132599818.py\", line 7, in find_coordinate\n",
      "    assert aorta == 'j', f'如果只有一个label那么此时应为降主动脉, 但实际为{aorta}：{label_file.split(\"/\")[-1]}'\n",
      "AssertionError: 如果只有一个label那么此时应为降主动脉, 但实际为s：wangxiaofu-S-19-29-J-19-65_0015.txt\n",
      "Traceback (most recent call last):\n",
      "  File \"/tmp/ipykernel_37540/132599818.py\", line 47, in crop_images\n",
      "    x1, y1, x2, y2 = find_coordinate(*img.shape[0:2], os.path.join(label_path, f'{patient}_{j:04d}.txt'), s)\n",
      "  File \"/tmp/ipykernel_37540/132599818.py\", line 7, in find_coordinate\n",
      "    assert aorta == 'j', f'如果只有一个label那么此时应为降主动脉, 但实际为{aorta}：{label_file.split(\"/\")[-1]}'\n",
      "AssertionError: 如果只有一个label那么此时应为降主动脉, 但实际为s：wangxiaofu-S-19-29-J-19-65_0016.txt\n"
     ]
    },
    {
     "name": "stdout",
     "output_type": "stream",
     "text": [
      "******Processing wangxinchun-J-Im18-81******\n",
      "******Processing wangyaotang-J-Im31-100******\n",
      "******Processing wangyefu-J-Im42-112******\n",
      "******Processing wangyonghui-S-Im18-27-J-Im18-84******\n"
     ]
    },
    {
     "name": "stderr",
     "output_type": "stream",
     "text": [
      "Traceback (most recent call last):\n",
      "  File \"/tmp/ipykernel_37540/132599818.py\", line 47, in crop_images\n",
      "    x1, y1, x2, y2 = find_coordinate(*img.shape[0:2], os.path.join(label_path, f'{patient}_{j:04d}.txt'), s)\n",
      "  File \"/tmp/ipykernel_37540/132599818.py\", line 7, in find_coordinate\n",
      "    assert aorta == 'j', f'如果只有一个label那么此时应为降主动脉, 但实际为{aorta}：{label_file.split(\"/\")[-1]}'\n",
      "AssertionError: 如果只有一个label那么此时应为降主动脉, 但实际为s：wangyonghui-S-Im18-27-J-Im18-84_0014.txt\n",
      "Traceback (most recent call last):\n",
      "  File \"/tmp/ipykernel_37540/132599818.py\", line 47, in crop_images\n",
      "    x1, y1, x2, y2 = find_coordinate(*img.shape[0:2], os.path.join(label_path, f'{patient}_{j:04d}.txt'), s)\n",
      "  File \"/tmp/ipykernel_37540/132599818.py\", line 7, in find_coordinate\n",
      "    assert aorta == 'j', f'如果只有一个label那么此时应为降主动脉, 但实际为{aorta}：{label_file.split(\"/\")[-1]}'\n",
      "AssertionError: 如果只有一个label那么此时应为降主动脉, 但实际为s：wangyonghui-S-Im18-27-J-Im18-84_0015.txt\n"
     ]
    },
    {
     "name": "stdout",
     "output_type": "stream",
     "text": [
      "******Processing wangyuefeng-S-Im34-38-J-Im34-144******\n",
      "******Processing wangzhengjin-J-16-82******\n",
      "******Processing wangzhuxi-J-Im25-144******\n"
     ]
    },
    {
     "name": "stderr",
     "output_type": "stream",
     "text": [
      "Traceback (most recent call last):\n",
      "  File \"/tmp/ipykernel_37540/132599818.py\", line 47, in crop_images\n",
      "    x1, y1, x2, y2 = find_coordinate(*img.shape[0:2], os.path.join(label_path, f'{patient}_{j:04d}.txt'), s)\n",
      "  File \"/tmp/ipykernel_37540/132599818.py\", line 3, in find_coordinate\n",
      "    with open(label_file, 'r') as f:\n",
      "FileNotFoundError: [Errno 2] No such file or directory: '/nfs3-p1/zsxm/dataset/aorta_ct_img_label/positive/wangzhuxi-J-Im25-144/labels/wangzhuxi-J-Im25-144_0132.txt'\n"
     ]
    },
    {
     "name": "stdout",
     "output_type": "stream",
     "text": [
      "******Processing wangziyang-J-Im42-95******\n",
      "******Processing weiguanxin-J-Im43-116******\n",
      "******Processing weijuyun-S-Im24-32******\n"
     ]
    },
    {
     "name": "stderr",
     "output_type": "stream",
     "text": [
      "Traceback (most recent call last):\n",
      "  File \"/tmp/ipykernel_37540/132599818.py\", line 47, in crop_images\n",
      "    x1, y1, x2, y2 = find_coordinate(*img.shape[0:2], os.path.join(label_path, f'{patient}_{j:04d}.txt'), s)\n",
      "  File \"/tmp/ipykernel_37540/132599818.py\", line 7, in find_coordinate\n",
      "    assert aorta == 'j', f'如果只有一个label那么此时应为降主动脉, 但实际为{aorta}：{label_file.split(\"/\")[-1]}'\n",
      "AssertionError: 如果只有一个label那么此时应为降主动脉, 但实际为s：weijuyun-S-Im24-32_0020.txt\n",
      "Traceback (most recent call last):\n",
      "  File \"/tmp/ipykernel_37540/132599818.py\", line 47, in crop_images\n",
      "    x1, y1, x2, y2 = find_coordinate(*img.shape[0:2], os.path.join(label_path, f'{patient}_{j:04d}.txt'), s)\n",
      "  File \"/tmp/ipykernel_37540/132599818.py\", line 7, in find_coordinate\n",
      "    assert aorta == 'j', f'如果只有一个label那么此时应为降主动脉, 但实际为{aorta}：{label_file.split(\"/\")[-1]}'\n",
      "AssertionError: 如果只有一个label那么此时应为降主动脉, 但实际为s：weijuyun-S-Im24-32_0021.txt\n"
     ]
    },
    {
     "name": "stdout",
     "output_type": "stream",
     "text": [
      "******Processing weinaichao-J-Im59-162******\n"
     ]
    },
    {
     "name": "stderr",
     "output_type": "stream",
     "text": [
      "Traceback (most recent call last):\n",
      "  File \"/tmp/ipykernel_37540/132599818.py\", line 47, in crop_images\n",
      "    x1, y1, x2, y2 = find_coordinate(*img.shape[0:2], os.path.join(label_path, f'{patient}_{j:04d}.txt'), s)\n",
      "  File \"/tmp/ipykernel_37540/132599818.py\", line 3, in find_coordinate\n",
      "    with open(label_file, 'r') as f:\n",
      "FileNotFoundError: [Errno 2] No such file or directory: '/nfs3-p1/zsxm/dataset/aorta_ct_img_label/positive/weinaichao-J-Im59-162/labels/weinaichao-J-Im59-162_0164.txt'\n"
     ]
    },
    {
     "name": "stdout",
     "output_type": "stream",
     "text": [
      "******Processing weizhiqing-J-Im33-45******\n",
      "******Processing wenyongguo-J-Im23-121******\n",
      "******Processing wujufen-J-Im31-135******\n",
      "******Processing wutonggen-S-Im22-29-J-Im22-82******\n"
     ]
    },
    {
     "name": "stderr",
     "output_type": "stream",
     "text": [
      "Traceback (most recent call last):\n",
      "  File \"/tmp/ipykernel_37540/132599818.py\", line 47, in crop_images\n",
      "    x1, y1, x2, y2 = find_coordinate(*img.shape[0:2], os.path.join(label_path, f'{patient}_{j:04d}.txt'), s)\n",
      "  File \"/tmp/ipykernel_37540/132599818.py\", line 7, in find_coordinate\n",
      "    assert aorta == 'j', f'如果只有一个label那么此时应为降主动脉, 但实际为{aorta}：{label_file.split(\"/\")[-1]}'\n",
      "AssertionError: 如果只有一个label那么此时应为降主动脉, 但实际为s：wutonggen-S-Im22-29-J-Im22-82_0018.txt\n",
      "Traceback (most recent call last):\n",
      "  File \"/tmp/ipykernel_37540/132599818.py\", line 47, in crop_images\n",
      "    x1, y1, x2, y2 = find_coordinate(*img.shape[0:2], os.path.join(label_path, f'{patient}_{j:04d}.txt'), s)\n",
      "  File \"/tmp/ipykernel_37540/132599818.py\", line 7, in find_coordinate\n",
      "    assert aorta == 'j', f'如果只有一个label那么此时应为降主动脉, 但实际为{aorta}：{label_file.split(\"/\")[-1]}'\n",
      "AssertionError: 如果只有一个label那么此时应为降主动脉, 但实际为s：wutonggen-S-Im22-29-J-Im22-82_0019.txt\n"
     ]
    },
    {
     "name": "stdout",
     "output_type": "stream",
     "text": [
      "******Processing wuwanglong-J-Im31-125******\n",
      "******Processing wuxiangyang-S-Im18-25******\n"
     ]
    },
    {
     "name": "stderr",
     "output_type": "stream",
     "text": [
      "Traceback (most recent call last):\n",
      "  File \"/tmp/ipykernel_37540/132599818.py\", line 47, in crop_images\n",
      "    x1, y1, x2, y2 = find_coordinate(*img.shape[0:2], os.path.join(label_path, f'{patient}_{j:04d}.txt'), s)\n",
      "  File \"/tmp/ipykernel_37540/132599818.py\", line 7, in find_coordinate\n",
      "    assert aorta == 'j', f'如果只有一个label那么此时应为降主动脉, 但实际为{aorta}：{label_file.split(\"/\")[-1]}'\n",
      "AssertionError: 如果只有一个label那么此时应为降主动脉, 但实际为s：wuxiangyang-S-Im18-25_0014.txt\n",
      "Traceback (most recent call last):\n",
      "  File \"/tmp/ipykernel_37540/132599818.py\", line 47, in crop_images\n",
      "    x1, y1, x2, y2 = find_coordinate(*img.shape[0:2], os.path.join(label_path, f'{patient}_{j:04d}.txt'), s)\n",
      "  File \"/tmp/ipykernel_37540/132599818.py\", line 7, in find_coordinate\n",
      "    assert aorta == 'j', f'如果只有一个label那么此时应为降主动脉, 但实际为{aorta}：{label_file.split(\"/\")[-1]}'\n",
      "AssertionError: 如果只有一个label那么此时应为降主动脉, 但实际为s：wuxiangyang-S-Im18-25_0015.txt\n"
     ]
    },
    {
     "name": "stdout",
     "output_type": "stream",
     "text": [
      "******Processing wuyingbo-J-Im36-98******\n",
      "******Processing wuyueming-J-Im36-138******\n",
      "******Processing xiafangzhou-S-18-25-J-18-80******\n"
     ]
    },
    {
     "name": "stderr",
     "output_type": "stream",
     "text": [
      "Traceback (most recent call last):\n",
      "  File \"/tmp/ipykernel_37540/132599818.py\", line 47, in crop_images\n",
      "    x1, y1, x2, y2 = find_coordinate(*img.shape[0:2], os.path.join(label_path, f'{patient}_{j:04d}.txt'), s)\n",
      "  File \"/tmp/ipykernel_37540/132599818.py\", line 7, in find_coordinate\n",
      "    assert aorta == 'j', f'如果只有一个label那么此时应为降主动脉, 但实际为{aorta}：{label_file.split(\"/\")[-1]}'\n",
      "AssertionError: 如果只有一个label那么此时应为降主动脉, 但实际为s：xiafangzhou-S-18-25-J-18-80_0014.txt\n",
      "Traceback (most recent call last):\n",
      "  File \"/tmp/ipykernel_37540/132599818.py\", line 47, in crop_images\n",
      "    x1, y1, x2, y2 = find_coordinate(*img.shape[0:2], os.path.join(label_path, f'{patient}_{j:04d}.txt'), s)\n",
      "  File \"/tmp/ipykernel_37540/132599818.py\", line 7, in find_coordinate\n",
      "    assert aorta == 'j', f'如果只有一个label那么此时应为降主动脉, 但实际为{aorta}：{label_file.split(\"/\")[-1]}'\n",
      "AssertionError: 如果只有一个label那么此时应为降主动脉, 但实际为s：xiafangzhou-S-18-25-J-18-80_0015.txt\n"
     ]
    },
    {
     "name": "stdout",
     "output_type": "stream",
     "text": [
      "******Processing xiaminsong-S-Im40-51-J-Im40-139******\n"
     ]
    },
    {
     "name": "stderr",
     "output_type": "stream",
     "text": [
      "Traceback (most recent call last):\n",
      "  File \"/tmp/ipykernel_37540/132599818.py\", line 47, in crop_images\n",
      "    x1, y1, x2, y2 = find_coordinate(*img.shape[0:2], os.path.join(label_path, f'{patient}_{j:04d}.txt'), s)\n",
      "  File \"/tmp/ipykernel_37540/132599818.py\", line 7, in find_coordinate\n",
      "    assert aorta == 'j', f'如果只有一个label那么此时应为降主动脉, 但实际为{aorta}：{label_file.split(\"/\")[-1]}'\n",
      "AssertionError: 如果只有一个label那么此时应为降主动脉, 但实际为s：xiaminsong-S-Im40-51-J-Im40-139_0036.txt\n"
     ]
    },
    {
     "name": "stdout",
     "output_type": "stream",
     "text": [
      "******Processing xiangweiwen-J-25-52******\n",
      "******Processing xiashubiao-J-24-88******\n",
      "******Processing xiayunqing-J-Im33-141******\n",
      "******Processing xiechangyou-S-Im22-31-J-Im22-84******\n"
     ]
    },
    {
     "name": "stderr",
     "output_type": "stream",
     "text": [
      "Traceback (most recent call last):\n",
      "  File \"/tmp/ipykernel_37540/132599818.py\", line 47, in crop_images\n",
      "    x1, y1, x2, y2 = find_coordinate(*img.shape[0:2], os.path.join(label_path, f'{patient}_{j:04d}.txt'), s)\n",
      "  File \"/tmp/ipykernel_37540/132599818.py\", line 7, in find_coordinate\n",
      "    assert aorta == 'j', f'如果只有一个label那么此时应为降主动脉, 但实际为{aorta}：{label_file.split(\"/\")[-1]}'\n",
      "AssertionError: 如果只有一个label那么此时应为降主动脉, 但实际为s：xiechangyou-S-Im22-31-J-Im22-84_0018.txt\n",
      "Traceback (most recent call last):\n",
      "  File \"/tmp/ipykernel_37540/132599818.py\", line 47, in crop_images\n",
      "    x1, y1, x2, y2 = find_coordinate(*img.shape[0:2], os.path.join(label_path, f'{patient}_{j:04d}.txt'), s)\n",
      "  File \"/tmp/ipykernel_37540/132599818.py\", line 3, in find_coordinate\n",
      "    with open(label_file, 'r') as f:\n",
      "FileNotFoundError: [Errno 2] No such file or directory: '/nfs3-p1/zsxm/dataset/aorta_ct_img_label/positive/xiechangyou-S-Im22-31-J-Im22-84/labels/xiechangyou-S-Im22-31-J-Im22-84_0086.txt'\n"
     ]
    },
    {
     "name": "stdout",
     "output_type": "stream",
     "text": [
      "******Processing xingxiangjuan-J-20-76******\n",
      "******Processing xixiaoguo-S-Im16-31-J-Im16-43******\n"
     ]
    },
    {
     "name": "stderr",
     "output_type": "stream",
     "text": [
      "Traceback (most recent call last):\n",
      "  File \"/tmp/ipykernel_37540/132599818.py\", line 47, in crop_images\n",
      "    x1, y1, x2, y2 = find_coordinate(*img.shape[0:2], os.path.join(label_path, f'{patient}_{j:04d}.txt'), s)\n",
      "  File \"/tmp/ipykernel_37540/132599818.py\", line 7, in find_coordinate\n",
      "    assert aorta == 'j', f'如果只有一个label那么此时应为降主动脉, 但实际为{aorta}：{label_file.split(\"/\")[-1]}'\n",
      "AssertionError: 如果只有一个label那么此时应为降主动脉, 但实际为s：xixiaoguo-S-Im16-31-J-Im16-43_0012.txt\n",
      "Traceback (most recent call last):\n",
      "  File \"/tmp/ipykernel_37540/132599818.py\", line 47, in crop_images\n",
      "    x1, y1, x2, y2 = find_coordinate(*img.shape[0:2], os.path.join(label_path, f'{patient}_{j:04d}.txt'), s)\n",
      "  File \"/tmp/ipykernel_37540/132599818.py\", line 7, in find_coordinate\n",
      "    assert aorta == 'j', f'如果只有一个label那么此时应为降主动脉, 但实际为{aorta}：{label_file.split(\"/\")[-1]}'\n",
      "AssertionError: 如果只有一个label那么此时应为降主动脉, 但实际为s：xixiaoguo-S-Im16-31-J-Im16-43_0013.txt\n",
      "Traceback (most recent call last):\n",
      "  File \"/tmp/ipykernel_37540/132599818.py\", line 47, in crop_images\n",
      "    x1, y1, x2, y2 = find_coordinate(*img.shape[0:2], os.path.join(label_path, f'{patient}_{j:04d}.txt'), s)\n",
      "  File \"/tmp/ipykernel_37540/132599818.py\", line 7, in find_coordinate\n",
      "    assert aorta == 'j', f'如果只有一个label那么此时应为降主动脉, 但实际为{aorta}：{label_file.split(\"/\")[-1]}'\n",
      "AssertionError: 如果只有一个label那么此时应为降主动脉, 但实际为s：xixiaoguo-S-Im16-31-J-Im16-43_0014.txt\n"
     ]
    },
    {
     "name": "stdout",
     "output_type": "stream",
     "text": [
      "******Processing xuanhuili-J-Im30-135******\n"
     ]
    },
    {
     "name": "stderr",
     "output_type": "stream",
     "text": [
      "Traceback (most recent call last):\n",
      "  File \"/tmp/ipykernel_37540/132599818.py\", line 47, in crop_images\n",
      "    x1, y1, x2, y2 = find_coordinate(*img.shape[0:2], os.path.join(label_path, f'{patient}_{j:04d}.txt'), s)\n",
      "  File \"/tmp/ipykernel_37540/132599818.py\", line 3, in find_coordinate\n",
      "    with open(label_file, 'r') as f:\n",
      "FileNotFoundError: [Errno 2] No such file or directory: '/nfs3-p1/zsxm/dataset/aorta_ct_img_label/positive/xuanhuili-J-Im30-135/labels/xuanhuili-J-Im30-135_0076.txt'\n",
      "Traceback (most recent call last):\n",
      "  File \"/tmp/ipykernel_37540/132599818.py\", line 47, in crop_images\n",
      "    x1, y1, x2, y2 = find_coordinate(*img.shape[0:2], os.path.join(label_path, f'{patient}_{j:04d}.txt'), s)\n",
      "  File \"/tmp/ipykernel_37540/132599818.py\", line 3, in find_coordinate\n",
      "    with open(label_file, 'r') as f:\n",
      "FileNotFoundError: [Errno 2] No such file or directory: '/nfs3-p1/zsxm/dataset/aorta_ct_img_label/positive/xuanhuili-J-Im30-135/labels/xuanhuili-J-Im30-135_0128.txt'\n"
     ]
    },
    {
     "name": "stdout",
     "output_type": "stream",
     "text": [
      "******Processing xucaixiang-J-17-36******\n",
      "******Processing xuguochun-J-Im43-60******\n",
      "******Processing xuhangying-J-25-63******\n"
     ]
    },
    {
     "name": "stderr",
     "output_type": "stream",
     "text": [
      "Traceback (most recent call last):\n",
      "  File \"/tmp/ipykernel_37540/132599818.py\", line 47, in crop_images\n",
      "    x1, y1, x2, y2 = find_coordinate(*img.shape[0:2], os.path.join(label_path, f'{patient}_{j:04d}.txt'), s)\n",
      "  File \"/tmp/ipykernel_37540/132599818.py\", line 3, in find_coordinate\n",
      "    with open(label_file, 'r') as f:\n",
      "FileNotFoundError: [Errno 2] No such file or directory: '/nfs3-p1/zsxm/dataset/aorta_ct_img_label/positive/xuhangying-J-25-63/labels/xuhangying-J-25-63_0064.txt'\n",
      "Traceback (most recent call last):\n",
      "  File \"/tmp/ipykernel_37540/132599818.py\", line 47, in crop_images\n",
      "    x1, y1, x2, y2 = find_coordinate(*img.shape[0:2], os.path.join(label_path, f'{patient}_{j:04d}.txt'), s)\n",
      "  File \"/tmp/ipykernel_37540/132599818.py\", line 3, in find_coordinate\n",
      "    with open(label_file, 'r') as f:\n",
      "FileNotFoundError: [Errno 2] No such file or directory: '/nfs3-p1/zsxm/dataset/aorta_ct_img_label/positive/xuhangying-J-25-63/labels/xuhangying-J-25-63_0065.txt'\n",
      "Traceback (most recent call last):\n",
      "  File \"/tmp/ipykernel_37540/132599818.py\", line 47, in crop_images\n",
      "    x1, y1, x2, y2 = find_coordinate(*img.shape[0:2], os.path.join(label_path, f'{patient}_{j:04d}.txt'), s)\n",
      "  File \"/tmp/ipykernel_37540/132599818.py\", line 7, in find_coordinate\n",
      "    assert aorta == 'j', f'如果只有一个label那么此时应为降主动脉, 但实际为{aorta}：{label_file.split(\"/\")[-1]}'\n",
      "AssertionError: 如果只有一个label那么此时应为降主动脉, 但实际为s：xuheping-S-19-35-J-19-70_0015.txt\n",
      "Traceback (most recent call last):\n",
      "  File \"/tmp/ipykernel_37540/132599818.py\", line 47, in crop_images\n",
      "    x1, y1, x2, y2 = find_coordinate(*img.shape[0:2], os.path.join(label_path, f'{patient}_{j:04d}.txt'), s)\n",
      "  File \"/tmp/ipykernel_37540/132599818.py\", line 7, in find_coordinate\n",
      "    assert aorta == 'j', f'如果只有一个label那么此时应为降主动脉, 但实际为{aorta}：{label_file.split(\"/\")[-1]}'\n",
      "AssertionError: 如果只有一个label那么此时应为降主动脉, 但实际为s：xuheping-S-19-35-J-19-70_0016.txt\n"
     ]
    },
    {
     "name": "stdout",
     "output_type": "stream",
     "text": [
      "******Processing xuheping-S-19-35-J-19-70******\n"
     ]
    },
    {
     "name": "stderr",
     "output_type": "stream",
     "text": [
      "Traceback (most recent call last):\n",
      "  File \"/tmp/ipykernel_37540/132599818.py\", line 47, in crop_images\n",
      "    x1, y1, x2, y2 = find_coordinate(*img.shape[0:2], os.path.join(label_path, f'{patient}_{j:04d}.txt'), s)\n",
      "  File \"/tmp/ipykernel_37540/132599818.py\", line 7, in find_coordinate\n",
      "    assert aorta == 'j', f'如果只有一个label那么此时应为降主动脉, 但实际为{aorta}：{label_file.split(\"/\")[-1]}'\n",
      "AssertionError: 如果只有一个label那么此时应为降主动脉, 但实际为s：xuheping-S-19-35-J-19-70_0037.txt\n"
     ]
    },
    {
     "name": "stdout",
     "output_type": "stream",
     "text": [
      "******Processing xuhong-S-Im23-38-J-Im23-40******\n"
     ]
    },
    {
     "name": "stderr",
     "output_type": "stream",
     "text": [
      "Traceback (most recent call last):\n",
      "  File \"/tmp/ipykernel_37540/132599818.py\", line 47, in crop_images\n",
      "    x1, y1, x2, y2 = find_coordinate(*img.shape[0:2], os.path.join(label_path, f'{patient}_{j:04d}.txt'), s)\n",
      "  File \"/tmp/ipykernel_37540/132599818.py\", line 7, in find_coordinate\n",
      "    assert aorta == 'j', f'如果只有一个label那么此时应为降主动脉, 但实际为{aorta}：{label_file.split(\"/\")[-1]}'\n",
      "AssertionError: 如果只有一个label那么此时应为降主动脉, 但实际为s：xuhong-S-Im23-38-J-Im23-40_0019.txt\n",
      "Traceback (most recent call last):\n",
      "  File \"/tmp/ipykernel_37540/132599818.py\", line 47, in crop_images\n",
      "    x1, y1, x2, y2 = find_coordinate(*img.shape[0:2], os.path.join(label_path, f'{patient}_{j:04d}.txt'), s)\n",
      "  File \"/tmp/ipykernel_37540/132599818.py\", line 7, in find_coordinate\n",
      "    assert aorta == 'j', f'如果只有一个label那么此时应为降主动脉, 但实际为{aorta}：{label_file.split(\"/\")[-1]}'\n",
      "AssertionError: 如果只有一个label那么此时应为降主动脉, 但实际为s：xuhong-S-Im23-38-J-Im23-40_0020.txt\n"
     ]
    },
    {
     "name": "stdout",
     "output_type": "stream",
     "text": [
      "******Processing xujiahua-S-20-33-J-20-71******\n"
     ]
    },
    {
     "name": "stderr",
     "output_type": "stream",
     "text": [
      "Traceback (most recent call last):\n",
      "  File \"/tmp/ipykernel_37540/132599818.py\", line 47, in crop_images\n",
      "    x1, y1, x2, y2 = find_coordinate(*img.shape[0:2], os.path.join(label_path, f'{patient}_{j:04d}.txt'), s)\n",
      "  File \"/tmp/ipykernel_37540/132599818.py\", line 7, in find_coordinate\n",
      "    assert aorta == 'j', f'如果只有一个label那么此时应为降主动脉, 但实际为{aorta}：{label_file.split(\"/\")[-1]}'\n",
      "AssertionError: 如果只有一个label那么此时应为降主动脉, 但实际为s：xujiahua-S-20-33-J-20-71_0016.txt\n",
      "Traceback (most recent call last):\n",
      "  File \"/tmp/ipykernel_37540/132599818.py\", line 47, in crop_images\n",
      "    x1, y1, x2, y2 = find_coordinate(*img.shape[0:2], os.path.join(label_path, f'{patient}_{j:04d}.txt'), s)\n",
      "  File \"/tmp/ipykernel_37540/132599818.py\", line 7, in find_coordinate\n",
      "    assert aorta == 'j', f'如果只有一个label那么此时应为降主动脉, 但实际为{aorta}：{label_file.split(\"/\")[-1]}'\n",
      "AssertionError: 如果只有一个label那么此时应为降主动脉, 但实际为s：xujiahua-S-20-33-J-20-71_0017.txt\n"
     ]
    },
    {
     "name": "stdout",
     "output_type": "stream",
     "text": [
      "******Processing xumeijuan-J-16-66******\n",
      "******Processing xupinglun-S-18-28-J-18-32******\n"
     ]
    },
    {
     "name": "stderr",
     "output_type": "stream",
     "text": [
      "Traceback (most recent call last):\n",
      "  File \"/tmp/ipykernel_37540/132599818.py\", line 47, in crop_images\n",
      "    x1, y1, x2, y2 = find_coordinate(*img.shape[0:2], os.path.join(label_path, f'{patient}_{j:04d}.txt'), s)\n",
      "  File \"/tmp/ipykernel_37540/132599818.py\", line 7, in find_coordinate\n",
      "    assert aorta == 'j', f'如果只有一个label那么此时应为降主动脉, 但实际为{aorta}：{label_file.split(\"/\")[-1]}'\n",
      "AssertionError: 如果只有一个label那么此时应为降主动脉, 但实际为s：xupinglun-S-18-28-J-18-32_0014.txt\n",
      "Traceback (most recent call last):\n",
      "  File \"/tmp/ipykernel_37540/132599818.py\", line 47, in crop_images\n",
      "    x1, y1, x2, y2 = find_coordinate(*img.shape[0:2], os.path.join(label_path, f'{patient}_{j:04d}.txt'), s)\n",
      "  File \"/tmp/ipykernel_37540/132599818.py\", line 7, in find_coordinate\n",
      "    assert aorta == 'j', f'如果只有一个label那么此时应为降主动脉, 但实际为{aorta}：{label_file.split(\"/\")[-1]}'\n",
      "AssertionError: 如果只有一个label那么此时应为降主动脉, 但实际为s：xupinglun-S-18-28-J-18-32_0015.txt\n",
      "Traceback (most recent call last):\n",
      "  File \"/tmp/ipykernel_37540/132599818.py\", line 47, in crop_images\n",
      "    x1, y1, x2, y2 = find_coordinate(*img.shape[0:2], os.path.join(label_path, f'{patient}_{j:04d}.txt'), s)\n",
      "  File \"/tmp/ipykernel_37540/132599818.py\", line 7, in find_coordinate\n",
      "    assert aorta == 'j', f'如果只有一个label那么此时应为降主动脉, 但实际为{aorta}：{label_file.split(\"/\")[-1]}'\n",
      "AssertionError: 如果只有一个label那么此时应为降主动脉, 但实际为s：xupinglun-S-18-28-J-18-32_0016.txt\n"
     ]
    },
    {
     "name": "stdout",
     "output_type": "stream",
     "text": [
      "******Processing xushangfa-J-Im36-141******\n",
      "******Processing xushichao-J-Im35-145******\n",
      "******Processing xuweiliang-S-22-25-J-22-74******\n"
     ]
    },
    {
     "name": "stderr",
     "output_type": "stream",
     "text": [
      "Traceback (most recent call last):\n",
      "  File \"/tmp/ipykernel_37540/132599818.py\", line 47, in crop_images\n",
      "    x1, y1, x2, y2 = find_coordinate(*img.shape[0:2], os.path.join(label_path, f'{patient}_{j:04d}.txt'), s)\n",
      "  File \"/tmp/ipykernel_37540/132599818.py\", line 7, in find_coordinate\n",
      "    assert aorta == 'j', f'如果只有一个label那么此时应为降主动脉, 但实际为{aorta}：{label_file.split(\"/\")[-1]}'\n",
      "AssertionError: 如果只有一个label那么此时应为降主动脉, 但实际为s：xuweiliang-S-22-25-J-22-74_0018.txt\n",
      "Traceback (most recent call last):\n",
      "  File \"/tmp/ipykernel_37540/132599818.py\", line 47, in crop_images\n",
      "    x1, y1, x2, y2 = find_coordinate(*img.shape[0:2], os.path.join(label_path, f'{patient}_{j:04d}.txt'), s)\n",
      "  File \"/tmp/ipykernel_37540/132599818.py\", line 7, in find_coordinate\n",
      "    assert aorta == 'j', f'如果只有一个label那么此时应为降主动脉, 但实际为{aorta}：{label_file.split(\"/\")[-1]}'\n",
      "AssertionError: 如果只有一个label那么此时应为降主动脉, 但实际为s：xuweiliang-S-22-25-J-22-74_0019.txt\n",
      "Traceback (most recent call last):\n",
      "  File \"/tmp/ipykernel_37540/132599818.py\", line 47, in crop_images\n",
      "    x1, y1, x2, y2 = find_coordinate(*img.shape[0:2], os.path.join(label_path, f'{patient}_{j:04d}.txt'), s)\n",
      "  File \"/tmp/ipykernel_37540/132599818.py\", line 7, in find_coordinate\n",
      "    assert aorta == 'j', f'如果只有一个label那么此时应为降主动脉, 但实际为{aorta}：{label_file.split(\"/\")[-1]}'\n",
      "AssertionError: 如果只有一个label那么此时应为降主动脉, 但实际为s：xuweiliang-S-22-25-J-22-74_0020.txt\n",
      "Traceback (most recent call last):\n",
      "  File \"/tmp/ipykernel_37540/132599818.py\", line 45, in crop_images\n",
      "    img = Image.open(os.path.join(image_path, f'{patient}_{j:04d}.png'))\n",
      "  File \"/disk1/zsxm/miniconda3/envs/pytorch/lib/python3.8/site-packages/PIL/Image.py\", line 2975, in open\n",
      "    fp = builtins.open(filename, \"rb\")\n",
      "FileNotFoundError: [Errno 2] No such file or directory: '/nfs3-p1/zsxm/dataset/aorta_ct_img_label/positive/xuweiliang-S-22-25-J-22-74/images/xuweiliang-S-22-25-J-22-74_0074.png'\n",
      "Traceback (most recent call last):\n",
      "  File \"/tmp/ipykernel_37540/132599818.py\", line 45, in crop_images\n",
      "    img = Image.open(os.path.join(image_path, f'{patient}_{j:04d}.png'))\n",
      "  File \"/disk1/zsxm/miniconda3/envs/pytorch/lib/python3.8/site-packages/PIL/Image.py\", line 2975, in open\n",
      "    fp = builtins.open(filename, \"rb\")\n",
      "FileNotFoundError: [Errno 2] No such file or directory: '/nfs3-p1/zsxm/dataset/aorta_ct_img_label/positive/xuweiliang-S-22-25-J-22-74/images/xuweiliang-S-22-25-J-22-74_0075.png'\n",
      "Traceback (most recent call last):\n",
      "  File \"/tmp/ipykernel_37540/132599818.py\", line 45, in crop_images\n",
      "    img = Image.open(os.path.join(image_path, f'{patient}_{j:04d}.png'))\n",
      "  File \"/disk1/zsxm/miniconda3/envs/pytorch/lib/python3.8/site-packages/PIL/Image.py\", line 2975, in open\n",
      "    fp = builtins.open(filename, \"rb\")\n",
      "FileNotFoundError: [Errno 2] No such file or directory: '/nfs3-p1/zsxm/dataset/aorta_ct_img_label/positive/xuweiliang-S-22-25-J-22-74/images/xuweiliang-S-22-25-J-22-74_0076.png'\n"
     ]
    },
    {
     "name": "stdout",
     "output_type": "stream",
     "text": [
      "******Processing xuxingzheng-J-16-63******\n",
      "******Processing xuyanfang-J-Im20-80******\n",
      "******Processing xuyaofeng-J-Im24-119******\n",
      "******Processing xuyongbiao-J-18-67******\n",
      "******Processing xuyuping-S-Im21-33-J-Im21-69******\n"
     ]
    },
    {
     "name": "stderr",
     "output_type": "stream",
     "text": [
      "Traceback (most recent call last):\n",
      "  File \"/tmp/ipykernel_37540/132599818.py\", line 47, in crop_images\n",
      "    x1, y1, x2, y2 = find_coordinate(*img.shape[0:2], os.path.join(label_path, f'{patient}_{j:04d}.txt'), s)\n",
      "  File \"/tmp/ipykernel_37540/132599818.py\", line 7, in find_coordinate\n",
      "    assert aorta == 'j', f'如果只有一个label那么此时应为降主动脉, 但实际为{aorta}：{label_file.split(\"/\")[-1]}'\n",
      "AssertionError: 如果只有一个label那么此时应为降主动脉, 但实际为s：xuyuping-S-Im21-33-J-Im21-69_0017.txt\n"
     ]
    },
    {
     "name": "stdout",
     "output_type": "stream",
     "text": [
      "******Processing xuzhaofang-S-21-26-J-21-86******\n"
     ]
    },
    {
     "name": "stderr",
     "output_type": "stream",
     "text": [
      "Traceback (most recent call last):\n",
      "  File \"/tmp/ipykernel_37540/132599818.py\", line 47, in crop_images\n",
      "    x1, y1, x2, y2 = find_coordinate(*img.shape[0:2], os.path.join(label_path, f'{patient}_{j:04d}.txt'), s)\n",
      "  File \"/tmp/ipykernel_37540/132599818.py\", line 7, in find_coordinate\n",
      "    assert aorta == 'j', f'如果只有一个label那么此时应为降主动脉, 但实际为{aorta}：{label_file.split(\"/\")[-1]}'\n",
      "AssertionError: 如果只有一个label那么此时应为降主动脉, 但实际为s：xuzhaofang-S-21-26-J-21-86_0017.txt\n",
      "Traceback (most recent call last):\n",
      "  File \"/tmp/ipykernel_37540/132599818.py\", line 47, in crop_images\n",
      "    x1, y1, x2, y2 = find_coordinate(*img.shape[0:2], os.path.join(label_path, f'{patient}_{j:04d}.txt'), s)\n",
      "  File \"/tmp/ipykernel_37540/132599818.py\", line 7, in find_coordinate\n",
      "    assert aorta == 'j', f'如果只有一个label那么此时应为降主动脉, 但实际为{aorta}：{label_file.split(\"/\")[-1]}'\n",
      "AssertionError: 如果只有一个label那么此时应为降主动脉, 但实际为s：xuzhaofang-S-21-26-J-21-86_0018.txt\n"
     ]
    },
    {
     "name": "stdout",
     "output_type": "stream",
     "text": [
      "******Processing yangbaozhi-J-Im27-65******\n",
      "******Processing yangbingshui-S-Im25-33-J-Im25-56******\n"
     ]
    },
    {
     "name": "stderr",
     "output_type": "stream",
     "text": [
      "Traceback (most recent call last):\n",
      "  File \"/tmp/ipykernel_37540/132599818.py\", line 47, in crop_images\n",
      "    x1, y1, x2, y2 = find_coordinate(*img.shape[0:2], os.path.join(label_path, f'{patient}_{j:04d}.txt'), s)\n",
      "  File \"/tmp/ipykernel_37540/132599818.py\", line 7, in find_coordinate\n",
      "    assert aorta == 'j', f'如果只有一个label那么此时应为降主动脉, 但实际为{aorta}：{label_file.split(\"/\")[-1]}'\n",
      "AssertionError: 如果只有一个label那么此时应为降主动脉, 但实际为s：yangbingshui-S-Im25-33-J-Im25-56_0021.txt\n"
     ]
    },
    {
     "name": "stdout",
     "output_type": "stream",
     "text": [
      "******Processing yangdongshui-S-Im15-21******\n"
     ]
    },
    {
     "name": "stderr",
     "output_type": "stream",
     "text": [
      "Traceback (most recent call last):\n",
      "  File \"/tmp/ipykernel_37540/132599818.py\", line 47, in crop_images\n",
      "    x1, y1, x2, y2 = find_coordinate(*img.shape[0:2], os.path.join(label_path, f'{patient}_{j:04d}.txt'), s)\n",
      "  File \"/tmp/ipykernel_37540/132599818.py\", line 7, in find_coordinate\n",
      "    assert aorta == 'j', f'如果只有一个label那么此时应为降主动脉, 但实际为{aorta}：{label_file.split(\"/\")[-1]}'\n",
      "AssertionError: 如果只有一个label那么此时应为降主动脉, 但实际为s：yangdongshui-S-Im15-21_0011.txt\n",
      "Traceback (most recent call last):\n",
      "  File \"/tmp/ipykernel_37540/132599818.py\", line 47, in crop_images\n",
      "    x1, y1, x2, y2 = find_coordinate(*img.shape[0:2], os.path.join(label_path, f'{patient}_{j:04d}.txt'), s)\n",
      "  File \"/tmp/ipykernel_37540/132599818.py\", line 7, in find_coordinate\n",
      "    assert aorta == 'j', f'如果只有一个label那么此时应为降主动脉, 但实际为{aorta}：{label_file.split(\"/\")[-1]}'\n",
      "AssertionError: 如果只有一个label那么此时应为降主动脉, 但实际为s：yangdongshui-S-Im15-21_0012.txt\n"
     ]
    },
    {
     "name": "stdout",
     "output_type": "stream",
     "text": [
      "******Processing yangen-J-Im61-183******\n",
      "******Processing yanglanfen-S-Im19-33******\n"
     ]
    },
    {
     "name": "stderr",
     "output_type": "stream",
     "text": [
      "Traceback (most recent call last):\n",
      "  File \"/tmp/ipykernel_37540/132599818.py\", line 47, in crop_images\n",
      "    x1, y1, x2, y2 = find_coordinate(*img.shape[0:2], os.path.join(label_path, f'{patient}_{j:04d}.txt'), s)\n",
      "  File \"/tmp/ipykernel_37540/132599818.py\", line 7, in find_coordinate\n",
      "    assert aorta == 'j', f'如果只有一个label那么此时应为降主动脉, 但实际为{aorta}：{label_file.split(\"/\")[-1]}'\n",
      "AssertionError: 如果只有一个label那么此时应为降主动脉, 但实际为s：yanglanfen-S-Im19-33_0015.txt\n",
      "Traceback (most recent call last):\n",
      "  File \"/tmp/ipykernel_37540/132599818.py\", line 47, in crop_images\n",
      "    x1, y1, x2, y2 = find_coordinate(*img.shape[0:2], os.path.join(label_path, f'{patient}_{j:04d}.txt'), s)\n",
      "  File \"/tmp/ipykernel_37540/132599818.py\", line 7, in find_coordinate\n",
      "    assert aorta == 'j', f'如果只有一个label那么此时应为降主动脉, 但实际为{aorta}：{label_file.split(\"/\")[-1]}'\n",
      "AssertionError: 如果只有一个label那么此时应为降主动脉, 但实际为s：yanglanfen-S-Im19-33_0016.txt\n",
      "Traceback (most recent call last):\n",
      "  File \"/tmp/ipykernel_37540/132599818.py\", line 47, in crop_images\n",
      "    x1, y1, x2, y2 = find_coordinate(*img.shape[0:2], os.path.join(label_path, f'{patient}_{j:04d}.txt'), s)\n",
      "  File \"/tmp/ipykernel_37540/132599818.py\", line 7, in find_coordinate\n",
      "    assert aorta == 'j', f'如果只有一个label那么此时应为降主动脉, 但实际为{aorta}：{label_file.split(\"/\")[-1]}'\n",
      "AssertionError: 如果只有一个label那么此时应为降主动脉, 但实际为s：yanglanfen-S-Im19-33_0027.txt\n",
      "Traceback (most recent call last):\n",
      "  File \"/tmp/ipykernel_37540/132599818.py\", line 47, in crop_images\n",
      "    x1, y1, x2, y2 = find_coordinate(*img.shape[0:2], os.path.join(label_path, f'{patient}_{j:04d}.txt'), s)\n",
      "  File \"/tmp/ipykernel_37540/132599818.py\", line 7, in find_coordinate\n",
      "    assert aorta == 'j', f'如果只有一个label那么此时应为降主动脉, 但实际为{aorta}：{label_file.split(\"/\")[-1]}'\n",
      "AssertionError: 如果只有一个label那么此时应为降主动脉, 但实际为s：yanglanfen-S-Im19-33_0028.txt\n"
     ]
    },
    {
     "name": "stdout",
     "output_type": "stream",
     "text": [
      "******Processing yangmin-J-Im37-150******\n"
     ]
    },
    {
     "name": "stderr",
     "output_type": "stream",
     "text": [
      "Traceback (most recent call last):\n",
      "  File \"/tmp/ipykernel_37540/132599818.py\", line 47, in crop_images\n",
      "    x1, y1, x2, y2 = find_coordinate(*img.shape[0:2], os.path.join(label_path, f'{patient}_{j:04d}.txt'), s)\n",
      "  File \"/tmp/ipykernel_37540/132599818.py\", line 3, in find_coordinate\n",
      "    with open(label_file, 'r') as f:\n",
      "FileNotFoundError: [Errno 2] No such file or directory: '/nfs3-p1/zsxm/dataset/aorta_ct_img_label/positive/yangmin-J-Im37-150/labels/yangmin-J-Im37-150_0147.txt'\n",
      "Traceback (most recent call last):\n",
      "  File \"/tmp/ipykernel_37540/132599818.py\", line 47, in crop_images\n",
      "    x1, y1, x2, y2 = find_coordinate(*img.shape[0:2], os.path.join(label_path, f'{patient}_{j:04d}.txt'), s)\n",
      "  File \"/tmp/ipykernel_37540/132599818.py\", line 3, in find_coordinate\n",
      "    with open(label_file, 'r') as f:\n",
      "FileNotFoundError: [Errno 2] No such file or directory: '/nfs3-p1/zsxm/dataset/aorta_ct_img_label/positive/yangmin-J-Im37-150/labels/yangmin-J-Im37-150_0149.txt'\n",
      "Traceback (most recent call last):\n",
      "  File \"/tmp/ipykernel_37540/132599818.py\", line 47, in crop_images\n",
      "    x1, y1, x2, y2 = find_coordinate(*img.shape[0:2], os.path.join(label_path, f'{patient}_{j:04d}.txt'), s)\n",
      "  File \"/tmp/ipykernel_37540/132599818.py\", line 3, in find_coordinate\n",
      "    with open(label_file, 'r') as f:\n",
      "FileNotFoundError: [Errno 2] No such file or directory: '/nfs3-p1/zsxm/dataset/aorta_ct_img_label/positive/yangmin-J-Im37-150/labels/yangmin-J-Im37-150_0150.txt'\n",
      "Traceback (most recent call last):\n",
      "  File \"/tmp/ipykernel_37540/132599818.py\", line 47, in crop_images\n",
      "    x1, y1, x2, y2 = find_coordinate(*img.shape[0:2], os.path.join(label_path, f'{patient}_{j:04d}.txt'), s)\n",
      "  File \"/tmp/ipykernel_37540/132599818.py\", line 7, in find_coordinate\n",
      "    assert aorta == 'j', f'如果只有一个label那么此时应为降主动脉, 但实际为{aorta}：{label_file.split(\"/\")[-1]}'\n",
      "AssertionError: 如果只有一个label那么此时应为降主动脉, 但实际为s：yangmingjun-S-15-24-J-15-61_0011.txt\n",
      "Traceback (most recent call last):\n",
      "  File \"/tmp/ipykernel_37540/132599818.py\", line 47, in crop_images\n",
      "    x1, y1, x2, y2 = find_coordinate(*img.shape[0:2], os.path.join(label_path, f'{patient}_{j:04d}.txt'), s)\n",
      "  File \"/tmp/ipykernel_37540/132599818.py\", line 7, in find_coordinate\n",
      "    assert aorta == 'j', f'如果只有一个label那么此时应为降主动脉, 但实际为{aorta}：{label_file.split(\"/\")[-1]}'\n",
      "AssertionError: 如果只有一个label那么此时应为降主动脉, 但实际为s：yangmingjun-S-15-24-J-15-61_0012.txt\n",
      "Traceback (most recent call last):\n",
      "  File \"/tmp/ipykernel_37540/132599818.py\", line 47, in crop_images\n",
      "    x1, y1, x2, y2 = find_coordinate(*img.shape[0:2], os.path.join(label_path, f'{patient}_{j:04d}.txt'), s)\n",
      "  File \"/tmp/ipykernel_37540/132599818.py\", line 7, in find_coordinate\n",
      "    assert aorta == 'j', f'如果只有一个label那么此时应为降主动脉, 但实际为{aorta}：{label_file.split(\"/\")[-1]}'\n",
      "AssertionError: 如果只有一个label那么此时应为降主动脉, 但实际为s：yangmingjun-S-15-24-J-15-61_0013.txt\n"
     ]
    },
    {
     "name": "stdout",
     "output_type": "stream",
     "text": [
      "******Processing yangmingjun-S-15-24-J-15-61******\n",
      "******Processing yangxiufu-S-Im25-37-J-Im25-29******\n"
     ]
    },
    {
     "name": "stderr",
     "output_type": "stream",
     "text": [
      "Traceback (most recent call last):\n",
      "  File \"/tmp/ipykernel_37540/132599818.py\", line 47, in crop_images\n",
      "    x1, y1, x2, y2 = find_coordinate(*img.shape[0:2], os.path.join(label_path, f'{patient}_{j:04d}.txt'), s)\n",
      "  File \"/tmp/ipykernel_37540/132599818.py\", line 7, in find_coordinate\n",
      "    assert aorta == 'j', f'如果只有一个label那么此时应为降主动脉, 但实际为{aorta}：{label_file.split(\"/\")[-1]}'\n",
      "AssertionError: 如果只有一个label那么此时应为降主动脉, 但实际为s：yangxiufu-S-Im25-37-J-Im25-29_0021.txt\n",
      "Traceback (most recent call last):\n",
      "  File \"/tmp/ipykernel_37540/132599818.py\", line 47, in crop_images\n",
      "    x1, y1, x2, y2 = find_coordinate(*img.shape[0:2], os.path.join(label_path, f'{patient}_{j:04d}.txt'), s)\n",
      "  File \"/tmp/ipykernel_37540/132599818.py\", line 7, in find_coordinate\n",
      "    assert aorta == 'j', f'如果只有一个label那么此时应为降主动脉, 但实际为{aorta}：{label_file.split(\"/\")[-1]}'\n",
      "AssertionError: 如果只有一个label那么此时应为降主动脉, 但实际为s：yangxiufu-S-Im25-37-J-Im25-29_0022.txt\n"
     ]
    },
    {
     "name": "stdout",
     "output_type": "stream",
     "text": [
      "******Processing yangxiulian-S-Im20-26-J-Im20-44******\n"
     ]
    },
    {
     "name": "stderr",
     "output_type": "stream",
     "text": [
      "Traceback (most recent call last):\n",
      "  File \"/tmp/ipykernel_37540/132599818.py\", line 47, in crop_images\n",
      "    x1, y1, x2, y2 = find_coordinate(*img.shape[0:2], os.path.join(label_path, f'{patient}_{j:04d}.txt'), s)\n",
      "  File \"/tmp/ipykernel_37540/132599818.py\", line 7, in find_coordinate\n",
      "    assert aorta == 'j', f'如果只有一个label那么此时应为降主动脉, 但实际为{aorta}：{label_file.split(\"/\")[-1]}'\n",
      "AssertionError: 如果只有一个label那么此时应为降主动脉, 但实际为s：yangxiulian-S-Im20-26-J-Im20-44_0016.txt\n",
      "Traceback (most recent call last):\n",
      "  File \"/tmp/ipykernel_37540/132599818.py\", line 47, in crop_images\n",
      "    x1, y1, x2, y2 = find_coordinate(*img.shape[0:2], os.path.join(label_path, f'{patient}_{j:04d}.txt'), s)\n",
      "  File \"/tmp/ipykernel_37540/132599818.py\", line 7, in find_coordinate\n",
      "    assert aorta == 'j', f'如果只有一个label那么此时应为降主动脉, 但实际为{aorta}：{label_file.split(\"/\")[-1]}'\n",
      "AssertionError: 如果只有一个label那么此时应为降主动脉, 但实际为s：yangxiulian-S-Im20-26-J-Im20-44_0017.txt\n",
      "Traceback (most recent call last):\n",
      "  File \"/tmp/ipykernel_37540/132599818.py\", line 47, in crop_images\n",
      "    x1, y1, x2, y2 = find_coordinate(*img.shape[0:2], os.path.join(label_path, f'{patient}_{j:04d}.txt'), s)\n",
      "  File \"/tmp/ipykernel_37540/132599818.py\", line 7, in find_coordinate\n",
      "    assert aorta == 'j', f'如果只有一个label那么此时应为降主动脉, 但实际为{aorta}：{label_file.split(\"/\")[-1]}'\n",
      "AssertionError: 如果只有一个label那么此时应为降主动脉, 但实际为s：yangxiulian-S-Im20-26-J-Im20-44_0018.txt\n"
     ]
    },
    {
     "name": "stdout",
     "output_type": "stream",
     "text": [
      "******Processing yangxuehua-J-Im23-79******\n",
      "******Processing yangyuexian-S-Im38-63******\n"
     ]
    },
    {
     "name": "stderr",
     "output_type": "stream",
     "text": [
      "Traceback (most recent call last):\n",
      "  File \"/tmp/ipykernel_37540/132599818.py\", line 47, in crop_images\n",
      "    x1, y1, x2, y2 = find_coordinate(*img.shape[0:2], os.path.join(label_path, f'{patient}_{j:04d}.txt'), s)\n",
      "  File \"/tmp/ipykernel_37540/132599818.py\", line 7, in find_coordinate\n",
      "    assert aorta == 'j', f'如果只有一个label那么此时应为降主动脉, 但实际为{aorta}：{label_file.split(\"/\")[-1]}'\n",
      "AssertionError: 如果只有一个label那么此时应为降主动脉, 但实际为s：yangyuexian-S-Im38-63_0034.txt\n",
      "Traceback (most recent call last):\n",
      "  File \"/tmp/ipykernel_37540/132599818.py\", line 47, in crop_images\n",
      "    x1, y1, x2, y2 = find_coordinate(*img.shape[0:2], os.path.join(label_path, f'{patient}_{j:04d}.txt'), s)\n",
      "  File \"/tmp/ipykernel_37540/132599818.py\", line 7, in find_coordinate\n",
      "    assert aorta == 'j', f'如果只有一个label那么此时应为降主动脉, 但实际为{aorta}：{label_file.split(\"/\")[-1]}'\n",
      "AssertionError: 如果只有一个label那么此时应为降主动脉, 但实际为s：yangyuexian-S-Im38-63_0035.txt\n"
     ]
    },
    {
     "name": "stdout",
     "output_type": "stream",
     "text": [
      "******Processing yangyulin-J-Im16-58******\n",
      "******Processing yangzhanxiang-J-Im31-145******\n",
      "******Processing yangzhengfu-S-Im16-30-J-Im16-77******\n"
     ]
    },
    {
     "name": "stderr",
     "output_type": "stream",
     "text": [
      "Traceback (most recent call last):\n",
      "  File \"/tmp/ipykernel_37540/132599818.py\", line 47, in crop_images\n",
      "    x1, y1, x2, y2 = find_coordinate(*img.shape[0:2], os.path.join(label_path, f'{patient}_{j:04d}.txt'), s)\n",
      "  File \"/tmp/ipykernel_37540/132599818.py\", line 7, in find_coordinate\n",
      "    assert aorta == 'j', f'如果只有一个label那么此时应为降主动脉, 但实际为{aorta}：{label_file.split(\"/\")[-1]}'\n",
      "AssertionError: 如果只有一个label那么此时应为降主动脉, 但实际为s：yangzhengfu-S-Im16-30-J-Im16-77_0012.txt\n",
      "Traceback (most recent call last):\n",
      "  File \"/tmp/ipykernel_37540/132599818.py\", line 47, in crop_images\n",
      "    x1, y1, x2, y2 = find_coordinate(*img.shape[0:2], os.path.join(label_path, f'{patient}_{j:04d}.txt'), s)\n",
      "  File \"/tmp/ipykernel_37540/132599818.py\", line 7, in find_coordinate\n",
      "    assert aorta == 'j', f'如果只有一个label那么此时应为降主动脉, 但实际为{aorta}：{label_file.split(\"/\")[-1]}'\n",
      "AssertionError: 如果只有一个label那么此时应为降主动脉, 但实际为s：yangzhengfu-S-Im16-30-J-Im16-77_0013.txt\n",
      "Traceback (most recent call last):\n",
      "  File \"/tmp/ipykernel_37540/132599818.py\", line 47, in crop_images\n",
      "    x1, y1, x2, y2 = find_coordinate(*img.shape[0:2], os.path.join(label_path, f'{patient}_{j:04d}.txt'), s)\n",
      "  File \"/tmp/ipykernel_37540/132599818.py\", line 7, in find_coordinate\n",
      "    assert aorta == 'j', f'如果只有一个label那么此时应为降主动脉, 但实际为{aorta}：{label_file.split(\"/\")[-1]}'\n",
      "AssertionError: 如果只有一个label那么此时应为降主动脉, 但实际为s：yangzhengfu-S-Im16-30-J-Im16-77_0014.txt\n",
      "Traceback (most recent call last):\n",
      "  File \"/tmp/ipykernel_37540/132599818.py\", line 47, in crop_images\n",
      "    x1, y1, x2, y2 = find_coordinate(*img.shape[0:2], os.path.join(label_path, f'{patient}_{j:04d}.txt'), s)\n",
      "  File \"/tmp/ipykernel_37540/132599818.py\", line 3, in find_coordinate\n",
      "    with open(label_file, 'r') as f:\n",
      "FileNotFoundError: [Errno 2] No such file or directory: '/nfs3-p1/zsxm/dataset/aorta_ct_img_label/positive/yangzhengfu-S-Im16-30-J-Im16-77/labels/yangzhengfu-S-Im16-30-J-Im16-77_0062.txt'\n"
     ]
    },
    {
     "name": "stdout",
     "output_type": "stream",
     "text": [
      "******Processing yangzhicheng-J-Im19-82******\n",
      "******Processing yanjuanfeng-J-Im30-32******\n",
      "******Processing yaocaiming-J-Im26-88******\n",
      "******Processing yaojianmin-S-Im20-29-J-Im20-86******\n"
     ]
    },
    {
     "name": "stderr",
     "output_type": "stream",
     "text": [
      "Traceback (most recent call last):\n",
      "  File \"/tmp/ipykernel_37540/132599818.py\", line 47, in crop_images\n",
      "    x1, y1, x2, y2 = find_coordinate(*img.shape[0:2], os.path.join(label_path, f'{patient}_{j:04d}.txt'), s)\n",
      "  File \"/tmp/ipykernel_37540/132599818.py\", line 7, in find_coordinate\n",
      "    assert aorta == 'j', f'如果只有一个label那么此时应为降主动脉, 但实际为{aorta}：{label_file.split(\"/\")[-1]}'\n",
      "AssertionError: 如果只有一个label那么此时应为降主动脉, 但实际为s：yaojianmin-S-Im20-29-J-Im20-86_0016.txt\n",
      "Traceback (most recent call last):\n",
      "  File \"/tmp/ipykernel_37540/132599818.py\", line 47, in crop_images\n",
      "    x1, y1, x2, y2 = find_coordinate(*img.shape[0:2], os.path.join(label_path, f'{patient}_{j:04d}.txt'), s)\n",
      "  File \"/tmp/ipykernel_37540/132599818.py\", line 7, in find_coordinate\n",
      "    assert aorta == 'j', f'如果只有一个label那么此时应为降主动脉, 但实际为{aorta}：{label_file.split(\"/\")[-1]}'\n",
      "AssertionError: 如果只有一个label那么此时应为降主动脉, 但实际为s：yaojianmin-S-Im20-29-J-Im20-86_0017.txt\n"
     ]
    },
    {
     "name": "stdout",
     "output_type": "stream",
     "text": [
      "******Processing yaoliumei-S-Im28-39******\n"
     ]
    },
    {
     "name": "stderr",
     "output_type": "stream",
     "text": [
      "Traceback (most recent call last):\n",
      "  File \"/tmp/ipykernel_37540/132599818.py\", line 47, in crop_images\n",
      "    x1, y1, x2, y2 = find_coordinate(*img.shape[0:2], os.path.join(label_path, f'{patient}_{j:04d}.txt'), s)\n",
      "  File \"/tmp/ipykernel_37540/132599818.py\", line 7, in find_coordinate\n",
      "    assert aorta == 'j', f'如果只有一个label那么此时应为降主动脉, 但实际为{aorta}：{label_file.split(\"/\")[-1]}'\n",
      "AssertionError: 如果只有一个label那么此时应为降主动脉, 但实际为s：yaoliumei-S-Im28-39_0024.txt\n"
     ]
    },
    {
     "name": "stdout",
     "output_type": "stream",
     "text": [
      "******Processing yaowenhao-J-36-47******\n"
     ]
    },
    {
     "name": "stderr",
     "output_type": "stream",
     "text": [
      "Traceback (most recent call last):\n",
      "  File \"/tmp/ipykernel_37540/132599818.py\", line 47, in crop_images\n",
      "    x1, y1, x2, y2 = find_coordinate(*img.shape[0:2], os.path.join(label_path, f'{patient}_{j:04d}.txt'), s)\n",
      "  File \"/tmp/ipykernel_37540/132599818.py\", line 3, in find_coordinate\n",
      "    with open(label_file, 'r') as f:\n",
      "FileNotFoundError: [Errno 2] No such file or directory: '/nfs3-p1/zsxm/dataset/aorta_ct_img_label/positive/yaowenhao-J-36-47/labels/yaowenhao-J-36-47_0042.txt'\n",
      "Traceback (most recent call last):\n",
      "  File \"/tmp/ipykernel_37540/132599818.py\", line 47, in crop_images\n",
      "    x1, y1, x2, y2 = find_coordinate(*img.shape[0:2], os.path.join(label_path, f'{patient}_{j:04d}.txt'), s)\n",
      "  File \"/tmp/ipykernel_37540/132599818.py\", line 3, in find_coordinate\n",
      "    with open(label_file, 'r') as f:\n",
      "FileNotFoundError: [Errno 2] No such file or directory: '/nfs3-p1/zsxm/dataset/aorta_ct_img_label/positive/yaowenhao-J-36-47/labels/yaowenhao-J-36-47_0043.txt'\n",
      "Traceback (most recent call last):\n",
      "  File \"/tmp/ipykernel_37540/132599818.py\", line 47, in crop_images\n",
      "    x1, y1, x2, y2 = find_coordinate(*img.shape[0:2], os.path.join(label_path, f'{patient}_{j:04d}.txt'), s)\n",
      "  File \"/tmp/ipykernel_37540/132599818.py\", line 3, in find_coordinate\n",
      "    with open(label_file, 'r') as f:\n",
      "FileNotFoundError: [Errno 2] No such file or directory: '/nfs3-p1/zsxm/dataset/aorta_ct_img_label/positive/yaowenhao-J-36-47/labels/yaowenhao-J-36-47_0044.txt'\n",
      "Traceback (most recent call last):\n",
      "  File \"/tmp/ipykernel_37540/132599818.py\", line 47, in crop_images\n",
      "    x1, y1, x2, y2 = find_coordinate(*img.shape[0:2], os.path.join(label_path, f'{patient}_{j:04d}.txt'), s)\n",
      "  File \"/tmp/ipykernel_37540/132599818.py\", line 3, in find_coordinate\n",
      "    with open(label_file, 'r') as f:\n",
      "FileNotFoundError: [Errno 2] No such file or directory: '/nfs3-p1/zsxm/dataset/aorta_ct_img_label/positive/yaowenhao-J-36-47/labels/yaowenhao-J-36-47_0046.txt'\n"
     ]
    },
    {
     "name": "stdout",
     "output_type": "stream",
     "text": [
      "******Processing yaozaisheng-J-Im16-28******\n",
      "******Processing yejiangen-J-15-34******\n",
      "******Processing yepeng-J-Im26-125******\n",
      "******Processing yesanghua-J-Im41-138******\n",
      "******Processing yewenyi-J-Im36-130******\n",
      "******Processing yexianchang-S-17-30-J-17-74******\n"
     ]
    },
    {
     "name": "stderr",
     "output_type": "stream",
     "text": [
      "Traceback (most recent call last):\n",
      "  File \"/tmp/ipykernel_37540/132599818.py\", line 47, in crop_images\n",
      "    x1, y1, x2, y2 = find_coordinate(*img.shape[0:2], os.path.join(label_path, f'{patient}_{j:04d}.txt'), s)\n",
      "  File \"/tmp/ipykernel_37540/132599818.py\", line 7, in find_coordinate\n",
      "    assert aorta == 'j', f'如果只有一个label那么此时应为降主动脉, 但实际为{aorta}：{label_file.split(\"/\")[-1]}'\n",
      "AssertionError: 如果只有一个label那么此时应为降主动脉, 但实际为s：yexianchang-S-17-30-J-17-74_0013.txt\n",
      "Traceback (most recent call last):\n",
      "  File \"/tmp/ipykernel_37540/132599818.py\", line 47, in crop_images\n",
      "    x1, y1, x2, y2 = find_coordinate(*img.shape[0:2], os.path.join(label_path, f'{patient}_{j:04d}.txt'), s)\n",
      "  File \"/tmp/ipykernel_37540/132599818.py\", line 7, in find_coordinate\n",
      "    assert aorta == 'j', f'如果只有一个label那么此时应为降主动脉, 但实际为{aorta}：{label_file.split(\"/\")[-1]}'\n",
      "AssertionError: 如果只有一个label那么此时应为降主动脉, 但实际为s：yexianchang-S-17-30-J-17-74_0014.txt\n",
      "Traceback (most recent call last):\n",
      "  File \"/tmp/ipykernel_37540/132599818.py\", line 47, in crop_images\n",
      "    x1, y1, x2, y2 = find_coordinate(*img.shape[0:2], os.path.join(label_path, f'{patient}_{j:04d}.txt'), s)\n",
      "  File \"/tmp/ipykernel_37540/132599818.py\", line 13, in find_coordinate\n",
      "    assert 0.25 < corr1[1] < 0.75 and 0.2 < corr1[2] < 0.8, f'边界框1中心({corr1[1]}, {corr1[2]})出界：{label_file.split(\"/\")[-1]}'\n",
      "AssertionError: 边界框1中心(0.597656, 0.112305)出界：yexianchang-S-17-30-J-17-74_0072.txt\n",
      "Traceback (most recent call last):\n",
      "  File \"/tmp/ipykernel_37540/132599818.py\", line 47, in crop_images\n",
      "    x1, y1, x2, y2 = find_coordinate(*img.shape[0:2], os.path.join(label_path, f'{patient}_{j:04d}.txt'), s)\n",
      "  File \"/tmp/ipykernel_37540/132599818.py\", line 7, in find_coordinate\n",
      "    assert aorta == 'j', f'如果只有一个label那么此时应为降主动脉, 但实际为{aorta}：{label_file.split(\"/\")[-1]}'\n",
      "AssertionError: 如果只有一个label那么此时应为降主动脉, 但实际为s：yexinxiang-S-Im32-38-J-Im32-102_0028.txt\n",
      "Traceback (most recent call last):\n",
      "  File \"/tmp/ipykernel_37540/132599818.py\", line 47, in crop_images\n",
      "    x1, y1, x2, y2 = find_coordinate(*img.shape[0:2], os.path.join(label_path, f'{patient}_{j:04d}.txt'), s)\n",
      "  File \"/tmp/ipykernel_37540/132599818.py\", line 7, in find_coordinate\n",
      "    assert aorta == 'j', f'如果只有一个label那么此时应为降主动脉, 但实际为{aorta}：{label_file.split(\"/\")[-1]}'\n",
      "AssertionError: 如果只有一个label那么此时应为降主动脉, 但实际为s：yexinxiang-S-Im32-38-J-Im32-102_0029.txt\n"
     ]
    },
    {
     "name": "stdout",
     "output_type": "stream",
     "text": [
      "******Processing yexinxiang-S-Im32-38-J-Im32-102******\n",
      "******Processing yexiyou-J-Im35-139******\n",
      "******Processing yexiyou-S-Im19-27-J-Im19-62******\n"
     ]
    },
    {
     "name": "stderr",
     "output_type": "stream",
     "text": [
      "Traceback (most recent call last):\n",
      "  File \"/tmp/ipykernel_37540/132599818.py\", line 47, in crop_images\n",
      "    x1, y1, x2, y2 = find_coordinate(*img.shape[0:2], os.path.join(label_path, f'{patient}_{j:04d}.txt'), s)\n",
      "  File \"/tmp/ipykernel_37540/132599818.py\", line 7, in find_coordinate\n",
      "    assert aorta == 'j', f'如果只有一个label那么此时应为降主动脉, 但实际为{aorta}：{label_file.split(\"/\")[-1]}'\n",
      "AssertionError: 如果只有一个label那么此时应为降主动脉, 但实际为s：yexiyou-S-Im19-27-J-Im19-62_0015.txt\n",
      "Traceback (most recent call last):\n",
      "  File \"/tmp/ipykernel_37540/132599818.py\", line 47, in crop_images\n",
      "    x1, y1, x2, y2 = find_coordinate(*img.shape[0:2], os.path.join(label_path, f'{patient}_{j:04d}.txt'), s)\n",
      "  File \"/tmp/ipykernel_37540/132599818.py\", line 7, in find_coordinate\n",
      "    assert aorta == 'j', f'如果只有一个label那么此时应为降主动脉, 但实际为{aorta}：{label_file.split(\"/\")[-1]}'\n",
      "AssertionError: 如果只有一个label那么此时应为降主动脉, 但实际为s：yexiyou-S-Im19-27-J-Im19-62_0016.txt\n",
      "Traceback (most recent call last):\n",
      "  File \"/tmp/ipykernel_37540/132599818.py\", line 47, in crop_images\n",
      "    x1, y1, x2, y2 = find_coordinate(*img.shape[0:2], os.path.join(label_path, f'{patient}_{j:04d}.txt'), s)\n",
      "  File \"/tmp/ipykernel_37540/132599818.py\", line 7, in find_coordinate\n",
      "    assert aorta == 'j', f'如果只有一个label那么此时应为降主动脉, 但实际为{aorta}：{label_file.split(\"/\")[-1]}'\n",
      "AssertionError: 如果只有一个label那么此时应为降主动脉, 但实际为s：yexiyou-S-Im19-27-J-Im19-62_0017.txt\n"
     ]
    },
    {
     "name": "stdout",
     "output_type": "stream",
     "text": [
      "******Processing yingguoliang-J-Im55-130******\n",
      "******Processing yingjianquan-S-Im12-14-J-Im12-36******\n"
     ]
    },
    {
     "name": "stderr",
     "output_type": "stream",
     "text": [
      "Traceback (most recent call last):\n",
      "  File \"/tmp/ipykernel_37540/132599818.py\", line 47, in crop_images\n",
      "    x1, y1, x2, y2 = find_coordinate(*img.shape[0:2], os.path.join(label_path, f'{patient}_{j:04d}.txt'), s)\n",
      "  File \"/tmp/ipykernel_37540/132599818.py\", line 7, in find_coordinate\n",
      "    assert aorta == 'j', f'如果只有一个label那么此时应为降主动脉, 但实际为{aorta}：{label_file.split(\"/\")[-1]}'\n",
      "AssertionError: 如果只有一个label那么此时应为降主动脉, 但实际为s：yingjianquan-S-Im12-14-J-Im12-36_0008.txt\n",
      "Traceback (most recent call last):\n",
      "  File \"/tmp/ipykernel_37540/132599818.py\", line 47, in crop_images\n",
      "    x1, y1, x2, y2 = find_coordinate(*img.shape[0:2], os.path.join(label_path, f'{patient}_{j:04d}.txt'), s)\n",
      "  File \"/tmp/ipykernel_37540/132599818.py\", line 7, in find_coordinate\n",
      "    assert aorta == 'j', f'如果只有一个label那么此时应为降主动脉, 但实际为{aorta}：{label_file.split(\"/\")[-1]}'\n",
      "AssertionError: 如果只有一个label那么此时应为降主动脉, 但实际为s：yingjianquan-S-Im12-14-J-Im12-36_0009.txt\n"
     ]
    },
    {
     "name": "stdout",
     "output_type": "stream",
     "text": [
      "******Processing yingmeiqi-S-Im22-25-J-Im16-36******\n",
      "******Processing yinshixiu-S-Im23-25-J-Im23-79******\n"
     ]
    },
    {
     "name": "stderr",
     "output_type": "stream",
     "text": [
      "Traceback (most recent call last):\n",
      "  File \"/tmp/ipykernel_37540/132599818.py\", line 47, in crop_images\n",
      "    x1, y1, x2, y2 = find_coordinate(*img.shape[0:2], os.path.join(label_path, f'{patient}_{j:04d}.txt'), s)\n",
      "  File \"/tmp/ipykernel_37540/132599818.py\", line 7, in find_coordinate\n",
      "    assert aorta == 'j', f'如果只有一个label那么此时应为降主动脉, 但实际为{aorta}：{label_file.split(\"/\")[-1]}'\n",
      "AssertionError: 如果只有一个label那么此时应为降主动脉, 但实际为s：yinshixiu-S-Im23-25-J-Im23-79_0019.txt\n",
      "Traceback (most recent call last):\n",
      "  File \"/tmp/ipykernel_37540/132599818.py\", line 47, in crop_images\n",
      "    x1, y1, x2, y2 = find_coordinate(*img.shape[0:2], os.path.join(label_path, f'{patient}_{j:04d}.txt'), s)\n",
      "  File \"/tmp/ipykernel_37540/132599818.py\", line 7, in find_coordinate\n",
      "    assert aorta == 'j', f'如果只有一个label那么此时应为降主动脉, 但实际为{aorta}：{label_file.split(\"/\")[-1]}'\n",
      "AssertionError: 如果只有一个label那么此时应为降主动脉, 但实际为s：yinshixiu-S-Im23-25-J-Im23-79_0020.txt\n"
     ]
    },
    {
     "name": "stdout",
     "output_type": "stream",
     "text": [
      "******Processing yintianxing-J-Im24-38******\n",
      "******Processing yinyuanyuan-J-Im20-78******\n",
      "******Processing yuanlinyue-J-Im27-120******\n",
      "******Processing yugenrong-J-Im18-60******\n",
      "******Processing yuguiji-S-31-33******\n",
      "******Processing yuguiying-S-16-22-J-16-77******\n"
     ]
    },
    {
     "name": "stderr",
     "output_type": "stream",
     "text": [
      "Traceback (most recent call last):\n",
      "  File \"/tmp/ipykernel_37540/132599818.py\", line 47, in crop_images\n",
      "    x1, y1, x2, y2 = find_coordinate(*img.shape[0:2], os.path.join(label_path, f'{patient}_{j:04d}.txt'), s)\n",
      "  File \"/tmp/ipykernel_37540/132599818.py\", line 7, in find_coordinate\n",
      "    assert aorta == 'j', f'如果只有一个label那么此时应为降主动脉, 但实际为{aorta}：{label_file.split(\"/\")[-1]}'\n",
      "AssertionError: 如果只有一个label那么此时应为降主动脉, 但实际为s：yuguiying-S-16-22-J-16-77_0012.txt\n",
      "Traceback (most recent call last):\n",
      "  File \"/tmp/ipykernel_37540/132599818.py\", line 47, in crop_images\n",
      "    x1, y1, x2, y2 = find_coordinate(*img.shape[0:2], os.path.join(label_path, f'{patient}_{j:04d}.txt'), s)\n",
      "  File \"/tmp/ipykernel_37540/132599818.py\", line 7, in find_coordinate\n",
      "    assert aorta == 'j', f'如果只有一个label那么此时应为降主动脉, 但实际为{aorta}：{label_file.split(\"/\")[-1]}'\n",
      "AssertionError: 如果只有一个label那么此时应为降主动脉, 但实际为s：yuguiying-S-16-22-J-16-77_0013.txt\n"
     ]
    },
    {
     "name": "stdout",
     "output_type": "stream",
     "text": [
      "******Processing yuguoping-J-19-35******\n",
      "******Processing yuhongliang-S-Im26-37-J-Im26-105******\n"
     ]
    },
    {
     "name": "stderr",
     "output_type": "stream",
     "text": [
      "Traceback (most recent call last):\n",
      "  File \"/tmp/ipykernel_37540/132599818.py\", line 47, in crop_images\n",
      "    x1, y1, x2, y2 = find_coordinate(*img.shape[0:2], os.path.join(label_path, f'{patient}_{j:04d}.txt'), s)\n",
      "  File \"/tmp/ipykernel_37540/132599818.py\", line 7, in find_coordinate\n",
      "    assert aorta == 'j', f'如果只有一个label那么此时应为降主动脉, 但实际为{aorta}：{label_file.split(\"/\")[-1]}'\n",
      "AssertionError: 如果只有一个label那么此时应为降主动脉, 但实际为s：yuhongliang-S-Im26-37-J-Im26-105_0022.txt\n",
      "Traceback (most recent call last):\n",
      "  File \"/tmp/ipykernel_37540/132599818.py\", line 47, in crop_images\n",
      "    x1, y1, x2, y2 = find_coordinate(*img.shape[0:2], os.path.join(label_path, f'{patient}_{j:04d}.txt'), s)\n",
      "  File \"/tmp/ipykernel_37540/132599818.py\", line 7, in find_coordinate\n",
      "    assert aorta == 'j', f'如果只有一个label那么此时应为降主动脉, 但实际为{aorta}：{label_file.split(\"/\")[-1]}'\n",
      "AssertionError: 如果只有一个label那么此时应为降主动脉, 但实际为s：yuhongliang-S-Im26-37-J-Im26-105_0023.txt\n"
     ]
    },
    {
     "name": "stdout",
     "output_type": "stream",
     "text": [
      "******Processing yujiada-J-Im21-48******\n",
      "******Processing yujiazhen-S-Im19-27-J-Im19-77******\n"
     ]
    },
    {
     "name": "stderr",
     "output_type": "stream",
     "text": [
      "Traceback (most recent call last):\n",
      "  File \"/tmp/ipykernel_37540/132599818.py\", line 47, in crop_images\n",
      "    x1, y1, x2, y2 = find_coordinate(*img.shape[0:2], os.path.join(label_path, f'{patient}_{j:04d}.txt'), s)\n",
      "  File \"/tmp/ipykernel_37540/132599818.py\", line 7, in find_coordinate\n",
      "    assert aorta == 'j', f'如果只有一个label那么此时应为降主动脉, 但实际为{aorta}：{label_file.split(\"/\")[-1]}'\n",
      "AssertionError: 如果只有一个label那么此时应为降主动脉, 但实际为s：yujiazhen-S-Im19-27-J-Im19-77_0015.txt\n",
      "Traceback (most recent call last):\n",
      "  File \"/tmp/ipykernel_37540/132599818.py\", line 47, in crop_images\n",
      "    x1, y1, x2, y2 = find_coordinate(*img.shape[0:2], os.path.join(label_path, f'{patient}_{j:04d}.txt'), s)\n",
      "  File \"/tmp/ipykernel_37540/132599818.py\", line 7, in find_coordinate\n",
      "    assert aorta == 'j', f'如果只有一个label那么此时应为降主动脉, 但实际为{aorta}：{label_file.split(\"/\")[-1]}'\n",
      "AssertionError: 如果只有一个label那么此时应为降主动脉, 但实际为s：yujiazhen-S-Im19-27-J-Im19-77_0016.txt\n"
     ]
    },
    {
     "name": "stdout",
     "output_type": "stream",
     "text": [
      "******Processing yujinfang-J-Im31-106******\n",
      "******Processing yujunying-J-15-82******\n",
      "******Processing yulinhang-J-Im14-57******\n",
      "******Processing yuyunguo-J-Im12-15******\n",
      "******Processing zengjun-J-Im22-57******\n"
     ]
    },
    {
     "name": "stderr",
     "output_type": "stream",
     "text": [
      "Traceback (most recent call last):\n",
      "  File \"/tmp/ipykernel_37540/132599818.py\", line 45, in crop_images\n",
      "    img = Image.open(os.path.join(image_path, f'{patient}_{j:04d}.png'))\n",
      "  File \"/disk1/zsxm/miniconda3/envs/pytorch/lib/python3.8/site-packages/PIL/Image.py\", line 2975, in open\n",
      "    fp = builtins.open(filename, \"rb\")\n",
      "FileNotFoundError: [Errno 2] No such file or directory: '/nfs3-p1/zsxm/dataset/aorta_ct_img_label/positive/zengjun-J-Im22-57/images/zengjun-J-Im22-57_0057.png'\n",
      "Traceback (most recent call last):\n",
      "  File \"/tmp/ipykernel_37540/132599818.py\", line 45, in crop_images\n",
      "    img = Image.open(os.path.join(image_path, f'{patient}_{j:04d}.png'))\n",
      "  File \"/disk1/zsxm/miniconda3/envs/pytorch/lib/python3.8/site-packages/PIL/Image.py\", line 2975, in open\n",
      "    fp = builtins.open(filename, \"rb\")\n",
      "FileNotFoundError: [Errno 2] No such file or directory: '/nfs3-p1/zsxm/dataset/aorta_ct_img_label/positive/zengjun-J-Im22-57/images/zengjun-J-Im22-57_0058.png'\n",
      "Traceback (most recent call last):\n",
      "  File \"/tmp/ipykernel_37540/132599818.py\", line 45, in crop_images\n",
      "    img = Image.open(os.path.join(image_path, f'{patient}_{j:04d}.png'))\n",
      "  File \"/disk1/zsxm/miniconda3/envs/pytorch/lib/python3.8/site-packages/PIL/Image.py\", line 2975, in open\n",
      "    fp = builtins.open(filename, \"rb\")\n",
      "FileNotFoundError: [Errno 2] No such file or directory: '/nfs3-p1/zsxm/dataset/aorta_ct_img_label/positive/zengjun-J-Im22-57/images/zengjun-J-Im22-57_0059.png'\n",
      "Traceback (most recent call last):\n",
      "  File \"/tmp/ipykernel_37540/132599818.py\", line 47, in crop_images\n",
      "    x1, y1, x2, y2 = find_coordinate(*img.shape[0:2], os.path.join(label_path, f'{patient}_{j:04d}.txt'), s)\n",
      "  File \"/tmp/ipykernel_37540/132599818.py\", line 7, in find_coordinate\n",
      "    assert aorta == 'j', f'如果只有一个label那么此时应为降主动脉, 但实际为{aorta}：{label_file.split(\"/\")[-1]}'\n",
      "AssertionError: 如果只有一个label那么此时应为降主动脉, 但实际为s：zhanfangai-S-Im17-23-J-Im17-32_0013.txt\n",
      "Traceback (most recent call last):\n",
      "  File \"/tmp/ipykernel_37540/132599818.py\", line 47, in crop_images\n",
      "    x1, y1, x2, y2 = find_coordinate(*img.shape[0:2], os.path.join(label_path, f'{patient}_{j:04d}.txt'), s)\n",
      "  File \"/tmp/ipykernel_37540/132599818.py\", line 7, in find_coordinate\n",
      "    assert aorta == 'j', f'如果只有一个label那么此时应为降主动脉, 但实际为{aorta}：{label_file.split(\"/\")[-1]}'\n",
      "AssertionError: 如果只有一个label那么此时应为降主动脉, 但实际为s：zhanfangai-S-Im17-23-J-Im17-32_0014.txt\n"
     ]
    },
    {
     "name": "stdout",
     "output_type": "stream",
     "text": [
      "******Processing zhanfangai-S-Im17-23-J-Im17-32******\n",
      "******Processing zhangboqian-S-Im22-32-J-Im22-88******\n"
     ]
    },
    {
     "name": "stderr",
     "output_type": "stream",
     "text": [
      "Traceback (most recent call last):\n",
      "  File \"/tmp/ipykernel_37540/132599818.py\", line 47, in crop_images\n",
      "    x1, y1, x2, y2 = find_coordinate(*img.shape[0:2], os.path.join(label_path, f'{patient}_{j:04d}.txt'), s)\n",
      "  File \"/tmp/ipykernel_37540/132599818.py\", line 7, in find_coordinate\n",
      "    assert aorta == 'j', f'如果只有一个label那么此时应为降主动脉, 但实际为{aorta}：{label_file.split(\"/\")[-1]}'\n",
      "AssertionError: 如果只有一个label那么此时应为降主动脉, 但实际为s：zhangboqian-S-Im22-32-J-Im22-88_0018.txt\n",
      "Traceback (most recent call last):\n",
      "  File \"/tmp/ipykernel_37540/132599818.py\", line 47, in crop_images\n",
      "    x1, y1, x2, y2 = find_coordinate(*img.shape[0:2], os.path.join(label_path, f'{patient}_{j:04d}.txt'), s)\n",
      "  File \"/tmp/ipykernel_37540/132599818.py\", line 7, in find_coordinate\n",
      "    assert aorta == 'j', f'如果只有一个label那么此时应为降主动脉, 但实际为{aorta}：{label_file.split(\"/\")[-1]}'\n",
      "AssertionError: 如果只有一个label那么此时应为降主动脉, 但实际为s：zhangboqian-S-Im22-32-J-Im22-88_0019.txt\n",
      "Traceback (most recent call last):\n",
      "  File \"/tmp/ipykernel_37540/132599818.py\", line 47, in crop_images\n",
      "    x1, y1, x2, y2 = find_coordinate(*img.shape[0:2], os.path.join(label_path, f'{patient}_{j:04d}.txt'), s)\n",
      "  File \"/tmp/ipykernel_37540/132599818.py\", line 3, in find_coordinate\n",
      "    with open(label_file, 'r') as f:\n",
      "FileNotFoundError: [Errno 2] No such file or directory: '/nfs3-p1/zsxm/dataset/aorta_ct_img_label/positive/zhangboqian-S-Im22-32-J-Im22-88/labels/zhangboqian-S-Im22-32-J-Im22-88_0089.txt'\n",
      "Traceback (most recent call last):\n",
      "  File \"/tmp/ipykernel_37540/132599818.py\", line 47, in crop_images\n",
      "    x1, y1, x2, y2 = find_coordinate(*img.shape[0:2], os.path.join(label_path, f'{patient}_{j:04d}.txt'), s)\n",
      "  File \"/tmp/ipykernel_37540/132599818.py\", line 3, in find_coordinate\n",
      "    with open(label_file, 'r') as f:\n",
      "FileNotFoundError: [Errno 2] No such file or directory: '/nfs3-p1/zsxm/dataset/aorta_ct_img_label/positive/zhangboqian-S-Im22-32-J-Im22-88/labels/zhangboqian-S-Im22-32-J-Im22-88_0090.txt'\n"
     ]
    },
    {
     "name": "stdout",
     "output_type": "stream",
     "text": [
      "******Processing zhangchaodong-J-Im20-80******\n",
      "******Processing zhangfuyang-S-Im15-20-J-Im15-87******\n"
     ]
    },
    {
     "name": "stderr",
     "output_type": "stream",
     "text": [
      "Traceback (most recent call last):\n",
      "  File \"/tmp/ipykernel_37540/132599818.py\", line 47, in crop_images\n",
      "    x1, y1, x2, y2 = find_coordinate(*img.shape[0:2], os.path.join(label_path, f'{patient}_{j:04d}.txt'), s)\n",
      "  File \"/tmp/ipykernel_37540/132599818.py\", line 7, in find_coordinate\n",
      "    assert aorta == 'j', f'如果只有一个label那么此时应为降主动脉, 但实际为{aorta}：{label_file.split(\"/\")[-1]}'\n",
      "AssertionError: 如果只有一个label那么此时应为降主动脉, 但实际为s：zhangfuyang-S-Im15-20-J-Im15-87_0011.txt\n",
      "Traceback (most recent call last):\n",
      "  File \"/tmp/ipykernel_37540/132599818.py\", line 47, in crop_images\n",
      "    x1, y1, x2, y2 = find_coordinate(*img.shape[0:2], os.path.join(label_path, f'{patient}_{j:04d}.txt'), s)\n",
      "  File \"/tmp/ipykernel_37540/132599818.py\", line 7, in find_coordinate\n",
      "    assert aorta == 'j', f'如果只有一个label那么此时应为降主动脉, 但实际为{aorta}：{label_file.split(\"/\")[-1]}'\n",
      "AssertionError: 如果只有一个label那么此时应为降主动脉, 但实际为s：zhangfuyang-S-Im15-20-J-Im15-87_0012.txt\n"
     ]
    },
    {
     "name": "stdout",
     "output_type": "stream",
     "text": [
      "******Processing zhangguangming-J-21-138******\n"
     ]
    },
    {
     "name": "stderr",
     "output_type": "stream",
     "text": [
      "Traceback (most recent call last):\n",
      "  File \"/tmp/ipykernel_37540/132599818.py\", line 47, in crop_images\n",
      "    x1, y1, x2, y2 = find_coordinate(*img.shape[0:2], os.path.join(label_path, f'{patient}_{j:04d}.txt'), s)\n",
      "  File \"/tmp/ipykernel_37540/132599818.py\", line 3, in find_coordinate\n",
      "    with open(label_file, 'r') as f:\n",
      "FileNotFoundError: [Errno 2] No such file or directory: '/nfs3-p1/zsxm/dataset/aorta_ct_img_label/positive/zhangguangming-J-21-138/labels/zhangguangming-J-21-138_0017.txt'\n",
      "Traceback (most recent call last):\n",
      "  File \"/tmp/ipykernel_37540/132599818.py\", line 47, in crop_images\n",
      "    x1, y1, x2, y2 = find_coordinate(*img.shape[0:2], os.path.join(label_path, f'{patient}_{j:04d}.txt'), s)\n",
      "  File \"/tmp/ipykernel_37540/132599818.py\", line 3, in find_coordinate\n",
      "    with open(label_file, 'r') as f:\n",
      "FileNotFoundError: [Errno 2] No such file or directory: '/nfs3-p1/zsxm/dataset/aorta_ct_img_label/positive/zhangguangming-J-21-138/labels/zhangguangming-J-21-138_0018.txt'\n",
      "Traceback (most recent call last):\n",
      "  File \"/tmp/ipykernel_37540/132599818.py\", line 47, in crop_images\n",
      "    x1, y1, x2, y2 = find_coordinate(*img.shape[0:2], os.path.join(label_path, f'{patient}_{j:04d}.txt'), s)\n",
      "  File \"/tmp/ipykernel_37540/132599818.py\", line 3, in find_coordinate\n",
      "    with open(label_file, 'r') as f:\n",
      "FileNotFoundError: [Errno 2] No such file or directory: '/nfs3-p1/zsxm/dataset/aorta_ct_img_label/positive/zhangguangming-J-21-138/labels/zhangguangming-J-21-138_0019.txt'\n"
     ]
    },
    {
     "name": "stdout",
     "output_type": "stream",
     "text": [
      "******Processing zhanghaitao-S-Im25-49-J-Im25-145******\n"
     ]
    },
    {
     "name": "stderr",
     "output_type": "stream",
     "text": [
      "Traceback (most recent call last):\n",
      "  File \"/tmp/ipykernel_37540/132599818.py\", line 47, in crop_images\n",
      "    x1, y1, x2, y2 = find_coordinate(*img.shape[0:2], os.path.join(label_path, f'{patient}_{j:04d}.txt'), s)\n",
      "  File \"/tmp/ipykernel_37540/132599818.py\", line 7, in find_coordinate\n",
      "    assert aorta == 'j', f'如果只有一个label那么此时应为降主动脉, 但实际为{aorta}：{label_file.split(\"/\")[-1]}'\n",
      "AssertionError: 如果只有一个label那么此时应为降主动脉, 但实际为s：zhanghaitao-S-Im25-49-J-Im25-145_0021.txt\n",
      "Traceback (most recent call last):\n",
      "  File \"/tmp/ipykernel_37540/132599818.py\", line 47, in crop_images\n",
      "    x1, y1, x2, y2 = find_coordinate(*img.shape[0:2], os.path.join(label_path, f'{patient}_{j:04d}.txt'), s)\n",
      "  File \"/tmp/ipykernel_37540/132599818.py\", line 7, in find_coordinate\n",
      "    assert aorta == 'j', f'如果只有一个label那么此时应为降主动脉, 但实际为{aorta}：{label_file.split(\"/\")[-1]}'\n",
      "AssertionError: 如果只有一个label那么此时应为降主动脉, 但实际为s：zhanghaitao-S-Im25-49-J-Im25-145_0022.txt\n"
     ]
    },
    {
     "name": "stdout",
     "output_type": "stream",
     "text": [
      "******Processing zhanghang-S-Im16-20-J-Im16-41******\n"
     ]
    },
    {
     "name": "stderr",
     "output_type": "stream",
     "text": [
      "Traceback (most recent call last):\n",
      "  File \"/tmp/ipykernel_37540/132599818.py\", line 47, in crop_images\n",
      "    x1, y1, x2, y2 = find_coordinate(*img.shape[0:2], os.path.join(label_path, f'{patient}_{j:04d}.txt'), s)\n",
      "  File \"/tmp/ipykernel_37540/132599818.py\", line 7, in find_coordinate\n",
      "    assert aorta == 'j', f'如果只有一个label那么此时应为降主动脉, 但实际为{aorta}：{label_file.split(\"/\")[-1]}'\n",
      "AssertionError: 如果只有一个label那么此时应为降主动脉, 但实际为s：zhanghang-S-Im16-20-J-Im16-41_0012.txt\n",
      "Traceback (most recent call last):\n",
      "  File \"/tmp/ipykernel_37540/132599818.py\", line 47, in crop_images\n",
      "    x1, y1, x2, y2 = find_coordinate(*img.shape[0:2], os.path.join(label_path, f'{patient}_{j:04d}.txt'), s)\n",
      "  File \"/tmp/ipykernel_37540/132599818.py\", line 7, in find_coordinate\n",
      "    assert aorta == 'j', f'如果只有一个label那么此时应为降主动脉, 但实际为{aorta}：{label_file.split(\"/\")[-1]}'\n",
      "AssertionError: 如果只有一个label那么此时应为降主动脉, 但实际为s：zhanghang-S-Im16-20-J-Im16-41_0013.txt\n"
     ]
    },
    {
     "name": "stdout",
     "output_type": "stream",
     "text": [
      "******Processing zhangjiahua-J-19-78******\n",
      "******Processing zhangjian-J-26-89******\n",
      "******Processing zhangjianliang-J-16-77******\n",
      "******Processing zhanglimin-J-Im40-149******\n",
      "******Processing zhangmaoxiang-S-25-34******\n",
      "******Processing zhangping-J-25-88******\n",
      "******Processing zhangshenxiang-J-Im41-83******\n",
      "******Processing zhangshiliang-J-Im32-49******\n",
      "******Processing zhangshiqin-J-15-22******\n",
      "******Processing zhangwei-S-20-26-J-20-61******\n"
     ]
    },
    {
     "name": "stderr",
     "output_type": "stream",
     "text": [
      "Traceback (most recent call last):\n",
      "  File \"/tmp/ipykernel_37540/132599818.py\", line 47, in crop_images\n",
      "    x1, y1, x2, y2 = find_coordinate(*img.shape[0:2], os.path.join(label_path, f'{patient}_{j:04d}.txt'), s)\n",
      "  File \"/tmp/ipykernel_37540/132599818.py\", line 7, in find_coordinate\n",
      "    assert aorta == 'j', f'如果只有一个label那么此时应为降主动脉, 但实际为{aorta}：{label_file.split(\"/\")[-1]}'\n",
      "AssertionError: 如果只有一个label那么此时应为降主动脉, 但实际为s：zhangwei-S-20-26-J-20-61_0016.txt\n",
      "Traceback (most recent call last):\n",
      "  File \"/tmp/ipykernel_37540/132599818.py\", line 47, in crop_images\n",
      "    x1, y1, x2, y2 = find_coordinate(*img.shape[0:2], os.path.join(label_path, f'{patient}_{j:04d}.txt'), s)\n",
      "  File \"/tmp/ipykernel_37540/132599818.py\", line 7, in find_coordinate\n",
      "    assert aorta == 'j', f'如果只有一个label那么此时应为降主动脉, 但实际为{aorta}：{label_file.split(\"/\")[-1]}'\n",
      "AssertionError: 如果只有一个label那么此时应为降主动脉, 但实际为s：zhangwei-S-20-26-J-20-61_0017.txt\n",
      "Traceback (most recent call last):\n",
      "  File \"/tmp/ipykernel_37540/132599818.py\", line 47, in crop_images\n",
      "    x1, y1, x2, y2 = find_coordinate(*img.shape[0:2], os.path.join(label_path, f'{patient}_{j:04d}.txt'), s)\n",
      "  File \"/tmp/ipykernel_37540/132599818.py\", line 7, in find_coordinate\n",
      "    assert aorta == 'j', f'如果只有一个label那么此时应为降主动脉, 但实际为{aorta}：{label_file.split(\"/\")[-1]}'\n",
      "AssertionError: 如果只有一个label那么此时应为降主动脉, 但实际为s：zhangwei-S-20-26-J-20-61_0018.txt\n"
     ]
    },
    {
     "name": "stdout",
     "output_type": "stream",
     "text": [
      "******Processing zhangweiyan-J-Im40-57******\n",
      "******Processing zhangwenzhong-J-16-68******\n",
      "******Processing zhangxueqiao-S-26-31******\n",
      "******Processing zhangyide-J-Im28-107******\n",
      "******Processing zhangying-S-Im29-44******\n",
      "******Processing zhangyunqin-S-Im14-25-J-Im14-64******\n"
     ]
    },
    {
     "name": "stderr",
     "output_type": "stream",
     "text": [
      "Traceback (most recent call last):\n",
      "  File \"/tmp/ipykernel_37540/132599818.py\", line 47, in crop_images\n",
      "    x1, y1, x2, y2 = find_coordinate(*img.shape[0:2], os.path.join(label_path, f'{patient}_{j:04d}.txt'), s)\n",
      "  File \"/tmp/ipykernel_37540/132599818.py\", line 7, in find_coordinate\n",
      "    assert aorta == 'j', f'如果只有一个label那么此时应为降主动脉, 但实际为{aorta}：{label_file.split(\"/\")[-1]}'\n",
      "AssertionError: 如果只有一个label那么此时应为降主动脉, 但实际为s：zhangyunqin-S-Im14-25-J-Im14-64_0010.txt\n",
      "Traceback (most recent call last):\n",
      "  File \"/tmp/ipykernel_37540/132599818.py\", line 47, in crop_images\n",
      "    x1, y1, x2, y2 = find_coordinate(*img.shape[0:2], os.path.join(label_path, f'{patient}_{j:04d}.txt'), s)\n",
      "  File \"/tmp/ipykernel_37540/132599818.py\", line 7, in find_coordinate\n",
      "    assert aorta == 'j', f'如果只有一个label那么此时应为降主动脉, 但实际为{aorta}：{label_file.split(\"/\")[-1]}'\n",
      "AssertionError: 如果只有一个label那么此时应为降主动脉, 但实际为s：zhangyunqin-S-Im14-25-J-Im14-64_0011.txt\n",
      "Traceback (most recent call last):\n",
      "  File \"/tmp/ipykernel_37540/132599818.py\", line 47, in crop_images\n",
      "    x1, y1, x2, y2 = find_coordinate(*img.shape[0:2], os.path.join(label_path, f'{patient}_{j:04d}.txt'), s)\n",
      "  File \"/tmp/ipykernel_37540/132599818.py\", line 3, in find_coordinate\n",
      "    with open(label_file, 'r') as f:\n",
      "FileNotFoundError: [Errno 2] No such file or directory: '/nfs3-p1/zsxm/dataset/aorta_ct_img_label/positive/zhangyunqin-S-Im14-25-J-Im14-64/labels/zhangyunqin-S-Im14-25-J-Im14-64_0062.txt'\n",
      "Traceback (most recent call last):\n",
      "  File \"/tmp/ipykernel_37540/132599818.py\", line 47, in crop_images\n",
      "    x1, y1, x2, y2 = find_coordinate(*img.shape[0:2], os.path.join(label_path, f'{patient}_{j:04d}.txt'), s)\n",
      "  File \"/tmp/ipykernel_37540/132599818.py\", line 3, in find_coordinate\n",
      "    with open(label_file, 'r') as f:\n",
      "FileNotFoundError: [Errno 2] No such file or directory: '/nfs3-p1/zsxm/dataset/aorta_ct_img_label/positive/zhangyunqin-S-Im14-25-J-Im14-64/labels/zhangyunqin-S-Im14-25-J-Im14-64_0063.txt'\n",
      "Traceback (most recent call last):\n",
      "  File \"/tmp/ipykernel_37540/132599818.py\", line 47, in crop_images\n",
      "    x1, y1, x2, y2 = find_coordinate(*img.shape[0:2], os.path.join(label_path, f'{patient}_{j:04d}.txt'), s)\n",
      "  File \"/tmp/ipykernel_37540/132599818.py\", line 3, in find_coordinate\n",
      "    with open(label_file, 'r') as f:\n",
      "FileNotFoundError: [Errno 2] No such file or directory: '/nfs3-p1/zsxm/dataset/aorta_ct_img_label/positive/zhangyunqin-S-Im14-25-J-Im14-64/labels/zhangyunqin-S-Im14-25-J-Im14-64_0064.txt'\n",
      "Traceback (most recent call last):\n",
      "  File \"/tmp/ipykernel_37540/132599818.py\", line 47, in crop_images\n",
      "    x1, y1, x2, y2 = find_coordinate(*img.shape[0:2], os.path.join(label_path, f'{patient}_{j:04d}.txt'), s)\n",
      "  File \"/tmp/ipykernel_37540/132599818.py\", line 3, in find_coordinate\n",
      "    with open(label_file, 'r') as f:\n",
      "FileNotFoundError: [Errno 2] No such file or directory: '/nfs3-p1/zsxm/dataset/aorta_ct_img_label/positive/zhangyunqin-S-Im14-25-J-Im14-64/labels/zhangyunqin-S-Im14-25-J-Im14-64_0065.txt'\n",
      "Traceback (most recent call last):\n",
      "  File \"/tmp/ipykernel_37540/132599818.py\", line 47, in crop_images\n",
      "    x1, y1, x2, y2 = find_coordinate(*img.shape[0:2], os.path.join(label_path, f'{patient}_{j:04d}.txt'), s)\n",
      "  File \"/tmp/ipykernel_37540/132599818.py\", line 3, in find_coordinate\n",
      "    with open(label_file, 'r') as f:\n",
      "FileNotFoundError: [Errno 2] No such file or directory: '/nfs3-p1/zsxm/dataset/aorta_ct_img_label/positive/zhangyunqin-S-Im14-25-J-Im14-64/labels/zhangyunqin-S-Im14-25-J-Im14-64_0066.txt'\n",
      "Traceback (most recent call last):\n",
      "  File \"/tmp/ipykernel_37540/132599818.py\", line 47, in crop_images\n",
      "    x1, y1, x2, y2 = find_coordinate(*img.shape[0:2], os.path.join(label_path, f'{patient}_{j:04d}.txt'), s)\n",
      "  File \"/tmp/ipykernel_37540/132599818.py\", line 7, in find_coordinate\n",
      "    assert aorta == 'j', f'如果只有一个label那么此时应为降主动脉, 但实际为{aorta}：{label_file.split(\"/\")[-1]}'\n",
      "AssertionError: 如果只有一个label那么此时应为降主动脉, 但实际为s：zhangzhefang-S-Im22-31-J-Im22-59_0018.txt\n",
      "Traceback (most recent call last):\n",
      "  File \"/tmp/ipykernel_37540/132599818.py\", line 47, in crop_images\n",
      "    x1, y1, x2, y2 = find_coordinate(*img.shape[0:2], os.path.join(label_path, f'{patient}_{j:04d}.txt'), s)\n",
      "  File \"/tmp/ipykernel_37540/132599818.py\", line 7, in find_coordinate\n",
      "    assert aorta == 'j', f'如果只有一个label那么此时应为降主动脉, 但实际为{aorta}：{label_file.split(\"/\")[-1]}'\n",
      "AssertionError: 如果只有一个label那么此时应为降主动脉, 但实际为s：zhangzhefang-S-Im22-31-J-Im22-59_0019.txt\n"
     ]
    },
    {
     "name": "stdout",
     "output_type": "stream",
     "text": [
      "******Processing zhangzhefang-S-Im22-31-J-Im22-59******\n",
      "******Processing zhaodaqing-J-Im12-68******\n",
      "******Processing zhaowenxian-J-Im43-111******\n",
      "******Processing zhaozanping-J-Im23-90******\n",
      "******Processing zhaozhengxing-J-Im35-99******\n",
      "******Processing zhengchong-S-16-31-J-16-87******\n"
     ]
    },
    {
     "name": "stderr",
     "output_type": "stream",
     "text": [
      "Traceback (most recent call last):\n",
      "  File \"/tmp/ipykernel_37540/132599818.py\", line 47, in crop_images\n",
      "    x1, y1, x2, y2 = find_coordinate(*img.shape[0:2], os.path.join(label_path, f'{patient}_{j:04d}.txt'), s)\n",
      "  File \"/tmp/ipykernel_37540/132599818.py\", line 7, in find_coordinate\n",
      "    assert aorta == 'j', f'如果只有一个label那么此时应为降主动脉, 但实际为{aorta}：{label_file.split(\"/\")[-1]}'\n",
      "AssertionError: 如果只有一个label那么此时应为降主动脉, 但实际为s：zhengchong-S-16-31-J-16-87_0012.txt\n",
      "Traceback (most recent call last):\n",
      "  File \"/tmp/ipykernel_37540/132599818.py\", line 47, in crop_images\n",
      "    x1, y1, x2, y2 = find_coordinate(*img.shape[0:2], os.path.join(label_path, f'{patient}_{j:04d}.txt'), s)\n",
      "  File \"/tmp/ipykernel_37540/132599818.py\", line 7, in find_coordinate\n",
      "    assert aorta == 'j', f'如果只有一个label那么此时应为降主动脉, 但实际为{aorta}：{label_file.split(\"/\")[-1]}'\n",
      "AssertionError: 如果只有一个label那么此时应为降主动脉, 但实际为s：zhengchong-S-16-31-J-16-87_0013.txt\n",
      "Traceback (most recent call last):\n",
      "  File \"/tmp/ipykernel_37540/132599818.py\", line 47, in crop_images\n",
      "    x1, y1, x2, y2 = find_coordinate(*img.shape[0:2], os.path.join(label_path, f'{patient}_{j:04d}.txt'), s)\n",
      "  File \"/tmp/ipykernel_37540/132599818.py\", line 7, in find_coordinate\n",
      "    assert aorta == 'j', f'如果只有一个label那么此时应为降主动脉, 但实际为{aorta}：{label_file.split(\"/\")[-1]}'\n",
      "AssertionError: 如果只有一个label那么此时应为降主动脉, 但实际为s：zhengchong-S-16-31-J-16-87_0014.txt\n",
      "Traceback (most recent call last):\n",
      "  File \"/tmp/ipykernel_37540/132599818.py\", line 47, in crop_images\n",
      "    x1, y1, x2, y2 = find_coordinate(*img.shape[0:2], os.path.join(label_path, f'{patient}_{j:04d}.txt'), s)\n",
      "  File \"/tmp/ipykernel_37540/132599818.py\", line 3, in find_coordinate\n",
      "    with open(label_file, 'r') as f:\n",
      "FileNotFoundError: [Errno 2] No such file or directory: '/nfs3-p1/zsxm/dataset/aorta_ct_img_label/positive/zhengchong-S-16-31-J-16-87/labels/zhengchong-S-16-31-J-16-87_0089.txt'\n"
     ]
    },
    {
     "name": "stdout",
     "output_type": "stream",
     "text": [
      "******Processing zhengguozheng-J-18-81******\n",
      "******Processing zhengjiyou-J-Im28-136******\n",
      "******Processing zhenhui-J-Im28-101******\n",
      "******Processing zhongchuankun-J-17-69******\n",
      "******Processing zhongweiliang-J-Im66-170******\n",
      "******Processing zhongxuefang-S-Im19-34-J-Im19-72******\n"
     ]
    },
    {
     "name": "stderr",
     "output_type": "stream",
     "text": [
      "Traceback (most recent call last):\n",
      "  File \"/tmp/ipykernel_37540/132599818.py\", line 47, in crop_images\n",
      "    x1, y1, x2, y2 = find_coordinate(*img.shape[0:2], os.path.join(label_path, f'{patient}_{j:04d}.txt'), s)\n",
      "  File \"/tmp/ipykernel_37540/132599818.py\", line 7, in find_coordinate\n",
      "    assert aorta == 'j', f'如果只有一个label那么此时应为降主动脉, 但实际为{aorta}：{label_file.split(\"/\")[-1]}'\n",
      "AssertionError: 如果只有一个label那么此时应为降主动脉, 但实际为s：zhongxuefang-S-Im19-34-J-Im19-72_0015.txt\n",
      "Traceback (most recent call last):\n",
      "  File \"/tmp/ipykernel_37540/132599818.py\", line 47, in crop_images\n",
      "    x1, y1, x2, y2 = find_coordinate(*img.shape[0:2], os.path.join(label_path, f'{patient}_{j:04d}.txt'), s)\n",
      "  File \"/tmp/ipykernel_37540/132599818.py\", line 7, in find_coordinate\n",
      "    assert aorta == 'j', f'如果只有一个label那么此时应为降主动脉, 但实际为{aorta}：{label_file.split(\"/\")[-1]}'\n",
      "AssertionError: 如果只有一个label那么此时应为降主动脉, 但实际为s：zhongxuefang-S-Im19-34-J-Im19-72_0016.txt\n",
      "Traceback (most recent call last):\n",
      "  File \"/tmp/ipykernel_37540/132599818.py\", line 47, in crop_images\n",
      "    x1, y1, x2, y2 = find_coordinate(*img.shape[0:2], os.path.join(label_path, f'{patient}_{j:04d}.txt'), s)\n",
      "  File \"/tmp/ipykernel_37540/132599818.py\", line 7, in find_coordinate\n",
      "    assert aorta == 'j', f'如果只有一个label那么此时应为降主动脉, 但实际为{aorta}：{label_file.split(\"/\")[-1]}'\n",
      "AssertionError: 如果只有一个label那么此时应为降主动脉, 但实际为s：zhongxuefang-S-Im19-34-J-Im19-72_0034.txt\n",
      "Traceback (most recent call last):\n",
      "  File \"/tmp/ipykernel_37540/132599818.py\", line 47, in crop_images\n",
      "    x1, y1, x2, y2 = find_coordinate(*img.shape[0:2], os.path.join(label_path, f'{patient}_{j:04d}.txt'), s)\n",
      "  File \"/tmp/ipykernel_37540/132599818.py\", line 7, in find_coordinate\n",
      "    assert aorta == 'j', f'如果只有一个label那么此时应为降主动脉, 但实际为{aorta}：{label_file.split(\"/\")[-1]}'\n",
      "AssertionError: 如果只有一个label那么此时应为降主动脉, 但实际为s：zhongxuefang-S-Im19-34-J-Im19-72_0035.txt\n"
     ]
    },
    {
     "name": "stdout",
     "output_type": "stream",
     "text": [
      "******Processing zhoubozhong-J-Im29-131******\n",
      "******Processing zhoufeng-S-Im35-40-J-Im35-147******\n"
     ]
    },
    {
     "name": "stderr",
     "output_type": "stream",
     "text": [
      "Traceback (most recent call last):\n",
      "  File \"/tmp/ipykernel_37540/132599818.py\", line 47, in crop_images\n",
      "    x1, y1, x2, y2 = find_coordinate(*img.shape[0:2], os.path.join(label_path, f'{patient}_{j:04d}.txt'), s)\n",
      "  File \"/tmp/ipykernel_37540/132599818.py\", line 7, in find_coordinate\n",
      "    assert aorta == 'j', f'如果只有一个label那么此时应为降主动脉, 但实际为{aorta}：{label_file.split(\"/\")[-1]}'\n",
      "AssertionError: 如果只有一个label那么此时应为降主动脉, 但实际为s：zhoufeng-S-Im35-40-J-Im35-147_0031.txt\n",
      "Traceback (most recent call last):\n",
      "  File \"/tmp/ipykernel_37540/132599818.py\", line 47, in crop_images\n",
      "    x1, y1, x2, y2 = find_coordinate(*img.shape[0:2], os.path.join(label_path, f'{patient}_{j:04d}.txt'), s)\n",
      "  File \"/tmp/ipykernel_37540/132599818.py\", line 7, in find_coordinate\n",
      "    assert aorta == 'j', f'如果只有一个label那么此时应为降主动脉, 但实际为{aorta}：{label_file.split(\"/\")[-1]}'\n",
      "AssertionError: 如果只有一个label那么此时应为降主动脉, 但实际为s：zhoufeng-S-Im35-40-J-Im35-147_0032.txt\n"
     ]
    },
    {
     "name": "stdout",
     "output_type": "stream",
     "text": [
      "******Processing zhoufengnian-J-Im24-121******\n",
      "******Processing zhouguoyang-J-Im31-96******\n",
      "******Processing zhoujianglong-S-17-31******\n"
     ]
    },
    {
     "name": "stderr",
     "output_type": "stream",
     "text": [
      "Traceback (most recent call last):\n",
      "  File \"/tmp/ipykernel_37540/132599818.py\", line 47, in crop_images\n",
      "    x1, y1, x2, y2 = find_coordinate(*img.shape[0:2], os.path.join(label_path, f'{patient}_{j:04d}.txt'), s)\n",
      "  File \"/tmp/ipykernel_37540/132599818.py\", line 7, in find_coordinate\n",
      "    assert aorta == 'j', f'如果只有一个label那么此时应为降主动脉, 但实际为{aorta}：{label_file.split(\"/\")[-1]}'\n",
      "AssertionError: 如果只有一个label那么此时应为降主动脉, 但实际为s：zhoujianglong-S-17-31_0013.txt\n",
      "Traceback (most recent call last):\n",
      "  File \"/tmp/ipykernel_37540/132599818.py\", line 47, in crop_images\n",
      "    x1, y1, x2, y2 = find_coordinate(*img.shape[0:2], os.path.join(label_path, f'{patient}_{j:04d}.txt'), s)\n",
      "  File \"/tmp/ipykernel_37540/132599818.py\", line 7, in find_coordinate\n",
      "    assert aorta == 'j', f'如果只有一个label那么此时应为降主动脉, 但实际为{aorta}：{label_file.split(\"/\")[-1]}'\n",
      "AssertionError: 如果只有一个label那么此时应为降主动脉, 但实际为s：zhoujianglong-S-17-31_0014.txt\n",
      "Traceback (most recent call last):\n",
      "  File \"/tmp/ipykernel_37540/132599818.py\", line 47, in crop_images\n",
      "    x1, y1, x2, y2 = find_coordinate(*img.shape[0:2], os.path.join(label_path, f'{patient}_{j:04d}.txt'), s)\n",
      "  File \"/tmp/ipykernel_37540/132599818.py\", line 7, in find_coordinate\n",
      "    assert aorta == 'j', f'如果只有一个label那么此时应为降主动脉, 但实际为{aorta}：{label_file.split(\"/\")[-1]}'\n",
      "AssertionError: 如果只有一个label那么此时应为降主动脉, 但实际为s：zhoujianglong-S-17-31_0015.txt\n"
     ]
    },
    {
     "name": "stdout",
     "output_type": "stream",
     "text": [
      "******Processing zhouliang-J-Im47-123******\n",
      "******Processing zhoumingfang-J-Im36-41******\n",
      "******Processing zhourongjie-S-Im19-27-J-Im19-64******\n"
     ]
    },
    {
     "name": "stderr",
     "output_type": "stream",
     "text": [
      "Traceback (most recent call last):\n",
      "  File \"/tmp/ipykernel_37540/132599818.py\", line 47, in crop_images\n",
      "    x1, y1, x2, y2 = find_coordinate(*img.shape[0:2], os.path.join(label_path, f'{patient}_{j:04d}.txt'), s)\n",
      "  File \"/tmp/ipykernel_37540/132599818.py\", line 7, in find_coordinate\n",
      "    assert aorta == 'j', f'如果只有一个label那么此时应为降主动脉, 但实际为{aorta}：{label_file.split(\"/\")[-1]}'\n",
      "AssertionError: 如果只有一个label那么此时应为降主动脉, 但实际为s：zhourongjie-S-Im19-27-J-Im19-64_0015.txt\n"
     ]
    },
    {
     "name": "stdout",
     "output_type": "stream",
     "text": [
      "******Processing zhousuhua-J-Im25-96******\n",
      "******Processing zhouweigui-J-21-80******\n",
      "******Processing zhouyingnan-J-Im47-125******\n",
      "******Processing zhuchunguang-J-Im21-86******\n",
      "******Processing zhuhancheng-S-Im27-36-J-Im27-86******\n"
     ]
    },
    {
     "name": "stderr",
     "output_type": "stream",
     "text": [
      "Traceback (most recent call last):\n",
      "  File \"/tmp/ipykernel_37540/132599818.py\", line 47, in crop_images\n",
      "    x1, y1, x2, y2 = find_coordinate(*img.shape[0:2], os.path.join(label_path, f'{patient}_{j:04d}.txt'), s)\n",
      "  File \"/tmp/ipykernel_37540/132599818.py\", line 3, in find_coordinate\n",
      "    with open(label_file, 'r') as f:\n",
      "FileNotFoundError: [Errno 2] No such file or directory: '/nfs3-p1/zsxm/dataset/aorta_ct_img_label/positive/zhuhancheng-S-Im27-36-J-Im27-86/labels/zhuhancheng-S-Im27-36-J-Im27-86_0073.txt'\n"
     ]
    },
    {
     "name": "stdout",
     "output_type": "stream",
     "text": [
      "******Processing zhujunfei-J-Im24-88******\n",
      "******Processing zhuseng-S-Im24-31-J-Im24-105******\n"
     ]
    },
    {
     "name": "stderr",
     "output_type": "stream",
     "text": [
      "Traceback (most recent call last):\n",
      "  File \"/tmp/ipykernel_37540/132599818.py\", line 47, in crop_images\n",
      "    x1, y1, x2, y2 = find_coordinate(*img.shape[0:2], os.path.join(label_path, f'{patient}_{j:04d}.txt'), s)\n",
      "  File \"/tmp/ipykernel_37540/132599818.py\", line 7, in find_coordinate\n",
      "    assert aorta == 'j', f'如果只有一个label那么此时应为降主动脉, 但实际为{aorta}：{label_file.split(\"/\")[-1]}'\n",
      "AssertionError: 如果只有一个label那么此时应为降主动脉, 但实际为s：zhuseng-S-Im24-31-J-Im24-105_0020.txt\n",
      "Traceback (most recent call last):\n",
      "  File \"/tmp/ipykernel_37540/132599818.py\", line 47, in crop_images\n",
      "    x1, y1, x2, y2 = find_coordinate(*img.shape[0:2], os.path.join(label_path, f'{patient}_{j:04d}.txt'), s)\n",
      "  File \"/tmp/ipykernel_37540/132599818.py\", line 7, in find_coordinate\n",
      "    assert aorta == 'j', f'如果只有一个label那么此时应为降主动脉, 但实际为{aorta}：{label_file.split(\"/\")[-1]}'\n",
      "AssertionError: 如果只有一个label那么此时应为降主动脉, 但实际为s：zhuseng-S-Im24-31-J-Im24-105_0021.txt\n",
      "Traceback (most recent call last):\n",
      "  File \"/tmp/ipykernel_37540/132599818.py\", line 47, in crop_images\n",
      "    x1, y1, x2, y2 = find_coordinate(*img.shape[0:2], os.path.join(label_path, f'{patient}_{j:04d}.txt'), s)\n",
      "  File \"/tmp/ipykernel_37540/132599818.py\", line 3, in find_coordinate\n",
      "    with open(label_file, 'r') as f:\n",
      "FileNotFoundError: [Errno 2] No such file or directory: '/nfs3-p1/zsxm/dataset/aorta_ct_img_label/positive/zhuseng-S-Im24-31-J-Im24-105/labels/zhuseng-S-Im24-31-J-Im24-105_0078.txt'\n",
      "Traceback (most recent call last):\n",
      "  File \"/tmp/ipykernel_37540/132599818.py\", line 47, in crop_images\n",
      "    x1, y1, x2, y2 = find_coordinate(*img.shape[0:2], os.path.join(label_path, f'{patient}_{j:04d}.txt'), s)\n",
      "  File \"/tmp/ipykernel_37540/132599818.py\", line 3, in find_coordinate\n",
      "    with open(label_file, 'r') as f:\n",
      "FileNotFoundError: [Errno 2] No such file or directory: '/nfs3-p1/zsxm/dataset/aorta_ct_img_label/positive/zhuseng-S-Im24-31-J-Im24-105/labels/zhuseng-S-Im24-31-J-Im24-105_0087.txt'\n"
     ]
    },
    {
     "name": "stdout",
     "output_type": "stream",
     "text": [
      "******Processing zhuxinjian-J-20-23******\n",
      "******Processing zhuxutao-J-Im23-78******\n",
      "******Processing zhuyongfu-J-Im22-80******\n",
      "******Processing zhuyuejin-J-Im21-72******\n",
      "******Processing zongminghui-S-Im18-25-J-Im18-81******\n"
     ]
    },
    {
     "name": "stderr",
     "output_type": "stream",
     "text": [
      "Traceback (most recent call last):\n",
      "  File \"/tmp/ipykernel_37540/132599818.py\", line 47, in crop_images\n",
      "    x1, y1, x2, y2 = find_coordinate(*img.shape[0:2], os.path.join(label_path, f'{patient}_{j:04d}.txt'), s)\n",
      "  File \"/tmp/ipykernel_37540/132599818.py\", line 7, in find_coordinate\n",
      "    assert aorta == 'j', f'如果只有一个label那么此时应为降主动脉, 但实际为{aorta}：{label_file.split(\"/\")[-1]}'\n",
      "AssertionError: 如果只有一个label那么此时应为降主动脉, 但实际为s：zongminghui-S-Im18-25-J-Im18-81_0014.txt\n",
      "Traceback (most recent call last):\n",
      "  File \"/tmp/ipykernel_37540/132599818.py\", line 47, in crop_images\n",
      "    x1, y1, x2, y2 = find_coordinate(*img.shape[0:2], os.path.join(label_path, f'{patient}_{j:04d}.txt'), s)\n",
      "  File \"/tmp/ipykernel_37540/132599818.py\", line 7, in find_coordinate\n",
      "    assert aorta == 'j', f'如果只有一个label那么此时应为降主动脉, 但实际为{aorta}：{label_file.split(\"/\")[-1]}'\n",
      "AssertionError: 如果只有一个label那么此时应为降主动脉, 但实际为s：zongminghui-S-Im18-25-J-Im18-81_0015.txt\n"
     ]
    },
    {
     "name": "stdout",
     "output_type": "stream",
     "text": [
      "++++++++++++++++++++++++++++++++++++++++++++++++++++++++++++++++++++++++++++++++++\n",
      "++++++++++++++++++++++++++++++++++++++++++++++++++++++++++++++++++++++++++++++++++\n",
      "++++++++++++++++++++++++++++++++++++++++++++++++++++++++++++++++++++++++++++++++++\n",
      "++++++++++++++++++++++++++++++++++++++++++++++++++++++++++++++++++++++++++++++++++\n",
      "++++++++++++++++++++++++++++++++++++++++++++++++++++++++++++++++++++++++++++++++++\n",
      "******Processing chencaixi-J-16-53******\n",
      "******Processing chenchanglu-J-142-168******\n",
      "******Processing chengchunxiao-S-39-57-J-39-93******\n"
     ]
    },
    {
     "name": "stderr",
     "output_type": "stream",
     "text": [
      "Traceback (most recent call last):\n",
      "  File \"/tmp/ipykernel_37540/132599818.py\", line 47, in crop_images\n",
      "    x1, y1, x2, y2 = find_coordinate(*img.shape[0:2], os.path.join(label_path, f'{patient}_{j:04d}.txt'), s)\n",
      "  File \"/tmp/ipykernel_37540/132599818.py\", line 7, in find_coordinate\n",
      "    assert aorta == 'j', f'如果只有一个label那么此时应为降主动脉, 但实际为{aorta}：{label_file.split(\"/\")[-1]}'\n",
      "AssertionError: 如果只有一个label那么此时应为降主动脉, 但实际为s：chengchunxiao-S-39-57-J-39-93_0035.txt\n",
      "Traceback (most recent call last):\n",
      "  File \"/tmp/ipykernel_37540/132599818.py\", line 47, in crop_images\n",
      "    x1, y1, x2, y2 = find_coordinate(*img.shape[0:2], os.path.join(label_path, f'{patient}_{j:04d}.txt'), s)\n",
      "  File \"/tmp/ipykernel_37540/132599818.py\", line 7, in find_coordinate\n",
      "    assert aorta == 'j', f'如果只有一个label那么此时应为降主动脉, 但实际为{aorta}：{label_file.split(\"/\")[-1]}'\n",
      "AssertionError: 如果只有一个label那么此时应为降主动脉, 但实际为s：chengchunxiao-S-39-57-J-39-93_0036.txt\n"
     ]
    },
    {
     "name": "stdout",
     "output_type": "stream",
     "text": [
      "******Processing chenyiqing-J-69-117******\n",
      "******Processing chenyouli-J-34-93******\n",
      "******Processing chenzhiqing-J-19-55******\n",
      "******Processing dengxiuzhu-S-27-47-J-27-86******\n"
     ]
    },
    {
     "name": "stderr",
     "output_type": "stream",
     "text": [
      "Traceback (most recent call last):\n",
      "  File \"/tmp/ipykernel_37540/132599818.py\", line 47, in crop_images\n",
      "    x1, y1, x2, y2 = find_coordinate(*img.shape[0:2], os.path.join(label_path, f'{patient}_{j:04d}.txt'), s)\n",
      "  File \"/tmp/ipykernel_37540/132599818.py\", line 7, in find_coordinate\n",
      "    assert aorta == 'j', f'如果只有一个label那么此时应为降主动脉, 但实际为{aorta}：{label_file.split(\"/\")[-1]}'\n",
      "AssertionError: 如果只有一个label那么此时应为降主动脉, 但实际为s：dengxiuzhu-S-27-47-J-27-86_0023.txt\n",
      "Traceback (most recent call last):\n",
      "  File \"/tmp/ipykernel_37540/132599818.py\", line 47, in crop_images\n",
      "    x1, y1, x2, y2 = find_coordinate(*img.shape[0:2], os.path.join(label_path, f'{patient}_{j:04d}.txt'), s)\n",
      "  File \"/tmp/ipykernel_37540/132599818.py\", line 7, in find_coordinate\n",
      "    assert aorta == 'j', f'如果只有一个label那么此时应为降主动脉, 但实际为{aorta}：{label_file.split(\"/\")[-1]}'\n",
      "AssertionError: 如果只有一个label那么此时应为降主动脉, 但实际为s：dengxiuzhu-S-27-47-J-27-86_0024.txt\n",
      "Traceback (most recent call last):\n",
      "  File \"/tmp/ipykernel_37540/132599818.py\", line 47, in crop_images\n",
      "    x1, y1, x2, y2 = find_coordinate(*img.shape[0:2], os.path.join(label_path, f'{patient}_{j:04d}.txt'), s)\n",
      "  File \"/tmp/ipykernel_37540/132599818.py\", line 7, in find_coordinate\n",
      "    assert aorta == 'j', f'如果只有一个label那么此时应为降主动脉, 但实际为{aorta}：{label_file.split(\"/\")[-1]}'\n",
      "AssertionError: 如果只有一个label那么此时应为降主动脉, 但实际为s：dengxiuzhu-S-27-47-J-27-86_0025.txt\n",
      "Traceback (most recent call last):\n",
      "  File \"/tmp/ipykernel_37540/132599818.py\", line 47, in crop_images\n",
      "    x1, y1, x2, y2 = find_coordinate(*img.shape[0:2], os.path.join(label_path, f'{patient}_{j:04d}.txt'), s)\n",
      "  File \"/tmp/ipykernel_37540/132599818.py\", line 7, in find_coordinate\n",
      "    assert aorta == 'j', f'如果只有一个label那么此时应为降主动脉, 但实际为{aorta}：{label_file.split(\"/\")[-1]}'\n",
      "AssertionError: 如果只有一个label那么此时应为降主动脉, 但实际为s：dengxiuzhu-S-27-47-J-27-86_0026.txt\n"
     ]
    },
    {
     "name": "stdout",
     "output_type": "stream",
     "text": [
      "******Processing fangmengzhen-J-20-73******\n",
      "******Processing guanzaihua-J-25-61******\n",
      "******Processing heazi-S-16-30******\n"
     ]
    },
    {
     "name": "stderr",
     "output_type": "stream",
     "text": [
      "Traceback (most recent call last):\n",
      "  File \"/tmp/ipykernel_37540/132599818.py\", line 47, in crop_images\n",
      "    x1, y1, x2, y2 = find_coordinate(*img.shape[0:2], os.path.join(label_path, f'{patient}_{j:04d}.txt'), s)\n",
      "  File \"/tmp/ipykernel_37540/132599818.py\", line 7, in find_coordinate\n",
      "    assert aorta == 'j', f'如果只有一个label那么此时应为降主动脉, 但实际为{aorta}：{label_file.split(\"/\")[-1]}'\n",
      "AssertionError: 如果只有一个label那么此时应为降主动脉, 但实际为s：heazi-S-16-30_0012.txt\n",
      "Traceback (most recent call last):\n",
      "  File \"/tmp/ipykernel_37540/132599818.py\", line 47, in crop_images\n",
      "    x1, y1, x2, y2 = find_coordinate(*img.shape[0:2], os.path.join(label_path, f'{patient}_{j:04d}.txt'), s)\n",
      "  File \"/tmp/ipykernel_37540/132599818.py\", line 7, in find_coordinate\n",
      "    assert aorta == 'j', f'如果只有一个label那么此时应为降主动脉, 但实际为{aorta}：{label_file.split(\"/\")[-1]}'\n",
      "AssertionError: 如果只有一个label那么此时应为降主动脉, 但实际为s：heazi-S-16-30_0013.txt\n",
      "Traceback (most recent call last):\n",
      "  File \"/tmp/ipykernel_37540/132599818.py\", line 47, in crop_images\n",
      "    x1, y1, x2, y2 = find_coordinate(*img.shape[0:2], os.path.join(label_path, f'{patient}_{j:04d}.txt'), s)\n",
      "  File \"/tmp/ipykernel_37540/132599818.py\", line 7, in find_coordinate\n",
      "    assert aorta == 'j', f'如果只有一个label那么此时应为降主动脉, 但实际为{aorta}：{label_file.split(\"/\")[-1]}'\n",
      "AssertionError: 如果只有一个label那么此时应为降主动脉, 但实际为s：heazi-S-16-30_0014.txt\n",
      "Traceback (most recent call last):\n",
      "  File \"/tmp/ipykernel_37540/132599818.py\", line 47, in crop_images\n",
      "    x1, y1, x2, y2 = find_coordinate(*img.shape[0:2], os.path.join(label_path, f'{patient}_{j:04d}.txt'), s)\n",
      "  File \"/tmp/ipykernel_37540/132599818.py\", line 7, in find_coordinate\n",
      "    assert aorta == 'j', f'如果只有一个label那么此时应为降主动脉, 但实际为{aorta}：{label_file.split(\"/\")[-1]}'\n",
      "AssertionError: 如果只有一个label那么此时应为降主动脉, 但实际为s：heazi-S-16-30_0015.txt\n"
     ]
    },
    {
     "name": "stdout",
     "output_type": "stream",
     "text": [
      "******Processing hezhengmin-J-24-74******\n",
      "******Processing hongshunchang-J-26-89******\n",
      "******Processing huangbaichao-J-31-105******\n",
      "******Processing hucailu-J-32-55******\n",
      "******Processing huyaxiang-J-40-89******\n",
      "******Processing huyingfu-S-31-39-J-31-105******\n"
     ]
    },
    {
     "name": "stderr",
     "output_type": "stream",
     "text": [
      "Traceback (most recent call last):\n",
      "  File \"/tmp/ipykernel_37540/132599818.py\", line 47, in crop_images\n",
      "    x1, y1, x2, y2 = find_coordinate(*img.shape[0:2], os.path.join(label_path, f'{patient}_{j:04d}.txt'), s)\n",
      "  File \"/tmp/ipykernel_37540/132599818.py\", line 7, in find_coordinate\n",
      "    assert aorta == 'j', f'如果只有一个label那么此时应为降主动脉, 但实际为{aorta}：{label_file.split(\"/\")[-1]}'\n",
      "AssertionError: 如果只有一个label那么此时应为降主动脉, 但实际为s：huyingfu-S-31-39-J-31-105_0027.txt\n",
      "Traceback (most recent call last):\n",
      "  File \"/tmp/ipykernel_37540/132599818.py\", line 47, in crop_images\n",
      "    x1, y1, x2, y2 = find_coordinate(*img.shape[0:2], os.path.join(label_path, f'{patient}_{j:04d}.txt'), s)\n",
      "  File \"/tmp/ipykernel_37540/132599818.py\", line 7, in find_coordinate\n",
      "    assert aorta == 'j', f'如果只有一个label那么此时应为降主动脉, 但实际为{aorta}：{label_file.split(\"/\")[-1]}'\n",
      "AssertionError: 如果只有一个label那么此时应为降主动脉, 但实际为s：huyingfu-S-31-39-J-31-105_0028.txt\n",
      "Traceback (most recent call last):\n",
      "  File \"/tmp/ipykernel_37540/132599818.py\", line 47, in crop_images\n",
      "    x1, y1, x2, y2 = find_coordinate(*img.shape[0:2], os.path.join(label_path, f'{patient}_{j:04d}.txt'), s)\n",
      "  File \"/tmp/ipykernel_37540/132599818.py\", line 7, in find_coordinate\n",
      "    assert aorta == 'j', f'如果只有一个label那么此时应为降主动脉, 但实际为{aorta}：{label_file.split(\"/\")[-1]}'\n",
      "AssertionError: 如果只有一个label那么此时应为降主动脉, 但实际为s：huyingfu-S-31-39-J-31-105_0029.txt\n"
     ]
    },
    {
     "name": "stdout",
     "output_type": "stream",
     "text": [
      "******Processing jiangbihua-S-21-30-J-21-55******\n"
     ]
    },
    {
     "name": "stderr",
     "output_type": "stream",
     "text": [
      "Traceback (most recent call last):\n",
      "  File \"/tmp/ipykernel_37540/132599818.py\", line 47, in crop_images\n",
      "    x1, y1, x2, y2 = find_coordinate(*img.shape[0:2], os.path.join(label_path, f'{patient}_{j:04d}.txt'), s)\n",
      "  File \"/tmp/ipykernel_37540/132599818.py\", line 7, in find_coordinate\n",
      "    assert aorta == 'j', f'如果只有一个label那么此时应为降主动脉, 但实际为{aorta}：{label_file.split(\"/\")[-1]}'\n",
      "AssertionError: 如果只有一个label那么此时应为降主动脉, 但实际为s：jiangbihua-S-21-30-J-21-55_0017.txt\n",
      "Traceback (most recent call last):\n",
      "  File \"/tmp/ipykernel_37540/132599818.py\", line 47, in crop_images\n",
      "    x1, y1, x2, y2 = find_coordinate(*img.shape[0:2], os.path.join(label_path, f'{patient}_{j:04d}.txt'), s)\n",
      "  File \"/tmp/ipykernel_37540/132599818.py\", line 7, in find_coordinate\n",
      "    assert aorta == 'j', f'如果只有一个label那么此时应为降主动脉, 但实际为{aorta}：{label_file.split(\"/\")[-1]}'\n",
      "AssertionError: 如果只有一个label那么此时应为降主动脉, 但实际为s：jiangbihua-S-21-30-J-21-55_0018.txt\n"
     ]
    },
    {
     "name": "stdout",
     "output_type": "stream",
     "text": [
      "******Processing jiangjianping-J-17-63******\n",
      "******Processing jiangqianfeng-J-35-98******\n",
      "******Processing jiatiandeng-S-41-55-J-41-142******\n"
     ]
    },
    {
     "name": "stderr",
     "output_type": "stream",
     "text": [
      "Traceback (most recent call last):\n",
      "  File \"/tmp/ipykernel_37540/132599818.py\", line 47, in crop_images\n",
      "    x1, y1, x2, y2 = find_coordinate(*img.shape[0:2], os.path.join(label_path, f'{patient}_{j:04d}.txt'), s)\n",
      "  File \"/tmp/ipykernel_37540/132599818.py\", line 7, in find_coordinate\n",
      "    assert aorta == 'j', f'如果只有一个label那么此时应为降主动脉, 但实际为{aorta}：{label_file.split(\"/\")[-1]}'\n",
      "AssertionError: 如果只有一个label那么此时应为降主动脉, 但实际为s：jiatiandeng-S-41-55-J-41-142_0037.txt\n",
      "Traceback (most recent call last):\n",
      "  File \"/tmp/ipykernel_37540/132599818.py\", line 47, in crop_images\n",
      "    x1, y1, x2, y2 = find_coordinate(*img.shape[0:2], os.path.join(label_path, f'{patient}_{j:04d}.txt'), s)\n",
      "  File \"/tmp/ipykernel_37540/132599818.py\", line 7, in find_coordinate\n",
      "    assert aorta == 'j', f'如果只有一个label那么此时应为降主动脉, 但实际为{aorta}：{label_file.split(\"/\")[-1]}'\n",
      "AssertionError: 如果只有一个label那么此时应为降主动脉, 但实际为s：jiatiandeng-S-41-55-J-41-142_0038.txt\n"
     ]
    },
    {
     "name": "stdout",
     "output_type": "stream",
     "text": [
      "******Processing jinguoqing-S-15-24-J-15-76******\n"
     ]
    },
    {
     "name": "stderr",
     "output_type": "stream",
     "text": [
      "Traceback (most recent call last):\n",
      "  File \"/tmp/ipykernel_37540/132599818.py\", line 47, in crop_images\n",
      "    x1, y1, x2, y2 = find_coordinate(*img.shape[0:2], os.path.join(label_path, f'{patient}_{j:04d}.txt'), s)\n",
      "  File \"/tmp/ipykernel_37540/132599818.py\", line 7, in find_coordinate\n",
      "    assert aorta == 'j', f'如果只有一个label那么此时应为降主动脉, 但实际为{aorta}：{label_file.split(\"/\")[-1]}'\n",
      "AssertionError: 如果只有一个label那么此时应为降主动脉, 但实际为s：jinguoqing-S-15-24-J-15-76_0011.txt\n",
      "Traceback (most recent call last):\n",
      "  File \"/tmp/ipykernel_37540/132599818.py\", line 47, in crop_images\n",
      "    x1, y1, x2, y2 = find_coordinate(*img.shape[0:2], os.path.join(label_path, f'{patient}_{j:04d}.txt'), s)\n",
      "  File \"/tmp/ipykernel_37540/132599818.py\", line 7, in find_coordinate\n",
      "    assert aorta == 'j', f'如果只有一个label那么此时应为降主动脉, 但实际为{aorta}：{label_file.split(\"/\")[-1]}'\n",
      "AssertionError: 如果只有一个label那么此时应为降主动脉, 但实际为s：jinguoqing-S-15-24-J-15-76_0012.txt\n",
      "Traceback (most recent call last):\n",
      "  File \"/tmp/ipykernel_37540/132599818.py\", line 47, in crop_images\n",
      "    x1, y1, x2, y2 = find_coordinate(*img.shape[0:2], os.path.join(label_path, f'{patient}_{j:04d}.txt'), s)\n",
      "  File \"/tmp/ipykernel_37540/132599818.py\", line 7, in find_coordinate\n",
      "    assert aorta == 'j', f'如果只有一个label那么此时应为降主动脉, 但实际为{aorta}：{label_file.split(\"/\")[-1]}'\n",
      "AssertionError: 如果只有一个label那么此时应为降主动脉, 但实际为s：jinguoqing-S-15-24-J-15-76_0013.txt\n"
     ]
    },
    {
     "name": "stdout",
     "output_type": "stream",
     "text": [
      "******Processing kebaoming-S-29-40******\n"
     ]
    },
    {
     "name": "stderr",
     "output_type": "stream",
     "text": [
      "Traceback (most recent call last):\n",
      "  File \"/tmp/ipykernel_37540/132599818.py\", line 47, in crop_images\n",
      "    x1, y1, x2, y2 = find_coordinate(*img.shape[0:2], os.path.join(label_path, f'{patient}_{j:04d}.txt'), s)\n",
      "  File \"/tmp/ipykernel_37540/132599818.py\", line 7, in find_coordinate\n",
      "    assert aorta == 'j', f'如果只有一个label那么此时应为降主动脉, 但实际为{aorta}：{label_file.split(\"/\")[-1]}'\n",
      "AssertionError: 如果只有一个label那么此时应为降主动脉, 但实际为s：kebaoming-S-29-40_0025.txt\n",
      "Traceback (most recent call last):\n",
      "  File \"/tmp/ipykernel_37540/132599818.py\", line 47, in crop_images\n",
      "    x1, y1, x2, y2 = find_coordinate(*img.shape[0:2], os.path.join(label_path, f'{patient}_{j:04d}.txt'), s)\n",
      "  File \"/tmp/ipykernel_37540/132599818.py\", line 7, in find_coordinate\n",
      "    assert aorta == 'j', f'如果只有一个label那么此时应为降主动脉, 但实际为{aorta}：{label_file.split(\"/\")[-1]}'\n",
      "AssertionError: 如果只有一个label那么此时应为降主动脉, 但实际为s：kebaoming-S-29-40_0026.txt\n",
      "Traceback (most recent call last):\n",
      "  File \"/tmp/ipykernel_37540/132599818.py\", line 47, in crop_images\n",
      "    x1, y1, x2, y2 = find_coordinate(*img.shape[0:2], os.path.join(label_path, f'{patient}_{j:04d}.txt'), s)\n",
      "  File \"/tmp/ipykernel_37540/132599818.py\", line 7, in find_coordinate\n",
      "    assert aorta == 'j', f'如果只有一个label那么此时应为降主动脉, 但实际为{aorta}：{label_file.split(\"/\")[-1]}'\n",
      "AssertionError: 如果只有一个label那么此时应为降主动脉, 但实际为s：kebaoming-S-29-40_0027.txt\n"
     ]
    },
    {
     "name": "stdout",
     "output_type": "stream",
     "text": [
      "******Processing laidaishan-J-24-47******\n",
      "******Processing lichengqian-J-35-100******\n",
      "******Processing liguihua-S-22-24******\n",
      "******Processing limingyu-J-27-55******\n",
      "******Processing lindepei-J-136-158******\n",
      "******Processing lingsulan-J-46-107******\n",
      "******Processing linjian-J-34-105******\n",
      "******Processing lisanliang-J-37-101******\n",
      "******Processing lisong-J-39-158******\n",
      "******Processing luae-J-30-83******\n",
      "******Processing lujikang-S-17-31******\n"
     ]
    },
    {
     "name": "stderr",
     "output_type": "stream",
     "text": [
      "Traceback (most recent call last):\n",
      "  File \"/tmp/ipykernel_37540/132599818.py\", line 47, in crop_images\n",
      "    x1, y1, x2, y2 = find_coordinate(*img.shape[0:2], os.path.join(label_path, f'{patient}_{j:04d}.txt'), s)\n",
      "  File \"/tmp/ipykernel_37540/132599818.py\", line 7, in find_coordinate\n",
      "    assert aorta == 'j', f'如果只有一个label那么此时应为降主动脉, 但实际为{aorta}：{label_file.split(\"/\")[-1]}'\n",
      "AssertionError: 如果只有一个label那么此时应为降主动脉, 但实际为s：lujikang-S-17-31_0013.txt\n",
      "Traceback (most recent call last):\n",
      "  File \"/tmp/ipykernel_37540/132599818.py\", line 47, in crop_images\n",
      "    x1, y1, x2, y2 = find_coordinate(*img.shape[0:2], os.path.join(label_path, f'{patient}_{j:04d}.txt'), s)\n",
      "  File \"/tmp/ipykernel_37540/132599818.py\", line 7, in find_coordinate\n",
      "    assert aorta == 'j', f'如果只有一个label那么此时应为降主动脉, 但实际为{aorta}：{label_file.split(\"/\")[-1]}'\n",
      "AssertionError: 如果只有一个label那么此时应为降主动脉, 但实际为s：lujikang-S-17-31_0014.txt\n",
      "Traceback (most recent call last):\n",
      "  File \"/tmp/ipykernel_37540/132599818.py\", line 47, in crop_images\n",
      "    x1, y1, x2, y2 = find_coordinate(*img.shape[0:2], os.path.join(label_path, f'{patient}_{j:04d}.txt'), s)\n",
      "  File \"/tmp/ipykernel_37540/132599818.py\", line 7, in find_coordinate\n",
      "    assert aorta == 'j', f'如果只有一个label那么此时应为降主动脉, 但实际为{aorta}：{label_file.split(\"/\")[-1]}'\n",
      "AssertionError: 如果只有一个label那么此时应为降主动脉, 但实际为s：lujikang-S-17-31_0015.txt\n"
     ]
    },
    {
     "name": "stdout",
     "output_type": "stream",
     "text": [
      "******Processing luojincha-S-12-24-J-12-44******\n"
     ]
    },
    {
     "name": "stderr",
     "output_type": "stream",
     "text": [
      "Traceback (most recent call last):\n",
      "  File \"/tmp/ipykernel_37540/132599818.py\", line 47, in crop_images\n",
      "    x1, y1, x2, y2 = find_coordinate(*img.shape[0:2], os.path.join(label_path, f'{patient}_{j:04d}.txt'), s)\n",
      "  File \"/tmp/ipykernel_37540/132599818.py\", line 7, in find_coordinate\n",
      "    assert aorta == 'j', f'如果只有一个label那么此时应为降主动脉, 但实际为{aorta}：{label_file.split(\"/\")[-1]}'\n",
      "AssertionError: 如果只有一个label那么此时应为降主动脉, 但实际为s：luojincha-S-12-24-J-12-44_0008.txt\n",
      "Traceback (most recent call last):\n",
      "  File \"/tmp/ipykernel_37540/132599818.py\", line 47, in crop_images\n",
      "    x1, y1, x2, y2 = find_coordinate(*img.shape[0:2], os.path.join(label_path, f'{patient}_{j:04d}.txt'), s)\n",
      "  File \"/tmp/ipykernel_37540/132599818.py\", line 7, in find_coordinate\n",
      "    assert aorta == 'j', f'如果只有一个label那么此时应为降主动脉, 但实际为{aorta}：{label_file.split(\"/\")[-1]}'\n",
      "AssertionError: 如果只有一个label那么此时应为降主动脉, 但实际为s：luojincha-S-12-24-J-12-44_0009.txt\n",
      "Traceback (most recent call last):\n",
      "  File \"/tmp/ipykernel_37540/132599818.py\", line 47, in crop_images\n",
      "    x1, y1, x2, y2 = find_coordinate(*img.shape[0:2], os.path.join(label_path, f'{patient}_{j:04d}.txt'), s)\n",
      "  File \"/tmp/ipykernel_37540/132599818.py\", line 7, in find_coordinate\n",
      "    assert aorta == 'j', f'如果只有一个label那么此时应为降主动脉, 但实际为{aorta}：{label_file.split(\"/\")[-1]}'\n",
      "AssertionError: 如果只有一个label那么此时应为降主动脉, 但实际为s：luojincha-S-12-24-J-12-44_0010.txt\n"
     ]
    },
    {
     "name": "stdout",
     "output_type": "stream",
     "text": [
      "******Processing miaoyihua-J-17-28******\n",
      "******Processing nimeihua-S-27-43-J-27-64******\n"
     ]
    },
    {
     "name": "stderr",
     "output_type": "stream",
     "text": [
      "Traceback (most recent call last):\n",
      "  File \"/tmp/ipykernel_37540/132599818.py\", line 47, in crop_images\n",
      "    x1, y1, x2, y2 = find_coordinate(*img.shape[0:2], os.path.join(label_path, f'{patient}_{j:04d}.txt'), s)\n",
      "  File \"/tmp/ipykernel_37540/132599818.py\", line 7, in find_coordinate\n",
      "    assert aorta == 'j', f'如果只有一个label那么此时应为降主动脉, 但实际为{aorta}：{label_file.split(\"/\")[-1]}'\n",
      "AssertionError: 如果只有一个label那么此时应为降主动脉, 但实际为s：nimeihua-S-27-43-J-27-64_0023.txt\n",
      "Traceback (most recent call last):\n",
      "  File \"/tmp/ipykernel_37540/132599818.py\", line 47, in crop_images\n",
      "    x1, y1, x2, y2 = find_coordinate(*img.shape[0:2], os.path.join(label_path, f'{patient}_{j:04d}.txt'), s)\n",
      "  File \"/tmp/ipykernel_37540/132599818.py\", line 7, in find_coordinate\n",
      "    assert aorta == 'j', f'如果只有一个label那么此时应为降主动脉, 但实际为{aorta}：{label_file.split(\"/\")[-1]}'\n",
      "AssertionError: 如果只有一个label那么此时应为降主动脉, 但实际为s：nimeihua-S-27-43-J-27-64_0024.txt\n"
     ]
    },
    {
     "name": "stdout",
     "output_type": "stream",
     "text": [
      "******Processing ouyangyuedong-S-23-28-J-23-58******\n"
     ]
    },
    {
     "name": "stderr",
     "output_type": "stream",
     "text": [
      "Traceback (most recent call last):\n",
      "  File \"/tmp/ipykernel_37540/132599818.py\", line 47, in crop_images\n",
      "    x1, y1, x2, y2 = find_coordinate(*img.shape[0:2], os.path.join(label_path, f'{patient}_{j:04d}.txt'), s)\n",
      "  File \"/tmp/ipykernel_37540/132599818.py\", line 7, in find_coordinate\n",
      "    assert aorta == 'j', f'如果只有一个label那么此时应为降主动脉, 但实际为{aorta}：{label_file.split(\"/\")[-1]}'\n",
      "AssertionError: 如果只有一个label那么此时应为降主动脉, 但实际为s：ouyangyuedong-S-23-28-J-23-58_0019.txt\n",
      "Traceback (most recent call last):\n",
      "  File \"/tmp/ipykernel_37540/132599818.py\", line 47, in crop_images\n",
      "    x1, y1, x2, y2 = find_coordinate(*img.shape[0:2], os.path.join(label_path, f'{patient}_{j:04d}.txt'), s)\n",
      "  File \"/tmp/ipykernel_37540/132599818.py\", line 7, in find_coordinate\n",
      "    assert aorta == 'j', f'如果只有一个label那么此时应为降主动脉, 但实际为{aorta}：{label_file.split(\"/\")[-1]}'\n",
      "AssertionError: 如果只有一个label那么此时应为降主动脉, 但实际为s：ouyangyuedong-S-23-28-J-23-58_0020.txt\n",
      "Traceback (most recent call last):\n",
      "  File \"/tmp/ipykernel_37540/132599818.py\", line 47, in crop_images\n",
      "    x1, y1, x2, y2 = find_coordinate(*img.shape[0:2], os.path.join(label_path, f'{patient}_{j:04d}.txt'), s)\n",
      "  File \"/tmp/ipykernel_37540/132599818.py\", line 7, in find_coordinate\n",
      "    assert aorta == 'j', f'如果只有一个label那么此时应为降主动脉, 但实际为{aorta}：{label_file.split(\"/\")[-1]}'\n",
      "AssertionError: 如果只有一个label那么此时应为降主动脉, 但实际为s：ouyangyuedong-S-23-28-J-23-58_0021.txt\n"
     ]
    },
    {
     "name": "stdout",
     "output_type": "stream",
     "text": [
      "******Processing panchenglei-S-29-36-J-29-78******\n"
     ]
    },
    {
     "name": "stderr",
     "output_type": "stream",
     "text": [
      "Traceback (most recent call last):\n",
      "  File \"/tmp/ipykernel_37540/132599818.py\", line 47, in crop_images\n",
      "    x1, y1, x2, y2 = find_coordinate(*img.shape[0:2], os.path.join(label_path, f'{patient}_{j:04d}.txt'), s)\n",
      "  File \"/tmp/ipykernel_37540/132599818.py\", line 7, in find_coordinate\n",
      "    assert aorta == 'j', f'如果只有一个label那么此时应为降主动脉, 但实际为{aorta}：{label_file.split(\"/\")[-1]}'\n",
      "AssertionError: 如果只有一个label那么此时应为降主动脉, 但实际为s：panchenglei-S-29-36-J-29-78_0025.txt\n",
      "Traceback (most recent call last):\n",
      "  File \"/tmp/ipykernel_37540/132599818.py\", line 47, in crop_images\n",
      "    x1, y1, x2, y2 = find_coordinate(*img.shape[0:2], os.path.join(label_path, f'{patient}_{j:04d}.txt'), s)\n",
      "  File \"/tmp/ipykernel_37540/132599818.py\", line 7, in find_coordinate\n",
      "    assert aorta == 'j', f'如果只有一个label那么此时应为降主动脉, 但实际为{aorta}：{label_file.split(\"/\")[-1]}'\n",
      "AssertionError: 如果只有一个label那么此时应为降主动脉, 但实际为s：panchenglei-S-29-36-J-29-78_0026.txt\n",
      "Traceback (most recent call last):\n",
      "  File \"/tmp/ipykernel_37540/132599818.py\", line 47, in crop_images\n",
      "    x1, y1, x2, y2 = find_coordinate(*img.shape[0:2], os.path.join(label_path, f'{patient}_{j:04d}.txt'), s)\n",
      "  File \"/tmp/ipykernel_37540/132599818.py\", line 7, in find_coordinate\n",
      "    assert aorta == 'j', f'如果只有一个label那么此时应为降主动脉, 但实际为{aorta}：{label_file.split(\"/\")[-1]}'\n",
      "AssertionError: 如果只有一个label那么此时应为降主动脉, 但实际为s：panchenglei-S-29-36-J-29-78_0027.txt\n"
     ]
    },
    {
     "name": "stdout",
     "output_type": "stream",
     "text": [
      "******Processing panxiaohua-S-23-30-J-23-58******\n"
     ]
    },
    {
     "name": "stderr",
     "output_type": "stream",
     "text": [
      "Traceback (most recent call last):\n",
      "  File \"/tmp/ipykernel_37540/132599818.py\", line 47, in crop_images\n",
      "    x1, y1, x2, y2 = find_coordinate(*img.shape[0:2], os.path.join(label_path, f'{patient}_{j:04d}.txt'), s)\n",
      "  File \"/tmp/ipykernel_37540/132599818.py\", line 7, in find_coordinate\n",
      "    assert aorta == 'j', f'如果只有一个label那么此时应为降主动脉, 但实际为{aorta}：{label_file.split(\"/\")[-1]}'\n",
      "AssertionError: 如果只有一个label那么此时应为降主动脉, 但实际为s：panxiaohua-S-23-30-J-23-58_0031.txt\n",
      "Traceback (most recent call last):\n",
      "  File \"/tmp/ipykernel_37540/132599818.py\", line 47, in crop_images\n",
      "    x1, y1, x2, y2 = find_coordinate(*img.shape[0:2], os.path.join(label_path, f'{patient}_{j:04d}.txt'), s)\n",
      "  File \"/tmp/ipykernel_37540/132599818.py\", line 7, in find_coordinate\n",
      "    assert aorta == 'j', f'如果只有一个label那么此时应为降主动脉, 但实际为{aorta}：{label_file.split(\"/\")[-1]}'\n",
      "AssertionError: 如果只有一个label那么此时应为降主动脉, 但实际为s：panxiaohua-S-23-30-J-23-58_0032.txt\n"
     ]
    },
    {
     "name": "stdout",
     "output_type": "stream",
     "text": [
      "******Processing pengxuechuan-S-34-49-J-34-110******\n"
     ]
    },
    {
     "name": "stderr",
     "output_type": "stream",
     "text": [
      "Traceback (most recent call last):\n",
      "  File \"/tmp/ipykernel_37540/132599818.py\", line 47, in crop_images\n",
      "    x1, y1, x2, y2 = find_coordinate(*img.shape[0:2], os.path.join(label_path, f'{patient}_{j:04d}.txt'), s)\n",
      "  File \"/tmp/ipykernel_37540/132599818.py\", line 7, in find_coordinate\n",
      "    assert aorta == 'j', f'如果只有一个label那么此时应为降主动脉, 但实际为{aorta}：{label_file.split(\"/\")[-1]}'\n",
      "AssertionError: 如果只有一个label那么此时应为降主动脉, 但实际为s：pengxuechuan-S-34-49-J-34-110_0030.txt\n",
      "Traceback (most recent call last):\n",
      "  File \"/tmp/ipykernel_37540/132599818.py\", line 47, in crop_images\n",
      "    x1, y1, x2, y2 = find_coordinate(*img.shape[0:2], os.path.join(label_path, f'{patient}_{j:04d}.txt'), s)\n",
      "  File \"/tmp/ipykernel_37540/132599818.py\", line 7, in find_coordinate\n",
      "    assert aorta == 'j', f'如果只有一个label那么此时应为降主动脉, 但实际为{aorta}：{label_file.split(\"/\")[-1]}'\n",
      "AssertionError: 如果只有一个label那么此时应为降主动脉, 但实际为s：pengxuechuan-S-34-49-J-34-110_0031.txt\n",
      "Traceback (most recent call last):\n",
      "  File \"/tmp/ipykernel_37540/132599818.py\", line 47, in crop_images\n",
      "    x1, y1, x2, y2 = find_coordinate(*img.shape[0:2], os.path.join(label_path, f'{patient}_{j:04d}.txt'), s)\n",
      "  File \"/tmp/ipykernel_37540/132599818.py\", line 7, in find_coordinate\n",
      "    assert aorta == 'j', f'如果只有一个label那么此时应为降主动脉, 但实际为{aorta}：{label_file.split(\"/\")[-1]}'\n",
      "AssertionError: 如果只有一个label那么此时应为降主动脉, 但实际为s：pengxuechuan-S-34-49-J-34-110_0032.txt\n"
     ]
    },
    {
     "name": "stdout",
     "output_type": "stream",
     "text": [
      "******Processing qianxiaofu-J-13-68******\n",
      "******Processing qichunhong-J-34-37******\n",
      "******Processing qiuhongren-J-41-68******\n",
      "******Processing shenchunyan-S-43-54-J-43-148******\n"
     ]
    },
    {
     "name": "stderr",
     "output_type": "stream",
     "text": [
      "Traceback (most recent call last):\n",
      "  File \"/tmp/ipykernel_37540/132599818.py\", line 47, in crop_images\n",
      "    x1, y1, x2, y2 = find_coordinate(*img.shape[0:2], os.path.join(label_path, f'{patient}_{j:04d}.txt'), s)\n",
      "  File \"/tmp/ipykernel_37540/132599818.py\", line 7, in find_coordinate\n",
      "    assert aorta == 'j', f'如果只有一个label那么此时应为降主动脉, 但实际为{aorta}：{label_file.split(\"/\")[-1]}'\n",
      "AssertionError: 如果只有一个label那么此时应为降主动脉, 但实际为s：shenchunyan-S-43-54-J-43-148_0039.txt\n",
      "Traceback (most recent call last):\n",
      "  File \"/tmp/ipykernel_37540/132599818.py\", line 47, in crop_images\n",
      "    x1, y1, x2, y2 = find_coordinate(*img.shape[0:2], os.path.join(label_path, f'{patient}_{j:04d}.txt'), s)\n",
      "  File \"/tmp/ipykernel_37540/132599818.py\", line 7, in find_coordinate\n",
      "    assert aorta == 'j', f'如果只有一个label那么此时应为降主动脉, 但实际为{aorta}：{label_file.split(\"/\")[-1]}'\n",
      "AssertionError: 如果只有一个label那么此时应为降主动脉, 但实际为s：shenchunyan-S-43-54-J-43-148_0040.txt\n",
      "Traceback (most recent call last):\n",
      "  File \"/tmp/ipykernel_37540/132599818.py\", line 47, in crop_images\n",
      "    x1, y1, x2, y2 = find_coordinate(*img.shape[0:2], os.path.join(label_path, f'{patient}_{j:04d}.txt'), s)\n",
      "  File \"/tmp/ipykernel_37540/132599818.py\", line 7, in find_coordinate\n",
      "    assert aorta == 'j', f'如果只有一个label那么此时应为降主动脉, 但实际为{aorta}：{label_file.split(\"/\")[-1]}'\n",
      "AssertionError: 如果只有一个label那么此时应为降主动脉, 但实际为s：shenchunyan-S-43-54-J-43-148_0041.txt\n"
     ]
    },
    {
     "name": "stdout",
     "output_type": "stream",
     "text": [
      "******Processing shenjianyi-J-31-76******\n",
      "******Processing shenlinhua-S-35-43-J-35-147******\n"
     ]
    },
    {
     "name": "stderr",
     "output_type": "stream",
     "text": [
      "Traceback (most recent call last):\n",
      "  File \"/tmp/ipykernel_37540/132599818.py\", line 47, in crop_images\n",
      "    x1, y1, x2, y2 = find_coordinate(*img.shape[0:2], os.path.join(label_path, f'{patient}_{j:04d}.txt'), s)\n",
      "  File \"/tmp/ipykernel_37540/132599818.py\", line 7, in find_coordinate\n",
      "    assert aorta == 'j', f'如果只有一个label那么此时应为降主动脉, 但实际为{aorta}：{label_file.split(\"/\")[-1]}'\n",
      "AssertionError: 如果只有一个label那么此时应为降主动脉, 但实际为s：shenlinhua-S-35-43-J-35-147_0031.txt\n",
      "Traceback (most recent call last):\n",
      "  File \"/tmp/ipykernel_37540/132599818.py\", line 47, in crop_images\n",
      "    x1, y1, x2, y2 = find_coordinate(*img.shape[0:2], os.path.join(label_path, f'{patient}_{j:04d}.txt'), s)\n",
      "  File \"/tmp/ipykernel_37540/132599818.py\", line 7, in find_coordinate\n",
      "    assert aorta == 'j', f'如果只有一个label那么此时应为降主动脉, 但实际为{aorta}：{label_file.split(\"/\")[-1]}'\n",
      "AssertionError: 如果只有一个label那么此时应为降主动脉, 但实际为s：shenlinhua-S-35-43-J-35-147_0032.txt\n"
     ]
    },
    {
     "name": "stdout",
     "output_type": "stream",
     "text": [
      "******Processing shenqingchuan-S-26-39******\n"
     ]
    },
    {
     "name": "stderr",
     "output_type": "stream",
     "text": [
      "Traceback (most recent call last):\n",
      "  File \"/tmp/ipykernel_37540/132599818.py\", line 47, in crop_images\n",
      "    x1, y1, x2, y2 = find_coordinate(*img.shape[0:2], os.path.join(label_path, f'{patient}_{j:04d}.txt'), s)\n",
      "  File \"/tmp/ipykernel_37540/132599818.py\", line 7, in find_coordinate\n",
      "    assert aorta == 'j', f'如果只有一个label那么此时应为降主动脉, 但实际为{aorta}：{label_file.split(\"/\")[-1]}'\n",
      "AssertionError: 如果只有一个label那么此时应为降主动脉, 但实际为s：shenqingchuan-S-26-39_0022.txt\n",
      "Traceback (most recent call last):\n",
      "  File \"/tmp/ipykernel_37540/132599818.py\", line 47, in crop_images\n",
      "    x1, y1, x2, y2 = find_coordinate(*img.shape[0:2], os.path.join(label_path, f'{patient}_{j:04d}.txt'), s)\n",
      "  File \"/tmp/ipykernel_37540/132599818.py\", line 7, in find_coordinate\n",
      "    assert aorta == 'j', f'如果只有一个label那么此时应为降主动脉, 但实际为{aorta}：{label_file.split(\"/\")[-1]}'\n",
      "AssertionError: 如果只有一个label那么此时应为降主动脉, 但实际为s：shenqingchuan-S-26-39_0023.txt\n",
      "Traceback (most recent call last):\n",
      "  File \"/tmp/ipykernel_37540/132599818.py\", line 47, in crop_images\n",
      "    x1, y1, x2, y2 = find_coordinate(*img.shape[0:2], os.path.join(label_path, f'{patient}_{j:04d}.txt'), s)\n",
      "  File \"/tmp/ipykernel_37540/132599818.py\", line 7, in find_coordinate\n",
      "    assert aorta == 'j', f'如果只有一个label那么此时应为降主动脉, 但实际为{aorta}：{label_file.split(\"/\")[-1]}'\n",
      "AssertionError: 如果只有一个label那么此时应为降主动脉, 但实际为s：shenqingchuan-S-26-39_0024.txt\n"
     ]
    },
    {
     "name": "stdout",
     "output_type": "stream",
     "text": [
      "******Processing shenyang-J-34-96******\n",
      "******Processing shizheng-J-32-101******\n",
      "******Processing songshuizhen-J-9-43******\n",
      "******Processing songxin-J-23-98******\n",
      "******Processing sunhuhua-J-31-103******\n",
      "******Processing sunshaozhi-J-20-64******\n",
      "******Processing sunshimin-J-22-45******\n",
      "******Processing taolidi-J-41-121******\n",
      "******Processing tianjianjun-S-40-65-J-40-125******\n"
     ]
    },
    {
     "name": "stderr",
     "output_type": "stream",
     "text": [
      "Traceback (most recent call last):\n",
      "  File \"/tmp/ipykernel_37540/132599818.py\", line 47, in crop_images\n",
      "    x1, y1, x2, y2 = find_coordinate(*img.shape[0:2], os.path.join(label_path, f'{patient}_{j:04d}.txt'), s)\n",
      "  File \"/tmp/ipykernel_37540/132599818.py\", line 7, in find_coordinate\n",
      "    assert aorta == 'j', f'如果只有一个label那么此时应为降主动脉, 但实际为{aorta}：{label_file.split(\"/\")[-1]}'\n",
      "AssertionError: 如果只有一个label那么此时应为降主动脉, 但实际为s：tianjianjun-S-40-65-J-40-125_0036.txt\n",
      "Traceback (most recent call last):\n",
      "  File \"/tmp/ipykernel_37540/132599818.py\", line 47, in crop_images\n",
      "    x1, y1, x2, y2 = find_coordinate(*img.shape[0:2], os.path.join(label_path, f'{patient}_{j:04d}.txt'), s)\n",
      "  File \"/tmp/ipykernel_37540/132599818.py\", line 7, in find_coordinate\n",
      "    assert aorta == 'j', f'如果只有一个label那么此时应为降主动脉, 但实际为{aorta}：{label_file.split(\"/\")[-1]}'\n",
      "AssertionError: 如果只有一个label那么此时应为降主动脉, 但实际为s：tianjianjun-S-40-65-J-40-125_0037.txt\n"
     ]
    },
    {
     "name": "stdout",
     "output_type": "stream",
     "text": [
      "******Processing wangchunli-S-19-32******\n"
     ]
    },
    {
     "name": "stderr",
     "output_type": "stream",
     "text": [
      "Traceback (most recent call last):\n",
      "  File \"/tmp/ipykernel_37540/132599818.py\", line 47, in crop_images\n",
      "    x1, y1, x2, y2 = find_coordinate(*img.shape[0:2], os.path.join(label_path, f'{patient}_{j:04d}.txt'), s)\n",
      "  File \"/tmp/ipykernel_37540/132599818.py\", line 7, in find_coordinate\n",
      "    assert aorta == 'j', f'如果只有一个label那么此时应为降主动脉, 但实际为{aorta}：{label_file.split(\"/\")[-1]}'\n",
      "AssertionError: 如果只有一个label那么此时应为降主动脉, 但实际为s：wangchunli-S-19-32_0015.txt\n",
      "Traceback (most recent call last):\n",
      "  File \"/tmp/ipykernel_37540/132599818.py\", line 47, in crop_images\n",
      "    x1, y1, x2, y2 = find_coordinate(*img.shape[0:2], os.path.join(label_path, f'{patient}_{j:04d}.txt'), s)\n",
      "  File \"/tmp/ipykernel_37540/132599818.py\", line 7, in find_coordinate\n",
      "    assert aorta == 'j', f'如果只有一个label那么此时应为降主动脉, 但实际为{aorta}：{label_file.split(\"/\")[-1]}'\n",
      "AssertionError: 如果只有一个label那么此时应为降主动脉, 但实际为s：wangchunli-S-19-32_0016.txt\n",
      "Traceback (most recent call last):\n",
      "  File \"/tmp/ipykernel_37540/132599818.py\", line 47, in crop_images\n",
      "    x1, y1, x2, y2 = find_coordinate(*img.shape[0:2], os.path.join(label_path, f'{patient}_{j:04d}.txt'), s)\n",
      "  File \"/tmp/ipykernel_37540/132599818.py\", line 7, in find_coordinate\n",
      "    assert aorta == 'j', f'如果只有一个label那么此时应为降主动脉, 但实际为{aorta}：{label_file.split(\"/\")[-1]}'\n",
      "AssertionError: 如果只有一个label那么此时应为降主动脉, 但实际为s：wangchunli-S-19-32_0017.txt\n"
     ]
    },
    {
     "name": "stdout",
     "output_type": "stream",
     "text": [
      "******Processing wangjinlong-S-33-43-J-33-76******\n"
     ]
    },
    {
     "name": "stderr",
     "output_type": "stream",
     "text": [
      "Traceback (most recent call last):\n",
      "  File \"/tmp/ipykernel_37540/132599818.py\", line 47, in crop_images\n",
      "    x1, y1, x2, y2 = find_coordinate(*img.shape[0:2], os.path.join(label_path, f'{patient}_{j:04d}.txt'), s)\n",
      "  File \"/tmp/ipykernel_37540/132599818.py\", line 7, in find_coordinate\n",
      "    assert aorta == 'j', f'如果只有一个label那么此时应为降主动脉, 但实际为{aorta}：{label_file.split(\"/\")[-1]}'\n",
      "AssertionError: 如果只有一个label那么此时应为降主动脉, 但实际为s：wangjinlong-S-33-43-J-33-76_0029.txt\n"
     ]
    },
    {
     "name": "stdout",
     "output_type": "stream",
     "text": [
      "******Processing wangruixing-J-25-63******\n",
      "******Processing wangwenzhong-J-32-122******\n",
      "******Processing wanlaoge-J-40-81******\n",
      "******Processing wuabao-J-20-52******\n",
      "******Processing wuguomiao-J-22-50******\n",
      "******Processing wurenjin-J-29-103******\n",
      "******Processing wurihua-J-30-64******\n",
      "******Processing wuxisheng-S-27-31-J-27-27******\n"
     ]
    },
    {
     "name": "stderr",
     "output_type": "stream",
     "text": [
      "Traceback (most recent call last):\n",
      "  File \"/tmp/ipykernel_37540/132599818.py\", line 47, in crop_images\n",
      "    x1, y1, x2, y2 = find_coordinate(*img.shape[0:2], os.path.join(label_path, f'{patient}_{j:04d}.txt'), s)\n",
      "  File \"/tmp/ipykernel_37540/132599818.py\", line 7, in find_coordinate\n",
      "    assert aorta == 'j', f'如果只有一个label那么此时应为降主动脉, 但实际为{aorta}：{label_file.split(\"/\")[-1]}'\n",
      "AssertionError: 如果只有一个label那么此时应为降主动脉, 但实际为s：wuxisheng-S-27-31-J-27-27_0023.txt\n",
      "Traceback (most recent call last):\n",
      "  File \"/tmp/ipykernel_37540/132599818.py\", line 47, in crop_images\n",
      "    x1, y1, x2, y2 = find_coordinate(*img.shape[0:2], os.path.join(label_path, f'{patient}_{j:04d}.txt'), s)\n",
      "  File \"/tmp/ipykernel_37540/132599818.py\", line 7, in find_coordinate\n",
      "    assert aorta == 'j', f'如果只有一个label那么此时应为降主动脉, 但实际为{aorta}：{label_file.split(\"/\")[-1]}'\n",
      "AssertionError: 如果只有一个label那么此时应为降主动脉, 但实际为s：wuxisheng-S-27-31-J-27-27_0024.txt\n",
      "Traceback (most recent call last):\n",
      "  File \"/tmp/ipykernel_37540/132599818.py\", line 47, in crop_images\n",
      "    x1, y1, x2, y2 = find_coordinate(*img.shape[0:2], os.path.join(label_path, f'{patient}_{j:04d}.txt'), s)\n",
      "  File \"/tmp/ipykernel_37540/132599818.py\", line 7, in find_coordinate\n",
      "    assert aorta == 'j', f'如果只有一个label那么此时应为降主动脉, 但实际为{aorta}：{label_file.split(\"/\")[-1]}'\n",
      "AssertionError: 如果只有一个label那么此时应为降主动脉, 但实际为s：wuxisheng-S-27-31-J-27-27_0025.txt\n",
      "Traceback (most recent call last):\n",
      "  File \"/tmp/ipykernel_37540/132599818.py\", line 47, in crop_images\n",
      "    x1, y1, x2, y2 = find_coordinate(*img.shape[0:2], os.path.join(label_path, f'{patient}_{j:04d}.txt'), s)\n",
      "  File \"/tmp/ipykernel_37540/132599818.py\", line 7, in find_coordinate\n",
      "    assert aorta == 'j', f'如果只有一个label那么此时应为降主动脉, 但实际为{aorta}：{label_file.split(\"/\")[-1]}'\n",
      "AssertionError: 如果只有一个label那么此时应为降主动脉, 但实际为s：wuxisheng-S-27-31-J-27-27_0026.txt\n"
     ]
    },
    {
     "name": "stdout",
     "output_type": "stream",
     "text": [
      "******Processing wuzonghe-J-15-62******\n",
      "******Processing xialiming-J-22-66******\n",
      "******Processing xiashengyun-J-20-79******\n",
      "******Processing xigenmu-J-22-58******\n",
      "******Processing xiongliandi-S-19-33-J-19-59******\n"
     ]
    },
    {
     "name": "stderr",
     "output_type": "stream",
     "text": [
      "Traceback (most recent call last):\n",
      "  File \"/tmp/ipykernel_37540/132599818.py\", line 47, in crop_images\n",
      "    x1, y1, x2, y2 = find_coordinate(*img.shape[0:2], os.path.join(label_path, f'{patient}_{j:04d}.txt'), s)\n",
      "  File \"/tmp/ipykernel_37540/132599818.py\", line 7, in find_coordinate\n",
      "    assert aorta == 'j', f'如果只有一个label那么此时应为降主动脉, 但实际为{aorta}：{label_file.split(\"/\")[-1]}'\n",
      "AssertionError: 如果只有一个label那么此时应为降主动脉, 但实际为s：xiongliandi-S-19-33-J-19-59_0015.txt\n",
      "Traceback (most recent call last):\n",
      "  File \"/tmp/ipykernel_37540/132599818.py\", line 47, in crop_images\n",
      "    x1, y1, x2, y2 = find_coordinate(*img.shape[0:2], os.path.join(label_path, f'{patient}_{j:04d}.txt'), s)\n",
      "  File \"/tmp/ipykernel_37540/132599818.py\", line 7, in find_coordinate\n",
      "    assert aorta == 'j', f'如果只有一个label那么此时应为降主动脉, 但实际为{aorta}：{label_file.split(\"/\")[-1]}'\n",
      "AssertionError: 如果只有一个label那么此时应为降主动脉, 但实际为s：xiongliandi-S-19-33-J-19-59_0016.txt\n",
      "Traceback (most recent call last):\n",
      "  File \"/tmp/ipykernel_37540/132599818.py\", line 47, in crop_images\n",
      "    x1, y1, x2, y2 = find_coordinate(*img.shape[0:2], os.path.join(label_path, f'{patient}_{j:04d}.txt'), s)\n",
      "  File \"/tmp/ipykernel_37540/132599818.py\", line 7, in find_coordinate\n",
      "    assert aorta == 'j', f'如果只有一个label那么此时应为降主动脉, 但实际为{aorta}：{label_file.split(\"/\")[-1]}'\n",
      "AssertionError: 如果只有一个label那么此时应为降主动脉, 但实际为s：xiongliandi-S-19-33-J-19-59_0017.txt\n"
     ]
    },
    {
     "name": "stdout",
     "output_type": "stream",
     "text": [
      "******Processing xuaijun-J-34-91******\n",
      "******Processing xujufeng-S-17-27-J-17-35******\n"
     ]
    },
    {
     "name": "stderr",
     "output_type": "stream",
     "text": [
      "Traceback (most recent call last):\n",
      "  File \"/tmp/ipykernel_37540/132599818.py\", line 47, in crop_images\n",
      "    x1, y1, x2, y2 = find_coordinate(*img.shape[0:2], os.path.join(label_path, f'{patient}_{j:04d}.txt'), s)\n",
      "  File \"/tmp/ipykernel_37540/132599818.py\", line 7, in find_coordinate\n",
      "    assert aorta == 'j', f'如果只有一个label那么此时应为降主动脉, 但实际为{aorta}：{label_file.split(\"/\")[-1]}'\n",
      "AssertionError: 如果只有一个label那么此时应为降主动脉, 但实际为s：xujufeng-S-17-27-J-17-35_0013.txt\n",
      "Traceback (most recent call last):\n",
      "  File \"/tmp/ipykernel_37540/132599818.py\", line 47, in crop_images\n",
      "    x1, y1, x2, y2 = find_coordinate(*img.shape[0:2], os.path.join(label_path, f'{patient}_{j:04d}.txt'), s)\n",
      "  File \"/tmp/ipykernel_37540/132599818.py\", line 7, in find_coordinate\n",
      "    assert aorta == 'j', f'如果只有一个label那么此时应为降主动脉, 但实际为{aorta}：{label_file.split(\"/\")[-1]}'\n",
      "AssertionError: 如果只有一个label那么此时应为降主动脉, 但实际为s：xujufeng-S-17-27-J-17-35_0014.txt\n",
      "Traceback (most recent call last):\n",
      "  File \"/tmp/ipykernel_37540/132599818.py\", line 47, in crop_images\n",
      "    x1, y1, x2, y2 = find_coordinate(*img.shape[0:2], os.path.join(label_path, f'{patient}_{j:04d}.txt'), s)\n",
      "  File \"/tmp/ipykernel_37540/132599818.py\", line 7, in find_coordinate\n",
      "    assert aorta == 'j', f'如果只有一个label那么此时应为降主动脉, 但实际为{aorta}：{label_file.split(\"/\")[-1]}'\n",
      "AssertionError: 如果只有一个label那么此时应为降主动脉, 但实际为s：xujufeng-S-17-27-J-17-35_0015.txt\n",
      "Traceback (most recent call last):\n",
      "  File \"/tmp/ipykernel_37540/132599818.py\", line 47, in crop_images\n",
      "    x1, y1, x2, y2 = find_coordinate(*img.shape[0:2], os.path.join(label_path, f'{patient}_{j:04d}.txt'), s)\n",
      "  File \"/tmp/ipykernel_37540/132599818.py\", line 7, in find_coordinate\n",
      "    assert aorta == 'j', f'如果只有一个label那么此时应为降主动脉, 但实际为{aorta}：{label_file.split(\"/\")[-1]}'\n",
      "AssertionError: 如果只有一个label那么此时应为降主动脉, 但实际为s：xujufeng-S-17-27-J-17-35_0016.txt\n"
     ]
    },
    {
     "name": "stdout",
     "output_type": "stream",
     "text": [
      "******Processing xuliang-J-34-142******\n",
      "******Processing xulinfeng-S-15-29-J-15-39******\n"
     ]
    },
    {
     "name": "stderr",
     "output_type": "stream",
     "text": [
      "Traceback (most recent call last):\n",
      "  File \"/tmp/ipykernel_37540/132599818.py\", line 47, in crop_images\n",
      "    x1, y1, x2, y2 = find_coordinate(*img.shape[0:2], os.path.join(label_path, f'{patient}_{j:04d}.txt'), s)\n",
      "  File \"/tmp/ipykernel_37540/132599818.py\", line 7, in find_coordinate\n",
      "    assert aorta == 'j', f'如果只有一个label那么此时应为降主动脉, 但实际为{aorta}：{label_file.split(\"/\")[-1]}'\n",
      "AssertionError: 如果只有一个label那么此时应为降主动脉, 但实际为s：xulinfeng-S-15-29-J-15-39_0011.txt\n"
     ]
    },
    {
     "name": "stdout",
     "output_type": "stream",
     "text": [
      "******Processing xuqindi-S-29-39-J-29-71******\n"
     ]
    },
    {
     "name": "stderr",
     "output_type": "stream",
     "text": [
      "Traceback (most recent call last):\n",
      "  File \"/tmp/ipykernel_37540/132599818.py\", line 47, in crop_images\n",
      "    x1, y1, x2, y2 = find_coordinate(*img.shape[0:2], os.path.join(label_path, f'{patient}_{j:04d}.txt'), s)\n",
      "  File \"/tmp/ipykernel_37540/132599818.py\", line 7, in find_coordinate\n",
      "    assert aorta == 'j', f'如果只有一个label那么此时应为降主动脉, 但实际为{aorta}：{label_file.split(\"/\")[-1]}'\n",
      "AssertionError: 如果只有一个label那么此时应为降主动脉, 但实际为s：xuqindi-S-29-39-J-29-71_0025.txt\n",
      "Traceback (most recent call last):\n",
      "  File \"/tmp/ipykernel_37540/132599818.py\", line 47, in crop_images\n",
      "    x1, y1, x2, y2 = find_coordinate(*img.shape[0:2], os.path.join(label_path, f'{patient}_{j:04d}.txt'), s)\n",
      "  File \"/tmp/ipykernel_37540/132599818.py\", line 7, in find_coordinate\n",
      "    assert aorta == 'j', f'如果只有一个label那么此时应为降主动脉, 但实际为{aorta}：{label_file.split(\"/\")[-1]}'\n",
      "AssertionError: 如果只有一个label那么此时应为降主动脉, 但实际为s：xuqindi-S-29-39-J-29-71_0026.txt\n"
     ]
    },
    {
     "name": "stdout",
     "output_type": "stream",
     "text": [
      "******Processing xuyuezhen-J-38-108******\n",
      "******Processing xuzhengcheng-J-29-58******\n",
      "******Processing yangyanwen-J-22-40******\n",
      "******Processing yanyueying-J-30-98******\n",
      "******Processing yanzhengmin-J-36-103******\n",
      "******Processing yeguixiang-S-37-49-J-37-100******\n"
     ]
    },
    {
     "name": "stderr",
     "output_type": "stream",
     "text": [
      "Traceback (most recent call last):\n",
      "  File \"/tmp/ipykernel_37540/132599818.py\", line 47, in crop_images\n",
      "    x1, y1, x2, y2 = find_coordinate(*img.shape[0:2], os.path.join(label_path, f'{patient}_{j:04d}.txt'), s)\n",
      "  File \"/tmp/ipykernel_37540/132599818.py\", line 7, in find_coordinate\n",
      "    assert aorta == 'j', f'如果只有一个label那么此时应为降主动脉, 但实际为{aorta}：{label_file.split(\"/\")[-1]}'\n",
      "AssertionError: 如果只有一个label那么此时应为降主动脉, 但实际为s：yeguixiang-S-37-49-J-37-100_0033.txt\n",
      "Traceback (most recent call last):\n",
      "  File \"/tmp/ipykernel_37540/132599818.py\", line 47, in crop_images\n",
      "    x1, y1, x2, y2 = find_coordinate(*img.shape[0:2], os.path.join(label_path, f'{patient}_{j:04d}.txt'), s)\n",
      "  File \"/tmp/ipykernel_37540/132599818.py\", line 7, in find_coordinate\n",
      "    assert aorta == 'j', f'如果只有一个label那么此时应为降主动脉, 但实际为{aorta}：{label_file.split(\"/\")[-1]}'\n",
      "AssertionError: 如果只有一个label那么此时应为降主动脉, 但实际为s：yeguixiang-S-37-49-J-37-100_0034.txt\n",
      "Traceback (most recent call last):\n",
      "  File \"/tmp/ipykernel_37540/132599818.py\", line 47, in crop_images\n",
      "    x1, y1, x2, y2 = find_coordinate(*img.shape[0:2], os.path.join(label_path, f'{patient}_{j:04d}.txt'), s)\n",
      "  File \"/tmp/ipykernel_37540/132599818.py\", line 7, in find_coordinate\n",
      "    assert aorta == 'j', f'如果只有一个label那么此时应为降主动脉, 但实际为{aorta}：{label_file.split(\"/\")[-1]}'\n",
      "AssertionError: 如果只有一个label那么此时应为降主动脉, 但实际为s：yeguixiang-S-37-49-J-37-100_0035.txt\n"
     ]
    },
    {
     "name": "stdout",
     "output_type": "stream",
     "text": [
      "******Processing yulitang-S-24-40******\n"
     ]
    },
    {
     "name": "stderr",
     "output_type": "stream",
     "text": [
      "Traceback (most recent call last):\n",
      "  File \"/tmp/ipykernel_37540/132599818.py\", line 47, in crop_images\n",
      "    x1, y1, x2, y2 = find_coordinate(*img.shape[0:2], os.path.join(label_path, f'{patient}_{j:04d}.txt'), s)\n",
      "  File \"/tmp/ipykernel_37540/132599818.py\", line 7, in find_coordinate\n",
      "    assert aorta == 'j', f'如果只有一个label那么此时应为降主动脉, 但实际为{aorta}：{label_file.split(\"/\")[-1]}'\n",
      "AssertionError: 如果只有一个label那么此时应为降主动脉, 但实际为s：yulitang-S-24-40_0020.txt\n",
      "Traceback (most recent call last):\n",
      "  File \"/tmp/ipykernel_37540/132599818.py\", line 47, in crop_images\n",
      "    x1, y1, x2, y2 = find_coordinate(*img.shape[0:2], os.path.join(label_path, f'{patient}_{j:04d}.txt'), s)\n",
      "  File \"/tmp/ipykernel_37540/132599818.py\", line 7, in find_coordinate\n",
      "    assert aorta == 'j', f'如果只有一个label那么此时应为降主动脉, 但实际为{aorta}：{label_file.split(\"/\")[-1]}'\n",
      "AssertionError: 如果只有一个label那么此时应为降主动脉, 但实际为s：yulitang-S-24-40_0021.txt\n",
      "Traceback (most recent call last):\n",
      "  File \"/tmp/ipykernel_37540/132599818.py\", line 47, in crop_images\n",
      "    x1, y1, x2, y2 = find_coordinate(*img.shape[0:2], os.path.join(label_path, f'{patient}_{j:04d}.txt'), s)\n",
      "  File \"/tmp/ipykernel_37540/132599818.py\", line 7, in find_coordinate\n",
      "    assert aorta == 'j', f'如果只有一个label那么此时应为降主动脉, 但实际为{aorta}：{label_file.split(\"/\")[-1]}'\n",
      "AssertionError: 如果只有一个label那么此时应为降主动脉, 但实际为s：yulitang-S-24-40_0022.txt\n"
     ]
    },
    {
     "name": "stdout",
     "output_type": "stream",
     "text": [
      "******Processing zhangdeting-J-20-56******\n",
      "******Processing zhangdongju-J-26-33******\n",
      "******Processing zhangjufen-S-20-41-J-20-54******\n"
     ]
    },
    {
     "name": "stderr",
     "output_type": "stream",
     "text": [
      "Traceback (most recent call last):\n",
      "  File \"/tmp/ipykernel_37540/132599818.py\", line 47, in crop_images\n",
      "    x1, y1, x2, y2 = find_coordinate(*img.shape[0:2], os.path.join(label_path, f'{patient}_{j:04d}.txt'), s)\n",
      "  File \"/tmp/ipykernel_37540/132599818.py\", line 7, in find_coordinate\n",
      "    assert aorta == 'j', f'如果只有一个label那么此时应为降主动脉, 但实际为{aorta}：{label_file.split(\"/\")[-1]}'\n",
      "AssertionError: 如果只有一个label那么此时应为降主动脉, 但实际为s：zhangjufen-S-20-41-J-20-54_0016.txt\n",
      "Traceback (most recent call last):\n",
      "  File \"/tmp/ipykernel_37540/132599818.py\", line 47, in crop_images\n",
      "    x1, y1, x2, y2 = find_coordinate(*img.shape[0:2], os.path.join(label_path, f'{patient}_{j:04d}.txt'), s)\n",
      "  File \"/tmp/ipykernel_37540/132599818.py\", line 7, in find_coordinate\n",
      "    assert aorta == 'j', f'如果只有一个label那么此时应为降主动脉, 但实际为{aorta}：{label_file.split(\"/\")[-1]}'\n",
      "AssertionError: 如果只有一个label那么此时应为降主动脉, 但实际为s：zhangjufen-S-20-41-J-20-54_0017.txt\n",
      "Traceback (most recent call last):\n",
      "  File \"/tmp/ipykernel_37540/132599818.py\", line 47, in crop_images\n",
      "    x1, y1, x2, y2 = find_coordinate(*img.shape[0:2], os.path.join(label_path, f'{patient}_{j:04d}.txt'), s)\n",
      "  File \"/tmp/ipykernel_37540/132599818.py\", line 7, in find_coordinate\n",
      "    assert aorta == 'j', f'如果只有一个label那么此时应为降主动脉, 但实际为{aorta}：{label_file.split(\"/\")[-1]}'\n",
      "AssertionError: 如果只有一个label那么此时应为降主动脉, 但实际为s：zhangjufen-S-20-41-J-20-54_0018.txt\n",
      "Traceback (most recent call last):\n",
      "  File \"/tmp/ipykernel_37540/132599818.py\", line 47, in crop_images\n",
      "    x1, y1, x2, y2 = find_coordinate(*img.shape[0:2], os.path.join(label_path, f'{patient}_{j:04d}.txt'), s)\n",
      "  File \"/tmp/ipykernel_37540/132599818.py\", line 7, in find_coordinate\n",
      "    assert aorta == 'j', f'如果只有一个label那么此时应为降主动脉, 但实际为{aorta}：{label_file.split(\"/\")[-1]}'\n",
      "AssertionError: 如果只有一个label那么此时应为降主动脉, 但实际为s：zhangjufen-S-20-41-J-20-54_0019.txt\n"
     ]
    },
    {
     "name": "stdout",
     "output_type": "stream",
     "text": [
      "******Processing zhanglingyun-J-17-57******\n",
      "******Processing zhanglvhao-J-24-41******\n",
      "******Processing zhangrijun-J-23-66******\n",
      "******Processing zhangrufen-S-25-38-J-25-77******\n"
     ]
    },
    {
     "name": "stderr",
     "output_type": "stream",
     "text": [
      "Traceback (most recent call last):\n",
      "  File \"/tmp/ipykernel_37540/132599818.py\", line 47, in crop_images\n",
      "    x1, y1, x2, y2 = find_coordinate(*img.shape[0:2], os.path.join(label_path, f'{patient}_{j:04d}.txt'), s)\n",
      "  File \"/tmp/ipykernel_37540/132599818.py\", line 7, in find_coordinate\n",
      "    assert aorta == 'j', f'如果只有一个label那么此时应为降主动脉, 但实际为{aorta}：{label_file.split(\"/\")[-1]}'\n",
      "AssertionError: 如果只有一个label那么此时应为降主动脉, 但实际为s：zhangrufen-S-25-38-J-25-77_0021.txt\n",
      "Traceback (most recent call last):\n",
      "  File \"/tmp/ipykernel_37540/132599818.py\", line 47, in crop_images\n",
      "    x1, y1, x2, y2 = find_coordinate(*img.shape[0:2], os.path.join(label_path, f'{patient}_{j:04d}.txt'), s)\n",
      "  File \"/tmp/ipykernel_37540/132599818.py\", line 7, in find_coordinate\n",
      "    assert aorta == 'j', f'如果只有一个label那么此时应为降主动脉, 但实际为{aorta}：{label_file.split(\"/\")[-1]}'\n",
      "AssertionError: 如果只有一个label那么此时应为降主动脉, 但实际为s：zhangrufen-S-25-38-J-25-77_0022.txt\n",
      "Traceback (most recent call last):\n",
      "  File \"/tmp/ipykernel_37540/132599818.py\", line 47, in crop_images\n",
      "    x1, y1, x2, y2 = find_coordinate(*img.shape[0:2], os.path.join(label_path, f'{patient}_{j:04d}.txt'), s)\n",
      "  File \"/tmp/ipykernel_37540/132599818.py\", line 7, in find_coordinate\n",
      "    assert aorta == 'j', f'如果只有一个label那么此时应为降主动脉, 但实际为{aorta}：{label_file.split(\"/\")[-1]}'\n",
      "AssertionError: 如果只有一个label那么此时应为降主动脉, 但实际为s：zhangrufen-S-25-38-J-25-77_0023.txt\n"
     ]
    },
    {
     "name": "stdout",
     "output_type": "stream",
     "text": [
      "******Processing zhangweihu-J-26-38******\n",
      "******Processing zhangxiaoshun-S-24-35-J-24-90******\n"
     ]
    },
    {
     "name": "stderr",
     "output_type": "stream",
     "text": [
      "Traceback (most recent call last):\n",
      "  File \"/tmp/ipykernel_37540/132599818.py\", line 47, in crop_images\n",
      "    x1, y1, x2, y2 = find_coordinate(*img.shape[0:2], os.path.join(label_path, f'{patient}_{j:04d}.txt'), s)\n",
      "  File \"/tmp/ipykernel_37540/132599818.py\", line 7, in find_coordinate\n",
      "    assert aorta == 'j', f'如果只有一个label那么此时应为降主动脉, 但实际为{aorta}：{label_file.split(\"/\")[-1]}'\n",
      "AssertionError: 如果只有一个label那么此时应为降主动脉, 但实际为s：zhangxiaoshun-S-24-35-J-24-90_0020.txt\n",
      "Traceback (most recent call last):\n",
      "  File \"/tmp/ipykernel_37540/132599818.py\", line 47, in crop_images\n",
      "    x1, y1, x2, y2 = find_coordinate(*img.shape[0:2], os.path.join(label_path, f'{patient}_{j:04d}.txt'), s)\n",
      "  File \"/tmp/ipykernel_37540/132599818.py\", line 7, in find_coordinate\n",
      "    assert aorta == 'j', f'如果只有一个label那么此时应为降主动脉, 但实际为{aorta}：{label_file.split(\"/\")[-1]}'\n",
      "AssertionError: 如果只有一个label那么此时应为降主动脉, 但实际为s：zhangxiaoshun-S-24-35-J-24-90_0021.txt\n",
      "Traceback (most recent call last):\n",
      "  File \"/tmp/ipykernel_37540/132599818.py\", line 47, in crop_images\n",
      "    x1, y1, x2, y2 = find_coordinate(*img.shape[0:2], os.path.join(label_path, f'{patient}_{j:04d}.txt'), s)\n",
      "  File \"/tmp/ipykernel_37540/132599818.py\", line 7, in find_coordinate\n",
      "    assert aorta == 'j', f'如果只有一个label那么此时应为降主动脉, 但实际为{aorta}：{label_file.split(\"/\")[-1]}'\n",
      "AssertionError: 如果只有一个label那么此时应为降主动脉, 但实际为s：zhangxiaoshun-S-24-35-J-24-90_0022.txt\n"
     ]
    },
    {
     "name": "stdout",
     "output_type": "stream",
     "text": [
      "******Processing zhangyougou-J-11-73******\n",
      "******Processing zhaoxiao-S-20-30-J-20-48******\n"
     ]
    },
    {
     "name": "stderr",
     "output_type": "stream",
     "text": [
      "Traceback (most recent call last):\n",
      "  File \"/tmp/ipykernel_37540/132599818.py\", line 47, in crop_images\n",
      "    x1, y1, x2, y2 = find_coordinate(*img.shape[0:2], os.path.join(label_path, f'{patient}_{j:04d}.txt'), s)\n",
      "  File \"/tmp/ipykernel_37540/132599818.py\", line 7, in find_coordinate\n",
      "    assert aorta == 'j', f'如果只有一个label那么此时应为降主动脉, 但实际为{aorta}：{label_file.split(\"/\")[-1]}'\n",
      "AssertionError: 如果只有一个label那么此时应为降主动脉, 但实际为s：zhaoxiao-S-20-30-J-20-48_0016.txt\n",
      "Traceback (most recent call last):\n",
      "  File \"/tmp/ipykernel_37540/132599818.py\", line 47, in crop_images\n",
      "    x1, y1, x2, y2 = find_coordinate(*img.shape[0:2], os.path.join(label_path, f'{patient}_{j:04d}.txt'), s)\n",
      "  File \"/tmp/ipykernel_37540/132599818.py\", line 7, in find_coordinate\n",
      "    assert aorta == 'j', f'如果只有一个label那么此时应为降主动脉, 但实际为{aorta}：{label_file.split(\"/\")[-1]}'\n",
      "AssertionError: 如果只有一个label那么此时应为降主动脉, 但实际为s：zhaoxiao-S-20-30-J-20-48_0017.txt\n"
     ]
    },
    {
     "name": "stdout",
     "output_type": "stream",
     "text": [
      "******Processing zhengxinfu-J-36-74******\n",
      "******Processing zhengyingchao-J-55-77******\n",
      "******Processing zhongafen-J-17-55******\n",
      "******Processing zhongmiaoxian-S-16-26-J-16-34******\n"
     ]
    },
    {
     "name": "stderr",
     "output_type": "stream",
     "text": [
      "Traceback (most recent call last):\n",
      "  File \"/tmp/ipykernel_37540/132599818.py\", line 47, in crop_images\n",
      "    x1, y1, x2, y2 = find_coordinate(*img.shape[0:2], os.path.join(label_path, f'{patient}_{j:04d}.txt'), s)\n",
      "  File \"/tmp/ipykernel_37540/132599818.py\", line 7, in find_coordinate\n",
      "    assert aorta == 'j', f'如果只有一个label那么此时应为降主动脉, 但实际为{aorta}：{label_file.split(\"/\")[-1]}'\n",
      "AssertionError: 如果只有一个label那么此时应为降主动脉, 但实际为s：zhongmiaoxian-S-16-26-J-16-34_0012.txt\n",
      "Traceback (most recent call last):\n",
      "  File \"/tmp/ipykernel_37540/132599818.py\", line 47, in crop_images\n",
      "    x1, y1, x2, y2 = find_coordinate(*img.shape[0:2], os.path.join(label_path, f'{patient}_{j:04d}.txt'), s)\n",
      "  File \"/tmp/ipykernel_37540/132599818.py\", line 7, in find_coordinate\n",
      "    assert aorta == 'j', f'如果只有一个label那么此时应为降主动脉, 但实际为{aorta}：{label_file.split(\"/\")[-1]}'\n",
      "AssertionError: 如果只有一个label那么此时应为降主动脉, 但实际为s：zhongmiaoxian-S-16-26-J-16-34_0013.txt\n",
      "Traceback (most recent call last):\n",
      "  File \"/tmp/ipykernel_37540/132599818.py\", line 47, in crop_images\n",
      "    x1, y1, x2, y2 = find_coordinate(*img.shape[0:2], os.path.join(label_path, f'{patient}_{j:04d}.txt'), s)\n",
      "  File \"/tmp/ipykernel_37540/132599818.py\", line 7, in find_coordinate\n",
      "    assert aorta == 'j', f'如果只有一个label那么此时应为降主动脉, 但实际为{aorta}：{label_file.split(\"/\")[-1]}'\n",
      "AssertionError: 如果只有一个label那么此时应为降主动脉, 但实际为s：zhongmiaoxian-S-16-26-J-16-34_0014.txt\n"
     ]
    },
    {
     "name": "stdout",
     "output_type": "stream",
     "text": [
      "******Processing zhoulongxing-J-15-53******\n",
      "******Processing zhouquantai-J-41-78******\n",
      "******Processing zhuxuequn-J-97-104******\n",
      "******Processing zhuyucai-S-19-29******\n"
     ]
    },
    {
     "name": "stderr",
     "output_type": "stream",
     "text": [
      "Traceback (most recent call last):\n",
      "  File \"/tmp/ipykernel_37540/132599818.py\", line 47, in crop_images\n",
      "    x1, y1, x2, y2 = find_coordinate(*img.shape[0:2], os.path.join(label_path, f'{patient}_{j:04d}.txt'), s)\n",
      "  File \"/tmp/ipykernel_37540/132599818.py\", line 7, in find_coordinate\n",
      "    assert aorta == 'j', f'如果只有一个label那么此时应为降主动脉, 但实际为{aorta}：{label_file.split(\"/\")[-1]}'\n",
      "AssertionError: 如果只有一个label那么此时应为降主动脉, 但实际为s：zhuyucai-S-19-29_0015.txt\n",
      "Traceback (most recent call last):\n",
      "  File \"/tmp/ipykernel_37540/132599818.py\", line 47, in crop_images\n",
      "    x1, y1, x2, y2 = find_coordinate(*img.shape[0:2], os.path.join(label_path, f'{patient}_{j:04d}.txt'), s)\n",
      "  File \"/tmp/ipykernel_37540/132599818.py\", line 7, in find_coordinate\n",
      "    assert aorta == 'j', f'如果只有一个label那么此时应为降主动脉, 但实际为{aorta}：{label_file.split(\"/\")[-1]}'\n",
      "AssertionError: 如果只有一个label那么此时应为降主动脉, 但实际为s：zhuyucai-S-19-29_0016.txt\n",
      "Traceback (most recent call last):\n",
      "  File \"/tmp/ipykernel_37540/132599818.py\", line 47, in crop_images\n",
      "    x1, y1, x2, y2 = find_coordinate(*img.shape[0:2], os.path.join(label_path, f'{patient}_{j:04d}.txt'), s)\n",
      "  File \"/tmp/ipykernel_37540/132599818.py\", line 7, in find_coordinate\n",
      "    assert aorta == 'j', f'如果只有一个label那么此时应为降主动脉, 但实际为{aorta}：{label_file.split(\"/\")[-1]}'\n",
      "AssertionError: 如果只有一个label那么此时应为降主动脉, 但实际为s：zhuyucai-S-19-29_0017.txt\n"
     ]
    },
    {
     "name": "stdout",
     "output_type": "stream",
     "text": [
      "++++++++++++++++++++++++++++++++++++++++++++++++++++++++++++++++++++++++++++++++++\n",
      "++++++++++++++++++++++++++++++++++++++++++++++++++++++++++++++++++++++++++++++++++\n",
      "++++++++++++++++++++++++++++++++++++++++++++++++++++++++++++++++++++++++++++++++++\n",
      "++++++++++++++++++++++++++++++++++++++++++++++++++++++++++++++++++++++++++++++++++\n",
      "++++++++++++++++++++++++++++++++++++++++++++++++++++++++++++++++++++++++++++++++++\n",
      "******Processing bairuixin-J-29-46******\n",
      "******Processing baochangmu-J-18-77******\n",
      "******Processing baodezhong-J-41-44******\n",
      "******Processing chenbingrong-J-61-96******\n",
      "******Processing chenfuding-J-29-37******\n",
      "******Processing chenmazhang-J-18-22******\n",
      "******Processing chenmingbao-J-38-96******\n",
      "******Processing chenrongqin-J-32-100******\n",
      "******Processing chensimeng-J-31-33******\n",
      "******Processing dongyoufa-J-48-87******\n",
      "******Processing fanggaoshen-J-82-87******\n",
      "******Processing fangpingan-J-29-34******\n",
      "******Processing feiliangming-J-23-41******\n",
      "******Processing gaohuarong-J-51-109******\n",
      "******Processing gaozhihua-J-82-94******\n",
      "******Processing gebingzhao-J-38-40******\n",
      "******Processing guxin-J-80-88******\n",
      "******Processing heqiang-J-36-45******\n",
      "******Processing heshimo-J-44-46******\n",
      "******Processing heshufang-J-28-30******\n",
      "******Processing huajinyuan-J-58-82******\n",
      "******Processing huanggentian-J-121-132******\n",
      "******Processing huangyuanzhong-J-24-103******\n",
      "******Processing huboan-J-33-131******\n",
      "******Processing huxuegen-S-37-37-J-60-74******\n"
     ]
    },
    {
     "name": "stderr",
     "output_type": "stream",
     "text": [
      "Traceback (most recent call last):\n",
      "  File \"/tmp/ipykernel_37540/132599818.py\", line 47, in crop_images\n",
      "    x1, y1, x2, y2 = find_coordinate(*img.shape[0:2], os.path.join(label_path, f'{patient}_{j:04d}.txt'), s)\n",
      "  File \"/tmp/ipykernel_37540/132599818.py\", line 7, in find_coordinate\n",
      "    assert aorta == 'j', f'如果只有一个label那么此时应为降主动脉, 但实际为{aorta}：{label_file.split(\"/\")[-1]}'\n",
      "AssertionError: 如果只有一个label那么此时应为降主动脉, 但实际为s：huxuegen-S-37-37-J-60-74_0033.txt\n",
      "Traceback (most recent call last):\n",
      "  File \"/tmp/ipykernel_37540/132599818.py\", line 47, in crop_images\n",
      "    x1, y1, x2, y2 = find_coordinate(*img.shape[0:2], os.path.join(label_path, f'{patient}_{j:04d}.txt'), s)\n",
      "  File \"/tmp/ipykernel_37540/132599818.py\", line 7, in find_coordinate\n",
      "    assert aorta == 'j', f'如果只有一个label那么此时应为降主动脉, 但实际为{aorta}：{label_file.split(\"/\")[-1]}'\n",
      "AssertionError: 如果只有一个label那么此时应为降主动脉, 但实际为s：huxuegen-S-37-37-J-60-74_0034.txt\n"
     ]
    },
    {
     "name": "stdout",
     "output_type": "stream",
     "text": [
      "******Processing jiangxianghong-J-132-146******\n",
      "******Processing jinguozhong-J-37-116******\n",
      "******Processing lifurong-J-54-62******\n",
      "******Processing linjinmu-J-36-120******\n",
      "******Processing linxiulian-S-17-18-J-17-17******\n"
     ]
    },
    {
     "name": "stderr",
     "output_type": "stream",
     "text": [
      "Traceback (most recent call last):\n",
      "  File \"/tmp/ipykernel_37540/132599818.py\", line 47, in crop_images\n",
      "    x1, y1, x2, y2 = find_coordinate(*img.shape[0:2], os.path.join(label_path, f'{patient}_{j:04d}.txt'), s)\n",
      "  File \"/tmp/ipykernel_37540/132599818.py\", line 7, in find_coordinate\n",
      "    assert aorta == 'j', f'如果只有一个label那么此时应为降主动脉, 但实际为{aorta}：{label_file.split(\"/\")[-1]}'\n",
      "AssertionError: 如果只有一个label那么此时应为降主动脉, 但实际为s：linxiulian-S-17-18-J-17-17_0013.txt\n",
      "Traceback (most recent call last):\n",
      "  File \"/tmp/ipykernel_37540/132599818.py\", line 47, in crop_images\n",
      "    x1, y1, x2, y2 = find_coordinate(*img.shape[0:2], os.path.join(label_path, f'{patient}_{j:04d}.txt'), s)\n",
      "  File \"/tmp/ipykernel_37540/132599818.py\", line 7, in find_coordinate\n",
      "    assert aorta == 'j', f'如果只有一个label那么此时应为降主动脉, 但实际为{aorta}：{label_file.split(\"/\")[-1]}'\n",
      "AssertionError: 如果只有一个label那么此时应为降主动脉, 但实际为s：linxiulian-S-17-18-J-17-17_0014.txt\n",
      "Traceback (most recent call last):\n",
      "  File \"/tmp/ipykernel_37540/132599818.py\", line 47, in crop_images\n",
      "    x1, y1, x2, y2 = find_coordinate(*img.shape[0:2], os.path.join(label_path, f'{patient}_{j:04d}.txt'), s)\n",
      "  File \"/tmp/ipykernel_37540/132599818.py\", line 7, in find_coordinate\n",
      "    assert aorta == 'j', f'如果只有一个label那么此时应为降主动脉, 但实际为{aorta}：{label_file.split(\"/\")[-1]}'\n",
      "AssertionError: 如果只有一个label那么此时应为降主动脉, 但实际为s：linxiulian-S-17-18-J-17-17_0015.txt\n"
     ]
    },
    {
     "name": "stdout",
     "output_type": "stream",
     "text": [
      "******Processing linyunfu-S-27-29******\n",
      "******Processing liushurong-J-72-78******\n",
      "******Processing liuyongliang-J-122-131******\n",
      "******Processing liyi-J-23-42******\n",
      "******Processing liyonghong-J-48-54******\n",
      "******Processing liyuezhi-J-53-60******\n",
      "******Processing lizuojing-J-35-38******\n",
      "******Processing magengqiu-S-50-55******\n"
     ]
    },
    {
     "name": "stderr",
     "output_type": "stream",
     "text": [
      "Traceback (most recent call last):\n",
      "  File \"/tmp/ipykernel_37540/132599818.py\", line 47, in crop_images\n",
      "    x1, y1, x2, y2 = find_coordinate(*img.shape[0:2], os.path.join(label_path, f'{patient}_{j:04d}.txt'), s)\n",
      "  File \"/tmp/ipykernel_37540/132599818.py\", line 7, in find_coordinate\n",
      "    assert aorta == 'j', f'如果只有一个label那么此时应为降主动脉, 但实际为{aorta}：{label_file.split(\"/\")[-1]}'\n",
      "AssertionError: 如果只有一个label那么此时应为降主动脉, 但实际为s：magengqiu-S-50-55_0046.txt\n",
      "Traceback (most recent call last):\n",
      "  File \"/tmp/ipykernel_37540/132599818.py\", line 47, in crop_images\n",
      "    x1, y1, x2, y2 = find_coordinate(*img.shape[0:2], os.path.join(label_path, f'{patient}_{j:04d}.txt'), s)\n",
      "  File \"/tmp/ipykernel_37540/132599818.py\", line 7, in find_coordinate\n",
      "    assert aorta == 'j', f'如果只有一个label那么此时应为降主动脉, 但实际为{aorta}：{label_file.split(\"/\")[-1]}'\n",
      "AssertionError: 如果只有一个label那么此时应为降主动脉, 但实际为s：magengqiu-S-50-55_0047.txt\n",
      "Traceback (most recent call last):\n",
      "  File \"/tmp/ipykernel_37540/132599818.py\", line 47, in crop_images\n",
      "    x1, y1, x2, y2 = find_coordinate(*img.shape[0:2], os.path.join(label_path, f'{patient}_{j:04d}.txt'), s)\n",
      "  File \"/tmp/ipykernel_37540/132599818.py\", line 7, in find_coordinate\n",
      "    assert aorta == 'j', f'如果只有一个label那么此时应为降主动脉, 但实际为{aorta}：{label_file.split(\"/\")[-1]}'\n",
      "AssertionError: 如果只有一个label那么此时应为降主动脉, 但实际为s：magengqiu-S-50-55_0048.txt\n"
     ]
    },
    {
     "name": "stdout",
     "output_type": "stream",
     "text": [
      "******Processing maoshangxin-J-44-81******\n",
      "******Processing meichunming-J-116-119******\n",
      "******Processing miaohengtai-S-36-39-J-36-135******\n"
     ]
    },
    {
     "name": "stderr",
     "output_type": "stream",
     "text": [
      "Traceback (most recent call last):\n",
      "  File \"/tmp/ipykernel_37540/132599818.py\", line 47, in crop_images\n",
      "    x1, y1, x2, y2 = find_coordinate(*img.shape[0:2], os.path.join(label_path, f'{patient}_{j:04d}.txt'), s)\n",
      "  File \"/tmp/ipykernel_37540/132599818.py\", line 7, in find_coordinate\n",
      "    assert aorta == 'j', f'如果只有一个label那么此时应为降主动脉, 但实际为{aorta}：{label_file.split(\"/\")[-1]}'\n",
      "AssertionError: 如果只有一个label那么此时应为降主动脉, 但实际为s：miaohengtai-S-36-39-J-36-135_0032.txt\n",
      "Traceback (most recent call last):\n",
      "  File \"/tmp/ipykernel_37540/132599818.py\", line 47, in crop_images\n",
      "    x1, y1, x2, y2 = find_coordinate(*img.shape[0:2], os.path.join(label_path, f'{patient}_{j:04d}.txt'), s)\n",
      "  File \"/tmp/ipykernel_37540/132599818.py\", line 7, in find_coordinate\n",
      "    assert aorta == 'j', f'如果只有一个label那么此时应为降主动脉, 但实际为{aorta}：{label_file.split(\"/\")[-1]}'\n",
      "AssertionError: 如果只有一个label那么此时应为降主动脉, 但实际为s：miaohengtai-S-36-39-J-36-135_0033.txt\n"
     ]
    },
    {
     "name": "stdout",
     "output_type": "stream",
     "text": [
      "******Processing nigengrong-J-25-32******\n",
      "******Processing qiaozhiyin-J-55-65-J-117-142******\n"
     ]
    },
    {
     "name": "stderr",
     "output_type": "stream",
     "text": [
      "Traceback (most recent call last):\n",
      "  File \"/tmp/ipykernel_37540/132599818.py\", line 47, in crop_images\n",
      "    x1, y1, x2, y2 = find_coordinate(*img.shape[0:2], os.path.join(label_path, f'{patient}_{j:04d}.txt'), s)\n",
      "  File \"/tmp/ipykernel_37540/132599818.py\", line 3, in find_coordinate\n",
      "    with open(label_file, 'r') as f:\n",
      "FileNotFoundError: [Errno 2] No such file or directory: '/nfs3-p1/zsxm/dataset/aorta_ct_img_label/pau/qiaozhiyin-J-55-65-J-117-142/labels/qiaozhiyin-J-55-65-J-117-142_0142.txt'\n",
      "Traceback (most recent call last):\n",
      "  File \"/tmp/ipykernel_37540/132599818.py\", line 47, in crop_images\n",
      "    x1, y1, x2, y2 = find_coordinate(*img.shape[0:2], os.path.join(label_path, f'{patient}_{j:04d}.txt'), s)\n",
      "  File \"/tmp/ipykernel_37540/132599818.py\", line 3, in find_coordinate\n",
      "    with open(label_file, 'r') as f:\n",
      "FileNotFoundError: [Errno 2] No such file or directory: '/nfs3-p1/zsxm/dataset/aorta_ct_img_label/pau/qiaozhiyin-J-55-65-J-117-142/labels/qiaozhiyin-J-55-65-J-117-142_0144.txt'\n"
     ]
    },
    {
     "name": "stdout",
     "output_type": "stream",
     "text": [
      "******Processing qiuguozhang-J-68-77******\n",
      "******Processing qiujinrong-J-33-57-J-78-125-J-137-158******\n"
     ]
    },
    {
     "name": "stderr",
     "output_type": "stream",
     "text": [
      "Traceback (most recent call last):\n",
      "  File \"/tmp/ipykernel_37540/132599818.py\", line 45, in crop_images\n",
      "    img = Image.open(os.path.join(image_path, f'{patient}_{j:04d}.png'))\n",
      "  File \"/disk1/zsxm/miniconda3/envs/pytorch/lib/python3.8/site-packages/PIL/Image.py\", line 2975, in open\n",
      "    fp = builtins.open(filename, \"rb\")\n",
      "FileNotFoundError: [Errno 2] No such file or directory: '/nfs3-p1/zsxm/dataset/aorta_ct_img_label/pau/qiujinrong-J-33-57-J-78-125-J-137-158/images/qiujinrong-J-33-57-J-78-125-J-137-158_0158.png'\n",
      "Traceback (most recent call last):\n",
      "  File \"/tmp/ipykernel_37540/132599818.py\", line 45, in crop_images\n",
      "    img = Image.open(os.path.join(image_path, f'{patient}_{j:04d}.png'))\n",
      "  File \"/disk1/zsxm/miniconda3/envs/pytorch/lib/python3.8/site-packages/PIL/Image.py\", line 2975, in open\n",
      "    fp = builtins.open(filename, \"rb\")\n",
      "FileNotFoundError: [Errno 2] No such file or directory: '/nfs3-p1/zsxm/dataset/aorta_ct_img_label/pau/qiujinrong-J-33-57-J-78-125-J-137-158/images/qiujinrong-J-33-57-J-78-125-J-137-158_0159.png'\n",
      "Traceback (most recent call last):\n",
      "  File \"/tmp/ipykernel_37540/132599818.py\", line 45, in crop_images\n",
      "    img = Image.open(os.path.join(image_path, f'{patient}_{j:04d}.png'))\n",
      "  File \"/disk1/zsxm/miniconda3/envs/pytorch/lib/python3.8/site-packages/PIL/Image.py\", line 2975, in open\n",
      "    fp = builtins.open(filename, \"rb\")\n",
      "FileNotFoundError: [Errno 2] No such file or directory: '/nfs3-p1/zsxm/dataset/aorta_ct_img_label/pau/qiujinrong-J-33-57-J-78-125-J-137-158/images/qiujinrong-J-33-57-J-78-125-J-137-158_0160.png'\n"
     ]
    },
    {
     "name": "stdout",
     "output_type": "stream",
     "text": [
      "******Processing qiumeijun-J-45-52******\n",
      "******Processing quanjianzhong-S-32-35******\n"
     ]
    },
    {
     "name": "stderr",
     "output_type": "stream",
     "text": [
      "Traceback (most recent call last):\n",
      "  File \"/tmp/ipykernel_37540/132599818.py\", line 47, in crop_images\n",
      "    x1, y1, x2, y2 = find_coordinate(*img.shape[0:2], os.path.join(label_path, f'{patient}_{j:04d}.txt'), s)\n",
      "  File \"/tmp/ipykernel_37540/132599818.py\", line 7, in find_coordinate\n",
      "    assert aorta == 'j', f'如果只有一个label那么此时应为降主动脉, 但实际为{aorta}：{label_file.split(\"/\")[-1]}'\n",
      "AssertionError: 如果只有一个label那么此时应为降主动脉, 但实际为s：quanjianzhong-S-32-35_0028.txt\n",
      "Traceback (most recent call last):\n",
      "  File \"/tmp/ipykernel_37540/132599818.py\", line 47, in crop_images\n",
      "    x1, y1, x2, y2 = find_coordinate(*img.shape[0:2], os.path.join(label_path, f'{patient}_{j:04d}.txt'), s)\n",
      "  File \"/tmp/ipykernel_37540/132599818.py\", line 7, in find_coordinate\n",
      "    assert aorta == 'j', f'如果只有一个label那么此时应为降主动脉, 但实际为{aorta}：{label_file.split(\"/\")[-1]}'\n",
      "AssertionError: 如果只有一个label那么此时应为降主动脉, 但实际为s：quanjianzhong-S-32-35_0029.txt\n",
      "Traceback (most recent call last):\n",
      "  File \"/tmp/ipykernel_37540/132599818.py\", line 47, in crop_images\n",
      "    x1, y1, x2, y2 = find_coordinate(*img.shape[0:2], os.path.join(label_path, f'{patient}_{j:04d}.txt'), s)\n",
      "  File \"/tmp/ipykernel_37540/132599818.py\", line 7, in find_coordinate\n",
      "    assert aorta == 'j', f'如果只有一个label那么此时应为降主动脉, 但实际为{aorta}：{label_file.split(\"/\")[-1]}'\n",
      "AssertionError: 如果只有一个label那么此时应为降主动脉, 但实际为s：quanjianzhong-S-32-35_0030.txt\n"
     ]
    },
    {
     "name": "stdout",
     "output_type": "stream",
     "text": [
      "******Processing rongjiliang-J-31-43******\n",
      "******Processing shengyueqin-J-21-41******\n",
      "******Processing songguoan-J-30-40******\n",
      "******Processing suzhijing-J-51-55******\n",
      "******Processing tuchenghe-J-90-123******\n",
      "******Processing tuhuadong-J-22-30******\n",
      "******Processing wangbaosheng-J-57-87******\n",
      "******Processing wangdeqian-J-36-123******\n",
      "******Processing wangdequan-J-25-121******\n",
      "******Processing wangguoping-J-31-94******\n",
      "******Processing wangshiyao-J-46-139******\n",
      "******Processing wangyeping-J-69-78******\n",
      "******Processing wugenbao-J-16-78******\n",
      "******Processing xiahongsheng-J-24-86******\n",
      "******Processing xiangbaiquan-J-38-100******\n",
      "******Processing xingwenqu-J-24-53******\n",
      "******Processing xuping-J-35-79******\n",
      "******Processing xuwenxiang-J-50-67******\n",
      "******Processing yingguocheng-J-48-54******\n",
      "******Processing yujianshun-S-19-20******\n",
      "******Processing yuxingguan-J-25-30******\n"
     ]
    },
    {
     "name": "stderr",
     "output_type": "stream",
     "text": [
      "Traceback (most recent call last):\n",
      "  File \"/tmp/ipykernel_37540/132599818.py\", line 47, in crop_images\n",
      "    x1, y1, x2, y2 = find_coordinate(*img.shape[0:2], os.path.join(label_path, f'{patient}_{j:04d}.txt'), s)\n",
      "  File \"/tmp/ipykernel_37540/132599818.py\", line 7, in find_coordinate\n",
      "    assert aorta == 'j', f'如果只有一个label那么此时应为降主动脉, 但实际为{aorta}：{label_file.split(\"/\")[-1]}'\n",
      "AssertionError: 如果只有一个label那么此时应为降主动脉, 但实际为s：yujianshun-S-19-20_0015.txt\n",
      "Traceback (most recent call last):\n",
      "  File \"/tmp/ipykernel_37540/132599818.py\", line 47, in crop_images\n",
      "    x1, y1, x2, y2 = find_coordinate(*img.shape[0:2], os.path.join(label_path, f'{patient}_{j:04d}.txt'), s)\n",
      "  File \"/tmp/ipykernel_37540/132599818.py\", line 7, in find_coordinate\n",
      "    assert aorta == 'j', f'如果只有一个label那么此时应为降主动脉, 但实际为{aorta}：{label_file.split(\"/\")[-1]}'\n",
      "AssertionError: 如果只有一个label那么此时应为降主动脉, 但实际为s：yujianshun-S-19-20_0016.txt\n",
      "Traceback (most recent call last):\n",
      "  File \"/tmp/ipykernel_37540/132599818.py\", line 47, in crop_images\n",
      "    x1, y1, x2, y2 = find_coordinate(*img.shape[0:2], os.path.join(label_path, f'{patient}_{j:04d}.txt'), s)\n",
      "  File \"/tmp/ipykernel_37540/132599818.py\", line 7, in find_coordinate\n",
      "    assert aorta == 'j', f'如果只有一个label那么此时应为降主动脉, 但实际为{aorta}：{label_file.split(\"/\")[-1]}'\n",
      "AssertionError: 如果只有一个label那么此时应为降主动脉, 但实际为s：yujianshun-S-19-20_0017.txt\n"
     ]
    },
    {
     "name": "stdout",
     "output_type": "stream",
     "text": [
      "******Processing zengchenhong-J-80-86******\n",
      "******Processing zhangshaohong-S-17-20******\n",
      "******Processing zhengaizhu-S-26-29-J-52-56******\n"
     ]
    },
    {
     "name": "stderr",
     "output_type": "stream",
     "text": [
      "Traceback (most recent call last):\n",
      "  File \"/tmp/ipykernel_37540/132599818.py\", line 47, in crop_images\n",
      "    x1, y1, x2, y2 = find_coordinate(*img.shape[0:2], os.path.join(label_path, f'{patient}_{j:04d}.txt'), s)\n",
      "  File \"/tmp/ipykernel_37540/132599818.py\", line 7, in find_coordinate\n",
      "    assert aorta == 'j', f'如果只有一个label那么此时应为降主动脉, 但实际为{aorta}：{label_file.split(\"/\")[-1]}'\n",
      "AssertionError: 如果只有一个label那么此时应为降主动脉, 但实际为s：zhangshaohong-S-17-20_0013.txt\n",
      "Traceback (most recent call last):\n",
      "  File \"/tmp/ipykernel_37540/132599818.py\", line 47, in crop_images\n",
      "    x1, y1, x2, y2 = find_coordinate(*img.shape[0:2], os.path.join(label_path, f'{patient}_{j:04d}.txt'), s)\n",
      "  File \"/tmp/ipykernel_37540/132599818.py\", line 7, in find_coordinate\n",
      "    assert aorta == 'j', f'如果只有一个label那么此时应为降主动脉, 但实际为{aorta}：{label_file.split(\"/\")[-1]}'\n",
      "AssertionError: 如果只有一个label那么此时应为降主动脉, 但实际为s：zhangshaohong-S-17-20_0014.txt\n",
      "Traceback (most recent call last):\n",
      "  File \"/tmp/ipykernel_37540/132599818.py\", line 47, in crop_images\n",
      "    x1, y1, x2, y2 = find_coordinate(*img.shape[0:2], os.path.join(label_path, f'{patient}_{j:04d}.txt'), s)\n",
      "  File \"/tmp/ipykernel_37540/132599818.py\", line 7, in find_coordinate\n",
      "    assert aorta == 'j', f'如果只有一个label那么此时应为降主动脉, 但实际为{aorta}：{label_file.split(\"/\")[-1]}'\n",
      "AssertionError: 如果只有一个label那么此时应为降主动脉, 但实际为s：zhangshaohong-S-17-20_0015.txt\n",
      "Traceback (most recent call last):\n",
      "  File \"/tmp/ipykernel_37540/132599818.py\", line 47, in crop_images\n",
      "    x1, y1, x2, y2 = find_coordinate(*img.shape[0:2], os.path.join(label_path, f'{patient}_{j:04d}.txt'), s)\n",
      "  File \"/tmp/ipykernel_37540/132599818.py\", line 7, in find_coordinate\n",
      "    assert aorta == 'j', f'如果只有一个label那么此时应为降主动脉, 但实际为{aorta}：{label_file.split(\"/\")[-1]}'\n",
      "AssertionError: 如果只有一个label那么此时应为降主动脉, 但实际为s：zhangshaohong-S-17-20_0016.txt\n",
      "Traceback (most recent call last):\n",
      "  File \"/tmp/ipykernel_37540/132599818.py\", line 47, in crop_images\n",
      "    x1, y1, x2, y2 = find_coordinate(*img.shape[0:2], os.path.join(label_path, f'{patient}_{j:04d}.txt'), s)\n",
      "  File \"/tmp/ipykernel_37540/132599818.py\", line 7, in find_coordinate\n",
      "    assert aorta == 'j', f'如果只有一个label那么此时应为降主动脉, 但实际为{aorta}：{label_file.split(\"/\")[-1]}'\n",
      "AssertionError: 如果只有一个label那么此时应为降主动脉, 但实际为s：zhengaizhu-S-26-29-J-52-56_0022.txt\n",
      "Traceback (most recent call last):\n",
      "  File \"/tmp/ipykernel_37540/132599818.py\", line 47, in crop_images\n",
      "    x1, y1, x2, y2 = find_coordinate(*img.shape[0:2], os.path.join(label_path, f'{patient}_{j:04d}.txt'), s)\n",
      "  File \"/tmp/ipykernel_37540/132599818.py\", line 7, in find_coordinate\n",
      "    assert aorta == 'j', f'如果只有一个label那么此时应为降主动脉, 但实际为{aorta}：{label_file.split(\"/\")[-1]}'\n",
      "AssertionError: 如果只有一个label那么此时应为降主动脉, 但实际为s：zhengaizhu-S-26-29-J-52-56_0023.txt\n"
     ]
    },
    {
     "name": "stdout",
     "output_type": "stream",
     "text": [
      "******Processing zhengxiusheng-S-26-27******\n",
      "******Processing zhongjianhong-J-29-63******\n"
     ]
    },
    {
     "name": "stderr",
     "output_type": "stream",
     "text": [
      "Traceback (most recent call last):\n",
      "  File \"/tmp/ipykernel_37540/132599818.py\", line 47, in crop_images\n",
      "    x1, y1, x2, y2 = find_coordinate(*img.shape[0:2], os.path.join(label_path, f'{patient}_{j:04d}.txt'), s)\n",
      "  File \"/tmp/ipykernel_37540/132599818.py\", line 7, in find_coordinate\n",
      "    assert aorta == 'j', f'如果只有一个label那么此时应为降主动脉, 但实际为{aorta}：{label_file.split(\"/\")[-1]}'\n",
      "AssertionError: 如果只有一个label那么此时应为降主动脉, 但实际为s：zhengxiusheng-S-26-27_0022.txt\n",
      "Traceback (most recent call last):\n",
      "  File \"/tmp/ipykernel_37540/132599818.py\", line 47, in crop_images\n",
      "    x1, y1, x2, y2 = find_coordinate(*img.shape[0:2], os.path.join(label_path, f'{patient}_{j:04d}.txt'), s)\n",
      "  File \"/tmp/ipykernel_37540/132599818.py\", line 7, in find_coordinate\n",
      "    assert aorta == 'j', f'如果只有一个label那么此时应为降主动脉, 但实际为{aorta}：{label_file.split(\"/\")[-1]}'\n",
      "AssertionError: 如果只有一个label那么此时应为降主动脉, 但实际为s：zhengxiusheng-S-26-27_0023.txt\n"
     ]
    },
    {
     "name": "stdout",
     "output_type": "stream",
     "text": [
      "******Processing zhongzhongnan-J-22-37******\n",
      "******Processing zhougensheng-S-39-42******\n",
      "******Processing zhourongcheng-J-80-93******\n"
     ]
    },
    {
     "name": "stderr",
     "output_type": "stream",
     "text": [
      "Traceback (most recent call last):\n",
      "  File \"/tmp/ipykernel_37540/132599818.py\", line 47, in crop_images\n",
      "    x1, y1, x2, y2 = find_coordinate(*img.shape[0:2], os.path.join(label_path, f'{patient}_{j:04d}.txt'), s)\n",
      "  File \"/tmp/ipykernel_37540/132599818.py\", line 7, in find_coordinate\n",
      "    assert aorta == 'j', f'如果只有一个label那么此时应为降主动脉, 但实际为{aorta}：{label_file.split(\"/\")[-1]}'\n",
      "AssertionError: 如果只有一个label那么此时应为降主动脉, 但实际为s：zhougensheng-S-39-42_0035.txt\n",
      "Traceback (most recent call last):\n",
      "  File \"/tmp/ipykernel_37540/132599818.py\", line 47, in crop_images\n",
      "    x1, y1, x2, y2 = find_coordinate(*img.shape[0:2], os.path.join(label_path, f'{patient}_{j:04d}.txt'), s)\n",
      "  File \"/tmp/ipykernel_37540/132599818.py\", line 7, in find_coordinate\n",
      "    assert aorta == 'j', f'如果只有一个label那么此时应为降主动脉, 但实际为{aorta}：{label_file.split(\"/\")[-1]}'\n",
      "AssertionError: 如果只有一个label那么此时应为降主动脉, 但实际为s：zhougensheng-S-39-42_0036.txt\n"
     ]
    },
    {
     "name": "stdout",
     "output_type": "stream",
     "text": [
      "******Processing zhouxincang-J-40-97******\n",
      "******Processing zhujianping-J-31-34******\n"
     ]
    }
   ],
   "source": [
    "# 切出范围外冗余为3的主动脉\n",
    "def find_coordinate(height, width, label_file, aorta):\n",
    "    with open(label_file, 'r') as f:\n",
    "        lines = f.readlines()\n",
    "    assert len(lines) <= 2, f'label.txt应该存储不多于2个label：{label_file.split(\"/\")[-1]}'\n",
    "    if len(lines) == 1:\n",
    "        assert aorta == 'j', f'如果只有一个label那么此时应为降主动脉, 但实际为{aorta}：{label_file.split(\"/\")[-1]}'\n",
    "        corr = list(map(lambda x: float(x), lines[0].split()))\n",
    "        x, y, w, h = corr[1], corr[2], corr[3], corr[4]\n",
    "        assert 0.25 < x < 0.75 and 0.2 < y < 0.8, f'边界框中心({x}, {y})出界：{label_file.split(\"/\")[-1]}'\n",
    "    else:\n",
    "        corr1, corr2 = list(map(lambda x: float(x), lines[0].split())), list(map(lambda x: float(x), lines[1].split()))\n",
    "        assert 0.25 < corr1[1] < 0.75 and 0.2 < corr1[2] < 0.8, f'边界框1中心({corr1[1]}, {corr1[2]})出界：{label_file.split(\"/\")[-1]}'\n",
    "        assert 0.25 < corr2[1] < 0.75 and 0.2 < corr2[2] < 0.8, f'边界框2中心({corr2[1]}, {corr2[2]})出界：{label_file.split(\"/\")[-1]}'\n",
    "        if aorta == 's':\n",
    "            x, y, w, h = (corr1[1], corr1[2], corr1[3], corr1[4]) if corr1[2] < corr2[2] else (corr2[1], corr2[2], corr2[3], corr2[4])\n",
    "        elif aorta == 'j':\n",
    "            x, y, w, h = (corr1[1], corr1[2], corr1[3], corr1[4]) if corr1[2] > corr2[2] else (corr2[1], corr2[2], corr2[3], corr2[4])\n",
    "        else:\n",
    "            raise Exception(f'aorta 应该为\"s\"或\"j\"其中之一: {label_file.split(\"/\")[-1]}')\n",
    "    w, h = int(width*w), int(height*h)\n",
    "    w, h = max(w, h), max(w, h)\n",
    "    return int(width*x-w/2), int(height*y-h/2), int(width*x+w/2+1), int(height*y+h/2+1)\n",
    "\n",
    "def crop_images(input_path, error_patient_list):\n",
    "    for patient in sorted(os.listdir(input_path)):\n",
    "        print(f'******Processing {patient}******')\n",
    "        image_path = os.path.join(input_path, patient, 'images')\n",
    "        label_path = os.path.join(input_path, patient, 'labels')\n",
    "        crop_path = os.path.join(input_path, patient, 'crops')\n",
    "        if os.path.exists(crop_path):\n",
    "            shutil.rmtree(crop_path)\n",
    "        os.mkdir(crop_path)\n",
    "        pl = patient.lower().split('-')\n",
    "        for i, s in enumerate(pl):\n",
    "            if i!=0 and s.startswith('im'):\n",
    "                pl[i] = s.replace('im', '')\n",
    "        crop_flag = True\n",
    "        for i, s in enumerate(pl):\n",
    "            if s != 's' and s != 'j':\n",
    "                continue\n",
    "            start, end = int(pl[i+1])-1, int(pl[i+2])\n",
    "            for j in range(start-3, end+3):\n",
    "                try:\n",
    "                    img = Image.open(os.path.join(image_path, f'{patient}_{j:04d}.png'))\n",
    "                    img = np.array(img)\n",
    "                    x1, y1, x2, y2 = find_coordinate(*img.shape[0:2], os.path.join(label_path, f'{patient}_{j:04d}.txt'), s)\n",
    "                except:\n",
    "                    traceback.print_exc()\n",
    "                    crop_flag = False\n",
    "                else:#if crop_flag:\n",
    "                    crop = img[y1:y2, x1:x2]\n",
    "                    crop = Image.fromarray(crop)\n",
    "                    if start <= j < end:\n",
    "                        crop.save(os.path.join(crop_path, f'{patient}_{s}_{j:04d}.png'))\n",
    "                    else:\n",
    "                        crop.save(os.path.join(crop_path, f'{patient}_{s}_{j:04d}_n.png'))\n",
    "        if not crop_flag:\n",
    "            #print('Delete crop_path')\n",
    "            #shutil.rmtree(crop_path)\n",
    "            error_patient_list.append(patient)\n",
    "\n",
    "epl1 = []\n",
    "epl2 = []\n",
    "epl3 = []\n",
    "\n",
    "crop_images('/nfs3-p1/zsxm/dataset/aorta_ct_img_label/positive', epl1)\n",
    "print('++++++++++++++++++++++++++++++++++++++++++++++++++++++++++++++++++++++++++++++++++')\n",
    "print('++++++++++++++++++++++++++++++++++++++++++++++++++++++++++++++++++++++++++++++++++')\n",
    "print('++++++++++++++++++++++++++++++++++++++++++++++++++++++++++++++++++++++++++++++++++')\n",
    "print('++++++++++++++++++++++++++++++++++++++++++++++++++++++++++++++++++++++++++++++++++')\n",
    "print('++++++++++++++++++++++++++++++++++++++++++++++++++++++++++++++++++++++++++++++++++')\n",
    "crop_images('/nfs3-p1/zsxm/dataset/aorta_ct_img_label/imh', epl2)\n",
    "print('++++++++++++++++++++++++++++++++++++++++++++++++++++++++++++++++++++++++++++++++++')\n",
    "print('++++++++++++++++++++++++++++++++++++++++++++++++++++++++++++++++++++++++++++++++++')\n",
    "print('++++++++++++++++++++++++++++++++++++++++++++++++++++++++++++++++++++++++++++++++++')\n",
    "print('++++++++++++++++++++++++++++++++++++++++++++++++++++++++++++++++++++++++++++++++++')\n",
    "print('++++++++++++++++++++++++++++++++++++++++++++++++++++++++++++++++++++++++++++++++++')\n",
    "crop_images('/nfs3-p1/zsxm/dataset/aorta_ct_img_label/pau', epl3)"
   ]
  },
  {
   "cell_type": "code",
   "execution_count": 6,
   "id": "ffdc2753",
   "metadata": {},
   "outputs": [
    {
     "name": "stdout",
     "output_type": "stream",
     "text": [
      "138\n",
      "['baojinan-J-24-87', 'baoyin-S-Im9-22-J-Im9-68', 'chenaijun-S-Im25-38-J-Im25-85', 'chenazhao-S-Im17-30', 'chencaiying-J-19-79', 'chenfuliang-S-21-31-J-21-84', 'chenglongdeng-S-Im21-33-J-Im21-78', 'chengyonghui-J-17-81', 'chenhui-S-17-25-J-17-87', 'chenjiandong-S-19-28-J-19-91', 'chenlibo-S-Im39-57', 'chenlili-S-Im18-24-J-Im18-74', 'chenmimao-S-Im32-40', 'chensiqi-S-17-28-J-17-69', 'chenxuehua-S-Im17-27-J-Im17-35', 'dingliyun-J-Im19-57', 'dingzhiqun-S-Im21-29', 'dukun-S-20-22-J-20-23', 'fangchunfeng-J-16-48', 'fangtianming-S-Im15-30-J-Im15-65', 'fangyuxian-J-23-60', 'fangzhuxiang-J-18-61', 'fanxinan-S-Im16-36-J-Im16-30', 'fudehe-S-20-33-J-20-70', 'gongyongfa-S-Im18-34-J-Im18-87', 'guanxujun-S-Im25-35-J-Im25-87', 'guquankang-J-Im18-69', 'hexingwen-S-Im25-35-J-Im25-93', 'hongjinjun-S-Im24-28-J-Im24-83', 'hongzhimin-S-Im30-39-J-30-144', 'huajin-J-Im30-67', 'huangdebing-S-Im40-48-J-Im33-138', 'huanghai-S-Im19-29-J-Im19-80', 'huangwanman-S-15-30', 'huweibang-S-Im25-30-J-Im25-79', 'huxiaomei-S-Im21-24', 'jihongke-S-Im20-24-J-Im20-86', 'jiushan-S-Im21-30-J-Im21-82', 'kongxiaoqing-S-19-32-J-27-94', 'laiguizhen-J-Im38-121', 'lanshaomei-S-Im20-31-J-Im20-79', 'leitufa-S-Im30-60-J-Im30-117', 'leixiaoying-S-Im18-26-J-18-71', 'liangjianjun-S-17-23', 'lianzhaozhen-S-Im23-30-J-Im23-84', 'lidaoheng-S-Im22-36-J-Im22-92', 'ligang-S-Im33-36', 'liguangjun-S-25-31-J-25-93', 'liguirong-S-18-22', 'lihuanhuan-S-Im20-28-J-Im20-59', 'linfaqiu-S-18-29', 'lingenqiang-S-Im30-39', 'lingshounv-S-Im18-28-J-Im18-76', 'linkegui-S-18-33-J-18-54', 'lisiquan-S-68-70-J-68-89', 'liubihai-S-23-26-J-23-93', 'liushufen-S-18-27-J-18-78', 'liyehua-S-Im30-47-J-Im30-131', 'luoyunshen-J-Im29-94', 'luzhiping-S-Im25-35-J-Im25-54', 'miqiurao-S-Im22-34--J-Im22-85', 'pancunxiao-S-16-30-J-16-70', 'panguojun-S-Im25-31-J-25-76', 'panhualin-S-24-29', 'penggaofeng-S-Im28-36', 'qiaowei-S-Im18-30-J-Im18-82', 'qumin-S-Im22-35-J-Im22-28', 'shanghongjun-J-22-84', 'shanlegen-S-22-30-J-22-79', 'shaoyefeng-S-Im34-43-J-Im34-48', 'shenjie-S-Im39-59-J-Im39-85', 'shenwenjiao-S-Im24-35', 'shenxuefu-S-Im33-40-J-Im33-101', 'shujianqiang-S-Im22-30-J-Im22-59', 'siyoulin-S-16-26', 'sunhongliang-S-23-34', 'tangabiao-S-Im41-49-J-Im41-138', 'tanjiarong-S-17-23', 'wangchenrong-S-Im18-24-J-Im18-38', 'wangqingdong-J-Im19-88', 'wangxiaofu-S-19-29-J-19-65', 'wangyonghui-S-Im18-27-J-Im18-84', 'wangzhuxi-J-Im25-144', 'weijuyun-S-Im24-32', 'weinaichao-J-Im59-162', 'wutonggen-S-Im22-29-J-Im22-82', 'wuxiangyang-S-Im18-25', 'xiafangzhou-S-18-25-J-18-80', 'xiaminsong-S-Im40-51-J-Im40-139', 'xiechangyou-S-Im22-31-J-Im22-84', 'xixiaoguo-S-Im16-31-J-Im16-43', 'xuanhuili-J-Im30-135', 'xuhangying-J-25-63', 'xuheping-S-19-35-J-19-70', 'xuhong-S-Im23-38-J-Im23-40', 'xujiahua-S-20-33-J-20-71', 'xupinglun-S-18-28-J-18-32', 'xuweiliang-S-22-25-J-22-74', 'xuyuping-S-Im21-33-J-Im21-69', 'xuzhaofang-S-21-26-J-21-86', 'yangbingshui-S-Im25-33-J-Im25-56', 'yangdongshui-S-Im15-21', 'yanglanfen-S-Im19-33', 'yangmin-J-Im37-150', 'yangmingjun-S-15-24-J-15-61', 'yangxiufu-S-Im25-37-J-Im25-29', 'yangxiulian-S-Im20-26-J-Im20-44', 'yangyuexian-S-Im38-63', 'yangzhengfu-S-Im16-30-J-Im16-77', 'yaojianmin-S-Im20-29-J-Im20-86', 'yaoliumei-S-Im28-39', 'yaowenhao-J-36-47', 'yexianchang-S-17-30-J-17-74', 'yexinxiang-S-Im32-38-J-Im32-102', 'yexiyou-S-Im19-27-J-Im19-62', 'yingjianquan-S-Im12-14-J-Im12-36', 'yinshixiu-S-Im23-25-J-Im23-79', 'yuguiying-S-16-22-J-16-77', 'yuhongliang-S-Im26-37-J-Im26-105', 'yujiazhen-S-Im19-27-J-Im19-77', 'zengjun-J-Im22-57', 'zhanfangai-S-Im17-23-J-Im17-32', 'zhangboqian-S-Im22-32-J-Im22-88', 'zhangfuyang-S-Im15-20-J-Im15-87', 'zhangguangming-J-21-138', 'zhanghaitao-S-Im25-49-J-Im25-145', 'zhanghang-S-Im16-20-J-Im16-41', 'zhangwei-S-20-26-J-20-61', 'zhangyunqin-S-Im14-25-J-Im14-64', 'zhangzhefang-S-Im22-31-J-Im22-59', 'zhengchong-S-16-31-J-16-87', 'zhongxuefang-S-Im19-34-J-Im19-72', 'zhoufeng-S-Im35-40-J-Im35-147', 'zhoujianglong-S-17-31', 'zhourongjie-S-Im19-27-J-Im19-64', 'zhuhancheng-S-Im27-36-J-Im27-86', 'zhuseng-S-Im24-31-J-Im24-105', 'zongminghui-S-Im18-25-J-Im18-81']\n",
      "34\n",
      "['chengchunxiao-S-39-57-J-39-93', 'dengxiuzhu-S-27-47-J-27-86', 'heazi-S-16-30', 'huyingfu-S-31-39-J-31-105', 'jiangbihua-S-21-30-J-21-55', 'jiatiandeng-S-41-55-J-41-142', 'jinguoqing-S-15-24-J-15-76', 'kebaoming-S-29-40', 'lujikang-S-17-31', 'luojincha-S-12-24-J-12-44', 'nimeihua-S-27-43-J-27-64', 'ouyangyuedong-S-23-28-J-23-58', 'panchenglei-S-29-36-J-29-78', 'panxiaohua-S-23-30-J-23-58', 'pengxuechuan-S-34-49-J-34-110', 'shenchunyan-S-43-54-J-43-148', 'shenlinhua-S-35-43-J-35-147', 'shenqingchuan-S-26-39', 'tianjianjun-S-40-65-J-40-125', 'wangchunli-S-19-32', 'wangjinlong-S-33-43-J-33-76', 'wuxisheng-S-27-31-J-27-27', 'xiongliandi-S-19-33-J-19-59', 'xujufeng-S-17-27-J-17-35', 'xulinfeng-S-15-29-J-15-39', 'xuqindi-S-29-39-J-29-71', 'yeguixiang-S-37-49-J-37-100', 'yulitang-S-24-40', 'zhangjufen-S-20-41-J-20-54', 'zhangrufen-S-25-38-J-25-77', 'zhangxiaoshun-S-24-35-J-24-90', 'zhaoxiao-S-20-30-J-20-48', 'zhongmiaoxian-S-16-26-J-16-34', 'zhuyucai-S-19-29']\n",
      "12\n",
      "['huxuegen-S-37-37-J-60-74', 'linxiulian-S-17-18-J-17-17', 'magengqiu-S-50-55', 'miaohengtai-S-36-39-J-36-135', 'qiaozhiyin-J-55-65-J-117-142', 'qiujinrong-J-33-57-J-78-125-J-137-158', 'quanjianzhong-S-32-35', 'yujianshun-S-19-20', 'zhangshaohong-S-17-20', 'zhengaizhu-S-26-29-J-52-56', 'zhengxiusheng-S-26-27', 'zhougensheng-S-39-42']\n"
     ]
    }
   ],
   "source": [
    "print(len(epl1))\n",
    "print(epl1)\n",
    "print(len(epl2))\n",
    "print(epl2)\n",
    "print(len(epl3))\n",
    "print(epl3)"
   ]
  },
  {
   "cell_type": "markdown",
   "id": "f12039a2",
   "metadata": {},
   "source": [
    "## 2.阴性数据"
   ]
  },
  {
   "cell_type": "code",
   "execution_count": null,
   "id": "d8a5f901",
   "metadata": {
    "scrolled": true
   },
   "outputs": [],
   "source": [
    "# 将dcm文件根据窗宽窗位转化为png图片\n",
    "def generate_image(input_folder):\n",
    "    for patient in sorted(os.listdir(input_folder)):\n",
    "        if os.path.isfile(os.path.join(input_folder, patient)):\n",
    "            continue\n",
    "        print(f'****Processing {patient}****')\n",
    "        for scan in os.listdir(os.path.join(input_folder, patient)):\n",
    "            if scan != '1':\n",
    "                continue\n",
    "            name = patient #name = patient.split('-')[0]\n",
    "            image_path = os.path.join(input_folder, patient, scan, f'images_{lower_b}_{upper_b}')\n",
    "            if os.path.exists(image_path):\n",
    "                shutil.rmtree(image_path)\n",
    "            os.mkdir(image_path)\n",
    "\n",
    "            ct = load_scan(os.path.join(input_folder, patient, scan))\n",
    "\n",
    "            for i in range(len(ct)):\n",
    "                img = ct[i].pixel_array.astype(np.int16)\n",
    "                intercept = ct[i].RescaleIntercept\n",
    "                slope = ct[i].RescaleSlope\n",
    "                if slope != 1:\n",
    "                    img = (slope * img.astype(np.float64)).astype(np.int16)\n",
    "                img += np.int16(intercept)\n",
    "                img = np.clip(img, lower_b, upper_b)\n",
    "                img = ((img-lower_b)/(upper_b-lower_b)*255).astype(np.uint8)\n",
    "                img = Image.fromarray(img)\n",
    "                img.save(os.path.join(image_path, f'{name}_{i:04d}.png'))\n",
    "\n",
    "generate_image('/nfs3-p2/zsxm/dataset/2021-9-17-negative/')\n",
    "generate_image('/nfs3-p2/zsxm/dataset/2021-9-29-negative/')"
   ]
  },
  {
   "cell_type": "code",
   "execution_count": null,
   "id": "4709fcfb",
   "metadata": {
    "scrolled": true
   },
   "outputs": [],
   "source": [
    "# 将各个病例中的png图片文件夹统一移动到一起供yolov5检测\n",
    "def move_together_for_detect(input_folder, dst_path):\n",
    "    if not os.path.exists(dst_path):\n",
    "        os.mkdir(dst_path)\n",
    "    root_name = input_folder.split('/')[-1] if input_folder.split('/')[-1] != '' else input_folder.split('/')[-2]\n",
    "    dst_path = os.path.join(dst_path, root_name)\n",
    "\n",
    "    for patient in sorted(os.listdir(input_folder)):\n",
    "        if os.path.isfile(os.path.join(input_folder, patient)):\n",
    "            continue\n",
    "        print(f'****Processing {patient}****')\n",
    "        name = patient #name = patient.split('-')[0]\n",
    "        if os.path.exists(os.path.join(dst_path, name)):\n",
    "            print(f\"\\tremove {os.path.join(dst_path, name)}\")\n",
    "            shutil.rmtree(os.path.join(dst_path, name))\n",
    "\n",
    "        try:\n",
    "            shutil.copytree(os.path.join(input_folder, patient, '1', f'images_{lower_b}_{upper_b}'), os.path.join(dst_path, name))\n",
    "        except:\n",
    "            traceback.print_exc()\n",
    "\n",
    "move_together_for_detect('/nfs3-p2/zsxm/dataset/2021-9-17-negative', '/nfs3-p1/zsxm/dataset/9_detect/')\n",
    "move_together_for_detect('/nfs3-p2/zsxm/dataset/2021-9-29-negative', '/nfs3-p1/zsxm/dataset/9_detect/')"
   ]
  },
  {
   "cell_type": "code",
   "execution_count": null,
   "id": "1da4cac8",
   "metadata": {},
   "outputs": [],
   "source": [
    "shutil.move('/disk1/zsxm/pythonWorkspace/yolov5/runs/detect/2021-9-17-negative', '/nfs3-p1/zsxm/dataset/9_detect/pred')\n",
    "shutil.move('/disk1/zsxm/pythonWorkspace/yolov5/runs/detect/2021-9-29-negative', '/nfs3-p1/zsxm/dataset/9_detect/pred')"
   ]
  },
  {
   "cell_type": "code",
   "execution_count": null,
   "id": "6652d16c",
   "metadata": {},
   "outputs": [],
   "source": [
    "# 用在更换窗宽窗位的时候，因为已经经过yolov5的检测生成了标签，故直接移动图片到images文件夹下即可\n",
    "def directly_move_to_image_label(input_folder, dst_path):\n",
    "    if not os.path.exists(dst_path):\n",
    "        os.mkdir(dst_path)\n",
    "\n",
    "    for patient in sorted(os.listdir(input_folder)):\n",
    "        if os.path.isfile(os.path.join(input_folder, patient)):\n",
    "            continue\n",
    "        print(f'****Processing {patient}****')\n",
    "        name = patient #name = patient.split('-')[0]\n",
    "        image_path = os.path.join(dst_path, name, 'images')\n",
    "        if os.path.exists(image_path):\n",
    "            print(f\"\\tremove {image_path}\")\n",
    "            shutil.rmtree(image_path)\n",
    "\n",
    "        try:\n",
    "            shutil.copytree(os.path.join(input_folder, patient, '1', f'images_{lower_b}_{upper_b}'), image_path)\n",
    "        except:\n",
    "            traceback.print_exc()\n",
    "            \n",
    "directly_move_to_image_label('/nfs3-p1/zsxm/dataset/2021-9-17-negative/', '/nfs3-p1/zsxm/dataset/aorta_ct_img_label/negative')"
   ]
  },
  {
   "cell_type": "code",
   "execution_count": null,
   "id": "c0d57e3a",
   "metadata": {
    "scrolled": true
   },
   "outputs": [],
   "source": [
    "# 将移动到待测文件夹中的原图移动到images文件夹\n",
    "def move_ori_image_to_sigle_folder(input_path, dst_path):\n",
    "    if not os.path.exists(dst_path):\n",
    "        os.mkdir(dst_path)\n",
    "    for patient in os.listdir(input_path):\n",
    "        print(f'****Processing {patient}****')\n",
    "        if not os.path.exists(os.path.join(dst_path, patient)):\n",
    "            os.mkdir(os.path.join(dst_path, patient))\n",
    "        image_path = os.path.join(dst_path, patient, 'images')\n",
    "        if os.path.exists(image_path):\n",
    "            shutil.rmtree(image_path)\n",
    "        os.mkdir(image_path)\n",
    "        for img in os.listdir(os.path.join(input_path, patient)):\n",
    "            if os.path.isfile(os.path.join(input_path, patient, img)):\n",
    "                shutil.move(os.path.join(input_path, patient, img), os.path.join(image_path, img))\n",
    "        os.rmdir(os.path.join(input_path, patient))\n",
    "    os.rmdir(input_path)\n",
    "    \n",
    "move_ori_image_to_sigle_folder('/nfs3-p1/zsxm/dataset/9_detect/2021-9-17-negative/', '/nfs3-p1/zsxm/dataset/aorta_ct_img_label/negative')\n",
    "move_ori_image_to_sigle_folder('/nfs3-p1/zsxm/dataset/9_detect/2021-9-29-negative/', '/nfs3-p1/zsxm/dataset/aorta_ct_img_label/negative')"
   ]
  },
  {
   "cell_type": "code",
   "execution_count": null,
   "id": "e44da286",
   "metadata": {
    "scrolled": true
   },
   "outputs": [],
   "source": [
    "# 将yolov5的检测结果（标签和带bounding box的图像）移动到相应文件夹\n",
    "def move_detect_result_to_folder(input_path, output_path):\n",
    "    for patient in os.listdir(input_path):\n",
    "        print(f'Processing {patient}')\n",
    "        image_path = os.path.join(output_path, patient, 'pred_images')\n",
    "        if os.path.exists(image_path):\n",
    "            shutil.rmtree(image_path)\n",
    "        os.mkdir(image_path)\n",
    "        for file in os.listdir(os.path.join(input_path, patient)):\n",
    "            if os.path.isfile(os.path.join(input_path, patient, file)):\n",
    "                shutil.move(os.path.join(input_path, patient, file), os.path.join(image_path, file))\n",
    "            elif os.path.isdir(os.path.join(input_path, patient, file)):\n",
    "                if os.path.exists(os.path.join(output_path, patient, file)):\n",
    "                    shutil.rmtree(os.path.join(output_path, patient, file))\n",
    "                shutil.move(os.path.join(input_path, patient, file), os.path.join(output_path, patient, file))\n",
    "        os.rmdir(os.path.join(input_path, patient))\n",
    "    os.rmdir(input_path)\n",
    "                \n",
    "move_detect_result_to_folder('/nfs3-p1/zsxm/dataset/9_detect/pred/2021-9-17-negative/', '/nfs3-p1/zsxm/dataset/aorta_ct_img_label/negative')\n",
    "move_detect_result_to_folder('/nfs3-p1/zsxm/dataset/9_detect/pred/2021-9-29-negative/', '/nfs3-p1/zsxm/dataset/aorta_ct_img_label/negative')"
   ]
  },
  {
   "cell_type": "code",
   "execution_count": 9,
   "id": "21f52558",
   "metadata": {
    "scrolled": true
   },
   "outputs": [
    {
     "name": "stdout",
     "output_type": "stream",
     "text": [
      "******Processing baimeizhu-27-37-54-136******\n",
      "******Processing baixiaoxu-22-31-52-147******\n",
      "******Processing baojinjia-17-21-35-83******\n",
      "******Processing baoxialin-23-34-57-158******\n",
      "******Processing baoyanzu-15-20-31-87******\n",
      "******Processing baoyanzu-21-25-42-93******\n",
      "******Processing bianyinqiao-31-38-59-137******\n",
      "******Processing bianzhaorong-17-22-38-92******\n"
     ]
    },
    {
     "name": "stderr",
     "output_type": "stream",
     "text": [
      "Traceback (most recent call last):\n",
      "  File \"/tmp/ipykernel_37540/3585996673.py\", line 44, in crop_images\n",
      "    x1, y1, x2, y2 = find_coordinate(*img.shape[0:2], os.path.join(label_path, f'{patient}_{i:04d}.txt'), 's')\n",
      "  File \"/tmp/ipykernel_37540/3585996673.py\", line 7, in find_coordinate\n",
      "    assert aorta == 'j', f'如果只有一个label那么此时应为降主动脉, 但实际为{aorta}：{label_file.split(\"/\")[-1]}'\n",
      "AssertionError: 如果只有一个label那么此时应为降主动脉, 但实际为s：bianzhaorong-17-22-38-92_0023.txt\n",
      "Traceback (most recent call last):\n",
      "  File \"/tmp/ipykernel_37540/3585996673.py\", line 44, in crop_images\n",
      "    x1, y1, x2, y2 = find_coordinate(*img.shape[0:2], os.path.join(label_path, f'{patient}_{i:04d}.txt'), 's')\n",
      "  File \"/tmp/ipykernel_37540/3585996673.py\", line 7, in find_coordinate\n",
      "    assert aorta == 'j', f'如果只有一个label那么此时应为降主动脉, 但实际为{aorta}：{label_file.split(\"/\")[-1]}'\n",
      "AssertionError: 如果只有一个label那么此时应为降主动脉, 但实际为s：bianzhaorong-17-22-38-92_0031.txt\n"
     ]
    },
    {
     "name": "stdout",
     "output_type": "stream",
     "text": [
      "******Processing caijinfei-34-42-51-155******\n"
     ]
    },
    {
     "name": "stderr",
     "output_type": "stream",
     "text": [
      "Traceback (most recent call last):\n",
      "  File \"/tmp/ipykernel_37540/3585996673.py\", line 67, in crop_images\n",
      "    x1, y1, x2, y2 = find_coordinate(*img.shape[0:2], os.path.join(label_path, f'{patient}_{i:04d}.txt'), 'j')\n",
      "  File \"/tmp/ipykernel_37540/3585996673.py\", line 3, in find_coordinate\n",
      "    with open(label_file, 'r') as f:\n",
      "FileNotFoundError: [Errno 2] No such file or directory: '/nfs3-p1/zsxm/dataset/aorta_ct_img_label/negative/caijinfei-34-42-51-155/labels/caijinfei-34-42-51-155_0115.txt'\n"
     ]
    },
    {
     "name": "stdout",
     "output_type": "stream",
     "text": [
      "******Processing caijingnan1-41-50-73-184******\n"
     ]
    },
    {
     "name": "stderr",
     "output_type": "stream",
     "text": [
      "Traceback (most recent call last):\n",
      "  File \"/tmp/ipykernel_37540/3585996673.py\", line 67, in crop_images\n",
      "    x1, y1, x2, y2 = find_coordinate(*img.shape[0:2], os.path.join(label_path, f'{patient}_{i:04d}.txt'), 'j')\n",
      "  File \"/tmp/ipykernel_37540/3585996673.py\", line 3, in find_coordinate\n",
      "    with open(label_file, 'r') as f:\n",
      "FileNotFoundError: [Errno 2] No such file or directory: '/nfs3-p1/zsxm/dataset/aorta_ct_img_label/negative/caijingnan1-41-50-73-184/labels/caijingnan1-41-50-73-184_0137.txt'\n",
      "Traceback (most recent call last):\n",
      "  File \"/tmp/ipykernel_37540/3585996673.py\", line 67, in crop_images\n",
      "    x1, y1, x2, y2 = find_coordinate(*img.shape[0:2], os.path.join(label_path, f'{patient}_{i:04d}.txt'), 'j')\n",
      "  File \"/tmp/ipykernel_37540/3585996673.py\", line 3, in find_coordinate\n",
      "    with open(label_file, 'r') as f:\n",
      "FileNotFoundError: [Errno 2] No such file or directory: '/nfs3-p1/zsxm/dataset/aorta_ct_img_label/negative/caijingnan1-41-50-73-184/labels/caijingnan1-41-50-73-184_0144.txt'\n",
      "Traceback (most recent call last):\n",
      "  File \"/tmp/ipykernel_37540/3585996673.py\", line 67, in crop_images\n",
      "    x1, y1, x2, y2 = find_coordinate(*img.shape[0:2], os.path.join(label_path, f'{patient}_{i:04d}.txt'), 'j')\n",
      "  File \"/tmp/ipykernel_37540/3585996673.py\", line 3, in find_coordinate\n",
      "    with open(label_file, 'r') as f:\n",
      "FileNotFoundError: [Errno 2] No such file or directory: '/nfs3-p1/zsxm/dataset/aorta_ct_img_label/negative/caijingnan1-41-50-73-184/labels/caijingnan1-41-50-73-184_0146.txt'\n"
     ]
    },
    {
     "name": "stdout",
     "output_type": "stream",
     "text": [
      "******Processing caiqishu-34-43-70-176******\n",
      "******Processing caishiping-18-24-34-85******\n",
      "******Processing caiyouzhe-14-18-32-83******\n",
      "******Processing caoyuxia-16-21-35-87******\n",
      "******Processing caoyuying-18-22-33-79******\n",
      "******Processing chenbin-20-26-35-85******\n",
      "******Processing chenchong-22-26-36-86******\n",
      "******Processing chendonghong-12-17-27-75******\n",
      "******Processing chenfugui-36-46-76-149******\n",
      "******Processing chengenye-13-18-28-79******\n",
      "******Processing chengshaoping-19-28-45-132******\n",
      "******Processing chengyahui-17-22-29-82******\n",
      "******Processing chengzhiqiang-33-41-67-159******\n"
     ]
    },
    {
     "name": "stderr",
     "output_type": "stream",
     "text": [
      "Traceback (most recent call last):\n",
      "  File \"/tmp/ipykernel_37540/3585996673.py\", line 44, in crop_images\n",
      "    x1, y1, x2, y2 = find_coordinate(*img.shape[0:2], os.path.join(label_path, f'{patient}_{i:04d}.txt'), 's')\n",
      "  File \"/tmp/ipykernel_37540/3585996673.py\", line 7, in find_coordinate\n",
      "    assert aorta == 'j', f'如果只有一个label那么此时应为降主动脉, 但实际为{aorta}：{label_file.split(\"/\")[-1]}'\n",
      "AssertionError: 如果只有一个label那么此时应为降主动脉, 但实际为s：chengzhiqiang-33-41-67-159_0057.txt\n",
      "Traceback (most recent call last):\n",
      "  File \"/tmp/ipykernel_37540/3585996673.py\", line 44, in crop_images\n",
      "    x1, y1, x2, y2 = find_coordinate(*img.shape[0:2], os.path.join(label_path, f'{patient}_{i:04d}.txt'), 's')\n",
      "  File \"/tmp/ipykernel_37540/3585996673.py\", line 7, in find_coordinate\n",
      "    assert aorta == 'j', f'如果只有一个label那么此时应为降主动脉, 但实际为{aorta}：{label_file.split(\"/\")[-1]}'\n",
      "AssertionError: 如果只有一个label那么此时应为降主动脉, 但实际为s：chengzhiqiang-33-41-67-159_0058.txt\n"
     ]
    },
    {
     "name": "stdout",
     "output_type": "stream",
     "text": [
      "******Processing chenjian-26-30-44-89******\n",
      "******Processing chenjianhua-14-17-32-80******\n",
      "******Processing chenjianjun-25-34-65-175******\n",
      "******Processing chenjianping-15-22-41-91******\n",
      "******Processing chenjingjing-38-47-67-184******\n"
     ]
    },
    {
     "name": "stderr",
     "output_type": "stream",
     "text": [
      "Traceback (most recent call last):\n",
      "  File \"/tmp/ipykernel_37540/3585996673.py\", line 44, in crop_images\n",
      "    x1, y1, x2, y2 = find_coordinate(*img.shape[0:2], os.path.join(label_path, f'{patient}_{i:04d}.txt'), 's')\n",
      "  File \"/tmp/ipykernel_37540/3585996673.py\", line 7, in find_coordinate\n",
      "    assert aorta == 'j', f'如果只有一个label那么此时应为降主动脉, 但实际为{aorta}：{label_file.split(\"/\")[-1]}'\n",
      "AssertionError: 如果只有一个label那么此时应为降主动脉, 但实际为s：chenjingjing-38-47-67-184_0061.txt\n"
     ]
    },
    {
     "name": "stdout",
     "output_type": "stream",
     "text": [
      "******Processing chenjinmei-12-17-34-80******\n",
      "******Processing chenjunbing-22-29-34-89******\n",
      "******Processing chenlidong-18-23-32-88******\n",
      "******Processing chenlindi-16-22-34-78******\n",
      "******Processing chenliuer-23-32-43-140******\n"
     ]
    },
    {
     "name": "stderr",
     "output_type": "stream",
     "text": [
      "Traceback (most recent call last):\n",
      "  File \"/tmp/ipykernel_37540/3585996673.py\", line 67, in crop_images\n",
      "    x1, y1, x2, y2 = find_coordinate(*img.shape[0:2], os.path.join(label_path, f'{patient}_{i:04d}.txt'), 'j')\n",
      "  File \"/tmp/ipykernel_37540/3585996673.py\", line 3, in find_coordinate\n",
      "    with open(label_file, 'r') as f:\n",
      "FileNotFoundError: [Errno 2] No such file or directory: '/nfs3-p1/zsxm/dataset/aorta_ct_img_label/negative/chenliuer-23-32-43-140/labels/chenliuer-23-32-43-140_0087.txt'\n",
      "Traceback (most recent call last):\n",
      "  File \"/tmp/ipykernel_37540/3585996673.py\", line 67, in crop_images\n",
      "    x1, y1, x2, y2 = find_coordinate(*img.shape[0:2], os.path.join(label_path, f'{patient}_{i:04d}.txt'), 'j')\n",
      "  File \"/tmp/ipykernel_37540/3585996673.py\", line 3, in find_coordinate\n",
      "    with open(label_file, 'r') as f:\n",
      "FileNotFoundError: [Errno 2] No such file or directory: '/nfs3-p1/zsxm/dataset/aorta_ct_img_label/negative/chenliuer-23-32-43-140/labels/chenliuer-23-32-43-140_0088.txt'\n",
      "Traceback (most recent call last):\n",
      "  File \"/tmp/ipykernel_37540/3585996673.py\", line 67, in crop_images\n",
      "    x1, y1, x2, y2 = find_coordinate(*img.shape[0:2], os.path.join(label_path, f'{patient}_{i:04d}.txt'), 'j')\n",
      "  File \"/tmp/ipykernel_37540/3585996673.py\", line 3, in find_coordinate\n",
      "    with open(label_file, 'r') as f:\n",
      "FileNotFoundError: [Errno 2] No such file or directory: '/nfs3-p1/zsxm/dataset/aorta_ct_img_label/negative/chenliuer-23-32-43-140/labels/chenliuer-23-32-43-140_0093.txt'\n",
      "Traceback (most recent call last):\n",
      "  File \"/tmp/ipykernel_37540/3585996673.py\", line 67, in crop_images\n",
      "    x1, y1, x2, y2 = find_coordinate(*img.shape[0:2], os.path.join(label_path, f'{patient}_{i:04d}.txt'), 'j')\n",
      "  File \"/tmp/ipykernel_37540/3585996673.py\", line 3, in find_coordinate\n",
      "    with open(label_file, 'r') as f:\n",
      "FileNotFoundError: [Errno 2] No such file or directory: '/nfs3-p1/zsxm/dataset/aorta_ct_img_label/negative/chenliuer-23-32-43-140/labels/chenliuer-23-32-43-140_0094.txt'\n",
      "Traceback (most recent call last):\n",
      "  File \"/tmp/ipykernel_37540/3585996673.py\", line 67, in crop_images\n",
      "    x1, y1, x2, y2 = find_coordinate(*img.shape[0:2], os.path.join(label_path, f'{patient}_{i:04d}.txt'), 'j')\n",
      "  File \"/tmp/ipykernel_37540/3585996673.py\", line 3, in find_coordinate\n",
      "    with open(label_file, 'r') as f:\n",
      "FileNotFoundError: [Errno 2] No such file or directory: '/nfs3-p1/zsxm/dataset/aorta_ct_img_label/negative/chenliuer-23-32-43-140/labels/chenliuer-23-32-43-140_0095.txt'\n",
      "Traceback (most recent call last):\n",
      "  File \"/tmp/ipykernel_37540/3585996673.py\", line 67, in crop_images\n",
      "    x1, y1, x2, y2 = find_coordinate(*img.shape[0:2], os.path.join(label_path, f'{patient}_{i:04d}.txt'), 'j')\n",
      "  File \"/tmp/ipykernel_37540/3585996673.py\", line 3, in find_coordinate\n",
      "    with open(label_file, 'r') as f:\n",
      "FileNotFoundError: [Errno 2] No such file or directory: '/nfs3-p1/zsxm/dataset/aorta_ct_img_label/negative/chenliuer-23-32-43-140/labels/chenliuer-23-32-43-140_0096.txt'\n",
      "Traceback (most recent call last):\n",
      "  File \"/tmp/ipykernel_37540/3585996673.py\", line 67, in crop_images\n",
      "    x1, y1, x2, y2 = find_coordinate(*img.shape[0:2], os.path.join(label_path, f'{patient}_{i:04d}.txt'), 'j')\n",
      "  File \"/tmp/ipykernel_37540/3585996673.py\", line 3, in find_coordinate\n",
      "    with open(label_file, 'r') as f:\n",
      "FileNotFoundError: [Errno 2] No such file or directory: '/nfs3-p1/zsxm/dataset/aorta_ct_img_label/negative/chenliuer-23-32-43-140/labels/chenliuer-23-32-43-140_0097.txt'\n",
      "Traceback (most recent call last):\n",
      "  File \"/tmp/ipykernel_37540/3585996673.py\", line 67, in crop_images\n",
      "    x1, y1, x2, y2 = find_coordinate(*img.shape[0:2], os.path.join(label_path, f'{patient}_{i:04d}.txt'), 'j')\n",
      "  File \"/tmp/ipykernel_37540/3585996673.py\", line 3, in find_coordinate\n",
      "    with open(label_file, 'r') as f:\n",
      "FileNotFoundError: [Errno 2] No such file or directory: '/nfs3-p1/zsxm/dataset/aorta_ct_img_label/negative/chenliuer-23-32-43-140/labels/chenliuer-23-32-43-140_0098.txt'\n",
      "Traceback (most recent call last):\n",
      "  File \"/tmp/ipykernel_37540/3585996673.py\", line 67, in crop_images\n",
      "    x1, y1, x2, y2 = find_coordinate(*img.shape[0:2], os.path.join(label_path, f'{patient}_{i:04d}.txt'), 'j')\n",
      "  File \"/tmp/ipykernel_37540/3585996673.py\", line 3, in find_coordinate\n",
      "    with open(label_file, 'r') as f:\n",
      "FileNotFoundError: [Errno 2] No such file or directory: '/nfs3-p1/zsxm/dataset/aorta_ct_img_label/negative/chenliuer-23-32-43-140/labels/chenliuer-23-32-43-140_0099.txt'\n",
      "Traceback (most recent call last):\n",
      "  File \"/tmp/ipykernel_37540/3585996673.py\", line 67, in crop_images\n",
      "    x1, y1, x2, y2 = find_coordinate(*img.shape[0:2], os.path.join(label_path, f'{patient}_{i:04d}.txt'), 'j')\n",
      "  File \"/tmp/ipykernel_37540/3585996673.py\", line 3, in find_coordinate\n",
      "    with open(label_file, 'r') as f:\n",
      "FileNotFoundError: [Errno 2] No such file or directory: '/nfs3-p1/zsxm/dataset/aorta_ct_img_label/negative/chenliuer-23-32-43-140/labels/chenliuer-23-32-43-140_0100.txt'\n",
      "Traceback (most recent call last):\n",
      "  File \"/tmp/ipykernel_37540/3585996673.py\", line 67, in crop_images\n",
      "    x1, y1, x2, y2 = find_coordinate(*img.shape[0:2], os.path.join(label_path, f'{patient}_{i:04d}.txt'), 'j')\n",
      "  File \"/tmp/ipykernel_37540/3585996673.py\", line 3, in find_coordinate\n",
      "    with open(label_file, 'r') as f:\n",
      "FileNotFoundError: [Errno 2] No such file or directory: '/nfs3-p1/zsxm/dataset/aorta_ct_img_label/negative/chenliuer-23-32-43-140/labels/chenliuer-23-32-43-140_0104.txt'\n",
      "Traceback (most recent call last):\n",
      "  File \"/tmp/ipykernel_37540/3585996673.py\", line 67, in crop_images\n",
      "    x1, y1, x2, y2 = find_coordinate(*img.shape[0:2], os.path.join(label_path, f'{patient}_{i:04d}.txt'), 'j')\n",
      "  File \"/tmp/ipykernel_37540/3585996673.py\", line 3, in find_coordinate\n",
      "    with open(label_file, 'r') as f:\n",
      "FileNotFoundError: [Errno 2] No such file or directory: '/nfs3-p1/zsxm/dataset/aorta_ct_img_label/negative/chenliuer-23-32-43-140/labels/chenliuer-23-32-43-140_0105.txt'\n",
      "Traceback (most recent call last):\n",
      "  File \"/tmp/ipykernel_37540/3585996673.py\", line 67, in crop_images\n",
      "    x1, y1, x2, y2 = find_coordinate(*img.shape[0:2], os.path.join(label_path, f'{patient}_{i:04d}.txt'), 'j')\n",
      "  File \"/tmp/ipykernel_37540/3585996673.py\", line 3, in find_coordinate\n",
      "    with open(label_file, 'r') as f:\n",
      "FileNotFoundError: [Errno 2] No such file or directory: '/nfs3-p1/zsxm/dataset/aorta_ct_img_label/negative/chenliuer-23-32-43-140/labels/chenliuer-23-32-43-140_0106.txt'\n",
      "Traceback (most recent call last):\n",
      "  File \"/tmp/ipykernel_37540/3585996673.py\", line 67, in crop_images\n",
      "    x1, y1, x2, y2 = find_coordinate(*img.shape[0:2], os.path.join(label_path, f'{patient}_{i:04d}.txt'), 'j')\n",
      "  File \"/tmp/ipykernel_37540/3585996673.py\", line 3, in find_coordinate\n",
      "    with open(label_file, 'r') as f:\n",
      "FileNotFoundError: [Errno 2] No such file or directory: '/nfs3-p1/zsxm/dataset/aorta_ct_img_label/negative/chenliuer-23-32-43-140/labels/chenliuer-23-32-43-140_0107.txt'\n"
     ]
    },
    {
     "name": "stdout",
     "output_type": "stream",
     "text": [
      "******Processing chenmaojin-14-20-31-90******\n",
      "******Processing chenpanyang-21-31-71-161******\n",
      "******Processing chenqiuying-13-17-30-78******\n",
      "******Processing chenruohui-22-30-41-133******\n",
      "******Processing chensaimu-34-44-78-166******\n",
      "******Processing chenshigen-19-25-34-83******\n",
      "******Processing chenweiqian-22-31-45-131******\n",
      "******Processing chenxiufen-17-21-34-82******\n",
      "******Processing chenyanli-20-23-34-80******\n"
     ]
    },
    {
     "name": "stderr",
     "output_type": "stream",
     "text": [
      "Traceback (most recent call last):\n",
      "  File \"/tmp/ipykernel_37540/3585996673.py\", line 67, in crop_images\n",
      "    x1, y1, x2, y2 = find_coordinate(*img.shape[0:2], os.path.join(label_path, f'{patient}_{i:04d}.txt'), 'j')\n",
      "  File \"/tmp/ipykernel_37540/3585996673.py\", line 3, in find_coordinate\n",
      "    with open(label_file, 'r') as f:\n",
      "FileNotFoundError: [Errno 2] No such file or directory: '/nfs3-p1/zsxm/dataset/aorta_ct_img_label/negative/chenyanli-20-23-34-80/labels/chenyanli-20-23-34-80_0066.txt'\n",
      "Traceback (most recent call last):\n",
      "  File \"/tmp/ipykernel_37540/3585996673.py\", line 67, in crop_images\n",
      "    x1, y1, x2, y2 = find_coordinate(*img.shape[0:2], os.path.join(label_path, f'{patient}_{i:04d}.txt'), 'j')\n",
      "  File \"/tmp/ipykernel_37540/3585996673.py\", line 3, in find_coordinate\n",
      "    with open(label_file, 'r') as f:\n",
      "FileNotFoundError: [Errno 2] No such file or directory: '/nfs3-p1/zsxm/dataset/aorta_ct_img_label/negative/chenyanli-20-23-34-80/labels/chenyanli-20-23-34-80_0067.txt'\n",
      "Traceback (most recent call last):\n",
      "  File \"/tmp/ipykernel_37540/3585996673.py\", line 67, in crop_images\n",
      "    x1, y1, x2, y2 = find_coordinate(*img.shape[0:2], os.path.join(label_path, f'{patient}_{i:04d}.txt'), 'j')\n",
      "  File \"/tmp/ipykernel_37540/3585996673.py\", line 3, in find_coordinate\n",
      "    with open(label_file, 'r') as f:\n",
      "FileNotFoundError: [Errno 2] No such file or directory: '/nfs3-p1/zsxm/dataset/aorta_ct_img_label/negative/chenyanli-20-23-34-80/labels/chenyanli-20-23-34-80_0069.txt'\n"
     ]
    },
    {
     "name": "stdout",
     "output_type": "stream",
     "text": [
      "******Processing chenyilin-21-26-36-86******\n",
      "******Processing chenyinfen-18-22-38-81******\n",
      "******Processing chenyonghu-24-32-48-141******\n",
      "******Processing cheshengying-25-34-64-139******\n",
      "******Processing daicaihu-22-27-34-85******\n",
      "******Processing daijiandong-28-39-50-160******\n",
      "******Processing daixiaofeng-27-38-56-141******\n",
      "******Processing dengdeyu-18-27-43-152******\n",
      "******Processing denghuibin-15-19-35-84******\n",
      "******Processing dingbinghai-20-24-45-95******\n"
     ]
    },
    {
     "name": "stderr",
     "output_type": "stream",
     "text": [
      "Traceback (most recent call last):\n",
      "  File \"/tmp/ipykernel_37540/3585996673.py\", line 67, in crop_images\n",
      "    x1, y1, x2, y2 = find_coordinate(*img.shape[0:2], os.path.join(label_path, f'{patient}_{i:04d}.txt'), 'j')\n",
      "  File \"/tmp/ipykernel_37540/3585996673.py\", line 3, in find_coordinate\n",
      "    with open(label_file, 'r') as f:\n",
      "FileNotFoundError: [Errno 2] No such file or directory: '/nfs3-p1/zsxm/dataset/aorta_ct_img_label/negative/dingbinghai-20-24-45-95/labels/dingbinghai-20-24-45-95_0074.txt'\n"
     ]
    },
    {
     "name": "stdout",
     "output_type": "stream",
     "text": [
      "******Processing dingshuigen-28-38-53-136******\n",
      "******Processing dongxingzhen-9-13-23-77******\n",
      "******Processing dongyonghong-14-19-34-85******\n",
      "******Processing dujinlian-17-20-36-82******\n",
      "******Processing duyangchun-16-22-31-90******\n",
      "******Processing fangchengfu-26-39-76-182******\n",
      "******Processing fangjinchai-19-23-31-81******\n",
      "******Processing fangrurong-16-25-55-132******\n",
      "******Processing fangyungen-14-18-34-75******\n",
      "******Processing fangzhengyi-26-37-53-153******\n"
     ]
    },
    {
     "name": "stderr",
     "output_type": "stream",
     "text": [
      "Traceback (most recent call last):\n",
      "  File \"/tmp/ipykernel_37540/3585996673.py\", line 67, in crop_images\n",
      "    x1, y1, x2, y2 = find_coordinate(*img.shape[0:2], os.path.join(label_path, f'{patient}_{i:04d}.txt'), 'j')\n",
      "  File \"/tmp/ipykernel_37540/3585996673.py\", line 13, in find_coordinate\n",
      "    assert 0.25 < corr1[1] < 0.75 and 0.2 < corr1[2] < 0.8, f'边界框1中心({corr1[1]}, {corr1[2]})出界：{label_file.split(\"/\")[-1]}'\n",
      "AssertionError: 边界框1中心(0.776367, 0.705078)出界：fangzhengyi-26-37-53-153_0123.txt\n",
      "Traceback (most recent call last):\n",
      "  File \"/tmp/ipykernel_37540/3585996673.py\", line 67, in crop_images\n",
      "    x1, y1, x2, y2 = find_coordinate(*img.shape[0:2], os.path.join(label_path, f'{patient}_{i:04d}.txt'), 'j')\n",
      "  File \"/tmp/ipykernel_37540/3585996673.py\", line 13, in find_coordinate\n",
      "    assert 0.25 < corr1[1] < 0.75 and 0.2 < corr1[2] < 0.8, f'边界框1中心({corr1[1]}, {corr1[2]})出界：{label_file.split(\"/\")[-1]}'\n",
      "AssertionError: 边界框1中心(0.776367, 0.704102)出界：fangzhengyi-26-37-53-153_0124.txt\n"
     ]
    },
    {
     "name": "stdout",
     "output_type": "stream",
     "text": [
      "******Processing fangzijian-19-30-50-153******\n",
      "******Processing fanshiming-15-20-30-83******\n",
      "******Processing fanxinghua-41-48-69-144******\n",
      "******Processing fengaiyuan-26-32-46-121******\n"
     ]
    },
    {
     "name": "stderr",
     "output_type": "stream",
     "text": [
      "Traceback (most recent call last):\n",
      "  File \"/tmp/ipykernel_37540/3585996673.py\", line 67, in crop_images\n",
      "    x1, y1, x2, y2 = find_coordinate(*img.shape[0:2], os.path.join(label_path, f'{patient}_{i:04d}.txt'), 'j')\n",
      "  File \"/tmp/ipykernel_37540/3585996673.py\", line 3, in find_coordinate\n",
      "    with open(label_file, 'r') as f:\n",
      "FileNotFoundError: [Errno 2] No such file or directory: '/nfs3-p1/zsxm/dataset/aorta_ct_img_label/negative/fengaiyuan-26-32-46-121/labels/fengaiyuan-26-32-46-121_0099.txt'\n",
      "Traceback (most recent call last):\n",
      "  File \"/tmp/ipykernel_37540/3585996673.py\", line 67, in crop_images\n",
      "    x1, y1, x2, y2 = find_coordinate(*img.shape[0:2], os.path.join(label_path, f'{patient}_{i:04d}.txt'), 'j')\n",
      "  File \"/tmp/ipykernel_37540/3585996673.py\", line 3, in find_coordinate\n",
      "    with open(label_file, 'r') as f:\n",
      "FileNotFoundError: [Errno 2] No such file or directory: '/nfs3-p1/zsxm/dataset/aorta_ct_img_label/negative/fengaiyuan-26-32-46-121/labels/fengaiyuan-26-32-46-121_0100.txt'\n",
      "Traceback (most recent call last):\n",
      "  File \"/tmp/ipykernel_37540/3585996673.py\", line 67, in crop_images\n",
      "    x1, y1, x2, y2 = find_coordinate(*img.shape[0:2], os.path.join(label_path, f'{patient}_{i:04d}.txt'), 'j')\n",
      "  File \"/tmp/ipykernel_37540/3585996673.py\", line 3, in find_coordinate\n",
      "    with open(label_file, 'r') as f:\n",
      "FileNotFoundError: [Errno 2] No such file or directory: '/nfs3-p1/zsxm/dataset/aorta_ct_img_label/negative/fengaiyuan-26-32-46-121/labels/fengaiyuan-26-32-46-121_0101.txt'\n",
      "Traceback (most recent call last):\n",
      "  File \"/tmp/ipykernel_37540/3585996673.py\", line 67, in crop_images\n",
      "    x1, y1, x2, y2 = find_coordinate(*img.shape[0:2], os.path.join(label_path, f'{patient}_{i:04d}.txt'), 'j')\n",
      "  File \"/tmp/ipykernel_37540/3585996673.py\", line 3, in find_coordinate\n",
      "    with open(label_file, 'r') as f:\n",
      "FileNotFoundError: [Errno 2] No such file or directory: '/nfs3-p1/zsxm/dataset/aorta_ct_img_label/negative/fengaiyuan-26-32-46-121/labels/fengaiyuan-26-32-46-121_0102.txt'\n",
      "Traceback (most recent call last):\n",
      "  File \"/tmp/ipykernel_37540/3585996673.py\", line 67, in crop_images\n",
      "    x1, y1, x2, y2 = find_coordinate(*img.shape[0:2], os.path.join(label_path, f'{patient}_{i:04d}.txt'), 'j')\n",
      "  File \"/tmp/ipykernel_37540/3585996673.py\", line 3, in find_coordinate\n",
      "    with open(label_file, 'r') as f:\n",
      "FileNotFoundError: [Errno 2] No such file or directory: '/nfs3-p1/zsxm/dataset/aorta_ct_img_label/negative/fengaiyuan-26-32-46-121/labels/fengaiyuan-26-32-46-121_0104.txt'\n"
     ]
    },
    {
     "name": "stdout",
     "output_type": "stream",
     "text": [
      "******Processing fengdayan-30-38-69-146******\n",
      "******Processing fengqiufen-14-19-27-75******\n",
      "******Processing fubaohua-30-41-62-149******\n",
      "******Processing fudianqin-15-19-33-78******\n",
      "******Processing fudiyang-22-30-46-128******\n",
      "******Processing fuhongliang-14-22-33-154******\n",
      "******Processing fujingjing-24-32-39-127******\n",
      "******Processing gaoanhui-17-22-31-85******\n",
      "******Processing gaoqigen-36-45-63-148******\n",
      "******Processing gaowenfu-16-26-50-141******\n",
      "******Processing gaozhaocheng-19-26-42-90******\n",
      "******Processing gegaocai-20-24-32-88******\n",
      "******Processing gejinhua-21-26-35-82******\n",
      "******Processing geqingqing-33-41-68-169******\n",
      "******Processing gezhenghua-15-19-34-88******\n",
      "******Processing gezhidong-21-27-38-93******\n",
      "******Processing guohao-25-30-38-94******\n",
      "******Processing guoyafang-24-29-52-136******\n",
      "******Processing hanjinxiao-31-43-80-183******\n",
      "******Processing hanshufang-28-35-53-137******\n",
      "******Processing hanweijie-19-25-37-90******\n",
      "******Processing hebaomin-28-37-54-145******\n",
      "******Processing heguansheng-15-20-43-92******\n",
      "******Processing henglangye-15-20-25-83******\n",
      "******Processing hexiena-18-22-38-82******\n",
      "******Processing hongxia-17-34-43-122******\n",
      "******Processing huangguixian-24-28-45-101******\n"
     ]
    },
    {
     "name": "stderr",
     "output_type": "stream",
     "text": [
      "Traceback (most recent call last):\n",
      "  File \"/tmp/ipykernel_37540/3585996673.py\", line 44, in crop_images\n",
      "    x1, y1, x2, y2 = find_coordinate(*img.shape[0:2], os.path.join(label_path, f'{patient}_{i:04d}.txt'), 's')\n",
      "  File \"/tmp/ipykernel_37540/3585996673.py\", line 7, in find_coordinate\n",
      "    assert aorta == 'j', f'如果只有一个label那么此时应为降主动脉, 但实际为{aorta}：{label_file.split(\"/\")[-1]}'\n",
      "AssertionError: 如果只有一个label那么此时应为降主动脉, 但实际为s：huangguixian-24-28-45-101_0032.txt\n",
      "Traceback (most recent call last):\n",
      "  File \"/tmp/ipykernel_37540/3585996673.py\", line 44, in crop_images\n",
      "    x1, y1, x2, y2 = find_coordinate(*img.shape[0:2], os.path.join(label_path, f'{patient}_{i:04d}.txt'), 's')\n",
      "  File \"/tmp/ipykernel_37540/3585996673.py\", line 7, in find_coordinate\n",
      "    assert aorta == 'j', f'如果只有一个label那么此时应为降主动脉, 但实际为{aorta}：{label_file.split(\"/\")[-1]}'\n",
      "AssertionError: 如果只有一个label那么此时应为降主动脉, 但实际为s：huangguixian-24-28-45-101_0033.txt\n"
     ]
    },
    {
     "name": "stdout",
     "output_type": "stream",
     "text": [
      "******Processing huanghuaide-23-34-57-153******\n",
      "******Processing huangjiabao-22-27-33-53******\n",
      "******Processing huangjuzhen-13-17-29-77******\n"
     ]
    },
    {
     "name": "stderr",
     "output_type": "stream",
     "text": [
      "Traceback (most recent call last):\n",
      "  File \"/tmp/ipykernel_37540/3585996673.py\", line 44, in crop_images\n",
      "    x1, y1, x2, y2 = find_coordinate(*img.shape[0:2], os.path.join(label_path, f'{patient}_{i:04d}.txt'), 's')\n",
      "  File \"/tmp/ipykernel_37540/3585996673.py\", line 7, in find_coordinate\n",
      "    assert aorta == 'j', f'如果只有一个label那么此时应为降主动脉, 但实际为{aorta}：{label_file.split(\"/\")[-1]}'\n",
      "AssertionError: 如果只有一个label那么此时应为降主动脉, 但实际为s：huangjuzhen-13-17-29-77_0024.txt\n"
     ]
    },
    {
     "name": "stdout",
     "output_type": "stream",
     "text": [
      "******Processing huanglongsheng-23-28-46-92******\n",
      "******Processing huangweigen-24-32-62-138******\n",
      "******Processing huangxiang-22-26-42-84******\n",
      "******Processing huangxuena-17-22-27-75******\n",
      "******Processing huangzhanzhang-25-33-46-134******\n",
      "******Processing huangzhaoxun-29-41-62-152******\n"
     ]
    },
    {
     "name": "stderr",
     "output_type": "stream",
     "text": [
      "Traceback (most recent call last):\n",
      "  File \"/tmp/ipykernel_37540/3585996673.py\", line 67, in crop_images\n",
      "    x1, y1, x2, y2 = find_coordinate(*img.shape[0:2], os.path.join(label_path, f'{patient}_{i:04d}.txt'), 'j')\n",
      "  File \"/tmp/ipykernel_37540/3585996673.py\", line 4, in find_coordinate\n",
      "    lines = f.readlines()\n",
      "KeyboardInterrupt\n"
     ]
    },
    {
     "name": "stdout",
     "output_type": "stream",
     "text": [
      "******Processing huaweiqin-15-25-33-77******\n",
      "******Processing hukaipin-29-39-73-159******\n",
      "******Processing humingdong-18-22-29-85******\n",
      "******Processing huxiangxin-19-24-34-86******\n",
      "******Processing huxianhua-32-41-55-143******\n",
      "******Processing huyongxian-18-25-38-88******\n"
     ]
    },
    {
     "ename": "KeyboardInterrupt",
     "evalue": "",
     "output_type": "error",
     "traceback": [
      "\u001b[0;31m---------------------------------------------------------------------------\u001b[0m",
      "\u001b[0;31mKeyboardInterrupt\u001b[0m                         Traceback (most recent call last)",
      "\u001b[0;32m/tmp/ipykernel_37540/3585996673.py\u001b[0m in \u001b[0;36m<module>\u001b[0;34m\u001b[0m\n\u001b[1;32m     79\u001b[0m \u001b[0;34m\u001b[0m\u001b[0m\n\u001b[1;32m     80\u001b[0m \u001b[0mepl1\u001b[0m \u001b[0;34m=\u001b[0m \u001b[0;34m[\u001b[0m\u001b[0;34m]\u001b[0m\u001b[0;34m\u001b[0m\u001b[0;34m\u001b[0m\u001b[0m\n\u001b[0;32m---> 81\u001b[0;31m \u001b[0mcrop_images\u001b[0m\u001b[0;34m(\u001b[0m\u001b[0;34m'/nfs3-p1/zsxm/dataset/aorta_ct_img_label/negative'\u001b[0m\u001b[0;34m,\u001b[0m \u001b[0mepl1\u001b[0m\u001b[0;34m)\u001b[0m\u001b[0;34m\u001b[0m\u001b[0;34m\u001b[0m\u001b[0m\n\u001b[0m",
      "\u001b[0;32m/tmp/ipykernel_37540/3585996673.py\u001b[0m in \u001b[0;36mcrop_images\u001b[0;34m(input_path, error_patient_list)\u001b[0m\n\u001b[1;32m     63\u001b[0m         \u001b[0;32mfor\u001b[0m \u001b[0mi\u001b[0m \u001b[0;32min\u001b[0m \u001b[0mrange\u001b[0m\u001b[0;34m(\u001b[0m\u001b[0mstart\u001b[0m\u001b[0;34m,\u001b[0m \u001b[0mend\u001b[0m\u001b[0;34m)\u001b[0m\u001b[0;34m:\u001b[0m\u001b[0;34m\u001b[0m\u001b[0;34m\u001b[0m\u001b[0m\n\u001b[1;32m     64\u001b[0m             \u001b[0mimg\u001b[0m \u001b[0;34m=\u001b[0m \u001b[0mImage\u001b[0m\u001b[0;34m.\u001b[0m\u001b[0mopen\u001b[0m\u001b[0;34m(\u001b[0m\u001b[0mos\u001b[0m\u001b[0;34m.\u001b[0m\u001b[0mpath\u001b[0m\u001b[0;34m.\u001b[0m\u001b[0mjoin\u001b[0m\u001b[0;34m(\u001b[0m\u001b[0mimage_path\u001b[0m\u001b[0;34m,\u001b[0m \u001b[0;34mf'{patient}_{i:04d}.png'\u001b[0m\u001b[0;34m)\u001b[0m\u001b[0;34m)\u001b[0m\u001b[0;34m\u001b[0m\u001b[0;34m\u001b[0m\u001b[0m\n\u001b[0;32m---> 65\u001b[0;31m             \u001b[0mimg\u001b[0m \u001b[0;34m=\u001b[0m \u001b[0mnp\u001b[0m\u001b[0;34m.\u001b[0m\u001b[0marray\u001b[0m\u001b[0;34m(\u001b[0m\u001b[0mimg\u001b[0m\u001b[0;34m)\u001b[0m\u001b[0;34m\u001b[0m\u001b[0;34m\u001b[0m\u001b[0m\n\u001b[0m\u001b[1;32m     66\u001b[0m             \u001b[0;32mtry\u001b[0m\u001b[0;34m:\u001b[0m\u001b[0;34m\u001b[0m\u001b[0;34m\u001b[0m\u001b[0m\n\u001b[1;32m     67\u001b[0m                 \u001b[0mx1\u001b[0m\u001b[0;34m,\u001b[0m \u001b[0my1\u001b[0m\u001b[0;34m,\u001b[0m \u001b[0mx2\u001b[0m\u001b[0;34m,\u001b[0m \u001b[0my2\u001b[0m \u001b[0;34m=\u001b[0m \u001b[0mfind_coordinate\u001b[0m\u001b[0;34m(\u001b[0m\u001b[0;34m*\u001b[0m\u001b[0mimg\u001b[0m\u001b[0;34m.\u001b[0m\u001b[0mshape\u001b[0m\u001b[0;34m[\u001b[0m\u001b[0;36m0\u001b[0m\u001b[0;34m:\u001b[0m\u001b[0;36m2\u001b[0m\u001b[0;34m]\u001b[0m\u001b[0;34m,\u001b[0m \u001b[0mos\u001b[0m\u001b[0;34m.\u001b[0m\u001b[0mpath\u001b[0m\u001b[0;34m.\u001b[0m\u001b[0mjoin\u001b[0m\u001b[0;34m(\u001b[0m\u001b[0mlabel_path\u001b[0m\u001b[0;34m,\u001b[0m \u001b[0;34mf'{patient}_{i:04d}.txt'\u001b[0m\u001b[0;34m)\u001b[0m\u001b[0;34m,\u001b[0m \u001b[0;34m'j'\u001b[0m\u001b[0;34m)\u001b[0m\u001b[0;34m\u001b[0m\u001b[0;34m\u001b[0m\u001b[0m\n",
      "\u001b[0;32m~/miniconda3/envs/pytorch/lib/python3.8/site-packages/PIL/Image.py\u001b[0m in \u001b[0;36m__array__\u001b[0;34m(self, dtype)\u001b[0m\n\u001b[1;32m    696\u001b[0m             \u001b[0mnew\u001b[0m\u001b[0;34m[\u001b[0m\u001b[0;34m\"data\"\u001b[0m\u001b[0;34m]\u001b[0m \u001b[0;34m=\u001b[0m \u001b[0mself\u001b[0m\u001b[0;34m.\u001b[0m\u001b[0mtobytes\u001b[0m\u001b[0;34m(\u001b[0m\u001b[0;34m\"raw\"\u001b[0m\u001b[0;34m,\u001b[0m \u001b[0;34m\"L\"\u001b[0m\u001b[0;34m)\u001b[0m\u001b[0;34m\u001b[0m\u001b[0;34m\u001b[0m\u001b[0m\n\u001b[1;32m    697\u001b[0m         \u001b[0;32melse\u001b[0m\u001b[0;34m:\u001b[0m\u001b[0;34m\u001b[0m\u001b[0;34m\u001b[0m\u001b[0m\n\u001b[0;32m--> 698\u001b[0;31m             \u001b[0mnew\u001b[0m\u001b[0;34m[\u001b[0m\u001b[0;34m\"data\"\u001b[0m\u001b[0;34m]\u001b[0m \u001b[0;34m=\u001b[0m \u001b[0mself\u001b[0m\u001b[0;34m.\u001b[0m\u001b[0mtobytes\u001b[0m\u001b[0;34m(\u001b[0m\u001b[0;34m)\u001b[0m\u001b[0;34m\u001b[0m\u001b[0;34m\u001b[0m\u001b[0m\n\u001b[0m\u001b[1;32m    699\u001b[0m \u001b[0;34m\u001b[0m\u001b[0m\n\u001b[1;32m    700\u001b[0m         \u001b[0;32mclass\u001b[0m \u001b[0mArrayData\u001b[0m\u001b[0;34m:\u001b[0m\u001b[0;34m\u001b[0m\u001b[0;34m\u001b[0m\u001b[0m\n",
      "\u001b[0;32m~/miniconda3/envs/pytorch/lib/python3.8/site-packages/PIL/Image.py\u001b[0m in \u001b[0;36mtobytes\u001b[0;34m(self, encoder_name, *args)\u001b[0m\n\u001b[1;32m    742\u001b[0m             \u001b[0margs\u001b[0m \u001b[0;34m=\u001b[0m \u001b[0mself\u001b[0m\u001b[0;34m.\u001b[0m\u001b[0mmode\u001b[0m\u001b[0;34m\u001b[0m\u001b[0;34m\u001b[0m\u001b[0m\n\u001b[1;32m    743\u001b[0m \u001b[0;34m\u001b[0m\u001b[0m\n\u001b[0;32m--> 744\u001b[0;31m         \u001b[0mself\u001b[0m\u001b[0;34m.\u001b[0m\u001b[0mload\u001b[0m\u001b[0;34m(\u001b[0m\u001b[0;34m)\u001b[0m\u001b[0;34m\u001b[0m\u001b[0;34m\u001b[0m\u001b[0m\n\u001b[0m\u001b[1;32m    745\u001b[0m \u001b[0;34m\u001b[0m\u001b[0m\n\u001b[1;32m    746\u001b[0m         \u001b[0;31m# unpack data\u001b[0m\u001b[0;34m\u001b[0m\u001b[0;34m\u001b[0m\u001b[0;34m\u001b[0m\u001b[0m\n",
      "\u001b[0;32m~/miniconda3/envs/pytorch/lib/python3.8/site-packages/PIL/ImageFile.py\u001b[0m in \u001b[0;36mload\u001b[0;34m(self)\u001b[0m\n\u001b[1;32m    253\u001b[0m \u001b[0;34m\u001b[0m\u001b[0m\n\u001b[1;32m    254\u001b[0m                             \u001b[0mb\u001b[0m \u001b[0;34m=\u001b[0m \u001b[0mb\u001b[0m \u001b[0;34m+\u001b[0m \u001b[0ms\u001b[0m\u001b[0;34m\u001b[0m\u001b[0;34m\u001b[0m\u001b[0m\n\u001b[0;32m--> 255\u001b[0;31m                             \u001b[0mn\u001b[0m\u001b[0;34m,\u001b[0m \u001b[0merr_code\u001b[0m \u001b[0;34m=\u001b[0m \u001b[0mdecoder\u001b[0m\u001b[0;34m.\u001b[0m\u001b[0mdecode\u001b[0m\u001b[0;34m(\u001b[0m\u001b[0mb\u001b[0m\u001b[0;34m)\u001b[0m\u001b[0;34m\u001b[0m\u001b[0;34m\u001b[0m\u001b[0m\n\u001b[0m\u001b[1;32m    256\u001b[0m                             \u001b[0;32mif\u001b[0m \u001b[0mn\u001b[0m \u001b[0;34m<\u001b[0m \u001b[0;36m0\u001b[0m\u001b[0;34m:\u001b[0m\u001b[0;34m\u001b[0m\u001b[0;34m\u001b[0m\u001b[0m\n\u001b[1;32m    257\u001b[0m                                 \u001b[0;32mbreak\u001b[0m\u001b[0;34m\u001b[0m\u001b[0;34m\u001b[0m\u001b[0m\n",
      "\u001b[0;31mKeyboardInterrupt\u001b[0m: "
     ]
    }
   ],
   "source": [
    "# 切出主动脉,这里有问题啊，branch_end前后0.3的切片切不出来，建议以后更改为和下面一样的方案\n",
    "def find_coordinate(height, width, label_file, aorta):\n",
    "    with open(label_file, 'r') as f:\n",
    "        lines = f.readlines()\n",
    "    assert len(lines) <= 2, f'label.txt应该存储不多于2个label：{label_file.split(\"/\")[-1]}'\n",
    "    if len(lines) == 1:\n",
    "        assert aorta == 'j', f'如果只有一个label那么此时应为降主动脉, 但实际为{aorta}：{label_file.split(\"/\")[-1]}'\n",
    "        corr = list(map(lambda x: float(x), lines[0].split()))\n",
    "        x, y, w, h = corr[1], corr[2], corr[3], corr[4]\n",
    "        assert 0.25 < x < 0.75 and 0.2 < y < 0.8, f'边界框中心({x}, {y})出界：{label_file.split(\"/\")[-1]}'\n",
    "    else:\n",
    "        corr1, corr2 = list(map(lambda x: float(x), lines[0].split())), list(map(lambda x: float(x), lines[1].split()))\n",
    "        assert 0.25 < corr1[1] < 0.75 and 0.2 < corr1[2] < 0.8, f'边界框1中心({corr1[1]}, {corr1[2]})出界：{label_file.split(\"/\")[-1]}'\n",
    "        assert 0.25 < corr2[1] < 0.75 and 0.2 < corr2[2] < 0.8, f'边界框2中心({corr2[1]}, {corr2[2]})出界：{label_file.split(\"/\")[-1]}'\n",
    "        if aorta == 's':\n",
    "            x, y, w, h = (corr1[1], corr1[2], corr1[3], corr1[4]) if corr1[2] < corr2[2] else (corr2[1], corr2[2], corr2[3], corr2[4])\n",
    "        elif aorta == 'j':\n",
    "            x, y, w, h = (corr1[1], corr1[2], corr1[3], corr1[4]) if corr1[2] > corr2[2] else (corr2[1], corr2[2], corr2[3], corr2[4])\n",
    "        else:\n",
    "            raise Exception(f'aorta 应该为\"s\"或\"j\"其中之一: {label_file.split(\"/\")[-1]}')\n",
    "    w, h = int(width*w), int(height*h)\n",
    "    w, h = max(w, h), max(w, h)\n",
    "    return int(width*x-w/2), int(height*y-h/2), int(width*x+w/2+1), int(height*y+h/2+1)\n",
    "\n",
    "def crop_images(input_path, error_patient_list):\n",
    "    for patient in sorted(os.listdir(input_path)):\n",
    "        print(f'******Processing {patient}******')\n",
    "        image_path = os.path.join(input_path, patient, 'images')\n",
    "        label_path = os.path.join(input_path, patient, 'labels')\n",
    "        crop_path = os.path.join(input_path, patient, 'crops')\n",
    "        if os.path.exists(crop_path):\n",
    "            shutil.rmtree(crop_path)\n",
    "        os.mkdir(crop_path)\n",
    "        pl = patient.split('-')\n",
    "        assert len(pl) == 5\n",
    "        aorta_start, branch_start, branch_end, aorta_end = int(pl[1])-1, int(pl[2])-1, int(pl[3])-1, int(pl[4])-1\n",
    "        crop_flag = True\n",
    "        offset = branch_end - branch_start\n",
    "        start, end = branch_start + int(0.1*offset), branch_end - int(0.2*offset)\n",
    "        for i in range(start, end):\n",
    "            img = Image.open(os.path.join(image_path, f'{patient}_{i:04d}.png'))\n",
    "            img = np.array(img)\n",
    "            try:\n",
    "                x1, y1, x2, y2 = find_coordinate(*img.shape[0:2], os.path.join(label_path, f'{patient}_{i:04d}.txt'), 's')\n",
    "            except:\n",
    "                traceback.print_exc()\n",
    "                crop_flag = False\n",
    "            else:#if crop_flag:\n",
    "                crop = img[y1:y2, x1:x2]\n",
    "                crop = Image.fromarray(crop)\n",
    "                crop.save(os.path.join(crop_path, f'{patient}_s_{i:04d}.png'))\n",
    "            try:\n",
    "                x1, y1, x2, y2 = find_coordinate(*img.shape[0:2], os.path.join(label_path, f'{patient}_{i:04d}.txt'), 'j')\n",
    "            except:\n",
    "                traceback.print_exc()\n",
    "                crop_flag = False\n",
    "            else:#if crop_flag:\n",
    "                crop = img[y1:y2, x1:x2]\n",
    "                crop = Image.fromarray(crop)\n",
    "                crop.save(os.path.join(crop_path, f'{patient}_j_{i:04d}.png'))\n",
    "        offset = aorta_end - branch_end\n",
    "        start, end = branch_end + int(0.1*offset), aorta_end - int(0.2*offset)\n",
    "        for i in range(start, end):\n",
    "            img = Image.open(os.path.join(image_path, f'{patient}_{i:04d}.png'))\n",
    "            img = np.array(img)\n",
    "            try:\n",
    "                x1, y1, x2, y2 = find_coordinate(*img.shape[0:2], os.path.join(label_path, f'{patient}_{i:04d}.txt'), 'j')\n",
    "            except:\n",
    "                traceback.print_exc()\n",
    "                crop_flag = False\n",
    "            else:#if crop_flag:\n",
    "                crop = img[y1:y2, x1:x2]\n",
    "                crop = Image.fromarray(crop)\n",
    "                crop.save(os.path.join(crop_path, f'{patient}_j_{i:04d}.png')) \n",
    "        if not crop_flag:\n",
    "            #print('Delete crop_path')\n",
    "            #shutil.rmtree(crop_path)\n",
    "            error_patient_list.append(patient)\n",
    "            \n",
    "epl1 = []\n",
    "crop_images('/nfs3-p1/zsxm/dataset/aorta_ct_img_label/negative', epl1)"
   ]
  },
  {
   "cell_type": "code",
   "execution_count": 12,
   "id": "513a9ba1",
   "metadata": {},
   "outputs": [
    {
     "name": "stdout",
     "output_type": "stream",
     "text": [
      "347\n",
      "['baojinjia-17-21-35-83', 'baoyanzu-15-20-31-87', 'baoyanzu-21-25-42-93', 'bianyinqiao-31-38-59-137', 'bianzhaorong-17-22-38-92', 'caijinfei-34-42-51-155', 'caijingnan1-41-50-73-184', 'caishiping-18-24-34-85', 'caiyouzhe-14-18-32-83', 'caoyuxia-16-21-35-87', 'caoyuying-18-22-33-79', 'chenbin-20-26-35-85', 'chenchong-22-26-36-86', 'chendonghong-12-17-27-75', 'chengenye-13-18-28-79', 'chengshaoping-19-28-45-132', 'chengyahui-17-22-29-82', 'chengzhiqiang-33-41-67-159', 'chenjian-26-30-44-89', 'chenjianhua-14-17-32-80', 'chenjianping-15-22-41-91', 'chenjingjing-38-47-67-184', 'chenjinmei-12-17-34-80', 'chenjunbing-22-29-34-89', 'chenlidong-18-23-32-88', 'chenliuer-23-32-43-140', 'chenmaojin-14-20-31-90', 'chenqiuying-13-17-30-78', 'chenshigen-19-25-34-83', 'chenweiqian-22-31-45-131', 'chenxiufen-17-21-34-82', 'chenyanli-20-23-34-80', 'chenyinfen-18-22-38-81', 'chenyonghu-24-32-48-141', 'daicaihu-22-27-34-85', 'denghuibin-15-19-35-84', 'dingbinghai-20-24-45-95', 'dongxingzhen-9-13-23-77', 'dongyonghong-14-19-34-85', 'dujinlian-17-20-36-82', 'duyangchun-16-22-31-90', 'fangjinchai-19-23-31-81', 'fangyungen-14-18-34-75', 'fangzhengyi-26-37-53-153', 'fanshiming-15-20-30-83', 'fanxinghua-41-48-69-144', 'fengaiyuan-26-32-46-121', 'fengqiufen-14-19-27-75', 'fudianqin-15-19-33-78', 'fudiyang-22-30-46-128', 'fuhongliang-14-22-33-154', 'fujingjing-24-32-39-127', 'gaoanhui-17-22-31-85', 'gaoqigen-36-45-63-148', 'gaozhaocheng-19-26-42-90', 'gegaocai-20-24-32-88', 'gejinhua-21-26-35-82', 'geqingqing-33-41-68-169', 'gezhenghua-15-19-34-88', 'gezhidong-21-27-38-93', 'guohao-25-30-38-94', 'hanweijie-19-25-37-90', 'hebaomin-28-37-54-145', 'heguansheng-15-20-43-92', 'henglangye-15-20-25-83', 'hexiena-18-22-38-82', 'hongxia-17-34-43-122', 'huangguixian-24-28-45-101', 'huangjiabao-22-27-33-53', 'huangjuzhen-13-17-29-77', 'huanglongsheng-23-28-46-92', 'huangxiang-22-26-42-84', 'huangxuena-17-22-27-75', 'huangzhanzhang-25-33-46-134', 'hukaipin-29-39-73-159', 'humingdong-18-22-29-85', 'huxiangxin-19-24-34-86', 'huxianhua-32-41-55-143', 'huyongxian-18-25-38-88', 'huyunhua-15-20-28-78', 'jiangchengsan-25-34-50-133', 'jiangguanshui-16-21-31-85', 'jiangjianrong-16-21-31-82', 'jiangjiaqi-23-30-39-140', 'jiangshengfang-19-23-34-79', 'jiangxiangzhong-15-20-29-83', 'jiangyuxiang-15-19-37-83', 'jiangzhuxian-10-16-24-75', 'jinaixiang-34-41-63-149', 'jinangui-17-21-37-81', 'jingchunya-12-17-25-82', 'jinjianrong-19-24-32-86', 'jinruiyue-13-18-28-80', 'jinshuigen-18-23-36-79', 'jinyongfa-25-29-37-92', 'jinzhaoxiang-28-37-55-126', 'kerengang-25-30-41-91', 'kongfansheng-20-26-38-87', 'kongxiangwen-12-18-32-86', 'laijinhu-14-21-34-83', 'liangzhenwei-16-20-39-92', 'liaoxiuhua-36-44-55-144', 'lidanfa-11-16-34-72', 'lideming-16-23-43-90', 'lidong-16-21-25-83', 'lifengyun-8-16-35-81', 'liguoyong-26-35-57-150', 'lihonggang-13-18-33-88', 'lihongmei-11-16-33-83', 'lijunhua-15-21-27-82', 'linaizhen-23-31-58-144', 'lining-17-21-28-81', 'linshangjin-15-19-36-81', 'linyaoqin-15-20-30-89', 'liqiang-17-22-27-83', 'lirongchang-13-17-27-86', 'lishengfu-19-25-37-95', 'lisucheng-22-26-36-89', 'liulixuan-16-22-27-87', 'liulunyong-26-35-49-155', 'liutongkang-12-18-25-84', 'liuwangyang-19-24-32-87', 'lixian-19-24-32-83', 'lixiaolang-17-21-30-83', 'lixiebing-17-20-37-87', 'liyingsheng-13-17-34-87', 'liyongjian-16-22-31-86', 'liyunbo-21-28-45-150', 'liyunkun-29-33-51-99', 'lizufu-21-26-42-93', 'longyingdong-21-25-40-99', 'loucaidi-26-35-63-154', 'loudinghong-18-22-39-93', 'lucaifa-25-34-62-147', 'luguiyun-10-16-27-82', 'luguojing-27-36-47-141', 'lujuquan-25-35-50-126', 'lumin-13-17-34-85', 'luojun-22-29-51-139', 'luoshuijin-15-19-35-74', 'luqiaoling-12-17-26-73', 'luweiqing-16-20-37-93', 'luwenjun-20-30-44-141', 'luyuefeng-24-28-40-94', 'lvnanxian-17-23-32-84', 'lvyundi-29-36-45-131', 'mahuiwu-10-14-23-84', 'majiangen-17-22-34-87', 'malingfeng-12-17-32-75', 'maoshuijuan-12-17-23-80', 'mawei-15-20-28-85', 'nabuqi-13-18-26-79', 'ningjiangui-18-23-30-83', 'nisixiang-11-17-25-81', 'panandan-16-21-31-81', 'panming-17-22-30-90', 'panxiangyang-45-53-97-196', 'panyuda-29-36-52-102', 'pengyufei-31-39-51-154', 'puchenhu-18-21-33-89', 'puguanghui-12-18-25-74', 'qianaqin-18-26-52-141', 'qianliujiu-9-15-24-75', 'qihuazhong-16-20-29-82', 'qiuwei-31-39-53-138', 'qubo-14-19-29-82', 'quzhuming-31-41-69-192', 'renxiuyuan-18-23-31-79', 'shanziliang-13-19-30-90', 'shaobingsheng-13-19-27-80', 'shenfengmei-29-36-58-130', 'shengmingzhen-10-13-26-75', 'shenguilin-18-25-35-53', 'shenhaiqin-20-28-38-129', 'shenxuemei-15-21-28-79', 'shenxuhong-20-24-34-82', 'shenyuzhen-11-16-25-77', 'shiburen-15-20-29-91', 'shouyunfang-20-26-42-136', 'songzongwei-20-26-39-94', 'sundelin-15-21-31-90', 'sunlutao-14-23-70-127', 'sunyunxian-11-17-23-75', 'tangchunhua-10-16-20-76', 'taofeng-18-22-28-81', 'taonan-19-24-37-87', 'taoquanying-13-18-30-83', 'taoxiuwei-26-34-54-137', 'tongbo-25-35-51-153', 'tongchichang-16-21-35-88', 'tuyurong-15-18-34-88', 'wangahai-16-22-43-91', 'wangaifang-13-19-28-74', 'wangbaoyu-7-12-21-75', 'wangdahua-19-24-33-89', 'wangdandan-32-39-50-142', 'wangfeng-14-19-31-85', 'wangguojian-20-25-39-86', 'wangguolong-16-21-33-84', 'wangjian-17-24-32-88', 'wangjianlin-15-21-37-82', 'wangjie-15-19-31-49', 'wangjinlie-26-33-45-87', 'wangluhua-18-23-32-87', 'wangronglin-16-21-28-81', 'wangsonglin-19-24-27-86', 'wangwei-16-20-36-87', 'wangwei-32-39-50-139', 'wangwuzhuang-28-33-41-98', 'wangxinhui-18-23-31-85', 'wangyouxiang-21-27-41-131', 'wangyouxin-34-42-64-160', 'wangyuncai-14-20-34-91', 'wangyunxian-18-27-39-134', 'weifengli-26-34-62-147', 'weihuiqiong-27-33-58-137', 'weiliping-14-19-29-82', 'wenshuijuan-30-36-66-145', 'wufenai-9-15-28-81', 'wugaoyou-12-17-24-81', 'wuguorong-30-39-51-140', 'wuhanjiang-18-22-39-85', 'wujianguo-14-20-29-89', 'wumingshi2021040501-17-22-30-81', 'wumingshi2021061701-25-28-45-98', 'wumingshi2021080102-38-47-85-156', 'wuruqing-49-60-96-153', 'wutiandi-21-28-54-120', 'wutianshun-12-17-26-80', 'wuyanxian-17-21-36-83', 'wuyunfang-20-25-34-85', 'wuzili-13-19-28-72', 'wuzongtang-29-36-76-141', 'xiangzhaochong-15-20-31-78', 'xiasuifu-12-18-30-84', 'xiaxianlin-5-9-15-71', 'xiaxinghua-17-22-33-89', 'xiegenjun-21-26-34-93', 'xieshangyong-14-20-27-87', 'xiezhaoqin-17-21-29-81', 'xinyongsheng-13-18-26-86', 'xiyongmin-25-35-62-162', 'xucaizhen-27-37-51-131', 'xudingguo-21-25-38-89', 'xuguangtai-16-21-36-91', 'xushengwu-31-41-60-150', 'xuxuee-22-30-45-123', 'xuyuetian-22-30-53-132', 'yanchunhong-36-45-64-155', 'yangjinnan-31-38-67-146', 'yangqingyue-31-39-50-128', 'yangshujuan-30-39-62-160', 'yangtangyong-15-19-35-85', 'yangxiaohui-20-28-39-125', 'yangyuqi-34-44-60-157', 'yangzhengfu-18-22-32-75', 'yangzhengqian-16-21-26-78', 'yaohuiping-16-21-29-79', 'yaojingen-20-25-31-81', 'yegenxiang-11-17-30-80', 'yepusheng-13-18-27-79', 'yeweigen-17-21-29-84', 'yimuyun-15-19-28-75', 'yinggenhua-36-45-72-174', 'yiqiang-16-21-30-78', 'yuaiyuan-13-18-29-84', 'yuanjuhe-11-16-27-76', 'yuankunfa-27-33-44-89', 'yuanxiazhen-14-18-36-76', 'yuanxicai-35-43-85-169', 'yuanyongjin-12-18-27-81', 'yubaisong-25-33-65-152', 'yuguangyang-18-23-33-90', 'yukang-17-22-27-82', 'yukang-27-36-46-135', 'yumengting-19-26-36-123', 'yupengjie-26-34-46-134', 'yuweiliang-29-35-47-104', 'yuyinglong-24-30-51-98', 'yuzhixue-16-21-38-91', 'zengchunsheng-23-30-41-128', 'zengshengjiang-19-23-36-89', 'zhangchao-13-18-29-81', 'zhangdanye-31-38-50-143', 'zhangduofeng-12-17-28-55', 'zhangfagen-22-27-37-92', 'zhangguanghong-39-46-68-156', 'zhangguofeng-21-27-35-90', 'zhangguofeng-25-30-45-97', 'zhanghanmin-13-19-27-76', 'zhanghonghu-37-45-69-149', 'zhanghuanquan-17-22-29-75', 'zhangjingjing-16-19-30-78', 'zhangjingzhong-53-59-85-174', 'zhangjunfei-25-33-52-125', 'zhangkesheng-27-34-63-144', 'zhangmeiqin-19-22-39-86', 'zhangmingfa-22-27-37-93', 'zhangsuyun-18-21-37-81', 'zhangxianjun-16-23-31-82', 'zhangyao-17-22-29-83', 'zhangyitian-26-32-55-148', 'zhangyulin-20-25-40-93', 'zhanmin-18-23-37-88', 'zhaofuchang-16-21-30-80', 'zhaomin-11-15-32-86', 'zhaorong-33-42-71-163', 'zhaoshunshou-30-38-53-139', 'zhaosuifang-23-34-61-154', 'zhaoyijun-17-20-33-82', 'zhaoyouyang-24-34-41-125', 'zhengfahong-22-26-44-99', 'zhengjilang-23-33-49-135', 'zhengjuying-16-19-33-86', 'zhengronghua-21-30-44-127', 'zhengwenyan-15-20-29-82', 'zhengxuefei-21-24-43-86', 'zhengyingu-14-18-26-76', 'zhengyouduo-23-27-41-83', 'zhengzaidi-22-34-51-153', 'zhensuzhen-20-25-34-90', 'zhoubo-19-26-41-137', 'zhouguoming-20-25-30-82', 'zhouhaibin-30-39-74-185', 'zhoujun-12-16-24-77', 'zhoulijun-18-23-35-93', 'zhoushan-17-20-39-78', 'zhoushijun-30-37-64-145', 'zhouweiqiang-19-24-42-90', 'zhouwenming-40-48-67-147', 'zhouxianhang-13-17-26-78', 'zhouxinya-24-30-40-120', 'zhouxiushan-14-18-34-84', 'zhouyixiao-22-28-40-83', 'zhouyongjin-17-21-35-87', 'zhouzhangyun-26-35-61-136', 'zhudamin-33-41-70-156', 'zhuguizhou-18-23-34-85', 'zhuguofang-15-20-32-85', 'zhujianfu-16-22-28-87', 'zhukuanwen-15-21-29-83', 'zhumeizheng-34-42-69-167', 'zhuodepeng-9-14-23-78', 'zhuxiaoqin-22-29-50-130', 'zhuxinnan-18-26-49-129', 'zhuyanjie-20-25-35-89', 'zoudeling-11-15-30-84']\n"
     ]
    }
   ],
   "source": [
    "print(len(epl1))\n",
    "print(epl1)"
   ]
  },
  {
   "cell_type": "code",
   "execution_count": null,
   "id": "2d05ae35",
   "metadata": {
    "scrolled": true
   },
   "outputs": [],
   "source": [
    "# # 将切出的主动脉移动到一起\n",
    "# def move_to_classify(input_root, output_path):\n",
    "#     if not os.path.exists(output_path):\n",
    "#         os.makedirs(output_path)\n",
    "    \n",
    "#     for patient in os.listdir(input_root):\n",
    "#         if os.path.isfile(os.path.join(input_root, patient)):\n",
    "#             continue\n",
    "#         print(f'****Processing {patient}****')\n",
    "#         for file in os.listdir(os.path.join(input_root, patient, 'crops')):\n",
    "#             shutil.copy(os.path.join(input_root, patient, 'crops', file), output_path)\n",
    "            \n",
    "# move_to_classify('/nfs3-p1/zsxm/dataset/aorta_ct_img_label/negative/', f'/nfs3-p1/zsxm/dataset/aorta_classify_ct_{lower_b}_{upper_b}/0/')"
   ]
  },
  {
   "cell_type": "code",
   "execution_count": 10,
   "id": "03aad1f7",
   "metadata": {},
   "outputs": [
    {
     "name": "stdout",
     "output_type": "stream",
     "text": [
      "******Processing baimeizhu-27-37-54-136******\n",
      "******Processing baixiaoxu-22-31-52-147******\n",
      "******Processing baojinjia-17-21-35-83******\n"
     ]
    },
    {
     "name": "stderr",
     "output_type": "stream",
     "text": [
      "Traceback (most recent call last):\n",
      "  File \"/tmp/ipykernel_37540/2245311451.py\", line 44, in crop_images\n",
      "    x1, y1, x2, y2 = find_coordinate(*img.shape[0:2], os.path.join(label_path, f'{patient}_{i:04d}.txt'), 's')\n",
      "  File \"/tmp/ipykernel_37540/2245311451.py\", line 7, in find_coordinate\n",
      "    assert aorta == 'j', f'如果只有一个label那么此时应为降主动脉, 但实际为{aorta}：{label_file.split(\"/\")[-1]}'\n",
      "AssertionError: 如果只有一个label那么此时应为降主动脉, 但实际为s：baojinjia-17-21-35-83_0018.txt\n",
      "Traceback (most recent call last):\n",
      "  File \"/tmp/ipykernel_37540/2245311451.py\", line 44, in crop_images\n",
      "    x1, y1, x2, y2 = find_coordinate(*img.shape[0:2], os.path.join(label_path, f'{patient}_{i:04d}.txt'), 's')\n",
      "  File \"/tmp/ipykernel_37540/2245311451.py\", line 7, in find_coordinate\n",
      "    assert aorta == 'j', f'如果只有一个label那么此时应为降主动脉, 但实际为{aorta}：{label_file.split(\"/\")[-1]}'\n",
      "AssertionError: 如果只有一个label那么此时应为降主动脉, 但实际为s：baojinjia-17-21-35-83_0019.txt\n"
     ]
    },
    {
     "name": "stdout",
     "output_type": "stream",
     "text": [
      "******Processing baoxialin-23-34-57-158******\n",
      "******Processing baoyanzu-15-20-31-87******\n"
     ]
    },
    {
     "name": "stderr",
     "output_type": "stream",
     "text": [
      "Traceback (most recent call last):\n",
      "  File \"/tmp/ipykernel_37540/2245311451.py\", line 44, in crop_images\n",
      "    x1, y1, x2, y2 = find_coordinate(*img.shape[0:2], os.path.join(label_path, f'{patient}_{i:04d}.txt'), 's')\n",
      "  File \"/tmp/ipykernel_37540/2245311451.py\", line 7, in find_coordinate\n",
      "    assert aorta == 'j', f'如果只有一个label那么此时应为降主动脉, 但实际为{aorta}：{label_file.split(\"/\")[-1]}'\n",
      "AssertionError: 如果只有一个label那么此时应为降主动脉, 但实际为s：baoyanzu-15-20-31-87_0017.txt\n"
     ]
    },
    {
     "name": "stdout",
     "output_type": "stream",
     "text": [
      "******Processing baoyanzu-21-25-42-93******\n"
     ]
    },
    {
     "name": "stderr",
     "output_type": "stream",
     "text": [
      "Traceback (most recent call last):\n",
      "  File \"/tmp/ipykernel_37540/2245311451.py\", line 44, in crop_images\n",
      "    x1, y1, x2, y2 = find_coordinate(*img.shape[0:2], os.path.join(label_path, f'{patient}_{i:04d}.txt'), 's')\n",
      "  File \"/tmp/ipykernel_37540/2245311451.py\", line 7, in find_coordinate\n",
      "    assert aorta == 'j', f'如果只有一个label那么此时应为降主动脉, 但实际为{aorta}：{label_file.split(\"/\")[-1]}'\n",
      "AssertionError: 如果只有一个label那么此时应为降主动脉, 但实际为s：baoyanzu-21-25-42-93_0022.txt\n",
      "Traceback (most recent call last):\n",
      "  File \"/tmp/ipykernel_37540/2245311451.py\", line 44, in crop_images\n",
      "    x1, y1, x2, y2 = find_coordinate(*img.shape[0:2], os.path.join(label_path, f'{patient}_{i:04d}.txt'), 's')\n",
      "  File \"/tmp/ipykernel_37540/2245311451.py\", line 7, in find_coordinate\n",
      "    assert aorta == 'j', f'如果只有一个label那么此时应为降主动脉, 但实际为{aorta}：{label_file.split(\"/\")[-1]}'\n",
      "AssertionError: 如果只有一个label那么此时应为降主动脉, 但实际为s：baoyanzu-21-25-42-93_0023.txt\n"
     ]
    },
    {
     "name": "stdout",
     "output_type": "stream",
     "text": [
      "******Processing bianyinqiao-31-38-59-137******\n"
     ]
    },
    {
     "name": "stderr",
     "output_type": "stream",
     "text": [
      "Traceback (most recent call last):\n",
      "  File \"/tmp/ipykernel_37540/2245311451.py\", line 44, in crop_images\n",
      "    x1, y1, x2, y2 = find_coordinate(*img.shape[0:2], os.path.join(label_path, f'{patient}_{i:04d}.txt'), 's')\n",
      "  File \"/tmp/ipykernel_37540/2245311451.py\", line 7, in find_coordinate\n",
      "    assert aorta == 'j', f'如果只有一个label那么此时应为降主动脉, 但实际为{aorta}：{label_file.split(\"/\")[-1]}'\n",
      "AssertionError: 如果只有一个label那么此时应为降主动脉, 但实际为s：bianyinqiao-31-38-59-137_0036.txt\n"
     ]
    },
    {
     "name": "stdout",
     "output_type": "stream",
     "text": [
      "******Processing bianzhaorong-17-22-38-92******\n"
     ]
    },
    {
     "name": "stderr",
     "output_type": "stream",
     "text": [
      "Traceback (most recent call last):\n",
      "  File \"/tmp/ipykernel_37540/2245311451.py\", line 44, in crop_images\n",
      "    x1, y1, x2, y2 = find_coordinate(*img.shape[0:2], os.path.join(label_path, f'{patient}_{i:04d}.txt'), 's')\n",
      "  File \"/tmp/ipykernel_37540/2245311451.py\", line 7, in find_coordinate\n",
      "    assert aorta == 'j', f'如果只有一个label那么此时应为降主动脉, 但实际为{aorta}：{label_file.split(\"/\")[-1]}'\n",
      "AssertionError: 如果只有一个label那么此时应为降主动脉, 但实际为s：bianzhaorong-17-22-38-92_0019.txt\n",
      "Traceback (most recent call last):\n",
      "  File \"/tmp/ipykernel_37540/2245311451.py\", line 44, in crop_images\n",
      "    x1, y1, x2, y2 = find_coordinate(*img.shape[0:2], os.path.join(label_path, f'{patient}_{i:04d}.txt'), 's')\n",
      "  File \"/tmp/ipykernel_37540/2245311451.py\", line 7, in find_coordinate\n",
      "    assert aorta == 'j', f'如果只有一个label那么此时应为降主动脉, 但实际为{aorta}：{label_file.split(\"/\")[-1]}'\n",
      "AssertionError: 如果只有一个label那么此时应为降主动脉, 但实际为s：bianzhaorong-17-22-38-92_0020.txt\n",
      "Traceback (most recent call last):\n",
      "  File \"/tmp/ipykernel_37540/2245311451.py\", line 44, in crop_images\n",
      "    x1, y1, x2, y2 = find_coordinate(*img.shape[0:2], os.path.join(label_path, f'{patient}_{i:04d}.txt'), 's')\n",
      "  File \"/tmp/ipykernel_37540/2245311451.py\", line 7, in find_coordinate\n",
      "    assert aorta == 'j', f'如果只有一个label那么此时应为降主动脉, 但实际为{aorta}：{label_file.split(\"/\")[-1]}'\n",
      "AssertionError: 如果只有一个label那么此时应为降主动脉, 但实际为s：bianzhaorong-17-22-38-92_0023.txt\n",
      "Traceback (most recent call last):\n",
      "  File \"/tmp/ipykernel_37540/2245311451.py\", line 44, in crop_images\n",
      "    x1, y1, x2, y2 = find_coordinate(*img.shape[0:2], os.path.join(label_path, f'{patient}_{i:04d}.txt'), 's')\n",
      "  File \"/tmp/ipykernel_37540/2245311451.py\", line 7, in find_coordinate\n",
      "    assert aorta == 'j', f'如果只有一个label那么此时应为降主动脉, 但实际为{aorta}：{label_file.split(\"/\")[-1]}'\n",
      "AssertionError: 如果只有一个label那么此时应为降主动脉, 但实际为s：bianzhaorong-17-22-38-92_0031.txt\n",
      "Traceback (most recent call last):\n",
      "  File \"/tmp/ipykernel_37540/2245311451.py\", line 44, in crop_images\n",
      "    x1, y1, x2, y2 = find_coordinate(*img.shape[0:2], os.path.join(label_path, f'{patient}_{i:04d}.txt'), 's')\n",
      "  File \"/tmp/ipykernel_37540/2245311451.py\", line 7, in find_coordinate\n",
      "    assert aorta == 'j', f'如果只有一个label那么此时应为降主动脉, 但实际为{aorta}：{label_file.split(\"/\")[-1]}'\n",
      "AssertionError: 如果只有一个label那么此时应为降主动脉, 但实际为s：bianzhaorong-17-22-38-92_0034.txt\n",
      "Traceback (most recent call last):\n",
      "  File \"/tmp/ipykernel_37540/2245311451.py\", line 44, in crop_images\n",
      "    x1, y1, x2, y2 = find_coordinate(*img.shape[0:2], os.path.join(label_path, f'{patient}_{i:04d}.txt'), 's')\n",
      "  File \"/tmp/ipykernel_37540/2245311451.py\", line 7, in find_coordinate\n",
      "    assert aorta == 'j', f'如果只有一个label那么此时应为降主动脉, 但实际为{aorta}：{label_file.split(\"/\")[-1]}'\n",
      "AssertionError: 如果只有一个label那么此时应为降主动脉, 但实际为s：bianzhaorong-17-22-38-92_0035.txt\n",
      "Traceback (most recent call last):\n",
      "  File \"/tmp/ipykernel_37540/2245311451.py\", line 44, in crop_images\n",
      "    x1, y1, x2, y2 = find_coordinate(*img.shape[0:2], os.path.join(label_path, f'{patient}_{i:04d}.txt'), 's')\n",
      "  File \"/tmp/ipykernel_37540/2245311451.py\", line 7, in find_coordinate\n",
      "    assert aorta == 'j', f'如果只有一个label那么此时应为降主动脉, 但实际为{aorta}：{label_file.split(\"/\")[-1]}'\n",
      "AssertionError: 如果只有一个label那么此时应为降主动脉, 但实际为s：bianzhaorong-17-22-38-92_0036.txt\n"
     ]
    },
    {
     "name": "stdout",
     "output_type": "stream",
     "text": [
      "******Processing caijinfei-34-42-51-155******\n"
     ]
    },
    {
     "name": "stderr",
     "output_type": "stream",
     "text": [
      "Traceback (most recent call last):\n",
      "  File \"/tmp/ipykernel_37540/2245311451.py\", line 44, in crop_images\n",
      "    x1, y1, x2, y2 = find_coordinate(*img.shape[0:2], os.path.join(label_path, f'{patient}_{i:04d}.txt'), 's')\n",
      "  File \"/tmp/ipykernel_37540/2245311451.py\", line 7, in find_coordinate\n",
      "    assert aorta == 'j', f'如果只有一个label那么此时应为降主动脉, 但实际为{aorta}：{label_file.split(\"/\")[-1]}'\n",
      "AssertionError: 如果只有一个label那么此时应为降主动脉, 但实际为s：caijinfei-34-42-51-155_0038.txt\n",
      "Traceback (most recent call last):\n",
      "  File \"/tmp/ipykernel_37540/2245311451.py\", line 44, in crop_images\n",
      "    x1, y1, x2, y2 = find_coordinate(*img.shape[0:2], os.path.join(label_path, f'{patient}_{i:04d}.txt'), 's')\n",
      "  File \"/tmp/ipykernel_37540/2245311451.py\", line 7, in find_coordinate\n",
      "    assert aorta == 'j', f'如果只有一个label那么此时应为降主动脉, 但实际为{aorta}：{label_file.split(\"/\")[-1]}'\n",
      "AssertionError: 如果只有一个label那么此时应为降主动脉, 但实际为s：caijinfei-34-42-51-155_0039.txt\n",
      "Traceback (most recent call last):\n",
      "  File \"/tmp/ipykernel_37540/2245311451.py\", line 61, in crop_images\n",
      "    x1, y1, x2, y2 = find_coordinate(*img.shape[0:2], os.path.join(label_path, f'{patient}_{i:04d}.txt'), 'j')\n",
      "  File \"/tmp/ipykernel_37540/2245311451.py\", line 3, in find_coordinate\n",
      "    with open(label_file, 'r') as f:\n",
      "FileNotFoundError: [Errno 2] No such file or directory: '/nfs3-p1/zsxm/dataset/aorta_ct_img_label/negative/caijinfei-34-42-51-155/labels/caijinfei-34-42-51-155_0115.txt'\n"
     ]
    },
    {
     "name": "stdout",
     "output_type": "stream",
     "text": [
      "******Processing caijingnan1-41-50-73-184******\n"
     ]
    },
    {
     "name": "stderr",
     "output_type": "stream",
     "text": [
      "Traceback (most recent call last):\n",
      "  File \"/tmp/ipykernel_37540/2245311451.py\", line 61, in crop_images\n",
      "    x1, y1, x2, y2 = find_coordinate(*img.shape[0:2], os.path.join(label_path, f'{patient}_{i:04d}.txt'), 'j')\n",
      "  File \"/tmp/ipykernel_37540/2245311451.py\", line 3, in find_coordinate\n",
      "    with open(label_file, 'r') as f:\n",
      "FileNotFoundError: [Errno 2] No such file or directory: '/nfs3-p1/zsxm/dataset/aorta_ct_img_label/negative/caijingnan1-41-50-73-184/labels/caijingnan1-41-50-73-184_0137.txt'\n",
      "Traceback (most recent call last):\n",
      "  File \"/tmp/ipykernel_37540/2245311451.py\", line 61, in crop_images\n",
      "    x1, y1, x2, y2 = find_coordinate(*img.shape[0:2], os.path.join(label_path, f'{patient}_{i:04d}.txt'), 'j')\n",
      "  File \"/tmp/ipykernel_37540/2245311451.py\", line 3, in find_coordinate\n",
      "    with open(label_file, 'r') as f:\n",
      "FileNotFoundError: [Errno 2] No such file or directory: '/nfs3-p1/zsxm/dataset/aorta_ct_img_label/negative/caijingnan1-41-50-73-184/labels/caijingnan1-41-50-73-184_0144.txt'\n",
      "Traceback (most recent call last):\n",
      "  File \"/tmp/ipykernel_37540/2245311451.py\", line 61, in crop_images\n",
      "    x1, y1, x2, y2 = find_coordinate(*img.shape[0:2], os.path.join(label_path, f'{patient}_{i:04d}.txt'), 'j')\n",
      "  File \"/tmp/ipykernel_37540/2245311451.py\", line 3, in find_coordinate\n",
      "    with open(label_file, 'r') as f:\n",
      "FileNotFoundError: [Errno 2] No such file or directory: '/nfs3-p1/zsxm/dataset/aorta_ct_img_label/negative/caijingnan1-41-50-73-184/labels/caijingnan1-41-50-73-184_0146.txt'\n"
     ]
    },
    {
     "name": "stdout",
     "output_type": "stream",
     "text": [
      "******Processing caiqishu-34-43-70-176******\n",
      "******Processing caishiping-18-24-34-85******\n"
     ]
    },
    {
     "name": "stderr",
     "output_type": "stream",
     "text": [
      "Traceback (most recent call last):\n",
      "  File \"/tmp/ipykernel_37540/2245311451.py\", line 44, in crop_images\n",
      "    x1, y1, x2, y2 = find_coordinate(*img.shape[0:2], os.path.join(label_path, f'{patient}_{i:04d}.txt'), 's')\n",
      "  File \"/tmp/ipykernel_37540/2245311451.py\", line 7, in find_coordinate\n",
      "    assert aorta == 'j', f'如果只有一个label那么此时应为降主动脉, 但实际为{aorta}：{label_file.split(\"/\")[-1]}'\n",
      "AssertionError: 如果只有一个label那么此时应为降主动脉, 但实际为s：caishiping-18-24-34-85_0021.txt\n"
     ]
    },
    {
     "name": "stdout",
     "output_type": "stream",
     "text": [
      "******Processing caiyouzhe-14-18-32-83******\n"
     ]
    },
    {
     "name": "stderr",
     "output_type": "stream",
     "text": [
      "Traceback (most recent call last):\n",
      "  File \"/tmp/ipykernel_37540/2245311451.py\", line 44, in crop_images\n",
      "    x1, y1, x2, y2 = find_coordinate(*img.shape[0:2], os.path.join(label_path, f'{patient}_{i:04d}.txt'), 's')\n",
      "  File \"/tmp/ipykernel_37540/2245311451.py\", line 7, in find_coordinate\n",
      "    assert aorta == 'j', f'如果只有一个label那么此时应为降主动脉, 但实际为{aorta}：{label_file.split(\"/\")[-1]}'\n",
      "AssertionError: 如果只有一个label那么此时应为降主动脉, 但实际为s：caiyouzhe-14-18-32-83_0015.txt\n",
      "Traceback (most recent call last):\n",
      "  File \"/tmp/ipykernel_37540/2245311451.py\", line 44, in crop_images\n",
      "    x1, y1, x2, y2 = find_coordinate(*img.shape[0:2], os.path.join(label_path, f'{patient}_{i:04d}.txt'), 's')\n",
      "  File \"/tmp/ipykernel_37540/2245311451.py\", line 7, in find_coordinate\n",
      "    assert aorta == 'j', f'如果只有一个label那么此时应为降主动脉, 但实际为{aorta}：{label_file.split(\"/\")[-1]}'\n",
      "AssertionError: 如果只有一个label那么此时应为降主动脉, 但实际为s：caiyouzhe-14-18-32-83_0016.txt\n",
      "Traceback (most recent call last):\n",
      "  File \"/tmp/ipykernel_37540/2245311451.py\", line 44, in crop_images\n",
      "    x1, y1, x2, y2 = find_coordinate(*img.shape[0:2], os.path.join(label_path, f'{patient}_{i:04d}.txt'), 's')\n",
      "  File \"/tmp/ipykernel_37540/2245311451.py\", line 7, in find_coordinate\n",
      "    assert aorta == 'j', f'如果只有一个label那么此时应为降主动脉, 但实际为{aorta}：{label_file.split(\"/\")[-1]}'\n",
      "AssertionError: 如果只有一个label那么此时应为降主动脉, 但实际为s：caiyouzhe-14-18-32-83_0017.txt\n"
     ]
    },
    {
     "name": "stdout",
     "output_type": "stream",
     "text": [
      "******Processing caoyuxia-16-21-35-87******\n"
     ]
    },
    {
     "name": "stderr",
     "output_type": "stream",
     "text": [
      "Traceback (most recent call last):\n",
      "  File \"/tmp/ipykernel_37540/2245311451.py\", line 44, in crop_images\n",
      "    x1, y1, x2, y2 = find_coordinate(*img.shape[0:2], os.path.join(label_path, f'{patient}_{i:04d}.txt'), 's')\n",
      "  File \"/tmp/ipykernel_37540/2245311451.py\", line 7, in find_coordinate\n",
      "    assert aorta == 'j', f'如果只有一个label那么此时应为降主动脉, 但实际为{aorta}：{label_file.split(\"/\")[-1]}'\n",
      "AssertionError: 如果只有一个label那么此时应为降主动脉, 但实际为s：caoyuxia-16-21-35-87_0018.txt\n",
      "Traceback (most recent call last):\n",
      "  File \"/tmp/ipykernel_37540/2245311451.py\", line 44, in crop_images\n",
      "    x1, y1, x2, y2 = find_coordinate(*img.shape[0:2], os.path.join(label_path, f'{patient}_{i:04d}.txt'), 's')\n",
      "  File \"/tmp/ipykernel_37540/2245311451.py\", line 7, in find_coordinate\n",
      "    assert aorta == 'j', f'如果只有一个label那么此时应为降主动脉, 但实际为{aorta}：{label_file.split(\"/\")[-1]}'\n",
      "AssertionError: 如果只有一个label那么此时应为降主动脉, 但实际为s：caoyuxia-16-21-35-87_0034.txt\n"
     ]
    },
    {
     "name": "stdout",
     "output_type": "stream",
     "text": [
      "******Processing caoyuying-18-22-33-79******\n"
     ]
    },
    {
     "name": "stderr",
     "output_type": "stream",
     "text": [
      "Traceback (most recent call last):\n",
      "  File \"/tmp/ipykernel_37540/2245311451.py\", line 44, in crop_images\n",
      "    x1, y1, x2, y2 = find_coordinate(*img.shape[0:2], os.path.join(label_path, f'{patient}_{i:04d}.txt'), 's')\n",
      "  File \"/tmp/ipykernel_37540/2245311451.py\", line 7, in find_coordinate\n",
      "    assert aorta == 'j', f'如果只有一个label那么此时应为降主动脉, 但实际为{aorta}：{label_file.split(\"/\")[-1]}'\n",
      "AssertionError: 如果只有一个label那么此时应为降主动脉, 但实际为s：caoyuying-18-22-33-79_0019.txt\n"
     ]
    },
    {
     "name": "stdout",
     "output_type": "stream",
     "text": [
      "******Processing chenbin-20-26-35-85******\n"
     ]
    },
    {
     "name": "stderr",
     "output_type": "stream",
     "text": [
      "Traceback (most recent call last):\n",
      "  File \"/tmp/ipykernel_37540/2245311451.py\", line 44, in crop_images\n",
      "    x1, y1, x2, y2 = find_coordinate(*img.shape[0:2], os.path.join(label_path, f'{patient}_{i:04d}.txt'), 's')\n",
      "  File \"/tmp/ipykernel_37540/2245311451.py\", line 7, in find_coordinate\n",
      "    assert aorta == 'j', f'如果只有一个label那么此时应为降主动脉, 但实际为{aorta}：{label_file.split(\"/\")[-1]}'\n",
      "AssertionError: 如果只有一个label那么此时应为降主动脉, 但实际为s：chenbin-20-26-35-85_0022.txt\n",
      "Traceback (most recent call last):\n",
      "  File \"/tmp/ipykernel_37540/2245311451.py\", line 44, in crop_images\n",
      "    x1, y1, x2, y2 = find_coordinate(*img.shape[0:2], os.path.join(label_path, f'{patient}_{i:04d}.txt'), 's')\n",
      "  File \"/tmp/ipykernel_37540/2245311451.py\", line 7, in find_coordinate\n",
      "    assert aorta == 'j', f'如果只有一个label那么此时应为降主动脉, 但实际为{aorta}：{label_file.split(\"/\")[-1]}'\n",
      "AssertionError: 如果只有一个label那么此时应为降主动脉, 但实际为s：chenbin-20-26-35-85_0023.txt\n"
     ]
    },
    {
     "name": "stdout",
     "output_type": "stream",
     "text": [
      "******Processing chenchong-22-26-36-86******\n"
     ]
    },
    {
     "name": "stderr",
     "output_type": "stream",
     "text": [
      "Traceback (most recent call last):\n",
      "  File \"/tmp/ipykernel_37540/2245311451.py\", line 44, in crop_images\n",
      "    x1, y1, x2, y2 = find_coordinate(*img.shape[0:2], os.path.join(label_path, f'{patient}_{i:04d}.txt'), 's')\n",
      "  File \"/tmp/ipykernel_37540/2245311451.py\", line 7, in find_coordinate\n",
      "    assert aorta == 'j', f'如果只有一个label那么此时应为降主动脉, 但实际为{aorta}：{label_file.split(\"/\")[-1]}'\n",
      "AssertionError: 如果只有一个label那么此时应为降主动脉, 但实际为s：chenchong-22-26-36-86_0023.txt\n"
     ]
    },
    {
     "name": "stdout",
     "output_type": "stream",
     "text": [
      "******Processing chendonghong-12-17-27-75******\n"
     ]
    },
    {
     "name": "stderr",
     "output_type": "stream",
     "text": [
      "Traceback (most recent call last):\n",
      "  File \"/tmp/ipykernel_37540/2245311451.py\", line 44, in crop_images\n",
      "    x1, y1, x2, y2 = find_coordinate(*img.shape[0:2], os.path.join(label_path, f'{patient}_{i:04d}.txt'), 's')\n",
      "  File \"/tmp/ipykernel_37540/2245311451.py\", line 7, in find_coordinate\n",
      "    assert aorta == 'j', f'如果只有一个label那么此时应为降主动脉, 但实际为{aorta}：{label_file.split(\"/\")[-1]}'\n",
      "AssertionError: 如果只有一个label那么此时应为降主动脉, 但实际为s：chendonghong-12-17-27-75_0014.txt\n"
     ]
    },
    {
     "name": "stdout",
     "output_type": "stream",
     "text": [
      "******Processing chenfugui-36-46-76-149******\n",
      "******Processing chengenye-13-18-28-79******\n"
     ]
    },
    {
     "name": "stderr",
     "output_type": "stream",
     "text": [
      "Traceback (most recent call last):\n",
      "  File \"/tmp/ipykernel_37540/2245311451.py\", line 44, in crop_images\n",
      "    x1, y1, x2, y2 = find_coordinate(*img.shape[0:2], os.path.join(label_path, f'{patient}_{i:04d}.txt'), 's')\n",
      "  File \"/tmp/ipykernel_37540/2245311451.py\", line 7, in find_coordinate\n",
      "    assert aorta == 'j', f'如果只有一个label那么此时应为降主动脉, 但实际为{aorta}：{label_file.split(\"/\")[-1]}'\n",
      "AssertionError: 如果只有一个label那么此时应为降主动脉, 但实际为s：chengenye-13-18-28-79_0015.txt\n",
      "Traceback (most recent call last):\n",
      "  File \"/tmp/ipykernel_37540/2245311451.py\", line 44, in crop_images\n",
      "    x1, y1, x2, y2 = find_coordinate(*img.shape[0:2], os.path.join(label_path, f'{patient}_{i:04d}.txt'), 's')\n",
      "  File \"/tmp/ipykernel_37540/2245311451.py\", line 7, in find_coordinate\n",
      "    assert aorta == 'j', f'如果只有一个label那么此时应为降主动脉, 但实际为{aorta}：{label_file.split(\"/\")[-1]}'\n",
      "AssertionError: 如果只有一个label那么此时应为降主动脉, 但实际为s：chengenye-13-18-28-79_0016.txt\n"
     ]
    },
    {
     "name": "stdout",
     "output_type": "stream",
     "text": [
      "******Processing chengshaoping-19-28-45-132******\n"
     ]
    },
    {
     "name": "stderr",
     "output_type": "stream",
     "text": [
      "Traceback (most recent call last):\n",
      "  File \"/tmp/ipykernel_37540/2245311451.py\", line 44, in crop_images\n",
      "    x1, y1, x2, y2 = find_coordinate(*img.shape[0:2], os.path.join(label_path, f'{patient}_{i:04d}.txt'), 's')\n",
      "  File \"/tmp/ipykernel_37540/2245311451.py\", line 7, in find_coordinate\n",
      "    assert aorta == 'j', f'如果只有一个label那么此时应为降主动脉, 但实际为{aorta}：{label_file.split(\"/\")[-1]}'\n",
      "AssertionError: 如果只有一个label那么此时应为降主动脉, 但实际为s：chengshaoping-19-28-45-132_0025.txt\n"
     ]
    },
    {
     "name": "stdout",
     "output_type": "stream",
     "text": [
      "******Processing chengyahui-17-22-29-82******\n"
     ]
    },
    {
     "name": "stderr",
     "output_type": "stream",
     "text": [
      "Traceback (most recent call last):\n",
      "  File \"/tmp/ipykernel_37540/2245311451.py\", line 44, in crop_images\n",
      "    x1, y1, x2, y2 = find_coordinate(*img.shape[0:2], os.path.join(label_path, f'{patient}_{i:04d}.txt'), 's')\n",
      "  File \"/tmp/ipykernel_37540/2245311451.py\", line 7, in find_coordinate\n",
      "    assert aorta == 'j', f'如果只有一个label那么此时应为降主动脉, 但实际为{aorta}：{label_file.split(\"/\")[-1]}'\n",
      "AssertionError: 如果只有一个label那么此时应为降主动脉, 但实际为s：chengyahui-17-22-29-82_0018.txt\n",
      "Traceback (most recent call last):\n",
      "  File \"/tmp/ipykernel_37540/2245311451.py\", line 44, in crop_images\n",
      "    x1, y1, x2, y2 = find_coordinate(*img.shape[0:2], os.path.join(label_path, f'{patient}_{i:04d}.txt'), 's')\n",
      "  File \"/tmp/ipykernel_37540/2245311451.py\", line 7, in find_coordinate\n",
      "    assert aorta == 'j', f'如果只有一个label那么此时应为降主动脉, 但实际为{aorta}：{label_file.split(\"/\")[-1]}'\n",
      "AssertionError: 如果只有一个label那么此时应为降主动脉, 但实际为s：chengyahui-17-22-29-82_0019.txt\n",
      "Traceback (most recent call last):\n",
      "  File \"/tmp/ipykernel_37540/2245311451.py\", line 44, in crop_images\n",
      "    x1, y1, x2, y2 = find_coordinate(*img.shape[0:2], os.path.join(label_path, f'{patient}_{i:04d}.txt'), 's')\n",
      "  File \"/tmp/ipykernel_37540/2245311451.py\", line 7, in find_coordinate\n",
      "    assert aorta == 'j', f'如果只有一个label那么此时应为降主动脉, 但实际为{aorta}：{label_file.split(\"/\")[-1]}'\n",
      "AssertionError: 如果只有一个label那么此时应为降主动脉, 但实际为s：chengyahui-17-22-29-82_0020.txt\n"
     ]
    },
    {
     "name": "stdout",
     "output_type": "stream",
     "text": [
      "******Processing chengzhiqiang-33-41-67-159******\n"
     ]
    },
    {
     "name": "stderr",
     "output_type": "stream",
     "text": [
      "Traceback (most recent call last):\n",
      "  File \"/tmp/ipykernel_37540/2245311451.py\", line 44, in crop_images\n",
      "    x1, y1, x2, y2 = find_coordinate(*img.shape[0:2], os.path.join(label_path, f'{patient}_{i:04d}.txt'), 's')\n",
      "  File \"/tmp/ipykernel_37540/2245311451.py\", line 7, in find_coordinate\n",
      "    assert aorta == 'j', f'如果只有一个label那么此时应为降主动脉, 但实际为{aorta}：{label_file.split(\"/\")[-1]}'\n",
      "AssertionError: 如果只有一个label那么此时应为降主动脉, 但实际为s：chengzhiqiang-33-41-67-159_0039.txt\n",
      "Traceback (most recent call last):\n",
      "  File \"/tmp/ipykernel_37540/2245311451.py\", line 44, in crop_images\n",
      "    x1, y1, x2, y2 = find_coordinate(*img.shape[0:2], os.path.join(label_path, f'{patient}_{i:04d}.txt'), 's')\n",
      "  File \"/tmp/ipykernel_37540/2245311451.py\", line 7, in find_coordinate\n",
      "    assert aorta == 'j', f'如果只有一个label那么此时应为降主动脉, 但实际为{aorta}：{label_file.split(\"/\")[-1]}'\n",
      "AssertionError: 如果只有一个label那么此时应为降主动脉, 但实际为s：chengzhiqiang-33-41-67-159_0057.txt\n",
      "Traceback (most recent call last):\n",
      "  File \"/tmp/ipykernel_37540/2245311451.py\", line 44, in crop_images\n",
      "    x1, y1, x2, y2 = find_coordinate(*img.shape[0:2], os.path.join(label_path, f'{patient}_{i:04d}.txt'), 's')\n",
      "  File \"/tmp/ipykernel_37540/2245311451.py\", line 7, in find_coordinate\n",
      "    assert aorta == 'j', f'如果只有一个label那么此时应为降主动脉, 但实际为{aorta}：{label_file.split(\"/\")[-1]}'\n",
      "AssertionError: 如果只有一个label那么此时应为降主动脉, 但实际为s：chengzhiqiang-33-41-67-159_0058.txt\n"
     ]
    },
    {
     "name": "stdout",
     "output_type": "stream",
     "text": [
      "******Processing chenjian-26-30-44-89******\n"
     ]
    },
    {
     "name": "stderr",
     "output_type": "stream",
     "text": [
      "Traceback (most recent call last):\n",
      "  File \"/tmp/ipykernel_37540/2245311451.py\", line 44, in crop_images\n",
      "    x1, y1, x2, y2 = find_coordinate(*img.shape[0:2], os.path.join(label_path, f'{patient}_{i:04d}.txt'), 's')\n",
      "  File \"/tmp/ipykernel_37540/2245311451.py\", line 7, in find_coordinate\n",
      "    assert aorta == 'j', f'如果只有一个label那么此时应为降主动脉, 但实际为{aorta}：{label_file.split(\"/\")[-1]}'\n",
      "AssertionError: 如果只有一个label那么此时应为降主动脉, 但实际为s：chenjian-26-30-44-89_0027.txt\n",
      "Traceback (most recent call last):\n",
      "  File \"/tmp/ipykernel_37540/2245311451.py\", line 44, in crop_images\n",
      "    x1, y1, x2, y2 = find_coordinate(*img.shape[0:2], os.path.join(label_path, f'{patient}_{i:04d}.txt'), 's')\n",
      "  File \"/tmp/ipykernel_37540/2245311451.py\", line 7, in find_coordinate\n",
      "    assert aorta == 'j', f'如果只有一个label那么此时应为降主动脉, 但实际为{aorta}：{label_file.split(\"/\")[-1]}'\n",
      "AssertionError: 如果只有一个label那么此时应为降主动脉, 但实际为s：chenjian-26-30-44-89_0028.txt\n"
     ]
    },
    {
     "name": "stdout",
     "output_type": "stream",
     "text": [
      "******Processing chenjianhua-14-17-32-80******\n"
     ]
    },
    {
     "name": "stderr",
     "output_type": "stream",
     "text": [
      "Traceback (most recent call last):\n",
      "  File \"/tmp/ipykernel_37540/2245311451.py\", line 44, in crop_images\n",
      "    x1, y1, x2, y2 = find_coordinate(*img.shape[0:2], os.path.join(label_path, f'{patient}_{i:04d}.txt'), 's')\n",
      "  File \"/tmp/ipykernel_37540/2245311451.py\", line 7, in find_coordinate\n",
      "    assert aorta == 'j', f'如果只有一个label那么此时应为降主动脉, 但实际为{aorta}：{label_file.split(\"/\")[-1]}'\n",
      "AssertionError: 如果只有一个label那么此时应为降主动脉, 但实际为s：chenjianhua-14-17-32-80_0014.txt\n",
      "Traceback (most recent call last):\n",
      "  File \"/tmp/ipykernel_37540/2245311451.py\", line 44, in crop_images\n",
      "    x1, y1, x2, y2 = find_coordinate(*img.shape[0:2], os.path.join(label_path, f'{patient}_{i:04d}.txt'), 's')\n",
      "  File \"/tmp/ipykernel_37540/2245311451.py\", line 7, in find_coordinate\n",
      "    assert aorta == 'j', f'如果只有一个label那么此时应为降主动脉, 但实际为{aorta}：{label_file.split(\"/\")[-1]}'\n",
      "AssertionError: 如果只有一个label那么此时应为降主动脉, 但实际为s：chenjianhua-14-17-32-80_0015.txt\n",
      "Traceback (most recent call last):\n",
      "  File \"/tmp/ipykernel_37540/2245311451.py\", line 44, in crop_images\n",
      "    x1, y1, x2, y2 = find_coordinate(*img.shape[0:2], os.path.join(label_path, f'{patient}_{i:04d}.txt'), 's')\n",
      "  File \"/tmp/ipykernel_37540/2245311451.py\", line 7, in find_coordinate\n",
      "    assert aorta == 'j', f'如果只有一个label那么此时应为降主动脉, 但实际为{aorta}：{label_file.split(\"/\")[-1]}'\n",
      "AssertionError: 如果只有一个label那么此时应为降主动脉, 但实际为s：chenjianhua-14-17-32-80_0016.txt\n"
     ]
    },
    {
     "name": "stdout",
     "output_type": "stream",
     "text": [
      "******Processing chenjianjun-25-34-65-175******\n",
      "******Processing chenjianping-15-22-41-91******\n"
     ]
    },
    {
     "name": "stderr",
     "output_type": "stream",
     "text": [
      "Traceback (most recent call last):\n",
      "  File \"/tmp/ipykernel_37540/2245311451.py\", line 44, in crop_images\n",
      "    x1, y1, x2, y2 = find_coordinate(*img.shape[0:2], os.path.join(label_path, f'{patient}_{i:04d}.txt'), 's')\n",
      "  File \"/tmp/ipykernel_37540/2245311451.py\", line 7, in find_coordinate\n",
      "    assert aorta == 'j', f'如果只有一个label那么此时应为降主动脉, 但实际为{aorta}：{label_file.split(\"/\")[-1]}'\n",
      "AssertionError: 如果只有一个label那么此时应为降主动脉, 但实际为s：chenjianping-15-22-41-91_0019.txt\n"
     ]
    },
    {
     "name": "stdout",
     "output_type": "stream",
     "text": [
      "******Processing chenjingjing-38-47-67-184******\n"
     ]
    },
    {
     "name": "stderr",
     "output_type": "stream",
     "text": [
      "Traceback (most recent call last):\n",
      "  File \"/tmp/ipykernel_37540/2245311451.py\", line 44, in crop_images\n",
      "    x1, y1, x2, y2 = find_coordinate(*img.shape[0:2], os.path.join(label_path, f'{patient}_{i:04d}.txt'), 's')\n",
      "  File \"/tmp/ipykernel_37540/2245311451.py\", line 7, in find_coordinate\n",
      "    assert aorta == 'j', f'如果只有一个label那么此时应为降主动脉, 但实际为{aorta}：{label_file.split(\"/\")[-1]}'\n",
      "AssertionError: 如果只有一个label那么此时应为降主动脉, 但实际为s：chenjingjing-38-47-67-184_0045.txt\n",
      "Traceback (most recent call last):\n",
      "  File \"/tmp/ipykernel_37540/2245311451.py\", line 44, in crop_images\n",
      "    x1, y1, x2, y2 = find_coordinate(*img.shape[0:2], os.path.join(label_path, f'{patient}_{i:04d}.txt'), 's')\n",
      "  File \"/tmp/ipykernel_37540/2245311451.py\", line 7, in find_coordinate\n",
      "    assert aorta == 'j', f'如果只有一个label那么此时应为降主动脉, 但实际为{aorta}：{label_file.split(\"/\")[-1]}'\n",
      "AssertionError: 如果只有一个label那么此时应为降主动脉, 但实际为s：chenjingjing-38-47-67-184_0061.txt\n"
     ]
    },
    {
     "name": "stdout",
     "output_type": "stream",
     "text": [
      "******Processing chenjinmei-12-17-34-80******\n"
     ]
    },
    {
     "name": "stderr",
     "output_type": "stream",
     "text": [
      "Traceback (most recent call last):\n",
      "  File \"/tmp/ipykernel_37540/2245311451.py\", line 44, in crop_images\n",
      "    x1, y1, x2, y2 = find_coordinate(*img.shape[0:2], os.path.join(label_path, f'{patient}_{i:04d}.txt'), 's')\n",
      "  File \"/tmp/ipykernel_37540/2245311451.py\", line 7, in find_coordinate\n",
      "    assert aorta == 'j', f'如果只有一个label那么此时应为降主动脉, 但实际为{aorta}：{label_file.split(\"/\")[-1]}'\n",
      "AssertionError: 如果只有一个label那么此时应为降主动脉, 但实际为s：chenjinmei-12-17-34-80_0014.txt\n",
      "Traceback (most recent call last):\n",
      "  File \"/tmp/ipykernel_37540/2245311451.py\", line 44, in crop_images\n",
      "    x1, y1, x2, y2 = find_coordinate(*img.shape[0:2], os.path.join(label_path, f'{patient}_{i:04d}.txt'), 's')\n",
      "  File \"/tmp/ipykernel_37540/2245311451.py\", line 7, in find_coordinate\n",
      "    assert aorta == 'j', f'如果只有一个label那么此时应为降主动脉, 但实际为{aorta}：{label_file.split(\"/\")[-1]}'\n",
      "AssertionError: 如果只有一个label那么此时应为降主动脉, 但实际为s：chenjinmei-12-17-34-80_0015.txt\n"
     ]
    },
    {
     "name": "stdout",
     "output_type": "stream",
     "text": [
      "******Processing chenjunbing-22-29-34-89******\n"
     ]
    },
    {
     "name": "stderr",
     "output_type": "stream",
     "text": [
      "Traceback (most recent call last):\n",
      "  File \"/tmp/ipykernel_37540/2245311451.py\", line 44, in crop_images\n",
      "    x1, y1, x2, y2 = find_coordinate(*img.shape[0:2], os.path.join(label_path, f'{patient}_{i:04d}.txt'), 's')\n",
      "  File \"/tmp/ipykernel_37540/2245311451.py\", line 7, in find_coordinate\n",
      "    assert aorta == 'j', f'如果只有一个label那么此时应为降主动脉, 但实际为{aorta}：{label_file.split(\"/\")[-1]}'\n",
      "AssertionError: 如果只有一个label那么此时应为降主动脉, 但实际为s：chenjunbing-22-29-34-89_0025.txt\n"
     ]
    },
    {
     "name": "stdout",
     "output_type": "stream",
     "text": [
      "******Processing chenlidong-18-23-32-88******\n"
     ]
    },
    {
     "name": "stderr",
     "output_type": "stream",
     "text": [
      "Traceback (most recent call last):\n",
      "  File \"/tmp/ipykernel_37540/2245311451.py\", line 44, in crop_images\n",
      "    x1, y1, x2, y2 = find_coordinate(*img.shape[0:2], os.path.join(label_path, f'{patient}_{i:04d}.txt'), 's')\n",
      "  File \"/tmp/ipykernel_37540/2245311451.py\", line 7, in find_coordinate\n",
      "    assert aorta == 'j', f'如果只有一个label那么此时应为降主动脉, 但实际为{aorta}：{label_file.split(\"/\")[-1]}'\n",
      "AssertionError: 如果只有一个label那么此时应为降主动脉, 但实际为s：chenlidong-18-23-32-88_0019.txt\n",
      "Traceback (most recent call last):\n",
      "  File \"/tmp/ipykernel_37540/2245311451.py\", line 44, in crop_images\n",
      "    x1, y1, x2, y2 = find_coordinate(*img.shape[0:2], os.path.join(label_path, f'{patient}_{i:04d}.txt'), 's')\n",
      "  File \"/tmp/ipykernel_37540/2245311451.py\", line 7, in find_coordinate\n",
      "    assert aorta == 'j', f'如果只有一个label那么此时应为降主动脉, 但实际为{aorta}：{label_file.split(\"/\")[-1]}'\n",
      "AssertionError: 如果只有一个label那么此时应为降主动脉, 但实际为s：chenlidong-18-23-32-88_0020.txt\n",
      "Traceback (most recent call last):\n",
      "  File \"/tmp/ipykernel_37540/2245311451.py\", line 44, in crop_images\n",
      "    x1, y1, x2, y2 = find_coordinate(*img.shape[0:2], os.path.join(label_path, f'{patient}_{i:04d}.txt'), 's')\n",
      "  File \"/tmp/ipykernel_37540/2245311451.py\", line 7, in find_coordinate\n",
      "    assert aorta == 'j', f'如果只有一个label那么此时应为降主动脉, 但实际为{aorta}：{label_file.split(\"/\")[-1]}'\n",
      "AssertionError: 如果只有一个label那么此时应为降主动脉, 但实际为s：chenlidong-18-23-32-88_0021.txt\n"
     ]
    },
    {
     "name": "stdout",
     "output_type": "stream",
     "text": [
      "******Processing chenlindi-16-22-34-78******\n",
      "******Processing chenliuer-23-32-43-140******\n"
     ]
    },
    {
     "name": "stderr",
     "output_type": "stream",
     "text": [
      "Traceback (most recent call last):\n",
      "  File \"/tmp/ipykernel_37540/2245311451.py\", line 61, in crop_images\n",
      "    x1, y1, x2, y2 = find_coordinate(*img.shape[0:2], os.path.join(label_path, f'{patient}_{i:04d}.txt'), 'j')\n",
      "  File \"/tmp/ipykernel_37540/2245311451.py\", line 3, in find_coordinate\n",
      "    with open(label_file, 'r') as f:\n",
      "FileNotFoundError: [Errno 2] No such file or directory: '/nfs3-p1/zsxm/dataset/aorta_ct_img_label/negative/chenliuer-23-32-43-140/labels/chenliuer-23-32-43-140_0087.txt'\n",
      "Traceback (most recent call last):\n",
      "  File \"/tmp/ipykernel_37540/2245311451.py\", line 61, in crop_images\n",
      "    x1, y1, x2, y2 = find_coordinate(*img.shape[0:2], os.path.join(label_path, f'{patient}_{i:04d}.txt'), 'j')\n",
      "  File \"/tmp/ipykernel_37540/2245311451.py\", line 3, in find_coordinate\n",
      "    with open(label_file, 'r') as f:\n",
      "FileNotFoundError: [Errno 2] No such file or directory: '/nfs3-p1/zsxm/dataset/aorta_ct_img_label/negative/chenliuer-23-32-43-140/labels/chenliuer-23-32-43-140_0088.txt'\n",
      "Traceback (most recent call last):\n",
      "  File \"/tmp/ipykernel_37540/2245311451.py\", line 61, in crop_images\n",
      "    x1, y1, x2, y2 = find_coordinate(*img.shape[0:2], os.path.join(label_path, f'{patient}_{i:04d}.txt'), 'j')\n",
      "  File \"/tmp/ipykernel_37540/2245311451.py\", line 3, in find_coordinate\n",
      "    with open(label_file, 'r') as f:\n",
      "FileNotFoundError: [Errno 2] No such file or directory: '/nfs3-p1/zsxm/dataset/aorta_ct_img_label/negative/chenliuer-23-32-43-140/labels/chenliuer-23-32-43-140_0093.txt'\n",
      "Traceback (most recent call last):\n",
      "  File \"/tmp/ipykernel_37540/2245311451.py\", line 61, in crop_images\n",
      "    x1, y1, x2, y2 = find_coordinate(*img.shape[0:2], os.path.join(label_path, f'{patient}_{i:04d}.txt'), 'j')\n",
      "  File \"/tmp/ipykernel_37540/2245311451.py\", line 3, in find_coordinate\n",
      "    with open(label_file, 'r') as f:\n",
      "FileNotFoundError: [Errno 2] No such file or directory: '/nfs3-p1/zsxm/dataset/aorta_ct_img_label/negative/chenliuer-23-32-43-140/labels/chenliuer-23-32-43-140_0094.txt'\n",
      "Traceback (most recent call last):\n",
      "  File \"/tmp/ipykernel_37540/2245311451.py\", line 61, in crop_images\n",
      "    x1, y1, x2, y2 = find_coordinate(*img.shape[0:2], os.path.join(label_path, f'{patient}_{i:04d}.txt'), 'j')\n",
      "  File \"/tmp/ipykernel_37540/2245311451.py\", line 3, in find_coordinate\n",
      "    with open(label_file, 'r') as f:\n",
      "FileNotFoundError: [Errno 2] No such file or directory: '/nfs3-p1/zsxm/dataset/aorta_ct_img_label/negative/chenliuer-23-32-43-140/labels/chenliuer-23-32-43-140_0095.txt'\n",
      "Traceback (most recent call last):\n",
      "  File \"/tmp/ipykernel_37540/2245311451.py\", line 61, in crop_images\n",
      "    x1, y1, x2, y2 = find_coordinate(*img.shape[0:2], os.path.join(label_path, f'{patient}_{i:04d}.txt'), 'j')\n",
      "  File \"/tmp/ipykernel_37540/2245311451.py\", line 3, in find_coordinate\n",
      "    with open(label_file, 'r') as f:\n",
      "FileNotFoundError: [Errno 2] No such file or directory: '/nfs3-p1/zsxm/dataset/aorta_ct_img_label/negative/chenliuer-23-32-43-140/labels/chenliuer-23-32-43-140_0096.txt'\n",
      "Traceback (most recent call last):\n",
      "  File \"/tmp/ipykernel_37540/2245311451.py\", line 61, in crop_images\n",
      "    x1, y1, x2, y2 = find_coordinate(*img.shape[0:2], os.path.join(label_path, f'{patient}_{i:04d}.txt'), 'j')\n",
      "  File \"/tmp/ipykernel_37540/2245311451.py\", line 3, in find_coordinate\n",
      "    with open(label_file, 'r') as f:\n",
      "FileNotFoundError: [Errno 2] No such file or directory: '/nfs3-p1/zsxm/dataset/aorta_ct_img_label/negative/chenliuer-23-32-43-140/labels/chenliuer-23-32-43-140_0097.txt'\n",
      "Traceback (most recent call last):\n",
      "  File \"/tmp/ipykernel_37540/2245311451.py\", line 61, in crop_images\n",
      "    x1, y1, x2, y2 = find_coordinate(*img.shape[0:2], os.path.join(label_path, f'{patient}_{i:04d}.txt'), 'j')\n",
      "  File \"/tmp/ipykernel_37540/2245311451.py\", line 3, in find_coordinate\n",
      "    with open(label_file, 'r') as f:\n",
      "FileNotFoundError: [Errno 2] No such file or directory: '/nfs3-p1/zsxm/dataset/aorta_ct_img_label/negative/chenliuer-23-32-43-140/labels/chenliuer-23-32-43-140_0098.txt'\n",
      "Traceback (most recent call last):\n",
      "  File \"/tmp/ipykernel_37540/2245311451.py\", line 61, in crop_images\n",
      "    x1, y1, x2, y2 = find_coordinate(*img.shape[0:2], os.path.join(label_path, f'{patient}_{i:04d}.txt'), 'j')\n",
      "  File \"/tmp/ipykernel_37540/2245311451.py\", line 3, in find_coordinate\n",
      "    with open(label_file, 'r') as f:\n",
      "FileNotFoundError: [Errno 2] No such file or directory: '/nfs3-p1/zsxm/dataset/aorta_ct_img_label/negative/chenliuer-23-32-43-140/labels/chenliuer-23-32-43-140_0099.txt'\n",
      "Traceback (most recent call last):\n",
      "  File \"/tmp/ipykernel_37540/2245311451.py\", line 61, in crop_images\n",
      "    x1, y1, x2, y2 = find_coordinate(*img.shape[0:2], os.path.join(label_path, f'{patient}_{i:04d}.txt'), 'j')\n",
      "  File \"/tmp/ipykernel_37540/2245311451.py\", line 3, in find_coordinate\n",
      "    with open(label_file, 'r') as f:\n",
      "FileNotFoundError: [Errno 2] No such file or directory: '/nfs3-p1/zsxm/dataset/aorta_ct_img_label/negative/chenliuer-23-32-43-140/labels/chenliuer-23-32-43-140_0100.txt'\n",
      "Traceback (most recent call last):\n",
      "  File \"/tmp/ipykernel_37540/2245311451.py\", line 61, in crop_images\n",
      "    x1, y1, x2, y2 = find_coordinate(*img.shape[0:2], os.path.join(label_path, f'{patient}_{i:04d}.txt'), 'j')\n",
      "  File \"/tmp/ipykernel_37540/2245311451.py\", line 3, in find_coordinate\n",
      "    with open(label_file, 'r') as f:\n",
      "FileNotFoundError: [Errno 2] No such file or directory: '/nfs3-p1/zsxm/dataset/aorta_ct_img_label/negative/chenliuer-23-32-43-140/labels/chenliuer-23-32-43-140_0104.txt'\n",
      "Traceback (most recent call last):\n",
      "  File \"/tmp/ipykernel_37540/2245311451.py\", line 61, in crop_images\n",
      "    x1, y1, x2, y2 = find_coordinate(*img.shape[0:2], os.path.join(label_path, f'{patient}_{i:04d}.txt'), 'j')\n",
      "  File \"/tmp/ipykernel_37540/2245311451.py\", line 3, in find_coordinate\n",
      "    with open(label_file, 'r') as f:\n",
      "FileNotFoundError: [Errno 2] No such file or directory: '/nfs3-p1/zsxm/dataset/aorta_ct_img_label/negative/chenliuer-23-32-43-140/labels/chenliuer-23-32-43-140_0105.txt'\n",
      "Traceback (most recent call last):\n",
      "  File \"/tmp/ipykernel_37540/2245311451.py\", line 61, in crop_images\n",
      "    x1, y1, x2, y2 = find_coordinate(*img.shape[0:2], os.path.join(label_path, f'{patient}_{i:04d}.txt'), 'j')\n",
      "  File \"/tmp/ipykernel_37540/2245311451.py\", line 3, in find_coordinate\n",
      "    with open(label_file, 'r') as f:\n",
      "FileNotFoundError: [Errno 2] No such file or directory: '/nfs3-p1/zsxm/dataset/aorta_ct_img_label/negative/chenliuer-23-32-43-140/labels/chenliuer-23-32-43-140_0106.txt'\n",
      "Traceback (most recent call last):\n",
      "  File \"/tmp/ipykernel_37540/2245311451.py\", line 61, in crop_images\n",
      "    x1, y1, x2, y2 = find_coordinate(*img.shape[0:2], os.path.join(label_path, f'{patient}_{i:04d}.txt'), 'j')\n",
      "  File \"/tmp/ipykernel_37540/2245311451.py\", line 3, in find_coordinate\n",
      "    with open(label_file, 'r') as f:\n",
      "FileNotFoundError: [Errno 2] No such file or directory: '/nfs3-p1/zsxm/dataset/aorta_ct_img_label/negative/chenliuer-23-32-43-140/labels/chenliuer-23-32-43-140_0107.txt'\n",
      "Traceback (most recent call last):\n",
      "  File \"/tmp/ipykernel_37540/2245311451.py\", line 61, in crop_images\n",
      "    x1, y1, x2, y2 = find_coordinate(*img.shape[0:2], os.path.join(label_path, f'{patient}_{i:04d}.txt'), 'j')\n",
      "  File \"/tmp/ipykernel_37540/2245311451.py\", line 3, in find_coordinate\n",
      "    with open(label_file, 'r') as f:\n",
      "FileNotFoundError: [Errno 2] No such file or directory: '/nfs3-p1/zsxm/dataset/aorta_ct_img_label/negative/chenliuer-23-32-43-140/labels/chenliuer-23-32-43-140_0120.txt'\n",
      "Traceback (most recent call last):\n",
      "  File \"/tmp/ipykernel_37540/2245311451.py\", line 44, in crop_images\n",
      "    x1, y1, x2, y2 = find_coordinate(*img.shape[0:2], os.path.join(label_path, f'{patient}_{i:04d}.txt'), 's')\n",
      "  File \"/tmp/ipykernel_37540/2245311451.py\", line 7, in find_coordinate\n",
      "    assert aorta == 'j', f'如果只有一个label那么此时应为降主动脉, 但实际为{aorta}：{label_file.split(\"/\")[-1]}'\n",
      "AssertionError: 如果只有一个label那么此时应为降主动脉, 但实际为s：chenmaojin-14-20-31-90_0017.txt\n"
     ]
    },
    {
     "name": "stdout",
     "output_type": "stream",
     "text": [
      "******Processing chenmaojin-14-20-31-90******\n",
      "******Processing chenpanyang-21-31-71-161******\n",
      "******Processing chenqiuying-13-17-30-78******\n"
     ]
    },
    {
     "name": "stderr",
     "output_type": "stream",
     "text": [
      "Traceback (most recent call last):\n",
      "  File \"/tmp/ipykernel_37540/2245311451.py\", line 44, in crop_images\n",
      "    x1, y1, x2, y2 = find_coordinate(*img.shape[0:2], os.path.join(label_path, f'{patient}_{i:04d}.txt'), 's')\n",
      "  File \"/tmp/ipykernel_37540/2245311451.py\", line 7, in find_coordinate\n",
      "    assert aorta == 'j', f'如果只有一个label那么此时应为降主动脉, 但实际为{aorta}：{label_file.split(\"/\")[-1]}'\n",
      "AssertionError: 如果只有一个label那么此时应为降主动脉, 但实际为s：chenqiuying-13-17-30-78_0014.txt\n"
     ]
    },
    {
     "name": "stdout",
     "output_type": "stream",
     "text": [
      "******Processing chenruohui-22-30-41-133******\n",
      "******Processing chensaimu-34-44-78-166******\n",
      "******Processing chenshigen-19-25-34-83******\n"
     ]
    },
    {
     "name": "stderr",
     "output_type": "stream",
     "text": [
      "Traceback (most recent call last):\n",
      "  File \"/tmp/ipykernel_37540/2245311451.py\", line 44, in crop_images\n",
      "    x1, y1, x2, y2 = find_coordinate(*img.shape[0:2], os.path.join(label_path, f'{patient}_{i:04d}.txt'), 's')\n",
      "  File \"/tmp/ipykernel_37540/2245311451.py\", line 7, in find_coordinate\n",
      "    assert aorta == 'j', f'如果只有一个label那么此时应为降主动脉, 但实际为{aorta}：{label_file.split(\"/\")[-1]}'\n",
      "AssertionError: 如果只有一个label那么此时应为降主动脉, 但实际为s：chenshigen-19-25-34-83_0021.txt\n",
      "Traceback (most recent call last):\n",
      "  File \"/tmp/ipykernel_37540/2245311451.py\", line 44, in crop_images\n",
      "    x1, y1, x2, y2 = find_coordinate(*img.shape[0:2], os.path.join(label_path, f'{patient}_{i:04d}.txt'), 's')\n",
      "  File \"/tmp/ipykernel_37540/2245311451.py\", line 7, in find_coordinate\n",
      "    assert aorta == 'j', f'如果只有一个label那么此时应为降主动脉, 但实际为{aorta}：{label_file.split(\"/\")[-1]}'\n",
      "AssertionError: 如果只有一个label那么此时应为降主动脉, 但实际为s：chenshigen-19-25-34-83_0022.txt\n"
     ]
    },
    {
     "name": "stdout",
     "output_type": "stream",
     "text": [
      "******Processing chenweiqian-22-31-45-131******\n"
     ]
    },
    {
     "name": "stderr",
     "output_type": "stream",
     "text": [
      "Traceback (most recent call last):\n",
      "  File \"/tmp/ipykernel_37540/2245311451.py\", line 44, in crop_images\n",
      "    x1, y1, x2, y2 = find_coordinate(*img.shape[0:2], os.path.join(label_path, f'{patient}_{i:04d}.txt'), 's')\n",
      "  File \"/tmp/ipykernel_37540/2245311451.py\", line 7, in find_coordinate\n",
      "    assert aorta == 'j', f'如果只有一个label那么此时应为降主动脉, 但实际为{aorta}：{label_file.split(\"/\")[-1]}'\n",
      "AssertionError: 如果只有一个label那么此时应为降主动脉, 但实际为s：chenweiqian-22-31-45-131_0028.txt\n"
     ]
    },
    {
     "name": "stdout",
     "output_type": "stream",
     "text": [
      "******Processing chenxiufen-17-21-34-82******\n"
     ]
    },
    {
     "name": "stderr",
     "output_type": "stream",
     "text": [
      "Traceback (most recent call last):\n",
      "  File \"/tmp/ipykernel_37540/2245311451.py\", line 44, in crop_images\n",
      "    x1, y1, x2, y2 = find_coordinate(*img.shape[0:2], os.path.join(label_path, f'{patient}_{i:04d}.txt'), 's')\n",
      "  File \"/tmp/ipykernel_37540/2245311451.py\", line 7, in find_coordinate\n",
      "    assert aorta == 'j', f'如果只有一个label那么此时应为降主动脉, 但实际为{aorta}：{label_file.split(\"/\")[-1]}'\n",
      "AssertionError: 如果只有一个label那么此时应为降主动脉, 但实际为s：chenxiufen-17-21-34-82_0018.txt\n",
      "Traceback (most recent call last):\n",
      "  File \"/tmp/ipykernel_37540/2245311451.py\", line 44, in crop_images\n",
      "    x1, y1, x2, y2 = find_coordinate(*img.shape[0:2], os.path.join(label_path, f'{patient}_{i:04d}.txt'), 's')\n",
      "  File \"/tmp/ipykernel_37540/2245311451.py\", line 7, in find_coordinate\n",
      "    assert aorta == 'j', f'如果只有一个label那么此时应为降主动脉, 但实际为{aorta}：{label_file.split(\"/\")[-1]}'\n",
      "AssertionError: 如果只有一个label那么此时应为降主动脉, 但实际为s：chenxiufen-17-21-34-82_0019.txt\n"
     ]
    },
    {
     "name": "stdout",
     "output_type": "stream",
     "text": [
      "******Processing chenyanli-20-23-34-80******\n"
     ]
    },
    {
     "name": "stderr",
     "output_type": "stream",
     "text": [
      "Traceback (most recent call last):\n",
      "  File \"/tmp/ipykernel_37540/2245311451.py\", line 44, in crop_images\n",
      "    x1, y1, x2, y2 = find_coordinate(*img.shape[0:2], os.path.join(label_path, f'{patient}_{i:04d}.txt'), 's')\n",
      "  File \"/tmp/ipykernel_37540/2245311451.py\", line 7, in find_coordinate\n",
      "    assert aorta == 'j', f'如果只有一个label那么此时应为降主动脉, 但实际为{aorta}：{label_file.split(\"/\")[-1]}'\n",
      "AssertionError: 如果只有一个label那么此时应为降主动脉, 但实际为s：chenyanli-20-23-34-80_0020.txt\n",
      "Traceback (most recent call last):\n",
      "  File \"/tmp/ipykernel_37540/2245311451.py\", line 44, in crop_images\n",
      "    x1, y1, x2, y2 = find_coordinate(*img.shape[0:2], os.path.join(label_path, f'{patient}_{i:04d}.txt'), 's')\n",
      "  File \"/tmp/ipykernel_37540/2245311451.py\", line 7, in find_coordinate\n",
      "    assert aorta == 'j', f'如果只有一个label那么此时应为降主动脉, 但实际为{aorta}：{label_file.split(\"/\")[-1]}'\n",
      "AssertionError: 如果只有一个label那么此时应为降主动脉, 但实际为s：chenyanli-20-23-34-80_0021.txt\n",
      "Traceback (most recent call last):\n",
      "  File \"/tmp/ipykernel_37540/2245311451.py\", line 44, in crop_images\n",
      "    x1, y1, x2, y2 = find_coordinate(*img.shape[0:2], os.path.join(label_path, f'{patient}_{i:04d}.txt'), 's')\n",
      "  File \"/tmp/ipykernel_37540/2245311451.py\", line 7, in find_coordinate\n",
      "    assert aorta == 'j', f'如果只有一个label那么此时应为降主动脉, 但实际为{aorta}：{label_file.split(\"/\")[-1]}'\n",
      "AssertionError: 如果只有一个label那么此时应为降主动脉, 但实际为s：chenyanli-20-23-34-80_0022.txt\n",
      "Traceback (most recent call last):\n",
      "  File \"/tmp/ipykernel_37540/2245311451.py\", line 61, in crop_images\n",
      "    x1, y1, x2, y2 = find_coordinate(*img.shape[0:2], os.path.join(label_path, f'{patient}_{i:04d}.txt'), 'j')\n",
      "  File \"/tmp/ipykernel_37540/2245311451.py\", line 3, in find_coordinate\n",
      "    with open(label_file, 'r') as f:\n",
      "FileNotFoundError: [Errno 2] No such file or directory: '/nfs3-p1/zsxm/dataset/aorta_ct_img_label/negative/chenyanli-20-23-34-80/labels/chenyanli-20-23-34-80_0066.txt'\n",
      "Traceback (most recent call last):\n",
      "  File \"/tmp/ipykernel_37540/2245311451.py\", line 61, in crop_images\n",
      "    x1, y1, x2, y2 = find_coordinate(*img.shape[0:2], os.path.join(label_path, f'{patient}_{i:04d}.txt'), 'j')\n",
      "  File \"/tmp/ipykernel_37540/2245311451.py\", line 3, in find_coordinate\n",
      "    with open(label_file, 'r') as f:\n",
      "FileNotFoundError: [Errno 2] No such file or directory: '/nfs3-p1/zsxm/dataset/aorta_ct_img_label/negative/chenyanli-20-23-34-80/labels/chenyanli-20-23-34-80_0067.txt'\n",
      "Traceback (most recent call last):\n",
      "  File \"/tmp/ipykernel_37540/2245311451.py\", line 61, in crop_images\n",
      "    x1, y1, x2, y2 = find_coordinate(*img.shape[0:2], os.path.join(label_path, f'{patient}_{i:04d}.txt'), 'j')\n",
      "  File \"/tmp/ipykernel_37540/2245311451.py\", line 3, in find_coordinate\n",
      "    with open(label_file, 'r') as f:\n",
      "FileNotFoundError: [Errno 2] No such file or directory: '/nfs3-p1/zsxm/dataset/aorta_ct_img_label/negative/chenyanli-20-23-34-80/labels/chenyanli-20-23-34-80_0069.txt'\n"
     ]
    },
    {
     "name": "stdout",
     "output_type": "stream",
     "text": [
      "******Processing chenyilin-21-26-36-86******\n",
      "******Processing chenyinfen-18-22-38-81******\n"
     ]
    },
    {
     "name": "stderr",
     "output_type": "stream",
     "text": [
      "Traceback (most recent call last):\n",
      "  File \"/tmp/ipykernel_37540/2245311451.py\", line 44, in crop_images\n",
      "    x1, y1, x2, y2 = find_coordinate(*img.shape[0:2], os.path.join(label_path, f'{patient}_{i:04d}.txt'), 's')\n",
      "  File \"/tmp/ipykernel_37540/2245311451.py\", line 7, in find_coordinate\n",
      "    assert aorta == 'j', f'如果只有一个label那么此时应为降主动脉, 但实际为{aorta}：{label_file.split(\"/\")[-1]}'\n",
      "AssertionError: 如果只有一个label那么此时应为降主动脉, 但实际为s：chenyinfen-18-22-38-81_0019.txt\n",
      "Traceback (most recent call last):\n",
      "  File \"/tmp/ipykernel_37540/2245311451.py\", line 44, in crop_images\n",
      "    x1, y1, x2, y2 = find_coordinate(*img.shape[0:2], os.path.join(label_path, f'{patient}_{i:04d}.txt'), 's')\n",
      "  File \"/tmp/ipykernel_37540/2245311451.py\", line 7, in find_coordinate\n",
      "    assert aorta == 'j', f'如果只有一个label那么此时应为降主动脉, 但实际为{aorta}：{label_file.split(\"/\")[-1]}'\n",
      "AssertionError: 如果只有一个label那么此时应为降主动脉, 但实际为s：chenyinfen-18-22-38-81_0020.txt\n",
      "Traceback (most recent call last):\n",
      "  File \"/tmp/ipykernel_37540/2245311451.py\", line 44, in crop_images\n",
      "    x1, y1, x2, y2 = find_coordinate(*img.shape[0:2], os.path.join(label_path, f'{patient}_{i:04d}.txt'), 's')\n",
      "  File \"/tmp/ipykernel_37540/2245311451.py\", line 7, in find_coordinate\n",
      "    assert aorta == 'j', f'如果只有一个label那么此时应为降主动脉, 但实际为{aorta}：{label_file.split(\"/\")[-1]}'\n",
      "AssertionError: 如果只有一个label那么此时应为降主动脉, 但实际为s：chenyinfen-18-22-38-81_0021.txt\n"
     ]
    },
    {
     "name": "stdout",
     "output_type": "stream",
     "text": [
      "******Processing chenyonghu-24-32-48-141******\n"
     ]
    },
    {
     "name": "stderr",
     "output_type": "stream",
     "text": [
      "Traceback (most recent call last):\n",
      "  File \"/tmp/ipykernel_37540/2245311451.py\", line 44, in crop_images\n",
      "    x1, y1, x2, y2 = find_coordinate(*img.shape[0:2], os.path.join(label_path, f'{patient}_{i:04d}.txt'), 's')\n",
      "  File \"/tmp/ipykernel_37540/2245311451.py\", line 7, in find_coordinate\n",
      "    assert aorta == 'j', f'如果只有一个label那么此时应为降主动脉, 但实际为{aorta}：{label_file.split(\"/\")[-1]}'\n",
      "AssertionError: 如果只有一个label那么此时应为降主动脉, 但实际为s：chenyonghu-24-32-48-141_0029.txt\n"
     ]
    },
    {
     "name": "stdout",
     "output_type": "stream",
     "text": [
      "******Processing cheshengying-25-34-64-139******\n",
      "******Processing daicaihu-22-27-34-85******\n"
     ]
    },
    {
     "name": "stderr",
     "output_type": "stream",
     "text": [
      "Traceback (most recent call last):\n",
      "  File \"/tmp/ipykernel_37540/2245311451.py\", line 44, in crop_images\n",
      "    x1, y1, x2, y2 = find_coordinate(*img.shape[0:2], os.path.join(label_path, f'{patient}_{i:04d}.txt'), 's')\n",
      "  File \"/tmp/ipykernel_37540/2245311451.py\", line 7, in find_coordinate\n",
      "    assert aorta == 'j', f'如果只有一个label那么此时应为降主动脉, 但实际为{aorta}：{label_file.split(\"/\")[-1]}'\n",
      "AssertionError: 如果只有一个label那么此时应为降主动脉, 但实际为s：daicaihu-22-27-34-85_0023.txt\n",
      "Traceback (most recent call last):\n",
      "  File \"/tmp/ipykernel_37540/2245311451.py\", line 44, in crop_images\n",
      "    x1, y1, x2, y2 = find_coordinate(*img.shape[0:2], os.path.join(label_path, f'{patient}_{i:04d}.txt'), 's')\n",
      "  File \"/tmp/ipykernel_37540/2245311451.py\", line 7, in find_coordinate\n",
      "    assert aorta == 'j', f'如果只有一个label那么此时应为降主动脉, 但实际为{aorta}：{label_file.split(\"/\")[-1]}'\n",
      "AssertionError: 如果只有一个label那么此时应为降主动脉, 但实际为s：daicaihu-22-27-34-85_0024.txt\n"
     ]
    },
    {
     "name": "stdout",
     "output_type": "stream",
     "text": [
      "******Processing daijiandong-28-39-50-160******\n",
      "******Processing daixiaofeng-27-38-56-141******\n",
      "******Processing dengdeyu-18-27-43-152******\n",
      "******Processing denghuibin-15-19-35-84******\n"
     ]
    },
    {
     "name": "stderr",
     "output_type": "stream",
     "text": [
      "Traceback (most recent call last):\n",
      "  File \"/tmp/ipykernel_37540/2245311451.py\", line 44, in crop_images\n",
      "    x1, y1, x2, y2 = find_coordinate(*img.shape[0:2], os.path.join(label_path, f'{patient}_{i:04d}.txt'), 's')\n",
      "  File \"/tmp/ipykernel_37540/2245311451.py\", line 7, in find_coordinate\n",
      "    assert aorta == 'j', f'如果只有一个label那么此时应为降主动脉, 但实际为{aorta}：{label_file.split(\"/\")[-1]}'\n",
      "AssertionError: 如果只有一个label那么此时应为降主动脉, 但实际为s：denghuibin-15-19-35-84_0016.txt\n",
      "Traceback (most recent call last):\n",
      "  File \"/tmp/ipykernel_37540/2245311451.py\", line 44, in crop_images\n",
      "    x1, y1, x2, y2 = find_coordinate(*img.shape[0:2], os.path.join(label_path, f'{patient}_{i:04d}.txt'), 's')\n",
      "  File \"/tmp/ipykernel_37540/2245311451.py\", line 7, in find_coordinate\n",
      "    assert aorta == 'j', f'如果只有一个label那么此时应为降主动脉, 但实际为{aorta}：{label_file.split(\"/\")[-1]}'\n",
      "AssertionError: 如果只有一个label那么此时应为降主动脉, 但实际为s：denghuibin-15-19-35-84_0017.txt\n"
     ]
    },
    {
     "name": "stdout",
     "output_type": "stream",
     "text": [
      "******Processing dingbinghai-20-24-45-95******\n"
     ]
    },
    {
     "name": "stderr",
     "output_type": "stream",
     "text": [
      "Traceback (most recent call last):\n",
      "  File \"/tmp/ipykernel_37540/2245311451.py\", line 44, in crop_images\n",
      "    x1, y1, x2, y2 = find_coordinate(*img.shape[0:2], os.path.join(label_path, f'{patient}_{i:04d}.txt'), 's')\n",
      "  File \"/tmp/ipykernel_37540/2245311451.py\", line 7, in find_coordinate\n",
      "    assert aorta == 'j', f'如果只有一个label那么此时应为降主动脉, 但实际为{aorta}：{label_file.split(\"/\")[-1]}'\n",
      "AssertionError: 如果只有一个label那么此时应为降主动脉, 但实际为s：dingbinghai-20-24-45-95_0022.txt\n",
      "Traceback (most recent call last):\n",
      "  File \"/tmp/ipykernel_37540/2245311451.py\", line 61, in crop_images\n",
      "    x1, y1, x2, y2 = find_coordinate(*img.shape[0:2], os.path.join(label_path, f'{patient}_{i:04d}.txt'), 'j')\n",
      "  File \"/tmp/ipykernel_37540/2245311451.py\", line 3, in find_coordinate\n",
      "    with open(label_file, 'r') as f:\n",
      "FileNotFoundError: [Errno 2] No such file or directory: '/nfs3-p1/zsxm/dataset/aorta_ct_img_label/negative/dingbinghai-20-24-45-95/labels/dingbinghai-20-24-45-95_0074.txt'\n"
     ]
    },
    {
     "name": "stdout",
     "output_type": "stream",
     "text": [
      "******Processing dingshuigen-28-38-53-136******\n",
      "******Processing dongxingzhen-9-13-23-77******\n"
     ]
    },
    {
     "name": "stderr",
     "output_type": "stream",
     "text": [
      "Traceback (most recent call last):\n",
      "  File \"/tmp/ipykernel_37540/2245311451.py\", line 44, in crop_images\n",
      "    x1, y1, x2, y2 = find_coordinate(*img.shape[0:2], os.path.join(label_path, f'{patient}_{i:04d}.txt'), 's')\n",
      "  File \"/tmp/ipykernel_37540/2245311451.py\", line 7, in find_coordinate\n",
      "    assert aorta == 'j', f'如果只有一个label那么此时应为降主动脉, 但实际为{aorta}：{label_file.split(\"/\")[-1]}'\n",
      "AssertionError: 如果只有一个label那么此时应为降主动脉, 但实际为s：dongxingzhen-9-13-23-77_0010.txt\n",
      "Traceback (most recent call last):\n",
      "  File \"/tmp/ipykernel_37540/2245311451.py\", line 44, in crop_images\n",
      "    x1, y1, x2, y2 = find_coordinate(*img.shape[0:2], os.path.join(label_path, f'{patient}_{i:04d}.txt'), 's')\n",
      "  File \"/tmp/ipykernel_37540/2245311451.py\", line 7, in find_coordinate\n",
      "    assert aorta == 'j', f'如果只有一个label那么此时应为降主动脉, 但实际为{aorta}：{label_file.split(\"/\")[-1]}'\n",
      "AssertionError: 如果只有一个label那么此时应为降主动脉, 但实际为s：dongxingzhen-9-13-23-77_0011.txt\n"
     ]
    },
    {
     "name": "stdout",
     "output_type": "stream",
     "text": [
      "******Processing dongyonghong-14-19-34-85******\n"
     ]
    },
    {
     "name": "stderr",
     "output_type": "stream",
     "text": [
      "Traceback (most recent call last):\n",
      "  File \"/tmp/ipykernel_37540/2245311451.py\", line 44, in crop_images\n",
      "    x1, y1, x2, y2 = find_coordinate(*img.shape[0:2], os.path.join(label_path, f'{patient}_{i:04d}.txt'), 's')\n",
      "  File \"/tmp/ipykernel_37540/2245311451.py\", line 7, in find_coordinate\n",
      "    assert aorta == 'j', f'如果只有一个label那么此时应为降主动脉, 但实际为{aorta}：{label_file.split(\"/\")[-1]}'\n",
      "AssertionError: 如果只有一个label那么此时应为降主动脉, 但实际为s：dongyonghong-14-19-34-85_0016.txt\n",
      "Traceback (most recent call last):\n",
      "  File \"/tmp/ipykernel_37540/2245311451.py\", line 44, in crop_images\n",
      "    x1, y1, x2, y2 = find_coordinate(*img.shape[0:2], os.path.join(label_path, f'{patient}_{i:04d}.txt'), 's')\n",
      "  File \"/tmp/ipykernel_37540/2245311451.py\", line 7, in find_coordinate\n",
      "    assert aorta == 'j', f'如果只有一个label那么此时应为降主动脉, 但实际为{aorta}：{label_file.split(\"/\")[-1]}'\n",
      "AssertionError: 如果只有一个label那么此时应为降主动脉, 但实际为s：dongyonghong-14-19-34-85_0017.txt\n"
     ]
    },
    {
     "name": "stdout",
     "output_type": "stream",
     "text": [
      "******Processing dujinlian-17-20-36-82******\n"
     ]
    },
    {
     "name": "stderr",
     "output_type": "stream",
     "text": [
      "Traceback (most recent call last):\n",
      "  File \"/tmp/ipykernel_37540/2245311451.py\", line 44, in crop_images\n",
      "    x1, y1, x2, y2 = find_coordinate(*img.shape[0:2], os.path.join(label_path, f'{patient}_{i:04d}.txt'), 's')\n",
      "  File \"/tmp/ipykernel_37540/2245311451.py\", line 7, in find_coordinate\n",
      "    assert aorta == 'j', f'如果只有一个label那么此时应为降主动脉, 但实际为{aorta}：{label_file.split(\"/\")[-1]}'\n",
      "AssertionError: 如果只有一个label那么此时应为降主动脉, 但实际为s：dujinlian-17-20-36-82_0017.txt\n",
      "Traceback (most recent call last):\n",
      "  File \"/tmp/ipykernel_37540/2245311451.py\", line 44, in crop_images\n",
      "    x1, y1, x2, y2 = find_coordinate(*img.shape[0:2], os.path.join(label_path, f'{patient}_{i:04d}.txt'), 's')\n",
      "  File \"/tmp/ipykernel_37540/2245311451.py\", line 7, in find_coordinate\n",
      "    assert aorta == 'j', f'如果只有一个label那么此时应为降主动脉, 但实际为{aorta}：{label_file.split(\"/\")[-1]}'\n",
      "AssertionError: 如果只有一个label那么此时应为降主动脉, 但实际为s：dujinlian-17-20-36-82_0018.txt\n",
      "Traceback (most recent call last):\n",
      "  File \"/tmp/ipykernel_37540/2245311451.py\", line 44, in crop_images\n",
      "    x1, y1, x2, y2 = find_coordinate(*img.shape[0:2], os.path.join(label_path, f'{patient}_{i:04d}.txt'), 's')\n",
      "  File \"/tmp/ipykernel_37540/2245311451.py\", line 7, in find_coordinate\n",
      "    assert aorta == 'j', f'如果只有一个label那么此时应为降主动脉, 但实际为{aorta}：{label_file.split(\"/\")[-1]}'\n",
      "AssertionError: 如果只有一个label那么此时应为降主动脉, 但实际为s：dujinlian-17-20-36-82_0019.txt\n"
     ]
    },
    {
     "name": "stdout",
     "output_type": "stream",
     "text": [
      "******Processing duyangchun-16-22-31-90******\n"
     ]
    },
    {
     "name": "stderr",
     "output_type": "stream",
     "text": [
      "Traceback (most recent call last):\n",
      "  File \"/tmp/ipykernel_37540/2245311451.py\", line 44, in crop_images\n",
      "    x1, y1, x2, y2 = find_coordinate(*img.shape[0:2], os.path.join(label_path, f'{patient}_{i:04d}.txt'), 's')\n",
      "  File \"/tmp/ipykernel_37540/2245311451.py\", line 7, in find_coordinate\n",
      "    assert aorta == 'j', f'如果只有一个label那么此时应为降主动脉, 但实际为{aorta}：{label_file.split(\"/\")[-1]}'\n",
      "AssertionError: 如果只有一个label那么此时应为降主动脉, 但实际为s：duyangchun-16-22-31-90_0018.txt\n",
      "Traceback (most recent call last):\n",
      "  File \"/tmp/ipykernel_37540/2245311451.py\", line 44, in crop_images\n",
      "    x1, y1, x2, y2 = find_coordinate(*img.shape[0:2], os.path.join(label_path, f'{patient}_{i:04d}.txt'), 's')\n",
      "  File \"/tmp/ipykernel_37540/2245311451.py\", line 7, in find_coordinate\n",
      "    assert aorta == 'j', f'如果只有一个label那么此时应为降主动脉, 但实际为{aorta}：{label_file.split(\"/\")[-1]}'\n",
      "AssertionError: 如果只有一个label那么此时应为降主动脉, 但实际为s：duyangchun-16-22-31-90_0019.txt\n",
      "Traceback (most recent call last):\n",
      "  File \"/tmp/ipykernel_37540/2245311451.py\", line 44, in crop_images\n",
      "    x1, y1, x2, y2 = find_coordinate(*img.shape[0:2], os.path.join(label_path, f'{patient}_{i:04d}.txt'), 's')\n",
      "  File \"/tmp/ipykernel_37540/2245311451.py\", line 7, in find_coordinate\n",
      "    assert aorta == 'j', f'如果只有一个label那么此时应为降主动脉, 但实际为{aorta}：{label_file.split(\"/\")[-1]}'\n",
      "AssertionError: 如果只有一个label那么此时应为降主动脉, 但实际为s：duyangchun-16-22-31-90_0020.txt\n"
     ]
    },
    {
     "name": "stdout",
     "output_type": "stream",
     "text": [
      "******Processing fangchengfu-26-39-76-182******\n",
      "******Processing fangjinchai-19-23-31-81******\n"
     ]
    },
    {
     "name": "stderr",
     "output_type": "stream",
     "text": [
      "Traceback (most recent call last):\n",
      "  File \"/tmp/ipykernel_37540/2245311451.py\", line 44, in crop_images\n",
      "    x1, y1, x2, y2 = find_coordinate(*img.shape[0:2], os.path.join(label_path, f'{patient}_{i:04d}.txt'), 's')\n",
      "  File \"/tmp/ipykernel_37540/2245311451.py\", line 7, in find_coordinate\n",
      "    assert aorta == 'j', f'如果只有一个label那么此时应为降主动脉, 但实际为{aorta}：{label_file.split(\"/\")[-1]}'\n",
      "AssertionError: 如果只有一个label那么此时应为降主动脉, 但实际为s：fangjinchai-19-23-31-81_0019.txt\n",
      "Traceback (most recent call last):\n",
      "  File \"/tmp/ipykernel_37540/2245311451.py\", line 44, in crop_images\n",
      "    x1, y1, x2, y2 = find_coordinate(*img.shape[0:2], os.path.join(label_path, f'{patient}_{i:04d}.txt'), 's')\n",
      "  File \"/tmp/ipykernel_37540/2245311451.py\", line 7, in find_coordinate\n",
      "    assert aorta == 'j', f'如果只有一个label那么此时应为降主动脉, 但实际为{aorta}：{label_file.split(\"/\")[-1]}'\n",
      "AssertionError: 如果只有一个label那么此时应为降主动脉, 但实际为s：fangjinchai-19-23-31-81_0020.txt\n",
      "Traceback (most recent call last):\n",
      "  File \"/tmp/ipykernel_37540/2245311451.py\", line 44, in crop_images\n",
      "    x1, y1, x2, y2 = find_coordinate(*img.shape[0:2], os.path.join(label_path, f'{patient}_{i:04d}.txt'), 's')\n",
      "  File \"/tmp/ipykernel_37540/2245311451.py\", line 7, in find_coordinate\n",
      "    assert aorta == 'j', f'如果只有一个label那么此时应为降主动脉, 但实际为{aorta}：{label_file.split(\"/\")[-1]}'\n",
      "AssertionError: 如果只有一个label那么此时应为降主动脉, 但实际为s：fangjinchai-19-23-31-81_0021.txt\n"
     ]
    },
    {
     "name": "stdout",
     "output_type": "stream",
     "text": [
      "******Processing fangrurong-16-25-55-132******\n",
      "******Processing fangyungen-14-18-34-75******\n"
     ]
    },
    {
     "name": "stderr",
     "output_type": "stream",
     "text": [
      "Traceback (most recent call last):\n",
      "  File \"/tmp/ipykernel_37540/2245311451.py\", line 44, in crop_images\n",
      "    x1, y1, x2, y2 = find_coordinate(*img.shape[0:2], os.path.join(label_path, f'{patient}_{i:04d}.txt'), 's')\n",
      "  File \"/tmp/ipykernel_37540/2245311451.py\", line 7, in find_coordinate\n",
      "    assert aorta == 'j', f'如果只有一个label那么此时应为降主动脉, 但实际为{aorta}：{label_file.split(\"/\")[-1]}'\n",
      "AssertionError: 如果只有一个label那么此时应为降主动脉, 但实际为s：fangyungen-14-18-34-75_0015.txt\n"
     ]
    },
    {
     "name": "stdout",
     "output_type": "stream",
     "text": [
      "******Processing fangzhengyi-26-37-53-153******\n"
     ]
    },
    {
     "name": "stderr",
     "output_type": "stream",
     "text": [
      "Traceback (most recent call last):\n",
      "  File \"/tmp/ipykernel_37540/2245311451.py\", line 61, in crop_images\n",
      "    x1, y1, x2, y2 = find_coordinate(*img.shape[0:2], os.path.join(label_path, f'{patient}_{i:04d}.txt'), 'j')\n",
      "  File \"/tmp/ipykernel_37540/2245311451.py\", line 13, in find_coordinate\n",
      "    assert 0.25 < corr1[1] < 0.75 and 0.2 < corr1[2] < 0.8, f'边界框1中心({corr1[1]}, {corr1[2]})出界：{label_file.split(\"/\")[-1]}'\n",
      "AssertionError: 边界框1中心(0.776367, 0.705078)出界：fangzhengyi-26-37-53-153_0123.txt\n",
      "Traceback (most recent call last):\n",
      "  File \"/tmp/ipykernel_37540/2245311451.py\", line 61, in crop_images\n",
      "    x1, y1, x2, y2 = find_coordinate(*img.shape[0:2], os.path.join(label_path, f'{patient}_{i:04d}.txt'), 'j')\n",
      "  File \"/tmp/ipykernel_37540/2245311451.py\", line 13, in find_coordinate\n",
      "    assert 0.25 < corr1[1] < 0.75 and 0.2 < corr1[2] < 0.8, f'边界框1中心({corr1[1]}, {corr1[2]})出界：{label_file.split(\"/\")[-1]}'\n",
      "AssertionError: 边界框1中心(0.776367, 0.704102)出界：fangzhengyi-26-37-53-153_0124.txt\n"
     ]
    },
    {
     "name": "stdout",
     "output_type": "stream",
     "text": [
      "******Processing fangzijian-19-30-50-153******\n",
      "******Processing fanshiming-15-20-30-83******\n"
     ]
    },
    {
     "name": "stderr",
     "output_type": "stream",
     "text": [
      "Traceback (most recent call last):\n",
      "  File \"/tmp/ipykernel_37540/2245311451.py\", line 44, in crop_images\n",
      "    x1, y1, x2, y2 = find_coordinate(*img.shape[0:2], os.path.join(label_path, f'{patient}_{i:04d}.txt'), 's')\n",
      "  File \"/tmp/ipykernel_37540/2245311451.py\", line 7, in find_coordinate\n",
      "    assert aorta == 'j', f'如果只有一个label那么此时应为降主动脉, 但实际为{aorta}：{label_file.split(\"/\")[-1]}'\n",
      "AssertionError: 如果只有一个label那么此时应为降主动脉, 但实际为s：fanshiming-15-20-30-83_0017.txt\n"
     ]
    },
    {
     "name": "stdout",
     "output_type": "stream",
     "text": [
      "******Processing fanxinghua-41-48-69-144******\n"
     ]
    },
    {
     "name": "stderr",
     "output_type": "stream",
     "text": [
      "Traceback (most recent call last):\n",
      "  File \"/tmp/ipykernel_37540/2245311451.py\", line 44, in crop_images\n",
      "    x1, y1, x2, y2 = find_coordinate(*img.shape[0:2], os.path.join(label_path, f'{patient}_{i:04d}.txt'), 's')\n",
      "  File \"/tmp/ipykernel_37540/2245311451.py\", line 7, in find_coordinate\n",
      "    assert aorta == 'j', f'如果只有一个label那么此时应为降主动脉, 但实际为{aorta}：{label_file.split(\"/\")[-1]}'\n",
      "AssertionError: 如果只有一个label那么此时应为降主动脉, 但实际为s：fanxinghua-41-48-69-144_0046.txt\n"
     ]
    },
    {
     "name": "stdout",
     "output_type": "stream",
     "text": [
      "******Processing fengaiyuan-26-32-46-121******\n"
     ]
    },
    {
     "name": "stderr",
     "output_type": "stream",
     "text": [
      "Traceback (most recent call last):\n",
      "  File \"/tmp/ipykernel_37540/2245311451.py\", line 61, in crop_images\n",
      "    x1, y1, x2, y2 = find_coordinate(*img.shape[0:2], os.path.join(label_path, f'{patient}_{i:04d}.txt'), 'j')\n",
      "  File \"/tmp/ipykernel_37540/2245311451.py\", line 3, in find_coordinate\n",
      "    with open(label_file, 'r') as f:\n",
      "FileNotFoundError: [Errno 2] No such file or directory: '/nfs3-p1/zsxm/dataset/aorta_ct_img_label/negative/fengaiyuan-26-32-46-121/labels/fengaiyuan-26-32-46-121_0099.txt'\n",
      "Traceback (most recent call last):\n",
      "  File \"/tmp/ipykernel_37540/2245311451.py\", line 61, in crop_images\n",
      "    x1, y1, x2, y2 = find_coordinate(*img.shape[0:2], os.path.join(label_path, f'{patient}_{i:04d}.txt'), 'j')\n",
      "  File \"/tmp/ipykernel_37540/2245311451.py\", line 3, in find_coordinate\n",
      "    with open(label_file, 'r') as f:\n",
      "FileNotFoundError: [Errno 2] No such file or directory: '/nfs3-p1/zsxm/dataset/aorta_ct_img_label/negative/fengaiyuan-26-32-46-121/labels/fengaiyuan-26-32-46-121_0100.txt'\n",
      "Traceback (most recent call last):\n",
      "  File \"/tmp/ipykernel_37540/2245311451.py\", line 61, in crop_images\n",
      "    x1, y1, x2, y2 = find_coordinate(*img.shape[0:2], os.path.join(label_path, f'{patient}_{i:04d}.txt'), 'j')\n",
      "  File \"/tmp/ipykernel_37540/2245311451.py\", line 3, in find_coordinate\n",
      "    with open(label_file, 'r') as f:\n",
      "FileNotFoundError: [Errno 2] No such file or directory: '/nfs3-p1/zsxm/dataset/aorta_ct_img_label/negative/fengaiyuan-26-32-46-121/labels/fengaiyuan-26-32-46-121_0101.txt'\n",
      "Traceback (most recent call last):\n",
      "  File \"/tmp/ipykernel_37540/2245311451.py\", line 61, in crop_images\n",
      "    x1, y1, x2, y2 = find_coordinate(*img.shape[0:2], os.path.join(label_path, f'{patient}_{i:04d}.txt'), 'j')\n",
      "  File \"/tmp/ipykernel_37540/2245311451.py\", line 3, in find_coordinate\n",
      "    with open(label_file, 'r') as f:\n",
      "FileNotFoundError: [Errno 2] No such file or directory: '/nfs3-p1/zsxm/dataset/aorta_ct_img_label/negative/fengaiyuan-26-32-46-121/labels/fengaiyuan-26-32-46-121_0102.txt'\n",
      "Traceback (most recent call last):\n",
      "  File \"/tmp/ipykernel_37540/2245311451.py\", line 61, in crop_images\n",
      "    x1, y1, x2, y2 = find_coordinate(*img.shape[0:2], os.path.join(label_path, f'{patient}_{i:04d}.txt'), 'j')\n",
      "  File \"/tmp/ipykernel_37540/2245311451.py\", line 3, in find_coordinate\n",
      "    with open(label_file, 'r') as f:\n",
      "FileNotFoundError: [Errno 2] No such file or directory: '/nfs3-p1/zsxm/dataset/aorta_ct_img_label/negative/fengaiyuan-26-32-46-121/labels/fengaiyuan-26-32-46-121_0104.txt'\n"
     ]
    },
    {
     "name": "stdout",
     "output_type": "stream",
     "text": [
      "******Processing fengdayan-30-38-69-146******\n",
      "******Processing fengqiufen-14-19-27-75******\n"
     ]
    },
    {
     "name": "stderr",
     "output_type": "stream",
     "text": [
      "Traceback (most recent call last):\n",
      "  File \"/tmp/ipykernel_37540/2245311451.py\", line 44, in crop_images\n",
      "    x1, y1, x2, y2 = find_coordinate(*img.shape[0:2], os.path.join(label_path, f'{patient}_{i:04d}.txt'), 's')\n",
      "  File \"/tmp/ipykernel_37540/2245311451.py\", line 7, in find_coordinate\n",
      "    assert aorta == 'j', f'如果只有一个label那么此时应为降主动脉, 但实际为{aorta}：{label_file.split(\"/\")[-1]}'\n",
      "AssertionError: 如果只有一个label那么此时应为降主动脉, 但实际为s：fengqiufen-14-19-27-75_0015.txt\n",
      "Traceback (most recent call last):\n",
      "  File \"/tmp/ipykernel_37540/2245311451.py\", line 44, in crop_images\n",
      "    x1, y1, x2, y2 = find_coordinate(*img.shape[0:2], os.path.join(label_path, f'{patient}_{i:04d}.txt'), 's')\n",
      "  File \"/tmp/ipykernel_37540/2245311451.py\", line 7, in find_coordinate\n",
      "    assert aorta == 'j', f'如果只有一个label那么此时应为降主动脉, 但实际为{aorta}：{label_file.split(\"/\")[-1]}'\n",
      "AssertionError: 如果只有一个label那么此时应为降主动脉, 但实际为s：fengqiufen-14-19-27-75_0016.txt\n"
     ]
    },
    {
     "name": "stdout",
     "output_type": "stream",
     "text": [
      "******Processing fubaohua-30-41-62-149******\n",
      "******Processing fudianqin-15-19-33-78******\n"
     ]
    },
    {
     "name": "stderr",
     "output_type": "stream",
     "text": [
      "Traceback (most recent call last):\n",
      "  File \"/tmp/ipykernel_37540/2245311451.py\", line 44, in crop_images\n",
      "    x1, y1, x2, y2 = find_coordinate(*img.shape[0:2], os.path.join(label_path, f'{patient}_{i:04d}.txt'), 's')\n",
      "  File \"/tmp/ipykernel_37540/2245311451.py\", line 7, in find_coordinate\n",
      "    assert aorta == 'j', f'如果只有一个label那么此时应为降主动脉, 但实际为{aorta}：{label_file.split(\"/\")[-1]}'\n",
      "AssertionError: 如果只有一个label那么此时应为降主动脉, 但实际为s：fudianqin-15-19-33-78_0016.txt\n",
      "Traceback (most recent call last):\n",
      "  File \"/tmp/ipykernel_37540/2245311451.py\", line 44, in crop_images\n",
      "    x1, y1, x2, y2 = find_coordinate(*img.shape[0:2], os.path.join(label_path, f'{patient}_{i:04d}.txt'), 's')\n",
      "  File \"/tmp/ipykernel_37540/2245311451.py\", line 7, in find_coordinate\n",
      "    assert aorta == 'j', f'如果只有一个label那么此时应为降主动脉, 但实际为{aorta}：{label_file.split(\"/\")[-1]}'\n",
      "AssertionError: 如果只有一个label那么此时应为降主动脉, 但实际为s：fudianqin-15-19-33-78_0017.txt\n",
      "Traceback (most recent call last):\n",
      "  File \"/tmp/ipykernel_37540/2245311451.py\", line 44, in crop_images\n",
      "    x1, y1, x2, y2 = find_coordinate(*img.shape[0:2], os.path.join(label_path, f'{patient}_{i:04d}.txt'), 's')\n",
      "  File \"/tmp/ipykernel_37540/2245311451.py\", line 7, in find_coordinate\n",
      "    assert aorta == 'j', f'如果只有一个label那么此时应为降主动脉, 但实际为{aorta}：{label_file.split(\"/\")[-1]}'\n",
      "AssertionError: 如果只有一个label那么此时应为降主动脉, 但实际为s：fudianqin-15-19-33-78_0018.txt\n",
      "Traceback (most recent call last):\n",
      "  File \"/tmp/ipykernel_37540/2245311451.py\", line 44, in crop_images\n",
      "    x1, y1, x2, y2 = find_coordinate(*img.shape[0:2], os.path.join(label_path, f'{patient}_{i:04d}.txt'), 's')\n",
      "  File \"/tmp/ipykernel_37540/2245311451.py\", line 7, in find_coordinate\n",
      "    assert aorta == 'j', f'如果只有一个label那么此时应为降主动脉, 但实际为{aorta}：{label_file.split(\"/\")[-1]}'\n",
      "AssertionError: 如果只有一个label那么此时应为降主动脉, 但实际为s：fudianqin-15-19-33-78_0032.txt\n"
     ]
    },
    {
     "name": "stdout",
     "output_type": "stream",
     "text": [
      "******Processing fudiyang-22-30-46-128******\n"
     ]
    },
    {
     "name": "stderr",
     "output_type": "stream",
     "text": [
      "Traceback (most recent call last):\n",
      "  File \"/tmp/ipykernel_37540/2245311451.py\", line 44, in crop_images\n",
      "    x1, y1, x2, y2 = find_coordinate(*img.shape[0:2], os.path.join(label_path, f'{patient}_{i:04d}.txt'), 's')\n",
      "  File \"/tmp/ipykernel_37540/2245311451.py\", line 7, in find_coordinate\n",
      "    assert aorta == 'j', f'如果只有一个label那么此时应为降主动脉, 但实际为{aorta}：{label_file.split(\"/\")[-1]}'\n",
      "AssertionError: 如果只有一个label那么此时应为降主动脉, 但实际为s：fudiyang-22-30-46-128_0027.txt\n"
     ]
    },
    {
     "name": "stdout",
     "output_type": "stream",
     "text": [
      "******Processing fuhongliang-14-22-33-154******\n"
     ]
    },
    {
     "name": "stderr",
     "output_type": "stream",
     "text": [
      "Traceback (most recent call last):\n",
      "  File \"/tmp/ipykernel_37540/2245311451.py\", line 44, in crop_images\n",
      "    x1, y1, x2, y2 = find_coordinate(*img.shape[0:2], os.path.join(label_path, f'{patient}_{i:04d}.txt'), 's')\n",
      "  File \"/tmp/ipykernel_37540/2245311451.py\", line 7, in find_coordinate\n",
      "    assert aorta == 'j', f'如果只有一个label那么此时应为降主动脉, 但实际为{aorta}：{label_file.split(\"/\")[-1]}'\n",
      "AssertionError: 如果只有一个label那么此时应为降主动脉, 但实际为s：fuhongliang-14-22-33-154_0019.txt\n"
     ]
    },
    {
     "name": "stdout",
     "output_type": "stream",
     "text": [
      "******Processing fujingjing-24-32-39-127******\n"
     ]
    },
    {
     "name": "stderr",
     "output_type": "stream",
     "text": [
      "Traceback (most recent call last):\n",
      "  File \"/tmp/ipykernel_37540/2245311451.py\", line 44, in crop_images\n",
      "    x1, y1, x2, y2 = find_coordinate(*img.shape[0:2], os.path.join(label_path, f'{patient}_{i:04d}.txt'), 's')\n",
      "  File \"/tmp/ipykernel_37540/2245311451.py\", line 7, in find_coordinate\n",
      "    assert aorta == 'j', f'如果只有一个label那么此时应为降主动脉, 但实际为{aorta}：{label_file.split(\"/\")[-1]}'\n",
      "AssertionError: 如果只有一个label那么此时应为降主动脉, 但实际为s：fujingjing-24-32-39-127_0028.txt\n",
      "Traceback (most recent call last):\n",
      "  File \"/tmp/ipykernel_37540/2245311451.py\", line 44, in crop_images\n",
      "    x1, y1, x2, y2 = find_coordinate(*img.shape[0:2], os.path.join(label_path, f'{patient}_{i:04d}.txt'), 's')\n",
      "  File \"/tmp/ipykernel_37540/2245311451.py\", line 7, in find_coordinate\n",
      "    assert aorta == 'j', f'如果只有一个label那么此时应为降主动脉, 但实际为{aorta}：{label_file.split(\"/\")[-1]}'\n",
      "AssertionError: 如果只有一个label那么此时应为降主动脉, 但实际为s：fujingjing-24-32-39-127_0029.txt\n"
     ]
    },
    {
     "name": "stdout",
     "output_type": "stream",
     "text": [
      "******Processing gaoanhui-17-22-31-85******\n"
     ]
    },
    {
     "name": "stderr",
     "output_type": "stream",
     "text": [
      "Traceback (most recent call last):\n",
      "  File \"/tmp/ipykernel_37540/2245311451.py\", line 44, in crop_images\n",
      "    x1, y1, x2, y2 = find_coordinate(*img.shape[0:2], os.path.join(label_path, f'{patient}_{i:04d}.txt'), 's')\n",
      "  File \"/tmp/ipykernel_37540/2245311451.py\", line 7, in find_coordinate\n",
      "    assert aorta == 'j', f'如果只有一个label那么此时应为降主动脉, 但实际为{aorta}：{label_file.split(\"/\")[-1]}'\n",
      "AssertionError: 如果只有一个label那么此时应为降主动脉, 但实际为s：gaoanhui-17-22-31-85_0018.txt\n",
      "Traceback (most recent call last):\n",
      "  File \"/tmp/ipykernel_37540/2245311451.py\", line 44, in crop_images\n",
      "    x1, y1, x2, y2 = find_coordinate(*img.shape[0:2], os.path.join(label_path, f'{patient}_{i:04d}.txt'), 's')\n",
      "  File \"/tmp/ipykernel_37540/2245311451.py\", line 7, in find_coordinate\n",
      "    assert aorta == 'j', f'如果只有一个label那么此时应为降主动脉, 但实际为{aorta}：{label_file.split(\"/\")[-1]}'\n",
      "AssertionError: 如果只有一个label那么此时应为降主动脉, 但实际为s：gaoanhui-17-22-31-85_0019.txt\n"
     ]
    },
    {
     "name": "stdout",
     "output_type": "stream",
     "text": [
      "******Processing gaoqigen-36-45-63-148******\n"
     ]
    },
    {
     "name": "stderr",
     "output_type": "stream",
     "text": [
      "Traceback (most recent call last):\n",
      "  File \"/tmp/ipykernel_37540/2245311451.py\", line 44, in crop_images\n",
      "    x1, y1, x2, y2 = find_coordinate(*img.shape[0:2], os.path.join(label_path, f'{patient}_{i:04d}.txt'), 's')\n",
      "  File \"/tmp/ipykernel_37540/2245311451.py\", line 7, in find_coordinate\n",
      "    assert aorta == 'j', f'如果只有一个label那么此时应为降主动脉, 但实际为{aorta}：{label_file.split(\"/\")[-1]}'\n",
      "AssertionError: 如果只有一个label那么此时应为降主动脉, 但实际为s：gaoqigen-36-45-63-148_0042.txt\n"
     ]
    },
    {
     "name": "stdout",
     "output_type": "stream",
     "text": [
      "******Processing gaowenfu-16-26-50-141******\n",
      "******Processing gaozhaocheng-19-26-42-90******\n"
     ]
    },
    {
     "name": "stderr",
     "output_type": "stream",
     "text": [
      "Traceback (most recent call last):\n",
      "  File \"/tmp/ipykernel_37540/2245311451.py\", line 44, in crop_images\n",
      "    x1, y1, x2, y2 = find_coordinate(*img.shape[0:2], os.path.join(label_path, f'{patient}_{i:04d}.txt'), 's')\n",
      "  File \"/tmp/ipykernel_37540/2245311451.py\", line 7, in find_coordinate\n",
      "    assert aorta == 'j', f'如果只有一个label那么此时应为降主动脉, 但实际为{aorta}：{label_file.split(\"/\")[-1]}'\n",
      "AssertionError: 如果只有一个label那么此时应为降主动脉, 但实际为s：gaozhaocheng-19-26-42-90_0023.txt\n"
     ]
    },
    {
     "name": "stdout",
     "output_type": "stream",
     "text": [
      "******Processing gegaocai-20-24-32-88******\n"
     ]
    },
    {
     "name": "stderr",
     "output_type": "stream",
     "text": [
      "Traceback (most recent call last):\n",
      "  File \"/tmp/ipykernel_37540/2245311451.py\", line 44, in crop_images\n",
      "    x1, y1, x2, y2 = find_coordinate(*img.shape[0:2], os.path.join(label_path, f'{patient}_{i:04d}.txt'), 's')\n",
      "  File \"/tmp/ipykernel_37540/2245311451.py\", line 7, in find_coordinate\n",
      "    assert aorta == 'j', f'如果只有一个label那么此时应为降主动脉, 但实际为{aorta}：{label_file.split(\"/\")[-1]}'\n",
      "AssertionError: 如果只有一个label那么此时应为降主动脉, 但实际为s：gegaocai-20-24-32-88_0020.txt\n",
      "Traceback (most recent call last):\n",
      "  File \"/tmp/ipykernel_37540/2245311451.py\", line 44, in crop_images\n",
      "    x1, y1, x2, y2 = find_coordinate(*img.shape[0:2], os.path.join(label_path, f'{patient}_{i:04d}.txt'), 's')\n",
      "  File \"/tmp/ipykernel_37540/2245311451.py\", line 7, in find_coordinate\n",
      "    assert aorta == 'j', f'如果只有一个label那么此时应为降主动脉, 但实际为{aorta}：{label_file.split(\"/\")[-1]}'\n",
      "AssertionError: 如果只有一个label那么此时应为降主动脉, 但实际为s：gegaocai-20-24-32-88_0021.txt\n",
      "Traceback (most recent call last):\n",
      "  File \"/tmp/ipykernel_37540/2245311451.py\", line 44, in crop_images\n",
      "    x1, y1, x2, y2 = find_coordinate(*img.shape[0:2], os.path.join(label_path, f'{patient}_{i:04d}.txt'), 's')\n",
      "  File \"/tmp/ipykernel_37540/2245311451.py\", line 7, in find_coordinate\n",
      "    assert aorta == 'j', f'如果只有一个label那么此时应为降主动脉, 但实际为{aorta}：{label_file.split(\"/\")[-1]}'\n",
      "AssertionError: 如果只有一个label那么此时应为降主动脉, 但实际为s：gegaocai-20-24-32-88_0022.txt\n"
     ]
    },
    {
     "name": "stdout",
     "output_type": "stream",
     "text": [
      "******Processing gejinhua-21-26-35-82******\n"
     ]
    },
    {
     "name": "stderr",
     "output_type": "stream",
     "text": [
      "Traceback (most recent call last):\n",
      "  File \"/tmp/ipykernel_37540/2245311451.py\", line 44, in crop_images\n",
      "    x1, y1, x2, y2 = find_coordinate(*img.shape[0:2], os.path.join(label_path, f'{patient}_{i:04d}.txt'), 's')\n",
      "  File \"/tmp/ipykernel_37540/2245311451.py\", line 7, in find_coordinate\n",
      "    assert aorta == 'j', f'如果只有一个label那么此时应为降主动脉, 但实际为{aorta}：{label_file.split(\"/\")[-1]}'\n",
      "AssertionError: 如果只有一个label那么此时应为降主动脉, 但实际为s：gejinhua-21-26-35-82_0022.txt\n",
      "Traceback (most recent call last):\n",
      "  File \"/tmp/ipykernel_37540/2245311451.py\", line 44, in crop_images\n",
      "    x1, y1, x2, y2 = find_coordinate(*img.shape[0:2], os.path.join(label_path, f'{patient}_{i:04d}.txt'), 's')\n",
      "  File \"/tmp/ipykernel_37540/2245311451.py\", line 7, in find_coordinate\n",
      "    assert aorta == 'j', f'如果只有一个label那么此时应为降主动脉, 但实际为{aorta}：{label_file.split(\"/\")[-1]}'\n",
      "AssertionError: 如果只有一个label那么此时应为降主动脉, 但实际为s：gejinhua-21-26-35-82_0023.txt\n"
     ]
    },
    {
     "name": "stdout",
     "output_type": "stream",
     "text": [
      "******Processing geqingqing-33-41-68-169******\n"
     ]
    },
    {
     "name": "stderr",
     "output_type": "stream",
     "text": [
      "Traceback (most recent call last):\n",
      "  File \"/tmp/ipykernel_37540/2245311451.py\", line 44, in crop_images\n",
      "    x1, y1, x2, y2 = find_coordinate(*img.shape[0:2], os.path.join(label_path, f'{patient}_{i:04d}.txt'), 's')\n",
      "  File \"/tmp/ipykernel_37540/2245311451.py\", line 7, in find_coordinate\n",
      "    assert aorta == 'j', f'如果只有一个label那么此时应为降主动脉, 但实际为{aorta}：{label_file.split(\"/\")[-1]}'\n",
      "AssertionError: 如果只有一个label那么此时应为降主动脉, 但实际为s：geqingqing-33-41-68-169_0039.txt\n"
     ]
    },
    {
     "name": "stdout",
     "output_type": "stream",
     "text": [
      "******Processing gezhenghua-15-19-34-88******\n"
     ]
    },
    {
     "name": "stderr",
     "output_type": "stream",
     "text": [
      "Traceback (most recent call last):\n",
      "  File \"/tmp/ipykernel_37540/2245311451.py\", line 44, in crop_images\n",
      "    x1, y1, x2, y2 = find_coordinate(*img.shape[0:2], os.path.join(label_path, f'{patient}_{i:04d}.txt'), 's')\n",
      "  File \"/tmp/ipykernel_37540/2245311451.py\", line 7, in find_coordinate\n",
      "    assert aorta == 'j', f'如果只有一个label那么此时应为降主动脉, 但实际为{aorta}：{label_file.split(\"/\")[-1]}'\n",
      "AssertionError: 如果只有一个label那么此时应为降主动脉, 但实际为s：gezhenghua-15-19-34-88_0016.txt\n",
      "Traceback (most recent call last):\n",
      "  File \"/tmp/ipykernel_37540/2245311451.py\", line 44, in crop_images\n",
      "    x1, y1, x2, y2 = find_coordinate(*img.shape[0:2], os.path.join(label_path, f'{patient}_{i:04d}.txt'), 's')\n",
      "  File \"/tmp/ipykernel_37540/2245311451.py\", line 7, in find_coordinate\n",
      "    assert aorta == 'j', f'如果只有一个label那么此时应为降主动脉, 但实际为{aorta}：{label_file.split(\"/\")[-1]}'\n",
      "AssertionError: 如果只有一个label那么此时应为降主动脉, 但实际为s：gezhenghua-15-19-34-88_0017.txt\n"
     ]
    },
    {
     "name": "stdout",
     "output_type": "stream",
     "text": [
      "******Processing gezhidong-21-27-38-93******\n"
     ]
    },
    {
     "name": "stderr",
     "output_type": "stream",
     "text": [
      "Traceback (most recent call last):\n",
      "  File \"/tmp/ipykernel_37540/2245311451.py\", line 44, in crop_images\n",
      "    x1, y1, x2, y2 = find_coordinate(*img.shape[0:2], os.path.join(label_path, f'{patient}_{i:04d}.txt'), 's')\n",
      "  File \"/tmp/ipykernel_37540/2245311451.py\", line 7, in find_coordinate\n",
      "    assert aorta == 'j', f'如果只有一个label那么此时应为降主动脉, 但实际为{aorta}：{label_file.split(\"/\")[-1]}'\n",
      "AssertionError: 如果只有一个label那么此时应为降主动脉, 但实际为s：gezhidong-21-27-38-93_0024.txt\n"
     ]
    },
    {
     "name": "stdout",
     "output_type": "stream",
     "text": [
      "******Processing guohao-25-30-38-94******\n"
     ]
    },
    {
     "name": "stderr",
     "output_type": "stream",
     "text": [
      "Traceback (most recent call last):\n",
      "  File \"/tmp/ipykernel_37540/2245311451.py\", line 44, in crop_images\n",
      "    x1, y1, x2, y2 = find_coordinate(*img.shape[0:2], os.path.join(label_path, f'{patient}_{i:04d}.txt'), 's')\n",
      "  File \"/tmp/ipykernel_37540/2245311451.py\", line 7, in find_coordinate\n",
      "    assert aorta == 'j', f'如果只有一个label那么此时应为降主动脉, 但实际为{aorta}：{label_file.split(\"/\")[-1]}'\n",
      "AssertionError: 如果只有一个label那么此时应为降主动脉, 但实际为s：guohao-25-30-38-94_0026.txt\n"
     ]
    },
    {
     "name": "stdout",
     "output_type": "stream",
     "text": [
      "******Processing guoyafang-24-29-52-136******\n",
      "******Processing hanjinxiao-31-43-80-183******\n",
      "******Processing hanshufang-28-35-53-137******\n",
      "******Processing hanweijie-19-25-37-90******\n"
     ]
    },
    {
     "name": "stderr",
     "output_type": "stream",
     "text": [
      "Traceback (most recent call last):\n",
      "  File \"/tmp/ipykernel_37540/2245311451.py\", line 44, in crop_images\n",
      "    x1, y1, x2, y2 = find_coordinate(*img.shape[0:2], os.path.join(label_path, f'{patient}_{i:04d}.txt'), 's')\n",
      "  File \"/tmp/ipykernel_37540/2245311451.py\", line 7, in find_coordinate\n",
      "    assert aorta == 'j', f'如果只有一个label那么此时应为降主动脉, 但实际为{aorta}：{label_file.split(\"/\")[-1]}'\n",
      "AssertionError: 如果只有一个label那么此时应为降主动脉, 但实际为s：hanweijie-19-25-37-90_0022.txt\n"
     ]
    },
    {
     "name": "stdout",
     "output_type": "stream",
     "text": [
      "******Processing hebaomin-28-37-54-145******\n"
     ]
    },
    {
     "name": "stderr",
     "output_type": "stream",
     "text": [
      "Traceback (most recent call last):\n",
      "  File \"/tmp/ipykernel_37540/2245311451.py\", line 44, in crop_images\n",
      "    x1, y1, x2, y2 = find_coordinate(*img.shape[0:2], os.path.join(label_path, f'{patient}_{i:04d}.txt'), 's')\n",
      "  File \"/tmp/ipykernel_37540/2245311451.py\", line 7, in find_coordinate\n",
      "    assert aorta == 'j', f'如果只有一个label那么此时应为降主动脉, 但实际为{aorta}：{label_file.split(\"/\")[-1]}'\n",
      "AssertionError: 如果只有一个label那么此时应为降主动脉, 但实际为s：hebaomin-28-37-54-145_0034.txt\n"
     ]
    },
    {
     "name": "stdout",
     "output_type": "stream",
     "text": [
      "******Processing heguansheng-15-20-43-92******\n"
     ]
    },
    {
     "name": "stderr",
     "output_type": "stream",
     "text": [
      "Traceback (most recent call last):\n",
      "  File \"/tmp/ipykernel_37540/2245311451.py\", line 44, in crop_images\n",
      "    x1, y1, x2, y2 = find_coordinate(*img.shape[0:2], os.path.join(label_path, f'{patient}_{i:04d}.txt'), 's')\n",
      "  File \"/tmp/ipykernel_37540/2245311451.py\", line 7, in find_coordinate\n",
      "    assert aorta == 'j', f'如果只有一个label那么此时应为降主动脉, 但实际为{aorta}：{label_file.split(\"/\")[-1]}'\n",
      "AssertionError: 如果只有一个label那么此时应为降主动脉, 但实际为s：heguansheng-15-20-43-92_0018.txt\n"
     ]
    },
    {
     "name": "stdout",
     "output_type": "stream",
     "text": [
      "******Processing henglangye-15-20-25-83******\n"
     ]
    },
    {
     "name": "stderr",
     "output_type": "stream",
     "text": [
      "Traceback (most recent call last):\n",
      "  File \"/tmp/ipykernel_37540/2245311451.py\", line 44, in crop_images\n",
      "    x1, y1, x2, y2 = find_coordinate(*img.shape[0:2], os.path.join(label_path, f'{patient}_{i:04d}.txt'), 's')\n",
      "  File \"/tmp/ipykernel_37540/2245311451.py\", line 7, in find_coordinate\n",
      "    assert aorta == 'j', f'如果只有一个label那么此时应为降主动脉, 但实际为{aorta}：{label_file.split(\"/\")[-1]}'\n",
      "AssertionError: 如果只有一个label那么此时应为降主动脉, 但实际为s：henglangye-15-20-25-83_0016.txt\n",
      "Traceback (most recent call last):\n",
      "  File \"/tmp/ipykernel_37540/2245311451.py\", line 44, in crop_images\n",
      "    x1, y1, x2, y2 = find_coordinate(*img.shape[0:2], os.path.join(label_path, f'{patient}_{i:04d}.txt'), 's')\n",
      "  File \"/tmp/ipykernel_37540/2245311451.py\", line 7, in find_coordinate\n",
      "    assert aorta == 'j', f'如果只有一个label那么此时应为降主动脉, 但实际为{aorta}：{label_file.split(\"/\")[-1]}'\n",
      "AssertionError: 如果只有一个label那么此时应为降主动脉, 但实际为s：henglangye-15-20-25-83_0017.txt\n"
     ]
    },
    {
     "name": "stdout",
     "output_type": "stream",
     "text": [
      "******Processing hexiena-18-22-38-82******\n"
     ]
    },
    {
     "name": "stderr",
     "output_type": "stream",
     "text": [
      "Traceback (most recent call last):\n",
      "  File \"/tmp/ipykernel_37540/2245311451.py\", line 44, in crop_images\n",
      "    x1, y1, x2, y2 = find_coordinate(*img.shape[0:2], os.path.join(label_path, f'{patient}_{i:04d}.txt'), 's')\n",
      "  File \"/tmp/ipykernel_37540/2245311451.py\", line 7, in find_coordinate\n",
      "    assert aorta == 'j', f'如果只有一个label那么此时应为降主动脉, 但实际为{aorta}：{label_file.split(\"/\")[-1]}'\n",
      "AssertionError: 如果只有一个label那么此时应为降主动脉, 但实际为s：hexiena-18-22-38-82_0019.txt\n",
      "Traceback (most recent call last):\n",
      "  File \"/tmp/ipykernel_37540/2245311451.py\", line 44, in crop_images\n",
      "    x1, y1, x2, y2 = find_coordinate(*img.shape[0:2], os.path.join(label_path, f'{patient}_{i:04d}.txt'), 's')\n",
      "  File \"/tmp/ipykernel_37540/2245311451.py\", line 7, in find_coordinate\n",
      "    assert aorta == 'j', f'如果只有一个label那么此时应为降主动脉, 但实际为{aorta}：{label_file.split(\"/\")[-1]}'\n",
      "AssertionError: 如果只有一个label那么此时应为降主动脉, 但实际为s：hexiena-18-22-38-82_0020.txt\n",
      "Traceback (most recent call last):\n",
      "  File \"/tmp/ipykernel_37540/2245311451.py\", line 44, in crop_images\n",
      "    x1, y1, x2, y2 = find_coordinate(*img.shape[0:2], os.path.join(label_path, f'{patient}_{i:04d}.txt'), 's')\n",
      "  File \"/tmp/ipykernel_37540/2245311451.py\", line 7, in find_coordinate\n",
      "    assert aorta == 'j', f'如果只有一个label那么此时应为降主动脉, 但实际为{aorta}：{label_file.split(\"/\")[-1]}'\n",
      "AssertionError: 如果只有一个label那么此时应为降主动脉, 但实际为s：hexiena-18-22-38-82_0021.txt\n"
     ]
    },
    {
     "name": "stdout",
     "output_type": "stream",
     "text": [
      "******Processing hongxia-17-34-43-122******\n"
     ]
    },
    {
     "name": "stderr",
     "output_type": "stream",
     "text": [
      "Traceback (most recent call last):\n",
      "  File \"/tmp/ipykernel_37540/2245311451.py\", line 44, in crop_images\n",
      "    x1, y1, x2, y2 = find_coordinate(*img.shape[0:2], os.path.join(label_path, f'{patient}_{i:04d}.txt'), 's')\n",
      "  File \"/tmp/ipykernel_37540/2245311451.py\", line 7, in find_coordinate\n",
      "    assert aorta == 'j', f'如果只有一个label那么此时应为降主动脉, 但实际为{aorta}：{label_file.split(\"/\")[-1]}'\n",
      "AssertionError: 如果只有一个label那么此时应为降主动脉, 但实际为s：hongxia-17-34-43-122_0030.txt\n"
     ]
    },
    {
     "name": "stdout",
     "output_type": "stream",
     "text": [
      "******Processing huangguixian-24-28-45-101******\n"
     ]
    },
    {
     "name": "stderr",
     "output_type": "stream",
     "text": [
      "Traceback (most recent call last):\n",
      "  File \"/tmp/ipykernel_37540/2245311451.py\", line 44, in crop_images\n",
      "    x1, y1, x2, y2 = find_coordinate(*img.shape[0:2], os.path.join(label_path, f'{patient}_{i:04d}.txt'), 's')\n",
      "  File \"/tmp/ipykernel_37540/2245311451.py\", line 7, in find_coordinate\n",
      "    assert aorta == 'j', f'如果只有一个label那么此时应为降主动脉, 但实际为{aorta}：{label_file.split(\"/\")[-1]}'\n",
      "AssertionError: 如果只有一个label那么此时应为降主动脉, 但实际为s：huangguixian-24-28-45-101_0025.txt\n",
      "Traceback (most recent call last):\n",
      "  File \"/tmp/ipykernel_37540/2245311451.py\", line 44, in crop_images\n",
      "    x1, y1, x2, y2 = find_coordinate(*img.shape[0:2], os.path.join(label_path, f'{patient}_{i:04d}.txt'), 's')\n",
      "  File \"/tmp/ipykernel_37540/2245311451.py\", line 7, in find_coordinate\n",
      "    assert aorta == 'j', f'如果只有一个label那么此时应为降主动脉, 但实际为{aorta}：{label_file.split(\"/\")[-1]}'\n",
      "AssertionError: 如果只有一个label那么此时应为降主动脉, 但实际为s：huangguixian-24-28-45-101_0026.txt\n",
      "Traceback (most recent call last):\n",
      "  File \"/tmp/ipykernel_37540/2245311451.py\", line 44, in crop_images\n",
      "    x1, y1, x2, y2 = find_coordinate(*img.shape[0:2], os.path.join(label_path, f'{patient}_{i:04d}.txt'), 's')\n",
      "  File \"/tmp/ipykernel_37540/2245311451.py\", line 7, in find_coordinate\n",
      "    assert aorta == 'j', f'如果只有一个label那么此时应为降主动脉, 但实际为{aorta}：{label_file.split(\"/\")[-1]}'\n",
      "AssertionError: 如果只有一个label那么此时应为降主动脉, 但实际为s：huangguixian-24-28-45-101_0032.txt\n",
      "Traceback (most recent call last):\n",
      "  File \"/tmp/ipykernel_37540/2245311451.py\", line 44, in crop_images\n",
      "    x1, y1, x2, y2 = find_coordinate(*img.shape[0:2], os.path.join(label_path, f'{patient}_{i:04d}.txt'), 's')\n",
      "  File \"/tmp/ipykernel_37540/2245311451.py\", line 7, in find_coordinate\n",
      "    assert aorta == 'j', f'如果只有一个label那么此时应为降主动脉, 但实际为{aorta}：{label_file.split(\"/\")[-1]}'\n",
      "AssertionError: 如果只有一个label那么此时应为降主动脉, 但实际为s：huangguixian-24-28-45-101_0033.txt\n"
     ]
    },
    {
     "name": "stdout",
     "output_type": "stream",
     "text": [
      "******Processing huanghuaide-23-34-57-153******\n",
      "******Processing huangjiabao-22-27-33-53******\n"
     ]
    },
    {
     "name": "stderr",
     "output_type": "stream",
     "text": [
      "Traceback (most recent call last):\n",
      "  File \"/tmp/ipykernel_37540/2245311451.py\", line 44, in crop_images\n",
      "    x1, y1, x2, y2 = find_coordinate(*img.shape[0:2], os.path.join(label_path, f'{patient}_{i:04d}.txt'), 's')\n",
      "  File \"/tmp/ipykernel_37540/2245311451.py\", line 7, in find_coordinate\n",
      "    assert aorta == 'j', f'如果只有一个label那么此时应为降主动脉, 但实际为{aorta}：{label_file.split(\"/\")[-1]}'\n",
      "AssertionError: 如果只有一个label那么此时应为降主动脉, 但实际为s：huangjiabao-22-27-33-53_0023.txt\n",
      "Traceback (most recent call last):\n",
      "  File \"/tmp/ipykernel_37540/2245311451.py\", line 44, in crop_images\n",
      "    x1, y1, x2, y2 = find_coordinate(*img.shape[0:2], os.path.join(label_path, f'{patient}_{i:04d}.txt'), 's')\n",
      "  File \"/tmp/ipykernel_37540/2245311451.py\", line 7, in find_coordinate\n",
      "    assert aorta == 'j', f'如果只有一个label那么此时应为降主动脉, 但实际为{aorta}：{label_file.split(\"/\")[-1]}'\n",
      "AssertionError: 如果只有一个label那么此时应为降主动脉, 但实际为s：huangjiabao-22-27-33-53_0024.txt\n"
     ]
    },
    {
     "name": "stdout",
     "output_type": "stream",
     "text": [
      "******Processing huangjuzhen-13-17-29-77******\n"
     ]
    },
    {
     "name": "stderr",
     "output_type": "stream",
     "text": [
      "Traceback (most recent call last):\n",
      "  File \"/tmp/ipykernel_37540/2245311451.py\", line 44, in crop_images\n",
      "    x1, y1, x2, y2 = find_coordinate(*img.shape[0:2], os.path.join(label_path, f'{patient}_{i:04d}.txt'), 's')\n",
      "  File \"/tmp/ipykernel_37540/2245311451.py\", line 7, in find_coordinate\n",
      "    assert aorta == 'j', f'如果只有一个label那么此时应为降主动脉, 但实际为{aorta}：{label_file.split(\"/\")[-1]}'\n",
      "AssertionError: 如果只有一个label那么此时应为降主动脉, 但实际为s：huangjuzhen-13-17-29-77_0014.txt\n",
      "Traceback (most recent call last):\n",
      "  File \"/tmp/ipykernel_37540/2245311451.py\", line 44, in crop_images\n",
      "    x1, y1, x2, y2 = find_coordinate(*img.shape[0:2], os.path.join(label_path, f'{patient}_{i:04d}.txt'), 's')\n",
      "  File \"/tmp/ipykernel_37540/2245311451.py\", line 7, in find_coordinate\n",
      "    assert aorta == 'j', f'如果只有一个label那么此时应为降主动脉, 但实际为{aorta}：{label_file.split(\"/\")[-1]}'\n",
      "AssertionError: 如果只有一个label那么此时应为降主动脉, 但实际为s：huangjuzhen-13-17-29-77_0015.txt\n",
      "Traceback (most recent call last):\n",
      "  File \"/tmp/ipykernel_37540/2245311451.py\", line 44, in crop_images\n",
      "    x1, y1, x2, y2 = find_coordinate(*img.shape[0:2], os.path.join(label_path, f'{patient}_{i:04d}.txt'), 's')\n",
      "  File \"/tmp/ipykernel_37540/2245311451.py\", line 7, in find_coordinate\n",
      "    assert aorta == 'j', f'如果只有一个label那么此时应为降主动脉, 但实际为{aorta}：{label_file.split(\"/\")[-1]}'\n",
      "AssertionError: 如果只有一个label那么此时应为降主动脉, 但实际为s：huangjuzhen-13-17-29-77_0024.txt\n",
      "Traceback (most recent call last):\n",
      "  File \"/tmp/ipykernel_37540/2245311451.py\", line 44, in crop_images\n",
      "    x1, y1, x2, y2 = find_coordinate(*img.shape[0:2], os.path.join(label_path, f'{patient}_{i:04d}.txt'), 's')\n",
      "  File \"/tmp/ipykernel_37540/2245311451.py\", line 7, in find_coordinate\n",
      "    assert aorta == 'j', f'如果只有一个label那么此时应为降主动脉, 但实际为{aorta}：{label_file.split(\"/\")[-1]}'\n",
      "AssertionError: 如果只有一个label那么此时应为降主动脉, 但实际为s：huangjuzhen-13-17-29-77_0028.txt\n"
     ]
    },
    {
     "name": "stdout",
     "output_type": "stream",
     "text": [
      "******Processing huanglongsheng-23-28-46-92******\n"
     ]
    },
    {
     "name": "stderr",
     "output_type": "stream",
     "text": [
      "Traceback (most recent call last):\n",
      "  File \"/tmp/ipykernel_37540/2245311451.py\", line 44, in crop_images\n",
      "    x1, y1, x2, y2 = find_coordinate(*img.shape[0:2], os.path.join(label_path, f'{patient}_{i:04d}.txt'), 's')\n",
      "  File \"/tmp/ipykernel_37540/2245311451.py\", line 7, in find_coordinate\n",
      "    assert aorta == 'j', f'如果只有一个label那么此时应为降主动脉, 但实际为{aorta}：{label_file.split(\"/\")[-1]}'\n",
      "AssertionError: 如果只有一个label那么此时应为降主动脉, 但实际为s：huanglongsheng-23-28-46-92_0025.txt\n",
      "Traceback (most recent call last):\n",
      "  File \"/tmp/ipykernel_37540/2245311451.py\", line 44, in crop_images\n",
      "    x1, y1, x2, y2 = find_coordinate(*img.shape[0:2], os.path.join(label_path, f'{patient}_{i:04d}.txt'), 's')\n",
      "  File \"/tmp/ipykernel_37540/2245311451.py\", line 7, in find_coordinate\n",
      "    assert aorta == 'j', f'如果只有一个label那么此时应为降主动脉, 但实际为{aorta}：{label_file.split(\"/\")[-1]}'\n",
      "AssertionError: 如果只有一个label那么此时应为降主动脉, 但实际为s：huanglongsheng-23-28-46-92_0026.txt\n"
     ]
    },
    {
     "name": "stdout",
     "output_type": "stream",
     "text": [
      "******Processing huangweigen-24-32-62-138******\n",
      "******Processing huangxiang-22-26-42-84******\n"
     ]
    },
    {
     "name": "stderr",
     "output_type": "stream",
     "text": [
      "Traceback (most recent call last):\n",
      "  File \"/tmp/ipykernel_37540/2245311451.py\", line 44, in crop_images\n",
      "    x1, y1, x2, y2 = find_coordinate(*img.shape[0:2], os.path.join(label_path, f'{patient}_{i:04d}.txt'), 's')\n",
      "  File \"/tmp/ipykernel_37540/2245311451.py\", line 7, in find_coordinate\n",
      "    assert aorta == 'j', f'如果只有一个label那么此时应为降主动脉, 但实际为{aorta}：{label_file.split(\"/\")[-1]}'\n",
      "AssertionError: 如果只有一个label那么此时应为降主动脉, 但实际为s：huangxiang-22-26-42-84_0023.txt\n",
      "Traceback (most recent call last):\n",
      "  File \"/tmp/ipykernel_37540/2245311451.py\", line 44, in crop_images\n",
      "    x1, y1, x2, y2 = find_coordinate(*img.shape[0:2], os.path.join(label_path, f'{patient}_{i:04d}.txt'), 's')\n",
      "  File \"/tmp/ipykernel_37540/2245311451.py\", line 7, in find_coordinate\n",
      "    assert aorta == 'j', f'如果只有一个label那么此时应为降主动脉, 但实际为{aorta}：{label_file.split(\"/\")[-1]}'\n",
      "AssertionError: 如果只有一个label那么此时应为降主动脉, 但实际为s：huangxiang-22-26-42-84_0024.txt\n"
     ]
    },
    {
     "name": "stdout",
     "output_type": "stream",
     "text": [
      "******Processing huangxuena-17-22-27-75******\n"
     ]
    },
    {
     "name": "stderr",
     "output_type": "stream",
     "text": [
      "Traceback (most recent call last):\n",
      "  File \"/tmp/ipykernel_37540/2245311451.py\", line 44, in crop_images\n",
      "    x1, y1, x2, y2 = find_coordinate(*img.shape[0:2], os.path.join(label_path, f'{patient}_{i:04d}.txt'), 's')\n",
      "  File \"/tmp/ipykernel_37540/2245311451.py\", line 7, in find_coordinate\n",
      "    assert aorta == 'j', f'如果只有一个label那么此时应为降主动脉, 但实际为{aorta}：{label_file.split(\"/\")[-1]}'\n",
      "AssertionError: 如果只有一个label那么此时应为降主动脉, 但实际为s：huangxuena-17-22-27-75_0018.txt\n",
      "Traceback (most recent call last):\n",
      "  File \"/tmp/ipykernel_37540/2245311451.py\", line 44, in crop_images\n",
      "    x1, y1, x2, y2 = find_coordinate(*img.shape[0:2], os.path.join(label_path, f'{patient}_{i:04d}.txt'), 's')\n",
      "  File \"/tmp/ipykernel_37540/2245311451.py\", line 7, in find_coordinate\n",
      "    assert aorta == 'j', f'如果只有一个label那么此时应为降主动脉, 但实际为{aorta}：{label_file.split(\"/\")[-1]}'\n",
      "AssertionError: 如果只有一个label那么此时应为降主动脉, 但实际为s：huangxuena-17-22-27-75_0019.txt\n"
     ]
    },
    {
     "name": "stdout",
     "output_type": "stream",
     "text": [
      "******Processing huangzhanzhang-25-33-46-134******\n"
     ]
    },
    {
     "name": "stderr",
     "output_type": "stream",
     "text": [
      "Traceback (most recent call last):\n",
      "  File \"/tmp/ipykernel_37540/2245311451.py\", line 44, in crop_images\n",
      "    x1, y1, x2, y2 = find_coordinate(*img.shape[0:2], os.path.join(label_path, f'{patient}_{i:04d}.txt'), 's')\n",
      "  File \"/tmp/ipykernel_37540/2245311451.py\", line 7, in find_coordinate\n",
      "    assert aorta == 'j', f'如果只有一个label那么此时应为降主动脉, 但实际为{aorta}：{label_file.split(\"/\")[-1]}'\n",
      "AssertionError: 如果只有一个label那么此时应为降主动脉, 但实际为s：huangzhanzhang-25-33-46-134_0030.txt\n"
     ]
    },
    {
     "name": "stdout",
     "output_type": "stream",
     "text": [
      "******Processing huangzhaoxun-29-41-62-152******\n",
      "******Processing huaweiqin-15-25-33-77******\n",
      "******Processing hukaipin-29-39-73-159******\n"
     ]
    },
    {
     "name": "stderr",
     "output_type": "stream",
     "text": [
      "Traceback (most recent call last):\n",
      "  File \"/tmp/ipykernel_37540/2245311451.py\", line 44, in crop_images\n",
      "    x1, y1, x2, y2 = find_coordinate(*img.shape[0:2], os.path.join(label_path, f'{patient}_{i:04d}.txt'), 's')\n",
      "  File \"/tmp/ipykernel_37540/2245311451.py\", line 7, in find_coordinate\n",
      "    assert aorta == 'j', f'如果只有一个label那么此时应为降主动脉, 但实际为{aorta}：{label_file.split(\"/\")[-1]}'\n",
      "AssertionError: 如果只有一个label那么此时应为降主动脉, 但实际为s：hukaipin-29-39-73-159_0038.txt\n"
     ]
    },
    {
     "name": "stdout",
     "output_type": "stream",
     "text": [
      "******Processing humingdong-18-22-29-85******\n"
     ]
    },
    {
     "name": "stderr",
     "output_type": "stream",
     "text": [
      "Traceback (most recent call last):\n",
      "  File \"/tmp/ipykernel_37540/2245311451.py\", line 44, in crop_images\n",
      "    x1, y1, x2, y2 = find_coordinate(*img.shape[0:2], os.path.join(label_path, f'{patient}_{i:04d}.txt'), 's')\n",
      "  File \"/tmp/ipykernel_37540/2245311451.py\", line 7, in find_coordinate\n",
      "    assert aorta == 'j', f'如果只有一个label那么此时应为降主动脉, 但实际为{aorta}：{label_file.split(\"/\")[-1]}'\n",
      "AssertionError: 如果只有一个label那么此时应为降主动脉, 但实际为s：humingdong-18-22-29-85_0018.txt\n",
      "Traceback (most recent call last):\n",
      "  File \"/tmp/ipykernel_37540/2245311451.py\", line 44, in crop_images\n",
      "    x1, y1, x2, y2 = find_coordinate(*img.shape[0:2], os.path.join(label_path, f'{patient}_{i:04d}.txt'), 's')\n",
      "  File \"/tmp/ipykernel_37540/2245311451.py\", line 7, in find_coordinate\n",
      "    assert aorta == 'j', f'如果只有一个label那么此时应为降主动脉, 但实际为{aorta}：{label_file.split(\"/\")[-1]}'\n",
      "AssertionError: 如果只有一个label那么此时应为降主动脉, 但实际为s：humingdong-18-22-29-85_0019.txt\n"
     ]
    },
    {
     "name": "stdout",
     "output_type": "stream",
     "text": [
      "******Processing huxiangxin-19-24-34-86******\n"
     ]
    },
    {
     "name": "stderr",
     "output_type": "stream",
     "text": [
      "Traceback (most recent call last):\n",
      "  File \"/tmp/ipykernel_37540/2245311451.py\", line 44, in crop_images\n",
      "    x1, y1, x2, y2 = find_coordinate(*img.shape[0:2], os.path.join(label_path, f'{patient}_{i:04d}.txt'), 's')\n",
      "  File \"/tmp/ipykernel_37540/2245311451.py\", line 7, in find_coordinate\n",
      "    assert aorta == 'j', f'如果只有一个label那么此时应为降主动脉, 但实际为{aorta}：{label_file.split(\"/\")[-1]}'\n",
      "AssertionError: 如果只有一个label那么此时应为降主动脉, 但实际为s：huxiangxin-19-24-34-86_0021.txt\n"
     ]
    },
    {
     "name": "stdout",
     "output_type": "stream",
     "text": [
      "******Processing huxianhua-32-41-55-143******\n"
     ]
    },
    {
     "name": "stderr",
     "output_type": "stream",
     "text": [
      "Traceback (most recent call last):\n",
      "  File \"/tmp/ipykernel_37540/2245311451.py\", line 44, in crop_images\n",
      "    x1, y1, x2, y2 = find_coordinate(*img.shape[0:2], os.path.join(label_path, f'{patient}_{i:04d}.txt'), 's')\n",
      "  File \"/tmp/ipykernel_37540/2245311451.py\", line 7, in find_coordinate\n",
      "    assert aorta == 'j', f'如果只有一个label那么此时应为降主动脉, 但实际为{aorta}：{label_file.split(\"/\")[-1]}'\n",
      "AssertionError: 如果只有一个label那么此时应为降主动脉, 但实际为s：huxianhua-32-41-55-143_0038.txt\n"
     ]
    },
    {
     "name": "stdout",
     "output_type": "stream",
     "text": [
      "******Processing huyongxian-18-25-38-88******\n"
     ]
    },
    {
     "name": "stderr",
     "output_type": "stream",
     "text": [
      "Traceback (most recent call last):\n",
      "  File \"/tmp/ipykernel_37540/2245311451.py\", line 44, in crop_images\n",
      "    x1, y1, x2, y2 = find_coordinate(*img.shape[0:2], os.path.join(label_path, f'{patient}_{i:04d}.txt'), 's')\n",
      "  File \"/tmp/ipykernel_37540/2245311451.py\", line 7, in find_coordinate\n",
      "    assert aorta == 'j', f'如果只有一个label那么此时应为降主动脉, 但实际为{aorta}：{label_file.split(\"/\")[-1]}'\n",
      "AssertionError: 如果只有一个label那么此时应为降主动脉, 但实际为s：huyongxian-18-25-38-88_0022.txt\n",
      "Traceback (most recent call last):\n",
      "  File \"/tmp/ipykernel_37540/2245311451.py\", line 61, in crop_images\n",
      "    x1, y1, x2, y2 = find_coordinate(*img.shape[0:2], os.path.join(label_path, f'{patient}_{i:04d}.txt'), 'j')\n",
      "  File \"/tmp/ipykernel_37540/2245311451.py\", line 3, in find_coordinate\n",
      "    with open(label_file, 'r') as f:\n",
      "FileNotFoundError: [Errno 2] No such file or directory: '/nfs3-p1/zsxm/dataset/aorta_ct_img_label/negative/huyongxian-18-25-38-88/labels/huyongxian-18-25-38-88_0077.txt'\n",
      "Traceback (most recent call last):\n",
      "  File \"/tmp/ipykernel_37540/2245311451.py\", line 44, in crop_images\n",
      "    x1, y1, x2, y2 = find_coordinate(*img.shape[0:2], os.path.join(label_path, f'{patient}_{i:04d}.txt'), 's')\n",
      "  File \"/tmp/ipykernel_37540/2245311451.py\", line 7, in find_coordinate\n",
      "    assert aorta == 'j', f'如果只有一个label那么此时应为降主动脉, 但实际为{aorta}：{label_file.split(\"/\")[-1]}'\n",
      "AssertionError: 如果只有一个label那么此时应为降主动脉, 但实际为s：huyunhua-15-20-28-78_0016.txt\n",
      "Traceback (most recent call last):\n",
      "  File \"/tmp/ipykernel_37540/2245311451.py\", line 44, in crop_images\n",
      "    x1, y1, x2, y2 = find_coordinate(*img.shape[0:2], os.path.join(label_path, f'{patient}_{i:04d}.txt'), 's')\n",
      "  File \"/tmp/ipykernel_37540/2245311451.py\", line 7, in find_coordinate\n",
      "    assert aorta == 'j', f'如果只有一个label那么此时应为降主动脉, 但实际为{aorta}：{label_file.split(\"/\")[-1]}'\n",
      "AssertionError: 如果只有一个label那么此时应为降主动脉, 但实际为s：huyunhua-15-20-28-78_0017.txt\n"
     ]
    },
    {
     "name": "stdout",
     "output_type": "stream",
     "text": [
      "******Processing huyunhua-15-20-28-78******\n",
      "******Processing huzaoheng-16-23-34-67******\n",
      "******Processing huzhengjin-19-27-48-150******\n",
      "******Processing jiangchengsan-25-34-50-133******\n"
     ]
    },
    {
     "name": "stderr",
     "output_type": "stream",
     "text": [
      "Traceback (most recent call last):\n",
      "  File \"/tmp/ipykernel_37540/2245311451.py\", line 44, in crop_images\n",
      "    x1, y1, x2, y2 = find_coordinate(*img.shape[0:2], os.path.join(label_path, f'{patient}_{i:04d}.txt'), 's')\n",
      "  File \"/tmp/ipykernel_37540/2245311451.py\", line 7, in find_coordinate\n",
      "    assert aorta == 'j', f'如果只有一个label那么此时应为降主动脉, 但实际为{aorta}：{label_file.split(\"/\")[-1]}'\n",
      "AssertionError: 如果只有一个label那么此时应为降主动脉, 但实际为s：jiangchengsan-25-34-50-133_0031.txt\n"
     ]
    },
    {
     "name": "stdout",
     "output_type": "stream",
     "text": [
      "******Processing jiangguanshui-16-21-31-85******\n"
     ]
    },
    {
     "name": "stderr",
     "output_type": "stream",
     "text": [
      "Traceback (most recent call last):\n",
      "  File \"/tmp/ipykernel_37540/2245311451.py\", line 44, in crop_images\n",
      "    x1, y1, x2, y2 = find_coordinate(*img.shape[0:2], os.path.join(label_path, f'{patient}_{i:04d}.txt'), 's')\n",
      "  File \"/tmp/ipykernel_37540/2245311451.py\", line 7, in find_coordinate\n",
      "    assert aorta == 'j', f'如果只有一个label那么此时应为降主动脉, 但实际为{aorta}：{label_file.split(\"/\")[-1]}'\n",
      "AssertionError: 如果只有一个label那么此时应为降主动脉, 但实际为s：jiangguanshui-16-21-31-85_0018.txt\n"
     ]
    },
    {
     "name": "stdout",
     "output_type": "stream",
     "text": [
      "******Processing jiangjianrong-16-21-31-82******\n"
     ]
    },
    {
     "name": "stderr",
     "output_type": "stream",
     "text": [
      "Traceback (most recent call last):\n",
      "  File \"/tmp/ipykernel_37540/2245311451.py\", line 44, in crop_images\n",
      "    x1, y1, x2, y2 = find_coordinate(*img.shape[0:2], os.path.join(label_path, f'{patient}_{i:04d}.txt'), 's')\n",
      "  File \"/tmp/ipykernel_37540/2245311451.py\", line 7, in find_coordinate\n",
      "    assert aorta == 'j', f'如果只有一个label那么此时应为降主动脉, 但实际为{aorta}：{label_file.split(\"/\")[-1]}'\n",
      "AssertionError: 如果只有一个label那么此时应为降主动脉, 但实际为s：jiangjianrong-16-21-31-82_0018.txt\n"
     ]
    },
    {
     "name": "stdout",
     "output_type": "stream",
     "text": [
      "******Processing jiangjiaqi-23-30-39-140******\n"
     ]
    },
    {
     "name": "stderr",
     "output_type": "stream",
     "text": [
      "Traceback (most recent call last):\n",
      "  File \"/tmp/ipykernel_37540/2245311451.py\", line 44, in crop_images\n",
      "    x1, y1, x2, y2 = find_coordinate(*img.shape[0:2], os.path.join(label_path, f'{patient}_{i:04d}.txt'), 's')\n",
      "  File \"/tmp/ipykernel_37540/2245311451.py\", line 7, in find_coordinate\n",
      "    assert aorta == 'j', f'如果只有一个label那么此时应为降主动脉, 但实际为{aorta}：{label_file.split(\"/\")[-1]}'\n",
      "AssertionError: 如果只有一个label那么此时应为降主动脉, 但实际为s：jiangjiaqi-23-30-39-140_0026.txt\n",
      "Traceback (most recent call last):\n",
      "  File \"/tmp/ipykernel_37540/2245311451.py\", line 44, in crop_images\n",
      "    x1, y1, x2, y2 = find_coordinate(*img.shape[0:2], os.path.join(label_path, f'{patient}_{i:04d}.txt'), 's')\n",
      "  File \"/tmp/ipykernel_37540/2245311451.py\", line 7, in find_coordinate\n",
      "    assert aorta == 'j', f'如果只有一个label那么此时应为降主动脉, 但实际为{aorta}：{label_file.split(\"/\")[-1]}'\n",
      "AssertionError: 如果只有一个label那么此时应为降主动脉, 但实际为s：jiangjiaqi-23-30-39-140_0027.txt\n",
      "Traceback (most recent call last):\n",
      "  File \"/tmp/ipykernel_37540/2245311451.py\", line 61, in crop_images\n",
      "    x1, y1, x2, y2 = find_coordinate(*img.shape[0:2], os.path.join(label_path, f'{patient}_{i:04d}.txt'), 'j')\n",
      "  File \"/tmp/ipykernel_37540/2245311451.py\", line 3, in find_coordinate\n",
      "    with open(label_file, 'r') as f:\n",
      "FileNotFoundError: [Errno 2] No such file or directory: '/nfs3-p1/zsxm/dataset/aorta_ct_img_label/negative/jiangjiaqi-23-30-39-140/labels/jiangjiaqi-23-30-39-140_0110.txt'\n",
      "Traceback (most recent call last):\n",
      "  File \"/tmp/ipykernel_37540/2245311451.py\", line 61, in crop_images\n",
      "    x1, y1, x2, y2 = find_coordinate(*img.shape[0:2], os.path.join(label_path, f'{patient}_{i:04d}.txt'), 'j')\n",
      "  File \"/tmp/ipykernel_37540/2245311451.py\", line 3, in find_coordinate\n",
      "    with open(label_file, 'r') as f:\n",
      "FileNotFoundError: [Errno 2] No such file or directory: '/nfs3-p1/zsxm/dataset/aorta_ct_img_label/negative/jiangjiaqi-23-30-39-140/labels/jiangjiaqi-23-30-39-140_0111.txt'\n",
      "Traceback (most recent call last):\n",
      "  File \"/tmp/ipykernel_37540/2245311451.py\", line 61, in crop_images\n",
      "    x1, y1, x2, y2 = find_coordinate(*img.shape[0:2], os.path.join(label_path, f'{patient}_{i:04d}.txt'), 'j')\n",
      "  File \"/tmp/ipykernel_37540/2245311451.py\", line 3, in find_coordinate\n",
      "    with open(label_file, 'r') as f:\n",
      "FileNotFoundError: [Errno 2] No such file or directory: '/nfs3-p1/zsxm/dataset/aorta_ct_img_label/negative/jiangjiaqi-23-30-39-140/labels/jiangjiaqi-23-30-39-140_0112.txt'\n",
      "Traceback (most recent call last):\n",
      "  File \"/tmp/ipykernel_37540/2245311451.py\", line 61, in crop_images\n",
      "    x1, y1, x2, y2 = find_coordinate(*img.shape[0:2], os.path.join(label_path, f'{patient}_{i:04d}.txt'), 'j')\n",
      "  File \"/tmp/ipykernel_37540/2245311451.py\", line 3, in find_coordinate\n",
      "    with open(label_file, 'r') as f:\n",
      "FileNotFoundError: [Errno 2] No such file or directory: '/nfs3-p1/zsxm/dataset/aorta_ct_img_label/negative/jiangjiaqi-23-30-39-140/labels/jiangjiaqi-23-30-39-140_0113.txt'\n",
      "Traceback (most recent call last):\n",
      "  File \"/tmp/ipykernel_37540/2245311451.py\", line 61, in crop_images\n",
      "    x1, y1, x2, y2 = find_coordinate(*img.shape[0:2], os.path.join(label_path, f'{patient}_{i:04d}.txt'), 'j')\n",
      "  File \"/tmp/ipykernel_37540/2245311451.py\", line 3, in find_coordinate\n",
      "    with open(label_file, 'r') as f:\n",
      "FileNotFoundError: [Errno 2] No such file or directory: '/nfs3-p1/zsxm/dataset/aorta_ct_img_label/negative/jiangjiaqi-23-30-39-140/labels/jiangjiaqi-23-30-39-140_0114.txt'\n",
      "Traceback (most recent call last):\n",
      "  File \"/tmp/ipykernel_37540/2245311451.py\", line 61, in crop_images\n",
      "    x1, y1, x2, y2 = find_coordinate(*img.shape[0:2], os.path.join(label_path, f'{patient}_{i:04d}.txt'), 'j')\n",
      "  File \"/tmp/ipykernel_37540/2245311451.py\", line 3, in find_coordinate\n",
      "    with open(label_file, 'r') as f:\n",
      "FileNotFoundError: [Errno 2] No such file or directory: '/nfs3-p1/zsxm/dataset/aorta_ct_img_label/negative/jiangjiaqi-23-30-39-140/labels/jiangjiaqi-23-30-39-140_0115.txt'\n",
      "Traceback (most recent call last):\n",
      "  File \"/tmp/ipykernel_37540/2245311451.py\", line 61, in crop_images\n",
      "    x1, y1, x2, y2 = find_coordinate(*img.shape[0:2], os.path.join(label_path, f'{patient}_{i:04d}.txt'), 'j')\n",
      "  File \"/tmp/ipykernel_37540/2245311451.py\", line 3, in find_coordinate\n",
      "    with open(label_file, 'r') as f:\n",
      "FileNotFoundError: [Errno 2] No such file or directory: '/nfs3-p1/zsxm/dataset/aorta_ct_img_label/negative/jiangjiaqi-23-30-39-140/labels/jiangjiaqi-23-30-39-140_0116.txt'\n",
      "Traceback (most recent call last):\n",
      "  File \"/tmp/ipykernel_37540/2245311451.py\", line 61, in crop_images\n",
      "    x1, y1, x2, y2 = find_coordinate(*img.shape[0:2], os.path.join(label_path, f'{patient}_{i:04d}.txt'), 'j')\n",
      "  File \"/tmp/ipykernel_37540/2245311451.py\", line 3, in find_coordinate\n",
      "    with open(label_file, 'r') as f:\n",
      "FileNotFoundError: [Errno 2] No such file or directory: '/nfs3-p1/zsxm/dataset/aorta_ct_img_label/negative/jiangjiaqi-23-30-39-140/labels/jiangjiaqi-23-30-39-140_0117.txt'\n",
      "Traceback (most recent call last):\n",
      "  File \"/tmp/ipykernel_37540/2245311451.py\", line 61, in crop_images\n",
      "    x1, y1, x2, y2 = find_coordinate(*img.shape[0:2], os.path.join(label_path, f'{patient}_{i:04d}.txt'), 'j')\n",
      "  File \"/tmp/ipykernel_37540/2245311451.py\", line 3, in find_coordinate\n",
      "    with open(label_file, 'r') as f:\n",
      "FileNotFoundError: [Errno 2] No such file or directory: '/nfs3-p1/zsxm/dataset/aorta_ct_img_label/negative/jiangjiaqi-23-30-39-140/labels/jiangjiaqi-23-30-39-140_0118.txt'\n",
      "Traceback (most recent call last):\n",
      "  File \"/tmp/ipykernel_37540/2245311451.py\", line 61, in crop_images\n",
      "    x1, y1, x2, y2 = find_coordinate(*img.shape[0:2], os.path.join(label_path, f'{patient}_{i:04d}.txt'), 'j')\n",
      "  File \"/tmp/ipykernel_37540/2245311451.py\", line 3, in find_coordinate\n",
      "    with open(label_file, 'r') as f:\n",
      "FileNotFoundError: [Errno 2] No such file or directory: '/nfs3-p1/zsxm/dataset/aorta_ct_img_label/negative/jiangjiaqi-23-30-39-140/labels/jiangjiaqi-23-30-39-140_0119.txt'\n"
     ]
    },
    {
     "name": "stdout",
     "output_type": "stream",
     "text": [
      "******Processing jiangjinfeng-26-39-58-152******\n",
      "******Processing jiangshengfang-19-23-34-79******\n"
     ]
    },
    {
     "name": "stderr",
     "output_type": "stream",
     "text": [
      "Traceback (most recent call last):\n",
      "  File \"/tmp/ipykernel_37540/2245311451.py\", line 44, in crop_images\n",
      "    x1, y1, x2, y2 = find_coordinate(*img.shape[0:2], os.path.join(label_path, f'{patient}_{i:04d}.txt'), 's')\n",
      "  File \"/tmp/ipykernel_37540/2245311451.py\", line 7, in find_coordinate\n",
      "    assert aorta == 'j', f'如果只有一个label那么此时应为降主动脉, 但实际为{aorta}：{label_file.split(\"/\")[-1]}'\n",
      "AssertionError: 如果只有一个label那么此时应为降主动脉, 但实际为s：jiangshengfang-19-23-34-79_0020.txt\n",
      "Traceback (most recent call last):\n",
      "  File \"/tmp/ipykernel_37540/2245311451.py\", line 44, in crop_images\n",
      "    x1, y1, x2, y2 = find_coordinate(*img.shape[0:2], os.path.join(label_path, f'{patient}_{i:04d}.txt'), 's')\n",
      "  File \"/tmp/ipykernel_37540/2245311451.py\", line 7, in find_coordinate\n",
      "    assert aorta == 'j', f'如果只有一个label那么此时应为降主动脉, 但实际为{aorta}：{label_file.split(\"/\")[-1]}'\n",
      "AssertionError: 如果只有一个label那么此时应为降主动脉, 但实际为s：jiangshengfang-19-23-34-79_0021.txt\n"
     ]
    },
    {
     "name": "stdout",
     "output_type": "stream",
     "text": [
      "******Processing jiangxiangzhong-15-20-29-83******\n"
     ]
    },
    {
     "name": "stderr",
     "output_type": "stream",
     "text": [
      "Traceback (most recent call last):\n",
      "  File \"/tmp/ipykernel_37540/2245311451.py\", line 44, in crop_images\n",
      "    x1, y1, x2, y2 = find_coordinate(*img.shape[0:2], os.path.join(label_path, f'{patient}_{i:04d}.txt'), 's')\n",
      "  File \"/tmp/ipykernel_37540/2245311451.py\", line 7, in find_coordinate\n",
      "    assert aorta == 'j', f'如果只有一个label那么此时应为降主动脉, 但实际为{aorta}：{label_file.split(\"/\")[-1]}'\n",
      "AssertionError: 如果只有一个label那么此时应为降主动脉, 但实际为s：jiangxiangzhong-15-20-29-83_0016.txt\n",
      "Traceback (most recent call last):\n",
      "  File \"/tmp/ipykernel_37540/2245311451.py\", line 44, in crop_images\n",
      "    x1, y1, x2, y2 = find_coordinate(*img.shape[0:2], os.path.join(label_path, f'{patient}_{i:04d}.txt'), 's')\n",
      "  File \"/tmp/ipykernel_37540/2245311451.py\", line 7, in find_coordinate\n",
      "    assert aorta == 'j', f'如果只有一个label那么此时应为降主动脉, 但实际为{aorta}：{label_file.split(\"/\")[-1]}'\n",
      "AssertionError: 如果只有一个label那么此时应为降主动脉, 但实际为s：jiangxiangzhong-15-20-29-83_0017.txt\n"
     ]
    },
    {
     "name": "stdout",
     "output_type": "stream",
     "text": [
      "******Processing jiangyuxiang-15-19-37-83******\n"
     ]
    },
    {
     "name": "stderr",
     "output_type": "stream",
     "text": [
      "Traceback (most recent call last):\n",
      "  File \"/tmp/ipykernel_37540/2245311451.py\", line 44, in crop_images\n",
      "    x1, y1, x2, y2 = find_coordinate(*img.shape[0:2], os.path.join(label_path, f'{patient}_{i:04d}.txt'), 's')\n",
      "  File \"/tmp/ipykernel_37540/2245311451.py\", line 7, in find_coordinate\n",
      "    assert aorta == 'j', f'如果只有一个label那么此时应为降主动脉, 但实际为{aorta}：{label_file.split(\"/\")[-1]}'\n",
      "AssertionError: 如果只有一个label那么此时应为降主动脉, 但实际为s：jiangyuxiang-15-19-37-83_0016.txt\n",
      "Traceback (most recent call last):\n",
      "  File \"/tmp/ipykernel_37540/2245311451.py\", line 44, in crop_images\n",
      "    x1, y1, x2, y2 = find_coordinate(*img.shape[0:2], os.path.join(label_path, f'{patient}_{i:04d}.txt'), 's')\n",
      "  File \"/tmp/ipykernel_37540/2245311451.py\", line 7, in find_coordinate\n",
      "    assert aorta == 'j', f'如果只有一个label那么此时应为降主动脉, 但实际为{aorta}：{label_file.split(\"/\")[-1]}'\n",
      "AssertionError: 如果只有一个label那么此时应为降主动脉, 但实际为s：jiangyuxiang-15-19-37-83_0017.txt\n"
     ]
    },
    {
     "name": "stdout",
     "output_type": "stream",
     "text": [
      "******Processing jiangzhongshui-24-32-48-134******\n",
      "******Processing jiangzhuxian-10-16-24-75******\n"
     ]
    },
    {
     "name": "stderr",
     "output_type": "stream",
     "text": [
      "Traceback (most recent call last):\n",
      "  File \"/tmp/ipykernel_37540/2245311451.py\", line 44, in crop_images\n",
      "    x1, y1, x2, y2 = find_coordinate(*img.shape[0:2], os.path.join(label_path, f'{patient}_{i:04d}.txt'), 's')\n",
      "  File \"/tmp/ipykernel_37540/2245311451.py\", line 7, in find_coordinate\n",
      "    assert aorta == 'j', f'如果只有一个label那么此时应为降主动脉, 但实际为{aorta}：{label_file.split(\"/\")[-1]}'\n",
      "AssertionError: 如果只有一个label那么此时应为降主动脉, 但实际为s：jiangzhuxian-10-16-24-75_0012.txt\n",
      "Traceback (most recent call last):\n",
      "  File \"/tmp/ipykernel_37540/2245311451.py\", line 44, in crop_images\n",
      "    x1, y1, x2, y2 = find_coordinate(*img.shape[0:2], os.path.join(label_path, f'{patient}_{i:04d}.txt'), 's')\n",
      "  File \"/tmp/ipykernel_37540/2245311451.py\", line 7, in find_coordinate\n",
      "    assert aorta == 'j', f'如果只有一个label那么此时应为降主动脉, 但实际为{aorta}：{label_file.split(\"/\")[-1]}'\n",
      "AssertionError: 如果只有一个label那么此时应为降主动脉, 但实际为s：jiangzhuxian-10-16-24-75_0013.txt\n"
     ]
    },
    {
     "name": "stdout",
     "output_type": "stream",
     "text": [
      "******Processing jinaixiang-34-41-63-149******\n"
     ]
    },
    {
     "name": "stderr",
     "output_type": "stream",
     "text": [
      "Traceback (most recent call last):\n",
      "  File \"/tmp/ipykernel_37540/2245311451.py\", line 44, in crop_images\n",
      "    x1, y1, x2, y2 = find_coordinate(*img.shape[0:2], os.path.join(label_path, f'{patient}_{i:04d}.txt'), 's')\n",
      "  File \"/tmp/ipykernel_37540/2245311451.py\", line 7, in find_coordinate\n",
      "    assert aorta == 'j', f'如果只有一个label那么此时应为降主动脉, 但实际为{aorta}：{label_file.split(\"/\")[-1]}'\n",
      "AssertionError: 如果只有一个label那么此时应为降主动脉, 但实际为s：jinaixiang-34-41-63-149_0039.txt\n"
     ]
    },
    {
     "name": "stdout",
     "output_type": "stream",
     "text": [
      "******Processing jinangui-17-21-37-81******\n"
     ]
    },
    {
     "name": "stderr",
     "output_type": "stream",
     "text": [
      "Traceback (most recent call last):\n",
      "  File \"/tmp/ipykernel_37540/2245311451.py\", line 44, in crop_images\n",
      "    x1, y1, x2, y2 = find_coordinate(*img.shape[0:2], os.path.join(label_path, f'{patient}_{i:04d}.txt'), 's')\n",
      "  File \"/tmp/ipykernel_37540/2245311451.py\", line 7, in find_coordinate\n",
      "    assert aorta == 'j', f'如果只有一个label那么此时应为降主动脉, 但实际为{aorta}：{label_file.split(\"/\")[-1]}'\n",
      "AssertionError: 如果只有一个label那么此时应为降主动脉, 但实际为s：jinangui-17-21-37-81_0018.txt\n",
      "Traceback (most recent call last):\n",
      "  File \"/tmp/ipykernel_37540/2245311451.py\", line 44, in crop_images\n",
      "    x1, y1, x2, y2 = find_coordinate(*img.shape[0:2], os.path.join(label_path, f'{patient}_{i:04d}.txt'), 's')\n",
      "  File \"/tmp/ipykernel_37540/2245311451.py\", line 7, in find_coordinate\n",
      "    assert aorta == 'j', f'如果只有一个label那么此时应为降主动脉, 但实际为{aorta}：{label_file.split(\"/\")[-1]}'\n",
      "AssertionError: 如果只有一个label那么此时应为降主动脉, 但实际为s：jinangui-17-21-37-81_0019.txt\n"
     ]
    },
    {
     "name": "stdout",
     "output_type": "stream",
     "text": [
      "******Processing jingchunya-12-17-25-82******\n"
     ]
    },
    {
     "name": "stderr",
     "output_type": "stream",
     "text": [
      "Traceback (most recent call last):\n",
      "  File \"/tmp/ipykernel_37540/2245311451.py\", line 44, in crop_images\n",
      "    x1, y1, x2, y2 = find_coordinate(*img.shape[0:2], os.path.join(label_path, f'{patient}_{i:04d}.txt'), 's')\n",
      "  File \"/tmp/ipykernel_37540/2245311451.py\", line 7, in find_coordinate\n",
      "    assert aorta == 'j', f'如果只有一个label那么此时应为降主动脉, 但实际为{aorta}：{label_file.split(\"/\")[-1]}'\n",
      "AssertionError: 如果只有一个label那么此时应为降主动脉, 但实际为s：jingchunya-12-17-25-82_0013.txt\n",
      "Traceback (most recent call last):\n",
      "  File \"/tmp/ipykernel_37540/2245311451.py\", line 44, in crop_images\n",
      "    x1, y1, x2, y2 = find_coordinate(*img.shape[0:2], os.path.join(label_path, f'{patient}_{i:04d}.txt'), 's')\n",
      "  File \"/tmp/ipykernel_37540/2245311451.py\", line 7, in find_coordinate\n",
      "    assert aorta == 'j', f'如果只有一个label那么此时应为降主动脉, 但实际为{aorta}：{label_file.split(\"/\")[-1]}'\n",
      "AssertionError: 如果只有一个label那么此时应为降主动脉, 但实际为s：jingchunya-12-17-25-82_0014.txt\n",
      "Traceback (most recent call last):\n",
      "  File \"/tmp/ipykernel_37540/2245311451.py\", line 44, in crop_images\n",
      "    x1, y1, x2, y2 = find_coordinate(*img.shape[0:2], os.path.join(label_path, f'{patient}_{i:04d}.txt'), 's')\n",
      "  File \"/tmp/ipykernel_37540/2245311451.py\", line 7, in find_coordinate\n",
      "    assert aorta == 'j', f'如果只有一个label那么此时应为降主动脉, 但实际为{aorta}：{label_file.split(\"/\")[-1]}'\n",
      "AssertionError: 如果只有一个label那么此时应为降主动脉, 但实际为s：jingchunya-12-17-25-82_0015.txt\n"
     ]
    },
    {
     "name": "stdout",
     "output_type": "stream",
     "text": [
      "******Processing jinjianrong-19-24-32-86******\n"
     ]
    },
    {
     "name": "stderr",
     "output_type": "stream",
     "text": [
      "Traceback (most recent call last):\n",
      "  File \"/tmp/ipykernel_37540/2245311451.py\", line 44, in crop_images\n",
      "    x1, y1, x2, y2 = find_coordinate(*img.shape[0:2], os.path.join(label_path, f'{patient}_{i:04d}.txt'), 's')\n",
      "  File \"/tmp/ipykernel_37540/2245311451.py\", line 7, in find_coordinate\n",
      "    assert aorta == 'j', f'如果只有一个label那么此时应为降主动脉, 但实际为{aorta}：{label_file.split(\"/\")[-1]}'\n",
      "AssertionError: 如果只有一个label那么此时应为降主动脉, 但实际为s：jinjianrong-19-24-32-86_0020.txt\n",
      "Traceback (most recent call last):\n",
      "  File \"/tmp/ipykernel_37540/2245311451.py\", line 44, in crop_images\n",
      "    x1, y1, x2, y2 = find_coordinate(*img.shape[0:2], os.path.join(label_path, f'{patient}_{i:04d}.txt'), 's')\n",
      "  File \"/tmp/ipykernel_37540/2245311451.py\", line 7, in find_coordinate\n",
      "    assert aorta == 'j', f'如果只有一个label那么此时应为降主动脉, 但实际为{aorta}：{label_file.split(\"/\")[-1]}'\n",
      "AssertionError: 如果只有一个label那么此时应为降主动脉, 但实际为s：jinjianrong-19-24-32-86_0021.txt\n"
     ]
    },
    {
     "name": "stdout",
     "output_type": "stream",
     "text": [
      "******Processing jinlanhua-24-32-43-131******\n",
      "******Processing jinruiyue-13-18-28-80******\n"
     ]
    },
    {
     "name": "stderr",
     "output_type": "stream",
     "text": [
      "Traceback (most recent call last):\n",
      "  File \"/tmp/ipykernel_37540/2245311451.py\", line 44, in crop_images\n",
      "    x1, y1, x2, y2 = find_coordinate(*img.shape[0:2], os.path.join(label_path, f'{patient}_{i:04d}.txt'), 's')\n",
      "  File \"/tmp/ipykernel_37540/2245311451.py\", line 7, in find_coordinate\n",
      "    assert aorta == 'j', f'如果只有一个label那么此时应为降主动脉, 但实际为{aorta}：{label_file.split(\"/\")[-1]}'\n",
      "AssertionError: 如果只有一个label那么此时应为降主动脉, 但实际为s：jinruiyue-13-18-28-80_0015.txt\n",
      "Traceback (most recent call last):\n",
      "  File \"/tmp/ipykernel_37540/2245311451.py\", line 44, in crop_images\n",
      "    x1, y1, x2, y2 = find_coordinate(*img.shape[0:2], os.path.join(label_path, f'{patient}_{i:04d}.txt'), 's')\n",
      "  File \"/tmp/ipykernel_37540/2245311451.py\", line 7, in find_coordinate\n",
      "    assert aorta == 'j', f'如果只有一个label那么此时应为降主动脉, 但实际为{aorta}：{label_file.split(\"/\")[-1]}'\n",
      "AssertionError: 如果只有一个label那么此时应为降主动脉, 但实际为s：jinruiyue-13-18-28-80_0016.txt\n"
     ]
    },
    {
     "name": "stdout",
     "output_type": "stream",
     "text": [
      "******Processing jinshuigen-18-23-36-79******\n"
     ]
    },
    {
     "name": "stderr",
     "output_type": "stream",
     "text": [
      "Traceback (most recent call last):\n",
      "  File \"/tmp/ipykernel_37540/2245311451.py\", line 44, in crop_images\n",
      "    x1, y1, x2, y2 = find_coordinate(*img.shape[0:2], os.path.join(label_path, f'{patient}_{i:04d}.txt'), 's')\n",
      "  File \"/tmp/ipykernel_37540/2245311451.py\", line 7, in find_coordinate\n",
      "    assert aorta == 'j', f'如果只有一个label那么此时应为降主动脉, 但实际为{aorta}：{label_file.split(\"/\")[-1]}'\n",
      "AssertionError: 如果只有一个label那么此时应为降主动脉, 但实际为s：jinshuigen-18-23-36-79_0020.txt\n",
      "Traceback (most recent call last):\n",
      "  File \"/tmp/ipykernel_37540/2245311451.py\", line 44, in crop_images\n",
      "    x1, y1, x2, y2 = find_coordinate(*img.shape[0:2], os.path.join(label_path, f'{patient}_{i:04d}.txt'), 's')\n",
      "  File \"/tmp/ipykernel_37540/2245311451.py\", line 7, in find_coordinate\n",
      "    assert aorta == 'j', f'如果只有一个label那么此时应为降主动脉, 但实际为{aorta}：{label_file.split(\"/\")[-1]}'\n",
      "AssertionError: 如果只有一个label那么此时应为降主动脉, 但实际为s：jinshuigen-18-23-36-79_0021.txt\n"
     ]
    },
    {
     "name": "stdout",
     "output_type": "stream",
     "text": [
      "******Processing jinxianqing-15-23-37-81******\n",
      "******Processing jinyongfa-25-29-37-92******\n"
     ]
    },
    {
     "name": "stderr",
     "output_type": "stream",
     "text": [
      "Traceback (most recent call last):\n",
      "  File \"/tmp/ipykernel_37540/2245311451.py\", line 44, in crop_images\n",
      "    x1, y1, x2, y2 = find_coordinate(*img.shape[0:2], os.path.join(label_path, f'{patient}_{i:04d}.txt'), 's')\n",
      "  File \"/tmp/ipykernel_37540/2245311451.py\", line 7, in find_coordinate\n",
      "    assert aorta == 'j', f'如果只有一个label那么此时应为降主动脉, 但实际为{aorta}：{label_file.split(\"/\")[-1]}'\n",
      "AssertionError: 如果只有一个label那么此时应为降主动脉, 但实际为s：jinyongfa-25-29-37-92_0025.txt\n",
      "Traceback (most recent call last):\n",
      "  File \"/tmp/ipykernel_37540/2245311451.py\", line 44, in crop_images\n",
      "    x1, y1, x2, y2 = find_coordinate(*img.shape[0:2], os.path.join(label_path, f'{patient}_{i:04d}.txt'), 's')\n",
      "  File \"/tmp/ipykernel_37540/2245311451.py\", line 7, in find_coordinate\n",
      "    assert aorta == 'j', f'如果只有一个label那么此时应为降主动脉, 但实际为{aorta}：{label_file.split(\"/\")[-1]}'\n",
      "AssertionError: 如果只有一个label那么此时应为降主动脉, 但实际为s：jinyongfa-25-29-37-92_0026.txt\n",
      "Traceback (most recent call last):\n",
      "  File \"/tmp/ipykernel_37540/2245311451.py\", line 44, in crop_images\n",
      "    x1, y1, x2, y2 = find_coordinate(*img.shape[0:2], os.path.join(label_path, f'{patient}_{i:04d}.txt'), 's')\n",
      "  File \"/tmp/ipykernel_37540/2245311451.py\", line 7, in find_coordinate\n",
      "    assert aorta == 'j', f'如果只有一个label那么此时应为降主动脉, 但实际为{aorta}：{label_file.split(\"/\")[-1]}'\n",
      "AssertionError: 如果只有一个label那么此时应为降主动脉, 但实际为s：jinyongfa-25-29-37-92_0027.txt\n"
     ]
    },
    {
     "name": "stdout",
     "output_type": "stream",
     "text": [
      "******Processing jinyu-19-29-44-146******\n",
      "******Processing jinzhaoxiang-28-37-55-126******\n"
     ]
    },
    {
     "name": "stderr",
     "output_type": "stream",
     "text": [
      "Traceback (most recent call last):\n",
      "  File \"/tmp/ipykernel_37540/2245311451.py\", line 44, in crop_images\n",
      "    x1, y1, x2, y2 = find_coordinate(*img.shape[0:2], os.path.join(label_path, f'{patient}_{i:04d}.txt'), 's')\n",
      "  File \"/tmp/ipykernel_37540/2245311451.py\", line 7, in find_coordinate\n",
      "    assert aorta == 'j', f'如果只有一个label那么此时应为降主动脉, 但实际为{aorta}：{label_file.split(\"/\")[-1]}'\n",
      "AssertionError: 如果只有一个label那么此时应为降主动脉, 但实际为s：jinzhaoxiang-28-37-55-126_0034.txt\n"
     ]
    },
    {
     "name": "stdout",
     "output_type": "stream",
     "text": [
      "******Processing kerengang-25-30-41-91******\n"
     ]
    },
    {
     "name": "stderr",
     "output_type": "stream",
     "text": [
      "Traceback (most recent call last):\n",
      "  File \"/tmp/ipykernel_37540/2245311451.py\", line 44, in crop_images\n",
      "    x1, y1, x2, y2 = find_coordinate(*img.shape[0:2], os.path.join(label_path, f'{patient}_{i:04d}.txt'), 's')\n",
      "  File \"/tmp/ipykernel_37540/2245311451.py\", line 7, in find_coordinate\n",
      "    assert aorta == 'j', f'如果只有一个label那么此时应为降主动脉, 但实际为{aorta}：{label_file.split(\"/\")[-1]}'\n",
      "AssertionError: 如果只有一个label那么此时应为降主动脉, 但实际为s：kerengang-25-30-41-91_0027.txt\n"
     ]
    },
    {
     "name": "stdout",
     "output_type": "stream",
     "text": [
      "******Processing kongfansheng-20-26-38-87******\n"
     ]
    },
    {
     "name": "stderr",
     "output_type": "stream",
     "text": [
      "Traceback (most recent call last):\n",
      "  File \"/tmp/ipykernel_37540/2245311451.py\", line 44, in crop_images\n",
      "    x1, y1, x2, y2 = find_coordinate(*img.shape[0:2], os.path.join(label_path, f'{patient}_{i:04d}.txt'), 's')\n",
      "  File \"/tmp/ipykernel_37540/2245311451.py\", line 7, in find_coordinate\n",
      "    assert aorta == 'j', f'如果只有一个label那么此时应为降主动脉, 但实际为{aorta}：{label_file.split(\"/\")[-1]}'\n",
      "AssertionError: 如果只有一个label那么此时应为降主动脉, 但实际为s：kongfansheng-20-26-38-87_0023.txt\n"
     ]
    },
    {
     "name": "stdout",
     "output_type": "stream",
     "text": [
      "******Processing kongxiangang-24-28-38-97******\n",
      "******Processing kongxiangwen-12-18-32-86******\n"
     ]
    },
    {
     "name": "stderr",
     "output_type": "stream",
     "text": [
      "Traceback (most recent call last):\n",
      "  File \"/tmp/ipykernel_37540/2245311451.py\", line 44, in crop_images\n",
      "    x1, y1, x2, y2 = find_coordinate(*img.shape[0:2], os.path.join(label_path, f'{patient}_{i:04d}.txt'), 's')\n",
      "  File \"/tmp/ipykernel_37540/2245311451.py\", line 7, in find_coordinate\n",
      "    assert aorta == 'j', f'如果只有一个label那么此时应为降主动脉, 但实际为{aorta}：{label_file.split(\"/\")[-1]}'\n",
      "AssertionError: 如果只有一个label那么此时应为降主动脉, 但实际为s：kongxiangwen-12-18-32-86_0015.txt\n"
     ]
    },
    {
     "name": "stdout",
     "output_type": "stream",
     "text": [
      "******Processing laijinhu-14-21-34-83******\n"
     ]
    },
    {
     "name": "stderr",
     "output_type": "stream",
     "text": [
      "Traceback (most recent call last):\n",
      "  File \"/tmp/ipykernel_37540/2245311451.py\", line 44, in crop_images\n",
      "    x1, y1, x2, y2 = find_coordinate(*img.shape[0:2], os.path.join(label_path, f'{patient}_{i:04d}.txt'), 's')\n",
      "  File \"/tmp/ipykernel_37540/2245311451.py\", line 7, in find_coordinate\n",
      "    assert aorta == 'j', f'如果只有一个label那么此时应为降主动脉, 但实际为{aorta}：{label_file.split(\"/\")[-1]}'\n",
      "AssertionError: 如果只有一个label那么此时应为降主动脉, 但实际为s：laijinhu-14-21-34-83_0018.txt\n"
     ]
    },
    {
     "name": "stdout",
     "output_type": "stream",
     "text": [
      "******Processing leijiuxiang-31-38-68-153******\n",
      "******Processing liangmingfen-19-24-34-84******\n",
      "******Processing liangzhenwei-16-20-39-92******\n"
     ]
    },
    {
     "name": "stderr",
     "output_type": "stream",
     "text": [
      "Traceback (most recent call last):\n",
      "  File \"/tmp/ipykernel_37540/2245311451.py\", line 44, in crop_images\n",
      "    x1, y1, x2, y2 = find_coordinate(*img.shape[0:2], os.path.join(label_path, f'{patient}_{i:04d}.txt'), 's')\n",
      "  File \"/tmp/ipykernel_37540/2245311451.py\", line 7, in find_coordinate\n",
      "    assert aorta == 'j', f'如果只有一个label那么此时应为降主动脉, 但实际为{aorta}：{label_file.split(\"/\")[-1]}'\n",
      "AssertionError: 如果只有一个label那么此时应为降主动脉, 但实际为s：liangzhenwei-16-20-39-92_0017.txt\n",
      "Traceback (most recent call last):\n",
      "  File \"/tmp/ipykernel_37540/2245311451.py\", line 44, in crop_images\n",
      "    x1, y1, x2, y2 = find_coordinate(*img.shape[0:2], os.path.join(label_path, f'{patient}_{i:04d}.txt'), 's')\n",
      "  File \"/tmp/ipykernel_37540/2245311451.py\", line 7, in find_coordinate\n",
      "    assert aorta == 'j', f'如果只有一个label那么此时应为降主动脉, 但实际为{aorta}：{label_file.split(\"/\")[-1]}'\n",
      "AssertionError: 如果只有一个label那么此时应为降主动脉, 但实际为s：liangzhenwei-16-20-39-92_0018.txt\n"
     ]
    },
    {
     "name": "stdout",
     "output_type": "stream",
     "text": [
      "******Processing liaoxiuhua-36-44-55-144******\n"
     ]
    },
    {
     "name": "stderr",
     "output_type": "stream",
     "text": [
      "Traceback (most recent call last):\n",
      "  File \"/tmp/ipykernel_37540/2245311451.py\", line 44, in crop_images\n",
      "    x1, y1, x2, y2 = find_coordinate(*img.shape[0:2], os.path.join(label_path, f'{patient}_{i:04d}.txt'), 's')\n",
      "  File \"/tmp/ipykernel_37540/2245311451.py\", line 7, in find_coordinate\n",
      "    assert aorta == 'j', f'如果只有一个label那么此时应为降主动脉, 但实际为{aorta}：{label_file.split(\"/\")[-1]}'\n",
      "AssertionError: 如果只有一个label那么此时应为降主动脉, 但实际为s：liaoxiuhua-36-44-55-144_0041.txt\n"
     ]
    },
    {
     "name": "stdout",
     "output_type": "stream",
     "text": [
      "******Processing lidanfa-11-16-34-72******\n"
     ]
    },
    {
     "name": "stderr",
     "output_type": "stream",
     "text": [
      "Traceback (most recent call last):\n",
      "  File \"/tmp/ipykernel_37540/2245311451.py\", line 44, in crop_images\n",
      "    x1, y1, x2, y2 = find_coordinate(*img.shape[0:2], os.path.join(label_path, f'{patient}_{i:04d}.txt'), 's')\n",
      "  File \"/tmp/ipykernel_37540/2245311451.py\", line 7, in find_coordinate\n",
      "    assert aorta == 'j', f'如果只有一个label那么此时应为降主动脉, 但实际为{aorta}：{label_file.split(\"/\")[-1]}'\n",
      "AssertionError: 如果只有一个label那么此时应为降主动脉, 但实际为s：lidanfa-11-16-34-72_0013.txt\n",
      "Traceback (most recent call last):\n",
      "  File \"/tmp/ipykernel_37540/2245311451.py\", line 44, in crop_images\n",
      "    x1, y1, x2, y2 = find_coordinate(*img.shape[0:2], os.path.join(label_path, f'{patient}_{i:04d}.txt'), 's')\n",
      "  File \"/tmp/ipykernel_37540/2245311451.py\", line 7, in find_coordinate\n",
      "    assert aorta == 'j', f'如果只有一个label那么此时应为降主动脉, 但实际为{aorta}：{label_file.split(\"/\")[-1]}'\n",
      "AssertionError: 如果只有一个label那么此时应为降主动脉, 但实际为s：lidanfa-11-16-34-72_0014.txt\n"
     ]
    },
    {
     "name": "stdout",
     "output_type": "stream",
     "text": [
      "******Processing lideming-16-23-43-90******\n"
     ]
    },
    {
     "name": "stderr",
     "output_type": "stream",
     "text": [
      "Traceback (most recent call last):\n",
      "  File \"/tmp/ipykernel_37540/2245311451.py\", line 44, in crop_images\n",
      "    x1, y1, x2, y2 = find_coordinate(*img.shape[0:2], os.path.join(label_path, f'{patient}_{i:04d}.txt'), 's')\n",
      "  File \"/tmp/ipykernel_37540/2245311451.py\", line 7, in find_coordinate\n",
      "    assert aorta == 'j', f'如果只有一个label那么此时应为降主动脉, 但实际为{aorta}：{label_file.split(\"/\")[-1]}'\n",
      "AssertionError: 如果只有一个label那么此时应为降主动脉, 但实际为s：lideming-16-23-43-90_0021.txt\n"
     ]
    },
    {
     "name": "stdout",
     "output_type": "stream",
     "text": [
      "******Processing lidong-16-21-25-83******\n"
     ]
    },
    {
     "name": "stderr",
     "output_type": "stream",
     "text": [
      "Traceback (most recent call last):\n",
      "  File \"/tmp/ipykernel_37540/2245311451.py\", line 44, in crop_images\n",
      "    x1, y1, x2, y2 = find_coordinate(*img.shape[0:2], os.path.join(label_path, f'{patient}_{i:04d}.txt'), 's')\n",
      "  File \"/tmp/ipykernel_37540/2245311451.py\", line 7, in find_coordinate\n",
      "    assert aorta == 'j', f'如果只有一个label那么此时应为降主动脉, 但实际为{aorta}：{label_file.split(\"/\")[-1]}'\n",
      "AssertionError: 如果只有一个label那么此时应为降主动脉, 但实际为s：lidong-16-21-25-83_0017.txt\n",
      "Traceback (most recent call last):\n",
      "  File \"/tmp/ipykernel_37540/2245311451.py\", line 44, in crop_images\n",
      "    x1, y1, x2, y2 = find_coordinate(*img.shape[0:2], os.path.join(label_path, f'{patient}_{i:04d}.txt'), 's')\n",
      "  File \"/tmp/ipykernel_37540/2245311451.py\", line 7, in find_coordinate\n",
      "    assert aorta == 'j', f'如果只有一个label那么此时应为降主动脉, 但实际为{aorta}：{label_file.split(\"/\")[-1]}'\n",
      "AssertionError: 如果只有一个label那么此时应为降主动脉, 但实际为s：lidong-16-21-25-83_0018.txt\n"
     ]
    },
    {
     "name": "stdout",
     "output_type": "stream",
     "text": [
      "******Processing lifengyun-8-16-35-81******\n"
     ]
    },
    {
     "name": "stderr",
     "output_type": "stream",
     "text": [
      "Traceback (most recent call last):\n",
      "  File \"/tmp/ipykernel_37540/2245311451.py\", line 44, in crop_images\n",
      "    x1, y1, x2, y2 = find_coordinate(*img.shape[0:2], os.path.join(label_path, f'{patient}_{i:04d}.txt'), 's')\n",
      "  File \"/tmp/ipykernel_37540/2245311451.py\", line 7, in find_coordinate\n",
      "    assert aorta == 'j', f'如果只有一个label那么此时应为降主动脉, 但实际为{aorta}：{label_file.split(\"/\")[-1]}'\n",
      "AssertionError: 如果只有一个label那么此时应为降主动脉, 但实际为s：lifengyun-8-16-35-81_0013.txt\n",
      "Traceback (most recent call last):\n",
      "  File \"/tmp/ipykernel_37540/2245311451.py\", line 44, in crop_images\n",
      "    x1, y1, x2, y2 = find_coordinate(*img.shape[0:2], os.path.join(label_path, f'{patient}_{i:04d}.txt'), 's')\n",
      "  File \"/tmp/ipykernel_37540/2245311451.py\", line 7, in find_coordinate\n",
      "    assert aorta == 'j', f'如果只有一个label那么此时应为降主动脉, 但实际为{aorta}：{label_file.split(\"/\")[-1]}'\n",
      "AssertionError: 如果只有一个label那么此时应为降主动脉, 但实际为s：lifengyun-8-16-35-81_0014.txt\n"
     ]
    },
    {
     "name": "stdout",
     "output_type": "stream",
     "text": [
      "******Processing liguoyong-26-35-57-150******\n"
     ]
    },
    {
     "name": "stderr",
     "output_type": "stream",
     "text": [
      "Traceback (most recent call last):\n",
      "  File \"/tmp/ipykernel_37540/2245311451.py\", line 44, in crop_images\n",
      "    x1, y1, x2, y2 = find_coordinate(*img.shape[0:2], os.path.join(label_path, f'{patient}_{i:04d}.txt'), 's')\n",
      "  File \"/tmp/ipykernel_37540/2245311451.py\", line 7, in find_coordinate\n",
      "    assert aorta == 'j', f'如果只有一个label那么此时应为降主动脉, 但实际为{aorta}：{label_file.split(\"/\")[-1]}'\n",
      "AssertionError: 如果只有一个label那么此时应为降主动脉, 但实际为s：liguoyong-26-35-57-150_0033.txt\n"
     ]
    },
    {
     "name": "stdout",
     "output_type": "stream",
     "text": [
      "******Processing lihonggang-13-18-33-88******\n"
     ]
    },
    {
     "name": "stderr",
     "output_type": "stream",
     "text": [
      "Traceback (most recent call last):\n",
      "  File \"/tmp/ipykernel_37540/2245311451.py\", line 44, in crop_images\n",
      "    x1, y1, x2, y2 = find_coordinate(*img.shape[0:2], os.path.join(label_path, f'{patient}_{i:04d}.txt'), 's')\n",
      "  File \"/tmp/ipykernel_37540/2245311451.py\", line 7, in find_coordinate\n",
      "    assert aorta == 'j', f'如果只有一个label那么此时应为降主动脉, 但实际为{aorta}：{label_file.split(\"/\")[-1]}'\n",
      "AssertionError: 如果只有一个label那么此时应为降主动脉, 但实际为s：lihonggang-13-18-33-88_0015.txt\n",
      "Traceback (most recent call last):\n",
      "  File \"/tmp/ipykernel_37540/2245311451.py\", line 44, in crop_images\n",
      "    x1, y1, x2, y2 = find_coordinate(*img.shape[0:2], os.path.join(label_path, f'{patient}_{i:04d}.txt'), 's')\n",
      "  File \"/tmp/ipykernel_37540/2245311451.py\", line 7, in find_coordinate\n",
      "    assert aorta == 'j', f'如果只有一个label那么此时应为降主动脉, 但实际为{aorta}：{label_file.split(\"/\")[-1]}'\n",
      "AssertionError: 如果只有一个label那么此时应为降主动脉, 但实际为s：lihonggang-13-18-33-88_0016.txt\n"
     ]
    },
    {
     "name": "stdout",
     "output_type": "stream",
     "text": [
      "******Processing lihongmei-11-16-33-83******\n"
     ]
    },
    {
     "name": "stderr",
     "output_type": "stream",
     "text": [
      "Traceback (most recent call last):\n",
      "  File \"/tmp/ipykernel_37540/2245311451.py\", line 44, in crop_images\n",
      "    x1, y1, x2, y2 = find_coordinate(*img.shape[0:2], os.path.join(label_path, f'{patient}_{i:04d}.txt'), 's')\n",
      "  File \"/tmp/ipykernel_37540/2245311451.py\", line 7, in find_coordinate\n",
      "    assert aorta == 'j', f'如果只有一个label那么此时应为降主动脉, 但实际为{aorta}：{label_file.split(\"/\")[-1]}'\n",
      "AssertionError: 如果只有一个label那么此时应为降主动脉, 但实际为s：lihongmei-11-16-33-83_0013.txt\n",
      "Traceback (most recent call last):\n",
      "  File \"/tmp/ipykernel_37540/2245311451.py\", line 44, in crop_images\n",
      "    x1, y1, x2, y2 = find_coordinate(*img.shape[0:2], os.path.join(label_path, f'{patient}_{i:04d}.txt'), 's')\n",
      "  File \"/tmp/ipykernel_37540/2245311451.py\", line 7, in find_coordinate\n",
      "    assert aorta == 'j', f'如果只有一个label那么此时应为降主动脉, 但实际为{aorta}：{label_file.split(\"/\")[-1]}'\n",
      "AssertionError: 如果只有一个label那么此时应为降主动脉, 但实际为s：lihongmei-11-16-33-83_0014.txt\n"
     ]
    },
    {
     "name": "stdout",
     "output_type": "stream",
     "text": [
      "******Processing lijunhua-15-21-27-82******\n"
     ]
    },
    {
     "name": "stderr",
     "output_type": "stream",
     "text": [
      "Traceback (most recent call last):\n",
      "  File \"/tmp/ipykernel_37540/2245311451.py\", line 44, in crop_images\n",
      "    x1, y1, x2, y2 = find_coordinate(*img.shape[0:2], os.path.join(label_path, f'{patient}_{i:04d}.txt'), 's')\n",
      "  File \"/tmp/ipykernel_37540/2245311451.py\", line 7, in find_coordinate\n",
      "    assert aorta == 'j', f'如果只有一个label那么此时应为降主动脉, 但实际为{aorta}：{label_file.split(\"/\")[-1]}'\n",
      "AssertionError: 如果只有一个label那么此时应为降主动脉, 但实际为s：lijunhua-15-21-27-82_0017.txt\n",
      "Traceback (most recent call last):\n",
      "  File \"/tmp/ipykernel_37540/2245311451.py\", line 44, in crop_images\n",
      "    x1, y1, x2, y2 = find_coordinate(*img.shape[0:2], os.path.join(label_path, f'{patient}_{i:04d}.txt'), 's')\n",
      "  File \"/tmp/ipykernel_37540/2245311451.py\", line 7, in find_coordinate\n",
      "    assert aorta == 'j', f'如果只有一个label那么此时应为降主动脉, 但实际为{aorta}：{label_file.split(\"/\")[-1]}'\n",
      "AssertionError: 如果只有一个label那么此时应为降主动脉, 但实际为s：lijunhua-15-21-27-82_0018.txt\n"
     ]
    },
    {
     "name": "stdout",
     "output_type": "stream",
     "text": [
      "******Processing linaizhen-23-31-58-144******\n"
     ]
    },
    {
     "name": "stderr",
     "output_type": "stream",
     "text": [
      "Traceback (most recent call last):\n",
      "  File \"/tmp/ipykernel_37540/2245311451.py\", line 44, in crop_images\n",
      "    x1, y1, x2, y2 = find_coordinate(*img.shape[0:2], os.path.join(label_path, f'{patient}_{i:04d}.txt'), 's')\n",
      "  File \"/tmp/ipykernel_37540/2245311451.py\", line 7, in find_coordinate\n",
      "    assert aorta == 'j', f'如果只有一个label那么此时应为降主动脉, 但实际为{aorta}：{label_file.split(\"/\")[-1]}'\n",
      "AssertionError: 如果只有一个label那么此时应为降主动脉, 但实际为s：linaizhen-23-31-58-144_0029.txt\n"
     ]
    },
    {
     "name": "stdout",
     "output_type": "stream",
     "text": [
      "******Processing lining-17-21-28-81******\n"
     ]
    },
    {
     "name": "stderr",
     "output_type": "stream",
     "text": [
      "Traceback (most recent call last):\n",
      "  File \"/tmp/ipykernel_37540/2245311451.py\", line 44, in crop_images\n",
      "    x1, y1, x2, y2 = find_coordinate(*img.shape[0:2], os.path.join(label_path, f'{patient}_{i:04d}.txt'), 's')\n",
      "  File \"/tmp/ipykernel_37540/2245311451.py\", line 7, in find_coordinate\n",
      "    assert aorta == 'j', f'如果只有一个label那么此时应为降主动脉, 但实际为{aorta}：{label_file.split(\"/\")[-1]}'\n",
      "AssertionError: 如果只有一个label那么此时应为降主动脉, 但实际为s：lining-17-21-28-81_0017.txt\n",
      "Traceback (most recent call last):\n",
      "  File \"/tmp/ipykernel_37540/2245311451.py\", line 44, in crop_images\n",
      "    x1, y1, x2, y2 = find_coordinate(*img.shape[0:2], os.path.join(label_path, f'{patient}_{i:04d}.txt'), 's')\n",
      "  File \"/tmp/ipykernel_37540/2245311451.py\", line 7, in find_coordinate\n",
      "    assert aorta == 'j', f'如果只有一个label那么此时应为降主动脉, 但实际为{aorta}：{label_file.split(\"/\")[-1]}'\n",
      "AssertionError: 如果只有一个label那么此时应为降主动脉, 但实际为s：lining-17-21-28-81_0018.txt\n",
      "Traceback (most recent call last):\n",
      "  File \"/tmp/ipykernel_37540/2245311451.py\", line 44, in crop_images\n",
      "    x1, y1, x2, y2 = find_coordinate(*img.shape[0:2], os.path.join(label_path, f'{patient}_{i:04d}.txt'), 's')\n",
      "  File \"/tmp/ipykernel_37540/2245311451.py\", line 7, in find_coordinate\n",
      "    assert aorta == 'j', f'如果只有一个label那么此时应为降主动脉, 但实际为{aorta}：{label_file.split(\"/\")[-1]}'\n",
      "AssertionError: 如果只有一个label那么此时应为降主动脉, 但实际为s：lining-17-21-28-81_0019.txt\n"
     ]
    },
    {
     "name": "stdout",
     "output_type": "stream",
     "text": [
      "******Processing linshangjin-15-19-36-81******\n"
     ]
    },
    {
     "name": "stderr",
     "output_type": "stream",
     "text": [
      "Traceback (most recent call last):\n",
      "  File \"/tmp/ipykernel_37540/2245311451.py\", line 44, in crop_images\n",
      "    x1, y1, x2, y2 = find_coordinate(*img.shape[0:2], os.path.join(label_path, f'{patient}_{i:04d}.txt'), 's')\n",
      "  File \"/tmp/ipykernel_37540/2245311451.py\", line 7, in find_coordinate\n",
      "    assert aorta == 'j', f'如果只有一个label那么此时应为降主动脉, 但实际为{aorta}：{label_file.split(\"/\")[-1]}'\n",
      "AssertionError: 如果只有一个label那么此时应为降主动脉, 但实际为s：linshangjin-15-19-36-81_0016.txt\n",
      "Traceback (most recent call last):\n",
      "  File \"/tmp/ipykernel_37540/2245311451.py\", line 44, in crop_images\n",
      "    x1, y1, x2, y2 = find_coordinate(*img.shape[0:2], os.path.join(label_path, f'{patient}_{i:04d}.txt'), 's')\n",
      "  File \"/tmp/ipykernel_37540/2245311451.py\", line 7, in find_coordinate\n",
      "    assert aorta == 'j', f'如果只有一个label那么此时应为降主动脉, 但实际为{aorta}：{label_file.split(\"/\")[-1]}'\n",
      "AssertionError: 如果只有一个label那么此时应为降主动脉, 但实际为s：linshangjin-15-19-36-81_0017.txt\n"
     ]
    },
    {
     "name": "stdout",
     "output_type": "stream",
     "text": [
      "******Processing lintianye-18-28-46-136******\n",
      "******Processing linyantian-22-32-54-146******\n",
      "******Processing linyaoqin-15-20-30-89******\n"
     ]
    },
    {
     "name": "stderr",
     "output_type": "stream",
     "text": [
      "Traceback (most recent call last):\n",
      "  File \"/tmp/ipykernel_37540/2245311451.py\", line 44, in crop_images\n",
      "    x1, y1, x2, y2 = find_coordinate(*img.shape[0:2], os.path.join(label_path, f'{patient}_{i:04d}.txt'), 's')\n",
      "  File \"/tmp/ipykernel_37540/2245311451.py\", line 7, in find_coordinate\n",
      "    assert aorta == 'j', f'如果只有一个label那么此时应为降主动脉, 但实际为{aorta}：{label_file.split(\"/\")[-1]}'\n",
      "AssertionError: 如果只有一个label那么此时应为降主动脉, 但实际为s：linyaoqin-15-20-30-89_0017.txt\n"
     ]
    },
    {
     "name": "stdout",
     "output_type": "stream",
     "text": [
      "******Processing liqiang-17-22-27-83******\n"
     ]
    },
    {
     "name": "stderr",
     "output_type": "stream",
     "text": [
      "Traceback (most recent call last):\n",
      "  File \"/tmp/ipykernel_37540/2245311451.py\", line 44, in crop_images\n",
      "    x1, y1, x2, y2 = find_coordinate(*img.shape[0:2], os.path.join(label_path, f'{patient}_{i:04d}.txt'), 's')\n",
      "  File \"/tmp/ipykernel_37540/2245311451.py\", line 7, in find_coordinate\n",
      "    assert aorta == 'j', f'如果只有一个label那么此时应为降主动脉, 但实际为{aorta}：{label_file.split(\"/\")[-1]}'\n",
      "AssertionError: 如果只有一个label那么此时应为降主动脉, 但实际为s：liqiang-17-22-27-83_0018.txt\n",
      "Traceback (most recent call last):\n",
      "  File \"/tmp/ipykernel_37540/2245311451.py\", line 44, in crop_images\n",
      "    x1, y1, x2, y2 = find_coordinate(*img.shape[0:2], os.path.join(label_path, f'{patient}_{i:04d}.txt'), 's')\n",
      "  File \"/tmp/ipykernel_37540/2245311451.py\", line 7, in find_coordinate\n",
      "    assert aorta == 'j', f'如果只有一个label那么此时应为降主动脉, 但实际为{aorta}：{label_file.split(\"/\")[-1]}'\n",
      "AssertionError: 如果只有一个label那么此时应为降主动脉, 但实际为s：liqiang-17-22-27-83_0019.txt\n"
     ]
    },
    {
     "name": "stdout",
     "output_type": "stream",
     "text": [
      "******Processing lirongchang-13-17-27-86******\n"
     ]
    },
    {
     "name": "stderr",
     "output_type": "stream",
     "text": [
      "Traceback (most recent call last):\n",
      "  File \"/tmp/ipykernel_37540/2245311451.py\", line 44, in crop_images\n",
      "    x1, y1, x2, y2 = find_coordinate(*img.shape[0:2], os.path.join(label_path, f'{patient}_{i:04d}.txt'), 's')\n",
      "  File \"/tmp/ipykernel_37540/2245311451.py\", line 7, in find_coordinate\n",
      "    assert aorta == 'j', f'如果只有一个label那么此时应为降主动脉, 但实际为{aorta}：{label_file.split(\"/\")[-1]}'\n",
      "AssertionError: 如果只有一个label那么此时应为降主动脉, 但实际为s：lirongchang-13-17-27-86_0014.txt\n",
      "Traceback (most recent call last):\n",
      "  File \"/tmp/ipykernel_37540/2245311451.py\", line 44, in crop_images\n",
      "    x1, y1, x2, y2 = find_coordinate(*img.shape[0:2], os.path.join(label_path, f'{patient}_{i:04d}.txt'), 's')\n",
      "  File \"/tmp/ipykernel_37540/2245311451.py\", line 7, in find_coordinate\n",
      "    assert aorta == 'j', f'如果只有一个label那么此时应为降主动脉, 但实际为{aorta}：{label_file.split(\"/\")[-1]}'\n",
      "AssertionError: 如果只有一个label那么此时应为降主动脉, 但实际为s：lirongchang-13-17-27-86_0015.txt\n"
     ]
    },
    {
     "name": "stdout",
     "output_type": "stream",
     "text": [
      "******Processing lishankui-17-25-56-142******\n",
      "******Processing lishengfu-19-25-37-95******\n"
     ]
    },
    {
     "name": "stderr",
     "output_type": "stream",
     "text": [
      "Traceback (most recent call last):\n",
      "  File \"/tmp/ipykernel_37540/2245311451.py\", line 44, in crop_images\n",
      "    x1, y1, x2, y2 = find_coordinate(*img.shape[0:2], os.path.join(label_path, f'{patient}_{i:04d}.txt'), 's')\n",
      "  File \"/tmp/ipykernel_37540/2245311451.py\", line 7, in find_coordinate\n",
      "    assert aorta == 'j', f'如果只有一个label那么此时应为降主动脉, 但实际为{aorta}：{label_file.split(\"/\")[-1]}'\n",
      "AssertionError: 如果只有一个label那么此时应为降主动脉, 但实际为s：lishengfu-19-25-37-95_0022.txt\n"
     ]
    },
    {
     "name": "stdout",
     "output_type": "stream",
     "text": [
      "******Processing lisucheng-22-26-36-89******\n"
     ]
    },
    {
     "name": "stderr",
     "output_type": "stream",
     "text": [
      "Traceback (most recent call last):\n",
      "  File \"/tmp/ipykernel_37540/2245311451.py\", line 44, in crop_images\n",
      "    x1, y1, x2, y2 = find_coordinate(*img.shape[0:2], os.path.join(label_path, f'{patient}_{i:04d}.txt'), 's')\n",
      "  File \"/tmp/ipykernel_37540/2245311451.py\", line 7, in find_coordinate\n",
      "    assert aorta == 'j', f'如果只有一个label那么此时应为降主动脉, 但实际为{aorta}：{label_file.split(\"/\")[-1]}'\n",
      "AssertionError: 如果只有一个label那么此时应为降主动脉, 但实际为s：lisucheng-22-26-36-89_0023.txt\n",
      "Traceback (most recent call last):\n",
      "  File \"/tmp/ipykernel_37540/2245311451.py\", line 44, in crop_images\n",
      "    x1, y1, x2, y2 = find_coordinate(*img.shape[0:2], os.path.join(label_path, f'{patient}_{i:04d}.txt'), 's')\n",
      "  File \"/tmp/ipykernel_37540/2245311451.py\", line 7, in find_coordinate\n",
      "    assert aorta == 'j', f'如果只有一个label那么此时应为降主动脉, 但实际为{aorta}：{label_file.split(\"/\")[-1]}'\n",
      "AssertionError: 如果只有一个label那么此时应为降主动脉, 但实际为s：lisucheng-22-26-36-89_0024.txt\n"
     ]
    },
    {
     "name": "stdout",
     "output_type": "stream",
     "text": [
      "******Processing liubaojian-23-31-49-143******\n",
      "******Processing liulixuan-16-22-27-87******\n"
     ]
    },
    {
     "name": "stderr",
     "output_type": "stream",
     "text": [
      "Traceback (most recent call last):\n",
      "  File \"/tmp/ipykernel_37540/2245311451.py\", line 44, in crop_images\n",
      "    x1, y1, x2, y2 = find_coordinate(*img.shape[0:2], os.path.join(label_path, f'{patient}_{i:04d}.txt'), 's')\n",
      "  File \"/tmp/ipykernel_37540/2245311451.py\", line 7, in find_coordinate\n",
      "    assert aorta == 'j', f'如果只有一个label那么此时应为降主动脉, 但实际为{aorta}：{label_file.split(\"/\")[-1]}'\n",
      "AssertionError: 如果只有一个label那么此时应为降主动脉, 但实际为s：liulixuan-16-22-27-87_0018.txt\n",
      "Traceback (most recent call last):\n",
      "  File \"/tmp/ipykernel_37540/2245311451.py\", line 44, in crop_images\n",
      "    x1, y1, x2, y2 = find_coordinate(*img.shape[0:2], os.path.join(label_path, f'{patient}_{i:04d}.txt'), 's')\n",
      "  File \"/tmp/ipykernel_37540/2245311451.py\", line 7, in find_coordinate\n",
      "    assert aorta == 'j', f'如果只有一个label那么此时应为降主动脉, 但实际为{aorta}：{label_file.split(\"/\")[-1]}'\n",
      "AssertionError: 如果只有一个label那么此时应为降主动脉, 但实际为s：liulixuan-16-22-27-87_0019.txt\n"
     ]
    },
    {
     "name": "stdout",
     "output_type": "stream",
     "text": [
      "******Processing liulunyong-26-35-49-155******\n"
     ]
    },
    {
     "name": "stderr",
     "output_type": "stream",
     "text": [
      "Traceback (most recent call last):\n",
      "  File \"/tmp/ipykernel_37540/2245311451.py\", line 44, in crop_images\n",
      "    x1, y1, x2, y2 = find_coordinate(*img.shape[0:2], os.path.join(label_path, f'{patient}_{i:04d}.txt'), 's')\n",
      "  File \"/tmp/ipykernel_37540/2245311451.py\", line 7, in find_coordinate\n",
      "    assert aorta == 'j', f'如果只有一个label那么此时应为降主动脉, 但实际为{aorta}：{label_file.split(\"/\")[-1]}'\n",
      "AssertionError: 如果只有一个label那么此时应为降主动脉, 但实际为s：liulunyong-26-35-49-155_0032.txt\n"
     ]
    },
    {
     "name": "stdout",
     "output_type": "stream",
     "text": [
      "******Processing liutongkang-12-18-25-84******\n"
     ]
    },
    {
     "name": "stderr",
     "output_type": "stream",
     "text": [
      "Traceback (most recent call last):\n",
      "  File \"/tmp/ipykernel_37540/2245311451.py\", line 44, in crop_images\n",
      "    x1, y1, x2, y2 = find_coordinate(*img.shape[0:2], os.path.join(label_path, f'{patient}_{i:04d}.txt'), 's')\n",
      "  File \"/tmp/ipykernel_37540/2245311451.py\", line 7, in find_coordinate\n",
      "    assert aorta == 'j', f'如果只有一个label那么此时应为降主动脉, 但实际为{aorta}：{label_file.split(\"/\")[-1]}'\n",
      "AssertionError: 如果只有一个label那么此时应为降主动脉, 但实际为s：liutongkang-12-18-25-84_0014.txt\n",
      "Traceback (most recent call last):\n",
      "  File \"/tmp/ipykernel_37540/2245311451.py\", line 44, in crop_images\n",
      "    x1, y1, x2, y2 = find_coordinate(*img.shape[0:2], os.path.join(label_path, f'{patient}_{i:04d}.txt'), 's')\n",
      "  File \"/tmp/ipykernel_37540/2245311451.py\", line 7, in find_coordinate\n",
      "    assert aorta == 'j', f'如果只有一个label那么此时应为降主动脉, 但实际为{aorta}：{label_file.split(\"/\")[-1]}'\n",
      "AssertionError: 如果只有一个label那么此时应为降主动脉, 但实际为s：liutongkang-12-18-25-84_0015.txt\n"
     ]
    },
    {
     "name": "stdout",
     "output_type": "stream",
     "text": [
      "******Processing liuwangyang-19-24-32-87******\n"
     ]
    },
    {
     "name": "stderr",
     "output_type": "stream",
     "text": [
      "Traceback (most recent call last):\n",
      "  File \"/tmp/ipykernel_37540/2245311451.py\", line 44, in crop_images\n",
      "    x1, y1, x2, y2 = find_coordinate(*img.shape[0:2], os.path.join(label_path, f'{patient}_{i:04d}.txt'), 's')\n",
      "  File \"/tmp/ipykernel_37540/2245311451.py\", line 7, in find_coordinate\n",
      "    assert aorta == 'j', f'如果只有一个label那么此时应为降主动脉, 但实际为{aorta}：{label_file.split(\"/\")[-1]}'\n",
      "AssertionError: 如果只有一个label那么此时应为降主动脉, 但实际为s：liuwangyang-19-24-32-87_0020.txt\n",
      "Traceback (most recent call last):\n",
      "  File \"/tmp/ipykernel_37540/2245311451.py\", line 44, in crop_images\n",
      "    x1, y1, x2, y2 = find_coordinate(*img.shape[0:2], os.path.join(label_path, f'{patient}_{i:04d}.txt'), 's')\n",
      "  File \"/tmp/ipykernel_37540/2245311451.py\", line 7, in find_coordinate\n",
      "    assert aorta == 'j', f'如果只有一个label那么此时应为降主动脉, 但实际为{aorta}：{label_file.split(\"/\")[-1]}'\n",
      "AssertionError: 如果只有一个label那么此时应为降主动脉, 但实际为s：liuwangyang-19-24-32-87_0021.txt\n"
     ]
    },
    {
     "name": "stdout",
     "output_type": "stream",
     "text": [
      "******Processing liuweizhen-15-20-31-80******\n",
      "******Processing liuxiaolin-39-49-81-176******\n",
      "******Processing lixian-19-24-32-83******\n"
     ]
    },
    {
     "name": "stderr",
     "output_type": "stream",
     "text": [
      "Traceback (most recent call last):\n",
      "  File \"/tmp/ipykernel_37540/2245311451.py\", line 44, in crop_images\n",
      "    x1, y1, x2, y2 = find_coordinate(*img.shape[0:2], os.path.join(label_path, f'{patient}_{i:04d}.txt'), 's')\n",
      "  File \"/tmp/ipykernel_37540/2245311451.py\", line 7, in find_coordinate\n",
      "    assert aorta == 'j', f'如果只有一个label那么此时应为降主动脉, 但实际为{aorta}：{label_file.split(\"/\")[-1]}'\n",
      "AssertionError: 如果只有一个label那么此时应为降主动脉, 但实际为s：lixian-19-24-32-83_0020.txt\n",
      "Traceback (most recent call last):\n",
      "  File \"/tmp/ipykernel_37540/2245311451.py\", line 44, in crop_images\n",
      "    x1, y1, x2, y2 = find_coordinate(*img.shape[0:2], os.path.join(label_path, f'{patient}_{i:04d}.txt'), 's')\n",
      "  File \"/tmp/ipykernel_37540/2245311451.py\", line 7, in find_coordinate\n",
      "    assert aorta == 'j', f'如果只有一个label那么此时应为降主动脉, 但实际为{aorta}：{label_file.split(\"/\")[-1]}'\n",
      "AssertionError: 如果只有一个label那么此时应为降主动脉, 但实际为s：lixian-19-24-32-83_0021.txt\n"
     ]
    },
    {
     "name": "stdout",
     "output_type": "stream",
     "text": [
      "******Processing lixiaolang-17-21-30-83******\n"
     ]
    },
    {
     "name": "stderr",
     "output_type": "stream",
     "text": [
      "Traceback (most recent call last):\n",
      "  File \"/tmp/ipykernel_37540/2245311451.py\", line 44, in crop_images\n",
      "    x1, y1, x2, y2 = find_coordinate(*img.shape[0:2], os.path.join(label_path, f'{patient}_{i:04d}.txt'), 's')\n",
      "  File \"/tmp/ipykernel_37540/2245311451.py\", line 7, in find_coordinate\n",
      "    assert aorta == 'j', f'如果只有一个label那么此时应为降主动脉, 但实际为{aorta}：{label_file.split(\"/\")[-1]}'\n",
      "AssertionError: 如果只有一个label那么此时应为降主动脉, 但实际为s：lixiaolang-17-21-30-83_0017.txt\n",
      "Traceback (most recent call last):\n",
      "  File \"/tmp/ipykernel_37540/2245311451.py\", line 44, in crop_images\n",
      "    x1, y1, x2, y2 = find_coordinate(*img.shape[0:2], os.path.join(label_path, f'{patient}_{i:04d}.txt'), 's')\n",
      "  File \"/tmp/ipykernel_37540/2245311451.py\", line 7, in find_coordinate\n",
      "    assert aorta == 'j', f'如果只有一个label那么此时应为降主动脉, 但实际为{aorta}：{label_file.split(\"/\")[-1]}'\n",
      "AssertionError: 如果只有一个label那么此时应为降主动脉, 但实际为s：lixiaolang-17-21-30-83_0018.txt\n"
     ]
    },
    {
     "name": "stdout",
     "output_type": "stream",
     "text": [
      "******Processing lixiebing-17-20-37-87******\n"
     ]
    },
    {
     "name": "stderr",
     "output_type": "stream",
     "text": [
      "Traceback (most recent call last):\n",
      "  File \"/tmp/ipykernel_37540/2245311451.py\", line 44, in crop_images\n",
      "    x1, y1, x2, y2 = find_coordinate(*img.shape[0:2], os.path.join(label_path, f'{patient}_{i:04d}.txt'), 's')\n",
      "  File \"/tmp/ipykernel_37540/2245311451.py\", line 7, in find_coordinate\n",
      "    assert aorta == 'j', f'如果只有一个label那么此时应为降主动脉, 但实际为{aorta}：{label_file.split(\"/\")[-1]}'\n",
      "AssertionError: 如果只有一个label那么此时应为降主动脉, 但实际为s：lixiebing-17-20-37-87_0017.txt\n",
      "Traceback (most recent call last):\n",
      "  File \"/tmp/ipykernel_37540/2245311451.py\", line 44, in crop_images\n",
      "    x1, y1, x2, y2 = find_coordinate(*img.shape[0:2], os.path.join(label_path, f'{patient}_{i:04d}.txt'), 's')\n",
      "  File \"/tmp/ipykernel_37540/2245311451.py\", line 7, in find_coordinate\n",
      "    assert aorta == 'j', f'如果只有一个label那么此时应为降主动脉, 但实际为{aorta}：{label_file.split(\"/\")[-1]}'\n",
      "AssertionError: 如果只有一个label那么此时应为降主动脉, 但实际为s：lixiebing-17-20-37-87_0018.txt\n"
     ]
    },
    {
     "name": "stdout",
     "output_type": "stream",
     "text": [
      "******Processing lixinxi-16-23-33-86******\n",
      "******Processing lixiuhua-28-37-51-135******\n",
      "******Processing liyingsheng-13-17-34-87******\n"
     ]
    },
    {
     "name": "stderr",
     "output_type": "stream",
     "text": [
      "Traceback (most recent call last):\n",
      "  File \"/tmp/ipykernel_37540/2245311451.py\", line 44, in crop_images\n",
      "    x1, y1, x2, y2 = find_coordinate(*img.shape[0:2], os.path.join(label_path, f'{patient}_{i:04d}.txt'), 's')\n",
      "  File \"/tmp/ipykernel_37540/2245311451.py\", line 7, in find_coordinate\n",
      "    assert aorta == 'j', f'如果只有一个label那么此时应为降主动脉, 但实际为{aorta}：{label_file.split(\"/\")[-1]}'\n",
      "AssertionError: 如果只有一个label那么此时应为降主动脉, 但实际为s：liyingsheng-13-17-34-87_0014.txt\n",
      "Traceback (most recent call last):\n",
      "  File \"/tmp/ipykernel_37540/2245311451.py\", line 44, in crop_images\n",
      "    x1, y1, x2, y2 = find_coordinate(*img.shape[0:2], os.path.join(label_path, f'{patient}_{i:04d}.txt'), 's')\n",
      "  File \"/tmp/ipykernel_37540/2245311451.py\", line 7, in find_coordinate\n",
      "    assert aorta == 'j', f'如果只有一个label那么此时应为降主动脉, 但实际为{aorta}：{label_file.split(\"/\")[-1]}'\n",
      "AssertionError: 如果只有一个label那么此时应为降主动脉, 但实际为s：liyingsheng-13-17-34-87_0015.txt\n"
     ]
    },
    {
     "name": "stdout",
     "output_type": "stream",
     "text": [
      "******Processing liyongjian-16-22-31-86******\n"
     ]
    },
    {
     "name": "stderr",
     "output_type": "stream",
     "text": [
      "Traceback (most recent call last):\n",
      "  File \"/tmp/ipykernel_37540/2245311451.py\", line 44, in crop_images\n",
      "    x1, y1, x2, y2 = find_coordinate(*img.shape[0:2], os.path.join(label_path, f'{patient}_{i:04d}.txt'), 's')\n",
      "  File \"/tmp/ipykernel_37540/2245311451.py\", line 7, in find_coordinate\n",
      "    assert aorta == 'j', f'如果只有一个label那么此时应为降主动脉, 但实际为{aorta}：{label_file.split(\"/\")[-1]}'\n",
      "AssertionError: 如果只有一个label那么此时应为降主动脉, 但实际为s：liyongjian-16-22-31-86_0018.txt\n",
      "Traceback (most recent call last):\n",
      "  File \"/tmp/ipykernel_37540/2245311451.py\", line 44, in crop_images\n",
      "    x1, y1, x2, y2 = find_coordinate(*img.shape[0:2], os.path.join(label_path, f'{patient}_{i:04d}.txt'), 's')\n",
      "  File \"/tmp/ipykernel_37540/2245311451.py\", line 7, in find_coordinate\n",
      "    assert aorta == 'j', f'如果只有一个label那么此时应为降主动脉, 但实际为{aorta}：{label_file.split(\"/\")[-1]}'\n",
      "AssertionError: 如果只有一个label那么此时应为降主动脉, 但实际为s：liyongjian-16-22-31-86_0019.txt\n"
     ]
    },
    {
     "name": "stdout",
     "output_type": "stream",
     "text": [
      "******Processing liyufang-32-40-68-138******\n",
      "******Processing liyunbo-21-28-45-150******\n"
     ]
    },
    {
     "name": "stderr",
     "output_type": "stream",
     "text": [
      "Traceback (most recent call last):\n",
      "  File \"/tmp/ipykernel_37540/2245311451.py\", line 44, in crop_images\n",
      "    x1, y1, x2, y2 = find_coordinate(*img.shape[0:2], os.path.join(label_path, f'{patient}_{i:04d}.txt'), 's')\n",
      "  File \"/tmp/ipykernel_37540/2245311451.py\", line 7, in find_coordinate\n",
      "    assert aorta == 'j', f'如果只有一个label那么此时应为降主动脉, 但实际为{aorta}：{label_file.split(\"/\")[-1]}'\n",
      "AssertionError: 如果只有一个label那么此时应为降主动脉, 但实际为s：liyunbo-21-28-45-150_0025.txt\n"
     ]
    },
    {
     "name": "stdout",
     "output_type": "stream",
     "text": [
      "******Processing liyunkun-29-33-51-99******\n"
     ]
    },
    {
     "name": "stderr",
     "output_type": "stream",
     "text": [
      "Traceback (most recent call last):\n",
      "  File \"/tmp/ipykernel_37540/2245311451.py\", line 44, in crop_images\n",
      "    x1, y1, x2, y2 = find_coordinate(*img.shape[0:2], os.path.join(label_path, f'{patient}_{i:04d}.txt'), 's')\n",
      "  File \"/tmp/ipykernel_37540/2245311451.py\", line 7, in find_coordinate\n",
      "    assert aorta == 'j', f'如果只有一个label那么此时应为降主动脉, 但实际为{aorta}：{label_file.split(\"/\")[-1]}'\n",
      "AssertionError: 如果只有一个label那么此时应为降主动脉, 但实际为s：liyunkun-29-33-51-99_0030.txt\n",
      "Traceback (most recent call last):\n",
      "  File \"/tmp/ipykernel_37540/2245311451.py\", line 44, in crop_images\n",
      "    x1, y1, x2, y2 = find_coordinate(*img.shape[0:2], os.path.join(label_path, f'{patient}_{i:04d}.txt'), 's')\n",
      "  File \"/tmp/ipykernel_37540/2245311451.py\", line 7, in find_coordinate\n",
      "    assert aorta == 'j', f'如果只有一个label那么此时应为降主动脉, 但实际为{aorta}：{label_file.split(\"/\")[-1]}'\n",
      "AssertionError: 如果只有一个label那么此时应为降主动脉, 但实际为s：liyunkun-29-33-51-99_0031.txt\n"
     ]
    },
    {
     "name": "stdout",
     "output_type": "stream",
     "text": [
      "******Processing lizufu-21-26-42-93******\n"
     ]
    },
    {
     "name": "stderr",
     "output_type": "stream",
     "text": [
      "Traceback (most recent call last):\n",
      "  File \"/tmp/ipykernel_37540/2245311451.py\", line 44, in crop_images\n",
      "    x1, y1, x2, y2 = find_coordinate(*img.shape[0:2], os.path.join(label_path, f'{patient}_{i:04d}.txt'), 's')\n",
      "  File \"/tmp/ipykernel_37540/2245311451.py\", line 7, in find_coordinate\n",
      "    assert aorta == 'j', f'如果只有一个label那么此时应为降主动脉, 但实际为{aorta}：{label_file.split(\"/\")[-1]}'\n",
      "AssertionError: 如果只有一个label那么此时应为降主动脉, 但实际为s：lizufu-21-26-42-93_0023.txt\n",
      "Traceback (most recent call last):\n",
      "  File \"/tmp/ipykernel_37540/2245311451.py\", line 44, in crop_images\n",
      "    x1, y1, x2, y2 = find_coordinate(*img.shape[0:2], os.path.join(label_path, f'{patient}_{i:04d}.txt'), 's')\n",
      "  File \"/tmp/ipykernel_37540/2245311451.py\", line 7, in find_coordinate\n",
      "    assert aorta == 'j', f'如果只有一个label那么此时应为降主动脉, 但实际为{aorta}：{label_file.split(\"/\")[-1]}'\n",
      "AssertionError: 如果只有一个label那么此时应为降主动脉, 但实际为s：lizufu-21-26-42-93_0024.txt\n",
      "Traceback (most recent call last):\n",
      "  File \"/tmp/ipykernel_37540/2245311451.py\", line 44, in crop_images\n",
      "    x1, y1, x2, y2 = find_coordinate(*img.shape[0:2], os.path.join(label_path, f'{patient}_{i:04d}.txt'), 's')\n",
      "  File \"/tmp/ipykernel_37540/2245311451.py\", line 7, in find_coordinate\n",
      "    assert aorta == 'j', f'如果只有一个label那么此时应为降主动脉, 但实际为{aorta}：{label_file.split(\"/\")[-1]}'\n",
      "AssertionError: 如果只有一个label那么此时应为降主动脉, 但实际为s：lizufu-21-26-42-93_0025.txt\n"
     ]
    },
    {
     "name": "stdout",
     "output_type": "stream",
     "text": [
      "******Processing longpiaojiang-29-40-65-184******\n",
      "******Processing longyingdong-21-25-40-99******\n"
     ]
    },
    {
     "name": "stderr",
     "output_type": "stream",
     "text": [
      "Traceback (most recent call last):\n",
      "  File \"/tmp/ipykernel_37540/2245311451.py\", line 44, in crop_images\n",
      "    x1, y1, x2, y2 = find_coordinate(*img.shape[0:2], os.path.join(label_path, f'{patient}_{i:04d}.txt'), 's')\n",
      "  File \"/tmp/ipykernel_37540/2245311451.py\", line 7, in find_coordinate\n",
      "    assert aorta == 'j', f'如果只有一个label那么此时应为降主动脉, 但实际为{aorta}：{label_file.split(\"/\")[-1]}'\n",
      "AssertionError: 如果只有一个label那么此时应为降主动脉, 但实际为s：longyingdong-21-25-40-99_0022.txt\n",
      "Traceback (most recent call last):\n",
      "  File \"/tmp/ipykernel_37540/2245311451.py\", line 44, in crop_images\n",
      "    x1, y1, x2, y2 = find_coordinate(*img.shape[0:2], os.path.join(label_path, f'{patient}_{i:04d}.txt'), 's')\n",
      "  File \"/tmp/ipykernel_37540/2245311451.py\", line 7, in find_coordinate\n",
      "    assert aorta == 'j', f'如果只有一个label那么此时应为降主动脉, 但实际为{aorta}：{label_file.split(\"/\")[-1]}'\n",
      "AssertionError: 如果只有一个label那么此时应为降主动脉, 但实际为s：longyingdong-21-25-40-99_0023.txt\n"
     ]
    },
    {
     "name": "stdout",
     "output_type": "stream",
     "text": [
      "******Processing loucaidi-26-35-63-154******\n"
     ]
    },
    {
     "name": "stderr",
     "output_type": "stream",
     "text": [
      "Traceback (most recent call last):\n",
      "  File \"/tmp/ipykernel_37540/2245311451.py\", line 44, in crop_images\n",
      "    x1, y1, x2, y2 = find_coordinate(*img.shape[0:2], os.path.join(label_path, f'{patient}_{i:04d}.txt'), 's')\n",
      "  File \"/tmp/ipykernel_37540/2245311451.py\", line 7, in find_coordinate\n",
      "    assert aorta == 'j', f'如果只有一个label那么此时应为降主动脉, 但实际为{aorta}：{label_file.split(\"/\")[-1]}'\n",
      "AssertionError: 如果只有一个label那么此时应为降主动脉, 但实际为s：loucaidi-26-35-63-154_0033.txt\n"
     ]
    },
    {
     "name": "stdout",
     "output_type": "stream",
     "text": [
      "******Processing loudinghong-18-22-39-93******\n"
     ]
    },
    {
     "name": "stderr",
     "output_type": "stream",
     "text": [
      "Traceback (most recent call last):\n",
      "  File \"/tmp/ipykernel_37540/2245311451.py\", line 44, in crop_images\n",
      "    x1, y1, x2, y2 = find_coordinate(*img.shape[0:2], os.path.join(label_path, f'{patient}_{i:04d}.txt'), 's')\n",
      "  File \"/tmp/ipykernel_37540/2245311451.py\", line 7, in find_coordinate\n",
      "    assert aorta == 'j', f'如果只有一个label那么此时应为降主动脉, 但实际为{aorta}：{label_file.split(\"/\")[-1]}'\n",
      "AssertionError: 如果只有一个label那么此时应为降主动脉, 但实际为s：loudinghong-18-22-39-93_0019.txt\n",
      "Traceback (most recent call last):\n",
      "  File \"/tmp/ipykernel_37540/2245311451.py\", line 44, in crop_images\n",
      "    x1, y1, x2, y2 = find_coordinate(*img.shape[0:2], os.path.join(label_path, f'{patient}_{i:04d}.txt'), 's')\n",
      "  File \"/tmp/ipykernel_37540/2245311451.py\", line 7, in find_coordinate\n",
      "    assert aorta == 'j', f'如果只有一个label那么此时应为降主动脉, 但实际为{aorta}：{label_file.split(\"/\")[-1]}'\n",
      "AssertionError: 如果只有一个label那么此时应为降主动脉, 但实际为s：loudinghong-18-22-39-93_0020.txt\n"
     ]
    },
    {
     "name": "stdout",
     "output_type": "stream",
     "text": [
      "******Processing louguiqin-19-28-50-150******\n",
      "******Processing lucaifa-25-34-62-147******\n"
     ]
    },
    {
     "name": "stderr",
     "output_type": "stream",
     "text": [
      "Traceback (most recent call last):\n",
      "  File \"/tmp/ipykernel_37540/2245311451.py\", line 44, in crop_images\n",
      "    x1, y1, x2, y2 = find_coordinate(*img.shape[0:2], os.path.join(label_path, f'{patient}_{i:04d}.txt'), 's')\n",
      "  File \"/tmp/ipykernel_37540/2245311451.py\", line 7, in find_coordinate\n",
      "    assert aorta == 'j', f'如果只有一个label那么此时应为降主动脉, 但实际为{aorta}：{label_file.split(\"/\")[-1]}'\n",
      "AssertionError: 如果只有一个label那么此时应为降主动脉, 但实际为s：lucaifa-25-34-62-147_0032.txt\n"
     ]
    },
    {
     "name": "stdout",
     "output_type": "stream",
     "text": [
      "******Processing luguiyun-10-16-27-82******\n"
     ]
    },
    {
     "name": "stderr",
     "output_type": "stream",
     "text": [
      "Traceback (most recent call last):\n",
      "  File \"/tmp/ipykernel_37540/2245311451.py\", line 44, in crop_images\n",
      "    x1, y1, x2, y2 = find_coordinate(*img.shape[0:2], os.path.join(label_path, f'{patient}_{i:04d}.txt'), 's')\n",
      "  File \"/tmp/ipykernel_37540/2245311451.py\", line 7, in find_coordinate\n",
      "    assert aorta == 'j', f'如果只有一个label那么此时应为降主动脉, 但实际为{aorta}：{label_file.split(\"/\")[-1]}'\n",
      "AssertionError: 如果只有一个label那么此时应为降主动脉, 但实际为s：luguiyun-10-16-27-82_0013.txt\n"
     ]
    },
    {
     "name": "stdout",
     "output_type": "stream",
     "text": [
      "******Processing luguojing-27-36-47-141******\n"
     ]
    },
    {
     "name": "stderr",
     "output_type": "stream",
     "text": [
      "Traceback (most recent call last):\n",
      "  File \"/tmp/ipykernel_37540/2245311451.py\", line 44, in crop_images\n",
      "    x1, y1, x2, y2 = find_coordinate(*img.shape[0:2], os.path.join(label_path, f'{patient}_{i:04d}.txt'), 's')\n",
      "  File \"/tmp/ipykernel_37540/2245311451.py\", line 7, in find_coordinate\n",
      "    assert aorta == 'j', f'如果只有一个label那么此时应为降主动脉, 但实际为{aorta}：{label_file.split(\"/\")[-1]}'\n",
      "AssertionError: 如果只有一个label那么此时应为降主动脉, 但实际为s：luguojing-27-36-47-141_0041.txt\n",
      "Traceback (most recent call last):\n",
      "  File \"/tmp/ipykernel_37540/2245311451.py\", line 61, in crop_images\n",
      "    x1, y1, x2, y2 = find_coordinate(*img.shape[0:2], os.path.join(label_path, f'{patient}_{i:04d}.txt'), 'j')\n",
      "  File \"/tmp/ipykernel_37540/2245311451.py\", line 3, in find_coordinate\n",
      "    with open(label_file, 'r') as f:\n",
      "FileNotFoundError: [Errno 2] No such file or directory: '/nfs3-p1/zsxm/dataset/aorta_ct_img_label/negative/luguojing-27-36-47-141/labels/luguojing-27-36-47-141_0075.txt'\n"
     ]
    },
    {
     "name": "stdout",
     "output_type": "stream",
     "text": [
      "******Processing lujuquan-25-35-50-126******\n"
     ]
    },
    {
     "name": "stderr",
     "output_type": "stream",
     "text": [
      "Traceback (most recent call last):\n",
      "  File \"/tmp/ipykernel_37540/2245311451.py\", line 61, in crop_images\n",
      "    x1, y1, x2, y2 = find_coordinate(*img.shape[0:2], os.path.join(label_path, f'{patient}_{i:04d}.txt'), 'j')\n",
      "  File \"/tmp/ipykernel_37540/2245311451.py\", line 3, in find_coordinate\n",
      "    with open(label_file, 'r') as f:\n",
      "FileNotFoundError: [Errno 2] No such file or directory: '/nfs3-p1/zsxm/dataset/aorta_ct_img_label/negative/lujuquan-25-35-50-126/labels/lujuquan-25-35-50-126_0104.txt'\n"
     ]
    },
    {
     "name": "stdout",
     "output_type": "stream",
     "text": [
      "******Processing lulimian-24-31-64-135******\n",
      "******Processing lumin-13-17-34-85******\n"
     ]
    },
    {
     "name": "stderr",
     "output_type": "stream",
     "text": [
      "Traceback (most recent call last):\n",
      "  File \"/tmp/ipykernel_37540/2245311451.py\", line 44, in crop_images\n",
      "    x1, y1, x2, y2 = find_coordinate(*img.shape[0:2], os.path.join(label_path, f'{patient}_{i:04d}.txt'), 's')\n",
      "  File \"/tmp/ipykernel_37540/2245311451.py\", line 7, in find_coordinate\n",
      "    assert aorta == 'j', f'如果只有一个label那么此时应为降主动脉, 但实际为{aorta}：{label_file.split(\"/\")[-1]}'\n",
      "AssertionError: 如果只有一个label那么此时应为降主动脉, 但实际为s：lumin-13-17-34-85_0014.txt\n",
      "Traceback (most recent call last):\n",
      "  File \"/tmp/ipykernel_37540/2245311451.py\", line 44, in crop_images\n",
      "    x1, y1, x2, y2 = find_coordinate(*img.shape[0:2], os.path.join(label_path, f'{patient}_{i:04d}.txt'), 's')\n",
      "  File \"/tmp/ipykernel_37540/2245311451.py\", line 7, in find_coordinate\n",
      "    assert aorta == 'j', f'如果只有一个label那么此时应为降主动脉, 但实际为{aorta}：{label_file.split(\"/\")[-1]}'\n",
      "AssertionError: 如果只有一个label那么此时应为降主动脉, 但实际为s：lumin-13-17-34-85_0015.txt\n"
     ]
    },
    {
     "name": "stdout",
     "output_type": "stream",
     "text": [
      "******Processing luoguangrong-23-32-51-129******\n",
      "******Processing luoguidi-21-32-51-140******\n",
      "******Processing luojinfeng-30-38-53-149******\n",
      "******Processing luojun-22-29-51-139******\n"
     ]
    },
    {
     "name": "stderr",
     "output_type": "stream",
     "text": [
      "Traceback (most recent call last):\n",
      "  File \"/tmp/ipykernel_37540/2245311451.py\", line 44, in crop_images\n",
      "    x1, y1, x2, y2 = find_coordinate(*img.shape[0:2], os.path.join(label_path, f'{patient}_{i:04d}.txt'), 's')\n",
      "  File \"/tmp/ipykernel_37540/2245311451.py\", line 7, in find_coordinate\n",
      "    assert aorta == 'j', f'如果只有一个label那么此时应为降主动脉, 但实际为{aorta}：{label_file.split(\"/\")[-1]}'\n",
      "AssertionError: 如果只有一个label那么此时应为降主动脉, 但实际为s：luojun-22-29-51-139_0027.txt\n"
     ]
    },
    {
     "name": "stdout",
     "output_type": "stream",
     "text": [
      "******Processing luoshuijin-15-19-35-74******\n"
     ]
    },
    {
     "name": "stderr",
     "output_type": "stream",
     "text": [
      "Traceback (most recent call last):\n",
      "  File \"/tmp/ipykernel_37540/2245311451.py\", line 44, in crop_images\n",
      "    x1, y1, x2, y2 = find_coordinate(*img.shape[0:2], os.path.join(label_path, f'{patient}_{i:04d}.txt'), 's')\n",
      "  File \"/tmp/ipykernel_37540/2245311451.py\", line 7, in find_coordinate\n",
      "    assert aorta == 'j', f'如果只有一个label那么此时应为降主动脉, 但实际为{aorta}：{label_file.split(\"/\")[-1]}'\n",
      "AssertionError: 如果只有一个label那么此时应为降主动脉, 但实际为s：luoshuijin-15-19-35-74_0016.txt\n",
      "Traceback (most recent call last):\n",
      "  File \"/tmp/ipykernel_37540/2245311451.py\", line 44, in crop_images\n",
      "    x1, y1, x2, y2 = find_coordinate(*img.shape[0:2], os.path.join(label_path, f'{patient}_{i:04d}.txt'), 's')\n",
      "  File \"/tmp/ipykernel_37540/2245311451.py\", line 7, in find_coordinate\n",
      "    assert aorta == 'j', f'如果只有一个label那么此时应为降主动脉, 但实际为{aorta}：{label_file.split(\"/\")[-1]}'\n",
      "AssertionError: 如果只有一个label那么此时应为降主动脉, 但实际为s：luoshuijin-15-19-35-74_0017.txt\n",
      "Traceback (most recent call last):\n",
      "  File \"/tmp/ipykernel_37540/2245311451.py\", line 44, in crop_images\n",
      "    x1, y1, x2, y2 = find_coordinate(*img.shape[0:2], os.path.join(label_path, f'{patient}_{i:04d}.txt'), 's')\n",
      "  File \"/tmp/ipykernel_37540/2245311451.py\", line 7, in find_coordinate\n",
      "    assert aorta == 'j', f'如果只有一个label那么此时应为降主动脉, 但实际为{aorta}：{label_file.split(\"/\")[-1]}'\n",
      "AssertionError: 如果只有一个label那么此时应为降主动脉, 但实际为s：luoshuijin-15-19-35-74_0033.txt\n"
     ]
    },
    {
     "name": "stdout",
     "output_type": "stream",
     "text": [
      "******Processing luqiaoling-12-17-26-73******\n"
     ]
    },
    {
     "name": "stderr",
     "output_type": "stream",
     "text": [
      "Traceback (most recent call last):\n",
      "  File \"/tmp/ipykernel_37540/2245311451.py\", line 44, in crop_images\n",
      "    x1, y1, x2, y2 = find_coordinate(*img.shape[0:2], os.path.join(label_path, f'{patient}_{i:04d}.txt'), 's')\n",
      "  File \"/tmp/ipykernel_37540/2245311451.py\", line 7, in find_coordinate\n",
      "    assert aorta == 'j', f'如果只有一个label那么此时应为降主动脉, 但实际为{aorta}：{label_file.split(\"/\")[-1]}'\n",
      "AssertionError: 如果只有一个label那么此时应为降主动脉, 但实际为s：luqiaoling-12-17-26-73_0013.txt\n",
      "Traceback (most recent call last):\n",
      "  File \"/tmp/ipykernel_37540/2245311451.py\", line 44, in crop_images\n",
      "    x1, y1, x2, y2 = find_coordinate(*img.shape[0:2], os.path.join(label_path, f'{patient}_{i:04d}.txt'), 's')\n",
      "  File \"/tmp/ipykernel_37540/2245311451.py\", line 7, in find_coordinate\n",
      "    assert aorta == 'j', f'如果只有一个label那么此时应为降主动脉, 但实际为{aorta}：{label_file.split(\"/\")[-1]}'\n",
      "AssertionError: 如果只有一个label那么此时应为降主动脉, 但实际为s：luqiaoling-12-17-26-73_0014.txt\n"
     ]
    },
    {
     "name": "stdout",
     "output_type": "stream",
     "text": [
      "******Processing lushuyun-19-30-47-149******\n",
      "******Processing luweiqing-16-20-37-93******\n"
     ]
    },
    {
     "name": "stderr",
     "output_type": "stream",
     "text": [
      "Traceback (most recent call last):\n",
      "  File \"/tmp/ipykernel_37540/2245311451.py\", line 44, in crop_images\n",
      "    x1, y1, x2, y2 = find_coordinate(*img.shape[0:2], os.path.join(label_path, f'{patient}_{i:04d}.txt'), 's')\n",
      "  File \"/tmp/ipykernel_37540/2245311451.py\", line 7, in find_coordinate\n",
      "    assert aorta == 'j', f'如果只有一个label那么此时应为降主动脉, 但实际为{aorta}：{label_file.split(\"/\")[-1]}'\n",
      "AssertionError: 如果只有一个label那么此时应为降主动脉, 但实际为s：luweiqing-16-20-37-93_0017.txt\n",
      "Traceback (most recent call last):\n",
      "  File \"/tmp/ipykernel_37540/2245311451.py\", line 44, in crop_images\n",
      "    x1, y1, x2, y2 = find_coordinate(*img.shape[0:2], os.path.join(label_path, f'{patient}_{i:04d}.txt'), 's')\n",
      "  File \"/tmp/ipykernel_37540/2245311451.py\", line 7, in find_coordinate\n",
      "    assert aorta == 'j', f'如果只有一个label那么此时应为降主动脉, 但实际为{aorta}：{label_file.split(\"/\")[-1]}'\n",
      "AssertionError: 如果只有一个label那么此时应为降主动脉, 但实际为s：luweiqing-16-20-37-93_0018.txt\n",
      "Traceback (most recent call last):\n",
      "  File \"/tmp/ipykernel_37540/2245311451.py\", line 44, in crop_images\n",
      "    x1, y1, x2, y2 = find_coordinate(*img.shape[0:2], os.path.join(label_path, f'{patient}_{i:04d}.txt'), 's')\n",
      "  File \"/tmp/ipykernel_37540/2245311451.py\", line 7, in find_coordinate\n",
      "    assert aorta == 'j', f'如果只有一个label那么此时应为降主动脉, 但实际为{aorta}：{label_file.split(\"/\")[-1]}'\n",
      "AssertionError: 如果只有一个label那么此时应为降主动脉, 但实际为s：luweiqing-16-20-37-93_0019.txt\n"
     ]
    },
    {
     "name": "stdout",
     "output_type": "stream",
     "text": [
      "******Processing luwenjun-20-30-44-141******\n"
     ]
    },
    {
     "name": "stderr",
     "output_type": "stream",
     "text": [
      "Traceback (most recent call last):\n",
      "  File \"/tmp/ipykernel_37540/2245311451.py\", line 44, in crop_images\n",
      "    x1, y1, x2, y2 = find_coordinate(*img.shape[0:2], os.path.join(label_path, f'{patient}_{i:04d}.txt'), 's')\n",
      "  File \"/tmp/ipykernel_37540/2245311451.py\", line 7, in find_coordinate\n",
      "    assert aorta == 'j', f'如果只有一个label那么此时应为降主动脉, 但实际为{aorta}：{label_file.split(\"/\")[-1]}'\n",
      "AssertionError: 如果只有一个label那么此时应为降主动脉, 但实际为s：luwenjun-20-30-44-141_0027.txt\n",
      "Traceback (most recent call last):\n",
      "  File \"/tmp/ipykernel_37540/2245311451.py\", line 44, in crop_images\n",
      "    x1, y1, x2, y2 = find_coordinate(*img.shape[0:2], os.path.join(label_path, f'{patient}_{i:04d}.txt'), 's')\n",
      "  File \"/tmp/ipykernel_37540/2245311451.py\", line 7, in find_coordinate\n",
      "    assert aorta == 'j', f'如果只有一个label那么此时应为降主动脉, 但实际为{aorta}：{label_file.split(\"/\")[-1]}'\n",
      "AssertionError: 如果只有一个label那么此时应为降主动脉, 但实际为s：luwenjun-20-30-44-141_0028.txt\n"
     ]
    },
    {
     "name": "stdout",
     "output_type": "stream",
     "text": [
      "******Processing luyuefeng-24-28-40-94******\n"
     ]
    },
    {
     "name": "stderr",
     "output_type": "stream",
     "text": [
      "Traceback (most recent call last):\n",
      "  File \"/tmp/ipykernel_37540/2245311451.py\", line 44, in crop_images\n",
      "    x1, y1, x2, y2 = find_coordinate(*img.shape[0:2], os.path.join(label_path, f'{patient}_{i:04d}.txt'), 's')\n",
      "  File \"/tmp/ipykernel_37540/2245311451.py\", line 7, in find_coordinate\n",
      "    assert aorta == 'j', f'如果只有一个label那么此时应为降主动脉, 但实际为{aorta}：{label_file.split(\"/\")[-1]}'\n",
      "AssertionError: 如果只有一个label那么此时应为降主动脉, 但实际为s：luyuefeng-24-28-40-94_0025.txt\n",
      "Traceback (most recent call last):\n",
      "  File \"/tmp/ipykernel_37540/2245311451.py\", line 44, in crop_images\n",
      "    x1, y1, x2, y2 = find_coordinate(*img.shape[0:2], os.path.join(label_path, f'{patient}_{i:04d}.txt'), 's')\n",
      "  File \"/tmp/ipykernel_37540/2245311451.py\", line 7, in find_coordinate\n",
      "    assert aorta == 'j', f'如果只有一个label那么此时应为降主动脉, 但实际为{aorta}：{label_file.split(\"/\")[-1]}'\n",
      "AssertionError: 如果只有一个label那么此时应为降主动脉, 但实际为s：luyuefeng-24-28-40-94_0026.txt\n"
     ]
    },
    {
     "name": "stdout",
     "output_type": "stream",
     "text": [
      "******Processing luzhiwei-19-25-36-88******\n",
      "******Processing lvbiqiang-34-42-63-143******\n",
      "******Processing lvnanxian-17-23-32-84******\n"
     ]
    },
    {
     "name": "stderr",
     "output_type": "stream",
     "text": [
      "Traceback (most recent call last):\n",
      "  File \"/tmp/ipykernel_37540/2245311451.py\", line 44, in crop_images\n",
      "    x1, y1, x2, y2 = find_coordinate(*img.shape[0:2], os.path.join(label_path, f'{patient}_{i:04d}.txt'), 's')\n",
      "  File \"/tmp/ipykernel_37540/2245311451.py\", line 7, in find_coordinate\n",
      "    assert aorta == 'j', f'如果只有一个label那么此时应为降主动脉, 但实际为{aorta}：{label_file.split(\"/\")[-1]}'\n",
      "AssertionError: 如果只有一个label那么此时应为降主动脉, 但实际为s：lvnanxian-17-23-32-84_0019.txt\n"
     ]
    },
    {
     "name": "stdout",
     "output_type": "stream",
     "text": [
      "******Processing lvyinhuan-34-43-58-151******\n",
      "******Processing lvyundi-29-36-45-131******\n"
     ]
    },
    {
     "name": "stderr",
     "output_type": "stream",
     "text": [
      "Traceback (most recent call last):\n",
      "  File \"/tmp/ipykernel_37540/2245311451.py\", line 44, in crop_images\n",
      "    x1, y1, x2, y2 = find_coordinate(*img.shape[0:2], os.path.join(label_path, f'{patient}_{i:04d}.txt'), 's')\n",
      "  File \"/tmp/ipykernel_37540/2245311451.py\", line 7, in find_coordinate\n",
      "    assert aorta == 'j', f'如果只有一个label那么此时应为降主动脉, 但实际为{aorta}：{label_file.split(\"/\")[-1]}'\n",
      "AssertionError: 如果只有一个label那么此时应为降主动脉, 但实际为s：lvyundi-29-36-45-131_0032.txt\n",
      "Traceback (most recent call last):\n",
      "  File \"/tmp/ipykernel_37540/2245311451.py\", line 44, in crop_images\n",
      "    x1, y1, x2, y2 = find_coordinate(*img.shape[0:2], os.path.join(label_path, f'{patient}_{i:04d}.txt'), 's')\n",
      "  File \"/tmp/ipykernel_37540/2245311451.py\", line 7, in find_coordinate\n",
      "    assert aorta == 'j', f'如果只有一个label那么此时应为降主动脉, 但实际为{aorta}：{label_file.split(\"/\")[-1]}'\n",
      "AssertionError: 如果只有一个label那么此时应为降主动脉, 但实际为s：lvyundi-29-36-45-131_0033.txt\n",
      "Traceback (most recent call last):\n",
      "  File \"/tmp/ipykernel_37540/2245311451.py\", line 44, in crop_images\n",
      "    x1, y1, x2, y2 = find_coordinate(*img.shape[0:2], os.path.join(label_path, f'{patient}_{i:04d}.txt'), 's')\n",
      "  File \"/tmp/ipykernel_37540/2245311451.py\", line 7, in find_coordinate\n",
      "    assert aorta == 'j', f'如果只有一个label那么此时应为降主动脉, 但实际为{aorta}：{label_file.split(\"/\")[-1]}'\n",
      "AssertionError: 如果只有一个label那么此时应为降主动脉, 但实际为s：lvyundi-29-36-45-131_0034.txt\n"
     ]
    },
    {
     "name": "stdout",
     "output_type": "stream",
     "text": [
      "******Processing maguojin-27-37-56-141******\n",
      "******Processing mahuiwu-10-14-23-84******\n"
     ]
    },
    {
     "name": "stderr",
     "output_type": "stream",
     "text": [
      "Traceback (most recent call last):\n",
      "  File \"/tmp/ipykernel_37540/2245311451.py\", line 44, in crop_images\n",
      "    x1, y1, x2, y2 = find_coordinate(*img.shape[0:2], os.path.join(label_path, f'{patient}_{i:04d}.txt'), 's')\n",
      "  File \"/tmp/ipykernel_37540/2245311451.py\", line 7, in find_coordinate\n",
      "    assert aorta == 'j', f'如果只有一个label那么此时应为降主动脉, 但实际为{aorta}：{label_file.split(\"/\")[-1]}'\n",
      "AssertionError: 如果只有一个label那么此时应为降主动脉, 但实际为s：mahuiwu-10-14-23-84_0010.txt\n",
      "Traceback (most recent call last):\n",
      "  File \"/tmp/ipykernel_37540/2245311451.py\", line 44, in crop_images\n",
      "    x1, y1, x2, y2 = find_coordinate(*img.shape[0:2], os.path.join(label_path, f'{patient}_{i:04d}.txt'), 's')\n",
      "  File \"/tmp/ipykernel_37540/2245311451.py\", line 7, in find_coordinate\n",
      "    assert aorta == 'j', f'如果只有一个label那么此时应为降主动脉, 但实际为{aorta}：{label_file.split(\"/\")[-1]}'\n",
      "AssertionError: 如果只有一个label那么此时应为降主动脉, 但实际为s：mahuiwu-10-14-23-84_0011.txt\n",
      "Traceback (most recent call last):\n",
      "  File \"/tmp/ipykernel_37540/2245311451.py\", line 44, in crop_images\n",
      "    x1, y1, x2, y2 = find_coordinate(*img.shape[0:2], os.path.join(label_path, f'{patient}_{i:04d}.txt'), 's')\n",
      "  File \"/tmp/ipykernel_37540/2245311451.py\", line 7, in find_coordinate\n",
      "    assert aorta == 'j', f'如果只有一个label那么此时应为降主动脉, 但实际为{aorta}：{label_file.split(\"/\")[-1]}'\n",
      "AssertionError: 如果只有一个label那么此时应为降主动脉, 但实际为s：mahuiwu-10-14-23-84_0012.txt\n",
      "Traceback (most recent call last):\n",
      "  File \"/tmp/ipykernel_37540/2245311451.py\", line 61, in crop_images\n",
      "    x1, y1, x2, y2 = find_coordinate(*img.shape[0:2], os.path.join(label_path, f'{patient}_{i:04d}.txt'), 'j')\n",
      "  File \"/tmp/ipykernel_37540/2245311451.py\", line 3, in find_coordinate\n",
      "    with open(label_file, 'r') as f:\n",
      "FileNotFoundError: [Errno 2] No such file or directory: '/nfs3-p1/zsxm/dataset/aorta_ct_img_label/negative/mahuiwu-10-14-23-84/labels/mahuiwu-10-14-23-84_0049.txt'\n"
     ]
    },
    {
     "name": "stdout",
     "output_type": "stream",
     "text": [
      "******Processing majiangen-17-22-34-87******\n"
     ]
    },
    {
     "name": "stderr",
     "output_type": "stream",
     "text": [
      "Traceback (most recent call last):\n",
      "  File \"/tmp/ipykernel_37540/2245311451.py\", line 44, in crop_images\n",
      "    x1, y1, x2, y2 = find_coordinate(*img.shape[0:2], os.path.join(label_path, f'{patient}_{i:04d}.txt'), 's')\n",
      "  File \"/tmp/ipykernel_37540/2245311451.py\", line 7, in find_coordinate\n",
      "    assert aorta == 'j', f'如果只有一个label那么此时应为降主动脉, 但实际为{aorta}：{label_file.split(\"/\")[-1]}'\n",
      "AssertionError: 如果只有一个label那么此时应为降主动脉, 但实际为s：majiangen-17-22-34-87_0019.txt\n",
      "Traceback (most recent call last):\n",
      "  File \"/tmp/ipykernel_37540/2245311451.py\", line 44, in crop_images\n",
      "    x1, y1, x2, y2 = find_coordinate(*img.shape[0:2], os.path.join(label_path, f'{patient}_{i:04d}.txt'), 's')\n",
      "  File \"/tmp/ipykernel_37540/2245311451.py\", line 7, in find_coordinate\n",
      "    assert aorta == 'j', f'如果只有一个label那么此时应为降主动脉, 但实际为{aorta}：{label_file.split(\"/\")[-1]}'\n",
      "AssertionError: 如果只有一个label那么此时应为降主动脉, 但实际为s：majiangen-17-22-34-87_0020.txt\n"
     ]
    },
    {
     "name": "stdout",
     "output_type": "stream",
     "text": [
      "******Processing majinmu-30-41-62-158******\n",
      "******Processing malingfeng-12-17-32-75******\n"
     ]
    },
    {
     "name": "stderr",
     "output_type": "stream",
     "text": [
      "Traceback (most recent call last):\n",
      "  File \"/tmp/ipykernel_37540/2245311451.py\", line 44, in crop_images\n",
      "    x1, y1, x2, y2 = find_coordinate(*img.shape[0:2], os.path.join(label_path, f'{patient}_{i:04d}.txt'), 's')\n",
      "  File \"/tmp/ipykernel_37540/2245311451.py\", line 7, in find_coordinate\n",
      "    assert aorta == 'j', f'如果只有一个label那么此时应为降主动脉, 但实际为{aorta}：{label_file.split(\"/\")[-1]}'\n",
      "AssertionError: 如果只有一个label那么此时应为降主动脉, 但实际为s：malingfeng-12-17-32-75_0014.txt\n",
      "Traceback (most recent call last):\n",
      "  File \"/tmp/ipykernel_37540/2245311451.py\", line 44, in crop_images\n",
      "    x1, y1, x2, y2 = find_coordinate(*img.shape[0:2], os.path.join(label_path, f'{patient}_{i:04d}.txt'), 's')\n",
      "  File \"/tmp/ipykernel_37540/2245311451.py\", line 7, in find_coordinate\n",
      "    assert aorta == 'j', f'如果只有一个label那么此时应为降主动脉, 但实际为{aorta}：{label_file.split(\"/\")[-1]}'\n",
      "AssertionError: 如果只有一个label那么此时应为降主动脉, 但实际为s：malingfeng-12-17-32-75_0015.txt\n"
     ]
    },
    {
     "name": "stdout",
     "output_type": "stream",
     "text": [
      "******Processing maoshuifa-30-40-60-144******\n",
      "******Processing maoshuijuan-12-17-23-80******\n"
     ]
    },
    {
     "name": "stderr",
     "output_type": "stream",
     "text": [
      "Traceback (most recent call last):\n",
      "  File \"/tmp/ipykernel_37540/2245311451.py\", line 44, in crop_images\n",
      "    x1, y1, x2, y2 = find_coordinate(*img.shape[0:2], os.path.join(label_path, f'{patient}_{i:04d}.txt'), 's')\n",
      "  File \"/tmp/ipykernel_37540/2245311451.py\", line 7, in find_coordinate\n",
      "    assert aorta == 'j', f'如果只有一个label那么此时应为降主动脉, 但实际为{aorta}：{label_file.split(\"/\")[-1]}'\n",
      "AssertionError: 如果只有一个label那么此时应为降主动脉, 但实际为s：maoshuijuan-12-17-23-80_0013.txt\n",
      "Traceback (most recent call last):\n",
      "  File \"/tmp/ipykernel_37540/2245311451.py\", line 44, in crop_images\n",
      "    x1, y1, x2, y2 = find_coordinate(*img.shape[0:2], os.path.join(label_path, f'{patient}_{i:04d}.txt'), 's')\n",
      "  File \"/tmp/ipykernel_37540/2245311451.py\", line 7, in find_coordinate\n",
      "    assert aorta == 'j', f'如果只有一个label那么此时应为降主动脉, 但实际为{aorta}：{label_file.split(\"/\")[-1]}'\n",
      "AssertionError: 如果只有一个label那么此时应为降主动脉, 但实际为s：maoshuijuan-12-17-23-80_0014.txt\n"
     ]
    },
    {
     "name": "stdout",
     "output_type": "stream",
     "text": [
      "******Processing maowenli-17-22-32-76******\n",
      "******Processing mawei-15-20-28-85******\n"
     ]
    },
    {
     "name": "stderr",
     "output_type": "stream",
     "text": [
      "Traceback (most recent call last):\n",
      "  File \"/tmp/ipykernel_37540/2245311451.py\", line 44, in crop_images\n",
      "    x1, y1, x2, y2 = find_coordinate(*img.shape[0:2], os.path.join(label_path, f'{patient}_{i:04d}.txt'), 's')\n",
      "  File \"/tmp/ipykernel_37540/2245311451.py\", line 7, in find_coordinate\n",
      "    assert aorta == 'j', f'如果只有一个label那么此时应为降主动脉, 但实际为{aorta}：{label_file.split(\"/\")[-1]}'\n",
      "AssertionError: 如果只有一个label那么此时应为降主动脉, 但实际为s：mawei-15-20-28-85_0016.txt\n",
      "Traceback (most recent call last):\n",
      "  File \"/tmp/ipykernel_37540/2245311451.py\", line 44, in crop_images\n",
      "    x1, y1, x2, y2 = find_coordinate(*img.shape[0:2], os.path.join(label_path, f'{patient}_{i:04d}.txt'), 's')\n",
      "  File \"/tmp/ipykernel_37540/2245311451.py\", line 7, in find_coordinate\n",
      "    assert aorta == 'j', f'如果只有一个label那么此时应为降主动脉, 但实际为{aorta}：{label_file.split(\"/\")[-1]}'\n",
      "AssertionError: 如果只有一个label那么此时应为降主动脉, 但实际为s：mawei-15-20-28-85_0017.txt\n"
     ]
    },
    {
     "name": "stdout",
     "output_type": "stream",
     "text": [
      "******Processing meipingan-36-45-60-137******\n",
      "******Processing menghaixing-17-28-41-136******\n",
      "******Processing miaohefen-19-27-40-134******\n",
      "******Processing miaoxiaojun-35-46-65-146******\n",
      "******Processing muchunxian-15-21-31-81******\n",
      "******Processing nabuqi-13-18-26-79******\n"
     ]
    },
    {
     "name": "stderr",
     "output_type": "stream",
     "text": [
      "Traceback (most recent call last):\n",
      "  File \"/tmp/ipykernel_37540/2245311451.py\", line 44, in crop_images\n",
      "    x1, y1, x2, y2 = find_coordinate(*img.shape[0:2], os.path.join(label_path, f'{patient}_{i:04d}.txt'), 's')\n",
      "  File \"/tmp/ipykernel_37540/2245311451.py\", line 7, in find_coordinate\n",
      "    assert aorta == 'j', f'如果只有一个label那么此时应为降主动脉, 但实际为{aorta}：{label_file.split(\"/\")[-1]}'\n",
      "AssertionError: 如果只有一个label那么此时应为降主动脉, 但实际为s：nabuqi-13-18-26-79_0014.txt\n",
      "Traceback (most recent call last):\n",
      "  File \"/tmp/ipykernel_37540/2245311451.py\", line 44, in crop_images\n",
      "    x1, y1, x2, y2 = find_coordinate(*img.shape[0:2], os.path.join(label_path, f'{patient}_{i:04d}.txt'), 's')\n",
      "  File \"/tmp/ipykernel_37540/2245311451.py\", line 7, in find_coordinate\n",
      "    assert aorta == 'j', f'如果只有一个label那么此时应为降主动脉, 但实际为{aorta}：{label_file.split(\"/\")[-1]}'\n",
      "AssertionError: 如果只有一个label那么此时应为降主动脉, 但实际为s：nabuqi-13-18-26-79_0015.txt\n",
      "Traceback (most recent call last):\n",
      "  File \"/tmp/ipykernel_37540/2245311451.py\", line 44, in crop_images\n",
      "    x1, y1, x2, y2 = find_coordinate(*img.shape[0:2], os.path.join(label_path, f'{patient}_{i:04d}.txt'), 's')\n",
      "  File \"/tmp/ipykernel_37540/2245311451.py\", line 7, in find_coordinate\n",
      "    assert aorta == 'j', f'如果只有一个label那么此时应为降主动脉, 但实际为{aorta}：{label_file.split(\"/\")[-1]}'\n",
      "AssertionError: 如果只有一个label那么此时应为降主动脉, 但实际为s：nabuqi-13-18-26-79_0016.txt\n"
     ]
    },
    {
     "name": "stdout",
     "output_type": "stream",
     "text": [
      "******Processing ningdegen-28-38-61-140******\n",
      "******Processing ningjiangui-18-23-30-83******\n"
     ]
    },
    {
     "name": "stderr",
     "output_type": "stream",
     "text": [
      "Traceback (most recent call last):\n",
      "  File \"/tmp/ipykernel_37540/2245311451.py\", line 44, in crop_images\n",
      "    x1, y1, x2, y2 = find_coordinate(*img.shape[0:2], os.path.join(label_path, f'{patient}_{i:04d}.txt'), 's')\n",
      "  File \"/tmp/ipykernel_37540/2245311451.py\", line 7, in find_coordinate\n",
      "    assert aorta == 'j', f'如果只有一个label那么此时应为降主动脉, 但实际为{aorta}：{label_file.split(\"/\")[-1]}'\n",
      "AssertionError: 如果只有一个label那么此时应为降主动脉, 但实际为s：ningjiangui-18-23-30-83_0019.txt\n",
      "Traceback (most recent call last):\n",
      "  File \"/tmp/ipykernel_37540/2245311451.py\", line 44, in crop_images\n",
      "    x1, y1, x2, y2 = find_coordinate(*img.shape[0:2], os.path.join(label_path, f'{patient}_{i:04d}.txt'), 's')\n",
      "  File \"/tmp/ipykernel_37540/2245311451.py\", line 7, in find_coordinate\n",
      "    assert aorta == 'j', f'如果只有一个label那么此时应为降主动脉, 但实际为{aorta}：{label_file.split(\"/\")[-1]}'\n",
      "AssertionError: 如果只有一个label那么此时应为降主动脉, 但实际为s：ningjiangui-18-23-30-83_0020.txt\n"
     ]
    },
    {
     "name": "stdout",
     "output_type": "stream",
     "text": [
      "******Processing nisixiang-11-17-25-81******\n"
     ]
    },
    {
     "name": "stderr",
     "output_type": "stream",
     "text": [
      "Traceback (most recent call last):\n",
      "  File \"/tmp/ipykernel_37540/2245311451.py\", line 44, in crop_images\n",
      "    x1, y1, x2, y2 = find_coordinate(*img.shape[0:2], os.path.join(label_path, f'{patient}_{i:04d}.txt'), 's')\n",
      "  File \"/tmp/ipykernel_37540/2245311451.py\", line 7, in find_coordinate\n",
      "    assert aorta == 'j', f'如果只有一个label那么此时应为降主动脉, 但实际为{aorta}：{label_file.split(\"/\")[-1]}'\n",
      "AssertionError: 如果只有一个label那么此时应为降主动脉, 但实际为s：nisixiang-11-17-25-81_0013.txt\n",
      "Traceback (most recent call last):\n",
      "  File \"/tmp/ipykernel_37540/2245311451.py\", line 44, in crop_images\n",
      "    x1, y1, x2, y2 = find_coordinate(*img.shape[0:2], os.path.join(label_path, f'{patient}_{i:04d}.txt'), 's')\n",
      "  File \"/tmp/ipykernel_37540/2245311451.py\", line 7, in find_coordinate\n",
      "    assert aorta == 'j', f'如果只有一个label那么此时应为降主动脉, 但实际为{aorta}：{label_file.split(\"/\")[-1]}'\n",
      "AssertionError: 如果只有一个label那么此时应为降主动脉, 但实际为s：nisixiang-11-17-25-81_0014.txt\n"
     ]
    },
    {
     "name": "stdout",
     "output_type": "stream",
     "text": [
      "******Processing panandan-16-21-31-81******\n"
     ]
    },
    {
     "name": "stderr",
     "output_type": "stream",
     "text": [
      "Traceback (most recent call last):\n",
      "  File \"/tmp/ipykernel_37540/2245311451.py\", line 44, in crop_images\n",
      "    x1, y1, x2, y2 = find_coordinate(*img.shape[0:2], os.path.join(label_path, f'{patient}_{i:04d}.txt'), 's')\n",
      "  File \"/tmp/ipykernel_37540/2245311451.py\", line 7, in find_coordinate\n",
      "    assert aorta == 'j', f'如果只有一个label那么此时应为降主动脉, 但实际为{aorta}：{label_file.split(\"/\")[-1]}'\n",
      "AssertionError: 如果只有一个label那么此时应为降主动脉, 但实际为s：panandan-16-21-31-81_0018.txt\n"
     ]
    },
    {
     "name": "stdout",
     "output_type": "stream",
     "text": [
      "******Processing panhongfu-37-48-75-151******\n",
      "******Processing panming-17-22-30-90******\n"
     ]
    },
    {
     "name": "stderr",
     "output_type": "stream",
     "text": [
      "Traceback (most recent call last):\n",
      "  File \"/tmp/ipykernel_37540/2245311451.py\", line 44, in crop_images\n",
      "    x1, y1, x2, y2 = find_coordinate(*img.shape[0:2], os.path.join(label_path, f'{patient}_{i:04d}.txt'), 's')\n",
      "  File \"/tmp/ipykernel_37540/2245311451.py\", line 7, in find_coordinate\n",
      "    assert aorta == 'j', f'如果只有一个label那么此时应为降主动脉, 但实际为{aorta}：{label_file.split(\"/\")[-1]}'\n",
      "AssertionError: 如果只有一个label那么此时应为降主动脉, 但实际为s：panming-17-22-30-90_0018.txt\n",
      "Traceback (most recent call last):\n",
      "  File \"/tmp/ipykernel_37540/2245311451.py\", line 44, in crop_images\n",
      "    x1, y1, x2, y2 = find_coordinate(*img.shape[0:2], os.path.join(label_path, f'{patient}_{i:04d}.txt'), 's')\n",
      "  File \"/tmp/ipykernel_37540/2245311451.py\", line 7, in find_coordinate\n",
      "    assert aorta == 'j', f'如果只有一个label那么此时应为降主动脉, 但实际为{aorta}：{label_file.split(\"/\")[-1]}'\n",
      "AssertionError: 如果只有一个label那么此时应为降主动脉, 但实际为s：panming-17-22-30-90_0019.txt\n"
     ]
    },
    {
     "name": "stdout",
     "output_type": "stream",
     "text": [
      "******Processing panxiangyang-45-53-97-196******\n"
     ]
    },
    {
     "name": "stderr",
     "output_type": "stream",
     "text": [
      "Traceback (most recent call last):\n",
      "  File \"/tmp/ipykernel_37540/2245311451.py\", line 61, in crop_images\n",
      "    x1, y1, x2, y2 = find_coordinate(*img.shape[0:2], os.path.join(label_path, f'{patient}_{i:04d}.txt'), 'j')\n",
      "  File \"/tmp/ipykernel_37540/2245311451.py\", line 13, in find_coordinate\n",
      "    assert 0.25 < corr1[1] < 0.75 and 0.2 < corr1[2] < 0.8, f'边界框1中心({corr1[1]}, {corr1[2]})出界：{label_file.split(\"/\")[-1]}'\n",
      "AssertionError: 边界框1中心(0.758789, 0.52832)出界：panxiangyang-45-53-97-196_0117.txt\n",
      "Traceback (most recent call last):\n",
      "  File \"/tmp/ipykernel_37540/2245311451.py\", line 61, in crop_images\n",
      "    x1, y1, x2, y2 = find_coordinate(*img.shape[0:2], os.path.join(label_path, f'{patient}_{i:04d}.txt'), 'j')\n",
      "  File \"/tmp/ipykernel_37540/2245311451.py\", line 13, in find_coordinate\n",
      "    assert 0.25 < corr1[1] < 0.75 and 0.2 < corr1[2] < 0.8, f'边界框1中心({corr1[1]}, {corr1[2]})出界：{label_file.split(\"/\")[-1]}'\n",
      "AssertionError: 边界框1中心(0.754883, 0.520508)出界：panxiangyang-45-53-97-196_0118.txt\n"
     ]
    },
    {
     "name": "stdout",
     "output_type": "stream",
     "text": [
      "******Processing panxiuping-29-38-55-142******\n",
      "******Processing panyuda-29-36-52-102******\n"
     ]
    },
    {
     "name": "stderr",
     "output_type": "stream",
     "text": [
      "Traceback (most recent call last):\n",
      "  File \"/tmp/ipykernel_37540/2245311451.py\", line 44, in crop_images\n",
      "    x1, y1, x2, y2 = find_coordinate(*img.shape[0:2], os.path.join(label_path, f'{patient}_{i:04d}.txt'), 's')\n",
      "  File \"/tmp/ipykernel_37540/2245311451.py\", line 7, in find_coordinate\n",
      "    assert aorta == 'j', f'如果只有一个label那么此时应为降主动脉, 但实际为{aorta}：{label_file.split(\"/\")[-1]}'\n",
      "AssertionError: 如果只有一个label那么此时应为降主动脉, 但实际为s：panyuda-29-36-52-102_0033.txt\n"
     ]
    },
    {
     "name": "stdout",
     "output_type": "stream",
     "text": [
      "******Processing pengguizhen-30-41-59-160******\n",
      "******Processing pengyufei-31-39-51-154******\n"
     ]
    },
    {
     "name": "stderr",
     "output_type": "stream",
     "text": [
      "Traceback (most recent call last):\n",
      "  File \"/tmp/ipykernel_37540/2245311451.py\", line 61, in crop_images\n",
      "    x1, y1, x2, y2 = find_coordinate(*img.shape[0:2], os.path.join(label_path, f'{patient}_{i:04d}.txt'), 'j')\n",
      "  File \"/tmp/ipykernel_37540/2245311451.py\", line 3, in find_coordinate\n",
      "    with open(label_file, 'r') as f:\n",
      "FileNotFoundError: [Errno 2] No such file or directory: '/nfs3-p1/zsxm/dataset/aorta_ct_img_label/negative/pengyufei-31-39-51-154/labels/pengyufei-31-39-51-154_0089.txt'\n",
      "Traceback (most recent call last):\n",
      "  File \"/tmp/ipykernel_37540/2245311451.py\", line 61, in crop_images\n",
      "    x1, y1, x2, y2 = find_coordinate(*img.shape[0:2], os.path.join(label_path, f'{patient}_{i:04d}.txt'), 'j')\n",
      "  File \"/tmp/ipykernel_37540/2245311451.py\", line 3, in find_coordinate\n",
      "    with open(label_file, 'r') as f:\n",
      "FileNotFoundError: [Errno 2] No such file or directory: '/nfs3-p1/zsxm/dataset/aorta_ct_img_label/negative/pengyufei-31-39-51-154/labels/pengyufei-31-39-51-154_0091.txt'\n"
     ]
    },
    {
     "name": "stdout",
     "output_type": "stream",
     "text": [
      "******Processing puchenhu-18-21-33-89******\n"
     ]
    },
    {
     "name": "stderr",
     "output_type": "stream",
     "text": [
      "Traceback (most recent call last):\n",
      "  File \"/tmp/ipykernel_37540/2245311451.py\", line 44, in crop_images\n",
      "    x1, y1, x2, y2 = find_coordinate(*img.shape[0:2], os.path.join(label_path, f'{patient}_{i:04d}.txt'), 's')\n",
      "  File \"/tmp/ipykernel_37540/2245311451.py\", line 7, in find_coordinate\n",
      "    assert aorta == 'j', f'如果只有一个label那么此时应为降主动脉, 但实际为{aorta}：{label_file.split(\"/\")[-1]}'\n",
      "AssertionError: 如果只有一个label那么此时应为降主动脉, 但实际为s：puchenhu-18-21-33-89_0018.txt\n",
      "Traceback (most recent call last):\n",
      "  File \"/tmp/ipykernel_37540/2245311451.py\", line 44, in crop_images\n",
      "    x1, y1, x2, y2 = find_coordinate(*img.shape[0:2], os.path.join(label_path, f'{patient}_{i:04d}.txt'), 's')\n",
      "  File \"/tmp/ipykernel_37540/2245311451.py\", line 7, in find_coordinate\n",
      "    assert aorta == 'j', f'如果只有一个label那么此时应为降主动脉, 但实际为{aorta}：{label_file.split(\"/\")[-1]}'\n",
      "AssertionError: 如果只有一个label那么此时应为降主动脉, 但实际为s：puchenhu-18-21-33-89_0019.txt\n"
     ]
    },
    {
     "name": "stdout",
     "output_type": "stream",
     "text": [
      "******Processing puguanghui-12-18-25-74******\n"
     ]
    },
    {
     "name": "stderr",
     "output_type": "stream",
     "text": [
      "Traceback (most recent call last):\n",
      "  File \"/tmp/ipykernel_37540/2245311451.py\", line 44, in crop_images\n",
      "    x1, y1, x2, y2 = find_coordinate(*img.shape[0:2], os.path.join(label_path, f'{patient}_{i:04d}.txt'), 's')\n",
      "  File \"/tmp/ipykernel_37540/2245311451.py\", line 7, in find_coordinate\n",
      "    assert aorta == 'j', f'如果只有一个label那么此时应为降主动脉, 但实际为{aorta}：{label_file.split(\"/\")[-1]}'\n",
      "AssertionError: 如果只有一个label那么此时应为降主动脉, 但实际为s：puguanghui-12-18-25-74_0014.txt\n",
      "Traceback (most recent call last):\n",
      "  File \"/tmp/ipykernel_37540/2245311451.py\", line 44, in crop_images\n",
      "    x1, y1, x2, y2 = find_coordinate(*img.shape[0:2], os.path.join(label_path, f'{patient}_{i:04d}.txt'), 's')\n",
      "  File \"/tmp/ipykernel_37540/2245311451.py\", line 7, in find_coordinate\n",
      "    assert aorta == 'j', f'如果只有一个label那么此时应为降主动脉, 但实际为{aorta}：{label_file.split(\"/\")[-1]}'\n",
      "AssertionError: 如果只有一个label那么此时应为降主动脉, 但实际为s：puguanghui-12-18-25-74_0015.txt\n"
     ]
    },
    {
     "name": "stdout",
     "output_type": "stream",
     "text": [
      "******Processing qianaqin-18-26-52-141******\n"
     ]
    },
    {
     "name": "stderr",
     "output_type": "stream",
     "text": [
      "Traceback (most recent call last):\n",
      "  File \"/tmp/ipykernel_37540/2245311451.py\", line 44, in crop_images\n",
      "    x1, y1, x2, y2 = find_coordinate(*img.shape[0:2], os.path.join(label_path, f'{patient}_{i:04d}.txt'), 's')\n",
      "  File \"/tmp/ipykernel_37540/2245311451.py\", line 7, in find_coordinate\n",
      "    assert aorta == 'j', f'如果只有一个label那么此时应为降主动脉, 但实际为{aorta}：{label_file.split(\"/\")[-1]}'\n",
      "AssertionError: 如果只有一个label那么此时应为降主动脉, 但实际为s：qianaqin-18-26-52-141_0024.txt\n"
     ]
    },
    {
     "name": "stdout",
     "output_type": "stream",
     "text": [
      "******Processing qianliujiu-9-15-24-75******\n"
     ]
    },
    {
     "name": "stderr",
     "output_type": "stream",
     "text": [
      "Traceback (most recent call last):\n",
      "  File \"/tmp/ipykernel_37540/2245311451.py\", line 44, in crop_images\n",
      "    x1, y1, x2, y2 = find_coordinate(*img.shape[0:2], os.path.join(label_path, f'{patient}_{i:04d}.txt'), 's')\n",
      "  File \"/tmp/ipykernel_37540/2245311451.py\", line 7, in find_coordinate\n",
      "    assert aorta == 'j', f'如果只有一个label那么此时应为降主动脉, 但实际为{aorta}：{label_file.split(\"/\")[-1]}'\n",
      "AssertionError: 如果只有一个label那么此时应为降主动脉, 但实际为s：qianliujiu-9-15-24-75_0011.txt\n",
      "Traceback (most recent call last):\n",
      "  File \"/tmp/ipykernel_37540/2245311451.py\", line 44, in crop_images\n",
      "    x1, y1, x2, y2 = find_coordinate(*img.shape[0:2], os.path.join(label_path, f'{patient}_{i:04d}.txt'), 's')\n",
      "  File \"/tmp/ipykernel_37540/2245311451.py\", line 7, in find_coordinate\n",
      "    assert aorta == 'j', f'如果只有一个label那么此时应为降主动脉, 但实际为{aorta}：{label_file.split(\"/\")[-1]}'\n",
      "AssertionError: 如果只有一个label那么此时应为降主动脉, 但实际为s：qianliujiu-9-15-24-75_0012.txt\n"
     ]
    },
    {
     "name": "stdout",
     "output_type": "stream",
     "text": [
      "******Processing qihuazhong-16-20-29-82******\n"
     ]
    },
    {
     "name": "stderr",
     "output_type": "stream",
     "text": [
      "Traceback (most recent call last):\n",
      "  File \"/tmp/ipykernel_37540/2245311451.py\", line 44, in crop_images\n",
      "    x1, y1, x2, y2 = find_coordinate(*img.shape[0:2], os.path.join(label_path, f'{patient}_{i:04d}.txt'), 's')\n",
      "  File \"/tmp/ipykernel_37540/2245311451.py\", line 7, in find_coordinate\n",
      "    assert aorta == 'j', f'如果只有一个label那么此时应为降主动脉, 但实际为{aorta}：{label_file.split(\"/\")[-1]}'\n",
      "AssertionError: 如果只有一个label那么此时应为降主动脉, 但实际为s：qihuazhong-16-20-29-82_0016.txt\n",
      "Traceback (most recent call last):\n",
      "  File \"/tmp/ipykernel_37540/2245311451.py\", line 44, in crop_images\n",
      "    x1, y1, x2, y2 = find_coordinate(*img.shape[0:2], os.path.join(label_path, f'{patient}_{i:04d}.txt'), 's')\n",
      "  File \"/tmp/ipykernel_37540/2245311451.py\", line 7, in find_coordinate\n",
      "    assert aorta == 'j', f'如果只有一个label那么此时应为降主动脉, 但实际为{aorta}：{label_file.split(\"/\")[-1]}'\n",
      "AssertionError: 如果只有一个label那么此时应为降主动脉, 但实际为s：qihuazhong-16-20-29-82_0017.txt\n",
      "Traceback (most recent call last):\n",
      "  File \"/tmp/ipykernel_37540/2245311451.py\", line 44, in crop_images\n",
      "    x1, y1, x2, y2 = find_coordinate(*img.shape[0:2], os.path.join(label_path, f'{patient}_{i:04d}.txt'), 's')\n",
      "  File \"/tmp/ipykernel_37540/2245311451.py\", line 7, in find_coordinate\n",
      "    assert aorta == 'j', f'如果只有一个label那么此时应为降主动脉, 但实际为{aorta}：{label_file.split(\"/\")[-1]}'\n",
      "AssertionError: 如果只有一个label那么此时应为降主动脉, 但实际为s：qihuazhong-16-20-29-82_0029.txt\n"
     ]
    },
    {
     "name": "stdout",
     "output_type": "stream",
     "text": [
      "******Processing qiuwei-31-39-53-138******\n"
     ]
    },
    {
     "name": "stderr",
     "output_type": "stream",
     "text": [
      "Traceback (most recent call last):\n",
      "  File \"/tmp/ipykernel_37540/2245311451.py\", line 44, in crop_images\n",
      "    x1, y1, x2, y2 = find_coordinate(*img.shape[0:2], os.path.join(label_path, f'{patient}_{i:04d}.txt'), 's')\n",
      "  File \"/tmp/ipykernel_37540/2245311451.py\", line 7, in find_coordinate\n",
      "    assert aorta == 'j', f'如果只有一个label那么此时应为降主动脉, 但实际为{aorta}：{label_file.split(\"/\")[-1]}'\n",
      "AssertionError: 如果只有一个label那么此时应为降主动脉, 但实际为s：qiuwei-31-39-53-138_0036.txt\n"
     ]
    },
    {
     "name": "stdout",
     "output_type": "stream",
     "text": [
      "******Processing qizhikun-29-37-57-130******\n",
      "******Processing qubo-14-19-29-82******\n"
     ]
    },
    {
     "name": "stderr",
     "output_type": "stream",
     "text": [
      "Traceback (most recent call last):\n",
      "  File \"/tmp/ipykernel_37540/2245311451.py\", line 44, in crop_images\n",
      "    x1, y1, x2, y2 = find_coordinate(*img.shape[0:2], os.path.join(label_path, f'{patient}_{i:04d}.txt'), 's')\n",
      "  File \"/tmp/ipykernel_37540/2245311451.py\", line 7, in find_coordinate\n",
      "    assert aorta == 'j', f'如果只有一个label那么此时应为降主动脉, 但实际为{aorta}：{label_file.split(\"/\")[-1]}'\n",
      "AssertionError: 如果只有一个label那么此时应为降主动脉, 但实际为s：qubo-14-19-29-82_0016.txt\n",
      "Traceback (most recent call last):\n",
      "  File \"/tmp/ipykernel_37540/2245311451.py\", line 44, in crop_images\n",
      "    x1, y1, x2, y2 = find_coordinate(*img.shape[0:2], os.path.join(label_path, f'{patient}_{i:04d}.txt'), 's')\n",
      "  File \"/tmp/ipykernel_37540/2245311451.py\", line 7, in find_coordinate\n",
      "    assert aorta == 'j', f'如果只有一个label那么此时应为降主动脉, 但实际为{aorta}：{label_file.split(\"/\")[-1]}'\n",
      "AssertionError: 如果只有一个label那么此时应为降主动脉, 但实际为s：qubo-14-19-29-82_0017.txt\n"
     ]
    },
    {
     "name": "stdout",
     "output_type": "stream",
     "text": [
      "******Processing quzhuming-31-41-69-192******\n"
     ]
    },
    {
     "name": "stderr",
     "output_type": "stream",
     "text": [
      "Traceback (most recent call last):\n",
      "  File \"/tmp/ipykernel_37540/2245311451.py\", line 61, in crop_images\n",
      "    x1, y1, x2, y2 = find_coordinate(*img.shape[0:2], os.path.join(label_path, f'{patient}_{i:04d}.txt'), 'j')\n",
      "  File \"/tmp/ipykernel_37540/2245311451.py\", line 13, in find_coordinate\n",
      "    assert 0.25 < corr1[1] < 0.75 and 0.2 < corr1[2] < 0.8, f'边界框1中心({corr1[1]}, {corr1[2]})出界：{label_file.split(\"/\")[-1]}'\n",
      "AssertionError: 边界框1中心(0.759766, 0.583008)出界：quzhuming-31-41-69-192_0071.txt\n"
     ]
    },
    {
     "name": "stdout",
     "output_type": "stream",
     "text": [
      "******Processing renjiali-34-42-52-138******\n",
      "******Processing renlaifa-19-30-53-153******\n",
      "******Processing renxiuyuan-18-23-31-79******\n"
     ]
    },
    {
     "name": "stderr",
     "output_type": "stream",
     "text": [
      "Traceback (most recent call last):\n",
      "  File \"/tmp/ipykernel_37540/2245311451.py\", line 44, in crop_images\n",
      "    x1, y1, x2, y2 = find_coordinate(*img.shape[0:2], os.path.join(label_path, f'{patient}_{i:04d}.txt'), 's')\n",
      "  File \"/tmp/ipykernel_37540/2245311451.py\", line 7, in find_coordinate\n",
      "    assert aorta == 'j', f'如果只有一个label那么此时应为降主动脉, 但实际为{aorta}：{label_file.split(\"/\")[-1]}'\n",
      "AssertionError: 如果只有一个label那么此时应为降主动脉, 但实际为s：renxiuyuan-18-23-31-79_0019.txt\n",
      "Traceback (most recent call last):\n",
      "  File \"/tmp/ipykernel_37540/2245311451.py\", line 44, in crop_images\n",
      "    x1, y1, x2, y2 = find_coordinate(*img.shape[0:2], os.path.join(label_path, f'{patient}_{i:04d}.txt'), 's')\n",
      "  File \"/tmp/ipykernel_37540/2245311451.py\", line 7, in find_coordinate\n",
      "    assert aorta == 'j', f'如果只有一个label那么此时应为降主动脉, 但实际为{aorta}：{label_file.split(\"/\")[-1]}'\n",
      "AssertionError: 如果只有一个label那么此时应为降主动脉, 但实际为s：renxiuyuan-18-23-31-79_0020.txt\n"
     ]
    },
    {
     "name": "stdout",
     "output_type": "stream",
     "text": [
      "******Processing shanziliang-13-19-30-90******\n"
     ]
    },
    {
     "name": "stderr",
     "output_type": "stream",
     "text": [
      "Traceback (most recent call last):\n",
      "  File \"/tmp/ipykernel_37540/2245311451.py\", line 44, in crop_images\n",
      "    x1, y1, x2, y2 = find_coordinate(*img.shape[0:2], os.path.join(label_path, f'{patient}_{i:04d}.txt'), 's')\n",
      "  File \"/tmp/ipykernel_37540/2245311451.py\", line 7, in find_coordinate\n",
      "    assert aorta == 'j', f'如果只有一个label那么此时应为降主动脉, 但实际为{aorta}：{label_file.split(\"/\")[-1]}'\n",
      "AssertionError: 如果只有一个label那么此时应为降主动脉, 但实际为s：shanziliang-13-19-30-90_0016.txt\n",
      "Traceback (most recent call last):\n",
      "  File \"/tmp/ipykernel_37540/2245311451.py\", line 44, in crop_images\n",
      "    x1, y1, x2, y2 = find_coordinate(*img.shape[0:2], os.path.join(label_path, f'{patient}_{i:04d}.txt'), 's')\n",
      "  File \"/tmp/ipykernel_37540/2245311451.py\", line 7, in find_coordinate\n",
      "    assert aorta == 'j', f'如果只有一个label那么此时应为降主动脉, 但实际为{aorta}：{label_file.split(\"/\")[-1]}'\n",
      "AssertionError: 如果只有一个label那么此时应为降主动脉, 但实际为s：shanziliang-13-19-30-90_0017.txt\n"
     ]
    },
    {
     "name": "stdout",
     "output_type": "stream",
     "text": [
      "******Processing shanzixian-30-39-59-153******\n",
      "******Processing shaobingsheng-13-19-27-80******\n"
     ]
    },
    {
     "name": "stderr",
     "output_type": "stream",
     "text": [
      "Traceback (most recent call last):\n",
      "  File \"/tmp/ipykernel_37540/2245311451.py\", line 44, in crop_images\n",
      "    x1, y1, x2, y2 = find_coordinate(*img.shape[0:2], os.path.join(label_path, f'{patient}_{i:04d}.txt'), 's')\n",
      "  File \"/tmp/ipykernel_37540/2245311451.py\", line 7, in find_coordinate\n",
      "    assert aorta == 'j', f'如果只有一个label那么此时应为降主动脉, 但实际为{aorta}：{label_file.split(\"/\")[-1]}'\n",
      "AssertionError: 如果只有一个label那么此时应为降主动脉, 但实际为s：shaobingsheng-13-19-27-80_0015.txt\n",
      "Traceback (most recent call last):\n",
      "  File \"/tmp/ipykernel_37540/2245311451.py\", line 44, in crop_images\n",
      "    x1, y1, x2, y2 = find_coordinate(*img.shape[0:2], os.path.join(label_path, f'{patient}_{i:04d}.txt'), 's')\n",
      "  File \"/tmp/ipykernel_37540/2245311451.py\", line 7, in find_coordinate\n",
      "    assert aorta == 'j', f'如果只有一个label那么此时应为降主动脉, 但实际为{aorta}：{label_file.split(\"/\")[-1]}'\n",
      "AssertionError: 如果只有一个label那么此时应为降主动脉, 但实际为s：shaobingsheng-13-19-27-80_0016.txt\n"
     ]
    },
    {
     "name": "stdout",
     "output_type": "stream",
     "text": [
      "******Processing shaochuanlai-16-22-36-83******\n",
      "******Processing shenfengmei-29-36-58-130******\n"
     ]
    },
    {
     "name": "stderr",
     "output_type": "stream",
     "text": [
      "Traceback (most recent call last):\n",
      "  File \"/tmp/ipykernel_37540/2245311451.py\", line 44, in crop_images\n",
      "    x1, y1, x2, y2 = find_coordinate(*img.shape[0:2], os.path.join(label_path, f'{patient}_{i:04d}.txt'), 's')\n",
      "  File \"/tmp/ipykernel_37540/2245311451.py\", line 7, in find_coordinate\n",
      "    assert aorta == 'j', f'如果只有一个label那么此时应为降主动脉, 但实际为{aorta}：{label_file.split(\"/\")[-1]}'\n",
      "AssertionError: 如果只有一个label那么此时应为降主动脉, 但实际为s：shenfengmei-29-36-58-130_0034.txt\n"
     ]
    },
    {
     "name": "stdout",
     "output_type": "stream",
     "text": [
      "******Processing shengmingzhen-10-13-26-75******\n"
     ]
    },
    {
     "name": "stderr",
     "output_type": "stream",
     "text": [
      "Traceback (most recent call last):\n",
      "  File \"/tmp/ipykernel_37540/2245311451.py\", line 44, in crop_images\n",
      "    x1, y1, x2, y2 = find_coordinate(*img.shape[0:2], os.path.join(label_path, f'{patient}_{i:04d}.txt'), 's')\n",
      "  File \"/tmp/ipykernel_37540/2245311451.py\", line 7, in find_coordinate\n",
      "    assert aorta == 'j', f'如果只有一个label那么此时应为降主动脉, 但实际为{aorta}：{label_file.split(\"/\")[-1]}'\n",
      "AssertionError: 如果只有一个label那么此时应为降主动脉, 但实际为s：shengmingzhen-10-13-26-75_0010.txt\n",
      "Traceback (most recent call last):\n",
      "  File \"/tmp/ipykernel_37540/2245311451.py\", line 44, in crop_images\n",
      "    x1, y1, x2, y2 = find_coordinate(*img.shape[0:2], os.path.join(label_path, f'{patient}_{i:04d}.txt'), 's')\n",
      "  File \"/tmp/ipykernel_37540/2245311451.py\", line 7, in find_coordinate\n",
      "    assert aorta == 'j', f'如果只有一个label那么此时应为降主动脉, 但实际为{aorta}：{label_file.split(\"/\")[-1]}'\n",
      "AssertionError: 如果只有一个label那么此时应为降主动脉, 但实际为s：shengmingzhen-10-13-26-75_0011.txt\n"
     ]
    },
    {
     "name": "stdout",
     "output_type": "stream",
     "text": [
      "******Processing shenguilin-18-25-35-53******\n"
     ]
    },
    {
     "name": "stderr",
     "output_type": "stream",
     "text": [
      "Traceback (most recent call last):\n",
      "  File \"/tmp/ipykernel_37540/2245311451.py\", line 44, in crop_images\n",
      "    x1, y1, x2, y2 = find_coordinate(*img.shape[0:2], os.path.join(label_path, f'{patient}_{i:04d}.txt'), 's')\n",
      "  File \"/tmp/ipykernel_37540/2245311451.py\", line 7, in find_coordinate\n",
      "    assert aorta == 'j', f'如果只有一个label那么此时应为降主动脉, 但实际为{aorta}：{label_file.split(\"/\")[-1]}'\n",
      "AssertionError: 如果只有一个label那么此时应为降主动脉, 但实际为s：shenguilin-18-25-35-53_0022.txt\n"
     ]
    },
    {
     "name": "stdout",
     "output_type": "stream",
     "text": [
      "******Processing shenhaiqin-20-28-38-129******\n"
     ]
    },
    {
     "name": "stderr",
     "output_type": "stream",
     "text": [
      "Traceback (most recent call last):\n",
      "  File \"/tmp/ipykernel_37540/2245311451.py\", line 44, in crop_images\n",
      "    x1, y1, x2, y2 = find_coordinate(*img.shape[0:2], os.path.join(label_path, f'{patient}_{i:04d}.txt'), 's')\n",
      "  File \"/tmp/ipykernel_37540/2245311451.py\", line 7, in find_coordinate\n",
      "    assert aorta == 'j', f'如果只有一个label那么此时应为降主动脉, 但实际为{aorta}：{label_file.split(\"/\")[-1]}'\n",
      "AssertionError: 如果只有一个label那么此时应为降主动脉, 但实际为s：shenhaiqin-20-28-38-129_0025.txt\n"
     ]
    },
    {
     "name": "stdout",
     "output_type": "stream",
     "text": [
      "******Processing shenxingen-29-40-60-150******\n",
      "******Processing shenxuemei-15-21-28-79******\n"
     ]
    },
    {
     "name": "stderr",
     "output_type": "stream",
     "text": [
      "Traceback (most recent call last):\n",
      "  File \"/tmp/ipykernel_37540/2245311451.py\", line 44, in crop_images\n",
      "    x1, y1, x2, y2 = find_coordinate(*img.shape[0:2], os.path.join(label_path, f'{patient}_{i:04d}.txt'), 's')\n",
      "  File \"/tmp/ipykernel_37540/2245311451.py\", line 7, in find_coordinate\n",
      "    assert aorta == 'j', f'如果只有一个label那么此时应为降主动脉, 但实际为{aorta}：{label_file.split(\"/\")[-1]}'\n",
      "AssertionError: 如果只有一个label那么此时应为降主动脉, 但实际为s：shenxuemei-15-21-28-79_0017.txt\n",
      "Traceback (most recent call last):\n",
      "  File \"/tmp/ipykernel_37540/2245311451.py\", line 44, in crop_images\n",
      "    x1, y1, x2, y2 = find_coordinate(*img.shape[0:2], os.path.join(label_path, f'{patient}_{i:04d}.txt'), 's')\n",
      "  File \"/tmp/ipykernel_37540/2245311451.py\", line 7, in find_coordinate\n",
      "    assert aorta == 'j', f'如果只有一个label那么此时应为降主动脉, 但实际为{aorta}：{label_file.split(\"/\")[-1]}'\n",
      "AssertionError: 如果只有一个label那么此时应为降主动脉, 但实际为s：shenxuemei-15-21-28-79_0018.txt\n"
     ]
    },
    {
     "name": "stdout",
     "output_type": "stream",
     "text": [
      "******Processing shenxuhong-20-24-34-82******\n"
     ]
    },
    {
     "name": "stderr",
     "output_type": "stream",
     "text": [
      "Traceback (most recent call last):\n",
      "  File \"/tmp/ipykernel_37540/2245311451.py\", line 44, in crop_images\n",
      "    x1, y1, x2, y2 = find_coordinate(*img.shape[0:2], os.path.join(label_path, f'{patient}_{i:04d}.txt'), 's')\n",
      "  File \"/tmp/ipykernel_37540/2245311451.py\", line 7, in find_coordinate\n",
      "    assert aorta == 'j', f'如果只有一个label那么此时应为降主动脉, 但实际为{aorta}：{label_file.split(\"/\")[-1]}'\n",
      "AssertionError: 如果只有一个label那么此时应为降主动脉, 但实际为s：shenxuhong-20-24-34-82_0021.txt\n",
      "Traceback (most recent call last):\n",
      "  File \"/tmp/ipykernel_37540/2245311451.py\", line 44, in crop_images\n",
      "    x1, y1, x2, y2 = find_coordinate(*img.shape[0:2], os.path.join(label_path, f'{patient}_{i:04d}.txt'), 's')\n",
      "  File \"/tmp/ipykernel_37540/2245311451.py\", line 7, in find_coordinate\n",
      "    assert aorta == 'j', f'如果只有一个label那么此时应为降主动脉, 但实际为{aorta}：{label_file.split(\"/\")[-1]}'\n",
      "AssertionError: 如果只有一个label那么此时应为降主动脉, 但实际为s：shenxuhong-20-24-34-82_0022.txt\n"
     ]
    },
    {
     "name": "stdout",
     "output_type": "stream",
     "text": [
      "******Processing shenyan-16-23-57-125******\n",
      "******Processing shenyaping-30-40-57-139******\n",
      "******Processing shenyunzhou-24-33-70-141******\n",
      "******Processing shenyuzhen-11-16-25-77******\n"
     ]
    },
    {
     "name": "stderr",
     "output_type": "stream",
     "text": [
      "Traceback (most recent call last):\n",
      "  File \"/tmp/ipykernel_37540/2245311451.py\", line 44, in crop_images\n",
      "    x1, y1, x2, y2 = find_coordinate(*img.shape[0:2], os.path.join(label_path, f'{patient}_{i:04d}.txt'), 's')\n",
      "  File \"/tmp/ipykernel_37540/2245311451.py\", line 7, in find_coordinate\n",
      "    assert aorta == 'j', f'如果只有一个label那么此时应为降主动脉, 但实际为{aorta}：{label_file.split(\"/\")[-1]}'\n",
      "AssertionError: 如果只有一个label那么此时应为降主动脉, 但实际为s：shenyuzhen-11-16-25-77_0012.txt\n",
      "Traceback (most recent call last):\n",
      "  File \"/tmp/ipykernel_37540/2245311451.py\", line 44, in crop_images\n",
      "    x1, y1, x2, y2 = find_coordinate(*img.shape[0:2], os.path.join(label_path, f'{patient}_{i:04d}.txt'), 's')\n",
      "  File \"/tmp/ipykernel_37540/2245311451.py\", line 7, in find_coordinate\n",
      "    assert aorta == 'j', f'如果只有一个label那么此时应为降主动脉, 但实际为{aorta}：{label_file.split(\"/\")[-1]}'\n",
      "AssertionError: 如果只有一个label那么此时应为降主动脉, 但实际为s：shenyuzhen-11-16-25-77_0013.txt\n"
     ]
    },
    {
     "name": "stdout",
     "output_type": "stream",
     "text": [
      "******Processing shenziming-17-24-34-84******\n",
      "******Processing shiburen-15-20-29-91******\n"
     ]
    },
    {
     "name": "stderr",
     "output_type": "stream",
     "text": [
      "Traceback (most recent call last):\n",
      "  File \"/tmp/ipykernel_37540/2245311451.py\", line 44, in crop_images\n",
      "    x1, y1, x2, y2 = find_coordinate(*img.shape[0:2], os.path.join(label_path, f'{patient}_{i:04d}.txt'), 's')\n",
      "  File \"/tmp/ipykernel_37540/2245311451.py\", line 7, in find_coordinate\n",
      "    assert aorta == 'j', f'如果只有一个label那么此时应为降主动脉, 但实际为{aorta}：{label_file.split(\"/\")[-1]}'\n",
      "AssertionError: 如果只有一个label那么此时应为降主动脉, 但实际为s：shiburen-15-20-29-91_0016.txt\n",
      "Traceback (most recent call last):\n",
      "  File \"/tmp/ipykernel_37540/2245311451.py\", line 44, in crop_images\n",
      "    x1, y1, x2, y2 = find_coordinate(*img.shape[0:2], os.path.join(label_path, f'{patient}_{i:04d}.txt'), 's')\n",
      "  File \"/tmp/ipykernel_37540/2245311451.py\", line 7, in find_coordinate\n",
      "    assert aorta == 'j', f'如果只有一个label那么此时应为降主动脉, 但实际为{aorta}：{label_file.split(\"/\")[-1]}'\n",
      "AssertionError: 如果只有一个label那么此时应为降主动脉, 但实际为s：shiburen-15-20-29-91_0017.txt\n"
     ]
    },
    {
     "name": "stdout",
     "output_type": "stream",
     "text": [
      "******Processing shizhifu-37-47-58-147******\n",
      "******Processing shouyunfang-20-26-42-136******\n"
     ]
    },
    {
     "name": "stderr",
     "output_type": "stream",
     "text": [
      "Traceback (most recent call last):\n",
      "  File \"/tmp/ipykernel_37540/2245311451.py\", line 44, in crop_images\n",
      "    x1, y1, x2, y2 = find_coordinate(*img.shape[0:2], os.path.join(label_path, f'{patient}_{i:04d}.txt'), 's')\n",
      "  File \"/tmp/ipykernel_37540/2245311451.py\", line 7, in find_coordinate\n",
      "    assert aorta == 'j', f'如果只有一个label那么此时应为降主动脉, 但实际为{aorta}：{label_file.split(\"/\")[-1]}'\n",
      "AssertionError: 如果只有一个label那么此时应为降主动脉, 但实际为s：shouyunfang-20-26-42-136_0023.txt\n"
     ]
    },
    {
     "name": "stdout",
     "output_type": "stream",
     "text": [
      "******Processing songzongwei-20-26-39-94******\n"
     ]
    },
    {
     "name": "stderr",
     "output_type": "stream",
     "text": [
      "Traceback (most recent call last):\n",
      "  File \"/tmp/ipykernel_37540/2245311451.py\", line 44, in crop_images\n",
      "    x1, y1, x2, y2 = find_coordinate(*img.shape[0:2], os.path.join(label_path, f'{patient}_{i:04d}.txt'), 's')\n",
      "  File \"/tmp/ipykernel_37540/2245311451.py\", line 7, in find_coordinate\n",
      "    assert aorta == 'j', f'如果只有一个label那么此时应为降主动脉, 但实际为{aorta}：{label_file.split(\"/\")[-1]}'\n",
      "AssertionError: 如果只有一个label那么此时应为降主动脉, 但实际为s：songzongwei-20-26-39-94_0023.txt\n"
     ]
    },
    {
     "name": "stdout",
     "output_type": "stream",
     "text": [
      "******Processing sundelin-15-21-31-90******\n"
     ]
    },
    {
     "name": "stderr",
     "output_type": "stream",
     "text": [
      "Traceback (most recent call last):\n",
      "  File \"/tmp/ipykernel_37540/2245311451.py\", line 44, in crop_images\n",
      "    x1, y1, x2, y2 = find_coordinate(*img.shape[0:2], os.path.join(label_path, f'{patient}_{i:04d}.txt'), 's')\n",
      "  File \"/tmp/ipykernel_37540/2245311451.py\", line 7, in find_coordinate\n",
      "    assert aorta == 'j', f'如果只有一个label那么此时应为降主动脉, 但实际为{aorta}：{label_file.split(\"/\")[-1]}'\n",
      "AssertionError: 如果只有一个label那么此时应为降主动脉, 但实际为s：sundelin-15-21-31-90_0018.txt\n"
     ]
    },
    {
     "name": "stdout",
     "output_type": "stream",
     "text": [
      "******Processing sunlutao-14-23-70-127******\n"
     ]
    },
    {
     "name": "stderr",
     "output_type": "stream",
     "text": [
      "Traceback (most recent call last):\n",
      "  File \"/tmp/ipykernel_37540/2245311451.py\", line 44, in crop_images\n",
      "    x1, y1, x2, y2 = find_coordinate(*img.shape[0:2], os.path.join(label_path, f'{patient}_{i:04d}.txt'), 's')\n",
      "  File \"/tmp/ipykernel_37540/2245311451.py\", line 7, in find_coordinate\n",
      "    assert aorta == 'j', f'如果只有一个label那么此时应为降主动脉, 但实际为{aorta}：{label_file.split(\"/\")[-1]}'\n",
      "AssertionError: 如果只有一个label那么此时应为降主动脉, 但实际为s：sunlutao-14-23-70-127_0038.txt\n",
      "Traceback (most recent call last):\n",
      "  File \"/tmp/ipykernel_37540/2245311451.py\", line 44, in crop_images\n",
      "    x1, y1, x2, y2 = find_coordinate(*img.shape[0:2], os.path.join(label_path, f'{patient}_{i:04d}.txt'), 's')\n",
      "  File \"/tmp/ipykernel_37540/2245311451.py\", line 7, in find_coordinate\n",
      "    assert aorta == 'j', f'如果只有一个label那么此时应为降主动脉, 但实际为{aorta}：{label_file.split(\"/\")[-1]}'\n",
      "AssertionError: 如果只有一个label那么此时应为降主动脉, 但实际为s：sunlutao-14-23-70-127_0039.txt\n",
      "Traceback (most recent call last):\n",
      "  File \"/tmp/ipykernel_37540/2245311451.py\", line 44, in crop_images\n",
      "    x1, y1, x2, y2 = find_coordinate(*img.shape[0:2], os.path.join(label_path, f'{patient}_{i:04d}.txt'), 's')\n",
      "  File \"/tmp/ipykernel_37540/2245311451.py\", line 7, in find_coordinate\n",
      "    assert aorta == 'j', f'如果只有一个label那么此时应为降主动脉, 但实际为{aorta}：{label_file.split(\"/\")[-1]}'\n",
      "AssertionError: 如果只有一个label那么此时应为降主动脉, 但实际为s：sunlutao-14-23-70-127_0040.txt\n",
      "Traceback (most recent call last):\n",
      "  File \"/tmp/ipykernel_37540/2245311451.py\", line 44, in crop_images\n",
      "    x1, y1, x2, y2 = find_coordinate(*img.shape[0:2], os.path.join(label_path, f'{patient}_{i:04d}.txt'), 's')\n",
      "  File \"/tmp/ipykernel_37540/2245311451.py\", line 7, in find_coordinate\n",
      "    assert aorta == 'j', f'如果只有一个label那么此时应为降主动脉, 但实际为{aorta}：{label_file.split(\"/\")[-1]}'\n",
      "AssertionError: 如果只有一个label那么此时应为降主动脉, 但实际为s：sunlutao-14-23-70-127_0041.txt\n",
      "Traceback (most recent call last):\n",
      "  File \"/tmp/ipykernel_37540/2245311451.py\", line 44, in crop_images\n",
      "    x1, y1, x2, y2 = find_coordinate(*img.shape[0:2], os.path.join(label_path, f'{patient}_{i:04d}.txt'), 's')\n",
      "  File \"/tmp/ipykernel_37540/2245311451.py\", line 7, in find_coordinate\n",
      "    assert aorta == 'j', f'如果只有一个label那么此时应为降主动脉, 但实际为{aorta}：{label_file.split(\"/\")[-1]}'\n",
      "AssertionError: 如果只有一个label那么此时应为降主动脉, 但实际为s：sunlutao-14-23-70-127_0042.txt\n",
      "Traceback (most recent call last):\n",
      "  File \"/tmp/ipykernel_37540/2245311451.py\", line 44, in crop_images\n",
      "    x1, y1, x2, y2 = find_coordinate(*img.shape[0:2], os.path.join(label_path, f'{patient}_{i:04d}.txt'), 's')\n",
      "  File \"/tmp/ipykernel_37540/2245311451.py\", line 7, in find_coordinate\n",
      "    assert aorta == 'j', f'如果只有一个label那么此时应为降主动脉, 但实际为{aorta}：{label_file.split(\"/\")[-1]}'\n",
      "AssertionError: 如果只有一个label那么此时应为降主动脉, 但实际为s：sunlutao-14-23-70-127_0043.txt\n",
      "Traceback (most recent call last):\n",
      "  File \"/tmp/ipykernel_37540/2245311451.py\", line 44, in crop_images\n",
      "    x1, y1, x2, y2 = find_coordinate(*img.shape[0:2], os.path.join(label_path, f'{patient}_{i:04d}.txt'), 's')\n",
      "  File \"/tmp/ipykernel_37540/2245311451.py\", line 7, in find_coordinate\n",
      "    assert aorta == 'j', f'如果只有一个label那么此时应为降主动脉, 但实际为{aorta}：{label_file.split(\"/\")[-1]}'\n",
      "AssertionError: 如果只有一个label那么此时应为降主动脉, 但实际为s：sunlutao-14-23-70-127_0044.txt\n",
      "Traceback (most recent call last):\n",
      "  File \"/tmp/ipykernel_37540/2245311451.py\", line 44, in crop_images\n",
      "    x1, y1, x2, y2 = find_coordinate(*img.shape[0:2], os.path.join(label_path, f'{patient}_{i:04d}.txt'), 's')\n",
      "  File \"/tmp/ipykernel_37540/2245311451.py\", line 7, in find_coordinate\n",
      "    assert aorta == 'j', f'如果只有一个label那么此时应为降主动脉, 但实际为{aorta}：{label_file.split(\"/\")[-1]}'\n",
      "AssertionError: 如果只有一个label那么此时应为降主动脉, 但实际为s：sunlutao-14-23-70-127_0045.txt\n",
      "Traceback (most recent call last):\n",
      "  File \"/tmp/ipykernel_37540/2245311451.py\", line 44, in crop_images\n",
      "    x1, y1, x2, y2 = find_coordinate(*img.shape[0:2], os.path.join(label_path, f'{patient}_{i:04d}.txt'), 's')\n",
      "  File \"/tmp/ipykernel_37540/2245311451.py\", line 7, in find_coordinate\n",
      "    assert aorta == 'j', f'如果只有一个label那么此时应为降主动脉, 但实际为{aorta}：{label_file.split(\"/\")[-1]}'\n",
      "AssertionError: 如果只有一个label那么此时应为降主动脉, 但实际为s：sunlutao-14-23-70-127_0046.txt\n",
      "Traceback (most recent call last):\n",
      "  File \"/tmp/ipykernel_37540/2245311451.py\", line 44, in crop_images\n",
      "    x1, y1, x2, y2 = find_coordinate(*img.shape[0:2], os.path.join(label_path, f'{patient}_{i:04d}.txt'), 's')\n",
      "  File \"/tmp/ipykernel_37540/2245311451.py\", line 7, in find_coordinate\n",
      "    assert aorta == 'j', f'如果只有一个label那么此时应为降主动脉, 但实际为{aorta}：{label_file.split(\"/\")[-1]}'\n",
      "AssertionError: 如果只有一个label那么此时应为降主动脉, 但实际为s：sunlutao-14-23-70-127_0047.txt\n",
      "Traceback (most recent call last):\n",
      "  File \"/tmp/ipykernel_37540/2245311451.py\", line 44, in crop_images\n",
      "    x1, y1, x2, y2 = find_coordinate(*img.shape[0:2], os.path.join(label_path, f'{patient}_{i:04d}.txt'), 's')\n",
      "  File \"/tmp/ipykernel_37540/2245311451.py\", line 7, in find_coordinate\n",
      "    assert aorta == 'j', f'如果只有一个label那么此时应为降主动脉, 但实际为{aorta}：{label_file.split(\"/\")[-1]}'\n",
      "AssertionError: 如果只有一个label那么此时应为降主动脉, 但实际为s：sunlutao-14-23-70-127_0048.txt\n",
      "Traceback (most recent call last):\n",
      "  File \"/tmp/ipykernel_37540/2245311451.py\", line 44, in crop_images\n",
      "    x1, y1, x2, y2 = find_coordinate(*img.shape[0:2], os.path.join(label_path, f'{patient}_{i:04d}.txt'), 's')\n",
      "  File \"/tmp/ipykernel_37540/2245311451.py\", line 7, in find_coordinate\n",
      "    assert aorta == 'j', f'如果只有一个label那么此时应为降主动脉, 但实际为{aorta}：{label_file.split(\"/\")[-1]}'\n",
      "AssertionError: 如果只有一个label那么此时应为降主动脉, 但实际为s：sunlutao-14-23-70-127_0049.txt\n",
      "Traceback (most recent call last):\n",
      "  File \"/tmp/ipykernel_37540/2245311451.py\", line 44, in crop_images\n",
      "    x1, y1, x2, y2 = find_coordinate(*img.shape[0:2], os.path.join(label_path, f'{patient}_{i:04d}.txt'), 's')\n",
      "  File \"/tmp/ipykernel_37540/2245311451.py\", line 7, in find_coordinate\n",
      "    assert aorta == 'j', f'如果只有一个label那么此时应为降主动脉, 但实际为{aorta}：{label_file.split(\"/\")[-1]}'\n",
      "AssertionError: 如果只有一个label那么此时应为降主动脉, 但实际为s：sunlutao-14-23-70-127_0050.txt\n",
      "Traceback (most recent call last):\n",
      "  File \"/tmp/ipykernel_37540/2245311451.py\", line 44, in crop_images\n",
      "    x1, y1, x2, y2 = find_coordinate(*img.shape[0:2], os.path.join(label_path, f'{patient}_{i:04d}.txt'), 's')\n",
      "  File \"/tmp/ipykernel_37540/2245311451.py\", line 7, in find_coordinate\n",
      "    assert aorta == 'j', f'如果只有一个label那么此时应为降主动脉, 但实际为{aorta}：{label_file.split(\"/\")[-1]}'\n",
      "AssertionError: 如果只有一个label那么此时应为降主动脉, 但实际为s：sunlutao-14-23-70-127_0051.txt\n",
      "Traceback (most recent call last):\n",
      "  File \"/tmp/ipykernel_37540/2245311451.py\", line 44, in crop_images\n",
      "    x1, y1, x2, y2 = find_coordinate(*img.shape[0:2], os.path.join(label_path, f'{patient}_{i:04d}.txt'), 's')\n",
      "  File \"/tmp/ipykernel_37540/2245311451.py\", line 7, in find_coordinate\n",
      "    assert aorta == 'j', f'如果只有一个label那么此时应为降主动脉, 但实际为{aorta}：{label_file.split(\"/\")[-1]}'\n",
      "AssertionError: 如果只有一个label那么此时应为降主动脉, 但实际为s：sunlutao-14-23-70-127_0052.txt\n",
      "Traceback (most recent call last):\n",
      "  File \"/tmp/ipykernel_37540/2245311451.py\", line 44, in crop_images\n",
      "    x1, y1, x2, y2 = find_coordinate(*img.shape[0:2], os.path.join(label_path, f'{patient}_{i:04d}.txt'), 's')\n",
      "  File \"/tmp/ipykernel_37540/2245311451.py\", line 7, in find_coordinate\n",
      "    assert aorta == 'j', f'如果只有一个label那么此时应为降主动脉, 但实际为{aorta}：{label_file.split(\"/\")[-1]}'\n",
      "AssertionError: 如果只有一个label那么此时应为降主动脉, 但实际为s：sunlutao-14-23-70-127_0053.txt\n",
      "Traceback (most recent call last):\n",
      "  File \"/tmp/ipykernel_37540/2245311451.py\", line 44, in crop_images\n",
      "    x1, y1, x2, y2 = find_coordinate(*img.shape[0:2], os.path.join(label_path, f'{patient}_{i:04d}.txt'), 's')\n",
      "  File \"/tmp/ipykernel_37540/2245311451.py\", line 7, in find_coordinate\n",
      "    assert aorta == 'j', f'如果只有一个label那么此时应为降主动脉, 但实际为{aorta}：{label_file.split(\"/\")[-1]}'\n",
      "AssertionError: 如果只有一个label那么此时应为降主动脉, 但实际为s：sunlutao-14-23-70-127_0054.txt\n",
      "Traceback (most recent call last):\n",
      "  File \"/tmp/ipykernel_37540/2245311451.py\", line 44, in crop_images\n",
      "    x1, y1, x2, y2 = find_coordinate(*img.shape[0:2], os.path.join(label_path, f'{patient}_{i:04d}.txt'), 's')\n",
      "  File \"/tmp/ipykernel_37540/2245311451.py\", line 7, in find_coordinate\n",
      "    assert aorta == 'j', f'如果只有一个label那么此时应为降主动脉, 但实际为{aorta}：{label_file.split(\"/\")[-1]}'\n",
      "AssertionError: 如果只有一个label那么此时应为降主动脉, 但实际为s：sunlutao-14-23-70-127_0055.txt\n",
      "Traceback (most recent call last):\n",
      "  File \"/tmp/ipykernel_37540/2245311451.py\", line 44, in crop_images\n",
      "    x1, y1, x2, y2 = find_coordinate(*img.shape[0:2], os.path.join(label_path, f'{patient}_{i:04d}.txt'), 's')\n",
      "  File \"/tmp/ipykernel_37540/2245311451.py\", line 7, in find_coordinate\n",
      "    assert aorta == 'j', f'如果只有一个label那么此时应为降主动脉, 但实际为{aorta}：{label_file.split(\"/\")[-1]}'\n",
      "AssertionError: 如果只有一个label那么此时应为降主动脉, 但实际为s：sunlutao-14-23-70-127_0056.txt\n",
      "Traceback (most recent call last):\n",
      "  File \"/tmp/ipykernel_37540/2245311451.py\", line 44, in crop_images\n",
      "    x1, y1, x2, y2 = find_coordinate(*img.shape[0:2], os.path.join(label_path, f'{patient}_{i:04d}.txt'), 's')\n",
      "  File \"/tmp/ipykernel_37540/2245311451.py\", line 7, in find_coordinate\n",
      "    assert aorta == 'j', f'如果只有一个label那么此时应为降主动脉, 但实际为{aorta}：{label_file.split(\"/\")[-1]}'\n",
      "AssertionError: 如果只有一个label那么此时应为降主动脉, 但实际为s：sunlutao-14-23-70-127_0057.txt\n",
      "Traceback (most recent call last):\n",
      "  File \"/tmp/ipykernel_37540/2245311451.py\", line 44, in crop_images\n",
      "    x1, y1, x2, y2 = find_coordinate(*img.shape[0:2], os.path.join(label_path, f'{patient}_{i:04d}.txt'), 's')\n",
      "  File \"/tmp/ipykernel_37540/2245311451.py\", line 7, in find_coordinate\n",
      "    assert aorta == 'j', f'如果只有一个label那么此时应为降主动脉, 但实际为{aorta}：{label_file.split(\"/\")[-1]}'\n",
      "AssertionError: 如果只有一个label那么此时应为降主动脉, 但实际为s：sunlutao-14-23-70-127_0058.txt\n",
      "Traceback (most recent call last):\n",
      "  File \"/tmp/ipykernel_37540/2245311451.py\", line 44, in crop_images\n",
      "    x1, y1, x2, y2 = find_coordinate(*img.shape[0:2], os.path.join(label_path, f'{patient}_{i:04d}.txt'), 's')\n",
      "  File \"/tmp/ipykernel_37540/2245311451.py\", line 7, in find_coordinate\n",
      "    assert aorta == 'j', f'如果只有一个label那么此时应为降主动脉, 但实际为{aorta}：{label_file.split(\"/\")[-1]}'\n",
      "AssertionError: 如果只有一个label那么此时应为降主动脉, 但实际为s：sunlutao-14-23-70-127_0059.txt\n",
      "Traceback (most recent call last):\n",
      "  File \"/tmp/ipykernel_37540/2245311451.py\", line 44, in crop_images\n",
      "    x1, y1, x2, y2 = find_coordinate(*img.shape[0:2], os.path.join(label_path, f'{patient}_{i:04d}.txt'), 's')\n",
      "  File \"/tmp/ipykernel_37540/2245311451.py\", line 7, in find_coordinate\n",
      "    assert aorta == 'j', f'如果只有一个label那么此时应为降主动脉, 但实际为{aorta}：{label_file.split(\"/\")[-1]}'\n",
      "AssertionError: 如果只有一个label那么此时应为降主动脉, 但实际为s：sunlutao-14-23-70-127_0060.txt\n",
      "Traceback (most recent call last):\n",
      "  File \"/tmp/ipykernel_37540/2245311451.py\", line 44, in crop_images\n",
      "    x1, y1, x2, y2 = find_coordinate(*img.shape[0:2], os.path.join(label_path, f'{patient}_{i:04d}.txt'), 's')\n",
      "  File \"/tmp/ipykernel_37540/2245311451.py\", line 7, in find_coordinate\n",
      "    assert aorta == 'j', f'如果只有一个label那么此时应为降主动脉, 但实际为{aorta}：{label_file.split(\"/\")[-1]}'\n",
      "AssertionError: 如果只有一个label那么此时应为降主动脉, 但实际为s：sunlutao-14-23-70-127_0061.txt\n",
      "Traceback (most recent call last):\n",
      "  File \"/tmp/ipykernel_37540/2245311451.py\", line 44, in crop_images\n",
      "    x1, y1, x2, y2 = find_coordinate(*img.shape[0:2], os.path.join(label_path, f'{patient}_{i:04d}.txt'), 's')\n",
      "  File \"/tmp/ipykernel_37540/2245311451.py\", line 7, in find_coordinate\n",
      "    assert aorta == 'j', f'如果只有一个label那么此时应为降主动脉, 但实际为{aorta}：{label_file.split(\"/\")[-1]}'\n",
      "AssertionError: 如果只有一个label那么此时应为降主动脉, 但实际为s：sunlutao-14-23-70-127_0062.txt\n"
     ]
    },
    {
     "name": "stdout",
     "output_type": "stream",
     "text": [
      "******Processing sunyunxian-11-17-23-75******\n"
     ]
    },
    {
     "name": "stderr",
     "output_type": "stream",
     "text": [
      "Traceback (most recent call last):\n",
      "  File \"/tmp/ipykernel_37540/2245311451.py\", line 44, in crop_images\n",
      "    x1, y1, x2, y2 = find_coordinate(*img.shape[0:2], os.path.join(label_path, f'{patient}_{i:04d}.txt'), 's')\n",
      "  File \"/tmp/ipykernel_37540/2245311451.py\", line 7, in find_coordinate\n",
      "    assert aorta == 'j', f'如果只有一个label那么此时应为降主动脉, 但实际为{aorta}：{label_file.split(\"/\")[-1]}'\n",
      "AssertionError: 如果只有一个label那么此时应为降主动脉, 但实际为s：sunyunxian-11-17-23-75_0013.txt\n",
      "Traceback (most recent call last):\n",
      "  File \"/tmp/ipykernel_37540/2245311451.py\", line 44, in crop_images\n",
      "    x1, y1, x2, y2 = find_coordinate(*img.shape[0:2], os.path.join(label_path, f'{patient}_{i:04d}.txt'), 's')\n",
      "  File \"/tmp/ipykernel_37540/2245311451.py\", line 7, in find_coordinate\n",
      "    assert aorta == 'j', f'如果只有一个label那么此时应为降主动脉, 但实际为{aorta}：{label_file.split(\"/\")[-1]}'\n",
      "AssertionError: 如果只有一个label那么此时应为降主动脉, 但实际为s：sunyunxian-11-17-23-75_0014.txt\n"
     ]
    },
    {
     "name": "stdout",
     "output_type": "stream",
     "text": [
      "******Processing tangchunhua-10-16-20-76******\n"
     ]
    },
    {
     "name": "stderr",
     "output_type": "stream",
     "text": [
      "Traceback (most recent call last):\n",
      "  File \"/tmp/ipykernel_37540/2245311451.py\", line 44, in crop_images\n",
      "    x1, y1, x2, y2 = find_coordinate(*img.shape[0:2], os.path.join(label_path, f'{patient}_{i:04d}.txt'), 's')\n",
      "  File \"/tmp/ipykernel_37540/2245311451.py\", line 7, in find_coordinate\n",
      "    assert aorta == 'j', f'如果只有一个label那么此时应为降主动脉, 但实际为{aorta}：{label_file.split(\"/\")[-1]}'\n",
      "AssertionError: 如果只有一个label那么此时应为降主动脉, 但实际为s：tangchunhua-10-16-20-76_0012.txt\n",
      "Traceback (most recent call last):\n",
      "  File \"/tmp/ipykernel_37540/2245311451.py\", line 44, in crop_images\n",
      "    x1, y1, x2, y2 = find_coordinate(*img.shape[0:2], os.path.join(label_path, f'{patient}_{i:04d}.txt'), 's')\n",
      "  File \"/tmp/ipykernel_37540/2245311451.py\", line 7, in find_coordinate\n",
      "    assert aorta == 'j', f'如果只有一个label那么此时应为降主动脉, 但实际为{aorta}：{label_file.split(\"/\")[-1]}'\n",
      "AssertionError: 如果只有一个label那么此时应为降主动脉, 但实际为s：tangchunhua-10-16-20-76_0013.txt\n"
     ]
    },
    {
     "name": "stdout",
     "output_type": "stream",
     "text": [
      "******Processing tangshuiming-33-44-68-153******\n",
      "******Processing taofeng-18-22-28-81******\n"
     ]
    },
    {
     "name": "stderr",
     "output_type": "stream",
     "text": [
      "Traceback (most recent call last):\n",
      "  File \"/tmp/ipykernel_37540/2245311451.py\", line 44, in crop_images\n",
      "    x1, y1, x2, y2 = find_coordinate(*img.shape[0:2], os.path.join(label_path, f'{patient}_{i:04d}.txt'), 's')\n",
      "  File \"/tmp/ipykernel_37540/2245311451.py\", line 7, in find_coordinate\n",
      "    assert aorta == 'j', f'如果只有一个label那么此时应为降主动脉, 但实际为{aorta}：{label_file.split(\"/\")[-1]}'\n",
      "AssertionError: 如果只有一个label那么此时应为降主动脉, 但实际为s：taofeng-18-22-28-81_0018.txt\n",
      "Traceback (most recent call last):\n",
      "  File \"/tmp/ipykernel_37540/2245311451.py\", line 44, in crop_images\n",
      "    x1, y1, x2, y2 = find_coordinate(*img.shape[0:2], os.path.join(label_path, f'{patient}_{i:04d}.txt'), 's')\n",
      "  File \"/tmp/ipykernel_37540/2245311451.py\", line 7, in find_coordinate\n",
      "    assert aorta == 'j', f'如果只有一个label那么此时应为降主动脉, 但实际为{aorta}：{label_file.split(\"/\")[-1]}'\n",
      "AssertionError: 如果只有一个label那么此时应为降主动脉, 但实际为s：taofeng-18-22-28-81_0019.txt\n",
      "Traceback (most recent call last):\n",
      "  File \"/tmp/ipykernel_37540/2245311451.py\", line 44, in crop_images\n",
      "    x1, y1, x2, y2 = find_coordinate(*img.shape[0:2], os.path.join(label_path, f'{patient}_{i:04d}.txt'), 's')\n",
      "  File \"/tmp/ipykernel_37540/2245311451.py\", line 7, in find_coordinate\n",
      "    assert aorta == 'j', f'如果只有一个label那么此时应为降主动脉, 但实际为{aorta}：{label_file.split(\"/\")[-1]}'\n",
      "AssertionError: 如果只有一个label那么此时应为降主动脉, 但实际为s：taofeng-18-22-28-81_0020.txt\n"
     ]
    },
    {
     "name": "stdout",
     "output_type": "stream",
     "text": [
      "******Processing taonan-19-24-37-87******\n"
     ]
    },
    {
     "name": "stderr",
     "output_type": "stream",
     "text": [
      "Traceback (most recent call last):\n",
      "  File \"/tmp/ipykernel_37540/2245311451.py\", line 44, in crop_images\n",
      "    x1, y1, x2, y2 = find_coordinate(*img.shape[0:2], os.path.join(label_path, f'{patient}_{i:04d}.txt'), 's')\n",
      "  File \"/tmp/ipykernel_37540/2245311451.py\", line 7, in find_coordinate\n",
      "    assert aorta == 'j', f'如果只有一个label那么此时应为降主动脉, 但实际为{aorta}：{label_file.split(\"/\")[-1]}'\n",
      "AssertionError: 如果只有一个label那么此时应为降主动脉, 但实际为s：taonan-19-24-37-87_0021.txt\n"
     ]
    },
    {
     "name": "stdout",
     "output_type": "stream",
     "text": [
      "******Processing taoquanying-13-18-30-83******\n"
     ]
    },
    {
     "name": "stderr",
     "output_type": "stream",
     "text": [
      "Traceback (most recent call last):\n",
      "  File \"/tmp/ipykernel_37540/2245311451.py\", line 44, in crop_images\n",
      "    x1, y1, x2, y2 = find_coordinate(*img.shape[0:2], os.path.join(label_path, f'{patient}_{i:04d}.txt'), 's')\n",
      "  File \"/tmp/ipykernel_37540/2245311451.py\", line 7, in find_coordinate\n",
      "    assert aorta == 'j', f'如果只有一个label那么此时应为降主动脉, 但实际为{aorta}：{label_file.split(\"/\")[-1]}'\n",
      "AssertionError: 如果只有一个label那么此时应为降主动脉, 但实际为s：taoquanying-13-18-30-83_0015.txt\n"
     ]
    },
    {
     "name": "stdout",
     "output_type": "stream",
     "text": [
      "******Processing taowenming-23-32-59-138******\n",
      "******Processing taoxiuwei-26-34-54-137******\n"
     ]
    },
    {
     "name": "stderr",
     "output_type": "stream",
     "text": [
      "Traceback (most recent call last):\n",
      "  File \"/tmp/ipykernel_37540/2245311451.py\", line 44, in crop_images\n",
      "    x1, y1, x2, y2 = find_coordinate(*img.shape[0:2], os.path.join(label_path, f'{patient}_{i:04d}.txt'), 's')\n",
      "  File \"/tmp/ipykernel_37540/2245311451.py\", line 7, in find_coordinate\n",
      "    assert aorta == 'j', f'如果只有一个label那么此时应为降主动脉, 但实际为{aorta}：{label_file.split(\"/\")[-1]}'\n",
      "AssertionError: 如果只有一个label那么此时应为降主动脉, 但实际为s：taoxiuwei-26-34-54-137_0039.txt\n",
      "Traceback (most recent call last):\n",
      "  File \"/tmp/ipykernel_37540/2245311451.py\", line 44, in crop_images\n",
      "    x1, y1, x2, y2 = find_coordinate(*img.shape[0:2], os.path.join(label_path, f'{patient}_{i:04d}.txt'), 's')\n",
      "  File \"/tmp/ipykernel_37540/2245311451.py\", line 7, in find_coordinate\n",
      "    assert aorta == 'j', f'如果只有一个label那么此时应为降主动脉, 但实际为{aorta}：{label_file.split(\"/\")[-1]}'\n",
      "AssertionError: 如果只有一个label那么此时应为降主动脉, 但实际为s：taoxiuwei-26-34-54-137_0040.txt\n"
     ]
    },
    {
     "name": "stdout",
     "output_type": "stream",
     "text": [
      "******Processing tongbo-25-35-51-153******\n"
     ]
    },
    {
     "name": "stderr",
     "output_type": "stream",
     "text": [
      "Traceback (most recent call last):\n",
      "  File \"/tmp/ipykernel_37540/2245311451.py\", line 44, in crop_images\n",
      "    x1, y1, x2, y2 = find_coordinate(*img.shape[0:2], os.path.join(label_path, f'{patient}_{i:04d}.txt'), 's')\n",
      "  File \"/tmp/ipykernel_37540/2245311451.py\", line 7, in find_coordinate\n",
      "    assert aorta == 'j', f'如果只有一个label那么此时应为降主动脉, 但实际为{aorta}：{label_file.split(\"/\")[-1]}'\n",
      "AssertionError: 如果只有一个label那么此时应为降主动脉, 但实际为s：tongbo-25-35-51-153_0032.txt\n"
     ]
    },
    {
     "name": "stdout",
     "output_type": "stream",
     "text": [
      "******Processing tongchichang-16-21-35-88******\n"
     ]
    },
    {
     "name": "stderr",
     "output_type": "stream",
     "text": [
      "Traceback (most recent call last):\n",
      "  File \"/tmp/ipykernel_37540/2245311451.py\", line 44, in crop_images\n",
      "    x1, y1, x2, y2 = find_coordinate(*img.shape[0:2], os.path.join(label_path, f'{patient}_{i:04d}.txt'), 's')\n",
      "  File \"/tmp/ipykernel_37540/2245311451.py\", line 7, in find_coordinate\n",
      "    assert aorta == 'j', f'如果只有一个label那么此时应为降主动脉, 但实际为{aorta}：{label_file.split(\"/\")[-1]}'\n",
      "AssertionError: 如果只有一个label那么此时应为降主动脉, 但实际为s：tongchichang-16-21-35-88_0018.txt\n",
      "Traceback (most recent call last):\n",
      "  File \"/tmp/ipykernel_37540/2245311451.py\", line 44, in crop_images\n",
      "    x1, y1, x2, y2 = find_coordinate(*img.shape[0:2], os.path.join(label_path, f'{patient}_{i:04d}.txt'), 's')\n",
      "  File \"/tmp/ipykernel_37540/2245311451.py\", line 7, in find_coordinate\n",
      "    assert aorta == 'j', f'如果只有一个label那么此时应为降主动脉, 但实际为{aorta}：{label_file.split(\"/\")[-1]}'\n",
      "AssertionError: 如果只有一个label那么此时应为降主动脉, 但实际为s：tongchichang-16-21-35-88_0019.txt\n"
     ]
    },
    {
     "name": "stdout",
     "output_type": "stream",
     "text": [
      "******Processing tongxijie-33-42-61-178******\n",
      "******Processing tuyurong-15-18-34-88******\n"
     ]
    },
    {
     "name": "stderr",
     "output_type": "stream",
     "text": [
      "Traceback (most recent call last):\n",
      "  File \"/tmp/ipykernel_37540/2245311451.py\", line 44, in crop_images\n",
      "    x1, y1, x2, y2 = find_coordinate(*img.shape[0:2], os.path.join(label_path, f'{patient}_{i:04d}.txt'), 's')\n",
      "  File \"/tmp/ipykernel_37540/2245311451.py\", line 7, in find_coordinate\n",
      "    assert aorta == 'j', f'如果只有一个label那么此时应为降主动脉, 但实际为{aorta}：{label_file.split(\"/\")[-1]}'\n",
      "AssertionError: 如果只有一个label那么此时应为降主动脉, 但实际为s：tuyurong-15-18-34-88_0015.txt\n",
      "Traceback (most recent call last):\n",
      "  File \"/tmp/ipykernel_37540/2245311451.py\", line 44, in crop_images\n",
      "    x1, y1, x2, y2 = find_coordinate(*img.shape[0:2], os.path.join(label_path, f'{patient}_{i:04d}.txt'), 's')\n",
      "  File \"/tmp/ipykernel_37540/2245311451.py\", line 7, in find_coordinate\n",
      "    assert aorta == 'j', f'如果只有一个label那么此时应为降主动脉, 但实际为{aorta}：{label_file.split(\"/\")[-1]}'\n",
      "AssertionError: 如果只有一个label那么此时应为降主动脉, 但实际为s：tuyurong-15-18-34-88_0016.txt\n"
     ]
    },
    {
     "name": "stdout",
     "output_type": "stream",
     "text": [
      "******Processing wangahai-16-22-43-91******\n"
     ]
    },
    {
     "name": "stderr",
     "output_type": "stream",
     "text": [
      "Traceback (most recent call last):\n",
      "  File \"/tmp/ipykernel_37540/2245311451.py\", line 44, in crop_images\n",
      "    x1, y1, x2, y2 = find_coordinate(*img.shape[0:2], os.path.join(label_path, f'{patient}_{i:04d}.txt'), 's')\n",
      "  File \"/tmp/ipykernel_37540/2245311451.py\", line 7, in find_coordinate\n",
      "    assert aorta == 'j', f'如果只有一个label那么此时应为降主动脉, 但实际为{aorta}：{label_file.split(\"/\")[-1]}'\n",
      "AssertionError: 如果只有一个label那么此时应为降主动脉, 但实际为s：wangahai-16-22-43-91_0020.txt\n",
      "Traceback (most recent call last):\n",
      "  File \"/tmp/ipykernel_37540/2245311451.py\", line 61, in crop_images\n",
      "    x1, y1, x2, y2 = find_coordinate(*img.shape[0:2], os.path.join(label_path, f'{patient}_{i:04d}.txt'), 'j')\n",
      "  File \"/tmp/ipykernel_37540/2245311451.py\", line 3, in find_coordinate\n",
      "    with open(label_file, 'r') as f:\n",
      "FileNotFoundError: [Errno 2] No such file or directory: '/nfs3-p1/zsxm/dataset/aorta_ct_img_label/negative/wangahai-16-22-43-91/labels/wangahai-16-22-43-91_0079.txt'\n",
      "Traceback (most recent call last):\n",
      "  File \"/tmp/ipykernel_37540/2245311451.py\", line 44, in crop_images\n",
      "    x1, y1, x2, y2 = find_coordinate(*img.shape[0:2], os.path.join(label_path, f'{patient}_{i:04d}.txt'), 's')\n",
      "  File \"/tmp/ipykernel_37540/2245311451.py\", line 7, in find_coordinate\n",
      "    assert aorta == 'j', f'如果只有一个label那么此时应为降主动脉, 但实际为{aorta}：{label_file.split(\"/\")[-1]}'\n",
      "AssertionError: 如果只有一个label那么此时应为降主动脉, 但实际为s：wangaifang-13-19-28-74_0015.txt\n",
      "Traceback (most recent call last):\n",
      "  File \"/tmp/ipykernel_37540/2245311451.py\", line 44, in crop_images\n",
      "    x1, y1, x2, y2 = find_coordinate(*img.shape[0:2], os.path.join(label_path, f'{patient}_{i:04d}.txt'), 's')\n",
      "  File \"/tmp/ipykernel_37540/2245311451.py\", line 7, in find_coordinate\n",
      "    assert aorta == 'j', f'如果只有一个label那么此时应为降主动脉, 但实际为{aorta}：{label_file.split(\"/\")[-1]}'\n",
      "AssertionError: 如果只有一个label那么此时应为降主动脉, 但实际为s：wangaifang-13-19-28-74_0016.txt\n"
     ]
    },
    {
     "name": "stdout",
     "output_type": "stream",
     "text": [
      "******Processing wangaifang-13-19-28-74******\n",
      "******Processing wangbaoyu-7-12-21-75******\n"
     ]
    },
    {
     "name": "stderr",
     "output_type": "stream",
     "text": [
      "Traceback (most recent call last):\n",
      "  File \"/tmp/ipykernel_37540/2245311451.py\", line 44, in crop_images\n",
      "    x1, y1, x2, y2 = find_coordinate(*img.shape[0:2], os.path.join(label_path, f'{patient}_{i:04d}.txt'), 's')\n",
      "  File \"/tmp/ipykernel_37540/2245311451.py\", line 7, in find_coordinate\n",
      "    assert aorta == 'j', f'如果只有一个label那么此时应为降主动脉, 但实际为{aorta}：{label_file.split(\"/\")[-1]}'\n",
      "AssertionError: 如果只有一个label那么此时应为降主动脉, 但实际为s：wangbaoyu-7-12-21-75_0008.txt\n",
      "Traceback (most recent call last):\n",
      "  File \"/tmp/ipykernel_37540/2245311451.py\", line 44, in crop_images\n",
      "    x1, y1, x2, y2 = find_coordinate(*img.shape[0:2], os.path.join(label_path, f'{patient}_{i:04d}.txt'), 's')\n",
      "  File \"/tmp/ipykernel_37540/2245311451.py\", line 7, in find_coordinate\n",
      "    assert aorta == 'j', f'如果只有一个label那么此时应为降主动脉, 但实际为{aorta}：{label_file.split(\"/\")[-1]}'\n",
      "AssertionError: 如果只有一个label那么此时应为降主动脉, 但实际为s：wangbaoyu-7-12-21-75_0009.txt\n"
     ]
    },
    {
     "name": "stdout",
     "output_type": "stream",
     "text": [
      "******Processing wangbeibei-28-38-62-148******\n",
      "******Processing wangbingdao-26-36-55-132******\n",
      "******Processing wangdahua-19-24-33-89******\n"
     ]
    },
    {
     "name": "stderr",
     "output_type": "stream",
     "text": [
      "Traceback (most recent call last):\n",
      "  File \"/tmp/ipykernel_37540/2245311451.py\", line 44, in crop_images\n",
      "    x1, y1, x2, y2 = find_coordinate(*img.shape[0:2], os.path.join(label_path, f'{patient}_{i:04d}.txt'), 's')\n",
      "  File \"/tmp/ipykernel_37540/2245311451.py\", line 7, in find_coordinate\n",
      "    assert aorta == 'j', f'如果只有一个label那么此时应为降主动脉, 但实际为{aorta}：{label_file.split(\"/\")[-1]}'\n",
      "AssertionError: 如果只有一个label那么此时应为降主动脉, 但实际为s：wangdahua-19-24-33-89_0020.txt\n",
      "Traceback (most recent call last):\n",
      "  File \"/tmp/ipykernel_37540/2245311451.py\", line 44, in crop_images\n",
      "    x1, y1, x2, y2 = find_coordinate(*img.shape[0:2], os.path.join(label_path, f'{patient}_{i:04d}.txt'), 's')\n",
      "  File \"/tmp/ipykernel_37540/2245311451.py\", line 7, in find_coordinate\n",
      "    assert aorta == 'j', f'如果只有一个label那么此时应为降主动脉, 但实际为{aorta}：{label_file.split(\"/\")[-1]}'\n",
      "AssertionError: 如果只有一个label那么此时应为降主动脉, 但实际为s：wangdahua-19-24-33-89_0021.txt\n"
     ]
    },
    {
     "name": "stdout",
     "output_type": "stream",
     "text": [
      "******Processing wangdandan-32-39-50-142******\n"
     ]
    },
    {
     "name": "stderr",
     "output_type": "stream",
     "text": [
      "Traceback (most recent call last):\n",
      "  File \"/tmp/ipykernel_37540/2245311451.py\", line 44, in crop_images\n",
      "    x1, y1, x2, y2 = find_coordinate(*img.shape[0:2], os.path.join(label_path, f'{patient}_{i:04d}.txt'), 's')\n",
      "  File \"/tmp/ipykernel_37540/2245311451.py\", line 7, in find_coordinate\n",
      "    assert aorta == 'j', f'如果只有一个label那么此时应为降主动脉, 但实际为{aorta}：{label_file.split(\"/\")[-1]}'\n",
      "AssertionError: 如果只有一个label那么此时应为降主动脉, 但实际为s：wangdandan-32-39-50-142_0044.txt\n"
     ]
    },
    {
     "name": "stdout",
     "output_type": "stream",
     "text": [
      "******Processing wangdayang-3-14-41-137******\n",
      "******Processing wangdehao-40-51-65-159******\n",
      "******Processing wangfancun-28-39-72-175******\n",
      "******Processing wangfeng-14-19-31-85******\n"
     ]
    },
    {
     "name": "stderr",
     "output_type": "stream",
     "text": [
      "Traceback (most recent call last):\n",
      "  File \"/tmp/ipykernel_37540/2245311451.py\", line 44, in crop_images\n",
      "    x1, y1, x2, y2 = find_coordinate(*img.shape[0:2], os.path.join(label_path, f'{patient}_{i:04d}.txt'), 's')\n",
      "  File \"/tmp/ipykernel_37540/2245311451.py\", line 7, in find_coordinate\n",
      "    assert aorta == 'j', f'如果只有一个label那么此时应为降主动脉, 但实际为{aorta}：{label_file.split(\"/\")[-1]}'\n",
      "AssertionError: 如果只有一个label那么此时应为降主动脉, 但实际为s：wangfeng-14-19-31-85_0016.txt\n"
     ]
    },
    {
     "name": "stdout",
     "output_type": "stream",
     "text": [
      "******Processing wangguojian-20-25-39-86******\n"
     ]
    },
    {
     "name": "stderr",
     "output_type": "stream",
     "text": [
      "Traceback (most recent call last):\n",
      "  File \"/tmp/ipykernel_37540/2245311451.py\", line 44, in crop_images\n",
      "    x1, y1, x2, y2 = find_coordinate(*img.shape[0:2], os.path.join(label_path, f'{patient}_{i:04d}.txt'), 's')\n",
      "  File \"/tmp/ipykernel_37540/2245311451.py\", line 7, in find_coordinate\n",
      "    assert aorta == 'j', f'如果只有一个label那么此时应为降主动脉, 但实际为{aorta}：{label_file.split(\"/\")[-1]}'\n",
      "AssertionError: 如果只有一个label那么此时应为降主动脉, 但实际为s：wangguojian-20-25-39-86_0022.txt\n"
     ]
    },
    {
     "name": "stdout",
     "output_type": "stream",
     "text": [
      "******Processing wangguolong-16-21-33-84******\n"
     ]
    },
    {
     "name": "stderr",
     "output_type": "stream",
     "text": [
      "Traceback (most recent call last):\n",
      "  File \"/tmp/ipykernel_37540/2245311451.py\", line 44, in crop_images\n",
      "    x1, y1, x2, y2 = find_coordinate(*img.shape[0:2], os.path.join(label_path, f'{patient}_{i:04d}.txt'), 's')\n",
      "  File \"/tmp/ipykernel_37540/2245311451.py\", line 7, in find_coordinate\n",
      "    assert aorta == 'j', f'如果只有一个label那么此时应为降主动脉, 但实际为{aorta}：{label_file.split(\"/\")[-1]}'\n",
      "AssertionError: 如果只有一个label那么此时应为降主动脉, 但实际为s：wangguolong-16-21-33-84_0018.txt\n"
     ]
    },
    {
     "name": "stdout",
     "output_type": "stream",
     "text": [
      "******Processing wanghaifang-40-47-83-160******\n",
      "******Processing wanghongchao-33-42-69-153******\n",
      "******Processing wangjiajin-35-46-69-148******\n",
      "******Processing wangjian-17-24-32-88******\n"
     ]
    },
    {
     "name": "stderr",
     "output_type": "stream",
     "text": [
      "Traceback (most recent call last):\n",
      "  File \"/tmp/ipykernel_37540/2245311451.py\", line 44, in crop_images\n",
      "    x1, y1, x2, y2 = find_coordinate(*img.shape[0:2], os.path.join(label_path, f'{patient}_{i:04d}.txt'), 's')\n",
      "  File \"/tmp/ipykernel_37540/2245311451.py\", line 7, in find_coordinate\n",
      "    assert aorta == 'j', f'如果只有一个label那么此时应为降主动脉, 但实际为{aorta}：{label_file.split(\"/\")[-1]}'\n",
      "AssertionError: 如果只有一个label那么此时应为降主动脉, 但实际为s：wangjian-17-24-32-88_0020.txt\n",
      "Traceback (most recent call last):\n",
      "  File \"/tmp/ipykernel_37540/2245311451.py\", line 44, in crop_images\n",
      "    x1, y1, x2, y2 = find_coordinate(*img.shape[0:2], os.path.join(label_path, f'{patient}_{i:04d}.txt'), 's')\n",
      "  File \"/tmp/ipykernel_37540/2245311451.py\", line 7, in find_coordinate\n",
      "    assert aorta == 'j', f'如果只有一个label那么此时应为降主动脉, 但实际为{aorta}：{label_file.split(\"/\")[-1]}'\n",
      "AssertionError: 如果只有一个label那么此时应为降主动脉, 但实际为s：wangjian-17-24-32-88_0021.txt\n"
     ]
    },
    {
     "name": "stdout",
     "output_type": "stream",
     "text": [
      "******Processing wangjianlin-15-21-37-82******\n"
     ]
    },
    {
     "name": "stderr",
     "output_type": "stream",
     "text": [
      "Traceback (most recent call last):\n",
      "  File \"/tmp/ipykernel_37540/2245311451.py\", line 44, in crop_images\n",
      "    x1, y1, x2, y2 = find_coordinate(*img.shape[0:2], os.path.join(label_path, f'{patient}_{i:04d}.txt'), 's')\n",
      "  File \"/tmp/ipykernel_37540/2245311451.py\", line 7, in find_coordinate\n",
      "    assert aorta == 'j', f'如果只有一个label那么此时应为降主动脉, 但实际为{aorta}：{label_file.split(\"/\")[-1]}'\n",
      "AssertionError: 如果只有一个label那么此时应为降主动脉, 但实际为s：wangjianlin-15-21-37-82_0018.txt\n",
      "Traceback (most recent call last):\n",
      "  File \"/tmp/ipykernel_37540/2245311451.py\", line 44, in crop_images\n",
      "    x1, y1, x2, y2 = find_coordinate(*img.shape[0:2], os.path.join(label_path, f'{patient}_{i:04d}.txt'), 's')\n",
      "  File \"/tmp/ipykernel_37540/2245311451.py\", line 7, in find_coordinate\n",
      "    assert aorta == 'j', f'如果只有一个label那么此时应为降主动脉, 但实际为{aorta}：{label_file.split(\"/\")[-1]}'\n",
      "AssertionError: 如果只有一个label那么此时应为降主动脉, 但实际为s：wangjianlin-15-21-37-82_0019.txt\n"
     ]
    },
    {
     "name": "stdout",
     "output_type": "stream",
     "text": [
      "******Processing wangjie-15-19-31-49******\n"
     ]
    },
    {
     "name": "stderr",
     "output_type": "stream",
     "text": [
      "Traceback (most recent call last):\n",
      "  File \"/tmp/ipykernel_37540/2245311451.py\", line 44, in crop_images\n",
      "    x1, y1, x2, y2 = find_coordinate(*img.shape[0:2], os.path.join(label_path, f'{patient}_{i:04d}.txt'), 's')\n",
      "  File \"/tmp/ipykernel_37540/2245311451.py\", line 7, in find_coordinate\n",
      "    assert aorta == 'j', f'如果只有一个label那么此时应为降主动脉, 但实际为{aorta}：{label_file.split(\"/\")[-1]}'\n",
      "AssertionError: 如果只有一个label那么此时应为降主动脉, 但实际为s：wangjie-15-19-31-49_0016.txt\n",
      "Traceback (most recent call last):\n",
      "  File \"/tmp/ipykernel_37540/2245311451.py\", line 44, in crop_images\n",
      "    x1, y1, x2, y2 = find_coordinate(*img.shape[0:2], os.path.join(label_path, f'{patient}_{i:04d}.txt'), 's')\n",
      "  File \"/tmp/ipykernel_37540/2245311451.py\", line 7, in find_coordinate\n",
      "    assert aorta == 'j', f'如果只有一个label那么此时应为降主动脉, 但实际为{aorta}：{label_file.split(\"/\")[-1]}'\n",
      "AssertionError: 如果只有一个label那么此时应为降主动脉, 但实际为s：wangjie-15-19-31-49_0017.txt\n",
      "Traceback (most recent call last):\n",
      "  File \"/tmp/ipykernel_37540/2245311451.py\", line 44, in crop_images\n",
      "    x1, y1, x2, y2 = find_coordinate(*img.shape[0:2], os.path.join(label_path, f'{patient}_{i:04d}.txt'), 's')\n",
      "  File \"/tmp/ipykernel_37540/2245311451.py\", line 7, in find_coordinate\n",
      "    assert aorta == 'j', f'如果只有一个label那么此时应为降主动脉, 但实际为{aorta}：{label_file.split(\"/\")[-1]}'\n",
      "AssertionError: 如果只有一个label那么此时应为降主动脉, 但实际为s：wangjie-15-19-31-49_0018.txt\n",
      "Traceback (most recent call last):\n",
      "  File \"/tmp/ipykernel_37540/2245311451.py\", line 44, in crop_images\n",
      "    x1, y1, x2, y2 = find_coordinate(*img.shape[0:2], os.path.join(label_path, f'{patient}_{i:04d}.txt'), 's')\n",
      "  File \"/tmp/ipykernel_37540/2245311451.py\", line 7, in find_coordinate\n",
      "    assert aorta == 'j', f'如果只有一个label那么此时应为降主动脉, 但实际为{aorta}：{label_file.split(\"/\")[-1]}'\n",
      "AssertionError: 如果只有一个label那么此时应为降主动脉, 但实际为s：wangjie-15-19-31-49_0030.txt\n"
     ]
    },
    {
     "name": "stdout",
     "output_type": "stream",
     "text": [
      "******Processing wangjinlie-26-33-45-87******\n"
     ]
    },
    {
     "name": "stderr",
     "output_type": "stream",
     "text": [
      "Traceback (most recent call last):\n",
      "  File \"/tmp/ipykernel_37540/2245311451.py\", line 61, in crop_images\n",
      "    x1, y1, x2, y2 = find_coordinate(*img.shape[0:2], os.path.join(label_path, f'{patient}_{i:04d}.txt'), 'j')\n",
      "  File \"/tmp/ipykernel_37540/2245311451.py\", line 3, in find_coordinate\n",
      "    with open(label_file, 'r') as f:\n",
      "FileNotFoundError: [Errno 2] No such file or directory: '/nfs3-p1/zsxm/dataset/aorta_ct_img_label/negative/wangjinlie-26-33-45-87/labels/wangjinlie-26-33-45-87_0076.txt'\n",
      "Traceback (most recent call last):\n",
      "  File \"/tmp/ipykernel_37540/2245311451.py\", line 61, in crop_images\n",
      "    x1, y1, x2, y2 = find_coordinate(*img.shape[0:2], os.path.join(label_path, f'{patient}_{i:04d}.txt'), 'j')\n",
      "  File \"/tmp/ipykernel_37540/2245311451.py\", line 3, in find_coordinate\n",
      "    with open(label_file, 'r') as f:\n",
      "FileNotFoundError: [Errno 2] No such file or directory: '/nfs3-p1/zsxm/dataset/aorta_ct_img_label/negative/wangjinlie-26-33-45-87/labels/wangjinlie-26-33-45-87_0078.txt'\n"
     ]
    },
    {
     "name": "stdout",
     "output_type": "stream",
     "text": [
      "******Processing wangkehuai-47-57-80-157******\n",
      "******Processing wangligang-25-36-55-154******\n",
      "******Processing wangluhua-18-23-32-87******\n"
     ]
    },
    {
     "name": "stderr",
     "output_type": "stream",
     "text": [
      "Traceback (most recent call last):\n",
      "  File \"/tmp/ipykernel_37540/2245311451.py\", line 44, in crop_images\n",
      "    x1, y1, x2, y2 = find_coordinate(*img.shape[0:2], os.path.join(label_path, f'{patient}_{i:04d}.txt'), 's')\n",
      "  File \"/tmp/ipykernel_37540/2245311451.py\", line 7, in find_coordinate\n",
      "    assert aorta == 'j', f'如果只有一个label那么此时应为降主动脉, 但实际为{aorta}：{label_file.split(\"/\")[-1]}'\n",
      "AssertionError: 如果只有一个label那么此时应为降主动脉, 但实际为s：wangluhua-18-23-32-87_0019.txt\n",
      "Traceback (most recent call last):\n",
      "  File \"/tmp/ipykernel_37540/2245311451.py\", line 44, in crop_images\n",
      "    x1, y1, x2, y2 = find_coordinate(*img.shape[0:2], os.path.join(label_path, f'{patient}_{i:04d}.txt'), 's')\n",
      "  File \"/tmp/ipykernel_37540/2245311451.py\", line 7, in find_coordinate\n",
      "    assert aorta == 'j', f'如果只有一个label那么此时应为降主动脉, 但实际为{aorta}：{label_file.split(\"/\")[-1]}'\n",
      "AssertionError: 如果只有一个label那么此时应为降主动脉, 但实际为s：wangluhua-18-23-32-87_0020.txt\n"
     ]
    },
    {
     "name": "stdout",
     "output_type": "stream",
     "text": [
      "******Processing wangmingxuan-35-45-67-157******\n",
      "******Processing wangronglin-16-21-28-81******\n"
     ]
    },
    {
     "name": "stderr",
     "output_type": "stream",
     "text": [
      "Traceback (most recent call last):\n",
      "  File \"/tmp/ipykernel_37540/2245311451.py\", line 44, in crop_images\n",
      "    x1, y1, x2, y2 = find_coordinate(*img.shape[0:2], os.path.join(label_path, f'{patient}_{i:04d}.txt'), 's')\n",
      "  File \"/tmp/ipykernel_37540/2245311451.py\", line 7, in find_coordinate\n",
      "    assert aorta == 'j', f'如果只有一个label那么此时应为降主动脉, 但实际为{aorta}：{label_file.split(\"/\")[-1]}'\n",
      "AssertionError: 如果只有一个label那么此时应为降主动脉, 但实际为s：wangronglin-16-21-28-81_0017.txt\n",
      "Traceback (most recent call last):\n",
      "  File \"/tmp/ipykernel_37540/2245311451.py\", line 44, in crop_images\n",
      "    x1, y1, x2, y2 = find_coordinate(*img.shape[0:2], os.path.join(label_path, f'{patient}_{i:04d}.txt'), 's')\n",
      "  File \"/tmp/ipykernel_37540/2245311451.py\", line 7, in find_coordinate\n",
      "    assert aorta == 'j', f'如果只有一个label那么此时应为降主动脉, 但实际为{aorta}：{label_file.split(\"/\")[-1]}'\n",
      "AssertionError: 如果只有一个label那么此时应为降主动脉, 但实际为s：wangronglin-16-21-28-81_0018.txt\n"
     ]
    },
    {
     "name": "stdout",
     "output_type": "stream",
     "text": [
      "******Processing wangsonglin-19-24-27-86******\n"
     ]
    },
    {
     "name": "stderr",
     "output_type": "stream",
     "text": [
      "Traceback (most recent call last):\n",
      "  File \"/tmp/ipykernel_37540/2245311451.py\", line 44, in crop_images\n",
      "    x1, y1, x2, y2 = find_coordinate(*img.shape[0:2], os.path.join(label_path, f'{patient}_{i:04d}.txt'), 's')\n",
      "  File \"/tmp/ipykernel_37540/2245311451.py\", line 7, in find_coordinate\n",
      "    assert aorta == 'j', f'如果只有一个label那么此时应为降主动脉, 但实际为{aorta}：{label_file.split(\"/\")[-1]}'\n",
      "AssertionError: 如果只有一个label那么此时应为降主动脉, 但实际为s：wangsonglin-19-24-27-86_0020.txt\n",
      "Traceback (most recent call last):\n",
      "  File \"/tmp/ipykernel_37540/2245311451.py\", line 44, in crop_images\n",
      "    x1, y1, x2, y2 = find_coordinate(*img.shape[0:2], os.path.join(label_path, f'{patient}_{i:04d}.txt'), 's')\n",
      "  File \"/tmp/ipykernel_37540/2245311451.py\", line 7, in find_coordinate\n",
      "    assert aorta == 'j', f'如果只有一个label那么此时应为降主动脉, 但实际为{aorta}：{label_file.split(\"/\")[-1]}'\n",
      "AssertionError: 如果只有一个label那么此时应为降主动脉, 但实际为s：wangsonglin-19-24-27-86_0021.txt\n",
      "Traceback (most recent call last):\n",
      "  File \"/tmp/ipykernel_37540/2245311451.py\", line 44, in crop_images\n",
      "    x1, y1, x2, y2 = find_coordinate(*img.shape[0:2], os.path.join(label_path, f'{patient}_{i:04d}.txt'), 's')\n",
      "  File \"/tmp/ipykernel_37540/2245311451.py\", line 7, in find_coordinate\n",
      "    assert aorta == 'j', f'如果只有一个label那么此时应为降主动脉, 但实际为{aorta}：{label_file.split(\"/\")[-1]}'\n",
      "AssertionError: 如果只有一个label那么此时应为降主动脉, 但实际为s：wangsonglin-19-24-27-86_0022.txt\n"
     ]
    },
    {
     "name": "stdout",
     "output_type": "stream",
     "text": [
      "******Processing wangwei-16-20-36-87******\n"
     ]
    },
    {
     "name": "stderr",
     "output_type": "stream",
     "text": [
      "Traceback (most recent call last):\n",
      "  File \"/tmp/ipykernel_37540/2245311451.py\", line 44, in crop_images\n",
      "    x1, y1, x2, y2 = find_coordinate(*img.shape[0:2], os.path.join(label_path, f'{patient}_{i:04d}.txt'), 's')\n",
      "  File \"/tmp/ipykernel_37540/2245311451.py\", line 7, in find_coordinate\n",
      "    assert aorta == 'j', f'如果只有一个label那么此时应为降主动脉, 但实际为{aorta}：{label_file.split(\"/\")[-1]}'\n",
      "AssertionError: 如果只有一个label那么此时应为降主动脉, 但实际为s：wangwei-16-20-36-87_0017.txt\n",
      "Traceback (most recent call last):\n",
      "  File \"/tmp/ipykernel_37540/2245311451.py\", line 44, in crop_images\n",
      "    x1, y1, x2, y2 = find_coordinate(*img.shape[0:2], os.path.join(label_path, f'{patient}_{i:04d}.txt'), 's')\n",
      "  File \"/tmp/ipykernel_37540/2245311451.py\", line 7, in find_coordinate\n",
      "    assert aorta == 'j', f'如果只有一个label那么此时应为降主动脉, 但实际为{aorta}：{label_file.split(\"/\")[-1]}'\n",
      "AssertionError: 如果只有一个label那么此时应为降主动脉, 但实际为s：wangwei-16-20-36-87_0018.txt\n",
      "Traceback (most recent call last):\n",
      "  File \"/tmp/ipykernel_37540/2245311451.py\", line 44, in crop_images\n",
      "    x1, y1, x2, y2 = find_coordinate(*img.shape[0:2], os.path.join(label_path, f'{patient}_{i:04d}.txt'), 's')\n",
      "  File \"/tmp/ipykernel_37540/2245311451.py\", line 7, in find_coordinate\n",
      "    assert aorta == 'j', f'如果只有一个label那么此时应为降主动脉, 但实际为{aorta}：{label_file.split(\"/\")[-1]}'\n",
      "AssertionError: 如果只有一个label那么此时应为降主动脉, 但实际为s：wangwei-16-20-36-87_0019.txt\n"
     ]
    },
    {
     "name": "stdout",
     "output_type": "stream",
     "text": [
      "******Processing wangwei-32-39-50-139******\n"
     ]
    },
    {
     "name": "stderr",
     "output_type": "stream",
     "text": [
      "Traceback (most recent call last):\n",
      "  File \"/tmp/ipykernel_37540/2245311451.py\", line 44, in crop_images\n",
      "    x1, y1, x2, y2 = find_coordinate(*img.shape[0:2], os.path.join(label_path, f'{patient}_{i:04d}.txt'), 's')\n",
      "  File \"/tmp/ipykernel_37540/2245311451.py\", line 7, in find_coordinate\n",
      "    assert aorta == 'j', f'如果只有一个label那么此时应为降主动脉, 但实际为{aorta}：{label_file.split(\"/\")[-1]}'\n",
      "AssertionError: 如果只有一个label那么此时应为降主动脉, 但实际为s：wangwei-32-39-50-139_0036.txt\n",
      "Traceback (most recent call last):\n",
      "  File \"/tmp/ipykernel_37540/2245311451.py\", line 44, in crop_images\n",
      "    x1, y1, x2, y2 = find_coordinate(*img.shape[0:2], os.path.join(label_path, f'{patient}_{i:04d}.txt'), 's')\n",
      "  File \"/tmp/ipykernel_37540/2245311451.py\", line 7, in find_coordinate\n",
      "    assert aorta == 'j', f'如果只有一个label那么此时应为降主动脉, 但实际为{aorta}：{label_file.split(\"/\")[-1]}'\n",
      "AssertionError: 如果只有一个label那么此时应为降主动脉, 但实际为s：wangwei-32-39-50-139_0037.txt\n"
     ]
    },
    {
     "name": "stdout",
     "output_type": "stream",
     "text": [
      "******Processing wangwuzhuang-28-33-41-98******\n"
     ]
    },
    {
     "name": "stderr",
     "output_type": "stream",
     "text": [
      "Traceback (most recent call last):\n",
      "  File \"/tmp/ipykernel_37540/2245311451.py\", line 44, in crop_images\n",
      "    x1, y1, x2, y2 = find_coordinate(*img.shape[0:2], os.path.join(label_path, f'{patient}_{i:04d}.txt'), 's')\n",
      "  File \"/tmp/ipykernel_37540/2245311451.py\", line 7, in find_coordinate\n",
      "    assert aorta == 'j', f'如果只有一个label那么此时应为降主动脉, 但实际为{aorta}：{label_file.split(\"/\")[-1]}'\n",
      "AssertionError: 如果只有一个label那么此时应为降主动脉, 但实际为s：wangwuzhuang-28-33-41-98_0029.txt\n",
      "Traceback (most recent call last):\n",
      "  File \"/tmp/ipykernel_37540/2245311451.py\", line 44, in crop_images\n",
      "    x1, y1, x2, y2 = find_coordinate(*img.shape[0:2], os.path.join(label_path, f'{patient}_{i:04d}.txt'), 's')\n",
      "  File \"/tmp/ipykernel_37540/2245311451.py\", line 7, in find_coordinate\n",
      "    assert aorta == 'j', f'如果只有一个label那么此时应为降主动脉, 但实际为{aorta}：{label_file.split(\"/\")[-1]}'\n",
      "AssertionError: 如果只有一个label那么此时应为降主动脉, 但实际为s：wangwuzhuang-28-33-41-98_0030.txt\n"
     ]
    },
    {
     "name": "stdout",
     "output_type": "stream",
     "text": [
      "******Processing wangxinhui-18-23-31-85******\n"
     ]
    },
    {
     "name": "stderr",
     "output_type": "stream",
     "text": [
      "Traceback (most recent call last):\n",
      "  File \"/tmp/ipykernel_37540/2245311451.py\", line 44, in crop_images\n",
      "    x1, y1, x2, y2 = find_coordinate(*img.shape[0:2], os.path.join(label_path, f'{patient}_{i:04d}.txt'), 's')\n",
      "  File \"/tmp/ipykernel_37540/2245311451.py\", line 7, in find_coordinate\n",
      "    assert aorta == 'j', f'如果只有一个label那么此时应为降主动脉, 但实际为{aorta}：{label_file.split(\"/\")[-1]}'\n",
      "AssertionError: 如果只有一个label那么此时应为降主动脉, 但实际为s：wangxinhui-18-23-31-85_0019.txt\n",
      "Traceback (most recent call last):\n",
      "  File \"/tmp/ipykernel_37540/2245311451.py\", line 44, in crop_images\n",
      "    x1, y1, x2, y2 = find_coordinate(*img.shape[0:2], os.path.join(label_path, f'{patient}_{i:04d}.txt'), 's')\n",
      "  File \"/tmp/ipykernel_37540/2245311451.py\", line 7, in find_coordinate\n",
      "    assert aorta == 'j', f'如果只有一个label那么此时应为降主动脉, 但实际为{aorta}：{label_file.split(\"/\")[-1]}'\n",
      "AssertionError: 如果只有一个label那么此时应为降主动脉, 但实际为s：wangxinhui-18-23-31-85_0020.txt\n"
     ]
    },
    {
     "name": "stdout",
     "output_type": "stream",
     "text": [
      "******Processing wangying-30-36-77-162******\n",
      "******Processing wangyouxiang-21-27-41-131******\n"
     ]
    },
    {
     "name": "stderr",
     "output_type": "stream",
     "text": [
      "Traceback (most recent call last):\n",
      "  File \"/tmp/ipykernel_37540/2245311451.py\", line 44, in crop_images\n",
      "    x1, y1, x2, y2 = find_coordinate(*img.shape[0:2], os.path.join(label_path, f'{patient}_{i:04d}.txt'), 's')\n",
      "  File \"/tmp/ipykernel_37540/2245311451.py\", line 7, in find_coordinate\n",
      "    assert aorta == 'j', f'如果只有一个label那么此时应为降主动脉, 但实际为{aorta}：{label_file.split(\"/\")[-1]}'\n",
      "AssertionError: 如果只有一个label那么此时应为降主动脉, 但实际为s：wangyouxiang-21-27-41-131_0024.txt\n",
      "Traceback (most recent call last):\n",
      "  File \"/tmp/ipykernel_37540/2245311451.py\", line 44, in crop_images\n",
      "    x1, y1, x2, y2 = find_coordinate(*img.shape[0:2], os.path.join(label_path, f'{patient}_{i:04d}.txt'), 's')\n",
      "  File \"/tmp/ipykernel_37540/2245311451.py\", line 7, in find_coordinate\n",
      "    assert aorta == 'j', f'如果只有一个label那么此时应为降主动脉, 但实际为{aorta}：{label_file.split(\"/\")[-1]}'\n",
      "AssertionError: 如果只有一个label那么此时应为降主动脉, 但实际为s：wangyouxiang-21-27-41-131_0025.txt\n",
      "Traceback (most recent call last):\n",
      "  File \"/tmp/ipykernel_37540/2245311451.py\", line 61, in crop_images\n",
      "    x1, y1, x2, y2 = find_coordinate(*img.shape[0:2], os.path.join(label_path, f'{patient}_{i:04d}.txt'), 'j')\n",
      "  File \"/tmp/ipykernel_37540/2245311451.py\", line 3, in find_coordinate\n",
      "    with open(label_file, 'r') as f:\n",
      "FileNotFoundError: [Errno 2] No such file or directory: '/nfs3-p1/zsxm/dataset/aorta_ct_img_label/negative/wangyouxiang-21-27-41-131/labels/wangyouxiang-21-27-41-131_0099.txt'\n",
      "Traceback (most recent call last):\n",
      "  File \"/tmp/ipykernel_37540/2245311451.py\", line 61, in crop_images\n",
      "    x1, y1, x2, y2 = find_coordinate(*img.shape[0:2], os.path.join(label_path, f'{patient}_{i:04d}.txt'), 'j')\n",
      "  File \"/tmp/ipykernel_37540/2245311451.py\", line 3, in find_coordinate\n",
      "    with open(label_file, 'r') as f:\n",
      "FileNotFoundError: [Errno 2] No such file or directory: '/nfs3-p1/zsxm/dataset/aorta_ct_img_label/negative/wangyouxiang-21-27-41-131/labels/wangyouxiang-21-27-41-131_0102.txt'\n",
      "Traceback (most recent call last):\n",
      "  File \"/tmp/ipykernel_37540/2245311451.py\", line 44, in crop_images\n",
      "    x1, y1, x2, y2 = find_coordinate(*img.shape[0:2], os.path.join(label_path, f'{patient}_{i:04d}.txt'), 's')\n",
      "  File \"/tmp/ipykernel_37540/2245311451.py\", line 7, in find_coordinate\n",
      "    assert aorta == 'j', f'如果只有一个label那么此时应为降主动脉, 但实际为{aorta}：{label_file.split(\"/\")[-1]}'\n",
      "AssertionError: 如果只有一个label那么此时应为降主动脉, 但实际为s：wangyouxin-34-42-64-160_0040.txt\n"
     ]
    },
    {
     "name": "stdout",
     "output_type": "stream",
     "text": [
      "******Processing wangyouxin-34-42-64-160******\n"
     ]
    },
    {
     "name": "stderr",
     "output_type": "stream",
     "text": [
      "Traceback (most recent call last):\n",
      "  File \"/tmp/ipykernel_37540/2245311451.py\", line 61, in crop_images\n",
      "    x1, y1, x2, y2 = find_coordinate(*img.shape[0:2], os.path.join(label_path, f'{patient}_{i:04d}.txt'), 'j')\n",
      "  File \"/tmp/ipykernel_37540/2245311451.py\", line 3, in find_coordinate\n",
      "    with open(label_file, 'r') as f:\n",
      "FileNotFoundError: [Errno 2] No such file or directory: '/nfs3-p1/zsxm/dataset/aorta_ct_img_label/negative/wangyouxin-34-42-64-160/labels/wangyouxin-34-42-64-160_0120.txt'\n",
      "Traceback (most recent call last):\n",
      "  File \"/tmp/ipykernel_37540/2245311451.py\", line 44, in crop_images\n",
      "    x1, y1, x2, y2 = find_coordinate(*img.shape[0:2], os.path.join(label_path, f'{patient}_{i:04d}.txt'), 's')\n",
      "  File \"/tmp/ipykernel_37540/2245311451.py\", line 7, in find_coordinate\n",
      "    assert aorta == 'j', f'如果只有一个label那么此时应为降主动脉, 但实际为{aorta}：{label_file.split(\"/\")[-1]}'\n",
      "AssertionError: 如果只有一个label那么此时应为降主动脉, 但实际为s：wangyuncai-14-20-34-91_0017.txt\n"
     ]
    },
    {
     "name": "stdout",
     "output_type": "stream",
     "text": [
      "******Processing wangyuncai-14-20-34-91******\n"
     ]
    },
    {
     "name": "stderr",
     "output_type": "stream",
     "text": [
      "Traceback (most recent call last):\n",
      "  File \"/tmp/ipykernel_37540/2245311451.py\", line 44, in crop_images\n",
      "    x1, y1, x2, y2 = find_coordinate(*img.shape[0:2], os.path.join(label_path, f'{patient}_{i:04d}.txt'), 's')\n",
      "  File \"/tmp/ipykernel_37540/2245311451.py\", line 7, in find_coordinate\n",
      "    assert aorta == 'j', f'如果只有一个label那么此时应为降主动脉, 但实际为{aorta}：{label_file.split(\"/\")[-1]}'\n",
      "AssertionError: 如果只有一个label那么此时应为降主动脉, 但实际为s：wangyuncai-14-20-34-91_0018.txt\n"
     ]
    },
    {
     "name": "stdout",
     "output_type": "stream",
     "text": [
      "******Processing wangyunxian-18-27-39-134******\n"
     ]
    },
    {
     "name": "stderr",
     "output_type": "stream",
     "text": [
      "Traceback (most recent call last):\n",
      "  File \"/tmp/ipykernel_37540/2245311451.py\", line 44, in crop_images\n",
      "    x1, y1, x2, y2 = find_coordinate(*img.shape[0:2], os.path.join(label_path, f'{patient}_{i:04d}.txt'), 's')\n",
      "  File \"/tmp/ipykernel_37540/2245311451.py\", line 7, in find_coordinate\n",
      "    assert aorta == 'j', f'如果只有一个label那么此时应为降主动脉, 但实际为{aorta}：{label_file.split(\"/\")[-1]}'\n",
      "AssertionError: 如果只有一个label那么此时应为降主动脉, 但实际为s：wangyunxian-18-27-39-134_0024.txt\n"
     ]
    },
    {
     "name": "stdout",
     "output_type": "stream",
     "text": [
      "******Processing wangyuzhi-29-38-55-156******\n",
      "******Processing weifengli-26-34-62-147******\n"
     ]
    },
    {
     "name": "stderr",
     "output_type": "stream",
     "text": [
      "Traceback (most recent call last):\n",
      "  File \"/tmp/ipykernel_37540/2245311451.py\", line 44, in crop_images\n",
      "    x1, y1, x2, y2 = find_coordinate(*img.shape[0:2], os.path.join(label_path, f'{patient}_{i:04d}.txt'), 's')\n",
      "  File \"/tmp/ipykernel_37540/2245311451.py\", line 7, in find_coordinate\n",
      "    assert aorta == 'j', f'如果只有一个label那么此时应为降主动脉, 但实际为{aorta}：{label_file.split(\"/\")[-1]}'\n",
      "AssertionError: 如果只有一个label那么此时应为降主动脉, 但实际为s：weifengli-26-34-62-147_0032.txt\n"
     ]
    },
    {
     "name": "stdout",
     "output_type": "stream",
     "text": [
      "******Processing weihuiqiong-27-33-58-137******\n"
     ]
    },
    {
     "name": "stderr",
     "output_type": "stream",
     "text": [
      "Traceback (most recent call last):\n",
      "  File \"/tmp/ipykernel_37540/2245311451.py\", line 44, in crop_images\n",
      "    x1, y1, x2, y2 = find_coordinate(*img.shape[0:2], os.path.join(label_path, f'{patient}_{i:04d}.txt'), 's')\n",
      "  File \"/tmp/ipykernel_37540/2245311451.py\", line 7, in find_coordinate\n",
      "    assert aorta == 'j', f'如果只有一个label那么此时应为降主动脉, 但实际为{aorta}：{label_file.split(\"/\")[-1]}'\n",
      "AssertionError: 如果只有一个label那么此时应为降主动脉, 但实际为s：weihuiqiong-27-33-58-137_0031.txt\n",
      "Traceback (most recent call last):\n",
      "  File \"/tmp/ipykernel_37540/2245311451.py\", line 44, in crop_images\n",
      "    x1, y1, x2, y2 = find_coordinate(*img.shape[0:2], os.path.join(label_path, f'{patient}_{i:04d}.txt'), 's')\n",
      "  File \"/tmp/ipykernel_37540/2245311451.py\", line 7, in find_coordinate\n",
      "    assert aorta == 'j', f'如果只有一个label那么此时应为降主动脉, 但实际为{aorta}：{label_file.split(\"/\")[-1]}'\n",
      "AssertionError: 如果只有一个label那么此时应为降主动脉, 但实际为s：weihuiqiong-27-33-58-137_0032.txt\n"
     ]
    },
    {
     "name": "stdout",
     "output_type": "stream",
     "text": [
      "******Processing weiliping-14-19-29-82******\n"
     ]
    },
    {
     "name": "stderr",
     "output_type": "stream",
     "text": [
      "Traceback (most recent call last):\n",
      "  File \"/tmp/ipykernel_37540/2245311451.py\", line 44, in crop_images\n",
      "    x1, y1, x2, y2 = find_coordinate(*img.shape[0:2], os.path.join(label_path, f'{patient}_{i:04d}.txt'), 's')\n",
      "  File \"/tmp/ipykernel_37540/2245311451.py\", line 7, in find_coordinate\n",
      "    assert aorta == 'j', f'如果只有一个label那么此时应为降主动脉, 但实际为{aorta}：{label_file.split(\"/\")[-1]}'\n",
      "AssertionError: 如果只有一个label那么此时应为降主动脉, 但实际为s：weiliping-14-19-29-82_0016.txt\n"
     ]
    },
    {
     "name": "stdout",
     "output_type": "stream",
     "text": [
      "******Processing wenshuijuan-30-36-66-145******\n"
     ]
    },
    {
     "name": "stderr",
     "output_type": "stream",
     "text": [
      "Traceback (most recent call last):\n",
      "  File \"/tmp/ipykernel_37540/2245311451.py\", line 44, in crop_images\n",
      "    x1, y1, x2, y2 = find_coordinate(*img.shape[0:2], os.path.join(label_path, f'{patient}_{i:04d}.txt'), 's')\n",
      "  File \"/tmp/ipykernel_37540/2245311451.py\", line 7, in find_coordinate\n",
      "    assert aorta == 'j', f'如果只有一个label那么此时应为降主动脉, 但实际为{aorta}：{label_file.split(\"/\")[-1]}'\n",
      "AssertionError: 如果只有一个label那么此时应为降主动脉, 但实际为s：wenshuijuan-30-36-66-145_0040.txt\n",
      "Traceback (most recent call last):\n",
      "  File \"/tmp/ipykernel_37540/2245311451.py\", line 44, in crop_images\n",
      "    x1, y1, x2, y2 = find_coordinate(*img.shape[0:2], os.path.join(label_path, f'{patient}_{i:04d}.txt'), 's')\n",
      "  File \"/tmp/ipykernel_37540/2245311451.py\", line 7, in find_coordinate\n",
      "    assert aorta == 'j', f'如果只有一个label那么此时应为降主动脉, 但实际为{aorta}：{label_file.split(\"/\")[-1]}'\n",
      "AssertionError: 如果只有一个label那么此时应为降主动脉, 但实际为s：wenshuijuan-30-36-66-145_0041.txt\n",
      "Traceback (most recent call last):\n",
      "  File \"/tmp/ipykernel_37540/2245311451.py\", line 44, in crop_images\n",
      "    x1, y1, x2, y2 = find_coordinate(*img.shape[0:2], os.path.join(label_path, f'{patient}_{i:04d}.txt'), 's')\n",
      "  File \"/tmp/ipykernel_37540/2245311451.py\", line 7, in find_coordinate\n",
      "    assert aorta == 'j', f'如果只有一个label那么此时应为降主动脉, 但实际为{aorta}：{label_file.split(\"/\")[-1]}'\n",
      "AssertionError: 如果只有一个label那么此时应为降主动脉, 但实际为s：wenshuijuan-30-36-66-145_0046.txt\n",
      "Traceback (most recent call last):\n",
      "  File \"/tmp/ipykernel_37540/2245311451.py\", line 44, in crop_images\n",
      "    x1, y1, x2, y2 = find_coordinate(*img.shape[0:2], os.path.join(label_path, f'{patient}_{i:04d}.txt'), 's')\n",
      "  File \"/tmp/ipykernel_37540/2245311451.py\", line 7, in find_coordinate\n",
      "    assert aorta == 'j', f'如果只有一个label那么此时应为降主动脉, 但实际为{aorta}：{label_file.split(\"/\")[-1]}'\n",
      "AssertionError: 如果只有一个label那么此时应为降主动脉, 但实际为s：wenshuijuan-30-36-66-145_0047.txt\n",
      "Traceback (most recent call last):\n",
      "  File \"/tmp/ipykernel_37540/2245311451.py\", line 44, in crop_images\n",
      "    x1, y1, x2, y2 = find_coordinate(*img.shape[0:2], os.path.join(label_path, f'{patient}_{i:04d}.txt'), 's')\n",
      "  File \"/tmp/ipykernel_37540/2245311451.py\", line 7, in find_coordinate\n",
      "    assert aorta == 'j', f'如果只有一个label那么此时应为降主动脉, 但实际为{aorta}：{label_file.split(\"/\")[-1]}'\n",
      "AssertionError: 如果只有一个label那么此时应为降主动脉, 但实际为s：wenshuijuan-30-36-66-145_0048.txt\n",
      "Traceback (most recent call last):\n",
      "  File \"/tmp/ipykernel_37540/2245311451.py\", line 44, in crop_images\n",
      "    x1, y1, x2, y2 = find_coordinate(*img.shape[0:2], os.path.join(label_path, f'{patient}_{i:04d}.txt'), 's')\n",
      "  File \"/tmp/ipykernel_37540/2245311451.py\", line 7, in find_coordinate\n",
      "    assert aorta == 'j', f'如果只有一个label那么此时应为降主动脉, 但实际为{aorta}：{label_file.split(\"/\")[-1]}'\n",
      "AssertionError: 如果只有一个label那么此时应为降主动脉, 但实际为s：wenshuijuan-30-36-66-145_0049.txt\n",
      "Traceback (most recent call last):\n",
      "  File \"/tmp/ipykernel_37540/2245311451.py\", line 44, in crop_images\n",
      "    x1, y1, x2, y2 = find_coordinate(*img.shape[0:2], os.path.join(label_path, f'{patient}_{i:04d}.txt'), 's')\n",
      "  File \"/tmp/ipykernel_37540/2245311451.py\", line 7, in find_coordinate\n",
      "    assert aorta == 'j', f'如果只有一个label那么此时应为降主动脉, 但实际为{aorta}：{label_file.split(\"/\")[-1]}'\n",
      "AssertionError: 如果只有一个label那么此时应为降主动脉, 但实际为s：wenshuijuan-30-36-66-145_0050.txt\n",
      "Traceback (most recent call last):\n",
      "  File \"/tmp/ipykernel_37540/2245311451.py\", line 44, in crop_images\n",
      "    x1, y1, x2, y2 = find_coordinate(*img.shape[0:2], os.path.join(label_path, f'{patient}_{i:04d}.txt'), 's')\n",
      "  File \"/tmp/ipykernel_37540/2245311451.py\", line 7, in find_coordinate\n",
      "    assert aorta == 'j', f'如果只有一个label那么此时应为降主动脉, 但实际为{aorta}：{label_file.split(\"/\")[-1]}'\n",
      "AssertionError: 如果只有一个label那么此时应为降主动脉, 但实际为s：wenshuijuan-30-36-66-145_0051.txt\n",
      "Traceback (most recent call last):\n",
      "  File \"/tmp/ipykernel_37540/2245311451.py\", line 44, in crop_images\n",
      "    x1, y1, x2, y2 = find_coordinate(*img.shape[0:2], os.path.join(label_path, f'{patient}_{i:04d}.txt'), 's')\n",
      "  File \"/tmp/ipykernel_37540/2245311451.py\", line 7, in find_coordinate\n",
      "    assert aorta == 'j', f'如果只有一个label那么此时应为降主动脉, 但实际为{aorta}：{label_file.split(\"/\")[-1]}'\n",
      "AssertionError: 如果只有一个label那么此时应为降主动脉, 但实际为s：wenshuijuan-30-36-66-145_0052.txt\n",
      "Traceback (most recent call last):\n",
      "  File \"/tmp/ipykernel_37540/2245311451.py\", line 44, in crop_images\n",
      "    x1, y1, x2, y2 = find_coordinate(*img.shape[0:2], os.path.join(label_path, f'{patient}_{i:04d}.txt'), 's')\n",
      "  File \"/tmp/ipykernel_37540/2245311451.py\", line 7, in find_coordinate\n",
      "    assert aorta == 'j', f'如果只有一个label那么此时应为降主动脉, 但实际为{aorta}：{label_file.split(\"/\")[-1]}'\n",
      "AssertionError: 如果只有一个label那么此时应为降主动脉, 但实际为s：wenshuijuan-30-36-66-145_0053.txt\n",
      "Traceback (most recent call last):\n",
      "  File \"/tmp/ipykernel_37540/2245311451.py\", line 44, in crop_images\n",
      "    x1, y1, x2, y2 = find_coordinate(*img.shape[0:2], os.path.join(label_path, f'{patient}_{i:04d}.txt'), 's')\n",
      "  File \"/tmp/ipykernel_37540/2245311451.py\", line 7, in find_coordinate\n",
      "    assert aorta == 'j', f'如果只有一个label那么此时应为降主动脉, 但实际为{aorta}：{label_file.split(\"/\")[-1]}'\n",
      "AssertionError: 如果只有一个label那么此时应为降主动脉, 但实际为s：wenshuijuan-30-36-66-145_0054.txt\n",
      "Traceback (most recent call last):\n",
      "  File \"/tmp/ipykernel_37540/2245311451.py\", line 61, in crop_images\n",
      "    x1, y1, x2, y2 = find_coordinate(*img.shape[0:2], os.path.join(label_path, f'{patient}_{i:04d}.txt'), 'j')\n",
      "  File \"/tmp/ipykernel_37540/2245311451.py\", line 3, in find_coordinate\n",
      "    with open(label_file, 'r') as f:\n",
      "FileNotFoundError: [Errno 2] No such file or directory: '/nfs3-p1/zsxm/dataset/aorta_ct_img_label/negative/wenshuijuan-30-36-66-145/labels/wenshuijuan-30-36-66-145_0075.txt'\n",
      "Traceback (most recent call last):\n",
      "  File \"/tmp/ipykernel_37540/2245311451.py\", line 61, in crop_images\n",
      "    x1, y1, x2, y2 = find_coordinate(*img.shape[0:2], os.path.join(label_path, f'{patient}_{i:04d}.txt'), 'j')\n",
      "  File \"/tmp/ipykernel_37540/2245311451.py\", line 3, in find_coordinate\n",
      "    with open(label_file, 'r') as f:\n",
      "FileNotFoundError: [Errno 2] No such file or directory: '/nfs3-p1/zsxm/dataset/aorta_ct_img_label/negative/wenshuijuan-30-36-66-145/labels/wenshuijuan-30-36-66-145_0080.txt'\n",
      "Traceback (most recent call last):\n",
      "  File \"/tmp/ipykernel_37540/2245311451.py\", line 61, in crop_images\n",
      "    x1, y1, x2, y2 = find_coordinate(*img.shape[0:2], os.path.join(label_path, f'{patient}_{i:04d}.txt'), 'j')\n",
      "  File \"/tmp/ipykernel_37540/2245311451.py\", line 13, in find_coordinate\n",
      "    assert 0.25 < corr1[1] < 0.75 and 0.2 < corr1[2] < 0.8, f'边界框1中心({corr1[1]}, {corr1[2]})出界：{label_file.split(\"/\")[-1]}'\n",
      "AssertionError: 边界框1中心(0.0146484, 0.613281)出界：wenshuijuan-30-36-66-145_0081.txt\n"
     ]
    },
    {
     "name": "stdout",
     "output_type": "stream",
     "text": [
      "******Processing wenshuinong-24-33-55-141******\n",
      "******Processing wufenai-9-15-28-81******\n"
     ]
    },
    {
     "name": "stderr",
     "output_type": "stream",
     "text": [
      "Traceback (most recent call last):\n",
      "  File \"/tmp/ipykernel_37540/2245311451.py\", line 44, in crop_images\n",
      "    x1, y1, x2, y2 = find_coordinate(*img.shape[0:2], os.path.join(label_path, f'{patient}_{i:04d}.txt'), 's')\n",
      "  File \"/tmp/ipykernel_37540/2245311451.py\", line 3, in find_coordinate\n",
      "    with open(label_file, 'r') as f:\n",
      "FileNotFoundError: [Errno 2] No such file or directory: '/nfs3-p1/zsxm/dataset/aorta_ct_img_label/negative/wufenai-9-15-28-81/labels/wufenai-9-15-28-81_0012.txt'\n",
      "Traceback (most recent call last):\n",
      "  File \"/tmp/ipykernel_37540/2245311451.py\", line 44, in crop_images\n",
      "    x1, y1, x2, y2 = find_coordinate(*img.shape[0:2], os.path.join(label_path, f'{patient}_{i:04d}.txt'), 's')\n",
      "  File \"/tmp/ipykernel_37540/2245311451.py\", line 3, in find_coordinate\n",
      "    with open(label_file, 'r') as f:\n",
      "FileNotFoundError: [Errno 2] No such file or directory: '/nfs3-p1/zsxm/dataset/aorta_ct_img_label/negative/wufenai-9-15-28-81/labels/wufenai-9-15-28-81_0013.txt'\n",
      "Traceback (most recent call last):\n",
      "  File \"/tmp/ipykernel_37540/2245311451.py\", line 44, in crop_images\n",
      "    x1, y1, x2, y2 = find_coordinate(*img.shape[0:2], os.path.join(label_path, f'{patient}_{i:04d}.txt'), 's')\n",
      "  File \"/tmp/ipykernel_37540/2245311451.py\", line 3, in find_coordinate\n",
      "    with open(label_file, 'r') as f:\n",
      "FileNotFoundError: [Errno 2] No such file or directory: '/nfs3-p1/zsxm/dataset/aorta_ct_img_label/negative/wufenai-9-15-28-81/labels/wufenai-9-15-28-81_0014.txt'\n",
      "Traceback (most recent call last):\n",
      "  File \"/tmp/ipykernel_37540/2245311451.py\", line 44, in crop_images\n",
      "    x1, y1, x2, y2 = find_coordinate(*img.shape[0:2], os.path.join(label_path, f'{patient}_{i:04d}.txt'), 's')\n",
      "  File \"/tmp/ipykernel_37540/2245311451.py\", line 3, in find_coordinate\n",
      "    with open(label_file, 'r') as f:\n",
      "FileNotFoundError: [Errno 2] No such file or directory: '/nfs3-p1/zsxm/dataset/aorta_ct_img_label/negative/wufenai-9-15-28-81/labels/wufenai-9-15-28-81_0015.txt'\n",
      "Traceback (most recent call last):\n",
      "  File \"/tmp/ipykernel_37540/2245311451.py\", line 44, in crop_images\n",
      "    x1, y1, x2, y2 = find_coordinate(*img.shape[0:2], os.path.join(label_path, f'{patient}_{i:04d}.txt'), 's')\n",
      "  File \"/tmp/ipykernel_37540/2245311451.py\", line 7, in find_coordinate\n",
      "    assert aorta == 'j', f'如果只有一个label那么此时应为降主动脉, 但实际为{aorta}：{label_file.split(\"/\")[-1]}'\n",
      "AssertionError: 如果只有一个label那么此时应为降主动脉, 但实际为s：wufenai-9-15-28-81_0016.txt\n",
      "Traceback (most recent call last):\n",
      "  File \"/tmp/ipykernel_37540/2245311451.py\", line 44, in crop_images\n",
      "    x1, y1, x2, y2 = find_coordinate(*img.shape[0:2], os.path.join(label_path, f'{patient}_{i:04d}.txt'), 's')\n",
      "  File \"/tmp/ipykernel_37540/2245311451.py\", line 7, in find_coordinate\n",
      "    assert aorta == 'j', f'如果只有一个label那么此时应为降主动脉, 但实际为{aorta}：{label_file.split(\"/\")[-1]}'\n",
      "AssertionError: 如果只有一个label那么此时应为降主动脉, 但实际为s：wufenai-9-15-28-81_0017.txt\n",
      "Traceback (most recent call last):\n",
      "  File \"/tmp/ipykernel_37540/2245311451.py\", line 44, in crop_images\n",
      "    x1, y1, x2, y2 = find_coordinate(*img.shape[0:2], os.path.join(label_path, f'{patient}_{i:04d}.txt'), 's')\n",
      "  File \"/tmp/ipykernel_37540/2245311451.py\", line 7, in find_coordinate\n",
      "    assert aorta == 'j', f'如果只有一个label那么此时应为降主动脉, 但实际为{aorta}：{label_file.split(\"/\")[-1]}'\n",
      "AssertionError: 如果只有一个label那么此时应为降主动脉, 但实际为s：wufenai-9-15-28-81_0018.txt\n",
      "Traceback (most recent call last):\n",
      "  File \"/tmp/ipykernel_37540/2245311451.py\", line 44, in crop_images\n",
      "    x1, y1, x2, y2 = find_coordinate(*img.shape[0:2], os.path.join(label_path, f'{patient}_{i:04d}.txt'), 's')\n",
      "  File \"/tmp/ipykernel_37540/2245311451.py\", line 7, in find_coordinate\n",
      "    assert aorta == 'j', f'如果只有一个label那么此时应为降主动脉, 但实际为{aorta}：{label_file.split(\"/\")[-1]}'\n",
      "AssertionError: 如果只有一个label那么此时应为降主动脉, 但实际为s：wufenai-9-15-28-81_0019.txt\n",
      "Traceback (most recent call last):\n",
      "  File \"/tmp/ipykernel_37540/2245311451.py\", line 44, in crop_images\n",
      "    x1, y1, x2, y2 = find_coordinate(*img.shape[0:2], os.path.join(label_path, f'{patient}_{i:04d}.txt'), 's')\n",
      "  File \"/tmp/ipykernel_37540/2245311451.py\", line 7, in find_coordinate\n",
      "    assert aorta == 'j', f'如果只有一个label那么此时应为降主动脉, 但实际为{aorta}：{label_file.split(\"/\")[-1]}'\n",
      "AssertionError: 如果只有一个label那么此时应为降主动脉, 但实际为s：wufenai-9-15-28-81_0020.txt\n",
      "Traceback (most recent call last):\n",
      "  File \"/tmp/ipykernel_37540/2245311451.py\", line 44, in crop_images\n",
      "    x1, y1, x2, y2 = find_coordinate(*img.shape[0:2], os.path.join(label_path, f'{patient}_{i:04d}.txt'), 's')\n",
      "  File \"/tmp/ipykernel_37540/2245311451.py\", line 7, in find_coordinate\n",
      "    assert aorta == 'j', f'如果只有一个label那么此时应为降主动脉, 但实际为{aorta}：{label_file.split(\"/\")[-1]}'\n",
      "AssertionError: 如果只有一个label那么此时应为降主动脉, 但实际为s：wufenai-9-15-28-81_0021.txt\n",
      "Traceback (most recent call last):\n",
      "  File \"/tmp/ipykernel_37540/2245311451.py\", line 44, in crop_images\n",
      "    x1, y1, x2, y2 = find_coordinate(*img.shape[0:2], os.path.join(label_path, f'{patient}_{i:04d}.txt'), 's')\n",
      "  File \"/tmp/ipykernel_37540/2245311451.py\", line 7, in find_coordinate\n",
      "    assert aorta == 'j', f'如果只有一个label那么此时应为降主动脉, 但实际为{aorta}：{label_file.split(\"/\")[-1]}'\n",
      "AssertionError: 如果只有一个label那么此时应为降主动脉, 但实际为s：wufenai-9-15-28-81_0022.txt\n",
      "Traceback (most recent call last):\n",
      "  File \"/tmp/ipykernel_37540/2245311451.py\", line 44, in crop_images\n",
      "    x1, y1, x2, y2 = find_coordinate(*img.shape[0:2], os.path.join(label_path, f'{patient}_{i:04d}.txt'), 's')\n",
      "  File \"/tmp/ipykernel_37540/2245311451.py\", line 7, in find_coordinate\n",
      "    assert aorta == 'j', f'如果只有一个label那么此时应为降主动脉, 但实际为{aorta}：{label_file.split(\"/\")[-1]}'\n",
      "AssertionError: 如果只有一个label那么此时应为降主动脉, 但实际为s：wufenai-9-15-28-81_0023.txt\n",
      "Traceback (most recent call last):\n",
      "  File \"/tmp/ipykernel_37540/2245311451.py\", line 44, in crop_images\n",
      "    x1, y1, x2, y2 = find_coordinate(*img.shape[0:2], os.path.join(label_path, f'{patient}_{i:04d}.txt'), 's')\n",
      "  File \"/tmp/ipykernel_37540/2245311451.py\", line 7, in find_coordinate\n",
      "    assert aorta == 'j', f'如果只有一个label那么此时应为降主动脉, 但实际为{aorta}：{label_file.split(\"/\")[-1]}'\n",
      "AssertionError: 如果只有一个label那么此时应为降主动脉, 但实际为s：wufenai-9-15-28-81_0024.txt\n",
      "Traceback (most recent call last):\n",
      "  File \"/tmp/ipykernel_37540/2245311451.py\", line 44, in crop_images\n",
      "    x1, y1, x2, y2 = find_coordinate(*img.shape[0:2], os.path.join(label_path, f'{patient}_{i:04d}.txt'), 's')\n",
      "  File \"/tmp/ipykernel_37540/2245311451.py\", line 7, in find_coordinate\n",
      "    assert aorta == 'j', f'如果只有一个label那么此时应为降主动脉, 但实际为{aorta}：{label_file.split(\"/\")[-1]}'\n",
      "AssertionError: 如果只有一个label那么此时应为降主动脉, 但实际为s：wufenai-9-15-28-81_0025.txt\n"
     ]
    },
    {
     "name": "stdout",
     "output_type": "stream",
     "text": [
      "******Processing wugaoyou-12-17-24-81******\n"
     ]
    },
    {
     "name": "stderr",
     "output_type": "stream",
     "text": [
      "Traceback (most recent call last):\n",
      "  File \"/tmp/ipykernel_37540/2245311451.py\", line 44, in crop_images\n",
      "    x1, y1, x2, y2 = find_coordinate(*img.shape[0:2], os.path.join(label_path, f'{patient}_{i:04d}.txt'), 's')\n",
      "  File \"/tmp/ipykernel_37540/2245311451.py\", line 7, in find_coordinate\n",
      "    assert aorta == 'j', f'如果只有一个label那么此时应为降主动脉, 但实际为{aorta}：{label_file.split(\"/\")[-1]}'\n",
      "AssertionError: 如果只有一个label那么此时应为降主动脉, 但实际为s：wugaoyou-12-17-24-81_0013.txt\n",
      "Traceback (most recent call last):\n",
      "  File \"/tmp/ipykernel_37540/2245311451.py\", line 44, in crop_images\n",
      "    x1, y1, x2, y2 = find_coordinate(*img.shape[0:2], os.path.join(label_path, f'{patient}_{i:04d}.txt'), 's')\n",
      "  File \"/tmp/ipykernel_37540/2245311451.py\", line 7, in find_coordinate\n",
      "    assert aorta == 'j', f'如果只有一个label那么此时应为降主动脉, 但实际为{aorta}：{label_file.split(\"/\")[-1]}'\n",
      "AssertionError: 如果只有一个label那么此时应为降主动脉, 但实际为s：wugaoyou-12-17-24-81_0014.txt\n",
      "Traceback (most recent call last):\n",
      "  File \"/tmp/ipykernel_37540/2245311451.py\", line 44, in crop_images\n",
      "    x1, y1, x2, y2 = find_coordinate(*img.shape[0:2], os.path.join(label_path, f'{patient}_{i:04d}.txt'), 's')\n",
      "  File \"/tmp/ipykernel_37540/2245311451.py\", line 7, in find_coordinate\n",
      "    assert aorta == 'j', f'如果只有一个label那么此时应为降主动脉, 但实际为{aorta}：{label_file.split(\"/\")[-1]}'\n",
      "AssertionError: 如果只有一个label那么此时应为降主动脉, 但实际为s：wugaoyou-12-17-24-81_0015.txt\n"
     ]
    },
    {
     "name": "stdout",
     "output_type": "stream",
     "text": [
      "******Processing wuguorong-30-39-51-140******\n"
     ]
    },
    {
     "name": "stderr",
     "output_type": "stream",
     "text": [
      "Traceback (most recent call last):\n",
      "  File \"/tmp/ipykernel_37540/2245311451.py\", line 44, in crop_images\n",
      "    x1, y1, x2, y2 = find_coordinate(*img.shape[0:2], os.path.join(label_path, f'{patient}_{i:04d}.txt'), 's')\n",
      "  File \"/tmp/ipykernel_37540/2245311451.py\", line 7, in find_coordinate\n",
      "    assert aorta == 'j', f'如果只有一个label那么此时应为降主动脉, 但实际为{aorta}：{label_file.split(\"/\")[-1]}'\n",
      "AssertionError: 如果只有一个label那么此时应为降主动脉, 但实际为s：wuguorong-30-39-51-140_0036.txt\n"
     ]
    },
    {
     "name": "stdout",
     "output_type": "stream",
     "text": [
      "******Processing wuhanjiang-18-22-39-85******\n"
     ]
    },
    {
     "name": "stderr",
     "output_type": "stream",
     "text": [
      "Traceback (most recent call last):\n",
      "  File \"/tmp/ipykernel_37540/2245311451.py\", line 44, in crop_images\n",
      "    x1, y1, x2, y2 = find_coordinate(*img.shape[0:2], os.path.join(label_path, f'{patient}_{i:04d}.txt'), 's')\n",
      "  File \"/tmp/ipykernel_37540/2245311451.py\", line 7, in find_coordinate\n",
      "    assert aorta == 'j', f'如果只有一个label那么此时应为降主动脉, 但实际为{aorta}：{label_file.split(\"/\")[-1]}'\n",
      "AssertionError: 如果只有一个label那么此时应为降主动脉, 但实际为s：wuhanjiang-18-22-39-85_0019.txt\n",
      "Traceback (most recent call last):\n",
      "  File \"/tmp/ipykernel_37540/2245311451.py\", line 44, in crop_images\n",
      "    x1, y1, x2, y2 = find_coordinate(*img.shape[0:2], os.path.join(label_path, f'{patient}_{i:04d}.txt'), 's')\n",
      "  File \"/tmp/ipykernel_37540/2245311451.py\", line 7, in find_coordinate\n",
      "    assert aorta == 'j', f'如果只有一个label那么此时应为降主动脉, 但实际为{aorta}：{label_file.split(\"/\")[-1]}'\n",
      "AssertionError: 如果只有一个label那么此时应为降主动脉, 但实际为s：wuhanjiang-18-22-39-85_0020.txt\n"
     ]
    },
    {
     "name": "stdout",
     "output_type": "stream",
     "text": [
      "******Processing wujianguo-14-20-29-89******\n"
     ]
    },
    {
     "name": "stderr",
     "output_type": "stream",
     "text": [
      "Traceback (most recent call last):\n",
      "  File \"/tmp/ipykernel_37540/2245311451.py\", line 44, in crop_images\n",
      "    x1, y1, x2, y2 = find_coordinate(*img.shape[0:2], os.path.join(label_path, f'{patient}_{i:04d}.txt'), 's')\n",
      "  File \"/tmp/ipykernel_37540/2245311451.py\", line 7, in find_coordinate\n",
      "    assert aorta == 'j', f'如果只有一个label那么此时应为降主动脉, 但实际为{aorta}：{label_file.split(\"/\")[-1]}'\n",
      "AssertionError: 如果只有一个label那么此时应为降主动脉, 但实际为s：wujianguo-14-20-29-89_0016.txt\n",
      "Traceback (most recent call last):\n",
      "  File \"/tmp/ipykernel_37540/2245311451.py\", line 44, in crop_images\n",
      "    x1, y1, x2, y2 = find_coordinate(*img.shape[0:2], os.path.join(label_path, f'{patient}_{i:04d}.txt'), 's')\n",
      "  File \"/tmp/ipykernel_37540/2245311451.py\", line 7, in find_coordinate\n",
      "    assert aorta == 'j', f'如果只有一个label那么此时应为降主动脉, 但实际为{aorta}：{label_file.split(\"/\")[-1]}'\n",
      "AssertionError: 如果只有一个label那么此时应为降主动脉, 但实际为s：wujianguo-14-20-29-89_0017.txt\n"
     ]
    },
    {
     "name": "stdout",
     "output_type": "stream",
     "text": [
      "******Processing wumingshi2021040501-17-22-30-81******\n"
     ]
    },
    {
     "name": "stderr",
     "output_type": "stream",
     "text": [
      "Traceback (most recent call last):\n",
      "  File \"/tmp/ipykernel_37540/2245311451.py\", line 44, in crop_images\n",
      "    x1, y1, x2, y2 = find_coordinate(*img.shape[0:2], os.path.join(label_path, f'{patient}_{i:04d}.txt'), 's')\n",
      "  File \"/tmp/ipykernel_37540/2245311451.py\", line 7, in find_coordinate\n",
      "    assert aorta == 'j', f'如果只有一个label那么此时应为降主动脉, 但实际为{aorta}：{label_file.split(\"/\")[-1]}'\n",
      "AssertionError: 如果只有一个label那么此时应为降主动脉, 但实际为s：wumingshi2021040501-17-22-30-81_0018.txt\n",
      "Traceback (most recent call last):\n",
      "  File \"/tmp/ipykernel_37540/2245311451.py\", line 44, in crop_images\n",
      "    x1, y1, x2, y2 = find_coordinate(*img.shape[0:2], os.path.join(label_path, f'{patient}_{i:04d}.txt'), 's')\n",
      "  File \"/tmp/ipykernel_37540/2245311451.py\", line 7, in find_coordinate\n",
      "    assert aorta == 'j', f'如果只有一个label那么此时应为降主动脉, 但实际为{aorta}：{label_file.split(\"/\")[-1]}'\n",
      "AssertionError: 如果只有一个label那么此时应为降主动脉, 但实际为s：wumingshi2021040501-17-22-30-81_0019.txt\n"
     ]
    },
    {
     "name": "stdout",
     "output_type": "stream",
     "text": [
      "******Processing wumingshi2021061701-25-28-45-98******\n"
     ]
    },
    {
     "name": "stderr",
     "output_type": "stream",
     "text": [
      "Traceback (most recent call last):\n",
      "  File \"/tmp/ipykernel_37540/2245311451.py\", line 44, in crop_images\n",
      "    x1, y1, x2, y2 = find_coordinate(*img.shape[0:2], os.path.join(label_path, f'{patient}_{i:04d}.txt'), 's')\n",
      "  File \"/tmp/ipykernel_37540/2245311451.py\", line 7, in find_coordinate\n",
      "    assert aorta == 'j', f'如果只有一个label那么此时应为降主动脉, 但实际为{aorta}：{label_file.split(\"/\")[-1]}'\n",
      "AssertionError: 如果只有一个label那么此时应为降主动脉, 但实际为s：wumingshi2021061701-25-28-45-98_0025.txt\n",
      "Traceback (most recent call last):\n",
      "  File \"/tmp/ipykernel_37540/2245311451.py\", line 44, in crop_images\n",
      "    x1, y1, x2, y2 = find_coordinate(*img.shape[0:2], os.path.join(label_path, f'{patient}_{i:04d}.txt'), 's')\n",
      "  File \"/tmp/ipykernel_37540/2245311451.py\", line 7, in find_coordinate\n",
      "    assert aorta == 'j', f'如果只有一个label那么此时应为降主动脉, 但实际为{aorta}：{label_file.split(\"/\")[-1]}'\n",
      "AssertionError: 如果只有一个label那么此时应为降主动脉, 但实际为s：wumingshi2021061701-25-28-45-98_0026.txt\n"
     ]
    },
    {
     "name": "stdout",
     "output_type": "stream",
     "text": [
      "******Processing wumingshi2021080102-38-47-85-156******\n"
     ]
    },
    {
     "name": "stderr",
     "output_type": "stream",
     "text": [
      "Traceback (most recent call last):\n",
      "  File \"/tmp/ipykernel_37540/2245311451.py\", line 44, in crop_images\n",
      "    x1, y1, x2, y2 = find_coordinate(*img.shape[0:2], os.path.join(label_path, f'{patient}_{i:04d}.txt'), 's')\n",
      "  File \"/tmp/ipykernel_37540/2245311451.py\", line 7, in find_coordinate\n",
      "    assert aorta == 'j', f'如果只有一个label那么此时应为降主动脉, 但实际为{aorta}：{label_file.split(\"/\")[-1]}'\n",
      "AssertionError: 如果只有一个label那么此时应为降主动脉, 但实际为s：wumingshi2021080102-38-47-85-156_0046.txt\n"
     ]
    },
    {
     "name": "stdout",
     "output_type": "stream",
     "text": [
      "******Processing wuqinmei-24-32-52-140******\n",
      "******Processing wuruqing-49-60-96-153******\n"
     ]
    },
    {
     "name": "stderr",
     "output_type": "stream",
     "text": [
      "Traceback (most recent call last):\n",
      "  File \"/tmp/ipykernel_37540/2245311451.py\", line 61, in crop_images\n",
      "    x1, y1, x2, y2 = find_coordinate(*img.shape[0:2], os.path.join(label_path, f'{patient}_{i:04d}.txt'), 'j')\n",
      "  File \"/tmp/ipykernel_37540/2245311451.py\", line 3, in find_coordinate\n",
      "    with open(label_file, 'r') as f:\n",
      "FileNotFoundError: [Errno 2] No such file or directory: '/nfs3-p1/zsxm/dataset/aorta_ct_img_label/negative/wuruqing-49-60-96-153/labels/wuruqing-49-60-96-153_0133.txt'\n",
      "Traceback (most recent call last):\n",
      "  File \"/tmp/ipykernel_37540/2245311451.py\", line 44, in crop_images\n",
      "    x1, y1, x2, y2 = find_coordinate(*img.shape[0:2], os.path.join(label_path, f'{patient}_{i:04d}.txt'), 's')\n",
      "  File \"/tmp/ipykernel_37540/2245311451.py\", line 7, in find_coordinate\n",
      "    assert aorta == 'j', f'如果只有一个label那么此时应为降主动脉, 但实际为{aorta}：{label_file.split(\"/\")[-1]}'\n",
      "AssertionError: 如果只有一个label那么此时应为降主动脉, 但实际为s：wutiandi-21-28-54-120_0026.txt\n",
      "Traceback (most recent call last):\n",
      "  File \"/tmp/ipykernel_37540/2245311451.py\", line 44, in crop_images\n",
      "    x1, y1, x2, y2 = find_coordinate(*img.shape[0:2], os.path.join(label_path, f'{patient}_{i:04d}.txt'), 's')\n",
      "  File \"/tmp/ipykernel_37540/2245311451.py\", line 7, in find_coordinate\n",
      "    assert aorta == 'j', f'如果只有一个label那么此时应为降主动脉, 但实际为{aorta}：{label_file.split(\"/\")[-1]}'\n",
      "AssertionError: 如果只有一个label那么此时应为降主动脉, 但实际为s：wutiandi-21-28-54-120_0027.txt\n"
     ]
    },
    {
     "name": "stdout",
     "output_type": "stream",
     "text": [
      "******Processing wutiandi-21-28-54-120******\n",
      "******Processing wutianshun-12-17-26-80******\n"
     ]
    },
    {
     "name": "stderr",
     "output_type": "stream",
     "text": [
      "Traceback (most recent call last):\n",
      "  File \"/tmp/ipykernel_37540/2245311451.py\", line 44, in crop_images\n",
      "    x1, y1, x2, y2 = find_coordinate(*img.shape[0:2], os.path.join(label_path, f'{patient}_{i:04d}.txt'), 's')\n",
      "  File \"/tmp/ipykernel_37540/2245311451.py\", line 7, in find_coordinate\n",
      "    assert aorta == 'j', f'如果只有一个label那么此时应为降主动脉, 但实际为{aorta}：{label_file.split(\"/\")[-1]}'\n",
      "AssertionError: 如果只有一个label那么此时应为降主动脉, 但实际为s：wutianshun-12-17-26-80_0013.txt\n",
      "Traceback (most recent call last):\n",
      "  File \"/tmp/ipykernel_37540/2245311451.py\", line 44, in crop_images\n",
      "    x1, y1, x2, y2 = find_coordinate(*img.shape[0:2], os.path.join(label_path, f'{patient}_{i:04d}.txt'), 's')\n",
      "  File \"/tmp/ipykernel_37540/2245311451.py\", line 7, in find_coordinate\n",
      "    assert aorta == 'j', f'如果只有一个label那么此时应为降主动脉, 但实际为{aorta}：{label_file.split(\"/\")[-1]}'\n",
      "AssertionError: 如果只有一个label那么此时应为降主动脉, 但实际为s：wutianshun-12-17-26-80_0014.txt\n",
      "Traceback (most recent call last):\n",
      "  File \"/tmp/ipykernel_37540/2245311451.py\", line 44, in crop_images\n",
      "    x1, y1, x2, y2 = find_coordinate(*img.shape[0:2], os.path.join(label_path, f'{patient}_{i:04d}.txt'), 's')\n",
      "  File \"/tmp/ipykernel_37540/2245311451.py\", line 7, in find_coordinate\n",
      "    assert aorta == 'j', f'如果只有一个label那么此时应为降主动脉, 但实际为{aorta}：{label_file.split(\"/\")[-1]}'\n",
      "AssertionError: 如果只有一个label那么此时应为降主动脉, 但实际为s：wutianshun-12-17-26-80_0015.txt\n"
     ]
    },
    {
     "name": "stdout",
     "output_type": "stream",
     "text": [
      "******Processing wuyanxian-17-21-36-83******\n"
     ]
    },
    {
     "name": "stderr",
     "output_type": "stream",
     "text": [
      "Traceback (most recent call last):\n",
      "  File \"/tmp/ipykernel_37540/2245311451.py\", line 44, in crop_images\n",
      "    x1, y1, x2, y2 = find_coordinate(*img.shape[0:2], os.path.join(label_path, f'{patient}_{i:04d}.txt'), 's')\n",
      "  File \"/tmp/ipykernel_37540/2245311451.py\", line 7, in find_coordinate\n",
      "    assert aorta == 'j', f'如果只有一个label那么此时应为降主动脉, 但实际为{aorta}：{label_file.split(\"/\")[-1]}'\n",
      "AssertionError: 如果只有一个label那么此时应为降主动脉, 但实际为s：wuyanxian-17-21-36-83_0018.txt\n",
      "Traceback (most recent call last):\n",
      "  File \"/tmp/ipykernel_37540/2245311451.py\", line 44, in crop_images\n",
      "    x1, y1, x2, y2 = find_coordinate(*img.shape[0:2], os.path.join(label_path, f'{patient}_{i:04d}.txt'), 's')\n",
      "  File \"/tmp/ipykernel_37540/2245311451.py\", line 7, in find_coordinate\n",
      "    assert aorta == 'j', f'如果只有一个label那么此时应为降主动脉, 但实际为{aorta}：{label_file.split(\"/\")[-1]}'\n",
      "AssertionError: 如果只有一个label那么此时应为降主动脉, 但实际为s：wuyanxian-17-21-36-83_0019.txt\n",
      "Traceback (most recent call last):\n",
      "  File \"/tmp/ipykernel_37540/2245311451.py\", line 44, in crop_images\n",
      "    x1, y1, x2, y2 = find_coordinate(*img.shape[0:2], os.path.join(label_path, f'{patient}_{i:04d}.txt'), 's')\n",
      "  File \"/tmp/ipykernel_37540/2245311451.py\", line 7, in find_coordinate\n",
      "    assert aorta == 'j', f'如果只有一个label那么此时应为降主动脉, 但实际为{aorta}：{label_file.split(\"/\")[-1]}'\n",
      "AssertionError: 如果只有一个label那么此时应为降主动脉, 但实际为s：wuyanxian-17-21-36-83_0020.txt\n"
     ]
    },
    {
     "name": "stdout",
     "output_type": "stream",
     "text": [
      "******Processing wuyunfang-20-25-34-85******\n"
     ]
    },
    {
     "name": "stderr",
     "output_type": "stream",
     "text": [
      "Traceback (most recent call last):\n",
      "  File \"/tmp/ipykernel_37540/2245311451.py\", line 44, in crop_images\n",
      "    x1, y1, x2, y2 = find_coordinate(*img.shape[0:2], os.path.join(label_path, f'{patient}_{i:04d}.txt'), 's')\n",
      "  File \"/tmp/ipykernel_37540/2245311451.py\", line 7, in find_coordinate\n",
      "    assert aorta == 'j', f'如果只有一个label那么此时应为降主动脉, 但实际为{aorta}：{label_file.split(\"/\")[-1]}'\n",
      "AssertionError: 如果只有一个label那么此时应为降主动脉, 但实际为s：wuyunfang-20-25-34-85_0021.txt\n",
      "Traceback (most recent call last):\n",
      "  File \"/tmp/ipykernel_37540/2245311451.py\", line 44, in crop_images\n",
      "    x1, y1, x2, y2 = find_coordinate(*img.shape[0:2], os.path.join(label_path, f'{patient}_{i:04d}.txt'), 's')\n",
      "  File \"/tmp/ipykernel_37540/2245311451.py\", line 7, in find_coordinate\n",
      "    assert aorta == 'j', f'如果只有一个label那么此时应为降主动脉, 但实际为{aorta}：{label_file.split(\"/\")[-1]}'\n",
      "AssertionError: 如果只有一个label那么此时应为降主动脉, 但实际为s：wuyunfang-20-25-34-85_0022.txt\n"
     ]
    },
    {
     "name": "stdout",
     "output_type": "stream",
     "text": [
      "******Processing wuzili-13-19-28-72******\n"
     ]
    },
    {
     "name": "stderr",
     "output_type": "stream",
     "text": [
      "Traceback (most recent call last):\n",
      "  File \"/tmp/ipykernel_37540/2245311451.py\", line 44, in crop_images\n",
      "    x1, y1, x2, y2 = find_coordinate(*img.shape[0:2], os.path.join(label_path, f'{patient}_{i:04d}.txt'), 's')\n",
      "  File \"/tmp/ipykernel_37540/2245311451.py\", line 7, in find_coordinate\n",
      "    assert aorta == 'j', f'如果只有一个label那么此时应为降主动脉, 但实际为{aorta}：{label_file.split(\"/\")[-1]}'\n",
      "AssertionError: 如果只有一个label那么此时应为降主动脉, 但实际为s：wuzili-13-19-28-72_0015.txt\n"
     ]
    },
    {
     "name": "stdout",
     "output_type": "stream",
     "text": [
      "******Processing wuzongtang-29-36-76-141******\n"
     ]
    },
    {
     "name": "stderr",
     "output_type": "stream",
     "text": [
      "Traceback (most recent call last):\n",
      "  File \"/tmp/ipykernel_37540/2245311451.py\", line 61, in crop_images\n",
      "    x1, y1, x2, y2 = find_coordinate(*img.shape[0:2], os.path.join(label_path, f'{patient}_{i:04d}.txt'), 'j')\n",
      "  File \"/tmp/ipykernel_37540/2245311451.py\", line 3, in find_coordinate\n",
      "    with open(label_file, 'r') as f:\n",
      "FileNotFoundError: [Errno 2] No such file or directory: '/nfs3-p1/zsxm/dataset/aorta_ct_img_label/negative/wuzongtang-29-36-76-141/labels/wuzongtang-29-36-76-141_0120.txt'\n",
      "Traceback (most recent call last):\n",
      "  File \"/tmp/ipykernel_37540/2245311451.py\", line 61, in crop_images\n",
      "    x1, y1, x2, y2 = find_coordinate(*img.shape[0:2], os.path.join(label_path, f'{patient}_{i:04d}.txt'), 'j')\n",
      "  File \"/tmp/ipykernel_37540/2245311451.py\", line 3, in find_coordinate\n",
      "    with open(label_file, 'r') as f:\n",
      "FileNotFoundError: [Errno 2] No such file or directory: '/nfs3-p1/zsxm/dataset/aorta_ct_img_label/negative/wuzongtang-29-36-76-141/labels/wuzongtang-29-36-76-141_0121.txt'\n"
     ]
    },
    {
     "name": "stdout",
     "output_type": "stream",
     "text": [
      "******Processing xiabao-33-42-78-196******\n",
      "******Processing xiajinying-22-32-46-134******\n",
      "******Processing xiangzhaochong-15-20-31-78******\n"
     ]
    },
    {
     "name": "stderr",
     "output_type": "stream",
     "text": [
      "Traceback (most recent call last):\n",
      "  File \"/tmp/ipykernel_37540/2245311451.py\", line 44, in crop_images\n",
      "    x1, y1, x2, y2 = find_coordinate(*img.shape[0:2], os.path.join(label_path, f'{patient}_{i:04d}.txt'), 's')\n",
      "  File \"/tmp/ipykernel_37540/2245311451.py\", line 7, in find_coordinate\n",
      "    assert aorta == 'j', f'如果只有一个label那么此时应为降主动脉, 但实际为{aorta}：{label_file.split(\"/\")[-1]}'\n",
      "AssertionError: 如果只有一个label那么此时应为降主动脉, 但实际为s：xiangzhaochong-15-20-31-78_0017.txt\n"
     ]
    },
    {
     "name": "stdout",
     "output_type": "stream",
     "text": [
      "******Processing xiaofuxin-25-33-64-153******\n",
      "******Processing xiasuifu-12-18-30-84******\n"
     ]
    },
    {
     "name": "stderr",
     "output_type": "stream",
     "text": [
      "Traceback (most recent call last):\n",
      "  File \"/tmp/ipykernel_37540/2245311451.py\", line 44, in crop_images\n",
      "    x1, y1, x2, y2 = find_coordinate(*img.shape[0:2], os.path.join(label_path, f'{patient}_{i:04d}.txt'), 's')\n",
      "  File \"/tmp/ipykernel_37540/2245311451.py\", line 7, in find_coordinate\n",
      "    assert aorta == 'j', f'如果只有一个label那么此时应为降主动脉, 但实际为{aorta}：{label_file.split(\"/\")[-1]}'\n",
      "AssertionError: 如果只有一个label那么此时应为降主动脉, 但实际为s：xiasuifu-12-18-30-84_0015.txt\n",
      "Traceback (most recent call last):\n",
      "  File \"/tmp/ipykernel_37540/2245311451.py\", line 44, in crop_images\n",
      "    x1, y1, x2, y2 = find_coordinate(*img.shape[0:2], os.path.join(label_path, f'{patient}_{i:04d}.txt'), 's')\n",
      "  File \"/tmp/ipykernel_37540/2245311451.py\", line 7, in find_coordinate\n",
      "    assert aorta == 'j', f'如果只有一个label那么此时应为降主动脉, 但实际为{aorta}：{label_file.split(\"/\")[-1]}'\n",
      "AssertionError: 如果只有一个label那么此时应为降主动脉, 但实际为s：xiasuifu-12-18-30-84_0016.txt\n",
      "Traceback (most recent call last):\n",
      "  File \"/tmp/ipykernel_37540/2245311451.py\", line 44, in crop_images\n",
      "    x1, y1, x2, y2 = find_coordinate(*img.shape[0:2], os.path.join(label_path, f'{patient}_{i:04d}.txt'), 's')\n",
      "  File \"/tmp/ipykernel_37540/2245311451.py\", line 7, in find_coordinate\n",
      "    assert aorta == 'j', f'如果只有一个label那么此时应为降主动脉, 但实际为{aorta}：{label_file.split(\"/\")[-1]}'\n",
      "AssertionError: 如果只有一个label那么此时应为降主动脉, 但实际为s：xiasuifu-12-18-30-84_0029.txt\n"
     ]
    },
    {
     "name": "stdout",
     "output_type": "stream",
     "text": [
      "******Processing xiaxianlin-5-9-15-71******\n"
     ]
    },
    {
     "name": "stderr",
     "output_type": "stream",
     "text": [
      "Traceback (most recent call last):\n",
      "  File \"/tmp/ipykernel_37540/2245311451.py\", line 44, in crop_images\n",
      "    x1, y1, x2, y2 = find_coordinate(*img.shape[0:2], os.path.join(label_path, f'{patient}_{i:04d}.txt'), 's')\n",
      "  File \"/tmp/ipykernel_37540/2245311451.py\", line 7, in find_coordinate\n",
      "    assert aorta == 'j', f'如果只有一个label那么此时应为降主动脉, 但实际为{aorta}：{label_file.split(\"/\")[-1]}'\n",
      "AssertionError: 如果只有一个label那么此时应为降主动脉, 但实际为s：xiaxianlin-5-9-15-71_0005.txt\n",
      "Traceback (most recent call last):\n",
      "  File \"/tmp/ipykernel_37540/2245311451.py\", line 44, in crop_images\n",
      "    x1, y1, x2, y2 = find_coordinate(*img.shape[0:2], os.path.join(label_path, f'{patient}_{i:04d}.txt'), 's')\n",
      "  File \"/tmp/ipykernel_37540/2245311451.py\", line 7, in find_coordinate\n",
      "    assert aorta == 'j', f'如果只有一个label那么此时应为降主动脉, 但实际为{aorta}：{label_file.split(\"/\")[-1]}'\n",
      "AssertionError: 如果只有一个label那么此时应为降主动脉, 但实际为s：xiaxianlin-5-9-15-71_0006.txt\n"
     ]
    },
    {
     "name": "stdout",
     "output_type": "stream",
     "text": [
      "******Processing xiaxinghua-17-22-33-89******\n"
     ]
    },
    {
     "name": "stderr",
     "output_type": "stream",
     "text": [
      "Traceback (most recent call last):\n",
      "  File \"/tmp/ipykernel_37540/2245311451.py\", line 44, in crop_images\n",
      "    x1, y1, x2, y2 = find_coordinate(*img.shape[0:2], os.path.join(label_path, f'{patient}_{i:04d}.txt'), 's')\n",
      "  File \"/tmp/ipykernel_37540/2245311451.py\", line 7, in find_coordinate\n",
      "    assert aorta == 'j', f'如果只有一个label那么此时应为降主动脉, 但实际为{aorta}：{label_file.split(\"/\")[-1]}'\n",
      "AssertionError: 如果只有一个label那么此时应为降主动脉, 但实际为s：xiaxinghua-17-22-33-89_0019.txt\n"
     ]
    },
    {
     "name": "stdout",
     "output_type": "stream",
     "text": [
      "******Processing xiegenjun-21-26-34-93******\n"
     ]
    },
    {
     "name": "stderr",
     "output_type": "stream",
     "text": [
      "Traceback (most recent call last):\n",
      "  File \"/tmp/ipykernel_37540/2245311451.py\", line 44, in crop_images\n",
      "    x1, y1, x2, y2 = find_coordinate(*img.shape[0:2], os.path.join(label_path, f'{patient}_{i:04d}.txt'), 's')\n",
      "  File \"/tmp/ipykernel_37540/2245311451.py\", line 7, in find_coordinate\n",
      "    assert aorta == 'j', f'如果只有一个label那么此时应为降主动脉, 但实际为{aorta}：{label_file.split(\"/\")[-1]}'\n",
      "AssertionError: 如果只有一个label那么此时应为降主动脉, 但实际为s：xiegenjun-21-26-34-93_0022.txt\n",
      "Traceback (most recent call last):\n",
      "  File \"/tmp/ipykernel_37540/2245311451.py\", line 44, in crop_images\n",
      "    x1, y1, x2, y2 = find_coordinate(*img.shape[0:2], os.path.join(label_path, f'{patient}_{i:04d}.txt'), 's')\n",
      "  File \"/tmp/ipykernel_37540/2245311451.py\", line 7, in find_coordinate\n",
      "    assert aorta == 'j', f'如果只有一个label那么此时应为降主动脉, 但实际为{aorta}：{label_file.split(\"/\")[-1]}'\n",
      "AssertionError: 如果只有一个label那么此时应为降主动脉, 但实际为s：xiegenjun-21-26-34-93_0023.txt\n"
     ]
    },
    {
     "name": "stdout",
     "output_type": "stream",
     "text": [
      "******Processing xiemeiying-21-29-41-127******\n",
      "******Processing xieshangyong-14-20-27-87******\n"
     ]
    },
    {
     "name": "stderr",
     "output_type": "stream",
     "text": [
      "Traceback (most recent call last):\n",
      "  File \"/tmp/ipykernel_37540/2245311451.py\", line 44, in crop_images\n",
      "    x1, y1, x2, y2 = find_coordinate(*img.shape[0:2], os.path.join(label_path, f'{patient}_{i:04d}.txt'), 's')\n",
      "  File \"/tmp/ipykernel_37540/2245311451.py\", line 7, in find_coordinate\n",
      "    assert aorta == 'j', f'如果只有一个label那么此时应为降主动脉, 但实际为{aorta}：{label_file.split(\"/\")[-1]}'\n",
      "AssertionError: 如果只有一个label那么此时应为降主动脉, 但实际为s：xieshangyong-14-20-27-87_0016.txt\n",
      "Traceback (most recent call last):\n",
      "  File \"/tmp/ipykernel_37540/2245311451.py\", line 44, in crop_images\n",
      "    x1, y1, x2, y2 = find_coordinate(*img.shape[0:2], os.path.join(label_path, f'{patient}_{i:04d}.txt'), 's')\n",
      "  File \"/tmp/ipykernel_37540/2245311451.py\", line 7, in find_coordinate\n",
      "    assert aorta == 'j', f'如果只有一个label那么此时应为降主动脉, 但实际为{aorta}：{label_file.split(\"/\")[-1]}'\n",
      "AssertionError: 如果只有一个label那么此时应为降主动脉, 但实际为s：xieshangyong-14-20-27-87_0017.txt\n"
     ]
    },
    {
     "name": "stdout",
     "output_type": "stream",
     "text": [
      "******Processing xiezhaoqin-17-21-29-81******\n"
     ]
    },
    {
     "name": "stderr",
     "output_type": "stream",
     "text": [
      "Traceback (most recent call last):\n",
      "  File \"/tmp/ipykernel_37540/2245311451.py\", line 44, in crop_images\n",
      "    x1, y1, x2, y2 = find_coordinate(*img.shape[0:2], os.path.join(label_path, f'{patient}_{i:04d}.txt'), 's')\n",
      "  File \"/tmp/ipykernel_37540/2245311451.py\", line 7, in find_coordinate\n",
      "    assert aorta == 'j', f'如果只有一个label那么此时应为降主动脉, 但实际为{aorta}：{label_file.split(\"/\")[-1]}'\n",
      "AssertionError: 如果只有一个label那么此时应为降主动脉, 但实际为s：xiezhaoqin-17-21-29-81_0017.txt\n",
      "Traceback (most recent call last):\n",
      "  File \"/tmp/ipykernel_37540/2245311451.py\", line 44, in crop_images\n",
      "    x1, y1, x2, y2 = find_coordinate(*img.shape[0:2], os.path.join(label_path, f'{patient}_{i:04d}.txt'), 's')\n",
      "  File \"/tmp/ipykernel_37540/2245311451.py\", line 7, in find_coordinate\n",
      "    assert aorta == 'j', f'如果只有一个label那么此时应为降主动脉, 但实际为{aorta}：{label_file.split(\"/\")[-1]}'\n",
      "AssertionError: 如果只有一个label那么此时应为降主动脉, 但实际为s：xiezhaoqin-17-21-29-81_0018.txt\n",
      "Traceback (most recent call last):\n",
      "  File \"/tmp/ipykernel_37540/2245311451.py\", line 44, in crop_images\n",
      "    x1, y1, x2, y2 = find_coordinate(*img.shape[0:2], os.path.join(label_path, f'{patient}_{i:04d}.txt'), 's')\n",
      "  File \"/tmp/ipykernel_37540/2245311451.py\", line 7, in find_coordinate\n",
      "    assert aorta == 'j', f'如果只有一个label那么此时应为降主动脉, 但实际为{aorta}：{label_file.split(\"/\")[-1]}'\n",
      "AssertionError: 如果只有一个label那么此时应为降主动脉, 但实际为s：xiezhaoqin-17-21-29-81_0019.txt\n"
     ]
    },
    {
     "name": "stdout",
     "output_type": "stream",
     "text": [
      "******Processing xinyongsheng-13-18-26-86******\n"
     ]
    },
    {
     "name": "stderr",
     "output_type": "stream",
     "text": [
      "Traceback (most recent call last):\n",
      "  File \"/tmp/ipykernel_37540/2245311451.py\", line 44, in crop_images\n",
      "    x1, y1, x2, y2 = find_coordinate(*img.shape[0:2], os.path.join(label_path, f'{patient}_{i:04d}.txt'), 's')\n",
      "  File \"/tmp/ipykernel_37540/2245311451.py\", line 7, in find_coordinate\n",
      "    assert aorta == 'j', f'如果只有一个label那么此时应为降主动脉, 但实际为{aorta}：{label_file.split(\"/\")[-1]}'\n",
      "AssertionError: 如果只有一个label那么此时应为降主动脉, 但实际为s：xinyongsheng-13-18-26-86_0014.txt\n",
      "Traceback (most recent call last):\n",
      "  File \"/tmp/ipykernel_37540/2245311451.py\", line 44, in crop_images\n",
      "    x1, y1, x2, y2 = find_coordinate(*img.shape[0:2], os.path.join(label_path, f'{patient}_{i:04d}.txt'), 's')\n",
      "  File \"/tmp/ipykernel_37540/2245311451.py\", line 7, in find_coordinate\n",
      "    assert aorta == 'j', f'如果只有一个label那么此时应为降主动脉, 但实际为{aorta}：{label_file.split(\"/\")[-1]}'\n",
      "AssertionError: 如果只有一个label那么此时应为降主动脉, 但实际为s：xinyongsheng-13-18-26-86_0015.txt\n",
      "Traceback (most recent call last):\n",
      "  File \"/tmp/ipykernel_37540/2245311451.py\", line 44, in crop_images\n",
      "    x1, y1, x2, y2 = find_coordinate(*img.shape[0:2], os.path.join(label_path, f'{patient}_{i:04d}.txt'), 's')\n",
      "  File \"/tmp/ipykernel_37540/2245311451.py\", line 7, in find_coordinate\n",
      "    assert aorta == 'j', f'如果只有一个label那么此时应为降主动脉, 但实际为{aorta}：{label_file.split(\"/\")[-1]}'\n",
      "AssertionError: 如果只有一个label那么此时应为降主动脉, 但实际为s：xinyongsheng-13-18-26-86_0016.txt\n"
     ]
    },
    {
     "name": "stdout",
     "output_type": "stream",
     "text": [
      "******Processing xiyongmin-25-35-62-162******\n"
     ]
    },
    {
     "name": "stderr",
     "output_type": "stream",
     "text": [
      "Traceback (most recent call last):\n",
      "  File \"/tmp/ipykernel_37540/2245311451.py\", line 44, in crop_images\n",
      "    x1, y1, x2, y2 = find_coordinate(*img.shape[0:2], os.path.join(label_path, f'{patient}_{i:04d}.txt'), 's')\n",
      "  File \"/tmp/ipykernel_37540/2245311451.py\", line 7, in find_coordinate\n",
      "    assert aorta == 'j', f'如果只有一个label那么此时应为降主动脉, 但实际为{aorta}：{label_file.split(\"/\")[-1]}'\n",
      "AssertionError: 如果只有一个label那么此时应为降主动脉, 但实际为s：xiyongmin-25-35-62-162_0033.txt\n"
     ]
    },
    {
     "name": "stdout",
     "output_type": "stream",
     "text": [
      "******Processing xucaizhen-27-37-51-131******\n"
     ]
    },
    {
     "name": "stderr",
     "output_type": "stream",
     "text": [
      "Traceback (most recent call last):\n",
      "  File \"/tmp/ipykernel_37540/2245311451.py\", line 44, in crop_images\n",
      "    x1, y1, x2, y2 = find_coordinate(*img.shape[0:2], os.path.join(label_path, f'{patient}_{i:04d}.txt'), 's')\n",
      "  File \"/tmp/ipykernel_37540/2245311451.py\", line 7, in find_coordinate\n",
      "    assert aorta == 'j', f'如果只有一个label那么此时应为降主动脉, 但实际为{aorta}：{label_file.split(\"/\")[-1]}'\n",
      "AssertionError: 如果只有一个label那么此时应为降主动脉, 但实际为s：xucaizhen-27-37-51-131_0034.txt\n"
     ]
    },
    {
     "name": "stdout",
     "output_type": "stream",
     "text": [
      "******Processing xudingguo-21-25-38-89******\n"
     ]
    },
    {
     "name": "stderr",
     "output_type": "stream",
     "text": [
      "Traceback (most recent call last):\n",
      "  File \"/tmp/ipykernel_37540/2245311451.py\", line 44, in crop_images\n",
      "    x1, y1, x2, y2 = find_coordinate(*img.shape[0:2], os.path.join(label_path, f'{patient}_{i:04d}.txt'), 's')\n",
      "  File \"/tmp/ipykernel_37540/2245311451.py\", line 7, in find_coordinate\n",
      "    assert aorta == 'j', f'如果只有一个label那么此时应为降主动脉, 但实际为{aorta}：{label_file.split(\"/\")[-1]}'\n",
      "AssertionError: 如果只有一个label那么此时应为降主动脉, 但实际为s：xudingguo-21-25-38-89_0022.txt\n",
      "Traceback (most recent call last):\n",
      "  File \"/tmp/ipykernel_37540/2245311451.py\", line 44, in crop_images\n",
      "    x1, y1, x2, y2 = find_coordinate(*img.shape[0:2], os.path.join(label_path, f'{patient}_{i:04d}.txt'), 's')\n",
      "  File \"/tmp/ipykernel_37540/2245311451.py\", line 7, in find_coordinate\n",
      "    assert aorta == 'j', f'如果只有一个label那么此时应为降主动脉, 但实际为{aorta}：{label_file.split(\"/\")[-1]}'\n",
      "AssertionError: 如果只有一个label那么此时应为降主动脉, 但实际为s：xudingguo-21-25-38-89_0023.txt\n"
     ]
    },
    {
     "name": "stdout",
     "output_type": "stream",
     "text": [
      "******Processing xuguangtai-16-21-36-91******\n"
     ]
    },
    {
     "name": "stderr",
     "output_type": "stream",
     "text": [
      "Traceback (most recent call last):\n",
      "  File \"/tmp/ipykernel_37540/2245311451.py\", line 44, in crop_images\n",
      "    x1, y1, x2, y2 = find_coordinate(*img.shape[0:2], os.path.join(label_path, f'{patient}_{i:04d}.txt'), 's')\n",
      "  File \"/tmp/ipykernel_37540/2245311451.py\", line 7, in find_coordinate\n",
      "    assert aorta == 'j', f'如果只有一个label那么此时应为降主动脉, 但实际为{aorta}：{label_file.split(\"/\")[-1]}'\n",
      "AssertionError: 如果只有一个label那么此时应为降主动脉, 但实际为s：xuguangtai-16-21-36-91_0018.txt\n"
     ]
    },
    {
     "name": "stdout",
     "output_type": "stream",
     "text": [
      "******Processing xurihua-26-34-61-145******\n",
      "******Processing xushengwu-31-41-60-150******\n"
     ]
    },
    {
     "name": "stderr",
     "output_type": "stream",
     "text": [
      "Traceback (most recent call last):\n",
      "  File \"/tmp/ipykernel_37540/2245311451.py\", line 44, in crop_images\n",
      "    x1, y1, x2, y2 = find_coordinate(*img.shape[0:2], os.path.join(label_path, f'{patient}_{i:04d}.txt'), 's')\n",
      "  File \"/tmp/ipykernel_37540/2245311451.py\", line 7, in find_coordinate\n",
      "    assert aorta == 'j', f'如果只有一个label那么此时应为降主动脉, 但实际为{aorta}：{label_file.split(\"/\")[-1]}'\n",
      "AssertionError: 如果只有一个label那么此时应为降主动脉, 但实际为s：xushengwu-31-41-60-150_0038.txt\n"
     ]
    },
    {
     "name": "stdout",
     "output_type": "stream",
     "text": [
      "******Processing xuxuee-22-30-45-123******\n"
     ]
    },
    {
     "name": "stderr",
     "output_type": "stream",
     "text": [
      "Traceback (most recent call last):\n",
      "  File \"/tmp/ipykernel_37540/2245311451.py\", line 44, in crop_images\n",
      "    x1, y1, x2, y2 = find_coordinate(*img.shape[0:2], os.path.join(label_path, f'{patient}_{i:04d}.txt'), 's')\n",
      "  File \"/tmp/ipykernel_37540/2245311451.py\", line 7, in find_coordinate\n",
      "    assert aorta == 'j', f'如果只有一个label那么此时应为降主动脉, 但实际为{aorta}：{label_file.split(\"/\")[-1]}'\n",
      "AssertionError: 如果只有一个label那么此时应为降主动脉, 但实际为s：xuxuee-22-30-45-123_0027.txt\n"
     ]
    },
    {
     "name": "stdout",
     "output_type": "stream",
     "text": [
      "******Processing xuyizhen-22-32-47-149******\n",
      "******Processing xuyuetian-22-30-53-132******\n"
     ]
    },
    {
     "name": "stderr",
     "output_type": "stream",
     "text": [
      "Traceback (most recent call last):\n",
      "  File \"/tmp/ipykernel_37540/2245311451.py\", line 44, in crop_images\n",
      "    x1, y1, x2, y2 = find_coordinate(*img.shape[0:2], os.path.join(label_path, f'{patient}_{i:04d}.txt'), 's')\n",
      "  File \"/tmp/ipykernel_37540/2245311451.py\", line 7, in find_coordinate\n",
      "    assert aorta == 'j', f'如果只有一个label那么此时应为降主动脉, 但实际为{aorta}：{label_file.split(\"/\")[-1]}'\n",
      "AssertionError: 如果只有一个label那么此时应为降主动脉, 但实际为s：xuyuetian-22-30-53-132_0028.txt\n"
     ]
    },
    {
     "name": "stdout",
     "output_type": "stream",
     "text": [
      "******Processing yananfen-29-39-56-146******\n",
      "******Processing yanchunhong-36-45-64-155******\n"
     ]
    },
    {
     "name": "stderr",
     "output_type": "stream",
     "text": [
      "Traceback (most recent call last):\n",
      "  File \"/tmp/ipykernel_37540/2245311451.py\", line 44, in crop_images\n",
      "    x1, y1, x2, y2 = find_coordinate(*img.shape[0:2], os.path.join(label_path, f'{patient}_{i:04d}.txt'), 's')\n",
      "  File \"/tmp/ipykernel_37540/2245311451.py\", line 7, in find_coordinate\n",
      "    assert aorta == 'j', f'如果只有一个label那么此时应为降主动脉, 但实际为{aorta}：{label_file.split(\"/\")[-1]}'\n",
      "AssertionError: 如果只有一个label那么此时应为降主动脉, 但实际为s：yanchunhong-36-45-64-155_0042.txt\n"
     ]
    },
    {
     "name": "stdout",
     "output_type": "stream",
     "text": [
      "******Processing yangjinnan-31-38-67-146******\n"
     ]
    },
    {
     "name": "stderr",
     "output_type": "stream",
     "text": [
      "Traceback (most recent call last):\n",
      "  File \"/tmp/ipykernel_37540/2245311451.py\", line 44, in crop_images\n",
      "    x1, y1, x2, y2 = find_coordinate(*img.shape[0:2], os.path.join(label_path, f'{patient}_{i:04d}.txt'), 's')\n",
      "  File \"/tmp/ipykernel_37540/2245311451.py\", line 7, in find_coordinate\n",
      "    assert aorta == 'j', f'如果只有一个label那么此时应为降主动脉, 但实际为{aorta}：{label_file.split(\"/\")[-1]}'\n",
      "AssertionError: 如果只有一个label那么此时应为降主动脉, 但实际为s：yangjinnan-31-38-67-146_0036.txt\n"
     ]
    },
    {
     "name": "stdout",
     "output_type": "stream",
     "text": [
      "******Processing yangqingyue-31-39-50-128******\n"
     ]
    },
    {
     "name": "stderr",
     "output_type": "stream",
     "text": [
      "Traceback (most recent call last):\n",
      "  File \"/tmp/ipykernel_37540/2245311451.py\", line 44, in crop_images\n",
      "    x1, y1, x2, y2 = find_coordinate(*img.shape[0:2], os.path.join(label_path, f'{patient}_{i:04d}.txt'), 's')\n",
      "  File \"/tmp/ipykernel_37540/2245311451.py\", line 7, in find_coordinate\n",
      "    assert aorta == 'j', f'如果只有一个label那么此时应为降主动脉, 但实际为{aorta}：{label_file.split(\"/\")[-1]}'\n",
      "AssertionError: 如果只有一个label那么此时应为降主动脉, 但实际为s：yangqingyue-31-39-50-128_0036.txt\n",
      "Traceback (most recent call last):\n",
      "  File \"/tmp/ipykernel_37540/2245311451.py\", line 61, in crop_images\n",
      "    x1, y1, x2, y2 = find_coordinate(*img.shape[0:2], os.path.join(label_path, f'{patient}_{i:04d}.txt'), 'j')\n",
      "  File \"/tmp/ipykernel_37540/2245311451.py\", line 3, in find_coordinate\n",
      "    with open(label_file, 'r') as f:\n",
      "FileNotFoundError: [Errno 2] No such file or directory: '/nfs3-p1/zsxm/dataset/aorta_ct_img_label/negative/yangqingyue-31-39-50-128/labels/yangqingyue-31-39-50-128_0102.txt'\n",
      "Traceback (most recent call last):\n",
      "  File \"/tmp/ipykernel_37540/2245311451.py\", line 44, in crop_images\n",
      "    x1, y1, x2, y2 = find_coordinate(*img.shape[0:2], os.path.join(label_path, f'{patient}_{i:04d}.txt'), 's')\n",
      "  File \"/tmp/ipykernel_37540/2245311451.py\", line 7, in find_coordinate\n",
      "    assert aorta == 'j', f'如果只有一个label那么此时应为降主动脉, 但实际为{aorta}：{label_file.split(\"/\")[-1]}'\n",
      "AssertionError: 如果只有一个label那么此时应为降主动脉, 但实际为s：yangshujuan-30-39-62-160_0037.txt\n"
     ]
    },
    {
     "name": "stdout",
     "output_type": "stream",
     "text": [
      "******Processing yangshujuan-30-39-62-160******\n",
      "******Processing yangtangyong-15-19-35-85******\n"
     ]
    },
    {
     "name": "stderr",
     "output_type": "stream",
     "text": [
      "Traceback (most recent call last):\n",
      "  File \"/tmp/ipykernel_37540/2245311451.py\", line 44, in crop_images\n",
      "    x1, y1, x2, y2 = find_coordinate(*img.shape[0:2], os.path.join(label_path, f'{patient}_{i:04d}.txt'), 's')\n",
      "  File \"/tmp/ipykernel_37540/2245311451.py\", line 7, in find_coordinate\n",
      "    assert aorta == 'j', f'如果只有一个label那么此时应为降主动脉, 但实际为{aorta}：{label_file.split(\"/\")[-1]}'\n",
      "AssertionError: 如果只有一个label那么此时应为降主动脉, 但实际为s：yangtangyong-15-19-35-85_0016.txt\n",
      "Traceback (most recent call last):\n",
      "  File \"/tmp/ipykernel_37540/2245311451.py\", line 44, in crop_images\n",
      "    x1, y1, x2, y2 = find_coordinate(*img.shape[0:2], os.path.join(label_path, f'{patient}_{i:04d}.txt'), 's')\n",
      "  File \"/tmp/ipykernel_37540/2245311451.py\", line 7, in find_coordinate\n",
      "    assert aorta == 'j', f'如果只有一个label那么此时应为降主动脉, 但实际为{aorta}：{label_file.split(\"/\")[-1]}'\n",
      "AssertionError: 如果只有一个label那么此时应为降主动脉, 但实际为s：yangtangyong-15-19-35-85_0017.txt\n"
     ]
    },
    {
     "name": "stdout",
     "output_type": "stream",
     "text": [
      "******Processing yangxiaohui-20-28-39-125******\n"
     ]
    },
    {
     "name": "stderr",
     "output_type": "stream",
     "text": [
      "Traceback (most recent call last):\n",
      "  File \"/tmp/ipykernel_37540/2245311451.py\", line 44, in crop_images\n",
      "    x1, y1, x2, y2 = find_coordinate(*img.shape[0:2], os.path.join(label_path, f'{patient}_{i:04d}.txt'), 's')\n",
      "  File \"/tmp/ipykernel_37540/2245311451.py\", line 7, in find_coordinate\n",
      "    assert aorta == 'j', f'如果只有一个label那么此时应为降主动脉, 但实际为{aorta}：{label_file.split(\"/\")[-1]}'\n",
      "AssertionError: 如果只有一个label那么此时应为降主动脉, 但实际为s：yangxiaohui-20-28-39-125_0025.txt\n"
     ]
    },
    {
     "name": "stdout",
     "output_type": "stream",
     "text": [
      "******Processing yangyuqi-34-44-60-157******\n"
     ]
    },
    {
     "name": "stderr",
     "output_type": "stream",
     "text": [
      "Traceback (most recent call last):\n",
      "  File \"/tmp/ipykernel_37540/2245311451.py\", line 44, in crop_images\n",
      "    x1, y1, x2, y2 = find_coordinate(*img.shape[0:2], os.path.join(label_path, f'{patient}_{i:04d}.txt'), 's')\n",
      "  File \"/tmp/ipykernel_37540/2245311451.py\", line 7, in find_coordinate\n",
      "    assert aorta == 'j', f'如果只有一个label那么此时应为降主动脉, 但实际为{aorta}：{label_file.split(\"/\")[-1]}'\n",
      "AssertionError: 如果只有一个label那么此时应为降主动脉, 但实际为s：yangyuqi-34-44-60-157_0041.txt\n"
     ]
    },
    {
     "name": "stdout",
     "output_type": "stream",
     "text": [
      "******Processing yangzengrong-28-40-58-161******\n",
      "******Processing yangzengrong-37-48-78-188******\n",
      "******Processing yangzhengfu-18-22-32-75******\n"
     ]
    },
    {
     "name": "stderr",
     "output_type": "stream",
     "text": [
      "Traceback (most recent call last):\n",
      "  File \"/tmp/ipykernel_37540/2245311451.py\", line 44, in crop_images\n",
      "    x1, y1, x2, y2 = find_coordinate(*img.shape[0:2], os.path.join(label_path, f'{patient}_{i:04d}.txt'), 's')\n",
      "  File \"/tmp/ipykernel_37540/2245311451.py\", line 7, in find_coordinate\n",
      "    assert aorta == 'j', f'如果只有一个label那么此时应为降主动脉, 但实际为{aorta}：{label_file.split(\"/\")[-1]}'\n",
      "AssertionError: 如果只有一个label那么此时应为降主动脉, 但实际为s：yangzhengfu-18-22-32-75_0019.txt\n",
      "Traceback (most recent call last):\n",
      "  File \"/tmp/ipykernel_37540/2245311451.py\", line 44, in crop_images\n",
      "    x1, y1, x2, y2 = find_coordinate(*img.shape[0:2], os.path.join(label_path, f'{patient}_{i:04d}.txt'), 's')\n",
      "  File \"/tmp/ipykernel_37540/2245311451.py\", line 7, in find_coordinate\n",
      "    assert aorta == 'j', f'如果只有一个label那么此时应为降主动脉, 但实际为{aorta}：{label_file.split(\"/\")[-1]}'\n",
      "AssertionError: 如果只有一个label那么此时应为降主动脉, 但实际为s：yangzhengfu-18-22-32-75_0020.txt\n"
     ]
    },
    {
     "name": "stdout",
     "output_type": "stream",
     "text": [
      "******Processing yangzhengqian-16-21-26-78******\n"
     ]
    },
    {
     "name": "stderr",
     "output_type": "stream",
     "text": [
      "Traceback (most recent call last):\n",
      "  File \"/tmp/ipykernel_37540/2245311451.py\", line 44, in crop_images\n",
      "    x1, y1, x2, y2 = find_coordinate(*img.shape[0:2], os.path.join(label_path, f'{patient}_{i:04d}.txt'), 's')\n",
      "  File \"/tmp/ipykernel_37540/2245311451.py\", line 7, in find_coordinate\n",
      "    assert aorta == 'j', f'如果只有一个label那么此时应为降主动脉, 但实际为{aorta}：{label_file.split(\"/\")[-1]}'\n",
      "AssertionError: 如果只有一个label那么此时应为降主动脉, 但实际为s：yangzhengqian-16-21-26-78_0017.txt\n",
      "Traceback (most recent call last):\n",
      "  File \"/tmp/ipykernel_37540/2245311451.py\", line 44, in crop_images\n",
      "    x1, y1, x2, y2 = find_coordinate(*img.shape[0:2], os.path.join(label_path, f'{patient}_{i:04d}.txt'), 's')\n",
      "  File \"/tmp/ipykernel_37540/2245311451.py\", line 7, in find_coordinate\n",
      "    assert aorta == 'j', f'如果只有一个label那么此时应为降主动脉, 但实际为{aorta}：{label_file.split(\"/\")[-1]}'\n",
      "AssertionError: 如果只有一个label那么此时应为降主动脉, 但实际为s：yangzhengqian-16-21-26-78_0018.txt\n"
     ]
    },
    {
     "name": "stdout",
     "output_type": "stream",
     "text": [
      "******Processing yaohuiping-16-21-29-79******\n"
     ]
    },
    {
     "name": "stderr",
     "output_type": "stream",
     "text": [
      "Traceback (most recent call last):\n",
      "  File \"/tmp/ipykernel_37540/2245311451.py\", line 44, in crop_images\n",
      "    x1, y1, x2, y2 = find_coordinate(*img.shape[0:2], os.path.join(label_path, f'{patient}_{i:04d}.txt'), 's')\n",
      "  File \"/tmp/ipykernel_37540/2245311451.py\", line 7, in find_coordinate\n",
      "    assert aorta == 'j', f'如果只有一个label那么此时应为降主动脉, 但实际为{aorta}：{label_file.split(\"/\")[-1]}'\n",
      "AssertionError: 如果只有一个label那么此时应为降主动脉, 但实际为s：yaohuiping-16-21-29-79_0017.txt\n",
      "Traceback (most recent call last):\n",
      "  File \"/tmp/ipykernel_37540/2245311451.py\", line 44, in crop_images\n",
      "    x1, y1, x2, y2 = find_coordinate(*img.shape[0:2], os.path.join(label_path, f'{patient}_{i:04d}.txt'), 's')\n",
      "  File \"/tmp/ipykernel_37540/2245311451.py\", line 7, in find_coordinate\n",
      "    assert aorta == 'j', f'如果只有一个label那么此时应为降主动脉, 但实际为{aorta}：{label_file.split(\"/\")[-1]}'\n",
      "AssertionError: 如果只有一个label那么此时应为降主动脉, 但实际为s：yaohuiping-16-21-29-79_0018.txt\n"
     ]
    },
    {
     "name": "stdout",
     "output_type": "stream",
     "text": [
      "******Processing yaojingen-20-25-31-81******\n"
     ]
    },
    {
     "name": "stderr",
     "output_type": "stream",
     "text": [
      "Traceback (most recent call last):\n",
      "  File \"/tmp/ipykernel_37540/2245311451.py\", line 44, in crop_images\n",
      "    x1, y1, x2, y2 = find_coordinate(*img.shape[0:2], os.path.join(label_path, f'{patient}_{i:04d}.txt'), 's')\n",
      "  File \"/tmp/ipykernel_37540/2245311451.py\", line 7, in find_coordinate\n",
      "    assert aorta == 'j', f'如果只有一个label那么此时应为降主动脉, 但实际为{aorta}：{label_file.split(\"/\")[-1]}'\n",
      "AssertionError: 如果只有一个label那么此时应为降主动脉, 但实际为s：yaojingen-20-25-31-81_0021.txt\n",
      "Traceback (most recent call last):\n",
      "  File \"/tmp/ipykernel_37540/2245311451.py\", line 44, in crop_images\n",
      "    x1, y1, x2, y2 = find_coordinate(*img.shape[0:2], os.path.join(label_path, f'{patient}_{i:04d}.txt'), 's')\n",
      "  File \"/tmp/ipykernel_37540/2245311451.py\", line 7, in find_coordinate\n",
      "    assert aorta == 'j', f'如果只有一个label那么此时应为降主动脉, 但实际为{aorta}：{label_file.split(\"/\")[-1]}'\n",
      "AssertionError: 如果只有一个label那么此时应为降主动脉, 但实际为s：yaojingen-20-25-31-81_0022.txt\n",
      "Traceback (most recent call last):\n",
      "  File \"/tmp/ipykernel_37540/2245311451.py\", line 44, in crop_images\n",
      "    x1, y1, x2, y2 = find_coordinate(*img.shape[0:2], os.path.join(label_path, f'{patient}_{i:04d}.txt'), 's')\n",
      "  File \"/tmp/ipykernel_37540/2245311451.py\", line 7, in find_coordinate\n",
      "    assert aorta == 'j', f'如果只有一个label那么此时应为降主动脉, 但实际为{aorta}：{label_file.split(\"/\")[-1]}'\n",
      "AssertionError: 如果只有一个label那么此时应为降主动脉, 但实际为s：yaojingen-20-25-31-81_0023.txt\n"
     ]
    },
    {
     "name": "stdout",
     "output_type": "stream",
     "text": [
      "******Processing yegenxiang-11-17-30-80******\n"
     ]
    },
    {
     "name": "stderr",
     "output_type": "stream",
     "text": [
      "Traceback (most recent call last):\n",
      "  File \"/tmp/ipykernel_37540/2245311451.py\", line 44, in crop_images\n",
      "    x1, y1, x2, y2 = find_coordinate(*img.shape[0:2], os.path.join(label_path, f'{patient}_{i:04d}.txt'), 's')\n",
      "  File \"/tmp/ipykernel_37540/2245311451.py\", line 7, in find_coordinate\n",
      "    assert aorta == 'j', f'如果只有一个label那么此时应为降主动脉, 但实际为{aorta}：{label_file.split(\"/\")[-1]}'\n",
      "AssertionError: 如果只有一个label那么此时应为降主动脉, 但实际为s：yegenxiang-11-17-30-80_0014.txt\n"
     ]
    },
    {
     "name": "stdout",
     "output_type": "stream",
     "text": [
      "******Processing yepusheng-13-18-27-79******\n"
     ]
    },
    {
     "name": "stderr",
     "output_type": "stream",
     "text": [
      "Traceback (most recent call last):\n",
      "  File \"/tmp/ipykernel_37540/2245311451.py\", line 44, in crop_images\n",
      "    x1, y1, x2, y2 = find_coordinate(*img.shape[0:2], os.path.join(label_path, f'{patient}_{i:04d}.txt'), 's')\n",
      "  File \"/tmp/ipykernel_37540/2245311451.py\", line 7, in find_coordinate\n",
      "    assert aorta == 'j', f'如果只有一个label那么此时应为降主动脉, 但实际为{aorta}：{label_file.split(\"/\")[-1]}'\n",
      "AssertionError: 如果只有一个label那么此时应为降主动脉, 但实际为s：yepusheng-13-18-27-79_0014.txt\n",
      "Traceback (most recent call last):\n",
      "  File \"/tmp/ipykernel_37540/2245311451.py\", line 44, in crop_images\n",
      "    x1, y1, x2, y2 = find_coordinate(*img.shape[0:2], os.path.join(label_path, f'{patient}_{i:04d}.txt'), 's')\n",
      "  File \"/tmp/ipykernel_37540/2245311451.py\", line 7, in find_coordinate\n",
      "    assert aorta == 'j', f'如果只有一个label那么此时应为降主动脉, 但实际为{aorta}：{label_file.split(\"/\")[-1]}'\n",
      "AssertionError: 如果只有一个label那么此时应为降主动脉, 但实际为s：yepusheng-13-18-27-79_0015.txt\n"
     ]
    },
    {
     "name": "stdout",
     "output_type": "stream",
     "text": [
      "******Processing yeronghua-21-32-49-149******\n",
      "******Processing yesenfei-22-32-53-172******\n",
      "******Processing yeshanhui-33-43-55-143******\n",
      "******Processing yeweigen-17-21-29-84******\n"
     ]
    },
    {
     "name": "stderr",
     "output_type": "stream",
     "text": [
      "Traceback (most recent call last):\n",
      "  File \"/tmp/ipykernel_37540/2245311451.py\", line 44, in crop_images\n",
      "    x1, y1, x2, y2 = find_coordinate(*img.shape[0:2], os.path.join(label_path, f'{patient}_{i:04d}.txt'), 's')\n",
      "  File \"/tmp/ipykernel_37540/2245311451.py\", line 7, in find_coordinate\n",
      "    assert aorta == 'j', f'如果只有一个label那么此时应为降主动脉, 但实际为{aorta}：{label_file.split(\"/\")[-1]}'\n",
      "AssertionError: 如果只有一个label那么此时应为降主动脉, 但实际为s：yeweigen-17-21-29-84_0017.txt\n",
      "Traceback (most recent call last):\n",
      "  File \"/tmp/ipykernel_37540/2245311451.py\", line 44, in crop_images\n",
      "    x1, y1, x2, y2 = find_coordinate(*img.shape[0:2], os.path.join(label_path, f'{patient}_{i:04d}.txt'), 's')\n",
      "  File \"/tmp/ipykernel_37540/2245311451.py\", line 7, in find_coordinate\n",
      "    assert aorta == 'j', f'如果只有一个label那么此时应为降主动脉, 但实际为{aorta}：{label_file.split(\"/\")[-1]}'\n",
      "AssertionError: 如果只有一个label那么此时应为降主动脉, 但实际为s：yeweigen-17-21-29-84_0018.txt\n"
     ]
    },
    {
     "name": "stdout",
     "output_type": "stream",
     "text": [
      "******Processing yimuyun-15-19-28-75******\n"
     ]
    },
    {
     "name": "stderr",
     "output_type": "stream",
     "text": [
      "Traceback (most recent call last):\n",
      "  File \"/tmp/ipykernel_37540/2245311451.py\", line 44, in crop_images\n",
      "    x1, y1, x2, y2 = find_coordinate(*img.shape[0:2], os.path.join(label_path, f'{patient}_{i:04d}.txt'), 's')\n",
      "  File \"/tmp/ipykernel_37540/2245311451.py\", line 7, in find_coordinate\n",
      "    assert aorta == 'j', f'如果只有一个label那么此时应为降主动脉, 但实际为{aorta}：{label_file.split(\"/\")[-1]}'\n",
      "AssertionError: 如果只有一个label那么此时应为降主动脉, 但实际为s：yimuyun-15-19-28-75_0015.txt\n",
      "Traceback (most recent call last):\n",
      "  File \"/tmp/ipykernel_37540/2245311451.py\", line 44, in crop_images\n",
      "    x1, y1, x2, y2 = find_coordinate(*img.shape[0:2], os.path.join(label_path, f'{patient}_{i:04d}.txt'), 's')\n",
      "  File \"/tmp/ipykernel_37540/2245311451.py\", line 7, in find_coordinate\n",
      "    assert aorta == 'j', f'如果只有一个label那么此时应为降主动脉, 但实际为{aorta}：{label_file.split(\"/\")[-1]}'\n",
      "AssertionError: 如果只有一个label那么此时应为降主动脉, 但实际为s：yimuyun-15-19-28-75_0016.txt\n",
      "Traceback (most recent call last):\n",
      "  File \"/tmp/ipykernel_37540/2245311451.py\", line 44, in crop_images\n",
      "    x1, y1, x2, y2 = find_coordinate(*img.shape[0:2], os.path.join(label_path, f'{patient}_{i:04d}.txt'), 's')\n",
      "  File \"/tmp/ipykernel_37540/2245311451.py\", line 7, in find_coordinate\n",
      "    assert aorta == 'j', f'如果只有一个label那么此时应为降主动脉, 但实际为{aorta}：{label_file.split(\"/\")[-1]}'\n",
      "AssertionError: 如果只有一个label那么此时应为降主动脉, 但实际为s：yimuyun-15-19-28-75_0017.txt\n"
     ]
    },
    {
     "name": "stdout",
     "output_type": "stream",
     "text": [
      "******Processing yinggenhua-36-45-72-174******\n"
     ]
    },
    {
     "name": "stderr",
     "output_type": "stream",
     "text": [
      "Traceback (most recent call last):\n",
      "  File \"/tmp/ipykernel_37540/2245311451.py\", line 44, in crop_images\n",
      "    x1, y1, x2, y2 = find_coordinate(*img.shape[0:2], os.path.join(label_path, f'{patient}_{i:04d}.txt'), 's')\n",
      "  File \"/tmp/ipykernel_37540/2245311451.py\", line 7, in find_coordinate\n",
      "    assert aorta == 'j', f'如果只有一个label那么此时应为降主动脉, 但实际为{aorta}：{label_file.split(\"/\")[-1]}'\n",
      "AssertionError: 如果只有一个label那么此时应为降主动脉, 但实际为s：yinggenhua-36-45-72-174_0043.txt\n"
     ]
    },
    {
     "name": "stdout",
     "output_type": "stream",
     "text": [
      "******Processing yiqiang-16-21-30-78******\n"
     ]
    },
    {
     "name": "stderr",
     "output_type": "stream",
     "text": [
      "Traceback (most recent call last):\n",
      "  File \"/tmp/ipykernel_37540/2245311451.py\", line 44, in crop_images\n",
      "    x1, y1, x2, y2 = find_coordinate(*img.shape[0:2], os.path.join(label_path, f'{patient}_{i:04d}.txt'), 's')\n",
      "  File \"/tmp/ipykernel_37540/2245311451.py\", line 7, in find_coordinate\n",
      "    assert aorta == 'j', f'如果只有一个label那么此时应为降主动脉, 但实际为{aorta}：{label_file.split(\"/\")[-1]}'\n",
      "AssertionError: 如果只有一个label那么此时应为降主动脉, 但实际为s：yiqiang-16-21-30-78_0017.txt\n",
      "Traceback (most recent call last):\n",
      "  File \"/tmp/ipykernel_37540/2245311451.py\", line 44, in crop_images\n",
      "    x1, y1, x2, y2 = find_coordinate(*img.shape[0:2], os.path.join(label_path, f'{patient}_{i:04d}.txt'), 's')\n",
      "  File \"/tmp/ipykernel_37540/2245311451.py\", line 7, in find_coordinate\n",
      "    assert aorta == 'j', f'如果只有一个label那么此时应为降主动脉, 但实际为{aorta}：{label_file.split(\"/\")[-1]}'\n",
      "AssertionError: 如果只有一个label那么此时应为降主动脉, 但实际为s：yiqiang-16-21-30-78_0018.txt\n"
     ]
    },
    {
     "name": "stdout",
     "output_type": "stream",
     "text": [
      "******Processing yuaiyuan-13-18-29-84******\n"
     ]
    },
    {
     "name": "stderr",
     "output_type": "stream",
     "text": [
      "Traceback (most recent call last):\n",
      "  File \"/tmp/ipykernel_37540/2245311451.py\", line 44, in crop_images\n",
      "    x1, y1, x2, y2 = find_coordinate(*img.shape[0:2], os.path.join(label_path, f'{patient}_{i:04d}.txt'), 's')\n",
      "  File \"/tmp/ipykernel_37540/2245311451.py\", line 7, in find_coordinate\n",
      "    assert aorta == 'j', f'如果只有一个label那么此时应为降主动脉, 但实际为{aorta}：{label_file.split(\"/\")[-1]}'\n",
      "AssertionError: 如果只有一个label那么此时应为降主动脉, 但实际为s：yuaiyuan-13-18-29-84_0015.txt\n"
     ]
    },
    {
     "name": "stdout",
     "output_type": "stream",
     "text": [
      "******Processing yuanashui-27-38-57-141******\n",
      "******Processing yuanjuhe-11-16-27-76******\n"
     ]
    },
    {
     "name": "stderr",
     "output_type": "stream",
     "text": [
      "Traceback (most recent call last):\n",
      "  File \"/tmp/ipykernel_37540/2245311451.py\", line 44, in crop_images\n",
      "    x1, y1, x2, y2 = find_coordinate(*img.shape[0:2], os.path.join(label_path, f'{patient}_{i:04d}.txt'), 's')\n",
      "  File \"/tmp/ipykernel_37540/2245311451.py\", line 7, in find_coordinate\n",
      "    assert aorta == 'j', f'如果只有一个label那么此时应为降主动脉, 但实际为{aorta}：{label_file.split(\"/\")[-1]}'\n",
      "AssertionError: 如果只有一个label那么此时应为降主动脉, 但实际为s：yuanjuhe-11-16-27-76_0013.txt\n"
     ]
    },
    {
     "name": "stdout",
     "output_type": "stream",
     "text": [
      "******Processing yuankunfa-27-33-44-89******\n"
     ]
    },
    {
     "name": "stderr",
     "output_type": "stream",
     "text": [
      "Traceback (most recent call last):\n",
      "  File \"/tmp/ipykernel_37540/2245311451.py\", line 44, in crop_images\n",
      "    x1, y1, x2, y2 = find_coordinate(*img.shape[0:2], os.path.join(label_path, f'{patient}_{i:04d}.txt'), 's')\n",
      "  File \"/tmp/ipykernel_37540/2245311451.py\", line 7, in find_coordinate\n",
      "    assert aorta == 'j', f'如果只有一个label那么此时应为降主动脉, 但实际为{aorta}：{label_file.split(\"/\")[-1]}'\n",
      "AssertionError: 如果只有一个label那么此时应为降主动脉, 但实际为s：yuankunfa-27-33-44-89_0030.txt\n"
     ]
    },
    {
     "name": "stdout",
     "output_type": "stream",
     "text": [
      "******Processing yuanxiazhen-14-18-36-76******\n"
     ]
    },
    {
     "name": "stderr",
     "output_type": "stream",
     "text": [
      "Traceback (most recent call last):\n",
      "  File \"/tmp/ipykernel_37540/2245311451.py\", line 44, in crop_images\n",
      "    x1, y1, x2, y2 = find_coordinate(*img.shape[0:2], os.path.join(label_path, f'{patient}_{i:04d}.txt'), 's')\n",
      "  File \"/tmp/ipykernel_37540/2245311451.py\", line 7, in find_coordinate\n",
      "    assert aorta == 'j', f'如果只有一个label那么此时应为降主动脉, 但实际为{aorta}：{label_file.split(\"/\")[-1]}'\n",
      "AssertionError: 如果只有一个label那么此时应为降主动脉, 但实际为s：yuanxiazhen-14-18-36-76_0015.txt\n",
      "Traceback (most recent call last):\n",
      "  File \"/tmp/ipykernel_37540/2245311451.py\", line 44, in crop_images\n",
      "    x1, y1, x2, y2 = find_coordinate(*img.shape[0:2], os.path.join(label_path, f'{patient}_{i:04d}.txt'), 's')\n",
      "  File \"/tmp/ipykernel_37540/2245311451.py\", line 7, in find_coordinate\n",
      "    assert aorta == 'j', f'如果只有一个label那么此时应为降主动脉, 但实际为{aorta}：{label_file.split(\"/\")[-1]}'\n",
      "AssertionError: 如果只有一个label那么此时应为降主动脉, 但实际为s：yuanxiazhen-14-18-36-76_0016.txt\n",
      "Traceback (most recent call last):\n",
      "  File \"/tmp/ipykernel_37540/2245311451.py\", line 44, in crop_images\n",
      "    x1, y1, x2, y2 = find_coordinate(*img.shape[0:2], os.path.join(label_path, f'{patient}_{i:04d}.txt'), 's')\n",
      "  File \"/tmp/ipykernel_37540/2245311451.py\", line 7, in find_coordinate\n",
      "    assert aorta == 'j', f'如果只有一个label那么此时应为降主动脉, 但实际为{aorta}：{label_file.split(\"/\")[-1]}'\n",
      "AssertionError: 如果只有一个label那么此时应为降主动脉, 但实际为s：yuanxiazhen-14-18-36-76_0017.txt\n",
      "Traceback (most recent call last):\n",
      "  File \"/tmp/ipykernel_37540/2245311451.py\", line 61, in crop_images\n",
      "    x1, y1, x2, y2 = find_coordinate(*img.shape[0:2], os.path.join(label_path, f'{patient}_{i:04d}.txt'), 'j')\n",
      "  File \"/tmp/ipykernel_37540/2245311451.py\", line 3, in find_coordinate\n",
      "    with open(label_file, 'r') as f:\n",
      "FileNotFoundError: [Errno 2] No such file or directory: '/nfs3-p1/zsxm/dataset/aorta_ct_img_label/negative/yuanxiazhen-14-18-36-76/labels/yuanxiazhen-14-18-36-76_0039.txt'\n"
     ]
    },
    {
     "name": "stdout",
     "output_type": "stream",
     "text": [
      "******Processing yuanxicai-35-43-85-169******\n"
     ]
    },
    {
     "name": "stderr",
     "output_type": "stream",
     "text": [
      "Traceback (most recent call last):\n",
      "  File \"/tmp/ipykernel_37540/2245311451.py\", line 44, in crop_images\n",
      "    x1, y1, x2, y2 = find_coordinate(*img.shape[0:2], os.path.join(label_path, f'{patient}_{i:04d}.txt'), 's')\n",
      "  File \"/tmp/ipykernel_37540/2245311451.py\", line 7, in find_coordinate\n",
      "    assert aorta == 'j', f'如果只有一个label那么此时应为降主动脉, 但实际为{aorta}：{label_file.split(\"/\")[-1]}'\n",
      "AssertionError: 如果只有一个label那么此时应为降主动脉, 但实际为s：yuanxicai-35-43-85-169_0043.txt\n"
     ]
    },
    {
     "name": "stdout",
     "output_type": "stream",
     "text": [
      "******Processing yuanyongjin-12-18-27-81******\n"
     ]
    },
    {
     "name": "stderr",
     "output_type": "stream",
     "text": [
      "Traceback (most recent call last):\n",
      "  File \"/tmp/ipykernel_37540/2245311451.py\", line 44, in crop_images\n",
      "    x1, y1, x2, y2 = find_coordinate(*img.shape[0:2], os.path.join(label_path, f'{patient}_{i:04d}.txt'), 's')\n",
      "  File \"/tmp/ipykernel_37540/2245311451.py\", line 7, in find_coordinate\n",
      "    assert aorta == 'j', f'如果只有一个label那么此时应为降主动脉, 但实际为{aorta}：{label_file.split(\"/\")[-1]}'\n",
      "AssertionError: 如果只有一个label那么此时应为降主动脉, 但实际为s：yuanyongjin-12-18-27-81_0014.txt\n",
      "Traceback (most recent call last):\n",
      "  File \"/tmp/ipykernel_37540/2245311451.py\", line 44, in crop_images\n",
      "    x1, y1, x2, y2 = find_coordinate(*img.shape[0:2], os.path.join(label_path, f'{patient}_{i:04d}.txt'), 's')\n",
      "  File \"/tmp/ipykernel_37540/2245311451.py\", line 7, in find_coordinate\n",
      "    assert aorta == 'j', f'如果只有一个label那么此时应为降主动脉, 但实际为{aorta}：{label_file.split(\"/\")[-1]}'\n",
      "AssertionError: 如果只有一个label那么此时应为降主动脉, 但实际为s：yuanyongjin-12-18-27-81_0015.txt\n"
     ]
    },
    {
     "name": "stdout",
     "output_type": "stream",
     "text": [
      "******Processing yubaisong-25-33-65-152******\n"
     ]
    },
    {
     "name": "stderr",
     "output_type": "stream",
     "text": [
      "Traceback (most recent call last):\n",
      "  File \"/tmp/ipykernel_37540/2245311451.py\", line 44, in crop_images\n",
      "    x1, y1, x2, y2 = find_coordinate(*img.shape[0:2], os.path.join(label_path, f'{patient}_{i:04d}.txt'), 's')\n",
      "  File \"/tmp/ipykernel_37540/2245311451.py\", line 7, in find_coordinate\n",
      "    assert aorta == 'j', f'如果只有一个label那么此时应为降主动脉, 但实际为{aorta}：{label_file.split(\"/\")[-1]}'\n",
      "AssertionError: 如果只有一个label那么此时应为降主动脉, 但实际为s：yubaisong-25-33-65-152_0032.txt\n"
     ]
    },
    {
     "name": "stdout",
     "output_type": "stream",
     "text": [
      "******Processing yuguangyang-18-23-33-90******\n"
     ]
    },
    {
     "name": "stderr",
     "output_type": "stream",
     "text": [
      "Traceback (most recent call last):\n",
      "  File \"/tmp/ipykernel_37540/2245311451.py\", line 44, in crop_images\n",
      "    x1, y1, x2, y2 = find_coordinate(*img.shape[0:2], os.path.join(label_path, f'{patient}_{i:04d}.txt'), 's')\n",
      "  File \"/tmp/ipykernel_37540/2245311451.py\", line 7, in find_coordinate\n",
      "    assert aorta == 'j', f'如果只有一个label那么此时应为降主动脉, 但实际为{aorta}：{label_file.split(\"/\")[-1]}'\n",
      "AssertionError: 如果只有一个label那么此时应为降主动脉, 但实际为s：yuguangyang-18-23-33-90_0020.txt\n"
     ]
    },
    {
     "name": "stdout",
     "output_type": "stream",
     "text": [
      "******Processing yujixin-32-41-62-143******\n",
      "******Processing yukang-17-22-27-82******\n"
     ]
    },
    {
     "name": "stderr",
     "output_type": "stream",
     "text": [
      "Traceback (most recent call last):\n",
      "  File \"/tmp/ipykernel_37540/2245311451.py\", line 44, in crop_images\n",
      "    x1, y1, x2, y2 = find_coordinate(*img.shape[0:2], os.path.join(label_path, f'{patient}_{i:04d}.txt'), 's')\n",
      "  File \"/tmp/ipykernel_37540/2245311451.py\", line 7, in find_coordinate\n",
      "    assert aorta == 'j', f'如果只有一个label那么此时应为降主动脉, 但实际为{aorta}：{label_file.split(\"/\")[-1]}'\n",
      "AssertionError: 如果只有一个label那么此时应为降主动脉, 但实际为s：yukang-17-22-27-82_0018.txt\n",
      "Traceback (most recent call last):\n",
      "  File \"/tmp/ipykernel_37540/2245311451.py\", line 44, in crop_images\n",
      "    x1, y1, x2, y2 = find_coordinate(*img.shape[0:2], os.path.join(label_path, f'{patient}_{i:04d}.txt'), 's')\n",
      "  File \"/tmp/ipykernel_37540/2245311451.py\", line 7, in find_coordinate\n",
      "    assert aorta == 'j', f'如果只有一个label那么此时应为降主动脉, 但实际为{aorta}：{label_file.split(\"/\")[-1]}'\n",
      "AssertionError: 如果只有一个label那么此时应为降主动脉, 但实际为s：yukang-17-22-27-82_0019.txt\n",
      "Traceback (most recent call last):\n",
      "  File \"/tmp/ipykernel_37540/2245311451.py\", line 61, in crop_images\n",
      "    x1, y1, x2, y2 = find_coordinate(*img.shape[0:2], os.path.join(label_path, f'{patient}_{i:04d}.txt'), 'j')\n",
      "  File \"/tmp/ipykernel_37540/2245311451.py\", line 3, in find_coordinate\n",
      "    with open(label_file, 'r') as f:\n",
      "FileNotFoundError: [Errno 2] No such file or directory: '/nfs3-p1/zsxm/dataset/aorta_ct_img_label/negative/yukang-17-22-27-82/labels/yukang-17-22-27-82_0061.txt'\n",
      "Traceback (most recent call last):\n",
      "  File \"/tmp/ipykernel_37540/2245311451.py\", line 44, in crop_images\n",
      "    x1, y1, x2, y2 = find_coordinate(*img.shape[0:2], os.path.join(label_path, f'{patient}_{i:04d}.txt'), 's')\n",
      "  File \"/tmp/ipykernel_37540/2245311451.py\", line 7, in find_coordinate\n",
      "    assert aorta == 'j', f'如果只有一个label那么此时应为降主动脉, 但实际为{aorta}：{label_file.split(\"/\")[-1]}'\n",
      "AssertionError: 如果只有一个label那么此时应为降主动脉, 但实际为s：yukang-27-36-46-135_0033.txt\n"
     ]
    },
    {
     "name": "stdout",
     "output_type": "stream",
     "text": [
      "******Processing yukang-27-36-46-135******\n"
     ]
    },
    {
     "name": "stderr",
     "output_type": "stream",
     "text": [
      "Traceback (most recent call last):\n",
      "  File \"/tmp/ipykernel_37540/2245311451.py\", line 61, in crop_images\n",
      "    x1, y1, x2, y2 = find_coordinate(*img.shape[0:2], os.path.join(label_path, f'{patient}_{i:04d}.txt'), 'j')\n",
      "  File \"/tmp/ipykernel_37540/2245311451.py\", line 3, in find_coordinate\n",
      "    with open(label_file, 'r') as f:\n",
      "FileNotFoundError: [Errno 2] No such file or directory: '/nfs3-p1/zsxm/dataset/aorta_ct_img_label/negative/yukang-27-36-46-135/labels/yukang-27-36-46-135_0104.txt'\n",
      "Traceback (most recent call last):\n",
      "  File \"/tmp/ipykernel_37540/2245311451.py\", line 61, in crop_images\n",
      "    x1, y1, x2, y2 = find_coordinate(*img.shape[0:2], os.path.join(label_path, f'{patient}_{i:04d}.txt'), 'j')\n",
      "  File \"/tmp/ipykernel_37540/2245311451.py\", line 3, in find_coordinate\n",
      "    with open(label_file, 'r') as f:\n",
      "FileNotFoundError: [Errno 2] No such file or directory: '/nfs3-p1/zsxm/dataset/aorta_ct_img_label/negative/yukang-27-36-46-135/labels/yukang-27-36-46-135_0105.txt'\n"
     ]
    },
    {
     "name": "stdout",
     "output_type": "stream",
     "text": [
      "******Processing yumengting-19-26-36-123******\n"
     ]
    },
    {
     "name": "stderr",
     "output_type": "stream",
     "text": [
      "Traceback (most recent call last):\n",
      "  File \"/tmp/ipykernel_37540/2245311451.py\", line 44, in crop_images\n",
      "    x1, y1, x2, y2 = find_coordinate(*img.shape[0:2], os.path.join(label_path, f'{patient}_{i:04d}.txt'), 's')\n",
      "  File \"/tmp/ipykernel_37540/2245311451.py\", line 7, in find_coordinate\n",
      "    assert aorta == 'j', f'如果只有一个label那么此时应为降主动脉, 但实际为{aorta}：{label_file.split(\"/\")[-1]}'\n",
      "AssertionError: 如果只有一个label那么此时应为降主动脉, 但实际为s：yumengting-19-26-36-123_0023.txt\n"
     ]
    },
    {
     "name": "stdout",
     "output_type": "stream",
     "text": [
      "******Processing yupengjie-26-34-46-134******\n"
     ]
    },
    {
     "name": "stderr",
     "output_type": "stream",
     "text": [
      "Traceback (most recent call last):\n",
      "  File \"/tmp/ipykernel_37540/2245311451.py\", line 44, in crop_images\n",
      "    x1, y1, x2, y2 = find_coordinate(*img.shape[0:2], os.path.join(label_path, f'{patient}_{i:04d}.txt'), 's')\n",
      "  File \"/tmp/ipykernel_37540/2245311451.py\", line 7, in find_coordinate\n",
      "    assert aorta == 'j', f'如果只有一个label那么此时应为降主动脉, 但实际为{aorta}：{label_file.split(\"/\")[-1]}'\n",
      "AssertionError: 如果只有一个label那么此时应为降主动脉, 但实际为s：yupengjie-26-34-46-134_0031.txt\n"
     ]
    },
    {
     "name": "stdout",
     "output_type": "stream",
     "text": [
      "******Processing yushengfu-31-40-56-154******\n",
      "******Processing yuweiliang-29-35-47-104******\n"
     ]
    },
    {
     "name": "stderr",
     "output_type": "stream",
     "text": [
      "Traceback (most recent call last):\n",
      "  File \"/tmp/ipykernel_37540/2245311451.py\", line 61, in crop_images\n",
      "    x1, y1, x2, y2 = find_coordinate(*img.shape[0:2], os.path.join(label_path, f'{patient}_{i:04d}.txt'), 'j')\n",
      "  File \"/tmp/ipykernel_37540/2245311451.py\", line 3, in find_coordinate\n",
      "    with open(label_file, 'r') as f:\n",
      "FileNotFoundError: [Errno 2] No such file or directory: '/nfs3-p1/zsxm/dataset/aorta_ct_img_label/negative/yuweiliang-29-35-47-104/labels/yuweiliang-29-35-47-104_0074.txt'\n",
      "Traceback (most recent call last):\n",
      "  File \"/tmp/ipykernel_37540/2245311451.py\", line 61, in crop_images\n",
      "    x1, y1, x2, y2 = find_coordinate(*img.shape[0:2], os.path.join(label_path, f'{patient}_{i:04d}.txt'), 'j')\n",
      "  File \"/tmp/ipykernel_37540/2245311451.py\", line 3, in find_coordinate\n",
      "    with open(label_file, 'r') as f:\n",
      "FileNotFoundError: [Errno 2] No such file or directory: '/nfs3-p1/zsxm/dataset/aorta_ct_img_label/negative/yuweiliang-29-35-47-104/labels/yuweiliang-29-35-47-104_0075.txt'\n"
     ]
    },
    {
     "name": "stdout",
     "output_type": "stream",
     "text": [
      "******Processing yuxiaotu-20-25-36-90******\n",
      "******Processing yuyinglong-24-30-51-98******\n"
     ]
    },
    {
     "name": "stderr",
     "output_type": "stream",
     "text": [
      "Traceback (most recent call last):\n",
      "  File \"/tmp/ipykernel_37540/2245311451.py\", line 44, in crop_images\n",
      "    x1, y1, x2, y2 = find_coordinate(*img.shape[0:2], os.path.join(label_path, f'{patient}_{i:04d}.txt'), 's')\n",
      "  File \"/tmp/ipykernel_37540/2245311451.py\", line 7, in find_coordinate\n",
      "    assert aorta == 'j', f'如果只有一个label那么此时应为降主动脉, 但实际为{aorta}：{label_file.split(\"/\")[-1]}'\n",
      "AssertionError: 如果只有一个label那么此时应为降主动脉, 但实际为s：yuyinglong-24-30-51-98_0028.txt\n"
     ]
    },
    {
     "name": "stdout",
     "output_type": "stream",
     "text": [
      "******Processing yuyunfu-26-33-66-148******\n",
      "******Processing yuzhixue-16-21-38-91******\n"
     ]
    },
    {
     "name": "stderr",
     "output_type": "stream",
     "text": [
      "Traceback (most recent call last):\n",
      "  File \"/tmp/ipykernel_37540/2245311451.py\", line 44, in crop_images\n",
      "    x1, y1, x2, y2 = find_coordinate(*img.shape[0:2], os.path.join(label_path, f'{patient}_{i:04d}.txt'), 's')\n",
      "  File \"/tmp/ipykernel_37540/2245311451.py\", line 7, in find_coordinate\n",
      "    assert aorta == 'j', f'如果只有一个label那么此时应为降主动脉, 但实际为{aorta}：{label_file.split(\"/\")[-1]}'\n",
      "AssertionError: 如果只有一个label那么此时应为降主动脉, 但实际为s：yuzhixue-16-21-38-91_0018.txt\n",
      "Traceback (most recent call last):\n",
      "  File \"/tmp/ipykernel_37540/2245311451.py\", line 44, in crop_images\n",
      "    x1, y1, x2, y2 = find_coordinate(*img.shape[0:2], os.path.join(label_path, f'{patient}_{i:04d}.txt'), 's')\n",
      "  File \"/tmp/ipykernel_37540/2245311451.py\", line 7, in find_coordinate\n",
      "    assert aorta == 'j', f'如果只有一个label那么此时应为降主动脉, 但实际为{aorta}：{label_file.split(\"/\")[-1]}'\n",
      "AssertionError: 如果只有一个label那么此时应为降主动脉, 但实际为s：yuzhixue-16-21-38-91_0019.txt\n",
      "Traceback (most recent call last):\n",
      "  File \"/tmp/ipykernel_37540/2245311451.py\", line 44, in crop_images\n",
      "    x1, y1, x2, y2 = find_coordinate(*img.shape[0:2], os.path.join(label_path, f'{patient}_{i:04d}.txt'), 's')\n",
      "  File \"/tmp/ipykernel_37540/2245311451.py\", line 7, in find_coordinate\n",
      "    assert aorta == 'j', f'如果只有一个label那么此时应为降主动脉, 但实际为{aorta}：{label_file.split(\"/\")[-1]}'\n",
      "AssertionError: 如果只有一个label那么此时应为降主动脉, 但实际为s：yuzhixue-16-21-38-91_0020.txt\n"
     ]
    },
    {
     "name": "stdout",
     "output_type": "stream",
     "text": [
      "******Processing zengchunsheng-23-30-41-128******\n"
     ]
    },
    {
     "name": "stderr",
     "output_type": "stream",
     "text": [
      "Traceback (most recent call last):\n",
      "  File \"/tmp/ipykernel_37540/2245311451.py\", line 44, in crop_images\n",
      "    x1, y1, x2, y2 = find_coordinate(*img.shape[0:2], os.path.join(label_path, f'{patient}_{i:04d}.txt'), 's')\n",
      "  File \"/tmp/ipykernel_37540/2245311451.py\", line 7, in find_coordinate\n",
      "    assert aorta == 'j', f'如果只有一个label那么此时应为降主动脉, 但实际为{aorta}：{label_file.split(\"/\")[-1]}'\n",
      "AssertionError: 如果只有一个label那么此时应为降主动脉, 但实际为s：zengchunsheng-23-30-41-128_0027.txt\n",
      "Traceback (most recent call last):\n",
      "  File \"/tmp/ipykernel_37540/2245311451.py\", line 44, in crop_images\n",
      "    x1, y1, x2, y2 = find_coordinate(*img.shape[0:2], os.path.join(label_path, f'{patient}_{i:04d}.txt'), 's')\n",
      "  File \"/tmp/ipykernel_37540/2245311451.py\", line 7, in find_coordinate\n",
      "    assert aorta == 'j', f'如果只有一个label那么此时应为降主动脉, 但实际为{aorta}：{label_file.split(\"/\")[-1]}'\n",
      "AssertionError: 如果只有一个label那么此时应为降主动脉, 但实际为s：zengchunsheng-23-30-41-128_0028.txt\n",
      "Traceback (most recent call last):\n",
      "  File \"/tmp/ipykernel_37540/2245311451.py\", line 61, in crop_images\n",
      "    x1, y1, x2, y2 = find_coordinate(*img.shape[0:2], os.path.join(label_path, f'{patient}_{i:04d}.txt'), 'j')\n",
      "  File \"/tmp/ipykernel_37540/2245311451.py\", line 3, in find_coordinate\n",
      "    with open(label_file, 'r') as f:\n",
      "FileNotFoundError: [Errno 2] No such file or directory: '/nfs3-p1/zsxm/dataset/aorta_ct_img_label/negative/zengchunsheng-23-30-41-128/labels/zengchunsheng-23-30-41-128_0101.txt'\n",
      "Traceback (most recent call last):\n",
      "  File \"/tmp/ipykernel_37540/2245311451.py\", line 44, in crop_images\n",
      "    x1, y1, x2, y2 = find_coordinate(*img.shape[0:2], os.path.join(label_path, f'{patient}_{i:04d}.txt'), 's')\n",
      "  File \"/tmp/ipykernel_37540/2245311451.py\", line 7, in find_coordinate\n",
      "    assert aorta == 'j', f'如果只有一个label那么此时应为降主动脉, 但实际为{aorta}：{label_file.split(\"/\")[-1]}'\n",
      "AssertionError: 如果只有一个label那么此时应为降主动脉, 但实际为s：zengshengjiang-19-23-36-89_0020.txt\n",
      "Traceback (most recent call last):\n",
      "  File \"/tmp/ipykernel_37540/2245311451.py\", line 44, in crop_images\n",
      "    x1, y1, x2, y2 = find_coordinate(*img.shape[0:2], os.path.join(label_path, f'{patient}_{i:04d}.txt'), 's')\n",
      "  File \"/tmp/ipykernel_37540/2245311451.py\", line 7, in find_coordinate\n",
      "    assert aorta == 'j', f'如果只有一个label那么此时应为降主动脉, 但实际为{aorta}：{label_file.split(\"/\")[-1]}'\n",
      "AssertionError: 如果只有一个label那么此时应为降主动脉, 但实际为s：zengshengjiang-19-23-36-89_0021.txt\n"
     ]
    },
    {
     "name": "stdout",
     "output_type": "stream",
     "text": [
      "******Processing zengshengjiang-19-23-36-89******\n"
     ]
    },
    {
     "name": "stderr",
     "output_type": "stream",
     "text": [
      "Traceback (most recent call last):\n",
      "  File \"/tmp/ipykernel_37540/2245311451.py\", line 44, in crop_images\n",
      "    x1, y1, x2, y2 = find_coordinate(*img.shape[0:2], os.path.join(label_path, f'{patient}_{i:04d}.txt'), 's')\n",
      "  File \"/tmp/ipykernel_37540/2245311451.py\", line 7, in find_coordinate\n",
      "    assert aorta == 'j', f'如果只有一个label那么此时应为降主动脉, 但实际为{aorta}：{label_file.split(\"/\")[-1]}'\n",
      "AssertionError: 如果只有一个label那么此时应为降主动脉, 但实际为s：zengshengjiang-19-23-36-89_0035.txt\n"
     ]
    },
    {
     "name": "stdout",
     "output_type": "stream",
     "text": [
      "******Processing zhangchao-13-18-29-81******\n"
     ]
    },
    {
     "name": "stderr",
     "output_type": "stream",
     "text": [
      "Traceback (most recent call last):\n",
      "  File \"/tmp/ipykernel_37540/2245311451.py\", line 44, in crop_images\n",
      "    x1, y1, x2, y2 = find_coordinate(*img.shape[0:2], os.path.join(label_path, f'{patient}_{i:04d}.txt'), 's')\n",
      "  File \"/tmp/ipykernel_37540/2245311451.py\", line 7, in find_coordinate\n",
      "    assert aorta == 'j', f'如果只有一个label那么此时应为降主动脉, 但实际为{aorta}：{label_file.split(\"/\")[-1]}'\n",
      "AssertionError: 如果只有一个label那么此时应为降主动脉, 但实际为s：zhangchao-13-18-29-81_0015.txt\n"
     ]
    },
    {
     "name": "stdout",
     "output_type": "stream",
     "text": [
      "******Processing zhangdanye-31-38-50-143******\n"
     ]
    },
    {
     "name": "stderr",
     "output_type": "stream",
     "text": [
      "Traceback (most recent call last):\n",
      "  File \"/tmp/ipykernel_37540/2245311451.py\", line 44, in crop_images\n",
      "    x1, y1, x2, y2 = find_coordinate(*img.shape[0:2], os.path.join(label_path, f'{patient}_{i:04d}.txt'), 's')\n",
      "  File \"/tmp/ipykernel_37540/2245311451.py\", line 7, in find_coordinate\n",
      "    assert aorta == 'j', f'如果只有一个label那么此时应为降主动脉, 但实际为{aorta}：{label_file.split(\"/\")[-1]}'\n",
      "AssertionError: 如果只有一个label那么此时应为降主动脉, 但实际为s：zhangdanye-31-38-50-143_0035.txt\n",
      "Traceback (most recent call last):\n",
      "  File \"/tmp/ipykernel_37540/2245311451.py\", line 44, in crop_images\n",
      "    x1, y1, x2, y2 = find_coordinate(*img.shape[0:2], os.path.join(label_path, f'{patient}_{i:04d}.txt'), 's')\n",
      "  File \"/tmp/ipykernel_37540/2245311451.py\", line 7, in find_coordinate\n",
      "    assert aorta == 'j', f'如果只有一个label那么此时应为降主动脉, 但实际为{aorta}：{label_file.split(\"/\")[-1]}'\n",
      "AssertionError: 如果只有一个label那么此时应为降主动脉, 但实际为s：zhangdanye-31-38-50-143_0036.txt\n"
     ]
    },
    {
     "name": "stdout",
     "output_type": "stream",
     "text": [
      "******Processing zhangduofeng-12-17-28-55******\n"
     ]
    },
    {
     "name": "stderr",
     "output_type": "stream",
     "text": [
      "Traceback (most recent call last):\n",
      "  File \"/tmp/ipykernel_37540/2245311451.py\", line 44, in crop_images\n",
      "    x1, y1, x2, y2 = find_coordinate(*img.shape[0:2], os.path.join(label_path, f'{patient}_{i:04d}.txt'), 's')\n",
      "  File \"/tmp/ipykernel_37540/2245311451.py\", line 7, in find_coordinate\n",
      "    assert aorta == 'j', f'如果只有一个label那么此时应为降主动脉, 但实际为{aorta}：{label_file.split(\"/\")[-1]}'\n",
      "AssertionError: 如果只有一个label那么此时应为降主动脉, 但实际为s：zhangduofeng-12-17-28-55_0014.txt\n"
     ]
    },
    {
     "name": "stdout",
     "output_type": "stream",
     "text": [
      "******Processing zhangfagen-22-27-37-92******\n"
     ]
    },
    {
     "name": "stderr",
     "output_type": "stream",
     "text": [
      "Traceback (most recent call last):\n",
      "  File \"/tmp/ipykernel_37540/2245311451.py\", line 44, in crop_images\n",
      "    x1, y1, x2, y2 = find_coordinate(*img.shape[0:2], os.path.join(label_path, f'{patient}_{i:04d}.txt'), 's')\n",
      "  File \"/tmp/ipykernel_37540/2245311451.py\", line 7, in find_coordinate\n",
      "    assert aorta == 'j', f'如果只有一个label那么此时应为降主动脉, 但实际为{aorta}：{label_file.split(\"/\")[-1]}'\n",
      "AssertionError: 如果只有一个label那么此时应为降主动脉, 但实际为s：zhangfagen-22-27-37-92_0024.txt\n"
     ]
    },
    {
     "name": "stdout",
     "output_type": "stream",
     "text": [
      "******Processing zhangguanghong-39-46-68-156******\n"
     ]
    },
    {
     "name": "stderr",
     "output_type": "stream",
     "text": [
      "Traceback (most recent call last):\n",
      "  File \"/tmp/ipykernel_37540/2245311451.py\", line 44, in crop_images\n",
      "    x1, y1, x2, y2 = find_coordinate(*img.shape[0:2], os.path.join(label_path, f'{patient}_{i:04d}.txt'), 's')\n",
      "  File \"/tmp/ipykernel_37540/2245311451.py\", line 7, in find_coordinate\n",
      "    assert aorta == 'j', f'如果只有一个label那么此时应为降主动脉, 但实际为{aorta}：{label_file.split(\"/\")[-1]}'\n",
      "AssertionError: 如果只有一个label那么此时应为降主动脉, 但实际为s：zhangguanghong-39-46-68-156_0044.txt\n"
     ]
    },
    {
     "name": "stdout",
     "output_type": "stream",
     "text": [
      "******Processing zhangguofeng-21-27-35-90******\n"
     ]
    },
    {
     "name": "stderr",
     "output_type": "stream",
     "text": [
      "Traceback (most recent call last):\n",
      "  File \"/tmp/ipykernel_37540/2245311451.py\", line 44, in crop_images\n",
      "    x1, y1, x2, y2 = find_coordinate(*img.shape[0:2], os.path.join(label_path, f'{patient}_{i:04d}.txt'), 's')\n",
      "  File \"/tmp/ipykernel_37540/2245311451.py\", line 7, in find_coordinate\n",
      "    assert aorta == 'j', f'如果只有一个label那么此时应为降主动脉, 但实际为{aorta}：{label_file.split(\"/\")[-1]}'\n",
      "AssertionError: 如果只有一个label那么此时应为降主动脉, 但实际为s：zhangguofeng-21-27-35-90_0023.txt\n",
      "Traceback (most recent call last):\n",
      "  File \"/tmp/ipykernel_37540/2245311451.py\", line 44, in crop_images\n",
      "    x1, y1, x2, y2 = find_coordinate(*img.shape[0:2], os.path.join(label_path, f'{patient}_{i:04d}.txt'), 's')\n",
      "  File \"/tmp/ipykernel_37540/2245311451.py\", line 7, in find_coordinate\n",
      "    assert aorta == 'j', f'如果只有一个label那么此时应为降主动脉, 但实际为{aorta}：{label_file.split(\"/\")[-1]}'\n",
      "AssertionError: 如果只有一个label那么此时应为降主动脉, 但实际为s：zhangguofeng-21-27-35-90_0024.txt\n"
     ]
    },
    {
     "name": "stdout",
     "output_type": "stream",
     "text": [
      "******Processing zhangguofeng-25-30-45-97******\n"
     ]
    },
    {
     "name": "stderr",
     "output_type": "stream",
     "text": [
      "Traceback (most recent call last):\n",
      "  File \"/tmp/ipykernel_37540/2245311451.py\", line 44, in crop_images\n",
      "    x1, y1, x2, y2 = find_coordinate(*img.shape[0:2], os.path.join(label_path, f'{patient}_{i:04d}.txt'), 's')\n",
      "  File \"/tmp/ipykernel_37540/2245311451.py\", line 7, in find_coordinate\n",
      "    assert aorta == 'j', f'如果只有一个label那么此时应为降主动脉, 但实际为{aorta}：{label_file.split(\"/\")[-1]}'\n",
      "AssertionError: 如果只有一个label那么此时应为降主动脉, 但实际为s：zhangguofeng-25-30-45-97_0027.txt\n",
      "Traceback (most recent call last):\n",
      "  File \"/tmp/ipykernel_37540/2245311451.py\", line 44, in crop_images\n",
      "    x1, y1, x2, y2 = find_coordinate(*img.shape[0:2], os.path.join(label_path, f'{patient}_{i:04d}.txt'), 's')\n",
      "  File \"/tmp/ipykernel_37540/2245311451.py\", line 7, in find_coordinate\n",
      "    assert aorta == 'j', f'如果只有一个label那么此时应为降主动脉, 但实际为{aorta}：{label_file.split(\"/\")[-1]}'\n",
      "AssertionError: 如果只有一个label那么此时应为降主动脉, 但实际为s：zhangguofeng-25-30-45-97_0028.txt\n"
     ]
    },
    {
     "name": "stdout",
     "output_type": "stream",
     "text": [
      "******Processing zhanghanmin-13-19-27-76******\n"
     ]
    },
    {
     "name": "stderr",
     "output_type": "stream",
     "text": [
      "Traceback (most recent call last):\n",
      "  File \"/tmp/ipykernel_37540/2245311451.py\", line 44, in crop_images\n",
      "    x1, y1, x2, y2 = find_coordinate(*img.shape[0:2], os.path.join(label_path, f'{patient}_{i:04d}.txt'), 's')\n",
      "  File \"/tmp/ipykernel_37540/2245311451.py\", line 7, in find_coordinate\n",
      "    assert aorta == 'j', f'如果只有一个label那么此时应为降主动脉, 但实际为{aorta}：{label_file.split(\"/\")[-1]}'\n",
      "AssertionError: 如果只有一个label那么此时应为降主动脉, 但实际为s：zhanghanmin-13-19-27-76_0015.txt\n"
     ]
    },
    {
     "name": "stdout",
     "output_type": "stream",
     "text": [
      "******Processing zhanghonghu-37-45-69-149******\n"
     ]
    },
    {
     "name": "stderr",
     "output_type": "stream",
     "text": [
      "Traceback (most recent call last):\n",
      "  File \"/tmp/ipykernel_37540/2245311451.py\", line 44, in crop_images\n",
      "    x1, y1, x2, y2 = find_coordinate(*img.shape[0:2], os.path.join(label_path, f'{patient}_{i:04d}.txt'), 's')\n",
      "  File \"/tmp/ipykernel_37540/2245311451.py\", line 7, in find_coordinate\n",
      "    assert aorta == 'j', f'如果只有一个label那么此时应为降主动脉, 但实际为{aorta}：{label_file.split(\"/\")[-1]}'\n",
      "AssertionError: 如果只有一个label那么此时应为降主动脉, 但实际为s：zhanghonghu-37-45-69-149_0043.txt\n"
     ]
    },
    {
     "name": "stdout",
     "output_type": "stream",
     "text": [
      "******Processing zhanghuanquan-17-22-29-75******\n"
     ]
    },
    {
     "name": "stderr",
     "output_type": "stream",
     "text": [
      "Traceback (most recent call last):\n",
      "  File \"/tmp/ipykernel_37540/2245311451.py\", line 44, in crop_images\n",
      "    x1, y1, x2, y2 = find_coordinate(*img.shape[0:2], os.path.join(label_path, f'{patient}_{i:04d}.txt'), 's')\n",
      "  File \"/tmp/ipykernel_37540/2245311451.py\", line 7, in find_coordinate\n",
      "    assert aorta == 'j', f'如果只有一个label那么此时应为降主动脉, 但实际为{aorta}：{label_file.split(\"/\")[-1]}'\n",
      "AssertionError: 如果只有一个label那么此时应为降主动脉, 但实际为s：zhanghuanquan-17-22-29-75_0018.txt\n",
      "Traceback (most recent call last):\n",
      "  File \"/tmp/ipykernel_37540/2245311451.py\", line 44, in crop_images\n",
      "    x1, y1, x2, y2 = find_coordinate(*img.shape[0:2], os.path.join(label_path, f'{patient}_{i:04d}.txt'), 's')\n",
      "  File \"/tmp/ipykernel_37540/2245311451.py\", line 7, in find_coordinate\n",
      "    assert aorta == 'j', f'如果只有一个label那么此时应为降主动脉, 但实际为{aorta}：{label_file.split(\"/\")[-1]}'\n",
      "AssertionError: 如果只有一个label那么此时应为降主动脉, 但实际为s：zhanghuanquan-17-22-29-75_0019.txt\n"
     ]
    },
    {
     "name": "stdout",
     "output_type": "stream",
     "text": [
      "******Processing zhangjingjing-16-19-30-78******\n"
     ]
    },
    {
     "name": "stderr",
     "output_type": "stream",
     "text": [
      "Traceback (most recent call last):\n",
      "  File \"/tmp/ipykernel_37540/2245311451.py\", line 44, in crop_images\n",
      "    x1, y1, x2, y2 = find_coordinate(*img.shape[0:2], os.path.join(label_path, f'{patient}_{i:04d}.txt'), 's')\n",
      "  File \"/tmp/ipykernel_37540/2245311451.py\", line 7, in find_coordinate\n",
      "    assert aorta == 'j', f'如果只有一个label那么此时应为降主动脉, 但实际为{aorta}：{label_file.split(\"/\")[-1]}'\n",
      "AssertionError: 如果只有一个label那么此时应为降主动脉, 但实际为s：zhangjingjing-16-19-30-78_0016.txt\n",
      "Traceback (most recent call last):\n",
      "  File \"/tmp/ipykernel_37540/2245311451.py\", line 44, in crop_images\n",
      "    x1, y1, x2, y2 = find_coordinate(*img.shape[0:2], os.path.join(label_path, f'{patient}_{i:04d}.txt'), 's')\n",
      "  File \"/tmp/ipykernel_37540/2245311451.py\", line 7, in find_coordinate\n",
      "    assert aorta == 'j', f'如果只有一个label那么此时应为降主动脉, 但实际为{aorta}：{label_file.split(\"/\")[-1]}'\n",
      "AssertionError: 如果只有一个label那么此时应为降主动脉, 但实际为s：zhangjingjing-16-19-30-78_0017.txt\n"
     ]
    },
    {
     "name": "stdout",
     "output_type": "stream",
     "text": [
      "******Processing zhangjingzhong-53-59-85-174******\n"
     ]
    },
    {
     "name": "stderr",
     "output_type": "stream",
     "text": [
      "Traceback (most recent call last):\n",
      "  File \"/tmp/ipykernel_37540/2245311451.py\", line 44, in crop_images\n",
      "    x1, y1, x2, y2 = find_coordinate(*img.shape[0:2], os.path.join(label_path, f'{patient}_{i:04d}.txt'), 's')\n",
      "  File \"/tmp/ipykernel_37540/2245311451.py\", line 7, in find_coordinate\n",
      "    assert aorta == 'j', f'如果只有一个label那么此时应为降主动脉, 但实际为{aorta}：{label_file.split(\"/\")[-1]}'\n",
      "AssertionError: 如果只有一个label那么此时应为降主动脉, 但实际为s：zhangjingzhong-53-59-85-174_0057.txt\n",
      "Traceback (most recent call last):\n",
      "  File \"/tmp/ipykernel_37540/2245311451.py\", line 44, in crop_images\n",
      "    x1, y1, x2, y2 = find_coordinate(*img.shape[0:2], os.path.join(label_path, f'{patient}_{i:04d}.txt'), 's')\n",
      "  File \"/tmp/ipykernel_37540/2245311451.py\", line 7, in find_coordinate\n",
      "    assert aorta == 'j', f'如果只有一个label那么此时应为降主动脉, 但实际为{aorta}：{label_file.split(\"/\")[-1]}'\n",
      "AssertionError: 如果只有一个label那么此时应为降主动脉, 但实际为s：zhangjingzhong-53-59-85-174_0058.txt\n"
     ]
    },
    {
     "name": "stdout",
     "output_type": "stream",
     "text": [
      "******Processing zhangjunfei-25-33-52-125******\n"
     ]
    },
    {
     "name": "stderr",
     "output_type": "stream",
     "text": [
      "Traceback (most recent call last):\n",
      "  File \"/tmp/ipykernel_37540/2245311451.py\", line 44, in crop_images\n",
      "    x1, y1, x2, y2 = find_coordinate(*img.shape[0:2], os.path.join(label_path, f'{patient}_{i:04d}.txt'), 's')\n",
      "  File \"/tmp/ipykernel_37540/2245311451.py\", line 7, in find_coordinate\n",
      "    assert aorta == 'j', f'如果只有一个label那么此时应为降主动脉, 但实际为{aorta}：{label_file.split(\"/\")[-1]}'\n",
      "AssertionError: 如果只有一个label那么此时应为降主动脉, 但实际为s：zhangjunfei-25-33-52-125_0030.txt\n",
      "Traceback (most recent call last):\n",
      "  File \"/tmp/ipykernel_37540/2245311451.py\", line 44, in crop_images\n",
      "    x1, y1, x2, y2 = find_coordinate(*img.shape[0:2], os.path.join(label_path, f'{patient}_{i:04d}.txt'), 's')\n",
      "  File \"/tmp/ipykernel_37540/2245311451.py\", line 7, in find_coordinate\n",
      "    assert aorta == 'j', f'如果只有一个label那么此时应为降主动脉, 但实际为{aorta}：{label_file.split(\"/\")[-1]}'\n",
      "AssertionError: 如果只有一个label那么此时应为降主动脉, 但实际为s：zhangjunfei-25-33-52-125_0031.txt\n"
     ]
    },
    {
     "name": "stdout",
     "output_type": "stream",
     "text": [
      "******Processing zhangkesheng-27-34-63-144******\n"
     ]
    },
    {
     "name": "stderr",
     "output_type": "stream",
     "text": [
      "Traceback (most recent call last):\n",
      "  File \"/tmp/ipykernel_37540/2245311451.py\", line 44, in crop_images\n",
      "    x1, y1, x2, y2 = find_coordinate(*img.shape[0:2], os.path.join(label_path, f'{patient}_{i:04d}.txt'), 's')\n",
      "  File \"/tmp/ipykernel_37540/2245311451.py\", line 7, in find_coordinate\n",
      "    assert aorta == 'j', f'如果只有一个label那么此时应为降主动脉, 但实际为{aorta}：{label_file.split(\"/\")[-1]}'\n",
      "AssertionError: 如果只有一个label那么此时应为降主动脉, 但实际为s：zhangkesheng-27-34-63-144_0032.txt\n",
      "Traceback (most recent call last):\n",
      "  File \"/tmp/ipykernel_37540/2245311451.py\", line 44, in crop_images\n",
      "    x1, y1, x2, y2 = find_coordinate(*img.shape[0:2], os.path.join(label_path, f'{patient}_{i:04d}.txt'), 's')\n",
      "  File \"/tmp/ipykernel_37540/2245311451.py\", line 7, in find_coordinate\n",
      "    assert aorta == 'j', f'如果只有一个label那么此时应为降主动脉, 但实际为{aorta}：{label_file.split(\"/\")[-1]}'\n",
      "AssertionError: 如果只有一个label那么此时应为降主动脉, 但实际为s：zhangkesheng-27-34-63-144_0033.txt\n"
     ]
    },
    {
     "name": "stdout",
     "output_type": "stream",
     "text": [
      "******Processing zhanglanxian-19-28-48-129******\n",
      "******Processing zhangmeiqin-19-22-39-86******\n"
     ]
    },
    {
     "name": "stderr",
     "output_type": "stream",
     "text": [
      "Traceback (most recent call last):\n",
      "  File \"/tmp/ipykernel_37540/2245311451.py\", line 44, in crop_images\n",
      "    x1, y1, x2, y2 = find_coordinate(*img.shape[0:2], os.path.join(label_path, f'{patient}_{i:04d}.txt'), 's')\n",
      "  File \"/tmp/ipykernel_37540/2245311451.py\", line 7, in find_coordinate\n",
      "    assert aorta == 'j', f'如果只有一个label那么此时应为降主动脉, 但实际为{aorta}：{label_file.split(\"/\")[-1]}'\n",
      "AssertionError: 如果只有一个label那么此时应为降主动脉, 但实际为s：zhangmeiqin-19-22-39-86_0019.txt\n",
      "Traceback (most recent call last):\n",
      "  File \"/tmp/ipykernel_37540/2245311451.py\", line 44, in crop_images\n",
      "    x1, y1, x2, y2 = find_coordinate(*img.shape[0:2], os.path.join(label_path, f'{patient}_{i:04d}.txt'), 's')\n",
      "  File \"/tmp/ipykernel_37540/2245311451.py\", line 7, in find_coordinate\n",
      "    assert aorta == 'j', f'如果只有一个label那么此时应为降主动脉, 但实际为{aorta}：{label_file.split(\"/\")[-1]}'\n",
      "AssertionError: 如果只有一个label那么此时应为降主动脉, 但实际为s：zhangmeiqin-19-22-39-86_0020.txt\n"
     ]
    },
    {
     "name": "stdout",
     "output_type": "stream",
     "text": [
      "******Processing zhangmingfa-22-27-37-93******\n"
     ]
    },
    {
     "name": "stderr",
     "output_type": "stream",
     "text": [
      "Traceback (most recent call last):\n",
      "  File \"/tmp/ipykernel_37540/2245311451.py\", line 44, in crop_images\n",
      "    x1, y1, x2, y2 = find_coordinate(*img.shape[0:2], os.path.join(label_path, f'{patient}_{i:04d}.txt'), 's')\n",
      "  File \"/tmp/ipykernel_37540/2245311451.py\", line 7, in find_coordinate\n",
      "    assert aorta == 'j', f'如果只有一个label那么此时应为降主动脉, 但实际为{aorta}：{label_file.split(\"/\")[-1]}'\n",
      "AssertionError: 如果只有一个label那么此时应为降主动脉, 但实际为s：zhangmingfa-22-27-37-93_0024.txt\n",
      "Traceback (most recent call last):\n",
      "  File \"/tmp/ipykernel_37540/2245311451.py\", line 44, in crop_images\n",
      "    x1, y1, x2, y2 = find_coordinate(*img.shape[0:2], os.path.join(label_path, f'{patient}_{i:04d}.txt'), 's')\n",
      "  File \"/tmp/ipykernel_37540/2245311451.py\", line 7, in find_coordinate\n",
      "    assert aorta == 'j', f'如果只有一个label那么此时应为降主动脉, 但实际为{aorta}：{label_file.split(\"/\")[-1]}'\n",
      "AssertionError: 如果只有一个label那么此时应为降主动脉, 但实际为s：zhangmingfa-22-27-37-93_0025.txt\n"
     ]
    },
    {
     "name": "stdout",
     "output_type": "stream",
     "text": [
      "******Processing zhangqingrong-32-43-73-161******\n",
      "******Processing zhangsuyun-18-21-37-81******\n"
     ]
    },
    {
     "name": "stderr",
     "output_type": "stream",
     "text": [
      "Traceback (most recent call last):\n",
      "  File \"/tmp/ipykernel_37540/2245311451.py\", line 44, in crop_images\n",
      "    x1, y1, x2, y2 = find_coordinate(*img.shape[0:2], os.path.join(label_path, f'{patient}_{i:04d}.txt'), 's')\n",
      "  File \"/tmp/ipykernel_37540/2245311451.py\", line 7, in find_coordinate\n",
      "    assert aorta == 'j', f'如果只有一个label那么此时应为降主动脉, 但实际为{aorta}：{label_file.split(\"/\")[-1]}'\n",
      "AssertionError: 如果只有一个label那么此时应为降主动脉, 但实际为s：zhangsuyun-18-21-37-81_0018.txt\n",
      "Traceback (most recent call last):\n",
      "  File \"/tmp/ipykernel_37540/2245311451.py\", line 44, in crop_images\n",
      "    x1, y1, x2, y2 = find_coordinate(*img.shape[0:2], os.path.join(label_path, f'{patient}_{i:04d}.txt'), 's')\n",
      "  File \"/tmp/ipykernel_37540/2245311451.py\", line 7, in find_coordinate\n",
      "    assert aorta == 'j', f'如果只有一个label那么此时应为降主动脉, 但实际为{aorta}：{label_file.split(\"/\")[-1]}'\n",
      "AssertionError: 如果只有一个label那么此时应为降主动脉, 但实际为s：zhangsuyun-18-21-37-81_0019.txt\n"
     ]
    },
    {
     "name": "stdout",
     "output_type": "stream",
     "text": [
      "******Processing zhangxianjun-16-23-31-82******\n"
     ]
    },
    {
     "name": "stderr",
     "output_type": "stream",
     "text": [
      "Traceback (most recent call last):\n",
      "  File \"/tmp/ipykernel_37540/2245311451.py\", line 44, in crop_images\n",
      "    x1, y1, x2, y2 = find_coordinate(*img.shape[0:2], os.path.join(label_path, f'{patient}_{i:04d}.txt'), 's')\n",
      "  File \"/tmp/ipykernel_37540/2245311451.py\", line 7, in find_coordinate\n",
      "    assert aorta == 'j', f'如果只有一个label那么此时应为降主动脉, 但实际为{aorta}：{label_file.split(\"/\")[-1]}'\n",
      "AssertionError: 如果只有一个label那么此时应为降主动脉, 但实际为s：zhangxianjun-16-23-31-82_0019.txt\n"
     ]
    },
    {
     "name": "stdout",
     "output_type": "stream",
     "text": [
      "******Processing zhangyao-17-22-29-83******\n"
     ]
    },
    {
     "name": "stderr",
     "output_type": "stream",
     "text": [
      "Traceback (most recent call last):\n",
      "  File \"/tmp/ipykernel_37540/2245311451.py\", line 44, in crop_images\n",
      "    x1, y1, x2, y2 = find_coordinate(*img.shape[0:2], os.path.join(label_path, f'{patient}_{i:04d}.txt'), 's')\n",
      "  File \"/tmp/ipykernel_37540/2245311451.py\", line 7, in find_coordinate\n",
      "    assert aorta == 'j', f'如果只有一个label那么此时应为降主动脉, 但实际为{aorta}：{label_file.split(\"/\")[-1]}'\n",
      "AssertionError: 如果只有一个label那么此时应为降主动脉, 但实际为s：zhangyao-17-22-29-83_0018.txt\n",
      "Traceback (most recent call last):\n",
      "  File \"/tmp/ipykernel_37540/2245311451.py\", line 44, in crop_images\n",
      "    x1, y1, x2, y2 = find_coordinate(*img.shape[0:2], os.path.join(label_path, f'{patient}_{i:04d}.txt'), 's')\n",
      "  File \"/tmp/ipykernel_37540/2245311451.py\", line 7, in find_coordinate\n",
      "    assert aorta == 'j', f'如果只有一个label那么此时应为降主动脉, 但实际为{aorta}：{label_file.split(\"/\")[-1]}'\n",
      "AssertionError: 如果只有一个label那么此时应为降主动脉, 但实际为s：zhangyao-17-22-29-83_0019.txt\n"
     ]
    },
    {
     "name": "stdout",
     "output_type": "stream",
     "text": [
      "******Processing zhangyitian-26-32-55-148******\n"
     ]
    },
    {
     "name": "stderr",
     "output_type": "stream",
     "text": [
      "Traceback (most recent call last):\n",
      "  File \"/tmp/ipykernel_37540/2245311451.py\", line 44, in crop_images\n",
      "    x1, y1, x2, y2 = find_coordinate(*img.shape[0:2], os.path.join(label_path, f'{patient}_{i:04d}.txt'), 's')\n",
      "  File \"/tmp/ipykernel_37540/2245311451.py\", line 7, in find_coordinate\n",
      "    assert aorta == 'j', f'如果只有一个label那么此时应为降主动脉, 但实际为{aorta}：{label_file.split(\"/\")[-1]}'\n",
      "AssertionError: 如果只有一个label那么此时应为降主动脉, 但实际为s：zhangyitian-26-32-55-148_0030.txt\n",
      "Traceback (most recent call last):\n",
      "  File \"/tmp/ipykernel_37540/2245311451.py\", line 44, in crop_images\n",
      "    x1, y1, x2, y2 = find_coordinate(*img.shape[0:2], os.path.join(label_path, f'{patient}_{i:04d}.txt'), 's')\n",
      "  File \"/tmp/ipykernel_37540/2245311451.py\", line 7, in find_coordinate\n",
      "    assert aorta == 'j', f'如果只有一个label那么此时应为降主动脉, 但实际为{aorta}：{label_file.split(\"/\")[-1]}'\n",
      "AssertionError: 如果只有一个label那么此时应为降主动脉, 但实际为s：zhangyitian-26-32-55-148_0031.txt\n",
      "Traceback (most recent call last):\n",
      "  File \"/tmp/ipykernel_37540/2245311451.py\", line 61, in crop_images\n",
      "    x1, y1, x2, y2 = find_coordinate(*img.shape[0:2], os.path.join(label_path, f'{patient}_{i:04d}.txt'), 'j')\n",
      "  File \"/tmp/ipykernel_37540/2245311451.py\", line 3, in find_coordinate\n",
      "    with open(label_file, 'r') as f:\n",
      "FileNotFoundError: [Errno 2] No such file or directory: '/nfs3-p1/zsxm/dataset/aorta_ct_img_label/negative/zhangyitian-26-32-55-148/labels/zhangyitian-26-32-55-148_0110.txt'\n",
      "Traceback (most recent call last):\n",
      "  File \"/tmp/ipykernel_37540/2245311451.py\", line 44, in crop_images\n",
      "    x1, y1, x2, y2 = find_coordinate(*img.shape[0:2], os.path.join(label_path, f'{patient}_{i:04d}.txt'), 's')\n",
      "  File \"/tmp/ipykernel_37540/2245311451.py\", line 7, in find_coordinate\n",
      "    assert aorta == 'j', f'如果只有一个label那么此时应为降主动脉, 但实际为{aorta}：{label_file.split(\"/\")[-1]}'\n",
      "AssertionError: 如果只有一个label那么此时应为降主动脉, 但实际为s：zhangyulin-20-25-40-93_0022.txt\n"
     ]
    },
    {
     "name": "stdout",
     "output_type": "stream",
     "text": [
      "******Processing zhangyulin-20-25-40-93******\n",
      "******Processing zhanmin-18-23-37-88******\n"
     ]
    },
    {
     "name": "stderr",
     "output_type": "stream",
     "text": [
      "Traceback (most recent call last):\n",
      "  File \"/tmp/ipykernel_37540/2245311451.py\", line 44, in crop_images\n",
      "    x1, y1, x2, y2 = find_coordinate(*img.shape[0:2], os.path.join(label_path, f'{patient}_{i:04d}.txt'), 's')\n",
      "  File \"/tmp/ipykernel_37540/2245311451.py\", line 7, in find_coordinate\n",
      "    assert aorta == 'j', f'如果只有一个label那么此时应为降主动脉, 但实际为{aorta}：{label_file.split(\"/\")[-1]}'\n",
      "AssertionError: 如果只有一个label那么此时应为降主动脉, 但实际为s：zhanmin-18-23-37-88_0020.txt\n",
      "Traceback (most recent call last):\n",
      "  File \"/tmp/ipykernel_37540/2245311451.py\", line 44, in crop_images\n",
      "    x1, y1, x2, y2 = find_coordinate(*img.shape[0:2], os.path.join(label_path, f'{patient}_{i:04d}.txt'), 's')\n",
      "  File \"/tmp/ipykernel_37540/2245311451.py\", line 7, in find_coordinate\n",
      "    assert aorta == 'j', f'如果只有一个label那么此时应为降主动脉, 但实际为{aorta}：{label_file.split(\"/\")[-1]}'\n",
      "AssertionError: 如果只有一个label那么此时应为降主动脉, 但实际为s：zhanmin-18-23-37-88_0021.txt\n"
     ]
    },
    {
     "name": "stdout",
     "output_type": "stream",
     "text": [
      "******Processing zhaofuchang-16-21-30-80******\n"
     ]
    },
    {
     "name": "stderr",
     "output_type": "stream",
     "text": [
      "Traceback (most recent call last):\n",
      "  File \"/tmp/ipykernel_37540/2245311451.py\", line 44, in crop_images\n",
      "    x1, y1, x2, y2 = find_coordinate(*img.shape[0:2], os.path.join(label_path, f'{patient}_{i:04d}.txt'), 's')\n",
      "  File \"/tmp/ipykernel_37540/2245311451.py\", line 7, in find_coordinate\n",
      "    assert aorta == 'j', f'如果只有一个label那么此时应为降主动脉, 但实际为{aorta}：{label_file.split(\"/\")[-1]}'\n",
      "AssertionError: 如果只有一个label那么此时应为降主动脉, 但实际为s：zhaofuchang-16-21-30-80_0017.txt\n",
      "Traceback (most recent call last):\n",
      "  File \"/tmp/ipykernel_37540/2245311451.py\", line 44, in crop_images\n",
      "    x1, y1, x2, y2 = find_coordinate(*img.shape[0:2], os.path.join(label_path, f'{patient}_{i:04d}.txt'), 's')\n",
      "  File \"/tmp/ipykernel_37540/2245311451.py\", line 7, in find_coordinate\n",
      "    assert aorta == 'j', f'如果只有一个label那么此时应为降主动脉, 但实际为{aorta}：{label_file.split(\"/\")[-1]}'\n",
      "AssertionError: 如果只有一个label那么此时应为降主动脉, 但实际为s：zhaofuchang-16-21-30-80_0018.txt\n",
      "Traceback (most recent call last):\n",
      "  File \"/tmp/ipykernel_37540/2245311451.py\", line 44, in crop_images\n",
      "    x1, y1, x2, y2 = find_coordinate(*img.shape[0:2], os.path.join(label_path, f'{patient}_{i:04d}.txt'), 's')\n",
      "  File \"/tmp/ipykernel_37540/2245311451.py\", line 7, in find_coordinate\n",
      "    assert aorta == 'j', f'如果只有一个label那么此时应为降主动脉, 但实际为{aorta}：{label_file.split(\"/\")[-1]}'\n",
      "AssertionError: 如果只有一个label那么此时应为降主动脉, 但实际为s：zhaofuchang-16-21-30-80_0019.txt\n"
     ]
    },
    {
     "name": "stdout",
     "output_type": "stream",
     "text": [
      "******Processing zhaomin-11-15-32-86******\n"
     ]
    },
    {
     "name": "stderr",
     "output_type": "stream",
     "text": [
      "Traceback (most recent call last):\n",
      "  File \"/tmp/ipykernel_37540/2245311451.py\", line 44, in crop_images\n",
      "    x1, y1, x2, y2 = find_coordinate(*img.shape[0:2], os.path.join(label_path, f'{patient}_{i:04d}.txt'), 's')\n",
      "  File \"/tmp/ipykernel_37540/2245311451.py\", line 7, in find_coordinate\n",
      "    assert aorta == 'j', f'如果只有一个label那么此时应为降主动脉, 但实际为{aorta}：{label_file.split(\"/\")[-1]}'\n",
      "AssertionError: 如果只有一个label那么此时应为降主动脉, 但实际为s：zhaomin-11-15-32-86_0012.txt\n",
      "Traceback (most recent call last):\n",
      "  File \"/tmp/ipykernel_37540/2245311451.py\", line 44, in crop_images\n",
      "    x1, y1, x2, y2 = find_coordinate(*img.shape[0:2], os.path.join(label_path, f'{patient}_{i:04d}.txt'), 's')\n",
      "  File \"/tmp/ipykernel_37540/2245311451.py\", line 7, in find_coordinate\n",
      "    assert aorta == 'j', f'如果只有一个label那么此时应为降主动脉, 但实际为{aorta}：{label_file.split(\"/\")[-1]}'\n",
      "AssertionError: 如果只有一个label那么此时应为降主动脉, 但实际为s：zhaomin-11-15-32-86_0013.txt\n",
      "Traceback (most recent call last):\n",
      "  File \"/tmp/ipykernel_37540/2245311451.py\", line 44, in crop_images\n",
      "    x1, y1, x2, y2 = find_coordinate(*img.shape[0:2], os.path.join(label_path, f'{patient}_{i:04d}.txt'), 's')\n",
      "  File \"/tmp/ipykernel_37540/2245311451.py\", line 7, in find_coordinate\n",
      "    assert aorta == 'j', f'如果只有一个label那么此时应为降主动脉, 但实际为{aorta}：{label_file.split(\"/\")[-1]}'\n",
      "AssertionError: 如果只有一个label那么此时应为降主动脉, 但实际为s：zhaomin-11-15-32-86_0014.txt\n"
     ]
    },
    {
     "name": "stdout",
     "output_type": "stream",
     "text": [
      "******Processing zhaorong-33-42-71-163******\n"
     ]
    },
    {
     "name": "stderr",
     "output_type": "stream",
     "text": [
      "Traceback (most recent call last):\n",
      "  File \"/tmp/ipykernel_37540/2245311451.py\", line 44, in crop_images\n",
      "    x1, y1, x2, y2 = find_coordinate(*img.shape[0:2], os.path.join(label_path, f'{patient}_{i:04d}.txt'), 's')\n",
      "  File \"/tmp/ipykernel_37540/2245311451.py\", line 7, in find_coordinate\n",
      "    assert aorta == 'j', f'如果只有一个label那么此时应为降主动脉, 但实际为{aorta}：{label_file.split(\"/\")[-1]}'\n",
      "AssertionError: 如果只有一个label那么此时应为降主动脉, 但实际为s：zhaorong-33-42-71-163_0040.txt\n",
      "Traceback (most recent call last):\n",
      "  File \"/tmp/ipykernel_37540/2245311451.py\", line 44, in crop_images\n",
      "    x1, y1, x2, y2 = find_coordinate(*img.shape[0:2], os.path.join(label_path, f'{patient}_{i:04d}.txt'), 's')\n",
      "  File \"/tmp/ipykernel_37540/2245311451.py\", line 7, in find_coordinate\n",
      "    assert aorta == 'j', f'如果只有一个label那么此时应为降主动脉, 但实际为{aorta}：{label_file.split(\"/\")[-1]}'\n",
      "AssertionError: 如果只有一个label那么此时应为降主动脉, 但实际为s：zhaorong-33-42-71-163_0041.txt\n"
     ]
    },
    {
     "name": "stdout",
     "output_type": "stream",
     "text": [
      "******Processing zhaoshunshou-30-38-53-139******\n"
     ]
    },
    {
     "name": "stderr",
     "output_type": "stream",
     "text": [
      "Traceback (most recent call last):\n",
      "  File \"/tmp/ipykernel_37540/2245311451.py\", line 44, in crop_images\n",
      "    x1, y1, x2, y2 = find_coordinate(*img.shape[0:2], os.path.join(label_path, f'{patient}_{i:04d}.txt'), 's')\n",
      "  File \"/tmp/ipykernel_37540/2245311451.py\", line 7, in find_coordinate\n",
      "    assert aorta == 'j', f'如果只有一个label那么此时应为降主动脉, 但实际为{aorta}：{label_file.split(\"/\")[-1]}'\n",
      "AssertionError: 如果只有一个label那么此时应为降主动脉, 但实际为s：zhaoshunshou-30-38-53-139_0035.txt\n"
     ]
    },
    {
     "name": "stdout",
     "output_type": "stream",
     "text": [
      "******Processing zhaosuifang-23-34-61-154******\n"
     ]
    },
    {
     "name": "stderr",
     "output_type": "stream",
     "text": [
      "Traceback (most recent call last):\n",
      "  File \"/tmp/ipykernel_37540/2245311451.py\", line 44, in crop_images\n",
      "    x1, y1, x2, y2 = find_coordinate(*img.shape[0:2], os.path.join(label_path, f'{patient}_{i:04d}.txt'), 's')\n",
      "  File \"/tmp/ipykernel_37540/2245311451.py\", line 7, in find_coordinate\n",
      "    assert aorta == 'j', f'如果只有一个label那么此时应为降主动脉, 但实际为{aorta}：{label_file.split(\"/\")[-1]}'\n",
      "AssertionError: 如果只有一个label那么此时应为降主动脉, 但实际为s：zhaosuifang-23-34-61-154_0032.txt\n"
     ]
    },
    {
     "name": "stdout",
     "output_type": "stream",
     "text": [
      "******Processing zhaoyijun-17-20-33-82******\n"
     ]
    },
    {
     "name": "stderr",
     "output_type": "stream",
     "text": [
      "Traceback (most recent call last):\n",
      "  File \"/tmp/ipykernel_37540/2245311451.py\", line 44, in crop_images\n",
      "    x1, y1, x2, y2 = find_coordinate(*img.shape[0:2], os.path.join(label_path, f'{patient}_{i:04d}.txt'), 's')\n",
      "  File \"/tmp/ipykernel_37540/2245311451.py\", line 7, in find_coordinate\n",
      "    assert aorta == 'j', f'如果只有一个label那么此时应为降主动脉, 但实际为{aorta}：{label_file.split(\"/\")[-1]}'\n",
      "AssertionError: 如果只有一个label那么此时应为降主动脉, 但实际为s：zhaoyijun-17-20-33-82_0017.txt\n",
      "Traceback (most recent call last):\n",
      "  File \"/tmp/ipykernel_37540/2245311451.py\", line 44, in crop_images\n",
      "    x1, y1, x2, y2 = find_coordinate(*img.shape[0:2], os.path.join(label_path, f'{patient}_{i:04d}.txt'), 's')\n",
      "  File \"/tmp/ipykernel_37540/2245311451.py\", line 7, in find_coordinate\n",
      "    assert aorta == 'j', f'如果只有一个label那么此时应为降主动脉, 但实际为{aorta}：{label_file.split(\"/\")[-1]}'\n",
      "AssertionError: 如果只有一个label那么此时应为降主动脉, 但实际为s：zhaoyijun-17-20-33-82_0018.txt\n",
      "Traceback (most recent call last):\n",
      "  File \"/tmp/ipykernel_37540/2245311451.py\", line 44, in crop_images\n",
      "    x1, y1, x2, y2 = find_coordinate(*img.shape[0:2], os.path.join(label_path, f'{patient}_{i:04d}.txt'), 's')\n",
      "  File \"/tmp/ipykernel_37540/2245311451.py\", line 7, in find_coordinate\n",
      "    assert aorta == 'j', f'如果只有一个label那么此时应为降主动脉, 但实际为{aorta}：{label_file.split(\"/\")[-1]}'\n",
      "AssertionError: 如果只有一个label那么此时应为降主动脉, 但实际为s：zhaoyijun-17-20-33-82_0019.txt\n"
     ]
    },
    {
     "name": "stdout",
     "output_type": "stream",
     "text": [
      "******Processing zhaoyouyang-24-34-41-125******\n"
     ]
    },
    {
     "name": "stderr",
     "output_type": "stream",
     "text": [
      "Traceback (most recent call last):\n",
      "  File \"/tmp/ipykernel_37540/2245311451.py\", line 44, in crop_images\n",
      "    x1, y1, x2, y2 = find_coordinate(*img.shape[0:2], os.path.join(label_path, f'{patient}_{i:04d}.txt'), 's')\n",
      "  File \"/tmp/ipykernel_37540/2245311451.py\", line 7, in find_coordinate\n",
      "    assert aorta == 'j', f'如果只有一个label那么此时应为降主动脉, 但实际为{aorta}：{label_file.split(\"/\")[-1]}'\n",
      "AssertionError: 如果只有一个label那么此时应为降主动脉, 但实际为s：zhaoyouyang-24-34-41-125_0030.txt\n",
      "Traceback (most recent call last):\n",
      "  File \"/tmp/ipykernel_37540/2245311451.py\", line 44, in crop_images\n",
      "    x1, y1, x2, y2 = find_coordinate(*img.shape[0:2], os.path.join(label_path, f'{patient}_{i:04d}.txt'), 's')\n",
      "  File \"/tmp/ipykernel_37540/2245311451.py\", line 7, in find_coordinate\n",
      "    assert aorta == 'j', f'如果只有一个label那么此时应为降主动脉, 但实际为{aorta}：{label_file.split(\"/\")[-1]}'\n",
      "AssertionError: 如果只有一个label那么此时应为降主动脉, 但实际为s：zhaoyouyang-24-34-41-125_0031.txt\n"
     ]
    },
    {
     "name": "stdout",
     "output_type": "stream",
     "text": [
      "******Processing zhengfahong-22-26-44-99******\n"
     ]
    },
    {
     "name": "stderr",
     "output_type": "stream",
     "text": [
      "Traceback (most recent call last):\n",
      "  File \"/tmp/ipykernel_37540/2245311451.py\", line 44, in crop_images\n",
      "    x1, y1, x2, y2 = find_coordinate(*img.shape[0:2], os.path.join(label_path, f'{patient}_{i:04d}.txt'), 's')\n",
      "  File \"/tmp/ipykernel_37540/2245311451.py\", line 7, in find_coordinate\n",
      "    assert aorta == 'j', f'如果只有一个label那么此时应为降主动脉, 但实际为{aorta}：{label_file.split(\"/\")[-1]}'\n",
      "AssertionError: 如果只有一个label那么此时应为降主动脉, 但实际为s：zhengfahong-22-26-44-99_0023.txt\n",
      "Traceback (most recent call last):\n",
      "  File \"/tmp/ipykernel_37540/2245311451.py\", line 44, in crop_images\n",
      "    x1, y1, x2, y2 = find_coordinate(*img.shape[0:2], os.path.join(label_path, f'{patient}_{i:04d}.txt'), 's')\n",
      "  File \"/tmp/ipykernel_37540/2245311451.py\", line 7, in find_coordinate\n",
      "    assert aorta == 'j', f'如果只有一个label那么此时应为降主动脉, 但实际为{aorta}：{label_file.split(\"/\")[-1]}'\n",
      "AssertionError: 如果只有一个label那么此时应为降主动脉, 但实际为s：zhengfahong-22-26-44-99_0024.txt\n",
      "Traceback (most recent call last):\n",
      "  File \"/tmp/ipykernel_37540/2245311451.py\", line 44, in crop_images\n",
      "    x1, y1, x2, y2 = find_coordinate(*img.shape[0:2], os.path.join(label_path, f'{patient}_{i:04d}.txt'), 's')\n",
      "  File \"/tmp/ipykernel_37540/2245311451.py\", line 7, in find_coordinate\n",
      "    assert aorta == 'j', f'如果只有一个label那么此时应为降主动脉, 但实际为{aorta}：{label_file.split(\"/\")[-1]}'\n",
      "AssertionError: 如果只有一个label那么此时应为降主动脉, 但实际为s：zhengfahong-22-26-44-99_0025.txt\n"
     ]
    },
    {
     "name": "stdout",
     "output_type": "stream",
     "text": [
      "******Processing zhengguanhan-17-23-34-79******\n",
      "******Processing zhengjilang-23-33-49-135******\n"
     ]
    },
    {
     "name": "stderr",
     "output_type": "stream",
     "text": [
      "Traceback (most recent call last):\n",
      "  File \"/tmp/ipykernel_37540/2245311451.py\", line 44, in crop_images\n",
      "    x1, y1, x2, y2 = find_coordinate(*img.shape[0:2], os.path.join(label_path, f'{patient}_{i:04d}.txt'), 's')\n",
      "  File \"/tmp/ipykernel_37540/2245311451.py\", line 7, in find_coordinate\n",
      "    assert aorta == 'j', f'如果只有一个label那么此时应为降主动脉, 但实际为{aorta}：{label_file.split(\"/\")[-1]}'\n",
      "AssertionError: 如果只有一个label那么此时应为降主动脉, 但实际为s：zhengjilang-23-33-49-135_0030.txt\n"
     ]
    },
    {
     "name": "stdout",
     "output_type": "stream",
     "text": [
      "******Processing zhengjuying-16-19-33-86******\n"
     ]
    },
    {
     "name": "stderr",
     "output_type": "stream",
     "text": [
      "Traceback (most recent call last):\n",
      "  File \"/tmp/ipykernel_37540/2245311451.py\", line 44, in crop_images\n",
      "    x1, y1, x2, y2 = find_coordinate(*img.shape[0:2], os.path.join(label_path, f'{patient}_{i:04d}.txt'), 's')\n",
      "  File \"/tmp/ipykernel_37540/2245311451.py\", line 7, in find_coordinate\n",
      "    assert aorta == 'j', f'如果只有一个label那么此时应为降主动脉, 但实际为{aorta}：{label_file.split(\"/\")[-1]}'\n",
      "AssertionError: 如果只有一个label那么此时应为降主动脉, 但实际为s：zhengjuying-16-19-33-86_0016.txt\n",
      "Traceback (most recent call last):\n",
      "  File \"/tmp/ipykernel_37540/2245311451.py\", line 44, in crop_images\n",
      "    x1, y1, x2, y2 = find_coordinate(*img.shape[0:2], os.path.join(label_path, f'{patient}_{i:04d}.txt'), 's')\n",
      "  File \"/tmp/ipykernel_37540/2245311451.py\", line 7, in find_coordinate\n",
      "    assert aorta == 'j', f'如果只有一个label那么此时应为降主动脉, 但实际为{aorta}：{label_file.split(\"/\")[-1]}'\n",
      "AssertionError: 如果只有一个label那么此时应为降主动脉, 但实际为s：zhengjuying-16-19-33-86_0017.txt\n"
     ]
    },
    {
     "name": "stdout",
     "output_type": "stream",
     "text": [
      "******Processing zhengronghua-21-30-44-127******\n"
     ]
    },
    {
     "name": "stderr",
     "output_type": "stream",
     "text": [
      "Traceback (most recent call last):\n",
      "  File \"/tmp/ipykernel_37540/2245311451.py\", line 44, in crop_images\n",
      "    x1, y1, x2, y2 = find_coordinate(*img.shape[0:2], os.path.join(label_path, f'{patient}_{i:04d}.txt'), 's')\n",
      "  File \"/tmp/ipykernel_37540/2245311451.py\", line 7, in find_coordinate\n",
      "    assert aorta == 'j', f'如果只有一个label那么此时应为降主动脉, 但实际为{aorta}：{label_file.split(\"/\")[-1]}'\n",
      "AssertionError: 如果只有一个label那么此时应为降主动脉, 但实际为s：zhengronghua-21-30-44-127_0027.txt\n"
     ]
    },
    {
     "name": "stdout",
     "output_type": "stream",
     "text": [
      "******Processing zhengwanhua-29-40-59-156******\n",
      "******Processing zhengwenyan-15-20-29-82******\n"
     ]
    },
    {
     "name": "stderr",
     "output_type": "stream",
     "text": [
      "Traceback (most recent call last):\n",
      "  File \"/tmp/ipykernel_37540/2245311451.py\", line 44, in crop_images\n",
      "    x1, y1, x2, y2 = find_coordinate(*img.shape[0:2], os.path.join(label_path, f'{patient}_{i:04d}.txt'), 's')\n",
      "  File \"/tmp/ipykernel_37540/2245311451.py\", line 7, in find_coordinate\n",
      "    assert aorta == 'j', f'如果只有一个label那么此时应为降主动脉, 但实际为{aorta}：{label_file.split(\"/\")[-1]}'\n",
      "AssertionError: 如果只有一个label那么此时应为降主动脉, 但实际为s：zhengwenyan-15-20-29-82_0016.txt\n",
      "Traceback (most recent call last):\n",
      "  File \"/tmp/ipykernel_37540/2245311451.py\", line 44, in crop_images\n",
      "    x1, y1, x2, y2 = find_coordinate(*img.shape[0:2], os.path.join(label_path, f'{patient}_{i:04d}.txt'), 's')\n",
      "  File \"/tmp/ipykernel_37540/2245311451.py\", line 7, in find_coordinate\n",
      "    assert aorta == 'j', f'如果只有一个label那么此时应为降主动脉, 但实际为{aorta}：{label_file.split(\"/\")[-1]}'\n",
      "AssertionError: 如果只有一个label那么此时应为降主动脉, 但实际为s：zhengwenyan-15-20-29-82_0017.txt\n"
     ]
    },
    {
     "name": "stdout",
     "output_type": "stream",
     "text": [
      "******Processing zhengxuefei-21-24-43-86******\n"
     ]
    },
    {
     "name": "stderr",
     "output_type": "stream",
     "text": [
      "Traceback (most recent call last):\n",
      "  File \"/tmp/ipykernel_37540/2245311451.py\", line 44, in crop_images\n",
      "    x1, y1, x2, y2 = find_coordinate(*img.shape[0:2], os.path.join(label_path, f'{patient}_{i:04d}.txt'), 's')\n",
      "  File \"/tmp/ipykernel_37540/2245311451.py\", line 7, in find_coordinate\n",
      "    assert aorta == 'j', f'如果只有一个label那么此时应为降主动脉, 但实际为{aorta}：{label_file.split(\"/\")[-1]}'\n",
      "AssertionError: 如果只有一个label那么此时应为降主动脉, 但实际为s：zhengxuefei-21-24-43-86_0021.txt\n",
      "Traceback (most recent call last):\n",
      "  File \"/tmp/ipykernel_37540/2245311451.py\", line 44, in crop_images\n",
      "    x1, y1, x2, y2 = find_coordinate(*img.shape[0:2], os.path.join(label_path, f'{patient}_{i:04d}.txt'), 's')\n",
      "  File \"/tmp/ipykernel_37540/2245311451.py\", line 7, in find_coordinate\n",
      "    assert aorta == 'j', f'如果只有一个label那么此时应为降主动脉, 但实际为{aorta}：{label_file.split(\"/\")[-1]}'\n",
      "AssertionError: 如果只有一个label那么此时应为降主动脉, 但实际为s：zhengxuefei-21-24-43-86_0022.txt\n",
      "Traceback (most recent call last):\n",
      "  File \"/tmp/ipykernel_37540/2245311451.py\", line 44, in crop_images\n",
      "    x1, y1, x2, y2 = find_coordinate(*img.shape[0:2], os.path.join(label_path, f'{patient}_{i:04d}.txt'), 's')\n",
      "  File \"/tmp/ipykernel_37540/2245311451.py\", line 7, in find_coordinate\n",
      "    assert aorta == 'j', f'如果只有一个label那么此时应为降主动脉, 但实际为{aorta}：{label_file.split(\"/\")[-1]}'\n",
      "AssertionError: 如果只有一个label那么此时应为降主动脉, 但实际为s：zhengxuefei-21-24-43-86_0023.txt\n"
     ]
    },
    {
     "name": "stdout",
     "output_type": "stream",
     "text": [
      "******Processing zhengyingu-14-18-26-76******\n"
     ]
    },
    {
     "name": "stderr",
     "output_type": "stream",
     "text": [
      "Traceback (most recent call last):\n",
      "  File \"/tmp/ipykernel_37540/2245311451.py\", line 44, in crop_images\n",
      "    x1, y1, x2, y2 = find_coordinate(*img.shape[0:2], os.path.join(label_path, f'{patient}_{i:04d}.txt'), 's')\n",
      "  File \"/tmp/ipykernel_37540/2245311451.py\", line 7, in find_coordinate\n",
      "    assert aorta == 'j', f'如果只有一个label那么此时应为降主动脉, 但实际为{aorta}：{label_file.split(\"/\")[-1]}'\n",
      "AssertionError: 如果只有一个label那么此时应为降主动脉, 但实际为s：zhengyingu-14-18-26-76_0014.txt\n",
      "Traceback (most recent call last):\n",
      "  File \"/tmp/ipykernel_37540/2245311451.py\", line 44, in crop_images\n",
      "    x1, y1, x2, y2 = find_coordinate(*img.shape[0:2], os.path.join(label_path, f'{patient}_{i:04d}.txt'), 's')\n",
      "  File \"/tmp/ipykernel_37540/2245311451.py\", line 7, in find_coordinate\n",
      "    assert aorta == 'j', f'如果只有一个label那么此时应为降主动脉, 但实际为{aorta}：{label_file.split(\"/\")[-1]}'\n",
      "AssertionError: 如果只有一个label那么此时应为降主动脉, 但实际为s：zhengyingu-14-18-26-76_0015.txt\n",
      "Traceback (most recent call last):\n",
      "  File \"/tmp/ipykernel_37540/2245311451.py\", line 44, in crop_images\n",
      "    x1, y1, x2, y2 = find_coordinate(*img.shape[0:2], os.path.join(label_path, f'{patient}_{i:04d}.txt'), 's')\n",
      "  File \"/tmp/ipykernel_37540/2245311451.py\", line 7, in find_coordinate\n",
      "    assert aorta == 'j', f'如果只有一个label那么此时应为降主动脉, 但实际为{aorta}：{label_file.split(\"/\")[-1]}'\n",
      "AssertionError: 如果只有一个label那么此时应为降主动脉, 但实际为s：zhengyingu-14-18-26-76_0016.txt\n"
     ]
    },
    {
     "name": "stdout",
     "output_type": "stream",
     "text": [
      "******Processing zhengyouduo-23-27-41-83******\n"
     ]
    },
    {
     "name": "stderr",
     "output_type": "stream",
     "text": [
      "Traceback (most recent call last):\n",
      "  File \"/tmp/ipykernel_37540/2245311451.py\", line 44, in crop_images\n",
      "    x1, y1, x2, y2 = find_coordinate(*img.shape[0:2], os.path.join(label_path, f'{patient}_{i:04d}.txt'), 's')\n",
      "  File \"/tmp/ipykernel_37540/2245311451.py\", line 7, in find_coordinate\n",
      "    assert aorta == 'j', f'如果只有一个label那么此时应为降主动脉, 但实际为{aorta}：{label_file.split(\"/\")[-1]}'\n",
      "AssertionError: 如果只有一个label那么此时应为降主动脉, 但实际为s：zhengyouduo-23-27-41-83_0024.txt\n",
      "Traceback (most recent call last):\n",
      "  File \"/tmp/ipykernel_37540/2245311451.py\", line 44, in crop_images\n",
      "    x1, y1, x2, y2 = find_coordinate(*img.shape[0:2], os.path.join(label_path, f'{patient}_{i:04d}.txt'), 's')\n",
      "  File \"/tmp/ipykernel_37540/2245311451.py\", line 7, in find_coordinate\n",
      "    assert aorta == 'j', f'如果只有一个label那么此时应为降主动脉, 但实际为{aorta}：{label_file.split(\"/\")[-1]}'\n",
      "AssertionError: 如果只有一个label那么此时应为降主动脉, 但实际为s：zhengyouduo-23-27-41-83_0025.txt\n",
      "Traceback (most recent call last):\n",
      "  File \"/tmp/ipykernel_37540/2245311451.py\", line 44, in crop_images\n",
      "    x1, y1, x2, y2 = find_coordinate(*img.shape[0:2], os.path.join(label_path, f'{patient}_{i:04d}.txt'), 's')\n",
      "  File \"/tmp/ipykernel_37540/2245311451.py\", line 7, in find_coordinate\n",
      "    assert aorta == 'j', f'如果只有一个label那么此时应为降主动脉, 但实际为{aorta}：{label_file.split(\"/\")[-1]}'\n",
      "AssertionError: 如果只有一个label那么此时应为降主动脉, 但实际为s：zhengyouduo-23-27-41-83_0040.txt\n"
     ]
    },
    {
     "name": "stdout",
     "output_type": "stream",
     "text": [
      "******Processing zhengzaidi-22-34-51-153******\n"
     ]
    },
    {
     "name": "stderr",
     "output_type": "stream",
     "text": [
      "Traceback (most recent call last):\n",
      "  File \"/tmp/ipykernel_37540/2245311451.py\", line 44, in crop_images\n",
      "    x1, y1, x2, y2 = find_coordinate(*img.shape[0:2], os.path.join(label_path, f'{patient}_{i:04d}.txt'), 's')\n",
      "  File \"/tmp/ipykernel_37540/2245311451.py\", line 7, in find_coordinate\n",
      "    assert aorta == 'j', f'如果只有一个label那么此时应为降主动脉, 但实际为{aorta}：{label_file.split(\"/\")[-1]}'\n",
      "AssertionError: 如果只有一个label那么此时应为降主动脉, 但实际为s：zhengzaidi-22-34-51-153_0031.txt\n"
     ]
    },
    {
     "name": "stdout",
     "output_type": "stream",
     "text": [
      "******Processing zhensuzhen-20-25-34-90******\n"
     ]
    },
    {
     "name": "stderr",
     "output_type": "stream",
     "text": [
      "Traceback (most recent call last):\n",
      "  File \"/tmp/ipykernel_37540/2245311451.py\", line 44, in crop_images\n",
      "    x1, y1, x2, y2 = find_coordinate(*img.shape[0:2], os.path.join(label_path, f'{patient}_{i:04d}.txt'), 's')\n",
      "  File \"/tmp/ipykernel_37540/2245311451.py\", line 7, in find_coordinate\n",
      "    assert aorta == 'j', f'如果只有一个label那么此时应为降主动脉, 但实际为{aorta}：{label_file.split(\"/\")[-1]}'\n",
      "AssertionError: 如果只有一个label那么此时应为降主动脉, 但实际为s：zhensuzhen-20-25-34-90_0021.txt\n",
      "Traceback (most recent call last):\n",
      "  File \"/tmp/ipykernel_37540/2245311451.py\", line 44, in crop_images\n",
      "    x1, y1, x2, y2 = find_coordinate(*img.shape[0:2], os.path.join(label_path, f'{patient}_{i:04d}.txt'), 's')\n",
      "  File \"/tmp/ipykernel_37540/2245311451.py\", line 7, in find_coordinate\n",
      "    assert aorta == 'j', f'如果只有一个label那么此时应为降主动脉, 但实际为{aorta}：{label_file.split(\"/\")[-1]}'\n",
      "AssertionError: 如果只有一个label那么此时应为降主动脉, 但实际为s：zhensuzhen-20-25-34-90_0022.txt\n",
      "Traceback (most recent call last):\n",
      "  File \"/tmp/ipykernel_37540/2245311451.py\", line 44, in crop_images\n",
      "    x1, y1, x2, y2 = find_coordinate(*img.shape[0:2], os.path.join(label_path, f'{patient}_{i:04d}.txt'), 's')\n",
      "  File \"/tmp/ipykernel_37540/2245311451.py\", line 7, in find_coordinate\n",
      "    assert aorta == 'j', f'如果只有一个label那么此时应为降主动脉, 但实际为{aorta}：{label_file.split(\"/\")[-1]}'\n",
      "AssertionError: 如果只有一个label那么此时应为降主动脉, 但实际为s：zhensuzhen-20-25-34-90_0023.txt\n"
     ]
    },
    {
     "name": "stdout",
     "output_type": "stream",
     "text": [
      "******Processing zhongxiaoxiang-30-40-53-139******\n",
      "******Processing zhoubo-19-26-41-137******\n"
     ]
    },
    {
     "name": "stderr",
     "output_type": "stream",
     "text": [
      "Traceback (most recent call last):\n",
      "  File \"/tmp/ipykernel_37540/2245311451.py\", line 44, in crop_images\n",
      "    x1, y1, x2, y2 = find_coordinate(*img.shape[0:2], os.path.join(label_path, f'{patient}_{i:04d}.txt'), 's')\n",
      "  File \"/tmp/ipykernel_37540/2245311451.py\", line 7, in find_coordinate\n",
      "    assert aorta == 'j', f'如果只有一个label那么此时应为降主动脉, 但实际为{aorta}：{label_file.split(\"/\")[-1]}'\n",
      "AssertionError: 如果只有一个label那么此时应为降主动脉, 但实际为s：zhoubo-19-26-41-137_0023.txt\n",
      "Traceback (most recent call last):\n",
      "  File \"/tmp/ipykernel_37540/2245311451.py\", line 44, in crop_images\n",
      "    x1, y1, x2, y2 = find_coordinate(*img.shape[0:2], os.path.join(label_path, f'{patient}_{i:04d}.txt'), 's')\n",
      "  File \"/tmp/ipykernel_37540/2245311451.py\", line 7, in find_coordinate\n",
      "    assert aorta == 'j', f'如果只有一个label那么此时应为降主动脉, 但实际为{aorta}：{label_file.split(\"/\")[-1]}'\n",
      "AssertionError: 如果只有一个label那么此时应为降主动脉, 但实际为s：zhoubo-19-26-41-137_0024.txt\n",
      "Traceback (most recent call last):\n",
      "  File \"/tmp/ipykernel_37540/2245311451.py\", line 44, in crop_images\n",
      "    x1, y1, x2, y2 = find_coordinate(*img.shape[0:2], os.path.join(label_path, f'{patient}_{i:04d}.txt'), 's')\n",
      "  File \"/tmp/ipykernel_37540/2245311451.py\", line 7, in find_coordinate\n",
      "    assert aorta == 'j', f'如果只有一个label那么此时应为降主动脉, 但实际为{aorta}：{label_file.split(\"/\")[-1]}'\n",
      "AssertionError: 如果只有一个label那么此时应为降主动脉, 但实际为s：zhoubo-19-26-41-137_0039.txt\n"
     ]
    },
    {
     "name": "stdout",
     "output_type": "stream",
     "text": [
      "******Processing zhouguoming-20-25-30-82******\n"
     ]
    },
    {
     "name": "stderr",
     "output_type": "stream",
     "text": [
      "Traceback (most recent call last):\n",
      "  File \"/tmp/ipykernel_37540/2245311451.py\", line 44, in crop_images\n",
      "    x1, y1, x2, y2 = find_coordinate(*img.shape[0:2], os.path.join(label_path, f'{patient}_{i:04d}.txt'), 's')\n",
      "  File \"/tmp/ipykernel_37540/2245311451.py\", line 7, in find_coordinate\n",
      "    assert aorta == 'j', f'如果只有一个label那么此时应为降主动脉, 但实际为{aorta}：{label_file.split(\"/\")[-1]}'\n",
      "AssertionError: 如果只有一个label那么此时应为降主动脉, 但实际为s：zhouguoming-20-25-30-82_0021.txt\n",
      "Traceback (most recent call last):\n",
      "  File \"/tmp/ipykernel_37540/2245311451.py\", line 44, in crop_images\n",
      "    x1, y1, x2, y2 = find_coordinate(*img.shape[0:2], os.path.join(label_path, f'{patient}_{i:04d}.txt'), 's')\n",
      "  File \"/tmp/ipykernel_37540/2245311451.py\", line 7, in find_coordinate\n",
      "    assert aorta == 'j', f'如果只有一个label那么此时应为降主动脉, 但实际为{aorta}：{label_file.split(\"/\")[-1]}'\n",
      "AssertionError: 如果只有一个label那么此时应为降主动脉, 但实际为s：zhouguoming-20-25-30-82_0022.txt\n",
      "Traceback (most recent call last):\n",
      "  File \"/tmp/ipykernel_37540/2245311451.py\", line 44, in crop_images\n",
      "    x1, y1, x2, y2 = find_coordinate(*img.shape[0:2], os.path.join(label_path, f'{patient}_{i:04d}.txt'), 's')\n",
      "  File \"/tmp/ipykernel_37540/2245311451.py\", line 7, in find_coordinate\n",
      "    assert aorta == 'j', f'如果只有一个label那么此时应为降主动脉, 但实际为{aorta}：{label_file.split(\"/\")[-1]}'\n",
      "AssertionError: 如果只有一个label那么此时应为降主动脉, 但实际为s：zhouguoming-20-25-30-82_0023.txt\n"
     ]
    },
    {
     "name": "stdout",
     "output_type": "stream",
     "text": [
      "******Processing zhouhaibin-30-39-74-185******\n"
     ]
    },
    {
     "name": "stderr",
     "output_type": "stream",
     "text": [
      "Traceback (most recent call last):\n",
      "  File \"/tmp/ipykernel_37540/2245311451.py\", line 44, in crop_images\n",
      "    x1, y1, x2, y2 = find_coordinate(*img.shape[0:2], os.path.join(label_path, f'{patient}_{i:04d}.txt'), 's')\n",
      "  File \"/tmp/ipykernel_37540/2245311451.py\", line 7, in find_coordinate\n",
      "    assert aorta == 'j', f'如果只有一个label那么此时应为降主动脉, 但实际为{aorta}：{label_file.split(\"/\")[-1]}'\n",
      "AssertionError: 如果只有一个label那么此时应为降主动脉, 但实际为s：zhouhaibin-30-39-74-185_0038.txt\n"
     ]
    },
    {
     "name": "stdout",
     "output_type": "stream",
     "text": [
      "******Processing zhouhongqiong-31-42-54-147******\n",
      "******Processing zhoujun-12-16-24-77******\n"
     ]
    },
    {
     "name": "stderr",
     "output_type": "stream",
     "text": [
      "Traceback (most recent call last):\n",
      "  File \"/tmp/ipykernel_37540/2245311451.py\", line 44, in crop_images\n",
      "    x1, y1, x2, y2 = find_coordinate(*img.shape[0:2], os.path.join(label_path, f'{patient}_{i:04d}.txt'), 's')\n",
      "  File \"/tmp/ipykernel_37540/2245311451.py\", line 7, in find_coordinate\n",
      "    assert aorta == 'j', f'如果只有一个label那么此时应为降主动脉, 但实际为{aorta}：{label_file.split(\"/\")[-1]}'\n",
      "AssertionError: 如果只有一个label那么此时应为降主动脉, 但实际为s：zhoujun-12-16-24-77_0012.txt\n",
      "Traceback (most recent call last):\n",
      "  File \"/tmp/ipykernel_37540/2245311451.py\", line 44, in crop_images\n",
      "    x1, y1, x2, y2 = find_coordinate(*img.shape[0:2], os.path.join(label_path, f'{patient}_{i:04d}.txt'), 's')\n",
      "  File \"/tmp/ipykernel_37540/2245311451.py\", line 7, in find_coordinate\n",
      "    assert aorta == 'j', f'如果只有一个label那么此时应为降主动脉, 但实际为{aorta}：{label_file.split(\"/\")[-1]}'\n",
      "AssertionError: 如果只有一个label那么此时应为降主动脉, 但实际为s：zhoujun-12-16-24-77_0013.txt\n"
     ]
    },
    {
     "name": "stdout",
     "output_type": "stream",
     "text": [
      "******Processing zhoulijun-18-23-35-93******\n"
     ]
    },
    {
     "name": "stderr",
     "output_type": "stream",
     "text": [
      "Traceback (most recent call last):\n",
      "  File \"/tmp/ipykernel_37540/2245311451.py\", line 44, in crop_images\n",
      "    x1, y1, x2, y2 = find_coordinate(*img.shape[0:2], os.path.join(label_path, f'{patient}_{i:04d}.txt'), 's')\n",
      "  File \"/tmp/ipykernel_37540/2245311451.py\", line 7, in find_coordinate\n",
      "    assert aorta == 'j', f'如果只有一个label那么此时应为降主动脉, 但实际为{aorta}：{label_file.split(\"/\")[-1]}'\n",
      "AssertionError: 如果只有一个label那么此时应为降主动脉, 但实际为s：zhoulijun-18-23-35-93_0020.txt\n"
     ]
    },
    {
     "name": "stdout",
     "output_type": "stream",
     "text": [
      "******Processing zhoushan-17-20-39-78******\n"
     ]
    },
    {
     "name": "stderr",
     "output_type": "stream",
     "text": [
      "Traceback (most recent call last):\n",
      "  File \"/tmp/ipykernel_37540/2245311451.py\", line 44, in crop_images\n",
      "    x1, y1, x2, y2 = find_coordinate(*img.shape[0:2], os.path.join(label_path, f'{patient}_{i:04d}.txt'), 's')\n",
      "  File \"/tmp/ipykernel_37540/2245311451.py\", line 7, in find_coordinate\n",
      "    assert aorta == 'j', f'如果只有一个label那么此时应为降主动脉, 但实际为{aorta}：{label_file.split(\"/\")[-1]}'\n",
      "AssertionError: 如果只有一个label那么此时应为降主动脉, 但实际为s：zhoushan-17-20-39-78_0017.txt\n",
      "Traceback (most recent call last):\n",
      "  File \"/tmp/ipykernel_37540/2245311451.py\", line 44, in crop_images\n",
      "    x1, y1, x2, y2 = find_coordinate(*img.shape[0:2], os.path.join(label_path, f'{patient}_{i:04d}.txt'), 's')\n",
      "  File \"/tmp/ipykernel_37540/2245311451.py\", line 7, in find_coordinate\n",
      "    assert aorta == 'j', f'如果只有一个label那么此时应为降主动脉, 但实际为{aorta}：{label_file.split(\"/\")[-1]}'\n",
      "AssertionError: 如果只有一个label那么此时应为降主动脉, 但实际为s：zhoushan-17-20-39-78_0018.txt\n",
      "Traceback (most recent call last):\n",
      "  File \"/tmp/ipykernel_37540/2245311451.py\", line 61, in crop_images\n",
      "    x1, y1, x2, y2 = find_coordinate(*img.shape[0:2], os.path.join(label_path, f'{patient}_{i:04d}.txt'), 'j')\n",
      "  File \"/tmp/ipykernel_37540/2245311451.py\", line 3, in find_coordinate\n",
      "    with open(label_file, 'r') as f:\n",
      "FileNotFoundError: [Errno 2] No such file or directory: '/nfs3-p1/zsxm/dataset/aorta_ct_img_label/negative/zhoushan-17-20-39-78/labels/zhoushan-17-20-39-78_0048.txt'\n",
      "Traceback (most recent call last):\n",
      "  File \"/tmp/ipykernel_37540/2245311451.py\", line 61, in crop_images\n",
      "    x1, y1, x2, y2 = find_coordinate(*img.shape[0:2], os.path.join(label_path, f'{patient}_{i:04d}.txt'), 'j')\n",
      "  File \"/tmp/ipykernel_37540/2245311451.py\", line 3, in find_coordinate\n",
      "    with open(label_file, 'r') as f:\n",
      "FileNotFoundError: [Errno 2] No such file or directory: '/nfs3-p1/zsxm/dataset/aorta_ct_img_label/negative/zhoushan-17-20-39-78/labels/zhoushan-17-20-39-78_0049.txt'\n",
      "Traceback (most recent call last):\n",
      "  File \"/tmp/ipykernel_37540/2245311451.py\", line 61, in crop_images\n",
      "    x1, y1, x2, y2 = find_coordinate(*img.shape[0:2], os.path.join(label_path, f'{patient}_{i:04d}.txt'), 'j')\n",
      "  File \"/tmp/ipykernel_37540/2245311451.py\", line 3, in find_coordinate\n",
      "    with open(label_file, 'r') as f:\n",
      "FileNotFoundError: [Errno 2] No such file or directory: '/nfs3-p1/zsxm/dataset/aorta_ct_img_label/negative/zhoushan-17-20-39-78/labels/zhoushan-17-20-39-78_0061.txt'\n",
      "Traceback (most recent call last):\n",
      "  File \"/tmp/ipykernel_37540/2245311451.py\", line 61, in crop_images\n",
      "    x1, y1, x2, y2 = find_coordinate(*img.shape[0:2], os.path.join(label_path, f'{patient}_{i:04d}.txt'), 'j')\n",
      "  File \"/tmp/ipykernel_37540/2245311451.py\", line 3, in find_coordinate\n",
      "    with open(label_file, 'r') as f:\n",
      "FileNotFoundError: [Errno 2] No such file or directory: '/nfs3-p1/zsxm/dataset/aorta_ct_img_label/negative/zhoushan-17-20-39-78/labels/zhoushan-17-20-39-78_0062.txt'\n",
      "Traceback (most recent call last):\n",
      "  File \"/tmp/ipykernel_37540/2245311451.py\", line 61, in crop_images\n",
      "    x1, y1, x2, y2 = find_coordinate(*img.shape[0:2], os.path.join(label_path, f'{patient}_{i:04d}.txt'), 'j')\n",
      "  File \"/tmp/ipykernel_37540/2245311451.py\", line 3, in find_coordinate\n",
      "    with open(label_file, 'r') as f:\n",
      "FileNotFoundError: [Errno 2] No such file or directory: '/nfs3-p1/zsxm/dataset/aorta_ct_img_label/negative/zhoushan-17-20-39-78/labels/zhoushan-17-20-39-78_0068.txt'\n",
      "Traceback (most recent call last):\n",
      "  File \"/tmp/ipykernel_37540/2245311451.py\", line 44, in crop_images\n",
      "    x1, y1, x2, y2 = find_coordinate(*img.shape[0:2], os.path.join(label_path, f'{patient}_{i:04d}.txt'), 's')\n",
      "  File \"/tmp/ipykernel_37540/2245311451.py\", line 7, in find_coordinate\n",
      "    assert aorta == 'j', f'如果只有一个label那么此时应为降主动脉, 但实际为{aorta}：{label_file.split(\"/\")[-1]}'\n",
      "AssertionError: 如果只有一个label那么此时应为降主动脉, 但实际为s：zhoushijun-30-37-64-145_0035.txt\n"
     ]
    },
    {
     "name": "stdout",
     "output_type": "stream",
     "text": [
      "******Processing zhoushijun-30-37-64-145******\n",
      "******Processing zhouweiqiang-19-24-42-90******\n"
     ]
    },
    {
     "name": "stderr",
     "output_type": "stream",
     "text": [
      "Traceback (most recent call last):\n",
      "  File \"/tmp/ipykernel_37540/2245311451.py\", line 44, in crop_images\n",
      "    x1, y1, x2, y2 = find_coordinate(*img.shape[0:2], os.path.join(label_path, f'{patient}_{i:04d}.txt'), 's')\n",
      "  File \"/tmp/ipykernel_37540/2245311451.py\", line 7, in find_coordinate\n",
      "    assert aorta == 'j', f'如果只有一个label那么此时应为降主动脉, 但实际为{aorta}：{label_file.split(\"/\")[-1]}'\n",
      "AssertionError: 如果只有一个label那么此时应为降主动脉, 但实际为s：zhouweiqiang-19-24-42-90_0021.txt\n",
      "Traceback (most recent call last):\n",
      "  File \"/tmp/ipykernel_37540/2245311451.py\", line 44, in crop_images\n",
      "    x1, y1, x2, y2 = find_coordinate(*img.shape[0:2], os.path.join(label_path, f'{patient}_{i:04d}.txt'), 's')\n",
      "  File \"/tmp/ipykernel_37540/2245311451.py\", line 7, in find_coordinate\n",
      "    assert aorta == 'j', f'如果只有一个label那么此时应为降主动脉, 但实际为{aorta}：{label_file.split(\"/\")[-1]}'\n",
      "AssertionError: 如果只有一个label那么此时应为降主动脉, 但实际为s：zhouweiqiang-19-24-42-90_0022.txt\n"
     ]
    },
    {
     "name": "stdout",
     "output_type": "stream",
     "text": [
      "******Processing zhouwenming-40-48-67-147******\n"
     ]
    },
    {
     "name": "stderr",
     "output_type": "stream",
     "text": [
      "Traceback (most recent call last):\n",
      "  File \"/tmp/ipykernel_37540/2245311451.py\", line 44, in crop_images\n",
      "    x1, y1, x2, y2 = find_coordinate(*img.shape[0:2], os.path.join(label_path, f'{patient}_{i:04d}.txt'), 's')\n",
      "  File \"/tmp/ipykernel_37540/2245311451.py\", line 7, in find_coordinate\n",
      "    assert aorta == 'j', f'如果只有一个label那么此时应为降主动脉, 但实际为{aorta}：{label_file.split(\"/\")[-1]}'\n",
      "AssertionError: 如果只有一个label那么此时应为降主动脉, 但实际为s：zhouwenming-40-48-67-147_0045.txt\n"
     ]
    },
    {
     "name": "stdout",
     "output_type": "stream",
     "text": [
      "******Processing zhouxianhang-13-17-26-78******\n"
     ]
    },
    {
     "name": "stderr",
     "output_type": "stream",
     "text": [
      "Traceback (most recent call last):\n",
      "  File \"/tmp/ipykernel_37540/2245311451.py\", line 44, in crop_images\n",
      "    x1, y1, x2, y2 = find_coordinate(*img.shape[0:2], os.path.join(label_path, f'{patient}_{i:04d}.txt'), 's')\n",
      "  File \"/tmp/ipykernel_37540/2245311451.py\", line 7, in find_coordinate\n",
      "    assert aorta == 'j', f'如果只有一个label那么此时应为降主动脉, 但实际为{aorta}：{label_file.split(\"/\")[-1]}'\n",
      "AssertionError: 如果只有一个label那么此时应为降主动脉, 但实际为s：zhouxianhang-13-17-26-78_0013.txt\n",
      "Traceback (most recent call last):\n",
      "  File \"/tmp/ipykernel_37540/2245311451.py\", line 44, in crop_images\n",
      "    x1, y1, x2, y2 = find_coordinate(*img.shape[0:2], os.path.join(label_path, f'{patient}_{i:04d}.txt'), 's')\n",
      "  File \"/tmp/ipykernel_37540/2245311451.py\", line 7, in find_coordinate\n",
      "    assert aorta == 'j', f'如果只有一个label那么此时应为降主动脉, 但实际为{aorta}：{label_file.split(\"/\")[-1]}'\n",
      "AssertionError: 如果只有一个label那么此时应为降主动脉, 但实际为s：zhouxianhang-13-17-26-78_0014.txt\n",
      "Traceback (most recent call last):\n",
      "  File \"/tmp/ipykernel_37540/2245311451.py\", line 44, in crop_images\n",
      "    x1, y1, x2, y2 = find_coordinate(*img.shape[0:2], os.path.join(label_path, f'{patient}_{i:04d}.txt'), 's')\n",
      "  File \"/tmp/ipykernel_37540/2245311451.py\", line 7, in find_coordinate\n",
      "    assert aorta == 'j', f'如果只有一个label那么此时应为降主动脉, 但实际为{aorta}：{label_file.split(\"/\")[-1]}'\n",
      "AssertionError: 如果只有一个label那么此时应为降主动脉, 但实际为s：zhouxianhang-13-17-26-78_0015.txt\n"
     ]
    },
    {
     "name": "stdout",
     "output_type": "stream",
     "text": [
      "******Processing zhouxinya-24-30-40-120******\n"
     ]
    },
    {
     "name": "stderr",
     "output_type": "stream",
     "text": [
      "Traceback (most recent call last):\n",
      "  File \"/tmp/ipykernel_37540/2245311451.py\", line 44, in crop_images\n",
      "    x1, y1, x2, y2 = find_coordinate(*img.shape[0:2], os.path.join(label_path, f'{patient}_{i:04d}.txt'), 's')\n",
      "  File \"/tmp/ipykernel_37540/2245311451.py\", line 7, in find_coordinate\n",
      "    assert aorta == 'j', f'如果只有一个label那么此时应为降主动脉, 但实际为{aorta}：{label_file.split(\"/\")[-1]}'\n",
      "AssertionError: 如果只有一个label那么此时应为降主动脉, 但实际为s：zhouxinya-24-30-40-120_0027.txt\n",
      "Traceback (most recent call last):\n",
      "  File \"/tmp/ipykernel_37540/2245311451.py\", line 44, in crop_images\n",
      "    x1, y1, x2, y2 = find_coordinate(*img.shape[0:2], os.path.join(label_path, f'{patient}_{i:04d}.txt'), 's')\n",
      "  File \"/tmp/ipykernel_37540/2245311451.py\", line 7, in find_coordinate\n",
      "    assert aorta == 'j', f'如果只有一个label那么此时应为降主动脉, 但实际为{aorta}：{label_file.split(\"/\")[-1]}'\n",
      "AssertionError: 如果只有一个label那么此时应为降主动脉, 但实际为s：zhouxinya-24-30-40-120_0028.txt\n",
      "Traceback (most recent call last):\n",
      "  File \"/tmp/ipykernel_37540/2245311451.py\", line 44, in crop_images\n",
      "    x1, y1, x2, y2 = find_coordinate(*img.shape[0:2], os.path.join(label_path, f'{patient}_{i:04d}.txt'), 's')\n",
      "  File \"/tmp/ipykernel_37540/2245311451.py\", line 7, in find_coordinate\n",
      "    assert aorta == 'j', f'如果只有一个label那么此时应为降主动脉, 但实际为{aorta}：{label_file.split(\"/\")[-1]}'\n",
      "AssertionError: 如果只有一个label那么此时应为降主动脉, 但实际为s：zhouxinya-24-30-40-120_0030.txt\n",
      "Traceback (most recent call last):\n",
      "  File \"/tmp/ipykernel_37540/2245311451.py\", line 44, in crop_images\n",
      "    x1, y1, x2, y2 = find_coordinate(*img.shape[0:2], os.path.join(label_path, f'{patient}_{i:04d}.txt'), 's')\n",
      "  File \"/tmp/ipykernel_37540/2245311451.py\", line 7, in find_coordinate\n",
      "    assert aorta == 'j', f'如果只有一个label那么此时应为降主动脉, 但实际为{aorta}：{label_file.split(\"/\")[-1]}'\n",
      "AssertionError: 如果只有一个label那么此时应为降主动脉, 但实际为s：zhouxinya-24-30-40-120_0031.txt\n",
      "Traceback (most recent call last):\n",
      "  File \"/tmp/ipykernel_37540/2245311451.py\", line 44, in crop_images\n",
      "    x1, y1, x2, y2 = find_coordinate(*img.shape[0:2], os.path.join(label_path, f'{patient}_{i:04d}.txt'), 's')\n",
      "  File \"/tmp/ipykernel_37540/2245311451.py\", line 7, in find_coordinate\n",
      "    assert aorta == 'j', f'如果只有一个label那么此时应为降主动脉, 但实际为{aorta}：{label_file.split(\"/\")[-1]}'\n",
      "AssertionError: 如果只有一个label那么此时应为降主动脉, 但实际为s：zhouxinya-24-30-40-120_0032.txt\n",
      "Traceback (most recent call last):\n",
      "  File \"/tmp/ipykernel_37540/2245311451.py\", line 44, in crop_images\n",
      "    x1, y1, x2, y2 = find_coordinate(*img.shape[0:2], os.path.join(label_path, f'{patient}_{i:04d}.txt'), 's')\n",
      "  File \"/tmp/ipykernel_37540/2245311451.py\", line 7, in find_coordinate\n",
      "    assert aorta == 'j', f'如果只有一个label那么此时应为降主动脉, 但实际为{aorta}：{label_file.split(\"/\")[-1]}'\n",
      "AssertionError: 如果只有一个label那么此时应为降主动脉, 但实际为s：zhouxinya-24-30-40-120_0033.txt\n",
      "Traceback (most recent call last):\n",
      "  File \"/tmp/ipykernel_37540/2245311451.py\", line 44, in crop_images\n",
      "    x1, y1, x2, y2 = find_coordinate(*img.shape[0:2], os.path.join(label_path, f'{patient}_{i:04d}.txt'), 's')\n",
      "  File \"/tmp/ipykernel_37540/2245311451.py\", line 7, in find_coordinate\n",
      "    assert aorta == 'j', f'如果只有一个label那么此时应为降主动脉, 但实际为{aorta}：{label_file.split(\"/\")[-1]}'\n",
      "AssertionError: 如果只有一个label那么此时应为降主动脉, 但实际为s：zhouxinya-24-30-40-120_0036.txt\n",
      "Traceback (most recent call last):\n",
      "  File \"/tmp/ipykernel_37540/2245311451.py\", line 44, in crop_images\n",
      "    x1, y1, x2, y2 = find_coordinate(*img.shape[0:2], os.path.join(label_path, f'{patient}_{i:04d}.txt'), 's')\n",
      "  File \"/tmp/ipykernel_37540/2245311451.py\", line 7, in find_coordinate\n",
      "    assert aorta == 'j', f'如果只有一个label那么此时应为降主动脉, 但实际为{aorta}：{label_file.split(\"/\")[-1]}'\n",
      "AssertionError: 如果只有一个label那么此时应为降主动脉, 但实际为s：zhouxinya-24-30-40-120_0037.txt\n",
      "Traceback (most recent call last):\n",
      "  File \"/tmp/ipykernel_37540/2245311451.py\", line 61, in crop_images\n",
      "    x1, y1, x2, y2 = find_coordinate(*img.shape[0:2], os.path.join(label_path, f'{patient}_{i:04d}.txt'), 'j')\n",
      "  File \"/tmp/ipykernel_37540/2245311451.py\", line 3, in find_coordinate\n",
      "    with open(label_file, 'r') as f:\n",
      "FileNotFoundError: [Errno 2] No such file or directory: '/nfs3-p1/zsxm/dataset/aorta_ct_img_label/negative/zhouxinya-24-30-40-120/labels/zhouxinya-24-30-40-120_0043.txt'\n",
      "Traceback (most recent call last):\n",
      "  File \"/tmp/ipykernel_37540/2245311451.py\", line 61, in crop_images\n",
      "    x1, y1, x2, y2 = find_coordinate(*img.shape[0:2], os.path.join(label_path, f'{patient}_{i:04d}.txt'), 'j')\n",
      "  File \"/tmp/ipykernel_37540/2245311451.py\", line 3, in find_coordinate\n",
      "    with open(label_file, 'r') as f:\n",
      "FileNotFoundError: [Errno 2] No such file or directory: '/nfs3-p1/zsxm/dataset/aorta_ct_img_label/negative/zhouxinya-24-30-40-120/labels/zhouxinya-24-30-40-120_0044.txt'\n",
      "Traceback (most recent call last):\n",
      "  File \"/tmp/ipykernel_37540/2245311451.py\", line 61, in crop_images\n",
      "    x1, y1, x2, y2 = find_coordinate(*img.shape[0:2], os.path.join(label_path, f'{patient}_{i:04d}.txt'), 'j')\n",
      "  File \"/tmp/ipykernel_37540/2245311451.py\", line 3, in find_coordinate\n",
      "    with open(label_file, 'r') as f:\n",
      "FileNotFoundError: [Errno 2] No such file or directory: '/nfs3-p1/zsxm/dataset/aorta_ct_img_label/negative/zhouxinya-24-30-40-120/labels/zhouxinya-24-30-40-120_0045.txt'\n",
      "Traceback (most recent call last):\n",
      "  File \"/tmp/ipykernel_37540/2245311451.py\", line 61, in crop_images\n",
      "    x1, y1, x2, y2 = find_coordinate(*img.shape[0:2], os.path.join(label_path, f'{patient}_{i:04d}.txt'), 'j')\n",
      "  File \"/tmp/ipykernel_37540/2245311451.py\", line 3, in find_coordinate\n",
      "    with open(label_file, 'r') as f:\n",
      "FileNotFoundError: [Errno 2] No such file or directory: '/nfs3-p1/zsxm/dataset/aorta_ct_img_label/negative/zhouxinya-24-30-40-120/labels/zhouxinya-24-30-40-120_0046.txt'\n",
      "Traceback (most recent call last):\n",
      "  File \"/tmp/ipykernel_37540/2245311451.py\", line 61, in crop_images\n",
      "    x1, y1, x2, y2 = find_coordinate(*img.shape[0:2], os.path.join(label_path, f'{patient}_{i:04d}.txt'), 'j')\n",
      "  File \"/tmp/ipykernel_37540/2245311451.py\", line 3, in find_coordinate\n",
      "    with open(label_file, 'r') as f:\n",
      "FileNotFoundError: [Errno 2] No such file or directory: '/nfs3-p1/zsxm/dataset/aorta_ct_img_label/negative/zhouxinya-24-30-40-120/labels/zhouxinya-24-30-40-120_0047.txt'\n"
     ]
    },
    {
     "name": "stdout",
     "output_type": "stream",
     "text": [
      "******Processing zhouxiushan-14-18-34-84******\n"
     ]
    },
    {
     "name": "stderr",
     "output_type": "stream",
     "text": [
      "Traceback (most recent call last):\n",
      "  File \"/tmp/ipykernel_37540/2245311451.py\", line 44, in crop_images\n",
      "    x1, y1, x2, y2 = find_coordinate(*img.shape[0:2], os.path.join(label_path, f'{patient}_{i:04d}.txt'), 's')\n",
      "  File \"/tmp/ipykernel_37540/2245311451.py\", line 7, in find_coordinate\n",
      "    assert aorta == 'j', f'如果只有一个label那么此时应为降主动脉, 但实际为{aorta}：{label_file.split(\"/\")[-1]}'\n",
      "AssertionError: 如果只有一个label那么此时应为降主动脉, 但实际为s：zhouxiushan-14-18-34-84_0015.txt\n"
     ]
    },
    {
     "name": "stdout",
     "output_type": "stream",
     "text": [
      "******Processing zhouyixiao-22-28-40-83******\n"
     ]
    },
    {
     "name": "stderr",
     "output_type": "stream",
     "text": [
      "Traceback (most recent call last):\n",
      "  File \"/tmp/ipykernel_37540/2245311451.py\", line 44, in crop_images\n",
      "    x1, y1, x2, y2 = find_coordinate(*img.shape[0:2], os.path.join(label_path, f'{patient}_{i:04d}.txt'), 's')\n",
      "  File \"/tmp/ipykernel_37540/2245311451.py\", line 7, in find_coordinate\n",
      "    assert aorta == 'j', f'如果只有一个label那么此时应为降主动脉, 但实际为{aorta}：{label_file.split(\"/\")[-1]}'\n",
      "AssertionError: 如果只有一个label那么此时应为降主动脉, 但实际为s：zhouyixiao-22-28-40-83_0025.txt\n",
      "Traceback (most recent call last):\n",
      "  File \"/tmp/ipykernel_37540/2245311451.py\", line 44, in crop_images\n",
      "    x1, y1, x2, y2 = find_coordinate(*img.shape[0:2], os.path.join(label_path, f'{patient}_{i:04d}.txt'), 's')\n",
      "  File \"/tmp/ipykernel_37540/2245311451.py\", line 7, in find_coordinate\n",
      "    assert aorta == 'j', f'如果只有一个label那么此时应为降主动脉, 但实际为{aorta}：{label_file.split(\"/\")[-1]}'\n",
      "AssertionError: 如果只有一个label那么此时应为降主动脉, 但实际为s：zhouyixiao-22-28-40-83_0026.txt\n"
     ]
    },
    {
     "name": "stdout",
     "output_type": "stream",
     "text": [
      "******Processing zhouyongjin-17-21-35-87******\n"
     ]
    },
    {
     "name": "stderr",
     "output_type": "stream",
     "text": [
      "Traceback (most recent call last):\n",
      "  File \"/tmp/ipykernel_37540/2245311451.py\", line 44, in crop_images\n",
      "    x1, y1, x2, y2 = find_coordinate(*img.shape[0:2], os.path.join(label_path, f'{patient}_{i:04d}.txt'), 's')\n",
      "  File \"/tmp/ipykernel_37540/2245311451.py\", line 7, in find_coordinate\n",
      "    assert aorta == 'j', f'如果只有一个label那么此时应为降主动脉, 但实际为{aorta}：{label_file.split(\"/\")[-1]}'\n",
      "AssertionError: 如果只有一个label那么此时应为降主动脉, 但实际为s：zhouyongjin-17-21-35-87_0018.txt\n",
      "Traceback (most recent call last):\n",
      "  File \"/tmp/ipykernel_37540/2245311451.py\", line 44, in crop_images\n",
      "    x1, y1, x2, y2 = find_coordinate(*img.shape[0:2], os.path.join(label_path, f'{patient}_{i:04d}.txt'), 's')\n",
      "  File \"/tmp/ipykernel_37540/2245311451.py\", line 7, in find_coordinate\n",
      "    assert aorta == 'j', f'如果只有一个label那么此时应为降主动脉, 但实际为{aorta}：{label_file.split(\"/\")[-1]}'\n",
      "AssertionError: 如果只有一个label那么此时应为降主动脉, 但实际为s：zhouyongjin-17-21-35-87_0019.txt\n",
      "Traceback (most recent call last):\n",
      "  File \"/tmp/ipykernel_37540/2245311451.py\", line 44, in crop_images\n",
      "    x1, y1, x2, y2 = find_coordinate(*img.shape[0:2], os.path.join(label_path, f'{patient}_{i:04d}.txt'), 's')\n",
      "  File \"/tmp/ipykernel_37540/2245311451.py\", line 7, in find_coordinate\n",
      "    assert aorta == 'j', f'如果只有一个label那么此时应为降主动脉, 但实际为{aorta}：{label_file.split(\"/\")[-1]}'\n",
      "AssertionError: 如果只有一个label那么此时应为降主动脉, 但实际为s：zhouyongjin-17-21-35-87_0034.txt\n"
     ]
    },
    {
     "name": "stdout",
     "output_type": "stream",
     "text": [
      "******Processing zhouyongyan-21-33-51-136******\n",
      "******Processing zhouzhangnv-12-18-31-80******\n",
      "******Processing zhouzhangyun-26-35-61-136******\n"
     ]
    },
    {
     "name": "stderr",
     "output_type": "stream",
     "text": [
      "Traceback (most recent call last):\n",
      "  File \"/tmp/ipykernel_37540/2245311451.py\", line 44, in crop_images\n",
      "    x1, y1, x2, y2 = find_coordinate(*img.shape[0:2], os.path.join(label_path, f'{patient}_{i:04d}.txt'), 's')\n",
      "  File \"/tmp/ipykernel_37540/2245311451.py\", line 7, in find_coordinate\n",
      "    assert aorta == 'j', f'如果只有一个label那么此时应为降主动脉, 但实际为{aorta}：{label_file.split(\"/\")[-1]}'\n",
      "AssertionError: 如果只有一个label那么此时应为降主动脉, 但实际为s：zhouzhangyun-26-35-61-136_0033.txt\n"
     ]
    },
    {
     "name": "stdout",
     "output_type": "stream",
     "text": [
      "******Processing zhudamin-33-41-70-156******\n"
     ]
    },
    {
     "name": "stderr",
     "output_type": "stream",
     "text": [
      "Traceback (most recent call last):\n",
      "  File \"/tmp/ipykernel_37540/2245311451.py\", line 44, in crop_images\n",
      "    x1, y1, x2, y2 = find_coordinate(*img.shape[0:2], os.path.join(label_path, f'{patient}_{i:04d}.txt'), 's')\n",
      "  File \"/tmp/ipykernel_37540/2245311451.py\", line 7, in find_coordinate\n",
      "    assert aorta == 'j', f'如果只有一个label那么此时应为降主动脉, 但实际为{aorta}：{label_file.split(\"/\")[-1]}'\n",
      "AssertionError: 如果只有一个label那么此时应为降主动脉, 但实际为s：zhudamin-33-41-70-156_0039.txt\n"
     ]
    },
    {
     "name": "stdout",
     "output_type": "stream",
     "text": [
      "******Processing zhuguizhou-18-23-34-85******\n"
     ]
    },
    {
     "name": "stderr",
     "output_type": "stream",
     "text": [
      "Traceback (most recent call last):\n",
      "  File \"/tmp/ipykernel_37540/2245311451.py\", line 44, in crop_images\n",
      "    x1, y1, x2, y2 = find_coordinate(*img.shape[0:2], os.path.join(label_path, f'{patient}_{i:04d}.txt'), 's')\n",
      "  File \"/tmp/ipykernel_37540/2245311451.py\", line 7, in find_coordinate\n",
      "    assert aorta == 'j', f'如果只有一个label那么此时应为降主动脉, 但实际为{aorta}：{label_file.split(\"/\")[-1]}'\n",
      "AssertionError: 如果只有一个label那么此时应为降主动脉, 但实际为s：zhuguizhou-18-23-34-85_0020.txt\n",
      "Traceback (most recent call last):\n",
      "  File \"/tmp/ipykernel_37540/2245311451.py\", line 44, in crop_images\n",
      "    x1, y1, x2, y2 = find_coordinate(*img.shape[0:2], os.path.join(label_path, f'{patient}_{i:04d}.txt'), 's')\n",
      "  File \"/tmp/ipykernel_37540/2245311451.py\", line 7, in find_coordinate\n",
      "    assert aorta == 'j', f'如果只有一个label那么此时应为降主动脉, 但实际为{aorta}：{label_file.split(\"/\")[-1]}'\n",
      "AssertionError: 如果只有一个label那么此时应为降主动脉, 但实际为s：zhuguizhou-18-23-34-85_0021.txt\n"
     ]
    },
    {
     "name": "stdout",
     "output_type": "stream",
     "text": [
      "******Processing zhuguofang-15-20-32-85******\n"
     ]
    },
    {
     "name": "stderr",
     "output_type": "stream",
     "text": [
      "Traceback (most recent call last):\n",
      "  File \"/tmp/ipykernel_37540/2245311451.py\", line 44, in crop_images\n",
      "    x1, y1, x2, y2 = find_coordinate(*img.shape[0:2], os.path.join(label_path, f'{patient}_{i:04d}.txt'), 's')\n",
      "  File \"/tmp/ipykernel_37540/2245311451.py\", line 7, in find_coordinate\n",
      "    assert aorta == 'j', f'如果只有一个label那么此时应为降主动脉, 但实际为{aorta}：{label_file.split(\"/\")[-1]}'\n",
      "AssertionError: 如果只有一个label那么此时应为降主动脉, 但实际为s：zhuguofang-15-20-32-85_0017.txt\n",
      "Traceback (most recent call last):\n",
      "  File \"/tmp/ipykernel_37540/2245311451.py\", line 44, in crop_images\n",
      "    x1, y1, x2, y2 = find_coordinate(*img.shape[0:2], os.path.join(label_path, f'{patient}_{i:04d}.txt'), 's')\n",
      "  File \"/tmp/ipykernel_37540/2245311451.py\", line 7, in find_coordinate\n",
      "    assert aorta == 'j', f'如果只有一个label那么此时应为降主动脉, 但实际为{aorta}：{label_file.split(\"/\")[-1]}'\n",
      "AssertionError: 如果只有一个label那么此时应为降主动脉, 但实际为s：zhuguofang-15-20-32-85_0018.txt\n"
     ]
    },
    {
     "name": "stdout",
     "output_type": "stream",
     "text": [
      "******Processing zhujianfu-16-22-28-87******\n"
     ]
    },
    {
     "name": "stderr",
     "output_type": "stream",
     "text": [
      "Traceback (most recent call last):\n",
      "  File \"/tmp/ipykernel_37540/2245311451.py\", line 44, in crop_images\n",
      "    x1, y1, x2, y2 = find_coordinate(*img.shape[0:2], os.path.join(label_path, f'{patient}_{i:04d}.txt'), 's')\n",
      "  File \"/tmp/ipykernel_37540/2245311451.py\", line 7, in find_coordinate\n",
      "    assert aorta == 'j', f'如果只有一个label那么此时应为降主动脉, 但实际为{aorta}：{label_file.split(\"/\")[-1]}'\n",
      "AssertionError: 如果只有一个label那么此时应为降主动脉, 但实际为s：zhujianfu-16-22-28-87_0018.txt\n",
      "Traceback (most recent call last):\n",
      "  File \"/tmp/ipykernel_37540/2245311451.py\", line 44, in crop_images\n",
      "    x1, y1, x2, y2 = find_coordinate(*img.shape[0:2], os.path.join(label_path, f'{patient}_{i:04d}.txt'), 's')\n",
      "  File \"/tmp/ipykernel_37540/2245311451.py\", line 7, in find_coordinate\n",
      "    assert aorta == 'j', f'如果只有一个label那么此时应为降主动脉, 但实际为{aorta}：{label_file.split(\"/\")[-1]}'\n",
      "AssertionError: 如果只有一个label那么此时应为降主动脉, 但实际为s：zhujianfu-16-22-28-87_0019.txt\n"
     ]
    },
    {
     "name": "stdout",
     "output_type": "stream",
     "text": [
      "******Processing zhujianfu-30-42-62-154******\n",
      "******Processing zhukuanwen-15-21-29-83******\n"
     ]
    },
    {
     "name": "stderr",
     "output_type": "stream",
     "text": [
      "Traceback (most recent call last):\n",
      "  File \"/tmp/ipykernel_37540/2245311451.py\", line 44, in crop_images\n",
      "    x1, y1, x2, y2 = find_coordinate(*img.shape[0:2], os.path.join(label_path, f'{patient}_{i:04d}.txt'), 's')\n",
      "  File \"/tmp/ipykernel_37540/2245311451.py\", line 7, in find_coordinate\n",
      "    assert aorta == 'j', f'如果只有一个label那么此时应为降主动脉, 但实际为{aorta}：{label_file.split(\"/\")[-1]}'\n",
      "AssertionError: 如果只有一个label那么此时应为降主动脉, 但实际为s：zhukuanwen-15-21-29-83_0017.txt\n",
      "Traceback (most recent call last):\n",
      "  File \"/tmp/ipykernel_37540/2245311451.py\", line 44, in crop_images\n",
      "    x1, y1, x2, y2 = find_coordinate(*img.shape[0:2], os.path.join(label_path, f'{patient}_{i:04d}.txt'), 's')\n",
      "  File \"/tmp/ipykernel_37540/2245311451.py\", line 7, in find_coordinate\n",
      "    assert aorta == 'j', f'如果只有一个label那么此时应为降主动脉, 但实际为{aorta}：{label_file.split(\"/\")[-1]}'\n",
      "AssertionError: 如果只有一个label那么此时应为降主动脉, 但实际为s：zhukuanwen-15-21-29-83_0018.txt\n"
     ]
    },
    {
     "name": "stdout",
     "output_type": "stream",
     "text": [
      "******Processing zhumeizheng-34-42-69-167******\n"
     ]
    },
    {
     "name": "stderr",
     "output_type": "stream",
     "text": [
      "Traceback (most recent call last):\n",
      "  File \"/tmp/ipykernel_37540/2245311451.py\", line 44, in crop_images\n",
      "    x1, y1, x2, y2 = find_coordinate(*img.shape[0:2], os.path.join(label_path, f'{patient}_{i:04d}.txt'), 's')\n",
      "  File \"/tmp/ipykernel_37540/2245311451.py\", line 7, in find_coordinate\n",
      "    assert aorta == 'j', f'如果只有一个label那么此时应为降主动脉, 但实际为{aorta}：{label_file.split(\"/\")[-1]}'\n",
      "AssertionError: 如果只有一个label那么此时应为降主动脉, 但实际为s：zhumeizheng-34-42-69-167_0040.txt\n"
     ]
    },
    {
     "name": "stdout",
     "output_type": "stream",
     "text": [
      "******Processing zhuodepeng-9-14-23-78******\n"
     ]
    },
    {
     "name": "stderr",
     "output_type": "stream",
     "text": [
      "Traceback (most recent call last):\n",
      "  File \"/tmp/ipykernel_37540/2245311451.py\", line 44, in crop_images\n",
      "    x1, y1, x2, y2 = find_coordinate(*img.shape[0:2], os.path.join(label_path, f'{patient}_{i:04d}.txt'), 's')\n",
      "  File \"/tmp/ipykernel_37540/2245311451.py\", line 7, in find_coordinate\n",
      "    assert aorta == 'j', f'如果只有一个label那么此时应为降主动脉, 但实际为{aorta}：{label_file.split(\"/\")[-1]}'\n",
      "AssertionError: 如果只有一个label那么此时应为降主动脉, 但实际为s：zhuodepeng-9-14-23-78_0010.txt\n",
      "Traceback (most recent call last):\n",
      "  File \"/tmp/ipykernel_37540/2245311451.py\", line 44, in crop_images\n",
      "    x1, y1, x2, y2 = find_coordinate(*img.shape[0:2], os.path.join(label_path, f'{patient}_{i:04d}.txt'), 's')\n",
      "  File \"/tmp/ipykernel_37540/2245311451.py\", line 7, in find_coordinate\n",
      "    assert aorta == 'j', f'如果只有一个label那么此时应为降主动脉, 但实际为{aorta}：{label_file.split(\"/\")[-1]}'\n",
      "AssertionError: 如果只有一个label那么此时应为降主动脉, 但实际为s：zhuodepeng-9-14-23-78_0011.txt\n"
     ]
    },
    {
     "name": "stdout",
     "output_type": "stream",
     "text": [
      "******Processing zhuxiaoqin-22-29-50-130******\n"
     ]
    },
    {
     "name": "stderr",
     "output_type": "stream",
     "text": [
      "Traceback (most recent call last):\n",
      "  File \"/tmp/ipykernel_37540/2245311451.py\", line 44, in crop_images\n",
      "    x1, y1, x2, y2 = find_coordinate(*img.shape[0:2], os.path.join(label_path, f'{patient}_{i:04d}.txt'), 's')\n",
      "  File \"/tmp/ipykernel_37540/2245311451.py\", line 7, in find_coordinate\n",
      "    assert aorta == 'j', f'如果只有一个label那么此时应为降主动脉, 但实际为{aorta}：{label_file.split(\"/\")[-1]}'\n",
      "AssertionError: 如果只有一个label那么此时应为降主动脉, 但实际为s：zhuxiaoqin-22-29-50-130_0027.txt\n"
     ]
    },
    {
     "name": "stdout",
     "output_type": "stream",
     "text": [
      "******Processing zhuxinnan-18-26-49-129******\n"
     ]
    },
    {
     "name": "stderr",
     "output_type": "stream",
     "text": [
      "Traceback (most recent call last):\n",
      "  File \"/tmp/ipykernel_37540/2245311451.py\", line 44, in crop_images\n",
      "    x1, y1, x2, y2 = find_coordinate(*img.shape[0:2], os.path.join(label_path, f'{patient}_{i:04d}.txt'), 's')\n",
      "  File \"/tmp/ipykernel_37540/2245311451.py\", line 7, in find_coordinate\n",
      "    assert aorta == 'j', f'如果只有一个label那么此时应为降主动脉, 但实际为{aorta}：{label_file.split(\"/\")[-1]}'\n",
      "AssertionError: 如果只有一个label那么此时应为降主动脉, 但实际为s：zhuxinnan-18-26-49-129_0024.txt\n",
      "Traceback (most recent call last):\n",
      "  File \"/tmp/ipykernel_37540/2245311451.py\", line 44, in crop_images\n",
      "    x1, y1, x2, y2 = find_coordinate(*img.shape[0:2], os.path.join(label_path, f'{patient}_{i:04d}.txt'), 's')\n",
      "  File \"/tmp/ipykernel_37540/2245311451.py\", line 7, in find_coordinate\n",
      "    assert aorta == 'j', f'如果只有一个label那么此时应为降主动脉, 但实际为{aorta}：{label_file.split(\"/\")[-1]}'\n",
      "AssertionError: 如果只有一个label那么此时应为降主动脉, 但实际为s：zhuxinnan-18-26-49-129_0025.txt\n"
     ]
    },
    {
     "name": "stdout",
     "output_type": "stream",
     "text": [
      "******Processing zhuyanjie-20-25-35-89******\n"
     ]
    },
    {
     "name": "stderr",
     "output_type": "stream",
     "text": [
      "Traceback (most recent call last):\n",
      "  File \"/tmp/ipykernel_37540/2245311451.py\", line 44, in crop_images\n",
      "    x1, y1, x2, y2 = find_coordinate(*img.shape[0:2], os.path.join(label_path, f'{patient}_{i:04d}.txt'), 's')\n",
      "  File \"/tmp/ipykernel_37540/2245311451.py\", line 7, in find_coordinate\n",
      "    assert aorta == 'j', f'如果只有一个label那么此时应为降主动脉, 但实际为{aorta}：{label_file.split(\"/\")[-1]}'\n",
      "AssertionError: 如果只有一个label那么此时应为降主动脉, 但实际为s：zhuyanjie-20-25-35-89_0022.txt\n"
     ]
    },
    {
     "name": "stdout",
     "output_type": "stream",
     "text": [
      "******Processing zoudeling-11-15-30-84******\n"
     ]
    },
    {
     "name": "stderr",
     "output_type": "stream",
     "text": [
      "Traceback (most recent call last):\n",
      "  File \"/tmp/ipykernel_37540/2245311451.py\", line 44, in crop_images\n",
      "    x1, y1, x2, y2 = find_coordinate(*img.shape[0:2], os.path.join(label_path, f'{patient}_{i:04d}.txt'), 's')\n",
      "  File \"/tmp/ipykernel_37540/2245311451.py\", line 7, in find_coordinate\n",
      "    assert aorta == 'j', f'如果只有一个label那么此时应为降主动脉, 但实际为{aorta}：{label_file.split(\"/\")[-1]}'\n",
      "AssertionError: 如果只有一个label那么此时应为降主动脉, 但实际为s：zoudeling-11-15-30-84_0012.txt\n",
      "Traceback (most recent call last):\n",
      "  File \"/tmp/ipykernel_37540/2245311451.py\", line 44, in crop_images\n",
      "    x1, y1, x2, y2 = find_coordinate(*img.shape[0:2], os.path.join(label_path, f'{patient}_{i:04d}.txt'), 's')\n",
      "  File \"/tmp/ipykernel_37540/2245311451.py\", line 7, in find_coordinate\n",
      "    assert aorta == 'j', f'如果只有一个label那么此时应为降主动脉, 但实际为{aorta}：{label_file.split(\"/\")[-1]}'\n",
      "AssertionError: 如果只有一个label那么此时应为降主动脉, 但实际为s：zoudeling-11-15-30-84_0013.txt\n",
      "Traceback (most recent call last):\n",
      "  File \"/tmp/ipykernel_37540/2245311451.py\", line 44, in crop_images\n",
      "    x1, y1, x2, y2 = find_coordinate(*img.shape[0:2], os.path.join(label_path, f'{patient}_{i:04d}.txt'), 's')\n",
      "  File \"/tmp/ipykernel_37540/2245311451.py\", line 7, in find_coordinate\n",
      "    assert aorta == 'j', f'如果只有一个label那么此时应为降主动脉, 但实际为{aorta}：{label_file.split(\"/\")[-1]}'\n",
      "AssertionError: 如果只有一个label那么此时应为降主动脉, 但实际为s：zoudeling-11-15-30-84_0014.txt\n"
     ]
    }
   ],
   "source": [
    "# 切出范围外冗余为3的主动脉\n",
    "def find_coordinate(height, width, label_file, aorta):\n",
    "    with open(label_file, 'r') as f:\n",
    "        lines = f.readlines()\n",
    "    assert len(lines) <= 2, f'label.txt应该存储不多于2个label：{label_file.split(\"/\")[-1]}'\n",
    "    if len(lines) == 1:\n",
    "        assert aorta == 'j', f'如果只有一个label那么此时应为降主动脉, 但实际为{aorta}：{label_file.split(\"/\")[-1]}'\n",
    "        corr = list(map(lambda x: float(x), lines[0].split()))\n",
    "        x, y, w, h = corr[1], corr[2], corr[3], corr[4]\n",
    "        assert 0.25 < x < 0.75 and 0.2 < y < 0.8, f'边界框中心({x}, {y})出界：{label_file.split(\"/\")[-1]}'\n",
    "    else:\n",
    "        corr1, corr2 = list(map(lambda x: float(x), lines[0].split())), list(map(lambda x: float(x), lines[1].split()))\n",
    "        assert 0.25 < corr1[1] < 0.75 and 0.2 < corr1[2] < 0.8, f'边界框1中心({corr1[1]}, {corr1[2]})出界：{label_file.split(\"/\")[-1]}'\n",
    "        assert 0.25 < corr2[1] < 0.75 and 0.2 < corr2[2] < 0.8, f'边界框2中心({corr2[1]}, {corr2[2]})出界：{label_file.split(\"/\")[-1]}'\n",
    "        if aorta == 's':\n",
    "            x, y, w, h = (corr1[1], corr1[2], corr1[3], corr1[4]) if corr1[2] < corr2[2] else (corr2[1], corr2[2], corr2[3], corr2[4])\n",
    "        elif aorta == 'j':\n",
    "            x, y, w, h = (corr1[1], corr1[2], corr1[3], corr1[4]) if corr1[2] > corr2[2] else (corr2[1], corr2[2], corr2[3], corr2[4])\n",
    "        else:\n",
    "            raise Exception(f'aorta 应该为\"s\"或\"j\"其中之一: {label_file.split(\"/\")[-1]}')\n",
    "    w, h = int(width*w), int(height*h)\n",
    "    w, h = max(w, h), max(w, h)\n",
    "    return int(width*x-w/2), int(height*y-h/2), int(width*x+w/2+1), int(height*y+h/2+1)\n",
    "\n",
    "def crop_images(input_path, error_patient_list):\n",
    "    for patient in sorted(os.listdir(input_path)):\n",
    "        print(f'******Processing {patient}******')\n",
    "        image_path = os.path.join(input_path, patient, 'images')\n",
    "        label_path = os.path.join(input_path, patient, 'labels')\n",
    "        crop_path = os.path.join(input_path, patient, 'crops')\n",
    "        if os.path.exists(crop_path):\n",
    "            shutil.rmtree(crop_path)\n",
    "        os.mkdir(crop_path)\n",
    "        pl = patient.split('-')\n",
    "        assert len(pl) == 5\n",
    "        aorta_start, branch_start, branch_end, aorta_end = int(pl[1])-1, int(pl[2])-1, int(pl[3])-1, int(pl[4])-1\n",
    "        crop_flag = True\n",
    "        offset = branch_end - branch_start\n",
    "        start, end = branch_start + int(0.1*offset), branch_end - int(0.2*offset)\n",
    "        for i in range(start-3, end+3):\n",
    "            try:\n",
    "                img = Image.open(os.path.join(image_path, f'{patient}_{i:04d}.png'))\n",
    "                img = np.array(img)\n",
    "                x1, y1, x2, y2 = find_coordinate(*img.shape[0:2], os.path.join(label_path, f'{patient}_{i:04d}.txt'), 's')\n",
    "            except:\n",
    "                traceback.print_exc()\n",
    "                crop_flag = False\n",
    "            else:#if crop_flag:\n",
    "                crop = img[y1:y2, x1:x2]\n",
    "                crop = Image.fromarray(crop)\n",
    "                if start <= i < end:\n",
    "                    crop.save(os.path.join(crop_path, f'{patient}_s_{i:04d}.png'))\n",
    "                else:\n",
    "                    crop.save(os.path.join(crop_path, f'{patient}_s_{i:04d}_n.png'))\n",
    "        offset = aorta_end - branch_start\n",
    "        start, end = branch_start + int(0.1*offset), aorta_end - int(0.2*offset)\n",
    "        for i in range(start-3, end+3):\n",
    "            try:\n",
    "                img = Image.open(os.path.join(image_path, f'{patient}_{i:04d}.png'))\n",
    "                img = np.array(img)\n",
    "                x1, y1, x2, y2 = find_coordinate(*img.shape[0:2], os.path.join(label_path, f'{patient}_{i:04d}.txt'), 'j')\n",
    "            except:\n",
    "                traceback.print_exc()\n",
    "                crop_flag = False\n",
    "            else:#if crop_flag:\n",
    "                crop = img[y1:y2, x1:x2]\n",
    "                crop = Image.fromarray(crop)\n",
    "                if start <= i < end:\n",
    "                    crop.save(os.path.join(crop_path, f'{patient}_j_{i:04d}.png'))\n",
    "                else:\n",
    "                    crop.save(os.path.join(crop_path, f'{patient}_j_{i:04d}_n.png'))\n",
    "        if not crop_flag:\n",
    "            #print('Delete crop_path')\n",
    "            #shutil.rmtree(crop_path)\n",
    "            error_patient_list.append(patient)\n",
    "            \n",
    "epl1 = []\n",
    "crop_images('/nfs3-p1/zsxm/dataset/aorta_ct_img_label/negative', epl1)"
   ]
  },
  {
   "cell_type": "code",
   "execution_count": 11,
   "id": "ac63d3db",
   "metadata": {},
   "outputs": [
    {
     "name": "stdout",
     "output_type": "stream",
     "text": [
      "347\n",
      "['baojinjia-17-21-35-83', 'baoyanzu-15-20-31-87', 'baoyanzu-21-25-42-93', 'bianyinqiao-31-38-59-137', 'bianzhaorong-17-22-38-92', 'caijinfei-34-42-51-155', 'caijingnan1-41-50-73-184', 'caishiping-18-24-34-85', 'caiyouzhe-14-18-32-83', 'caoyuxia-16-21-35-87', 'caoyuying-18-22-33-79', 'chenbin-20-26-35-85', 'chenchong-22-26-36-86', 'chendonghong-12-17-27-75', 'chengenye-13-18-28-79', 'chengshaoping-19-28-45-132', 'chengyahui-17-22-29-82', 'chengzhiqiang-33-41-67-159', 'chenjian-26-30-44-89', 'chenjianhua-14-17-32-80', 'chenjianping-15-22-41-91', 'chenjingjing-38-47-67-184', 'chenjinmei-12-17-34-80', 'chenjunbing-22-29-34-89', 'chenlidong-18-23-32-88', 'chenliuer-23-32-43-140', 'chenmaojin-14-20-31-90', 'chenqiuying-13-17-30-78', 'chenshigen-19-25-34-83', 'chenweiqian-22-31-45-131', 'chenxiufen-17-21-34-82', 'chenyanli-20-23-34-80', 'chenyinfen-18-22-38-81', 'chenyonghu-24-32-48-141', 'daicaihu-22-27-34-85', 'denghuibin-15-19-35-84', 'dingbinghai-20-24-45-95', 'dongxingzhen-9-13-23-77', 'dongyonghong-14-19-34-85', 'dujinlian-17-20-36-82', 'duyangchun-16-22-31-90', 'fangjinchai-19-23-31-81', 'fangyungen-14-18-34-75', 'fangzhengyi-26-37-53-153', 'fanshiming-15-20-30-83', 'fanxinghua-41-48-69-144', 'fengaiyuan-26-32-46-121', 'fengqiufen-14-19-27-75', 'fudianqin-15-19-33-78', 'fudiyang-22-30-46-128', 'fuhongliang-14-22-33-154', 'fujingjing-24-32-39-127', 'gaoanhui-17-22-31-85', 'gaoqigen-36-45-63-148', 'gaozhaocheng-19-26-42-90', 'gegaocai-20-24-32-88', 'gejinhua-21-26-35-82', 'geqingqing-33-41-68-169', 'gezhenghua-15-19-34-88', 'gezhidong-21-27-38-93', 'guohao-25-30-38-94', 'hanweijie-19-25-37-90', 'hebaomin-28-37-54-145', 'heguansheng-15-20-43-92', 'henglangye-15-20-25-83', 'hexiena-18-22-38-82', 'hongxia-17-34-43-122', 'huangguixian-24-28-45-101', 'huangjiabao-22-27-33-53', 'huangjuzhen-13-17-29-77', 'huanglongsheng-23-28-46-92', 'huangxiang-22-26-42-84', 'huangxuena-17-22-27-75', 'huangzhanzhang-25-33-46-134', 'hukaipin-29-39-73-159', 'humingdong-18-22-29-85', 'huxiangxin-19-24-34-86', 'huxianhua-32-41-55-143', 'huyongxian-18-25-38-88', 'huyunhua-15-20-28-78', 'jiangchengsan-25-34-50-133', 'jiangguanshui-16-21-31-85', 'jiangjianrong-16-21-31-82', 'jiangjiaqi-23-30-39-140', 'jiangshengfang-19-23-34-79', 'jiangxiangzhong-15-20-29-83', 'jiangyuxiang-15-19-37-83', 'jiangzhuxian-10-16-24-75', 'jinaixiang-34-41-63-149', 'jinangui-17-21-37-81', 'jingchunya-12-17-25-82', 'jinjianrong-19-24-32-86', 'jinruiyue-13-18-28-80', 'jinshuigen-18-23-36-79', 'jinyongfa-25-29-37-92', 'jinzhaoxiang-28-37-55-126', 'kerengang-25-30-41-91', 'kongfansheng-20-26-38-87', 'kongxiangwen-12-18-32-86', 'laijinhu-14-21-34-83', 'liangzhenwei-16-20-39-92', 'liaoxiuhua-36-44-55-144', 'lidanfa-11-16-34-72', 'lideming-16-23-43-90', 'lidong-16-21-25-83', 'lifengyun-8-16-35-81', 'liguoyong-26-35-57-150', 'lihonggang-13-18-33-88', 'lihongmei-11-16-33-83', 'lijunhua-15-21-27-82', 'linaizhen-23-31-58-144', 'lining-17-21-28-81', 'linshangjin-15-19-36-81', 'linyaoqin-15-20-30-89', 'liqiang-17-22-27-83', 'lirongchang-13-17-27-86', 'lishengfu-19-25-37-95', 'lisucheng-22-26-36-89', 'liulixuan-16-22-27-87', 'liulunyong-26-35-49-155', 'liutongkang-12-18-25-84', 'liuwangyang-19-24-32-87', 'lixian-19-24-32-83', 'lixiaolang-17-21-30-83', 'lixiebing-17-20-37-87', 'liyingsheng-13-17-34-87', 'liyongjian-16-22-31-86', 'liyunbo-21-28-45-150', 'liyunkun-29-33-51-99', 'lizufu-21-26-42-93', 'longyingdong-21-25-40-99', 'loucaidi-26-35-63-154', 'loudinghong-18-22-39-93', 'lucaifa-25-34-62-147', 'luguiyun-10-16-27-82', 'luguojing-27-36-47-141', 'lujuquan-25-35-50-126', 'lumin-13-17-34-85', 'luojun-22-29-51-139', 'luoshuijin-15-19-35-74', 'luqiaoling-12-17-26-73', 'luweiqing-16-20-37-93', 'luwenjun-20-30-44-141', 'luyuefeng-24-28-40-94', 'lvnanxian-17-23-32-84', 'lvyundi-29-36-45-131', 'mahuiwu-10-14-23-84', 'majiangen-17-22-34-87', 'malingfeng-12-17-32-75', 'maoshuijuan-12-17-23-80', 'mawei-15-20-28-85', 'nabuqi-13-18-26-79', 'ningjiangui-18-23-30-83', 'nisixiang-11-17-25-81', 'panandan-16-21-31-81', 'panming-17-22-30-90', 'panxiangyang-45-53-97-196', 'panyuda-29-36-52-102', 'pengyufei-31-39-51-154', 'puchenhu-18-21-33-89', 'puguanghui-12-18-25-74', 'qianaqin-18-26-52-141', 'qianliujiu-9-15-24-75', 'qihuazhong-16-20-29-82', 'qiuwei-31-39-53-138', 'qubo-14-19-29-82', 'quzhuming-31-41-69-192', 'renxiuyuan-18-23-31-79', 'shanziliang-13-19-30-90', 'shaobingsheng-13-19-27-80', 'shenfengmei-29-36-58-130', 'shengmingzhen-10-13-26-75', 'shenguilin-18-25-35-53', 'shenhaiqin-20-28-38-129', 'shenxuemei-15-21-28-79', 'shenxuhong-20-24-34-82', 'shenyuzhen-11-16-25-77', 'shiburen-15-20-29-91', 'shouyunfang-20-26-42-136', 'songzongwei-20-26-39-94', 'sundelin-15-21-31-90', 'sunlutao-14-23-70-127', 'sunyunxian-11-17-23-75', 'tangchunhua-10-16-20-76', 'taofeng-18-22-28-81', 'taonan-19-24-37-87', 'taoquanying-13-18-30-83', 'taoxiuwei-26-34-54-137', 'tongbo-25-35-51-153', 'tongchichang-16-21-35-88', 'tuyurong-15-18-34-88', 'wangahai-16-22-43-91', 'wangaifang-13-19-28-74', 'wangbaoyu-7-12-21-75', 'wangdahua-19-24-33-89', 'wangdandan-32-39-50-142', 'wangfeng-14-19-31-85', 'wangguojian-20-25-39-86', 'wangguolong-16-21-33-84', 'wangjian-17-24-32-88', 'wangjianlin-15-21-37-82', 'wangjie-15-19-31-49', 'wangjinlie-26-33-45-87', 'wangluhua-18-23-32-87', 'wangronglin-16-21-28-81', 'wangsonglin-19-24-27-86', 'wangwei-16-20-36-87', 'wangwei-32-39-50-139', 'wangwuzhuang-28-33-41-98', 'wangxinhui-18-23-31-85', 'wangyouxiang-21-27-41-131', 'wangyouxin-34-42-64-160', 'wangyuncai-14-20-34-91', 'wangyunxian-18-27-39-134', 'weifengli-26-34-62-147', 'weihuiqiong-27-33-58-137', 'weiliping-14-19-29-82', 'wenshuijuan-30-36-66-145', 'wufenai-9-15-28-81', 'wugaoyou-12-17-24-81', 'wuguorong-30-39-51-140', 'wuhanjiang-18-22-39-85', 'wujianguo-14-20-29-89', 'wumingshi2021040501-17-22-30-81', 'wumingshi2021061701-25-28-45-98', 'wumingshi2021080102-38-47-85-156', 'wuruqing-49-60-96-153', 'wutiandi-21-28-54-120', 'wutianshun-12-17-26-80', 'wuyanxian-17-21-36-83', 'wuyunfang-20-25-34-85', 'wuzili-13-19-28-72', 'wuzongtang-29-36-76-141', 'xiangzhaochong-15-20-31-78', 'xiasuifu-12-18-30-84', 'xiaxianlin-5-9-15-71', 'xiaxinghua-17-22-33-89', 'xiegenjun-21-26-34-93', 'xieshangyong-14-20-27-87', 'xiezhaoqin-17-21-29-81', 'xinyongsheng-13-18-26-86', 'xiyongmin-25-35-62-162', 'xucaizhen-27-37-51-131', 'xudingguo-21-25-38-89', 'xuguangtai-16-21-36-91', 'xushengwu-31-41-60-150', 'xuxuee-22-30-45-123', 'xuyuetian-22-30-53-132', 'yanchunhong-36-45-64-155', 'yangjinnan-31-38-67-146', 'yangqingyue-31-39-50-128', 'yangshujuan-30-39-62-160', 'yangtangyong-15-19-35-85', 'yangxiaohui-20-28-39-125', 'yangyuqi-34-44-60-157', 'yangzhengfu-18-22-32-75', 'yangzhengqian-16-21-26-78', 'yaohuiping-16-21-29-79', 'yaojingen-20-25-31-81', 'yegenxiang-11-17-30-80', 'yepusheng-13-18-27-79', 'yeweigen-17-21-29-84', 'yimuyun-15-19-28-75', 'yinggenhua-36-45-72-174', 'yiqiang-16-21-30-78', 'yuaiyuan-13-18-29-84', 'yuanjuhe-11-16-27-76', 'yuankunfa-27-33-44-89', 'yuanxiazhen-14-18-36-76', 'yuanxicai-35-43-85-169', 'yuanyongjin-12-18-27-81', 'yubaisong-25-33-65-152', 'yuguangyang-18-23-33-90', 'yukang-17-22-27-82', 'yukang-27-36-46-135', 'yumengting-19-26-36-123', 'yupengjie-26-34-46-134', 'yuweiliang-29-35-47-104', 'yuyinglong-24-30-51-98', 'yuzhixue-16-21-38-91', 'zengchunsheng-23-30-41-128', 'zengshengjiang-19-23-36-89', 'zhangchao-13-18-29-81', 'zhangdanye-31-38-50-143', 'zhangduofeng-12-17-28-55', 'zhangfagen-22-27-37-92', 'zhangguanghong-39-46-68-156', 'zhangguofeng-21-27-35-90', 'zhangguofeng-25-30-45-97', 'zhanghanmin-13-19-27-76', 'zhanghonghu-37-45-69-149', 'zhanghuanquan-17-22-29-75', 'zhangjingjing-16-19-30-78', 'zhangjingzhong-53-59-85-174', 'zhangjunfei-25-33-52-125', 'zhangkesheng-27-34-63-144', 'zhangmeiqin-19-22-39-86', 'zhangmingfa-22-27-37-93', 'zhangsuyun-18-21-37-81', 'zhangxianjun-16-23-31-82', 'zhangyao-17-22-29-83', 'zhangyitian-26-32-55-148', 'zhangyulin-20-25-40-93', 'zhanmin-18-23-37-88', 'zhaofuchang-16-21-30-80', 'zhaomin-11-15-32-86', 'zhaorong-33-42-71-163', 'zhaoshunshou-30-38-53-139', 'zhaosuifang-23-34-61-154', 'zhaoyijun-17-20-33-82', 'zhaoyouyang-24-34-41-125', 'zhengfahong-22-26-44-99', 'zhengjilang-23-33-49-135', 'zhengjuying-16-19-33-86', 'zhengronghua-21-30-44-127', 'zhengwenyan-15-20-29-82', 'zhengxuefei-21-24-43-86', 'zhengyingu-14-18-26-76', 'zhengyouduo-23-27-41-83', 'zhengzaidi-22-34-51-153', 'zhensuzhen-20-25-34-90', 'zhoubo-19-26-41-137', 'zhouguoming-20-25-30-82', 'zhouhaibin-30-39-74-185', 'zhoujun-12-16-24-77', 'zhoulijun-18-23-35-93', 'zhoushan-17-20-39-78', 'zhoushijun-30-37-64-145', 'zhouweiqiang-19-24-42-90', 'zhouwenming-40-48-67-147', 'zhouxianhang-13-17-26-78', 'zhouxinya-24-30-40-120', 'zhouxiushan-14-18-34-84', 'zhouyixiao-22-28-40-83', 'zhouyongjin-17-21-35-87', 'zhouzhangyun-26-35-61-136', 'zhudamin-33-41-70-156', 'zhuguizhou-18-23-34-85', 'zhuguofang-15-20-32-85', 'zhujianfu-16-22-28-87', 'zhukuanwen-15-21-29-83', 'zhumeizheng-34-42-69-167', 'zhuodepeng-9-14-23-78', 'zhuxiaoqin-22-29-50-130', 'zhuxinnan-18-26-49-129', 'zhuyanjie-20-25-35-89', 'zoudeling-11-15-30-84']\n"
     ]
    }
   ],
   "source": [
    "print(len(epl1))\n",
    "print(epl1)"
   ]
  },
  {
   "cell_type": "markdown",
   "id": "e91313a4",
   "metadata": {},
   "source": [
    "## 3.固定训练集和测试集"
   ]
  },
  {
   "cell_type": "markdown",
   "id": "8474cb60",
   "metadata": {},
   "source": [
    "### 3.1 阳性数据"
   ]
  },
  {
   "cell_type": "code",
   "execution_count": 28,
   "id": "e00af454",
   "metadata": {},
   "outputs": [],
   "source": [
    "patient_roots = ['/nfs3-p1/zsxm/dataset/aorta_ct_img_label/pau']\n",
    "patient_list = []\n",
    "for patient_root in patient_roots:\n",
    "    for patient in sorted(os.listdir(patient_root)):\n",
    "        if os.path.isdir(os.path.join(patient_root, patient)):\n",
    "            patient_list.append(os.path.join(patient_root, patient))"
   ]
  },
  {
   "cell_type": "code",
   "execution_count": 29,
   "id": "e119e915",
   "metadata": {},
   "outputs": [
    {
     "name": "stdout",
     "output_type": "stream",
     "text": [
      "63 15 78\n"
     ]
    }
   ],
   "source": [
    "random.seed(7987)\n",
    "val_patient_list = random.sample(patient_list, int(len(patient_list)*0.2))\n",
    "train_patient_list = [p for p in patient_list if p not in val_patient_list]#list(set(patient_list) - set(val_patient_list))\n",
    "train_patient_list.sort()\n",
    "val_patient_list.sort()\n",
    "print(len(train_patient_list), len(val_patient_list), len(train_patient_list)+len(val_patient_list))"
   ]
  },
  {
   "cell_type": "code",
   "execution_count": 30,
   "id": "e0b2879e",
   "metadata": {
    "scrolled": true
   },
   "outputs": [
    {
     "name": "stdout",
     "output_type": "stream",
     "text": [
      "****Processing /nfs3-p1/zsxm/dataset/aorta_ct_img_label/pau/bairuixin-J-29-46****\n",
      "****Processing /nfs3-p1/zsxm/dataset/aorta_ct_img_label/pau/baochangmu-J-18-77****\n",
      "****Processing /nfs3-p1/zsxm/dataset/aorta_ct_img_label/pau/baodezhong-J-41-44****\n",
      "****Processing /nfs3-p1/zsxm/dataset/aorta_ct_img_label/pau/chenbingrong-J-61-96****\n",
      "****Processing /nfs3-p1/zsxm/dataset/aorta_ct_img_label/pau/chenmazhang-J-18-22****\n",
      "****Processing /nfs3-p1/zsxm/dataset/aorta_ct_img_label/pau/chensimeng-J-31-33****\n",
      "****Processing /nfs3-p1/zsxm/dataset/aorta_ct_img_label/pau/dongyoufa-J-48-87****\n",
      "****Processing /nfs3-p1/zsxm/dataset/aorta_ct_img_label/pau/fanggaoshen-J-82-87****\n",
      "****Processing /nfs3-p1/zsxm/dataset/aorta_ct_img_label/pau/fangpingan-J-29-34****\n",
      "****Processing /nfs3-p1/zsxm/dataset/aorta_ct_img_label/pau/feiliangming-J-23-41****\n",
      "****Processing /nfs3-p1/zsxm/dataset/aorta_ct_img_label/pau/gaohuarong-J-51-109****\n",
      "****Processing /nfs3-p1/zsxm/dataset/aorta_ct_img_label/pau/gaozhihua-J-82-94****\n",
      "****Processing /nfs3-p1/zsxm/dataset/aorta_ct_img_label/pau/gebingzhao-J-38-40****\n",
      "****Processing /nfs3-p1/zsxm/dataset/aorta_ct_img_label/pau/guxin-J-80-88****\n",
      "****Processing /nfs3-p1/zsxm/dataset/aorta_ct_img_label/pau/heqiang-J-36-45****\n",
      "****Processing /nfs3-p1/zsxm/dataset/aorta_ct_img_label/pau/heshimo-J-44-46****\n",
      "****Processing /nfs3-p1/zsxm/dataset/aorta_ct_img_label/pau/huajinyuan-J-58-82****\n",
      "****Processing /nfs3-p1/zsxm/dataset/aorta_ct_img_label/pau/huanggentian-J-121-132****\n",
      "****Processing /nfs3-p1/zsxm/dataset/aorta_ct_img_label/pau/huangyuanzhong-J-24-103****\n",
      "****Processing /nfs3-p1/zsxm/dataset/aorta_ct_img_label/pau/huboan-J-33-131****\n",
      "****Processing /nfs3-p1/zsxm/dataset/aorta_ct_img_label/pau/huxuegen-S-37-37-J-60-74****\n",
      "****Processing /nfs3-p1/zsxm/dataset/aorta_ct_img_label/pau/jinguozhong-J-37-116****\n",
      "****Processing /nfs3-p1/zsxm/dataset/aorta_ct_img_label/pau/lifurong-J-54-62****\n",
      "****Processing /nfs3-p1/zsxm/dataset/aorta_ct_img_label/pau/linjinmu-J-36-120****\n",
      "****Processing /nfs3-p1/zsxm/dataset/aorta_ct_img_label/pau/linxiulian-S-17-18-J-17-17****\n",
      "****Processing /nfs3-p1/zsxm/dataset/aorta_ct_img_label/pau/liushurong-J-72-78****\n",
      "****Processing /nfs3-p1/zsxm/dataset/aorta_ct_img_label/pau/liuyongliang-J-122-131****\n",
      "****Processing /nfs3-p1/zsxm/dataset/aorta_ct_img_label/pau/liyi-J-23-42****\n",
      "****Processing /nfs3-p1/zsxm/dataset/aorta_ct_img_label/pau/liyuezhi-J-53-60****\n",
      "****Processing /nfs3-p1/zsxm/dataset/aorta_ct_img_label/pau/magengqiu-S-50-55****\n",
      "****Processing /nfs3-p1/zsxm/dataset/aorta_ct_img_label/pau/maoshangxin-J-44-81****\n",
      "****Processing /nfs3-p1/zsxm/dataset/aorta_ct_img_label/pau/meichunming-J-116-119****\n",
      "****Processing /nfs3-p1/zsxm/dataset/aorta_ct_img_label/pau/miaohengtai-S-36-39-J-36-135****\n",
      "****Processing /nfs3-p1/zsxm/dataset/aorta_ct_img_label/pau/nigengrong-J-25-32****\n",
      "****Processing /nfs3-p1/zsxm/dataset/aorta_ct_img_label/pau/qiaozhiyin-J-55-65-J-117-142****\n",
      "****Processing /nfs3-p1/zsxm/dataset/aorta_ct_img_label/pau/qiuguozhang-J-68-77****\n",
      "****Processing /nfs3-p1/zsxm/dataset/aorta_ct_img_label/pau/qiujinrong-J-33-57-J-78-125-J-137-158****\n",
      "****Processing /nfs3-p1/zsxm/dataset/aorta_ct_img_label/pau/qiumeijun-J-45-52****\n",
      "****Processing /nfs3-p1/zsxm/dataset/aorta_ct_img_label/pau/shengyueqin-J-21-41****\n",
      "****Processing /nfs3-p1/zsxm/dataset/aorta_ct_img_label/pau/songguoan-J-30-40****\n",
      "****Processing /nfs3-p1/zsxm/dataset/aorta_ct_img_label/pau/suzhijing-J-51-55****\n",
      "****Processing /nfs3-p1/zsxm/dataset/aorta_ct_img_label/pau/tuchenghe-J-90-123****\n",
      "****Processing /nfs3-p1/zsxm/dataset/aorta_ct_img_label/pau/tuhuadong-J-22-30****\n",
      "****Processing /nfs3-p1/zsxm/dataset/aorta_ct_img_label/pau/wangbaosheng-J-57-87****\n",
      "****Processing /nfs3-p1/zsxm/dataset/aorta_ct_img_label/pau/wangdeqian-J-36-123****\n",
      "****Processing /nfs3-p1/zsxm/dataset/aorta_ct_img_label/pau/wangdequan-J-25-121****\n",
      "****Processing /nfs3-p1/zsxm/dataset/aorta_ct_img_label/pau/wangguoping-J-31-94****\n",
      "****Processing /nfs3-p1/zsxm/dataset/aorta_ct_img_label/pau/wangshiyao-J-46-139****\n",
      "****Processing /nfs3-p1/zsxm/dataset/aorta_ct_img_label/pau/wangyeping-J-69-78****\n",
      "****Processing /nfs3-p1/zsxm/dataset/aorta_ct_img_label/pau/wugenbao-J-16-78****\n",
      "****Processing /nfs3-p1/zsxm/dataset/aorta_ct_img_label/pau/xiahongsheng-J-24-86****\n",
      "****Processing /nfs3-p1/zsxm/dataset/aorta_ct_img_label/pau/xiangbaiquan-J-38-100****\n",
      "****Processing /nfs3-p1/zsxm/dataset/aorta_ct_img_label/pau/xingwenqu-J-24-53****\n",
      "****Processing /nfs3-p1/zsxm/dataset/aorta_ct_img_label/pau/xuwenxiang-J-50-67****\n",
      "****Processing /nfs3-p1/zsxm/dataset/aorta_ct_img_label/pau/yingguocheng-J-48-54****\n",
      "****Processing /nfs3-p1/zsxm/dataset/aorta_ct_img_label/pau/yujianshun-S-19-20****\n",
      "****Processing /nfs3-p1/zsxm/dataset/aorta_ct_img_label/pau/zhangshaohong-S-17-20****\n",
      "****Processing /nfs3-p1/zsxm/dataset/aorta_ct_img_label/pau/zhengaizhu-S-26-29-J-52-56****\n",
      "****Processing /nfs3-p1/zsxm/dataset/aorta_ct_img_label/pau/zhongjianhong-J-29-63****\n",
      "****Processing /nfs3-p1/zsxm/dataset/aorta_ct_img_label/pau/zhongzhongnan-J-22-37****\n",
      "****Processing /nfs3-p1/zsxm/dataset/aorta_ct_img_label/pau/zhourongcheng-J-80-93****\n",
      "****Processing /nfs3-p1/zsxm/dataset/aorta_ct_img_label/pau/zhouxincang-J-40-97****\n",
      "****Processing /nfs3-p1/zsxm/dataset/aorta_ct_img_label/pau/zhujianping-J-31-34****\n",
      "****Processing /nfs3-p1/zsxm/dataset/aorta_ct_img_label/pau/chenfuding-J-29-37****\n",
      "****Processing /nfs3-p1/zsxm/dataset/aorta_ct_img_label/pau/chenmingbao-J-38-96****\n",
      "****Processing /nfs3-p1/zsxm/dataset/aorta_ct_img_label/pau/chenrongqin-J-32-100****\n",
      "****Processing /nfs3-p1/zsxm/dataset/aorta_ct_img_label/pau/heshufang-J-28-30****\n",
      "****Processing /nfs3-p1/zsxm/dataset/aorta_ct_img_label/pau/jiangxianghong-J-132-146****\n",
      "****Processing /nfs3-p1/zsxm/dataset/aorta_ct_img_label/pau/linyunfu-S-27-29****\n",
      "****Processing /nfs3-p1/zsxm/dataset/aorta_ct_img_label/pau/liyonghong-J-48-54****\n",
      "****Processing /nfs3-p1/zsxm/dataset/aorta_ct_img_label/pau/lizuojing-J-35-38****\n",
      "****Processing /nfs3-p1/zsxm/dataset/aorta_ct_img_label/pau/quanjianzhong-S-32-35****\n",
      "****Processing /nfs3-p1/zsxm/dataset/aorta_ct_img_label/pau/rongjiliang-J-31-43****\n",
      "****Processing /nfs3-p1/zsxm/dataset/aorta_ct_img_label/pau/xuping-J-35-79****\n",
      "****Processing /nfs3-p1/zsxm/dataset/aorta_ct_img_label/pau/yuxingguan-J-25-30****\n",
      "****Processing /nfs3-p1/zsxm/dataset/aorta_ct_img_label/pau/zengchenhong-J-80-86****\n",
      "****Processing /nfs3-p1/zsxm/dataset/aorta_ct_img_label/pau/zhengxiusheng-S-26-27****\n",
      "****Processing /nfs3-p1/zsxm/dataset/aorta_ct_img_label/pau/zhougensheng-S-39-42****\n"
     ]
    }
   ],
   "source": [
    "def move_to_classify(patient_list, output_path):\n",
    "    if not os.path.exists(output_path):\n",
    "        os.makedirs(output_path)\n",
    "    \n",
    "    for patient in patient_list:\n",
    "        print(f'****Processing {patient}****')\n",
    "        for file in os.listdir(os.path.join(patient, 'crops')):\n",
    "            shutil.copy(os.path.join(patient, 'crops', file), output_path)\n",
    "            \n",
    "move_to_classify(train_patient_list, f'/nfs3-p1/zsxm/dataset/aorta_classify_ct_{lower_b}_{upper_b}/center/train/3/')\n",
    "move_to_classify(val_patient_list, f'/nfs3-p1/zsxm/dataset/aorta_classify_ct_{lower_b}_{upper_b}/center/val/3/')"
   ]
  },
  {
   "cell_type": "markdown",
   "id": "1ad2fc8d",
   "metadata": {},
   "source": [
    "### 3.2阴性数据"
   ]
  },
  {
   "cell_type": "code",
   "execution_count": 13,
   "id": "13629389",
   "metadata": {},
   "outputs": [],
   "source": [
    "patient_roots = ['/nfs3-p1/zsxm/dataset/aorta_ct_img_label/negative/']\n",
    "patient_list = []\n",
    "for patient_root in patient_roots:\n",
    "    for patient in sorted(os.listdir(patient_root)):\n",
    "        if os.path.isdir(os.path.join(patient_root, patient)):\n",
    "            patient_list.append(os.path.join(patient_root, patient))"
   ]
  },
  {
   "cell_type": "code",
   "execution_count": 14,
   "id": "b0de966b",
   "metadata": {},
   "outputs": [
    {
     "name": "stdout",
     "output_type": "stream",
     "text": [
      "379 94 473\n"
     ]
    }
   ],
   "source": [
    "random.seed(7888)\n",
    "val_patient_list = random.sample(patient_list, int(len(patient_list)*0.2))\n",
    "train_patient_list = [p for p in patient_list if p not in val_patient_list]#list(set(patient_list) - set(val_patient_list))\n",
    "train_patient_list.sort()\n",
    "val_patient_list.sort()\n",
    "print(len(train_patient_list), len(val_patient_list), len(train_patient_list)+len(val_patient_list))"
   ]
  },
  {
   "cell_type": "code",
   "execution_count": 15,
   "id": "e5755f30",
   "metadata": {
    "scrolled": true
   },
   "outputs": [
    {
     "name": "stdout",
     "output_type": "stream",
     "text": [
      "****Processing /nfs3-p1/zsxm/dataset/aorta_ct_img_label/negative/baixiaoxu-22-31-52-147****\n",
      "****Processing /nfs3-p1/zsxm/dataset/aorta_ct_img_label/negative/baojinjia-17-21-35-83****\n",
      "****Processing /nfs3-p1/zsxm/dataset/aorta_ct_img_label/negative/baoxialin-23-34-57-158****\n",
      "****Processing /nfs3-p1/zsxm/dataset/aorta_ct_img_label/negative/baoyanzu-15-20-31-87****\n",
      "****Processing /nfs3-p1/zsxm/dataset/aorta_ct_img_label/negative/baoyanzu-21-25-42-93****\n",
      "****Processing /nfs3-p1/zsxm/dataset/aorta_ct_img_label/negative/bianzhaorong-17-22-38-92****\n",
      "****Processing /nfs3-p1/zsxm/dataset/aorta_ct_img_label/negative/caijinfei-34-42-51-155****\n",
      "****Processing /nfs3-p1/zsxm/dataset/aorta_ct_img_label/negative/caijingnan1-41-50-73-184****\n",
      "****Processing /nfs3-p1/zsxm/dataset/aorta_ct_img_label/negative/caiqishu-34-43-70-176****\n",
      "****Processing /nfs3-p1/zsxm/dataset/aorta_ct_img_label/negative/caishiping-18-24-34-85****\n",
      "****Processing /nfs3-p1/zsxm/dataset/aorta_ct_img_label/negative/caiyouzhe-14-18-32-83****\n",
      "****Processing /nfs3-p1/zsxm/dataset/aorta_ct_img_label/negative/caoyuxia-16-21-35-87****\n",
      "****Processing /nfs3-p1/zsxm/dataset/aorta_ct_img_label/negative/caoyuying-18-22-33-79****\n",
      "****Processing /nfs3-p1/zsxm/dataset/aorta_ct_img_label/negative/chenbin-20-26-35-85****\n",
      "****Processing /nfs3-p1/zsxm/dataset/aorta_ct_img_label/negative/chenchong-22-26-36-86****\n",
      "****Processing /nfs3-p1/zsxm/dataset/aorta_ct_img_label/negative/chenfugui-36-46-76-149****\n",
      "****Processing /nfs3-p1/zsxm/dataset/aorta_ct_img_label/negative/chengenye-13-18-28-79****\n",
      "****Processing /nfs3-p1/zsxm/dataset/aorta_ct_img_label/negative/chengyahui-17-22-29-82****\n",
      "****Processing /nfs3-p1/zsxm/dataset/aorta_ct_img_label/negative/chengzhiqiang-33-41-67-159****\n",
      "****Processing /nfs3-p1/zsxm/dataset/aorta_ct_img_label/negative/chenjian-26-30-44-89****\n",
      "****Processing /nfs3-p1/zsxm/dataset/aorta_ct_img_label/negative/chenjianhua-14-17-32-80****\n",
      "****Processing /nfs3-p1/zsxm/dataset/aorta_ct_img_label/negative/chenjianjun-25-34-65-175****\n",
      "****Processing /nfs3-p1/zsxm/dataset/aorta_ct_img_label/negative/chenjianping-15-22-41-91****\n",
      "****Processing /nfs3-p1/zsxm/dataset/aorta_ct_img_label/negative/chenjingjing-38-47-67-184****\n",
      "****Processing /nfs3-p1/zsxm/dataset/aorta_ct_img_label/negative/chenjinmei-12-17-34-80****\n",
      "****Processing /nfs3-p1/zsxm/dataset/aorta_ct_img_label/negative/chenjunbing-22-29-34-89****\n",
      "****Processing /nfs3-p1/zsxm/dataset/aorta_ct_img_label/negative/chenlidong-18-23-32-88****\n",
      "****Processing /nfs3-p1/zsxm/dataset/aorta_ct_img_label/negative/chenlindi-16-22-34-78****\n",
      "****Processing /nfs3-p1/zsxm/dataset/aorta_ct_img_label/negative/chenmaojin-14-20-31-90****\n",
      "****Processing /nfs3-p1/zsxm/dataset/aorta_ct_img_label/negative/chenpanyang-21-31-71-161****\n",
      "****Processing /nfs3-p1/zsxm/dataset/aorta_ct_img_label/negative/chensaimu-34-44-78-166****\n",
      "****Processing /nfs3-p1/zsxm/dataset/aorta_ct_img_label/negative/chenshigen-19-25-34-83****\n",
      "****Processing /nfs3-p1/zsxm/dataset/aorta_ct_img_label/negative/chenweiqian-22-31-45-131****\n",
      "****Processing /nfs3-p1/zsxm/dataset/aorta_ct_img_label/negative/chenxiufen-17-21-34-82****\n",
      "****Processing /nfs3-p1/zsxm/dataset/aorta_ct_img_label/negative/chenyilin-21-26-36-86****\n",
      "****Processing /nfs3-p1/zsxm/dataset/aorta_ct_img_label/negative/chenyinfen-18-22-38-81****\n",
      "****Processing /nfs3-p1/zsxm/dataset/aorta_ct_img_label/negative/cheshengying-25-34-64-139****\n",
      "****Processing /nfs3-p1/zsxm/dataset/aorta_ct_img_label/negative/daicaihu-22-27-34-85****\n",
      "****Processing /nfs3-p1/zsxm/dataset/aorta_ct_img_label/negative/daixiaofeng-27-38-56-141****\n",
      "****Processing /nfs3-p1/zsxm/dataset/aorta_ct_img_label/negative/dengdeyu-18-27-43-152****\n",
      "****Processing /nfs3-p1/zsxm/dataset/aorta_ct_img_label/negative/denghuibin-15-19-35-84****\n",
      "****Processing /nfs3-p1/zsxm/dataset/aorta_ct_img_label/negative/dingshuigen-28-38-53-136****\n",
      "****Processing /nfs3-p1/zsxm/dataset/aorta_ct_img_label/negative/dongxingzhen-9-13-23-77****\n",
      "****Processing /nfs3-p1/zsxm/dataset/aorta_ct_img_label/negative/dongyonghong-14-19-34-85****\n",
      "****Processing /nfs3-p1/zsxm/dataset/aorta_ct_img_label/negative/dujinlian-17-20-36-82****\n",
      "****Processing /nfs3-p1/zsxm/dataset/aorta_ct_img_label/negative/duyangchun-16-22-31-90****\n",
      "****Processing /nfs3-p1/zsxm/dataset/aorta_ct_img_label/negative/fangchengfu-26-39-76-182****\n",
      "****Processing /nfs3-p1/zsxm/dataset/aorta_ct_img_label/negative/fangjinchai-19-23-31-81****\n",
      "****Processing /nfs3-p1/zsxm/dataset/aorta_ct_img_label/negative/fangrurong-16-25-55-132****\n",
      "****Processing /nfs3-p1/zsxm/dataset/aorta_ct_img_label/negative/fangyungen-14-18-34-75****\n",
      "****Processing /nfs3-p1/zsxm/dataset/aorta_ct_img_label/negative/fangzijian-19-30-50-153****\n",
      "****Processing /nfs3-p1/zsxm/dataset/aorta_ct_img_label/negative/fanshiming-15-20-30-83****\n",
      "****Processing /nfs3-p1/zsxm/dataset/aorta_ct_img_label/negative/fanxinghua-41-48-69-144****\n",
      "****Processing /nfs3-p1/zsxm/dataset/aorta_ct_img_label/negative/fengaiyuan-26-32-46-121****\n",
      "****Processing /nfs3-p1/zsxm/dataset/aorta_ct_img_label/negative/fengdayan-30-38-69-146****\n",
      "****Processing /nfs3-p1/zsxm/dataset/aorta_ct_img_label/negative/fengqiufen-14-19-27-75****\n",
      "****Processing /nfs3-p1/zsxm/dataset/aorta_ct_img_label/negative/fubaohua-30-41-62-149****\n",
      "****Processing /nfs3-p1/zsxm/dataset/aorta_ct_img_label/negative/fudianqin-15-19-33-78****\n",
      "****Processing /nfs3-p1/zsxm/dataset/aorta_ct_img_label/negative/fudiyang-22-30-46-128****\n",
      "****Processing /nfs3-p1/zsxm/dataset/aorta_ct_img_label/negative/fuhongliang-14-22-33-154****\n",
      "****Processing /nfs3-p1/zsxm/dataset/aorta_ct_img_label/negative/fujingjing-24-32-39-127****\n",
      "****Processing /nfs3-p1/zsxm/dataset/aorta_ct_img_label/negative/gaoanhui-17-22-31-85****\n",
      "****Processing /nfs3-p1/zsxm/dataset/aorta_ct_img_label/negative/gaoqigen-36-45-63-148****\n",
      "****Processing /nfs3-p1/zsxm/dataset/aorta_ct_img_label/negative/gaowenfu-16-26-50-141****\n",
      "****Processing /nfs3-p1/zsxm/dataset/aorta_ct_img_label/negative/gaozhaocheng-19-26-42-90****\n",
      "****Processing /nfs3-p1/zsxm/dataset/aorta_ct_img_label/negative/gejinhua-21-26-35-82****\n",
      "****Processing /nfs3-p1/zsxm/dataset/aorta_ct_img_label/negative/geqingqing-33-41-68-169****\n",
      "****Processing /nfs3-p1/zsxm/dataset/aorta_ct_img_label/negative/gezhenghua-15-19-34-88****\n",
      "****Processing /nfs3-p1/zsxm/dataset/aorta_ct_img_label/negative/guohao-25-30-38-94****\n",
      "****Processing /nfs3-p1/zsxm/dataset/aorta_ct_img_label/negative/guoyafang-24-29-52-136****\n",
      "****Processing /nfs3-p1/zsxm/dataset/aorta_ct_img_label/negative/hanjinxiao-31-43-80-183****\n",
      "****Processing /nfs3-p1/zsxm/dataset/aorta_ct_img_label/negative/hanweijie-19-25-37-90****\n",
      "****Processing /nfs3-p1/zsxm/dataset/aorta_ct_img_label/negative/hebaomin-28-37-54-145****\n",
      "****Processing /nfs3-p1/zsxm/dataset/aorta_ct_img_label/negative/henglangye-15-20-25-83****\n",
      "****Processing /nfs3-p1/zsxm/dataset/aorta_ct_img_label/negative/hexiena-18-22-38-82****\n",
      "****Processing /nfs3-p1/zsxm/dataset/aorta_ct_img_label/negative/hongxia-17-34-43-122****\n",
      "****Processing /nfs3-p1/zsxm/dataset/aorta_ct_img_label/negative/huangguixian-24-28-45-101****\n",
      "****Processing /nfs3-p1/zsxm/dataset/aorta_ct_img_label/negative/huanghuaide-23-34-57-153****\n",
      "****Processing /nfs3-p1/zsxm/dataset/aorta_ct_img_label/negative/huangjiabao-22-27-33-53****\n",
      "****Processing /nfs3-p1/zsxm/dataset/aorta_ct_img_label/negative/huangjuzhen-13-17-29-77****\n",
      "****Processing /nfs3-p1/zsxm/dataset/aorta_ct_img_label/negative/huanglongsheng-23-28-46-92****\n",
      "****Processing /nfs3-p1/zsxm/dataset/aorta_ct_img_label/negative/huangweigen-24-32-62-138****\n",
      "****Processing /nfs3-p1/zsxm/dataset/aorta_ct_img_label/negative/huangxiang-22-26-42-84****\n",
      "****Processing /nfs3-p1/zsxm/dataset/aorta_ct_img_label/negative/huangxuena-17-22-27-75****\n",
      "****Processing /nfs3-p1/zsxm/dataset/aorta_ct_img_label/negative/huangzhanzhang-25-33-46-134****\n",
      "****Processing /nfs3-p1/zsxm/dataset/aorta_ct_img_label/negative/huaweiqin-15-25-33-77****\n",
      "****Processing /nfs3-p1/zsxm/dataset/aorta_ct_img_label/negative/humingdong-18-22-29-85****\n",
      "****Processing /nfs3-p1/zsxm/dataset/aorta_ct_img_label/negative/huxiangxin-19-24-34-86****\n",
      "****Processing /nfs3-p1/zsxm/dataset/aorta_ct_img_label/negative/huxianhua-32-41-55-143****\n"
     ]
    },
    {
     "name": "stdout",
     "output_type": "stream",
     "text": [
      "****Processing /nfs3-p1/zsxm/dataset/aorta_ct_img_label/negative/huyongxian-18-25-38-88****\n",
      "****Processing /nfs3-p1/zsxm/dataset/aorta_ct_img_label/negative/huyunhua-15-20-28-78****\n",
      "****Processing /nfs3-p1/zsxm/dataset/aorta_ct_img_label/negative/huzaoheng-16-23-34-67****\n",
      "****Processing /nfs3-p1/zsxm/dataset/aorta_ct_img_label/negative/huzhengjin-19-27-48-150****\n",
      "****Processing /nfs3-p1/zsxm/dataset/aorta_ct_img_label/negative/jiangchengsan-25-34-50-133****\n",
      "****Processing /nfs3-p1/zsxm/dataset/aorta_ct_img_label/negative/jiangjianrong-16-21-31-82****\n",
      "****Processing /nfs3-p1/zsxm/dataset/aorta_ct_img_label/negative/jiangjiaqi-23-30-39-140****\n",
      "****Processing /nfs3-p1/zsxm/dataset/aorta_ct_img_label/negative/jiangjinfeng-26-39-58-152****\n",
      "****Processing /nfs3-p1/zsxm/dataset/aorta_ct_img_label/negative/jiangshengfang-19-23-34-79****\n",
      "****Processing /nfs3-p1/zsxm/dataset/aorta_ct_img_label/negative/jiangyuxiang-15-19-37-83****\n",
      "****Processing /nfs3-p1/zsxm/dataset/aorta_ct_img_label/negative/jiangzhuxian-10-16-24-75****\n",
      "****Processing /nfs3-p1/zsxm/dataset/aorta_ct_img_label/negative/jinaixiang-34-41-63-149****\n",
      "****Processing /nfs3-p1/zsxm/dataset/aorta_ct_img_label/negative/jinangui-17-21-37-81****\n",
      "****Processing /nfs3-p1/zsxm/dataset/aorta_ct_img_label/negative/jingchunya-12-17-25-82****\n",
      "****Processing /nfs3-p1/zsxm/dataset/aorta_ct_img_label/negative/jinjianrong-19-24-32-86****\n",
      "****Processing /nfs3-p1/zsxm/dataset/aorta_ct_img_label/negative/jinruiyue-13-18-28-80****\n",
      "****Processing /nfs3-p1/zsxm/dataset/aorta_ct_img_label/negative/jinxianqing-15-23-37-81****\n",
      "****Processing /nfs3-p1/zsxm/dataset/aorta_ct_img_label/negative/jinyu-19-29-44-146****\n",
      "****Processing /nfs3-p1/zsxm/dataset/aorta_ct_img_label/negative/jinzhaoxiang-28-37-55-126****\n",
      "****Processing /nfs3-p1/zsxm/dataset/aorta_ct_img_label/negative/kerengang-25-30-41-91****\n",
      "****Processing /nfs3-p1/zsxm/dataset/aorta_ct_img_label/negative/kongxiangang-24-28-38-97****\n",
      "****Processing /nfs3-p1/zsxm/dataset/aorta_ct_img_label/negative/kongxiangwen-12-18-32-86****\n",
      "****Processing /nfs3-p1/zsxm/dataset/aorta_ct_img_label/negative/laijinhu-14-21-34-83****\n",
      "****Processing /nfs3-p1/zsxm/dataset/aorta_ct_img_label/negative/liangzhenwei-16-20-39-92****\n",
      "****Processing /nfs3-p1/zsxm/dataset/aorta_ct_img_label/negative/liaoxiuhua-36-44-55-144****\n",
      "****Processing /nfs3-p1/zsxm/dataset/aorta_ct_img_label/negative/lidanfa-11-16-34-72****\n",
      "****Processing /nfs3-p1/zsxm/dataset/aorta_ct_img_label/negative/lideming-16-23-43-90****\n",
      "****Processing /nfs3-p1/zsxm/dataset/aorta_ct_img_label/negative/lidong-16-21-25-83****\n",
      "****Processing /nfs3-p1/zsxm/dataset/aorta_ct_img_label/negative/lifengyun-8-16-35-81****\n",
      "****Processing /nfs3-p1/zsxm/dataset/aorta_ct_img_label/negative/lihonggang-13-18-33-88****\n",
      "****Processing /nfs3-p1/zsxm/dataset/aorta_ct_img_label/negative/lihongmei-11-16-33-83****\n",
      "****Processing /nfs3-p1/zsxm/dataset/aorta_ct_img_label/negative/lijunhua-15-21-27-82****\n",
      "****Processing /nfs3-p1/zsxm/dataset/aorta_ct_img_label/negative/linaizhen-23-31-58-144****\n",
      "****Processing /nfs3-p1/zsxm/dataset/aorta_ct_img_label/negative/lining-17-21-28-81****\n",
      "****Processing /nfs3-p1/zsxm/dataset/aorta_ct_img_label/negative/linshangjin-15-19-36-81****\n",
      "****Processing /nfs3-p1/zsxm/dataset/aorta_ct_img_label/negative/linyantian-22-32-54-146****\n",
      "****Processing /nfs3-p1/zsxm/dataset/aorta_ct_img_label/negative/linyaoqin-15-20-30-89****\n",
      "****Processing /nfs3-p1/zsxm/dataset/aorta_ct_img_label/negative/lirongchang-13-17-27-86****\n",
      "****Processing /nfs3-p1/zsxm/dataset/aorta_ct_img_label/negative/lisucheng-22-26-36-89****\n",
      "****Processing /nfs3-p1/zsxm/dataset/aorta_ct_img_label/negative/liulunyong-26-35-49-155****\n",
      "****Processing /nfs3-p1/zsxm/dataset/aorta_ct_img_label/negative/liuwangyang-19-24-32-87****\n",
      "****Processing /nfs3-p1/zsxm/dataset/aorta_ct_img_label/negative/liuweizhen-15-20-31-80****\n",
      "****Processing /nfs3-p1/zsxm/dataset/aorta_ct_img_label/negative/liuxiaolin-39-49-81-176****\n",
      "****Processing /nfs3-p1/zsxm/dataset/aorta_ct_img_label/negative/lixiaolang-17-21-30-83****\n",
      "****Processing /nfs3-p1/zsxm/dataset/aorta_ct_img_label/negative/lixiebing-17-20-37-87****\n",
      "****Processing /nfs3-p1/zsxm/dataset/aorta_ct_img_label/negative/lixiuhua-28-37-51-135****\n",
      "****Processing /nfs3-p1/zsxm/dataset/aorta_ct_img_label/negative/liyongjian-16-22-31-86****\n",
      "****Processing /nfs3-p1/zsxm/dataset/aorta_ct_img_label/negative/liyunbo-21-28-45-150****\n",
      "****Processing /nfs3-p1/zsxm/dataset/aorta_ct_img_label/negative/liyunkun-29-33-51-99****\n",
      "****Processing /nfs3-p1/zsxm/dataset/aorta_ct_img_label/negative/longpiaojiang-29-40-65-184****\n",
      "****Processing /nfs3-p1/zsxm/dataset/aorta_ct_img_label/negative/longyingdong-21-25-40-99****\n",
      "****Processing /nfs3-p1/zsxm/dataset/aorta_ct_img_label/negative/loucaidi-26-35-63-154****\n",
      "****Processing /nfs3-p1/zsxm/dataset/aorta_ct_img_label/negative/louguiqin-19-28-50-150****\n",
      "****Processing /nfs3-p1/zsxm/dataset/aorta_ct_img_label/negative/luguojing-27-36-47-141****\n",
      "****Processing /nfs3-p1/zsxm/dataset/aorta_ct_img_label/negative/lujuquan-25-35-50-126****\n",
      "****Processing /nfs3-p1/zsxm/dataset/aorta_ct_img_label/negative/lulimian-24-31-64-135****\n",
      "****Processing /nfs3-p1/zsxm/dataset/aorta_ct_img_label/negative/lumin-13-17-34-85****\n",
      "****Processing /nfs3-p1/zsxm/dataset/aorta_ct_img_label/negative/luoguangrong-23-32-51-129****\n",
      "****Processing /nfs3-p1/zsxm/dataset/aorta_ct_img_label/negative/luoguidi-21-32-51-140****\n",
      "****Processing /nfs3-p1/zsxm/dataset/aorta_ct_img_label/negative/luojinfeng-30-38-53-149****\n",
      "****Processing /nfs3-p1/zsxm/dataset/aorta_ct_img_label/negative/luojun-22-29-51-139****\n",
      "****Processing /nfs3-p1/zsxm/dataset/aorta_ct_img_label/negative/luqiaoling-12-17-26-73****\n",
      "****Processing /nfs3-p1/zsxm/dataset/aorta_ct_img_label/negative/lushuyun-19-30-47-149****\n",
      "****Processing /nfs3-p1/zsxm/dataset/aorta_ct_img_label/negative/luweiqing-16-20-37-93****\n",
      "****Processing /nfs3-p1/zsxm/dataset/aorta_ct_img_label/negative/luwenjun-20-30-44-141****\n",
      "****Processing /nfs3-p1/zsxm/dataset/aorta_ct_img_label/negative/luyuefeng-24-28-40-94****\n",
      "****Processing /nfs3-p1/zsxm/dataset/aorta_ct_img_label/negative/lvbiqiang-34-42-63-143****\n",
      "****Processing /nfs3-p1/zsxm/dataset/aorta_ct_img_label/negative/lvyinhuan-34-43-58-151****\n",
      "****Processing /nfs3-p1/zsxm/dataset/aorta_ct_img_label/negative/maguojin-27-37-56-141****\n",
      "****Processing /nfs3-p1/zsxm/dataset/aorta_ct_img_label/negative/mahuiwu-10-14-23-84****\n",
      "****Processing /nfs3-p1/zsxm/dataset/aorta_ct_img_label/negative/majiangen-17-22-34-87****\n",
      "****Processing /nfs3-p1/zsxm/dataset/aorta_ct_img_label/negative/majinmu-30-41-62-158****\n",
      "****Processing /nfs3-p1/zsxm/dataset/aorta_ct_img_label/negative/malingfeng-12-17-32-75****\n",
      "****Processing /nfs3-p1/zsxm/dataset/aorta_ct_img_label/negative/maoshuifa-30-40-60-144****\n",
      "****Processing /nfs3-p1/zsxm/dataset/aorta_ct_img_label/negative/maowenli-17-22-32-76****\n",
      "****Processing /nfs3-p1/zsxm/dataset/aorta_ct_img_label/negative/mawei-15-20-28-85****\n",
      "****Processing /nfs3-p1/zsxm/dataset/aorta_ct_img_label/negative/menghaixing-17-28-41-136****\n",
      "****Processing /nfs3-p1/zsxm/dataset/aorta_ct_img_label/negative/miaohefen-19-27-40-134****\n",
      "****Processing /nfs3-p1/zsxm/dataset/aorta_ct_img_label/negative/miaoxiaojun-35-46-65-146****\n",
      "****Processing /nfs3-p1/zsxm/dataset/aorta_ct_img_label/negative/muchunxian-15-21-31-81****\n",
      "****Processing /nfs3-p1/zsxm/dataset/aorta_ct_img_label/negative/nabuqi-13-18-26-79****\n",
      "****Processing /nfs3-p1/zsxm/dataset/aorta_ct_img_label/negative/ningjiangui-18-23-30-83****\n",
      "****Processing /nfs3-p1/zsxm/dataset/aorta_ct_img_label/negative/nisixiang-11-17-25-81****\n",
      "****Processing /nfs3-p1/zsxm/dataset/aorta_ct_img_label/negative/panandan-16-21-31-81****\n",
      "****Processing /nfs3-p1/zsxm/dataset/aorta_ct_img_label/negative/panhongfu-37-48-75-151****\n",
      "****Processing /nfs3-p1/zsxm/dataset/aorta_ct_img_label/negative/panming-17-22-30-90****\n",
      "****Processing /nfs3-p1/zsxm/dataset/aorta_ct_img_label/negative/panxiangyang-45-53-97-196****\n",
      "****Processing /nfs3-p1/zsxm/dataset/aorta_ct_img_label/negative/panyuda-29-36-52-102****\n",
      "****Processing /nfs3-p1/zsxm/dataset/aorta_ct_img_label/negative/pengguizhen-30-41-59-160****\n",
      "****Processing /nfs3-p1/zsxm/dataset/aorta_ct_img_label/negative/pengyufei-31-39-51-154****\n"
     ]
    },
    {
     "name": "stdout",
     "output_type": "stream",
     "text": [
      "****Processing /nfs3-p1/zsxm/dataset/aorta_ct_img_label/negative/puchenhu-18-21-33-89****\n",
      "****Processing /nfs3-p1/zsxm/dataset/aorta_ct_img_label/negative/puguanghui-12-18-25-74****\n",
      "****Processing /nfs3-p1/zsxm/dataset/aorta_ct_img_label/negative/qianaqin-18-26-52-141****\n",
      "****Processing /nfs3-p1/zsxm/dataset/aorta_ct_img_label/negative/qihuazhong-16-20-29-82****\n",
      "****Processing /nfs3-p1/zsxm/dataset/aorta_ct_img_label/negative/qiuwei-31-39-53-138****\n",
      "****Processing /nfs3-p1/zsxm/dataset/aorta_ct_img_label/negative/qizhikun-29-37-57-130****\n",
      "****Processing /nfs3-p1/zsxm/dataset/aorta_ct_img_label/negative/qubo-14-19-29-82****\n",
      "****Processing /nfs3-p1/zsxm/dataset/aorta_ct_img_label/negative/quzhuming-31-41-69-192****\n",
      "****Processing /nfs3-p1/zsxm/dataset/aorta_ct_img_label/negative/renjiali-34-42-52-138****\n",
      "****Processing /nfs3-p1/zsxm/dataset/aorta_ct_img_label/negative/renlaifa-19-30-53-153****\n",
      "****Processing /nfs3-p1/zsxm/dataset/aorta_ct_img_label/negative/shanziliang-13-19-30-90****\n",
      "****Processing /nfs3-p1/zsxm/dataset/aorta_ct_img_label/negative/shanzixian-30-39-59-153****\n",
      "****Processing /nfs3-p1/zsxm/dataset/aorta_ct_img_label/negative/shaochuanlai-16-22-36-83****\n",
      "****Processing /nfs3-p1/zsxm/dataset/aorta_ct_img_label/negative/shengmingzhen-10-13-26-75****\n",
      "****Processing /nfs3-p1/zsxm/dataset/aorta_ct_img_label/negative/shenhaiqin-20-28-38-129****\n",
      "****Processing /nfs3-p1/zsxm/dataset/aorta_ct_img_label/negative/shenxingen-29-40-60-150****\n",
      "****Processing /nfs3-p1/zsxm/dataset/aorta_ct_img_label/negative/shenxuhong-20-24-34-82****\n",
      "****Processing /nfs3-p1/zsxm/dataset/aorta_ct_img_label/negative/shenyan-16-23-57-125****\n",
      "****Processing /nfs3-p1/zsxm/dataset/aorta_ct_img_label/negative/shenyaping-30-40-57-139****\n",
      "****Processing /nfs3-p1/zsxm/dataset/aorta_ct_img_label/negative/shenyunzhou-24-33-70-141****\n",
      "****Processing /nfs3-p1/zsxm/dataset/aorta_ct_img_label/negative/shenyuzhen-11-16-25-77****\n",
      "****Processing /nfs3-p1/zsxm/dataset/aorta_ct_img_label/negative/shiburen-15-20-29-91****\n",
      "****Processing /nfs3-p1/zsxm/dataset/aorta_ct_img_label/negative/shouyunfang-20-26-42-136****\n",
      "****Processing /nfs3-p1/zsxm/dataset/aorta_ct_img_label/negative/songzongwei-20-26-39-94****\n",
      "****Processing /nfs3-p1/zsxm/dataset/aorta_ct_img_label/negative/sundelin-15-21-31-90****\n",
      "****Processing /nfs3-p1/zsxm/dataset/aorta_ct_img_label/negative/sunlutao-14-23-70-127****\n",
      "****Processing /nfs3-p1/zsxm/dataset/aorta_ct_img_label/negative/sunyunxian-11-17-23-75****\n",
      "****Processing /nfs3-p1/zsxm/dataset/aorta_ct_img_label/negative/tangchunhua-10-16-20-76****\n",
      "****Processing /nfs3-p1/zsxm/dataset/aorta_ct_img_label/negative/tangshuiming-33-44-68-153****\n",
      "****Processing /nfs3-p1/zsxm/dataset/aorta_ct_img_label/negative/taofeng-18-22-28-81****\n",
      "****Processing /nfs3-p1/zsxm/dataset/aorta_ct_img_label/negative/taoquanying-13-18-30-83****\n",
      "****Processing /nfs3-p1/zsxm/dataset/aorta_ct_img_label/negative/taoxiuwei-26-34-54-137****\n",
      "****Processing /nfs3-p1/zsxm/dataset/aorta_ct_img_label/negative/tongbo-25-35-51-153****\n",
      "****Processing /nfs3-p1/zsxm/dataset/aorta_ct_img_label/negative/tongxijie-33-42-61-178****\n",
      "****Processing /nfs3-p1/zsxm/dataset/aorta_ct_img_label/negative/tuyurong-15-18-34-88****\n",
      "****Processing /nfs3-p1/zsxm/dataset/aorta_ct_img_label/negative/wangahai-16-22-43-91****\n",
      "****Processing /nfs3-p1/zsxm/dataset/aorta_ct_img_label/negative/wangaifang-13-19-28-74****\n",
      "****Processing /nfs3-p1/zsxm/dataset/aorta_ct_img_label/negative/wangbaoyu-7-12-21-75****\n",
      "****Processing /nfs3-p1/zsxm/dataset/aorta_ct_img_label/negative/wangbeibei-28-38-62-148****\n",
      "****Processing /nfs3-p1/zsxm/dataset/aorta_ct_img_label/negative/wangbingdao-26-36-55-132****\n",
      "****Processing /nfs3-p1/zsxm/dataset/aorta_ct_img_label/negative/wangdahua-19-24-33-89****\n",
      "****Processing /nfs3-p1/zsxm/dataset/aorta_ct_img_label/negative/wangdandan-32-39-50-142****\n",
      "****Processing /nfs3-p1/zsxm/dataset/aorta_ct_img_label/negative/wangdayang-3-14-41-137****\n",
      "****Processing /nfs3-p1/zsxm/dataset/aorta_ct_img_label/negative/wangdehao-40-51-65-159****\n",
      "****Processing /nfs3-p1/zsxm/dataset/aorta_ct_img_label/negative/wangfeng-14-19-31-85****\n",
      "****Processing /nfs3-p1/zsxm/dataset/aorta_ct_img_label/negative/wangguojian-20-25-39-86****\n",
      "****Processing /nfs3-p1/zsxm/dataset/aorta_ct_img_label/negative/wangguolong-16-21-33-84****\n",
      "****Processing /nfs3-p1/zsxm/dataset/aorta_ct_img_label/negative/wanghaifang-40-47-83-160****\n",
      "****Processing /nfs3-p1/zsxm/dataset/aorta_ct_img_label/negative/wanghongchao-33-42-69-153****\n",
      "****Processing /nfs3-p1/zsxm/dataset/aorta_ct_img_label/negative/wangjian-17-24-32-88****\n",
      "****Processing /nfs3-p1/zsxm/dataset/aorta_ct_img_label/negative/wangjianlin-15-21-37-82****\n",
      "****Processing /nfs3-p1/zsxm/dataset/aorta_ct_img_label/negative/wangjie-15-19-31-49****\n",
      "****Processing /nfs3-p1/zsxm/dataset/aorta_ct_img_label/negative/wangjinlie-26-33-45-87****\n",
      "****Processing /nfs3-p1/zsxm/dataset/aorta_ct_img_label/negative/wangkehuai-47-57-80-157****\n",
      "****Processing /nfs3-p1/zsxm/dataset/aorta_ct_img_label/negative/wangligang-25-36-55-154****\n",
      "****Processing /nfs3-p1/zsxm/dataset/aorta_ct_img_label/negative/wangmingxuan-35-45-67-157****\n",
      "****Processing /nfs3-p1/zsxm/dataset/aorta_ct_img_label/negative/wangronglin-16-21-28-81****\n",
      "****Processing /nfs3-p1/zsxm/dataset/aorta_ct_img_label/negative/wangsonglin-19-24-27-86****\n",
      "****Processing /nfs3-p1/zsxm/dataset/aorta_ct_img_label/negative/wangwei-32-39-50-139****\n",
      "****Processing /nfs3-p1/zsxm/dataset/aorta_ct_img_label/negative/wangwuzhuang-28-33-41-98****\n",
      "****Processing /nfs3-p1/zsxm/dataset/aorta_ct_img_label/negative/wangxinhui-18-23-31-85****\n",
      "****Processing /nfs3-p1/zsxm/dataset/aorta_ct_img_label/negative/wangyouxiang-21-27-41-131****\n",
      "****Processing /nfs3-p1/zsxm/dataset/aorta_ct_img_label/negative/wangyouxin-34-42-64-160****\n",
      "****Processing /nfs3-p1/zsxm/dataset/aorta_ct_img_label/negative/wangyuncai-14-20-34-91****\n",
      "****Processing /nfs3-p1/zsxm/dataset/aorta_ct_img_label/negative/wangyuzhi-29-38-55-156****\n",
      "****Processing /nfs3-p1/zsxm/dataset/aorta_ct_img_label/negative/weifengli-26-34-62-147****\n",
      "****Processing /nfs3-p1/zsxm/dataset/aorta_ct_img_label/negative/weihuiqiong-27-33-58-137****\n",
      "****Processing /nfs3-p1/zsxm/dataset/aorta_ct_img_label/negative/weiliping-14-19-29-82****\n",
      "****Processing /nfs3-p1/zsxm/dataset/aorta_ct_img_label/negative/wenshuinong-24-33-55-141****\n",
      "****Processing /nfs3-p1/zsxm/dataset/aorta_ct_img_label/negative/wufenai-9-15-28-81****\n",
      "****Processing /nfs3-p1/zsxm/dataset/aorta_ct_img_label/negative/wugaoyou-12-17-24-81****\n",
      "****Processing /nfs3-p1/zsxm/dataset/aorta_ct_img_label/negative/wuguorong-30-39-51-140****\n",
      "****Processing /nfs3-p1/zsxm/dataset/aorta_ct_img_label/negative/wuhanjiang-18-22-39-85****\n",
      "****Processing /nfs3-p1/zsxm/dataset/aorta_ct_img_label/negative/wujianguo-14-20-29-89****\n",
      "****Processing /nfs3-p1/zsxm/dataset/aorta_ct_img_label/negative/wumingshi2021040501-17-22-30-81****\n",
      "****Processing /nfs3-p1/zsxm/dataset/aorta_ct_img_label/negative/wumingshi2021061701-25-28-45-98****\n",
      "****Processing /nfs3-p1/zsxm/dataset/aorta_ct_img_label/negative/wumingshi2021080102-38-47-85-156****\n",
      "****Processing /nfs3-p1/zsxm/dataset/aorta_ct_img_label/negative/wuqinmei-24-32-52-140****\n",
      "****Processing /nfs3-p1/zsxm/dataset/aorta_ct_img_label/negative/wuruqing-49-60-96-153****\n",
      "****Processing /nfs3-p1/zsxm/dataset/aorta_ct_img_label/negative/wutiandi-21-28-54-120****\n",
      "****Processing /nfs3-p1/zsxm/dataset/aorta_ct_img_label/negative/wutianshun-12-17-26-80****\n",
      "****Processing /nfs3-p1/zsxm/dataset/aorta_ct_img_label/negative/wuyanxian-17-21-36-83****\n",
      "****Processing /nfs3-p1/zsxm/dataset/aorta_ct_img_label/negative/wuyunfang-20-25-34-85****\n",
      "****Processing /nfs3-p1/zsxm/dataset/aorta_ct_img_label/negative/wuzili-13-19-28-72****\n",
      "****Processing /nfs3-p1/zsxm/dataset/aorta_ct_img_label/negative/wuzongtang-29-36-76-141****\n",
      "****Processing /nfs3-p1/zsxm/dataset/aorta_ct_img_label/negative/xiabao-33-42-78-196****\n",
      "****Processing /nfs3-p1/zsxm/dataset/aorta_ct_img_label/negative/xiajinying-22-32-46-134****\n",
      "****Processing /nfs3-p1/zsxm/dataset/aorta_ct_img_label/negative/xiaofuxin-25-33-64-153****\n",
      "****Processing /nfs3-p1/zsxm/dataset/aorta_ct_img_label/negative/xiaxianlin-5-9-15-71****\n"
     ]
    },
    {
     "name": "stdout",
     "output_type": "stream",
     "text": [
      "****Processing /nfs3-p1/zsxm/dataset/aorta_ct_img_label/negative/xiaxinghua-17-22-33-89****\n",
      "****Processing /nfs3-p1/zsxm/dataset/aorta_ct_img_label/negative/xiemeiying-21-29-41-127****\n",
      "****Processing /nfs3-p1/zsxm/dataset/aorta_ct_img_label/negative/xieshangyong-14-20-27-87****\n",
      "****Processing /nfs3-p1/zsxm/dataset/aorta_ct_img_label/negative/xiezhaoqin-17-21-29-81****\n",
      "****Processing /nfs3-p1/zsxm/dataset/aorta_ct_img_label/negative/xiyongmin-25-35-62-162****\n",
      "****Processing /nfs3-p1/zsxm/dataset/aorta_ct_img_label/negative/xucaizhen-27-37-51-131****\n",
      "****Processing /nfs3-p1/zsxm/dataset/aorta_ct_img_label/negative/xudingguo-21-25-38-89****\n",
      "****Processing /nfs3-p1/zsxm/dataset/aorta_ct_img_label/negative/xuguangtai-16-21-36-91****\n",
      "****Processing /nfs3-p1/zsxm/dataset/aorta_ct_img_label/negative/xurihua-26-34-61-145****\n",
      "****Processing /nfs3-p1/zsxm/dataset/aorta_ct_img_label/negative/xushengwu-31-41-60-150****\n",
      "****Processing /nfs3-p1/zsxm/dataset/aorta_ct_img_label/negative/xuxuee-22-30-45-123****\n",
      "****Processing /nfs3-p1/zsxm/dataset/aorta_ct_img_label/negative/xuyizhen-22-32-47-149****\n",
      "****Processing /nfs3-p1/zsxm/dataset/aorta_ct_img_label/negative/xuyuetian-22-30-53-132****\n",
      "****Processing /nfs3-p1/zsxm/dataset/aorta_ct_img_label/negative/yananfen-29-39-56-146****\n",
      "****Processing /nfs3-p1/zsxm/dataset/aorta_ct_img_label/negative/yangjinnan-31-38-67-146****\n",
      "****Processing /nfs3-p1/zsxm/dataset/aorta_ct_img_label/negative/yangshujuan-30-39-62-160****\n",
      "****Processing /nfs3-p1/zsxm/dataset/aorta_ct_img_label/negative/yangyuqi-34-44-60-157****\n",
      "****Processing /nfs3-p1/zsxm/dataset/aorta_ct_img_label/negative/yangzengrong-28-40-58-161****\n",
      "****Processing /nfs3-p1/zsxm/dataset/aorta_ct_img_label/negative/yangzengrong-37-48-78-188****\n",
      "****Processing /nfs3-p1/zsxm/dataset/aorta_ct_img_label/negative/yangzhengfu-18-22-32-75****\n",
      "****Processing /nfs3-p1/zsxm/dataset/aorta_ct_img_label/negative/yangzhengqian-16-21-26-78****\n",
      "****Processing /nfs3-p1/zsxm/dataset/aorta_ct_img_label/negative/yaohuiping-16-21-29-79****\n",
      "****Processing /nfs3-p1/zsxm/dataset/aorta_ct_img_label/negative/yaojingen-20-25-31-81****\n",
      "****Processing /nfs3-p1/zsxm/dataset/aorta_ct_img_label/negative/yegenxiang-11-17-30-80****\n",
      "****Processing /nfs3-p1/zsxm/dataset/aorta_ct_img_label/negative/yepusheng-13-18-27-79****\n",
      "****Processing /nfs3-p1/zsxm/dataset/aorta_ct_img_label/negative/yeronghua-21-32-49-149****\n",
      "****Processing /nfs3-p1/zsxm/dataset/aorta_ct_img_label/negative/yesenfei-22-32-53-172****\n",
      "****Processing /nfs3-p1/zsxm/dataset/aorta_ct_img_label/negative/yeshanhui-33-43-55-143****\n",
      "****Processing /nfs3-p1/zsxm/dataset/aorta_ct_img_label/negative/yeweigen-17-21-29-84****\n",
      "****Processing /nfs3-p1/zsxm/dataset/aorta_ct_img_label/negative/yimuyun-15-19-28-75****\n",
      "****Processing /nfs3-p1/zsxm/dataset/aorta_ct_img_label/negative/yinggenhua-36-45-72-174****\n",
      "****Processing /nfs3-p1/zsxm/dataset/aorta_ct_img_label/negative/yiqiang-16-21-30-78****\n",
      "****Processing /nfs3-p1/zsxm/dataset/aorta_ct_img_label/negative/yuaiyuan-13-18-29-84****\n",
      "****Processing /nfs3-p1/zsxm/dataset/aorta_ct_img_label/negative/yuanashui-27-38-57-141****\n",
      "****Processing /nfs3-p1/zsxm/dataset/aorta_ct_img_label/negative/yuanjuhe-11-16-27-76****\n",
      "****Processing /nfs3-p1/zsxm/dataset/aorta_ct_img_label/negative/yuanxiazhen-14-18-36-76****\n",
      "****Processing /nfs3-p1/zsxm/dataset/aorta_ct_img_label/negative/yuanxicai-35-43-85-169****\n",
      "****Processing /nfs3-p1/zsxm/dataset/aorta_ct_img_label/negative/yuanyongjin-12-18-27-81****\n",
      "****Processing /nfs3-p1/zsxm/dataset/aorta_ct_img_label/negative/yubaisong-25-33-65-152****\n",
      "****Processing /nfs3-p1/zsxm/dataset/aorta_ct_img_label/negative/yuguangyang-18-23-33-90****\n",
      "****Processing /nfs3-p1/zsxm/dataset/aorta_ct_img_label/negative/yukang-17-22-27-82****\n",
      "****Processing /nfs3-p1/zsxm/dataset/aorta_ct_img_label/negative/yukang-27-36-46-135****\n",
      "****Processing /nfs3-p1/zsxm/dataset/aorta_ct_img_label/negative/yumengting-19-26-36-123****\n",
      "****Processing /nfs3-p1/zsxm/dataset/aorta_ct_img_label/negative/yupengjie-26-34-46-134****\n",
      "****Processing /nfs3-p1/zsxm/dataset/aorta_ct_img_label/negative/yushengfu-31-40-56-154****\n",
      "****Processing /nfs3-p1/zsxm/dataset/aorta_ct_img_label/negative/yuxiaotu-20-25-36-90****\n",
      "****Processing /nfs3-p1/zsxm/dataset/aorta_ct_img_label/negative/yuyinglong-24-30-51-98****\n",
      "****Processing /nfs3-p1/zsxm/dataset/aorta_ct_img_label/negative/yuyunfu-26-33-66-148****\n",
      "****Processing /nfs3-p1/zsxm/dataset/aorta_ct_img_label/negative/yuzhixue-16-21-38-91****\n",
      "****Processing /nfs3-p1/zsxm/dataset/aorta_ct_img_label/negative/zengchunsheng-23-30-41-128****\n",
      "****Processing /nfs3-p1/zsxm/dataset/aorta_ct_img_label/negative/zengshengjiang-19-23-36-89****\n",
      "****Processing /nfs3-p1/zsxm/dataset/aorta_ct_img_label/negative/zhangchao-13-18-29-81****\n",
      "****Processing /nfs3-p1/zsxm/dataset/aorta_ct_img_label/negative/zhangdanye-31-38-50-143****\n",
      "****Processing /nfs3-p1/zsxm/dataset/aorta_ct_img_label/negative/zhangduofeng-12-17-28-55****\n",
      "****Processing /nfs3-p1/zsxm/dataset/aorta_ct_img_label/negative/zhangguanghong-39-46-68-156****\n",
      "****Processing /nfs3-p1/zsxm/dataset/aorta_ct_img_label/negative/zhangguofeng-21-27-35-90****\n",
      "****Processing /nfs3-p1/zsxm/dataset/aorta_ct_img_label/negative/zhangguofeng-25-30-45-97****\n",
      "****Processing /nfs3-p1/zsxm/dataset/aorta_ct_img_label/negative/zhanghanmin-13-19-27-76****\n",
      "****Processing /nfs3-p1/zsxm/dataset/aorta_ct_img_label/negative/zhanghonghu-37-45-69-149****\n",
      "****Processing /nfs3-p1/zsxm/dataset/aorta_ct_img_label/negative/zhanghuanquan-17-22-29-75****\n",
      "****Processing /nfs3-p1/zsxm/dataset/aorta_ct_img_label/negative/zhangjingzhong-53-59-85-174****\n",
      "****Processing /nfs3-p1/zsxm/dataset/aorta_ct_img_label/negative/zhangmeiqin-19-22-39-86****\n",
      "****Processing /nfs3-p1/zsxm/dataset/aorta_ct_img_label/negative/zhangmingfa-22-27-37-93****\n",
      "****Processing /nfs3-p1/zsxm/dataset/aorta_ct_img_label/negative/zhangqingrong-32-43-73-161****\n",
      "****Processing /nfs3-p1/zsxm/dataset/aorta_ct_img_label/negative/zhangsuyun-18-21-37-81****\n",
      "****Processing /nfs3-p1/zsxm/dataset/aorta_ct_img_label/negative/zhangxianjun-16-23-31-82****\n",
      "****Processing /nfs3-p1/zsxm/dataset/aorta_ct_img_label/negative/zhangyitian-26-32-55-148****\n",
      "****Processing /nfs3-p1/zsxm/dataset/aorta_ct_img_label/negative/zhangyulin-20-25-40-93****\n",
      "****Processing /nfs3-p1/zsxm/dataset/aorta_ct_img_label/negative/zhanmin-18-23-37-88****\n",
      "****Processing /nfs3-p1/zsxm/dataset/aorta_ct_img_label/negative/zhaofuchang-16-21-30-80****\n",
      "****Processing /nfs3-p1/zsxm/dataset/aorta_ct_img_label/negative/zhaorong-33-42-71-163****\n",
      "****Processing /nfs3-p1/zsxm/dataset/aorta_ct_img_label/negative/zhaoshunshou-30-38-53-139****\n",
      "****Processing /nfs3-p1/zsxm/dataset/aorta_ct_img_label/negative/zhaosuifang-23-34-61-154****\n",
      "****Processing /nfs3-p1/zsxm/dataset/aorta_ct_img_label/negative/zhaoyijun-17-20-33-82****\n",
      "****Processing /nfs3-p1/zsxm/dataset/aorta_ct_img_label/negative/zhaoyouyang-24-34-41-125****\n",
      "****Processing /nfs3-p1/zsxm/dataset/aorta_ct_img_label/negative/zhengfahong-22-26-44-99****\n",
      "****Processing /nfs3-p1/zsxm/dataset/aorta_ct_img_label/negative/zhengguanhan-17-23-34-79****\n",
      "****Processing /nfs3-p1/zsxm/dataset/aorta_ct_img_label/negative/zhengjilang-23-33-49-135****\n",
      "****Processing /nfs3-p1/zsxm/dataset/aorta_ct_img_label/negative/zhengjuying-16-19-33-86****\n",
      "****Processing /nfs3-p1/zsxm/dataset/aorta_ct_img_label/negative/zhengronghua-21-30-44-127****\n",
      "****Processing /nfs3-p1/zsxm/dataset/aorta_ct_img_label/negative/zhengwanhua-29-40-59-156****\n",
      "****Processing /nfs3-p1/zsxm/dataset/aorta_ct_img_label/negative/zhengxuefei-21-24-43-86****\n",
      "****Processing /nfs3-p1/zsxm/dataset/aorta_ct_img_label/negative/zhengyingu-14-18-26-76****\n",
      "****Processing /nfs3-p1/zsxm/dataset/aorta_ct_img_label/negative/zhengyouduo-23-27-41-83****\n",
      "****Processing /nfs3-p1/zsxm/dataset/aorta_ct_img_label/negative/zhengzaidi-22-34-51-153****\n",
      "****Processing /nfs3-p1/zsxm/dataset/aorta_ct_img_label/negative/zhensuzhen-20-25-34-90****\n",
      "****Processing /nfs3-p1/zsxm/dataset/aorta_ct_img_label/negative/zhongxiaoxiang-30-40-53-139****\n",
      "****Processing /nfs3-p1/zsxm/dataset/aorta_ct_img_label/negative/zhoubo-19-26-41-137****\n",
      "****Processing /nfs3-p1/zsxm/dataset/aorta_ct_img_label/negative/zhouguoming-20-25-30-82****\n"
     ]
    },
    {
     "name": "stdout",
     "output_type": "stream",
     "text": [
      "****Processing /nfs3-p1/zsxm/dataset/aorta_ct_img_label/negative/zhouhaibin-30-39-74-185****\n",
      "****Processing /nfs3-p1/zsxm/dataset/aorta_ct_img_label/negative/zhoulijun-18-23-35-93****\n",
      "****Processing /nfs3-p1/zsxm/dataset/aorta_ct_img_label/negative/zhoushijun-30-37-64-145****\n",
      "****Processing /nfs3-p1/zsxm/dataset/aorta_ct_img_label/negative/zhouweiqiang-19-24-42-90****\n",
      "****Processing /nfs3-p1/zsxm/dataset/aorta_ct_img_label/negative/zhouwenming-40-48-67-147****\n",
      "****Processing /nfs3-p1/zsxm/dataset/aorta_ct_img_label/negative/zhouxianhang-13-17-26-78****\n",
      "****Processing /nfs3-p1/zsxm/dataset/aorta_ct_img_label/negative/zhouxinya-24-30-40-120****\n",
      "****Processing /nfs3-p1/zsxm/dataset/aorta_ct_img_label/negative/zhouyixiao-22-28-40-83****\n",
      "****Processing /nfs3-p1/zsxm/dataset/aorta_ct_img_label/negative/zhouyongjin-17-21-35-87****\n",
      "****Processing /nfs3-p1/zsxm/dataset/aorta_ct_img_label/negative/zhouyongyan-21-33-51-136****\n",
      "****Processing /nfs3-p1/zsxm/dataset/aorta_ct_img_label/negative/zhouzhangnv-12-18-31-80****\n",
      "****Processing /nfs3-p1/zsxm/dataset/aorta_ct_img_label/negative/zhouzhangyun-26-35-61-136****\n",
      "****Processing /nfs3-p1/zsxm/dataset/aorta_ct_img_label/negative/zhudamin-33-41-70-156****\n",
      "****Processing /nfs3-p1/zsxm/dataset/aorta_ct_img_label/negative/zhuguizhou-18-23-34-85****\n",
      "****Processing /nfs3-p1/zsxm/dataset/aorta_ct_img_label/negative/zhujianfu-16-22-28-87****\n",
      "****Processing /nfs3-p1/zsxm/dataset/aorta_ct_img_label/negative/zhujianfu-30-42-62-154****\n",
      "****Processing /nfs3-p1/zsxm/dataset/aorta_ct_img_label/negative/zhukuanwen-15-21-29-83****\n",
      "****Processing /nfs3-p1/zsxm/dataset/aorta_ct_img_label/negative/zhumeizheng-34-42-69-167****\n",
      "****Processing /nfs3-p1/zsxm/dataset/aorta_ct_img_label/negative/zhuodepeng-9-14-23-78****\n",
      "****Processing /nfs3-p1/zsxm/dataset/aorta_ct_img_label/negative/zhuxiaoqin-22-29-50-130****\n",
      "****Processing /nfs3-p1/zsxm/dataset/aorta_ct_img_label/negative/zhuxinnan-18-26-49-129****\n",
      "****Processing /nfs3-p1/zsxm/dataset/aorta_ct_img_label/negative/zhuyanjie-20-25-35-89****\n",
      "****Processing /nfs3-p1/zsxm/dataset/aorta_ct_img_label/negative/baimeizhu-27-37-54-136****\n",
      "****Processing /nfs3-p1/zsxm/dataset/aorta_ct_img_label/negative/bianyinqiao-31-38-59-137****\n",
      "****Processing /nfs3-p1/zsxm/dataset/aorta_ct_img_label/negative/chendonghong-12-17-27-75****\n",
      "****Processing /nfs3-p1/zsxm/dataset/aorta_ct_img_label/negative/chengshaoping-19-28-45-132****\n",
      "****Processing /nfs3-p1/zsxm/dataset/aorta_ct_img_label/negative/chenliuer-23-32-43-140****\n",
      "****Processing /nfs3-p1/zsxm/dataset/aorta_ct_img_label/negative/chenqiuying-13-17-30-78****\n",
      "****Processing /nfs3-p1/zsxm/dataset/aorta_ct_img_label/negative/chenruohui-22-30-41-133****\n",
      "****Processing /nfs3-p1/zsxm/dataset/aorta_ct_img_label/negative/chenyanli-20-23-34-80****\n",
      "****Processing /nfs3-p1/zsxm/dataset/aorta_ct_img_label/negative/chenyonghu-24-32-48-141****\n",
      "****Processing /nfs3-p1/zsxm/dataset/aorta_ct_img_label/negative/daijiandong-28-39-50-160****\n",
      "****Processing /nfs3-p1/zsxm/dataset/aorta_ct_img_label/negative/dingbinghai-20-24-45-95****\n",
      "****Processing /nfs3-p1/zsxm/dataset/aorta_ct_img_label/negative/fangzhengyi-26-37-53-153****\n",
      "****Processing /nfs3-p1/zsxm/dataset/aorta_ct_img_label/negative/gegaocai-20-24-32-88****\n",
      "****Processing /nfs3-p1/zsxm/dataset/aorta_ct_img_label/negative/gezhidong-21-27-38-93****\n",
      "****Processing /nfs3-p1/zsxm/dataset/aorta_ct_img_label/negative/hanshufang-28-35-53-137****\n",
      "****Processing /nfs3-p1/zsxm/dataset/aorta_ct_img_label/negative/heguansheng-15-20-43-92****\n",
      "****Processing /nfs3-p1/zsxm/dataset/aorta_ct_img_label/negative/huangzhaoxun-29-41-62-152****\n",
      "****Processing /nfs3-p1/zsxm/dataset/aorta_ct_img_label/negative/hukaipin-29-39-73-159****\n",
      "****Processing /nfs3-p1/zsxm/dataset/aorta_ct_img_label/negative/jiangguanshui-16-21-31-85****\n",
      "****Processing /nfs3-p1/zsxm/dataset/aorta_ct_img_label/negative/jiangxiangzhong-15-20-29-83****\n",
      "****Processing /nfs3-p1/zsxm/dataset/aorta_ct_img_label/negative/jiangzhongshui-24-32-48-134****\n",
      "****Processing /nfs3-p1/zsxm/dataset/aorta_ct_img_label/negative/jinlanhua-24-32-43-131****\n",
      "****Processing /nfs3-p1/zsxm/dataset/aorta_ct_img_label/negative/jinshuigen-18-23-36-79****\n",
      "****Processing /nfs3-p1/zsxm/dataset/aorta_ct_img_label/negative/jinyongfa-25-29-37-92****\n",
      "****Processing /nfs3-p1/zsxm/dataset/aorta_ct_img_label/negative/kongfansheng-20-26-38-87****\n",
      "****Processing /nfs3-p1/zsxm/dataset/aorta_ct_img_label/negative/leijiuxiang-31-38-68-153****\n",
      "****Processing /nfs3-p1/zsxm/dataset/aorta_ct_img_label/negative/liangmingfen-19-24-34-84****\n",
      "****Processing /nfs3-p1/zsxm/dataset/aorta_ct_img_label/negative/liguoyong-26-35-57-150****\n",
      "****Processing /nfs3-p1/zsxm/dataset/aorta_ct_img_label/negative/lintianye-18-28-46-136****\n",
      "****Processing /nfs3-p1/zsxm/dataset/aorta_ct_img_label/negative/liqiang-17-22-27-83****\n",
      "****Processing /nfs3-p1/zsxm/dataset/aorta_ct_img_label/negative/lishankui-17-25-56-142****\n",
      "****Processing /nfs3-p1/zsxm/dataset/aorta_ct_img_label/negative/lishengfu-19-25-37-95****\n",
      "****Processing /nfs3-p1/zsxm/dataset/aorta_ct_img_label/negative/liubaojian-23-31-49-143****\n",
      "****Processing /nfs3-p1/zsxm/dataset/aorta_ct_img_label/negative/liulixuan-16-22-27-87****\n",
      "****Processing /nfs3-p1/zsxm/dataset/aorta_ct_img_label/negative/liutongkang-12-18-25-84****\n",
      "****Processing /nfs3-p1/zsxm/dataset/aorta_ct_img_label/negative/lixian-19-24-32-83****\n",
      "****Processing /nfs3-p1/zsxm/dataset/aorta_ct_img_label/negative/lixinxi-16-23-33-86****\n",
      "****Processing /nfs3-p1/zsxm/dataset/aorta_ct_img_label/negative/liyingsheng-13-17-34-87****\n",
      "****Processing /nfs3-p1/zsxm/dataset/aorta_ct_img_label/negative/liyufang-32-40-68-138****\n",
      "****Processing /nfs3-p1/zsxm/dataset/aorta_ct_img_label/negative/lizufu-21-26-42-93****\n",
      "****Processing /nfs3-p1/zsxm/dataset/aorta_ct_img_label/negative/loudinghong-18-22-39-93****\n",
      "****Processing /nfs3-p1/zsxm/dataset/aorta_ct_img_label/negative/lucaifa-25-34-62-147****\n",
      "****Processing /nfs3-p1/zsxm/dataset/aorta_ct_img_label/negative/luguiyun-10-16-27-82****\n",
      "****Processing /nfs3-p1/zsxm/dataset/aorta_ct_img_label/negative/luoshuijin-15-19-35-74****\n",
      "****Processing /nfs3-p1/zsxm/dataset/aorta_ct_img_label/negative/luzhiwei-19-25-36-88****\n",
      "****Processing /nfs3-p1/zsxm/dataset/aorta_ct_img_label/negative/lvnanxian-17-23-32-84****\n",
      "****Processing /nfs3-p1/zsxm/dataset/aorta_ct_img_label/negative/lvyundi-29-36-45-131****\n",
      "****Processing /nfs3-p1/zsxm/dataset/aorta_ct_img_label/negative/maoshuijuan-12-17-23-80****\n",
      "****Processing /nfs3-p1/zsxm/dataset/aorta_ct_img_label/negative/meipingan-36-45-60-137****\n",
      "****Processing /nfs3-p1/zsxm/dataset/aorta_ct_img_label/negative/ningdegen-28-38-61-140****\n",
      "****Processing /nfs3-p1/zsxm/dataset/aorta_ct_img_label/negative/panxiuping-29-38-55-142****\n",
      "****Processing /nfs3-p1/zsxm/dataset/aorta_ct_img_label/negative/qianliujiu-9-15-24-75****\n",
      "****Processing /nfs3-p1/zsxm/dataset/aorta_ct_img_label/negative/renxiuyuan-18-23-31-79****\n",
      "****Processing /nfs3-p1/zsxm/dataset/aorta_ct_img_label/negative/shaobingsheng-13-19-27-80****\n",
      "****Processing /nfs3-p1/zsxm/dataset/aorta_ct_img_label/negative/shenfengmei-29-36-58-130****\n",
      "****Processing /nfs3-p1/zsxm/dataset/aorta_ct_img_label/negative/shenguilin-18-25-35-53****\n",
      "****Processing /nfs3-p1/zsxm/dataset/aorta_ct_img_label/negative/shenxuemei-15-21-28-79****\n",
      "****Processing /nfs3-p1/zsxm/dataset/aorta_ct_img_label/negative/shenziming-17-24-34-84****\n",
      "****Processing /nfs3-p1/zsxm/dataset/aorta_ct_img_label/negative/shizhifu-37-47-58-147****\n",
      "****Processing /nfs3-p1/zsxm/dataset/aorta_ct_img_label/negative/taonan-19-24-37-87****\n",
      "****Processing /nfs3-p1/zsxm/dataset/aorta_ct_img_label/negative/taowenming-23-32-59-138****\n",
      "****Processing /nfs3-p1/zsxm/dataset/aorta_ct_img_label/negative/tongchichang-16-21-35-88****\n",
      "****Processing /nfs3-p1/zsxm/dataset/aorta_ct_img_label/negative/wangfancun-28-39-72-175****\n",
      "****Processing /nfs3-p1/zsxm/dataset/aorta_ct_img_label/negative/wangjiajin-35-46-69-148****\n",
      "****Processing /nfs3-p1/zsxm/dataset/aorta_ct_img_label/negative/wangluhua-18-23-32-87****\n",
      "****Processing /nfs3-p1/zsxm/dataset/aorta_ct_img_label/negative/wangwei-16-20-36-87****\n",
      "****Processing /nfs3-p1/zsxm/dataset/aorta_ct_img_label/negative/wangying-30-36-77-162****\n"
     ]
    },
    {
     "name": "stdout",
     "output_type": "stream",
     "text": [
      "****Processing /nfs3-p1/zsxm/dataset/aorta_ct_img_label/negative/wangyunxian-18-27-39-134****\n",
      "****Processing /nfs3-p1/zsxm/dataset/aorta_ct_img_label/negative/wenshuijuan-30-36-66-145****\n",
      "****Processing /nfs3-p1/zsxm/dataset/aorta_ct_img_label/negative/xiangzhaochong-15-20-31-78****\n",
      "****Processing /nfs3-p1/zsxm/dataset/aorta_ct_img_label/negative/xiasuifu-12-18-30-84****\n",
      "****Processing /nfs3-p1/zsxm/dataset/aorta_ct_img_label/negative/xiegenjun-21-26-34-93****\n",
      "****Processing /nfs3-p1/zsxm/dataset/aorta_ct_img_label/negative/xinyongsheng-13-18-26-86****\n",
      "****Processing /nfs3-p1/zsxm/dataset/aorta_ct_img_label/negative/yanchunhong-36-45-64-155****\n",
      "****Processing /nfs3-p1/zsxm/dataset/aorta_ct_img_label/negative/yangqingyue-31-39-50-128****\n",
      "****Processing /nfs3-p1/zsxm/dataset/aorta_ct_img_label/negative/yangtangyong-15-19-35-85****\n",
      "****Processing /nfs3-p1/zsxm/dataset/aorta_ct_img_label/negative/yangxiaohui-20-28-39-125****\n",
      "****Processing /nfs3-p1/zsxm/dataset/aorta_ct_img_label/negative/yuankunfa-27-33-44-89****\n",
      "****Processing /nfs3-p1/zsxm/dataset/aorta_ct_img_label/negative/yujixin-32-41-62-143****\n",
      "****Processing /nfs3-p1/zsxm/dataset/aorta_ct_img_label/negative/yuweiliang-29-35-47-104****\n",
      "****Processing /nfs3-p1/zsxm/dataset/aorta_ct_img_label/negative/zhangfagen-22-27-37-92****\n",
      "****Processing /nfs3-p1/zsxm/dataset/aorta_ct_img_label/negative/zhangjingjing-16-19-30-78****\n",
      "****Processing /nfs3-p1/zsxm/dataset/aorta_ct_img_label/negative/zhangjunfei-25-33-52-125****\n",
      "****Processing /nfs3-p1/zsxm/dataset/aorta_ct_img_label/negative/zhangkesheng-27-34-63-144****\n",
      "****Processing /nfs3-p1/zsxm/dataset/aorta_ct_img_label/negative/zhanglanxian-19-28-48-129****\n",
      "****Processing /nfs3-p1/zsxm/dataset/aorta_ct_img_label/negative/zhangyao-17-22-29-83****\n",
      "****Processing /nfs3-p1/zsxm/dataset/aorta_ct_img_label/negative/zhaomin-11-15-32-86****\n",
      "****Processing /nfs3-p1/zsxm/dataset/aorta_ct_img_label/negative/zhengwenyan-15-20-29-82****\n",
      "****Processing /nfs3-p1/zsxm/dataset/aorta_ct_img_label/negative/zhouhongqiong-31-42-54-147****\n",
      "****Processing /nfs3-p1/zsxm/dataset/aorta_ct_img_label/negative/zhoujun-12-16-24-77****\n",
      "****Processing /nfs3-p1/zsxm/dataset/aorta_ct_img_label/negative/zhoushan-17-20-39-78****\n",
      "****Processing /nfs3-p1/zsxm/dataset/aorta_ct_img_label/negative/zhouxiushan-14-18-34-84****\n",
      "****Processing /nfs3-p1/zsxm/dataset/aorta_ct_img_label/negative/zhuguofang-15-20-32-85****\n",
      "****Processing /nfs3-p1/zsxm/dataset/aorta_ct_img_label/negative/zoudeling-11-15-30-84****\n"
     ]
    }
   ],
   "source": [
    "def move_to_classify(patient_list, output_path):\n",
    "    if not os.path.exists(output_path):\n",
    "        os.makedirs(output_path)\n",
    "    \n",
    "    for patient in patient_list:\n",
    "        print(f'****Processing {patient}****')\n",
    "        for file in os.listdir(os.path.join(patient, 'crops')):\n",
    "            shutil.copy(os.path.join(patient, 'crops', file), output_path)\n",
    "            \n",
    "move_to_classify(train_patient_list, f'/nfs3-p1/zsxm/dataset/aorta_classify_ct_{lower_b}_{upper_b}/center/train/0/')\n",
    "move_to_classify(val_patient_list, f'/nfs3-p1/zsxm/dataset/aorta_classify_ct_{lower_b}_{upper_b}/center/val/0/')"
   ]
  },
  {
   "cell_type": "markdown",
   "id": "91b8a5ea",
   "metadata": {},
   "source": [
    "## 4.检查并统计crop图像尺寸"
   ]
  },
  {
   "cell_type": "code",
   "execution_count": null,
   "id": "a0dec45e",
   "metadata": {},
   "outputs": [],
   "source": [
    "import os\n",
    "from PIL import Image\n",
    "import matplotlib.pyplot as plt\n",
    "from numpy.lib.function_base import median\n",
    "\n",
    "paths = [f'/nfs3-p1/zsxm/dataset/aorta_classify_ct_{lower_b}_{upper_b}/train/0/',\n",
    "         f'/nfs3-p1/zsxm/dataset/aorta_classify_ct_{lower_b}_{upper_b}/val/0/',\n",
    "         f'/nfs3-p1/zsxm/dataset/aorta_classify_ct_{lower_b}_{upper_b}/train/1/',\n",
    "         f'/nfs3-p1/zsxm/dataset/aorta_classify_ct_{lower_b}_{upper_b}/val/1/',\n",
    "         f'/nfs3-p1/zsxm/dataset/aorta_classify_ct_{lower_b}_{upper_b}/train/2/',\n",
    "         f'/nfs3-p1/zsxm/dataset/aorta_classify_ct_{lower_b}_{upper_b}/val/2/',\n",
    "         f'/nfs3-p1/zsxm/dataset/aorta_classify_ct_{lower_b}_{upper_b}/train/3/',\n",
    "         f'/nfs3-p1/zsxm/dataset/aorta_classify_ct_{lower_b}_{upper_b}/val/3/',\n",
    "        ]\n",
    "\n",
    "size_list = []\n",
    "\n",
    "count = 0\n",
    "for path in paths:\n",
    "    path_count = 0\n",
    "    for f in os.listdir(path):\n",
    "        path_count += 1\n",
    "        img = Image.open(os.path.join(path, f))\n",
    "        size_list.append(img.height)\n",
    "        if img.height != img.width:\n",
    "            print(f'{os.path.join(path, f)}: height:{img.height}, width:{img.width}')\n",
    "            count += 1\n",
    "    print(f'{path}: {path_count}')\n",
    "\n",
    "size_list.sort()\n",
    "\n",
    "sum = 0\n",
    "hash_list = {}\n",
    "for size in size_list:\n",
    "    sum += size\n",
    "    hash_list[size] = hash_list.get(size, 0) + 1\n",
    "\n",
    "avg = sum / len(size_list)\n",
    "\n",
    "key = len(size_list) // 2\n",
    "med = (size_list[key] + size_list[-key-1]) / 2\n",
    "\n",
    "v_list = list(hash_list.items())\n",
    "v_list.sort(key=lambda x: x[1], reverse=True)\n",
    "mode = v_list[0][0]\n",
    "\n",
    "print(f'avg:{avg}, median:{med}, mode:{mode}({v_list[0][1]}), h_w_not_equal:{count}')"
   ]
  },
  {
   "cell_type": "code",
   "execution_count": null,
   "id": "50d3a7ae",
   "metadata": {},
   "outputs": [],
   "source": [
    "interval = 3\n",
    "bin_num = (max(size_list)-min(size_list)) // interval\n",
    "bins = [i for i in range(min(size_list), max(size_list)+interval, interval)]\n",
    "fig = plt.figure(figsize=(30, 8), dpi=160)\n",
    "plt.hist(size_list, bins=bins)\n",
    "plt.xticks(ticks=bins)\n",
    "plt.show()"
   ]
  },
  {
   "cell_type": "code",
   "execution_count": null,
   "id": "8c972c2b",
   "metadata": {},
   "outputs": [],
   "source": [
    "print(max(size_list))"
   ]
  },
  {
   "cell_type": "code",
   "execution_count": null,
   "id": "7ba05604",
   "metadata": {},
   "outputs": [],
   "source": [
    "img_path = '/nfs3-p1/zsxm/dataset/aorta_classify_ct_-100_500/val/0/'\n",
    "\n",
    "for img in os.listdir(img_path):\n",
    "    nl = img.split('-')\n",
    "    if len(nl) != 5:\n",
    "        print(1, img)\n",
    "    if '0'<= nl[0][-1] <='9':\n",
    "        print(2, img)"
   ]
  },
  {
   "cell_type": "code",
   "execution_count": null,
   "id": "e3f86e09",
   "metadata": {},
   "outputs": [],
   "source": [
    "old_img_list = []\n",
    "new_img_list = []\n",
    "\n",
    "old_list = ['/nfs3-p2/zsxm/dataset/aorta_classify_ct_-100_500/negative_deleted/train_0_backup',\n",
    "            '/nfs3-p2/zsxm/dataset/aorta_classify_ct_-100_500/negative_deleted/val_0_backup']\n",
    "new_list = ['/nfs3-p2/zsxm/dataset/aorta_classify_ct_-100_500/train/0', \n",
    "            '/nfs3-p2/zsxm/dataset/aorta_classify_ct_-100_500/val/0']\n",
    "for path in old_list:\n",
    "    for img in os.listdir(path):\n",
    "        old_img_list.append(img)\n",
    "for path in new_list:\n",
    "    for img in os.listdir(path):\n",
    "        new_img_list.append(img)\n",
    "print(len(old_img_list), len(new_img_list))"
   ]
  },
  {
   "cell_type": "code",
   "execution_count": null,
   "id": "3984be25",
   "metadata": {},
   "outputs": [],
   "source": [
    "for img in new_img_list:\n",
    "    if img not in old_img_list:\n",
    "        print(img)"
   ]
  },
  {
   "cell_type": "code",
   "execution_count": null,
   "id": "4cead0fb",
   "metadata": {},
   "outputs": [],
   "source": [
    "for img in old_img_list:\n",
    "    if img not in new_img_list:\n",
    "        print(img)"
   ]
  },
  {
   "cell_type": "code",
   "execution_count": null,
   "id": "85b3986f",
   "metadata": {},
   "outputs": [],
   "source": []
  }
 ],
 "metadata": {
  "kernelspec": {
   "display_name": "Python 3 (ipykernel)",
   "language": "python",
   "name": "python3"
  },
  "language_info": {
   "codemirror_mode": {
    "name": "ipython",
    "version": 3
   },
   "file_extension": ".py",
   "mimetype": "text/x-python",
   "name": "python",
   "nbconvert_exporter": "python",
   "pygments_lexer": "ipython3",
   "version": "3.8.11"
  }
 },
 "nbformat": 4,
 "nbformat_minor": 5
}
