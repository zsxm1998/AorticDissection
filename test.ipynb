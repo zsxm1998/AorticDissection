{
 "cells": [
  {
   "cell_type": "code",
   "execution_count": 1,
   "id": "eec83c6f",
   "metadata": {},
   "outputs": [],
   "source": [
    "import os\n",
    "import shutil\n",
    "import warnings\n",
    "\n",
    "import numpy as np\n",
    "from PIL import Image\n",
    "import torch\n",
    "import torch.nn.functional as F\n",
    "import torchvision\n",
    "from torchvision import transforms as T\n",
    "from torchvision.datasets import ImageFolder\n",
    "from sklearn.model_selection import StratifiedShuffleSplit\n",
    "from torch.utils.data import DataLoader\n",
    "from pytorch_grad_cam import GradCAM, ScoreCAM, GradCAMPlusPlus, AblationCAM, XGradCAM, EigenCAM, GuidedBackpropReLUModel\n",
    "from pytorch_grad_cam.utils.image import show_cam_on_image, deprocess_image\n",
    "import matplotlib.pyplot as plt\n",
    "import cv2\n",
    "from tqdm import tqdm\n",
    "from sklearn import metrics, preprocessing\n",
    "from MulticoreTSNE import MulticoreTSNE as TSNE\n",
    "\n",
    "from train import create_net, create_supcon\n",
    "from utils.eval import eval_net, eval_supcon\n",
    "from utils.datasets import AortaDataset3D\n",
    "from utils import transforms as MT\n",
    "from utils.datasets import AortaDataset3DCenter\n",
    "\n",
    "warnings.filterwarnings(\"ignore\")\n",
    "np.random.seed(63910)\n",
    "torch.manual_seed(53152)\n",
    "torch.cuda.manual_seed_all(7987)\n",
    "torch.backends.cudnn.deterministic = True"
   ]
  },
  {
   "cell_type": "code",
   "execution_count": 2,
   "id": "ad2ea6cd",
   "metadata": {},
   "outputs": [],
   "source": [
    "os.environ['CUDA_VISIBLE_DEVICES'] = '0'\n",
    "device = torch.device('cuda:0' if torch.cuda.is_available() else 'cpu')\n",
    "#device = torch.device('cpu')"
   ]
  },
  {
   "cell_type": "code",
   "execution_count": 3,
   "id": "60177466",
   "metadata": {},
   "outputs": [],
   "source": [
    "#2d数据集\n",
    "transform = T.Compose([\n",
    "    T.Resize(81), # 缩放图片(Image)，保持长宽比不变，最短边为img_size像素\n",
    "    T.CenterCrop(81), # 从图片中间切出img_size*img_size的图片\n",
    "    T.ToTensor(), # 将图片(Image)转成Tensor，归一化至[0, 1]\n",
    "    #MT.GaussianResidual(3, 1, False),\n",
    "])\n",
    "val = ImageFolder('/nfs3-p1/zsxm/dataset/aorta_classify_ct_-100_500/val/', transform=transform, loader=lambda path: Image.open(path))\n",
    "val_loader = DataLoader(val, batch_size=100, shuffle=True, num_workers=8, pin_memory=True, drop_last=False)"
   ]
  },
  {
   "cell_type": "code",
   "execution_count": 15,
   "id": "64105f4c",
   "metadata": {},
   "outputs": [
    {
     "name": "stdout",
     "output_type": "stream",
     "text": [
      "[INFO]: Creating dataset with 13503 examples. Depth:7, Step:1, Residual:False\n"
     ]
    }
   ],
   "source": [
    "#3d数据集\n",
    "transform = T.Compose([\n",
    "    MT.Resize3D(81),\n",
    "    MT.CenterCrop3D(81),\n",
    "    MT.ToTensor3D(),\n",
    "    MT.GaussianResidual(3, 1, False, True),\n",
    "])\n",
    "val = val = AortaDataset3DCenter('/nfs3-p1/zsxm/dataset/aorta_classify_ct_-100_500/center/val/', transform=transform, depth=7, step=1, residual=False)\n",
    "val_loader = DataLoader(val, batch_size=100, shuffle=True, num_workers=8, pin_memory=True, drop_last=False)"
   ]
  },
  {
   "cell_type": "code",
   "execution_count": 8,
   "id": "ece8a135",
   "metadata": {},
   "outputs": [
    {
     "name": "stdout",
     "output_type": "stream",
     "text": [
      "[INFO]: **********************************************************************\n",
      "Network: ResNet_34\n",
      "\t1 input channels\n",
      "\t3 output channels (classes)\n",
      "\t3D model: False\n",
      "\n",
      "[INFO]: Model loaded from details/checkpoints/CrossEntropy/01-06_14:49:32/Net_best.pth\n",
      "[INFO]: **********************************************************************\n",
      "Network: ResNet_34\n",
      "\t1 input channels\n",
      "\t2 output channels (classes)\n",
      "\t3D model: False\n",
      "\n",
      "[INFO]: Model loaded from details/checkpoints/CrossEntropy/01-06_12:43:25/Net_best.pth\n",
      "\n"
     ]
    }
   ],
   "source": [
    "#2d网络\n",
    "# net1 = create_net(device, 1, 3, 'details/checkpoints/CrossEntropy/11-06_12:19:06/Net_best.pth', entire=True)\n",
    "# net2 = create_net(device, 1, 1, 'details/checkpoints/CrossEntropy/11-06_12:22:36/Net_epoch49.pth', entire=True)\n",
    "net1 = create_net(device, 'resnet', 34, 1, 3, 'details/checkpoints/CrossEntropy/01-06_14:49:32/Net_best.pth', entire=True)\n",
    "net2 = create_net(device, 'resnet', 34, 1, 2, 'details/checkpoints/CrossEntropy/01-06_12:43:25/Net_best.pth', entire=True)\n",
    "net1.eval()\n",
    "net2.eval()\n",
    "print('')"
   ]
  },
  {
   "cell_type": "code",
   "execution_count": 22,
   "id": "403ca8f5",
   "metadata": {},
   "outputs": [
    {
     "name": "stdout",
     "output_type": "stream",
     "text": [
      "[INFO]: **********************************************************************\n",
      "Network: ResNet3D_34\n",
      "\t2 input channels\n",
      "\t3 output channels (classes)\n",
      "\t3D model: True\n",
      "\n",
      "[INFO]: Model loaded from details/checkpoints/CrossEntropy/01-06_01:02:46/Net_best.pth\n",
      "[INFO]: **********************************************************************\n",
      "Network: ResNet3D_34\n",
      "\t2 input channels\n",
      "\t1 output channels (classes)\n",
      "\t3D model: True\n",
      "\n",
      "[INFO]: Model loaded from details/checkpoints/CrossEntropy/01-06_01:37:23/Net_best.pth\n",
      "\n"
     ]
    }
   ],
   "source": [
    "#3d网络\n",
    "net1 = create_net(device, 'resnet', 34, 2, 3, 'details/checkpoints/CrossEntropy/01-06_01:02:46/Net_best.pth', entire=True, flag_3d=True)\n",
    "net2 = create_net(device, 'resnet', 34, 2, 1, 'details/checkpoints/CrossEntropy/01-06_01:37:23/Net_best.pth', entire=True, flag_3d=True)\n",
    "net1.eval()\n",
    "net2.eval()\n",
    "print('')"
   ]
  },
  {
   "cell_type": "code",
   "execution_count": 9,
   "id": "08e6f607",
   "metadata": {},
   "outputs": [
    {
     "name": "stderr",
     "output_type": "stream",
     "text": [
      "                                                                                                           \r"
     ]
    }
   ],
   "source": [
    "num_val_batches = len(val_loader)  # the number of batch\n",
    "n_val = 12434\n",
    "\n",
    "true_list = []\n",
    "pred_list = []\n",
    "\n",
    "for imgs, true_categories in tqdm(val_loader, total=num_val_batches, desc='Validation round', unit='batch', leave=False):\n",
    "    imgs = imgs.to(device=device, dtype=torch.float32)\n",
    "    true_categories = true_categories.to(device=device, dtype=torch.long)\n",
    "    true_list += true_categories.tolist()\n",
    "\n",
    "    with torch.no_grad():\n",
    "        categories_pred1 = net1(imgs)\n",
    "\n",
    "    pred1 = torch.softmax(categories_pred1, dim=1)\n",
    "    pred1 = pred1.argmax(dim=1)\n",
    "    datas = imgs[pred1 == 2]\n",
    "    \n",
    "    if datas.size(0) > 0:\n",
    "        with torch.no_grad():\n",
    "            categories_pred2 = net2(datas)\n",
    "\n",
    "        pred2 = torch.softmax(categories_pred2, dim=1)\n",
    "        pred2 = pred2.argmax(dim=1)\n",
    "#         pred2 = torch.sigmoid(categories_pred2).squeeze(-1)\n",
    "#         pred2 = (pred2>0.5).long()\n",
    "\n",
    "    #     print(pred1)\n",
    "    #     print(pred2)\n",
    "    #     print(true_categories.shape[0])\n",
    "    #     print(datas.shape[0])\n",
    "\n",
    "        pred1[pred1 == 2] = pred2+2\n",
    "\n",
    "    pred_list.extend(pred1.tolist())"
   ]
  },
  {
   "cell_type": "code",
   "execution_count": 8,
   "id": "fac08cad",
   "metadata": {},
   "outputs": [
    {
     "name": "stdout",
     "output_type": "stream",
     "text": [
      "              precision    recall  f1-score   support\n",
      "\n",
      "           0     0.9091    0.8770    0.8928      6522\n",
      "           1     0.7904    0.9089    0.8456      4370\n",
      "           2     0.7174    0.5701    0.6353      1149\n",
      "           3     0.6618    0.3435    0.4523       393\n",
      "\n",
      "    accuracy                         0.8430     12434\n",
      "   macro avg     0.7697    0.6749    0.7065     12434\n",
      "weighted avg     0.8419    0.8430    0.8385     12434\n",
      "\n"
     ]
    }
   ],
   "source": [
    "print(metrics.classification_report(true_list, pred_list, digits=4))#这是加了sobel，sobel不均值滤波的结果"
   ]
  },
  {
   "cell_type": "code",
   "execution_count": 7,
   "id": "034aac5d",
   "metadata": {},
   "outputs": [
    {
     "name": "stdout",
     "output_type": "stream",
     "text": [
      "              precision    recall  f1-score   support\n",
      "\n",
      "           0     0.9017    0.8864    0.8940      6522\n",
      "           1     0.8121    0.8979    0.8529      4370\n",
      "           2     0.7050    0.5596    0.6240      1149\n",
      "           3     0.5269    0.3740    0.4375       393\n",
      "\n",
      "    accuracy                         0.8441     12434\n",
      "   macro avg     0.7364    0.6795    0.7021     12434\n",
      "weighted avg     0.8402    0.8441    0.8402     12434\n",
      "\n"
     ]
    }
   ],
   "source": [
    "print(metrics.classification_report(true_list, pred_list, digits=4))#这是加了sobel，sobel均值滤波的结果"
   ]
  },
  {
   "cell_type": "code",
   "execution_count": 7,
   "id": "9a357a84",
   "metadata": {},
   "outputs": [
    {
     "name": "stdout",
     "output_type": "stream",
     "text": [
      "              precision    recall  f1-score   support\n",
      "\n",
      "           0     0.9091    0.8770    0.8928      6522\n",
      "           1     0.7904    0.9089    0.8456      4370\n",
      "           2     0.7445    0.5579    0.6378      1149\n",
      "           3     0.5859    0.3817    0.4622       393\n",
      "\n",
      "    accuracy                         0.8431     12434\n",
      "   macro avg     0.7575    0.6814    0.7096     12434\n",
      "weighted avg     0.8420    0.8431    0.8390     12434\n",
      "\n"
     ]
    }
   ],
   "source": [
    "print(metrics.classification_report(true_list, pred_list, digits=4))#这是加了sobel，sobel不均值滤波的结果，单通道"
   ]
  },
  {
   "cell_type": "code",
   "execution_count": 7,
   "id": "b078d0f9",
   "metadata": {},
   "outputs": [
    {
     "name": "stdout",
     "output_type": "stream",
     "text": [
      "              precision    recall  f1-score   support\n",
      "\n",
      "           0     0.9017    0.8864    0.8940      6522\n",
      "           1     0.8121    0.8979    0.8529      4370\n",
      "           2     0.6677    0.5788    0.6200      1149\n",
      "           3     0.6615    0.3282    0.4388       393\n",
      "\n",
      "    accuracy                         0.8444     12434\n",
      "   macro avg     0.7608    0.6728    0.7014     12434\n",
      "weighted avg     0.8410    0.8444    0.8398     12434\n",
      "\n"
     ]
    }
   ],
   "source": [
    "print(metrics.classification_report(true_list, pred_list, digits=4))#这是加了sobel，sobel均值滤波的结果，单通道"
   ]
  },
  {
   "cell_type": "code",
   "execution_count": 10,
   "id": "7045aaf2",
   "metadata": {},
   "outputs": [
    {
     "name": "stdout",
     "output_type": "stream",
     "text": [
      "              precision    recall  f1-score   support\n",
      "\n",
      "           0     0.9087    0.8855    0.8969      6522\n",
      "           1     0.8090    0.8973    0.8508      4370\n",
      "           2     0.7240    0.5457    0.6223      1149\n",
      "           3     0.4508    0.4198    0.4348       393\n",
      "\n",
      "    accuracy                         0.8435     12434\n",
      "   macro avg     0.7231    0.6871    0.7012     12434\n",
      "weighted avg     0.8421    0.8435    0.8408     12434\n",
      "\n"
     ]
    }
   ],
   "source": [
    "print(metrics.classification_report(true_list, pred_list, digits=4))#不加sobel"
   ]
  },
  {
   "cell_type": "code",
   "execution_count": 7,
   "id": "dc1bf888",
   "metadata": {},
   "outputs": [
    {
     "name": "stdout",
     "output_type": "stream",
     "text": [
      "              precision    recall  f1-score   support\n",
      "\n",
      "           0     0.9087    0.8855    0.8969      6522\n",
      "           1     0.8090    0.8973    0.8508      4370\n",
      "           2     0.6694    0.5692    0.6152      1149\n",
      "           3     0.5529    0.3588    0.4352       393\n",
      "\n",
      "    accuracy                         0.8437     12434\n",
      "   macro avg     0.7350    0.6777    0.6995     12434\n",
      "weighted avg     0.8403    0.8437    0.8401     12434\n",
      "\n"
     ]
    }
   ],
   "source": [
    "print(metrics.classification_report(true_list, pred_list, digits=4))#不加sobel，单通道"
   ]
  },
  {
   "cell_type": "code",
   "execution_count": null,
   "id": "7fac2cc5",
   "metadata": {},
   "outputs": [],
   "source": []
  },
  {
   "cell_type": "code",
   "execution_count": null,
   "id": "97eaa6c6",
   "metadata": {},
   "outputs": [],
   "source": []
  },
  {
   "cell_type": "code",
   "execution_count": 21,
   "id": "ee127a25",
   "metadata": {},
   "outputs": [
    {
     "name": "stdout",
     "output_type": "stream",
     "text": [
      "              precision    recall  f1-score   support\n",
      "\n",
      "           0     0.9387    0.9111    0.9247      7591\n",
      "           1     0.8304    0.9387    0.8812      4370\n",
      "           2     0.8261    0.5831    0.6837      1149\n",
      "           3     0.3854    0.3766    0.3810       393\n",
      "\n",
      "    accuracy                         0.8765     13503\n",
      "   macro avg     0.7451    0.7024    0.7176     13503\n",
      "weighted avg     0.8779    0.8765    0.8743     13503\n",
      "\n"
     ]
    }
   ],
   "source": [
    "print(metrics.classification_report(true_list, pred_list, digits=4))#3d，这是加了sobel，sobel均值滤波的结果"
   ]
  },
  {
   "cell_type": "code",
   "execution_count": 25,
   "id": "616096df",
   "metadata": {},
   "outputs": [
    {
     "name": "stdout",
     "output_type": "stream",
     "text": [
      "              precision    recall  f1-score   support\n",
      "\n",
      "           0     0.9387    0.9111    0.9247      7591\n",
      "           1     0.8304    0.9387    0.8812      4370\n",
      "           2     0.8029    0.6171    0.6978      1149\n",
      "           3     0.4455    0.3537    0.3943       393\n",
      "\n",
      "    accuracy                         0.8788     13503\n",
      "   macro avg     0.7544    0.7051    0.7245     13503\n",
      "weighted avg     0.8777    0.8788    0.8759     13503\n",
      "\n"
     ]
    }
   ],
   "source": [
    "print(metrics.classification_report(true_list, pred_list, digits=4))#3d，这是加了sobel，sobel均值滤波的结果,单通道"
   ]
  },
  {
   "cell_type": "code",
   "execution_count": null,
   "id": "d4769a47",
   "metadata": {},
   "outputs": [],
   "source": []
  },
  {
   "cell_type": "code",
   "execution_count": null,
   "id": "3c5066a6",
   "metadata": {},
   "outputs": [],
   "source": []
  },
  {
   "cell_type": "code",
   "execution_count": null,
   "id": "bf1115c4",
   "metadata": {},
   "outputs": [],
   "source": []
  },
  {
   "cell_type": "code",
   "execution_count": null,
   "id": "1880f0e4",
   "metadata": {},
   "outputs": [],
   "source": []
  },
  {
   "cell_type": "code",
   "execution_count": null,
   "id": "ae3c4f94",
   "metadata": {},
   "outputs": [],
   "source": []
  },
  {
   "cell_type": "code",
   "execution_count": null,
   "id": "fa4bc81b",
   "metadata": {},
   "outputs": [],
   "source": []
  },
  {
   "cell_type": "code",
   "execution_count": null,
   "id": "19c96c54",
   "metadata": {},
   "outputs": [],
   "source": []
  },
  {
   "cell_type": "code",
   "execution_count": null,
   "id": "e801e26d",
   "metadata": {},
   "outputs": [],
   "source": []
  },
  {
   "cell_type": "code",
   "execution_count": null,
   "id": "25001fa9",
   "metadata": {},
   "outputs": [],
   "source": []
  },
  {
   "cell_type": "code",
   "execution_count": null,
   "id": "5108261a",
   "metadata": {},
   "outputs": [],
   "source": []
  },
  {
   "cell_type": "code",
   "execution_count": null,
   "id": "4b4f7b85",
   "metadata": {},
   "outputs": [],
   "source": []
  },
  {
   "cell_type": "code",
   "execution_count": null,
   "id": "769c53aa",
   "metadata": {},
   "outputs": [],
   "source": []
  },
  {
   "cell_type": "code",
   "execution_count": null,
   "id": "080fd81d",
   "metadata": {},
   "outputs": [],
   "source": []
  },
  {
   "cell_type": "code",
   "execution_count": null,
   "id": "479abf03",
   "metadata": {},
   "outputs": [],
   "source": []
  },
  {
   "cell_type": "code",
   "execution_count": 5,
   "id": "b9fcce44",
   "metadata": {},
   "outputs": [
    {
     "name": "stdout",
     "output_type": "stream",
     "text": [
      "[INFO]: **********************************************************************\n",
      "Network: SupConResNet+resnet34\n",
      "\t1 input channels\n",
      "\t3D model: False\n",
      "\n",
      "[INFO]: Model loaded from details/checkpoints/SupCon/11-12_13:40:42/Net_last.pth\n"
     ]
    }
   ],
   "source": [
    "net = create_supcon(device, 34, 1, True, 'details/checkpoints/SupCon/11-12_13:40:42/Net_last.pth')"
   ]
  },
  {
   "cell_type": "code",
   "execution_count": 6,
   "id": "006e253c",
   "metadata": {},
   "outputs": [
    {
     "name": "stderr",
     "output_type": "stream",
     "text": [
      "                                                                                                           \r"
     ]
    },
    {
     "data": {
      "text/plain": [
       "(0.5699663365037944,\n",
       " 'details/checkpoints/CrossEntropy/11-12_13:40:42/TSNE.png')"
      ]
     },
     "execution_count": 6,
     "metadata": {},
     "output_type": "execute_result"
    },
    {
     "data": {
      "image/png": "[encoded data removed]",
      "text/plain": [
       "<Figure size 432x288 with 2 Axes>"
      ]
     },
     "metadata": {
      "needs_background": "light"
     },
     "output_type": "display_data"
    }
   ],
   "source": [
    "eval_supcon(net, val_loader, 12434, device, 4, True, 'details/checkpoints/CrossEntropy/11-12_13:40:42')"
   ]
  },
  {
   "cell_type": "code",
   "execution_count": null,
   "id": "80da429c",
   "metadata": {},
   "outputs": [],
   "source": []
  },
  {
   "cell_type": "code",
   "execution_count": 9,
   "id": "abb1d464",
   "metadata": {},
   "outputs": [
    {
     "name": "stdout",
     "output_type": "stream",
     "text": [
      "[INFO]: **********************************************************************\n",
      "Network: ResNet_34\n",
      "\t1 input channels\n",
      "\t4 output channels (classes)\n",
      "\t3D model: False\n",
      "\n",
      "[INFO]: Model loaded from details/checkpoints/CrossEntropy/11-10_17:56:10/Net_best.pth\n"
     ]
    }
   ],
   "source": [
    "net = create_net(device, 34, 1, 4, 'details/checkpoints/CrossEntropy/11-10_17:56:10/Net_best.pth', entire=True)"
   ]
  },
  {
   "cell_type": "code",
   "execution_count": 10,
   "id": "edf99d31",
   "metadata": {},
   "outputs": [
    {
     "name": "stderr",
     "output_type": "stream",
     "text": [
      "                                                                                                           \r"
     ]
    },
    {
     "data": {
      "image/png": "[encoded data removed]",
      "text/plain": [
       "<Figure size 432x288 with 2 Axes>"
      ]
     },
     "metadata": {
      "needs_background": "light"
     },
     "output_type": "display_data"
    }
   ],
   "source": [
    "repr_list = []\n",
    "label_list = []\n",
    "def get_repr_vector(module, input, output):\n",
    "    repr_list.append(input[0])\n",
    "handle = net.fc.register_forward_hook(get_repr_vector)\n",
    "    \n",
    "for imgs, true_categories in tqdm(val_loader, total=len(val_loader), desc='Validation round', unit='batch', leave=False):\n",
    "    imgs = imgs.to(device=device, dtype=torch.float32)\n",
    "    true_categories = true_categories.to(device=device, dtype=torch.long)\n",
    "    label_list.append(true_categories)\n",
    "    with torch.no_grad():\n",
    "        net(imgs)\n",
    "        \n",
    "handle.remove()\n",
    "reprs = torch.cat(repr_list, dim=0).cpu().numpy()\n",
    "labels = torch.cat(label_list, dim=0).cpu().numpy()\n",
    "reprs_tsne = TSNE(n_jobs=8).fit_transform(reprs)\n",
    "vis_x = reprs_tsne[:, 0]\n",
    "vis_y = reprs_tsne[:, 1]\n",
    "plt.scatter(vis_x, vis_y, c=labels, cmap=plt.cm.get_cmap(\"jet\", 4), marker='.')\n",
    "plt.colorbar(ticks=range(4))\n",
    "plt.show()"
   ]
  },
  {
   "cell_type": "code",
   "execution_count": null,
   "id": "1e77c546",
   "metadata": {},
   "outputs": [],
   "source": []
  },
  {
   "cell_type": "code",
   "execution_count": 4,
   "id": "55e7b8f9",
   "metadata": {},
   "outputs": [
    {
     "name": "stdout",
     "output_type": "stream",
     "text": [
      "[INFO]: **********************************************************************\n",
      "Network: ResNet_34\n",
      "\t1 input channels\n",
      "\t4 output channels (classes)\n",
      "\t3D model: False\n",
      "\n",
      "[INFO]: Model loaded from details/checkpoints/CrossEntropy/11-10_17:56:10/Net_best.pth\n",
      " \n"
     ]
    }
   ],
   "source": [
    "net = create_net(device, 34, 1, 4, 'details/checkpoints/CrossEntropy/11-10_17:56:10/Net_best.pth', entire=True)\n",
    "net.eval()\n",
    "print(' ')"
   ]
  },
  {
   "cell_type": "code",
   "execution_count": 10,
   "id": "9fe86e26",
   "metadata": {},
   "outputs": [],
   "source": [
    "pau_list = []\n",
    "for img in sorted(os.listdir('/nfs3-p1/zsxm/dataset/aorta_classify_ct_-100_500/train/1')):\n",
    "    pau_list.append(os.path.join('/nfs3-p1/zsxm/dataset/aorta_classify_ct_-100_500/train/1', img))"
   ]
  },
  {
   "cell_type": "code",
   "execution_count": 11,
   "id": "7ad7218c",
   "metadata": {
    "scrolled": true
   },
   "outputs": [
    {
     "name": "stdout",
     "output_type": "stream",
     "text": [
      "0 /nfs3-p1/zsxm/dataset/aorta_classify_ct_-100_500/train/1/baochunsheng-J-20-82_j_0063.png\n",
      "0 /nfs3-p1/zsxm/dataset/aorta_classify_ct_-100_500/train/1/caiweiguang-J-Im35-152_j_0123.png\n",
      "2 /nfs3-p1/zsxm/dataset/aorta_classify_ct_-100_500/train/1/chenbo-S-Im24-45-J-Im24-97_j_0032.png\n",
      "2 /nfs3-p1/zsxm/dataset/aorta_classify_ct_-100_500/train/1/chenfujun-J-Im43-100_j_0073.png\n",
      "0 /nfs3-p1/zsxm/dataset/aorta_classify_ct_-100_500/train/1/chenfujun-J-Im43-100_j_0095.png\n",
      "0 /nfs3-p1/zsxm/dataset/aorta_classify_ct_-100_500/train/1/chenfujun-J-Im43-100_j_0099.png\n",
      "0 /nfs3-p1/zsxm/dataset/aorta_classify_ct_-100_500/train/1/chengshizheng-J-Im30-145_j_0090.png\n",
      "0 /nfs3-p1/zsxm/dataset/aorta_classify_ct_-100_500/train/1/chengyonghui-J-17-81_j_0065.png\n",
      "0 /nfs3-p1/zsxm/dataset/aorta_classify_ct_-100_500/train/1/chenjiandong-S-19-28-J-19-91_j_0072.png\n",
      "0 /nfs3-p1/zsxm/dataset/aorta_classify_ct_-100_500/train/1/chenping-J-Im23-88_j_0072.png\n",
      "0 /nfs3-p1/zsxm/dataset/aorta_classify_ct_-100_500/train/1/chensiqi-S-17-28-J-17-69_j_0018.png\n",
      "0 /nfs3-p1/zsxm/dataset/aorta_classify_ct_-100_500/train/1/chugentang-J-Im19-80_j_0065.png\n",
      "2 /nfs3-p1/zsxm/dataset/aorta_classify_ct_-100_500/train/1/fangchunfeng-J-16-48_j_0028.png\n",
      "0 /nfs3-p1/zsxm/dataset/aorta_classify_ct_-100_500/train/1/fanghongwei-J-22-71_j_0050.png\n",
      "0 /nfs3-p1/zsxm/dataset/aorta_classify_ct_-100_500/train/1/guanxujun-S-Im25-35-J-Im25-87_j_0079.png\n",
      "2 /nfs3-p1/zsxm/dataset/aorta_classify_ct_-100_500/train/1/guoheying-J-Im32-127_j_0050.png\n",
      "0 /nfs3-p1/zsxm/dataset/aorta_classify_ct_-100_500/train/1/guoheying-J-Im32-127_j_0079.png\n",
      "0 /nfs3-p1/zsxm/dataset/aorta_classify_ct_-100_500/train/1/guoheying-J-Im32-127_j_0099.png\n",
      "0 /nfs3-p1/zsxm/dataset/aorta_classify_ct_-100_500/train/1/guquankang-J-Im18-69_j_0065.png\n",
      "0 /nfs3-p1/zsxm/dataset/aorta_classify_ct_-100_500/train/1/huangdebing-S-Im40-48-J-Im33-138_j_0110.png\n",
      "0 /nfs3-p1/zsxm/dataset/aorta_classify_ct_-100_500/train/1/huanghai-S-Im19-29-J-Im19-80_j_0076.png\n",
      "0 /nfs3-p1/zsxm/dataset/aorta_classify_ct_-100_500/train/1/huangsuyue-J-Im21-41_j_0039.png\n",
      "0 /nfs3-p1/zsxm/dataset/aorta_classify_ct_-100_500/train/1/huangsuyue-J-Im21-41_j_0040.png\n",
      "0 /nfs3-p1/zsxm/dataset/aorta_classify_ct_-100_500/train/1/huangxihong-J-Im27-136_j_0076.png\n",
      "0 /nfs3-p1/zsxm/dataset/aorta_classify_ct_-100_500/train/1/huangyong-J-Im18-127_j_0105.png\n",
      "0 /nfs3-p1/zsxm/dataset/aorta_classify_ct_-100_500/train/1/huangyongliang-J-Im16-81_j_0072.png\n",
      "0 /nfs3-p1/zsxm/dataset/aorta_classify_ct_-100_500/train/1/huangyongliang-J-Im16-81_j_0073.png\n",
      "0 /nfs3-p1/zsxm/dataset/aorta_classify_ct_-100_500/train/1/jiadeen-J-Im34-148_j_0040.png\n",
      "0 /nfs3-p1/zsxm/dataset/aorta_classify_ct_-100_500/train/1/jihongke-S-Im20-24-J-Im20-86_j_0068.png\n",
      "0 /nfs3-p1/zsxm/dataset/aorta_classify_ct_-100_500/train/1/laiguizhen-J-Im38-121_j_0101.png\n",
      "0 /nfs3-p1/zsxm/dataset/aorta_classify_ct_-100_500/train/1/laixuexiang-J-Im33-148_j_0054.png\n",
      "2 /nfs3-p1/zsxm/dataset/aorta_classify_ct_-100_500/train/1/laixuexiang-J-Im33-148_j_0078.png\n",
      "0 /nfs3-p1/zsxm/dataset/aorta_classify_ct_-100_500/train/1/laixuexiang-J-Im33-148_j_0120.png\n",
      "0 /nfs3-p1/zsxm/dataset/aorta_classify_ct_-100_500/train/1/lanshaomei-S-Im20-31-J-Im20-79_j_0065.png\n",
      "0 /nfs3-p1/zsxm/dataset/aorta_classify_ct_-100_500/train/1/leixiaoying-S-Im18-26-J-18-71_j_0061.png\n",
      "0 /nfs3-p1/zsxm/dataset/aorta_classify_ct_-100_500/train/1/leixiaoying-S-Im18-26-J-18-71_j_0063.png\n",
      "0 /nfs3-p1/zsxm/dataset/aorta_classify_ct_-100_500/train/1/leixiaoying-S-Im18-26-J-18-71_j_0070.png\n",
      "2 /nfs3-p1/zsxm/dataset/aorta_classify_ct_-100_500/train/1/lihuanhuan-S-Im20-28-J-Im20-59_j_0029.png\n",
      "0 /nfs3-p1/zsxm/dataset/aorta_classify_ct_-100_500/train/1/liubihai-S-23-26-J-23-93_s_0025.png\n",
      "0 /nfs3-p1/zsxm/dataset/aorta_classify_ct_-100_500/train/1/liyehua-S-Im30-47-J-Im30-131_j_0101.png\n",
      "0 /nfs3-p1/zsxm/dataset/aorta_classify_ct_-100_500/train/1/liyehua-S-Im30-47-J-Im30-131_j_0127.png\n",
      "2 /nfs3-p1/zsxm/dataset/aorta_classify_ct_-100_500/train/1/louyidong-S-Im38-58-J-Im38-133_j_0086.png\n",
      "0 /nfs3-p1/zsxm/dataset/aorta_classify_ct_-100_500/train/1/louyidong-S-Im38-58-J-Im38-133_j_0110.png\n",
      "2 /nfs3-p1/zsxm/dataset/aorta_classify_ct_-100_500/train/1/luojun-J-Im22-81_j_0022.png\n",
      "2 /nfs3-p1/zsxm/dataset/aorta_classify_ct_-100_500/train/1/maliwei-S-Im30-48-J-Im30-101_j_0083.png\n",
      "0 /nfs3-p1/zsxm/dataset/aorta_classify_ct_-100_500/train/1/pengzhengjiang-J-Im38-160_j_0070.png\n",
      "0 /nfs3-p1/zsxm/dataset/aorta_classify_ct_-100_500/train/1/pengzhengjiang-J-Im38-160_j_0080.png\n",
      "0 /nfs3-p1/zsxm/dataset/aorta_classify_ct_-100_500/train/1/pengzhengjiang-J-Im38-160_j_0104.png\n",
      "2 /nfs3-p1/zsxm/dataset/aorta_classify_ct_-100_500/train/1/qumin-S-Im22-35-J-Im22-28_j_0024.png\n",
      "2 /nfs3-p1/zsxm/dataset/aorta_classify_ct_-100_500/train/1/ruweiping-S-Im52-63-J-Im52-94_j_0063.png\n",
      "0 /nfs3-p1/zsxm/dataset/aorta_classify_ct_-100_500/train/1/shaoyefeng-S-Im34-43-J-Im34-48_j_0034.png\n",
      "0 /nfs3-p1/zsxm/dataset/aorta_classify_ct_-100_500/train/1/shaoyefeng-S-Im34-43-J-Im34-48_j_0039.png\n",
      "0 /nfs3-p1/zsxm/dataset/aorta_classify_ct_-100_500/train/1/shenglina-J-Im21-65_j_0058.png\n",
      "0 /nfs3-p1/zsxm/dataset/aorta_classify_ct_-100_500/train/1/shenglina-J-Im21-65_j_0059.png\n",
      "0 /nfs3-p1/zsxm/dataset/aorta_classify_ct_-100_500/train/1/shenglina-J-Im21-65_j_0060.png\n",
      "0 /nfs3-p1/zsxm/dataset/aorta_classify_ct_-100_500/train/1/shenglina-J-Im21-65_j_0063.png\n",
      "0 /nfs3-p1/zsxm/dataset/aorta_classify_ct_-100_500/train/1/shenqi-J-Im24-72_j_0053.png\n",
      "0 /nfs3-p1/zsxm/dataset/aorta_classify_ct_-100_500/train/1/shenqi-J-Im24-72_j_0060.png\n",
      "2 /nfs3-p1/zsxm/dataset/aorta_classify_ct_-100_500/train/1/tangabiao-S-Im41-49-J-Im41-138_j_0119.png\n",
      "0 /nfs3-p1/zsxm/dataset/aorta_classify_ct_-100_500/train/1/tangabiao-S-Im41-49-J-Im41-138_s_0045.png\n",
      "0 /nfs3-p1/zsxm/dataset/aorta_classify_ct_-100_500/train/1/wangjiangwei-J-Im37-143_j_0117.png\n",
      "2 /nfs3-p1/zsxm/dataset/aorta_classify_ct_-100_500/train/1/wangxiaofu-S-19-29-J-19-65_s_0018.png\n",
      "0 /nfs3-p1/zsxm/dataset/aorta_classify_ct_-100_500/train/1/wangyonghui-S-Im18-27-J-Im18-84_j_0050.png\n",
      "0 /nfs3-p1/zsxm/dataset/aorta_classify_ct_-100_500/train/1/wangyonghui-S-Im18-27-J-Im18-84_j_0069.png\n",
      "0 /nfs3-p1/zsxm/dataset/aorta_classify_ct_-100_500/train/1/wangyuefeng-S-Im34-38-J-Im34-144_s_0033.png\n",
      "0 /nfs3-p1/zsxm/dataset/aorta_classify_ct_-100_500/train/1/wangzhengjin-J-16-82_j_0062.png\n",
      "0 /nfs3-p1/zsxm/dataset/aorta_classify_ct_-100_500/train/1/wenyongguo-J-Im23-121_j_0048.png\n",
      "0 /nfs3-p1/zsxm/dataset/aorta_classify_ct_-100_500/train/1/wuyueming-J-Im36-138_j_0108.png\n",
      "3 /nfs3-p1/zsxm/dataset/aorta_classify_ct_-100_500/train/1/xiaminsong-S-Im40-51-J-Im40-139_j_0135.png\n",
      "2 /nfs3-p1/zsxm/dataset/aorta_classify_ct_-100_500/train/1/xiashubiao-J-24-88_j_0034.png\n",
      "2 /nfs3-p1/zsxm/dataset/aorta_classify_ct_-100_500/train/1/xuhangying-J-25-63_j_0033.png\n",
      "0 /nfs3-p1/zsxm/dataset/aorta_classify_ct_-100_500/train/1/xuyaofeng-J-Im24-119_j_0098.png\n",
      "0 /nfs3-p1/zsxm/dataset/aorta_classify_ct_-100_500/train/1/xuyaofeng-J-Im24-119_j_0103.png\n",
      "0 /nfs3-p1/zsxm/dataset/aorta_classify_ct_-100_500/train/1/xuzhaofang-S-21-26-J-21-86_j_0034.png\n",
      "2 /nfs3-p1/zsxm/dataset/aorta_classify_ct_-100_500/train/1/yangmin-J-Im37-150_j_0092.png\n",
      "2 /nfs3-p1/zsxm/dataset/aorta_classify_ct_-100_500/train/1/yangxuehua-J-Im23-79_j_0046.png\n",
      "2 /nfs3-p1/zsxm/dataset/aorta_classify_ct_-100_500/train/1/yangzhanxiang-J-Im31-145_j_0048.png\n",
      "0 /nfs3-p1/zsxm/dataset/aorta_classify_ct_-100_500/train/1/yepeng-J-Im26-125_j_0101.png\n",
      "0 /nfs3-p1/zsxm/dataset/aorta_classify_ct_-100_500/train/1/yexianchang-S-17-30-J-17-74_j_0055.png\n",
      "0 /nfs3-p1/zsxm/dataset/aorta_classify_ct_-100_500/train/1/yexianchang-S-17-30-J-17-74_j_0070.png\n",
      "0 /nfs3-p1/zsxm/dataset/aorta_classify_ct_-100_500/train/1/yexiyou-J-Im35-139_j_0120.png\n",
      "0 /nfs3-p1/zsxm/dataset/aorta_classify_ct_-100_500/train/1/yexiyou-J-Im35-139_j_0122.png\n",
      "2 /nfs3-p1/zsxm/dataset/aorta_classify_ct_-100_500/train/1/yujiada-J-Im21-48_j_0023.png\n",
      "2 /nfs3-p1/zsxm/dataset/aorta_classify_ct_-100_500/train/1/zhangguangming-J-21-138_j_0062.png\n",
      "2 /nfs3-p1/zsxm/dataset/aorta_classify_ct_-100_500/train/1/zhangguangming-J-21-138_j_0069.png\n",
      "0 /nfs3-p1/zsxm/dataset/aorta_classify_ct_-100_500/train/1/zhangguangming-J-21-138_j_0124.png\n",
      "0 /nfs3-p1/zsxm/dataset/aorta_classify_ct_-100_500/train/1/zhanghaitao-S-Im25-49-J-Im25-145_j_0133.png\n"
     ]
    },
    {
     "name": "stdout",
     "output_type": "stream",
     "text": [
      "0 /nfs3-p1/zsxm/dataset/aorta_classify_ct_-100_500/train/1/zhangwei-S-20-26-J-20-61_j_0020.png\n",
      "2 /nfs3-p1/zsxm/dataset/aorta_classify_ct_-100_500/train/1/zhangwei-S-20-26-J-20-61_j_0052.png\n",
      "0 /nfs3-p1/zsxm/dataset/aorta_classify_ct_-100_500/train/1/zhangyunqin-S-Im14-25-J-Im14-64_j_0053.png\n",
      "0 /nfs3-p1/zsxm/dataset/aorta_classify_ct_-100_500/train/1/zhangyunqin-S-Im14-25-J-Im14-64_j_0060.png\n",
      "0 /nfs3-p1/zsxm/dataset/aorta_classify_ct_-100_500/train/1/zhaowenxian-J-Im43-111_j_0089.png\n",
      "0 /nfs3-p1/zsxm/dataset/aorta_classify_ct_-100_500/train/1/zhaowenxian-J-Im43-111_j_0107.png\n",
      "0 /nfs3-p1/zsxm/dataset/aorta_classify_ct_-100_500/train/1/zhaowenxian-J-Im43-111_j_0110.png\n",
      "0 /nfs3-p1/zsxm/dataset/aorta_classify_ct_-100_500/train/1/zhengguozheng-J-18-81_j_0064.png\n",
      "0 /nfs3-p1/zsxm/dataset/aorta_classify_ct_-100_500/train/1/zhengguozheng-J-18-81_j_0071.png\n",
      "0 /nfs3-p1/zsxm/dataset/aorta_classify_ct_-100_500/train/1/zhengguozheng-J-18-81_j_0072.png\n",
      "2 /nfs3-p1/zsxm/dataset/aorta_classify_ct_-100_500/train/1/zhengjiyou-J-Im28-136_j_0090.png\n",
      "0 /nfs3-p1/zsxm/dataset/aorta_classify_ct_-100_500/train/1/zhoufeng-S-Im35-40-J-Im35-147_j_0118.png\n",
      "0 /nfs3-p1/zsxm/dataset/aorta_classify_ct_-100_500/train/1/zhouliang-J-Im47-123_j_0097.png\n",
      "0 /nfs3-p1/zsxm/dataset/aorta_classify_ct_-100_500/train/1/zhouliang-J-Im47-123_j_0108.png\n",
      "2 /nfs3-p1/zsxm/dataset/aorta_classify_ct_-100_500/train/1/zhuseng-S-Im24-31-J-Im24-105_j_0098.png\n",
      "2 /nfs3-p1/zsxm/dataset/aorta_classify_ct_-100_500/train/1/zhuxutao-J-Im23-78_j_0041.png\n",
      "0 /nfs3-p1/zsxm/dataset/aorta_classify_ct_-100_500/train/1/zhuxutao-J-Im23-78_j_0063.png\n",
      "0 /nfs3-p1/zsxm/dataset/aorta_classify_ct_-100_500/train/1/zhuyongfu-J-Im22-80_j_0070.png\n",
      "0 /nfs3-p1/zsxm/dataset/aorta_classify_ct_-100_500/train/1/zhuyuejin-J-Im21-72_j_0070.png\n",
      "2 /nfs3-p1/zsxm/dataset/aorta_classify_ct_-100_500/train/1/zongminghui-S-Im18-25-J-Im18-81_j_0025.png\n",
      "0 /nfs3-p1/zsxm/dataset/aorta_classify_ct_-100_500/train/1/zongminghui-S-Im18-25-J-Im18-81_j_0042.png\n",
      "0 /nfs3-p1/zsxm/dataset/aorta_classify_ct_-100_500/train/1/zongminghui-S-Im18-25-J-Im18-81_s_0017.png\n",
      "0 /nfs3-p1/zsxm/dataset/aorta_classify_ct_-100_500/train/1/zongminghui-S-Im18-25-J-Im18-81_s_0018.png\n",
      "17870 110 0.006155567991046447\n",
      "['baochunsheng-J-20-82', 'caiweiguang-J-Im35-152', 'chenbo-S-Im24-45-J-Im24-97', 'chenfujun-J-Im43-100', 'chengshizheng-J-Im30-145', 'chengyonghui-J-17-81', 'chenjiandong-S-19-28-J-19-91', 'chenping-J-Im23-88', 'chensiqi-S-17-28-J-17-69', 'chugentang-J-Im19-80', 'fangchunfeng-J-16-48', 'fanghongwei-J-22-71', 'guanxujun-S-Im25-35-J-Im25-87', 'guoheying-J-Im32-127', 'guquankang-J-Im18-69', 'huangdebing-S-Im40-48-J-Im33-138', 'huanghai-S-Im19-29-J-Im19-80', 'huangsuyue-J-Im21-41', 'huangxihong-J-Im27-136', 'huangyong-J-Im18-127', 'huangyongliang-J-Im16-81', 'jiadeen-J-Im34-148', 'jihongke-S-Im20-24-J-Im20-86', 'laiguizhen-J-Im38-121', 'laixuexiang-J-Im33-148', 'lanshaomei-S-Im20-31-J-Im20-79', 'leixiaoying-S-Im18-26-J-18-71', 'lihuanhuan-S-Im20-28-J-Im20-59', 'liubihai-S-23-26-J-23-93', 'liyehua-S-Im30-47-J-Im30-131', 'louyidong-S-Im38-58-J-Im38-133', 'luojun-J-Im22-81', 'maliwei-S-Im30-48-J-Im30-101', 'pengzhengjiang-J-Im38-160', 'qumin-S-Im22-35-J-Im22-28', 'ruweiping-S-Im52-63-J-Im52-94', 'shaoyefeng-S-Im34-43-J-Im34-48', 'shenglina-J-Im21-65', 'shenqi-J-Im24-72', 'tangabiao-S-Im41-49-J-Im41-138', 'wangjiangwei-J-Im37-143', 'wangxiaofu-S-19-29-J-19-65', 'wangyonghui-S-Im18-27-J-Im18-84', 'wangyuefeng-S-Im34-38-J-Im34-144', 'wangzhengjin-J-16-82', 'wenyongguo-J-Im23-121', 'wuyueming-J-Im36-138', 'xiaminsong-S-Im40-51-J-Im40-139', 'xiashubiao-J-24-88', 'xuhangying-J-25-63', 'xuyaofeng-J-Im24-119', 'xuzhaofang-S-21-26-J-21-86', 'yangmin-J-Im37-150', 'yangxuehua-J-Im23-79', 'yangzhanxiang-J-Im31-145', 'yepeng-J-Im26-125', 'yexianchang-S-17-30-J-17-74', 'yexiyou-J-Im35-139', 'yujiada-J-Im21-48', 'zhangguangming-J-21-138', 'zhanghaitao-S-Im25-49-J-Im25-145', 'zhangwei-S-20-26-J-20-61', 'zhangyunqin-S-Im14-25-J-Im14-64', 'zhaowenxian-J-Im43-111', 'zhengguozheng-J-18-81', 'zhengjiyou-J-Im28-136', 'zhoufeng-S-Im35-40-J-Im35-147', 'zhouliang-J-Im47-123', 'zhuseng-S-Im24-31-J-Im24-105', 'zhuxutao-J-Im23-78', 'zhuyongfu-J-Im22-80', 'zhuyuejin-J-Im21-72', 'zongminghui-S-Im18-25-J-Im18-81']\n"
     ]
    }
   ],
   "source": [
    "tot_count = 0\n",
    "err_count = 0\n",
    "err_set = set()\n",
    "for img in pau_list:\n",
    "    tot_count += 1\n",
    "    image = Image.open(img)\n",
    "    tensor = transform(image).unsqueeze(0).to(device)\n",
    "    res = net(tensor).squeeze()\n",
    "    if res.argmax() != 1:\n",
    "        err_count += 1\n",
    "        print(res.argmax().item(), img)\n",
    "        err_set.add(img.split('/')[-1].split('_')[0])\n",
    "print(tot_count, err_count, err_count/tot_count)\n",
    "print(sorted(list(err_set)))"
   ]
  },
  {
   "cell_type": "code",
   "execution_count": 12,
   "id": "75bd5c9d",
   "metadata": {},
   "outputs": [],
   "source": [
    "pau_list = []\n",
    "for img in sorted(os.listdir('/nfs3-p1/zsxm/dataset/aorta_classify_ct_-100_500/val/1')):\n",
    "    pau_list.append(os.path.join('/nfs3-p1/zsxm/dataset/aorta_classify_ct_-100_500/val/1', img))"
   ]
  },
  {
   "cell_type": "code",
   "execution_count": 13,
   "id": "71f60954",
   "metadata": {
    "scrolled": true
   },
   "outputs": [
    {
     "name": "stdout",
     "output_type": "stream",
     "text": [
      "2 /nfs3-p1/zsxm/dataset/aorta_classify_ct_-100_500/val/1/chenggang-J-Im18-81_j_0039.png\n",
      "0 /nfs3-p1/zsxm/dataset/aorta_classify_ct_-100_500/val/1/chenggang-J-Im18-81_j_0062.png\n",
      "0 /nfs3-p1/zsxm/dataset/aorta_classify_ct_-100_500/val/1/chenggang-J-Im18-81_j_0080.png\n",
      "0 /nfs3-p1/zsxm/dataset/aorta_classify_ct_-100_500/val/1/chenjufa-J-16-66_j_0065.png\n",
      "0 /nfs3-p1/zsxm/dataset/aorta_classify_ct_-100_500/val/1/chenjuli-J-Im18-49_j_0038.png\n",
      "2 /nfs3-p1/zsxm/dataset/aorta_classify_ct_-100_500/val/1/chenjun-J-Im33-137_j_0068.png\n",
      "0 /nfs3-p1/zsxm/dataset/aorta_classify_ct_-100_500/val/1/chenjun-J-Im33-137_j_0069.png\n",
      "0 /nfs3-p1/zsxm/dataset/aorta_classify_ct_-100_500/val/1/chenjun-J-Im33-137_j_0070.png\n",
      "0 /nfs3-p1/zsxm/dataset/aorta_classify_ct_-100_500/val/1/chenjun-J-Im33-137_j_0071.png\n",
      "0 /nfs3-p1/zsxm/dataset/aorta_classify_ct_-100_500/val/1/chenjun-J-Im33-137_j_0078.png\n",
      "0 /nfs3-p1/zsxm/dataset/aorta_classify_ct_-100_500/val/1/chenjun-J-Im33-137_j_0101.png\n",
      "0 /nfs3-p1/zsxm/dataset/aorta_classify_ct_-100_500/val/1/chenjun-J-Im33-137_j_0109.png\n",
      "0 /nfs3-p1/zsxm/dataset/aorta_classify_ct_-100_500/val/1/chenjun-J-Im33-137_j_0110.png\n",
      "0 /nfs3-p1/zsxm/dataset/aorta_classify_ct_-100_500/val/1/chenjun-J-Im33-137_j_0111.png\n",
      "0 /nfs3-p1/zsxm/dataset/aorta_classify_ct_-100_500/val/1/chenjun-J-Im33-137_j_0114.png\n",
      "0 /nfs3-p1/zsxm/dataset/aorta_classify_ct_-100_500/val/1/chenjun-J-Im33-137_j_0115.png\n",
      "3 /nfs3-p1/zsxm/dataset/aorta_classify_ct_-100_500/val/1/chenjun-J-Im33-137_j_0118.png\n",
      "0 /nfs3-p1/zsxm/dataset/aorta_classify_ct_-100_500/val/1/chenjun-J-Im33-137_j_0119.png\n",
      "0 /nfs3-p1/zsxm/dataset/aorta_classify_ct_-100_500/val/1/chenjun-J-Im33-137_j_0120.png\n",
      "0 /nfs3-p1/zsxm/dataset/aorta_classify_ct_-100_500/val/1/chenjun-J-Im33-137_j_0121.png\n",
      "0 /nfs3-p1/zsxm/dataset/aorta_classify_ct_-100_500/val/1/chenjun-J-Im33-137_j_0122.png\n",
      "0 /nfs3-p1/zsxm/dataset/aorta_classify_ct_-100_500/val/1/chenjun-J-Im33-137_j_0123.png\n",
      "0 /nfs3-p1/zsxm/dataset/aorta_classify_ct_-100_500/val/1/chenjun-J-Im33-137_j_0124.png\n",
      "0 /nfs3-p1/zsxm/dataset/aorta_classify_ct_-100_500/val/1/chenjun-J-Im33-137_j_0125.png\n",
      "0 /nfs3-p1/zsxm/dataset/aorta_classify_ct_-100_500/val/1/chenjun-J-Im33-137_j_0127.png\n",
      "0 /nfs3-p1/zsxm/dataset/aorta_classify_ct_-100_500/val/1/chenlili-S-Im18-24-J-Im18-74_j_0018.png\n",
      "0 /nfs3-p1/zsxm/dataset/aorta_classify_ct_-100_500/val/1/chenlili-S-Im18-24-J-Im18-74_j_0019.png\n",
      "0 /nfs3-p1/zsxm/dataset/aorta_classify_ct_-100_500/val/1/chenlili-S-Im18-24-J-Im18-74_j_0020.png\n",
      "2 /nfs3-p1/zsxm/dataset/aorta_classify_ct_-100_500/val/1/chenlili-S-Im18-24-J-Im18-74_j_0028.png\n",
      "2 /nfs3-p1/zsxm/dataset/aorta_classify_ct_-100_500/val/1/chenlili-S-Im18-24-J-Im18-74_j_0033.png\n",
      "0 /nfs3-p1/zsxm/dataset/aorta_classify_ct_-100_500/val/1/chenlili-S-Im18-24-J-Im18-74_j_0046.png\n",
      "0 /nfs3-p1/zsxm/dataset/aorta_classify_ct_-100_500/val/1/chenlili-S-Im18-24-J-Im18-74_j_0050.png\n",
      "0 /nfs3-p1/zsxm/dataset/aorta_classify_ct_-100_500/val/1/chenlili-S-Im18-24-J-Im18-74_j_0051.png\n",
      "2 /nfs3-p1/zsxm/dataset/aorta_classify_ct_-100_500/val/1/chenlili-S-Im18-24-J-Im18-74_j_0052.png\n",
      "0 /nfs3-p1/zsxm/dataset/aorta_classify_ct_-100_500/val/1/chenlili-S-Im18-24-J-Im18-74_j_0053.png\n",
      "0 /nfs3-p1/zsxm/dataset/aorta_classify_ct_-100_500/val/1/chenlili-S-Im18-24-J-Im18-74_j_0055.png\n",
      "2 /nfs3-p1/zsxm/dataset/aorta_classify_ct_-100_500/val/1/chenlili-S-Im18-24-J-Im18-74_j_0071.png\n",
      "2 /nfs3-p1/zsxm/dataset/aorta_classify_ct_-100_500/val/1/chenlili-S-Im18-24-J-Im18-74_j_0073.png\n",
      "2 /nfs3-p1/zsxm/dataset/aorta_classify_ct_-100_500/val/1/chiyanfei-J-Im20-83_j_0020.png\n",
      "0 /nfs3-p1/zsxm/dataset/aorta_classify_ct_-100_500/val/1/chiyanfei-J-Im20-83_j_0022.png\n",
      "0 /nfs3-p1/zsxm/dataset/aorta_classify_ct_-100_500/val/1/chiyanfei-J-Im20-83_j_0028.png\n",
      "0 /nfs3-p1/zsxm/dataset/aorta_classify_ct_-100_500/val/1/chiyanfei-J-Im20-83_j_0065.png\n",
      "0 /nfs3-p1/zsxm/dataset/aorta_classify_ct_-100_500/val/1/chiyanfei-J-Im20-83_j_0067.png\n",
      "0 /nfs3-p1/zsxm/dataset/aorta_classify_ct_-100_500/val/1/chiyanfei-J-Im20-83_j_0068.png\n",
      "0 /nfs3-p1/zsxm/dataset/aorta_classify_ct_-100_500/val/1/chiyanfei-J-Im20-83_j_0070.png\n",
      "0 /nfs3-p1/zsxm/dataset/aorta_classify_ct_-100_500/val/1/chiyanfei-J-Im20-83_j_0071.png\n",
      "0 /nfs3-p1/zsxm/dataset/aorta_classify_ct_-100_500/val/1/chiyanfei-J-Im20-83_j_0072.png\n",
      "0 /nfs3-p1/zsxm/dataset/aorta_classify_ct_-100_500/val/1/chiyanfei-J-Im20-83_j_0073.png\n",
      "0 /nfs3-p1/zsxm/dataset/aorta_classify_ct_-100_500/val/1/chiyanfei-J-Im20-83_j_0074.png\n",
      "0 /nfs3-p1/zsxm/dataset/aorta_classify_ct_-100_500/val/1/chiyanfei-J-Im20-83_j_0075.png\n",
      "0 /nfs3-p1/zsxm/dataset/aorta_classify_ct_-100_500/val/1/chiyanfei-J-Im20-83_j_0076.png\n",
      "0 /nfs3-p1/zsxm/dataset/aorta_classify_ct_-100_500/val/1/chiyanfei-J-Im20-83_j_0078.png\n",
      "0 /nfs3-p1/zsxm/dataset/aorta_classify_ct_-100_500/val/1/chiyanfei-J-Im20-83_j_0079.png\n",
      "0 /nfs3-p1/zsxm/dataset/aorta_classify_ct_-100_500/val/1/chiyanfei-J-Im20-83_j_0080.png\n",
      "0 /nfs3-p1/zsxm/dataset/aorta_classify_ct_-100_500/val/1/chiyanfei-J-Im20-83_j_0081.png\n",
      "0 /nfs3-p1/zsxm/dataset/aorta_classify_ct_-100_500/val/1/daizuokou-J-Im19-74_j_0062.png\n",
      "0 /nfs3-p1/zsxm/dataset/aorta_classify_ct_-100_500/val/1/daizuokou-J-Im19-74_j_0063.png\n",
      "2 /nfs3-p1/zsxm/dataset/aorta_classify_ct_-100_500/val/1/ganxiaobin-J-23-51_j_0023.png\n",
      "2 /nfs3-p1/zsxm/dataset/aorta_classify_ct_-100_500/val/1/ganxiaobin-J-23-51_j_0024.png\n",
      "2 /nfs3-p1/zsxm/dataset/aorta_classify_ct_-100_500/val/1/ganxiaobin-J-23-51_j_0035.png\n",
      "2 /nfs3-p1/zsxm/dataset/aorta_classify_ct_-100_500/val/1/ganxiaobin-J-23-51_j_0045.png\n",
      "2 /nfs3-p1/zsxm/dataset/aorta_classify_ct_-100_500/val/1/ganxiaobin-J-23-51_j_0046.png\n",
      "0 /nfs3-p1/zsxm/dataset/aorta_classify_ct_-100_500/val/1/guojianfu-J-Im32-100_j_0065.png\n",
      "2 /nfs3-p1/zsxm/dataset/aorta_classify_ct_-100_500/val/1/guojianfu-J-Im32-100_j_0068.png\n",
      "2 /nfs3-p1/zsxm/dataset/aorta_classify_ct_-100_500/val/1/guojianfu-J-Im32-100_j_0069.png\n",
      "2 /nfs3-p1/zsxm/dataset/aorta_classify_ct_-100_500/val/1/guojianfu-J-Im32-100_j_0070.png\n",
      "0 /nfs3-p1/zsxm/dataset/aorta_classify_ct_-100_500/val/1/guojianfu-J-Im32-100_j_0080.png\n",
      "2 /nfs3-p1/zsxm/dataset/aorta_classify_ct_-100_500/val/1/hongzhimin-S-Im30-39-J-30-144_j_0038.png\n",
      "0 /nfs3-p1/zsxm/dataset/aorta_classify_ct_-100_500/val/1/hongzhimin-S-Im30-39-J-30-144_j_0053.png\n",
      "0 /nfs3-p1/zsxm/dataset/aorta_classify_ct_-100_500/val/1/hongzhimin-S-Im30-39-J-30-144_j_0058.png\n",
      "2 /nfs3-p1/zsxm/dataset/aorta_classify_ct_-100_500/val/1/hongzhimin-S-Im30-39-J-30-144_j_0065.png\n",
      "2 /nfs3-p1/zsxm/dataset/aorta_classify_ct_-100_500/val/1/hongzhimin-S-Im30-39-J-30-144_j_0066.png\n",
      "0 /nfs3-p1/zsxm/dataset/aorta_classify_ct_-100_500/val/1/hongzhimin-S-Im30-39-J-30-144_j_0075.png\n",
      "0 /nfs3-p1/zsxm/dataset/aorta_classify_ct_-100_500/val/1/hongzhimin-S-Im30-39-J-30-144_j_0076.png\n",
      "0 /nfs3-p1/zsxm/dataset/aorta_classify_ct_-100_500/val/1/hongzhimin-S-Im30-39-J-30-144_j_0079.png\n",
      "0 /nfs3-p1/zsxm/dataset/aorta_classify_ct_-100_500/val/1/hongzhimin-S-Im30-39-J-30-144_j_0080.png\n",
      "0 /nfs3-p1/zsxm/dataset/aorta_classify_ct_-100_500/val/1/hongzhimin-S-Im30-39-J-30-144_j_0081.png\n",
      "0 /nfs3-p1/zsxm/dataset/aorta_classify_ct_-100_500/val/1/hongzhimin-S-Im30-39-J-30-144_j_0082.png\n",
      "2 /nfs3-p1/zsxm/dataset/aorta_classify_ct_-100_500/val/1/hongzhimin-S-Im30-39-J-30-144_j_0083.png\n",
      "0 /nfs3-p1/zsxm/dataset/aorta_classify_ct_-100_500/val/1/hongzhimin-S-Im30-39-J-30-144_j_0084.png\n",
      "0 /nfs3-p1/zsxm/dataset/aorta_classify_ct_-100_500/val/1/hongzhimin-S-Im30-39-J-30-144_j_0085.png\n",
      "0 /nfs3-p1/zsxm/dataset/aorta_classify_ct_-100_500/val/1/hongzhimin-S-Im30-39-J-30-144_j_0105.png\n",
      "0 /nfs3-p1/zsxm/dataset/aorta_classify_ct_-100_500/val/1/hongzhimin-S-Im30-39-J-30-144_j_0106.png\n",
      "0 /nfs3-p1/zsxm/dataset/aorta_classify_ct_-100_500/val/1/hongzhimin-S-Im30-39-J-30-144_j_0108.png\n",
      "0 /nfs3-p1/zsxm/dataset/aorta_classify_ct_-100_500/val/1/hongzhimin-S-Im30-39-J-30-144_j_0110.png\n",
      "0 /nfs3-p1/zsxm/dataset/aorta_classify_ct_-100_500/val/1/hongzhimin-S-Im30-39-J-30-144_j_0112.png\n",
      "0 /nfs3-p1/zsxm/dataset/aorta_classify_ct_-100_500/val/1/hongzhimin-S-Im30-39-J-30-144_j_0114.png\n",
      "0 /nfs3-p1/zsxm/dataset/aorta_classify_ct_-100_500/val/1/hongzhimin-S-Im30-39-J-30-144_j_0115.png\n",
      "0 /nfs3-p1/zsxm/dataset/aorta_classify_ct_-100_500/val/1/hongzhimin-S-Im30-39-J-30-144_j_0120.png\n",
      "0 /nfs3-p1/zsxm/dataset/aorta_classify_ct_-100_500/val/1/hongzhimin-S-Im30-39-J-30-144_j_0121.png\n"
     ]
    },
    {
     "name": "stdout",
     "output_type": "stream",
     "text": [
      "0 /nfs3-p1/zsxm/dataset/aorta_classify_ct_-100_500/val/1/hongzhimin-S-Im30-39-J-30-144_s_0029.png\n",
      "0 /nfs3-p1/zsxm/dataset/aorta_classify_ct_-100_500/val/1/hongzhimin-S-Im30-39-J-30-144_s_0030.png\n",
      "0 /nfs3-p1/zsxm/dataset/aorta_classify_ct_-100_500/val/1/hongzhimin-S-Im30-39-J-30-144_s_0031.png\n",
      "0 /nfs3-p1/zsxm/dataset/aorta_classify_ct_-100_500/val/1/hongzhimin-S-Im30-39-J-30-144_s_0032.png\n",
      "0 /nfs3-p1/zsxm/dataset/aorta_classify_ct_-100_500/val/1/hongzhimin-S-Im30-39-J-30-144_s_0033.png\n",
      "0 /nfs3-p1/zsxm/dataset/aorta_classify_ct_-100_500/val/1/hongzhimin-S-Im30-39-J-30-144_s_0034.png\n",
      "0 /nfs3-p1/zsxm/dataset/aorta_classify_ct_-100_500/val/1/hongzhimin-S-Im30-39-J-30-144_s_0035.png\n",
      "0 /nfs3-p1/zsxm/dataset/aorta_classify_ct_-100_500/val/1/hongzhimin-S-Im30-39-J-30-144_s_0036.png\n",
      "0 /nfs3-p1/zsxm/dataset/aorta_classify_ct_-100_500/val/1/hongzhimin-S-Im30-39-J-30-144_s_0037.png\n",
      "2 /nfs3-p1/zsxm/dataset/aorta_classify_ct_-100_500/val/1/hongzhimin-S-Im30-39-J-30-144_s_0038.png\n",
      "3 /nfs3-p1/zsxm/dataset/aorta_classify_ct_-100_500/val/1/huanglijun-J-24-98_j_0043.png\n",
      "0 /nfs3-p1/zsxm/dataset/aorta_classify_ct_-100_500/val/1/huanglijun-J-24-98_j_0050.png\n",
      "2 /nfs3-p1/zsxm/dataset/aorta_classify_ct_-100_500/val/1/huanglijun-J-24-98_j_0070.png\n",
      "0 /nfs3-p1/zsxm/dataset/aorta_classify_ct_-100_500/val/1/huleijun-J-Im25-141_j_0044.png\n",
      "0 /nfs3-p1/zsxm/dataset/aorta_classify_ct_-100_500/val/1/huleijun-J-Im25-141_j_0045.png\n",
      "2 /nfs3-p1/zsxm/dataset/aorta_classify_ct_-100_500/val/1/huleijun-J-Im25-141_j_0046.png\n",
      "2 /nfs3-p1/zsxm/dataset/aorta_classify_ct_-100_500/val/1/huleijun-J-Im25-141_j_0070.png\n",
      "2 /nfs3-p1/zsxm/dataset/aorta_classify_ct_-100_500/val/1/huleijun-J-Im25-141_j_0071.png\n",
      "2 /nfs3-p1/zsxm/dataset/aorta_classify_ct_-100_500/val/1/huleijun-J-Im25-141_j_0075.png\n",
      "0 /nfs3-p1/zsxm/dataset/aorta_classify_ct_-100_500/val/1/huleijun-J-Im25-141_j_0114.png\n",
      "2 /nfs3-p1/zsxm/dataset/aorta_classify_ct_-100_500/val/1/jilixian-J-Im34-108_j_0038.png\n",
      "2 /nfs3-p1/zsxm/dataset/aorta_classify_ct_-100_500/val/1/jilixian-J-Im34-108_j_0042.png\n",
      "2 /nfs3-p1/zsxm/dataset/aorta_classify_ct_-100_500/val/1/jilixian-J-Im34-108_j_0045.png\n",
      "2 /nfs3-p1/zsxm/dataset/aorta_classify_ct_-100_500/val/1/jilixian-J-Im34-108_j_0053.png\n",
      "2 /nfs3-p1/zsxm/dataset/aorta_classify_ct_-100_500/val/1/jilixian-J-Im34-108_j_0059.png\n",
      "2 /nfs3-p1/zsxm/dataset/aorta_classify_ct_-100_500/val/1/jilixian-J-Im34-108_j_0060.png\n",
      "2 /nfs3-p1/zsxm/dataset/aorta_classify_ct_-100_500/val/1/jilixian-J-Im34-108_j_0062.png\n",
      "0 /nfs3-p1/zsxm/dataset/aorta_classify_ct_-100_500/val/1/jilixian-J-Im34-108_j_0063.png\n",
      "2 /nfs3-p1/zsxm/dataset/aorta_classify_ct_-100_500/val/1/jilixian-J-Im34-108_j_0064.png\n",
      "2 /nfs3-p1/zsxm/dataset/aorta_classify_ct_-100_500/val/1/jilixian-J-Im34-108_j_0074.png\n",
      "0 /nfs3-p1/zsxm/dataset/aorta_classify_ct_-100_500/val/1/jilixian-J-Im34-108_j_0077.png\n",
      "0 /nfs3-p1/zsxm/dataset/aorta_classify_ct_-100_500/val/1/jilixian-J-Im34-108_j_0093.png\n",
      "3 /nfs3-p1/zsxm/dataset/aorta_classify_ct_-100_500/val/1/jilixian-J-Im34-108_j_0101.png\n",
      "0 /nfs3-p1/zsxm/dataset/aorta_classify_ct_-100_500/val/1/jilixian-J-Im34-108_j_0103.png\n",
      "0 /nfs3-p1/zsxm/dataset/aorta_classify_ct_-100_500/val/1/jilixian-J-Im34-108_j_0105.png\n",
      "0 /nfs3-p1/zsxm/dataset/aorta_classify_ct_-100_500/val/1/jilixian-J-Im34-108_j_0106.png\n",
      "0 /nfs3-p1/zsxm/dataset/aorta_classify_ct_-100_500/val/1/jilixian-J-Im34-108_j_0107.png\n",
      "0 /nfs3-p1/zsxm/dataset/aorta_classify_ct_-100_500/val/1/jinchongfei-J-22-92_j_0029.png\n",
      "2 /nfs3-p1/zsxm/dataset/aorta_classify_ct_-100_500/val/1/jinchongfei-J-22-92_j_0030.png\n",
      "2 /nfs3-p1/zsxm/dataset/aorta_classify_ct_-100_500/val/1/jinchongfei-J-22-92_j_0040.png\n",
      "0 /nfs3-p1/zsxm/dataset/aorta_classify_ct_-100_500/val/1/jinchongfei-J-22-92_j_0044.png\n",
      "2 /nfs3-p1/zsxm/dataset/aorta_classify_ct_-100_500/val/1/jinchongfei-J-22-92_j_0051.png\n",
      "2 /nfs3-p1/zsxm/dataset/aorta_classify_ct_-100_500/val/1/jinchongfei-J-22-92_j_0054.png\n",
      "2 /nfs3-p1/zsxm/dataset/aorta_classify_ct_-100_500/val/1/jinchongfei-J-22-92_j_0055.png\n",
      "2 /nfs3-p1/zsxm/dataset/aorta_classify_ct_-100_500/val/1/jinchongfei-J-22-92_j_0068.png\n",
      "2 /nfs3-p1/zsxm/dataset/aorta_classify_ct_-100_500/val/1/lijianming-J-Im32-124_j_0063.png\n",
      "2 /nfs3-p1/zsxm/dataset/aorta_classify_ct_-100_500/val/1/lijianming-J-Im32-124_j_0064.png\n",
      "2 /nfs3-p1/zsxm/dataset/aorta_classify_ct_-100_500/val/1/lijianming-J-Im32-124_j_0067.png\n",
      "2 /nfs3-p1/zsxm/dataset/aorta_classify_ct_-100_500/val/1/lijianming-J-Im32-124_j_0070.png\n",
      "0 /nfs3-p1/zsxm/dataset/aorta_classify_ct_-100_500/val/1/lijianming-J-Im32-124_j_0101.png\n",
      "3 /nfs3-p1/zsxm/dataset/aorta_classify_ct_-100_500/val/1/lijianming-J-Im32-124_j_0111.png\n",
      "3 /nfs3-p1/zsxm/dataset/aorta_classify_ct_-100_500/val/1/lijianming-J-Im32-124_j_0123.png\n",
      "2 /nfs3-p1/zsxm/dataset/aorta_classify_ct_-100_500/val/1/lingenqiang-S-Im30-39_s_0037.png\n",
      "2 /nfs3-p1/zsxm/dataset/aorta_classify_ct_-100_500/val/1/lingenqiang-S-Im30-39_s_0038.png\n",
      "0 /nfs3-p1/zsxm/dataset/aorta_classify_ct_-100_500/val/1/linjiaxiang-J-21-72_j_0069.png\n",
      "0 /nfs3-p1/zsxm/dataset/aorta_classify_ct_-100_500/val/1/linjiaxiang-J-21-72_j_0070.png\n",
      "0 /nfs3-p1/zsxm/dataset/aorta_classify_ct_-100_500/val/1/liuyunfei-J-Im40-95_j_0048.png\n",
      "0 /nfs3-p1/zsxm/dataset/aorta_classify_ct_-100_500/val/1/liuyunfei-J-Im40-95_j_0050.png\n",
      "2 /nfs3-p1/zsxm/dataset/aorta_classify_ct_-100_500/val/1/liuyunfei-J-Im40-95_j_0051.png\n",
      "2 /nfs3-p1/zsxm/dataset/aorta_classify_ct_-100_500/val/1/liuyunfei-J-Im40-95_j_0057.png\n",
      "2 /nfs3-p1/zsxm/dataset/aorta_classify_ct_-100_500/val/1/liuyunfei-J-Im40-95_j_0063.png\n",
      "0 /nfs3-p1/zsxm/dataset/aorta_classify_ct_-100_500/val/1/liuyunfei-J-Im40-95_j_0067.png\n",
      "0 /nfs3-p1/zsxm/dataset/aorta_classify_ct_-100_500/val/1/liuyunfei-J-Im40-95_j_0068.png\n",
      "0 /nfs3-p1/zsxm/dataset/aorta_classify_ct_-100_500/val/1/liuyunfei-J-Im40-95_j_0069.png\n",
      "0 /nfs3-p1/zsxm/dataset/aorta_classify_ct_-100_500/val/1/liuyunfei-J-Im40-95_j_0070.png\n",
      "0 /nfs3-p1/zsxm/dataset/aorta_classify_ct_-100_500/val/1/liuyunfei-J-Im40-95_j_0071.png\n",
      "0 /nfs3-p1/zsxm/dataset/aorta_classify_ct_-100_500/val/1/liuyunfei-J-Im40-95_j_0080.png\n",
      "0 /nfs3-p1/zsxm/dataset/aorta_classify_ct_-100_500/val/1/liuyunfei-J-Im40-95_j_0087.png\n",
      "0 /nfs3-p1/zsxm/dataset/aorta_classify_ct_-100_500/val/1/liuyunfei-J-Im40-95_j_0088.png\n",
      "0 /nfs3-p1/zsxm/dataset/aorta_classify_ct_-100_500/val/1/liuyunfei-J-Im40-95_j_0089.png\n",
      "0 /nfs3-p1/zsxm/dataset/aorta_classify_ct_-100_500/val/1/liuyunfei-J-Im40-95_j_0090.png\n",
      "0 /nfs3-p1/zsxm/dataset/aorta_classify_ct_-100_500/val/1/liuyunfei-J-Im40-95_j_0092.png\n",
      "0 /nfs3-p1/zsxm/dataset/aorta_classify_ct_-100_500/val/1/liuyunfei-J-Im40-95_j_0093.png\n",
      "0 /nfs3-p1/zsxm/dataset/aorta_classify_ct_-100_500/val/1/liuyunfei-J-Im40-95_j_0094.png\n",
      "0 /nfs3-p1/zsxm/dataset/aorta_classify_ct_-100_500/val/1/loulinhua-S-Im27-30_s_0028.png\n",
      "2 /nfs3-p1/zsxm/dataset/aorta_classify_ct_-100_500/val/1/lufeng-J-Im28-103_j_0027.png\n",
      "2 /nfs3-p1/zsxm/dataset/aorta_classify_ct_-100_500/val/1/lufeng-J-Im28-103_j_0028.png\n",
      "0 /nfs3-p1/zsxm/dataset/aorta_classify_ct_-100_500/val/1/lufeng-J-Im28-103_j_0089.png\n",
      "0 /nfs3-p1/zsxm/dataset/aorta_classify_ct_-100_500/val/1/lufeng-J-Im28-103_j_0093.png\n",
      "0 /nfs3-p1/zsxm/dataset/aorta_classify_ct_-100_500/val/1/lufeng-J-Im28-103_j_0101.png\n",
      "2 /nfs3-p1/zsxm/dataset/aorta_classify_ct_-100_500/val/1/luzhiping-S-Im25-35-J-Im25-54_j_0034.png\n",
      "0 /nfs3-p1/zsxm/dataset/aorta_classify_ct_-100_500/val/1/luzhiping-S-Im25-35-J-Im25-54_j_0041.png\n",
      "2 /nfs3-p1/zsxm/dataset/aorta_classify_ct_-100_500/val/1/luzhiping-S-Im25-35-J-Im25-54_j_0050.png\n",
      "0 /nfs3-p1/zsxm/dataset/aorta_classify_ct_-100_500/val/1/luzhiping-S-Im25-35-J-Im25-54_s_0027.png\n",
      "2 /nfs3-p1/zsxm/dataset/aorta_classify_ct_-100_500/val/1/panzhangsong-J-Im26-91_j_0048.png\n",
      "0 /nfs3-p1/zsxm/dataset/aorta_classify_ct_-100_500/val/1/panzhangsong-J-Im26-91_j_0081.png\n",
      "0 /nfs3-p1/zsxm/dataset/aorta_classify_ct_-100_500/val/1/panzhangsong-J-Im26-91_j_0082.png\n",
      "0 /nfs3-p1/zsxm/dataset/aorta_classify_ct_-100_500/val/1/qianfuying-J-Im20-87_j_0025.png\n",
      "2 /nfs3-p1/zsxm/dataset/aorta_classify_ct_-100_500/val/1/qianfuying-J-Im20-87_j_0026.png\n",
      "2 /nfs3-p1/zsxm/dataset/aorta_classify_ct_-100_500/val/1/qianfuying-J-Im20-87_j_0030.png\n",
      "2 /nfs3-p1/zsxm/dataset/aorta_classify_ct_-100_500/val/1/qianfuying-J-Im20-87_j_0047.png\n",
      "2 /nfs3-p1/zsxm/dataset/aorta_classify_ct_-100_500/val/1/qianfuying-J-Im20-87_j_0048.png\n",
      "2 /nfs3-p1/zsxm/dataset/aorta_classify_ct_-100_500/val/1/qianfuying-J-Im20-87_j_0049.png\n"
     ]
    },
    {
     "name": "stdout",
     "output_type": "stream",
     "text": [
      "2 /nfs3-p1/zsxm/dataset/aorta_classify_ct_-100_500/val/1/qiaowei-S-Im18-30-J-Im18-82_j_0043.png\n",
      "2 /nfs3-p1/zsxm/dataset/aorta_classify_ct_-100_500/val/1/qiaowei-S-Im18-30-J-Im18-82_j_0045.png\n",
      "2 /nfs3-p1/zsxm/dataset/aorta_classify_ct_-100_500/val/1/shanghongjun-J-22-84_j_0044.png\n",
      "2 /nfs3-p1/zsxm/dataset/aorta_classify_ct_-100_500/val/1/shaoxiulan-J-Im21-25_j_0020.png\n",
      "2 /nfs3-p1/zsxm/dataset/aorta_classify_ct_-100_500/val/1/shaoxiulan-J-Im21-25_j_0021.png\n",
      "3 /nfs3-p1/zsxm/dataset/aorta_classify_ct_-100_500/val/1/shengwenping-S-Im37-46-J-Im37-116_j_0037.png\n",
      "0 /nfs3-p1/zsxm/dataset/aorta_classify_ct_-100_500/val/1/shengwenping-S-Im37-46-J-Im37-116_j_0042.png\n",
      "3 /nfs3-p1/zsxm/dataset/aorta_classify_ct_-100_500/val/1/shengwenping-S-Im37-46-J-Im37-116_j_0064.png\n",
      "0 /nfs3-p1/zsxm/dataset/aorta_classify_ct_-100_500/val/1/shengwenping-S-Im37-46-J-Im37-116_j_0076.png\n",
      "3 /nfs3-p1/zsxm/dataset/aorta_classify_ct_-100_500/val/1/shengwenping-S-Im37-46-J-Im37-116_j_0079.png\n",
      "0 /nfs3-p1/zsxm/dataset/aorta_classify_ct_-100_500/val/1/shengwenping-S-Im37-46-J-Im37-116_j_0082.png\n",
      "0 /nfs3-p1/zsxm/dataset/aorta_classify_ct_-100_500/val/1/shengwenping-S-Im37-46-J-Im37-116_j_0083.png\n",
      "0 /nfs3-p1/zsxm/dataset/aorta_classify_ct_-100_500/val/1/shengwenping-S-Im37-46-J-Im37-116_j_0110.png\n",
      "0 /nfs3-p1/zsxm/dataset/aorta_classify_ct_-100_500/val/1/shengwenping-S-Im37-46-J-Im37-116_j_0113.png\n",
      "0 /nfs3-p1/zsxm/dataset/aorta_classify_ct_-100_500/val/1/shengwenping-S-Im37-46-J-Im37-116_j_0115.png\n",
      "0 /nfs3-p1/zsxm/dataset/aorta_classify_ct_-100_500/val/1/shenliqiang-J-Im29-137_j_0092.png\n",
      "0 /nfs3-p1/zsxm/dataset/aorta_classify_ct_-100_500/val/1/shenliqiang-J-Im29-137_j_0094.png\n",
      "0 /nfs3-p1/zsxm/dataset/aorta_classify_ct_-100_500/val/1/shenliqiang-J-Im29-137_j_0097.png\n",
      "0 /nfs3-p1/zsxm/dataset/aorta_classify_ct_-100_500/val/1/shenliqiang-J-Im29-137_j_0104.png\n",
      "0 /nfs3-p1/zsxm/dataset/aorta_classify_ct_-100_500/val/1/shenliqiang-J-Im29-137_j_0132.png\n",
      "0 /nfs3-p1/zsxm/dataset/aorta_classify_ct_-100_500/val/1/shenxuefu-S-Im33-40-J-Im33-101_j_0040.png\n",
      "2 /nfs3-p1/zsxm/dataset/aorta_classify_ct_-100_500/val/1/shenxuefu-S-Im33-40-J-Im33-101_j_0048.png\n",
      "2 /nfs3-p1/zsxm/dataset/aorta_classify_ct_-100_500/val/1/shenxuefu-S-Im33-40-J-Im33-101_j_0053.png\n",
      "2 /nfs3-p1/zsxm/dataset/aorta_classify_ct_-100_500/val/1/shenxuefu-S-Im33-40-J-Im33-101_j_0057.png\n",
      "3 /nfs3-p1/zsxm/dataset/aorta_classify_ct_-100_500/val/1/shenxuefu-S-Im33-40-J-Im33-101_j_0066.png\n",
      "2 /nfs3-p1/zsxm/dataset/aorta_classify_ct_-100_500/val/1/shenxuefu-S-Im33-40-J-Im33-101_j_0100.png\n",
      "2 /nfs3-p1/zsxm/dataset/aorta_classify_ct_-100_500/val/1/sishouzhong-J-Im25-137_j_0042.png\n",
      "0 /nfs3-p1/zsxm/dataset/aorta_classify_ct_-100_500/val/1/sishouzhong-J-Im25-137_j_0105.png\n",
      "2 /nfs3-p1/zsxm/dataset/aorta_classify_ct_-100_500/val/1/wangqing-J-35-102_j_0039.png\n",
      "2 /nfs3-p1/zsxm/dataset/aorta_classify_ct_-100_500/val/1/wangqing-J-35-102_j_0052.png\n",
      "2 /nfs3-p1/zsxm/dataset/aorta_classify_ct_-100_500/val/1/wangqing-J-35-102_j_0055.png\n",
      "2 /nfs3-p1/zsxm/dataset/aorta_classify_ct_-100_500/val/1/wangqing-J-35-102_j_0061.png\n",
      "2 /nfs3-p1/zsxm/dataset/aorta_classify_ct_-100_500/val/1/wutonggen-S-Im22-29-J-Im22-82_j_0041.png\n",
      "0 /nfs3-p1/zsxm/dataset/aorta_classify_ct_-100_500/val/1/wutonggen-S-Im22-29-J-Im22-82_j_0068.png\n",
      "0 /nfs3-p1/zsxm/dataset/aorta_classify_ct_-100_500/val/1/wutonggen-S-Im22-29-J-Im22-82_j_0076.png\n",
      "2 /nfs3-p1/zsxm/dataset/aorta_classify_ct_-100_500/val/1/wutonggen-S-Im22-29-J-Im22-82_j_0080.png\n",
      "0 /nfs3-p1/zsxm/dataset/aorta_classify_ct_-100_500/val/1/wutonggen-S-Im22-29-J-Im22-82_j_0081.png\n",
      "2 /nfs3-p1/zsxm/dataset/aorta_classify_ct_-100_500/val/1/wuwanglong-J-Im31-125_j_0051.png\n",
      "0 /nfs3-p1/zsxm/dataset/aorta_classify_ct_-100_500/val/1/wuwanglong-J-Im31-125_j_0092.png\n",
      "0 /nfs3-p1/zsxm/dataset/aorta_classify_ct_-100_500/val/1/wuwanglong-J-Im31-125_j_0110.png\n",
      "0 /nfs3-p1/zsxm/dataset/aorta_classify_ct_-100_500/val/1/wuwanglong-J-Im31-125_j_0112.png\n",
      "2 /nfs3-p1/zsxm/dataset/aorta_classify_ct_-100_500/val/1/wuwanglong-J-Im31-125_j_0122.png\n",
      "3 /nfs3-p1/zsxm/dataset/aorta_classify_ct_-100_500/val/1/wuwanglong-J-Im31-125_j_0124.png\n",
      "0 /nfs3-p1/zsxm/dataset/aorta_classify_ct_-100_500/val/1/wuxiangyang-S-Im18-25_s_0017.png\n",
      "0 /nfs3-p1/zsxm/dataset/aorta_classify_ct_-100_500/val/1/wuxiangyang-S-Im18-25_s_0018.png\n",
      "0 /nfs3-p1/zsxm/dataset/aorta_classify_ct_-100_500/val/1/wuxiangyang-S-Im18-25_s_0019.png\n",
      "0 /nfs3-p1/zsxm/dataset/aorta_classify_ct_-100_500/val/1/wuxiangyang-S-Im18-25_s_0020.png\n",
      "0 /nfs3-p1/zsxm/dataset/aorta_classify_ct_-100_500/val/1/wuxiangyang-S-Im18-25_s_0021.png\n",
      "0 /nfs3-p1/zsxm/dataset/aorta_classify_ct_-100_500/val/1/wuxiangyang-S-Im18-25_s_0022.png\n",
      "2 /nfs3-p1/zsxm/dataset/aorta_classify_ct_-100_500/val/1/xiafangzhou-S-18-25-J-18-80_j_0021.png\n",
      "2 /nfs3-p1/zsxm/dataset/aorta_classify_ct_-100_500/val/1/xiafangzhou-S-18-25-J-18-80_j_0022.png\n",
      "2 /nfs3-p1/zsxm/dataset/aorta_classify_ct_-100_500/val/1/xiafangzhou-S-18-25-J-18-80_j_0040.png\n",
      "0 /nfs3-p1/zsxm/dataset/aorta_classify_ct_-100_500/val/1/xiafangzhou-S-18-25-J-18-80_j_0050.png\n",
      "2 /nfs3-p1/zsxm/dataset/aorta_classify_ct_-100_500/val/1/xiafangzhou-S-18-25-J-18-80_j_0051.png\n",
      "0 /nfs3-p1/zsxm/dataset/aorta_classify_ct_-100_500/val/1/xiafangzhou-S-18-25-J-18-80_j_0060.png\n",
      "0 /nfs3-p1/zsxm/dataset/aorta_classify_ct_-100_500/val/1/xiafangzhou-S-18-25-J-18-80_j_0061.png\n",
      "3 /nfs3-p1/zsxm/dataset/aorta_classify_ct_-100_500/val/1/xiafangzhou-S-18-25-J-18-80_j_0072.png\n",
      "3 /nfs3-p1/zsxm/dataset/aorta_classify_ct_-100_500/val/1/xiafangzhou-S-18-25-J-18-80_j_0074.png\n",
      "2 /nfs3-p1/zsxm/dataset/aorta_classify_ct_-100_500/val/1/xuhong-S-Im23-38-J-Im23-40_j_0024.png\n",
      "0 /nfs3-p1/zsxm/dataset/aorta_classify_ct_-100_500/val/1/xuhong-S-Im23-38-J-Im23-40_j_0036.png\n",
      "0 /nfs3-p1/zsxm/dataset/aorta_classify_ct_-100_500/val/1/xuhong-S-Im23-38-J-Im23-40_j_0038.png\n",
      "0 /nfs3-p1/zsxm/dataset/aorta_classify_ct_-100_500/val/1/xuhong-S-Im23-38-J-Im23-40_j_0039.png\n",
      "0 /nfs3-p1/zsxm/dataset/aorta_classify_ct_-100_500/val/1/xuhong-S-Im23-38-J-Im23-40_s_0022.png\n",
      "0 /nfs3-p1/zsxm/dataset/aorta_classify_ct_-100_500/val/1/xushichao-J-Im35-145_j_0038.png\n",
      "0 /nfs3-p1/zsxm/dataset/aorta_classify_ct_-100_500/val/1/xushichao-J-Im35-145_j_0065.png\n",
      "0 /nfs3-p1/zsxm/dataset/aorta_classify_ct_-100_500/val/1/xushichao-J-Im35-145_j_0066.png\n",
      "3 /nfs3-p1/zsxm/dataset/aorta_classify_ct_-100_500/val/1/xushichao-J-Im35-145_j_0067.png\n",
      "3 /nfs3-p1/zsxm/dataset/aorta_classify_ct_-100_500/val/1/xushichao-J-Im35-145_j_0068.png\n",
      "3 /nfs3-p1/zsxm/dataset/aorta_classify_ct_-100_500/val/1/xushichao-J-Im35-145_j_0073.png\n",
      "0 /nfs3-p1/zsxm/dataset/aorta_classify_ct_-100_500/val/1/xushichao-J-Im35-145_j_0083.png\n",
      "0 /nfs3-p1/zsxm/dataset/aorta_classify_ct_-100_500/val/1/xushichao-J-Im35-145_j_0111.png\n",
      "0 /nfs3-p1/zsxm/dataset/aorta_classify_ct_-100_500/val/1/xushichao-J-Im35-145_j_0124.png\n",
      "3 /nfs3-p1/zsxm/dataset/aorta_classify_ct_-100_500/val/1/xushichao-J-Im35-145_j_0135.png\n",
      "2 /nfs3-p1/zsxm/dataset/aorta_classify_ct_-100_500/val/1/yangbingshui-S-Im25-33-J-Im25-56_j_0045.png\n",
      "2 /nfs3-p1/zsxm/dataset/aorta_classify_ct_-100_500/val/1/yanjuanfeng-J-Im30-32_j_0029.png\n",
      "2 /nfs3-p1/zsxm/dataset/aorta_classify_ct_-100_500/val/1/yanjuanfeng-J-Im30-32_j_0030.png\n",
      "2 /nfs3-p1/zsxm/dataset/aorta_classify_ct_-100_500/val/1/yanjuanfeng-J-Im30-32_j_0031.png\n",
      "2 /nfs3-p1/zsxm/dataset/aorta_classify_ct_-100_500/val/1/yaocaiming-J-Im26-88_j_0043.png\n",
      "2 /nfs3-p1/zsxm/dataset/aorta_classify_ct_-100_500/val/1/yaocaiming-J-Im26-88_j_0057.png\n",
      "2 /nfs3-p1/zsxm/dataset/aorta_classify_ct_-100_500/val/1/yaocaiming-J-Im26-88_j_0058.png\n",
      "2 /nfs3-p1/zsxm/dataset/aorta_classify_ct_-100_500/val/1/yaocaiming-J-Im26-88_j_0059.png\n",
      "2 /nfs3-p1/zsxm/dataset/aorta_classify_ct_-100_500/val/1/yaocaiming-J-Im26-88_j_0063.png\n",
      "2 /nfs3-p1/zsxm/dataset/aorta_classify_ct_-100_500/val/1/yaocaiming-J-Im26-88_j_0069.png\n",
      "2 /nfs3-p1/zsxm/dataset/aorta_classify_ct_-100_500/val/1/yaocaiming-J-Im26-88_j_0070.png\n",
      "2 /nfs3-p1/zsxm/dataset/aorta_classify_ct_-100_500/val/1/yaocaiming-J-Im26-88_j_0071.png\n",
      "0 /nfs3-p1/zsxm/dataset/aorta_classify_ct_-100_500/val/1/yaojianmin-S-Im20-29-J-Im20-86_j_0023.png\n",
      "0 /nfs3-p1/zsxm/dataset/aorta_classify_ct_-100_500/val/1/yaojianmin-S-Im20-29-J-Im20-86_j_0026.png\n",
      "2 /nfs3-p1/zsxm/dataset/aorta_classify_ct_-100_500/val/1/yaojianmin-S-Im20-29-J-Im20-86_j_0027.png\n"
     ]
    },
    {
     "name": "stdout",
     "output_type": "stream",
     "text": [
      "2 /nfs3-p1/zsxm/dataset/aorta_classify_ct_-100_500/val/1/yaojianmin-S-Im20-29-J-Im20-86_j_0056.png\n",
      "2 /nfs3-p1/zsxm/dataset/aorta_classify_ct_-100_500/val/1/yaojianmin-S-Im20-29-J-Im20-86_j_0057.png\n",
      "2 /nfs3-p1/zsxm/dataset/aorta_classify_ct_-100_500/val/1/yaojianmin-S-Im20-29-J-Im20-86_j_0059.png\n",
      "0 /nfs3-p1/zsxm/dataset/aorta_classify_ct_-100_500/val/1/yaojianmin-S-Im20-29-J-Im20-86_j_0067.png\n",
      "0 /nfs3-p1/zsxm/dataset/aorta_classify_ct_-100_500/val/1/yaojianmin-S-Im20-29-J-Im20-86_j_0068.png\n",
      "0 /nfs3-p1/zsxm/dataset/aorta_classify_ct_-100_500/val/1/yaojianmin-S-Im20-29-J-Im20-86_j_0075.png\n",
      "2 /nfs3-p1/zsxm/dataset/aorta_classify_ct_-100_500/val/1/yesanghua-J-Im41-138_j_0049.png\n",
      "0 /nfs3-p1/zsxm/dataset/aorta_classify_ct_-100_500/val/1/yewenyi-J-Im36-130_j_0094.png\n",
      "0 /nfs3-p1/zsxm/dataset/aorta_classify_ct_-100_500/val/1/yewenyi-J-Im36-130_j_0101.png\n",
      "0 /nfs3-p1/zsxm/dataset/aorta_classify_ct_-100_500/val/1/yewenyi-J-Im36-130_j_0102.png\n",
      "0 /nfs3-p1/zsxm/dataset/aorta_classify_ct_-100_500/val/1/yewenyi-J-Im36-130_j_0103.png\n",
      "2 /nfs3-p1/zsxm/dataset/aorta_classify_ct_-100_500/val/1/yingguoliang-J-Im55-130_j_0068.png\n",
      "2 /nfs3-p1/zsxm/dataset/aorta_classify_ct_-100_500/val/1/yingguoliang-J-Im55-130_j_0079.png\n",
      "2 /nfs3-p1/zsxm/dataset/aorta_classify_ct_-100_500/val/1/yingguoliang-J-Im55-130_j_0084.png\n",
      "0 /nfs3-p1/zsxm/dataset/aorta_classify_ct_-100_500/val/1/yingguoliang-J-Im55-130_j_0100.png\n",
      "0 /nfs3-p1/zsxm/dataset/aorta_classify_ct_-100_500/val/1/yingguoliang-J-Im55-130_j_0101.png\n",
      "3 /nfs3-p1/zsxm/dataset/aorta_classify_ct_-100_500/val/1/yingjianquan-S-Im12-14-J-Im12-36_j_0031.png\n",
      "3 /nfs3-p1/zsxm/dataset/aorta_classify_ct_-100_500/val/1/yingjianquan-S-Im12-14-J-Im12-36_j_0033.png\n",
      "3 /nfs3-p1/zsxm/dataset/aorta_classify_ct_-100_500/val/1/yingjianquan-S-Im12-14-J-Im12-36_j_0034.png\n",
      "0 /nfs3-p1/zsxm/dataset/aorta_classify_ct_-100_500/val/1/yingjianquan-S-Im12-14-J-Im12-36_s_0011.png\n",
      "0 /nfs3-p1/zsxm/dataset/aorta_classify_ct_-100_500/val/1/yingjianquan-S-Im12-14-J-Im12-36_s_0012.png\n",
      "0 /nfs3-p1/zsxm/dataset/aorta_classify_ct_-100_500/val/1/yingjianquan-S-Im12-14-J-Im12-36_s_0013.png\n",
      "0 /nfs3-p1/zsxm/dataset/aorta_classify_ct_-100_500/val/1/yingmeiqi-S-Im22-25-J-Im16-36_s_0024.png\n",
      "0 /nfs3-p1/zsxm/dataset/aorta_classify_ct_-100_500/val/1/yintianxing-J-Im24-38_j_0024.png\n",
      "0 /nfs3-p1/zsxm/dataset/aorta_classify_ct_-100_500/val/1/yintianxing-J-Im24-38_j_0025.png\n",
      "0 /nfs3-p1/zsxm/dataset/aorta_classify_ct_-100_500/val/1/yintianxing-J-Im24-38_j_0033.png\n",
      "2 /nfs3-p1/zsxm/dataset/aorta_classify_ct_-100_500/val/1/yuanlinyue-J-Im27-120_j_0062.png\n",
      "0 /nfs3-p1/zsxm/dataset/aorta_classify_ct_-100_500/val/1/yuanlinyue-J-Im27-120_j_0113.png\n",
      "0 /nfs3-p1/zsxm/dataset/aorta_classify_ct_-100_500/val/1/yuanlinyue-J-Im27-120_j_0119.png\n",
      "2 /nfs3-p1/zsxm/dataset/aorta_classify_ct_-100_500/val/1/yuguiying-S-16-22-J-16-77_j_0023.png\n",
      "2 /nfs3-p1/zsxm/dataset/aorta_classify_ct_-100_500/val/1/yuguiying-S-16-22-J-16-77_s_0016.png\n",
      "0 /nfs3-p1/zsxm/dataset/aorta_classify_ct_-100_500/val/1/yuhongliang-S-Im26-37-J-Im26-105_j_0038.png\n",
      "2 /nfs3-p1/zsxm/dataset/aorta_classify_ct_-100_500/val/1/yuhongliang-S-Im26-37-J-Im26-105_j_0045.png\n",
      "0 /nfs3-p1/zsxm/dataset/aorta_classify_ct_-100_500/val/1/yuhongliang-S-Im26-37-J-Im26-105_j_0046.png\n",
      "2 /nfs3-p1/zsxm/dataset/aorta_classify_ct_-100_500/val/1/yuhongliang-S-Im26-37-J-Im26-105_j_0065.png\n",
      "0 /nfs3-p1/zsxm/dataset/aorta_classify_ct_-100_500/val/1/yuhongliang-S-Im26-37-J-Im26-105_j_0074.png\n",
      "0 /nfs3-p1/zsxm/dataset/aorta_classify_ct_-100_500/val/1/yuhongliang-S-Im26-37-J-Im26-105_j_0081.png\n",
      "2 /nfs3-p1/zsxm/dataset/aorta_classify_ct_-100_500/val/1/yuhongliang-S-Im26-37-J-Im26-105_j_0084.png\n",
      "0 /nfs3-p1/zsxm/dataset/aorta_classify_ct_-100_500/val/1/yuhongliang-S-Im26-37-J-Im26-105_j_0088.png\n",
      "0 /nfs3-p1/zsxm/dataset/aorta_classify_ct_-100_500/val/1/yuhongliang-S-Im26-37-J-Im26-105_j_0089.png\n",
      "0 /nfs3-p1/zsxm/dataset/aorta_classify_ct_-100_500/val/1/yuhongliang-S-Im26-37-J-Im26-105_j_0090.png\n",
      "0 /nfs3-p1/zsxm/dataset/aorta_classify_ct_-100_500/val/1/yuhongliang-S-Im26-37-J-Im26-105_j_0091.png\n",
      "0 /nfs3-p1/zsxm/dataset/aorta_classify_ct_-100_500/val/1/yuhongliang-S-Im26-37-J-Im26-105_j_0096.png\n",
      "0 /nfs3-p1/zsxm/dataset/aorta_classify_ct_-100_500/val/1/yuhongliang-S-Im26-37-J-Im26-105_j_0101.png\n",
      "0 /nfs3-p1/zsxm/dataset/aorta_classify_ct_-100_500/val/1/yuhongliang-S-Im26-37-J-Im26-105_s_0025.png\n",
      "0 /nfs3-p1/zsxm/dataset/aorta_classify_ct_-100_500/val/1/yuhongliang-S-Im26-37-J-Im26-105_s_0026.png\n",
      "0 /nfs3-p1/zsxm/dataset/aorta_classify_ct_-100_500/val/1/yuhongliang-S-Im26-37-J-Im26-105_s_0034.png\n",
      "2 /nfs3-p1/zsxm/dataset/aorta_classify_ct_-100_500/val/1/yujiazhen-S-Im19-27-J-Im19-77_j_0026.png\n",
      "2 /nfs3-p1/zsxm/dataset/aorta_classify_ct_-100_500/val/1/yujiazhen-S-Im19-27-J-Im19-77_j_0049.png\n",
      "2 /nfs3-p1/zsxm/dataset/aorta_classify_ct_-100_500/val/1/yujiazhen-S-Im19-27-J-Im19-77_j_0051.png\n",
      "2 /nfs3-p1/zsxm/dataset/aorta_classify_ct_-100_500/val/1/yujiazhen-S-Im19-27-J-Im19-77_j_0052.png\n",
      "2 /nfs3-p1/zsxm/dataset/aorta_classify_ct_-100_500/val/1/yujiazhen-S-Im19-27-J-Im19-77_j_0059.png\n",
      "0 /nfs3-p1/zsxm/dataset/aorta_classify_ct_-100_500/val/1/yujiazhen-S-Im19-27-J-Im19-77_j_0062.png\n",
      "0 /nfs3-p1/zsxm/dataset/aorta_classify_ct_-100_500/val/1/yujiazhen-S-Im19-27-J-Im19-77_j_0069.png\n",
      "0 /nfs3-p1/zsxm/dataset/aorta_classify_ct_-100_500/val/1/yujiazhen-S-Im19-27-J-Im19-77_j_0071.png\n",
      "2 /nfs3-p1/zsxm/dataset/aorta_classify_ct_-100_500/val/1/zhangboqian-S-Im22-32-J-Im22-88_j_0024.png\n",
      "2 /nfs3-p1/zsxm/dataset/aorta_classify_ct_-100_500/val/1/zhangboqian-S-Im22-32-J-Im22-88_j_0047.png\n",
      "0 /nfs3-p1/zsxm/dataset/aorta_classify_ct_-100_500/val/1/zhangboqian-S-Im22-32-J-Im22-88_j_0069.png\n",
      "0 /nfs3-p1/zsxm/dataset/aorta_classify_ct_-100_500/val/1/zhangboqian-S-Im22-32-J-Im22-88_j_0070.png\n",
      "2 /nfs3-p1/zsxm/dataset/aorta_classify_ct_-100_500/val/1/zhangboqian-S-Im22-32-J-Im22-88_j_0074.png\n",
      "0 /nfs3-p1/zsxm/dataset/aorta_classify_ct_-100_500/val/1/zhangboqian-S-Im22-32-J-Im22-88_j_0075.png\n",
      "3 /nfs3-p1/zsxm/dataset/aorta_classify_ct_-100_500/val/1/zhangboqian-S-Im22-32-J-Im22-88_j_0078.png\n",
      "0 /nfs3-p1/zsxm/dataset/aorta_classify_ct_-100_500/val/1/zhangboqian-S-Im22-32-J-Im22-88_j_0079.png\n",
      "0 /nfs3-p1/zsxm/dataset/aorta_classify_ct_-100_500/val/1/zhangfuyang-S-Im15-20-J-Im15-87_j_0040.png\n",
      "0 /nfs3-p1/zsxm/dataset/aorta_classify_ct_-100_500/val/1/zhangfuyang-S-Im15-20-J-Im15-87_j_0069.png\n",
      "0 /nfs3-p1/zsxm/dataset/aorta_classify_ct_-100_500/val/1/zhangjian-J-26-89_j_0088.png\n",
      "2 /nfs3-p1/zsxm/dataset/aorta_classify_ct_-100_500/val/1/zhanglimin-J-Im40-149_j_0075.png\n",
      "3 /nfs3-p1/zsxm/dataset/aorta_classify_ct_-100_500/val/1/zhanglimin-J-Im40-149_j_0130.png\n",
      "2 /nfs3-p1/zsxm/dataset/aorta_classify_ct_-100_500/val/1/zhongxuefang-S-Im19-34-J-Im19-72_j_0020.png\n",
      "2 /nfs3-p1/zsxm/dataset/aorta_classify_ct_-100_500/val/1/zhongxuefang-S-Im19-34-J-Im19-72_j_0034.png\n",
      "0 /nfs3-p1/zsxm/dataset/aorta_classify_ct_-100_500/val/1/zhongxuefang-S-Im19-34-J-Im19-72_j_0044.png\n",
      "0 /nfs3-p1/zsxm/dataset/aorta_classify_ct_-100_500/val/1/zhongxuefang-S-Im19-34-J-Im19-72_j_0047.png\n",
      "2 /nfs3-p1/zsxm/dataset/aorta_classify_ct_-100_500/val/1/zhongxuefang-S-Im19-34-J-Im19-72_j_0056.png\n",
      "2 /nfs3-p1/zsxm/dataset/aorta_classify_ct_-100_500/val/1/zhongxuefang-S-Im19-34-J-Im19-72_j_0057.png\n",
      "2 /nfs3-p1/zsxm/dataset/aorta_classify_ct_-100_500/val/1/zhongxuefang-S-Im19-34-J-Im19-72_j_0058.png\n",
      "2 /nfs3-p1/zsxm/dataset/aorta_classify_ct_-100_500/val/1/zhongxuefang-S-Im19-34-J-Im19-72_j_0059.png\n",
      "2 /nfs3-p1/zsxm/dataset/aorta_classify_ct_-100_500/val/1/zhongxuefang-S-Im19-34-J-Im19-72_j_0060.png\n",
      "2 /nfs3-p1/zsxm/dataset/aorta_classify_ct_-100_500/val/1/zhongxuefang-S-Im19-34-J-Im19-72_j_0061.png\n",
      "0 /nfs3-p1/zsxm/dataset/aorta_classify_ct_-100_500/val/1/zhongxuefang-S-Im19-34-J-Im19-72_j_0064.png\n",
      "2 /nfs3-p1/zsxm/dataset/aorta_classify_ct_-100_500/val/1/zhoubozhong-J-Im29-131_j_0048.png\n",
      "2 /nfs3-p1/zsxm/dataset/aorta_classify_ct_-100_500/val/1/zhoubozhong-J-Im29-131_j_0049.png\n",
      "0 /nfs3-p1/zsxm/dataset/aorta_classify_ct_-100_500/val/1/zhoubozhong-J-Im29-131_j_0105.png\n",
      "0 /nfs3-p1/zsxm/dataset/aorta_classify_ct_-100_500/val/1/zhoubozhong-J-Im29-131_j_0114.png\n",
      "0 /nfs3-p1/zsxm/dataset/aorta_classify_ct_-100_500/val/1/zhoubozhong-J-Im29-131_j_0117.png\n",
      "0 /nfs3-p1/zsxm/dataset/aorta_classify_ct_-100_500/val/1/zhoubozhong-J-Im29-131_j_0123.png\n",
      "0 /nfs3-p1/zsxm/dataset/aorta_classify_ct_-100_500/val/1/zhoubozhong-J-Im29-131_j_0130.png\n",
      "0 /nfs3-p1/zsxm/dataset/aorta_classify_ct_-100_500/val/1/zhoumingfang-J-Im36-41_j_0040.png\n"
     ]
    },
    {
     "name": "stdout",
     "output_type": "stream",
     "text": [
      "0 /nfs3-p1/zsxm/dataset/aorta_classify_ct_-100_500/val/1/zhousuhua-J-Im25-96_j_0072.png\n",
      "0 /nfs3-p1/zsxm/dataset/aorta_classify_ct_-100_500/val/1/zhuhancheng-S-Im27-36-J-Im27-86_j_0074.png\n",
      "2 /nfs3-p1/zsxm/dataset/aorta_classify_ct_-100_500/val/1/zhuhancheng-S-Im27-36-J-Im27-86_j_0076.png\n",
      "0 /nfs3-p1/zsxm/dataset/aorta_classify_ct_-100_500/val/1/zhuhancheng-S-Im27-36-J-Im27-86_j_0080.png\n",
      "0 /nfs3-p1/zsxm/dataset/aorta_classify_ct_-100_500/val/1/zhuhancheng-S-Im27-36-J-Im27-86_j_0082.png\n",
      "2 /nfs3-p1/zsxm/dataset/aorta_classify_ct_-100_500/val/1/zhuhancheng-S-Im27-36-J-Im27-86_s_0029.png\n",
      "4370 364 0.08329519450800915\n",
      "['chenggang-J-Im18-81', 'chenjufa-J-16-66', 'chenjuli-J-Im18-49', 'chenjun-J-Im33-137', 'chenlili-S-Im18-24-J-Im18-74', 'chiyanfei-J-Im20-83', 'daizuokou-J-Im19-74', 'ganxiaobin-J-23-51', 'guojianfu-J-Im32-100', 'hongzhimin-S-Im30-39-J-30-144', 'huanglijun-J-24-98', 'huleijun-J-Im25-141', 'jilixian-J-Im34-108', 'jinchongfei-J-22-92', 'lijianming-J-Im32-124', 'lingenqiang-S-Im30-39', 'linjiaxiang-J-21-72', 'liuyunfei-J-Im40-95', 'loulinhua-S-Im27-30', 'lufeng-J-Im28-103', 'luzhiping-S-Im25-35-J-Im25-54', 'panzhangsong-J-Im26-91', 'qianfuying-J-Im20-87', 'qiaowei-S-Im18-30-J-Im18-82', 'shanghongjun-J-22-84', 'shaoxiulan-J-Im21-25', 'shengwenping-S-Im37-46-J-Im37-116', 'shenliqiang-J-Im29-137', 'shenxuefu-S-Im33-40-J-Im33-101', 'sishouzhong-J-Im25-137', 'wangqing-J-35-102', 'wutonggen-S-Im22-29-J-Im22-82', 'wuwanglong-J-Im31-125', 'wuxiangyang-S-Im18-25', 'xiafangzhou-S-18-25-J-18-80', 'xuhong-S-Im23-38-J-Im23-40', 'xushichao-J-Im35-145', 'yangbingshui-S-Im25-33-J-Im25-56', 'yanjuanfeng-J-Im30-32', 'yaocaiming-J-Im26-88', 'yaojianmin-S-Im20-29-J-Im20-86', 'yesanghua-J-Im41-138', 'yewenyi-J-Im36-130', 'yingguoliang-J-Im55-130', 'yingjianquan-S-Im12-14-J-Im12-36', 'yingmeiqi-S-Im22-25-J-Im16-36', 'yintianxing-J-Im24-38', 'yuanlinyue-J-Im27-120', 'yuguiying-S-16-22-J-16-77', 'yuhongliang-S-Im26-37-J-Im26-105', 'yujiazhen-S-Im19-27-J-Im19-77', 'zhangboqian-S-Im22-32-J-Im22-88', 'zhangfuyang-S-Im15-20-J-Im15-87', 'zhangjian-J-26-89', 'zhanglimin-J-Im40-149', 'zhongxuefang-S-Im19-34-J-Im19-72', 'zhoubozhong-J-Im29-131', 'zhoumingfang-J-Im36-41', 'zhousuhua-J-Im25-96', 'zhuhancheng-S-Im27-36-J-Im27-86']\n"
     ]
    }
   ],
   "source": [
    "tot_count = 0\n",
    "err_count = 0\n",
    "err_set = set()\n",
    "for img in pau_list:\n",
    "    tot_count += 1\n",
    "    image = Image.open(img)\n",
    "    tensor = transform(image).unsqueeze(0).to(device)\n",
    "    res = net(tensor).squeeze()\n",
    "    if res.argmax() != 1:\n",
    "        err_count += 1\n",
    "        print(res.argmax().item(), img)\n",
    "        err_set.add(img.split('/')[-1].split('_')[0])\n",
    "print(tot_count, err_count, err_count/tot_count)\n",
    "print(sorted(list(err_set)))"
   ]
  },
  {
   "cell_type": "code",
   "execution_count": null,
   "id": "be0b649e",
   "metadata": {},
   "outputs": [],
   "source": [
    "['baochunsheng', 'caiweiguang', 'chenbo', 'chenfujun', 'chengshizheng', 'chengyonghui', 'chenjiandong', 'chenping', 'chensiqi', 'chugentang', 'fangchunfeng', 'fanghongwei', 'guanxujun', 'guoheying', 'guquankang', 'huangdebing', 'huanghai', 'huangsuyue', 'huangxihong', 'huangyong', 'huangyongliang', 'jiadeen', 'jihongke', 'laiguizhen', 'laixuexiang', 'lanshaomei', 'leixiaoying', 'lihuanhuan', 'liubihai', 'liyehua', 'louyidong', 'luojun', 'maliwei', 'pengzhengjiang', 'qumin', 'ruweiping', 'shaoyefeng', 'shenglina', 'shenqi', 'tangabiao', 'wangjiangwei', 'wangxiaofu', 'wangyonghui', 'wangyuefeng', 'wangzhengjin', 'wenyongguo', 'wuyueming', 'xiaminsong', 'xiashubiao', 'xuhangying', 'xuyaofeng', 'xuzhaofang', 'yangmin', 'yangxuehua', 'yangzhanxiang', 'yepeng', 'yexianchang', 'yexiyou', 'yujiada', 'zhangguangming', 'zhanghaitao', 'zhangwei', 'zhangyunqin', 'zhaowenxian', 'zhengguozheng', 'zhengjiyou', 'zhoufeng', 'zhouliang', 'zhuseng', 'zhuxutao', 'zhuyongfu', 'zhuyuejin', 'zongminghui']\n",
    "['chenggang', 'chenjufa', 'chenjuli', 'chenjun', 'chenlili', 'chiyanfei', 'daizuokou', 'ganxiaobin', 'guojianfu', 'hongzhimin', 'huanglijun', 'huleijun', 'jilixian', 'jinchongfei', 'lijianming', 'lingenqiang', 'linjiaxiang', 'liuyunfei', 'loulinhua', 'lufeng', 'luzhiping', 'panzhangsong', 'qianfuying', 'qiaowei', 'shanghongjun', 'shaoxiulan', 'shengwenping', 'shenliqiang', 'shenxuefu', 'sishouzhong', 'wangqing', 'wutonggen', 'wuwanglong', 'wuxiangyang', 'xiafangzhou', 'xuhong', 'xushichao', 'yangbingshui', 'yanjuanfeng', 'yaocaiming', 'yaojianmin', 'yesanghua', 'yewenyi', 'yingguoliang', 'yingjianquan', 'yingmeiqi', 'yintianxing', 'yuanlinyue', 'yuguiying', 'yuhongliang', 'yujiazhen', 'zhangboqian', 'zhangfuyang', 'zhangjian', 'zhanglimin', 'zhongxuefang', 'zhoubozhong', 'zhoumingfang', 'zhousuhua', 'zhuhancheng']"
   ]
  },
  {
   "cell_type": "code",
   "execution_count": null,
   "id": "fce7ddd9",
   "metadata": {},
   "outputs": [],
   "source": []
  },
  {
   "cell_type": "code",
   "execution_count": 13,
   "id": "be9ea4eb",
   "metadata": {},
   "outputs": [
    {
     "name": "stdout",
     "output_type": "stream",
     "text": [
      "ResNet:   21279939\n",
      "ConvNeXt: 27819363\n"
     ]
    }
   ],
   "source": [
    "import torch\n",
    "from models.SupCon import *\n",
    "from models.convnext import convnext_tiny\n",
    "\n",
    "net1 = resnet(34, n_channels=1, n_classes=3, entire=True)\n",
    "net2 = convnext_tiny(in_chans=1, num_classes=3)\n",
    "\n",
    "print('ResNet:  ', sum([param.nelement() for param in net1.parameters()]))\n",
    "print('ConvNeXt:', sum([param.nelement() for param in net2.parameters()]))"
   ]
  },
  {
   "cell_type": "code",
   "execution_count": null,
   "id": "24b6af34",
   "metadata": {},
   "outputs": [],
   "source": []
  }
 ],
 "metadata": {
  "kernelspec": {
   "display_name": "Python 3 (ipykernel)",
   "language": "python",
   "name": "python3"
  },
  "language_info": {
   "codemirror_mode": {
    "name": "ipython",
    "version": 3
   },
   "file_extension": ".py",
   "mimetype": "text/x-python",
   "name": "python",
   "nbconvert_exporter": "python",
   "pygments_lexer": "ipython3",
   "version": "3.8.11"
  }
 },
 "nbformat": 4,
 "nbformat_minor": 5
}
