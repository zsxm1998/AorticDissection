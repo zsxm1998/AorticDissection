{
 "cells": [
  {
   "cell_type": "code",
   "execution_count": 1,
   "id": "3aedfc0f",
   "metadata": {},
   "outputs": [],
   "source": [
    "import os\n",
    "import warnings\n",
    "\n",
    "import numpy as np\n",
    "from PIL import Image\n",
    "import torch\n",
    "import torch.nn.functional as F\n",
    "import torchvision\n",
    "from torchvision import transforms as T\n",
    "from torchvision.datasets import ImageFolder\n",
    "from sklearn.model_selection import StratifiedShuffleSplit\n",
    "from torch.utils.data import DataLoader\n",
    "from pytorch_grad_cam import GradCAM, ScoreCAM, GradCAMPlusPlus, AblationCAM, XGradCAM, EigenCAM, GuidedBackpropReLUModel\n",
    "from pytorch_grad_cam.utils.image import show_cam_on_image, deprocess_image\n",
    "import matplotlib.pyplot as plt\n",
    "import cv2\n",
    "\n",
    "from train import create_net\n",
    "from utils.eval import eval_net\n",
    "from utils.dataset import AortaDataset3D\n",
    "\n",
    "warnings.filterwarnings(\"ignore\")\n",
    "np.random.seed(63910)\n",
    "torch.manual_seed(53152)\n",
    "torch.cuda.manual_seed_all(7987)\n",
    "torch.backends.cudnn.deterministic = True"
   ]
  },
  {
   "cell_type": "code",
   "execution_count": 2,
   "id": "126d5809",
   "metadata": {},
   "outputs": [],
   "source": [
    "os.environ['CUDA_VISIBLE_DEVICES'] = '1'\n",
    "device = torch.device('cuda:0' if torch.cuda.is_available() else 'cpu')\n",
    "#device = torch.device('cpu')"
   ]
  },
  {
   "cell_type": "code",
   "execution_count": 3,
   "id": "b4475572",
   "metadata": {},
   "outputs": [],
   "source": [
    "transform = T.Compose([\n",
    "    T.Resize(51), # 缩放图片(Image)，保持长宽比不变，最短边为img_size像素\n",
    "    T.CenterCrop(51), # 从图片中间切出img_size*img_size的图片\n",
    "    T.ToTensor(), # 将图片(Image)转成Tensor，归一化至[0, 1]\n",
    "    #T.Normalize(mean=[.5], std=[.5]) # 标准化至[-1, 1]，规定均值和标准差\n",
    "])"
   ]
  },
  {
   "cell_type": "code",
   "execution_count": null,
   "id": "9b0efcfd",
   "metadata": {},
   "outputs": [],
   "source": [
    "val = ImageFolder('/nfs3-p1/zsxm/dataset/aorta_classify_ct_-100_500/val/', transform=transform, loader=lambda path: Image.open(path))\n",
    "val_loader = DataLoader(val, batch_size=64, shuffle=True, num_workers=8, pin_memory=True, drop_last=False)"
   ]
  },
  {
   "cell_type": "code",
   "execution_count": null,
   "id": "858f4dd8",
   "metadata": {},
   "outputs": [],
   "source": [
    "net = create_net(device, 1, 2, 'checkpoints/09-28_16:53:49/Net_best.pth')"
   ]
  },
  {
   "cell_type": "code",
   "execution_count": null,
   "id": "8a980f04",
   "metadata": {},
   "outputs": [],
   "source": [
    "target_layer = net.layer4[-1]\n",
    "cam = GradCAM(model=net, target_layer=target_layer, use_cuda=True)\n",
    "gb_model = GuidedBackpropReLUModel(model=net, use_cuda=True)"
   ]
  },
  {
   "cell_type": "code",
   "execution_count": null,
   "id": "8fc9d9f9",
   "metadata": {},
   "outputs": [],
   "source": [
    "for imgs, true_categories in val_loader:\n",
    "    imgs = imgs.to(device=device, dtype=torch.float32)\n",
    "    true_categories = true_categories.to(device=device, dtype=torch.long)\n",
    "    print(true_categories.view(8, 8))\n",
    "    label_list = []\n",
    "    cam_image_list = []\n",
    "    gb_list = []\n",
    "    cam_gb_list = []\n",
    "    for i, img in enumerate(imgs):\n",
    "        grayscale_cam = cam(img.unsqueeze(0), target_category=true_categories[i].item(),aug_smooth=True, eigen_smooth=True)\n",
    "        if true_categories[i].item() == 0:\n",
    "            label_list.append(torch.zeros(3,51,51,dtype=torch.uint8))\n",
    "        elif true_categories[i].item() == 1:\n",
    "            label_list.append(torch.ones(3,51,51,dtype=torch.uint8)*255)\n",
    "        grayscale_cam = grayscale_cam[0, :]\n",
    "        cam_image = show_cam_on_image(imgs[i].permute(1,2,0).cpu().numpy(), grayscale_cam, use_rgb=True)\n",
    "        cam_image_list.append(torch.from_numpy(cam_image).permute(2,0,1))\n",
    "        cam_image = cv2.cvtColor(cam_image, cv2.COLOR_RGB2BGR)\n",
    "        gb = gb_model(img.unsqueeze(0), target_category=true_categories[i].item())\n",
    "        cam_mask = cv2.merge([grayscale_cam, grayscale_cam, grayscale_cam])\n",
    "        cam_gb = cv2.cvtColor(deprocess_image(cam_mask * gb), cv2.COLOR_BGR2RGB)\n",
    "        gb = cv2.cvtColor(deprocess_image(gb), cv2.COLOR_BGR2RGB)\n",
    "        gb_list.append(torch.from_numpy(gb).permute(2,0,1))\n",
    "        cam_gb_list.append(torch.from_numpy(cam_gb).permute(2,0,1))\n",
    "    display(Image.fromarray((torchvision.utils.make_grid(imgs).permute(1,2,0).cpu().numpy()*255).astype(np.uint8)))\n",
    "    display(Image.fromarray(torchvision.utils.make_grid(torch.stack(label_list)).permute(1,2,0).numpy()))\n",
    "    display(Image.fromarray(torchvision.utils.make_grid(torch.stack(cam_image_list)).permute(1,2,0).numpy()))\n",
    "    display(Image.fromarray(torchvision.utils.make_grid(torch.stack(gb_list)).permute(1,2,0).numpy()))\n",
    "    display(Image.fromarray(torchvision.utils.make_grid(torch.stack(cam_gb_list)).permute(1,2,0).numpy()))\n",
    "    break"
   ]
  },
  {
   "cell_type": "code",
   "execution_count": null,
   "id": "aad92632",
   "metadata": {},
   "outputs": [],
   "source": []
  },
  {
   "cell_type": "code",
   "execution_count": null,
   "id": "097a5e18",
   "metadata": {
    "scrolled": true
   },
   "outputs": [],
   "source": [
    "for imgs, true_categories in val_loader:\n",
    "    imgs = imgs.to(device=device, dtype=torch.float32)\n",
    "    true_categories = true_categories.to(device=device, dtype=torch.long)\n",
    "    print(true_categories.view(8, 8))\n",
    "    grayscale_cams = cam(input_tensor=imgs, target_category=true_categories, aug_smooth=True, eigen_smooth=True)\n",
    "    visualization_list = []\n",
    "    for i, grayscale_cam in enumerate(grayscale_cams):\n",
    "        visualization = torch.from_numpy(show_cam_on_image(imgs[i].permute(1,2,0).cpu().numpy(), grayscale_cam)).permute(2,0,1)\n",
    "        visualization_list.append(visualization)\n",
    "    display(Image.fromarray(torchvision.utils.make_grid(torch.stack(visualization_list)).permute(1,2,0).numpy()))\n",
    "    display(Image.fromarray((torchvision.utils.make_grid(imgs).permute(1,2,0).cpu().numpy()*255).astype(np.uint8)))\n",
    "    break"
   ]
  },
  {
   "cell_type": "code",
   "execution_count": null,
   "id": "a9be9ca7",
   "metadata": {},
   "outputs": [],
   "source": [
    "for imgs, true_categories in val_loader:\n",
    "    imgs = imgs.to(device=device, dtype=torch.float32)\n",
    "    true_categories = true_categories.to(device=device, dtype=torch.long)\n",
    "    print(true_categories.view(16, 8))\n",
    "    cam_image_list = []\n",
    "    for i, img in enumerate(imgs):\n",
    "        grayscale_cam = cam(input_img=img.unsqueeze(0), target_category=true_categories[i].item())\n",
    "        cam_img = torch.from_numpy(show_cam_on_image(imgs[i].permute(1,2,0).cpu().numpy(), grayscale_cam)).permute(2,0,1)\n",
    "        visualization_list.append(visualization)\n",
    "    display(Image.fromarray(torchvision.utils.make_grid(torch.stack(visualization_list)).permute(1,2,0).numpy()))\n",
    "    display(Image.fromarray((torchvision.utils.make_grid(imgs).permute(1,2,0).cpu().numpy()*255).astype(np.uint8)))\n",
    "    break"
   ]
  },
  {
   "cell_type": "code",
   "execution_count": null,
   "id": "c97a817c",
   "metadata": {},
   "outputs": [],
   "source": []
  },
  {
   "cell_type": "code",
   "execution_count": null,
   "id": "df906e41",
   "metadata": {},
   "outputs": [],
   "source": [
    "ori_img = Image.open('/nfs3-p1/zsxm/dataset/aorta_classify_ct_-100_500/1/liuhongfu-J-57-200_j_0089.png')\n",
    "tensor_img = transform(ori_img).unsqueeze(0)\n",
    "tensor_label = torch.tensor([[1]], dtype=torch.long)\n",
    "print(tensor_img.shape, tensor_label.shape)"
   ]
  },
  {
   "cell_type": "code",
   "execution_count": null,
   "id": "32e7d4a3",
   "metadata": {},
   "outputs": [],
   "source": [
    "grayscale_cam = cam(input_img=tensor_img, target_category=1)\n",
    "grayscale_cam = grayscale_cam[0, :]"
   ]
  },
  {
   "cell_type": "code",
   "execution_count": null,
   "id": "a61621c2",
   "metadata": {},
   "outputs": [],
   "source": [
    "visualization = show_cam_on_image(tensor_img.squeeze(0).permute(1,2,0).numpy(), grayscale_cam)"
   ]
  },
  {
   "cell_type": "code",
   "execution_count": null,
   "id": "09c1eb3c",
   "metadata": {},
   "outputs": [],
   "source": [
    "display(Image.fromarray(visualization))"
   ]
  },
  {
   "cell_type": "code",
   "execution_count": null,
   "id": "bff699c9",
   "metadata": {},
   "outputs": [],
   "source": []
  },
  {
   "cell_type": "code",
   "execution_count": null,
   "id": "1ffbc7ed",
   "metadata": {},
   "outputs": [],
   "source": []
  },
  {
   "cell_type": "code",
   "execution_count": 4,
   "id": "c60c3fca",
   "metadata": {},
   "outputs": [
    {
     "name": "stdout",
     "output_type": "stream",
     "text": [
      "[INFO]: Creating dataset with 5680 examples\n"
     ]
    }
   ],
   "source": [
    "val = AortaDataset3D('/nfs3-p1/zsxm/dataset/aorta_classify_ct_-100_500/val/', depth=7, transform=transform, )\n",
    "val_loader = DataLoader(val, batch_size=64, shuffle=True, num_workers=8, pin_memory=True, drop_last=False)"
   ]
  },
  {
   "cell_type": "code",
   "execution_count": 6,
   "id": "4fb57b0e",
   "metadata": {},
   "outputs": [
    {
     "name": "stdout",
     "output_type": "stream",
     "text": [
      "**********n_channels:1\n",
      "[INFO]: **********************************************************************\n",
      "Network: ResNet\n",
      "\t1 input channels\n",
      "\t1 output channels (classes)\n",
      "\t3D model: True\n",
      "\n",
      "[INFO]: Model loaded from checkpoints/09-30_15:59:58/Net_best.pth\n"
     ]
    }
   ],
   "source": [
    "net = create_net(device, load_model='checkpoints/09-30_15:59:58/Net_best.pth', flag_3d=True)"
   ]
  },
  {
   "cell_type": "code",
   "execution_count": 8,
   "id": "9125e33c",
   "metadata": {},
   "outputs": [
    {
     "name": "stderr",
     "output_type": "stream",
     "text": [
      "                                                                    \r"
     ]
    },
    {
     "name": "stdout",
     "output_type": "stream",
     "text": [
      "[INFO]: \n",
      "              precision    recall  f1-score   support\n",
      "\n",
      "    negative       0.82      0.89      0.85      2417\n",
      "    positive       0.92      0.85      0.88      3263\n",
      "\n",
      "    accuracy                           0.87      5680\n",
      "   macro avg       0.87      0.87      0.87      5680\n",
      "weighted avg       0.87      0.87      0.87      5680\n",
      "\n"
     ]
    },
    {
     "data": {
      "image/png": "[encoded data removed]",
      "text/plain": [
       "<Figure size 432x288 with 1 Axes>"
      ]
     },
     "metadata": {
      "needs_background": "light"
     },
     "output_type": "display_data"
    }
   ],
   "source": [
    "val_score, val_loss, PR_curve_img = eval_net(net, val_loader, device, final=True, PR_curve_save_dir='checkpoints/09-30_15:59:58/')"
   ]
  },
  {
   "cell_type": "code",
   "execution_count": 9,
   "id": "a0ba37a1",
   "metadata": {},
   "outputs": [
    {
     "name": "stdout",
     "output_type": "stream",
     "text": [
      "0.9482191535566781 0.8474838951330507\n"
     ]
    }
   ],
   "source": [
    "print(val_score, val_loss)"
   ]
  },
  {
   "cell_type": "code",
   "execution_count": null,
   "id": "2219b19a",
   "metadata": {},
   "outputs": [],
   "source": [
    "img = Image.open('111.png')\n",
    "img = transform(img).unsqueeze(0).to(device=device)\n",
    "img.requires_grad_()\n",
    "net.zero_grad()\n",
    "pred_cate = net(img)\n",
    "print(f'pred_cate:{pred_cate.item()}')\n",
    "target = torch.tensor([[0]], dtype=torch.float32).to(device=device, dtype=torch.float32)\n",
    "loss = F.binary_cross_entropy_with_logits(pred_cate, target)\n",
    "print(f'loss:{loss.item()}')\n",
    "loss.backward()\n",
    "grad = img.grad.data.squeeze(0).permute(1, 2, 0).squeeze(2)"
   ]
  },
  {
   "cell_type": "code",
   "execution_count": null,
   "id": "5a7a4862",
   "metadata": {
    "scrolled": true
   },
   "outputs": [],
   "source": [
    "img_grad = torch.abs(grad)\n",
    "img_grad = (img_grad / img_grad.max() * 255).type(torch.uint8)\n",
    "img_grad = Image.fromarray(img_grad.cpu().numpy())\n",
    "display(img_grad)"
   ]
  },
  {
   "cell_type": "code",
   "execution_count": null,
   "id": "0fc98ed2",
   "metadata": {},
   "outputs": [],
   "source": [
    "input_path='/nfs3-p1/zsxm/dataset/aorta_classify/0/'\n",
    "error_0_list = []\n",
    "for f in os.listdir(input_path):\n",
    "    img = Image.open(os.path.join(input_path, f))\n",
    "    img = transform(img).unsqueeze(0).to(device=device)\n",
    "    with torch.no_grad():\n",
    "        pred_cate = net(img)\n",
    "        if pred_cate.item() > 0:\n",
    "            print(f)\n",
    "            error_0_list.append(f)\n",
    "            \n",
    "print(f'len of error 0:{len(error_0_list)}')"
   ]
  },
  {
   "cell_type": "code",
   "execution_count": null,
   "id": "bb7e19fc",
   "metadata": {},
   "outputs": [],
   "source": [
    "input_path='/nfs3-p1/zsxm/dataset/aorta_classify/1/'\n",
    "error_1_list = []\n",
    "for f in os.listdir(input_path):\n",
    "    img = Image.open(os.path.join(input_path, f))\n",
    "    img = transform(img).unsqueeze(0).to(device=device)\n",
    "    with torch.no_grad():\n",
    "        pred_cate = net(img)\n",
    "        if pred_cate.item() < 0:\n",
    "            print(f)\n",
    "            error_1_list.append(f)\n",
    "            \n",
    "print(f'len of error 1:{len(error_1_list)}')"
   ]
  },
  {
   "cell_type": "code",
   "execution_count": null,
   "id": "14661bf1",
   "metadata": {},
   "outputs": [],
   "source": []
  }
 ],
 "metadata": {
  "kernelspec": {
   "display_name": "Python 3",
   "language": "python",
   "name": "python3"
  },
  "language_info": {
   "codemirror_mode": {
    "name": "ipython",
    "version": 3
   },
   "file_extension": ".py",
   "mimetype": "text/x-python",
   "name": "python",
   "nbconvert_exporter": "python",
   "pygments_lexer": "ipython3",
   "version": "3.8.10"
  }
 },
 "nbformat": 4,
 "nbformat_minor": 5
}
