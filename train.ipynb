{
 "cells": [
  {
   "cell_type": "code",
   "execution_count": null,
   "id": "3aedfc0f",
   "metadata": {},
   "outputs": [],
   "source": [
    "import os\n",
    "import warnings\n",
    "\n",
    "import numpy as np\n",
    "from PIL import Image\n",
    "import torch\n",
    "import torch.nn.functional as F\n",
    "from torchvision import transforms as T\n",
    "from torchvision.datasets import ImageFolder\n",
    "from sklearn.model_selection import StratifiedShuffleSplit\n",
    "from torch.utils.data import DataLoader\n",
    "\n",
    "from train import create_net\n",
    "from utils.eval import eval_net\n",
    "\n",
    "warnings.filterwarnings(\"ignore\")\n",
    "np.random.seed(63910)\n",
    "torch.manual_seed(53152)\n",
    "torch.cuda.manual_seed_all(7987)\n",
    "torch.backends.cudnn.deterministic = True"
   ]
  },
  {
   "cell_type": "code",
   "execution_count": null,
   "id": "126d5809",
   "metadata": {},
   "outputs": [],
   "source": [
    "os.environ['CUDA_VISIBLE_DEVICES'] = '1'\n",
    "device = torch.device('cuda:0' if torch.cuda.is_available() else 'cpu')"
   ]
  },
  {
   "cell_type": "code",
   "execution_count": null,
   "id": "858f4dd8",
   "metadata": {},
   "outputs": [],
   "source": [
    "net = create_net(device, 1, 1, 'checkpoints/09-23_14:11:55/Net_best.pth')"
   ]
  },
  {
   "cell_type": "code",
   "execution_count": null,
   "id": "106c4542",
   "metadata": {},
   "outputs": [],
   "source": [
    "transform = T.Compose([\n",
    "    T.Resize(51), # 缩放图片(Image)，保持长宽比不变，最短边为img_size像素\n",
    "    T.CenterCrop(51), # 从图片中间切出img_size*img_size的图片\n",
    "    T.ToTensor(), # 将图片(Image)转成Tensor，归一化至[0, 1]\n",
    "    #T.Normalize(mean=[.5], std=[.5]) # 标准化至[-1, 1]，规定均值和标准差\n",
    "])"
   ]
  },
  {
   "cell_type": "code",
   "execution_count": null,
   "id": "3a4e508c",
   "metadata": {},
   "outputs": [],
   "source": [
    "dataset = ImageFolder('/nfs3-p1/zsxm/dataset/aorta_classify_ct_-100_500/', transform=transform, loader=lambda path: Image.open(path))\n",
    "ss = StratifiedShuffleSplit(n_splits=1, test_size=0.2, random_state=7888)\n",
    "labels = [dataset[i][1] for i in range(len(dataset))]\n",
    "train_idx, val_idx = list(ss.split(np.array(labels)[:,np.newaxis], labels))[0]\n",
    "train = torch.utils.data.Subset(dataset, train_idx)\n",
    "val = torch.utils.data.Subset(dataset, val_idx)\n",
    "n_train = len(train)\n",
    "n_val = len(val)\n",
    "train_loader = DataLoader(train, batch_size=512, shuffle=True, num_workers=8, pin_memory=True)\n",
    "val_loader = DataLoader(val, batch_size=512, shuffle=False, num_workers=8, pin_memory=True, drop_last=False)"
   ]
  },
  {
   "cell_type": "code",
   "execution_count": null,
   "id": "df906e41",
   "metadata": {},
   "outputs": [],
   "source": [
    "eval_net(net, val_loader, device, True, 'checkpoints/09-23_14:11:55/')"
   ]
  },
  {
   "cell_type": "code",
   "execution_count": null,
   "id": "32e7d4a3",
   "metadata": {},
   "outputs": [],
   "source": []
  },
  {
   "cell_type": "code",
   "execution_count": null,
   "id": "0a71450f",
   "metadata": {},
   "outputs": [],
   "source": []
  },
  {
   "cell_type": "code",
   "execution_count": null,
   "id": "27de3d30",
   "metadata": {},
   "outputs": [],
   "source": []
  },
  {
   "cell_type": "code",
   "execution_count": null,
   "id": "a61621c2",
   "metadata": {},
   "outputs": [],
   "source": []
  },
  {
   "cell_type": "code",
   "execution_count": null,
   "id": "09c1eb3c",
   "metadata": {},
   "outputs": [],
   "source": []
  },
  {
   "cell_type": "code",
   "execution_count": null,
   "id": "2219b19a",
   "metadata": {},
   "outputs": [],
   "source": [
    "img = Image.open('111.png')\n",
    "img = transform(img).unsqueeze(0).to(device=device)\n",
    "img.requires_grad_()\n",
    "net.zero_grad()\n",
    "pred_cate = net(img)\n",
    "print(f'pred_cate:{pred_cate.item()}')\n",
    "target = torch.tensor([[0]], dtype=torch.float32).to(device=device, dtype=torch.float32)\n",
    "loss = F.binary_cross_entropy_with_logits(pred_cate, target)\n",
    "print(f'loss:{loss.item()}')\n",
    "loss.backward()\n",
    "grad = img.grad.data.squeeze(0).permute(1, 2, 0).squeeze(2)"
   ]
  },
  {
   "cell_type": "code",
   "execution_count": null,
   "id": "5a7a4862",
   "metadata": {
    "scrolled": true
   },
   "outputs": [],
   "source": [
    "img_grad = torch.abs(grad)\n",
    "img_grad = (img_grad / img_grad.max() * 255).type(torch.uint8)\n",
    "img_grad = Image.fromarray(img_grad.cpu().numpy())\n",
    "display(img_grad)"
   ]
  },
  {
   "cell_type": "code",
   "execution_count": null,
   "id": "0fc98ed2",
   "metadata": {},
   "outputs": [],
   "source": [
    "input_path='/nfs3-p1/zsxm/dataset/aorta_classify/0/'\n",
    "error_0_list = []\n",
    "for f in os.listdir(input_path):\n",
    "    img = Image.open(os.path.join(input_path, f))\n",
    "    img = transform(img).unsqueeze(0).to(device=device)\n",
    "    with torch.no_grad():\n",
    "        pred_cate = net(img)\n",
    "        if pred_cate.item() > 0:\n",
    "            print(f)\n",
    "            error_0_list.append(f)\n",
    "            \n",
    "print(f'len of error 0:{len(error_0_list)}')"
   ]
  },
  {
   "cell_type": "code",
   "execution_count": null,
   "id": "bb7e19fc",
   "metadata": {},
   "outputs": [],
   "source": [
    "input_path='/nfs3-p1/zsxm/dataset/aorta_classify/1/'\n",
    "error_1_list = []\n",
    "for f in os.listdir(input_path):\n",
    "    img = Image.open(os.path.join(input_path, f))\n",
    "    img = transform(img).unsqueeze(0).to(device=device)\n",
    "    with torch.no_grad():\n",
    "        pred_cate = net(img)\n",
    "        if pred_cate.item() < 0:\n",
    "            print(f)\n",
    "            error_1_list.append(f)\n",
    "            \n",
    "print(f'len of error 1:{len(error_1_list)}')"
   ]
  },
  {
   "cell_type": "code",
   "execution_count": null,
   "id": "14661bf1",
   "metadata": {},
   "outputs": [],
   "source": []
  }
 ],
 "metadata": {
  "kernelspec": {
   "display_name": "Python 3",
   "language": "python",
   "name": "python3"
  },
  "language_info": {
   "codemirror_mode": {
    "name": "ipython",
    "version": 3
   },
   "file_extension": ".py",
   "mimetype": "text/x-python",
   "name": "python",
   "nbconvert_exporter": "python",
   "pygments_lexer": "ipython3",
   "version": "3.8.10"
  }
 },
 "nbformat": 4,
 "nbformat_minor": 5
}
