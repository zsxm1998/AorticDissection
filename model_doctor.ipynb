{
 "cells": [
  {
   "cell_type": "code",
   "execution_count": 1,
   "id": "a2c71f1c",
   "metadata": {},
   "outputs": [],
   "source": [
    "import os\n",
    "import shutil\n",
    "import warnings\n",
    "\n",
    "import cv2\n",
    "import matplotlib.pyplot as plt\n",
    "import seaborn as sns\n",
    "from tqdm import tqdm\n",
    "from PIL import Image\n",
    "import numpy as np\n",
    "import torch\n",
    "import torch.nn as nn\n",
    "import torch.nn.functional as F\n",
    "from torch.utils.data import DataLoader\n",
    "from torchvision.datasets import ImageFolder\n",
    "import torchvision.transforms as T\n",
    "\n",
    "from train import create_net\n",
    "\n",
    "warnings.filterwarnings(\"ignore\")\n",
    "np.random.seed(63910)\n",
    "torch.manual_seed(53152)\n",
    "torch.cuda.manual_seed_all(7987)\n",
    "torch.backends.cudnn.deterministic = True\n",
    "\n",
    "os.environ['CUDA_VISIBLE_DEVICES'] = '1'\n",
    "device = torch.device('cuda:0' if torch.cuda.is_available() else 'cpu')"
   ]
  },
  {
   "cell_type": "code",
   "execution_count": 2,
   "id": "720867ea",
   "metadata": {},
   "outputs": [],
   "source": [
    "n_channels, n_classes, batch_size = 1, 4, 128\n",
    "\n",
    "transform = T.Compose([\n",
    "    T.Resize(81), # 缩放图片(Image)，保持长宽比不变，最短边为img_size像素\n",
    "    T.CenterCrop(81), # 从图片中间切出img_size*img_size的图片\n",
    "    T.ToTensor(), # 将图片(Image)转成Tensor，归一化至[0, 1]\n",
    "])\n",
    "\n",
    "train = ImageFolder('/nfs3-p1/zsxm/dataset/aorta_classify_ct_-100_500/train/', transform=transform, loader=lambda path: Image.open(path))\n",
    "val = ImageFolder('/nfs3-p1/zsxm/dataset/aorta_classify_ct_-100_500/val/', transform=transform, loader=lambda path: Image.open(path))\n",
    "train_loader = DataLoader(train, batch_size=batch_size, shuffle=False, num_workers=8, pin_memory=True, drop_last=False)\n",
    "val_loader = DataLoader(val, batch_size=batch_size, shuffle=False, num_workers=8, pin_memory=True, drop_last=False)"
   ]
  },
  {
   "cell_type": "code",
   "execution_count": 3,
   "id": "a227950f",
   "metadata": {},
   "outputs": [
    {
     "name": "stdout",
     "output_type": "stream",
     "text": [
      "[INFO]: **********************************************************************\n",
      "Network: ResNet_34\n",
      "\t1 input channels\n",
      "\t4 output channels (classes)\n",
      "\t3D model: False\n",
      "\n",
      "[INFO]: Model loaded from /nfs3-p2/zsxm/temp_path/single81.pth\n",
      "\n"
     ]
    }
   ],
   "source": [
    "net = create_net(device, 'resnet', 34, n_channels, n_classes, '/nfs3-p2/zsxm/temp_path/single81.pth', entire=True)\n",
    "net.eval()\n",
    "print('')"
   ]
  },
  {
   "cell_type": "code",
   "execution_count": 11,
   "id": "e9fdc9d2",
   "metadata": {},
   "outputs": [],
   "source": [
    "class HookModule:\n",
    "    def __init__(self, model, module):\n",
    "        self.model = model\n",
    "        self.handle = module.register_forward_hook(self._get_output)\n",
    "        \n",
    "    def _get_output(self, module, inputs, outputs):\n",
    "        self.outputs = outputs\n",
    "    \n",
    "    def grads(self, outputs, retain_graph=True, create_graph=True):\n",
    "        grads = torch.autograd.grad(outputs=outputs, inputs=self.outputs, retain_graph=retain_graph, create_graph=create_graph)\n",
    "        self.model.zero_grad()\n",
    "        print(grads[0].shape)\n",
    "        return grads[0]\n",
    "    \n",
    "    def remove(self):\n",
    "        self.handle.remove()\n",
    "        \n",
    "hook = HookModule(net, net.encoder.layer2[3].conv2)"
   ]
  },
  {
   "cell_type": "code",
   "execution_count": 10,
   "id": "b7129adb",
   "metadata": {},
   "outputs": [],
   "source": [
    "hook.remove()"
   ]
  },
  {
   "cell_type": "code",
   "execution_count": 12,
   "id": "b514df5b",
   "metadata": {},
   "outputs": [],
   "source": [
    "def get_grads(dataset, dataloader, end=500, start=0):\n",
    "    idx = 0\n",
    "    score_list = [[] for _ in range(n_classes)]\n",
    "    err_list = [[] for _ in range(n_classes)]\n",
    "    for imgs, true_categories in tqdm(dataloader, total=len(dataloader), desc='Dataset', unit='batch', leave=False):\n",
    "        imgs = imgs.to(device=device, dtype=torch.float32)\n",
    "        true_categories = true_categories.to(device=device, dtype=torch.long)\n",
    "\n",
    "        with torch.no_grad():\n",
    "            categories_pred = torch.softmax(net(imgs), dim=1)\n",
    "            labels_pred = categories_pred.argmax(dim=1)\n",
    "            for i in range(len(true_categories)):\n",
    "                if labels_pred[i] == true_categories[i]:\n",
    "                    score_list[true_categories[i].item()].append((categories_pred[i, labels_pred[i]].item(), idx))\n",
    "                else:\n",
    "                    err_list[true_categories[i].item()].append(dataset.samples[idx][0])\n",
    "                idx += 1\n",
    "    \n",
    "    grad_list = []\n",
    "    mask_list = []\n",
    "    for i in range(n_classes):\n",
    "        print(len(score_list[i]))\n",
    "        score_list[i].sort(key=lambda x: x[0], reverse=True)\n",
    "        print(score_list[i][end-1])\n",
    "        idx_list = [score[1] for score in score_list[i][start: end]]\n",
    "        tensor_list = []\n",
    "        for idx in idx_list:\n",
    "            tensor_list.append(dataset[idx][0])\n",
    "        batch = torch.stack(tensor_list, dim=0)\n",
    "        pred = net(batch.to(device))\n",
    "        nll_loss = F.nll_loss(pred, (torch.ones(batch.size(0))*i).to(device, dtype=torch.long))\n",
    "        grads = hook.grads(-nll_loss, True, False)\n",
    "        nll_loss.backward()\n",
    "        grads = grads.abs().sum(dim=(2,3)).mean(dim=0)\n",
    "        print(grads.shape)\n",
    "        grad_list.append(grads.cpu().numpy())\n",
    "        mask = (grads>grads.mean()).long()\n",
    "        mask_list.append(mask.cpu().numpy())\n",
    "\n",
    "    grads = np.array(grad_list)\n",
    "    masks = np.array(mask_list)\n",
    "    return grads, masks, err_list"
   ]
  },
  {
   "cell_type": "code",
   "execution_count": 13,
   "id": "1672b604",
   "metadata": {},
   "outputs": [
    {
     "name": "stderr",
     "output_type": "stream",
     "text": [
      "                                                             \r"
     ]
    },
    {
     "name": "stdout",
     "output_type": "stream",
     "text": [
      "26689\n",
      "(0.9999996423721313, 22351)\n",
      "torch.Size([500, 128, 11, 11])\n",
      "torch.Size([128])\n",
      "20712\n",
      "(0.9999982118606567, 37824)\n",
      "torch.Size([500, 128, 11, 11])\n",
      "torch.Size([128])\n",
      "4514\n",
      "(0.9999916553497314, 51166)\n",
      "torch.Size([500, 128, 11, 11])\n",
      "torch.Size([128])\n",
      "3246\n",
      "(0.9998512268066406, 56383)\n",
      "torch.Size([500, 128, 11, 11])\n",
      "torch.Size([128])\n"
     ]
    }
   ],
   "source": [
    "grads, masks, err_list = get_grads(train, train_loader, 500)"
   ]
  },
  {
   "cell_type": "code",
   "execution_count": null,
   "id": "587d828a",
   "metadata": {},
   "outputs": [],
   "source": [
    "# for i in range(n_classes):\n",
    "#     print(len(err_list[i]))\n",
    "#     outpath = os.path.join('/nfs3-p2/zsxm/dataset/aorta_classify_ct_-100_500/err_imgs', str(i))\n",
    "#     os.makedirs(outpath, exist_ok=True)\n",
    "#     for img in err_list[i]:\n",
    "#         shutil.copy(img, os.path.join(outpath, img.split('/')[-1]))"
   ]
  },
  {
   "cell_type": "code",
   "execution_count": 14,
   "id": "746a9305",
   "metadata": {},
   "outputs": [
    {
     "name": "stdout",
     "output_type": "stream",
     "text": [
      "[[    0.51188    0.051642    0.064768     0.24658     0.26972     0.32489     0.34292     0.51941     0.25615     0.33755     0.21327     0.32179     0.27649     0.32828     0.25596     0.27295     0.31066     0.11385     0.64994      0.1108     0.31254    0.094197     0.25244    0.098726     0.30072     0.47182\n",
      "      0.44214     0.35758     0.26767     0.45769     0.28743     0.11422    0.078857           0     0.22315     0.58252     0.12814     0.59191     0.31268     0.29343     0.16035     0.40671     0.21575     0.54278     0.29053    0.061508     0.45633     0.57533     0.32785     0.13017     0.43127     0.33707\n",
      "      0.22378     0.15862     0.50374     0.68937     0.31372     0.55214     0.40776     0.27701     0.27786     0.28936     0.22173      0.3037     0.20605     0.23038     0.34086     0.06336     0.34274     0.29074     0.26535     0.33932     0.37113     0.51276     0.27659     0.24857     0.29298     0.16111\n",
      "     0.098326     0.43422     0.39841     0.35159      0.0788      0.3053     0.47971     0.35359     0.25191     0.15076     0.35743    0.046786     0.27619     0.18466     0.36151     0.26711     0.20284     0.21588     0.33712     0.23089     0.31287     0.24214     0.32006     0.24607     0.24135     0.47286\n",
      "      0.13314    0.082021     0.26713     0.41583     0.28446    0.088899     0.16307     0.15813     0.29482     0.26129     0.11574     0.25598      0.1919     0.12085     0.32193           1    0.027966     0.27754      0.3276      0.1727     0.50051    0.082884     0.38657       0.149]\n",
      " [     0.4463     0.14762      0.1303      0.1203     0.27183     0.34058     0.24449     0.38352     0.18784      0.3903     0.16658     0.47771     0.36969      0.4959     0.29689     0.32587     0.25218      0.2067     0.43134     0.11061     0.45632      0.1519     0.32461    0.091465      0.1958     0.39623\n",
      "      0.38369     0.29126     0.25083     0.32058     0.28553     0.20312      0.1065    0.074945     0.21312      0.5256    0.076712     0.79477     0.26638     0.25941     0.23024      0.3376     0.19345     0.29066     0.27557      0.1175      0.4254     0.36765     0.15166     0.16424     0.60568     0.28347\n",
      "       0.2763     0.14835     0.40368     0.48446     0.26022      0.4955     0.33439     0.24181     0.22268     0.22181     0.43306     0.38715     0.18573     0.32715     0.31001     0.13366     0.31117      0.2523     0.21907     0.21363     0.36153     0.56986     0.21885     0.24683     0.21708     0.19926\n",
      "      0.19808     0.30555     0.34116     0.32771     0.17838     0.34114     0.41983     0.30695     0.29665     0.17581      0.2786    0.071853     0.18443     0.74849     0.35774     0.35517     0.20731     0.21171     0.27723     0.19566     0.28446     0.19772     0.35342     0.13744     0.21357     0.53716\n",
      "       0.3275      0.1672      0.2132     0.37612     0.27649     0.19453     0.36031     0.29539     0.29048     0.21723     0.14916     0.28756     0.13058     0.14077     0.27986     0.94721     0.17372      0.2738     0.31461     0.21905     0.25291     0.14218     0.34614     0.14444]\n",
      " [    0.28942     0.10316     0.16143     0.21348     0.22985     0.30424     0.35058     0.57075     0.24615     0.35039     0.21856     0.35376     0.34474     0.37638     0.26309     0.29031     0.17003     0.13578     0.58749      0.1459     0.46895     0.20721     0.30866    0.097218     0.26704     0.50857\n",
      "      0.37583     0.45649     0.30318     0.40646     0.36635     0.19901     0.11523    0.053796     0.22451     0.61463     0.15685     0.64524     0.25579      0.1927     0.16445     0.41768     0.26108     0.42483     0.24586     0.13541     0.25302     0.57259     0.35775     0.12839     0.42938     0.47928\n",
      "      0.23281     0.16818     0.50694     0.68483     0.33119     0.61497     0.40602     0.17424     0.23834     0.31457     0.22769     0.23005     0.20771     0.37048     0.36128     0.11834     0.34384     0.30212     0.26295     0.28093     0.34689       0.717     0.25634     0.29806     0.24811     0.16379\n",
      "      0.29616     0.39658     0.36023     0.38029     0.16871     0.34287     0.50807     0.32276     0.32501     0.30788     0.46788    0.079122     0.24185     0.39307     0.35431     0.29876      0.1981     0.23457     0.25264     0.20962     0.29963     0.25707     0.37421     0.18635      0.2477     0.56443\n",
      "      0.36192     0.14664     0.26752     0.45987     0.25999     0.14827     0.23642     0.24809     0.33603     0.24947     0.10103     0.34451     0.15972    0.099354     0.30991     0.97028    0.083711     0.29397     0.40138     0.21539      0.4065     0.18252     0.40879     0.09424]\n",
      " [    0.10047    0.063663     0.26271     0.25122     0.14915     0.11404     0.25618     0.88491       0.288     0.12843      0.1146     0.31087     0.27567     0.29217     0.28137     0.22237    0.086409     0.13069     0.40284     0.18229     0.43735     0.20358     0.13778    0.043024     0.24802     0.36337\n",
      "      0.15087     0.25078     0.24446     0.29369     0.22233     0.19094     0.18965     0.10282      0.1219     0.31082    0.085021     0.60616     0.20398      0.1483     0.24033     0.20736     0.13036     0.18996     0.17149     0.17553    0.067304     0.27133     0.22344    0.052506     0.46083     0.32804\n",
      "      0.24217     0.05298     0.35099     0.79752     0.28307     0.37751     0.41415     0.20981     0.17229     0.19364      0.1861    0.071603     0.12675     0.11582     0.29212     0.18296     0.35878     0.12737     0.22436     0.17252     0.20658     0.38515     0.14761    0.078164     0.14876     0.25984\n",
      "      0.42943      0.5884     0.48847     0.40663     0.50899     0.13809     0.19711     0.23024      0.2867     0.25837     0.30395    0.066915     0.17456     0.31688     0.27133    0.090821    0.086966    0.072732     0.37382     0.17611     0.17193     0.12799     0.18712     0.27767    0.091955     0.53839\n",
      "      0.12919     0.14815     0.13871     0.23495     0.13567     0.34163     0.25469     0.17574     0.19247     0.17934     0.14876     0.21403     0.13158     0.21959     0.28055     0.52596     0.12918     0.17869     0.22553     0.19735     0.25778     0.13555     0.22262     0.14386]]\n"
     ]
    },
    {
     "data": {
      "image/png": "[encoded data removed]",
      "text/plain": [
       "<Figure size 2160x360 with 2 Axes>"
      ]
     },
     "metadata": {
      "needs_background": "light"
     },
     "output_type": "display_data"
    }
   ],
   "source": [
    "hm = grads - np.min(grads)\n",
    "hm = hm / np.max(hm)\n",
    "print(hm)\n",
    "\n",
    "def view_grads(grads, fig_w, fig_h, fig_path='./heatmap.png'):\n",
    "    f, ax = plt.subplots(figsize=(fig_w, fig_h), ncols=1)\n",
    "    ax.set_xlabel('convolutional kernel')\n",
    "    ax.set_ylabel('category')\n",
    "    sns.heatmap(grads, annot=False, ax=ax)\n",
    "    plt.savefig(fig_path, bbox_inches='tight')\n",
    "    plt.show()\n",
    "    #plt.clf()\n",
    "    \n",
    "view_grads(hm, 30, 5)"
   ]
  },
  {
   "cell_type": "code",
   "execution_count": 15,
   "id": "a0fde2c9",
   "metadata": {},
   "outputs": [
    {
     "data": {
      "image/png": "[encoded data removed]",
      "text/plain": [
       "<Figure size 2160x360 with 2 Axes>"
      ]
     },
     "metadata": {
      "needs_background": "light"
     },
     "output_type": "display_data"
    }
   ],
   "source": [
    "view_grads(masks, 30, 5)"
   ]
  },
  {
   "cell_type": "code",
   "execution_count": 16,
   "id": "c874cc11",
   "metadata": {},
   "outputs": [],
   "source": [
    "np.save('/nfs3-p2/zsxm/temp_path/layer2_conv2.npy', masks)"
   ]
  },
  {
   "cell_type": "code",
   "execution_count": null,
   "id": "5e9d3026",
   "metadata": {},
   "outputs": [],
   "source": []
  },
  {
   "cell_type": "code",
   "execution_count": null,
   "id": "d555ce0c",
   "metadata": {},
   "outputs": [],
   "source": []
  },
  {
   "cell_type": "code",
   "execution_count": null,
   "id": "f0e4475a",
   "metadata": {},
   "outputs": [],
   "source": []
  },
  {
   "cell_type": "code",
   "execution_count": null,
   "id": "e4424ef5",
   "metadata": {},
   "outputs": [],
   "source": []
  },
  {
   "cell_type": "code",
   "execution_count": null,
   "id": "2ac33578",
   "metadata": {},
   "outputs": [],
   "source": [
    "class AdNoise:\n",
    "    def __init__(self, model, module):\n",
    "        self.model = model\n",
    "        self.handle = module.register_forward_hook(self._get_output)\n",
    "        \n",
    "    def _get_output(self, module, inputs, outputs):\n",
    "        self.outputs = outputs\n",
    "        outputs += torch.randn(outputs.shape).to(outputs.device)\n",
    "    \n",
    "    def grads(self, outputs, retain_graph=True, create_graph=True):\n",
    "        grads = torch.autograd.grad(outputs=outputs, inputs=self.outputs, retain_graph=retain_graph, create_graph=create_graph)\n",
    "        self.model.zero_grad()\n",
    "        return grads[0]\n",
    "    \n",
    "    def remove(self):\n",
    "        self.handle.remove()\n",
    "        \n",
    "class Mul2:\n",
    "    def __init__(self, model, module):\n",
    "        self.model = model\n",
    "        self.handle = module.register_forward_hook(self._get_output)\n",
    "        \n",
    "    def _get_output(self, module, inputs, outputs):\n",
    "        self.outputs = outputs\n",
    "        outputs *= 2\n",
    "    \n",
    "    def grads(self, outputs, retain_graph=True, create_graph=True):\n",
    "        grads = torch.autograd.grad(outputs=outputs, inputs=self.outputs, retain_graph=retain_graph, create_graph=create_graph)\n",
    "        self.model.zero_grad()\n",
    "        return grads[0]\n",
    "    \n",
    "    def remove(self):\n",
    "        self.handle.remove()"
   ]
  },
  {
   "cell_type": "code",
   "execution_count": null,
   "id": "daaca03e",
   "metadata": {},
   "outputs": [],
   "source": [
    "class Test(nn.Module):\n",
    "    def __init__(self):\n",
    "        super().__init__()\n",
    "        self.conv1 = nn.Conv2d(3, 10, 3)\n",
    "        self.conv2 = nn.Conv2d(10, 1, 3)\n",
    "        nn.init.constant_(self.conv1.weight, 1)\n",
    "        nn.init.constant_(self.conv1.weight, 0)\n",
    "        \n",
    "    def forward(self, x):\n",
    "        x = self.conv1(x)\n",
    "        x = torch.exp(x)\n",
    "        x = self.conv2(x)\n",
    "        return x\n",
    "    \n",
    "test = Test()"
   ]
  },
  {
   "cell_type": "code",
   "execution_count": null,
   "id": "61be5db2",
   "metadata": {},
   "outputs": [],
   "source": [
    "h2 = Mul2(test, test.conv1)"
   ]
  },
  {
   "cell_type": "code",
   "execution_count": null,
   "id": "2f60a4f2",
   "metadata": {},
   "outputs": [],
   "source": [
    "h2.remove()"
   ]
  },
  {
   "cell_type": "code",
   "execution_count": null,
   "id": "58d18b3a",
   "metadata": {},
   "outputs": [],
   "source": [
    "hn = AdNoise(test, test.conv1)"
   ]
  },
  {
   "cell_type": "code",
   "execution_count": null,
   "id": "bde72e8f",
   "metadata": {},
   "outputs": [],
   "source": [
    "hn.remove()"
   ]
  },
  {
   "cell_type": "code",
   "execution_count": null,
   "id": "cd19cb22",
   "metadata": {},
   "outputs": [],
   "source": [
    "a = torch.ones(2,3,6,6)\n",
    "res = test(a)\n",
    "ressum = res.sum()\n",
    "print(res)\n",
    "print(ressum)"
   ]
  },
  {
   "cell_type": "code",
   "execution_count": null,
   "id": "95dcbc7a",
   "metadata": {
    "scrolled": true
   },
   "outputs": [],
   "source": [
    "print(h2.outputs)\n",
    "print(h2.grads(ressum))"
   ]
  },
  {
   "cell_type": "code",
   "execution_count": null,
   "id": "b75eeb14",
   "metadata": {
    "scrolled": true
   },
   "outputs": [],
   "source": [
    "print(h2.outputs)\n",
    "print(h2.grads(ressum))"
   ]
  },
  {
   "cell_type": "code",
   "execution_count": null,
   "id": "4dec6c00",
   "metadata": {},
   "outputs": [],
   "source": [
    "print(hn.outputs)\n",
    "print(hn.grads(ressum))"
   ]
  },
  {
   "cell_type": "code",
   "execution_count": null,
   "id": "17e807ff",
   "metadata": {},
   "outputs": [],
   "source": [
    "t = torch.ones(2,2)\n",
    "print(id(t))"
   ]
  },
  {
   "cell_type": "code",
   "execution_count": null,
   "id": "6aa45b07",
   "metadata": {},
   "outputs": [],
   "source": [
    "t += 1\n",
    "print(id(t))"
   ]
  },
  {
   "cell_type": "code",
   "execution_count": null,
   "id": "2a051441",
   "metadata": {},
   "outputs": [],
   "source": [
    "t = t+1\n",
    "print(id(t))"
   ]
  },
  {
   "cell_type": "code",
   "execution_count": null,
   "id": "e51f2db1",
   "metadata": {},
   "outputs": [],
   "source": [
    "a = 1\n",
    "b = a\n",
    "print(id(a), id(b))"
   ]
  },
  {
   "cell_type": "code",
   "execution_count": null,
   "id": "de26836c",
   "metadata": {},
   "outputs": [],
   "source": [
    "def bad_append(new_item, a_list=[]):\n",
    " \n",
    "    a_list.append(new_item)\n",
    " \n",
    "    return a_list"
   ]
  },
  {
   "cell_type": "code",
   "execution_count": null,
   "id": "dda63d43",
   "metadata": {},
   "outputs": [],
   "source": [
    "print(bad_append(1))"
   ]
  },
  {
   "cell_type": "code",
   "execution_count": null,
   "id": "121d1abe",
   "metadata": {},
   "outputs": [],
   "source": [
    "a = (1,2)\n",
    "a[0] = 3"
   ]
  },
  {
   "cell_type": "code",
   "execution_count": null,
   "id": "88a3334d",
   "metadata": {},
   "outputs": [],
   "source": [
    "class Test():\n",
    "    a = None\n",
    "    \n",
    "def fun(x):\n",
    "    x = Test()\n",
    "    x.a = 7"
   ]
  },
  {
   "cell_type": "code",
   "execution_count": null,
   "id": "811476e8",
   "metadata": {},
   "outputs": [],
   "source": [
    "t, k = Test(), Test()\n",
    "t.a = 1\n",
    "k.a = 2\n",
    "p = t\n",
    "print(p.a, t.a, k.a)\n",
    "print(id(p), id(t), id(k))\n",
    "p = k\n",
    "print(p.a, t.a, k.a)\n",
    "print(id(p), id(t), id(k))"
   ]
  },
  {
   "cell_type": "code",
   "execution_count": null,
   "id": "8aa4e7c2",
   "metadata": {},
   "outputs": [],
   "source": []
  }
 ],
 "metadata": {
  "kernelspec": {
   "display_name": "Python 3",
   "language": "python",
   "name": "python3"
  },
  "language_info": {
   "codemirror_mode": {
    "name": "ipython",
    "version": 3
   },
   "file_extension": ".py",
   "mimetype": "text/x-python",
   "name": "python",
   "nbconvert_exporter": "python",
   "pygments_lexer": "ipython3",
   "version": "3.8.10"
  }
 },
 "nbformat": 4,
 "nbformat_minor": 5
}
