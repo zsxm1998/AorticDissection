{
 "cells": [
  {
   "cell_type": "code",
   "execution_count": 1,
   "id": "be6e1342",
   "metadata": {},
   "outputs": [],
   "source": [
    "from math import sqrt\n",
    "import copy\n",
    "import  traceback\n",
    "import shutil\n",
    "import random\n",
    "\n",
    "import numpy as np  # linear algebra\n",
    "import pydicom\n",
    "import os\n",
    "import matplotlib.pyplot as plt\n",
    "import cv2\n",
    "from pydicom.uid import UID\n",
    "from PIL import Image\n",
    "from tqdm import tqdm"
   ]
  },
  {
   "cell_type": "code",
   "execution_count": 5,
   "id": "56a7f6bf",
   "metadata": {},
   "outputs": [],
   "source": [
    "def load_scan(path):\n",
    "    slices = [] #slices = [pydicom.dcmread(path + '/' + s) for s in filter(lambda x: x.endswith('.dcm'), os.listdir(path))]\n",
    "    for s in os.listdir(path):\n",
    "        if not s.endswith('.dcm'):\n",
    "            continue\n",
    "        sl = pydicom.dcmread(os.path.join(path, s))\n",
    "        try:\n",
    "            sl_p = sl.pixel_array\n",
    "        except AttributeError:\n",
    "            traceback.print_exc()\n",
    "            print(f'\\tDelete {os.path.join(path, s)}')\n",
    "            os.remove(os.path.join(path, s))\n",
    "        else:\n",
    "            slices.append(sl)\n",
    "    slices.sort(key=lambda x: float(x.InstanceNumber))\n",
    "    return slices"
   ]
  },
  {
   "cell_type": "code",
   "execution_count": 3,
   "id": "fe13ec63",
   "metadata": {},
   "outputs": [],
   "source": [
    "lower_b, upper_b = -100, 500"
   ]
  },
  {
   "cell_type": "markdown",
   "id": "840077c9",
   "metadata": {},
   "source": [
    "## 1.阳性数据"
   ]
  },
  {
   "cell_type": "code",
   "execution_count": 6,
   "id": "aaf5ad23",
   "metadata": {
    "scrolled": true
   },
   "outputs": [
    {
     "name": "stdout",
     "output_type": "stream",
     "text": [
      "****Processing baoguizhi****\n",
      "****Processing caicunyuan****\n",
      "****Processing changyifan****\n",
      "****Processing chenfengxian****\n",
      "****Processing chengrenhua****\n",
      "****Processing chenguoming-28-38-60-144****\n",
      "****Processing chenjinfu****\n"
     ]
    },
    {
     "name": "stderr",
     "output_type": "stream",
     "text": [
      "Traceback (most recent call last):\n",
      "  File \"/tmp/ipykernel_95112/486662372.py\", line 8, in load_scan\n",
      "    sl_p = sl.pixel_array\n",
      "  File \"/disk1/zsxm/miniconda3/envs/pytorch/lib/python3.8/site-packages/pydicom/dataset.py\", line 836, in __getattr__\n",
      "    return object.__getattribute__(self, name)\n",
      "  File \"/disk1/zsxm/miniconda3/envs/pytorch/lib/python3.8/site-packages/pydicom/dataset.py\", line 1882, in pixel_array\n",
      "    self.convert_pixel_data()\n",
      "  File \"/disk1/zsxm/miniconda3/envs/pytorch/lib/python3.8/site-packages/pydicom/dataset.py\", line 1444, in convert_pixel_data\n",
      "    self._convert_pixel_data_without_handler()\n",
      "  File \"/disk1/zsxm/miniconda3/envs/pytorch/lib/python3.8/site-packages/pydicom/dataset.py\", line 1556, in _convert_pixel_data_without_handler\n",
      "    raise last_exception  # type: ignore[misc]\n",
      "  File \"/disk1/zsxm/miniconda3/envs/pytorch/lib/python3.8/site-packages/pydicom/dataset.py\", line 1536, in _convert_pixel_data_without_handler\n",
      "    self._do_pixel_data_conversion(handler)\n",
      "  File \"/disk1/zsxm/miniconda3/envs/pytorch/lib/python3.8/site-packages/pydicom/dataset.py\", line 1563, in _do_pixel_data_conversion\n",
      "    arr = handler.get_pixeldata(self)\n",
      "  File \"/disk1/zsxm/miniconda3/envs/pytorch/lib/python3.8/site-packages/pydicom/pixel_data_handlers/numpy_handler.py\", line 283, in get_pixeldata\n",
      "    raise AttributeError(\n",
      "AttributeError: Unable to convert the pixel data: one of Pixel Data, Float Pixel Data or Double Float Pixel Data must be present in the dataset\n"
     ]
    },
    {
     "name": "stdout",
     "output_type": "stream",
     "text": [
      "\tDelete /nfs3-p1/zsxm/dataset/2021-10-19-aa/chenjinfu/1/1-00C1.dcm\n",
      "****Processing chenjufang****\n",
      "****Processing chenjunliang-27-37-58-147****\n",
      "****Processing chenlingdi****\n"
     ]
    },
    {
     "name": "stderr",
     "output_type": "stream",
     "text": [
      "Traceback (most recent call last):\n",
      "  File \"/tmp/ipykernel_95112/486662372.py\", line 8, in load_scan\n",
      "    sl_p = sl.pixel_array\n",
      "  File \"/disk1/zsxm/miniconda3/envs/pytorch/lib/python3.8/site-packages/pydicom/dataset.py\", line 836, in __getattr__\n",
      "    return object.__getattribute__(self, name)\n",
      "  File \"/disk1/zsxm/miniconda3/envs/pytorch/lib/python3.8/site-packages/pydicom/dataset.py\", line 1882, in pixel_array\n",
      "    self.convert_pixel_data()\n",
      "  File \"/disk1/zsxm/miniconda3/envs/pytorch/lib/python3.8/site-packages/pydicom/dataset.py\", line 1444, in convert_pixel_data\n",
      "    self._convert_pixel_data_without_handler()\n",
      "  File \"/disk1/zsxm/miniconda3/envs/pytorch/lib/python3.8/site-packages/pydicom/dataset.py\", line 1556, in _convert_pixel_data_without_handler\n",
      "    raise last_exception  # type: ignore[misc]\n",
      "  File \"/disk1/zsxm/miniconda3/envs/pytorch/lib/python3.8/site-packages/pydicom/dataset.py\", line 1536, in _convert_pixel_data_without_handler\n",
      "    self._do_pixel_data_conversion(handler)\n",
      "  File \"/disk1/zsxm/miniconda3/envs/pytorch/lib/python3.8/site-packages/pydicom/dataset.py\", line 1563, in _do_pixel_data_conversion\n",
      "    arr = handler.get_pixeldata(self)\n",
      "  File \"/disk1/zsxm/miniconda3/envs/pytorch/lib/python3.8/site-packages/pydicom/pixel_data_handlers/numpy_handler.py\", line 283, in get_pixeldata\n",
      "    raise AttributeError(\n",
      "AttributeError: Unable to convert the pixel data: one of Pixel Data, Float Pixel Data or Double Float Pixel Data must be present in the dataset\n"
     ]
    },
    {
     "name": "stdout",
     "output_type": "stream",
     "text": [
      "\tDelete /nfs3-p1/zsxm/dataset/2021-10-19-aa/chenlingdi/1/1-00C7.dcm\n",
      "****Processing chenweiming-29-39-59-150****\n",
      "****Processing chenyegen****\n",
      "****Processing chuxingnan****\n",
      "****Processing cuiruxing****\n",
      "****Processing dingbilian-33-44-59-135****\n",
      "****Processing dujiang****\n",
      "****Processing fanghonghong****\n",
      "****Processing fubaoheng****\n",
      "****Processing fuyingliang****\n"
     ]
    },
    {
     "name": "stderr",
     "output_type": "stream",
     "text": [
      "Traceback (most recent call last):\n",
      "  File \"/tmp/ipykernel_95112/486662372.py\", line 8, in load_scan\n",
      "    sl_p = sl.pixel_array\n",
      "  File \"/disk1/zsxm/miniconda3/envs/pytorch/lib/python3.8/site-packages/pydicom/dataset.py\", line 836, in __getattr__\n",
      "    return object.__getattribute__(self, name)\n",
      "  File \"/disk1/zsxm/miniconda3/envs/pytorch/lib/python3.8/site-packages/pydicom/dataset.py\", line 1882, in pixel_array\n",
      "    self.convert_pixel_data()\n",
      "  File \"/disk1/zsxm/miniconda3/envs/pytorch/lib/python3.8/site-packages/pydicom/dataset.py\", line 1444, in convert_pixel_data\n",
      "    self._convert_pixel_data_without_handler()\n",
      "  File \"/disk1/zsxm/miniconda3/envs/pytorch/lib/python3.8/site-packages/pydicom/dataset.py\", line 1556, in _convert_pixel_data_without_handler\n",
      "    raise last_exception  # type: ignore[misc]\n",
      "  File \"/disk1/zsxm/miniconda3/envs/pytorch/lib/python3.8/site-packages/pydicom/dataset.py\", line 1536, in _convert_pixel_data_without_handler\n",
      "    self._do_pixel_data_conversion(handler)\n",
      "  File \"/disk1/zsxm/miniconda3/envs/pytorch/lib/python3.8/site-packages/pydicom/dataset.py\", line 1563, in _do_pixel_data_conversion\n",
      "    arr = handler.get_pixeldata(self)\n",
      "  File \"/disk1/zsxm/miniconda3/envs/pytorch/lib/python3.8/site-packages/pydicom/pixel_data_handlers/numpy_handler.py\", line 283, in get_pixeldata\n",
      "    raise AttributeError(\n",
      "AttributeError: Unable to convert the pixel data: one of Pixel Data, Float Pixel Data or Double Float Pixel Data must be present in the dataset\n"
     ]
    },
    {
     "name": "stdout",
     "output_type": "stream",
     "text": [
      "\tDelete /nfs3-p1/zsxm/dataset/2021-10-19-aa/fuyingliang/1/1-00D6.dcm\n",
      "****Processing gancaiping****\n",
      "****Processing guoguican-13-19-30-78****\n"
     ]
    },
    {
     "name": "stderr",
     "output_type": "stream",
     "text": [
      "Traceback (most recent call last):\n",
      "  File \"/tmp/ipykernel_95112/486662372.py\", line 8, in load_scan\n",
      "    sl_p = sl.pixel_array\n",
      "  File \"/disk1/zsxm/miniconda3/envs/pytorch/lib/python3.8/site-packages/pydicom/dataset.py\", line 836, in __getattr__\n",
      "    return object.__getattribute__(self, name)\n",
      "  File \"/disk1/zsxm/miniconda3/envs/pytorch/lib/python3.8/site-packages/pydicom/dataset.py\", line 1882, in pixel_array\n",
      "    self.convert_pixel_data()\n",
      "  File \"/disk1/zsxm/miniconda3/envs/pytorch/lib/python3.8/site-packages/pydicom/dataset.py\", line 1444, in convert_pixel_data\n",
      "    self._convert_pixel_data_without_handler()\n",
      "  File \"/disk1/zsxm/miniconda3/envs/pytorch/lib/python3.8/site-packages/pydicom/dataset.py\", line 1556, in _convert_pixel_data_without_handler\n",
      "    raise last_exception  # type: ignore[misc]\n",
      "  File \"/disk1/zsxm/miniconda3/envs/pytorch/lib/python3.8/site-packages/pydicom/dataset.py\", line 1536, in _convert_pixel_data_without_handler\n",
      "    self._do_pixel_data_conversion(handler)\n",
      "  File \"/disk1/zsxm/miniconda3/envs/pytorch/lib/python3.8/site-packages/pydicom/dataset.py\", line 1563, in _do_pixel_data_conversion\n",
      "    arr = handler.get_pixeldata(self)\n",
      "  File \"/disk1/zsxm/miniconda3/envs/pytorch/lib/python3.8/site-packages/pydicom/pixel_data_handlers/numpy_handler.py\", line 283, in get_pixeldata\n",
      "    raise AttributeError(\n",
      "AttributeError: Unable to convert the pixel data: one of Pixel Data, Float Pixel Data or Double Float Pixel Data must be present in the dataset\n"
     ]
    },
    {
     "name": "stdout",
     "output_type": "stream",
     "text": [
      "\tDelete /nfs3-p1/zsxm/dataset/2021-10-19-aa/guoguican-13-19-30-78/1/1-0075.dcm\n",
      "****Processing guronghua-14-21-33-85****\n",
      "****Processing gushiheng****\n",
      "****Processing guxinmei****\n",
      "****Processing helvtang****\n",
      "****Processing heziquan****\n"
     ]
    },
    {
     "name": "stderr",
     "output_type": "stream",
     "text": [
      "Traceback (most recent call last):\n",
      "  File \"/tmp/ipykernel_95112/486662372.py\", line 8, in load_scan\n",
      "    sl_p = sl.pixel_array\n",
      "  File \"/disk1/zsxm/miniconda3/envs/pytorch/lib/python3.8/site-packages/pydicom/dataset.py\", line 836, in __getattr__\n",
      "    return object.__getattribute__(self, name)\n",
      "  File \"/disk1/zsxm/miniconda3/envs/pytorch/lib/python3.8/site-packages/pydicom/dataset.py\", line 1882, in pixel_array\n",
      "    self.convert_pixel_data()\n",
      "  File \"/disk1/zsxm/miniconda3/envs/pytorch/lib/python3.8/site-packages/pydicom/dataset.py\", line 1444, in convert_pixel_data\n",
      "    self._convert_pixel_data_without_handler()\n",
      "  File \"/disk1/zsxm/miniconda3/envs/pytorch/lib/python3.8/site-packages/pydicom/dataset.py\", line 1556, in _convert_pixel_data_without_handler\n",
      "    raise last_exception  # type: ignore[misc]\n",
      "  File \"/disk1/zsxm/miniconda3/envs/pytorch/lib/python3.8/site-packages/pydicom/dataset.py\", line 1536, in _convert_pixel_data_without_handler\n",
      "    self._do_pixel_data_conversion(handler)\n",
      "  File \"/disk1/zsxm/miniconda3/envs/pytorch/lib/python3.8/site-packages/pydicom/dataset.py\", line 1563, in _do_pixel_data_conversion\n",
      "    arr = handler.get_pixeldata(self)\n",
      "  File \"/disk1/zsxm/miniconda3/envs/pytorch/lib/python3.8/site-packages/pydicom/pixel_data_handlers/numpy_handler.py\", line 283, in get_pixeldata\n",
      "    raise AttributeError(\n",
      "AttributeError: Unable to convert the pixel data: one of Pixel Data, Float Pixel Data or Double Float Pixel Data must be present in the dataset\n"
     ]
    },
    {
     "name": "stdout",
     "output_type": "stream",
     "text": [
      "\tDelete /nfs3-p1/zsxm/dataset/2021-10-19-aa/heziquan/1/1-00BB.dcm\n",
      "****Processing hongshuirong****\n"
     ]
    },
    {
     "name": "stderr",
     "output_type": "stream",
     "text": [
      "Traceback (most recent call last):\n",
      "  File \"/tmp/ipykernel_95112/486662372.py\", line 8, in load_scan\n",
      "    sl_p = sl.pixel_array\n",
      "  File \"/disk1/zsxm/miniconda3/envs/pytorch/lib/python3.8/site-packages/pydicom/dataset.py\", line 836, in __getattr__\n",
      "    return object.__getattribute__(self, name)\n",
      "  File \"/disk1/zsxm/miniconda3/envs/pytorch/lib/python3.8/site-packages/pydicom/dataset.py\", line 1882, in pixel_array\n",
      "    self.convert_pixel_data()\n",
      "  File \"/disk1/zsxm/miniconda3/envs/pytorch/lib/python3.8/site-packages/pydicom/dataset.py\", line 1444, in convert_pixel_data\n",
      "    self._convert_pixel_data_without_handler()\n",
      "  File \"/disk1/zsxm/miniconda3/envs/pytorch/lib/python3.8/site-packages/pydicom/dataset.py\", line 1556, in _convert_pixel_data_without_handler\n",
      "    raise last_exception  # type: ignore[misc]\n",
      "  File \"/disk1/zsxm/miniconda3/envs/pytorch/lib/python3.8/site-packages/pydicom/dataset.py\", line 1536, in _convert_pixel_data_without_handler\n",
      "    self._do_pixel_data_conversion(handler)\n",
      "  File \"/disk1/zsxm/miniconda3/envs/pytorch/lib/python3.8/site-packages/pydicom/dataset.py\", line 1563, in _do_pixel_data_conversion\n",
      "    arr = handler.get_pixeldata(self)\n",
      "  File \"/disk1/zsxm/miniconda3/envs/pytorch/lib/python3.8/site-packages/pydicom/pixel_data_handlers/numpy_handler.py\", line 283, in get_pixeldata\n",
      "    raise AttributeError(\n",
      "AttributeError: Unable to convert the pixel data: one of Pixel Data, Float Pixel Data or Double Float Pixel Data must be present in the dataset\n"
     ]
    },
    {
     "name": "stdout",
     "output_type": "stream",
     "text": [
      "\tDelete /nfs3-p1/zsxm/dataset/2021-10-19-aa/hongshuirong/1/1-00B4.dcm\n",
      "****Processing huangfujuan****\n"
     ]
    },
    {
     "name": "stderr",
     "output_type": "stream",
     "text": [
      "Traceback (most recent call last):\n",
      "  File \"/tmp/ipykernel_95112/486662372.py\", line 8, in load_scan\n",
      "    sl_p = sl.pixel_array\n",
      "  File \"/disk1/zsxm/miniconda3/envs/pytorch/lib/python3.8/site-packages/pydicom/dataset.py\", line 836, in __getattr__\n",
      "    return object.__getattribute__(self, name)\n",
      "  File \"/disk1/zsxm/miniconda3/envs/pytorch/lib/python3.8/site-packages/pydicom/dataset.py\", line 1882, in pixel_array\n",
      "    self.convert_pixel_data()\n",
      "  File \"/disk1/zsxm/miniconda3/envs/pytorch/lib/python3.8/site-packages/pydicom/dataset.py\", line 1444, in convert_pixel_data\n",
      "    self._convert_pixel_data_without_handler()\n",
      "  File \"/disk1/zsxm/miniconda3/envs/pytorch/lib/python3.8/site-packages/pydicom/dataset.py\", line 1556, in _convert_pixel_data_without_handler\n",
      "    raise last_exception  # type: ignore[misc]\n",
      "  File \"/disk1/zsxm/miniconda3/envs/pytorch/lib/python3.8/site-packages/pydicom/dataset.py\", line 1536, in _convert_pixel_data_without_handler\n",
      "    self._do_pixel_data_conversion(handler)\n",
      "  File \"/disk1/zsxm/miniconda3/envs/pytorch/lib/python3.8/site-packages/pydicom/dataset.py\", line 1563, in _do_pixel_data_conversion\n",
      "    arr = handler.get_pixeldata(self)\n",
      "  File \"/disk1/zsxm/miniconda3/envs/pytorch/lib/python3.8/site-packages/pydicom/pixel_data_handlers/numpy_handler.py\", line 283, in get_pixeldata\n",
      "    raise AttributeError(\n",
      "AttributeError: Unable to convert the pixel data: one of Pixel Data, Float Pixel Data or Double Float Pixel Data must be present in the dataset\n"
     ]
    },
    {
     "name": "stdout",
     "output_type": "stream",
     "text": [
      "\tDelete /nfs3-p1/zsxm/dataset/2021-10-19-aa/huangfujuan/1/1-0107.dcm\n",
      "****Processing huangxiaogen****\n"
     ]
    },
    {
     "name": "stderr",
     "output_type": "stream",
     "text": [
      "Traceback (most recent call last):\n",
      "  File \"/tmp/ipykernel_95112/486662372.py\", line 8, in load_scan\n",
      "    sl_p = sl.pixel_array\n",
      "  File \"/disk1/zsxm/miniconda3/envs/pytorch/lib/python3.8/site-packages/pydicom/dataset.py\", line 836, in __getattr__\n",
      "    return object.__getattribute__(self, name)\n",
      "  File \"/disk1/zsxm/miniconda3/envs/pytorch/lib/python3.8/site-packages/pydicom/dataset.py\", line 1882, in pixel_array\n",
      "    self.convert_pixel_data()\n",
      "  File \"/disk1/zsxm/miniconda3/envs/pytorch/lib/python3.8/site-packages/pydicom/dataset.py\", line 1444, in convert_pixel_data\n",
      "    self._convert_pixel_data_without_handler()\n",
      "  File \"/disk1/zsxm/miniconda3/envs/pytorch/lib/python3.8/site-packages/pydicom/dataset.py\", line 1556, in _convert_pixel_data_without_handler\n",
      "    raise last_exception  # type: ignore[misc]\n",
      "  File \"/disk1/zsxm/miniconda3/envs/pytorch/lib/python3.8/site-packages/pydicom/dataset.py\", line 1536, in _convert_pixel_data_without_handler\n",
      "    self._do_pixel_data_conversion(handler)\n",
      "  File \"/disk1/zsxm/miniconda3/envs/pytorch/lib/python3.8/site-packages/pydicom/dataset.py\", line 1563, in _do_pixel_data_conversion\n",
      "    arr = handler.get_pixeldata(self)\n",
      "  File \"/disk1/zsxm/miniconda3/envs/pytorch/lib/python3.8/site-packages/pydicom/pixel_data_handlers/numpy_handler.py\", line 283, in get_pixeldata\n",
      "    raise AttributeError(\n",
      "AttributeError: Unable to convert the pixel data: one of Pixel Data, Float Pixel Data or Double Float Pixel Data must be present in the dataset\n"
     ]
    },
    {
     "name": "stdout",
     "output_type": "stream",
     "text": [
      "\tDelete /nfs3-p1/zsxm/dataset/2021-10-19-aa/huangxiaogen/1/1-00B9.dcm\n",
      "****Processing huhonggen****\n",
      "****Processing hujiangxiang-17-28-50-150****\n",
      "****Processing jiangkaishui-12-18-26-86****\n",
      "****Processing jiangxiaowei****\n",
      "****Processing jiangyaling****\n"
     ]
    },
    {
     "name": "stderr",
     "output_type": "stream",
     "text": [
      "Traceback (most recent call last):\n",
      "  File \"/tmp/ipykernel_95112/486662372.py\", line 8, in load_scan\n",
      "    sl_p = sl.pixel_array\n",
      "  File \"/disk1/zsxm/miniconda3/envs/pytorch/lib/python3.8/site-packages/pydicom/dataset.py\", line 836, in __getattr__\n",
      "    return object.__getattribute__(self, name)\n",
      "  File \"/disk1/zsxm/miniconda3/envs/pytorch/lib/python3.8/site-packages/pydicom/dataset.py\", line 1882, in pixel_array\n",
      "    self.convert_pixel_data()\n",
      "  File \"/disk1/zsxm/miniconda3/envs/pytorch/lib/python3.8/site-packages/pydicom/dataset.py\", line 1444, in convert_pixel_data\n",
      "    self._convert_pixel_data_without_handler()\n",
      "  File \"/disk1/zsxm/miniconda3/envs/pytorch/lib/python3.8/site-packages/pydicom/dataset.py\", line 1556, in _convert_pixel_data_without_handler\n",
      "    raise last_exception  # type: ignore[misc]\n",
      "  File \"/disk1/zsxm/miniconda3/envs/pytorch/lib/python3.8/site-packages/pydicom/dataset.py\", line 1536, in _convert_pixel_data_without_handler\n",
      "    self._do_pixel_data_conversion(handler)\n",
      "  File \"/disk1/zsxm/miniconda3/envs/pytorch/lib/python3.8/site-packages/pydicom/dataset.py\", line 1563, in _do_pixel_data_conversion\n",
      "    arr = handler.get_pixeldata(self)\n",
      "  File \"/disk1/zsxm/miniconda3/envs/pytorch/lib/python3.8/site-packages/pydicom/pixel_data_handlers/numpy_handler.py\", line 283, in get_pixeldata\n",
      "    raise AttributeError(\n",
      "AttributeError: Unable to convert the pixel data: one of Pixel Data, Float Pixel Data or Double Float Pixel Data must be present in the dataset\n"
     ]
    },
    {
     "name": "stdout",
     "output_type": "stream",
     "text": [
      "\tDelete /nfs3-p1/zsxm/dataset/2021-10-19-aa/jiangyaling/1/1-00CC.dcm\n",
      "****Processing jinline-13-18-27-74****\n",
      "****Processing kangzhenzhong****\n",
      "****Processing kongxiangbao32-43-70-143****\n",
      "****Processing kongxiuchun-41-52-75-140****\n"
     ]
    },
    {
     "name": "stderr",
     "output_type": "stream",
     "text": [
      "Traceback (most recent call last):\n",
      "  File \"/tmp/ipykernel_95112/486662372.py\", line 8, in load_scan\n",
      "    sl_p = sl.pixel_array\n",
      "  File \"/disk1/zsxm/miniconda3/envs/pytorch/lib/python3.8/site-packages/pydicom/dataset.py\", line 836, in __getattr__\n",
      "    return object.__getattribute__(self, name)\n",
      "  File \"/disk1/zsxm/miniconda3/envs/pytorch/lib/python3.8/site-packages/pydicom/dataset.py\", line 1882, in pixel_array\n",
      "    self.convert_pixel_data()\n",
      "  File \"/disk1/zsxm/miniconda3/envs/pytorch/lib/python3.8/site-packages/pydicom/dataset.py\", line 1444, in convert_pixel_data\n",
      "    self._convert_pixel_data_without_handler()\n",
      "  File \"/disk1/zsxm/miniconda3/envs/pytorch/lib/python3.8/site-packages/pydicom/dataset.py\", line 1556, in _convert_pixel_data_without_handler\n",
      "    raise last_exception  # type: ignore[misc]\n",
      "  File \"/disk1/zsxm/miniconda3/envs/pytorch/lib/python3.8/site-packages/pydicom/dataset.py\", line 1536, in _convert_pixel_data_without_handler\n",
      "    self._do_pixel_data_conversion(handler)\n",
      "  File \"/disk1/zsxm/miniconda3/envs/pytorch/lib/python3.8/site-packages/pydicom/dataset.py\", line 1563, in _do_pixel_data_conversion\n",
      "    arr = handler.get_pixeldata(self)\n",
      "  File \"/disk1/zsxm/miniconda3/envs/pytorch/lib/python3.8/site-packages/pydicom/pixel_data_handlers/numpy_handler.py\", line 283, in get_pixeldata\n",
      "    raise AttributeError(\n",
      "AttributeError: Unable to convert the pixel data: one of Pixel Data, Float Pixel Data or Double Float Pixel Data must be present in the dataset\n"
     ]
    },
    {
     "name": "stdout",
     "output_type": "stream",
     "text": [
      "\tDelete /nfs3-p1/zsxm/dataset/2021-10-19-aa/kongxiuchun-41-52-75-140/1/1-008C.dcm\n",
      "****Processing laibaozhu-9-18-28-79****\n",
      "****Processing laiyong****\n",
      "****Processing leihexiang****\n",
      "****Processing liujun-8-15-27-95****\n",
      "****Processing louaizhen****\n",
      "****Processing lubihua****\n"
     ]
    },
    {
     "name": "stderr",
     "output_type": "stream",
     "text": [
      "Traceback (most recent call last):\n",
      "  File \"/tmp/ipykernel_95112/486662372.py\", line 8, in load_scan\n",
      "    sl_p = sl.pixel_array\n",
      "  File \"/disk1/zsxm/miniconda3/envs/pytorch/lib/python3.8/site-packages/pydicom/dataset.py\", line 836, in __getattr__\n",
      "    return object.__getattribute__(self, name)\n",
      "  File \"/disk1/zsxm/miniconda3/envs/pytorch/lib/python3.8/site-packages/pydicom/dataset.py\", line 1882, in pixel_array\n",
      "    self.convert_pixel_data()\n",
      "  File \"/disk1/zsxm/miniconda3/envs/pytorch/lib/python3.8/site-packages/pydicom/dataset.py\", line 1444, in convert_pixel_data\n",
      "    self._convert_pixel_data_without_handler()\n",
      "  File \"/disk1/zsxm/miniconda3/envs/pytorch/lib/python3.8/site-packages/pydicom/dataset.py\", line 1556, in _convert_pixel_data_without_handler\n",
      "    raise last_exception  # type: ignore[misc]\n",
      "  File \"/disk1/zsxm/miniconda3/envs/pytorch/lib/python3.8/site-packages/pydicom/dataset.py\", line 1536, in _convert_pixel_data_without_handler\n",
      "    self._do_pixel_data_conversion(handler)\n",
      "  File \"/disk1/zsxm/miniconda3/envs/pytorch/lib/python3.8/site-packages/pydicom/dataset.py\", line 1563, in _do_pixel_data_conversion\n",
      "    arr = handler.get_pixeldata(self)\n",
      "  File \"/disk1/zsxm/miniconda3/envs/pytorch/lib/python3.8/site-packages/pydicom/pixel_data_handlers/numpy_handler.py\", line 283, in get_pixeldata\n",
      "    raise AttributeError(\n",
      "AttributeError: Unable to convert the pixel data: one of Pixel Data, Float Pixel Data or Double Float Pixel Data must be present in the dataset\n"
     ]
    },
    {
     "name": "stdout",
     "output_type": "stream",
     "text": [
      "\tDelete /nfs3-p1/zsxm/dataset/2021-10-19-aa/lubihua/1/1-00CA.dcm\n",
      "****Processing lugenqian****\n"
     ]
    },
    {
     "name": "stderr",
     "output_type": "stream",
     "text": [
      "Traceback (most recent call last):\n",
      "  File \"/tmp/ipykernel_95112/486662372.py\", line 8, in load_scan\n",
      "    sl_p = sl.pixel_array\n",
      "  File \"/disk1/zsxm/miniconda3/envs/pytorch/lib/python3.8/site-packages/pydicom/dataset.py\", line 836, in __getattr__\n",
      "    return object.__getattribute__(self, name)\n",
      "  File \"/disk1/zsxm/miniconda3/envs/pytorch/lib/python3.8/site-packages/pydicom/dataset.py\", line 1882, in pixel_array\n",
      "    self.convert_pixel_data()\n",
      "  File \"/disk1/zsxm/miniconda3/envs/pytorch/lib/python3.8/site-packages/pydicom/dataset.py\", line 1444, in convert_pixel_data\n",
      "    self._convert_pixel_data_without_handler()\n",
      "  File \"/disk1/zsxm/miniconda3/envs/pytorch/lib/python3.8/site-packages/pydicom/dataset.py\", line 1556, in _convert_pixel_data_without_handler\n",
      "    raise last_exception  # type: ignore[misc]\n",
      "  File \"/disk1/zsxm/miniconda3/envs/pytorch/lib/python3.8/site-packages/pydicom/dataset.py\", line 1536, in _convert_pixel_data_without_handler\n",
      "    self._do_pixel_data_conversion(handler)\n",
      "  File \"/disk1/zsxm/miniconda3/envs/pytorch/lib/python3.8/site-packages/pydicom/dataset.py\", line 1563, in _do_pixel_data_conversion\n",
      "    arr = handler.get_pixeldata(self)\n",
      "  File \"/disk1/zsxm/miniconda3/envs/pytorch/lib/python3.8/site-packages/pydicom/pixel_data_handlers/numpy_handler.py\", line 283, in get_pixeldata\n",
      "    raise AttributeError(\n",
      "AttributeError: Unable to convert the pixel data: one of Pixel Data, Float Pixel Data or Double Float Pixel Data must be present in the dataset\n"
     ]
    },
    {
     "name": "stdout",
     "output_type": "stream",
     "text": [
      "\tDelete /nfs3-p1/zsxm/dataset/2021-10-19-aa/lugenqian/1/1-00D4.dcm\n",
      "****Processing luguilin-22-30-50-129****\n",
      "****Processing luoguobiao****\n",
      "****Processing luoxianwu****\n",
      "****Processing lvhanfang****\n",
      "****Processing maomao-25-45-54-153****\n",
      "****Processing nishengwei****\n"
     ]
    },
    {
     "name": "stderr",
     "output_type": "stream",
     "text": [
      "Traceback (most recent call last):\n",
      "  File \"/tmp/ipykernel_95112/486662372.py\", line 8, in load_scan\n",
      "    sl_p = sl.pixel_array\n",
      "  File \"/disk1/zsxm/miniconda3/envs/pytorch/lib/python3.8/site-packages/pydicom/dataset.py\", line 836, in __getattr__\n",
      "    return object.__getattribute__(self, name)\n",
      "  File \"/disk1/zsxm/miniconda3/envs/pytorch/lib/python3.8/site-packages/pydicom/dataset.py\", line 1882, in pixel_array\n",
      "    self.convert_pixel_data()\n",
      "  File \"/disk1/zsxm/miniconda3/envs/pytorch/lib/python3.8/site-packages/pydicom/dataset.py\", line 1444, in convert_pixel_data\n",
      "    self._convert_pixel_data_without_handler()\n",
      "  File \"/disk1/zsxm/miniconda3/envs/pytorch/lib/python3.8/site-packages/pydicom/dataset.py\", line 1556, in _convert_pixel_data_without_handler\n",
      "    raise last_exception  # type: ignore[misc]\n",
      "  File \"/disk1/zsxm/miniconda3/envs/pytorch/lib/python3.8/site-packages/pydicom/dataset.py\", line 1536, in _convert_pixel_data_without_handler\n",
      "    self._do_pixel_data_conversion(handler)\n",
      "  File \"/disk1/zsxm/miniconda3/envs/pytorch/lib/python3.8/site-packages/pydicom/dataset.py\", line 1563, in _do_pixel_data_conversion\n",
      "    arr = handler.get_pixeldata(self)\n",
      "  File \"/disk1/zsxm/miniconda3/envs/pytorch/lib/python3.8/site-packages/pydicom/pixel_data_handlers/numpy_handler.py\", line 283, in get_pixeldata\n",
      "    raise AttributeError(\n",
      "AttributeError: Unable to convert the pixel data: one of Pixel Data, Float Pixel Data or Double Float Pixel Data must be present in the dataset\n"
     ]
    },
    {
     "name": "stdout",
     "output_type": "stream",
     "text": [
      "\tDelete /nfs3-p1/zsxm/dataset/2021-10-19-aa/nishengwei/1/1-0099.dcm\n",
      "****Processing panguangwen-16-21-32-92****\n"
     ]
    },
    {
     "name": "stderr",
     "output_type": "stream",
     "text": [
      "Traceback (most recent call last):\n",
      "  File \"/tmp/ipykernel_95112/486662372.py\", line 8, in load_scan\n",
      "    sl_p = sl.pixel_array\n",
      "  File \"/disk1/zsxm/miniconda3/envs/pytorch/lib/python3.8/site-packages/pydicom/dataset.py\", line 836, in __getattr__\n",
      "    return object.__getattribute__(self, name)\n",
      "  File \"/disk1/zsxm/miniconda3/envs/pytorch/lib/python3.8/site-packages/pydicom/dataset.py\", line 1882, in pixel_array\n",
      "    self.convert_pixel_data()\n",
      "  File \"/disk1/zsxm/miniconda3/envs/pytorch/lib/python3.8/site-packages/pydicom/dataset.py\", line 1444, in convert_pixel_data\n",
      "    self._convert_pixel_data_without_handler()\n",
      "  File \"/disk1/zsxm/miniconda3/envs/pytorch/lib/python3.8/site-packages/pydicom/dataset.py\", line 1556, in _convert_pixel_data_without_handler\n",
      "    raise last_exception  # type: ignore[misc]\n",
      "  File \"/disk1/zsxm/miniconda3/envs/pytorch/lib/python3.8/site-packages/pydicom/dataset.py\", line 1536, in _convert_pixel_data_without_handler\n",
      "    self._do_pixel_data_conversion(handler)\n",
      "  File \"/disk1/zsxm/miniconda3/envs/pytorch/lib/python3.8/site-packages/pydicom/dataset.py\", line 1563, in _do_pixel_data_conversion\n",
      "    arr = handler.get_pixeldata(self)\n",
      "  File \"/disk1/zsxm/miniconda3/envs/pytorch/lib/python3.8/site-packages/pydicom/pixel_data_handlers/numpy_handler.py\", line 283, in get_pixeldata\n",
      "    raise AttributeError(\n",
      "AttributeError: Unable to convert the pixel data: one of Pixel Data, Float Pixel Data or Double Float Pixel Data must be present in the dataset\n"
     ]
    },
    {
     "name": "stdout",
     "output_type": "stream",
     "text": [
      "\tDelete /nfs3-p1/zsxm/dataset/2021-10-19-aa/panguangwen-16-21-32-92/1/1-008C.dcm\n",
      "****Processing panxianghua****\n",
      "****Processing qianqiliang****\n",
      "****Processing shanmingdong****\n",
      "****Processing shaofeng-23-29-37-95****\n",
      "****Processing shenfabiao-29-39-61-135****\n",
      "****Processing shenhuinian-21-27-39-89****\n",
      "****Processing shenshuigen****\n",
      "****Processing shensongping-10-21-38-142****\n"
     ]
    },
    {
     "name": "stderr",
     "output_type": "stream",
     "text": [
      "Traceback (most recent call last):\n",
      "  File \"/tmp/ipykernel_95112/486662372.py\", line 8, in load_scan\n",
      "    sl_p = sl.pixel_array\n",
      "  File \"/disk1/zsxm/miniconda3/envs/pytorch/lib/python3.8/site-packages/pydicom/dataset.py\", line 836, in __getattr__\n",
      "    return object.__getattribute__(self, name)\n",
      "  File \"/disk1/zsxm/miniconda3/envs/pytorch/lib/python3.8/site-packages/pydicom/dataset.py\", line 1882, in pixel_array\n",
      "    self.convert_pixel_data()\n",
      "  File \"/disk1/zsxm/miniconda3/envs/pytorch/lib/python3.8/site-packages/pydicom/dataset.py\", line 1444, in convert_pixel_data\n",
      "    self._convert_pixel_data_without_handler()\n",
      "  File \"/disk1/zsxm/miniconda3/envs/pytorch/lib/python3.8/site-packages/pydicom/dataset.py\", line 1556, in _convert_pixel_data_without_handler\n",
      "    raise last_exception  # type: ignore[misc]\n",
      "  File \"/disk1/zsxm/miniconda3/envs/pytorch/lib/python3.8/site-packages/pydicom/dataset.py\", line 1536, in _convert_pixel_data_without_handler\n",
      "    self._do_pixel_data_conversion(handler)\n",
      "  File \"/disk1/zsxm/miniconda3/envs/pytorch/lib/python3.8/site-packages/pydicom/dataset.py\", line 1563, in _do_pixel_data_conversion\n",
      "    arr = handler.get_pixeldata(self)\n",
      "  File \"/disk1/zsxm/miniconda3/envs/pytorch/lib/python3.8/site-packages/pydicom/pixel_data_handlers/numpy_handler.py\", line 283, in get_pixeldata\n",
      "    raise AttributeError(\n",
      "AttributeError: Unable to convert the pixel data: one of Pixel Data, Float Pixel Data or Double Float Pixel Data must be present in the dataset\n"
     ]
    },
    {
     "name": "stdout",
     "output_type": "stream",
     "text": [
      "\tDelete /nfs3-p1/zsxm/dataset/2021-10-19-aa/shensongping-10-21-38-142/1/1-008E.dcm\n",
      "****Processing shentuduanyang****\n",
      "****Processing tongyanwen-22-27-41-89****\n",
      "****Processing wangchengshe****\n"
     ]
    },
    {
     "name": "stderr",
     "output_type": "stream",
     "text": [
      "Traceback (most recent call last):\n",
      "  File \"/tmp/ipykernel_95112/486662372.py\", line 8, in load_scan\n",
      "    sl_p = sl.pixel_array\n",
      "  File \"/disk1/zsxm/miniconda3/envs/pytorch/lib/python3.8/site-packages/pydicom/dataset.py\", line 836, in __getattr__\n",
      "    return object.__getattribute__(self, name)\n",
      "  File \"/disk1/zsxm/miniconda3/envs/pytorch/lib/python3.8/site-packages/pydicom/dataset.py\", line 1882, in pixel_array\n",
      "    self.convert_pixel_data()\n",
      "  File \"/disk1/zsxm/miniconda3/envs/pytorch/lib/python3.8/site-packages/pydicom/dataset.py\", line 1444, in convert_pixel_data\n",
      "    self._convert_pixel_data_without_handler()\n",
      "  File \"/disk1/zsxm/miniconda3/envs/pytorch/lib/python3.8/site-packages/pydicom/dataset.py\", line 1556, in _convert_pixel_data_without_handler\n",
      "    raise last_exception  # type: ignore[misc]\n",
      "  File \"/disk1/zsxm/miniconda3/envs/pytorch/lib/python3.8/site-packages/pydicom/dataset.py\", line 1536, in _convert_pixel_data_without_handler\n",
      "    self._do_pixel_data_conversion(handler)\n",
      "  File \"/disk1/zsxm/miniconda3/envs/pytorch/lib/python3.8/site-packages/pydicom/dataset.py\", line 1563, in _do_pixel_data_conversion\n",
      "    arr = handler.get_pixeldata(self)\n",
      "  File \"/disk1/zsxm/miniconda3/envs/pytorch/lib/python3.8/site-packages/pydicom/pixel_data_handlers/numpy_handler.py\", line 283, in get_pixeldata\n",
      "    raise AttributeError(\n",
      "AttributeError: Unable to convert the pixel data: one of Pixel Data, Float Pixel Data or Double Float Pixel Data must be present in the dataset\n"
     ]
    },
    {
     "name": "stdout",
     "output_type": "stream",
     "text": [
      "\tDelete /nfs3-p1/zsxm/dataset/2021-10-19-aa/wangchengshe/1/1-00BF.dcm\n",
      "****Processing wanghongchu-23-35-67-142****\n",
      "****Processing wangshuilin****\n",
      "****Processing wangxiaozhong****\n",
      "****Processing wangxiue****\n"
     ]
    },
    {
     "name": "stderr",
     "output_type": "stream",
     "text": [
      "Traceback (most recent call last):\n",
      "  File \"/tmp/ipykernel_95112/486662372.py\", line 8, in load_scan\n",
      "    sl_p = sl.pixel_array\n",
      "  File \"/disk1/zsxm/miniconda3/envs/pytorch/lib/python3.8/site-packages/pydicom/dataset.py\", line 836, in __getattr__\n",
      "    return object.__getattribute__(self, name)\n",
      "  File \"/disk1/zsxm/miniconda3/envs/pytorch/lib/python3.8/site-packages/pydicom/dataset.py\", line 1882, in pixel_array\n",
      "    self.convert_pixel_data()\n",
      "  File \"/disk1/zsxm/miniconda3/envs/pytorch/lib/python3.8/site-packages/pydicom/dataset.py\", line 1444, in convert_pixel_data\n",
      "    self._convert_pixel_data_without_handler()\n",
      "  File \"/disk1/zsxm/miniconda3/envs/pytorch/lib/python3.8/site-packages/pydicom/dataset.py\", line 1556, in _convert_pixel_data_without_handler\n",
      "    raise last_exception  # type: ignore[misc]\n",
      "  File \"/disk1/zsxm/miniconda3/envs/pytorch/lib/python3.8/site-packages/pydicom/dataset.py\", line 1536, in _convert_pixel_data_without_handler\n",
      "    self._do_pixel_data_conversion(handler)\n",
      "  File \"/disk1/zsxm/miniconda3/envs/pytorch/lib/python3.8/site-packages/pydicom/dataset.py\", line 1563, in _do_pixel_data_conversion\n",
      "    arr = handler.get_pixeldata(self)\n",
      "  File \"/disk1/zsxm/miniconda3/envs/pytorch/lib/python3.8/site-packages/pydicom/pixel_data_handlers/numpy_handler.py\", line 283, in get_pixeldata\n",
      "    raise AttributeError(\n",
      "AttributeError: Unable to convert the pixel data: one of Pixel Data, Float Pixel Data or Double Float Pixel Data must be present in the dataset\n"
     ]
    },
    {
     "name": "stdout",
     "output_type": "stream",
     "text": [
      "\tDelete /nfs3-p1/zsxm/dataset/2021-10-19-aa/wangxiue/1/1-00D8.dcm\n",
      "****Processing wangyouxing****\n",
      "****Processing weijilin****\n"
     ]
    },
    {
     "name": "stderr",
     "output_type": "stream",
     "text": [
      "Traceback (most recent call last):\n",
      "  File \"/tmp/ipykernel_95112/486662372.py\", line 8, in load_scan\n",
      "    sl_p = sl.pixel_array\n",
      "  File \"/disk1/zsxm/miniconda3/envs/pytorch/lib/python3.8/site-packages/pydicom/dataset.py\", line 836, in __getattr__\n",
      "    return object.__getattribute__(self, name)\n",
      "  File \"/disk1/zsxm/miniconda3/envs/pytorch/lib/python3.8/site-packages/pydicom/dataset.py\", line 1882, in pixel_array\n",
      "    self.convert_pixel_data()\n",
      "  File \"/disk1/zsxm/miniconda3/envs/pytorch/lib/python3.8/site-packages/pydicom/dataset.py\", line 1444, in convert_pixel_data\n",
      "    self._convert_pixel_data_without_handler()\n",
      "  File \"/disk1/zsxm/miniconda3/envs/pytorch/lib/python3.8/site-packages/pydicom/dataset.py\", line 1556, in _convert_pixel_data_without_handler\n",
      "    raise last_exception  # type: ignore[misc]\n",
      "  File \"/disk1/zsxm/miniconda3/envs/pytorch/lib/python3.8/site-packages/pydicom/dataset.py\", line 1536, in _convert_pixel_data_without_handler\n",
      "    self._do_pixel_data_conversion(handler)\n",
      "  File \"/disk1/zsxm/miniconda3/envs/pytorch/lib/python3.8/site-packages/pydicom/dataset.py\", line 1563, in _do_pixel_data_conversion\n",
      "    arr = handler.get_pixeldata(self)\n",
      "  File \"/disk1/zsxm/miniconda3/envs/pytorch/lib/python3.8/site-packages/pydicom/pixel_data_handlers/numpy_handler.py\", line 283, in get_pixeldata\n",
      "    raise AttributeError(\n",
      "AttributeError: Unable to convert the pixel data: one of Pixel Data, Float Pixel Data or Double Float Pixel Data must be present in the dataset\n"
     ]
    },
    {
     "name": "stdout",
     "output_type": "stream",
     "text": [
      "\tDelete /nfs3-p1/zsxm/dataset/2021-10-19-aa/weijilin/1/1-00CE.dcm\n",
      "****Processing weiwanbo****\n"
     ]
    },
    {
     "name": "stderr",
     "output_type": "stream",
     "text": [
      "Traceback (most recent call last):\n",
      "  File \"/tmp/ipykernel_95112/486662372.py\", line 8, in load_scan\n",
      "    sl_p = sl.pixel_array\n",
      "  File \"/disk1/zsxm/miniconda3/envs/pytorch/lib/python3.8/site-packages/pydicom/dataset.py\", line 836, in __getattr__\n",
      "    return object.__getattribute__(self, name)\n",
      "  File \"/disk1/zsxm/miniconda3/envs/pytorch/lib/python3.8/site-packages/pydicom/dataset.py\", line 1882, in pixel_array\n",
      "    self.convert_pixel_data()\n",
      "  File \"/disk1/zsxm/miniconda3/envs/pytorch/lib/python3.8/site-packages/pydicom/dataset.py\", line 1444, in convert_pixel_data\n",
      "    self._convert_pixel_data_without_handler()\n",
      "  File \"/disk1/zsxm/miniconda3/envs/pytorch/lib/python3.8/site-packages/pydicom/dataset.py\", line 1556, in _convert_pixel_data_without_handler\n",
      "    raise last_exception  # type: ignore[misc]\n",
      "  File \"/disk1/zsxm/miniconda3/envs/pytorch/lib/python3.8/site-packages/pydicom/dataset.py\", line 1536, in _convert_pixel_data_without_handler\n",
      "    self._do_pixel_data_conversion(handler)\n",
      "  File \"/disk1/zsxm/miniconda3/envs/pytorch/lib/python3.8/site-packages/pydicom/dataset.py\", line 1563, in _do_pixel_data_conversion\n",
      "    arr = handler.get_pixeldata(self)\n",
      "  File \"/disk1/zsxm/miniconda3/envs/pytorch/lib/python3.8/site-packages/pydicom/pixel_data_handlers/numpy_handler.py\", line 283, in get_pixeldata\n",
      "    raise AttributeError(\n",
      "AttributeError: Unable to convert the pixel data: one of Pixel Data, Float Pixel Data or Double Float Pixel Data must be present in the dataset\n"
     ]
    },
    {
     "name": "stdout",
     "output_type": "stream",
     "text": [
      "\tDelete /nfs3-p1/zsxm/dataset/2021-10-19-aa/weiwanbo/1/1-007A.dcm\n",
      "****Processing wupingzhen****\n",
      "****Processing wuquanxin****\n",
      "****Processing wusunqing-18-23-35-80****\n",
      "****Processing wuyuanfu****\n",
      "****Processing wuzhongqiu-27-38-58-147****\n",
      "****Processing wuzhuying****\n",
      "****Processing xiaofuxing****\n",
      "****Processing xucaifeng-20-26-43-83****\n",
      "****Processing xuchanghua****\n"
     ]
    },
    {
     "name": "stderr",
     "output_type": "stream",
     "text": [
      "Traceback (most recent call last):\n",
      "  File \"/tmp/ipykernel_95112/486662372.py\", line 8, in load_scan\n",
      "    sl_p = sl.pixel_array\n",
      "  File \"/disk1/zsxm/miniconda3/envs/pytorch/lib/python3.8/site-packages/pydicom/dataset.py\", line 836, in __getattr__\n",
      "    return object.__getattribute__(self, name)\n",
      "  File \"/disk1/zsxm/miniconda3/envs/pytorch/lib/python3.8/site-packages/pydicom/dataset.py\", line 1882, in pixel_array\n",
      "    self.convert_pixel_data()\n",
      "  File \"/disk1/zsxm/miniconda3/envs/pytorch/lib/python3.8/site-packages/pydicom/dataset.py\", line 1444, in convert_pixel_data\n",
      "    self._convert_pixel_data_without_handler()\n",
      "  File \"/disk1/zsxm/miniconda3/envs/pytorch/lib/python3.8/site-packages/pydicom/dataset.py\", line 1556, in _convert_pixel_data_without_handler\n",
      "    raise last_exception  # type: ignore[misc]\n",
      "  File \"/disk1/zsxm/miniconda3/envs/pytorch/lib/python3.8/site-packages/pydicom/dataset.py\", line 1536, in _convert_pixel_data_without_handler\n",
      "    self._do_pixel_data_conversion(handler)\n",
      "  File \"/disk1/zsxm/miniconda3/envs/pytorch/lib/python3.8/site-packages/pydicom/dataset.py\", line 1563, in _do_pixel_data_conversion\n",
      "    arr = handler.get_pixeldata(self)\n",
      "  File \"/disk1/zsxm/miniconda3/envs/pytorch/lib/python3.8/site-packages/pydicom/pixel_data_handlers/numpy_handler.py\", line 283, in get_pixeldata\n",
      "    raise AttributeError(\n",
      "AttributeError: Unable to convert the pixel data: one of Pixel Data, Float Pixel Data or Double Float Pixel Data must be present in the dataset\n"
     ]
    },
    {
     "name": "stdout",
     "output_type": "stream",
     "text": [
      "\tDelete /nfs3-p1/zsxm/dataset/2021-10-19-aa/xuchanghua/1/1-00CB.dcm\n",
      "****Processing xufu****\n"
     ]
    },
    {
     "name": "stderr",
     "output_type": "stream",
     "text": [
      "Traceback (most recent call last):\n",
      "  File \"/tmp/ipykernel_95112/486662372.py\", line 8, in load_scan\n",
      "    sl_p = sl.pixel_array\n",
      "  File \"/disk1/zsxm/miniconda3/envs/pytorch/lib/python3.8/site-packages/pydicom/dataset.py\", line 836, in __getattr__\n",
      "    return object.__getattribute__(self, name)\n",
      "  File \"/disk1/zsxm/miniconda3/envs/pytorch/lib/python3.8/site-packages/pydicom/dataset.py\", line 1882, in pixel_array\n",
      "    self.convert_pixel_data()\n",
      "  File \"/disk1/zsxm/miniconda3/envs/pytorch/lib/python3.8/site-packages/pydicom/dataset.py\", line 1444, in convert_pixel_data\n",
      "    self._convert_pixel_data_without_handler()\n",
      "  File \"/disk1/zsxm/miniconda3/envs/pytorch/lib/python3.8/site-packages/pydicom/dataset.py\", line 1556, in _convert_pixel_data_without_handler\n",
      "    raise last_exception  # type: ignore[misc]\n",
      "  File \"/disk1/zsxm/miniconda3/envs/pytorch/lib/python3.8/site-packages/pydicom/dataset.py\", line 1536, in _convert_pixel_data_without_handler\n",
      "    self._do_pixel_data_conversion(handler)\n",
      "  File \"/disk1/zsxm/miniconda3/envs/pytorch/lib/python3.8/site-packages/pydicom/dataset.py\", line 1563, in _do_pixel_data_conversion\n",
      "    arr = handler.get_pixeldata(self)\n",
      "  File \"/disk1/zsxm/miniconda3/envs/pytorch/lib/python3.8/site-packages/pydicom/pixel_data_handlers/numpy_handler.py\", line 283, in get_pixeldata\n",
      "    raise AttributeError(\n",
      "AttributeError: Unable to convert the pixel data: one of Pixel Data, Float Pixel Data or Double Float Pixel Data must be present in the dataset\n"
     ]
    },
    {
     "name": "stdout",
     "output_type": "stream",
     "text": [
      "\tDelete /nfs3-p1/zsxm/dataset/2021-10-19-aa/xufu/1/1-00D5.dcm\n",
      "****Processing xujianhua****\n",
      "****Processing xuke-19-30-48-144****\n",
      "****Processing xusanzhi****\n",
      "****Processing yangjinxian****\n",
      "****Processing yangkanghe****\n",
      "****Processing yangyunxian****\n",
      "****Processing yaoae31-41-60-135****\n",
      "****Processing yechunju****\n",
      "****Processing yeyunhai-26-36-54-152****\n",
      "****Processing yuguobin****\n"
     ]
    },
    {
     "name": "stderr",
     "output_type": "stream",
     "text": [
      "Traceback (most recent call last):\n",
      "  File \"/tmp/ipykernel_95112/486662372.py\", line 8, in load_scan\n",
      "    sl_p = sl.pixel_array\n",
      "  File \"/disk1/zsxm/miniconda3/envs/pytorch/lib/python3.8/site-packages/pydicom/dataset.py\", line 836, in __getattr__\n",
      "    return object.__getattribute__(self, name)\n",
      "  File \"/disk1/zsxm/miniconda3/envs/pytorch/lib/python3.8/site-packages/pydicom/dataset.py\", line 1882, in pixel_array\n",
      "    self.convert_pixel_data()\n",
      "  File \"/disk1/zsxm/miniconda3/envs/pytorch/lib/python3.8/site-packages/pydicom/dataset.py\", line 1444, in convert_pixel_data\n",
      "    self._convert_pixel_data_without_handler()\n",
      "  File \"/disk1/zsxm/miniconda3/envs/pytorch/lib/python3.8/site-packages/pydicom/dataset.py\", line 1556, in _convert_pixel_data_without_handler\n",
      "    raise last_exception  # type: ignore[misc]\n",
      "  File \"/disk1/zsxm/miniconda3/envs/pytorch/lib/python3.8/site-packages/pydicom/dataset.py\", line 1536, in _convert_pixel_data_without_handler\n",
      "    self._do_pixel_data_conversion(handler)\n",
      "  File \"/disk1/zsxm/miniconda3/envs/pytorch/lib/python3.8/site-packages/pydicom/dataset.py\", line 1563, in _do_pixel_data_conversion\n",
      "    arr = handler.get_pixeldata(self)\n",
      "  File \"/disk1/zsxm/miniconda3/envs/pytorch/lib/python3.8/site-packages/pydicom/pixel_data_handlers/numpy_handler.py\", line 283, in get_pixeldata\n",
      "    raise AttributeError(\n",
      "AttributeError: Unable to convert the pixel data: one of Pixel Data, Float Pixel Data or Double Float Pixel Data must be present in the dataset\n"
     ]
    },
    {
     "name": "stdout",
     "output_type": "stream",
     "text": [
      "\tDelete /nfs3-p1/zsxm/dataset/2021-10-19-aa/yuguobin/1/1-00BC.dcm\n",
      "****Processing yumeizhen****\n",
      "****Processing zhangbaoyou-29-40-60-148****\n",
      "****Processing zhangjun****\n",
      "****Processing zhanglifang****\n",
      "****Processing zhanglugen-26-31-40-96****\n"
     ]
    },
    {
     "name": "stderr",
     "output_type": "stream",
     "text": [
      "Traceback (most recent call last):\n",
      "  File \"/tmp/ipykernel_95112/486662372.py\", line 8, in load_scan\n",
      "    sl_p = sl.pixel_array\n",
      "  File \"/disk1/zsxm/miniconda3/envs/pytorch/lib/python3.8/site-packages/pydicom/dataset.py\", line 836, in __getattr__\n",
      "    return object.__getattribute__(self, name)\n",
      "  File \"/disk1/zsxm/miniconda3/envs/pytorch/lib/python3.8/site-packages/pydicom/dataset.py\", line 1882, in pixel_array\n",
      "    self.convert_pixel_data()\n",
      "  File \"/disk1/zsxm/miniconda3/envs/pytorch/lib/python3.8/site-packages/pydicom/dataset.py\", line 1444, in convert_pixel_data\n",
      "    self._convert_pixel_data_without_handler()\n",
      "  File \"/disk1/zsxm/miniconda3/envs/pytorch/lib/python3.8/site-packages/pydicom/dataset.py\", line 1556, in _convert_pixel_data_without_handler\n",
      "    raise last_exception  # type: ignore[misc]\n",
      "  File \"/disk1/zsxm/miniconda3/envs/pytorch/lib/python3.8/site-packages/pydicom/dataset.py\", line 1536, in _convert_pixel_data_without_handler\n",
      "    self._do_pixel_data_conversion(handler)\n",
      "  File \"/disk1/zsxm/miniconda3/envs/pytorch/lib/python3.8/site-packages/pydicom/dataset.py\", line 1563, in _do_pixel_data_conversion\n",
      "    arr = handler.get_pixeldata(self)\n",
      "  File \"/disk1/zsxm/miniconda3/envs/pytorch/lib/python3.8/site-packages/pydicom/pixel_data_handlers/numpy_handler.py\", line 283, in get_pixeldata\n",
      "    raise AttributeError(\n",
      "AttributeError: Unable to convert the pixel data: one of Pixel Data, Float Pixel Data or Double Float Pixel Data must be present in the dataset\n"
     ]
    },
    {
     "name": "stdout",
     "output_type": "stream",
     "text": [
      "\tDelete /nfs3-p1/zsxm/dataset/2021-10-19-aa/zhanglugen-26-31-40-96/1/1-008B.dcm\n",
      "****Processing zhangmeijuan-11-17-27-84****\n"
     ]
    },
    {
     "name": "stderr",
     "output_type": "stream",
     "text": [
      "Traceback (most recent call last):\n",
      "  File \"/tmp/ipykernel_95112/486662372.py\", line 8, in load_scan\n",
      "    sl_p = sl.pixel_array\n",
      "  File \"/disk1/zsxm/miniconda3/envs/pytorch/lib/python3.8/site-packages/pydicom/dataset.py\", line 836, in __getattr__\n",
      "    return object.__getattribute__(self, name)\n",
      "  File \"/disk1/zsxm/miniconda3/envs/pytorch/lib/python3.8/site-packages/pydicom/dataset.py\", line 1882, in pixel_array\n",
      "    self.convert_pixel_data()\n",
      "  File \"/disk1/zsxm/miniconda3/envs/pytorch/lib/python3.8/site-packages/pydicom/dataset.py\", line 1444, in convert_pixel_data\n",
      "    self._convert_pixel_data_without_handler()\n",
      "  File \"/disk1/zsxm/miniconda3/envs/pytorch/lib/python3.8/site-packages/pydicom/dataset.py\", line 1556, in _convert_pixel_data_without_handler\n",
      "    raise last_exception  # type: ignore[misc]\n",
      "  File \"/disk1/zsxm/miniconda3/envs/pytorch/lib/python3.8/site-packages/pydicom/dataset.py\", line 1536, in _convert_pixel_data_without_handler\n",
      "    self._do_pixel_data_conversion(handler)\n",
      "  File \"/disk1/zsxm/miniconda3/envs/pytorch/lib/python3.8/site-packages/pydicom/dataset.py\", line 1563, in _do_pixel_data_conversion\n",
      "    arr = handler.get_pixeldata(self)\n",
      "  File \"/disk1/zsxm/miniconda3/envs/pytorch/lib/python3.8/site-packages/pydicom/pixel_data_handlers/numpy_handler.py\", line 283, in get_pixeldata\n",
      "    raise AttributeError(\n",
      "AttributeError: Unable to convert the pixel data: one of Pixel Data, Float Pixel Data or Double Float Pixel Data must be present in the dataset\n"
     ]
    },
    {
     "name": "stdout",
     "output_type": "stream",
     "text": [
      "\tDelete /nfs3-p1/zsxm/dataset/2021-10-19-aa/zhangmeijuan-11-17-27-84/1/1-007F.dcm\n",
      "****Processing zhangsenggao****\n",
      "****Processing zhangshenhong****\n"
     ]
    },
    {
     "name": "stderr",
     "output_type": "stream",
     "text": [
      "Traceback (most recent call last):\n",
      "  File \"/tmp/ipykernel_95112/486662372.py\", line 8, in load_scan\n",
      "    sl_p = sl.pixel_array\n",
      "  File \"/disk1/zsxm/miniconda3/envs/pytorch/lib/python3.8/site-packages/pydicom/dataset.py\", line 836, in __getattr__\n",
      "    return object.__getattribute__(self, name)\n",
      "  File \"/disk1/zsxm/miniconda3/envs/pytorch/lib/python3.8/site-packages/pydicom/dataset.py\", line 1882, in pixel_array\n",
      "    self.convert_pixel_data()\n",
      "  File \"/disk1/zsxm/miniconda3/envs/pytorch/lib/python3.8/site-packages/pydicom/dataset.py\", line 1444, in convert_pixel_data\n",
      "    self._convert_pixel_data_without_handler()\n",
      "  File \"/disk1/zsxm/miniconda3/envs/pytorch/lib/python3.8/site-packages/pydicom/dataset.py\", line 1556, in _convert_pixel_data_without_handler\n",
      "    raise last_exception  # type: ignore[misc]\n",
      "  File \"/disk1/zsxm/miniconda3/envs/pytorch/lib/python3.8/site-packages/pydicom/dataset.py\", line 1536, in _convert_pixel_data_without_handler\n",
      "    self._do_pixel_data_conversion(handler)\n",
      "  File \"/disk1/zsxm/miniconda3/envs/pytorch/lib/python3.8/site-packages/pydicom/dataset.py\", line 1563, in _do_pixel_data_conversion\n",
      "    arr = handler.get_pixeldata(self)\n",
      "  File \"/disk1/zsxm/miniconda3/envs/pytorch/lib/python3.8/site-packages/pydicom/pixel_data_handlers/numpy_handler.py\", line 283, in get_pixeldata\n",
      "    raise AttributeError(\n",
      "AttributeError: Unable to convert the pixel data: one of Pixel Data, Float Pixel Data or Double Float Pixel Data must be present in the dataset\n"
     ]
    },
    {
     "name": "stdout",
     "output_type": "stream",
     "text": [
      "\tDelete /nfs3-p1/zsxm/dataset/2021-10-19-aa/zhangshenhong/1/1-00C2.dcm\n",
      "****Processing zhangweiyong****\n",
      "****Processing zhangyanjun****\n",
      "****Processing zhangyinhai****\n",
      "****Processing zhaofaqin****\n",
      "****Processing zhengxihong****\n"
     ]
    },
    {
     "name": "stderr",
     "output_type": "stream",
     "text": [
      "Traceback (most recent call last):\n",
      "  File \"/tmp/ipykernel_95112/486662372.py\", line 8, in load_scan\n",
      "    sl_p = sl.pixel_array\n",
      "  File \"/disk1/zsxm/miniconda3/envs/pytorch/lib/python3.8/site-packages/pydicom/dataset.py\", line 836, in __getattr__\n",
      "    return object.__getattribute__(self, name)\n",
      "  File \"/disk1/zsxm/miniconda3/envs/pytorch/lib/python3.8/site-packages/pydicom/dataset.py\", line 1882, in pixel_array\n",
      "    self.convert_pixel_data()\n",
      "  File \"/disk1/zsxm/miniconda3/envs/pytorch/lib/python3.8/site-packages/pydicom/dataset.py\", line 1444, in convert_pixel_data\n",
      "    self._convert_pixel_data_without_handler()\n",
      "  File \"/disk1/zsxm/miniconda3/envs/pytorch/lib/python3.8/site-packages/pydicom/dataset.py\", line 1556, in _convert_pixel_data_without_handler\n",
      "    raise last_exception  # type: ignore[misc]\n",
      "  File \"/disk1/zsxm/miniconda3/envs/pytorch/lib/python3.8/site-packages/pydicom/dataset.py\", line 1536, in _convert_pixel_data_without_handler\n",
      "    self._do_pixel_data_conversion(handler)\n",
      "  File \"/disk1/zsxm/miniconda3/envs/pytorch/lib/python3.8/site-packages/pydicom/dataset.py\", line 1563, in _do_pixel_data_conversion\n",
      "    arr = handler.get_pixeldata(self)\n",
      "  File \"/disk1/zsxm/miniconda3/envs/pytorch/lib/python3.8/site-packages/pydicom/pixel_data_handlers/numpy_handler.py\", line 283, in get_pixeldata\n",
      "    raise AttributeError(\n",
      "AttributeError: Unable to convert the pixel data: one of Pixel Data, Float Pixel Data or Double Float Pixel Data must be present in the dataset\n"
     ]
    },
    {
     "name": "stdout",
     "output_type": "stream",
     "text": [
      "\tDelete /nfs3-p1/zsxm/dataset/2021-10-19-aa/zhengxihong/1/1-0079.dcm\n",
      "****Processing zhoujuqin-23-37-63-155****\n"
     ]
    },
    {
     "name": "stderr",
     "output_type": "stream",
     "text": [
      "Traceback (most recent call last):\n",
      "  File \"/tmp/ipykernel_95112/486662372.py\", line 8, in load_scan\n",
      "    sl_p = sl.pixel_array\n",
      "  File \"/disk1/zsxm/miniconda3/envs/pytorch/lib/python3.8/site-packages/pydicom/dataset.py\", line 836, in __getattr__\n",
      "    return object.__getattribute__(self, name)\n",
      "  File \"/disk1/zsxm/miniconda3/envs/pytorch/lib/python3.8/site-packages/pydicom/dataset.py\", line 1882, in pixel_array\n",
      "    self.convert_pixel_data()\n",
      "  File \"/disk1/zsxm/miniconda3/envs/pytorch/lib/python3.8/site-packages/pydicom/dataset.py\", line 1444, in convert_pixel_data\n",
      "    self._convert_pixel_data_without_handler()\n",
      "  File \"/disk1/zsxm/miniconda3/envs/pytorch/lib/python3.8/site-packages/pydicom/dataset.py\", line 1556, in _convert_pixel_data_without_handler\n",
      "    raise last_exception  # type: ignore[misc]\n",
      "  File \"/disk1/zsxm/miniconda3/envs/pytorch/lib/python3.8/site-packages/pydicom/dataset.py\", line 1536, in _convert_pixel_data_without_handler\n",
      "    self._do_pixel_data_conversion(handler)\n",
      "  File \"/disk1/zsxm/miniconda3/envs/pytorch/lib/python3.8/site-packages/pydicom/dataset.py\", line 1563, in _do_pixel_data_conversion\n",
      "    arr = handler.get_pixeldata(self)\n",
      "  File \"/disk1/zsxm/miniconda3/envs/pytorch/lib/python3.8/site-packages/pydicom/pixel_data_handlers/numpy_handler.py\", line 283, in get_pixeldata\n",
      "    raise AttributeError(\n",
      "AttributeError: Unable to convert the pixel data: one of Pixel Data, Float Pixel Data or Double Float Pixel Data must be present in the dataset\n"
     ]
    },
    {
     "name": "stdout",
     "output_type": "stream",
     "text": [
      "\tDelete /nfs3-p1/zsxm/dataset/2021-10-19-aa/zhoujuqin-23-37-63-155/1/1-009E.dcm\n",
      "****Processing zhoushuimu****\n",
      "****Processing zhoutucai-35-44-66-158****\n",
      "****Processing zhouwudi****\n",
      "****Processing zhucaiqin-20-31-50-124****\n",
      "****Processing zhuxingfu-14-19-32-82****\n",
      "****Processing zhuzhiying****\n"
     ]
    }
   ],
   "source": [
    "# 将dcm文件根据窗宽窗位转化为png图片\n",
    "def generate_image(input_folder):\n",
    "    for patient in sorted(os.listdir(input_folder)):\n",
    "        if os.path.isfile(os.path.join(input_folder, patient)):\n",
    "            continue\n",
    "        print(f'****Processing {patient}****')\n",
    "        for scan in os.listdir(os.path.join(input_folder, patient)):\n",
    "            if scan != '1':\n",
    "                continue\n",
    "            name = patient #name = patient.split('-')[0]\n",
    "            image_path = os.path.join(input_folder, patient, scan, f'images_{lower_b}_{upper_b}')\n",
    "            if os.path.exists(image_path):\n",
    "                shutil.rmtree(image_path)\n",
    "            os.mkdir(image_path)\n",
    "\n",
    "            ct = load_scan(os.path.join(input_folder, patient, scan))\n",
    "\n",
    "            for i in range(len(ct)):\n",
    "                img = ct[i].pixel_array.astype(np.int16)\n",
    "                intercept = ct[i].RescaleIntercept\n",
    "                slope = ct[i].RescaleSlope\n",
    "                if slope != 1:\n",
    "                    img = (slope * img.astype(np.float64)).astype(np.int16)\n",
    "                img += np.int16(intercept)\n",
    "                img = np.clip(img, lower_b, upper_b)\n",
    "                img = ((img-lower_b)/(upper_b-lower_b)*255).astype(np.uint8)\n",
    "                img = Image.fromarray(img)\n",
    "                img.save(os.path.join(image_path, f'{name}_{i:04d}.png'))\n",
    "\n",
    "# generate_image('/nfs3-p1/zsxm/dataset/2021-9-8/')\n",
    "# generate_image('/nfs3-p1/zsxm/dataset/2021-9-13/')\n",
    "# generate_image('/nfs3-p1/zsxm/dataset/2021-9-19/')\n",
    "#generate_image('/nfs3-p1/zsxm/dataset/2021-9-28/')\n",
    "generate_image('/nfs3-p1/zsxm/dataset/2021-10-19-aa/')"
   ]
  },
  {
   "cell_type": "code",
   "execution_count": 7,
   "id": "5e14beb7",
   "metadata": {
    "scrolled": true
   },
   "outputs": [
    {
     "name": "stdout",
     "output_type": "stream",
     "text": [
      "****Processing chencaixi****\n",
      "****Processing chenchanglu****\n"
     ]
    },
    {
     "name": "stderr",
     "output_type": "stream",
     "text": [
      "Traceback (most recent call last):\n",
      "  File \"/tmp/ipykernel_95112/486662372.py\", line 8, in load_scan\n",
      "    sl_p = sl.pixel_array\n",
      "  File \"/disk1/zsxm/miniconda3/envs/pytorch/lib/python3.8/site-packages/pydicom/dataset.py\", line 836, in __getattr__\n",
      "    return object.__getattribute__(self, name)\n",
      "  File \"/disk1/zsxm/miniconda3/envs/pytorch/lib/python3.8/site-packages/pydicom/dataset.py\", line 1882, in pixel_array\n",
      "    self.convert_pixel_data()\n",
      "  File \"/disk1/zsxm/miniconda3/envs/pytorch/lib/python3.8/site-packages/pydicom/dataset.py\", line 1444, in convert_pixel_data\n",
      "    self._convert_pixel_data_without_handler()\n",
      "  File \"/disk1/zsxm/miniconda3/envs/pytorch/lib/python3.8/site-packages/pydicom/dataset.py\", line 1556, in _convert_pixel_data_without_handler\n",
      "    raise last_exception  # type: ignore[misc]\n",
      "  File \"/disk1/zsxm/miniconda3/envs/pytorch/lib/python3.8/site-packages/pydicom/dataset.py\", line 1536, in _convert_pixel_data_without_handler\n",
      "    self._do_pixel_data_conversion(handler)\n",
      "  File \"/disk1/zsxm/miniconda3/envs/pytorch/lib/python3.8/site-packages/pydicom/dataset.py\", line 1563, in _do_pixel_data_conversion\n",
      "    arr = handler.get_pixeldata(self)\n",
      "  File \"/disk1/zsxm/miniconda3/envs/pytorch/lib/python3.8/site-packages/pydicom/pixel_data_handlers/numpy_handler.py\", line 283, in get_pixeldata\n",
      "    raise AttributeError(\n",
      "AttributeError: Unable to convert the pixel data: one of Pixel Data, Float Pixel Data or Double Float Pixel Data must be present in the dataset\n"
     ]
    },
    {
     "name": "stdout",
     "output_type": "stream",
     "text": [
      "\tDelete /nfs3-p1/zsxm/dataset/2021-10-19-imh/chenchanglu/1/1-00F5.dcm\n",
      "****Processing chengchunxiao****\n"
     ]
    },
    {
     "name": "stderr",
     "output_type": "stream",
     "text": [
      "Traceback (most recent call last):\n",
      "  File \"/tmp/ipykernel_95112/486662372.py\", line 8, in load_scan\n",
      "    sl_p = sl.pixel_array\n",
      "  File \"/disk1/zsxm/miniconda3/envs/pytorch/lib/python3.8/site-packages/pydicom/dataset.py\", line 836, in __getattr__\n",
      "    return object.__getattribute__(self, name)\n",
      "  File \"/disk1/zsxm/miniconda3/envs/pytorch/lib/python3.8/site-packages/pydicom/dataset.py\", line 1882, in pixel_array\n",
      "    self.convert_pixel_data()\n",
      "  File \"/disk1/zsxm/miniconda3/envs/pytorch/lib/python3.8/site-packages/pydicom/dataset.py\", line 1444, in convert_pixel_data\n",
      "    self._convert_pixel_data_without_handler()\n",
      "  File \"/disk1/zsxm/miniconda3/envs/pytorch/lib/python3.8/site-packages/pydicom/dataset.py\", line 1556, in _convert_pixel_data_without_handler\n",
      "    raise last_exception  # type: ignore[misc]\n",
      "  File \"/disk1/zsxm/miniconda3/envs/pytorch/lib/python3.8/site-packages/pydicom/dataset.py\", line 1536, in _convert_pixel_data_without_handler\n",
      "    self._do_pixel_data_conversion(handler)\n",
      "  File \"/disk1/zsxm/miniconda3/envs/pytorch/lib/python3.8/site-packages/pydicom/dataset.py\", line 1563, in _do_pixel_data_conversion\n",
      "    arr = handler.get_pixeldata(self)\n",
      "  File \"/disk1/zsxm/miniconda3/envs/pytorch/lib/python3.8/site-packages/pydicom/pixel_data_handlers/numpy_handler.py\", line 283, in get_pixeldata\n",
      "    raise AttributeError(\n",
      "AttributeError: Unable to convert the pixel data: one of Pixel Data, Float Pixel Data or Double Float Pixel Data must be present in the dataset\n"
     ]
    },
    {
     "name": "stdout",
     "output_type": "stream",
     "text": [
      "\tDelete /nfs3-p1/zsxm/dataset/2021-10-19-imh/chengchunxiao/1/1-00F9.dcm\n",
      "****Processing chenyiqing****\n",
      "****Processing chenyouli****\n",
      "****Processing chenzhiqing****\n"
     ]
    },
    {
     "name": "stderr",
     "output_type": "stream",
     "text": [
      "Traceback (most recent call last):\n",
      "  File \"/tmp/ipykernel_95112/486662372.py\", line 8, in load_scan\n",
      "    sl_p = sl.pixel_array\n",
      "  File \"/disk1/zsxm/miniconda3/envs/pytorch/lib/python3.8/site-packages/pydicom/dataset.py\", line 836, in __getattr__\n",
      "    return object.__getattribute__(self, name)\n",
      "  File \"/disk1/zsxm/miniconda3/envs/pytorch/lib/python3.8/site-packages/pydicom/dataset.py\", line 1882, in pixel_array\n",
      "    self.convert_pixel_data()\n",
      "  File \"/disk1/zsxm/miniconda3/envs/pytorch/lib/python3.8/site-packages/pydicom/dataset.py\", line 1444, in convert_pixel_data\n",
      "    self._convert_pixel_data_without_handler()\n",
      "  File \"/disk1/zsxm/miniconda3/envs/pytorch/lib/python3.8/site-packages/pydicom/dataset.py\", line 1556, in _convert_pixel_data_without_handler\n",
      "    raise last_exception  # type: ignore[misc]\n",
      "  File \"/disk1/zsxm/miniconda3/envs/pytorch/lib/python3.8/site-packages/pydicom/dataset.py\", line 1536, in _convert_pixel_data_without_handler\n",
      "    self._do_pixel_data_conversion(handler)\n",
      "  File \"/disk1/zsxm/miniconda3/envs/pytorch/lib/python3.8/site-packages/pydicom/dataset.py\", line 1563, in _do_pixel_data_conversion\n",
      "    arr = handler.get_pixeldata(self)\n",
      "  File \"/disk1/zsxm/miniconda3/envs/pytorch/lib/python3.8/site-packages/pydicom/pixel_data_handlers/numpy_handler.py\", line 283, in get_pixeldata\n",
      "    raise AttributeError(\n",
      "AttributeError: Unable to convert the pixel data: one of Pixel Data, Float Pixel Data or Double Float Pixel Data must be present in the dataset\n"
     ]
    },
    {
     "name": "stdout",
     "output_type": "stream",
     "text": [
      "\tDelete /nfs3-p1/zsxm/dataset/2021-10-19-imh/chenzhiqing/1/1-0082.dcm\n",
      "****Processing dengxiuzhu****\n"
     ]
    },
    {
     "name": "stderr",
     "output_type": "stream",
     "text": [
      "Traceback (most recent call last):\n",
      "  File \"/tmp/ipykernel_95112/486662372.py\", line 8, in load_scan\n",
      "    sl_p = sl.pixel_array\n",
      "  File \"/disk1/zsxm/miniconda3/envs/pytorch/lib/python3.8/site-packages/pydicom/dataset.py\", line 836, in __getattr__\n",
      "    return object.__getattribute__(self, name)\n",
      "  File \"/disk1/zsxm/miniconda3/envs/pytorch/lib/python3.8/site-packages/pydicom/dataset.py\", line 1882, in pixel_array\n",
      "    self.convert_pixel_data()\n",
      "  File \"/disk1/zsxm/miniconda3/envs/pytorch/lib/python3.8/site-packages/pydicom/dataset.py\", line 1444, in convert_pixel_data\n",
      "    self._convert_pixel_data_without_handler()\n",
      "  File \"/disk1/zsxm/miniconda3/envs/pytorch/lib/python3.8/site-packages/pydicom/dataset.py\", line 1556, in _convert_pixel_data_without_handler\n",
      "    raise last_exception  # type: ignore[misc]\n",
      "  File \"/disk1/zsxm/miniconda3/envs/pytorch/lib/python3.8/site-packages/pydicom/dataset.py\", line 1536, in _convert_pixel_data_without_handler\n",
      "    self._do_pixel_data_conversion(handler)\n",
      "  File \"/disk1/zsxm/miniconda3/envs/pytorch/lib/python3.8/site-packages/pydicom/dataset.py\", line 1563, in _do_pixel_data_conversion\n",
      "    arr = handler.get_pixeldata(self)\n",
      "  File \"/disk1/zsxm/miniconda3/envs/pytorch/lib/python3.8/site-packages/pydicom/pixel_data_handlers/numpy_handler.py\", line 283, in get_pixeldata\n",
      "    raise AttributeError(\n",
      "AttributeError: Unable to convert the pixel data: one of Pixel Data, Float Pixel Data or Double Float Pixel Data must be present in the dataset\n"
     ]
    },
    {
     "name": "stdout",
     "output_type": "stream",
     "text": [
      "\tDelete /nfs3-p1/zsxm/dataset/2021-10-19-imh/dengxiuzhu/1/1-00C1.dcm\n",
      "****Processing fangmengzhen****\n",
      "****Processing guanzaihua****\n",
      "****Processing heazi****\n",
      "****Processing hezhengmin****\n",
      "****Processing hongshunchang****\n",
      "****Processing huangbaichao****\n",
      "****Processing hucailu****\n",
      "****Processing huyaxiang****\n"
     ]
    },
    {
     "name": "stderr",
     "output_type": "stream",
     "text": [
      "Traceback (most recent call last):\n",
      "  File \"/tmp/ipykernel_95112/486662372.py\", line 8, in load_scan\n",
      "    sl_p = sl.pixel_array\n",
      "  File \"/disk1/zsxm/miniconda3/envs/pytorch/lib/python3.8/site-packages/pydicom/dataset.py\", line 836, in __getattr__\n",
      "    return object.__getattribute__(self, name)\n",
      "  File \"/disk1/zsxm/miniconda3/envs/pytorch/lib/python3.8/site-packages/pydicom/dataset.py\", line 1882, in pixel_array\n",
      "    self.convert_pixel_data()\n",
      "  File \"/disk1/zsxm/miniconda3/envs/pytorch/lib/python3.8/site-packages/pydicom/dataset.py\", line 1444, in convert_pixel_data\n",
      "    self._convert_pixel_data_without_handler()\n",
      "  File \"/disk1/zsxm/miniconda3/envs/pytorch/lib/python3.8/site-packages/pydicom/dataset.py\", line 1556, in _convert_pixel_data_without_handler\n",
      "    raise last_exception  # type: ignore[misc]\n",
      "  File \"/disk1/zsxm/miniconda3/envs/pytorch/lib/python3.8/site-packages/pydicom/dataset.py\", line 1536, in _convert_pixel_data_without_handler\n",
      "    self._do_pixel_data_conversion(handler)\n",
      "  File \"/disk1/zsxm/miniconda3/envs/pytorch/lib/python3.8/site-packages/pydicom/dataset.py\", line 1563, in _do_pixel_data_conversion\n",
      "    arr = handler.get_pixeldata(self)\n",
      "  File \"/disk1/zsxm/miniconda3/envs/pytorch/lib/python3.8/site-packages/pydicom/pixel_data_handlers/numpy_handler.py\", line 283, in get_pixeldata\n",
      "    raise AttributeError(\n",
      "AttributeError: Unable to convert the pixel data: one of Pixel Data, Float Pixel Data or Double Float Pixel Data must be present in the dataset\n"
     ]
    },
    {
     "name": "stdout",
     "output_type": "stream",
     "text": [
      "\tDelete /nfs3-p1/zsxm/dataset/2021-10-19-imh/huyaxiang/1/1-00BA.dcm\n",
      "****Processing huyingfu****\n",
      "****Processing jiangbihua****\n",
      "****Processing jiangjianping****\n",
      "****Processing jiangqianfeng****\n",
      "****Processing jiatiandeng****\n"
     ]
    },
    {
     "name": "stderr",
     "output_type": "stream",
     "text": [
      "Traceback (most recent call last):\n",
      "  File \"/tmp/ipykernel_95112/486662372.py\", line 8, in load_scan\n",
      "    sl_p = sl.pixel_array\n",
      "  File \"/disk1/zsxm/miniconda3/envs/pytorch/lib/python3.8/site-packages/pydicom/dataset.py\", line 836, in __getattr__\n",
      "    return object.__getattribute__(self, name)\n",
      "  File \"/disk1/zsxm/miniconda3/envs/pytorch/lib/python3.8/site-packages/pydicom/dataset.py\", line 1882, in pixel_array\n",
      "    self.convert_pixel_data()\n",
      "  File \"/disk1/zsxm/miniconda3/envs/pytorch/lib/python3.8/site-packages/pydicom/dataset.py\", line 1444, in convert_pixel_data\n",
      "    self._convert_pixel_data_without_handler()\n",
      "  File \"/disk1/zsxm/miniconda3/envs/pytorch/lib/python3.8/site-packages/pydicom/dataset.py\", line 1556, in _convert_pixel_data_without_handler\n",
      "    raise last_exception  # type: ignore[misc]\n",
      "  File \"/disk1/zsxm/miniconda3/envs/pytorch/lib/python3.8/site-packages/pydicom/dataset.py\", line 1536, in _convert_pixel_data_without_handler\n",
      "    self._do_pixel_data_conversion(handler)\n",
      "  File \"/disk1/zsxm/miniconda3/envs/pytorch/lib/python3.8/site-packages/pydicom/dataset.py\", line 1563, in _do_pixel_data_conversion\n",
      "    arr = handler.get_pixeldata(self)\n",
      "  File \"/disk1/zsxm/miniconda3/envs/pytorch/lib/python3.8/site-packages/pydicom/pixel_data_handlers/numpy_handler.py\", line 283, in get_pixeldata\n",
      "    raise AttributeError(\n",
      "AttributeError: Unable to convert the pixel data: one of Pixel Data, Float Pixel Data or Double Float Pixel Data must be present in the dataset\n"
     ]
    },
    {
     "name": "stdout",
     "output_type": "stream",
     "text": [
      "\tDelete /nfs3-p1/zsxm/dataset/2021-10-19-imh/jiatiandeng/1/1-00B7.dcm\n",
      "****Processing jinguoqing****\n",
      "****Processing kebaoming****\n",
      "****Processing laidaishan****\n",
      "****Processing lichengqian****\n",
      "****Processing liguihua****\n",
      "****Processing limingyu****\n",
      "****Processing lindepei****\n",
      "****Processing lingsulan****\n"
     ]
    },
    {
     "name": "stderr",
     "output_type": "stream",
     "text": [
      "Traceback (most recent call last):\n",
      "  File \"/tmp/ipykernel_95112/486662372.py\", line 8, in load_scan\n",
      "    sl_p = sl.pixel_array\n",
      "  File \"/disk1/zsxm/miniconda3/envs/pytorch/lib/python3.8/site-packages/pydicom/dataset.py\", line 836, in __getattr__\n",
      "    return object.__getattribute__(self, name)\n",
      "  File \"/disk1/zsxm/miniconda3/envs/pytorch/lib/python3.8/site-packages/pydicom/dataset.py\", line 1882, in pixel_array\n",
      "    self.convert_pixel_data()\n",
      "  File \"/disk1/zsxm/miniconda3/envs/pytorch/lib/python3.8/site-packages/pydicom/dataset.py\", line 1444, in convert_pixel_data\n",
      "    self._convert_pixel_data_without_handler()\n",
      "  File \"/disk1/zsxm/miniconda3/envs/pytorch/lib/python3.8/site-packages/pydicom/dataset.py\", line 1556, in _convert_pixel_data_without_handler\n",
      "    raise last_exception  # type: ignore[misc]\n",
      "  File \"/disk1/zsxm/miniconda3/envs/pytorch/lib/python3.8/site-packages/pydicom/dataset.py\", line 1536, in _convert_pixel_data_without_handler\n",
      "    self._do_pixel_data_conversion(handler)\n",
      "  File \"/disk1/zsxm/miniconda3/envs/pytorch/lib/python3.8/site-packages/pydicom/dataset.py\", line 1563, in _do_pixel_data_conversion\n",
      "    arr = handler.get_pixeldata(self)\n",
      "  File \"/disk1/zsxm/miniconda3/envs/pytorch/lib/python3.8/site-packages/pydicom/pixel_data_handlers/numpy_handler.py\", line 283, in get_pixeldata\n",
      "    raise AttributeError(\n",
      "AttributeError: Unable to convert the pixel data: one of Pixel Data, Float Pixel Data or Double Float Pixel Data must be present in the dataset\n"
     ]
    },
    {
     "name": "stdout",
     "output_type": "stream",
     "text": [
      "\tDelete /nfs3-p1/zsxm/dataset/2021-10-19-imh/lingsulan/1/1-009D.dcm\n",
      "****Processing linjian****\n",
      "****Processing lisanliang****\n",
      "****Processing lisong****\n",
      "****Processing luae****\n",
      "****Processing luchuanping****\n",
      "****Processing lujikang****\n",
      "****Processing luojincha****\n",
      "****Processing miaoyihua****\n",
      "****Processing nimeihua****\n",
      "****Processing ouyangyuedong****\n",
      "****Processing panchenglei****\n",
      "****Processing panxiaohua****\n",
      "****Processing pengxuechuan****\n"
     ]
    },
    {
     "name": "stderr",
     "output_type": "stream",
     "text": [
      "Traceback (most recent call last):\n",
      "  File \"/tmp/ipykernel_95112/486662372.py\", line 8, in load_scan\n",
      "    sl_p = sl.pixel_array\n",
      "  File \"/disk1/zsxm/miniconda3/envs/pytorch/lib/python3.8/site-packages/pydicom/dataset.py\", line 836, in __getattr__\n",
      "    return object.__getattribute__(self, name)\n",
      "  File \"/disk1/zsxm/miniconda3/envs/pytorch/lib/python3.8/site-packages/pydicom/dataset.py\", line 1882, in pixel_array\n",
      "    self.convert_pixel_data()\n",
      "  File \"/disk1/zsxm/miniconda3/envs/pytorch/lib/python3.8/site-packages/pydicom/dataset.py\", line 1444, in convert_pixel_data\n",
      "    self._convert_pixel_data_without_handler()\n",
      "  File \"/disk1/zsxm/miniconda3/envs/pytorch/lib/python3.8/site-packages/pydicom/dataset.py\", line 1556, in _convert_pixel_data_without_handler\n",
      "    raise last_exception  # type: ignore[misc]\n",
      "  File \"/disk1/zsxm/miniconda3/envs/pytorch/lib/python3.8/site-packages/pydicom/dataset.py\", line 1536, in _convert_pixel_data_without_handler\n",
      "    self._do_pixel_data_conversion(handler)\n",
      "  File \"/disk1/zsxm/miniconda3/envs/pytorch/lib/python3.8/site-packages/pydicom/dataset.py\", line 1563, in _do_pixel_data_conversion\n",
      "    arr = handler.get_pixeldata(self)\n",
      "  File \"/disk1/zsxm/miniconda3/envs/pytorch/lib/python3.8/site-packages/pydicom/pixel_data_handlers/numpy_handler.py\", line 283, in get_pixeldata\n",
      "    raise AttributeError(\n",
      "AttributeError: Unable to convert the pixel data: one of Pixel Data, Float Pixel Data or Double Float Pixel Data must be present in the dataset\n"
     ]
    },
    {
     "name": "stdout",
     "output_type": "stream",
     "text": [
      "\tDelete /nfs3-p1/zsxm/dataset/2021-10-19-imh/pengxuechuan/1/1-00CA.dcm\n",
      "****Processing qianxioafu****\n",
      "****Processing qichunhong****\n",
      "****Processing qiuhongren****\n"
     ]
    },
    {
     "name": "stderr",
     "output_type": "stream",
     "text": [
      "Traceback (most recent call last):\n",
      "  File \"/tmp/ipykernel_95112/486662372.py\", line 8, in load_scan\n",
      "    sl_p = sl.pixel_array\n",
      "  File \"/disk1/zsxm/miniconda3/envs/pytorch/lib/python3.8/site-packages/pydicom/dataset.py\", line 836, in __getattr__\n",
      "    return object.__getattribute__(self, name)\n",
      "  File \"/disk1/zsxm/miniconda3/envs/pytorch/lib/python3.8/site-packages/pydicom/dataset.py\", line 1882, in pixel_array\n",
      "    self.convert_pixel_data()\n",
      "  File \"/disk1/zsxm/miniconda3/envs/pytorch/lib/python3.8/site-packages/pydicom/dataset.py\", line 1444, in convert_pixel_data\n",
      "    self._convert_pixel_data_without_handler()\n",
      "  File \"/disk1/zsxm/miniconda3/envs/pytorch/lib/python3.8/site-packages/pydicom/dataset.py\", line 1556, in _convert_pixel_data_without_handler\n",
      "    raise last_exception  # type: ignore[misc]\n",
      "  File \"/disk1/zsxm/miniconda3/envs/pytorch/lib/python3.8/site-packages/pydicom/dataset.py\", line 1536, in _convert_pixel_data_without_handler\n",
      "    self._do_pixel_data_conversion(handler)\n",
      "  File \"/disk1/zsxm/miniconda3/envs/pytorch/lib/python3.8/site-packages/pydicom/dataset.py\", line 1563, in _do_pixel_data_conversion\n",
      "    arr = handler.get_pixeldata(self)\n",
      "  File \"/disk1/zsxm/miniconda3/envs/pytorch/lib/python3.8/site-packages/pydicom/pixel_data_handlers/numpy_handler.py\", line 283, in get_pixeldata\n",
      "    raise AttributeError(\n",
      "AttributeError: Unable to convert the pixel data: one of Pixel Data, Float Pixel Data or Double Float Pixel Data must be present in the dataset\n"
     ]
    },
    {
     "name": "stdout",
     "output_type": "stream",
     "text": [
      "\tDelete /nfs3-p1/zsxm/dataset/2021-10-19-imh/qiuhongren/1/1-00E5.dcm\n",
      "****Processing shenchunyan****\n",
      "****Processing shenjianyi****\n"
     ]
    },
    {
     "name": "stderr",
     "output_type": "stream",
     "text": [
      "Traceback (most recent call last):\n",
      "  File \"/tmp/ipykernel_95112/486662372.py\", line 8, in load_scan\n",
      "    sl_p = sl.pixel_array\n",
      "  File \"/disk1/zsxm/miniconda3/envs/pytorch/lib/python3.8/site-packages/pydicom/dataset.py\", line 836, in __getattr__\n",
      "    return object.__getattribute__(self, name)\n",
      "  File \"/disk1/zsxm/miniconda3/envs/pytorch/lib/python3.8/site-packages/pydicom/dataset.py\", line 1882, in pixel_array\n",
      "    self.convert_pixel_data()\n",
      "  File \"/disk1/zsxm/miniconda3/envs/pytorch/lib/python3.8/site-packages/pydicom/dataset.py\", line 1444, in convert_pixel_data\n",
      "    self._convert_pixel_data_without_handler()\n",
      "  File \"/disk1/zsxm/miniconda3/envs/pytorch/lib/python3.8/site-packages/pydicom/dataset.py\", line 1556, in _convert_pixel_data_without_handler\n",
      "    raise last_exception  # type: ignore[misc]\n",
      "  File \"/disk1/zsxm/miniconda3/envs/pytorch/lib/python3.8/site-packages/pydicom/dataset.py\", line 1536, in _convert_pixel_data_without_handler\n",
      "    self._do_pixel_data_conversion(handler)\n",
      "  File \"/disk1/zsxm/miniconda3/envs/pytorch/lib/python3.8/site-packages/pydicom/dataset.py\", line 1563, in _do_pixel_data_conversion\n",
      "    arr = handler.get_pixeldata(self)\n",
      "  File \"/disk1/zsxm/miniconda3/envs/pytorch/lib/python3.8/site-packages/pydicom/pixel_data_handlers/numpy_handler.py\", line 283, in get_pixeldata\n",
      "    raise AttributeError(\n",
      "AttributeError: Unable to convert the pixel data: one of Pixel Data, Float Pixel Data or Double Float Pixel Data must be present in the dataset\n"
     ]
    },
    {
     "name": "stdout",
     "output_type": "stream",
     "text": [
      "\tDelete /nfs3-p1/zsxm/dataset/2021-10-19-imh/shenjianyi/1/1-009D.dcm\n",
      "****Processing shenlinhua****\n"
     ]
    },
    {
     "name": "stderr",
     "output_type": "stream",
     "text": [
      "Traceback (most recent call last):\n",
      "  File \"/tmp/ipykernel_95112/486662372.py\", line 8, in load_scan\n",
      "    sl_p = sl.pixel_array\n",
      "  File \"/disk1/zsxm/miniconda3/envs/pytorch/lib/python3.8/site-packages/pydicom/dataset.py\", line 836, in __getattr__\n",
      "    return object.__getattribute__(self, name)\n",
      "  File \"/disk1/zsxm/miniconda3/envs/pytorch/lib/python3.8/site-packages/pydicom/dataset.py\", line 1882, in pixel_array\n",
      "    self.convert_pixel_data()\n",
      "  File \"/disk1/zsxm/miniconda3/envs/pytorch/lib/python3.8/site-packages/pydicom/dataset.py\", line 1444, in convert_pixel_data\n",
      "    self._convert_pixel_data_without_handler()\n",
      "  File \"/disk1/zsxm/miniconda3/envs/pytorch/lib/python3.8/site-packages/pydicom/dataset.py\", line 1556, in _convert_pixel_data_without_handler\n",
      "    raise last_exception  # type: ignore[misc]\n",
      "  File \"/disk1/zsxm/miniconda3/envs/pytorch/lib/python3.8/site-packages/pydicom/dataset.py\", line 1536, in _convert_pixel_data_without_handler\n",
      "    self._do_pixel_data_conversion(handler)\n",
      "  File \"/disk1/zsxm/miniconda3/envs/pytorch/lib/python3.8/site-packages/pydicom/dataset.py\", line 1563, in _do_pixel_data_conversion\n",
      "    arr = handler.get_pixeldata(self)\n",
      "  File \"/disk1/zsxm/miniconda3/envs/pytorch/lib/python3.8/site-packages/pydicom/pixel_data_handlers/numpy_handler.py\", line 283, in get_pixeldata\n",
      "    raise AttributeError(\n",
      "AttributeError: Unable to convert the pixel data: one of Pixel Data, Float Pixel Data or Double Float Pixel Data must be present in the dataset\n"
     ]
    },
    {
     "name": "stdout",
     "output_type": "stream",
     "text": [
      "\tDelete /nfs3-p1/zsxm/dataset/2021-10-19-imh/shenlinhua/1/1-00BD.dcm\n",
      "****Processing shenqingchuan****\n",
      "****Processing shenyang****\n",
      "****Processing shizheng****\n",
      "****Processing songshuizhen****\n",
      "****Processing songxin****\n",
      "****Processing sunhuhua****\n",
      "****Processing sunshaozhi****\n",
      "****Processing sunshimin****\n",
      "****Processing taolidi****\n"
     ]
    },
    {
     "name": "stderr",
     "output_type": "stream",
     "text": [
      "Traceback (most recent call last):\n",
      "  File \"/tmp/ipykernel_95112/486662372.py\", line 8, in load_scan\n",
      "    sl_p = sl.pixel_array\n",
      "  File \"/disk1/zsxm/miniconda3/envs/pytorch/lib/python3.8/site-packages/pydicom/dataset.py\", line 836, in __getattr__\n",
      "    return object.__getattribute__(self, name)\n",
      "  File \"/disk1/zsxm/miniconda3/envs/pytorch/lib/python3.8/site-packages/pydicom/dataset.py\", line 1882, in pixel_array\n",
      "    self.convert_pixel_data()\n",
      "  File \"/disk1/zsxm/miniconda3/envs/pytorch/lib/python3.8/site-packages/pydicom/dataset.py\", line 1444, in convert_pixel_data\n",
      "    self._convert_pixel_data_without_handler()\n",
      "  File \"/disk1/zsxm/miniconda3/envs/pytorch/lib/python3.8/site-packages/pydicom/dataset.py\", line 1556, in _convert_pixel_data_without_handler\n",
      "    raise last_exception  # type: ignore[misc]\n",
      "  File \"/disk1/zsxm/miniconda3/envs/pytorch/lib/python3.8/site-packages/pydicom/dataset.py\", line 1536, in _convert_pixel_data_without_handler\n",
      "    self._do_pixel_data_conversion(handler)\n",
      "  File \"/disk1/zsxm/miniconda3/envs/pytorch/lib/python3.8/site-packages/pydicom/dataset.py\", line 1563, in _do_pixel_data_conversion\n",
      "    arr = handler.get_pixeldata(self)\n",
      "  File \"/disk1/zsxm/miniconda3/envs/pytorch/lib/python3.8/site-packages/pydicom/pixel_data_handlers/numpy_handler.py\", line 283, in get_pixeldata\n",
      "    raise AttributeError(\n",
      "AttributeError: Unable to convert the pixel data: one of Pixel Data, Float Pixel Data or Double Float Pixel Data must be present in the dataset\n"
     ]
    },
    {
     "name": "stdout",
     "output_type": "stream",
     "text": [
      "\tDelete /nfs3-p1/zsxm/dataset/2021-10-19-imh/taolidi/1/1-0101.dcm\n",
      "****Processing tianjianjun****\n"
     ]
    },
    {
     "name": "stderr",
     "output_type": "stream",
     "text": [
      "Traceback (most recent call last):\n",
      "  File \"/tmp/ipykernel_95112/486662372.py\", line 8, in load_scan\n",
      "    sl_p = sl.pixel_array\n",
      "  File \"/disk1/zsxm/miniconda3/envs/pytorch/lib/python3.8/site-packages/pydicom/dataset.py\", line 836, in __getattr__\n",
      "    return object.__getattribute__(self, name)\n",
      "  File \"/disk1/zsxm/miniconda3/envs/pytorch/lib/python3.8/site-packages/pydicom/dataset.py\", line 1882, in pixel_array\n",
      "    self.convert_pixel_data()\n",
      "  File \"/disk1/zsxm/miniconda3/envs/pytorch/lib/python3.8/site-packages/pydicom/dataset.py\", line 1444, in convert_pixel_data\n",
      "    self._convert_pixel_data_without_handler()\n",
      "  File \"/disk1/zsxm/miniconda3/envs/pytorch/lib/python3.8/site-packages/pydicom/dataset.py\", line 1556, in _convert_pixel_data_without_handler\n",
      "    raise last_exception  # type: ignore[misc]\n",
      "  File \"/disk1/zsxm/miniconda3/envs/pytorch/lib/python3.8/site-packages/pydicom/dataset.py\", line 1536, in _convert_pixel_data_without_handler\n",
      "    self._do_pixel_data_conversion(handler)\n",
      "  File \"/disk1/zsxm/miniconda3/envs/pytorch/lib/python3.8/site-packages/pydicom/dataset.py\", line 1563, in _do_pixel_data_conversion\n",
      "    arr = handler.get_pixeldata(self)\n",
      "  File \"/disk1/zsxm/miniconda3/envs/pytorch/lib/python3.8/site-packages/pydicom/pixel_data_handlers/numpy_handler.py\", line 283, in get_pixeldata\n",
      "    raise AttributeError(\n",
      "AttributeError: Unable to convert the pixel data: one of Pixel Data, Float Pixel Data or Double Float Pixel Data must be present in the dataset\n"
     ]
    },
    {
     "name": "stdout",
     "output_type": "stream",
     "text": [
      "\tDelete /nfs3-p1/zsxm/dataset/2021-10-19-imh/tianjianjun/1/1-0105.dcm\n",
      "****Processing wangchunli****\n",
      "****Processing wangjinlong****\n"
     ]
    },
    {
     "name": "stderr",
     "output_type": "stream",
     "text": [
      "Traceback (most recent call last):\n",
      "  File \"/tmp/ipykernel_95112/486662372.py\", line 8, in load_scan\n",
      "    sl_p = sl.pixel_array\n",
      "  File \"/disk1/zsxm/miniconda3/envs/pytorch/lib/python3.8/site-packages/pydicom/dataset.py\", line 836, in __getattr__\n",
      "    return object.__getattribute__(self, name)\n",
      "  File \"/disk1/zsxm/miniconda3/envs/pytorch/lib/python3.8/site-packages/pydicom/dataset.py\", line 1882, in pixel_array\n",
      "    self.convert_pixel_data()\n",
      "  File \"/disk1/zsxm/miniconda3/envs/pytorch/lib/python3.8/site-packages/pydicom/dataset.py\", line 1444, in convert_pixel_data\n",
      "    self._convert_pixel_data_without_handler()\n",
      "  File \"/disk1/zsxm/miniconda3/envs/pytorch/lib/python3.8/site-packages/pydicom/dataset.py\", line 1556, in _convert_pixel_data_without_handler\n",
      "    raise last_exception  # type: ignore[misc]\n",
      "  File \"/disk1/zsxm/miniconda3/envs/pytorch/lib/python3.8/site-packages/pydicom/dataset.py\", line 1536, in _convert_pixel_data_without_handler\n",
      "    self._do_pixel_data_conversion(handler)\n",
      "  File \"/disk1/zsxm/miniconda3/envs/pytorch/lib/python3.8/site-packages/pydicom/dataset.py\", line 1563, in _do_pixel_data_conversion\n",
      "    arr = handler.get_pixeldata(self)\n",
      "  File \"/disk1/zsxm/miniconda3/envs/pytorch/lib/python3.8/site-packages/pydicom/pixel_data_handlers/numpy_handler.py\", line 283, in get_pixeldata\n",
      "    raise AttributeError(\n",
      "AttributeError: Unable to convert the pixel data: one of Pixel Data, Float Pixel Data or Double Float Pixel Data must be present in the dataset\n"
     ]
    },
    {
     "name": "stdout",
     "output_type": "stream",
     "text": [
      "\tDelete /nfs3-p1/zsxm/dataset/2021-10-19-imh/wangjinlong/1/1-00CE.dcm\n",
      "****Processing wangruixing****\n",
      "****Processing wangwenzhong****\n"
     ]
    },
    {
     "name": "stderr",
     "output_type": "stream",
     "text": [
      "Traceback (most recent call last):\n",
      "  File \"/tmp/ipykernel_95112/486662372.py\", line 8, in load_scan\n",
      "    sl_p = sl.pixel_array\n",
      "  File \"/disk1/zsxm/miniconda3/envs/pytorch/lib/python3.8/site-packages/pydicom/dataset.py\", line 836, in __getattr__\n",
      "    return object.__getattribute__(self, name)\n",
      "  File \"/disk1/zsxm/miniconda3/envs/pytorch/lib/python3.8/site-packages/pydicom/dataset.py\", line 1882, in pixel_array\n",
      "    self.convert_pixel_data()\n",
      "  File \"/disk1/zsxm/miniconda3/envs/pytorch/lib/python3.8/site-packages/pydicom/dataset.py\", line 1444, in convert_pixel_data\n",
      "    self._convert_pixel_data_without_handler()\n",
      "  File \"/disk1/zsxm/miniconda3/envs/pytorch/lib/python3.8/site-packages/pydicom/dataset.py\", line 1556, in _convert_pixel_data_without_handler\n",
      "    raise last_exception  # type: ignore[misc]\n",
      "  File \"/disk1/zsxm/miniconda3/envs/pytorch/lib/python3.8/site-packages/pydicom/dataset.py\", line 1536, in _convert_pixel_data_without_handler\n",
      "    self._do_pixel_data_conversion(handler)\n",
      "  File \"/disk1/zsxm/miniconda3/envs/pytorch/lib/python3.8/site-packages/pydicom/dataset.py\", line 1563, in _do_pixel_data_conversion\n",
      "    arr = handler.get_pixeldata(self)\n",
      "  File \"/disk1/zsxm/miniconda3/envs/pytorch/lib/python3.8/site-packages/pydicom/pixel_data_handlers/numpy_handler.py\", line 283, in get_pixeldata\n",
      "    raise AttributeError(\n",
      "AttributeError: Unable to convert the pixel data: one of Pixel Data, Float Pixel Data or Double Float Pixel Data must be present in the dataset\n"
     ]
    },
    {
     "name": "stdout",
     "output_type": "stream",
     "text": [
      "\tDelete /nfs3-p1/zsxm/dataset/2021-10-19-imh/wangwenzhong/1/1-00F2.dcm\n",
      "****Processing wanlaoge****\n",
      "****Processing wuabao****\n",
      "****Processing wuguomiao****\n",
      "****Processing wurenjin****\n",
      "****Processing wurihua****\n",
      "****Processing wuxisheng****\n",
      "****Processing wuzonghe****\n",
      "****Processing xialiming****\n",
      "****Processing xiashengyun****\n",
      "****Processing xigenmu****\n",
      "****Processing xiongliandi****\n",
      "****Processing xuaijun****\n",
      "****Processing xujufeng****\n",
      "****Processing xuliang****\n",
      "****Processing xulinfeng****\n",
      "****Processing xuqindi****\n",
      "****Processing xuyuezhen****\n",
      "****Processing xuzhengcheng****\n",
      "****Processing yanglizhan****\n",
      "****Processing yangyanwen****\n",
      "****Processing yanzhengmin****\n",
      "****Processing yeguixiang****\n"
     ]
    },
    {
     "name": "stderr",
     "output_type": "stream",
     "text": [
      "Traceback (most recent call last):\n",
      "  File \"/tmp/ipykernel_95112/486662372.py\", line 8, in load_scan\n",
      "    sl_p = sl.pixel_array\n",
      "  File \"/disk1/zsxm/miniconda3/envs/pytorch/lib/python3.8/site-packages/pydicom/dataset.py\", line 836, in __getattr__\n",
      "    return object.__getattribute__(self, name)\n",
      "  File \"/disk1/zsxm/miniconda3/envs/pytorch/lib/python3.8/site-packages/pydicom/dataset.py\", line 1882, in pixel_array\n",
      "    self.convert_pixel_data()\n",
      "  File \"/disk1/zsxm/miniconda3/envs/pytorch/lib/python3.8/site-packages/pydicom/dataset.py\", line 1444, in convert_pixel_data\n",
      "    self._convert_pixel_data_without_handler()\n",
      "  File \"/disk1/zsxm/miniconda3/envs/pytorch/lib/python3.8/site-packages/pydicom/dataset.py\", line 1556, in _convert_pixel_data_without_handler\n",
      "    raise last_exception  # type: ignore[misc]\n",
      "  File \"/disk1/zsxm/miniconda3/envs/pytorch/lib/python3.8/site-packages/pydicom/dataset.py\", line 1536, in _convert_pixel_data_without_handler\n",
      "    self._do_pixel_data_conversion(handler)\n",
      "  File \"/disk1/zsxm/miniconda3/envs/pytorch/lib/python3.8/site-packages/pydicom/dataset.py\", line 1563, in _do_pixel_data_conversion\n",
      "    arr = handler.get_pixeldata(self)\n",
      "  File \"/disk1/zsxm/miniconda3/envs/pytorch/lib/python3.8/site-packages/pydicom/pixel_data_handlers/numpy_handler.py\", line 283, in get_pixeldata\n",
      "    raise AttributeError(\n",
      "AttributeError: Unable to convert the pixel data: one of Pixel Data, Float Pixel Data or Double Float Pixel Data must be present in the dataset\n"
     ]
    },
    {
     "name": "stdout",
     "output_type": "stream",
     "text": [
      "\tDelete /nfs3-p1/zsxm/dataset/2021-10-19-imh/yeguixiang/1/1-00B2.dcm\n",
      "****Processing yulitang****\n",
      "****Processing zhangdeting****\n",
      "****Processing zhangdongju****\n",
      "****Processing zhangjufen****\n",
      "****Processing zhanglingyun****\n",
      "****Processing zhanglvhao****\n"
     ]
    },
    {
     "name": "stderr",
     "output_type": "stream",
     "text": [
      "Traceback (most recent call last):\n",
      "  File \"/tmp/ipykernel_95112/486662372.py\", line 8, in load_scan\n",
      "    sl_p = sl.pixel_array\n",
      "  File \"/disk1/zsxm/miniconda3/envs/pytorch/lib/python3.8/site-packages/pydicom/dataset.py\", line 836, in __getattr__\n",
      "    return object.__getattribute__(self, name)\n",
      "  File \"/disk1/zsxm/miniconda3/envs/pytorch/lib/python3.8/site-packages/pydicom/dataset.py\", line 1882, in pixel_array\n",
      "    self.convert_pixel_data()\n",
      "  File \"/disk1/zsxm/miniconda3/envs/pytorch/lib/python3.8/site-packages/pydicom/dataset.py\", line 1444, in convert_pixel_data\n",
      "    self._convert_pixel_data_without_handler()\n",
      "  File \"/disk1/zsxm/miniconda3/envs/pytorch/lib/python3.8/site-packages/pydicom/dataset.py\", line 1556, in _convert_pixel_data_without_handler\n",
      "    raise last_exception  # type: ignore[misc]\n",
      "  File \"/disk1/zsxm/miniconda3/envs/pytorch/lib/python3.8/site-packages/pydicom/dataset.py\", line 1536, in _convert_pixel_data_without_handler\n",
      "    self._do_pixel_data_conversion(handler)\n",
      "  File \"/disk1/zsxm/miniconda3/envs/pytorch/lib/python3.8/site-packages/pydicom/dataset.py\", line 1563, in _do_pixel_data_conversion\n",
      "    arr = handler.get_pixeldata(self)\n",
      "  File \"/disk1/zsxm/miniconda3/envs/pytorch/lib/python3.8/site-packages/pydicom/pixel_data_handlers/numpy_handler.py\", line 283, in get_pixeldata\n",
      "    raise AttributeError(\n",
      "AttributeError: Unable to convert the pixel data: one of Pixel Data, Float Pixel Data or Double Float Pixel Data must be present in the dataset\n"
     ]
    },
    {
     "name": "stdout",
     "output_type": "stream",
     "text": [
      "\tDelete /nfs3-p1/zsxm/dataset/2021-10-19-imh/zhanglvhao/1/1-0077.dcm\n",
      "****Processing zhangrijun****\n",
      "****Processing zhangrufen****\n",
      "****Processing zhangweihu****\n",
      "****Processing zhangxiaoshun****\n",
      "****Processing zhangyougou****\n"
     ]
    },
    {
     "name": "stderr",
     "output_type": "stream",
     "text": [
      "Traceback (most recent call last):\n",
      "  File \"/tmp/ipykernel_95112/486662372.py\", line 8, in load_scan\n",
      "    sl_p = sl.pixel_array\n",
      "  File \"/disk1/zsxm/miniconda3/envs/pytorch/lib/python3.8/site-packages/pydicom/dataset.py\", line 836, in __getattr__\n",
      "    return object.__getattribute__(self, name)\n",
      "  File \"/disk1/zsxm/miniconda3/envs/pytorch/lib/python3.8/site-packages/pydicom/dataset.py\", line 1882, in pixel_array\n",
      "    self.convert_pixel_data()\n",
      "  File \"/disk1/zsxm/miniconda3/envs/pytorch/lib/python3.8/site-packages/pydicom/dataset.py\", line 1444, in convert_pixel_data\n",
      "    self._convert_pixel_data_without_handler()\n",
      "  File \"/disk1/zsxm/miniconda3/envs/pytorch/lib/python3.8/site-packages/pydicom/dataset.py\", line 1556, in _convert_pixel_data_without_handler\n",
      "    raise last_exception  # type: ignore[misc]\n",
      "  File \"/disk1/zsxm/miniconda3/envs/pytorch/lib/python3.8/site-packages/pydicom/dataset.py\", line 1536, in _convert_pixel_data_without_handler\n",
      "    self._do_pixel_data_conversion(handler)\n",
      "  File \"/disk1/zsxm/miniconda3/envs/pytorch/lib/python3.8/site-packages/pydicom/dataset.py\", line 1563, in _do_pixel_data_conversion\n",
      "    arr = handler.get_pixeldata(self)\n",
      "  File \"/disk1/zsxm/miniconda3/envs/pytorch/lib/python3.8/site-packages/pydicom/pixel_data_handlers/numpy_handler.py\", line 283, in get_pixeldata\n",
      "    raise AttributeError(\n",
      "AttributeError: Unable to convert the pixel data: one of Pixel Data, Float Pixel Data or Double Float Pixel Data must be present in the dataset\n"
     ]
    },
    {
     "name": "stdout",
     "output_type": "stream",
     "text": [
      "\tDelete /nfs3-p1/zsxm/dataset/2021-10-19-imh/zhangyougou/1/1-0063.dcm\n",
      "****Processing zhaoxiao****\n",
      "****Processing zhengxinfu****\n",
      "****Processing zhengyingchao****\n",
      "****Processing zhongafen****\n",
      "****Processing zhongmiaoxian****\n",
      "****Processing zhoulongxing****\n"
     ]
    },
    {
     "name": "stderr",
     "output_type": "stream",
     "text": [
      "Traceback (most recent call last):\n",
      "  File \"/tmp/ipykernel_95112/486662372.py\", line 8, in load_scan\n",
      "    sl_p = sl.pixel_array\n",
      "  File \"/disk1/zsxm/miniconda3/envs/pytorch/lib/python3.8/site-packages/pydicom/dataset.py\", line 836, in __getattr__\n",
      "    return object.__getattribute__(self, name)\n",
      "  File \"/disk1/zsxm/miniconda3/envs/pytorch/lib/python3.8/site-packages/pydicom/dataset.py\", line 1882, in pixel_array\n",
      "    self.convert_pixel_data()\n",
      "  File \"/disk1/zsxm/miniconda3/envs/pytorch/lib/python3.8/site-packages/pydicom/dataset.py\", line 1444, in convert_pixel_data\n",
      "    self._convert_pixel_data_without_handler()\n",
      "  File \"/disk1/zsxm/miniconda3/envs/pytorch/lib/python3.8/site-packages/pydicom/dataset.py\", line 1556, in _convert_pixel_data_without_handler\n",
      "    raise last_exception  # type: ignore[misc]\n",
      "  File \"/disk1/zsxm/miniconda3/envs/pytorch/lib/python3.8/site-packages/pydicom/dataset.py\", line 1536, in _convert_pixel_data_without_handler\n",
      "    self._do_pixel_data_conversion(handler)\n",
      "  File \"/disk1/zsxm/miniconda3/envs/pytorch/lib/python3.8/site-packages/pydicom/dataset.py\", line 1563, in _do_pixel_data_conversion\n",
      "    arr = handler.get_pixeldata(self)\n",
      "  File \"/disk1/zsxm/miniconda3/envs/pytorch/lib/python3.8/site-packages/pydicom/pixel_data_handlers/numpy_handler.py\", line 283, in get_pixeldata\n",
      "    raise AttributeError(\n",
      "AttributeError: Unable to convert the pixel data: one of Pixel Data, Float Pixel Data or Double Float Pixel Data must be present in the dataset\n"
     ]
    },
    {
     "name": "stdout",
     "output_type": "stream",
     "text": [
      "\tDelete /nfs3-p1/zsxm/dataset/2021-10-19-imh/zhoulongxing/1/1-007B.dcm\n",
      "****Processing zhouquantai****\n",
      "****Processing zhuchijiong****\n",
      "****Processing zhuxuequn****\n",
      "****Processing zhuyucai****\n"
     ]
    }
   ],
   "source": [
    "generate_image('/nfs3-p1/zsxm/dataset/2021-10-19-imh/')"
   ]
  },
  {
   "cell_type": "code",
   "execution_count": 8,
   "id": "9db2a8c4",
   "metadata": {},
   "outputs": [
    {
     "name": "stdout",
     "output_type": "stream",
     "text": [
      "****Processing yanyueying****\n"
     ]
    }
   ],
   "source": [
    "generate_image('/nfs3-p1/zsxm/dataset/2021-10-19-joint/')"
   ]
  },
  {
   "cell_type": "code",
   "execution_count": 9,
   "id": "5632014b",
   "metadata": {},
   "outputs": [
    {
     "name": "stdout",
     "output_type": "stream",
     "text": [
      "****Processing bairuixin-13-18-35-81****\n",
      "****Processing baochangmu****\n"
     ]
    },
    {
     "name": "stderr",
     "output_type": "stream",
     "text": [
      "Traceback (most recent call last):\n",
      "  File \"/tmp/ipykernel_95112/486662372.py\", line 8, in load_scan\n",
      "    sl_p = sl.pixel_array\n",
      "  File \"/disk1/zsxm/miniconda3/envs/pytorch/lib/python3.8/site-packages/pydicom/dataset.py\", line 836, in __getattr__\n",
      "    return object.__getattribute__(self, name)\n",
      "  File \"/disk1/zsxm/miniconda3/envs/pytorch/lib/python3.8/site-packages/pydicom/dataset.py\", line 1882, in pixel_array\n",
      "    self.convert_pixel_data()\n",
      "  File \"/disk1/zsxm/miniconda3/envs/pytorch/lib/python3.8/site-packages/pydicom/dataset.py\", line 1444, in convert_pixel_data\n",
      "    self._convert_pixel_data_without_handler()\n",
      "  File \"/disk1/zsxm/miniconda3/envs/pytorch/lib/python3.8/site-packages/pydicom/dataset.py\", line 1556, in _convert_pixel_data_without_handler\n",
      "    raise last_exception  # type: ignore[misc]\n",
      "  File \"/disk1/zsxm/miniconda3/envs/pytorch/lib/python3.8/site-packages/pydicom/dataset.py\", line 1536, in _convert_pixel_data_without_handler\n",
      "    self._do_pixel_data_conversion(handler)\n",
      "  File \"/disk1/zsxm/miniconda3/envs/pytorch/lib/python3.8/site-packages/pydicom/dataset.py\", line 1563, in _do_pixel_data_conversion\n",
      "    arr = handler.get_pixeldata(self)\n",
      "  File \"/disk1/zsxm/miniconda3/envs/pytorch/lib/python3.8/site-packages/pydicom/pixel_data_handlers/numpy_handler.py\", line 283, in get_pixeldata\n",
      "    raise AttributeError(\n",
      "AttributeError: Unable to convert the pixel data: one of Pixel Data, Float Pixel Data or Double Float Pixel Data must be present in the dataset\n"
     ]
    },
    {
     "name": "stdout",
     "output_type": "stream",
     "text": [
      "\tDelete /nfs3-p1/zsxm/dataset/2021-10-19-pau/baochangmu/1/1-007C.dcm\n",
      "****Processing baodezhong-22-29-39-91****\n",
      "****Processing chenbingrong-31-40-61-153****\n",
      "****Processing chenchuanmu****\n"
     ]
    },
    {
     "name": "stderr",
     "output_type": "stream",
     "text": [
      "Traceback (most recent call last):\n",
      "  File \"/tmp/ipykernel_95112/486662372.py\", line 8, in load_scan\n",
      "    sl_p = sl.pixel_array\n",
      "  File \"/disk1/zsxm/miniconda3/envs/pytorch/lib/python3.8/site-packages/pydicom/dataset.py\", line 836, in __getattr__\n",
      "    return object.__getattribute__(self, name)\n",
      "  File \"/disk1/zsxm/miniconda3/envs/pytorch/lib/python3.8/site-packages/pydicom/dataset.py\", line 1882, in pixel_array\n",
      "    self.convert_pixel_data()\n",
      "  File \"/disk1/zsxm/miniconda3/envs/pytorch/lib/python3.8/site-packages/pydicom/dataset.py\", line 1444, in convert_pixel_data\n",
      "    self._convert_pixel_data_without_handler()\n",
      "  File \"/disk1/zsxm/miniconda3/envs/pytorch/lib/python3.8/site-packages/pydicom/dataset.py\", line 1556, in _convert_pixel_data_without_handler\n",
      "    raise last_exception  # type: ignore[misc]\n",
      "  File \"/disk1/zsxm/miniconda3/envs/pytorch/lib/python3.8/site-packages/pydicom/dataset.py\", line 1536, in _convert_pixel_data_without_handler\n",
      "    self._do_pixel_data_conversion(handler)\n",
      "  File \"/disk1/zsxm/miniconda3/envs/pytorch/lib/python3.8/site-packages/pydicom/dataset.py\", line 1563, in _do_pixel_data_conversion\n",
      "    arr = handler.get_pixeldata(self)\n",
      "  File \"/disk1/zsxm/miniconda3/envs/pytorch/lib/python3.8/site-packages/pydicom/pixel_data_handlers/numpy_handler.py\", line 283, in get_pixeldata\n",
      "    raise AttributeError(\n",
      "AttributeError: Unable to convert the pixel data: one of Pixel Data, Float Pixel Data or Double Float Pixel Data must be present in the dataset\n"
     ]
    },
    {
     "name": "stdout",
     "output_type": "stream",
     "text": [
      "\tDelete /nfs3-p1/zsxm/dataset/2021-10-19-pau/chenchuanmu/1/1-0113.dcm\n",
      "****Processing chenfawen****\n"
     ]
    },
    {
     "name": "stderr",
     "output_type": "stream",
     "text": [
      "Traceback (most recent call last):\n",
      "  File \"/tmp/ipykernel_95112/486662372.py\", line 8, in load_scan\n",
      "    sl_p = sl.pixel_array\n",
      "  File \"/disk1/zsxm/miniconda3/envs/pytorch/lib/python3.8/site-packages/pydicom/dataset.py\", line 836, in __getattr__\n",
      "    return object.__getattribute__(self, name)\n",
      "  File \"/disk1/zsxm/miniconda3/envs/pytorch/lib/python3.8/site-packages/pydicom/dataset.py\", line 1882, in pixel_array\n",
      "    self.convert_pixel_data()\n",
      "  File \"/disk1/zsxm/miniconda3/envs/pytorch/lib/python3.8/site-packages/pydicom/dataset.py\", line 1444, in convert_pixel_data\n",
      "    self._convert_pixel_data_without_handler()\n",
      "  File \"/disk1/zsxm/miniconda3/envs/pytorch/lib/python3.8/site-packages/pydicom/dataset.py\", line 1556, in _convert_pixel_data_without_handler\n",
      "    raise last_exception  # type: ignore[misc]\n",
      "  File \"/disk1/zsxm/miniconda3/envs/pytorch/lib/python3.8/site-packages/pydicom/dataset.py\", line 1536, in _convert_pixel_data_without_handler\n",
      "    self._do_pixel_data_conversion(handler)\n",
      "  File \"/disk1/zsxm/miniconda3/envs/pytorch/lib/python3.8/site-packages/pydicom/dataset.py\", line 1563, in _do_pixel_data_conversion\n",
      "    arr = handler.get_pixeldata(self)\n",
      "  File \"/disk1/zsxm/miniconda3/envs/pytorch/lib/python3.8/site-packages/pydicom/pixel_data_handlers/numpy_handler.py\", line 283, in get_pixeldata\n",
      "    raise AttributeError(\n",
      "AttributeError: Unable to convert the pixel data: one of Pixel Data, Float Pixel Data or Double Float Pixel Data must be present in the dataset\n"
     ]
    },
    {
     "name": "stdout",
     "output_type": "stream",
     "text": [
      "\tDelete /nfs3-p1/zsxm/dataset/2021-10-19-pau/chenfawen/1/1-00C9.dcm\n",
      "****Processing chenfuding****\n",
      "****Processing chengshuiping****\n",
      "****Processing chenguifang****\n",
      "****Processing chenhefa****\n",
      "****Processing chenjinxuan****\n"
     ]
    },
    {
     "name": "stderr",
     "output_type": "stream",
     "text": [
      "Traceback (most recent call last):\n",
      "  File \"/tmp/ipykernel_95112/486662372.py\", line 8, in load_scan\n",
      "    sl_p = sl.pixel_array\n",
      "  File \"/disk1/zsxm/miniconda3/envs/pytorch/lib/python3.8/site-packages/pydicom/dataset.py\", line 836, in __getattr__\n",
      "    return object.__getattribute__(self, name)\n",
      "  File \"/disk1/zsxm/miniconda3/envs/pytorch/lib/python3.8/site-packages/pydicom/dataset.py\", line 1882, in pixel_array\n",
      "    self.convert_pixel_data()\n",
      "  File \"/disk1/zsxm/miniconda3/envs/pytorch/lib/python3.8/site-packages/pydicom/dataset.py\", line 1444, in convert_pixel_data\n",
      "    self._convert_pixel_data_without_handler()\n",
      "  File \"/disk1/zsxm/miniconda3/envs/pytorch/lib/python3.8/site-packages/pydicom/dataset.py\", line 1556, in _convert_pixel_data_without_handler\n",
      "    raise last_exception  # type: ignore[misc]\n",
      "  File \"/disk1/zsxm/miniconda3/envs/pytorch/lib/python3.8/site-packages/pydicom/dataset.py\", line 1536, in _convert_pixel_data_without_handler\n",
      "    self._do_pixel_data_conversion(handler)\n",
      "  File \"/disk1/zsxm/miniconda3/envs/pytorch/lib/python3.8/site-packages/pydicom/dataset.py\", line 1563, in _do_pixel_data_conversion\n",
      "    arr = handler.get_pixeldata(self)\n",
      "  File \"/disk1/zsxm/miniconda3/envs/pytorch/lib/python3.8/site-packages/pydicom/pixel_data_handlers/numpy_handler.py\", line 283, in get_pixeldata\n",
      "    raise AttributeError(\n",
      "AttributeError: Unable to convert the pixel data: one of Pixel Data, Float Pixel Data or Double Float Pixel Data must be present in the dataset\n"
     ]
    },
    {
     "name": "stdout",
     "output_type": "stream",
     "text": [
      "\tDelete /nfs3-p1/zsxm/dataset/2021-10-19-pau/chenjinxuan/1/1-00DA.dcm\n",
      "****Processing chenmazhang****\n"
     ]
    },
    {
     "name": "stderr",
     "output_type": "stream",
     "text": [
      "Traceback (most recent call last):\n",
      "  File \"/tmp/ipykernel_95112/486662372.py\", line 8, in load_scan\n",
      "    sl_p = sl.pixel_array\n",
      "  File \"/disk1/zsxm/miniconda3/envs/pytorch/lib/python3.8/site-packages/pydicom/dataset.py\", line 836, in __getattr__\n",
      "    return object.__getattribute__(self, name)\n",
      "  File \"/disk1/zsxm/miniconda3/envs/pytorch/lib/python3.8/site-packages/pydicom/dataset.py\", line 1882, in pixel_array\n",
      "    self.convert_pixel_data()\n",
      "  File \"/disk1/zsxm/miniconda3/envs/pytorch/lib/python3.8/site-packages/pydicom/dataset.py\", line 1444, in convert_pixel_data\n",
      "    self._convert_pixel_data_without_handler()\n",
      "  File \"/disk1/zsxm/miniconda3/envs/pytorch/lib/python3.8/site-packages/pydicom/dataset.py\", line 1556, in _convert_pixel_data_without_handler\n",
      "    raise last_exception  # type: ignore[misc]\n",
      "  File \"/disk1/zsxm/miniconda3/envs/pytorch/lib/python3.8/site-packages/pydicom/dataset.py\", line 1536, in _convert_pixel_data_without_handler\n",
      "    self._do_pixel_data_conversion(handler)\n",
      "  File \"/disk1/zsxm/miniconda3/envs/pytorch/lib/python3.8/site-packages/pydicom/dataset.py\", line 1563, in _do_pixel_data_conversion\n",
      "    arr = handler.get_pixeldata(self)\n",
      "  File \"/disk1/zsxm/miniconda3/envs/pytorch/lib/python3.8/site-packages/pydicom/pixel_data_handlers/numpy_handler.py\", line 283, in get_pixeldata\n",
      "    raise AttributeError(\n",
      "AttributeError: Unable to convert the pixel data: one of Pixel Data, Float Pixel Data or Double Float Pixel Data must be present in the dataset\n"
     ]
    },
    {
     "name": "stdout",
     "output_type": "stream",
     "text": [
      "\tDelete /nfs3-p1/zsxm/dataset/2021-10-19-pau/chenmazhang/1/1-00BA.dcm\n",
      "****Processing chenmingbao****\n",
      "****Processing chenpeisheng-15-20-28-82****\n",
      "****Processing chenrongqin****\n"
     ]
    },
    {
     "name": "stderr",
     "output_type": "stream",
     "text": [
      "Traceback (most recent call last):\n",
      "  File \"/tmp/ipykernel_95112/486662372.py\", line 8, in load_scan\n",
      "    sl_p = sl.pixel_array\n",
      "  File \"/disk1/zsxm/miniconda3/envs/pytorch/lib/python3.8/site-packages/pydicom/dataset.py\", line 836, in __getattr__\n",
      "    return object.__getattribute__(self, name)\n",
      "  File \"/disk1/zsxm/miniconda3/envs/pytorch/lib/python3.8/site-packages/pydicom/dataset.py\", line 1882, in pixel_array\n",
      "    self.convert_pixel_data()\n",
      "  File \"/disk1/zsxm/miniconda3/envs/pytorch/lib/python3.8/site-packages/pydicom/dataset.py\", line 1444, in convert_pixel_data\n",
      "    self._convert_pixel_data_without_handler()\n",
      "  File \"/disk1/zsxm/miniconda3/envs/pytorch/lib/python3.8/site-packages/pydicom/dataset.py\", line 1556, in _convert_pixel_data_without_handler\n",
      "    raise last_exception  # type: ignore[misc]\n",
      "  File \"/disk1/zsxm/miniconda3/envs/pytorch/lib/python3.8/site-packages/pydicom/dataset.py\", line 1536, in _convert_pixel_data_without_handler\n",
      "    self._do_pixel_data_conversion(handler)\n",
      "  File \"/disk1/zsxm/miniconda3/envs/pytorch/lib/python3.8/site-packages/pydicom/dataset.py\", line 1563, in _do_pixel_data_conversion\n",
      "    arr = handler.get_pixeldata(self)\n",
      "  File \"/disk1/zsxm/miniconda3/envs/pytorch/lib/python3.8/site-packages/pydicom/pixel_data_handlers/numpy_handler.py\", line 283, in get_pixeldata\n",
      "    raise AttributeError(\n",
      "AttributeError: Unable to convert the pixel data: one of Pixel Data, Float Pixel Data or Double Float Pixel Data must be present in the dataset\n"
     ]
    },
    {
     "name": "stdout",
     "output_type": "stream",
     "text": [
      "\tDelete /nfs3-p1/zsxm/dataset/2021-10-19-pau/chenrongqin/1/1-00CE.dcm\n",
      "****Processing chensimeng-23-32-48-127****\n",
      "****Processing chenzhiqing-19-25-34-92****\n",
      "****Processing dingguanyun****\n",
      "****Processing dinglianhua****\n",
      "****Processing dongyoufa****\n"
     ]
    },
    {
     "name": "stderr",
     "output_type": "stream",
     "text": [
      "Traceback (most recent call last):\n",
      "  File \"/tmp/ipykernel_95112/486662372.py\", line 8, in load_scan\n",
      "    sl_p = sl.pixel_array\n",
      "  File \"/disk1/zsxm/miniconda3/envs/pytorch/lib/python3.8/site-packages/pydicom/dataset.py\", line 836, in __getattr__\n",
      "    return object.__getattribute__(self, name)\n",
      "  File \"/disk1/zsxm/miniconda3/envs/pytorch/lib/python3.8/site-packages/pydicom/dataset.py\", line 1882, in pixel_array\n",
      "    self.convert_pixel_data()\n",
      "  File \"/disk1/zsxm/miniconda3/envs/pytorch/lib/python3.8/site-packages/pydicom/dataset.py\", line 1444, in convert_pixel_data\n",
      "    self._convert_pixel_data_without_handler()\n",
      "  File \"/disk1/zsxm/miniconda3/envs/pytorch/lib/python3.8/site-packages/pydicom/dataset.py\", line 1556, in _convert_pixel_data_without_handler\n",
      "    raise last_exception  # type: ignore[misc]\n",
      "  File \"/disk1/zsxm/miniconda3/envs/pytorch/lib/python3.8/site-packages/pydicom/dataset.py\", line 1536, in _convert_pixel_data_without_handler\n",
      "    self._do_pixel_data_conversion(handler)\n",
      "  File \"/disk1/zsxm/miniconda3/envs/pytorch/lib/python3.8/site-packages/pydicom/dataset.py\", line 1563, in _do_pixel_data_conversion\n",
      "    arr = handler.get_pixeldata(self)\n",
      "  File \"/disk1/zsxm/miniconda3/envs/pytorch/lib/python3.8/site-packages/pydicom/pixel_data_handlers/numpy_handler.py\", line 283, in get_pixeldata\n",
      "    raise AttributeError(\n",
      "AttributeError: Unable to convert the pixel data: one of Pixel Data, Float Pixel Data or Double Float Pixel Data must be present in the dataset\n"
     ]
    },
    {
     "name": "stdout",
     "output_type": "stream",
     "text": [
      "\tDelete /nfs3-p1/zsxm/dataset/2021-10-19-pau/dongyoufa/1/1-00CB.dcm\n",
      "****Processing fanggaoshen****\n"
     ]
    },
    {
     "name": "stderr",
     "output_type": "stream",
     "text": [
      "Traceback (most recent call last):\n",
      "  File \"/tmp/ipykernel_95112/486662372.py\", line 8, in load_scan\n",
      "    sl_p = sl.pixel_array\n",
      "  File \"/disk1/zsxm/miniconda3/envs/pytorch/lib/python3.8/site-packages/pydicom/dataset.py\", line 836, in __getattr__\n",
      "    return object.__getattribute__(self, name)\n",
      "  File \"/disk1/zsxm/miniconda3/envs/pytorch/lib/python3.8/site-packages/pydicom/dataset.py\", line 1882, in pixel_array\n",
      "    self.convert_pixel_data()\n",
      "  File \"/disk1/zsxm/miniconda3/envs/pytorch/lib/python3.8/site-packages/pydicom/dataset.py\", line 1444, in convert_pixel_data\n",
      "    self._convert_pixel_data_without_handler()\n",
      "  File \"/disk1/zsxm/miniconda3/envs/pytorch/lib/python3.8/site-packages/pydicom/dataset.py\", line 1556, in _convert_pixel_data_without_handler\n",
      "    raise last_exception  # type: ignore[misc]\n",
      "  File \"/disk1/zsxm/miniconda3/envs/pytorch/lib/python3.8/site-packages/pydicom/dataset.py\", line 1536, in _convert_pixel_data_without_handler\n",
      "    self._do_pixel_data_conversion(handler)\n",
      "  File \"/disk1/zsxm/miniconda3/envs/pytorch/lib/python3.8/site-packages/pydicom/dataset.py\", line 1563, in _do_pixel_data_conversion\n",
      "    arr = handler.get_pixeldata(self)\n",
      "  File \"/disk1/zsxm/miniconda3/envs/pytorch/lib/python3.8/site-packages/pydicom/pixel_data_handlers/numpy_handler.py\", line 283, in get_pixeldata\n",
      "    raise AttributeError(\n",
      "AttributeError: Unable to convert the pixel data: one of Pixel Data, Float Pixel Data or Double Float Pixel Data must be present in the dataset\n"
     ]
    },
    {
     "name": "stdout",
     "output_type": "stream",
     "text": [
      "\tDelete /nfs3-p1/zsxm/dataset/2021-10-19-pau/fanggaoshen/1/1-011B.dcm\n",
      "****Processing fangpingan****\n",
      "****Processing feiliangming****\n",
      "****Processing gaohuarong****\n",
      "****Processing gaoshiming****\n",
      "****Processing gaozhihua-20-26-37-93****\n",
      "****Processing gebingzhao****\n"
     ]
    },
    {
     "name": "stderr",
     "output_type": "stream",
     "text": [
      "Traceback (most recent call last):\n",
      "  File \"/tmp/ipykernel_95112/486662372.py\", line 8, in load_scan\n",
      "    sl_p = sl.pixel_array\n",
      "  File \"/disk1/zsxm/miniconda3/envs/pytorch/lib/python3.8/site-packages/pydicom/dataset.py\", line 836, in __getattr__\n",
      "    return object.__getattribute__(self, name)\n",
      "  File \"/disk1/zsxm/miniconda3/envs/pytorch/lib/python3.8/site-packages/pydicom/dataset.py\", line 1882, in pixel_array\n",
      "    self.convert_pixel_data()\n",
      "  File \"/disk1/zsxm/miniconda3/envs/pytorch/lib/python3.8/site-packages/pydicom/dataset.py\", line 1444, in convert_pixel_data\n",
      "    self._convert_pixel_data_without_handler()\n",
      "  File \"/disk1/zsxm/miniconda3/envs/pytorch/lib/python3.8/site-packages/pydicom/dataset.py\", line 1556, in _convert_pixel_data_without_handler\n",
      "    raise last_exception  # type: ignore[misc]\n",
      "  File \"/disk1/zsxm/miniconda3/envs/pytorch/lib/python3.8/site-packages/pydicom/dataset.py\", line 1536, in _convert_pixel_data_without_handler\n",
      "    self._do_pixel_data_conversion(handler)\n",
      "  File \"/disk1/zsxm/miniconda3/envs/pytorch/lib/python3.8/site-packages/pydicom/dataset.py\", line 1563, in _do_pixel_data_conversion\n",
      "    arr = handler.get_pixeldata(self)\n",
      "  File \"/disk1/zsxm/miniconda3/envs/pytorch/lib/python3.8/site-packages/pydicom/pixel_data_handlers/numpy_handler.py\", line 283, in get_pixeldata\n",
      "    raise AttributeError(\n",
      "AttributeError: Unable to convert the pixel data: one of Pixel Data, Float Pixel Data or Double Float Pixel Data must be present in the dataset\n"
     ]
    },
    {
     "name": "stdout",
     "output_type": "stream",
     "text": [
      "\tDelete /nfs3-p1/zsxm/dataset/2021-10-19-pau/gebingzhao/1/1-009B.dcm\n",
      "****Processing guohuazheng****\n"
     ]
    },
    {
     "name": "stderr",
     "output_type": "stream",
     "text": [
      "Traceback (most recent call last):\n",
      "  File \"/tmp/ipykernel_95112/486662372.py\", line 8, in load_scan\n",
      "    sl_p = sl.pixel_array\n",
      "  File \"/disk1/zsxm/miniconda3/envs/pytorch/lib/python3.8/site-packages/pydicom/dataset.py\", line 836, in __getattr__\n",
      "    return object.__getattribute__(self, name)\n",
      "  File \"/disk1/zsxm/miniconda3/envs/pytorch/lib/python3.8/site-packages/pydicom/dataset.py\", line 1882, in pixel_array\n",
      "    self.convert_pixel_data()\n",
      "  File \"/disk1/zsxm/miniconda3/envs/pytorch/lib/python3.8/site-packages/pydicom/dataset.py\", line 1444, in convert_pixel_data\n",
      "    self._convert_pixel_data_without_handler()\n",
      "  File \"/disk1/zsxm/miniconda3/envs/pytorch/lib/python3.8/site-packages/pydicom/dataset.py\", line 1556, in _convert_pixel_data_without_handler\n",
      "    raise last_exception  # type: ignore[misc]\n",
      "  File \"/disk1/zsxm/miniconda3/envs/pytorch/lib/python3.8/site-packages/pydicom/dataset.py\", line 1536, in _convert_pixel_data_without_handler\n",
      "    self._do_pixel_data_conversion(handler)\n",
      "  File \"/disk1/zsxm/miniconda3/envs/pytorch/lib/python3.8/site-packages/pydicom/dataset.py\", line 1563, in _do_pixel_data_conversion\n",
      "    arr = handler.get_pixeldata(self)\n",
      "  File \"/disk1/zsxm/miniconda3/envs/pytorch/lib/python3.8/site-packages/pydicom/pixel_data_handlers/numpy_handler.py\", line 283, in get_pixeldata\n",
      "    raise AttributeError(\n",
      "AttributeError: Unable to convert the pixel data: one of Pixel Data, Float Pixel Data or Double Float Pixel Data must be present in the dataset\n"
     ]
    },
    {
     "name": "stdout",
     "output_type": "stream",
     "text": [
      "\tDelete /nfs3-p1/zsxm/dataset/2021-10-19-pau/guohuazheng/1/1-00A0.dcm\n",
      "****Processing gusongqiao-17-24-32-80****\n",
      "****Processing guxin****\n",
      "****Processing hehongxiang****\n",
      "****Processing heqiang****\n"
     ]
    },
    {
     "name": "stderr",
     "output_type": "stream",
     "text": [
      "Traceback (most recent call last):\n",
      "  File \"/tmp/ipykernel_95112/486662372.py\", line 8, in load_scan\n",
      "    sl_p = sl.pixel_array\n",
      "  File \"/disk1/zsxm/miniconda3/envs/pytorch/lib/python3.8/site-packages/pydicom/dataset.py\", line 836, in __getattr__\n",
      "    return object.__getattribute__(self, name)\n",
      "  File \"/disk1/zsxm/miniconda3/envs/pytorch/lib/python3.8/site-packages/pydicom/dataset.py\", line 1882, in pixel_array\n",
      "    self.convert_pixel_data()\n",
      "  File \"/disk1/zsxm/miniconda3/envs/pytorch/lib/python3.8/site-packages/pydicom/dataset.py\", line 1444, in convert_pixel_data\n",
      "    self._convert_pixel_data_without_handler()\n",
      "  File \"/disk1/zsxm/miniconda3/envs/pytorch/lib/python3.8/site-packages/pydicom/dataset.py\", line 1556, in _convert_pixel_data_without_handler\n",
      "    raise last_exception  # type: ignore[misc]\n",
      "  File \"/disk1/zsxm/miniconda3/envs/pytorch/lib/python3.8/site-packages/pydicom/dataset.py\", line 1536, in _convert_pixel_data_without_handler\n",
      "    self._do_pixel_data_conversion(handler)\n",
      "  File \"/disk1/zsxm/miniconda3/envs/pytorch/lib/python3.8/site-packages/pydicom/dataset.py\", line 1563, in _do_pixel_data_conversion\n",
      "    arr = handler.get_pixeldata(self)\n",
      "  File \"/disk1/zsxm/miniconda3/envs/pytorch/lib/python3.8/site-packages/pydicom/pixel_data_handlers/numpy_handler.py\", line 283, in get_pixeldata\n",
      "    raise AttributeError(\n",
      "AttributeError: Unable to convert the pixel data: one of Pixel Data, Float Pixel Data or Double Float Pixel Data must be present in the dataset\n"
     ]
    },
    {
     "name": "stdout",
     "output_type": "stream",
     "text": [
      "\tDelete /nfs3-p1/zsxm/dataset/2021-10-19-pau/heqiang/1/1-00BD.dcm\n",
      "****Processing heshimo****\n",
      "****Processing heshufang****\n",
      "****Processing huajinyuan****\n",
      "****Processing huanggentian****\n",
      "****Processing huangqingming-31-40-55-148****\n",
      "****Processing huangyuanzhong****\n"
     ]
    },
    {
     "name": "stderr",
     "output_type": "stream",
     "text": [
      "Traceback (most recent call last):\n",
      "  File \"/tmp/ipykernel_95112/486662372.py\", line 8, in load_scan\n",
      "    sl_p = sl.pixel_array\n",
      "  File \"/disk1/zsxm/miniconda3/envs/pytorch/lib/python3.8/site-packages/pydicom/dataset.py\", line 836, in __getattr__\n",
      "    return object.__getattribute__(self, name)\n",
      "  File \"/disk1/zsxm/miniconda3/envs/pytorch/lib/python3.8/site-packages/pydicom/dataset.py\", line 1882, in pixel_array\n",
      "    self.convert_pixel_data()\n",
      "  File \"/disk1/zsxm/miniconda3/envs/pytorch/lib/python3.8/site-packages/pydicom/dataset.py\", line 1444, in convert_pixel_data\n",
      "    self._convert_pixel_data_without_handler()\n",
      "  File \"/disk1/zsxm/miniconda3/envs/pytorch/lib/python3.8/site-packages/pydicom/dataset.py\", line 1556, in _convert_pixel_data_without_handler\n",
      "    raise last_exception  # type: ignore[misc]\n",
      "  File \"/disk1/zsxm/miniconda3/envs/pytorch/lib/python3.8/site-packages/pydicom/dataset.py\", line 1536, in _convert_pixel_data_without_handler\n",
      "    self._do_pixel_data_conversion(handler)\n",
      "  File \"/disk1/zsxm/miniconda3/envs/pytorch/lib/python3.8/site-packages/pydicom/dataset.py\", line 1563, in _do_pixel_data_conversion\n",
      "    arr = handler.get_pixeldata(self)\n",
      "  File \"/disk1/zsxm/miniconda3/envs/pytorch/lib/python3.8/site-packages/pydicom/pixel_data_handlers/numpy_handler.py\", line 283, in get_pixeldata\n",
      "    raise AttributeError(\n",
      "AttributeError: Unable to convert the pixel data: one of Pixel Data, Float Pixel Data or Double Float Pixel Data must be present in the dataset\n"
     ]
    },
    {
     "name": "stdout",
     "output_type": "stream",
     "text": [
      "\tDelete /nfs3-p1/zsxm/dataset/2021-10-19-pau/huangyuanzhong/1/1-00C5.dcm\n",
      "****Processing huboan****\n"
     ]
    },
    {
     "name": "stderr",
     "output_type": "stream",
     "text": [
      "Traceback (most recent call last):\n",
      "  File \"/tmp/ipykernel_95112/486662372.py\", line 8, in load_scan\n",
      "    sl_p = sl.pixel_array\n",
      "  File \"/disk1/zsxm/miniconda3/envs/pytorch/lib/python3.8/site-packages/pydicom/dataset.py\", line 836, in __getattr__\n",
      "    return object.__getattribute__(self, name)\n",
      "  File \"/disk1/zsxm/miniconda3/envs/pytorch/lib/python3.8/site-packages/pydicom/dataset.py\", line 1882, in pixel_array\n",
      "    self.convert_pixel_data()\n",
      "  File \"/disk1/zsxm/miniconda3/envs/pytorch/lib/python3.8/site-packages/pydicom/dataset.py\", line 1444, in convert_pixel_data\n",
      "    self._convert_pixel_data_without_handler()\n",
      "  File \"/disk1/zsxm/miniconda3/envs/pytorch/lib/python3.8/site-packages/pydicom/dataset.py\", line 1556, in _convert_pixel_data_without_handler\n",
      "    raise last_exception  # type: ignore[misc]\n",
      "  File \"/disk1/zsxm/miniconda3/envs/pytorch/lib/python3.8/site-packages/pydicom/dataset.py\", line 1536, in _convert_pixel_data_without_handler\n",
      "    self._do_pixel_data_conversion(handler)\n",
      "  File \"/disk1/zsxm/miniconda3/envs/pytorch/lib/python3.8/site-packages/pydicom/dataset.py\", line 1563, in _do_pixel_data_conversion\n",
      "    arr = handler.get_pixeldata(self)\n",
      "  File \"/disk1/zsxm/miniconda3/envs/pytorch/lib/python3.8/site-packages/pydicom/pixel_data_handlers/numpy_handler.py\", line 283, in get_pixeldata\n",
      "    raise AttributeError(\n",
      "AttributeError: Unable to convert the pixel data: one of Pixel Data, Float Pixel Data or Double Float Pixel Data must be present in the dataset\n"
     ]
    },
    {
     "name": "stdout",
     "output_type": "stream",
     "text": [
      "\tDelete /nfs3-p1/zsxm/dataset/2021-10-19-pau/huboan/1/1-00BF.dcm\n",
      "****Processing huxuegen****\n",
      "****Processing huyin****\n",
      "****Processing jiangxianghong-38-47-61-145****\n",
      "****Processing jinguozhong****\n"
     ]
    },
    {
     "name": "stderr",
     "output_type": "stream",
     "text": [
      "Traceback (most recent call last):\n",
      "  File \"/tmp/ipykernel_95112/486662372.py\", line 8, in load_scan\n",
      "    sl_p = sl.pixel_array\n",
      "  File \"/disk1/zsxm/miniconda3/envs/pytorch/lib/python3.8/site-packages/pydicom/dataset.py\", line 836, in __getattr__\n",
      "    return object.__getattribute__(self, name)\n",
      "  File \"/disk1/zsxm/miniconda3/envs/pytorch/lib/python3.8/site-packages/pydicom/dataset.py\", line 1882, in pixel_array\n",
      "    self.convert_pixel_data()\n",
      "  File \"/disk1/zsxm/miniconda3/envs/pytorch/lib/python3.8/site-packages/pydicom/dataset.py\", line 1444, in convert_pixel_data\n",
      "    self._convert_pixel_data_without_handler()\n",
      "  File \"/disk1/zsxm/miniconda3/envs/pytorch/lib/python3.8/site-packages/pydicom/dataset.py\", line 1556, in _convert_pixel_data_without_handler\n",
      "    raise last_exception  # type: ignore[misc]\n",
      "  File \"/disk1/zsxm/miniconda3/envs/pytorch/lib/python3.8/site-packages/pydicom/dataset.py\", line 1536, in _convert_pixel_data_without_handler\n",
      "    self._do_pixel_data_conversion(handler)\n",
      "  File \"/disk1/zsxm/miniconda3/envs/pytorch/lib/python3.8/site-packages/pydicom/dataset.py\", line 1563, in _do_pixel_data_conversion\n",
      "    arr = handler.get_pixeldata(self)\n",
      "  File \"/disk1/zsxm/miniconda3/envs/pytorch/lib/python3.8/site-packages/pydicom/pixel_data_handlers/numpy_handler.py\", line 283, in get_pixeldata\n",
      "    raise AttributeError(\n",
      "AttributeError: Unable to convert the pixel data: one of Pixel Data, Float Pixel Data or Double Float Pixel Data must be present in the dataset\n"
     ]
    },
    {
     "name": "stdout",
     "output_type": "stream",
     "text": [
      "\tDelete /nfs3-p1/zsxm/dataset/2021-10-19-pau/jinguozhong/1/1-00D3.dcm\n",
      "****Processing jinhengde****\n"
     ]
    },
    {
     "name": "stderr",
     "output_type": "stream",
     "text": [
      "Traceback (most recent call last):\n",
      "  File \"/tmp/ipykernel_95112/486662372.py\", line 8, in load_scan\n",
      "    sl_p = sl.pixel_array\n",
      "  File \"/disk1/zsxm/miniconda3/envs/pytorch/lib/python3.8/site-packages/pydicom/dataset.py\", line 836, in __getattr__\n",
      "    return object.__getattribute__(self, name)\n",
      "  File \"/disk1/zsxm/miniconda3/envs/pytorch/lib/python3.8/site-packages/pydicom/dataset.py\", line 1882, in pixel_array\n",
      "    self.convert_pixel_data()\n",
      "  File \"/disk1/zsxm/miniconda3/envs/pytorch/lib/python3.8/site-packages/pydicom/dataset.py\", line 1444, in convert_pixel_data\n",
      "    self._convert_pixel_data_without_handler()\n",
      "  File \"/disk1/zsxm/miniconda3/envs/pytorch/lib/python3.8/site-packages/pydicom/dataset.py\", line 1556, in _convert_pixel_data_without_handler\n",
      "    raise last_exception  # type: ignore[misc]\n",
      "  File \"/disk1/zsxm/miniconda3/envs/pytorch/lib/python3.8/site-packages/pydicom/dataset.py\", line 1536, in _convert_pixel_data_without_handler\n",
      "    self._do_pixel_data_conversion(handler)\n",
      "  File \"/disk1/zsxm/miniconda3/envs/pytorch/lib/python3.8/site-packages/pydicom/dataset.py\", line 1563, in _do_pixel_data_conversion\n",
      "    arr = handler.get_pixeldata(self)\n",
      "  File \"/disk1/zsxm/miniconda3/envs/pytorch/lib/python3.8/site-packages/pydicom/pixel_data_handlers/numpy_handler.py\", line 283, in get_pixeldata\n",
      "    raise AttributeError(\n",
      "AttributeError: Unable to convert the pixel data: one of Pixel Data, Float Pixel Data or Double Float Pixel Data must be present in the dataset\n"
     ]
    },
    {
     "name": "stdout",
     "output_type": "stream",
     "text": [
      "\tDelete /nfs3-p1/zsxm/dataset/2021-10-19-pau/jinhengde/1/1-00CD.dcm\n",
      "****Processing jinxueyun****\n",
      "****Processing lifurong****\n",
      "****Processing linjinmu****\n",
      "****Processing linxiulian****\n",
      "****Processing linyunfu-18-23-35-84****\n",
      "****Processing linzhengyu****\n"
     ]
    },
    {
     "name": "stderr",
     "output_type": "stream",
     "text": [
      "Traceback (most recent call last):\n",
      "  File \"/tmp/ipykernel_95112/486662372.py\", line 8, in load_scan\n",
      "    sl_p = sl.pixel_array\n",
      "  File \"/disk1/zsxm/miniconda3/envs/pytorch/lib/python3.8/site-packages/pydicom/dataset.py\", line 836, in __getattr__\n",
      "    return object.__getattribute__(self, name)\n",
      "  File \"/disk1/zsxm/miniconda3/envs/pytorch/lib/python3.8/site-packages/pydicom/dataset.py\", line 1882, in pixel_array\n",
      "    self.convert_pixel_data()\n",
      "  File \"/disk1/zsxm/miniconda3/envs/pytorch/lib/python3.8/site-packages/pydicom/dataset.py\", line 1444, in convert_pixel_data\n",
      "    self._convert_pixel_data_without_handler()\n",
      "  File \"/disk1/zsxm/miniconda3/envs/pytorch/lib/python3.8/site-packages/pydicom/dataset.py\", line 1556, in _convert_pixel_data_without_handler\n",
      "    raise last_exception  # type: ignore[misc]\n",
      "  File \"/disk1/zsxm/miniconda3/envs/pytorch/lib/python3.8/site-packages/pydicom/dataset.py\", line 1536, in _convert_pixel_data_without_handler\n",
      "    self._do_pixel_data_conversion(handler)\n",
      "  File \"/disk1/zsxm/miniconda3/envs/pytorch/lib/python3.8/site-packages/pydicom/dataset.py\", line 1563, in _do_pixel_data_conversion\n",
      "    arr = handler.get_pixeldata(self)\n",
      "  File \"/disk1/zsxm/miniconda3/envs/pytorch/lib/python3.8/site-packages/pydicom/pixel_data_handlers/numpy_handler.py\", line 283, in get_pixeldata\n",
      "    raise AttributeError(\n",
      "AttributeError: Unable to convert the pixel data: one of Pixel Data, Float Pixel Data or Double Float Pixel Data must be present in the dataset\n"
     ]
    },
    {
     "name": "stdout",
     "output_type": "stream",
     "text": [
      "\tDelete /nfs3-p1/zsxm/dataset/2021-10-19-pau/linzhengyu/1/1-009E.dcm\n",
      "****Processing liushurong-25-34-45-127****\n",
      "****Processing liuyongliang****\n",
      "****Processing liyi-18-25-40-89****\n"
     ]
    },
    {
     "name": "stderr",
     "output_type": "stream",
     "text": [
      "Traceback (most recent call last):\n",
      "  File \"/tmp/ipykernel_95112/486662372.py\", line 8, in load_scan\n",
      "    sl_p = sl.pixel_array\n",
      "  File \"/disk1/zsxm/miniconda3/envs/pytorch/lib/python3.8/site-packages/pydicom/dataset.py\", line 836, in __getattr__\n",
      "    return object.__getattribute__(self, name)\n",
      "  File \"/disk1/zsxm/miniconda3/envs/pytorch/lib/python3.8/site-packages/pydicom/dataset.py\", line 1882, in pixel_array\n",
      "    self.convert_pixel_data()\n",
      "  File \"/disk1/zsxm/miniconda3/envs/pytorch/lib/python3.8/site-packages/pydicom/dataset.py\", line 1444, in convert_pixel_data\n",
      "    self._convert_pixel_data_without_handler()\n",
      "  File \"/disk1/zsxm/miniconda3/envs/pytorch/lib/python3.8/site-packages/pydicom/dataset.py\", line 1556, in _convert_pixel_data_without_handler\n",
      "    raise last_exception  # type: ignore[misc]\n",
      "  File \"/disk1/zsxm/miniconda3/envs/pytorch/lib/python3.8/site-packages/pydicom/dataset.py\", line 1536, in _convert_pixel_data_without_handler\n",
      "    self._do_pixel_data_conversion(handler)\n",
      "  File \"/disk1/zsxm/miniconda3/envs/pytorch/lib/python3.8/site-packages/pydicom/dataset.py\", line 1563, in _do_pixel_data_conversion\n",
      "    arr = handler.get_pixeldata(self)\n",
      "  File \"/disk1/zsxm/miniconda3/envs/pytorch/lib/python3.8/site-packages/pydicom/pixel_data_handlers/numpy_handler.py\", line 283, in get_pixeldata\n",
      "    raise AttributeError(\n",
      "AttributeError: Unable to convert the pixel data: one of Pixel Data, Float Pixel Data or Double Float Pixel Data must be present in the dataset\n"
     ]
    },
    {
     "name": "stdout",
     "output_type": "stream",
     "text": [
      "\tDelete /nfs3-p1/zsxm/dataset/2021-10-19-pau/liyi-18-25-40-89/1/1-008A.dcm\n",
      "****Processing liyonghong****\n",
      "****Processing liyuezhi****\n",
      "****Processing lizuojing****\n",
      "****Processing lujian****\n",
      "****Processing magengqiu****\n"
     ]
    },
    {
     "name": "stderr",
     "output_type": "stream",
     "text": [
      "Traceback (most recent call last):\n",
      "  File \"/tmp/ipykernel_95112/486662372.py\", line 8, in load_scan\n",
      "    sl_p = sl.pixel_array\n",
      "  File \"/disk1/zsxm/miniconda3/envs/pytorch/lib/python3.8/site-packages/pydicom/dataset.py\", line 836, in __getattr__\n",
      "    return object.__getattribute__(self, name)\n",
      "  File \"/disk1/zsxm/miniconda3/envs/pytorch/lib/python3.8/site-packages/pydicom/dataset.py\", line 1882, in pixel_array\n",
      "    self.convert_pixel_data()\n",
      "  File \"/disk1/zsxm/miniconda3/envs/pytorch/lib/python3.8/site-packages/pydicom/dataset.py\", line 1444, in convert_pixel_data\n",
      "    self._convert_pixel_data_without_handler()\n",
      "  File \"/disk1/zsxm/miniconda3/envs/pytorch/lib/python3.8/site-packages/pydicom/dataset.py\", line 1556, in _convert_pixel_data_without_handler\n",
      "    raise last_exception  # type: ignore[misc]\n",
      "  File \"/disk1/zsxm/miniconda3/envs/pytorch/lib/python3.8/site-packages/pydicom/dataset.py\", line 1536, in _convert_pixel_data_without_handler\n",
      "    self._do_pixel_data_conversion(handler)\n",
      "  File \"/disk1/zsxm/miniconda3/envs/pytorch/lib/python3.8/site-packages/pydicom/dataset.py\", line 1563, in _do_pixel_data_conversion\n",
      "    arr = handler.get_pixeldata(self)\n",
      "  File \"/disk1/zsxm/miniconda3/envs/pytorch/lib/python3.8/site-packages/pydicom/pixel_data_handlers/numpy_handler.py\", line 283, in get_pixeldata\n",
      "    raise AttributeError(\n",
      "AttributeError: Unable to convert the pixel data: one of Pixel Data, Float Pixel Data or Double Float Pixel Data must be present in the dataset\n"
     ]
    },
    {
     "name": "stdout",
     "output_type": "stream",
     "text": [
      "\tDelete /nfs3-p1/zsxm/dataset/2021-10-19-pau/magengqiu/1/1-0127.dcm\n",
      "****Processing maoshangxin****\n"
     ]
    },
    {
     "name": "stderr",
     "output_type": "stream",
     "text": [
      "Traceback (most recent call last):\n",
      "  File \"/tmp/ipykernel_95112/486662372.py\", line 8, in load_scan\n",
      "    sl_p = sl.pixel_array\n",
      "  File \"/disk1/zsxm/miniconda3/envs/pytorch/lib/python3.8/site-packages/pydicom/dataset.py\", line 836, in __getattr__\n",
      "    return object.__getattribute__(self, name)\n",
      "  File \"/disk1/zsxm/miniconda3/envs/pytorch/lib/python3.8/site-packages/pydicom/dataset.py\", line 1882, in pixel_array\n",
      "    self.convert_pixel_data()\n",
      "  File \"/disk1/zsxm/miniconda3/envs/pytorch/lib/python3.8/site-packages/pydicom/dataset.py\", line 1444, in convert_pixel_data\n",
      "    self._convert_pixel_data_without_handler()\n",
      "  File \"/disk1/zsxm/miniconda3/envs/pytorch/lib/python3.8/site-packages/pydicom/dataset.py\", line 1556, in _convert_pixel_data_without_handler\n",
      "    raise last_exception  # type: ignore[misc]\n",
      "  File \"/disk1/zsxm/miniconda3/envs/pytorch/lib/python3.8/site-packages/pydicom/dataset.py\", line 1536, in _convert_pixel_data_without_handler\n",
      "    self._do_pixel_data_conversion(handler)\n",
      "  File \"/disk1/zsxm/miniconda3/envs/pytorch/lib/python3.8/site-packages/pydicom/dataset.py\", line 1563, in _do_pixel_data_conversion\n",
      "    arr = handler.get_pixeldata(self)\n",
      "  File \"/disk1/zsxm/miniconda3/envs/pytorch/lib/python3.8/site-packages/pydicom/pixel_data_handlers/numpy_handler.py\", line 283, in get_pixeldata\n",
      "    raise AttributeError(\n",
      "AttributeError: Unable to convert the pixel data: one of Pixel Data, Float Pixel Data or Double Float Pixel Data must be present in the dataset\n"
     ]
    },
    {
     "name": "stdout",
     "output_type": "stream",
     "text": [
      "\tDelete /nfs3-p1/zsxm/dataset/2021-10-19-pau/maoshangxin/1/1-010D.dcm\n",
      "****Processing meichunming****\n",
      "****Processing miaohengtai****\n",
      "****Processing nigengrong-20-26-39-89****\n"
     ]
    },
    {
     "name": "stderr",
     "output_type": "stream",
     "text": [
      "Traceback (most recent call last):\n",
      "  File \"/tmp/ipykernel_95112/486662372.py\", line 8, in load_scan\n",
      "    sl_p = sl.pixel_array\n",
      "  File \"/disk1/zsxm/miniconda3/envs/pytorch/lib/python3.8/site-packages/pydicom/dataset.py\", line 836, in __getattr__\n",
      "    return object.__getattribute__(self, name)\n",
      "  File \"/disk1/zsxm/miniconda3/envs/pytorch/lib/python3.8/site-packages/pydicom/dataset.py\", line 1882, in pixel_array\n",
      "    self.convert_pixel_data()\n",
      "  File \"/disk1/zsxm/miniconda3/envs/pytorch/lib/python3.8/site-packages/pydicom/dataset.py\", line 1444, in convert_pixel_data\n",
      "    self._convert_pixel_data_without_handler()\n",
      "  File \"/disk1/zsxm/miniconda3/envs/pytorch/lib/python3.8/site-packages/pydicom/dataset.py\", line 1556, in _convert_pixel_data_without_handler\n",
      "    raise last_exception  # type: ignore[misc]\n",
      "  File \"/disk1/zsxm/miniconda3/envs/pytorch/lib/python3.8/site-packages/pydicom/dataset.py\", line 1536, in _convert_pixel_data_without_handler\n",
      "    self._do_pixel_data_conversion(handler)\n",
      "  File \"/disk1/zsxm/miniconda3/envs/pytorch/lib/python3.8/site-packages/pydicom/dataset.py\", line 1563, in _do_pixel_data_conversion\n",
      "    arr = handler.get_pixeldata(self)\n",
      "  File \"/disk1/zsxm/miniconda3/envs/pytorch/lib/python3.8/site-packages/pydicom/pixel_data_handlers/numpy_handler.py\", line 283, in get_pixeldata\n",
      "    raise AttributeError(\n",
      "AttributeError: Unable to convert the pixel data: one of Pixel Data, Float Pixel Data or Double Float Pixel Data must be present in the dataset\n"
     ]
    },
    {
     "name": "stdout",
     "output_type": "stream",
     "text": [
      "\tDelete /nfs3-p1/zsxm/dataset/2021-10-19-pau/nigengrong-20-26-39-89/1/1-008E.dcm\n",
      "****Processing qiananv-18-23-33-76****\n",
      "****Processing qiaozhiyin****\n",
      "****Processing qinzhangbing****\n",
      "****Processing qiuguozhang****\n",
      "****Processing qiujinrong-24-34-58-158****\n"
     ]
    },
    {
     "name": "stderr",
     "output_type": "stream",
     "text": [
      "Traceback (most recent call last):\n",
      "  File \"/tmp/ipykernel_95112/486662372.py\", line 8, in load_scan\n",
      "    sl_p = sl.pixel_array\n",
      "  File \"/disk1/zsxm/miniconda3/envs/pytorch/lib/python3.8/site-packages/pydicom/dataset.py\", line 836, in __getattr__\n",
      "    return object.__getattribute__(self, name)\n",
      "  File \"/disk1/zsxm/miniconda3/envs/pytorch/lib/python3.8/site-packages/pydicom/dataset.py\", line 1882, in pixel_array\n",
      "    self.convert_pixel_data()\n",
      "  File \"/disk1/zsxm/miniconda3/envs/pytorch/lib/python3.8/site-packages/pydicom/dataset.py\", line 1444, in convert_pixel_data\n",
      "    self._convert_pixel_data_without_handler()\n",
      "  File \"/disk1/zsxm/miniconda3/envs/pytorch/lib/python3.8/site-packages/pydicom/dataset.py\", line 1556, in _convert_pixel_data_without_handler\n",
      "    raise last_exception  # type: ignore[misc]\n",
      "  File \"/disk1/zsxm/miniconda3/envs/pytorch/lib/python3.8/site-packages/pydicom/dataset.py\", line 1536, in _convert_pixel_data_without_handler\n",
      "    self._do_pixel_data_conversion(handler)\n",
      "  File \"/disk1/zsxm/miniconda3/envs/pytorch/lib/python3.8/site-packages/pydicom/dataset.py\", line 1563, in _do_pixel_data_conversion\n",
      "    arr = handler.get_pixeldata(self)\n",
      "  File \"/disk1/zsxm/miniconda3/envs/pytorch/lib/python3.8/site-packages/pydicom/pixel_data_handlers/numpy_handler.py\", line 283, in get_pixeldata\n",
      "    raise AttributeError(\n",
      "AttributeError: Unable to convert the pixel data: one of Pixel Data, Float Pixel Data or Double Float Pixel Data must be present in the dataset\n"
     ]
    },
    {
     "name": "stdout",
     "output_type": "stream",
     "text": [
      "\tDelete /nfs3-p1/zsxm/dataset/2021-10-19-pau/qiujinrong-24-34-58-158/1/1-009E.dcm\n",
      "****Processing qiumeijun-28-36-52-133****\n",
      "****Processing quanjianzhong-24-36-51-138****\n",
      "****Processing rongjiliang****\n",
      "****Processing shaominjun-18-24-35-85****\n",
      "****Processing shengyueqin****\n",
      "****Processing shenzhongmin-36-47-68-140****\n",
      "****Processing songguoan****\n",
      "****Processing suzhijing****\n"
     ]
    },
    {
     "name": "stderr",
     "output_type": "stream",
     "text": [
      "Traceback (most recent call last):\n",
      "  File \"/tmp/ipykernel_95112/486662372.py\", line 8, in load_scan\n",
      "    sl_p = sl.pixel_array\n",
      "  File \"/disk1/zsxm/miniconda3/envs/pytorch/lib/python3.8/site-packages/pydicom/dataset.py\", line 836, in __getattr__\n",
      "    return object.__getattribute__(self, name)\n",
      "  File \"/disk1/zsxm/miniconda3/envs/pytorch/lib/python3.8/site-packages/pydicom/dataset.py\", line 1882, in pixel_array\n",
      "    self.convert_pixel_data()\n",
      "  File \"/disk1/zsxm/miniconda3/envs/pytorch/lib/python3.8/site-packages/pydicom/dataset.py\", line 1444, in convert_pixel_data\n",
      "    self._convert_pixel_data_without_handler()\n",
      "  File \"/disk1/zsxm/miniconda3/envs/pytorch/lib/python3.8/site-packages/pydicom/dataset.py\", line 1556, in _convert_pixel_data_without_handler\n",
      "    raise last_exception  # type: ignore[misc]\n",
      "  File \"/disk1/zsxm/miniconda3/envs/pytorch/lib/python3.8/site-packages/pydicom/dataset.py\", line 1536, in _convert_pixel_data_without_handler\n",
      "    self._do_pixel_data_conversion(handler)\n",
      "  File \"/disk1/zsxm/miniconda3/envs/pytorch/lib/python3.8/site-packages/pydicom/dataset.py\", line 1563, in _do_pixel_data_conversion\n",
      "    arr = handler.get_pixeldata(self)\n",
      "  File \"/disk1/zsxm/miniconda3/envs/pytorch/lib/python3.8/site-packages/pydicom/pixel_data_handlers/numpy_handler.py\", line 283, in get_pixeldata\n",
      "    raise AttributeError(\n",
      "AttributeError: Unable to convert the pixel data: one of Pixel Data, Float Pixel Data or Double Float Pixel Data must be present in the dataset\n"
     ]
    },
    {
     "name": "stdout",
     "output_type": "stream",
     "text": [
      "\tDelete /nfs3-p1/zsxm/dataset/2021-10-19-pau/suzhijing/1/1-00FB.dcm\n",
      "****Processing tangyijun****\n"
     ]
    },
    {
     "name": "stderr",
     "output_type": "stream",
     "text": [
      "Traceback (most recent call last):\n",
      "  File \"/tmp/ipykernel_95112/486662372.py\", line 8, in load_scan\n",
      "    sl_p = sl.pixel_array\n",
      "  File \"/disk1/zsxm/miniconda3/envs/pytorch/lib/python3.8/site-packages/pydicom/dataset.py\", line 836, in __getattr__\n",
      "    return object.__getattribute__(self, name)\n",
      "  File \"/disk1/zsxm/miniconda3/envs/pytorch/lib/python3.8/site-packages/pydicom/dataset.py\", line 1882, in pixel_array\n",
      "    self.convert_pixel_data()\n",
      "  File \"/disk1/zsxm/miniconda3/envs/pytorch/lib/python3.8/site-packages/pydicom/dataset.py\", line 1444, in convert_pixel_data\n",
      "    self._convert_pixel_data_without_handler()\n",
      "  File \"/disk1/zsxm/miniconda3/envs/pytorch/lib/python3.8/site-packages/pydicom/dataset.py\", line 1556, in _convert_pixel_data_without_handler\n",
      "    raise last_exception  # type: ignore[misc]\n",
      "  File \"/disk1/zsxm/miniconda3/envs/pytorch/lib/python3.8/site-packages/pydicom/dataset.py\", line 1536, in _convert_pixel_data_without_handler\n",
      "    self._do_pixel_data_conversion(handler)\n",
      "  File \"/disk1/zsxm/miniconda3/envs/pytorch/lib/python3.8/site-packages/pydicom/dataset.py\", line 1563, in _do_pixel_data_conversion\n",
      "    arr = handler.get_pixeldata(self)\n",
      "  File \"/disk1/zsxm/miniconda3/envs/pytorch/lib/python3.8/site-packages/pydicom/pixel_data_handlers/numpy_handler.py\", line 283, in get_pixeldata\n",
      "    raise AttributeError(\n",
      "AttributeError: Unable to convert the pixel data: one of Pixel Data, Float Pixel Data or Double Float Pixel Data must be present in the dataset\n"
     ]
    },
    {
     "name": "stdout",
     "output_type": "stream",
     "text": [
      "\tDelete /nfs3-p1/zsxm/dataset/2021-10-19-pau/tangyijun/1/1-011D.dcm\n",
      "****Processing tuchenghe****\n",
      "****Processing tuhuadong****\n",
      "****Processing wangbaosheng****\n",
      "****Processing wangdeqian-26-38-60-156****\n",
      "****Processing wangdequan****\n",
      "****Processing wangguoping****\n",
      "****Processing wangshiyao****\n",
      "****Processing wangyeping-25-33-49-129****\n",
      "****Processing weizhilin****\n"
     ]
    },
    {
     "name": "stderr",
     "output_type": "stream",
     "text": [
      "Traceback (most recent call last):\n",
      "  File \"/tmp/ipykernel_95112/486662372.py\", line 8, in load_scan\n",
      "    sl_p = sl.pixel_array\n",
      "  File \"/disk1/zsxm/miniconda3/envs/pytorch/lib/python3.8/site-packages/pydicom/dataset.py\", line 836, in __getattr__\n",
      "    return object.__getattribute__(self, name)\n",
      "  File \"/disk1/zsxm/miniconda3/envs/pytorch/lib/python3.8/site-packages/pydicom/dataset.py\", line 1882, in pixel_array\n",
      "    self.convert_pixel_data()\n",
      "  File \"/disk1/zsxm/miniconda3/envs/pytorch/lib/python3.8/site-packages/pydicom/dataset.py\", line 1444, in convert_pixel_data\n",
      "    self._convert_pixel_data_without_handler()\n",
      "  File \"/disk1/zsxm/miniconda3/envs/pytorch/lib/python3.8/site-packages/pydicom/dataset.py\", line 1556, in _convert_pixel_data_without_handler\n",
      "    raise last_exception  # type: ignore[misc]\n",
      "  File \"/disk1/zsxm/miniconda3/envs/pytorch/lib/python3.8/site-packages/pydicom/dataset.py\", line 1536, in _convert_pixel_data_without_handler\n",
      "    self._do_pixel_data_conversion(handler)\n",
      "  File \"/disk1/zsxm/miniconda3/envs/pytorch/lib/python3.8/site-packages/pydicom/dataset.py\", line 1563, in _do_pixel_data_conversion\n",
      "    arr = handler.get_pixeldata(self)\n",
      "  File \"/disk1/zsxm/miniconda3/envs/pytorch/lib/python3.8/site-packages/pydicom/pixel_data_handlers/numpy_handler.py\", line 283, in get_pixeldata\n",
      "    raise AttributeError(\n",
      "AttributeError: Unable to convert the pixel data: one of Pixel Data, Float Pixel Data or Double Float Pixel Data must be present in the dataset\n"
     ]
    },
    {
     "name": "stdout",
     "output_type": "stream",
     "text": [
      "\tDelete /nfs3-p1/zsxm/dataset/2021-10-19-pau/weizhilin/1/1-0083.dcm\n",
      "****Processing wugenbao-11-17-28-79****\n"
     ]
    },
    {
     "name": "stderr",
     "output_type": "stream",
     "text": [
      "Traceback (most recent call last):\n",
      "  File \"/tmp/ipykernel_95112/486662372.py\", line 8, in load_scan\n",
      "    sl_p = sl.pixel_array\n",
      "  File \"/disk1/zsxm/miniconda3/envs/pytorch/lib/python3.8/site-packages/pydicom/dataset.py\", line 836, in __getattr__\n",
      "    return object.__getattribute__(self, name)\n",
      "  File \"/disk1/zsxm/miniconda3/envs/pytorch/lib/python3.8/site-packages/pydicom/dataset.py\", line 1882, in pixel_array\n",
      "    self.convert_pixel_data()\n",
      "  File \"/disk1/zsxm/miniconda3/envs/pytorch/lib/python3.8/site-packages/pydicom/dataset.py\", line 1444, in convert_pixel_data\n",
      "    self._convert_pixel_data_without_handler()\n",
      "  File \"/disk1/zsxm/miniconda3/envs/pytorch/lib/python3.8/site-packages/pydicom/dataset.py\", line 1556, in _convert_pixel_data_without_handler\n",
      "    raise last_exception  # type: ignore[misc]\n",
      "  File \"/disk1/zsxm/miniconda3/envs/pytorch/lib/python3.8/site-packages/pydicom/dataset.py\", line 1536, in _convert_pixel_data_without_handler\n",
      "    self._do_pixel_data_conversion(handler)\n",
      "  File \"/disk1/zsxm/miniconda3/envs/pytorch/lib/python3.8/site-packages/pydicom/dataset.py\", line 1563, in _do_pixel_data_conversion\n",
      "    arr = handler.get_pixeldata(self)\n",
      "  File \"/disk1/zsxm/miniconda3/envs/pytorch/lib/python3.8/site-packages/pydicom/pixel_data_handlers/numpy_handler.py\", line 283, in get_pixeldata\n",
      "    raise AttributeError(\n",
      "AttributeError: Unable to convert the pixel data: one of Pixel Data, Float Pixel Data or Double Float Pixel Data must be present in the dataset\n"
     ]
    },
    {
     "name": "stdout",
     "output_type": "stream",
     "text": [
      "\tDelete /nfs3-p1/zsxm/dataset/2021-10-19-pau/wugenbao-11-17-28-79/1/1-007A.dcm\n",
      "****Processing xiahongsheng****\n",
      "****Processing xiangbaiquan****\n",
      "****Processing xiangguanbao****\n"
     ]
    },
    {
     "name": "stderr",
     "output_type": "stream",
     "text": [
      "Traceback (most recent call last):\n",
      "  File \"/tmp/ipykernel_95112/486662372.py\", line 8, in load_scan\n",
      "    sl_p = sl.pixel_array\n",
      "  File \"/disk1/zsxm/miniconda3/envs/pytorch/lib/python3.8/site-packages/pydicom/dataset.py\", line 836, in __getattr__\n",
      "    return object.__getattribute__(self, name)\n",
      "  File \"/disk1/zsxm/miniconda3/envs/pytorch/lib/python3.8/site-packages/pydicom/dataset.py\", line 1882, in pixel_array\n",
      "    self.convert_pixel_data()\n",
      "  File \"/disk1/zsxm/miniconda3/envs/pytorch/lib/python3.8/site-packages/pydicom/dataset.py\", line 1444, in convert_pixel_data\n",
      "    self._convert_pixel_data_without_handler()\n",
      "  File \"/disk1/zsxm/miniconda3/envs/pytorch/lib/python3.8/site-packages/pydicom/dataset.py\", line 1556, in _convert_pixel_data_without_handler\n",
      "    raise last_exception  # type: ignore[misc]\n",
      "  File \"/disk1/zsxm/miniconda3/envs/pytorch/lib/python3.8/site-packages/pydicom/dataset.py\", line 1536, in _convert_pixel_data_without_handler\n",
      "    self._do_pixel_data_conversion(handler)\n",
      "  File \"/disk1/zsxm/miniconda3/envs/pytorch/lib/python3.8/site-packages/pydicom/dataset.py\", line 1563, in _do_pixel_data_conversion\n",
      "    arr = handler.get_pixeldata(self)\n",
      "  File \"/disk1/zsxm/miniconda3/envs/pytorch/lib/python3.8/site-packages/pydicom/pixel_data_handlers/numpy_handler.py\", line 283, in get_pixeldata\n",
      "    raise AttributeError(\n",
      "AttributeError: Unable to convert the pixel data: one of Pixel Data, Float Pixel Data or Double Float Pixel Data must be present in the dataset\n"
     ]
    },
    {
     "name": "stdout",
     "output_type": "stream",
     "text": [
      "\tDelete /nfs3-p1/zsxm/dataset/2021-10-19-pau/xiangguanbao/1/1-00B8.dcm\n",
      "****Processing xiejun-18-27-43-122****\n",
      "****Processing xingwenqu****\n",
      "****Processing xuping****\n"
     ]
    },
    {
     "name": "stderr",
     "output_type": "stream",
     "text": [
      "Traceback (most recent call last):\n",
      "  File \"/tmp/ipykernel_95112/486662372.py\", line 8, in load_scan\n",
      "    sl_p = sl.pixel_array\n",
      "  File \"/disk1/zsxm/miniconda3/envs/pytorch/lib/python3.8/site-packages/pydicom/dataset.py\", line 836, in __getattr__\n",
      "    return object.__getattribute__(self, name)\n",
      "  File \"/disk1/zsxm/miniconda3/envs/pytorch/lib/python3.8/site-packages/pydicom/dataset.py\", line 1882, in pixel_array\n",
      "    self.convert_pixel_data()\n",
      "  File \"/disk1/zsxm/miniconda3/envs/pytorch/lib/python3.8/site-packages/pydicom/dataset.py\", line 1444, in convert_pixel_data\n",
      "    self._convert_pixel_data_without_handler()\n",
      "  File \"/disk1/zsxm/miniconda3/envs/pytorch/lib/python3.8/site-packages/pydicom/dataset.py\", line 1556, in _convert_pixel_data_without_handler\n",
      "    raise last_exception  # type: ignore[misc]\n",
      "  File \"/disk1/zsxm/miniconda3/envs/pytorch/lib/python3.8/site-packages/pydicom/dataset.py\", line 1536, in _convert_pixel_data_without_handler\n",
      "    self._do_pixel_data_conversion(handler)\n",
      "  File \"/disk1/zsxm/miniconda3/envs/pytorch/lib/python3.8/site-packages/pydicom/dataset.py\", line 1563, in _do_pixel_data_conversion\n",
      "    arr = handler.get_pixeldata(self)\n",
      "  File \"/disk1/zsxm/miniconda3/envs/pytorch/lib/python3.8/site-packages/pydicom/pixel_data_handlers/numpy_handler.py\", line 283, in get_pixeldata\n",
      "    raise AttributeError(\n",
      "AttributeError: Unable to convert the pixel data: one of Pixel Data, Float Pixel Data or Double Float Pixel Data must be present in the dataset\n"
     ]
    },
    {
     "name": "stdout",
     "output_type": "stream",
     "text": [
      "\tDelete /nfs3-p1/zsxm/dataset/2021-10-19-pau/xuping/1/1-00D8.dcm\n",
      "****Processing xushunying****\n",
      "****Processing xuwenxiang-19-25-38-91****\n",
      "****Processing xuxuee-11-16-24-81****\n"
     ]
    },
    {
     "name": "stderr",
     "output_type": "stream",
     "text": [
      "Traceback (most recent call last):\n",
      "  File \"/tmp/ipykernel_95112/486662372.py\", line 8, in load_scan\n",
      "    sl_p = sl.pixel_array\n",
      "  File \"/disk1/zsxm/miniconda3/envs/pytorch/lib/python3.8/site-packages/pydicom/dataset.py\", line 836, in __getattr__\n",
      "    return object.__getattribute__(self, name)\n",
      "  File \"/disk1/zsxm/miniconda3/envs/pytorch/lib/python3.8/site-packages/pydicom/dataset.py\", line 1882, in pixel_array\n",
      "    self.convert_pixel_data()\n",
      "  File \"/disk1/zsxm/miniconda3/envs/pytorch/lib/python3.8/site-packages/pydicom/dataset.py\", line 1444, in convert_pixel_data\n",
      "    self._convert_pixel_data_without_handler()\n",
      "  File \"/disk1/zsxm/miniconda3/envs/pytorch/lib/python3.8/site-packages/pydicom/dataset.py\", line 1556, in _convert_pixel_data_without_handler\n",
      "    raise last_exception  # type: ignore[misc]\n",
      "  File \"/disk1/zsxm/miniconda3/envs/pytorch/lib/python3.8/site-packages/pydicom/dataset.py\", line 1536, in _convert_pixel_data_without_handler\n",
      "    self._do_pixel_data_conversion(handler)\n",
      "  File \"/disk1/zsxm/miniconda3/envs/pytorch/lib/python3.8/site-packages/pydicom/dataset.py\", line 1563, in _do_pixel_data_conversion\n",
      "    arr = handler.get_pixeldata(self)\n",
      "  File \"/disk1/zsxm/miniconda3/envs/pytorch/lib/python3.8/site-packages/pydicom/pixel_data_handlers/numpy_handler.py\", line 283, in get_pixeldata\n",
      "    raise AttributeError(\n",
      "AttributeError: Unable to convert the pixel data: one of Pixel Data, Float Pixel Data or Double Float Pixel Data must be present in the dataset\n"
     ]
    },
    {
     "name": "stdout",
     "output_type": "stream",
     "text": [
      "\tDelete /nfs3-p1/zsxm/dataset/2021-10-19-pau/xuxuee-11-16-24-81/1/1-007B.dcm\n",
      "****Processing yingguocheng****\n",
      "****Processing yuanzhangqing-20-26-37-90****\n"
     ]
    },
    {
     "name": "stderr",
     "output_type": "stream",
     "text": [
      "Traceback (most recent call last):\n",
      "  File \"/tmp/ipykernel_95112/486662372.py\", line 8, in load_scan\n",
      "    sl_p = sl.pixel_array\n",
      "  File \"/disk1/zsxm/miniconda3/envs/pytorch/lib/python3.8/site-packages/pydicom/dataset.py\", line 836, in __getattr__\n",
      "    return object.__getattribute__(self, name)\n",
      "  File \"/disk1/zsxm/miniconda3/envs/pytorch/lib/python3.8/site-packages/pydicom/dataset.py\", line 1882, in pixel_array\n",
      "    self.convert_pixel_data()\n",
      "  File \"/disk1/zsxm/miniconda3/envs/pytorch/lib/python3.8/site-packages/pydicom/dataset.py\", line 1444, in convert_pixel_data\n",
      "    self._convert_pixel_data_without_handler()\n",
      "  File \"/disk1/zsxm/miniconda3/envs/pytorch/lib/python3.8/site-packages/pydicom/dataset.py\", line 1556, in _convert_pixel_data_without_handler\n",
      "    raise last_exception  # type: ignore[misc]\n",
      "  File \"/disk1/zsxm/miniconda3/envs/pytorch/lib/python3.8/site-packages/pydicom/dataset.py\", line 1536, in _convert_pixel_data_without_handler\n",
      "    self._do_pixel_data_conversion(handler)\n",
      "  File \"/disk1/zsxm/miniconda3/envs/pytorch/lib/python3.8/site-packages/pydicom/dataset.py\", line 1563, in _do_pixel_data_conversion\n",
      "    arr = handler.get_pixeldata(self)\n",
      "  File \"/disk1/zsxm/miniconda3/envs/pytorch/lib/python3.8/site-packages/pydicom/pixel_data_handlers/numpy_handler.py\", line 283, in get_pixeldata\n",
      "    raise AttributeError(\n",
      "AttributeError: Unable to convert the pixel data: one of Pixel Data, Float Pixel Data or Double Float Pixel Data must be present in the dataset\n"
     ]
    },
    {
     "name": "stdout",
     "output_type": "stream",
     "text": [
      "\tDelete /nfs3-p1/zsxm/dataset/2021-10-19-pau/yuanzhangqing-20-26-37-90/1/1-0085.dcm\n",
      "****Processing yujianshun-14-20-33-73****\n",
      "****Processing yukuiquan****\n",
      "****Processing yuxiaoshui****\n",
      "****Processing yuxingguan****\n",
      "****Processing zengchenhong****\n",
      "****Processing zhangshaohong-13-19-32-83****\n",
      "****Processing zhangzhengquan****\n",
      "****Processing zhaozhongqi-16-21-30-80****\n",
      "****Processing zhengaizhu****\n"
     ]
    },
    {
     "name": "stderr",
     "output_type": "stream",
     "text": [
      "Traceback (most recent call last):\n",
      "  File \"/tmp/ipykernel_95112/486662372.py\", line 8, in load_scan\n",
      "    sl_p = sl.pixel_array\n",
      "  File \"/disk1/zsxm/miniconda3/envs/pytorch/lib/python3.8/site-packages/pydicom/dataset.py\", line 836, in __getattr__\n",
      "    return object.__getattribute__(self, name)\n",
      "  File \"/disk1/zsxm/miniconda3/envs/pytorch/lib/python3.8/site-packages/pydicom/dataset.py\", line 1882, in pixel_array\n",
      "    self.convert_pixel_data()\n",
      "  File \"/disk1/zsxm/miniconda3/envs/pytorch/lib/python3.8/site-packages/pydicom/dataset.py\", line 1444, in convert_pixel_data\n",
      "    self._convert_pixel_data_without_handler()\n",
      "  File \"/disk1/zsxm/miniconda3/envs/pytorch/lib/python3.8/site-packages/pydicom/dataset.py\", line 1556, in _convert_pixel_data_without_handler\n",
      "    raise last_exception  # type: ignore[misc]\n",
      "  File \"/disk1/zsxm/miniconda3/envs/pytorch/lib/python3.8/site-packages/pydicom/dataset.py\", line 1536, in _convert_pixel_data_without_handler\n",
      "    self._do_pixel_data_conversion(handler)\n",
      "  File \"/disk1/zsxm/miniconda3/envs/pytorch/lib/python3.8/site-packages/pydicom/dataset.py\", line 1563, in _do_pixel_data_conversion\n",
      "    arr = handler.get_pixeldata(self)\n",
      "  File \"/disk1/zsxm/miniconda3/envs/pytorch/lib/python3.8/site-packages/pydicom/pixel_data_handlers/numpy_handler.py\", line 283, in get_pixeldata\n",
      "    raise AttributeError(\n",
      "AttributeError: Unable to convert the pixel data: one of Pixel Data, Float Pixel Data or Double Float Pixel Data must be present in the dataset\n"
     ]
    },
    {
     "name": "stdout",
     "output_type": "stream",
     "text": [
      "\tDelete /nfs3-p1/zsxm/dataset/2021-10-19-pau/zhengaizhu/1/1-00C7.dcm\n",
      "****Processing zhengjinyue****\n",
      "****Processing zhengxiusheng****\n",
      "****Processing zhongjianhong****\n"
     ]
    },
    {
     "name": "stderr",
     "output_type": "stream",
     "text": [
      "Traceback (most recent call last):\n",
      "  File \"/tmp/ipykernel_95112/486662372.py\", line 8, in load_scan\n",
      "    sl_p = sl.pixel_array\n",
      "  File \"/disk1/zsxm/miniconda3/envs/pytorch/lib/python3.8/site-packages/pydicom/dataset.py\", line 836, in __getattr__\n",
      "    return object.__getattribute__(self, name)\n",
      "  File \"/disk1/zsxm/miniconda3/envs/pytorch/lib/python3.8/site-packages/pydicom/dataset.py\", line 1882, in pixel_array\n",
      "    self.convert_pixel_data()\n",
      "  File \"/disk1/zsxm/miniconda3/envs/pytorch/lib/python3.8/site-packages/pydicom/dataset.py\", line 1444, in convert_pixel_data\n",
      "    self._convert_pixel_data_without_handler()\n",
      "  File \"/disk1/zsxm/miniconda3/envs/pytorch/lib/python3.8/site-packages/pydicom/dataset.py\", line 1556, in _convert_pixel_data_without_handler\n",
      "    raise last_exception  # type: ignore[misc]\n",
      "  File \"/disk1/zsxm/miniconda3/envs/pytorch/lib/python3.8/site-packages/pydicom/dataset.py\", line 1536, in _convert_pixel_data_without_handler\n",
      "    self._do_pixel_data_conversion(handler)\n",
      "  File \"/disk1/zsxm/miniconda3/envs/pytorch/lib/python3.8/site-packages/pydicom/dataset.py\", line 1563, in _do_pixel_data_conversion\n",
      "    arr = handler.get_pixeldata(self)\n",
      "  File \"/disk1/zsxm/miniconda3/envs/pytorch/lib/python3.8/site-packages/pydicom/pixel_data_handlers/numpy_handler.py\", line 283, in get_pixeldata\n",
      "    raise AttributeError(\n",
      "AttributeError: Unable to convert the pixel data: one of Pixel Data, Float Pixel Data or Double Float Pixel Data must be present in the dataset\n"
     ]
    },
    {
     "name": "stdout",
     "output_type": "stream",
     "text": [
      "\tDelete /nfs3-p1/zsxm/dataset/2021-10-19-pau/zhongjianhong/1/1-00CA.dcm\n",
      "****Processing zhongzhongnan****\n",
      "****Processing zhougensheng-32-44-60-141****\n",
      "****Processing zhourongcheng****\n",
      "****Processing zhouxincang-31-42-59-139****\n"
     ]
    },
    {
     "name": "stderr",
     "output_type": "stream",
     "text": [
      "Traceback (most recent call last):\n",
      "  File \"/tmp/ipykernel_95112/486662372.py\", line 8, in load_scan\n",
      "    sl_p = sl.pixel_array\n",
      "  File \"/disk1/zsxm/miniconda3/envs/pytorch/lib/python3.8/site-packages/pydicom/dataset.py\", line 836, in __getattr__\n",
      "    return object.__getattribute__(self, name)\n",
      "  File \"/disk1/zsxm/miniconda3/envs/pytorch/lib/python3.8/site-packages/pydicom/dataset.py\", line 1882, in pixel_array\n",
      "    self.convert_pixel_data()\n",
      "  File \"/disk1/zsxm/miniconda3/envs/pytorch/lib/python3.8/site-packages/pydicom/dataset.py\", line 1444, in convert_pixel_data\n",
      "    self._convert_pixel_data_without_handler()\n",
      "  File \"/disk1/zsxm/miniconda3/envs/pytorch/lib/python3.8/site-packages/pydicom/dataset.py\", line 1556, in _convert_pixel_data_without_handler\n",
      "    raise last_exception  # type: ignore[misc]\n",
      "  File \"/disk1/zsxm/miniconda3/envs/pytorch/lib/python3.8/site-packages/pydicom/dataset.py\", line 1536, in _convert_pixel_data_without_handler\n",
      "    self._do_pixel_data_conversion(handler)\n",
      "  File \"/disk1/zsxm/miniconda3/envs/pytorch/lib/python3.8/site-packages/pydicom/dataset.py\", line 1563, in _do_pixel_data_conversion\n",
      "    arr = handler.get_pixeldata(self)\n",
      "  File \"/disk1/zsxm/miniconda3/envs/pytorch/lib/python3.8/site-packages/pydicom/pixel_data_handlers/numpy_handler.py\", line 283, in get_pixeldata\n",
      "    raise AttributeError(\n",
      "AttributeError: Unable to convert the pixel data: one of Pixel Data, Float Pixel Data or Double Float Pixel Data must be present in the dataset\n"
     ]
    },
    {
     "name": "stdout",
     "output_type": "stream",
     "text": [
      "\tDelete /nfs3-p1/zsxm/dataset/2021-10-19-pau/zhouxincang-31-42-59-139/1/1-008B.dcm\n",
      "****Processing zhujianjun****\n",
      "****Processing zhujianping****\n"
     ]
    }
   ],
   "source": [
    "generate_image('/nfs3-p1/zsxm/dataset/2021-10-19-pau/')"
   ]
  },
  {
   "cell_type": "code",
   "execution_count": null,
   "id": "fdc7d988",
   "metadata": {
    "scrolled": true
   },
   "outputs": [],
   "source": [
    "# 将各个病例中的png图片文件夹统一移动到一起供yolov5检测\n",
    "def move_together_for_detect(input_folder, dst_path):\n",
    "    if not os.path.exists(dst_path):\n",
    "        os.mkdir(dst_path)\n",
    "    root_name = input_folder.split('/')[-1] if input_folder.split('/')[-1] != '' else input_folder.split('/')[-2]\n",
    "    dst_path = os.path.join(dst_path, root_name)\n",
    "\n",
    "    for patient in sorted(os.listdir(input_folder)):\n",
    "        if os.path.isfile(os.path.join(input_folder, patient)):\n",
    "            continue\n",
    "        print(f'****Processing {patient}****')\n",
    "        name = patient #name = patient.split('-')[0]\n",
    "        if os.path.exists(os.path.join(dst_path, name)):\n",
    "            print(f\"\\tremove {os.path.join(dst_path, name)}\")\n",
    "            shutil.rmtree(os.path.join(dst_path, name))\n",
    "\n",
    "        try:\n",
    "            shutil.copytree(os.path.join(input_folder, patient, '1', f'images_{lower_b}_{upper_b}'), os.path.join(dst_path, name))\n",
    "        except:\n",
    "            traceback.print_exc()\n",
    "\n",
    "# move_together_for_detect('/nfs3-p1/zsxm/dataset/2021-9-8/', '/nfs3-p1/zsxm/dataset/9_detect/')\n",
    "# move_together_for_detect('/nfs3-p1/zsxm/dataset/2021-9-13/', '/nfs3-p1/zsxm/dataset/9_detect/')\n",
    "# move_together_for_detect('/nfs3-p1/zsxm/dataset/2021-9-19/', '/nfs3-p1/zsxm/dataset/9_detect/')\n",
    "move_together_for_detect('/nfs3-p1/zsxm/dataset/2021-9-28/', '/nfs3-p1/zsxm/dataset/9_detect/')"
   ]
  },
  {
   "cell_type": "code",
   "execution_count": null,
   "id": "07a41e2b",
   "metadata": {
    "scrolled": true
   },
   "outputs": [],
   "source": [
    "# 用在更换窗宽窗位的时候，因为已经经过yolov5的检测生成了标签，故直接移动图片到images文件夹下即可\n",
    "def directly_move_to_image_label(input_folder, dst_path):\n",
    "    if not os.path.exists(dst_path):\n",
    "        os.mkdir(dst_path)\n",
    "\n",
    "    for patient in sorted(os.listdir(input_folder)):\n",
    "        if os.path.isfile(os.path.join(input_folder, patient)):\n",
    "            continue\n",
    "        print(f'****Processing {patient}****')\n",
    "        name = patient #name = patient.split('-')[0]\n",
    "        image_path = os.path.join(dst_path, name, 'images')\n",
    "        if os.path.exists(image_path):\n",
    "            print(f\"\\tremove {image_path}\")\n",
    "            shutil.rmtree(image_path)\n",
    "\n",
    "        try:\n",
    "            shutil.copytree(os.path.join(input_folder, patient, '1', f'images_{lower_b}_{upper_b}'), image_path)\n",
    "        except:\n",
    "            traceback.print_exc()\n",
    "            \n",
    "directly_move_to_image_label('/nfs3-p1/zsxm/dataset/2021-9-8/', '/nfs3-p1/zsxm/dataset/aorta_ct_img_label/positive')\n",
    "directly_move_to_image_label('/nfs3-p1/zsxm/dataset/2021-9-13/', '/nfs3-p1/zsxm/dataset/aorta_ct_img_label/positive')\n",
    "directly_move_to_image_label('/nfs3-p1/zsxm/dataset/2021-9-19/', '/nfs3-p1/zsxm/dataset/aorta_ct_img_label/positive_new')"
   ]
  },
  {
   "cell_type": "code",
   "execution_count": null,
   "id": "22933554",
   "metadata": {
    "scrolled": true
   },
   "outputs": [],
   "source": [
    "# 将移动到待测文件夹中的原图移动到images文件夹\n",
    "def move_ori_image_to_sigle_folder(input_path, dst_path):\n",
    "    if not os.path.exists(dst_path):\n",
    "        os.mkdir(dst_path)\n",
    "    for patient in os.listdir(input_path):\n",
    "        print(f'****Processing {patient}****')\n",
    "        if not os.path.exists(os.path.join(dst_path, patient)):\n",
    "            os.mkdir(os.path.join(dst_path, patient))\n",
    "        image_path = os.path.join(dst_path, patient, 'images')\n",
    "        if os.path.exists(image_path):\n",
    "            shutil.rmtree(image_path)\n",
    "        os.mkdir(image_path)\n",
    "        for img in os.listdir(os.path.join(input_path, patient)):\n",
    "            if os.path.isfile(os.path.join(input_path, patient, img)):\n",
    "                shutil.move(os.path.join(input_path, patient, img), os.path.join(image_path, img))\n",
    "        os.rmdir(os.path.join(input_path, patient))\n",
    "    os.rmdir(input_path)\n",
    "    \n",
    "# move_ori_image_to_sigle_folder('/nfs3-p1/zsxm/dataset/9_detect/2021-9-8/', '/nfs3-p1/zsxm/dataset/aorta_ct_img_label/positive')\n",
    "# move_ori_image_to_sigle_folder('/nfs3-p1/zsxm/dataset/9_detect/2021-9-13/', '/nfs3-p1/zsxm/dataset/aorta_ct_img_label/positive')\n",
    "# move_ori_image_to_sigle_folder('/nfs3-p1/zsxm/dataset/9_detect/2021-9-19/', '/nfs3-p1/zsxm/dataset/aorta_ct_img_label/positive_new')\n",
    "move_ori_image_to_sigle_folder('/nfs3-p1/zsxm/dataset/9_detect/2021-9-28/', '/nfs3-p1/zsxm/dataset/aorta_ct_img_label/positive_new2')"
   ]
  },
  {
   "cell_type": "code",
   "execution_count": null,
   "id": "1f5b969c",
   "metadata": {
    "scrolled": true
   },
   "outputs": [],
   "source": [
    "# 将yolov5的检测结果（标签和带bounding box的图像）移动到相应文件夹\n",
    "def move_detect_result_to_folder(input_path, output_path):\n",
    "    for patient in os.listdir(input_path):\n",
    "        print(f'Processing {patient}')\n",
    "        image_path = os.path.join(output_path, patient, 'pred_images')\n",
    "        if os.path.exists(image_path):\n",
    "            shutil.rmtree(image_path)\n",
    "        os.mkdir(image_path)\n",
    "        for file in os.listdir(os.path.join(input_path, patient)):\n",
    "            if os.path.isfile(os.path.join(input_path, patient, file)):\n",
    "                shutil.move(os.path.join(input_path, patient, file), os.path.join(image_path, file))\n",
    "            elif os.path.isdir(os.path.join(input_path, patient, file)):\n",
    "                if os.path.exists(os.path.join(output_path, patient, file)):\n",
    "                    shutil.rmtree(os.path.join(output_path, patient, file))\n",
    "                shutil.move(os.path.join(input_path, patient, file), os.path.join(output_path, patient, file))\n",
    "        os.rmdir(os.path.join(input_path, patient))\n",
    "    os.rmdir(input_path)\n",
    "                \n",
    "# move_detect_result_to_folder('/nfs3-p1/zsxm/dataset/9_detect/pred/2021-9-8/', '/nfs3-p1/zsxm/dataset/aorta_ct_img_label/positive')\n",
    "# move_detect_result_to_folder('/nfs3-p1/zsxm/dataset/9_detect/pred/2021-9-13/', '/nfs3-p1/zsxm/dataset/aorta_ct_img_label/positive')\n",
    "# move_detect_result_to_folder('/nfs3-p1/zsxm/dataset/9_detect/pred/2021-9-19/', '/nfs3-p1/zsxm/dataset/aorta_ct_img_label/positive_new')\n",
    "move_detect_result_to_folder('/nfs3-p1/zsxm/dataset/9_detect/pred/2021-9-28/', '/nfs3-p1/zsxm/dataset/aorta_ct_img_label/positive_new2')"
   ]
  },
  {
   "cell_type": "code",
   "execution_count": null,
   "id": "9a10cf95",
   "metadata": {
    "scrolled": true
   },
   "outputs": [],
   "source": [
    "# 切出主动脉\n",
    "def find_coordinate(height, width, label_file, aorta):\n",
    "    with open(label_file, 'r') as f:\n",
    "        lines = f.readlines()\n",
    "    assert len(lines) <= 2, f'label.txt应该存储不多于2个label：{label_file.split(\"/\")[-1]}'\n",
    "    if len(lines) == 1:\n",
    "        assert aorta == 'j', f'如果只有一个label那么此时应为降主动脉, 但实际为{aorta}：{label_file.split(\"/\")[-1]}'\n",
    "        corr = list(map(lambda x: float(x), lines[0].split()))\n",
    "        x, y, w, h = corr[1], corr[2], corr[3], corr[4]\n",
    "        assert 0.25 < x < 0.75 and 0.25 < y < 0.75, f'边界框中心({x}, {y})出界：{label_file.split(\"/\")[-1]}'\n",
    "    else:\n",
    "        corr1, corr2 = list(map(lambda x: float(x), lines[0].split())), list(map(lambda x: float(x), lines[1].split()))\n",
    "        assert 0.25 < corr1[1] < 0.75 and 0.25 < corr1[2] < 0.75, f'边界框1中心({corr1[1]}, {corr1[2]})出界：{label_file.split(\"/\")[-1]}'\n",
    "        assert 0.25 < corr2[1] < 0.75 and 0.25 < corr2[2] < 0.75, f'边界框2中心({corr2[1]}, {corr2[2]})出界：{label_file.split(\"/\")[-1]}'\n",
    "        if aorta == 's':\n",
    "            x, y, w, h = (corr1[1], corr1[2], corr1[3], corr1[4]) if corr1[2] < corr2[2] else (corr2[1], corr2[2], corr2[3], corr2[4])\n",
    "        elif aorta == 'j':\n",
    "            x, y, w, h = (corr1[1], corr1[2], corr1[3], corr1[4]) if corr1[2] > corr2[2] else (corr2[1], corr2[2], corr2[3], corr2[4])\n",
    "        else:\n",
    "            raise Exception(f'aorta 应该为\"s\"或\"j\"其中之一: {label_file.split(\"/\")[-1]}')\n",
    "    w, h = int(width*w), int(height*h)\n",
    "    w, h = max(w, h), max(w, h)\n",
    "    return int(width*x-w/2), int(height*y-h/2), int(width*x+w/2+1), int(height*y+h/2+1)\n",
    "\n",
    "def crop_images(input_path, error_patient_list):\n",
    "    for patient in sorted(os.listdir(input_path)):\n",
    "        print(f'******Processing {patient}******')\n",
    "        image_path = os.path.join(input_path, patient, 'images')\n",
    "        label_path = os.path.join(input_path, patient, 'labels')\n",
    "        crop_path = os.path.join(input_path, patient, 'crops')\n",
    "        if os.path.exists(crop_path):\n",
    "            shutil.rmtree(crop_path)\n",
    "        os.mkdir(crop_path)\n",
    "        pl = patient.lower().split('-')\n",
    "        for i, s in enumerate(pl):\n",
    "            if i!=0 and s.startswith('im'):\n",
    "                pl[i] = s.replace('im', '')\n",
    "        crop_flag = True\n",
    "        for i, s in enumerate(pl):\n",
    "            if s != 's' and s != 'j':\n",
    "                continue\n",
    "            start, end = int(pl[i+1])-1, int(pl[i+2])\n",
    "            for j in range(start, end):\n",
    "                img = Image.open(os.path.join(image_path, f'{patient}_{j:04d}.png'))\n",
    "                img = np.array(img)\n",
    "                try:\n",
    "                    x1, y1, x2, y2 = find_coordinate(*img.shape[0:2], os.path.join(label_path, f'{patient}_{j:04d}.txt'), s)\n",
    "                except:\n",
    "                    traceback.print_exc()\n",
    "                    crop_flag = False\n",
    "                else:#if crop_flag:\n",
    "                    crop = img[y1:y2, x1:x2]\n",
    "                    crop = Image.fromarray(crop)\n",
    "                    crop.save(os.path.join(crop_path, f'{patient}_{s}_{j:04d}.png'))\n",
    "        if not crop_flag:\n",
    "            #print('Delete crop_path')\n",
    "            #shutil.rmtree(crop_path)\n",
    "            error_patient_list.append(patient)\n",
    "\n",
    "epl1 = []\n",
    "epl2 = []\n",
    "epl3 = []\n",
    "# crop_images('/nfs3-p1/zsxm/dataset/aorta_ct_img_label/positive', epl1)\n",
    "# print('++++++++++++++++++++++++++++++++++++++++++++++++++++++++++++++++++++++++++++++++++')\n",
    "# print('++++++++++++++++++++++++++++++++++++++++++++++++++++++++++++++++++++++++++++++++++')\n",
    "# print('++++++++++++++++++++++++++++++++++++++++++++++++++++++++++++++++++++++++++++++++++')\n",
    "# print('++++++++++++++++++++++++++++++++++++++++++++++++++++++++++++++++++++++++++++++++++')\n",
    "# print('++++++++++++++++++++++++++++++++++++++++++++++++++++++++++++++++++++++++++++++++++')\n",
    "# crop_images('/nfs3-p1/zsxm/dataset/aorta_ct_img_label/positive_new', epl2)\n",
    "# print('++++++++++++++++++++++++++++++++++++++++++++++++++++++++++++++++++++++++++++++++++')\n",
    "# print('++++++++++++++++++++++++++++++++++++++++++++++++++++++++++++++++++++++++++++++++++')\n",
    "# print('++++++++++++++++++++++++++++++++++++++++++++++++++++++++++++++++++++++++++++++++++')\n",
    "# print('++++++++++++++++++++++++++++++++++++++++++++++++++++++++++++++++++++++++++++++++++')\n",
    "# print('++++++++++++++++++++++++++++++++++++++++++++++++++++++++++++++++++++++++++++++++++')\n",
    "crop_images('/nfs3-p1/zsxm/dataset/aorta_ct_img_label/positive_new2', epl3)"
   ]
  },
  {
   "cell_type": "code",
   "execution_count": null,
   "id": "86184053",
   "metadata": {},
   "outputs": [],
   "source": [
    "# print(len(epl1))\n",
    "# print(epl1)\n",
    "# print(len(epl2))\n",
    "# print(epl2)\n",
    "print(len(epl3))\n",
    "print(epl3)"
   ]
  },
  {
   "cell_type": "code",
   "execution_count": null,
   "id": "8c28d9f3",
   "metadata": {
    "scrolled": true
   },
   "outputs": [],
   "source": [
    "# # 将切出的主动脉移动到一起\n",
    "# def move_to_classify(input_root, output_path):\n",
    "#     if not os.path.exists(output_path):\n",
    "#         os.makedirs(output_path)\n",
    "    \n",
    "#     for patient in os.listdir(input_root):\n",
    "#         if os.path.isfile(os.path.join(input_root, patient)):\n",
    "#             continue\n",
    "#         print(f'****Processing {patient}****')\n",
    "#         for file in os.listdir(os.path.join(input_root, patient, 'crops')):\n",
    "#             shutil.copy(os.path.join(input_root, patient, 'crops', file), output_path)\n",
    "\n",
    "# move_to_classify('/nfs3-p1/zsxm/dataset/aorta_ct_img_label/positive/', f'/nfs3-p1/zsxm/dataset/aorta_classify_ct_{lower_b}_{upper_b}/1')\n",
    "# move_to_classify('/nfs3-p1/zsxm/dataset/aorta_ct_img_label/positive_new/', f'/nfs3-p1/zsxm/dataset/aorta_classify_ct_{lower_b}_{upper_b}/1')"
   ]
  },
  {
   "cell_type": "markdown",
   "id": "f12039a2",
   "metadata": {},
   "source": [
    "## 2.阴性数据"
   ]
  },
  {
   "cell_type": "code",
   "execution_count": null,
   "id": "d8a5f901",
   "metadata": {
    "scrolled": true
   },
   "outputs": [],
   "source": [
    "# 将dcm文件根据窗宽窗位转化为png图片\n",
    "def generate_image(input_folder):\n",
    "    for patient in sorted(os.listdir(input_folder)):\n",
    "        if os.path.isfile(os.path.join(input_folder, patient)):\n",
    "            continue\n",
    "        print(f'****Processing {patient}****')\n",
    "        for scan in os.listdir(os.path.join(input_folder, patient)):\n",
    "            if scan != '1':\n",
    "                continue\n",
    "            name = patient #name = patient.split('-')[0]\n",
    "            image_path = os.path.join(input_folder, patient, scan, f'images_{lower_b}_{upper_b}')\n",
    "            if os.path.exists(image_path):\n",
    "                shutil.rmtree(image_path)\n",
    "            os.mkdir(image_path)\n",
    "\n",
    "            ct = load_scan(os.path.join(input_folder, patient, scan))\n",
    "\n",
    "            for i in range(len(ct)):\n",
    "                img = ct[i].pixel_array.astype(np.int16)\n",
    "                intercept = ct[i].RescaleIntercept\n",
    "                slope = ct[i].RescaleSlope\n",
    "                if slope != 1:\n",
    "                    img = (slope * img.astype(np.float64)).astype(np.int16)\n",
    "                img += np.int16(intercept)\n",
    "                img = np.clip(img, lower_b, upper_b)\n",
    "                img = ((img-lower_b)/(upper_b-lower_b)*255).astype(np.uint8)\n",
    "                img = Image.fromarray(img)\n",
    "                img.save(os.path.join(image_path, f'{name}_{i:04d}.png'))\n",
    "\n",
    "#generate_image('/nfs3-p2/zsxm/dataset/2021-9-17-negative/')\n",
    "generate_image('/nfs3-p2/zsxm/dataset/2021-9-29-negative/')"
   ]
  },
  {
   "cell_type": "code",
   "execution_count": null,
   "id": "4709fcfb",
   "metadata": {
    "scrolled": true
   },
   "outputs": [],
   "source": [
    "# 将各个病例中的png图片文件夹统一移动到一起供yolov5检测\n",
    "def move_together_for_detect(input_folder, dst_path):\n",
    "    if not os.path.exists(dst_path):\n",
    "        os.mkdir(dst_path)\n",
    "    root_name = input_folder.split('/')[-1] if input_folder.split('/')[-1] != '' else input_folder.split('/')[-2]\n",
    "    dst_path = os.path.join(dst_path, root_name)\n",
    "\n",
    "    for patient in sorted(os.listdir(input_folder)):\n",
    "        if os.path.isfile(os.path.join(input_folder, patient)):\n",
    "            continue\n",
    "        print(f'****Processing {patient}****')\n",
    "        name = patient #name = patient.split('-')[0]\n",
    "        if os.path.exists(os.path.join(dst_path, name)):\n",
    "            print(f\"\\tremove {os.path.join(dst_path, name)}\")\n",
    "            shutil.rmtree(os.path.join(dst_path, name))\n",
    "\n",
    "        try:\n",
    "            shutil.copytree(os.path.join(input_folder, patient, '1', f'images_{lower_b}_{upper_b}'), os.path.join(dst_path, name))\n",
    "        except:\n",
    "            traceback.print_exc()\n",
    "\n",
    "# move_together_for_detect('/nfs3-p2/zsxm/dataset/2021-9-17-negative', '/nfs3-p1/zsxm/dataset/9_detect/')\n",
    "move_together_for_detect('/nfs3-p2/zsxm/dataset/2021-9-29-negative', '/nfs3-p1/zsxm/dataset/9_detect/')"
   ]
  },
  {
   "cell_type": "code",
   "execution_count": null,
   "id": "6652d16c",
   "metadata": {},
   "outputs": [],
   "source": [
    "# 用在更换窗宽窗位的时候，因为已经经过yolov5的检测生成了标签，故直接移动图片到images文件夹下即可\n",
    "def directly_move_to_image_label(input_folder, dst_path):\n",
    "    if not os.path.exists(dst_path):\n",
    "        os.mkdir(dst_path)\n",
    "\n",
    "    for patient in sorted(os.listdir(input_folder)):\n",
    "        if os.path.isfile(os.path.join(input_folder, patient)):\n",
    "            continue\n",
    "        print(f'****Processing {patient}****')\n",
    "        name = patient #name = patient.split('-')[0]\n",
    "        image_path = os.path.join(dst_path, name, 'images')\n",
    "        if os.path.exists(image_path):\n",
    "            print(f\"\\tremove {image_path}\")\n",
    "            shutil.rmtree(image_path)\n",
    "\n",
    "        try:\n",
    "            shutil.copytree(os.path.join(input_folder, patient, '1', f'images_{lower_b}_{upper_b}'), image_path)\n",
    "        except:\n",
    "            traceback.print_exc()\n",
    "            \n",
    "directly_move_to_image_label('/nfs3-p1/zsxm/dataset/2021-9-17-negative/', '/nfs3-p1/zsxm/dataset/aorta_ct_img_label/negative')"
   ]
  },
  {
   "cell_type": "code",
   "execution_count": null,
   "id": "c0d57e3a",
   "metadata": {
    "scrolled": true
   },
   "outputs": [],
   "source": [
    "# 将移动到待测文件夹中的原图移动到images文件夹\n",
    "def move_ori_image_to_sigle_folder(input_path, dst_path):\n",
    "    if not os.path.exists(dst_path):\n",
    "        os.mkdir(dst_path)\n",
    "    for patient in os.listdir(input_path):\n",
    "        print(f'****Processing {patient}****')\n",
    "        if not os.path.exists(os.path.join(dst_path, patient)):\n",
    "            os.mkdir(os.path.join(dst_path, patient))\n",
    "        image_path = os.path.join(dst_path, patient, 'images')\n",
    "        if os.path.exists(image_path):\n",
    "            shutil.rmtree(image_path)\n",
    "        os.mkdir(image_path)\n",
    "        for img in os.listdir(os.path.join(input_path, patient)):\n",
    "            if os.path.isfile(os.path.join(input_path, patient, img)):\n",
    "                shutil.move(os.path.join(input_path, patient, img), os.path.join(image_path, img))\n",
    "        os.rmdir(os.path.join(input_path, patient))\n",
    "    os.rmdir(input_path)\n",
    "    \n",
    "# move_ori_image_to_sigle_folder('/nfs3-p1/zsxm/dataset/9_detect/2021-9-17-negative/', '/nfs3-p1/zsxm/dataset/aorta_ct_img_label/negative')\n",
    "move_ori_image_to_sigle_folder('/nfs3-p1/zsxm/dataset/9_detect/2021-9-29-negative/', '/nfs3-p1/zsxm/dataset/aorta_ct_img_label/negative_2')"
   ]
  },
  {
   "cell_type": "code",
   "execution_count": null,
   "id": "e44da286",
   "metadata": {
    "scrolled": true
   },
   "outputs": [],
   "source": [
    "# 将yolov5的检测结果（标签和带bounding box的图像）移动到相应文件夹\n",
    "def move_detect_result_to_folder(input_path, output_path):\n",
    "    for patient in os.listdir(input_path):\n",
    "        print(f'Processing {patient}')\n",
    "        image_path = os.path.join(output_path, patient, 'pred_images')\n",
    "        if os.path.exists(image_path):\n",
    "            shutil.rmtree(image_path)\n",
    "        os.mkdir(image_path)\n",
    "        for file in os.listdir(os.path.join(input_path, patient)):\n",
    "            if os.path.isfile(os.path.join(input_path, patient, file)):\n",
    "                shutil.move(os.path.join(input_path, patient, file), os.path.join(image_path, file))\n",
    "            elif os.path.isdir(os.path.join(input_path, patient, file)):\n",
    "                if os.path.exists(os.path.join(output_path, patient, file)):\n",
    "                    shutil.rmtree(os.path.join(output_path, patient, file))\n",
    "                shutil.move(os.path.join(input_path, patient, file), os.path.join(output_path, patient, file))\n",
    "        os.rmdir(os.path.join(input_path, patient))\n",
    "    os.rmdir(input_path)\n",
    "                \n",
    "# move_detect_result_to_folder('/nfs3-p1/zsxm/dataset/9_detect/pred/2021-9-17-negative/', '/nfs3-p1/zsxm/dataset/aorta_ct_img_label/negative')\n",
    "move_detect_result_to_folder('/nfs3-p1/zsxm/dataset/9_detect/pred/2021-9-29-negative/', '/nfs3-p1/zsxm/dataset/aorta_ct_img_label/negative_2')"
   ]
  },
  {
   "cell_type": "code",
   "execution_count": null,
   "id": "21f52558",
   "metadata": {
    "scrolled": true
   },
   "outputs": [],
   "source": [
    "# 切出主动脉\n",
    "def find_coordinate(height, width, label_file, aorta):\n",
    "    with open(label_file, 'r') as f:\n",
    "        lines = f.readlines()\n",
    "    assert len(lines) <= 2, f'label.txt应该存储不多于2个label：{label_file.split(\"/\")[-1]}'\n",
    "    if len(lines) == 1:\n",
    "        assert aorta == 'j', f'如果只有一个label那么此时应为降主动脉, 但实际为{aorta}：{label_file.split(\"/\")[-1]}'\n",
    "        corr = list(map(lambda x: float(x), lines[0].split()))\n",
    "        x, y, w, h = corr[1], corr[2], corr[3], corr[4]\n",
    "        assert 0.25 < x < 0.75 and 0.25 < y < 0.75, f'边界框中心({x}, {y})出界：{label_file.split(\"/\")[-1]}'\n",
    "    else:\n",
    "        corr1, corr2 = list(map(lambda x: float(x), lines[0].split())), list(map(lambda x: float(x), lines[1].split()))\n",
    "        assert 0.25 < corr1[1] < 0.75 and 0.25 < corr1[2] < 0.75, f'边界框1中心({corr1[1]}, {corr1[2]})出界：{label_file.split(\"/\")[-1]}'\n",
    "        assert 0.25 < corr2[1] < 0.75 and 0.25 < corr2[2] < 0.75, f'边界框2中心({corr2[1]}, {corr2[2]})出界：{label_file.split(\"/\")[-1]}'\n",
    "        if aorta == 's':\n",
    "            x, y, w, h = (corr1[1], corr1[2], corr1[3], corr1[4]) if corr1[2] < corr2[2] else (corr2[1], corr2[2], corr2[3], corr2[4])\n",
    "        elif aorta == 'j':\n",
    "            x, y, w, h = (corr1[1], corr1[2], corr1[3], corr1[4]) if corr1[2] > corr2[2] else (corr2[1], corr2[2], corr2[3], corr2[4])\n",
    "        else:\n",
    "            raise Exception(f'aorta 应该为\"s\"或\"j\"其中之一: {label_file.split(\"/\")[-1]}')\n",
    "    w, h = int(width*w), int(height*h)\n",
    "    w, h = max(w, h), max(w, h)\n",
    "    return int(width*x-w/2), int(height*y-h/2), int(width*x+w/2+1), int(height*y+h/2+1)\n",
    "\n",
    "def crop_images(input_path, error_patient_list):\n",
    "    for patient in sorted(os.listdir(input_path)):\n",
    "        print(f'******Processing {patient}******')\n",
    "        image_path = os.path.join(input_path, patient, 'images')\n",
    "        label_path = os.path.join(input_path, patient, 'labels')\n",
    "        crop_path = os.path.join(input_path, patient, 'crops')\n",
    "        if os.path.exists(crop_path):\n",
    "            shutil.rmtree(crop_path)\n",
    "        os.mkdir(crop_path)\n",
    "        pl = patient.split('-')\n",
    "        aorta_start, branch_start, branch_end, aorta_end = int(pl[1])-1, int(pl[2])-1, int(pl[3])-1, int(pl[4])-1\n",
    "        crop_flag = True\n",
    "        offset = branch_end - branch_start\n",
    "        start, end = branch_start + int(0.1*offset), branch_end - int(0.2*offset)\n",
    "        for i in range(start, end):\n",
    "            img = Image.open(os.path.join(image_path, f'{patient}_{i:04d}.png'))\n",
    "            img = np.array(img)\n",
    "            try:\n",
    "                x1, y1, x2, y2 = find_coordinate(*img.shape[0:2], os.path.join(label_path, f'{patient}_{i:04d}.txt'), 's')\n",
    "            except:\n",
    "                traceback.print_exc()\n",
    "                crop_flag = False\n",
    "            else:#if crop_flag:\n",
    "                crop = img[y1:y2, x1:x2]\n",
    "                crop = Image.fromarray(crop)\n",
    "                crop.save(os.path.join(crop_path, f'{patient}_s_{i:04d}.png'))\n",
    "            try:\n",
    "                x1, y1, x2, y2 = find_coordinate(*img.shape[0:2], os.path.join(label_path, f'{patient}_{i:04d}.txt'), 'j')\n",
    "            except:\n",
    "                traceback.print_exc()\n",
    "                crop_flag = False\n",
    "            else:#if crop_flag:\n",
    "                crop = img[y1:y2, x1:x2]\n",
    "                crop = Image.fromarray(crop)\n",
    "                crop.save(os.path.join(crop_path, f'{patient}_j_{i:04d}.png'))\n",
    "        offset = aorta_end - branch_end\n",
    "        start, end = branch_end + int(0.1*offset), aorta_end - int(0.2*offset)\n",
    "        for i in range(start, end):\n",
    "            img = Image.open(os.path.join(image_path, f'{patient}_{i:04d}.png'))\n",
    "            img = np.array(img)\n",
    "            try:\n",
    "                x1, y1, x2, y2 = find_coordinate(*img.shape[0:2], os.path.join(label_path, f'{patient}_{i:04d}.txt'), 'j')\n",
    "            except:\n",
    "                traceback.print_exc()\n",
    "                crop_flag = False\n",
    "            else:#if crop_flag:\n",
    "                crop = img[y1:y2, x1:x2]\n",
    "                crop = Image.fromarray(crop)\n",
    "                crop.save(os.path.join(crop_path, f'{patient}_j_{i:04d}.png')) \n",
    "        if not crop_flag:\n",
    "            #print('Delete crop_path')\n",
    "            #shutil.rmtree(crop_path)\n",
    "            error_patient_list.append(patient)\n",
    "            \n",
    "epl1 = []\n",
    "#crop_images('/nfs3-p1/zsxm/dataset/aorta_ct_img_label/negative', epl1)\n",
    "crop_images('/nfs3-p1/zsxm/dataset/aorta_ct_img_label/negative_2', epl1)"
   ]
  },
  {
   "cell_type": "code",
   "execution_count": null,
   "id": "513a9ba1",
   "metadata": {},
   "outputs": [],
   "source": [
    "print(len(epl1))\n",
    "print(epl1)"
   ]
  },
  {
   "cell_type": "code",
   "execution_count": null,
   "id": "2d05ae35",
   "metadata": {
    "scrolled": true
   },
   "outputs": [],
   "source": [
    "# # 将切出的主动脉移动到一起\n",
    "# def move_to_classify(input_root, output_path):\n",
    "#     if not os.path.exists(output_path):\n",
    "#         os.makedirs(output_path)\n",
    "    \n",
    "#     for patient in os.listdir(input_root):\n",
    "#         if os.path.isfile(os.path.join(input_root, patient)):\n",
    "#             continue\n",
    "#         print(f'****Processing {patient}****')\n",
    "#         for file in os.listdir(os.path.join(input_root, patient, 'crops')):\n",
    "#             shutil.copy(os.path.join(input_root, patient, 'crops', file), output_path)\n",
    "            \n",
    "# move_to_classify('/nfs3-p1/zsxm/dataset/aorta_ct_img_label/negative/', f'/nfs3-p1/zsxm/dataset/aorta_classify_ct_{lower_b}_{upper_b}/0/')"
   ]
  },
  {
   "cell_type": "markdown",
   "id": "e91313a4",
   "metadata": {},
   "source": [
    "## 3.固定训练集和测试集"
   ]
  },
  {
   "cell_type": "markdown",
   "id": "8474cb60",
   "metadata": {},
   "source": [
    "### 3.1 阳性数据"
   ]
  },
  {
   "cell_type": "code",
   "execution_count": null,
   "id": "e00af454",
   "metadata": {},
   "outputs": [],
   "source": [
    "#patient_roots = ['/nfs3-p1/zsxm/dataset/aorta_ct_img_label/positive','/nfs3-p1/zsxm/dataset/aorta_ct_img_label/positive_new/']\n",
    "patient_roots = ['/nfs3-p1/zsxm/dataset/aorta_ct_img_label/positive_new2/']\n",
    "patient_list = []\n",
    "for patient_root in patient_roots:\n",
    "    for patient in os.listdir(patient_root):\n",
    "        if os.path.isdir(os.path.join(patient_root, patient)):\n",
    "            patient_list.append(os.path.join(patient_root, patient))"
   ]
  },
  {
   "cell_type": "code",
   "execution_count": null,
   "id": "e119e915",
   "metadata": {},
   "outputs": [],
   "source": [
    "random.seed(7987)\n",
    "val_patient_list = random.sample(patient_list, int(len(patient_list)*0.2))\n",
    "train_patient_list = [p for p in patient_list if p not in val_patient_list]#list(set(patient_list) - set(val_patient_list))\n",
    "sorted(train_patient_list)\n",
    "sorted(val_patient_list)\n",
    "print(len(train_patient_list), len(val_patient_list), len(train_patient_list)+len(val_patient_list))"
   ]
  },
  {
   "cell_type": "code",
   "execution_count": null,
   "id": "e0b2879e",
   "metadata": {
    "scrolled": true
   },
   "outputs": [],
   "source": [
    "def move_to_classify(patient_list, output_path):\n",
    "    if not os.path.exists(output_path):\n",
    "        os.makedirs(output_path)\n",
    "    \n",
    "    for patient in patient_list:\n",
    "        print(f'****Processing {patient}****')\n",
    "        for file in os.listdir(os.path.join(patient, 'crops')):\n",
    "            shutil.copy(os.path.join(patient, 'crops', file), output_path)\n",
    "            \n",
    "move_to_classify(train_patient_list, f'/nfs3-p1/zsxm/dataset/aorta_classify_ct_{lower_b}_{upper_b}/train/1/')\n",
    "move_to_classify(val_patient_list, f'/nfs3-p1/zsxm/dataset/aorta_classify_ct_{lower_b}_{upper_b}/val/1/')"
   ]
  },
  {
   "cell_type": "markdown",
   "id": "1ad2fc8d",
   "metadata": {},
   "source": [
    "### 3.2阴性数据"
   ]
  },
  {
   "cell_type": "code",
   "execution_count": null,
   "id": "13629389",
   "metadata": {},
   "outputs": [],
   "source": [
    "#patient_roots = ['/nfs3-p1/zsxm/dataset/aorta_ct_img_label/negative/']\n",
    "patient_roots = ['/nfs3-p1/zsxm/dataset/aorta_ct_img_label/negative_2/']\n",
    "patient_list = []\n",
    "for patient_root in patient_roots:\n",
    "    for patient in os.listdir(patient_root):\n",
    "        if os.path.isdir(os.path.join(patient_root, patient)):\n",
    "            patient_list.append(os.path.join(patient_root, patient))"
   ]
  },
  {
   "cell_type": "code",
   "execution_count": null,
   "id": "b0de966b",
   "metadata": {},
   "outputs": [],
   "source": [
    "random.seed(7888)\n",
    "val_patient_list = random.sample(patient_list, int(len(patient_list)*0.2))\n",
    "train_patient_list = [p for p in patient_list if p not in val_patient_list]#list(set(patient_list) - set(val_patient_list))\n",
    "sorted(train_patient_list)\n",
    "sorted(val_patient_list)\n",
    "print(len(train_patient_list), len(val_patient_list), len(train_patient_list)+len(val_patient_list))"
   ]
  },
  {
   "cell_type": "code",
   "execution_count": null,
   "id": "e5755f30",
   "metadata": {},
   "outputs": [],
   "source": [
    "def move_to_classify(patient_list, output_path):\n",
    "    if not os.path.exists(output_path):\n",
    "        os.makedirs(output_path)\n",
    "    \n",
    "    for patient in patient_list:\n",
    "        print(f'****Processing {patient}****')\n",
    "        for file in os.listdir(os.path.join(patient, 'crops')):\n",
    "            shutil.copy(os.path.join(patient, 'crops', file), output_path)\n",
    "            \n",
    "move_to_classify(train_patient_list, f'/nfs3-p1/zsxm/dataset/aorta_classify_ct_{lower_b}_{upper_b}/train/0/')\n",
    "move_to_classify(val_patient_list, f'/nfs3-p1/zsxm/dataset/aorta_classify_ct_{lower_b}_{upper_b}/val/0/')"
   ]
  },
  {
   "cell_type": "markdown",
   "id": "91b8a5ea",
   "metadata": {},
   "source": [
    "## 4.检查并统计crop图像尺寸"
   ]
  },
  {
   "cell_type": "code",
   "execution_count": null,
   "id": "a0dec45e",
   "metadata": {},
   "outputs": [],
   "source": [
    "import os\n",
    "from PIL import Image\n",
    "import matplotlib.pyplot as plt\n",
    "from numpy.lib.function_base import median\n",
    "\n",
    "paths = [f'/nfs3-p1/zsxm/dataset/aorta_classify_ct_{lower_b}_{upper_b}/train/0/',\n",
    "         f'/nfs3-p1/zsxm/dataset/aorta_classify_ct_{lower_b}_{upper_b}/val/0/',\n",
    "         f'/nfs3-p1/zsxm/dataset/aorta_classify_ct_{lower_b}_{upper_b}/train/1/',\n",
    "         f'/nfs3-p1/zsxm/dataset/aorta_classify_ct_{lower_b}_{upper_b}/val/1/']\n",
    "\n",
    "size_list = []\n",
    "\n",
    "count = 0\n",
    "for path in paths:\n",
    "    for f in os.listdir(path):\n",
    "        img = Image.open(os.path.join(path, f))\n",
    "        size_list.append(img.height)\n",
    "        if img.height != img.width:\n",
    "            print(f'{os.path.join(path, f)}: height:{img.height}, width:{img.width}')\n",
    "            count += 1\n",
    "\n",
    "size_list.sort()\n",
    "\n",
    "# plt.hist(size_list, bins=100)\n",
    "# plt.show()\n",
    "\n",
    "sum = 0\n",
    "hash_list = {}\n",
    "for size in size_list:\n",
    "    sum += size\n",
    "    hash_list[size] = hash_list.get(size, 0) + 1\n",
    "\n",
    "avg = sum / len(size_list)\n",
    "\n",
    "key = len(size_list) // 2\n",
    "med = (size_list[key] + size_list[-key-1]) / 2\n",
    "\n",
    "v_list = list(hash_list.items())\n",
    "v_list.sort(key=lambda x: x[1], reverse=True)\n",
    "mode = v_list[0][0]\n",
    "\n",
    "print(f'avg:{avg}, median:{med}, mode:{mode}, h_w_not_equal:{count}')"
   ]
  },
  {
   "cell_type": "code",
   "execution_count": null,
   "id": "41c9dc18",
   "metadata": {},
   "outputs": [],
   "source": []
  },
  {
   "cell_type": "code",
   "execution_count": null,
   "id": "7ba05604",
   "metadata": {},
   "outputs": [],
   "source": []
  },
  {
   "cell_type": "code",
   "execution_count": null,
   "id": "e3f86e09",
   "metadata": {},
   "outputs": [],
   "source": []
  }
 ],
 "metadata": {
  "kernelspec": {
   "display_name": "Python 3 (ipykernel)",
   "language": "python",
   "name": "python3"
  },
  "language_info": {
   "codemirror_mode": {
    "name": "ipython",
    "version": 3
   },
   "file_extension": ".py",
   "mimetype": "text/x-python",
   "name": "python",
   "nbconvert_exporter": "python",
   "pygments_lexer": "ipython3",
   "version": "3.8.11"
  }
 },
 "nbformat": 4,
 "nbformat_minor": 5
}
